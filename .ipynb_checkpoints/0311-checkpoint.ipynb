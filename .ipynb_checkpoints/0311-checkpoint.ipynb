{
 "cells": [
  {
   "cell_type": "markdown",
   "metadata": {},
   "source": [
    "## 198. House Robber\n",
    "\n",
    "You are a professional robber planning to rob houses along a street. Each house has a certain amount of money stashed, the only constraint stoppling you from robbing each of them is that adjacent houses have security system connected and it will automatically contact the police if two adjacent houses were broken into on the same night. \n",
    "\n",
    "Given a list of non-negative integers representing the amount of money of each house, determine the maximum amount of money you can rob tonight without alterting the police. \n",
    "\n",
    "**Example 1:**\n",
    "\n",
    "Input: [1,2,3,1]\n",
    "\n",
    "Output: 4 \n",
    "\n",
    "Explanation: Rob house 1 and house 3. Total amout you can rob = 1+3 = 4\n",
    "\n",
    "**Example 2:**\n",
    "\n",
    "Input: [2,7,9,3,1]\n",
    "\n",
    "Output: 12 \n",
    "\n",
    "Explanation: Rob house 1, 3 and 5. "
   ]
  },
  {
   "cell_type": "code",
   "execution_count": 23,
   "metadata": {},
   "outputs": [],
   "source": [
    "def rob(nums: list) -> int:\n",
    "    n = len(nums)\n",
    "    if n == 0:\n",
    "        return 0 \n",
    "    r = nums[0]\n",
    "    nr = 0 \n",
    "    \n",
    "    for i in range(1,n):\n",
    "        pre = max(r, nr)\n",
    "        r = nr + nums[i]\n",
    "        nr = pre\n",
    "        print('r and nr are')\n",
    "        print(r,nr)\n",
    "    \n",
    "    return max(r, nr)"
   ]
  },
  {
   "cell_type": "code",
   "execution_count": 24,
   "metadata": {},
   "outputs": [
    {
     "name": "stdout",
     "output_type": "stream",
     "text": [
      "r and nr are\n",
      "2 1\n",
      "r and nr are\n",
      "4 2\n",
      "r and nr are\n",
      "3 4\n"
     ]
    },
    {
     "data": {
      "text/plain": [
       "4"
      ]
     },
     "execution_count": 24,
     "metadata": {},
     "output_type": "execute_result"
    }
   ],
   "source": [
    "nums = [1,2,3,1]\n",
    "\n",
    "rob(nums)"
   ]
  },
  {
   "cell_type": "code",
   "execution_count": 25,
   "metadata": {},
   "outputs": [
    {
     "name": "stdout",
     "output_type": "stream",
     "text": [
      "r and nr are\n",
      "7 2\n",
      "r and nr are\n",
      "11 7\n",
      "r and nr are\n",
      "10 11\n",
      "r and nr are\n",
      "12 11\n"
     ]
    },
    {
     "data": {
      "text/plain": [
       "12"
      ]
     },
     "execution_count": 25,
     "metadata": {},
     "output_type": "execute_result"
    }
   ],
   "source": [
    "nums = [2,7,9,3,1]\n",
    "\n",
    "rob(nums)"
   ]
  },
  {
   "cell_type": "markdown",
   "metadata": {},
   "source": [
    "## 213. House Robber II\n",
    "\n",
    "You are a professional robber planning to rob houses along a street. Each house has a certain amount of money stashed. All houses at this place are arranged in a circle. That means the first house is the neighbor of the last one. Meanwhile, adjacent houses have security system conneced and it will automatically contact the police if two adjacent houses were broekn into on the same night. \n",
    "\n",
    "Given a list of non-negative integers representing the amount of money of each house, determine the maximum amount of money you can rob tonight without alterting the police. "
   ]
  },
  {
   "cell_type": "code",
   "execution_count": 28,
   "metadata": {},
   "outputs": [],
   "source": [
    "def rob(nums: list) -> int:\n",
    "    \n",
    "    n = len(nums)\n",
    "    if n == 0:\n",
    "        return 0 \n",
    "    \n",
    "    r_rf = nums[0]\n",
    "    nr_rf = 0 \n",
    "    r_nrf = 0\n",
    "    nr_nrf = 0 \n",
    "    \n",
    "    for i in range(1,n):\n",
    "        pre = max(r_rf, nr_rf)\n",
    "        r_rf = nr_rf + nums[i]\n",
    "        nr_rf = pre\n",
    "        pre = max(r_nrf, nr_nrf)\n",
    "        r_nrf = nr_nrf + nums[i]\n",
    "        nr_nrf = pre\n",
    "        print('4 values are')\n",
    "        print(r_rf, nr_rf, r_nrf, nr_nrf)\n",
    "    return max(nr_rf, r_nrf, nr_nrf)\n",
    "    "
   ]
  },
  {
   "cell_type": "code",
   "execution_count": 29,
   "metadata": {},
   "outputs": [
    {
     "name": "stdout",
     "output_type": "stream",
     "text": [
      "4 values are\n",
      "3 2 3 0\n",
      "4 values are\n",
      "4 3 2 3\n"
     ]
    },
    {
     "data": {
      "text/plain": [
       "3"
      ]
     },
     "execution_count": 29,
     "metadata": {},
     "output_type": "execute_result"
    }
   ],
   "source": [
    "nums = [2,3,2]\n",
    "\n",
    "rob(nums)"
   ]
  },
  {
   "cell_type": "code",
   "execution_count": 30,
   "metadata": {},
   "outputs": [
    {
     "name": "stdout",
     "output_type": "stream",
     "text": [
      "4 values are\n",
      "2 1 2 0\n",
      "4 values are\n",
      "4 2 3 2\n",
      "4 values are\n",
      "3 4 3 3\n"
     ]
    },
    {
     "data": {
      "text/plain": [
       "4"
      ]
     },
     "execution_count": 30,
     "metadata": {},
     "output_type": "execute_result"
    }
   ],
   "source": [
    "nums = [1,2,3,1]\n",
    "\n",
    "rob(nums)"
   ]
  },
  {
   "cell_type": "markdown",
   "metadata": {},
   "source": [
    "## 337. House Robber III\n",
    "\n",
    "The thief has found himself a new place for his thievery again. There is only one entrance to this area, called the \"root.\" Besides the root, each house has one and only one parent root. After a tour, the smart thief realized that \"all houses in this place forms a binary tree\". It will automatically contact the police if two directly-linked houses were broken into on the same night. \n",
    "\n",
    "Determine the maximum amount of money the thief can rob tonight without alterting the police. "
   ]
  },
  {
   "cell_type": "code",
   "execution_count": 31,
   "metadata": {},
   "outputs": [
    {
     "ename": "SyntaxError",
     "evalue": "unexpected EOF while parsing (<ipython-input-31-d5c7d850fd3d>, line 2)",
     "output_type": "error",
     "traceback": [
      "\u001b[0;36m  File \u001b[0;32m\"<ipython-input-31-d5c7d850fd3d>\"\u001b[0;36m, line \u001b[0;32m2\u001b[0m\n\u001b[0;31m    def __init__(self, x):\u001b[0m\n\u001b[0m                          ^\u001b[0m\n\u001b[0;31mSyntaxError\u001b[0m\u001b[0;31m:\u001b[0m unexpected EOF while parsing\n"
     ]
    }
   ],
   "source": [
    "class TreeNode:\n",
    "    def __init__(self, x):"
   ]
  },
  {
   "cell_type": "code",
   "execution_count": null,
   "metadata": {},
   "outputs": [],
   "source": [
    "def rob(root: TreeNode) -> int"
   ]
  }
 ],
 "metadata": {
  "kernelspec": {
   "display_name": "Python 3",
   "language": "python",
   "name": "python3"
  },
  "language_info": {
   "codemirror_mode": {
    "name": "ipython",
    "version": 3
   },
   "file_extension": ".py",
   "mimetype": "text/x-python",
   "name": "python",
   "nbconvert_exporter": "python",
   "pygments_lexer": "ipython3",
   "version": "3.7.4"
  }
 },
 "nbformat": 4,
 "nbformat_minor": 2
}
