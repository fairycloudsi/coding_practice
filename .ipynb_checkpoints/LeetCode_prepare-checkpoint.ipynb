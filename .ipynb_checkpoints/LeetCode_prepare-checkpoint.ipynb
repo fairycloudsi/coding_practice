{
 "cells": [
  {
   "cell_type": "markdown",
   "metadata": {},
   "source": [
    "## 6. ZigZag conversion \n",
    "\n",
    "The string \"PAYPALISHIRING\" is written in a zigzag pattern on a given number of rows like this: (you may want to display this pattern in a fixed font for better legibility)\n",
    "P   A   H   N\n",
    "A P L S I I G\n",
    "Y   I   R\n",
    "And then read line by line: \"PAHNAPLSIIGYIR\"\n",
    "\n",
    "Write the code that will take a string and make this conversion given a number of rows:\n",
    "\n",
    "string convert(string s, int numRows);"
   ]
  },
  {
   "cell_type": "code",
   "execution_count": 1,
   "metadata": {},
   "outputs": [],
   "source": [
    "class Solution:\n",
    "    def convert(self, s: str, numRows: int) -> str:\n",
    "        \n",
    "        if numRows == 0:\n",
    "            return ''\n",
    "        if numRows == 1:\n",
    "            return s\n",
    "        if len(s) <= numRows:\n",
    "            return s\n",
    "        \n",
    "        diagonals = numRows - 2\n",
    "        skips = diagonals + numRows \n",
    "        \n",
    "        ans = []\n",
    "        \n",
    "        # append first row\n",
    "        for i in range(0, len(s), skips):\n",
    "            ans.append(s[i])\n",
    "            \n",
    "        # append middle rows and digonal elements \n",
    "        for j in range(1, numRows-1):\n",
    "            for i in range(j,len(s), skips):\n",
    "                ans.append(s[i])\n",
    "                if i + 2*(numRows-1 - j) < len(s):\n",
    "                    ans.append(s[i + 2*(numRows -1 - j)])\n",
    "        \n",
    "        # append last row \n",
    "        for i in range(numRows-1, len(s), skips):\n",
    "            ans.append(s[i])"
   ]
  },
  {
   "cell_type": "markdown",
   "metadata": {},
   "source": [
    "The complexity is O(n) since we touch every element once and storage is O(n) since we use an new array to store them. "
   ]
  },
  {
   "cell_type": "code",
   "execution_count": 38,
   "metadata": {},
   "outputs": [],
   "source": [
    "def turning_point(s: list) -> int:\n",
    "    # given a turning increasing array, give the index of turning point \n",
    "    \n",
    "    l, r = 0, len(s)-1\n",
    "    while l < r:\n",
    "        mid = (l+r+1)//2\n",
    "        print('l,r,mid are ', l,r,mid)\n",
    "        if s[l] < s[mid] < s[r]:\n",
    "            break\n",
    "        elif s[l] > s[mid]:\n",
    "            r = mid  \n",
    "        elif s[r] < s[mid]:\n",
    "            l = mid  \n",
    "        if mid == l or mid ==r:\n",
    "            return mid+1 \n",
    "        else:\n",
    "            print('not find turning point')"
   ]
  },
  {
   "cell_type": "code",
   "execution_count": 39,
   "metadata": {},
   "outputs": [
    {
     "name": "stdout",
     "output_type": "stream",
     "text": [
      "l,r,mid are  0 6 3\n"
     ]
    },
    {
     "data": {
      "text/plain": [
       "4"
      ]
     },
     "execution_count": 39,
     "metadata": {},
     "output_type": "execute_result"
    }
   ],
   "source": [
    "s = [4,5,6,7,0,1,2]\n",
    "turning_point(s)"
   ]
  },
  {
   "cell_type": "markdown",
   "metadata": {},
   "source": [
    "For rotated sorted array, use binary search to find the turning point. Time complexity is O(n log n) and storage is O(1). "
   ]
  },
  {
   "cell_type": "code",
   "execution_count": 40,
   "metadata": {},
   "outputs": [],
   "source": [
    "news = s[3+1:] +s[:3+1] "
   ]
  },
  {
   "cell_type": "code",
   "execution_count": 41,
   "metadata": {},
   "outputs": [
    {
     "data": {
      "text/plain": [
       "[0, 1, 2, 4, 5, 6, 7]"
      ]
     },
     "execution_count": 41,
     "metadata": {},
     "output_type": "execute_result"
    }
   ],
   "source": [
    "news"
   ]
  },
  {
   "cell_type": "code",
   "execution_count": 35,
   "metadata": {},
   "outputs": [],
   "source": [
    "def binary_search_sorted(nums: list, target: int) -> int:\n",
    "    # use binary search to find target in sorted array s \n",
    "    l, r = 0, len(nums) -1 \n",
    "    while l<=r:\n",
    "        mid = (l+r+1)//2\n",
    "        print('l,r,mid are ', l,r,mid)\n",
    "        if nums[mid] == target:\n",
    "            break\n",
    "        elif nums[mid] < target:\n",
    "            l = mid +1 \n",
    "        else:\n",
    "            r = mid -1 \n",
    "    if nums[mid] == target:\n",
    "        return mid\n",
    "    else:\n",
    "        return -1 "
   ]
  },
  {
   "cell_type": "code",
   "execution_count": 36,
   "metadata": {},
   "outputs": [
    {
     "name": "stdout",
     "output_type": "stream",
     "text": [
      "l,r,mid are  0 6 3\n",
      "l,r,mid are  0 2 1\n",
      "l,r,mid are  0 0 0\n"
     ]
    },
    {
     "data": {
      "text/plain": [
       "0"
      ]
     },
     "execution_count": 36,
     "metadata": {},
     "output_type": "execute_result"
    }
   ],
   "source": [
    "binary_search_sorted(news,0)"
   ]
  },
  {
   "cell_type": "code",
   "execution_count": 37,
   "metadata": {},
   "outputs": [
    {
     "name": "stdout",
     "output_type": "stream",
     "text": [
      "l,r,mid are  0 6 3\n",
      "l,r,mid are  0 2 1\n",
      "l,r,mid are  2 2 2\n"
     ]
    },
    {
     "data": {
      "text/plain": [
       "-1"
      ]
     },
     "execution_count": 37,
     "metadata": {},
     "output_type": "execute_result"
    }
   ],
   "source": [
    "binary_search_sorted(news,3)"
   ]
  },
  {
   "cell_type": "code",
   "execution_count": 54,
   "metadata": {},
   "outputs": [],
   "source": [
    "def find_target(nums: list, target: int) -> int:\n",
    "    t_index = turning_point(nums)\n",
    "    nums_new = nums[t_index:] + nums[:t_index]\n",
    "    ans = binary_search_sorted(nums_new, target)\n",
    "    \n",
    "    return ans + t_index if ans != -1 else -1"
   ]
  },
  {
   "cell_type": "code",
   "execution_count": 56,
   "metadata": {},
   "outputs": [
    {
     "name": "stdout",
     "output_type": "stream",
     "text": [
      "l,r,mid are  0 6 3\n",
      "l,r,mid are  0 6 3\n",
      "l,r,mid are  0 2 1\n",
      "l,r,mid are  2 2 2\n"
     ]
    },
    {
     "data": {
      "text/plain": [
       "-1"
      ]
     },
     "execution_count": 56,
     "metadata": {},
     "output_type": "execute_result"
    }
   ],
   "source": [
    "nums = [4,5,6,7,0,1,2]\n",
    "find_target(nums, 3)"
   ]
  },
  {
   "cell_type": "code",
   "execution_count": 72,
   "metadata": {},
   "outputs": [],
   "source": [
    "def search( nums: list, target: int) -> int:\n",
    "        \n",
    "        if not nums:\n",
    "            return -1\n",
    "        if len(nums) ==1:\n",
    "            if nums[0] == target:\n",
    "                return 0\n",
    "            else:\n",
    "                return -1\n",
    "        # first find the turning point \n",
    "        \n",
    "        l = 0\n",
    "        r = len(nums) -1\n",
    "        \n",
    "        while l <= r:\n",
    "            mid = (l+r+1)//2\n",
    "            print('l,mid,r are',l,mid,r)\n",
    "            if nums[l] < nums[mid] < nums[r]:\n",
    "                break\n",
    "            if nums[mid] < nums[l]:\n",
    "                r = mid\n",
    "            if nums[r] < nums[mid]:\n",
    "                l = mid \n",
    "            if mid == r or mid == l:\n",
    "                break \n",
    "            \n",
    "        \n",
    "        # Secondly, arrange the array in sorted \n",
    "        nums_sorted = nums[mid+1:] + nums[:mid+1]\n",
    "        print('nums_sorted is' , nums_sorted)\n",
    "        \n",
    "        # Finally, use binary search to find target \n",
    "        \n",
    "        l = 0\n",
    "        r = len(nums) -1 \n",
    "        \n",
    "        while l<=r:\n",
    "            mid_2 = (l+r+1)//2\n",
    "            if nums[mid_2] == target:\n",
    "                break\n",
    "            elif nums[mid_2] < target:\n",
    "                l = mid_2+1\n",
    "            else:\n",
    "                r = mid_2-1\n",
    "            print('mid_2 is' , mid_2)\n",
    "        \n",
    "        if nums_sorted[mid_2] == target:\n",
    "            return (mid_2+mid+1)\n",
    "        else:\n",
    "            return -1 \n",
    "\n",
    "                \n",
    "        "
   ]
  },
  {
   "cell_type": "code",
   "execution_count": 73,
   "metadata": {},
   "outputs": [
    {
     "name": "stdout",
     "output_type": "stream",
     "text": [
      "l,mid,r are 0 3 6\n",
      "nums_sorted is [0, 1, 2, 4, 5, 6, 7]\n",
      "mid_2 is 3\n",
      "mid_2 is 1\n",
      "mid_2 is 0\n"
     ]
    },
    {
     "data": {
      "text/plain": [
       "4"
      ]
     },
     "execution_count": 73,
     "metadata": {},
     "output_type": "execute_result"
    }
   ],
   "source": [
    "search( nums, 0)"
   ]
  },
  {
   "cell_type": "code",
   "execution_count": null,
   "metadata": {},
   "outputs": [],
   "source": []
  }
 ],
 "metadata": {
  "kernelspec": {
   "display_name": "Python 3",
   "language": "python",
   "name": "python3"
  },
  "language_info": {
   "codemirror_mode": {
    "name": "ipython",
    "version": 3
   },
   "file_extension": ".py",
   "mimetype": "text/x-python",
   "name": "python",
   "nbconvert_exporter": "python",
   "pygments_lexer": "ipython3",
   "version": "3.7.4"
  }
 },
 "nbformat": 4,
 "nbformat_minor": 2
}
