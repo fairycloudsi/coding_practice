{
 "cells": [
  {
   "cell_type": "markdown",
   "metadata": {},
   "source": [
    "## 931. Minimum Falling Path Sum \n",
    "\n",
    "Given a square array of integers A, we want the minimum sum of a falling path through A. \n",
    "\n",
    "A falling path starts at any element in the first row, and chooses one element from each row. The next row's choice must be in a column that is different from the previous row's column by at most one. \n",
    "\n",
    "**Example 1:**\n",
    "\n",
    "Input: [[1,2,3], [4,5,6], [7,8,9]]\n",
    "\n",
    "Output: 12 \n",
    "\n",
    "Explanation: \n",
    "The possible falling paths are: \n",
    "\n",
    "[1,4,7], [1,4,8], [1,5,7], [1,5,8], [1,5,9]\n",
    "[2,4,7], [2,4,8], [2,5,7], [2,5,8], [2,5,9], [2,6,8], [2,6,9]\n",
    "[3,5,7], [3,5,8], [3,5,9], [3,6,8], [3,6,9]\n",
    "\n",
    "The falling path with the smallest sum is [1,4,7], so the answer is 12. "
   ]
  },
  {
   "cell_type": "code",
   "execution_count": 26,
   "metadata": {},
   "outputs": [],
   "source": [
    "A = [\n",
    "    [1,2,3],\n",
    "    [4,5,6],\n",
    "    [7,8,9]\n",
    "]"
   ]
  },
  {
   "cell_type": "code",
   "execution_count": 2,
   "metadata": {},
   "outputs": [],
   "source": [
    "mem = [A[0][i] for i in range(3)]"
   ]
  },
  {
   "cell_type": "code",
   "execution_count": 3,
   "metadata": {},
   "outputs": [
    {
     "data": {
      "text/plain": [
       "[1, 2, 3]"
      ]
     },
     "execution_count": 3,
     "metadata": {},
     "output_type": "execute_result"
    }
   ],
   "source": [
    "mem"
   ]
  },
  {
   "cell_type": "code",
   "execution_count": 30,
   "metadata": {},
   "outputs": [],
   "source": [
    "def minFallingPathSum(A: list) -> int: \n",
    "    \n",
    "    \n",
    "    n = len(A)\n",
    "    if n == 0:\n",
    "        return 0\n",
    "    m = len(A[0])\n",
    "    \n",
    "    mem = [A[0][j] for j in range(m)]\n",
    "    print(mem)\n",
    "    \n",
    "    for i in range(1,n):\n",
    "        mem_new = [0 for _ in range(m)]\n",
    "        for j in range(m):\n",
    "            left = max(j-1, 0)\n",
    "            right = min(j+1, m-1)\n",
    "            mem_new[j] = A[i][j] + min(mem[left], mem[j], mem[right])\n",
    "        mem = mem_new\n",
    "        print(mem)\n",
    "        \n",
    "    return min(mem)\n",
    "        \n",
    "        "
   ]
  },
  {
   "cell_type": "code",
   "execution_count": 31,
   "metadata": {},
   "outputs": [
    {
     "name": "stdout",
     "output_type": "stream",
     "text": [
      "[-51, -35, 74]\n",
      "[-113, -37, -88]\n",
      "[-19, -52, -98]\n"
     ]
    },
    {
     "data": {
      "text/plain": [
       "-98"
      ]
     },
     "execution_count": 31,
     "metadata": {},
     "output_type": "execute_result"
    }
   ],
   "source": [
    "minFallingPathSum(A)"
   ]
  },
  {
   "cell_type": "code",
   "execution_count": 28,
   "metadata": {},
   "outputs": [],
   "source": [
    "A = [\n",
    "    [-51, -35, 74],\n",
    "    [-62, 14, -53],\n",
    "    [94, 61, -10]\n",
    "]"
   ]
  },
  {
   "cell_type": "code",
   "execution_count": 29,
   "metadata": {},
   "outputs": [
    {
     "name": "stdout",
     "output_type": "stream",
     "text": [
      "[-51, -35, 74]\n",
      "[-113, -99, -152]\n",
      "[-19, -91, -162]\n"
     ]
    },
    {
     "data": {
      "text/plain": [
       "-162"
      ]
     },
     "execution_count": 29,
     "metadata": {},
     "output_type": "execute_result"
    }
   ],
   "source": [
    "minFallingPathSum(A)"
   ]
  },
  {
   "cell_type": "markdown",
   "metadata": {},
   "source": [
    "Time Complexity: O(mn)\n",
    "\n",
    "Space Complexity: O(m)"
   ]
  },
  {
   "cell_type": "markdown",
   "metadata": {},
   "source": [
    "## 1289. Minimum Falling Path Sum II\n",
    "\n",
    "Given a square grid of integers arr, a falling path with non-zero shifts is a choice of exactly one element from each row of arr, such that no two elements chosen in adjacent rows are in the same column. \n",
    "\n",
    "Return the minimum sum of a falling path with non-zero shifts. \n"
   ]
  },
  {
   "cell_type": "code",
   "execution_count": 58,
   "metadata": {},
   "outputs": [],
   "source": [
    "def minFallingPathSum(A: list) -> int:\n",
    "    \n",
    "    n = len(A)\n",
    "    \n",
    "    if n == 0:\n",
    "        return 0 \n",
    "    \n",
    "    dp = [[float('inf') for _ in range(n)] for _ in range(n)]\n",
    "    \n",
    "    def cal_dp(i,j):\n",
    "        if dp[i][j] != float('inf'):\n",
    "            return dp[i][j]\n",
    "        if i == 0:\n",
    "            dp[i][j] = A[i][j]\n",
    "            return dp[i][j]\n",
    "        ans = float('inf')\n",
    "        for k in range(n):\n",
    "            if k != j:\n",
    "#                 print(cal_dp(i-1,k))\n",
    "                ans = min(cal_dp(i-1,k), ans)\n",
    "        dp[i][j] = A[i][j] + ans \n",
    "        return dp[i][j]\n",
    "    \n",
    "    for j in range(n):\n",
    "        cal_dp(n-1, j)\n",
    "        \n",
    "    print(dp)\n",
    "    return min(dp[n-1])\n",
    "        "
   ]
  },
  {
   "cell_type": "code",
   "execution_count": 69,
   "metadata": {},
   "outputs": [],
   "source": [
    "A = [\n",
    "    [1,2,3],\n",
    "    [4,5,6],\n",
    "    [7,8,9]\n",
    "]"
   ]
  },
  {
   "cell_type": "code",
   "execution_count": 60,
   "metadata": {},
   "outputs": [
    {
     "name": "stdout",
     "output_type": "stream",
     "text": [
      "[[1, 2, 3], [6, 6, 7], [13, 14, 15]]\n"
     ]
    },
    {
     "data": {
      "text/plain": [
       "13"
      ]
     },
     "execution_count": 60,
     "metadata": {},
     "output_type": "execute_result"
    }
   ],
   "source": [
    "minFallingPathSum(A)"
   ]
  },
  {
   "cell_type": "code",
   "execution_count": 70,
   "metadata": {},
   "outputs": [],
   "source": [
    "def minFallingPathSum2(A: list) -> int:\n",
    "    \n",
    "    n = len(A)\n",
    "    if n == 0:\n",
    "        return 0 \n",
    "    for i in range(1,n):\n",
    "        for j in range(n):\n",
    "            m = float('inf')\n",
    "            for k in range(n):\n",
    "                if k != j:\n",
    "                    m = min(m, A[i-1][k])\n",
    "            A[i][j] += m\n",
    "    print(A)\n",
    "    return min(A[n-1])"
   ]
  },
  {
   "cell_type": "code",
   "execution_count": 71,
   "metadata": {},
   "outputs": [
    {
     "name": "stdout",
     "output_type": "stream",
     "text": [
      "[[1, 2, 3], [6, 6, 7], [13, 14, 15]]\n"
     ]
    },
    {
     "data": {
      "text/plain": [
       "13"
      ]
     },
     "execution_count": 71,
     "metadata": {},
     "output_type": "execute_result"
    }
   ],
   "source": [
    "minFallingPathSum2(A)"
   ]
  },
  {
   "cell_type": "markdown",
   "metadata": {},
   "source": [
    "Time Complexity: O(n^3)\n",
    "\n",
    "Space Complexity: O(n^2)"
   ]
  },
  {
   "cell_type": "markdown",
   "metadata": {},
   "source": [
    "## 403 Frog Jump\n",
    "\n",
    "A frog is corssing a river. The river is divided into x units and at each unit there may or may not exist a stone. The frog can jump on a stone, but it must not jump into the water.\n",
    "\n",
    "Given a list of stones' positions (in units) i sorted ascending order, determine if the frog is able to cross the river by landing on the last stone. Initially, the frog is on the first stone and assume the first jump must be 1 unit. \n",
    "\n",
    "If the frog's last jump was k units, then its next jump must be either k-1, k or k +1 units. Note that the frog can only jump in the forward direction. \n",
    "\n",
    "**Example 1:**\n",
    "\n",
    "[0,1,3,5,6,8,12,17]\n",
    "\n",
    "There are a total of 8 stones.\n",
    "The first stone at the 0th unit, second stone at the 1st unit,\n",
    "third stone at the 3rd unit, and so on...\n",
    "The last stone at the 17th unit.\n",
    "\n",
    "Return true. The frog can jump to the last stone by jumping \n",
    "1 unit to the 2nd stone, then 2 units to the 3rd stone, then \n",
    "2 units to the 4th stone, then 3 units to the 6th stone, \n",
    "4 units to the 7th stone, and 5 units to the 8th stone.\n",
    "\n",
    "\n",
    "**Example 2:**\n",
    "\n",
    "[0,1,2,3,4,8,9,11]\n",
    "\n",
    "Return false. There is no way to jump to the last stone as \n",
    "the gap between the 5th and 6th stone is too large.\n"
   ]
  },
  {
   "cell_type": "code",
   "execution_count": 72,
   "metadata": {},
   "outputs": [],
   "source": [
    "stones = [0, 1, 3, 5, 6, 8, 12, 17]\n",
    "\n",
    "stages = {x: set() for x in stones}"
   ]
  },
  {
   "cell_type": "code",
   "execution_count": 73,
   "metadata": {},
   "outputs": [
    {
     "name": "stdout",
     "output_type": "stream",
     "text": [
      "{0: {0}, 1: set(), 3: set(), 5: set(), 6: set(), 8: set(), 12: set(), 17: set()}\n",
      "17\n"
     ]
    }
   ],
   "source": [
    "stages[0] = {0}\n",
    "\n",
    "end = stones[-1]\n",
    "\n",
    "print(stages)\n",
    "\n",
    "print(end)"
   ]
  },
  {
   "cell_type": "code",
   "execution_count": 74,
   "metadata": {},
   "outputs": [
    {
     "name": "stdout",
     "output_type": "stream",
     "text": [
      "{0}\n",
      "set()\n",
      "set()\n",
      "set()\n",
      "set()\n",
      "set()\n",
      "set()\n",
      "set()\n"
     ]
    }
   ],
   "source": [
    "for key in stones:\n",
    "    steps = stages[key]\n",
    "    print(steps)"
   ]
  },
  {
   "cell_type": "code",
   "execution_count": 85,
   "metadata": {},
   "outputs": [
    {
     "name": "stdout",
     "output_type": "stream",
     "text": [
      "s\n",
      "5\n",
      "True\n"
     ]
    }
   ],
   "source": [
    "step = 4\n",
    "steps = (step -1, step, step+1)\n",
    "start = 12\n",
    "end = 17\n",
    "\n",
    "for s in filter(lambda x: x>0 and start + x in stages, steps):\n",
    "    print('s')\n",
    "    print(s)\n",
    "    stages[start+s].add(s)\n",
    "    if start + s == end:\n",
    "        print(True)\n",
    "    "
   ]
  },
  {
   "cell_type": "code",
   "execution_count": 87,
   "metadata": {},
   "outputs": [],
   "source": [
    "def canCross(stones: list) -> bool:\n",
    "    stages = {x: set() for x in stones}\n",
    "    stages[0] = {0}\n",
    "    end = stones[-1]\n",
    "    \n",
    "    for key in stones:\n",
    "        steps = stages[key]\n",
    "        if not steps:\n",
    "            return False \n",
    "        if any(map(lambda step: jump(stages, step, key, end), steps)):\n",
    "            print('stages')\n",
    "            print(stages)\n",
    "            return True\n",
    "    return False \n",
    "\n",
    "def jump(stages, step, start, end):\n",
    "    steps = (step-1, step, step+1)\n",
    "    \n",
    "    for s in filter(lambda x: x > 0 and start+x in stages,steps):\n",
    "        stages[start+s].add(s)\n",
    "        if start + s ==end:\n",
    "            return True \n",
    "    return False \n",
    "        \n",
    "            "
   ]
  },
  {
   "cell_type": "code",
   "execution_count": 88,
   "metadata": {},
   "outputs": [
    {
     "name": "stdout",
     "output_type": "stream",
     "text": [
      "stages\n",
      "{0: {0}, 1: {1}, 3: {2}, 5: {2}, 6: {1, 3}, 8: {2, 3}, 12: {4}, 17: {5}}\n"
     ]
    },
    {
     "data": {
      "text/plain": [
       "True"
      ]
     },
     "execution_count": 88,
     "metadata": {},
     "output_type": "execute_result"
    }
   ],
   "source": [
    "canCross(stones)"
   ]
  },
  {
   "cell_type": "markdown",
   "metadata": {},
   "source": [
    "Time Complexity: O(n)\n",
    "\n",
    "Space Complexity: between O(n) and O(n^2)"
   ]
  },
  {
   "cell_type": "markdown",
   "metadata": {},
   "source": [
    "## 542. 01 Matrix \n",
    "\n",
    "Given a matrix consists of 0 and 1, find the distance of the nearest 0 for each cell. \n",
    "\n",
    "The distance between two adjacent cells is 1. \n",
    "\n",
    "**Example 1:**\n",
    "\n",
    "Input: [\n",
    "    [0, 0, 0],\n",
    "    [0, 1, 0],\n",
    "    [0, 0, 0]]\n",
    "    \n",
    "Output: [\n",
    "    [0, 0, 0],\n",
    "    [0, 1, 0],\n",
    "    [0, 0, 0]]\n",
    "    \n",
    "**Example 2:**\n",
    "\n",
    "Input: [\n",
    "    [0, 0, 0],\n",
    "    [0, 1, 0],\n",
    "    [1, 1, 1]]\n",
    "    \n",
    "Output: [\n",
    "    [0, 0, 0],\n",
    "    [0, 1, 0],\n",
    "    [1, 2, 1]]"
   ]
  },
  {
   "cell_type": "code",
   "execution_count": 90,
   "metadata": {},
   "outputs": [],
   "source": [
    "matrix = [\n",
    "    [0, 0, 0, 1],\n",
    "    [1, 1, 0, 1],\n",
    "    [0, 0, 1, 0],\n",
    "    [0, 0, 0, 0],\n",
    "    [0, 1, 0, 1]\n",
    "]"
   ]
  },
  {
   "cell_type": "code",
   "execution_count": 92,
   "metadata": {},
   "outputs": [
    {
     "name": "stdout",
     "output_type": "stream",
     "text": [
      "[[0, 0, 0, 0], [0, 0, 0, 0], [0, 0, 0, 0], [0, 0, 0, 0], [0, 0, 0, 0]]\n"
     ]
    }
   ],
   "source": [
    "n = len(matrix)\n",
    "\n",
    "m = len(matrix[0])\n",
    "\n",
    "ans = [[0 for _ in range(m)] for _ in range(n)]\n",
    "\n",
    "print(ans)"
   ]
  },
  {
   "cell_type": "code",
   "execution_count": 107,
   "metadata": {},
   "outputs": [],
   "source": [
    "def updateMatrix(matrix: list) -> list:\n",
    "    n = len(matrix)\n",
    "    if n == 0:\n",
    "        return []\n",
    "    m = len(matrix[0])\n",
    "    ans = [[float('inf') for _ in range(m)] for _ in range(n)]\n",
    "    \n",
    "    for x in range(n):\n",
    "        for y in range(m):\n",
    "            if matrix[x][y] == 1:\n",
    "                if x > 0:\n",
    "                    ans[x][y] = min(ans[x][y], ans[x-1][y]+1)\n",
    "                if y > 0:\n",
    "                    ans[x][y] = min(ans[x][y], ans[x][y-1] + 1)\n",
    "            else:\n",
    "                ans[x][y] = 0\n",
    "    print(ans)\n",
    "    \n",
    "    for x in range(n-1, -1, -1):\n",
    "        for y in range(m-1, -1, -1):\n",
    "            if x < n-1:\n",
    "                ans[x][y] = min(ans[x][y], ans[x+1][y] + 1)\n",
    "            if y < m-1:\n",
    "                ans[x][y] = min(ans[x][y], ans[x][y+1] + 1)\n",
    "    print(ans)\n",
    "    \n",
    "    return ans \n",
    "            "
   ]
  },
  {
   "cell_type": "code",
   "execution_count": 108,
   "metadata": {},
   "outputs": [],
   "source": [
    "matrix = [\n",
    "    [0, 0, 0],\n",
    "    [0, 1, 0],\n",
    "    [1, 1, 0]\n",
    "]"
   ]
  },
  {
   "cell_type": "code",
   "execution_count": 109,
   "metadata": {},
   "outputs": [
    {
     "name": "stdout",
     "output_type": "stream",
     "text": [
      "[[0, 0, 0], [0, 1, 0], [1, 2, 0]]\n",
      "[[0, 0, 0], [0, 1, 0], [1, 1, 0]]\n"
     ]
    },
    {
     "data": {
      "text/plain": [
       "[[0, 0, 0], [0, 1, 0], [1, 1, 0]]"
      ]
     },
     "execution_count": 109,
     "metadata": {},
     "output_type": "execute_result"
    }
   ],
   "source": [
    "updateMatrix(matrix)"
   ]
  },
  {
   "cell_type": "markdown",
   "metadata": {},
   "source": [
    "## 337. House Robber II\n",
    "\n",
    "The thief has found himself a new place for his thievery again. There is only one entrance to his area, called the \"root\". Besides the root, each house has one and only one parent house. After a tour, the smart thief realized that \"all houses in this place forms a binary tree\". It will automatically contact the police if two directly-likned houses were broken into on the same night. \n",
    "\n",
    "Determine the maximum amount of money the thief can rob tonight without alterting the police. "
   ]
  },
  {
   "cell_type": "code",
   "execution_count": 110,
   "metadata": {},
   "outputs": [],
   "source": [
    "class TreeNode:\n",
    "    def __init__(self, x):\n",
    "        self.val = x\n",
    "        self.left = None\n",
    "        self.right = None"
   ]
  },
  {
   "cell_type": "code",
   "execution_count": 125,
   "metadata": {},
   "outputs": [],
   "source": [
    "def rob(root:TreeNode) -> int:\n",
    "    if not root:\n",
    "        return 0 \n",
    "    \n",
    "    def getMaxAmount(node: TreeNode)-> int:\n",
    "        result = [0 for _ in range(2)]\n",
    "        \n",
    "        if node is None or node.val is None:\n",
    "            return result \n",
    "        if node.left is None and node.right is None:\n",
    "            result[0] = node.val\n",
    "            result[1] = 0 \n",
    "        leftMax = getMaxAmount(node.left)\n",
    "        rightMax = getMaxAmount(node.right)\n",
    "        print(leftMax)\n",
    "        print(rightMax)\n",
    "        \n",
    "        withcurrent = node.val + leftMax[1] + rightMax[1]\n",
    "        \n",
    "        withoutcurrent = max(leftMax[0], leftMax[1]) + max(rightMax[0], rightMax[1])\n",
    "        \n",
    "        result[0] = withcurrent\n",
    "        result[1] = withoutcurrent \n",
    "        print(result)\n",
    "        return result \n",
    "    \n",
    "    result = getMaxAmount(root)\n",
    "    \n",
    "    return max(result)\n",
    "    "
   ]
  },
  {
   "cell_type": "code",
   "execution_count": 126,
   "metadata": {},
   "outputs": [],
   "source": [
    "node1 = TreeNode(3)\n",
    "\n",
    "node2= TreeNode(2)\n",
    "\n",
    "node3 = TreeNode(None)\n",
    "\n",
    "node4 = TreeNode(3)\n",
    "\n",
    "node5 = TreeNode(3)\n",
    "\n",
    "node6 = TreeNode(None)\n",
    "\n",
    "node7 = TreeNode(1)\n",
    "\n",
    "node1.left = node2\n",
    "\n",
    "node2.left = node3\n",
    "\n",
    "node2.right = node4\n",
    "\n",
    "node1.right = node3\n",
    "\n",
    "node3.left = node6\n",
    "\n",
    "node3.right = node7\n"
   ]
  },
  {
   "cell_type": "code",
   "execution_count": 127,
   "metadata": {},
   "outputs": [
    {
     "name": "stdout",
     "output_type": "stream",
     "text": [
      "[0, 0]\n",
      "[0, 0]\n",
      "[3, 0]\n",
      "[0, 0]\n",
      "[3, 0]\n",
      "[2, 3]\n",
      "[2, 3]\n",
      "[0, 0]\n",
      "[6, 3]\n"
     ]
    },
    {
     "data": {
      "text/plain": [
       "6"
      ]
     },
     "execution_count": 127,
     "metadata": {},
     "output_type": "execute_result"
    }
   ],
   "source": [
    "rob(node1)"
   ]
  },
  {
   "cell_type": "code",
   "execution_count": null,
   "metadata": {},
   "outputs": [],
   "source": []
  }
 ],
 "metadata": {
  "kernelspec": {
   "display_name": "Python 3",
   "language": "python",
   "name": "python3"
  },
  "language_info": {
   "codemirror_mode": {
    "name": "ipython",
    "version": 3
   },
   "file_extension": ".py",
   "mimetype": "text/x-python",
   "name": "python",
   "nbconvert_exporter": "python",
   "pygments_lexer": "ipython3",
   "version": "3.7.4"
  }
 },
 "nbformat": 4,
 "nbformat_minor": 2
}
