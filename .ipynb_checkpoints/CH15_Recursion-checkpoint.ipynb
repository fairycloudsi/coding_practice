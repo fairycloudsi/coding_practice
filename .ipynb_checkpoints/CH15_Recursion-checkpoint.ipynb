{
 "cells": [
  {
   "cell_type": "raw",
   "metadata": {},
   "source": [
    "Recursion is an approach to problem solving where the solution depends partially on solutions to smaller instances of related problems. It is often appropriate when the input is expressed using recursive rules, such as a computer grammar. More generally, searching, enumeration, divide-and-conquer, and decomposing a complex problem into a set of similar smaller instances are all scenarios where recursion maybe suitable. \n",
    "\n",
    "A recursive functio consists of base cases and calls to the same function with different arguments. Two key ingredients to a successful use of recursion are identifying the base cases, which are to be solved directly, and ensuring progress, that is the recursion converges to the solution. \n",
    "\n",
    "A divide-and-conquer algorithm works by repeatedly decomposing a problem into two or more smaller independent subproblems of the same kind, until it gets to instances that are simple enough to be solved directly. The solutions to the subproblems are then combined to give a solution to the original problem. Merge sort and quicksort are classical examples of divide-and-conquer. \n",
    "\n",
    "Divide-and-conquer is not synonymous with recursion. In divide-and-conquer, the problem is divided into two or more independent smaller problems that are of the same type as the original problem. Recursion is more general--there may be a single subproblem, e.g., binary search, the subproblems may not be independent, e.g., dynamic programming, and they may not be of the same type as the original, e.g., regular expression matching. In addition, sometimes to improve runtime, and occasionally to reduce space complexity, a divide-and-conquer algorithm is implemented using iteration instead of recursion. "
   ]
  },
  {
   "cell_type": "markdown",
   "metadata": {},
   "source": [
    "## Recursion boot camp\n",
    "\n",
    "The Euclidean algorithm for calculating the greatest common divisor (GCD) of two numbers is a classic example of recursion. The central idea is that if y > x, the GCD of x and y is the GCD for x and y - x. By extension, this implies that the GDC of x and y is the GCD of x and y mod x, i.e., GCD(156,36) = GCD((156 mod 36)=12, 36) = GCD(12, 36 mod 12 = 0) = 12."
   ]
  },
  {
   "cell_type": "code",
   "execution_count": 1,
   "metadata": {},
   "outputs": [],
   "source": [
    "def gcd(x: int, y: int) -> int:\n",
    "    return x if y == 0 else gcd(y, x%y)"
   ]
  },
  {
   "cell_type": "code",
   "execution_count": 2,
   "metadata": {},
   "outputs": [
    {
     "data": {
      "text/plain": [
       "12"
      ]
     },
     "execution_count": 2,
     "metadata": {},
     "output_type": "execute_result"
    }
   ],
   "source": [
    "gcd(156,36)"
   ]
  },
  {
   "cell_type": "code",
   "execution_count": 3,
   "metadata": {},
   "outputs": [
    {
     "data": {
      "text/plain": [
       "27"
      ]
     },
     "execution_count": 3,
     "metadata": {},
     "output_type": "execute_result"
    }
   ],
   "source": [
    "gcd(81,54)"
   ]
  },
  {
   "cell_type": "code",
   "execution_count": 4,
   "metadata": {},
   "outputs": [
    {
     "data": {
      "text/plain": [
       "9"
      ]
     },
     "execution_count": 4,
     "metadata": {},
     "output_type": "execute_result"
    }
   ],
   "source": [
    "gcd(81,45)"
   ]
  },
  {
   "cell_type": "markdown",
   "metadata": {},
   "source": [
    "Since with each recursive step one of the arguments is at least halved, it means that the time complexity is O(log max(x,y)). Put another way, the time complexity is O(n), where n is the number of bits needed to represent the inputs. The space complexity is also O(n), which is the maximum depth of the function call stack. (It is easy to replace the recursion with a loop, thereby reducing the space complexity to O(1)). "
   ]
  },
  {
   "cell_type": "markdown",
   "metadata": {},
   "source": [
    "## 15.1 The towers of hanoi problem \n",
    "\n",
    "A peg contains rings in sorted order, with the largest ring being the lowest. You are to transfer these rings to another peg, which is initially empty. \n",
    "\n",
    "You have a third peg, which is initially empty. The only operation you can perform is taking a singe ring from the top of one peg and placing it ton the top of another peg. You must never place a larger ring above a smaller ring. Write the function which returns a sequence of oerations that result in the transfer of n rings from one peg to another. "
   ]
  },
  {
   "cell_type": "code",
   "execution_count": 17,
   "metadata": {},
   "outputs": [],
   "source": [
    "NUM_PEGS = 3\n",
    "\n",
    "def compute_tower_hanoi(num_rings: int) -> list:\n",
    "    def compute_tower_hanoi_steps(num_rings_to_move, from_peg, to_peg,\n",
    "                                 use_peg):\n",
    "        if num_rings_to_move >0:\n",
    "            compute_tower_hanoi_steps(num_rings_to_move -1, from_peg, use_peg,\n",
    "                                     to_peg)\n",
    "            pegs[to_peg].append(pegs[from_peg].pop()) # used to record where the rings are\n",
    "            print('number of rings to move is')\n",
    "            print(num_rings_to_move)\n",
    "            print('pegs are')\n",
    "            print(pegs)\n",
    "            result.append([from_peg, to_peg])\n",
    "            compute_tower_hanoi_steps(num_rings_to_move -1, use_peg, to_peg, \n",
    "                                     from_peg)\n",
    "            \n",
    "    # Initialize pegs \n",
    "    result = []\n",
    "    pegs = [list(reversed(range(1, num_rings + 1)))] + [[] for _ in range(1, NUM_PEGS)]\n",
    "    compute_tower_hanoi_steps(num_rings, 0, 1, 2)\n",
    "    return result "
   ]
  },
  {
   "cell_type": "code",
   "execution_count": 3,
   "metadata": {},
   "outputs": [],
   "source": [
    "result = []\n",
    "number_rings = 3"
   ]
  },
  {
   "cell_type": "code",
   "execution_count": 5,
   "metadata": {},
   "outputs": [],
   "source": [
    "pegs = [list(reversed(range(1,number_rings+1)))\n",
    "       ] + [[] for _ in range(1, NUM_PEGS)]"
   ]
  },
  {
   "cell_type": "code",
   "execution_count": 6,
   "metadata": {},
   "outputs": [
    {
     "data": {
      "text/plain": [
       "[[3, 2, 1], [], []]"
      ]
     },
     "execution_count": 6,
     "metadata": {},
     "output_type": "execute_result"
    }
   ],
   "source": [
    "pegs"
   ]
  },
  {
   "cell_type": "code",
   "execution_count": 7,
   "metadata": {},
   "outputs": [],
   "source": [
    "from_peg = 0\n",
    "to_peg = 1\n",
    "use_peg = 2"
   ]
  },
  {
   "cell_type": "code",
   "execution_count": 11,
   "metadata": {},
   "outputs": [
    {
     "data": {
      "text/plain": [
       "[3, 2]"
      ]
     },
     "execution_count": 11,
     "metadata": {},
     "output_type": "execute_result"
    }
   ],
   "source": [
    "pegs[from_peg]"
   ]
  },
  {
   "cell_type": "code",
   "execution_count": 12,
   "metadata": {},
   "outputs": [],
   "source": [
    "pegs[to_peg].append(1)"
   ]
  },
  {
   "cell_type": "code",
   "execution_count": 13,
   "metadata": {},
   "outputs": [
    {
     "data": {
      "text/plain": [
       "[[3, 2], [1], []]"
      ]
     },
     "execution_count": 13,
     "metadata": {},
     "output_type": "execute_result"
    }
   ],
   "source": [
    "pegs"
   ]
  },
  {
   "cell_type": "code",
   "execution_count": 14,
   "metadata": {},
   "outputs": [
    {
     "data": {
      "text/plain": [
       "[0, 1]"
      ]
     },
     "execution_count": 14,
     "metadata": {},
     "output_type": "execute_result"
    }
   ],
   "source": [
    "[from_peg, to_peg]"
   ]
  },
  {
   "cell_type": "code",
   "execution_count": 15,
   "metadata": {},
   "outputs": [
    {
     "data": {
      "text/plain": [
       "3"
      ]
     },
     "execution_count": 15,
     "metadata": {},
     "output_type": "execute_result"
    }
   ],
   "source": [
    "use_peg"
   ]
  },
  {
   "cell_type": "code",
   "execution_count": 18,
   "metadata": {
    "scrolled": true
   },
   "outputs": [
    {
     "name": "stdout",
     "output_type": "stream",
     "text": [
      "number of rings to move is\n",
      "1\n",
      "pegs are\n",
      "[[3, 2], [1], []]\n",
      "number of rings to move is\n",
      "2\n",
      "pegs are\n",
      "[[3], [1], [2]]\n",
      "number of rings to move is\n",
      "1\n",
      "pegs are\n",
      "[[3], [], [2, 1]]\n",
      "number of rings to move is\n",
      "3\n",
      "pegs are\n",
      "[[], [3], [2, 1]]\n",
      "number of rings to move is\n",
      "1\n",
      "pegs are\n",
      "[[1], [3], [2]]\n",
      "number of rings to move is\n",
      "2\n",
      "pegs are\n",
      "[[1], [3, 2], []]\n",
      "number of rings to move is\n",
      "1\n",
      "pegs are\n",
      "[[], [3, 2, 1], []]\n"
     ]
    },
    {
     "data": {
      "text/plain": [
       "[[0, 1], [0, 2], [1, 2], [0, 1], [2, 0], [2, 1], [0, 1]]"
      ]
     },
     "execution_count": 18,
     "metadata": {},
     "output_type": "execute_result"
    }
   ],
   "source": [
    "compute_tower_hanoi(3)"
   ]
  },
  {
   "cell_type": "markdown",
   "metadata": {},
   "source": [
    "The number of moves, T(n), satisfies the following recurrence: T(n) = T(n-1) +1 + T(n-1) = 1 + 2T(n-1). The first T(n-1) corresponds to the transfer of the top n-1 rings from P1 to P3, and the second T(n-1) corresponds to the transfer from P3 to P2. The recurrence solves to T(n) = 2^n -1. One way to see this is to \"unwrap\" the recurrence: T(n) = 1+ 2+4 + ...+ 2^k T(n-k). Printing a single move takes O(1) time, so the time complexity is O(2^n)."
   ]
  },
  {
   "cell_type": "markdown",
   "metadata": {},
   "source": [
    "## 15.2 Compute all mnemonics for a phone number \n",
    "\n",
    "Each digit, apart from 0 and 1, in a phone keypad corresponds to one of three or four letters of the alphabet. Since words are easier to remember than numbers, it is natural to ask if a 7 or 10-digit phone number can be represented by a word. For example, \"2276696\" corresponds to \"ACRONYM\" as well as \"ABPOMZN\".\n",
    "\n",
    "Write a program which takes as input a phone number, specified as a string of digits, and returns all possible character sequences that correspond to the phone number. The cell phone keypad is specified by a mapping taht takes a digit and returns the corresponding set of characters. The character sequences do not have to be legal words or phrases. \n",
    "\n",
    "**Sol:** For a 7-digit phone number, the brute-force approach is to form 7 ranges of characters, one for each digit. We use 7 nested for-loops where the iteration variables correspond to the 7 ranges to enumerate all possible mnemonics. The drawbacks of such an approach are its repetitiveness in code and its inflexibility.\n",
    "\n",
    "As a general rule, any such enumeration is best computed using recursion. The execution path is very similar to that of the brute-force approach, but the complier handles the looping. "
   ]
  },
  {
   "cell_type": "code",
   "execution_count": 19,
   "metadata": {},
   "outputs": [],
   "source": [
    "# The mapping from digit to corresponding characters.\n",
    "MAPPING = ('0', '1', 'ABC', 'DEF', 'GHI','JKL','MNO','PQRS','TUV','WXYZ')\n",
    "\n",
    "def phone_mnemonic(phone_number: str) -> list:\n",
    "    def phone_mnemonic_helper(digit):\n",
    "        if digit == len(phone_number):\n",
    "            # All digits are processed, so add partial_mnemonic to menmonics.\n",
    "            # (We add a copy since subsequent calls modify partial_mnemonic.)\n",
    "            mnemonics.append(''.join(partial_mnemonic))\n",
    "        else:\n",
    "            # Try all possible characters for this digit.\n",
    "            for c in MAPPING[int(phone_number[digit])]:\n",
    "                partial_mnemonic[digit] = c\n",
    "                phone_mnemonic_helper(digit + 1)\n",
    "                \n",
    "    mnemonics = []\n",
    "    partial_mnemonic = [0]*len(phone_number)\n",
    "    phone_mnemonic_helper(0)\n",
    "    return mnemonics"
   ]
  },
  {
   "cell_type": "code",
   "execution_count": 23,
   "metadata": {},
   "outputs": [
    {
     "data": {
      "text/plain": [
       "['AAP',\n",
       " 'AAQ',\n",
       " 'AAR',\n",
       " 'AAS',\n",
       " 'ABP',\n",
       " 'ABQ',\n",
       " 'ABR',\n",
       " 'ABS',\n",
       " 'ACP',\n",
       " 'ACQ',\n",
       " 'ACR',\n",
       " 'ACS',\n",
       " 'BAP',\n",
       " 'BAQ',\n",
       " 'BAR',\n",
       " 'BAS',\n",
       " 'BBP',\n",
       " 'BBQ',\n",
       " 'BBR',\n",
       " 'BBS',\n",
       " 'BCP',\n",
       " 'BCQ',\n",
       " 'BCR',\n",
       " 'BCS',\n",
       " 'CAP',\n",
       " 'CAQ',\n",
       " 'CAR',\n",
       " 'CAS',\n",
       " 'CBP',\n",
       " 'CBQ',\n",
       " 'CBR',\n",
       " 'CBS',\n",
       " 'CCP',\n",
       " 'CCQ',\n",
       " 'CCR',\n",
       " 'CCS']"
      ]
     },
     "execution_count": 23,
     "metadata": {},
     "output_type": "execute_result"
    }
   ],
   "source": [
    "phone_mnemonic('227')"
   ]
  },
  {
   "cell_type": "markdown",
   "metadata": {},
   "source": [
    "Since there are no more than 4 possible characters for each digit, the number of recursive calls, T(n), satisfies T(n) <= 4 T(n-1), where n is the number of digits in the number. This solves to T(n) = O(4^n). For the function calls that entail recursion, the time spent within the function, not including the recursive calls, is O(1). Each base entails making a copy of a string and adding it to the result. Since each such strings has length n, each base cae takes time O(n). Therefore, the time complexity is O(4^n n)."
   ]
  },
  {
   "cell_type": "markdown",
   "metadata": {},
   "source": [
    "## 15.3 Generate all nonattacking placements of n-Queens\n",
    "\n",
    "A nonattacking placement of queens is one in which no two queens are in the same row, column, or diagonal. \n",
    "\n",
    "Write a program which returns all distinct nonattacking placements of n queens on an n \\times n chessboard, where n is an input to the program. "
   ]
  },
  {
   "cell_type": "code",
   "execution_count": 29,
   "metadata": {},
   "outputs": [],
   "source": [
    "def n_queens(n : int) -> list:\n",
    "    def solve_n_queens(row):\n",
    "        if row == n:\n",
    "            # All queens are legally placed \n",
    "            result.append(col_placement.copy())\n",
    "            return \n",
    "        for col in range(n):\n",
    "            # Test if a newly placed queen will conflict any earlier \n",
    "            # queens \n",
    "            # the new col is not the same as previous col and \n",
    "            # not in the diagonal position with previous point\n",
    "            if all(\n",
    "                abs(c - col) not in (0, row - i)\n",
    "                for i, c in enumerate(col_placement[: row])):\n",
    "                \n",
    "                col_placement[row] = col\n",
    "                print('row and col respectively are')\n",
    "                print(row, col)\n",
    "                solve_n_queens(row + 1)\n",
    "                \n",
    "    result = []\n",
    "    col_placement = [0]*n\n",
    "    solve_n_queens(0)\n",
    "    return result \n",
    "                \n",
    "                "
   ]
  },
  {
   "cell_type": "code",
   "execution_count": 30,
   "metadata": {},
   "outputs": [
    {
     "name": "stdout",
     "output_type": "stream",
     "text": [
      "row and col respectively are\n",
      "0 0\n",
      "row and col respectively are\n",
      "1 2\n",
      "row and col respectively are\n",
      "1 3\n",
      "row and col respectively are\n",
      "2 1\n",
      "row and col respectively are\n",
      "0 1\n",
      "row and col respectively are\n",
      "1 3\n",
      "row and col respectively are\n",
      "2 0\n",
      "row and col respectively are\n",
      "3 2\n",
      "row and col respectively are\n",
      "0 2\n",
      "row and col respectively are\n",
      "1 0\n",
      "row and col respectively are\n",
      "2 3\n",
      "row and col respectively are\n",
      "3 1\n",
      "row and col respectively are\n",
      "0 3\n",
      "row and col respectively are\n",
      "1 0\n",
      "row and col respectively are\n",
      "2 2\n",
      "row and col respectively are\n",
      "1 1\n"
     ]
    }
   ],
   "source": [
    "result = n_queens(4)"
   ]
  },
  {
   "cell_type": "code",
   "execution_count": 26,
   "metadata": {},
   "outputs": [
    {
     "name": "stdout",
     "output_type": "stream",
     "text": [
      "[[1, 3, 0, 2], [2, 0, 3, 1]]\n"
     ]
    }
   ],
   "source": [
    "print(result)"
   ]
  },
  {
   "cell_type": "code",
   "execution_count": 27,
   "metadata": {},
   "outputs": [],
   "source": [
    "result = n_queens(5)"
   ]
  },
  {
   "cell_type": "code",
   "execution_count": 28,
   "metadata": {},
   "outputs": [
    {
     "name": "stdout",
     "output_type": "stream",
     "text": [
      "[[0, 2, 4, 1, 3], [0, 3, 1, 4, 2], [1, 3, 0, 2, 4], [1, 4, 2, 0, 3], [2, 0, 3, 1, 4], [2, 4, 1, 3, 0], [3, 0, 2, 4, 1], [3, 1, 4, 2, 0], [4, 1, 3, 0, 2], [4, 2, 0, 3, 1]]\n"
     ]
    }
   ],
   "source": [
    "print(result)"
   ]
  },
  {
   "cell_type": "markdown",
   "metadata": {},
   "source": [
    "The time complexity is at least the number of nonattacking placements. Nobody knows how many nonattacking placements there are as function of n, but it increases very rapidly with n, and is no more than n! (since each queen must be on a different row). "
   ]
  },
  {
   "cell_type": "markdown",
   "metadata": {},
   "source": [
    "## 15.4 Generate Permutations\n",
    "\n",
    "Write a program which takes as input an array of distinct integers and generates all permutations of that array. No permutations of the array may appear more than once. \n",
    "\n",
    "Computing all permutations beginning with A[0] entails computing all permutations of A[1, n-1], which suggests the use of recursion. To compute all permutations beginning with A[1], we swap A[0] and A[1] and compute all permutations of the updated A[1, n-1]. We then restore the original state before embarking on computing all permutations beginning with A[2] and so on. "
   ]
  },
  {
   "cell_type": "code",
   "execution_count": 39,
   "metadata": {},
   "outputs": [],
   "source": [
    "def permutation(A: list) -> list:\n",
    "    def directed_permutation(i):\n",
    "        \n",
    "        if i == len(A) -1:\n",
    "            result.append(A.copy())\n",
    "            return \n",
    "    \n",
    "        # Try every possibility for A[i].\n",
    "        for j in range(i, len(A)):\n",
    "            A[i], A[j] = A[j], A[i]\n",
    "            # Generate all permutations for A[i+1:].\n",
    "            directed_permutation(i+1)\n",
    "            A[i], A[j] = A[j], A[i]\n",
    "        \n",
    "    result = []\n",
    "    directed_permutation(0)\n",
    "    return result \n",
    "        "
   ]
  },
  {
   "cell_type": "code",
   "execution_count": 38,
   "metadata": {},
   "outputs": [
    {
     "data": {
      "text/plain": [
       "[[7, 3, 5], [7, 5, 3], [5, 7, 3], [5, 3, 7], [7, 3, 5], [7, 5, 3]]"
      ]
     },
     "execution_count": 38,
     "metadata": {},
     "output_type": "execute_result"
    }
   ],
   "source": [
    "A = [7,3,5]\n",
    "permutation(A)"
   ]
  },
  {
   "cell_type": "markdown",
   "metadata": {},
   "source": [
    "Remark: we do swapping for i j. Then generate the permutation of sub sequence A[i+1:]. After that, we swap back i and j. If not swap back i and j, we may have repititives later on and missing for other cases. Since the sequence we permutate on is no longer previous list. This is the crucial reason why we need to swap back. "
   ]
  },
  {
   "cell_type": "markdown",
   "metadata": {},
   "source": [
    "The time complexity is determined by the number of recursive calls, since within each function the time spent is O(1), not including the time in the subcalls. The number of function calls, C(n) satisfies the recurrence C(n) = 1 + n C(n-1) for n >= 1, with C(0) = 1. Expanding this, we see, C(n) = 1 + n + n(n-1) + n(n-1)(n-2) + ... + n! = n!(1/n! + 1/(n-1)! + 1/(n-2)! + ... + 1/1!) = (e-1) n! as n goes to infinity. The time complexity is T(n) = O(n n!), since we do O(n) computation per call outside of the recursive calls. "
   ]
  },
  {
   "cell_type": "markdown",
   "metadata": {},
   "source": [
    "## 15.5 Generate the power set\n",
    "\n",
    "Write a function that takes as input a set and returns its power set. \n",
    "\n",
    "**Sol:** A brute-force way is to compute all subsets U that do not include a particular element (which could be any single element). Then we comnpute all subsets V which do include that element. Each subset must appear in U or in V, so the final result is just U Union V. The construction is recursive, and the base case is when the input set is empty, in which case we return {{}}. "
   ]
  },
  {
   "cell_type": "code",
   "execution_count": 44,
   "metadata": {},
   "outputs": [],
   "source": [
    "def generate_power_set(input_set: list) -> list:\n",
    "    # Generate all subsets whose intersection with input_set[0]. ...\n",
    "    # input_set[to_be_selected -1] is exactly selected_so_far\n",
    "    \n",
    "    def directed_power_set(to_be_selected, selected_so_far):\n",
    "        print('to be selected')\n",
    "        print(to_be_selected)\n",
    "        print('selected_so_far')\n",
    "        print(selected_so_far)\n",
    "        if to_be_selected == len(input_set):\n",
    "            power_set.append(selected_so_far)\n",
    "            return \n",
    "        \n",
    "        directed_power_set(to_be_selected + 1, selected_so_far)\n",
    "        # Generate all subsets that contain input_set[to_be_selected]\n",
    "        directed_power_set(to_be_selected + 1,\n",
    "                          selected_so_far + [input_set[to_be_selected]])\n",
    "        \n",
    "    power_set = []\n",
    "    directed_power_set(0,[])\n",
    "    return power_set"
   ]
  },
  {
   "cell_type": "code",
   "execution_count": 45,
   "metadata": {},
   "outputs": [],
   "source": [
    "input_set = [1,2]"
   ]
  },
  {
   "cell_type": "code",
   "execution_count": 46,
   "metadata": {},
   "outputs": [
    {
     "name": "stdout",
     "output_type": "stream",
     "text": [
      "to be selected\n",
      "0\n",
      "selected_so_far\n",
      "[]\n",
      "to be selected\n",
      "1\n",
      "selected_so_far\n",
      "[]\n",
      "to be selected\n",
      "2\n",
      "selected_so_far\n",
      "[]\n",
      "to be selected\n",
      "2\n",
      "selected_so_far\n",
      "[2]\n",
      "to be selected\n",
      "1\n",
      "selected_so_far\n",
      "[1]\n",
      "to be selected\n",
      "2\n",
      "selected_so_far\n",
      "[1]\n",
      "to be selected\n",
      "2\n",
      "selected_so_far\n",
      "[1, 2]\n"
     ]
    },
    {
     "data": {
      "text/plain": [
       "[[], [2], [1], [1, 2]]"
      ]
     },
     "execution_count": 46,
     "metadata": {},
     "output_type": "execute_result"
    }
   ],
   "source": [
    "generate_power_set(input_set)"
   ]
  },
  {
   "cell_type": "code",
   "execution_count": 63,
   "metadata": {},
   "outputs": [],
   "source": [
    "import math"
   ]
  },
  {
   "cell_type": "code",
   "execution_count": 64,
   "metadata": {},
   "outputs": [],
   "source": [
    "def generate_power_set_2(input_set: list) -> list:\n",
    "    power_set = []\n",
    "    for int_for_subset in range(1 << len(input_set)):\n",
    "        bit_array = int_for_subset\n",
    "        subset = []\n",
    "        while bit_array:\n",
    "            subset.append(int(math.log2(bit_array & ~(bit_array -1))))\n",
    "            bit_array &= bit_array -1 \n",
    "        power_set.append(subset)\n",
    "    return power_set"
   ]
  },
  {
   "cell_type": "code",
   "execution_count": 65,
   "metadata": {},
   "outputs": [
    {
     "data": {
      "text/plain": [
       "[[], [0], [1], [0, 1], [2], [0, 2], [1, 2], [0, 1, 2]]"
      ]
     },
     "execution_count": 65,
     "metadata": {},
     "output_type": "execute_result"
    }
   ],
   "source": [
    "generate_power_set_2(A)"
   ]
  },
  {
   "cell_type": "code",
   "execution_count": null,
   "metadata": {},
   "outputs": [],
   "source": []
  }
 ],
 "metadata": {
  "kernelspec": {
   "display_name": "Python 3",
   "language": "python",
   "name": "python3"
  },
  "language_info": {
   "codemirror_mode": {
    "name": "ipython",
    "version": 3
   },
   "file_extension": ".py",
   "mimetype": "text/x-python",
   "name": "python",
   "nbconvert_exporter": "python",
   "pygments_lexer": "ipython3",
   "version": "3.6.8"
  }
 },
 "nbformat": 4,
 "nbformat_minor": 2
}
