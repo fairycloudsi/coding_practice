{
 "cells": [
  {
   "cell_type": "markdown",
   "metadata": {},
   "source": [
    "## 1218. Longest Arithmetic Subsequence of Given Difference \n",
    "\n",
    "Given an integer array arr and an integer difference, return the length of the longest subsequence in arr which is an arithmetic sequence such that the difference between adjacent elements in the subsequence equals difference. \n",
    "\n",
    "**Example 1:**\n",
    "\n",
    "Input: arr = [1,2,3,4], difference = 1 \n",
    "\n",
    "Output: 4 \n",
    "\n",
    "Explanation: The longest arithmetic subsequence is [1,2,3,4]\n",
    "\n",
    "**Example 2:**\n",
    "\n",
    "Input: arr = [1,3,5,7], difference = 1\n",
    "\n",
    "Output: 1 \n",
    "\n",
    "Explanation: The longest arithmetic subsequence is any single element. \n",
    "\n",
    "**Example 3:** \n",
    "\n",
    "Input: arr = [1, 5, 7, 8, 5, 3, 4, 2, 1], difference = -2\n",
    "\n",
    "Output: 4\n",
    "\n",
    "Explanation: The longest arithmetic subsequence is [7,5,3,1]"
   ]
  },
  {
   "cell_type": "code",
   "execution_count": 13,
   "metadata": {},
   "outputs": [],
   "source": [
    "def longestSubsequence(arr: list, difference: int) -> int:\n",
    "    \n",
    "    n = len(arr)\n",
    "    \n",
    "    if n == 0:\n",
    "        return 0 \n",
    "    \n",
    "    dp = {}\n",
    "    \n",
    "    for i in arr:\n",
    "        if i- difference in dp:\n",
    "            dp[i] = dp[i- difference] + 1\n",
    "        else:\n",
    "            dp[i] = 1 \n",
    "    \n",
    "    \n",
    "    print(dp)\n",
    "    max_ = 0 \n",
    "    for i in dp:\n",
    "        max_ = max(max_, dp[i])\n",
    "    return max_\n",
    "    \n",
    "    "
   ]
  },
  {
   "cell_type": "code",
   "execution_count": 14,
   "metadata": {},
   "outputs": [
    {
     "name": "stdout",
     "output_type": "stream",
     "text": [
      "{1: 4, 5: 2, 7: 1, 8: 1, 3: 3, 4: 1, 2: 2}\n"
     ]
    },
    {
     "data": {
      "text/plain": [
       "4"
      ]
     },
     "execution_count": 14,
     "metadata": {},
     "output_type": "execute_result"
    }
   ],
   "source": [
    "arr = [1, 5, 7, 8, 5, 3, 4, 2, 1]\n",
    "\n",
    "difference = -2\n",
    "\n",
    "longestSubsequence(arr, difference)"
   ]
  },
  {
   "cell_type": "markdown",
   "metadata": {},
   "source": [
    "## 638. Shopping Offers\n",
    "\n",
    "In LeetCode Store, there are some kinds of items to sell. Each item has a price. \n",
    "\n",
    "However, there are some special offers, and a special offer consists of one or more different kinds of items with a sale price. \n",
    "\n",
    "You are given the each item's price, a set of special offers, and the number we need to buy for each item. The job is to output the lowest price you have to pay for exactly certain items as given, where you could make optimal use of the speical offers. \n",
    "\n",
    "Each special offer is represented in the form of an array, the last number represents the price you need to pay for this special offer, other numbers represents how many specific items you could get if you buy this offer. \n",
    "\n",
    "You could use any of special offers as many times as you want. \n",
    "\n",
    "**Example 1:**\n",
    "\n",
    "Input: [2, 5], [[3,0,5], [1,2,10], [3,2]]\n",
    "\n",
    "Output: 14 \n",
    "\n",
    "Explanation: \n",
    "\n",
    "There are two kinds of items, A and B. Their prices are $2 and $5 respectively. \n",
    "\n",
    "In special offer 1, you can pay $ 5 for 3A and 0B. In special offer 2, you can pay $ 10 for 1A and 2B. You need to buy 3A and 2B, so you may pay $ 10 for 1A and 2B (speical offer #2), and #4 for 2A. \n",
    "\n",
    "\n",
    "**Example 2:**\n",
    "\n",
    "Input: [2,3,4], [[1,1,0,4], [2,2,1,9], [1,2,1]]\n",
    "\n",
    "Output: 11\n",
    "\n",
    "Explanation:\n",
    "\n",
    "The price of A is $2, $3 for B and $4 for C.\n",
    "\n",
    "You may pay $4 for 1A and 1B, and $9 for 2A, 2B and 1C. \n",
    "\n",
    "You need to buy 1A, 2B and 1C, so you may pay $4 for 1A and 1B (special offer #1), and $3 for 1B, $4 for 1C. \n",
    "\n",
    "You cannot add more items, though only $9 for 2A, 2B and 1C. "
   ]
  },
  {
   "cell_type": "code",
   "execution_count": null,
   "metadata": {},
   "outputs": [],
   "source": [
    "def shoppingOffers(price: list, special: list, needs: list) -> int:\n",
    "    \n",
    "    "
   ]
  },
  {
   "cell_type": "markdown",
   "metadata": {},
   "source": [
    "## 38. Count and Say\n",
    "\n",
    "The count-and-say sequence is the sequence of integers with the first five terms as following:\n",
    "\n",
    "1. 1\n",
    "\n",
    "2. 11\n",
    "\n",
    "3. 21\n",
    "\n",
    "4. 1211\n",
    "\n",
    "5. 111221\n",
    "\n",
    "1 is read off as \"one 1\" or 11.\n",
    "\n",
    "11 is read off as \"two 1's\" or 21. \n",
    "\n",
    "21 is read off as \"one 2\", then \"one 1\" or 1211. \n",
    "\n",
    "Given an integer n where 1 \\leq n \\leq 30, generate the nth term of the count-and-say sequence. You can do so recursively, in other words from the previous member read off the digits, counting the number of digits in groups of the same digit. \n",
    "\n",
    "Note: Each term of the sequence of integers will be represented as a string. "
   ]
  },
  {
   "cell_type": "code",
   "execution_count": 38,
   "metadata": {},
   "outputs": [],
   "source": [
    "def countAndSay(n: int) -> str:\n",
    "    \n",
    "    if n == 1:\n",
    "        return \"1\"\n",
    "    \n",
    "    s = countAndSay(n-1)\n",
    "    \n",
    "    m = len(s)\n",
    "    count = 1 \n",
    "    result = []\n",
    "    print(m)\n",
    "    \n",
    "    for i in range(m):\n",
    "        if  i+1 < m and s[i+1] == s[i]:\n",
    "            count += 1\n",
    "            print(count)\n",
    "        elif i+1 <m and s[i+1] != s[i]:\n",
    "            result.append(str(count))\n",
    "            result.append(s[i])\n",
    "            count = 1 \n",
    "        elif i+1 ==m and s[i] == s[i-1]:\n",
    "            result.append(str(count))\n",
    "            result.append(s[i])\n",
    "        else:\n",
    "            count = 1 \n",
    "            result.append(str(count))\n",
    "            result.append(s[i])\n",
    "    \n",
    "    return ''.join(result)\n",
    "        \n",
    "            \n",
    "        \n",
    "        "
   ]
  },
  {
   "cell_type": "code",
   "execution_count": 39,
   "metadata": {},
   "outputs": [
    {
     "name": "stdout",
     "output_type": "stream",
     "text": [
      "1\n"
     ]
    },
    {
     "data": {
      "text/plain": [
       "'11'"
      ]
     },
     "execution_count": 39,
     "metadata": {},
     "output_type": "execute_result"
    }
   ],
   "source": [
    "countAndSay(2)"
   ]
  },
  {
   "cell_type": "code",
   "execution_count": 40,
   "metadata": {},
   "outputs": [
    {
     "name": "stdout",
     "output_type": "stream",
     "text": [
      "1\n",
      "2\n",
      "2\n"
     ]
    },
    {
     "data": {
      "text/plain": [
       "'21'"
      ]
     },
     "execution_count": 40,
     "metadata": {},
     "output_type": "execute_result"
    }
   ],
   "source": [
    "countAndSay(3)"
   ]
  },
  {
   "cell_type": "code",
   "execution_count": 41,
   "metadata": {},
   "outputs": [
    {
     "data": {
      "text/plain": [
       "'1'"
      ]
     },
     "execution_count": 41,
     "metadata": {},
     "output_type": "execute_result"
    }
   ],
   "source": [
    "countAndSay(1)"
   ]
  },
  {
   "cell_type": "code",
   "execution_count": 42,
   "metadata": {},
   "outputs": [
    {
     "name": "stdout",
     "output_type": "stream",
     "text": [
      "1\n",
      "2\n",
      "2\n",
      "2\n"
     ]
    },
    {
     "data": {
      "text/plain": [
       "'1211'"
      ]
     },
     "execution_count": 42,
     "metadata": {},
     "output_type": "execute_result"
    }
   ],
   "source": [
    "countAndSay(4)"
   ]
  },
  {
   "cell_type": "code",
   "execution_count": 43,
   "metadata": {},
   "outputs": [
    {
     "name": "stdout",
     "output_type": "stream",
     "text": [
      "1\n",
      "2\n",
      "2\n",
      "2\n",
      "4\n",
      "2\n"
     ]
    },
    {
     "data": {
      "text/plain": [
       "'111221'"
      ]
     },
     "execution_count": 43,
     "metadata": {},
     "output_type": "execute_result"
    }
   ],
   "source": [
    "countAndSay(5)"
   ]
  },
  {
   "cell_type": "markdown",
   "metadata": {},
   "source": [
    "## 63. Unique Paths II\n",
    "\n",
    "A robot is located at the top-left corner of a m \\times n grid (marked 'Start' in the diagram below).\n",
    "\n",
    "The robot can only move either down or right at any point in time. The robot is trying to reach the bottom-right corner of the grid (marked \"Finish\" in the diagram below). \n",
    "\n",
    "Now consider if some obstacles are added to the grids. How many unique paths would there be? \n",
    "\n",
    "**Example 1:**\n",
    "\n",
    "Input: \n",
    "[\n",
    "    [0,0,0],\n",
    "    [0,1,0],\n",
    "    [0,0,0]\n",
    "]\n",
    "\n",
    "Output: 2 \n",
    "\n",
    "Explanation: \n",
    "\n",
    "There is one obstacle in the middle of the 3*3 grid above.\n",
    "\n",
    "There are two ways to reach the bottom-right corner:\n",
    "\n",
    "1. Right -> Right -> Down -> Down \n",
    "\n",
    "2. Down -> Down -> Right -> Right "
   ]
  },
  {
   "cell_type": "code",
   "execution_count": null,
   "metadata": {},
   "outputs": [],
   "source": [
    "def uniquePathsWithObstacles(obstacleGrid: list) -> int:\n",
    "    \n",
    "    "
   ]
  },
  {
   "cell_type": "markdown",
   "metadata": {},
   "source": [
    "## 1323. Maximum 69 Number \n",
    "\n",
    "Given a positive integer num consisting only of digits 6 and 9. \n",
    "\n",
    "Return the maximum number you can get by changing at most one digit (6 becomes 9 and 9 becomes 6). \n",
    "\n",
    "**Example 1:**\n",
    "\n",
    "Input: num = 9669\n",
    "\n",
    "Output: 9969\n",
    "\n",
    "**Example 2:**\n",
    "\n",
    "Input: num = 9996\n",
    "\n",
    "Output: 9999\n",
    "\n",
    "**Example 3:**\n",
    "\n",
    "Input: num = 9999\n",
    "\n",
    "Output: 9999"
   ]
  },
  {
   "cell_type": "code",
   "execution_count": 45,
   "metadata": {},
   "outputs": [],
   "source": [
    "num = 9699\n",
    "\n",
    "res = list(map(int, str(num)))"
   ]
  },
  {
   "cell_type": "code",
   "execution_count": 46,
   "metadata": {},
   "outputs": [
    {
     "data": {
      "text/plain": [
       "[9, 6, 9, 9]"
      ]
     },
     "execution_count": 46,
     "metadata": {},
     "output_type": "execute_result"
    }
   ],
   "source": [
    "res"
   ]
  },
  {
   "cell_type": "code",
   "execution_count": 61,
   "metadata": {},
   "outputs": [],
   "source": [
    "def maximum69Number(num: int)-> int:\n",
    "    \n",
    "    res = list(str(num))\n",
    "    \n",
    "    for i in range(len(res)):\n",
    "        if res[i] == '6':\n",
    "            print('True')\n",
    "            res[i] = '9'\n",
    "            break\n",
    "            \n",
    "            \n",
    "    return int(\"\".join(res))\n",
    "            \n",
    "            "
   ]
  },
  {
   "cell_type": "code",
   "execution_count": 58,
   "metadata": {},
   "outputs": [
    {
     "name": "stdout",
     "output_type": "stream",
     "text": [
      "True\n"
     ]
    },
    {
     "data": {
      "text/plain": [
       "9999"
      ]
     },
     "execution_count": 58,
     "metadata": {},
     "output_type": "execute_result"
    }
   ],
   "source": [
    "num = 9699\n",
    "\n",
    "maximum69Number(num)"
   ]
  },
  {
   "cell_type": "code",
   "execution_count": 59,
   "metadata": {},
   "outputs": [
    {
     "data": {
      "text/plain": [
       "9999"
      ]
     },
     "execution_count": 59,
     "metadata": {},
     "output_type": "execute_result"
    }
   ],
   "source": [
    "num = 9999\n",
    "\n",
    "maximum69Number(num)"
   ]
  },
  {
   "cell_type": "code",
   "execution_count": 62,
   "metadata": {},
   "outputs": [
    {
     "name": "stdout",
     "output_type": "stream",
     "text": [
      "True\n"
     ]
    },
    {
     "data": {
      "text/plain": [
       "9999"
      ]
     },
     "execution_count": 62,
     "metadata": {},
     "output_type": "execute_result"
    }
   ],
   "source": [
    "num = 9996\n",
    "\n",
    "maximum69Number(num)"
   ]
  },
  {
   "cell_type": "markdown",
   "metadata": {},
   "source": [
    "## 313. Super Ugly Number \n",
    "\n",
    "Write a program to find the nth super ugly number. Super ugly numbers are positive numbers whose all prime factors are in the given prime list primes of size k. \n",
    "\n",
    "**Example:**\n",
    "\n",
    "Input: n = 12, primes = [2, 7, 13, 19]\n",
    "\n",
    "Output: 32\n",
    "\n",
    "Explanation:\n",
    "\n",
    "[1, 2, 4, 7, 8, 13, 14, 16, 19, 26, 28, 32] is the sequence of the first 12 super ugly numbers given primes = [2, 7, 13, 19] of size 4. "
   ]
  },
  {
   "cell_type": "code",
   "execution_count": null,
   "metadata": {},
   "outputs": [],
   "source": []
  }
 ],
 "metadata": {
  "kernelspec": {
   "display_name": "Python 3",
   "language": "python",
   "name": "python3"
  },
  "language_info": {
   "codemirror_mode": {
    "name": "ipython",
    "version": 3
   },
   "file_extension": ".py",
   "mimetype": "text/x-python",
   "name": "python",
   "nbconvert_exporter": "python",
   "pygments_lexer": "ipython3",
   "version": "3.7.4"
  }
 },
 "nbformat": 4,
 "nbformat_minor": 2
}
