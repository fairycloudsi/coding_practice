{
 "cells": [
  {
   "cell_type": "markdown",
   "metadata": {},
   "source": [
    "DP is a general technique for solving optimization, search, and counting problems that can be decomposed into subproblems. You should consider using DP whenever you have to make choices to arrive at the solution, specifically, when the solution relates to subproblems. "
   ]
  },
  {
   "cell_type": "markdown",
   "metadata": {},
   "source": [
    "## Fibonacci number F(n)\n",
    "\n",
    "The nth Fibonacci number F(n) is given by the equation F(n) = F(n-1) + F(n-2), with F(0) = 0 and F(1) = 1. A function to compute F(n) taht recursively invokes itself has a time complexity that is exponential in n. This is because the recursive function computes some F(i)s repeatedly.\n",
    "\n",
    "Caching intermediate results makes the time complexity for computing the nth Fibonacci number linear in n, albeit at the expense of O(n) storage. "
   ]
  },
  {
   "cell_type": "code",
   "execution_count": 1,
   "metadata": {},
   "outputs": [],
   "source": [
    "cache = {}\n",
    "\n",
    "def fibonacci(n:int) -> int:\n",
    "    if n <= 1:\n",
    "        return n\n",
    "    elif n not in cache:\n",
    "        cache[n] = fibonacci(n-1) + fibonacci(n-2)\n",
    "    return cache[n]"
   ]
  },
  {
   "cell_type": "code",
   "execution_count": 2,
   "metadata": {},
   "outputs": [
    {
     "data": {
      "text/plain": [
       "5"
      ]
     },
     "execution_count": 2,
     "metadata": {},
     "output_type": "execute_result"
    }
   ],
   "source": [
    "fibonacci(5)"
   ]
  },
  {
   "cell_type": "code",
   "execution_count": 3,
   "metadata": {},
   "outputs": [
    {
     "data": {
      "text/plain": [
       "{2: 1, 3: 2, 4: 3, 5: 5}"
      ]
     },
     "execution_count": 3,
     "metadata": {},
     "output_type": "execute_result"
    }
   ],
   "source": [
    "cache"
   ]
  },
  {
   "cell_type": "code",
   "execution_count": 4,
   "metadata": {},
   "outputs": [
    {
     "data": {
      "text/plain": [
       "89"
      ]
     },
     "execution_count": 4,
     "metadata": {},
     "output_type": "execute_result"
    }
   ],
   "source": [
    "fibonacci(11)"
   ]
  },
  {
   "cell_type": "code",
   "execution_count": 5,
   "metadata": {},
   "outputs": [
    {
     "data": {
      "text/plain": [
       "{2: 1, 3: 2, 4: 3, 5: 5, 6: 8, 7: 13, 8: 21, 9: 34, 10: 55, 11: 89}"
      ]
     },
     "execution_count": 5,
     "metadata": {},
     "output_type": "execute_result"
    }
   ],
   "source": [
    "cache"
   ]
  },
  {
   "cell_type": "markdown",
   "metadata": {},
   "source": [
    "Minimizing cache space is a recurring theme in DP. Now we show a program that computes F(n) in O(n) time and O(1) space. Conceptually, in contrast to the above program, this program iteratively fills in the cache in a bottom-up fashion, which allows it to reuse cache storage to reduce the space complexity of the cache. "
   ]
  },
  {
   "cell_type": "code",
   "execution_count": 9,
   "metadata": {},
   "outputs": [],
   "source": [
    "def fibonacci_2(n: int) -> int:\n",
    "    if n <= 1:\n",
    "        return n\n",
    "    \n",
    "    f_minus_2, f_minus_1 = 0, 1\n",
    "    for _ in range(1,n):\n",
    "        f = f_minus_2 + f_minus_1\n",
    "        f_minus_2, f_minus_1 = f_minus_1, f\n",
    "    return f_minus_1"
   ]
  },
  {
   "cell_type": "code",
   "execution_count": 10,
   "metadata": {},
   "outputs": [
    {
     "data": {
      "text/plain": [
       "5"
      ]
     },
     "execution_count": 10,
     "metadata": {},
     "output_type": "execute_result"
    }
   ],
   "source": [
    "fibonacci_2(5)"
   ]
  },
  {
   "cell_type": "markdown",
   "metadata": {},
   "source": [
    "The key to solving a DP problem efficiently is finding a way to break the problem into subproblems such that \n",
    "* the original problem can be solved relatively easily once solutions to the subproblems are available, and \n",
    "* these subproblem solutions are cached. \n",
    "\n",
    "Usually, but not always, the subproblems are easy to identify. "
   ]
  },
  {
   "cell_type": "markdown",
   "metadata": {},
   "source": [
    "## Maximum sun over all subarrays \n",
    "\n",
    "Find the maximum sum over all subarrays of a given array of integers. \n",
    "\n",
    "Try to solve this problem by using DP. Suppose we know the maximum subarray ending at i(inclusive), for all i<j--call these maximum subarray sums B[i]. Then there are only two possibilities for the maximum subarray that ends at j(inclusive):\n",
    "\n",
    "* It is just the element A[j], or\n",
    "* it includes earlier entries, in which case it is B[j-1] + A[j].\n",
    "\n",
    "Therefore B[i] = max(A[i], B[i-1] + A[i]). Since the maximum subarray ends at some index, the answer is the maximum entry in B (or 0 if entries are negative). "
   ]
  },
  {
   "cell_type": "code",
   "execution_count": 11,
   "metadata": {},
   "outputs": [],
   "source": [
    "def find_maximum_subarray(A:list) -> int:\n",
    "    max_seen = max_end = 0\n",
    "    for a in A:\n",
    "        max_end = max(a, a + max_end)\n",
    "        max_seen = max(max_seen, max_end)\n",
    "    return max_seen"
   ]
  },
  {
   "cell_type": "code",
   "execution_count": 12,
   "metadata": {},
   "outputs": [
    {
     "data": {
      "text/plain": [
       "5"
      ]
     },
     "execution_count": 12,
     "metadata": {},
     "output_type": "execute_result"
    }
   ],
   "source": [
    "A = [-2, 3,1,-7,3,2,-1]\n",
    "find_maximum_subarray(A)"
   ]
  },
  {
   "cell_type": "markdown",
   "metadata": {},
   "source": [
    "The time spent per index is constant, leading to an O(n) time. In our implementation, we recycle space, which leads to an O(1) space complexity. "
   ]
  },
  {
   "cell_type": "markdown",
   "metadata": {},
   "source": [
    "## 16.1 Count the number of score combinations\n",
    "\n",
    "In an American football game, a play can lead to 2 points (safety), 3 points (field goal), or 7 points (touchdown, assuming the extra point). Many different combinations of 2,3, and 7 point plays can make up a final score. \n",
    "\n",
    "Write a program that takes a final score and scores for individual plays, and returns the number of combinations of plays that result in the final score. "
   ]
  },
  {
   "cell_type": "code",
   "execution_count": 24,
   "metadata": {},
   "outputs": [],
   "source": [
    "def num_combinations_for_final_score(final_score: int,\n",
    "                                    individual_play_scores: list) -> int:\n",
    "    # One way to reach 0 \n",
    "    num_combinations_for_score = [[1] + [0]*final_score\n",
    "                                 for _ in individual_play_scores]\n",
    "    \n",
    "    for j in range(1,final_score+1):\n",
    "        for i in range(len(individual_play_scores)):\n",
    "            without_this_play = (num_combinations_for_score[i-1][j]\n",
    "                                if i>= 1 else 0)\n",
    "            with_this_play = (num_combinations_for_score[i][j -individual_play_scores[i]]\n",
    "                             if j >= individual_play_scores[i] else 0)\n",
    "            num_combinations_for_score[i][j] = (\n",
    "                without_this_play + with_this_play)\n",
    "            \n",
    "    return num_combinations_for_score"
   ]
  },
  {
   "cell_type": "code",
   "execution_count": 25,
   "metadata": {},
   "outputs": [
    {
     "data": {
      "text/plain": [
       "[[1, 0, 1, 0, 1, 0, 1, 0, 1, 0, 1, 0, 1],\n",
       " [1, 0, 1, 1, 1, 1, 2, 1, 2, 2, 2, 2, 3],\n",
       " [1, 0, 1, 1, 1, 1, 2, 2, 2, 3, 3, 3, 4]]"
      ]
     },
     "execution_count": 25,
     "metadata": {},
     "output_type": "execute_result"
    }
   ],
   "source": [
    "num_combinations_for_final_score(12, [2,3,7])"
   ]
  },
  {
   "cell_type": "code",
   "execution_count": 17,
   "metadata": {},
   "outputs": [],
   "source": [
    "final_score = 12\n",
    "individual_play_scores = [2,3,7]"
   ]
  },
  {
   "cell_type": "code",
   "execution_count": 18,
   "metadata": {},
   "outputs": [],
   "source": [
    "num_combinations_for_score = [[1] +[0]*final_score]"
   ]
  },
  {
   "cell_type": "code",
   "execution_count": 19,
   "metadata": {},
   "outputs": [
    {
     "data": {
      "text/plain": [
       "[[1, 0, 0, 0, 0, 0, 0, 0, 0, 0, 0, 0, 0]]"
      ]
     },
     "execution_count": 19,
     "metadata": {},
     "output_type": "execute_result"
    }
   ],
   "source": [
    "num_combinations_for_score"
   ]
  },
  {
   "cell_type": "code",
   "execution_count": 20,
   "metadata": {},
   "outputs": [],
   "source": [
    "num_combinations_for_score = [[1] +[0]*final_score for _ in individual_play_scores]"
   ]
  },
  {
   "cell_type": "code",
   "execution_count": 21,
   "metadata": {},
   "outputs": [
    {
     "data": {
      "text/plain": [
       "[[1, 0, 0, 0, 0, 0, 0, 0, 0, 0, 0, 0, 0],\n",
       " [1, 0, 0, 0, 0, 0, 0, 0, 0, 0, 0, 0, 0],\n",
       " [1, 0, 0, 0, 0, 0, 0, 0, 0, 0, 0, 0, 0]]"
      ]
     },
     "execution_count": 21,
     "metadata": {},
     "output_type": "execute_result"
    }
   ],
   "source": [
    "num_combinations_for_score"
   ]
  },
  {
   "cell_type": "markdown",
   "metadata": {},
   "source": [
    "The time complexity is O(sn) (two loops, one to s, the other to n) and the space complexity is O(sn) (the size of the 2D array). "
   ]
  },
  {
   "cell_type": "markdown",
   "metadata": {},
   "source": [
    "## 16.2 Compute the Levenshtein Distance \n",
    "\n",
    "Spell checkers make suggestions for misspelled words. Given a misspelled string, a spell checker should return words in the dictionary which are close to the misspelled string. \n",
    "\n",
    "In 1965, Vladimir Levelshtein defined the distance between two words as the minimum number of \"edits\" it would take to transform the misspelled word into a correct word, where a single edit is the insertion, deletion, or substitution of a single character. For example, the Levelshtein distance between \"Saturday\" to \"Sundays\" is 4--delete the first 'a' and 't', substitute 'r' by 'n' and insert the trailing 's'. \n",
    "\n",
    "Write a program that takes two strings and computes the minimum number of edits needed to transform the first string into the second string. \n",
    "\n",
    "**Sol:** \n",
    "We now make some observations:\n",
    "* If the last character of A equals the last character of B, then E(A[0, a-1], B[0, b-1]) = E(A[0, a-2], B[0,b-2]).\n",
    "* If the last character of A is not equal to the last character of B then\n",
    "E(A[0,a-1], B[0,b-1]) = 1 + min(E(A[0,a-2], B[0,b-2]), E(A[0,a-1], B[0,b-2]), E(A[0,a-2], B[0,b-1])). "
   ]
  },
  {
   "cell_type": "code",
   "execution_count": 36,
   "metadata": {},
   "outputs": [],
   "source": [
    "def levenshtein_distance(A: str, B:str) -> int:\n",
    "    def compute_distance_between_prefixes(A_idx, B_idx):\n",
    "        if A_idx < 0:\n",
    "            # A is empty so add all of B's characters \n",
    "            return B_idx + 1\n",
    "        if B_idx < 0:\n",
    "            # B is empty so add all of A's characters \n",
    "            return A_idx + 1\n",
    "        \n",
    "        if distance_between__prefixes[A_idx][B_idx] == -1:\n",
    "            if A[A_idx] == B[B_idx]:\n",
    "                distance_between__prefixes[A_idx][B_idx] = (\n",
    "                    compute_distance_between_prefixes(A_idx -1, B_idx - 1))\n",
    "            else:\n",
    "                sub_last = compute_distance_between_prefixes(\n",
    "                A_idx -1 , B_idx -1 )\n",
    "                add_last = compute_distance_between_prefixes(\n",
    "                A_idx -1 , B_idx)\n",
    "                del_last = compute_distance_between_prefixes(\n",
    "                A_idx, B_idx -1)\n",
    "                distance_between__prefixes[A_idx][B_idx] = (\n",
    "                1 + min(sub_last, add_last, del_last))\n",
    "                \n",
    "        return distance_between__prefixes[A_idx][B_idx]\n",
    "    \n",
    "    distance_between__prefixes = [[-1] * len(B) for _ in A]\n",
    "    compute_distance_between_prefixes(len(A)-1, len(B)-1)\n",
    "    return distance_between__prefixes"
   ]
  },
  {
   "cell_type": "code",
   "execution_count": 37,
   "metadata": {},
   "outputs": [
    {
     "data": {
      "text/plain": [
       "[[1, 2, 3], [1, 2, 3], [-1, 1, 2]]"
      ]
     },
     "execution_count": 37,
     "metadata": {},
     "output_type": "execute_result"
    }
   ],
   "source": [
    "A = 'abd'\n",
    "B = 'bdc'\n",
    "\n",
    "levenshtein_distance(A,B)"
   ]
  },
  {
   "cell_type": "code",
   "execution_count": 38,
   "metadata": {},
   "outputs": [
    {
     "data": {
      "text/plain": [
       "[[1, 2, 3, 4, 5, 6, 7, 8, -1],\n",
       " [2, 2, 3, 4, 5, 6, 7, 8, 8],\n",
       " [3, 2, 3, 4, 5, 6, 7, 7, 8],\n",
       " [4, 3, 3, 4, 5, 6, 6, 7, 8],\n",
       " [5, 4, 4, 3, 4, 5, 6, 7, 8],\n",
       " [6, 5, 5, 4, 4, 5, 6, 7, 8],\n",
       " [7, 6, 6, 5, 5, 5, 6, 6, 7],\n",
       " [8, 7, 7, 6, 6, 5, 6, 7, 7],\n",
       " [-1, -1, -1, -1, 6, 6, 6, 7, 8]]"
      ]
     },
     "execution_count": 38,
     "metadata": {},
     "output_type": "execute_result"
    }
   ],
   "source": [
    "A = 'Carthorse'\n",
    "B = 'Orchestra'\n",
    "\n",
    "levenshtein_distance(A,B)"
   ]
  },
  {
   "cell_type": "markdown",
   "metadata": {},
   "source": [
    "The value E(A[0,a-1], B[0,b-1]) takes time O(1) to compute once E(A[0,k], B[0,l]) is known for all k < a and l < b. This implies O(ab) time complexity for the algorithm. Our implementation uses O(ab) space. "
   ]
  },
  {
   "cell_type": "markdown",
   "metadata": {},
   "source": [
    "Recursion. Use 2-d array as cache. "
   ]
  },
  {
   "cell_type": "markdown",
   "metadata": {},
   "source": [
    "## 16.3 Count the number of ways to traverse a 2D array \n",
    "\n",
    "In this problem you are to count the number of ways of starting at the top-left corner of a 2D array and getting to the bottom-right corner. All moves must either go right or down. \n",
    "\n",
    "Write a program that counts how many ways you can go from the top-left to the bottom-right in a 2D array. \n",
    "\n",
    "**Hint:** If i>0 and j>0, you can get to (i,j) from (i-1,j) or(i,j-1). "
   ]
  },
  {
   "cell_type": "code",
   "execution_count": 45,
   "metadata": {},
   "outputs": [],
   "source": [
    "def number_of_ways(n: int, m:int) -> int:\n",
    "    def compute_numer_of_ways_to_xy(x, y):\n",
    "        if x == y == 0:\n",
    "            number_of_ways[x][y] = 1\n",
    "        \n",
    "        if number_of_ways[x][y] == 0:\n",
    "            ways_top = 0 if x == 0 else compute_numer_of_ways_to_xy(x-1, y)\n",
    "            ways_left = 0 if y == 0 else compute_numer_of_ways_to_xy(x, y-1)\n",
    "            number_of_ways[x][y] = ways_top + ways_left\n",
    "            \n",
    "        return number_of_ways[x][y]\n",
    "    \n",
    "    number_of_ways = [[0]*m for _ in range(n)]\n",
    "    compute_numer_of_ways_to_xy(n-1, m-1)\n",
    "    return number_of_ways"
   ]
  },
  {
   "cell_type": "code",
   "execution_count": 46,
   "metadata": {},
   "outputs": [
    {
     "data": {
      "text/plain": [
       "[[1, 1, 1, 1, 1],\n",
       " [1, 2, 3, 4, 5],\n",
       " [1, 3, 6, 10, 15],\n",
       " [1, 4, 10, 20, 35],\n",
       " [1, 5, 15, 35, 70]]"
      ]
     },
     "execution_count": 46,
     "metadata": {},
     "output_type": "execute_result"
    }
   ],
   "source": [
    "number_of_ways(5,5)"
   ]
  },
  {
   "cell_type": "code",
   "execution_count": 47,
   "metadata": {},
   "outputs": [
    {
     "data": {
      "text/plain": [
       "[[1, 1, 1, 1, 1, 1],\n",
       " [1, 2, 3, 4, 5, 6],\n",
       " [1, 3, 6, 10, 15, 21],\n",
       " [1, 4, 10, 20, 35, 56],\n",
       " [1, 5, 15, 35, 70, 126],\n",
       " [1, 6, 21, 56, 126, 252]]"
      ]
     },
     "execution_count": 47,
     "metadata": {},
     "output_type": "execute_result"
    }
   ],
   "source": [
    "number_of_ways(6,6)"
   ]
  },
  {
   "cell_type": "markdown",
   "metadata": {},
   "source": [
    "The time complexity is O(nm) and the space complexity is O(nm), where n is the number of rows and m is the number of cols. "
   ]
  },
  {
   "cell_type": "code",
   "execution_count": null,
   "metadata": {},
   "outputs": [],
   "source": []
  }
 ],
 "metadata": {
  "kernelspec": {
   "display_name": "Python 3",
   "language": "python",
   "name": "python3"
  },
  "language_info": {
   "codemirror_mode": {
    "name": "ipython",
    "version": 3
   },
   "file_extension": ".py",
   "mimetype": "text/x-python",
   "name": "python",
   "nbconvert_exporter": "python",
   "pygments_lexer": "ipython3",
   "version": "3.6.8"
  }
 },
 "nbformat": 4,
 "nbformat_minor": 2
}
