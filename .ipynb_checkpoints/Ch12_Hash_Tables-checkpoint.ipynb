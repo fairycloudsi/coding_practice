{
 "cells": [
  {
   "cell_type": "markdown",
   "metadata": {},
   "source": [
    "There are multiple hash table-based data structures commonly used in Python--set, dict, collections.defaultdict, and collections.Counter. The difference between set and the ohter three is that is set simply stores keys, whereas the ohters store key-value pairs. All have the property that they do not allow for duplicate keys, unlike, for example, list. \n",
    "\n",
    "In a dict, accessing value associated with a key that is not present lead to a KeyError exception. However, a collections.defaultdict returns the default value for the type that was specified when the collection was instantiated, e.g., if d = collections.defaultdict(list), then if k not in d then d[k] is []. A collections.Counter is used for counting the number of occurrences of keys, with a number of set-like operations, as illustrated below. "
   ]
  },
  {
   "cell_type": "code",
   "execution_count": 2,
   "metadata": {},
   "outputs": [],
   "source": [
    "import collections"
   ]
  },
  {
   "cell_type": "code",
   "execution_count": 3,
   "metadata": {},
   "outputs": [
    {
     "data": {
      "text/plain": [
       "Counter({'a': 4, 'b': 3})"
      ]
     },
     "execution_count": 3,
     "metadata": {},
     "output_type": "execute_result"
    }
   ],
   "source": [
    "c = collections.Counter(a = 3, b =1)\n",
    "d = collections.Counter(a = 1, b = 2)\n",
    "# add two counters toghether: c[x] + d[x]\n",
    "c + d"
   ]
  },
  {
   "cell_type": "code",
   "execution_count": 4,
   "metadata": {},
   "outputs": [
    {
     "data": {
      "text/plain": [
       "Counter({'a': 2})"
      ]
     },
     "execution_count": 4,
     "metadata": {},
     "output_type": "execute_result"
    }
   ],
   "source": [
    "# substract (keeping only positive counts)\n",
    "c -  d"
   ]
  },
  {
   "cell_type": "code",
   "execution_count": 5,
   "metadata": {},
   "outputs": [
    {
     "data": {
      "text/plain": [
       "Counter({'a': 1, 'b': 1})"
      ]
     },
     "execution_count": 5,
     "metadata": {},
     "output_type": "execute_result"
    }
   ],
   "source": [
    "# Intersection: min(c[x], d[x])\n",
    "c & d"
   ]
  },
  {
   "cell_type": "code",
   "execution_count": 6,
   "metadata": {},
   "outputs": [
    {
     "data": {
      "text/plain": [
       "Counter({'a': 3, 'b': 2})"
      ]
     },
     "execution_count": 6,
     "metadata": {},
     "output_type": "execute_result"
    }
   ],
   "source": [
    "# Union: max(c[x], d[x])\n",
    "c | d"
   ]
  },
  {
   "cell_type": "code",
   "execution_count": 7,
   "metadata": {},
   "outputs": [],
   "source": [
    "A = [1,2,4,5,2,4,6,3,2]\n",
    "Aset = set(A)"
   ]
  },
  {
   "cell_type": "code",
   "execution_count": 8,
   "metadata": {},
   "outputs": [
    {
     "data": {
      "text/plain": [
       "{1, 2, 3, 4, 5, 6}"
      ]
     },
     "execution_count": 8,
     "metadata": {},
     "output_type": "execute_result"
    }
   ],
   "source": [
    "Aset"
   ]
  },
  {
   "cell_type": "code",
   "execution_count": 9,
   "metadata": {},
   "outputs": [],
   "source": [
    "Aset.add(9)"
   ]
  },
  {
   "cell_type": "code",
   "execution_count": 10,
   "metadata": {},
   "outputs": [
    {
     "data": {
      "text/plain": [
       "{1, 2, 3, 4, 5, 6, 9}"
      ]
     },
     "execution_count": 10,
     "metadata": {},
     "output_type": "execute_result"
    }
   ],
   "source": [
    "Aset"
   ]
  },
  {
   "cell_type": "code",
   "execution_count": 11,
   "metadata": {},
   "outputs": [],
   "source": [
    "Aset.remove(6)"
   ]
  },
  {
   "cell_type": "code",
   "execution_count": 12,
   "metadata": {},
   "outputs": [
    {
     "data": {
      "text/plain": [
       "{1, 2, 3, 4, 5, 9}"
      ]
     },
     "execution_count": 12,
     "metadata": {},
     "output_type": "execute_result"
    }
   ],
   "source": [
    "Aset"
   ]
  },
  {
   "cell_type": "code",
   "execution_count": 13,
   "metadata": {},
   "outputs": [],
   "source": [
    "Aset.discard(5)"
   ]
  },
  {
   "cell_type": "code",
   "execution_count": 14,
   "metadata": {},
   "outputs": [
    {
     "data": {
      "text/plain": [
       "{1, 2, 3, 4, 9}"
      ]
     },
     "execution_count": 14,
     "metadata": {},
     "output_type": "execute_result"
    }
   ],
   "source": [
    "Aset"
   ]
  },
  {
   "cell_type": "code",
   "execution_count": 15,
   "metadata": {},
   "outputs": [],
   "source": [
    "newset = {1,2,3}"
   ]
  },
  {
   "cell_type": "code",
   "execution_count": 16,
   "metadata": {},
   "outputs": [
    {
     "data": {
      "text/plain": [
       "True"
      ]
     },
     "execution_count": 16,
     "metadata": {},
     "output_type": "execute_result"
    }
   ],
   "source": [
    "newset <= Aset"
   ]
  },
  {
   "cell_type": "code",
   "execution_count": 17,
   "metadata": {},
   "outputs": [
    {
     "ename": "KeyError",
     "evalue": "6",
     "output_type": "error",
     "traceback": [
      "\u001b[0;31m---------------------------------------------------------------------------\u001b[0m",
      "\u001b[0;31mKeyError\u001b[0m                                  Traceback (most recent call last)",
      "\u001b[0;32m<ipython-input-17-58ca77e79dc6>\u001b[0m in \u001b[0;36m<module>\u001b[0;34m()\u001b[0m\n\u001b[0;32m----> 1\u001b[0;31m \u001b[0mAset\u001b[0m\u001b[0;34m.\u001b[0m\u001b[0mremove\u001b[0m\u001b[0;34m(\u001b[0m\u001b[0;36m6\u001b[0m\u001b[0;34m)\u001b[0m\u001b[0;34m\u001b[0m\u001b[0m\n\u001b[0m",
      "\u001b[0;31mKeyError\u001b[0m: 6"
     ]
    }
   ],
   "source": [
    "Aset.remove(6)"
   ]
  },
  {
   "cell_type": "code",
   "execution_count": 18,
   "metadata": {},
   "outputs": [],
   "source": [
    "Aset.discard(6)"
   ]
  },
  {
   "cell_type": "markdown",
   "metadata": {},
   "source": [
    "The difference between remove() and discard() is remove() remove the element from the set if it not constained it raises a KeyError. On the other hand, discard() remove the element too if it is contained but if not contained does not raise any error. \n",
    "\n",
    "The basic operations on the three key-value collections are similar to those on set. One difference is with iterators-- iteration over a key-value collection yields the keys. To iterate over the key-value paris, iterave over items(); to iterate over values, uses values(). (The keys() method return iterator to the keys.)\n",
    "\n",
    "Not every type is \"hashable\", i.e., can be added to a set or used as a key in a dict. In particular, mutable containers are not hashable--this is to prevent a client from modifying an object after adding it to the container, since the lookup will then fail to find it if the slot that the modified object hashes to is difference. "
   ]
  },
  {
   "cell_type": "markdown",
   "metadata": {},
   "source": [
    "## 12.1 Test for Palindromic Permutations\n",
    "\n",
    "Write a program to test whether the letters forming a string can be permuted to form a palindrome. For example, \"edified\" can be permuted to form \"deified\".\n",
    "\n",
    "**Hint:** All characters must occur in pairs for a string to be permutable into a palindrome, with one exception, if the string is of odd length. "
   ]
  },
  {
   "cell_type": "code",
   "execution_count": 19,
   "metadata": {},
   "outputs": [],
   "source": [
    "def can_form_palindrome(s: str) -> bool:\n",
    "    # A string can be permuted to form a palindrome if and only if the number\n",
    "    # of chars whose frequencies is odd is at most 1.\n",
    "    return sum(v % 2 for v in collections.Counter(s).values()) <= 1"
   ]
  },
  {
   "cell_type": "code",
   "execution_count": 20,
   "metadata": {},
   "outputs": [],
   "source": [
    "s = 'loeloev'"
   ]
  },
  {
   "cell_type": "code",
   "execution_count": 21,
   "metadata": {},
   "outputs": [
    {
     "data": {
      "text/plain": [
       "True"
      ]
     },
     "execution_count": 21,
     "metadata": {},
     "output_type": "execute_result"
    }
   ],
   "source": [
    "can_form_palindrome(s)"
   ]
  },
  {
   "cell_type": "code",
   "execution_count": 22,
   "metadata": {},
   "outputs": [
    {
     "data": {
      "text/plain": [
       "True"
      ]
     },
     "execution_count": 22,
     "metadata": {},
     "output_type": "execute_result"
    }
   ],
   "source": [
    "s = 'loelooe'\n",
    "can_form_palindrome(s)"
   ]
  },
  {
   "cell_type": "code",
   "execution_count": 23,
   "metadata": {},
   "outputs": [
    {
     "data": {
      "text/plain": [
       "True"
      ]
     },
     "execution_count": 23,
     "metadata": {},
     "output_type": "execute_result"
    }
   ],
   "source": [
    "s = 'loeloe'\n",
    "can_form_palindrome(s)"
   ]
  },
  {
   "cell_type": "code",
   "execution_count": 24,
   "metadata": {},
   "outputs": [
    {
     "data": {
      "text/plain": [
       "False"
      ]
     },
     "execution_count": 24,
     "metadata": {},
     "output_type": "execute_result"
    }
   ],
   "source": [
    "s = 'loelov'\n",
    "can_form_palindrome(s)"
   ]
  },
  {
   "cell_type": "code",
   "execution_count": 25,
   "metadata": {},
   "outputs": [],
   "source": [
    "hash_s = collections.Counter(s)"
   ]
  },
  {
   "cell_type": "code",
   "execution_count": 26,
   "metadata": {},
   "outputs": [
    {
     "data": {
      "text/plain": [
       "Counter({'l': 2, 'o': 2, 'e': 1, 'v': 1})"
      ]
     },
     "execution_count": 26,
     "metadata": {},
     "output_type": "execute_result"
    }
   ],
   "source": [
    "hash_s"
   ]
  },
  {
   "cell_type": "code",
   "execution_count": 27,
   "metadata": {},
   "outputs": [
    {
     "data": {
      "text/plain": [
       "dict_values([2, 2, 1, 1])"
      ]
     },
     "execution_count": 27,
     "metadata": {},
     "output_type": "execute_result"
    }
   ],
   "source": [
    "hash_s.values()"
   ]
  },
  {
   "cell_type": "code",
   "execution_count": 28,
   "metadata": {},
   "outputs": [
    {
     "data": {
      "text/plain": [
       "dict_items([('l', 2), ('o', 2), ('e', 1), ('v', 1)])"
      ]
     },
     "execution_count": 28,
     "metadata": {},
     "output_type": "execute_result"
    }
   ],
   "source": [
    "hash_s.items()"
   ]
  },
  {
   "cell_type": "code",
   "execution_count": 29,
   "metadata": {},
   "outputs": [
    {
     "data": {
      "text/plain": [
       "dict_keys(['l', 'o', 'e', 'v'])"
      ]
     },
     "execution_count": 29,
     "metadata": {},
     "output_type": "execute_result"
    }
   ],
   "source": [
    "hash_s.keys()"
   ]
  },
  {
   "cell_type": "code",
   "execution_count": 32,
   "metadata": {},
   "outputs": [
    {
     "name": "stdout",
     "output_type": "stream",
     "text": [
      "0\n",
      "0\n",
      "1\n",
      "2\n"
     ]
    }
   ],
   "source": [
    "small_sum = 0 \n",
    "for v in hash_s.values():\n",
    "    small_sum += v %2 \n",
    "    print(small_sum )"
   ]
  },
  {
   "cell_type": "markdown",
   "metadata": {},
   "source": [
    "The time complexit is O(n), where n i sht elenght of the string. The space complexity is O(c), where c is the number of distinct characters appearing in the string. "
   ]
  },
  {
   "cell_type": "markdown",
   "metadata": {},
   "source": [
    "## 12.2 Is an Anonymous Letter Constructible?\n",
    "\n",
    "Write a program which takes text for an anonymous letter and text for a magazine and determines if it is possible to write the anonymouse letter using the magazine. The anonymous letter can be written using the magazine if for each character in the anonymous letter, the number of times it appears in the anonymous letter is no more than the number of times it appears in the magazine. \n",
    "\n",
    "**Hint:** Count the number of distince characters appearing in the letter. \n",
    "\n",
    "A better approach is to make a single pass over the letter, storing the character counts for the letter in a single hash table--keys are characters, and values are the number of times that character appears. Next, we make a pass over the magazine. When processing a character c, if c appears in the hash table, we reduce its count by 1; we remove it from the hash when its count goes to zero. If the hash becomes empty, we return true. If we reach the end of the magazine and the hash is empty, we return false--each of the characters remaining in the hash occurs more times in the letter than the magazine. "
   ]
  },
  {
   "cell_type": "code",
   "execution_count": 34,
   "metadata": {},
   "outputs": [],
   "source": [
    "def is_letter_constructible_from_magazine(letter_text: str, \n",
    "                                          magazine_text: str) -> bool:\n",
    "    # Compute the frequencies for all chars in letter_text\n",
    "    char_frequency_for_letter = collections.Counter(letter_text)\n",
    "    \n",
    "    # Checks if characters in magazine_text can cover characters in \n",
    "    # char_frequency_for_letter.\n",
    "    for c in magazine_text:\n",
    "        if c in char_frequency_for_letter:\n",
    "            char_frequency_for_letter[c] -= 1\n",
    "            if char_frequency_for_letter[c] == 0:\n",
    "                del char_frequency_for_letter[c]\n",
    "                if not char_frequency_for_letter:\n",
    "                    # All characters for letter_text are matched\n",
    "                    return True\n",
    "    \n",
    "    # Empty char_frequency_for_letter means every char in letter_text \n",
    "    # can be covered by a character in magazine_text\n",
    "    return not char_frequency_for_letter\n"
   ]
  },
  {
   "cell_type": "code",
   "execution_count": 36,
   "metadata": {},
   "outputs": [],
   "source": [
    "letter_text = 'I went to school in Sunday'\n",
    "magazine_text = 'Sunday is so great Marry and I went to shopping instead of taking classes in school'"
   ]
  },
  {
   "cell_type": "code",
   "execution_count": 37,
   "metadata": {},
   "outputs": [
    {
     "data": {
      "text/plain": [
       "True"
      ]
     },
     "execution_count": 37,
     "metadata": {},
     "output_type": "execute_result"
    }
   ],
   "source": [
    "is_letter_constructible_from_magazine(letter_text, magazine_text)"
   ]
  },
  {
   "cell_type": "code",
   "execution_count": 38,
   "metadata": {},
   "outputs": [
    {
     "data": {
      "text/plain": [
       "True"
      ]
     },
     "execution_count": 38,
     "metadata": {},
     "output_type": "execute_result"
    }
   ],
   "source": [
    "letter_text = 'I like singing'\n",
    "is_letter_constructible_from_magazine(letter_text, magazine_text)"
   ]
  },
  {
   "cell_type": "code",
   "execution_count": 39,
   "metadata": {},
   "outputs": [
    {
     "data": {
      "text/plain": [
       "False"
      ]
     },
     "execution_count": 39,
     "metadata": {},
     "output_type": "execute_result"
    }
   ],
   "source": [
    "letter_text = 'Brown like dancing'\n",
    "is_letter_constructible_from_magazine(letter_text, magazine_text)"
   ]
  },
  {
   "cell_type": "code",
   "execution_count": 40,
   "metadata": {},
   "outputs": [
    {
     "data": {
      "text/plain": [
       "Counter({'B': 1,\n",
       "         'r': 1,\n",
       "         'o': 1,\n",
       "         'w': 1,\n",
       "         'n': 3,\n",
       "         ' ': 2,\n",
       "         'l': 1,\n",
       "         'i': 2,\n",
       "         'k': 1,\n",
       "         'e': 1,\n",
       "         'd': 1,\n",
       "         'a': 1,\n",
       "         'c': 1,\n",
       "         'g': 1})"
      ]
     },
     "execution_count": 40,
     "metadata": {},
     "output_type": "execute_result"
    }
   ],
   "source": [
    "collections.Counter(letter_text)"
   ]
  },
  {
   "cell_type": "code",
   "execution_count": 41,
   "metadata": {},
   "outputs": [
    {
     "data": {
      "text/plain": [
       "Counter({'S': 1,\n",
       "         'u': 1,\n",
       "         'n': 7,\n",
       "         'd': 3,\n",
       "         'a': 7,\n",
       "         'y': 2,\n",
       "         ' ': 15,\n",
       "         'i': 5,\n",
       "         's': 8,\n",
       "         'o': 6,\n",
       "         'g': 3,\n",
       "         'r': 3,\n",
       "         'e': 4,\n",
       "         't': 5,\n",
       "         'M': 1,\n",
       "         'I': 1,\n",
       "         'w': 1,\n",
       "         'h': 2,\n",
       "         'p': 2,\n",
       "         'f': 1,\n",
       "         'k': 1,\n",
       "         'c': 2,\n",
       "         'l': 2})"
      ]
     },
     "execution_count": 41,
     "metadata": {},
     "output_type": "execute_result"
    }
   ],
   "source": [
    "collections.Counter(magazine_text)"
   ]
  },
  {
   "cell_type": "code",
   "execution_count": 42,
   "metadata": {},
   "outputs": [
    {
     "data": {
      "text/plain": [
       "Counter({'B': 1})"
      ]
     },
     "execution_count": 42,
     "metadata": {},
     "output_type": "execute_result"
    }
   ],
   "source": [
    "collections.Counter(letter_text) - collections.Counter(magazine_text)"
   ]
  },
  {
   "cell_type": "code",
   "execution_count": 43,
   "metadata": {},
   "outputs": [],
   "source": [
    "# Pythonic solution that exploits collections.Counter. Note that the\n",
    "# substraction only keeps keys with positive counts. \n",
    "def is_letter_constructible_from_magazine_pythonic(letter_text, magazine_text):\n",
    "    return (not collections.Counter(letter_text) - collections.Counter(magazine_text))"
   ]
  },
  {
   "cell_type": "code",
   "execution_count": 44,
   "metadata": {},
   "outputs": [
    {
     "data": {
      "text/plain": [
       "False"
      ]
     },
     "execution_count": 44,
     "metadata": {},
     "output_type": "execute_result"
    }
   ],
   "source": [
    "is_letter_constructible_from_magazine_pythonic(letter_text, magazine_text)"
   ]
  },
  {
   "cell_type": "markdown",
   "metadata": {},
   "source": [
    "In the worst-case, the letter is not constructible or the last character of the magazine is essentially required. Therefore, the time complexity is O(m+n) where m and n are the number of characters in the letter and magazine, respectively. The space complexity is the size of the hash table constructed in the pass over the letter, i.e., O(L), where L is the number of distinct characters appearing in the letter. "
   ]
  },
  {
   "cell_type": "markdown",
   "metadata": {},
   "source": [
    "## 12.3 Implement an ISBN Cache\n",
    "\n",
    "The international Standard Book Number (ISBN) is a unique commercial book identifier. It is a string of length 10. The first 9 characters are digits; the last character is a check character. The check character is the sum of the first 9 digits, mod 11, with 10 represented by 'X'. \n",
    "\n",
    "Create a cache for looking up prices of books identified by their ISBN. For the purpose of this exercise, treat ISBNs and prices as positive integers. You must implement lookup, insert, and erase method. Use the Least Recently Used(LRU) policy for cache eviction. \n",
    "\n",
    "* Insert: If an ISBN is already present, insert should not update the price, but should update the ISBN to be the most recently used entry.\n",
    "* Lookup: given an ISBN, return the corresponding price; if the element is not present, return -1. If the ISBN is present, update the entry to be the most recently used ISBN. \n",
    "* Erase: remove the specified ISBN and corresponding value from the case. Return true is the ISBN was present; otherwise, return false. "
   ]
  },
  {
   "cell_type": "markdown",
   "metadata": {},
   "source": [
    "**Sol:** Hash tables are ideally suited for fast lookups. We can use a hash table to quickly lookup price by using ISBNs as keys, and a counter, which we use to record when an operation was performed--every time we do an insert or a lookup we incremenet the counter. For each ISBN we store a value which is the price and the \"timestamp\", which is the count corresponding to when the ISBN was most recently inserted or looked-up. \n",
    "\n",
    "This approach has O(1) lookup and delete times. Inserts are O(1) time, until the cache is full. Once the cache fills up, to add a new ISBN we have to find the LRU ISBN, which will be evicted to make place for the new entry. Finding the entry takes O(n) time, where n is the cache size, since we have to scan all entries to find the one with the smallest timestamp. Therefore the time complexity of inserts is O(n). \n",
    "\n",
    "The way to imporve efficiency is to avoid processing all ISBNs. Conceptually, the ISBNs are ordered by when they were most recently used, and we only need to be able to find the oldest ISBN efficiently. This suggests recording the ISBNs in a queue (in addition to the hash table). \n",
    "\n",
    "Specifically, for each ISBN, we store a reference to its location in the queue. Each time we do a lookup on an ISBN, we move to the front of the queue. (This requires us to use a linked list implementation of the queue, so taht items in the middle of the queue can be moved to the head.) We do the same when we insert an ISBN that's already present. If an insert results in the queue size exceeding n, the ISBN at the tail of the queue is deleted from the cache, i.e., from the queue and the hash table. "
   ]
  },
  {
   "cell_type": "code",
   "execution_count": 46,
   "metadata": {},
   "outputs": [],
   "source": [
    "from collections import OrderedDict"
   ]
  },
  {
   "cell_type": "code",
   "execution_count": 85,
   "metadata": {},
   "outputs": [],
   "source": [
    "class LruCache:\n",
    "    def __init__(self, capacity: int) -> None: \n",
    "        self._isbn_price_table = collections.OrderedDict()\n",
    "        self._capacity = capacity\n",
    "        \n",
    "    def lookup(self, isbn: int) -> int:\n",
    "        if isbn not in self._isbn_price_table:\n",
    "            return -1 \n",
    "        price = self._isbn_price_table.pop(isbn)\n",
    "        self._isbn_price_table[isbn] = price\n",
    "        return price \n",
    "    \n",
    "    def insert(self, isbn: int, price: int) -> None:\n",
    "        # We add the value for key only if key is not present -- we don't update \n",
    "        # existing value \n",
    "        if isbn in self._isbn_price_table:\n",
    "            price = self._isbn_price_table.pop(isbn)\n",
    "        elif len(self._isbn_price_table) == self._capacity:\n",
    "            self._isbn_price_table.popitem(last=False)\n",
    "        self._isbn_price_table[isbn] = price\n",
    "        \n",
    "    def erase(self, isbn: int) -> bool:\n",
    "        return self._isbn_price_table.pop(isbn, None) is not None"
   ]
  },
  {
   "cell_type": "markdown",
   "metadata": {},
   "source": [
    "### Ordered Dict in Python "
   ]
  },
  {
   "cell_type": "code",
   "execution_count": 48,
   "metadata": {},
   "outputs": [
    {
     "name": "stdout",
     "output_type": "stream",
     "text": [
      "This is a Dict:\n",
      "\n"
     ]
    }
   ],
   "source": [
    "print(\"This is a Dict:\\n\")\n",
    "d = {}\n",
    "d['a'] = 1\n",
    "d['b'] = 2\n",
    "d['c'] = 3\n",
    "d['d'] = 4"
   ]
  },
  {
   "cell_type": "code",
   "execution_count": 49,
   "metadata": {},
   "outputs": [
    {
     "name": "stdout",
     "output_type": "stream",
     "text": [
      "a 1\n",
      "b 2\n",
      "c 3\n",
      "d 4\n"
     ]
    }
   ],
   "source": [
    "for key,value in d.items():\n",
    "    print(key, value)"
   ]
  },
  {
   "cell_type": "code",
   "execution_count": 50,
   "metadata": {},
   "outputs": [
    {
     "name": "stdout",
     "output_type": "stream",
     "text": [
      "This is an Ordered Dict: \n",
      "\n",
      "a 1\n",
      "b 2\n",
      "c 3\n",
      "d 4\n"
     ]
    }
   ],
   "source": [
    "print(\"This is an Ordered Dict: \\n\")\n",
    "od = OrderedDict()\n",
    "od['a'] = 1\n",
    "od['b'] = 2\n",
    "od['c'] = 3\n",
    "od['d'] = 4\n",
    "\n",
    "for key,value in od.items():\n",
    "    print(key, value)"
   ]
  },
  {
   "cell_type": "markdown",
   "metadata": {},
   "source": [
    "1. Key value Change: If the value of a certian key is changed, the position of the key remains unchanged in OrderedDict. "
   ]
  },
  {
   "cell_type": "code",
   "execution_count": 51,
   "metadata": {},
   "outputs": [
    {
     "name": "stdout",
     "output_type": "stream",
     "text": [
      "Before: \n",
      "\n",
      "a 1\n",
      "b 2\n",
      "c 3\n",
      "d 4\n",
      "\n",
      " After:\n",
      "\n",
      "a 1\n",
      "b 2\n",
      "c 5\n",
      "d 4\n"
     ]
    }
   ],
   "source": [
    "print(\"Before: \\n\")\n",
    "for key,value in od.items():\n",
    "    print(key, value)\n",
    "print(\"\\n After:\\n\")\n",
    "od['c'] = 5\n",
    "for key,value in od.items():\n",
    "    print(key, value)"
   ]
  },
  {
   "cell_type": "markdown",
   "metadata": {},
   "source": [
    "2. Deletion and Re-Inserting: Deeting and re-inserting the same key will push it to the back as OrderedDict however maintains the order of insertion. "
   ]
  },
  {
   "cell_type": "code",
   "execution_count": 52,
   "metadata": {},
   "outputs": [
    {
     "name": "stdout",
     "output_type": "stream",
     "text": [
      "Before deleting:\n",
      "\n",
      "a 1\n",
      "b 2\n",
      "c 5\n",
      "d 4\n",
      "\n",
      " After deleting: \n",
      "\n",
      "a 1\n",
      "b 2\n",
      "d 4\n",
      "\n",
      " After re-inserting: \n",
      "\n",
      "a 1\n",
      "b 2\n",
      "d 4\n",
      "c 3\n"
     ]
    }
   ],
   "source": [
    "print(\"Before deleting:\\n\")\n",
    "\n",
    "for key, value in od.items():\n",
    "    print(key, value)\n",
    "    \n",
    "print(\"\\n After deleting: \\n\")\n",
    "od.pop('c')\n",
    "for key,value in od.items():\n",
    "    print(key, value)\n",
    "\n",
    "print(\"\\n After re-inserting: \\n\")\n",
    "od['c'] = 3\n",
    "for key, value in od.items():\n",
    "    print(key, value)"
   ]
  },
  {
   "cell_type": "code",
   "execution_count": 53,
   "metadata": {},
   "outputs": [
    {
     "data": {
      "text/plain": [
       "('c', 3)"
      ]
     },
     "execution_count": 53,
     "metadata": {},
     "output_type": "execute_result"
    }
   ],
   "source": [
    "od.popitem('c')"
   ]
  },
  {
   "cell_type": "code",
   "execution_count": 54,
   "metadata": {},
   "outputs": [
    {
     "name": "stdout",
     "output_type": "stream",
     "text": [
      "a 1\n",
      "b 2\n",
      "d 4\n"
     ]
    }
   ],
   "source": [
    "for key, value in od.items():\n",
    "    print(key, value)"
   ]
  },
  {
   "cell_type": "code",
   "execution_count": 55,
   "metadata": {},
   "outputs": [
    {
     "data": {
      "text/plain": [
       "('a', 1)"
      ]
     },
     "execution_count": 55,
     "metadata": {},
     "output_type": "execute_result"
    }
   ],
   "source": [
    "od.popitem(last = False)"
   ]
  },
  {
   "cell_type": "code",
   "execution_count": 56,
   "metadata": {},
   "outputs": [
    {
     "name": "stdout",
     "output_type": "stream",
     "text": [
      "b 2\n",
      "d 4\n"
     ]
    }
   ],
   "source": [
    "for key,value in od.items():\n",
    "    print(key, value)"
   ]
  },
  {
   "cell_type": "code",
   "execution_count": 57,
   "metadata": {},
   "outputs": [
    {
     "name": "stdout",
     "output_type": "stream",
     "text": [
      "b 2\n"
     ]
    }
   ],
   "source": [
    "od.popitem(last = True)\n",
    "for key, value in od.items():\n",
    "    print(key, value)"
   ]
  },
  {
   "cell_type": "code",
   "execution_count": 86,
   "metadata": {},
   "outputs": [],
   "source": [
    "lalala_table = LruCache(capacity = 5)"
   ]
  },
  {
   "cell_type": "code",
   "execution_count": 87,
   "metadata": {},
   "outputs": [
    {
     "data": {
      "text/plain": [
       "5"
      ]
     },
     "execution_count": 87,
     "metadata": {},
     "output_type": "execute_result"
    }
   ],
   "source": [
    "lalala_table._capacity"
   ]
  },
  {
   "cell_type": "code",
   "execution_count": 88,
   "metadata": {},
   "outputs": [],
   "source": [
    "lalala_table.insert(isbn = 123421332, price = 5)"
   ]
  },
  {
   "cell_type": "code",
   "execution_count": 89,
   "metadata": {},
   "outputs": [
    {
     "name": "stdout",
     "output_type": "stream",
     "text": [
      "123421332 5\n"
     ]
    }
   ],
   "source": [
    "for isbn, price in lalala_table._isbn_price_table.items():\n",
    "    print(isbn, price)"
   ]
  },
  {
   "cell_type": "code",
   "execution_count": 90,
   "metadata": {},
   "outputs": [],
   "source": [
    "lalala_table.insert(isbn = 123421333, price = 8)\n",
    "lalala_table.insert(isbn = 123421334, price = 2)\n",
    "lalala_table.insert(isbn = 123421335, price = 11)\n",
    "lalala_table.insert(isbn = 123421336, price = 3)\n",
    "lalala_table.insert(isbn = 123421337, price = 4)\n",
    "lalala_table.insert(isbn = 123421338, price = 12)\n",
    "lalala_table.insert(isbn = 123421339, price = 7)"
   ]
  },
  {
   "cell_type": "code",
   "execution_count": 91,
   "metadata": {},
   "outputs": [
    {
     "name": "stdout",
     "output_type": "stream",
     "text": [
      "123421335 11\n",
      "123421336 3\n",
      "123421337 4\n",
      "123421338 12\n",
      "123421339 7\n"
     ]
    }
   ],
   "source": [
    "for isbn, price in lalala_table._isbn_price_table.items():\n",
    "    print(isbn, price)"
   ]
  },
  {
   "cell_type": "code",
   "execution_count": 92,
   "metadata": {},
   "outputs": [
    {
     "data": {
      "text/plain": [
       "-1"
      ]
     },
     "execution_count": 92,
     "metadata": {},
     "output_type": "execute_result"
    }
   ],
   "source": [
    "lalala_table.lookup(123421225)"
   ]
  },
  {
   "cell_type": "code",
   "execution_count": 93,
   "metadata": {},
   "outputs": [
    {
     "data": {
      "text/plain": [
       "11"
      ]
     },
     "execution_count": 93,
     "metadata": {},
     "output_type": "execute_result"
    }
   ],
   "source": [
    "lalala_table.lookup(123421335)"
   ]
  },
  {
   "cell_type": "code",
   "execution_count": 94,
   "metadata": {},
   "outputs": [
    {
     "name": "stdout",
     "output_type": "stream",
     "text": [
      "123421336 3\n",
      "123421337 4\n",
      "123421338 12\n",
      "123421339 7\n",
      "123421335 11\n"
     ]
    }
   ],
   "source": [
    "for isbn, price in lalala_table._isbn_price_table.items():\n",
    "    print(isbn, price)"
   ]
  },
  {
   "cell_type": "code",
   "execution_count": 81,
   "metadata": {},
   "outputs": [
    {
     "data": {
      "text/plain": [
       "11"
      ]
     },
     "execution_count": 81,
     "metadata": {},
     "output_type": "execute_result"
    }
   ],
   "source": [
    "lalala_table._isbn_price_table.pop(123421335)"
   ]
  },
  {
   "cell_type": "code",
   "execution_count": 82,
   "metadata": {},
   "outputs": [
    {
     "name": "stdout",
     "output_type": "stream",
     "text": [
      "123421336 3\n",
      "123421337 4\n",
      "123421338 12\n",
      "123421339 7\n"
     ]
    }
   ],
   "source": [
    "for isbn, price in lalala_table._isbn_price_table.items():\n",
    "    print(isbn, price)"
   ]
  },
  {
   "cell_type": "code",
   "execution_count": 83,
   "metadata": {},
   "outputs": [],
   "source": [
    "lalala_table._isbn_price_table[123421335] = 11"
   ]
  },
  {
   "cell_type": "code",
   "execution_count": 84,
   "metadata": {},
   "outputs": [
    {
     "name": "stdout",
     "output_type": "stream",
     "text": [
      "123421336 3\n",
      "123421337 4\n",
      "123421338 12\n",
      "123421339 7\n",
      "123421335 11\n"
     ]
    }
   ],
   "source": [
    "for isbn, price in lalala_table._isbn_price_table.items():\n",
    "    print(isbn, price)"
   ]
  },
  {
   "cell_type": "code",
   "execution_count": 95,
   "metadata": {},
   "outputs": [
    {
     "data": {
      "text/plain": [
       "False"
      ]
     },
     "execution_count": 95,
     "metadata": {},
     "output_type": "execute_result"
    }
   ],
   "source": [
    "lalala_table.erase(123421334)"
   ]
  },
  {
   "cell_type": "code",
   "execution_count": 96,
   "metadata": {},
   "outputs": [
    {
     "data": {
      "text/plain": [
       "True"
      ]
     },
     "execution_count": 96,
     "metadata": {},
     "output_type": "execute_result"
    }
   ],
   "source": [
    "lalala_table.erase(123421335)"
   ]
  },
  {
   "cell_type": "code",
   "execution_count": 97,
   "metadata": {},
   "outputs": [
    {
     "name": "stdout",
     "output_type": "stream",
     "text": [
      "123421336 3\n",
      "123421337 4\n",
      "123421338 12\n",
      "123421339 7\n"
     ]
    }
   ],
   "source": [
    "for isbn, price in lalala_table._isbn_price_table.items():\n",
    "    print(isbn, price)"
   ]
  },
  {
   "cell_type": "markdown",
   "metadata": {},
   "source": [
    "The time complexity for each lookup is O(1) for the hash table lookup and O(1) for updating the queue, i.e. O(1) overall. "
   ]
  },
  {
   "cell_type": "markdown",
   "metadata": {},
   "source": [
    "## 12.4 Compute the LCA, Optimizing for Close Ancestors\n",
    "\n",
    "Design an algorithm for computing the LCA of wo nodes in a binary tree. The algorithm's time complexity should depend only on the distance from the nodes to the LCA. \n",
    "\n",
    "**Sol:** Intuitively, the brute-force approach is suboptimal because it potentially processes nodes well above the LCA. We can avoid this by alternating moving upwards from the two nodes and storing the nodes visited as we move up in a hash table.Each time we visit a node we check to see if it has been visited before. "
   ]
  },
  {
   "cell_type": "code",
   "execution_count": 99,
   "metadata": {},
   "outputs": [],
   "source": [
    "class BinaryTreeNode:\n",
    "    def __init__(self, data=None, left=None, right= None, parent = None, nexxt = None):\n",
    "        self.data = data\n",
    "        self.left = left\n",
    "        self.right = right\n",
    "        self.parent = parent\n",
    "        self.next = nexxt "
   ]
  },
  {
   "cell_type": "code",
   "execution_count": 108,
   "metadata": {},
   "outputs": [],
   "source": [
    "def lca(node0: BinaryTreeNode,\n",
    "        node1: BinaryTreeNode) -> BinaryTreeNode:\n",
    "    iter0, iter1 = node0, node1\n",
    "    nodes_on_path_to_root = set()\n",
    "    while iter0 or iter1:\n",
    "        # Ascend tree in tandem for these two nodes.\n",
    "        if iter0:\n",
    "            if iter0 in nodes_on_path_to_root:\n",
    "                return iter0\n",
    "            print('the traversal point of iter0')\n",
    "            print(tree_traversal_inorder(iter0))\n",
    "            nodes_on_path_to_root.add(iter0)\n",
    "            iter0 = iter0.parent\n",
    "        if iter1:\n",
    "            if iter1 in nodes_on_path_to_root:\n",
    "                return iter1 \n",
    "            print('the traversal point of iter1')\n",
    "            print(tree_traversal_inorder(iter1))\n",
    "            nodes_on_path_to_root.add(iter1)\n",
    "            iter1 = iter1.parent\n",
    "    raise ValueError('node0 and node1 are not in the same tree')"
   ]
  },
  {
   "cell_type": "code",
   "execution_count": 101,
   "metadata": {},
   "outputs": [],
   "source": [
    "node1 = BinaryTreeNode(314)\n",
    "node2 = BinaryTreeNode(6)\n",
    "node3 = BinaryTreeNode(6)\n",
    "node4 = BinaryTreeNode(271)\n",
    "node5 = BinaryTreeNode(561)\n",
    "node6 = BinaryTreeNode(2)\n",
    "node7 = BinaryTreeNode(271)\n",
    "node8 = BinaryTreeNode(28)\n",
    "node9 = BinaryTreeNode(0)\n",
    "node10 = BinaryTreeNode(3)\n",
    "node11 = BinaryTreeNode(1)\n",
    "node12 = BinaryTreeNode(28)\n",
    "node13 = BinaryTreeNode(17)\n",
    "node14 = BinaryTreeNode(401)\n",
    "node15 = BinaryTreeNode(257)\n",
    "node16 = BinaryTreeNode(641)"
   ]
  },
  {
   "cell_type": "code",
   "execution_count": 102,
   "metadata": {},
   "outputs": [],
   "source": [
    "node1.left = node2\n",
    "node1.right = node3\n",
    "node2.left = node4\n",
    "node2.right = node5\n",
    "node3.left = node6\n",
    "node3.right = node7\n",
    "node4.left = node8\n",
    "node4.right = node9\n",
    "node5.right = node10\n",
    "node10.left = node13\n",
    "node6.right = node11\n",
    "node11.left = node14\n",
    "node11.right = node15\n",
    "node14.right = node16\n",
    "node7.right = node12"
   ]
  },
  {
   "cell_type": "code",
   "execution_count": 103,
   "metadata": {},
   "outputs": [],
   "source": [
    "node2.parent = node1\n",
    "node3.parent = node1\n",
    "node4.parent = node2\n",
    "node5.parent = node2\n",
    "node6.parent = node3\n",
    "node7.parent = node3\n",
    "node8.parent = node4\n",
    "node9.parent = node4\n",
    "node10.parent = node5\n",
    "node13.parent = node10\n",
    "node11.parent = node6\n",
    "node14.parent = node11\n",
    "node15.parent = node11\n",
    "node16.parent = node14\n",
    "node12.parent = node7"
   ]
  },
  {
   "cell_type": "code",
   "execution_count": 104,
   "metadata": {},
   "outputs": [],
   "source": [
    "def tree_traversal_inorder(root: BinaryTreeNode) -> None:\n",
    "    if root:\n",
    "        tree_traversal_inorder(root.left) \n",
    "        print('Inorder: %d' % root.data)\n",
    "        tree_traversal_inorder(root.right)"
   ]
  },
  {
   "cell_type": "code",
   "execution_count": 105,
   "metadata": {},
   "outputs": [
    {
     "name": "stdout",
     "output_type": "stream",
     "text": [
      "Inorder: 28\n",
      "Inorder: 271\n",
      "Inorder: 0\n",
      "Inorder: 6\n",
      "Inorder: 561\n",
      "Inorder: 17\n",
      "Inorder: 3\n",
      "Inorder: 314\n",
      "Inorder: 2\n",
      "Inorder: 401\n",
      "Inorder: 641\n",
      "Inorder: 1\n",
      "Inorder: 257\n",
      "Inorder: 6\n",
      "Inorder: 271\n",
      "Inorder: 28\n"
     ]
    }
   ],
   "source": [
    "tree_traversal_inorder(node1)"
   ]
  },
  {
   "cell_type": "code",
   "execution_count": 110,
   "metadata": {},
   "outputs": [
    {
     "name": "stdout",
     "output_type": "stream",
     "text": [
      "the traversal point of iter0\n",
      "Inorder: 401\n",
      "Inorder: 641\n",
      "None\n",
      "the traversal point of iter1\n",
      "Inorder: 28\n",
      "None\n",
      "the traversal point of iter0\n",
      "Inorder: 401\n",
      "Inorder: 641\n",
      "Inorder: 1\n",
      "Inorder: 257\n",
      "None\n",
      "the traversal point of iter1\n",
      "Inorder: 271\n",
      "Inorder: 28\n",
      "None\n",
      "the traversal point of iter0\n",
      "Inorder: 2\n",
      "Inorder: 401\n",
      "Inorder: 641\n",
      "Inorder: 1\n",
      "Inorder: 257\n",
      "None\n",
      "the traversal point of iter1\n",
      "Inorder: 2\n",
      "Inorder: 401\n",
      "Inorder: 641\n",
      "Inorder: 1\n",
      "Inorder: 257\n",
      "Inorder: 6\n",
      "Inorder: 271\n",
      "Inorder: 28\n",
      "None\n"
     ]
    },
    {
     "data": {
      "text/plain": [
       "<__main__.BinaryTreeNode at 0x10d47cb00>"
      ]
     },
     "execution_count": 110,
     "metadata": {},
     "output_type": "execute_result"
    }
   ],
   "source": [
    "lca(node14, node12)"
   ]
  },
  {
   "cell_type": "code",
   "execution_count": 107,
   "metadata": {},
   "outputs": [
    {
     "name": "stdout",
     "output_type": "stream",
     "text": [
      "Inorder: 401\n",
      "Inorder: 641\n",
      "Inorder: 1\n",
      "Inorder: 257\n"
     ]
    }
   ],
   "source": [
    "tree_traversal_inorder(lca(node14, node15))"
   ]
  },
  {
   "cell_type": "markdown",
   "metadata": {},
   "source": [
    "Note that we are trading space for tie. The algorithm for Solution 9.4 on Page 125 used O(1) space and O(h) time, whereas the algorithm presented above uses O(D0 + D1) space and time, where D0 is the distance from the LCA to the first node, and D1 is the distance from the LCA to the second node. In the worst-case, the nodes are leaves whose LCA is the root, and we end up using O(h) space and time, where h is the height of the tree. "
   ]
  },
  {
   "cell_type": "markdown",
   "metadata": {},
   "source": [
    "## 12.5 Find the Nearest Repeated Entries in an Array\n",
    "\n",
    "Peopel do not like reading text in which a word is used multiple imes in a short paragraph. You are to write a program which helps identify such a problem. \n",
    "\n",
    "Write a program which takes as input an array and finds the distance between a closet pair of equal entries. For example, if s = <\"All\", \"work\", \"and\", \"no\", \"play\", \"makes\", \"for\", \"no\", \"work\", \"no\", \"fun\", \"and\", \"no\", \"results\">, then the second and third occurrences of \"no\" is the closest pair. "
   ]
  },
  {
   "cell_type": "markdown",
   "metadata": {},
   "source": [
    "**Sol:** The brute-force approach is to iterate over all pairs of entries, check if they are the same, and if so, if the distance between them is less than the smallest such distance seen so far. The time complexity is O(n^2), where n is the array length. \n",
    "\n",
    "We can improve upon the brute-force algorithm by nothing that when examining an entry, we do not need to look at every other entry--we only care about entries which are the same. We can store the set of indices corresponding to a given value using a hash table and iterate over all such sets. However, there is a better approach-- when processing an entry, all we care about is the closest previous equal entry. Specifically, as we scan through the array, for each vaue seen so far, we store in a hash tabe and latest index at which it appreas. When processing the lement, we use the hash table to see the latest index less than the current index holding the same value. "
   ]
  },
  {
   "cell_type": "code",
   "execution_count": 115,
   "metadata": {},
   "outputs": [],
   "source": [
    "import typing"
   ]
  },
  {
   "cell_type": "code",
   "execution_count": 116,
   "metadata": {},
   "outputs": [],
   "source": [
    "def find_nearest_repetition(paragraph: list) -> int:\n",
    "    word_to_latest_index = {}\n",
    "    nearest_repreated_distance = float('inf')\n",
    "    for i, word in enumerate(paragraph):\n",
    "        if word in word_to_latest_index:\n",
    "            latest_equal_word = word_to_latest_index[word]\n",
    "            nearest_repreated_distance = min(nearest_repreated_distance, i- latest_equal_word)\n",
    "        \n",
    "        word_to_latest_index[word] = i\n",
    "    return typing.cast(int, nearest_repreated_distance\n",
    "                      ) if nearest_repreated_distance != float('inf') else -1 \n",
    "    "
   ]
  },
  {
   "cell_type": "code",
   "execution_count": 117,
   "metadata": {},
   "outputs": [
    {
     "data": {
      "text/plain": [
       "2"
      ]
     },
     "execution_count": 117,
     "metadata": {},
     "output_type": "execute_result"
    }
   ],
   "source": [
    "paragraph = ['All', 'work', 'and', 'no', 'play', 'makes', 'for', 'no', 'work',\n",
    "            'no', 'fun', 'and', 'no', 'results']\n",
    "find_nearest_repetition(paragraph)"
   ]
  },
  {
   "cell_type": "code",
   "execution_count": 120,
   "metadata": {},
   "outputs": [],
   "source": [
    "paragraph = ['wow', 'such' ,'a' ,'wonderful' ,'day', 'wow', 'so', 'so']"
   ]
  },
  {
   "cell_type": "code",
   "execution_count": 121,
   "metadata": {},
   "outputs": [
    {
     "data": {
      "text/plain": [
       "1"
      ]
     },
     "execution_count": 121,
     "metadata": {},
     "output_type": "execute_result"
    }
   ],
   "source": [
    "find_nearest_repetition(paragraph)"
   ]
  },
  {
   "cell_type": "markdown",
   "metadata": {},
   "source": [
    "The time complexity is O(n), since we perform a constant amount of work per entry. The space complexity is O(d), where d is the number of distinct entries in the array. "
   ]
  },
  {
   "cell_type": "code",
   "execution_count": null,
   "metadata": {},
   "outputs": [],
   "source": []
  }
 ],
 "metadata": {
  "kernelspec": {
   "display_name": "Python 3",
   "language": "python",
   "name": "python3"
  },
  "language_info": {
   "codemirror_mode": {
    "name": "ipython",
    "version": 3
   },
   "file_extension": ".py",
   "mimetype": "text/x-python",
   "name": "python",
   "nbconvert_exporter": "python",
   "pygments_lexer": "ipython3",
   "version": "3.6.5"
  }
 },
 "nbformat": 4,
 "nbformat_minor": 2
}
