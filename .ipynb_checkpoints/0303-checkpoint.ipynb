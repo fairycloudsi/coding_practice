{
 "cells": [
  {
   "cell_type": "markdown",
   "metadata": {},
   "source": [
    "## 802 Find Eventual Safe States \n",
    "\n",
    "In a directed graph, we start at some node and wvery turn, walk along a directed edge of the graph. If we reach a node that is terminal (that is, it has no outgoing directed edges), we stop. \n",
    "\n",
    "Now, say our starting node is eventually safe if and only iuf we must eventually walk to a terminal node. More specifically, there exists a natural number K so that for any choice of where to walk, we must have stopped at a terminal node in less than K steps. \n",
    "\n",
    "Which nodes are eventually safe? Return them as an array in sorted order. \n",
    "\n",
    "The directed graph has N nodes with labels 0, 1, ..., N-1, where N is the length of graph. The graph is given in the following form: graph[i] is a list of labels j such that (i,j) is a directed edge of the graph. \n",
    "\n",
    "**Example: **\n",
    "\n",
    "Input: graph = [[1,2], [2,3], [5], [0], [5], [], []]\n",
    "\n",
    "Output: [2,4,5,6]\n",
    "\n",
    "\n",
    "\n"
   ]
  },
  {
   "cell_type": "code",
   "execution_count": 15,
   "metadata": {},
   "outputs": [],
   "source": [
    "def eventualSafeNodes(graph: list) -> list:\n",
    "    ans = []\n",
    "    \n",
    "    if not graph:\n",
    "        return ans\n",
    "    n = len(graph)\n",
    "    visited = [0 for _ in range(n)]\n",
    "    \n",
    "    def dfs(i, visited):\n",
    "        if visited[i] == 1:\n",
    "            return True \n",
    "        if visited[i] == 2:\n",
    "            return False \n",
    "        visited[i] = 1\n",
    "        for t in graph[i]:\n",
    "            if dfs(t, visited):\n",
    "                return True\n",
    "        visited[i] = 2\n",
    "        return False \n",
    "    \n",
    "    for i in range(n):\n",
    "#         visited = [0 for _ in range(n)]\n",
    "        if not dfs(i, visited):\n",
    "            print(visited)\n",
    "            ans.append(i)\n",
    "            \n",
    "    return (ans)\n",
    "        "
   ]
  },
  {
   "cell_type": "code",
   "execution_count": 16,
   "metadata": {},
   "outputs": [
    {
     "name": "stdout",
     "output_type": "stream",
     "text": [
      "[1, 1, 2, 1, 0, 2, 0]\n",
      "[1, 1, 2, 1, 2, 2, 0]\n",
      "[1, 1, 2, 1, 2, 2, 0]\n",
      "[1, 1, 2, 1, 2, 2, 2]\n"
     ]
    },
    {
     "data": {
      "text/plain": [
       "[2, 4, 5, 6]"
      ]
     },
     "execution_count": 16,
     "metadata": {},
     "output_type": "execute_result"
    }
   ],
   "source": [
    "graph = [[1,2], [2,3], [5], [0], [5], [], []]\n",
    "\n",
    "eventualSafeNodes(graph)"
   ]
  },
  {
   "cell_type": "markdown",
   "metadata": {},
   "source": [
    "Time Complexity: O(n) for topological sorting\n",
    "\n",
    "Space Complexity: O(n)"
   ]
  },
  {
   "cell_type": "markdown",
   "metadata": {},
   "source": [
    "## 897. Increasing Order Search Tree\n",
    "\n",
    "Given a binary search tree, rearrange the tree in in-order so that the leftmost node in the tree is not the root of the tree, and every node has no left child and only 1 right child. "
   ]
  },
  {
   "cell_type": "code",
   "execution_count": 17,
   "metadata": {},
   "outputs": [],
   "source": [
    "class TreeNode: \n",
    "    def __init__(self,x):\n",
    "        self.val = x\n",
    "        self.left = None\n",
    "        self.right = None "
   ]
  },
  {
   "cell_type": "code",
   "execution_count": 70,
   "metadata": {},
   "outputs": [],
   "source": [
    "def increasingBST(root: TreeNode)-> TreeNode:\n",
    "    head = TreeNode(0)\n",
    "    dummy_head = head \n",
    "    def inorder(node: TreeNode):\n",
    "        if node:\n",
    "            yield from inorder(node.left)\n",
    "            yield (node.val)\n",
    "            yield from inorder(node.right)\n",
    "#             return head \n",
    "    for v in inorder(root):\n",
    "        head.right = TreeNode(v)\n",
    "        head = head.right\n",
    "    return dummy_head.right \n",
    "        "
   ]
  },
  {
   "cell_type": "code",
   "execution_count": 71,
   "metadata": {},
   "outputs": [],
   "source": [
    "node1 = TreeNode(1)\n",
    "\n",
    "node2 = TreeNode(2)\n",
    "\n",
    "node3 = TreeNode(3)\n",
    "\n",
    "node4 = TreeNode(4)\n",
    "\n",
    "node5 = TreeNode(5)\n",
    "\n",
    "node6 = TreeNode(6)\n",
    "\n",
    "node7 = TreeNode(7)\n",
    "\n",
    "node8 = TreeNode(8)\n",
    "\n",
    "node9 = TreeNode(9)"
   ]
  },
  {
   "cell_type": "code",
   "execution_count": 72,
   "metadata": {},
   "outputs": [],
   "source": [
    "node5.left = node3\n",
    "\n",
    "node5.right = node6\n",
    "\n",
    "node3.left = node2\n",
    "\n",
    "node3.right = node4\n",
    "\n",
    "node2.left = node1\n",
    "\n",
    "node6.right = node8\n",
    "\n",
    "node8.left = node7\n",
    "\n",
    "node8.right = node9"
   ]
  },
  {
   "cell_type": "code",
   "execution_count": 73,
   "metadata": {},
   "outputs": [],
   "source": [
    "tree = increasingBST(node5)"
   ]
  },
  {
   "cell_type": "code",
   "execution_count": 74,
   "metadata": {},
   "outputs": [],
   "source": [
    "def tree_inorder(root: TreeNode) -> None:\n",
    "    if root:\n",
    "#         tree_inorder(root.left)\n",
    "        print(tree.val)\n",
    "        tree_inorder(root.right)"
   ]
  },
  {
   "cell_type": "code",
   "execution_count": 75,
   "metadata": {},
   "outputs": [
    {
     "name": "stdout",
     "output_type": "stream",
     "text": [
      "1\n",
      "1\n",
      "1\n",
      "1\n",
      "1\n",
      "1\n",
      "1\n",
      "1\n",
      "1\n"
     ]
    }
   ],
   "source": [
    "tree_inorder(tree)"
   ]
  },
  {
   "cell_type": "code",
   "execution_count": 76,
   "metadata": {},
   "outputs": [
    {
     "data": {
      "text/plain": [
       "<__main__.TreeNode at 0x7f2ac4078048>"
      ]
     },
     "execution_count": 76,
     "metadata": {},
     "output_type": "execute_result"
    }
   ],
   "source": [
    "tree"
   ]
  },
  {
   "cell_type": "code",
   "execution_count": 77,
   "metadata": {},
   "outputs": [
    {
     "name": "stdout",
     "output_type": "stream",
     "text": [
      "1\n",
      "2\n",
      "3\n",
      "4\n",
      "5\n",
      "6\n",
      "7\n",
      "8\n",
      "9\n"
     ]
    }
   ],
   "source": [
    "while tree:\n",
    "    print(tree.val)\n",
    "    tree = tree.right "
   ]
  },
  {
   "cell_type": "markdown",
   "metadata": {},
   "source": [
    "PEP 380: Syntax for Delegating to a Subgenerator \n",
    "\n",
    "PEP 380 adds the yield from expression, allowing a generator to delegate part of its operations to another generator. This allows a section of code containing yield to be factored out and placed in another generator. Additionally, the subgenerator is allowed to return with a value, and the value is made available to the delegating generator. \n",
    "\n",
    "While designed primarily for use in delegating to a subgenerator, the yield from expression actually allows delegation to arbitrary subiterators. \n"
   ]
  },
  {
   "cell_type": "code",
   "execution_count": 78,
   "metadata": {},
   "outputs": [],
   "source": [
    "def g(x):\n",
    "    yield from range(x, 0, -1)\n",
    "    yield from range(x)"
   ]
  },
  {
   "cell_type": "code",
   "execution_count": 79,
   "metadata": {},
   "outputs": [
    {
     "data": {
      "text/plain": [
       "[5, 4, 3, 2, 1, 0, 1, 2, 3, 4]"
      ]
     },
     "execution_count": 79,
     "metadata": {},
     "output_type": "execute_result"
    }
   ],
   "source": [
    "list(g(5))"
   ]
  },
  {
   "cell_type": "code",
   "execution_count": 80,
   "metadata": {},
   "outputs": [],
   "source": [
    "def accumulate():\n",
    "    tally = 0 \n",
    "    while 1:\n",
    "        next = yield\n",
    "        if next is None:\n",
    "            return tally\n",
    "        tally += next "
   ]
  },
  {
   "cell_type": "code",
   "execution_count": 86,
   "metadata": {},
   "outputs": [],
   "source": [
    "def gather_tallies(tallies):\n",
    "    while 1:\n",
    "        tally = yield from accumulate()\n",
    "        tallies.append(tally)"
   ]
  },
  {
   "cell_type": "code",
   "execution_count": 82,
   "metadata": {},
   "outputs": [],
   "source": [
    "tallies = []\n",
    "\n",
    "acc = gather_tallies(tallies)\n",
    "\n",
    "next(acc) # Ensure the accumulator is ready to accept values "
   ]
  },
  {
   "cell_type": "code",
   "execution_count": 83,
   "metadata": {},
   "outputs": [],
   "source": [
    "for i in range(4):\n",
    "    acc.send(i)"
   ]
  },
  {
   "cell_type": "code",
   "execution_count": 88,
   "metadata": {},
   "outputs": [
    {
     "ename": "StopIteration",
     "evalue": "",
     "output_type": "error",
     "traceback": [
      "\u001b[0;31m---------------------------------------------------------------------------\u001b[0m",
      "\u001b[0;31mStopIteration\u001b[0m                             Traceback (most recent call last)",
      "\u001b[0;32m<ipython-input-88-11d28b6230b4>\u001b[0m in \u001b[0;36m<module>\u001b[0;34m\u001b[0m\n\u001b[0;32m----> 1\u001b[0;31m \u001b[0macc\u001b[0m\u001b[0;34m.\u001b[0m\u001b[0msend\u001b[0m\u001b[0;34m(\u001b[0m\u001b[0;32mNone\u001b[0m\u001b[0;34m)\u001b[0m \u001b[0;31m# Finish the first tally\u001b[0m\u001b[0;34m\u001b[0m\u001b[0;34m\u001b[0m\u001b[0m\n\u001b[0m\u001b[1;32m      2\u001b[0m \u001b[0;32mfor\u001b[0m \u001b[0mi\u001b[0m \u001b[0;32min\u001b[0m \u001b[0mrange\u001b[0m\u001b[0;34m(\u001b[0m\u001b[0;36m5\u001b[0m\u001b[0;34m)\u001b[0m\u001b[0;34m:\u001b[0m\u001b[0;34m\u001b[0m\u001b[0;34m\u001b[0m\u001b[0m\n\u001b[1;32m      3\u001b[0m     \u001b[0macc\u001b[0m\u001b[0;34m.\u001b[0m\u001b[0msend\u001b[0m\u001b[0;34m(\u001b[0m\u001b[0mi\u001b[0m\u001b[0;34m)\u001b[0m\u001b[0;34m\u001b[0m\u001b[0;34m\u001b[0m\u001b[0m\n",
      "\u001b[0;31mStopIteration\u001b[0m: "
     ]
    }
   ],
   "source": [
    "acc.send(None) # Finish the first tally\n",
    "for i in range(5):\n",
    "    acc.send(i)"
   ]
  },
  {
   "cell_type": "code",
   "execution_count": 89,
   "metadata": {},
   "outputs": [
    {
     "ename": "StopIteration",
     "evalue": "",
     "output_type": "error",
     "traceback": [
      "\u001b[0;31m---------------------------------------------------------------------------\u001b[0m",
      "\u001b[0;31mStopIteration\u001b[0m                             Traceback (most recent call last)",
      "\u001b[0;32m<ipython-input-89-d1cb745cc3ba>\u001b[0m in \u001b[0;36m<module>\u001b[0;34m\u001b[0m\n\u001b[0;32m----> 1\u001b[0;31m \u001b[0macc\u001b[0m\u001b[0;34m.\u001b[0m\u001b[0msend\u001b[0m\u001b[0;34m(\u001b[0m\u001b[0;32mNone\u001b[0m\u001b[0;34m)\u001b[0m\u001b[0;34m\u001b[0m\u001b[0;34m\u001b[0m\u001b[0m\n\u001b[0m\u001b[1;32m      2\u001b[0m \u001b[0mtallies\u001b[0m\u001b[0;34m\u001b[0m\u001b[0;34m\u001b[0m\u001b[0m\n",
      "\u001b[0;31mStopIteration\u001b[0m: "
     ]
    }
   ],
   "source": [
    "acc.send(None)\n",
    "tallies"
   ]
  },
  {
   "cell_type": "markdown",
   "metadata": {},
   "source": [
    "## 990. Satisfiability of Equality Equations\n",
    "\n",
    "Given an array equations of strings that represent relationships between variables, each string equations[i] has length 4 and takes one of two different forms: \"a==b\"or \"a!=b\". Here, a and b are lowercase letters (not necessarily differnt) that represent one-letter variable names. \n",
    "\n",
    "Return true if and only if it is possible to assign integers to variable names so as to satisfy all the given equations. \n",
    "\n",
    "**Example 1:**\n",
    "\n",
    "Input: [\"a == b\", \"b!=a\"]\n",
    "\n",
    "Output: False \n",
    "\n",
    "**Example 2:**\n",
    "\n",
    "Input: [\"b == a\", \"a==b\"]\n",
    "\n",
    "Output: True \n",
    "\n",
    "Explanation: We should assign a = 1 and b =1 to satisfy both equations. \n",
    "\n",
    "**Example 3:**\n",
    "\n",
    "Input: [\"a ==b\", \"b == c\", \"c == a\"]\n",
    "\n",
    "Output: True \n",
    "\n",
    "**Example 4:**\n",
    "\n",
    "Input: [\"a == b\", \"b!= c\", \"c == a\"]\n",
    "\n",
    "Output: False \n",
    "\n",
    "**Exampke 5:**\n",
    "\n",
    "Input: [\"c == c\", \"b == d\", \"x!= z\"]\n",
    "\n",
    "Output: True "
   ]
  },
  {
   "cell_type": "code",
   "execution_count": 2,
   "metadata": {},
   "outputs": [],
   "source": [
    "def equationPossible(equations: list) -> bool:\n",
    "    \n",
    "    def find(x: int):\n",
    "        if x != parents[x]:\n",
    "            parents[x] = find(parents[x])\n",
    "        return parents[x]\n",
    "    \n",
    "    n = len(equations)\n",
    "    if n == 0:\n",
    "        return True \n",
    "    parents = {}\n",
    "    \n",
    "    for eq in equations:\n",
    "        if eq[1] == \"=\":\n",
    "            if eq[0] in parents: \n",
    "                parents[find(eq[0])] = find(eq[3])\n",
    "            \n",
    "    print(parents)\n",
    "    \n",
    "    for eq in equations:\n",
    "        if eq[1] == \"!\" and find(eq[0]) == find(eq[3]):\n",
    "            return False \n",
    "    \n",
    "    return True \n",
    "    \n",
    "    "
   ]
  },
  {
   "cell_type": "code",
   "execution_count": 12,
   "metadata": {},
   "outputs": [],
   "source": [
    "equations = [\"a==b\", \"b!=a\"]"
   ]
  },
  {
   "cell_type": "code",
   "execution_count": 13,
   "metadata": {},
   "outputs": [
    {
     "ename": "KeyError",
     "evalue": "'b'",
     "output_type": "error",
     "traceback": [
      "\u001b[0;31m---------------------------------------------------------------------------\u001b[0m",
      "\u001b[0;31mKeyError\u001b[0m                                  Traceback (most recent call last)",
      "\u001b[0;32m<ipython-input-13-3f09de2b8d2e>\u001b[0m in \u001b[0;36m<module>\u001b[0;34m\u001b[0m\n\u001b[0;32m----> 1\u001b[0;31m \u001b[0mequationPossible\u001b[0m\u001b[0;34m(\u001b[0m\u001b[0mequations\u001b[0m\u001b[0;34m)\u001b[0m\u001b[0;34m\u001b[0m\u001b[0;34m\u001b[0m\u001b[0m\n\u001b[0m",
      "\u001b[0;32m<ipython-input-2-a4b3a4d0c438>\u001b[0m in \u001b[0;36mequationPossible\u001b[0;34m(equations)\u001b[0m\n\u001b[1;32m     13\u001b[0m     \u001b[0;32mfor\u001b[0m \u001b[0meq\u001b[0m \u001b[0;32min\u001b[0m \u001b[0mequations\u001b[0m\u001b[0;34m:\u001b[0m\u001b[0;34m\u001b[0m\u001b[0;34m\u001b[0m\u001b[0m\n\u001b[1;32m     14\u001b[0m         \u001b[0;32mif\u001b[0m \u001b[0meq\u001b[0m\u001b[0;34m[\u001b[0m\u001b[0;36m1\u001b[0m\u001b[0;34m]\u001b[0m \u001b[0;34m==\u001b[0m \u001b[0;34m\"=\"\u001b[0m\u001b[0;34m:\u001b[0m\u001b[0;34m\u001b[0m\u001b[0;34m\u001b[0m\u001b[0m\n\u001b[0;32m---> 15\u001b[0;31m             \u001b[0mparents\u001b[0m\u001b[0;34m[\u001b[0m\u001b[0mfind\u001b[0m\u001b[0;34m(\u001b[0m\u001b[0meq\u001b[0m\u001b[0;34m[\u001b[0m\u001b[0;36m0\u001b[0m\u001b[0;34m]\u001b[0m\u001b[0;34m)\u001b[0m\u001b[0;34m]\u001b[0m \u001b[0;34m=\u001b[0m \u001b[0mfind\u001b[0m\u001b[0;34m(\u001b[0m\u001b[0meq\u001b[0m\u001b[0;34m[\u001b[0m\u001b[0;36m3\u001b[0m\u001b[0;34m]\u001b[0m\u001b[0;34m)\u001b[0m\u001b[0;34m\u001b[0m\u001b[0;34m\u001b[0m\u001b[0m\n\u001b[0m\u001b[1;32m     16\u001b[0m \u001b[0;34m\u001b[0m\u001b[0m\n\u001b[1;32m     17\u001b[0m     \u001b[0mprint\u001b[0m\u001b[0;34m(\u001b[0m\u001b[0mparents\u001b[0m\u001b[0;34m)\u001b[0m\u001b[0;34m\u001b[0m\u001b[0;34m\u001b[0m\u001b[0m\n",
      "\u001b[0;32m<ipython-input-2-a4b3a4d0c438>\u001b[0m in \u001b[0;36mfind\u001b[0;34m(x)\u001b[0m\n\u001b[1;32m      2\u001b[0m \u001b[0;34m\u001b[0m\u001b[0m\n\u001b[1;32m      3\u001b[0m     \u001b[0;32mdef\u001b[0m \u001b[0mfind\u001b[0m\u001b[0;34m(\u001b[0m\u001b[0mx\u001b[0m\u001b[0;34m:\u001b[0m \u001b[0mint\u001b[0m\u001b[0;34m)\u001b[0m\u001b[0;34m:\u001b[0m\u001b[0;34m\u001b[0m\u001b[0;34m\u001b[0m\u001b[0m\n\u001b[0;32m----> 4\u001b[0;31m         \u001b[0;32mif\u001b[0m \u001b[0mx\u001b[0m \u001b[0;34m!=\u001b[0m \u001b[0mparents\u001b[0m\u001b[0;34m[\u001b[0m\u001b[0mx\u001b[0m\u001b[0;34m]\u001b[0m\u001b[0;34m:\u001b[0m\u001b[0;34m\u001b[0m\u001b[0;34m\u001b[0m\u001b[0m\n\u001b[0m\u001b[1;32m      5\u001b[0m             \u001b[0mparents\u001b[0m\u001b[0;34m[\u001b[0m\u001b[0mx\u001b[0m\u001b[0;34m]\u001b[0m \u001b[0;34m=\u001b[0m \u001b[0mfind\u001b[0m\u001b[0;34m(\u001b[0m\u001b[0mparents\u001b[0m\u001b[0;34m[\u001b[0m\u001b[0mx\u001b[0m\u001b[0;34m]\u001b[0m\u001b[0;34m)\u001b[0m\u001b[0;34m\u001b[0m\u001b[0;34m\u001b[0m\u001b[0m\n\u001b[1;32m      6\u001b[0m         \u001b[0;32mreturn\u001b[0m \u001b[0mparents\u001b[0m\u001b[0;34m[\u001b[0m\u001b[0mx\u001b[0m\u001b[0;34m]\u001b[0m\u001b[0;34m\u001b[0m\u001b[0;34m\u001b[0m\u001b[0m\n",
      "\u001b[0;31mKeyError\u001b[0m: 'b'"
     ]
    }
   ],
   "source": [
    "equationPossible(equations)"
   ]
  },
  {
   "cell_type": "markdown",
   "metadata": {},
   "source": [
    "not correct definition for parents "
   ]
  },
  {
   "cell_type": "code",
   "execution_count": 14,
   "metadata": {},
   "outputs": [
    {
     "name": "stdout",
     "output_type": "stream",
     "text": [
      "[[], [], [], [], [], [], [], [], [], [], [], [], [], [], [], [], [], [], [], [], [], [], [], [], [], []]\n"
     ]
    }
   ],
   "source": [
    "graph = [[] for _ in range(26)]\n",
    "\n",
    "print(graph)"
   ]
  },
  {
   "cell_type": "code",
   "execution_count": 15,
   "metadata": {},
   "outputs": [],
   "source": [
    "def equationsPossible2(equations: list) -> bool:\n",
    "    graph = [[] for _ in range(26)]\n",
    "    for eqn in equations:\n",
    "        print(eqn)\n",
    "        if eqn[1] == '=':\n",
    "            x = ord(eqn[0]) - ord('a')\n",
    "            y = ord(eqn[3]) - ord('a')\n",
    "            graph[x].append(y)\n",
    "            graph[y].append(x)\n",
    "            \n",
    "    print('graph is ')\n",
    "    print(graph)\n",
    "            \n",
    "    color = [None] * 26\n",
    "    \n",
    "    t = 0 \n",
    "    # DFS to color the node \n",
    "    for start in range(26):\n",
    "        if color[start] is None:\n",
    "            t += 1 \n",
    "            stack = [start]\n",
    "            while stack:\n",
    "                node = stack.pop()\n",
    "                for nei in graph[node]:\n",
    "                    if color[nei] is None:\n",
    "                        color[nei] = t \n",
    "                        stack.append(nei)\n",
    "    \n",
    "    print('color is ')\n",
    "    print(color)\n",
    "                        \n",
    "    for eqn in equations:\n",
    "        if eqn[1] == \"!\":\n",
    "            x = ord(eqn[0]) - ord('a')\n",
    "            y = ord(eqn[3]) - ord('a')\n",
    "            if x == y: \n",
    "                return False\n",
    "            if color[x] is not None and color[x] == color[y]:\n",
    "                return False \n",
    "            \n",
    "    return True \n",
    "            \n",
    "    "
   ]
  },
  {
   "cell_type": "code",
   "execution_count": 16,
   "metadata": {},
   "outputs": [
    {
     "name": "stdout",
     "output_type": "stream",
     "text": [
      "a==b\n",
      "b!=a\n",
      "graph is \n",
      "[[1], [0], [], [], [], [], [], [], [], [], [], [], [], [], [], [], [], [], [], [], [], [], [], [], [], []]\n",
      "color is \n",
      "[1, 1, None, None, None, None, None, None, None, None, None, None, None, None, None, None, None, None, None, None, None, None, None, None, None, None]\n"
     ]
    },
    {
     "data": {
      "text/plain": [
       "False"
      ]
     },
     "execution_count": 16,
     "metadata": {},
     "output_type": "execute_result"
    }
   ],
   "source": [
    "equationsPossible2(equations)"
   ]
  },
  {
   "cell_type": "code",
   "execution_count": 17,
   "metadata": {},
   "outputs": [
    {
     "name": "stdout",
     "output_type": "stream",
     "text": [
      "a==b\n",
      "b==a\n",
      "graph is \n",
      "[[1, 1], [0, 0], [], [], [], [], [], [], [], [], [], [], [], [], [], [], [], [], [], [], [], [], [], [], [], []]\n",
      "color is \n",
      "[1, 1, None, None, None, None, None, None, None, None, None, None, None, None, None, None, None, None, None, None, None, None, None, None, None, None]\n"
     ]
    },
    {
     "data": {
      "text/plain": [
       "True"
      ]
     },
     "execution_count": 17,
     "metadata": {},
     "output_type": "execute_result"
    }
   ],
   "source": [
    "equations = [\"a==b\", \"b==a\"]\n",
    "\n",
    "equationsPossible2(equations)"
   ]
  },
  {
   "cell_type": "code",
   "execution_count": 18,
   "metadata": {},
   "outputs": [
    {
     "name": "stdout",
     "output_type": "stream",
     "text": [
      "a==b\n",
      "b==c\n",
      "a==c\n",
      "graph is \n",
      "[[1, 2], [0, 2], [1, 0], [], [], [], [], [], [], [], [], [], [], [], [], [], [], [], [], [], [], [], [], [], [], []]\n",
      "color is \n",
      "[1, 1, 1, None, None, None, None, None, None, None, None, None, None, None, None, None, None, None, None, None, None, None, None, None, None, None]\n"
     ]
    },
    {
     "data": {
      "text/plain": [
       "True"
      ]
     },
     "execution_count": 18,
     "metadata": {},
     "output_type": "execute_result"
    }
   ],
   "source": [
    "equations = [\"a==b\",\"b==c\",\"a==c\"]\n",
    "\n",
    "equationsPossible2(equations)"
   ]
  },
  {
   "cell_type": "code",
   "execution_count": 19,
   "metadata": {},
   "outputs": [
    {
     "name": "stdout",
     "output_type": "stream",
     "text": [
      "a==b\n",
      "b!=c\n",
      "c==a\n",
      "graph is \n",
      "[[1, 2], [0], [0], [], [], [], [], [], [], [], [], [], [], [], [], [], [], [], [], [], [], [], [], [], [], []]\n",
      "color is \n",
      "[1, 1, 1, None, None, None, None, None, None, None, None, None, None, None, None, None, None, None, None, None, None, None, None, None, None, None]\n"
     ]
    },
    {
     "data": {
      "text/plain": [
       "False"
      ]
     },
     "execution_count": 19,
     "metadata": {},
     "output_type": "execute_result"
    }
   ],
   "source": [
    "equations = [\"a==b\",\"b!=c\",\"c==a\"]\n",
    "\n",
    "equationsPossible2(equations)"
   ]
  },
  {
   "cell_type": "code",
   "execution_count": 20,
   "metadata": {},
   "outputs": [
    {
     "name": "stdout",
     "output_type": "stream",
     "text": [
      "c==c\n",
      "b==d\n",
      "x!=z\n",
      "graph is \n",
      "[[], [3], [2, 2], [1], [], [], [], [], [], [], [], [], [], [], [], [], [], [], [], [], [], [], [], [], [], []]\n",
      "color is \n",
      "[None, 2, 3, 2, None, None, None, None, None, None, None, None, None, None, None, None, None, None, None, None, None, None, None, None, None, None]\n"
     ]
    },
    {
     "data": {
      "text/plain": [
       "True"
      ]
     },
     "execution_count": 20,
     "metadata": {},
     "output_type": "execute_result"
    }
   ],
   "source": [
    "equations = [\"c==c\",\"b==d\",\"x!=z\"]\n",
    "\n",
    "equationsPossible2(equations)"
   ]
  },
  {
   "cell_type": "markdown",
   "metadata": {},
   "source": [
    "Time Complexity: O(V + E)\n",
    "\n",
    "Space Complexity: O(1) == 26 "
   ]
  },
  {
   "cell_type": "markdown",
   "metadata": {},
   "source": [
    "## 721. Accounts Merge \n",
    "\n",
    "Given a list accounts, each element accounts[i] is a list of strings, where the first element accounts[i][0] is a name, and the rest of the elements are emails representing emails of the account. \n",
    "\n",
    "Now, we would like to merge these accounts, Two accounts definitely belong to the same person if there is some email that is common to both accounts. Note that even if two accounts have the same name, they may belong to different people as people could have the same name. A person can have any number of accounts initially, but all of their accounts definitely have the same name. \n",
    "\n",
    "After merging the accounts, return the accounts in the following format: the first element of each account is the name, and the rest of the elements are emails in sorted order. The accounts themselves can be returned in any order. "
   ]
  },
  {
   "cell_type": "code",
   "execution_count": null,
   "metadata": {},
   "outputs": [],
   "source": [
    "def accountsMerge(accounts: list) -> list:\n",
    "    "
   ]
  },
  {
   "cell_type": "markdown",
   "metadata": {},
   "source": [
    "## 1365. How Many Numbers Are Smaller Than the Current Number \n",
    "\n",
    "Given the array nums, for each nums[i] find out how many numbers in the array are smaller than it. That is, for each nums[i] you have to count the number of valid j's such that j != i and nums[j] < nums[i]. \n",
    "\n",
    "**Example 1:**\n",
    "\n",
    "Input: nums = [8, 1, 2, 2, 3]\n",
    "\n",
    "Output: [4, 0, 1, 1, 3]\n",
    "\n",
    "Explanation: For nums[0] = 8, there exist four smaller numbers than it (1,2,2 and 3).\n",
    "\n",
    "For nums[1] = 1 does not exist any smaller number than it. \n",
    "\n",
    "For nums[2] = 2 there exist one smaller number than it (1). \n",
    "\n",
    "For nums[3] = 2 there exist one smaller number than it (1). \n",
    "\n",
    "For nums[4] = 3 there exist three smaller numbers than it (1, 2 and 2). \n"
   ]
  },
  {
   "cell_type": "code",
   "execution_count": 21,
   "metadata": {},
   "outputs": [],
   "source": [
    "def smallerNumbersThanCurrent(nums: list) -> list:\n",
    "    count = [0] * 102\n",
    "    for num in nums:\n",
    "        count[num +1] +=1\n",
    "    print(count)\n",
    "    for i in range(1, 102):\n",
    "        count[i] += count[i-1]\n",
    "    print(count)\n",
    "    return [count[num] for num in nums]"
   ]
  },
  {
   "cell_type": "code",
   "execution_count": 22,
   "metadata": {},
   "outputs": [
    {
     "name": "stdout",
     "output_type": "stream",
     "text": [
      "[0, 0, 1, 2, 1, 0, 0, 0, 0, 1, 0, 0, 0, 0, 0, 0, 0, 0, 0, 0, 0, 0, 0, 0, 0, 0, 0, 0, 0, 0, 0, 0, 0, 0, 0, 0, 0, 0, 0, 0, 0, 0, 0, 0, 0, 0, 0, 0, 0, 0, 0, 0, 0, 0, 0, 0, 0, 0, 0, 0, 0, 0, 0, 0, 0, 0, 0, 0, 0, 0, 0, 0, 0, 0, 0, 0, 0, 0, 0, 0, 0, 0, 0, 0, 0, 0, 0, 0, 0, 0, 0, 0, 0, 0, 0, 0, 0, 0, 0, 0, 0, 0]\n",
      "[0, 0, 1, 3, 4, 4, 4, 4, 4, 5, 5, 5, 5, 5, 5, 5, 5, 5, 5, 5, 5, 5, 5, 5, 5, 5, 5, 5, 5, 5, 5, 5, 5, 5, 5, 5, 5, 5, 5, 5, 5, 5, 5, 5, 5, 5, 5, 5, 5, 5, 5, 5, 5, 5, 5, 5, 5, 5, 5, 5, 5, 5, 5, 5, 5, 5, 5, 5, 5, 5, 5, 5, 5, 5, 5, 5, 5, 5, 5, 5, 5, 5, 5, 5, 5, 5, 5, 5, 5, 5, 5, 5, 5, 5, 5, 5, 5, 5, 5, 5, 5, 5]\n"
     ]
    },
    {
     "data": {
      "text/plain": [
       "[4, 0, 1, 1, 3]"
      ]
     },
     "execution_count": 22,
     "metadata": {},
     "output_type": "execute_result"
    }
   ],
   "source": [
    "nums = [8, 1, 2, 2, 3]\n",
    "\n",
    "smallerNumbersThanCurrent(nums)"
   ]
  },
  {
   "cell_type": "markdown",
   "metadata": {},
   "source": [
    "## 315. Count of Smaller Numbers After Self\n",
    "\n",
    "You are given an integer array nums and you have to return a new counts array. The counts array has the property where counts[i] is the number of smaller elements to the right of nums[i]\n",
    "\n",
    "**Example:** \n",
    "\n",
    "Input: [5, 2, 6, 1]\n",
    "\n",
    "Output: [2, 1, 1, 0]\n",
    "\n",
    "Explanation: To the right of 5 there are 2 smaller elements (2 and 1). To the right of 2 there is only 1 smaller element (1). To the right of 6 there is 1 smaller element (1). To the right of 1 there is 0 smaller element. "
   ]
  },
  {
   "cell_type": "code",
   "execution_count": null,
   "metadata": {},
   "outputs": [],
   "source": [
    "def countSmaller(nums:list) -> list:\n",
    "    "
   ]
  }
 ],
 "metadata": {
  "kernelspec": {
   "display_name": "Python 3",
   "language": "python",
   "name": "python3"
  },
  "language_info": {
   "codemirror_mode": {
    "name": "ipython",
    "version": 3
   },
   "file_extension": ".py",
   "mimetype": "text/x-python",
   "name": "python",
   "nbconvert_exporter": "python",
   "pygments_lexer": "ipython3",
   "version": "3.6.9"
  }
 },
 "nbformat": 4,
 "nbformat_minor": 2
}
