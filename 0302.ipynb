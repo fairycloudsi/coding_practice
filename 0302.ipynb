{
 "cells": [
  {
   "cell_type": "markdown",
   "metadata": {},
   "source": [
    "## 938. Range Sum of BST\n",
    "\n",
    "Given the root node of a binary search tree, return the sum of values of all nodes with value between L and R (inclusive). \n",
    "\n",
    "The binary search tree is guaranteed to have unique values. \n",
    "\n",
    "**Example 1:**\n",
    "\n",
    "Input: root = [10, 5, 16, 3, 7, null, 18], L = 7, R = 15. \n",
    "\n",
    "Output: 32\n",
    "\n",
    "**Example 2:** \n",
    "\n",
    "Input: root = [10, 5, 15, 3, 7, 18, 1, null, 6], L = 6, R = 10.\n",
    "\n",
    "Output: 23"
   ]
  },
  {
   "cell_type": "code",
   "execution_count": 1,
   "metadata": {},
   "outputs": [],
   "source": [
    "class TreeNode:\n",
    "    def __init__(self, x):\n",
    "        self.val = x\n",
    "        self.left = None\n",
    "        self.right = None\n",
    "        \n"
   ]
  },
  {
   "cell_type": "code",
   "execution_count": 3,
   "metadata": {},
   "outputs": [],
   "source": [
    "def rangeSumBST(root: TreeNode, L: int, R:int) -> int:\n",
    "    return []"
   ]
  },
  {
   "cell_type": "markdown",
   "metadata": {},
   "source": [
    "## 746. Min Cost Climbing Stairs\n",
    "\n",
    "On a staircase, the i-th step has some non-negative cost cost[i] assigned (0 indexed). \n",
    "\n",
    "Once you pay the cost, you can either climb one or two steps. You need to find minimum cost to reach the top of the floor, and you can either start from the step with index 0, or the step with index 1. \n",
    "\n",
    "**Example 1:**\n",
    "\n",
    "Input: cost = [10, 15,20]\n",
    "\n",
    "Output: 15\n",
    "\n",
    "Explanation: Cheapest is start on cost[1], pay that cost and go to the top. \n",
    "\n",
    "**Example 2:**\n",
    "\n",
    "Input: cost = [1, 100, 1, 1, 1, 100, 1, 1, 100, 1]\n",
    "\n",
    "Output: 6\n",
    "\n",
    "Explanation: Cheapest is start on cost[0], and only step on 1s, skipping cost[3]. "
   ]
  },
  {
   "cell_type": "code",
   "execution_count": 7,
   "metadata": {},
   "outputs": [],
   "source": [
    "def minCostClimbingStairs(cost: list) -> int:\n",
    "    n = len(cost)\n",
    "    if n <= 1:\n",
    "        return 0 \n",
    "    \n",
    "    if n == 2:\n",
    "        return min(dp[1], dp[0])\n",
    "    \n",
    "    dp = [0 for _ in range(n)]\n",
    "    \n",
    "    dp[0] = cost[0]\n",
    "    dp[1] = cost[1]\n",
    "    \n",
    "    for i in range(2, n):\n",
    "        dp[i] = min(dp[i-2] + cost[i], dp[i-1] + cost[i])\n",
    "    print(dp)\n",
    "    \n",
    "    return min(dp[n-1],dp[n-2])"
   ]
  },
  {
   "cell_type": "code",
   "execution_count": 8,
   "metadata": {},
   "outputs": [
    {
     "name": "stdout",
     "output_type": "stream",
     "text": [
      "[10, 15, 30]\n"
     ]
    },
    {
     "data": {
      "text/plain": [
       "15"
      ]
     },
     "execution_count": 8,
     "metadata": {},
     "output_type": "execute_result"
    }
   ],
   "source": [
    "cost = [10, 15, 20]\n",
    "\n",
    "minCostClimbingStairs(cost)"
   ]
  },
  {
   "cell_type": "code",
   "execution_count": 9,
   "metadata": {},
   "outputs": [
    {
     "name": "stdout",
     "output_type": "stream",
     "text": [
      "[1, 100, 2, 3, 3, 103, 4, 5, 104, 6]\n"
     ]
    },
    {
     "data": {
      "text/plain": [
       "6"
      ]
     },
     "execution_count": 9,
     "metadata": {},
     "output_type": "execute_result"
    }
   ],
   "source": [
    "cost = [1, 100, 1, 1, 1, 100, 1, 1, 100, 1]\n",
    "\n",
    "minCostClimbingStairs(cost)"
   ]
  },
  {
   "cell_type": "markdown",
   "metadata": {},
   "source": [
    "## 485. Max Cosecutive Ones \n",
    "\n",
    "Given a binary array, find the maximum number of consecutive 1s in this array. \n",
    "\n",
    "**Example 1:**\n",
    "\n",
    "Input: [1, 1, 0, 1, 1, 1]\n",
    "\n",
    "Output: 3 \n",
    "\n",
    "Explanation: The first two digits or the last three digits are consecutive 1s. \n",
    "\n",
    "The maximum number of consecutive 1s is 3. "
   ]
  },
  {
   "cell_type": "code",
   "execution_count": 14,
   "metadata": {},
   "outputs": [],
   "source": [
    "def findMaxConsecutiveOnes(nums: list) -> int:\n",
    "    \n",
    "    n = len(nums)\n",
    "    \n",
    "    if n == 0:\n",
    "        return n \n",
    "    count = 0 \n",
    "    max_ = 0 \n",
    "    \n",
    "    for i in range(n):\n",
    "        if nums[i] == 1:\n",
    "            count += 1\n",
    "        elif nums[i] == 0:\n",
    "            max_ = max(max_, count)\n",
    "            count = 0 \n",
    "        if i == n-1:\n",
    "            max_ = max(max_, count)\n",
    "        print(count)\n",
    "    return max_\n",
    "            \n",
    "            "
   ]
  },
  {
   "cell_type": "code",
   "execution_count": 15,
   "metadata": {},
   "outputs": [
    {
     "name": "stdout",
     "output_type": "stream",
     "text": [
      "1\n",
      "2\n",
      "0\n",
      "1\n",
      "2\n",
      "3\n"
     ]
    },
    {
     "data": {
      "text/plain": [
       "3"
      ]
     },
     "execution_count": 15,
     "metadata": {},
     "output_type": "execute_result"
    }
   ],
   "source": [
    "nums = [1,1,0,1,1,1]\n",
    "\n",
    "findMaxConsecutiveOnes(nums)"
   ]
  },
  {
   "cell_type": "markdown",
   "metadata": {},
   "source": [
    "Time Complexity: O(n)\n",
    "\n",
    "Space Complexity: O(1)"
   ]
  },
  {
   "cell_type": "code",
   "execution_count": 16,
   "metadata": {},
   "outputs": [],
   "source": [
    "def findMaxConsecutiveOnes2(nums: list) -> int:\n",
    "    s = ''.join(str(x) for x in nums)\n",
    "    s = s.split('0')\n",
    "    print(s)\n",
    "    return max([len(x) for x in s])"
   ]
  },
  {
   "cell_type": "code",
   "execution_count": 17,
   "metadata": {},
   "outputs": [
    {
     "name": "stdout",
     "output_type": "stream",
     "text": [
      "['11', '111']\n"
     ]
    },
    {
     "data": {
      "text/plain": [
       "3"
      ]
     },
     "execution_count": 17,
     "metadata": {},
     "output_type": "execute_result"
    }
   ],
   "source": [
    "findMaxConsecutiveOnes2(nums)"
   ]
  },
  {
   "cell_type": "markdown",
   "metadata": {},
   "source": [
    "## 1004 Max Consecutive Ones III\n",
    "\n",
    "Given an array A of 0s and 1s, we may change up to K values from 0 to 1. Return the length of the longest (continguous) subarray that contains only 1s. \n",
    "\n",
    "**Example 1:**\n",
    "\n",
    "Input: A = [1, 1, 1, 0, 0, 0, 1, 1, 1, 1, 0], K = 2\n",
    "\n",
    "Output: 6\n",
    "\n",
    "Explanation:\n",
    "\n",
    "[1, 1, 1, 0, 0, **1**, 1, 1, 1, 1, **1**]\n",
    "\n",
    "**Example 2:**\n",
    "\n",
    "Input: A = [0, 0, 1, 1, 0, 0, 1, 1, 1, 0, 1, 1, 0, 0, 0, 1, 1, 1, 1], \n",
    "\n",
    "K = 3\n",
    "\n",
    "Output: 10 \n",
    "\n",
    "Explanation: [0, 0, 1, 1, 1, 1, 1, 1, 1, 1, 1, 1, 0, 0, 0, 1, 1, 1, 1]"
   ]
  },
  {
   "cell_type": "code",
   "execution_count": 48,
   "metadata": {},
   "outputs": [],
   "source": [
    "def longestOnes(A: list, K: int) -> int:\n",
    "    \n",
    "        l = 0 \n",
    "        zeros = 0 \n",
    "        ans = 0 \n",
    "        \n",
    "        n = len(A)\n",
    "        \n",
    "        if n == 0:\n",
    "            return 0 \n",
    "        \n",
    "        for r in range(0,n): \n",
    "            if A[r] == 0:\n",
    "                zeros += 1 \n",
    "            while (zeros > K):\n",
    "#                 l += 1\n",
    "                if A[l] == 0:\n",
    "                    zeros -= 1 \n",
    "                l += 1 \n",
    "            print('zeros is ')\n",
    "            print(zeros)\n",
    "            print('l and r is ')\n",
    "            print(l, r)\n",
    "            ans = max(ans, r-l +1)\n",
    "            print('ans is ')\n",
    "            print(ans)\n",
    "            \n",
    "        return ans\n",
    "            \n",
    "    \n",
    "    \n",
    "    \n",
    "    "
   ]
  },
  {
   "cell_type": "code",
   "execution_count": 49,
   "metadata": {},
   "outputs": [
    {
     "name": "stdout",
     "output_type": "stream",
     "text": [
      "zeros is \n",
      "0\n",
      "l and r is \n",
      "0 0\n",
      "ans is \n",
      "1\n",
      "zeros is \n",
      "0\n",
      "l and r is \n",
      "0 1\n",
      "ans is \n",
      "2\n",
      "zeros is \n",
      "0\n",
      "l and r is \n",
      "0 2\n",
      "ans is \n",
      "3\n",
      "zeros is \n",
      "1\n",
      "l and r is \n",
      "0 3\n",
      "ans is \n",
      "4\n",
      "zeros is \n",
      "2\n",
      "l and r is \n",
      "0 4\n",
      "ans is \n",
      "5\n",
      "zeros is \n",
      "2\n",
      "l and r is \n",
      "4 5\n",
      "ans is \n",
      "5\n",
      "zeros is \n",
      "2\n",
      "l and r is \n",
      "4 6\n",
      "ans is \n",
      "5\n",
      "zeros is \n",
      "2\n",
      "l and r is \n",
      "4 7\n",
      "ans is \n",
      "5\n",
      "zeros is \n",
      "2\n",
      "l and r is \n",
      "4 8\n",
      "ans is \n",
      "5\n",
      "zeros is \n",
      "2\n",
      "l and r is \n",
      "4 9\n",
      "ans is \n",
      "6\n",
      "zeros is \n",
      "2\n",
      "l and r is \n",
      "5 10\n",
      "ans is \n",
      "6\n"
     ]
    },
    {
     "data": {
      "text/plain": [
       "6"
      ]
     },
     "execution_count": 49,
     "metadata": {},
     "output_type": "execute_result"
    }
   ],
   "source": [
    "A = [1,1,1,0,0,0,1,1,1,1,0]\n",
    "\n",
    "K = 2\n",
    "\n",
    "longestOnes(A,K)"
   ]
  },
  {
   "cell_type": "code",
   "execution_count": 50,
   "metadata": {},
   "outputs": [
    {
     "name": "stdout",
     "output_type": "stream",
     "text": [
      "zeros is \n",
      "1\n",
      "l and r is \n",
      "0 0\n",
      "ans is \n",
      "1\n",
      "zeros is \n",
      "2\n",
      "l and r is \n",
      "0 1\n",
      "ans is \n",
      "2\n",
      "zeros is \n",
      "2\n",
      "l and r is \n",
      "0 2\n",
      "ans is \n",
      "3\n",
      "zeros is \n",
      "2\n",
      "l and r is \n",
      "0 3\n",
      "ans is \n",
      "4\n",
      "zeros is \n",
      "3\n",
      "l and r is \n",
      "0 4\n",
      "ans is \n",
      "5\n",
      "zeros is \n",
      "3\n",
      "l and r is \n",
      "1 5\n",
      "ans is \n",
      "5\n",
      "zeros is \n",
      "3\n",
      "l and r is \n",
      "1 6\n",
      "ans is \n",
      "6\n",
      "zeros is \n",
      "3\n",
      "l and r is \n",
      "1 7\n",
      "ans is \n",
      "7\n",
      "zeros is \n",
      "3\n",
      "l and r is \n",
      "1 8\n",
      "ans is \n",
      "8\n",
      "zeros is \n",
      "3\n",
      "l and r is \n",
      "2 9\n",
      "ans is \n",
      "8\n",
      "zeros is \n",
      "3\n",
      "l and r is \n",
      "2 10\n",
      "ans is \n",
      "9\n",
      "zeros is \n",
      "3\n",
      "l and r is \n",
      "2 11\n",
      "ans is \n",
      "10\n",
      "zeros is \n",
      "3\n",
      "l and r is \n",
      "5 12\n",
      "ans is \n",
      "10\n",
      "zeros is \n",
      "3\n",
      "l and r is \n",
      "6 13\n",
      "ans is \n",
      "10\n",
      "zeros is \n",
      "3\n",
      "l and r is \n",
      "10 14\n",
      "ans is \n",
      "10\n",
      "zeros is \n",
      "3\n",
      "l and r is \n",
      "10 15\n",
      "ans is \n",
      "10\n",
      "zeros is \n",
      "3\n",
      "l and r is \n",
      "10 16\n",
      "ans is \n",
      "10\n",
      "zeros is \n",
      "3\n",
      "l and r is \n",
      "10 17\n",
      "ans is \n",
      "10\n",
      "zeros is \n",
      "3\n",
      "l and r is \n",
      "10 18\n",
      "ans is \n",
      "10\n"
     ]
    },
    {
     "data": {
      "text/plain": [
       "10"
      ]
     },
     "execution_count": 50,
     "metadata": {},
     "output_type": "execute_result"
    }
   ],
   "source": [
    "A = [0,0,1,1,0,0,1,1,1,0,1,1,0,0,0,1,1,1,1]\n",
    "K = 3\n",
    "\n",
    "longestOnes(A,K)"
   ]
  },
  {
   "cell_type": "code",
   "execution_count": 35,
   "metadata": {},
   "outputs": [
    {
     "data": {
      "text/plain": [
       "[1, 1, 0, 0, 0, 1, 1, 1, 1]"
      ]
     },
     "execution_count": 35,
     "metadata": {},
     "output_type": "execute_result"
    }
   ],
   "source": [
    "A[10:19]"
   ]
  },
  {
   "cell_type": "markdown",
   "metadata": {},
   "source": [
    "Time Complexity: O(n)\n",
    "\n",
    "Space Complexity: O(1)"
   ]
  },
  {
   "cell_type": "markdown",
   "metadata": {},
   "source": [
    "## 424. Longest Repeating Character Replacement \n",
    "\n",
    "Given a string s that consists of only uppercase English letters, you can perform at most k operations on that string. \n",
    "\n",
    "In one operation, you can choose any character of the string and change it to any other uppercase English character. \n",
    "\n",
    "Find the length of the longest sub-string containing all repeating letters you can get after performing the above operations. \n",
    "\n",
    "**Note:**\n",
    "\n",
    "Both the string's length and k will not exceed 10^4. \n",
    "\n",
    "**Example 1:**\n",
    "\n",
    "Input: s = \"ABAB\", k = 2 \n",
    "\n",
    "Output: 4 \n",
    "\n",
    "**Example 2:**\n",
    "\n",
    "Input: s = \"AABABBA\", k = 1 \n",
    "\n",
    "Output: 4 "
   ]
  },
  {
   "cell_type": "code",
   "execution_count": 51,
   "metadata": {},
   "outputs": [
    {
     "data": {
      "text/plain": [
       "4"
      ]
     },
     "execution_count": 51,
     "metadata": {},
     "output_type": "execute_result"
    }
   ],
   "source": [
    "s = \"AABA\"\n",
    "\n",
    "len(s)"
   ]
  },
  {
   "cell_type": "code",
   "execution_count": 52,
   "metadata": {},
   "outputs": [
    {
     "data": {
      "text/plain": [
       "'A'"
      ]
     },
     "execution_count": 52,
     "metadata": {},
     "output_type": "execute_result"
    }
   ],
   "source": [
    "s[1]"
   ]
  },
  {
   "cell_type": "code",
   "execution_count": 99,
   "metadata": {},
   "outputs": [],
   "source": [
    "def characterReplacement(s: str, k: int) -> int:\n",
    "    \n",
    "    ans = 0 \n",
    "    \n",
    "    non = 0 \n",
    "    \n",
    "    l = 0 \n",
    "    \n",
    "    n = len(s)\n",
    "    \n",
    "    count = [0 for _ in range(26)]\n",
    "    \n",
    "    if n == 0:\n",
    "        return 0 \n",
    "    \n",
    "    \n",
    "    for r in range(1,n):\n",
    "        key = s[l]\n",
    "        count[ord(key) - ord('A')] = 1 \n",
    "        print('key is ')\n",
    "        print(key)\n",
    "        if s[r] != key:\n",
    "            non += 1 \n",
    "        else:\n",
    "            count[ord(key) - ord('A')] += 1 \n",
    "        while non > k and l<r: \n",
    "            print('l is ')\n",
    "            print(l)\n",
    "            if s[l] != key:\n",
    "                non -= 1 \n",
    "            l += 1 \n",
    "        if l == r:\n",
    "            non = 0 \n",
    "        print('count is ')\n",
    "        print(count)\n",
    "        \n",
    "        ans = max(ans, r-l+1)\n",
    "        \n",
    "    return (ans)\n",
    "        "
   ]
  },
  {
   "cell_type": "code",
   "execution_count": 102,
   "metadata": {},
   "outputs": [
    {
     "name": "stdout",
     "output_type": "stream",
     "text": [
      "key is \n",
      "A\n",
      "count is \n",
      "[2, 0, 0, 0, 0, 0, 0, 0, 0, 0, 0, 0, 0, 0, 0, 0, 0, 0, 0, 0, 0, 0, 0, 0, 0, 0]\n",
      "key is \n",
      "A\n",
      "count is \n",
      "[1, 0, 0, 0, 0, 0, 0, 0, 0, 0, 0, 0, 0, 0, 0, 0, 0, 0, 0, 0, 0, 0, 0, 0, 0, 0]\n",
      "key is \n",
      "A\n",
      "count is \n",
      "[2, 0, 0, 0, 0, 0, 0, 0, 0, 0, 0, 0, 0, 0, 0, 0, 0, 0, 0, 0, 0, 0, 0, 0, 0, 0]\n"
     ]
    },
    {
     "data": {
      "text/plain": [
       "4"
      ]
     },
     "execution_count": 102,
     "metadata": {},
     "output_type": "execute_result"
    }
   ],
   "source": [
    "s = \"AABA\"\n",
    "\n",
    "characterReplacement(s,1)"
   ]
  },
  {
   "cell_type": "code",
   "execution_count": 101,
   "metadata": {},
   "outputs": [
    {
     "name": "stdout",
     "output_type": "stream",
     "text": [
      "key is \n",
      "A\n",
      "count is \n",
      "[2, 0, 0, 0, 0, 0, 0, 0, 0, 0, 0, 0, 0, 0, 0, 0, 0, 0, 0, 0, 0, 0, 0, 0, 0, 0]\n",
      "key is \n",
      "A\n",
      "count is \n",
      "[1, 0, 0, 0, 0, 0, 0, 0, 0, 0, 0, 0, 0, 0, 0, 0, 0, 0, 0, 0, 0, 0, 0, 0, 0, 0]\n",
      "key is \n",
      "A\n",
      "count is \n",
      "[2, 0, 0, 0, 0, 0, 0, 0, 0, 0, 0, 0, 0, 0, 0, 0, 0, 0, 0, 0, 0, 0, 0, 0, 0, 0]\n",
      "key is \n",
      "A\n",
      "l is \n",
      "0\n",
      "l is \n",
      "1\n",
      "l is \n",
      "2\n",
      "count is \n",
      "[1, 0, 0, 0, 0, 0, 0, 0, 0, 0, 0, 0, 0, 0, 0, 0, 0, 0, 0, 0, 0, 0, 0, 0, 0, 0]\n",
      "key is \n",
      "A\n",
      "l is \n",
      "3\n",
      "l is \n",
      "4\n",
      "count is \n",
      "[1, 0, 0, 0, 0, 0, 0, 0, 0, 0, 0, 0, 0, 0, 0, 0, 0, 0, 0, 0, 0, 0, 0, 0, 0, 0]\n",
      "key is \n",
      "B\n",
      "count is \n",
      "[1, 1, 0, 0, 0, 0, 0, 0, 0, 0, 0, 0, 0, 0, 0, 0, 0, 0, 0, 0, 0, 0, 0, 0, 0, 0]\n"
     ]
    },
    {
     "data": {
      "text/plain": [
       "4"
      ]
     },
     "execution_count": 101,
     "metadata": {},
     "output_type": "execute_result"
    }
   ],
   "source": [
    "s = \"AABABBA\"\n",
    "\n",
    "k = 1\n",
    "\n",
    "characterReplacement(s,k)"
   ]
  },
  {
   "cell_type": "code",
   "execution_count": 90,
   "metadata": {},
   "outputs": [
    {
     "name": "stdout",
     "output_type": "stream",
     "text": [
      "key is \n",
      "A\n",
      "count is \n",
      "[2, 0, 0, 0, 0, 0, 0, 0, 0, 0, 0, 0, 0, 0, 0, 0, 0, 0, 0, 0, 0, 0, 0, 0, 0, 0]\n",
      "key is \n",
      "A\n",
      "count is \n",
      "[1, 0, 0, 0, 0, 0, 0, 0, 0, 0, 0, 0, 0, 0, 0, 0, 0, 0, 0, 0, 0, 0, 0, 0, 0, 0]\n",
      "key is \n",
      "A\n",
      "count is \n",
      "[2, 0, 0, 0, 0, 0, 0, 0, 0, 0, 0, 0, 0, 0, 0, 0, 0, 0, 0, 0, 0, 0, 0, 0, 0, 0]\n",
      "key is \n",
      "A\n",
      "count is \n",
      "[1, 0, 0, 0, 0, 0, 0, 0, 0, 0, 0, 0, 0, 0, 0, 0, 0, 0, 0, 0, 0, 0, 0, 0, 0, 0]\n"
     ]
    },
    {
     "data": {
      "text/plain": [
       "4"
      ]
     },
     "execution_count": 90,
     "metadata": {},
     "output_type": "execute_result"
    }
   ],
   "source": [
    "s = \"ABAB\"\n",
    "\n",
    "k =2 \n",
    "\n",
    "characterReplacement(s,k)"
   ]
  },
  {
   "cell_type": "code",
   "execution_count": 100,
   "metadata": {},
   "outputs": [
    {
     "name": "stdout",
     "output_type": "stream",
     "text": [
      "key is \n",
      "B\n",
      "l is \n",
      "0\n",
      "count is \n",
      "[0, 1, 0, 0, 0, 0, 0, 0, 0, 0, 0, 0, 0, 0, 0, 0, 0, 0, 0, 0, 0, 0, 0, 0, 0, 0]\n",
      "key is \n",
      "A\n",
      "count is \n",
      "[2, 1, 0, 0, 0, 0, 0, 0, 0, 0, 0, 0, 0, 0, 0, 0, 0, 0, 0, 0, 0, 0, 0, 0, 0, 0]\n",
      "key is \n",
      "A\n",
      "count is \n",
      "[2, 1, 0, 0, 0, 0, 0, 0, 0, 0, 0, 0, 0, 0, 0, 0, 0, 0, 0, 0, 0, 0, 0, 0, 0, 0]\n"
     ]
    },
    {
     "data": {
      "text/plain": [
       "3"
      ]
     },
     "execution_count": 100,
     "metadata": {},
     "output_type": "execute_result"
    }
   ],
   "source": [
    "s = \"BAAA\"\n",
    "\n",
    "k = 0 \n",
    "\n",
    "characterReplacement(s,k)"
   ]
  },
  {
   "cell_type": "markdown",
   "metadata": {},
   "source": [
    "## 207. Course Schedule \n",
    "\n",
    "There are a total of n courses you have to take, labeled from 0 to n-1. \n",
    "\n",
    "Some courses may have prerquisities, for example to take course 0 you have to first take course 1, which is expressed as a pair: [0,1]\n",
    "\n",
    "Given a total number of courses and a list of prerequisite pairs, is it possible for you to finish all courses? \n",
    "\n",
    "**Example 1:**\n",
    "\n",
    "Input: 2, [[1,0]]\n",
    "\n",
    "Output: true\n",
    "\n",
    "Explanation: There are a total of 2 courses to take. To take course 1 you shold have finished course 0. So it is possible. \n",
    "\n",
    "**Example 2:**\n",
    "\n",
    "Input: 2, [[1,0], [0,1]]\n",
    "\n",
    "Output: false \n",
    "\n",
    "Explanation: There are a total of 2 courses to take. To take course 1 you should have finished course 0, and to take course 0 you should also have finished course 1. So it is impossible. \n"
   ]
  },
  {
   "cell_type": "code",
   "execution_count": 133,
   "metadata": {},
   "outputs": [],
   "source": [
    "def canFinish(numCourses: int, prerequisites: list) -> bool:\n",
    "    \n",
    "    # construct a graph\n",
    "    \n",
    "    graph_ = {}\n",
    "    \n",
    "    for p in prerequisites:\n",
    "        if p[1] in graph_:\n",
    "            graph_[p[1]].append(p[0])\n",
    "        else:\n",
    "            graph_[p[1]] = [p[0]]\n",
    "        \n",
    "    visited = [0 for _ in range(numCourses)]\n",
    "    \n",
    "    def dfs(i: int, visited: list):\n",
    "        if visited[i] == 1:\n",
    "            return True\n",
    "        if visited[i] == 2:\n",
    "            return False \n",
    "        visited[i] = 1\n",
    "        if i in graph_:\n",
    "            for neigh in graph_[i]:\n",
    "                if dfs(neigh, visited):\n",
    "                    return True \n",
    "        visited[i] = 2\n",
    "        return False \n",
    "            \n",
    "        \n",
    "    \n",
    "    for i in range(numCourses):\n",
    "        if dfs(i,visited):\n",
    "            return False  \n",
    "    return True\n",
    "\n",
    "    "
   ]
  },
  {
   "cell_type": "code",
   "execution_count": 129,
   "metadata": {},
   "outputs": [],
   "source": [
    "numCourses = 2 \n",
    "\n",
    "prerequisites = [[1,0]]"
   ]
  },
  {
   "cell_type": "code",
   "execution_count": 130,
   "metadata": {},
   "outputs": [
    {
     "data": {
      "text/plain": [
       "True"
      ]
     },
     "execution_count": 130,
     "metadata": {},
     "output_type": "execute_result"
    }
   ],
   "source": [
    "canFinish(numCourses, prerequisites)"
   ]
  },
  {
   "cell_type": "code",
   "execution_count": 131,
   "metadata": {},
   "outputs": [
    {
     "data": {
      "text/plain": [
       "False"
      ]
     },
     "execution_count": 131,
     "metadata": {},
     "output_type": "execute_result"
    }
   ],
   "source": [
    "numCourses = 2\n",
    "\n",
    "prerequisites = [[1,0], [0,1]]\n",
    "\n",
    "canFinish(numCourses, prerequisites)"
   ]
  },
  {
   "cell_type": "code",
   "execution_count": 134,
   "metadata": {},
   "outputs": [
    {
     "data": {
      "text/plain": [
       "False"
      ]
     },
     "execution_count": 134,
     "metadata": {},
     "output_type": "execute_result"
    }
   ],
   "source": [
    "numCourses = 8 \n",
    "\n",
    "prerequisites = [[1,0], [2,6], [1,7], [5,1], [6,4], [7,0], [0,5]]\n",
    "\n",
    "canFinish(numCourses, prerequisites)"
   ]
  },
  {
   "cell_type": "code",
   "execution_count": 135,
   "metadata": {},
   "outputs": [
    {
     "data": {
      "text/plain": [
       "True"
      ]
     },
     "execution_count": 135,
     "metadata": {},
     "output_type": "execute_result"
    }
   ],
   "source": [
    "numCourses = 8 \n",
    "\n",
    "prerequisites = [[1,0], [2,6], [1,7],  [6,4], [7,0], [0,5]]\n",
    "\n",
    "canFinish(numCourses, prerequisites)"
   ]
  },
  {
   "cell_type": "markdown",
   "metadata": {},
   "source": [
    "Finding Circles: O(n^2)\n",
    "\n",
    "Topological sorting: O(n)"
   ]
  },
  {
   "cell_type": "markdown",
   "metadata": {},
   "source": [
    "## 210. Course Schedule II\n",
    "\n",
    "There are a total of n courses you have to take, labeled from 0 to n-1. \n",
    "\n",
    "Some courses may have prequisites, for example to take course 0 you have to first take course 1, which is expressed as a pair: [0,1]\n",
    "\n",
    "Given the total number of courses and a list of prerequisite pairs, return the ordering of courses you should take to finish all courses. \n",
    "\n",
    "There may be multiple correct orders, you just need to return one of them. If it is impossible to finish all courses, return an empty array. \n",
    "\n",
    "Example 1:\n",
    "\n",
    "Input: 2, [[1,0]] \n",
    "Output: [0,1]\n",
    "Explanation: There are a total of 2 courses to take. To take course 1 you should have finished   \n",
    "             course 0. So the correct course order is [0,1] .\n",
    "Example 2:\n",
    "\n",
    "Input: 4, [[1,0],[2,0],[3,1],[3,2]]\n",
    "Output: [0,1,2,3] or [0,2,1,3]\n",
    "Explanation: There are a total of 4 courses to take. To take course 3 you should have finished both     \n",
    "             courses 1 and 2. Both courses 1 and 2 should be taken after you finished course 0. \n",
    "             So one correct course order is [0,1,2,3]. Another correct ordering is [0,2,1,3] .\n"
   ]
  },
  {
   "cell_type": "code",
   "execution_count": 136,
   "metadata": {},
   "outputs": [],
   "source": [
    "def findOrder(numCourses: int, prerequisites: list) -> bool:\n",
    "    \n",
    "    # construct a graph\n",
    "    \n",
    "    graph_ = {}\n",
    "    ordered_list = []\n",
    "    \n",
    "    for p in prerequisites:\n",
    "        if p[1] in graph_:\n",
    "            graph_[p[1]].append(p[0])\n",
    "        else:\n",
    "            graph_[p[1]] = [p[0]]\n",
    "        \n",
    "    visited = [0 for _ in range(numCourses)]\n",
    "    \n",
    "    def dfs(i: int, visited: list):\n",
    "        if visited[i] == 1:\n",
    "            return True\n",
    "        if visited[i] == 2:\n",
    "            return False \n",
    "        visited[i] = 1\n",
    "        if i in graph_:\n",
    "            for neigh in graph_[i]:\n",
    "                if dfs(neigh, visited):\n",
    "                    return True \n",
    "        visited[i] = 2\n",
    "        ordered_list.append(i)\n",
    "        return False \n",
    "            \n",
    "        \n",
    "    \n",
    "    for i in range(numCourses):\n",
    "        if dfs(i,visited):\n",
    "            return [] \n",
    "    return ordered_list[::-1]\n",
    "\n"
   ]
  },
  {
   "cell_type": "code",
   "execution_count": 137,
   "metadata": {},
   "outputs": [
    {
     "data": {
      "text/plain": [
       "[0, 1]"
      ]
     },
     "execution_count": 137,
     "metadata": {},
     "output_type": "execute_result"
    }
   ],
   "source": [
    "numCourses = 2 \n",
    "\n",
    "prerequisites = [[1,0]]\n",
    "\n",
    "findOrder(numCourses, prerequisites) "
   ]
  },
  {
   "cell_type": "code",
   "execution_count": 138,
   "metadata": {},
   "outputs": [
    {
     "data": {
      "text/plain": [
       "[0, 2, 1, 3]"
      ]
     },
     "execution_count": 138,
     "metadata": {},
     "output_type": "execute_result"
    }
   ],
   "source": [
    "numCourses = 4\n",
    "\n",
    "prerequisites = [[1,0],[2,0],[3,1],[3,2]]\n",
    "\n",
    "findOrder(numCourses, prerequisites) "
   ]
  },
  {
   "cell_type": "code",
   "execution_count": 139,
   "metadata": {},
   "outputs": [
    {
     "data": {
      "text/plain": [
       "[]"
      ]
     },
     "execution_count": 139,
     "metadata": {},
     "output_type": "execute_result"
    }
   ],
   "source": [
    "numCourses = 8 \n",
    "\n",
    "prerequisites = [[1,0], [2,6], [1,7], [5,1], [6,4], [7,0], [0,5]]\n",
    "\n",
    "findOrder(numCourses, prerequisites)"
   ]
  },
  {
   "cell_type": "code",
   "execution_count": 140,
   "metadata": {},
   "outputs": [
    {
     "data": {
      "text/plain": [
       "[5, 4, 6, 3, 2, 0, 7, 1]"
      ]
     },
     "execution_count": 140,
     "metadata": {},
     "output_type": "execute_result"
    }
   ],
   "source": [
    "numCourses = 8 \n",
    "\n",
    "prerequisites = [[1,0], [2,6], [1,7],  [6,4], [7,0], [0,5]]\n",
    "\n",
    "findOrder(numCourses, prerequisites)"
   ]
  },
  {
   "cell_type": "code",
   "execution_count": null,
   "metadata": {},
   "outputs": [],
   "source": []
  }
 ],
 "metadata": {
  "kernelspec": {
   "display_name": "Python 3",
   "language": "python",
   "name": "python3"
  },
  "language_info": {
   "codemirror_mode": {
    "name": "ipython",
    "version": 3
   },
   "file_extension": ".py",
   "mimetype": "text/x-python",
   "name": "python",
   "nbconvert_exporter": "python",
   "pygments_lexer": "ipython3",
   "version": "3.6.9"
  }
 },
 "nbformat": 4,
 "nbformat_minor": 2
}
