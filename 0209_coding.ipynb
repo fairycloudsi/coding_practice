{
 "cells": [
  {
   "cell_type": "markdown",
   "metadata": {},
   "source": [
    "1, Anagrams \n",
    "\n",
    "Tow strings are anagrams if they are permuations of each ohter. In ohter words, both strings have the same length and the same characters. For exaomple,...\n",
    "\n",
    "Given an input array of strings, iterate and remove any strings at position i if it is an anagram of a string contained at earlier index j in the input where j < i. In ohter words, given an array of strings, remove each string that is an anagram of a string earlier in the array. Then return the remaining array in sorted order. "
   ]
  },
  {
   "cell_type": "code",
   "execution_count": 1,
   "metadata": {},
   "outputs": [],
   "source": [
    "words = ['code', 'doce', 'ecod', 'framer', 'frame']"
   ]
  },
  {
   "cell_type": "code",
   "execution_count": 3,
   "metadata": {},
   "outputs": [
    {
     "name": "stdout",
     "output_type": "stream",
     "text": [
      "None\n"
     ]
    }
   ],
   "source": [
    "print(words.sort())"
   ]
  },
  {
   "cell_type": "code",
   "execution_count": 4,
   "metadata": {},
   "outputs": [
    {
     "data": {
      "text/plain": [
       "['code', 'doce', 'ecod', 'frame', 'framer']"
      ]
     },
     "execution_count": 4,
     "metadata": {},
     "output_type": "execute_result"
    }
   ],
   "source": [
    "words"
   ]
  },
  {
   "cell_type": "code",
   "execution_count": 6,
   "metadata": {},
   "outputs": [],
   "source": [
    "from collections import Counter"
   ]
  },
  {
   "cell_type": "code",
   "execution_count": 17,
   "metadata": {},
   "outputs": [
    {
     "name": "stdout",
     "output_type": "stream",
     "text": [
      "Counter({'c': 1, 'o': 1, 'd': 1, 'e': 1})\n",
      "Counter({'a': 3, 'g': 1, 'm': 1, 'n': 1, 'r': 1, 's': 1})\n",
      "Counter({'c': 1, 'o': 1, 'd': 1, 'e': 1})\n",
      "Counter({'a': 3, 'n': 1, 'g': 1, 'r': 1, 'm': 1, 's': 1})\n",
      "Counter({'c': 1, 'o': 1, 'd': 1, 'e': 1})\n",
      "Counter({'d': 1, 'o': 1, 'c': 1, 'e': 1})\n",
      "['code', 'aaagmnrs', 'anagrams', 'doce']\n",
      "code\n",
      "aaagmnrs\n",
      "anagrams\n",
      "doce\n"
     ]
    }
   ],
   "source": [
    "result = [ ] \n",
    "\n",
    "n = len(words)\n",
    "\n",
    "for i in range(0,n):\n",
    "    if words[i] not in result: \n",
    "        result.append(words[i])\n",
    "        count_i = Counter(words[i])\n",
    "        for j in range(i+1,n):\n",
    "            if words[j] not in result: \n",
    "                count_j = Counter(words[j])\n",
    "                print(count_i)\n",
    "                print(count_j)\n",
    "                if count_i != count_j:\n",
    "                    result.append(words[j])\n",
    "print(result)\n",
    "print('\\n'.join(result))"
   ]
  },
  {
   "cell_type": "code",
   "execution_count": 39,
   "metadata": {},
   "outputs": [],
   "source": [
    "text = [\"code\", \"aaagmnrs\", \"anagrams\",\"doce\"]"
   ]
  },
  {
   "cell_type": "code",
   "execution_count": 18,
   "metadata": {},
   "outputs": [],
   "source": [
    "del words[2]"
   ]
  },
  {
   "cell_type": "code",
   "execution_count": 19,
   "metadata": {},
   "outputs": [
    {
     "data": {
      "text/plain": [
       "['code', 'aaagmnrs', 'doce']"
      ]
     },
     "execution_count": 19,
     "metadata": {},
     "output_type": "execute_result"
    }
   ],
   "source": [
    "words"
   ]
  },
  {
   "cell_type": "code",
   "execution_count": 24,
   "metadata": {},
   "outputs": [
    {
     "name": "stdout",
     "output_type": "stream",
     "text": [
      "1\n",
      "2\n"
     ]
    },
    {
     "ename": "IndexError",
     "evalue": "list index out of range",
     "output_type": "error",
     "traceback": [
      "\u001b[0;31m---------------------------------------------------------------------------\u001b[0m",
      "\u001b[0;31mIndexError\u001b[0m                                Traceback (most recent call last)",
      "\u001b[0;32m<ipython-input-24-93010cff6221>\u001b[0m in \u001b[0;36m<module>\u001b[0;34m\u001b[0m\n\u001b[1;32m      3\u001b[0m     \u001b[0;32mfor\u001b[0m \u001b[0mj\u001b[0m \u001b[0;32min\u001b[0m \u001b[0mrange\u001b[0m\u001b[0;34m(\u001b[0m\u001b[0mi\u001b[0m\u001b[0;34m+\u001b[0m\u001b[0;36m1\u001b[0m\u001b[0;34m,\u001b[0m\u001b[0mn\u001b[0m\u001b[0;34m)\u001b[0m\u001b[0;34m:\u001b[0m\u001b[0;34m\u001b[0m\u001b[0;34m\u001b[0m\u001b[0m\n\u001b[1;32m      4\u001b[0m         \u001b[0mprint\u001b[0m\u001b[0;34m(\u001b[0m\u001b[0mj\u001b[0m\u001b[0;34m)\u001b[0m\u001b[0;34m\u001b[0m\u001b[0;34m\u001b[0m\u001b[0m\n\u001b[0;32m----> 5\u001b[0;31m         \u001b[0mcount_j\u001b[0m \u001b[0;34m=\u001b[0m \u001b[0mCounter\u001b[0m\u001b[0;34m(\u001b[0m\u001b[0mwords\u001b[0m\u001b[0;34m[\u001b[0m\u001b[0mj\u001b[0m\u001b[0;34m]\u001b[0m\u001b[0;34m)\u001b[0m\u001b[0;34m\u001b[0m\u001b[0;34m\u001b[0m\u001b[0m\n\u001b[0m\u001b[1;32m      6\u001b[0m         \u001b[0;32mif\u001b[0m \u001b[0mcount_j\u001b[0m \u001b[0;34m!=\u001b[0m \u001b[0mcount_i\u001b[0m\u001b[0;34m:\u001b[0m\u001b[0;34m\u001b[0m\u001b[0;34m\u001b[0m\u001b[0m\n\u001b[1;32m      7\u001b[0m             \u001b[0;32mdel\u001b[0m \u001b[0mwords\u001b[0m\u001b[0;34m[\u001b[0m\u001b[0mj\u001b[0m\u001b[0;34m]\u001b[0m\u001b[0;34m\u001b[0m\u001b[0;34m\u001b[0m\u001b[0m\n",
      "\u001b[0;31mIndexError\u001b[0m: list index out of range"
     ]
    }
   ],
   "source": [
    "for i in range(n):\n",
    "    count_i = Counter(words[i])\n",
    "    for j in range(i+1,n):\n",
    "        print(j)\n",
    "        count_j = Counter(words[j])\n",
    "        if count_j != count_i:\n",
    "            del words[j]\n",
    "        "
   ]
  },
  {
   "cell_type": "code",
   "execution_count": 29,
   "metadata": {},
   "outputs": [],
   "source": [
    "while i < len(words):\n",
    "    count_i = Counter(words[i])\n",
    "    while j < len(words):\n",
    "        count_j = Counter(words[j])\n",
    "        if count_j == count_i:\n",
    "            del words[j]\n",
    "        else:\n",
    "            j += 1\n",
    "    i += 1"
   ]
  },
  {
   "cell_type": "code",
   "execution_count": 30,
   "metadata": {},
   "outputs": [
    {
     "data": {
      "text/plain": [
       "['code', 'aaagmnrs', 'doce']"
      ]
     },
     "execution_count": 30,
     "metadata": {},
     "output_type": "execute_result"
    }
   ],
   "source": [
    "words"
   ]
  },
  {
   "cell_type": "code",
   "execution_count": 31,
   "metadata": {},
   "outputs": [],
   "source": [
    "mark_pen = [1 for _ in range(n)]"
   ]
  },
  {
   "cell_type": "code",
   "execution_count": 33,
   "metadata": {},
   "outputs": [
    {
     "data": {
      "text/plain": [
       "[1, 1, 1, 1]"
      ]
     },
     "execution_count": 33,
     "metadata": {},
     "output_type": "execute_result"
    }
   ],
   "source": [
    "mark_pen"
   ]
  },
  {
   "cell_type": "code",
   "execution_count": 35,
   "metadata": {},
   "outputs": [],
   "source": [
    "text = words"
   ]
  },
  {
   "cell_type": "code",
   "execution_count": 37,
   "metadata": {},
   "outputs": [
    {
     "data": {
      "text/plain": [
       "3"
      ]
     },
     "execution_count": 37,
     "metadata": {},
     "output_type": "execute_result"
    }
   ],
   "source": [
    "len(text)"
   ]
  },
  {
   "cell_type": "code",
   "execution_count": 38,
   "metadata": {},
   "outputs": [
    {
     "data": {
      "text/plain": [
       "4"
      ]
     },
     "execution_count": 38,
     "metadata": {},
     "output_type": "execute_result"
    }
   ],
   "source": [
    "len(mark_pen)"
   ]
  },
  {
   "cell_type": "code",
   "execution_count": 40,
   "metadata": {},
   "outputs": [],
   "source": [
    "for i in range(n):\n",
    "    if mark_pen[i] == 1:\n",
    "        count_i = Counter(text[i])\n",
    "        for j in range(i+1, n):\n",
    "            if mark_pen[j] == 1:\n",
    "                count_j = Counter(text[j])\n",
    "                if count_i == count_j:\n",
    "                    mark_pen[j] = 0"
   ]
  },
  {
   "cell_type": "code",
   "execution_count": 41,
   "metadata": {},
   "outputs": [
    {
     "data": {
      "text/plain": [
       "[1, 1, 0, 0]"
      ]
     },
     "execution_count": 41,
     "metadata": {},
     "output_type": "execute_result"
    }
   ],
   "source": [
    "mark_pen"
   ]
  },
  {
   "cell_type": "code",
   "execution_count": 43,
   "metadata": {},
   "outputs": [],
   "source": [
    "result = [text[i] for i in range(n) if mark_pen[i] == 1]"
   ]
  },
  {
   "cell_type": "code",
   "execution_count": 44,
   "metadata": {},
   "outputs": [
    {
     "data": {
      "text/plain": [
       "['code', 'aaagmnrs']"
      ]
     },
     "execution_count": 44,
     "metadata": {},
     "output_type": "execute_result"
    }
   ],
   "source": [
    "result"
   ]
  },
  {
   "cell_type": "markdown",
   "metadata": {},
   "source": [
    "## 2. Building Houses \n",
    "\n",
    "You are building a (rectangular or square) house that has length and width chosen from a set s of values. The length and width can be picked with replacement from set s, but the total area of the house must be less than or equal to a vien maximum value a.\n",
    "\n",
    "Write a program to determine how many possible bouse configureations of length and width can be created given the values in set s and the restriction on the maximum possible are of the house a. "
   ]
  },
  {
   "cell_type": "code",
   "execution_count": 57,
   "metadata": {},
   "outputs": [],
   "source": [
    "def configurationCount(n, s0, k, b, m, a):\n",
    "    s = [s0]\n",
    "    for i in range(n):\n",
    "        snew = ((k*s[-1] + b)%m +1 +s[-1])\n",
    "        s.append(snew)\n",
    "    s.sort()\n",
    "    print(s)\n",
    "    \n",
    "    i = 0\n",
    "    j = n -1\n",
    "    count = 0\n",
    "    while i <= j:\n",
    "        print(i)\n",
    "        print(j)\n",
    "        if s[i]*s[j] <= a:\n",
    "            count += j - i +1 \n",
    "            i += 1\n",
    "        else:\n",
    "            j -=1\n",
    "    return (2*count-1) "
   ]
  },
  {
   "cell_type": "code",
   "execution_count": 58,
   "metadata": {},
   "outputs": [
    {
     "name": "stdout",
     "output_type": "stream",
     "text": [
      "[2, 4, 6, 8]\n",
      "0\n",
      "2\n",
      "1\n",
      "2\n",
      "1\n",
      "1\n"
     ]
    },
    {
     "data": {
      "text/plain": [
       "5"
      ]
     },
     "execution_count": 58,
     "metadata": {},
     "output_type": "execute_result"
    }
   ],
   "source": [
    "n = 3\n",
    "s0 = 2\n",
    "k = 3\n",
    "b = 3\n",
    "m = 2\n",
    "a = 15\n",
    "configurationCount(n, s0, k, b, m, a)"
   ]
  },
  {
   "cell_type": "code",
   "execution_count": null,
   "metadata": {},
   "outputs": [],
   "source": []
  }
 ],
 "metadata": {
  "kernelspec": {
   "display_name": "Python 3",
   "language": "python",
   "name": "python3"
  },
  "language_info": {
   "codemirror_mode": {
    "name": "ipython",
    "version": 3
   },
   "file_extension": ".py",
   "mimetype": "text/x-python",
   "name": "python",
   "nbconvert_exporter": "python",
   "pygments_lexer": "ipython3",
   "version": "3.6.9"
  }
 },
 "nbformat": 4,
 "nbformat_minor": 2
}
