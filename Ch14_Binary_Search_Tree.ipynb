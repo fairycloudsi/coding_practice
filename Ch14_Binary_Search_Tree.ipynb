{
 "cells": [
  {
   "cell_type": "code",
   "execution_count": 4,
   "metadata": {},
   "outputs": [],
   "source": [
    "class BstNode:\n",
    "    def __init__(self, data = None, left = None, right = None):\n",
    "        self.data, self.left, self.right = data, left, right "
   ]
  },
  {
   "cell_type": "code",
   "execution_count": 5,
   "metadata": {},
   "outputs": [],
   "source": [
    "def search_bst(tree: BstNode, key: int) -> BstNode:\n",
    "    return (tree\n",
    "           if not tree or tree.data == key else search_bst(tree.left, key)\n",
    "           if key < tree.data else search_bst(tree.right, key))"
   ]
  },
  {
   "cell_type": "code",
   "execution_count": 6,
   "metadata": {},
   "outputs": [],
   "source": [
    "def tree_traversal_inorder(root: BinaryTreeNode) -> None:\n",
    "    if root:\n",
    "        tree_traversal_inorder(root.left) \n",
    "        print('Inorder: %d' % root.data)\n",
    "        tree_traversal_inorder(root.right)"
   ]
  },
  {
   "cell_type": "markdown",
   "metadata": {},
   "source": [
    "## 14.1 Test if a binary tree satisfies the BST property \n",
    "\n",
    "Write a program that takes as input a binary tree and checks if the tree satisfies the BST property. \n",
    "\n",
    "**Hint:** Is it correct to check for each node that is key is greater than or equal to the key at its left child and less than or equal to the key ar its right child?\n",
    "\n",
    "Not correct. We need to check each node is greater than or equal to the key at not only its left child and all left descendants recursively. The same for right descendants. \n",
    "\n",
    "**Sol：** A direct approach, based on the definition of a BST, is to begin with the root, and compute the maximum key stored in the root's left subtree, and the minimum key in the root's right subtree. We check that the key at the root is greater than or equal to the maximum from the left subtree and less than or equal to the minimum from the right subtree. If both these checks pass, we recursively check the root's left and right subtrees. If either check fails, we return false. \n",
    "\n",
    "Computing the minimum key in a binary tree is starghtforward: we take the minimum of the key stored at its root, the minimum key of the left subtree, and the minimum key of the right subtree. The maximum key is computed similarly. Note that the minimum can be in either subtree, since a general binary tree may not satisfy the BST property. \n",
    "\n",
    "The problem with this approach is that it will repeatedly traverse subtrees. In the worst-case, when the tree is a BST and each node's left child is empty, the complexity is O(n^2), where n is the number of nodes. The complexity can be improved to O(n) by caching the largest and the smallest keys at each node; this requires O(n) additional storage for the cache. "
   ]
  },
  {
   "cell_type": "markdown",
   "metadata": {},
   "source": [
    "We now present two approaches which have O(n) time complexity. \n",
    "\n",
    "The first appraoch is to check constraints on the values for each subtree. The initial constraint comes from the root. Every node in its left (right) subtree must have a key less than or equal (greater than or equal) to the key at the root. This idea generalizes: if all nodes in a tree must have keys in the range [l,u], and the key at the root is w (which itself must be between [l,u], otherwise the requirement is violated at the root itself), then all keys in the left subtree must be in the range [l,w], and all keys stored in the right subtree must be in the range [w,u]. "
   ]
  },
  {
   "cell_type": "code",
   "execution_count": 13,
   "metadata": {},
   "outputs": [],
   "source": [
    "def is_binary_tree_bst(tree: BinaryTreeNode) -> bool:\n",
    "    def are_keys_in_range(tree,\n",
    "                         low_range = float('-inf'),\n",
    "                         high_range = float('inf')):\n",
    "        print('low range', 'high range')\n",
    "        print(low_range, high_range)\n",
    "        if not tree:\n",
    "            return True\n",
    "        elif not low_range <= tree.data <= high_range:\n",
    "            return False\n",
    "        return (are_keys_in_range(tree.left, low_range, tree.data)\n",
    "               and are_keys_in_range(tree.right, tree.data, high_range))\n",
    "    return are_keys_in_range(tree)"
   ]
  },
  {
   "cell_type": "markdown",
   "metadata": {},
   "source": [
    "The time complexity is O(n), since we need to go through every point in the binary tree. \n",
    "And the additional space complexity is O(h), where h is the height of the tree since we need to store the results of every layer. "
   ]
  },
  {
   "cell_type": "code",
   "execution_count": 8,
   "metadata": {},
   "outputs": [],
   "source": [
    "node1 = BinaryTreeNode(314)\n",
    "node2 = BinaryTreeNode(6)\n",
    "node3 = BinaryTreeNode(6)\n",
    "node4 = BinaryTreeNode(271)\n",
    "node5 = BinaryTreeNode(561)\n",
    "node6 = BinaryTreeNode(2)\n",
    "node7 = BinaryTreeNode(271)\n",
    "node8 = BinaryTreeNode(28)\n",
    "node9 = BinaryTreeNode(0)\n",
    "node10 = BinaryTreeNode(3)\n",
    "node11 = BinaryTreeNode(1)\n",
    "node12 = BinaryTreeNode(28)\n",
    "node13 = BinaryTreeNode(17)\n",
    "node14 = BinaryTreeNode(401)\n",
    "node15 = BinaryTreeNode(257)\n",
    "node16 = BinaryTreeNode(641)"
   ]
  },
  {
   "cell_type": "code",
   "execution_count": 9,
   "metadata": {},
   "outputs": [],
   "source": [
    "node1.left = node2\n",
    "node1.right = node3\n",
    "node2.left = node4\n",
    "node2.right = node5\n",
    "node3.left = node6\n",
    "node3.right = node7\n",
    "node4.left = node8\n",
    "node4.right = node9\n",
    "node5.right = node10\n",
    "node5.left = node13\n",
    "node6.left = node14\n",
    "node6.right = node11\n",
    "node7.left = node16\n",
    "node7.right = node12"
   ]
  },
  {
   "cell_type": "code",
   "execution_count": 14,
   "metadata": {},
   "outputs": [
    {
     "name": "stdout",
     "output_type": "stream",
     "text": [
      "low range high range\n",
      "-inf inf\n",
      "low range high range\n",
      "-inf 314\n",
      "low range high range\n",
      "-inf 6\n"
     ]
    },
    {
     "data": {
      "text/plain": [
       "False"
      ]
     },
     "execution_count": 14,
     "metadata": {},
     "output_type": "execute_result"
    }
   ],
   "source": [
    "is_binary_tree_bst(node1)"
   ]
  },
  {
   "cell_type": "code",
   "execution_count": 62,
   "metadata": {},
   "outputs": [],
   "source": [
    "node1 = BinaryTreeNode(19)\n",
    "node2 = BinaryTreeNode(7)\n",
    "node3 = BinaryTreeNode(43)\n",
    "node4 = BinaryTreeNode(3)\n",
    "node5 = BinaryTreeNode(11)\n",
    "node6 = BinaryTreeNode(2)\n",
    "node7 = BinaryTreeNode(5)\n",
    "node8 = BinaryTreeNode(17)\n",
    "node9 = BinaryTreeNode(13)\n",
    "node10 = BinaryTreeNode(23)\n",
    "node11 = BinaryTreeNode(47)\n",
    "node12 = BinaryTreeNode(37)\n",
    "node13 = BinaryTreeNode(29)\n",
    "node14 = BinaryTreeNode(41)\n",
    "node15 = BinaryTreeNode(31)\n",
    "node16 = BinaryTreeNode(53)"
   ]
  },
  {
   "cell_type": "code",
   "execution_count": 63,
   "metadata": {},
   "outputs": [],
   "source": [
    "node1.left = node2\n",
    "node1.right = node3\n",
    "node2.left = node4\n",
    "node2.right = node5\n",
    "node4.left = node6\n",
    "node4.right = node7\n",
    "node5.right = node8\n",
    "node8.left = node9\n",
    "node3.left = node10\n",
    "node3.right = node11\n",
    "node10.right = node12\n",
    "node12.left = node13\n",
    "node12.right = node14\n",
    "node13.right = node15\n",
    "node11.right = node16"
   ]
  },
  {
   "cell_type": "code",
   "execution_count": 26,
   "metadata": {},
   "outputs": [
    {
     "name": "stdout",
     "output_type": "stream",
     "text": [
      "low range high range\n",
      "-inf inf\n",
      "low range high range\n",
      "-inf 19\n",
      "low range high range\n",
      "-inf 7\n",
      "low range high range\n",
      "-inf 3\n",
      "low range high range\n",
      "-inf 2\n",
      "low range high range\n",
      "2 3\n",
      "low range high range\n",
      "3 7\n",
      "low range high range\n",
      "3 5\n",
      "low range high range\n",
      "5 7\n",
      "low range high range\n",
      "7 19\n",
      "low range high range\n",
      "7 11\n",
      "low range high range\n",
      "11 19\n",
      "low range high range\n",
      "11 17\n",
      "low range high range\n",
      "11 13\n",
      "low range high range\n",
      "13 17\n",
      "low range high range\n",
      "17 19\n",
      "low range high range\n",
      "19 inf\n",
      "low range high range\n",
      "19 43\n",
      "low range high range\n",
      "19 23\n",
      "low range high range\n",
      "23 43\n",
      "low range high range\n",
      "23 37\n",
      "low range high range\n",
      "23 29\n",
      "low range high range\n",
      "29 37\n",
      "low range high range\n",
      "29 31\n",
      "low range high range\n",
      "31 37\n",
      "low range high range\n",
      "37 43\n",
      "low range high range\n",
      "37 41\n",
      "low range high range\n",
      "41 43\n",
      "low range high range\n",
      "43 inf\n",
      "low range high range\n",
      "43 47\n",
      "low range high range\n",
      "47 inf\n",
      "low range high range\n",
      "47 53\n",
      "low range high range\n",
      "53 inf\n"
     ]
    },
    {
     "data": {
      "text/plain": [
       "True"
      ]
     },
     "execution_count": 26,
     "metadata": {},
     "output_type": "execute_result"
    }
   ],
   "source": [
    "is_binary_tree_bst(node1)"
   ]
  },
  {
   "cell_type": "markdown",
   "metadata": {},
   "source": [
    "Alternatively we can use the fact that an inorder traversal visits keys in sorted order. Furthermore, if an inorder traversal of a binary tree visits keys in sorted order, then that binary tree must be a BST. (This follows directly from the definition of a BST and the definition of an inorder walk.) Thus we can check the BST property by performing an inorder traversal, recording the key stored at the last visited node. Each time a new node is visited, its key s compared with the key of the previously visited node. If at any step in the walk, the key at the previoulsy visited node is greater than the node currently being visited, we have a violation of the BST property. \n",
    "\n",
    "All these approaches explore the left subtree first. Therefore, evern if the BST property does not hold at a node which is close to the root (e.g., the key stored at the right child is less than the key stored at the root), their time complexity is still O(n). \n",
    "\n",
    "We can search for violations of the BST property in a BFS manner, thereby reducing the time complexity when the property is violated at a node whose depth is small. \n",
    "\n",
    "Specifically, we can use a queue, where each queue entry contains a node, as well as an upper and a lower bound on the keys stored at the subtree rooted at that node. The queue is initialized to the a lower bound on the keys stored at the subtree rooted at that node. The queue is initialized to the root, with lower bound negative infinity and upper bound infinity. We iteratively check the constraint on each node. If it violates the constraint we stop --the BST property has been violated. Otherwise, we add its children along with the corresponding constraint. \n",
    "\n",
    "If the BST property is violated in a subtree consisting of nodes within a particular depth, the violation will be discovered without visiting any nodes at a greater depth. This is because each time we enqueue en entry, the lower and upper bounds on the node's key are the tightest possible. "
   ]
  },
  {
   "cell_type": "code",
   "execution_count": 23,
   "metadata": {},
   "outputs": [],
   "source": [
    "import collections"
   ]
  },
  {
   "cell_type": "code",
   "execution_count": 27,
   "metadata": {},
   "outputs": [],
   "source": [
    "def is_binary_tree_bst_2(tree: BinaryTreeNode) -> bool:\n",
    "    QueueEntry = collections.namedtuple('QueueEntry',\n",
    "                                       ('node', 'lower', 'upper'))\n",
    "    \n",
    "    bfs_queue = collections.deque(\n",
    "        [QueueEntry(tree, float('-inf'), float('inf'))])\n",
    "    \n",
    "    while bfs_queue:\n",
    "        front = bfs_queue.popleft()\n",
    "        if front.node:\n",
    "            if not front.lower <= front.node.data <= front.upper:\n",
    "                return False\n",
    "            bfs_queue.extend(\n",
    "                (QueueEntry(front.node.left, front.lower, front.node.data),\n",
    "                 QueueEntry(front.node.right, front.node.data, front.upper)))\n",
    "    return True"
   ]
  },
  {
   "cell_type": "code",
   "execution_count": 28,
   "metadata": {},
   "outputs": [
    {
     "data": {
      "text/plain": [
       "True"
      ]
     },
     "execution_count": 28,
     "metadata": {},
     "output_type": "execute_result"
    }
   ],
   "source": [
    "is_binary_tree_bst_2(node1)"
   ]
  },
  {
   "cell_type": "markdown",
   "metadata": {},
   "source": [
    "The time complexity is O(n) and the additional space complexity is O(n)."
   ]
  },
  {
   "cell_type": "markdown",
   "metadata": {},
   "source": [
    "## 14.2 Find the first key greater than a given value in a BST\n",
    "\n",
    "Write a program that takes as input a BST and a value, and returns the first key that would appear in an inorder traversal which is greater than the input value. \n",
    "\n",
    "**Sol:** We can find the desired node in O(n) time, where n is the number of nodes in the BST, by doing an inorder walk. This approach does not use the BST properly. \n",
    "\n",
    "A better approach is to use the BST search idiom. We store the best candidate for the result and update candidate as we iteratively descend the tree, eliminating subtrees by comparing the keys stored at nodes with the input value. Specifically, if the current subtree's root holds a value less than or equal to the input value, we search the right subtree. If the current subtree's root stores a key that is greater than the input value, we search in the left subtree, updating the candidate to the current root. Correctness follows from the fact that whenever we first set the candidate, the desired result must be within the tree rooted at that node. "
   ]
  },
  {
   "cell_type": "code",
   "execution_count": 29,
   "metadata": {},
   "outputs": [],
   "source": [
    "def find_first_greater_than_k(tree:BstNode, k: int) -> BstNode:\n",
    "    subtree, first_so_far = tree, None\n",
    "    while subtree:\n",
    "        if subtree.data > k:\n",
    "            first_so_far = subtree\n",
    "            subtree = subtree.left\n",
    "        else:\n",
    "            subtree = subtree.right\n",
    "    return first_so_far"
   ]
  },
  {
   "cell_type": "code",
   "execution_count": 32,
   "metadata": {},
   "outputs": [
    {
     "name": "stdout",
     "output_type": "stream",
     "text": [
      "Inorder: 29\n",
      "Inorder: 31\n"
     ]
    }
   ],
   "source": [
    "tree_traversal_inorder(find_first_greater_than_k(node1, 23))"
   ]
  },
  {
   "cell_type": "markdown",
   "metadata": {},
   "source": [
    "The time complexity is O(h), where h is the height of the tree. The space complexity is O(1). "
   ]
  },
  {
   "cell_type": "markdown",
   "metadata": {},
   "source": [
    "## 14.3 Find the kth largest elements in a BST\n",
    "\n",
    "A BST is a sorted data structure, which suggests that it should be possible to find the k largest keys easily. Write a program that takes as input a BST and an integer k, and returns the k largest elements in the BST in decreasing order. For example, if the input is the BST in Figure 14.1 and k = 3, your program should return <53,47,43>.\n",
    "\n",
    "The brute-force approach is to do an inorder traversal, which enumerates keys in ascending order, and return the last k visited nodes. A queue is ideal for storing visited nodes, since it makes it easy to evict nodes visited more than k steps previously. A drawback of this approach is that it potentially processes many nodes that cannot possibly be in the result, e.g., if k is small and the left subtree is large. \n",
    "\n",
    "A better approach is to begin with the desired nodes, and work backwards. We do this by recursing first on the right subtree and then on the left subtree. This amounts to a reverse-inorder traversal. As soon as we visit k nodes, we can halt. The code below uses a dynamic array to store the desired keys. As soon as the array has k elements, we return. We store newer nodes at the end of the array, as per the problem specification. "
   ]
  },
  {
   "cell_type": "code",
   "execution_count": 35,
   "metadata": {},
   "outputs": [],
   "source": [
    "def find_k_largest_in_bst(tree:BstNode, k: int) -> list:\n",
    "    def find_k_largest_in_bst_helper(tree):\n",
    "        # Perform reverse inorder traversal.\n",
    "        if tree and len(k_largest_elements) <k:\n",
    "            find_k_largest_in_bst_helper(tree.right)\n",
    "            if len(k_largest_elements) < k:\n",
    "                k_largest_elements.append(tree.data)\n",
    "                find_k_largest_in_bst_helper(tree.left)\n",
    "    k_largest_elements = []\n",
    "    find_k_largest_in_bst_helper(tree)\n",
    "    return k_largest_elements"
   ]
  },
  {
   "cell_type": "code",
   "execution_count": 36,
   "metadata": {},
   "outputs": [
    {
     "data": {
      "text/plain": [
       "[53, 47, 43, 41, 37]"
      ]
     },
     "execution_count": 36,
     "metadata": {},
     "output_type": "execute_result"
    }
   ],
   "source": [
    "find_k_largest_in_bst(node1,5)"
   ]
  },
  {
   "cell_type": "markdown",
   "metadata": {},
   "source": [
    "The time complexity is O(h+k), which can be much better than performing a conventional inorder walk, e.g., when the tree is balanced and k is small. The complexity bound comes from observation that the number of times the program descends in the tree can be at most h more than the number of times it ascends the tree, and each ascent happens after we visit a node in the result. After k nodes have been added to the result, the program stops."
   ]
  },
  {
   "cell_type": "markdown",
   "metadata": {},
   "source": [
    "## 14.4 Compute the LCA in a BST\n",
    "\n",
    "Since a BST is a specialized binary tree, the notion of lowest common ancestor, as expressed in Problem 9.4, holds for BSTs too.\n",
    "\n",
    "In general, computing the LCA of two nodes in a BST is no easier than computing the LCA in a binary tree, since the structurally a binary tree can be viewed as a BST where all the keys are equal. However, when the keys are distinct, it is possible to improve on the LAC algorithms for binary trees. \n",
    "\n",
    "Design an algorithm that takes as input a BST and two nodes, and returns the LCA of the two nodes. For example, for the BST in Figure 14.1 and nodes C and G, your algorithm should return B. Assume all keys are distinct. Nodes do not have references to their parents. "
   ]
  },
  {
   "cell_type": "markdown",
   "metadata": {},
   "source": [
    "The approach can be improved upon when operating on BSTs with distinct keys. Let s and b be the two nodes whose LCA we are to compute, and without loss of generality, assume that key at s is smaller. Consider the key stored at the root of the BST. There are four possibilities:\n",
    "* If the root's key is the same as that stored at s or at b, we are done-- the root is the LCA.\n",
    "* If the key at s is smaller than the key at the root, and the key at b is greater than the key at the root, the root is the LCA. \n",
    "* If the keys ar s and b are both smaller than that at the root, the LCA must lie in the left subtree of the root.\n",
    "* If both keys are larger than that at the root, then the LCA must lie in the right subtree of the root. "
   ]
  },
  {
   "cell_type": "code",
   "execution_count": 37,
   "metadata": {},
   "outputs": [],
   "source": [
    "def find_lca(tree: BstNode, s:BstNode, b:BstNode) -> BstNode:\n",
    "    while tree.data < s.data or tree.data >b.data:\n",
    "        # Keep searching since the tree is outside of [s,b]\n",
    "        while tree.data < s.data:\n",
    "            tree = tree.right # LCA must be in tree's right child\n",
    "        while tree.data > b.data:\n",
    "            tree = tree.left # LCA must be in tree's left child \n",
    "    # Now, s.data <= tree.data && tree.data <= b.data\n",
    "    return tree"
   ]
  },
  {
   "cell_type": "code",
   "execution_count": 38,
   "metadata": {},
   "outputs": [
    {
     "name": "stdout",
     "output_type": "stream",
     "text": [
      "Inorder: 23\n",
      "Inorder: 29\n",
      "Inorder: 31\n",
      "Inorder: 37\n",
      "Inorder: 41\n",
      "Inorder: 43\n",
      "Inorder: 47\n",
      "Inorder: 53\n"
     ]
    }
   ],
   "source": [
    "tree_traversal_inorder(find_lca(node1, node12, node16))"
   ]
  },
  {
   "cell_type": "code",
   "execution_count": 39,
   "metadata": {},
   "outputs": [
    {
     "name": "stdout",
     "output_type": "stream",
     "text": [
      "Inorder: 2\n",
      "Inorder: 3\n",
      "Inorder: 5\n"
     ]
    }
   ],
   "source": [
    "tree_traversal_inorder(find_lca(node1, node6, node7))"
   ]
  },
  {
   "cell_type": "code",
   "execution_count": 40,
   "metadata": {},
   "outputs": [
    {
     "name": "stdout",
     "output_type": "stream",
     "text": [
      "Inorder: 2\n",
      "Inorder: 3\n",
      "Inorder: 5\n",
      "Inorder: 7\n",
      "Inorder: 11\n",
      "Inorder: 13\n",
      "Inorder: 17\n",
      "Inorder: 19\n",
      "Inorder: 23\n",
      "Inorder: 29\n",
      "Inorder: 31\n",
      "Inorder: 37\n",
      "Inorder: 41\n",
      "Inorder: 43\n",
      "Inorder: 47\n",
      "Inorder: 53\n"
     ]
    }
   ],
   "source": [
    "tree_traversal_inorder(find_lca(node1, node2, node16))"
   ]
  },
  {
   "cell_type": "markdown",
   "metadata": {},
   "source": [
    "Since we descend one level with each iteration, the time complexity is O(h), where h is the height of the tree. "
   ]
  },
  {
   "cell_type": "markdown",
   "metadata": {},
   "source": [
    "## 14.5 Recnostruct a BST from traversal data\n",
    "\n",
    "As discussed in Problem 9.11 there are many different binary trees that yield the same sequence of visited nodes in an inodrder traversal. This is also true for preorder and postorder traversals. Given the sequence of nodes that an inorder traversal sequence visits and either of the other two traversal sequences, there exists a unique binary tree that yields those sequences. Here we study if it is possible to reconstruct the tree with less traversal information when the tree is known as BST. \n",
    "\n",
    "Suppose you are given the sequence in which keys are visited in an inorder traversal of a BST, and all keys are distinct. Can you reconstruct the BST from the sequence? If so, write a program to do so. Solve the same problem for preorder and postorder traversal sequences. "
   ]
  },
  {
   "cell_type": "markdown",
   "metadata": {},
   "source": [
    "**Sol:** First, with some experimentation, we see the sequence of keys generated by an inorder traversal is not enough to reconstruct the tree. For example, the key sequence <1,2,3> corresponds to five distinct BSTs.\n",
    "\n",
    "However, the story for a preorder sequence is different. As an example, consider the preorder key sequence <43,23,37,29,31,41,47,53>. The root must hold 43, since it is the first visited node. The left subtree contains keys less than 43, i.e. 23, 37, 29, 31, 41, and the right subtree contains keys greater than 43, i.e., 47, 53. Furthermore, <23,37,29,31,41> ix exactly the preorder sequence of the left subtree and <47,53> is exactly the preorder sequence for the right subtree. We can recursively reason that 23 and 47 are the roots of the left and right subtree, and continue to build the entire tree, which is exactly the subtree rooted at Node I in Figure 14.1."
   ]
  },
  {
   "cell_type": "code",
   "execution_count": 41,
   "metadata": {},
   "outputs": [],
   "source": [
    "def rebuild_bst_from_preorder(\n",
    "    preorder_sequence: list) -> BstNode:\n",
    "    if not preorder_sequence:\n",
    "        return None\n",
    "    \n",
    "    transition_point = next((i for i , a in enumerate(preorder_sequence)\n",
    "                            if a > preorder_sequence[0]),\n",
    "                           len(preorder_sequence))\n",
    "    return BstNode(\n",
    "        preorder_sequence[0],\n",
    "        rebuild_bst_from_preorder(preorder_sequence[1: transition_point]),\n",
    "        rebuild_bst_from_preorder(preorder_sequence[transition_point:]))"
   ]
  },
  {
   "cell_type": "code",
   "execution_count": 42,
   "metadata": {},
   "outputs": [],
   "source": [
    "preorder_sequence = [43,23,37,29,31,41,47,53]"
   ]
  },
  {
   "cell_type": "code",
   "execution_count": 43,
   "metadata": {},
   "outputs": [
    {
     "name": "stdout",
     "output_type": "stream",
     "text": [
      "Inorder: 23\n",
      "Inorder: 29\n",
      "Inorder: 31\n",
      "Inorder: 37\n",
      "Inorder: 41\n",
      "Inorder: 43\n",
      "Inorder: 47\n",
      "Inorder: 53\n"
     ]
    }
   ],
   "source": [
    "tree_traversal_inorder(rebuild_bst_from_preorder(preorder_sequence))"
   ]
  },
  {
   "cell_type": "code",
   "execution_count": 44,
   "metadata": {},
   "outputs": [],
   "source": [
    "preorder_sequence = [19,7,3,2,5,11,17,13,43,23,37,29,31,41,47,53]"
   ]
  },
  {
   "cell_type": "code",
   "execution_count": 46,
   "metadata": {},
   "outputs": [
    {
     "name": "stdout",
     "output_type": "stream",
     "text": [
      "Inorder: 2\n",
      "Inorder: 3\n",
      "Inorder: 5\n",
      "Inorder: 7\n",
      "Inorder: 11\n",
      "Inorder: 13\n",
      "Inorder: 17\n",
      "Inorder: 19\n",
      "Inorder: 23\n",
      "Inorder: 29\n",
      "Inorder: 31\n",
      "Inorder: 37\n",
      "Inorder: 41\n",
      "Inorder: 43\n",
      "Inorder: 47\n",
      "Inorder: 53\n"
     ]
    }
   ],
   "source": [
    "tree_traversal_inorder(rebuild_bst_from_preorder(preorder_sequence))"
   ]
  },
  {
   "cell_type": "markdown",
   "metadata": {},
   "source": [
    "The worst-case input for this algorithm is the pre-order sequence corresponding to a left-skewed tree. The worst-case time complexity satisfies the recurrence W(n) = W(n-1) + O(n), which solves to O(n^2). The best-case input is a sequence corresponding to a right-skewed tree, and the corresponding time complexity is O(n). When the sequence corresponds to a balanced BST, the time complexity is given by B(n) = 2 B(n/2) + O(n), which solves to O(n log n). "
   ]
  },
  {
   "cell_type": "markdown",
   "metadata": {},
   "source": [
    "The implementation above potentially iterates over nodes multiple times, which is wasteful. A better approach is to reconstruct the left subtree in the same iteration as identifying the nodes which lie in it. The code shown below takes this approach. The intuition is that we do not want to iterate from first entry after the root to the last entry smaller than the root, not to go back and partially repeat this process for the root's left subtree. We can avoid repeated passes over nodes by inducing the range of keys we want to reconstruct the subtrees over. For example, looking at preorder key sequence <43,23,37,29,31,41,47,53>, instead of recursing on <23,37,29,31,41> (which would involve an iteration to get the last element in this sequence). We can derectly recur on <23,37,29,31,41,47,53>, with the constraint that we are building the subtree on nodes whose keys are less than 43. "
   ]
  },
  {
   "cell_type": "code",
   "execution_count": 10,
   "metadata": {},
   "outputs": [],
   "source": [
    "def rebuild_bst_from_preorder_2(preorder_sequence: list) -> BstNode:\n",
    "    def rebuild_bst_from_preorder_on_value_range(lower_bound, upper_bound):\n",
    "        if root_idx[0] == len(preorder_sequence):\n",
    "            return None\n",
    "        \n",
    "        root = preorder_sequence[root_idx[0]]\n",
    "        if not lower_bound <= root <= upper_bound:\n",
    "            return None\n",
    "        root_idx[0] += 1\n",
    "        print(root_idx)\n",
    "        # Note that rebuild_bst_from_preorder_on_value_range updates root_idx[0]\n",
    "        # So the order of following two calls are critical\n",
    "        left_subtree = rebuild_bst_from_preorder_on_value_range(\n",
    "            lower_bound, root)\n",
    "        right_subtree = rebuild_bst_from_preorder_on_value_range(\n",
    "            root, upper_bound)\n",
    "        return BstNode(root, left_subtree, right_subtree)\n",
    "    \n",
    "    root_idx =[0] # Track the current subtree\n",
    "    return rebuild_bst_from_preorder_on_value_range(\n",
    "        float('-inf'), float('inf'))\n"
   ]
  },
  {
   "cell_type": "code",
   "execution_count": 11,
   "metadata": {},
   "outputs": [],
   "source": [
    "preorder_sequence = [19,7,3,2,5,11,17,13,43,23,37,29,31,41,47,53]"
   ]
  },
  {
   "cell_type": "code",
   "execution_count": 9,
   "metadata": {},
   "outputs": [
    {
     "name": "stdout",
     "output_type": "stream",
     "text": [
      "Inorder: 2\n",
      "Inorder: 3\n",
      "Inorder: 5\n",
      "Inorder: 7\n",
      "Inorder: 11\n",
      "Inorder: 13\n",
      "Inorder: 17\n",
      "Inorder: 19\n",
      "Inorder: 23\n",
      "Inorder: 29\n",
      "Inorder: 31\n",
      "Inorder: 37\n",
      "Inorder: 41\n",
      "Inorder: 43\n",
      "Inorder: 47\n",
      "Inorder: 53\n"
     ]
    }
   ],
   "source": [
    "tree_traversal_inorder(rebuild_bst_from_preorder_2(preorder_sequence))"
   ]
  },
  {
   "cell_type": "code",
   "execution_count": 12,
   "metadata": {},
   "outputs": [
    {
     "name": "stdout",
     "output_type": "stream",
     "text": [
      "[1]\n",
      "[2]\n",
      "[3]\n",
      "[4]\n",
      "[5]\n",
      "[6]\n",
      "[7]\n",
      "[8]\n",
      "[9]\n",
      "[10]\n",
      "[11]\n",
      "[12]\n",
      "[13]\n",
      "[14]\n",
      "[15]\n",
      "[16]\n"
     ]
    },
    {
     "data": {
      "text/plain": [
       "<__main__.BstNode at 0x110588240>"
      ]
     },
     "execution_count": 12,
     "metadata": {},
     "output_type": "execute_result"
    }
   ],
   "source": [
    "rebuild_bst_from_preorder_2(preorder_sequence)"
   ]
  },
  {
   "cell_type": "markdown",
   "metadata": {},
   "source": [
    "The worst-case time complexity is O(n), since it performs a constant amount of work per node. Note the similarity to Solution 24.19 on Page 407. \n",
    "\n",
    "A postorder traversal sequence also uniquely specifies the BST, and the algorithm for reconstructing the BST is very similar to that for the preorder case. "
   ]
  },
  {
   "cell_type": "markdown",
   "metadata": {},
   "source": [
    "## 14.6 Find the closest entries in three sorted arrays\n",
    "\n",
    "Design an algorithm that takes three sorted arrays of integers and returns the lenght of a shortest inverval that includes at least one entry from each array. A single value may be present in more than one array, but you can assume there are no duplicate values within a single array. For example, if the three arrays are <5,10,15>, <3,6,9,12,15>, and <8,1,24>, then the answer is 1; it corresponds to the interval [15,16], which includes 15, 15 and 16 from the first, second, and third arrays. "
   ]
  },
  {
   "cell_type": "markdown",
   "metadata": {},
   "source": [
    "By iteratively examing and removing the smallest element from the triple, we compute the minimum interval starting at that element. Since the minimum interval containing eleemnts from each array must begin with the element of some array, we are guaranteed to encounter the minimum element. Since we need to repeatedly insert, delete, find the minimum, and find the maximum amongst a collection of k elements, a BST is the natural choice. "
   ]
  },
  {
   "cell_type": "code",
   "execution_count": 14,
   "metadata": {},
   "outputs": [],
   "source": [
    "def find_closest_elements_in_sorted_arrays(\n",
    "    sorted_arrays: list) -> int:\n",
    "    # Stores array iterators in each entry.\n",
    "    iters = bintrees.RBTree()\n",
    "    for idx, sorted_aray in enumerate(sorted_arrays):\n",
    "        it = iter(sorted_array)\n",
    "        first_min = next(it, None)\n",
    "        if first_min is not None:\n",
    "            iters.insert((first_min, idx), it)\n",
    "        \n",
    "    min_distance_so_far = float('inf')\n",
    "    while True:\n",
    "        min_value, min_idx = iters.min_key()\n",
    "        max_value = iters.max_key()[0]\n",
    "        min_distance_so_far = min(max_value - min_value, min_distance_so_far)\n",
    "        it = iters.pop_min()[1]\n",
    "        next_min = next(it, None)\n",
    "        # Return if some array has no remaining elements.\n",
    "        if next_min is None:\n",
    "            return typing.cast(int, min_distance_so_far)\n",
    "        iter.insert((next_min, min_idx), it)"
   ]
  },
  {
   "cell_type": "markdown",
   "metadata": {},
   "source": [
    "The time complexity is O(n log k), where n is the total number of elements in the k arrays. For the special case k = 3 specified in the problem statement, the time complexity is O(n log 3) = O(n). "
   ]
  },
  {
   "cell_type": "markdown",
   "metadata": {},
   "source": [
    "## 14.7 Enumerate extended integers \n",
    "\n",
    "Numbers of the form a+b$\\sqrt{q}$, where a and b are nonnegative integers, and q is an integer which is not the square of another integer, have special properties, e.g., they are closed under addition and multiplication. \n",
    "\n",
    "Design an algorithm for efficiently computing the k smallest numbers of the form a+ b $\\sqrt{2}$ for nonnegative integers a and b. "
   ]
  },
  {
   "cell_type": "markdown",
   "metadata": {},
   "source": [
    "**Sol:** We know the smallest number is 0+0 $\\sqrt{2}$. The candidates from next smallest number are 1+0$\\sqrt{2}$ and 0 +1$\\sqrt{2}$. From this, we can deduce the following algorithm. We want to maitain a collection of real numbers, initialized to 0+0 $\\sqrt{2}$. We perform k extractions of the smallest element, call it a+b$\\sqrt{2}$, followed by insertion of (a+1)+b$\\sqrt{2}$ and a+ (b+1)$\\sqrt{2}$ to the collection. \n",
    "\n",
    "The operations on this collection are extract the minimum and insert. Since it is possible that the same number may be inserted more than once, we need to ensure the collection does not create duplicates when the same item is inserted twice. A BST satisfies these operations efficiently, and from the BST, which is 0+0 $\\sqrt{2}$, and insert 1+ 0$\n",
    "\\sqrt{2}$ and 0 + 1 $\\sqrt{2}$. We extract the minimum from BST, which is 1 + 0$\\sqrt{2}$, and insert 2 + 0$\\sqrt{2}$ and 1+1$\\sqrt{2}$ to the BST... "
   ]
  },
  {
   "cell_type": "code",
   "execution_count": 16,
   "metadata": {},
   "outputs": [],
   "source": [
    "import math"
   ]
  },
  {
   "cell_type": "code",
   "execution_count": 17,
   "metadata": {},
   "outputs": [],
   "source": [
    "class Number:\n",
    "    def __init__(self,a,b):\n",
    "        self.a, self.b = a, b\n",
    "        self.val = a+ b*math.sqrt(2)\n",
    "        \n",
    "    def __lt__(self, other):\n",
    "        return self.val < other.val\n",
    "    \n",
    "    def __eq__(self, other):\n",
    "        return self.val == other.val\n",
    "    \n",
    "    \n",
    "def generate_first_k_a_b_sqrt2(k:int) -> list:\n",
    "    # Initial for 0 + 0 sqrt(2).\n",
    "    candidates = bintrees.RBTree([(Number(0, 0), None)])\n",
    "    \n",
    "    result = []\n",
    "    while len(result) < k:\n",
    "        next_smallest = candidates.pop_min()[0]\n",
    "        result.append(next_smallest.val)\n",
    "        # Adds the next two numbers derived from next_smallest.\n",
    "        candidates[Number(next_smallest.a +1, next_smallest.b)] = None\n",
    "        candidates[Number(next_smallest.a, next_smallest.b + 1)] = None\n",
    "    return result "
   ]
  },
  {
   "cell_type": "markdown",
   "metadata": {},
   "source": [
    "In each iteration we perform a deletion and two insertions. There are k such insertions, so the time complexity is O(k log k). The space complexity is O(k), since there are not more than 2k insertions. "
   ]
  },
  {
   "cell_type": "code",
   "execution_count": 19,
   "metadata": {},
   "outputs": [],
   "source": [
    "def generate_first_k_a_b_sqrt2_2(k : int) -> list:\n",
    "    # Will store the first k numbers of the form a + b sqrt(2).\n",
    "    cand = [Number(0,0)]\n",
    "    i = j = 0\n",
    "    for _ in range(1,k):\n",
    "        cand_i_plus_1 = Number(cand[i].a+1,cand[i].b)\n",
    "        cand_j_plus_sqrt2 = Number(cand[j].a, cand[j].b +1)\n",
    "        cand.append(min(cand_i_plus_1, cand_j_plus_sqrt2))\n",
    "        if cand_i_plus_1.val == cand[-1].val:\n",
    "            i += 1\n",
    "        if cand_j_plus_sqrt2.val == cand[-1].val:\n",
    "            j += 1\n",
    "    return [a.val for a in cand]\n",
    "        "
   ]
  },
  {
   "cell_type": "code",
   "execution_count": 20,
   "metadata": {},
   "outputs": [
    {
     "data": {
      "text/plain": [
       "[0.0, 1.0, 1.4142135623730951, 2.0, 2.414213562373095]"
      ]
     },
     "execution_count": 20,
     "metadata": {},
     "output_type": "execute_result"
    }
   ],
   "source": [
    "generate_first_k_a_b_sqrt2_2(5)"
   ]
  },
  {
   "cell_type": "code",
   "execution_count": 21,
   "metadata": {},
   "outputs": [
    {
     "data": {
      "text/plain": [
       "[0.0, 1.0, 1.4142135623730951, 2.0, 2.414213562373095, 2.8284271247461903, 3.0]"
      ]
     },
     "execution_count": 21,
     "metadata": {},
     "output_type": "execute_result"
    }
   ],
   "source": [
    "generate_first_k_a_b_sqrt2_2(7)"
   ]
  },
  {
   "cell_type": "code",
   "execution_count": 53,
   "metadata": {},
   "outputs": [],
   "source": [
    "def generate_first_k_a_b_sqrt2_3(k : int) -> list:\n",
    "    cand = [Number(0,0)]\n",
    "    j = 1\n",
    "    t = 1\n",
    "    while True:\n",
    "        print(j)\n",
    "        for i in range(j,-1,-1):\n",
    "            print(i)\n",
    "            cand.append(Number(i,j-i))\n",
    "            t += 1\n",
    "            if t >= k:\n",
    "                return [a.val for a in cand]\n",
    "        j = j+1\n",
    "            \n",
    "    return [a.val for a in cand]\n",
    "        "
   ]
  },
  {
   "cell_type": "code",
   "execution_count": 54,
   "metadata": {},
   "outputs": [
    {
     "name": "stdout",
     "output_type": "stream",
     "text": [
      "1\n",
      "1\n",
      "0\n",
      "2\n",
      "2\n",
      "1\n"
     ]
    },
    {
     "data": {
      "text/plain": [
       "[0.0, 1.0, 1.4142135623730951, 2.0, 2.414213562373095]"
      ]
     },
     "execution_count": 54,
     "metadata": {},
     "output_type": "execute_result"
    }
   ],
   "source": [
    "generate_first_k_a_b_sqrt2_3(5)"
   ]
  },
  {
   "cell_type": "code",
   "execution_count": 55,
   "metadata": {},
   "outputs": [
    {
     "name": "stdout",
     "output_type": "stream",
     "text": [
      "1\n",
      "1\n",
      "0\n",
      "2\n",
      "2\n",
      "1\n",
      "0\n",
      "3\n",
      "3\n"
     ]
    },
    {
     "data": {
      "text/plain": [
       "[0.0, 1.0, 1.4142135623730951, 2.0, 2.414213562373095, 2.8284271247461903, 3.0]"
      ]
     },
     "execution_count": 55,
     "metadata": {},
     "output_type": "execute_result"
    }
   ],
   "source": [
    "generate_first_k_a_b_sqrt2_3(7)"
   ]
  },
  {
   "cell_type": "markdown",
   "metadata": {},
   "source": [
    "This approach is easier since 1 < $\\sqrt{2}$. Then add the coefficient of 1 will also be smaller than add the coefficient of $\\sqrt{2}$. We increasing the sum of coefficient. Descreases the coefficient of 1 while increases the coefficient of $\\sqrt{2}$. Add to the candidates until reach the total number of k. \n",
    "\n",
    "Each additional element takes O(1) time to compute, implying an O(n) time complexity to compute the first n values of the form a + b $\\sqrt{2}$. "
   ]
  },
  {
   "cell_type": "markdown",
   "metadata": {},
   "source": [
    "## 14.8 Build a minimum height BST from a sorted array\n",
    "\n",
    "Given a sorted array, the number of BSTs that can be build on the entries in the array grows enormously with its size. Some of these trees are skewed, and are closer to lists; others are more balanced. \n",
    "\n",
    "How would you build a BST of minimum possible height from a sorted array? \n",
    "\n",
    "**Sol:** Intuitively, to make a minimum height BST, we want the subtrees to be as balanced as possible-- there is no point in one subtree being shorter than the other, since the height is determined by the taller one. More formally, balance can be achieved by keeping the number of nodes in both subtrees as close as possible. \n",
    "\n",
    "Let n be the length of the array. To achieve optimum balance we can make the element in the middle of the array, i.e., the [n/2]th entry, the root, and recursively compute minimum height BSTs for the subarrays on either side of this entry. \n",
    "\n",
    "As a concrete example, if the array is <2,3,5,7,11,13,17,19,23>, the root's key will be the middle element, i.e., 11. This implies the left subtree is to be build from <2,3,5,7>, and the right subtree is to be built from <13,17,19,23>. To make both of these minimum height, we call the procedure recursively. "
   ]
  },
  {
   "cell_type": "code",
   "execution_count": 56,
   "metadata": {},
   "outputs": [],
   "source": [
    "def build_min_height_bst_from_sorted_array(A : list) -> BstNode:\n",
    "    def build_min_height_bst_from_sorted_subarray(start, end):\n",
    "        if start >= end:\n",
    "            return None\n",
    "        mid = (start + end)//2\n",
    "        return BstNode(A[mid],\n",
    "                      build_min_height_bst_from_sorted_subarray(start, mid),\n",
    "                      build_min_height_bst_from_sorted_subarray(mid+1 , end))\n",
    "    \n",
    "    return build_min_height_bst_from_sorted_subarray(0, len(A))"
   ]
  },
  {
   "cell_type": "code",
   "execution_count": 57,
   "metadata": {},
   "outputs": [],
   "source": [
    "A = [2,3,5,7,11,13,17,19,23]\n",
    "balanced_tree = build_min_height_bst_from_sorted_array(A)"
   ]
  },
  {
   "cell_type": "code",
   "execution_count": 58,
   "metadata": {},
   "outputs": [
    {
     "name": "stdout",
     "output_type": "stream",
     "text": [
      "Inorder: 2\n",
      "Inorder: 3\n",
      "Inorder: 5\n",
      "Inorder: 7\n",
      "Inorder: 11\n",
      "Inorder: 13\n",
      "Inorder: 17\n",
      "Inorder: 19\n",
      "Inorder: 23\n"
     ]
    }
   ],
   "source": [
    "tree_traversal_inorder(balanced_tree)"
   ]
  },
  {
   "cell_type": "code",
   "execution_count": 59,
   "metadata": {},
   "outputs": [],
   "source": [
    "A = [1,2,3,4,5,6,7,8,9,10]"
   ]
  },
  {
   "cell_type": "code",
   "execution_count": 60,
   "metadata": {},
   "outputs": [
    {
     "name": "stdout",
     "output_type": "stream",
     "text": [
      "Inorder: 1\n",
      "Inorder: 2\n",
      "Inorder: 3\n",
      "Inorder: 4\n",
      "Inorder: 5\n",
      "Inorder: 6\n",
      "Inorder: 7\n",
      "Inorder: 8\n",
      "Inorder: 9\n",
      "Inorder: 10\n"
     ]
    }
   ],
   "source": [
    "balanced_tree = build_min_height_bst_from_sorted_array(A)\n",
    "tree_traversal_inorder(balanced_tree)"
   ]
  },
  {
   "cell_type": "markdown",
   "metadata": {},
   "source": [
    "The time complexity T(n) satisfies the recurrence T(n) + 2T(n/2) + O(1), which solves to T(n) = O(n). Another explanation for the time complexity is that we make exactly n calls to the recursive function and spend O(1) within each call. "
   ]
  },
  {
   "cell_type": "markdown",
   "metadata": {},
   "source": [
    "## 14.9 Test if three BST nodes are totally ordered \n",
    "\n",
    "Write a program which takes two nodes in a BST and a third node, the \"middle\" node, and determines if one of the two nodes is a proper ancestor and the other a proper descendantof the middle. (A proper ancestor of a node is an ancestor that is not equal to the node; a proper descendant is defined similarly.)\n",
    "\n",
    "**Sol:** A brutef-force solution would be check if the first node is a proper ancestor of the middle and the second node is a proper descendant of the middle. If this check returns true, we return true. Otherwise, we return the result of the same check, swapping the roles of the first and second nodes. \n",
    "\n",
    "Searching has time complexity O(h), where h is the height of the tree, since we can use the BST property to prune one of the two children at each node. Since we perform a maximum of three searches, the total time complexity is O(h). One disadvantage of trying the two input nodes for being the middle's ancestor one-after-another is that even when the three nodes are very close, e.g., if the two nodes are {A,J} and the middle node is I in Figure 14.1, if we begin the search for the middle from the lower of the nodes, e.g., from J, we incur the full O(h) complexity. \n",
    "\n",
    "We can prevent this by performing the searches for the middle from both alternatives in an interleaved fashiion. If we encounter the middle from one node, we subsequently search for the second node from the middle. This way we avoid performing an unsuccessful search on a large subtree. \n"
   ]
  },
  {
   "cell_type": "code",
   "execution_count": 61,
   "metadata": {},
   "outputs": [],
   "source": [
    "def part_includes_ancestor_and_descendant_of_m(possible_anc_or_desc_0: BstNode,\n",
    "                                              possible_anc_or_desc_1: BstNode,\n",
    "                                              middle: BstNode) -> bool:\n",
    "    search_0, search_1 = possible_anc_or_desc_0, possible_anc_or_desc_1\n",
    "    \n",
    "    # Perform interleaved searchin from possible_anc_or_desc and \n",
    "    # possible_anc_or_desc for middle \n",
    "    while (search_0 is not possible_anc_or_desc_1 and search_0 is not middle\n",
    "          and search_1 is not possible_anc_or_desc_0 \n",
    "          and search_1 is not middle and (search_0 or search_1)):\n",
    "        if search_0:\n",
    "            search_0 = (search_0.left\n",
    "                       if search_0.data > middle.data else search_1.right)\n",
    "        if search_1:\n",
    "            search_1 = (search_1.left\n",
    "                       if search_0.data > middle.data else search_1.right)\n",
    "            \n",
    "    # If both searches were unsuccessful, or we got from \n",
    "    # possible_anc_or_desc_0 to possible_anc_or_desc_1 without seeing middle, \n",
    "    # or from possible_anc_desc_1 to possible_anc_or_desc_0 without seeing middle, \n",
    "    # middle cannot lie between possible_anc_or_desc_0 and possible_anc_or_desc_1.\n",
    "    \n",
    "    if ((search_0 is not middle and search_1 is not middle)\n",
    "           or search_0 is possible_anc_or_desc_1\n",
    "           or search_1 is possible_anc_or_desc_0):\n",
    "        return False\n",
    "    \n",
    "    def search_target(source, target):\n",
    "        while source and source is not target:\n",
    "            source = source.left if source.data > target.data else source.right\n",
    "        return source is target \n",
    "    \n",
    "    # If we get here, we already know one of possible_anc_or_desc_0 or \n",
    "    # possible_anc_to_desc_1 has a path to middle. Check if middle has a path to \n",
    "    # possible_anc_to_desc_1 or to possible_anc_to_desc_0.\n",
    "    return search_target(\n",
    "        middle, possible_anc_or_desc_1\n",
    "        if search_0 is middle else possible_anc_or_desc_0)"
   ]
  },
  {
   "cell_type": "code",
   "execution_count": 64,
   "metadata": {},
   "outputs": [
    {
     "data": {
      "text/plain": [
       "True"
      ]
     },
     "execution_count": 64,
     "metadata": {},
     "output_type": "execute_result"
    }
   ],
   "source": [
    "part_includes_ancestor_and_descendant_of_m(node3, node12, node10)"
   ]
  },
  {
   "cell_type": "code",
   "execution_count": 65,
   "metadata": {},
   "outputs": [
    {
     "data": {
      "text/plain": [
       "True"
      ]
     },
     "execution_count": 65,
     "metadata": {},
     "output_type": "execute_result"
    }
   ],
   "source": [
    "part_includes_ancestor_and_descendant_of_m(node12, node3, node10)"
   ]
  },
  {
   "cell_type": "code",
   "execution_count": 67,
   "metadata": {},
   "outputs": [
    {
     "ename": "AttributeError",
     "evalue": "'NoneType' object has no attribute 'data'",
     "output_type": "error",
     "traceback": [
      "\u001b[0;31m---------------------------------------------------------------------------\u001b[0m",
      "\u001b[0;31mAttributeError\u001b[0m                            Traceback (most recent call last)",
      "\u001b[0;32m<ipython-input-67-d0d09837b628>\u001b[0m in \u001b[0;36m<module>\u001b[0;34m()\u001b[0m\n\u001b[0;32m----> 1\u001b[0;31m \u001b[0mpart_includes_ancestor_and_descendant_of_m\u001b[0m\u001b[0;34m(\u001b[0m\u001b[0mnode11\u001b[0m\u001b[0;34m,\u001b[0m \u001b[0mnode3\u001b[0m\u001b[0;34m,\u001b[0m \u001b[0mnode12\u001b[0m\u001b[0;34m)\u001b[0m\u001b[0;34m\u001b[0m\u001b[0m\n\u001b[0m",
      "\u001b[0;32m<ipython-input-61-44226161d096>\u001b[0m in \u001b[0;36mpart_includes_ancestor_and_descendant_of_m\u001b[0;34m(possible_anc_or_desc_0, possible_anc_or_desc_1, middle)\u001b[0m\n\u001b[1;32m     14\u001b[0m         \u001b[0;32mif\u001b[0m \u001b[0msearch_1\u001b[0m\u001b[0;34m:\u001b[0m\u001b[0;34m\u001b[0m\u001b[0m\n\u001b[1;32m     15\u001b[0m             search_1 = (search_1.left\n\u001b[0;32m---> 16\u001b[0;31m                        if search_0.data > middle.data else search_1.right)\n\u001b[0m\u001b[1;32m     17\u001b[0m \u001b[0;34m\u001b[0m\u001b[0m\n\u001b[1;32m     18\u001b[0m     \u001b[0;31m# If both searches were unsuccessful, or we got from\u001b[0m\u001b[0;34m\u001b[0m\u001b[0;34m\u001b[0m\u001b[0m\n",
      "\u001b[0;31mAttributeError\u001b[0m: 'NoneType' object has no attribute 'data'"
     ]
    }
   ],
   "source": [
    "part_includes_ancestor_and_descendant_of_m(node11, node3, node12)"
   ]
  },
  {
   "cell_type": "markdown",
   "metadata": {},
   "source": [
    "When the middle node does have an ancestor and descendant in the pair, the time complexity is O(d), where d is the difference between the depths of the ancestor and descendant. The reason is that the interleaved search will stop when the ancestor reaches the middle node, i.e., after O(d) iterations. The search from the middle node to the descendant then takes O(d) steps to succeed. When the middle node does not have an ancestor and descendant in the pair, the time complexity is O(h), which corresponds to a worst-case search in a BST. "
   ]
  },
  {
   "cell_type": "markdown",
   "metadata": {},
   "source": [
    "## 14.10 The range lookup problem \n",
    "\n",
    "Consider the problem of developing a web-service that takes a geographical location, and returns the nearest restaurant. The service starts with a set of restaurant locations-- each location includes X and Y--cordinates. A query consist of a location, and should return the nearest restaurant (ties can be broken arbitrarily). \n",
    "\n",
    "One approach is to build two BSTs on the restaurant locations: T_X sorted on the X coordinates, and T_Y sorted on the Y coordinates. A query on location (p,q) can be performed by finding all the restaurants whose X coordinate is in the interval[p-D,p+D], and all the restaurants whose Y coordinate is in the interval [q-D, q+D], taking the intersection of these two sets, and finding the restaurant in the intersection which is closest to (p,q). Heuristically, if D is chosen correctly, the subsets are small and a brute-force search for the closest point is fast. One approach is to start with a small value for D and keep doubling it until the final intersection in nonempty. \n",
    "\n",
    "Write a program that takes as input a BST and an interval and returns the BST keys that lie in the interval. For example, for the tree in Figure 14.1 on Page 212, and interval [16,31], you should return 17,19,23,29,31. \n",
    "\n",
    "**Sol:** By the property of BST, we have \n",
    "* If the root of the tree holds a key that is less than the left endpoint of the interval, the left subtree cannot contain any node whose key lies in the interval. \n",
    "* If the root of the tree holds a key that is greater than the right endpoint of the interval, the right subtree cannot contain any node whose key lies in the interval.\n",
    "* Otherwise, the root of the tree holds a key that lies within the interval, and it is possible for both the left and right subtrees to contain nodes whose keys lie in the interval. "
   ]
  },
  {
   "cell_type": "code",
   "execution_count": 68,
   "metadata": {},
   "outputs": [],
   "source": [
    "import collections"
   ]
  },
  {
   "cell_type": "code",
   "execution_count": 69,
   "metadata": {},
   "outputs": [],
   "source": [
    "Interval = collections.namedtuple('Interval', ('left', 'right'))\n",
    "\n",
    "def range_lookup_in_bst(tree: BstNode, interval:Interval) -> list:\n",
    "    def range_lookup_in_bst_helper(tree):\n",
    "        if tree is None:\n",
    "            return \n",
    "        \n",
    "        if interval.left <= tree.data <= interval.right:\n",
    "            # tree.data lies in the interval.\n",
    "            range_lookup_in_bst_helper(tree.left)\n",
    "            result.append(tree.data)\n",
    "            range_lookup_in_bst_helper(tree.right)\n",
    "            \n",
    "        elif interval.left > tree.data:\n",
    "            range_lookup_in_bst_helper(tree.right)\n",
    "        \n",
    "        elif interval.right < tree.data:\n",
    "            range_lookup_in_bst_helper(tree.left)\n",
    "            \n",
    "    result = []\n",
    "    range_lookup_in_bst_helper(tree)\n",
    "    return result "
   ]
  },
  {
   "cell_type": "code",
   "execution_count": 70,
   "metadata": {},
   "outputs": [],
   "source": [
    "interval = Interval(16,31)"
   ]
  },
  {
   "cell_type": "code",
   "execution_count": 71,
   "metadata": {},
   "outputs": [
    {
     "data": {
      "text/plain": [
       "[17, 19, 23, 29, 31]"
      ]
     },
     "execution_count": 71,
     "metadata": {},
     "output_type": "execute_result"
    }
   ],
   "source": [
    "range_lookup_in_bst(node1,interval)"
   ]
  },
  {
   "cell_type": "code",
   "execution_count": 72,
   "metadata": {},
   "outputs": [
    {
     "data": {
      "text/plain": [
       "[17, 19, 23, 29, 31, 37, 41]"
      ]
     },
     "execution_count": 72,
     "metadata": {},
     "output_type": "execute_result"
    }
   ],
   "source": [
    "interval = Interval(16,42)\n",
    "range_lookup_in_bst(node1,interval)"
   ]
  },
  {
   "cell_type": "markdown",
   "metadata": {},
   "source": [
    "Looking carefully at the nodes we recurse on, we see these nodes can be partitioned into three subsets--nodes on the search path to 16, nodes on the search path to 42, and the rest. All nodes in the third subset must lie in the result, but some of the nodes in the first two subsets may or may not lie in the result. The traversal spends O(h) time visiting the first two subsets, and O(m) time traversing the third subset, where m is the number of keys that lie in the specified interval. Each edge is visited twice, once downwards, and once upwards? Total time complexity is O()"
   ]
  },
  {
   "cell_type": "code",
   "execution_count": 1,
   "metadata": {},
   "outputs": [],
   "source": [
    "class BinaryTreeNode:\n",
    "    def __init__(self, data=None, left= None, right = None):\n",
    "        self.data = data \n",
    "        self.left = left \n",
    "        self.right = right "
   ]
  },
  {
   "cell_type": "code",
   "execution_count": 2,
   "metadata": {},
   "outputs": [],
   "source": [
    "def tree_traversal(root: BinaryTreeNode) -> None:\n",
    "    if root:\n",
    "        # Preorder: Processes the root before the traversals of left \n",
    "        # and right children \n",
    "        print('Preorder: %d' % root.data)\n",
    "        tree_traversal(root.left)\n",
    "        # Inorder: Processes the root after the traversal of left \n",
    "        # child and before the traversal of right child \n",
    "        print('Inorder: %d' % root.data)\n",
    "        tree_traversal(root.right)\n",
    "        # Postorder: Processes the root after the traversals of left \n",
    "        # right child \n",
    "        print ('Postorder: %d' % root.data)"
   ]
  },
  {
   "cell_type": "markdown",
   "metadata": {},
   "source": [
    "# Leetcode Binary Search Problem \n",
    "\n",
    "## 35. Search Insert Position \n",
    "\n",
    "Given a sorted array and a target value, return the index if the target is found. If not, return the index where it would be if it were inserted in order. \n",
    "\n",
    "You may assume no duplicates in the array. \n",
    "\n",
    "**Example 1:**\n",
    "Input: [1,3,5,6], 5\n",
    "Output: 2\n",
    "\n",
    "**Example 2:**\n",
    "Input: [1,3,5,6], 2\n",
    "Output: 1 \n",
    "\n",
    "**Example 3:**\n",
    "Input: [1,3,5,6], 7\n",
    "Output: 4\n",
    "\n",
    "**Example 4:**\n",
    "Input: [1,3,5,6], 0\n",
    "Output: 0"
   ]
  },
  {
   "cell_type": "code",
   "execution_count": 11,
   "metadata": {},
   "outputs": [],
   "source": [
    "def searchInsert(nums:list, target: int) -> int:\n",
    "    \n",
    "    for i in range(len(nums)):\n",
    "        if nums[i] >= target:\n",
    "            return i \n",
    "\n",
    "    return (i+1)"
   ]
  },
  {
   "cell_type": "code",
   "execution_count": 12,
   "metadata": {},
   "outputs": [],
   "source": [
    "nums = [1,3,5,6]\n",
    "target = 5"
   ]
  },
  {
   "cell_type": "code",
   "execution_count": 13,
   "metadata": {},
   "outputs": [
    {
     "data": {
      "text/plain": [
       "2"
      ]
     },
     "execution_count": 13,
     "metadata": {},
     "output_type": "execute_result"
    }
   ],
   "source": [
    "searchInsert(nums, target)"
   ]
  },
  {
   "cell_type": "code",
   "execution_count": 14,
   "metadata": {},
   "outputs": [],
   "source": [
    "target = 2"
   ]
  },
  {
   "cell_type": "code",
   "execution_count": 15,
   "metadata": {},
   "outputs": [
    {
     "data": {
      "text/plain": [
       "1"
      ]
     },
     "execution_count": 15,
     "metadata": {},
     "output_type": "execute_result"
    }
   ],
   "source": [
    "searchInsert(nums, target)"
   ]
  },
  {
   "cell_type": "code",
   "execution_count": 16,
   "metadata": {},
   "outputs": [
    {
     "data": {
      "text/plain": [
       "4"
      ]
     },
     "execution_count": 16,
     "metadata": {},
     "output_type": "execute_result"
    }
   ],
   "source": [
    "target = 7\n",
    "\n",
    "searchInsert(nums, target)"
   ]
  },
  {
   "cell_type": "code",
   "execution_count": 17,
   "metadata": {},
   "outputs": [
    {
     "data": {
      "text/plain": [
       "0"
      ]
     },
     "execution_count": 17,
     "metadata": {},
     "output_type": "execute_result"
    }
   ],
   "source": [
    "target = 0\n",
    "\n",
    "searchInsert(nums, target)"
   ]
  },
  {
   "cell_type": "markdown",
   "metadata": {},
   "source": [
    "## 34. Find First and Last Position of Element in Sorted Array\n",
    "\n",
    "Given an array of integers nums sorted in ascending order, find the starting and ending position of a given target value. \n",
    "\n",
    "Your algorithm's runtime complexity must be in order or O(log n). \n",
    "\n",
    "If the target is not found in array, return [-1,-1]\n",
    "\n",
    "**Example 1:**\n",
    "Input: nums = [5,7,7,8,8,10], target = 8\n",
    "Output: [3,4]\n",
    "\n",
    "**Example 2:**\n",
    "Input: nums = [5,7,7,8,8,10], target = 6\n",
    "Output: [-1, -1]"
   ]
  },
  {
   "cell_type": "code",
   "execution_count": 32,
   "metadata": {},
   "outputs": [],
   "source": [
    "def searchRange(nums: list, target: int) -> list:\n",
    "    \n",
    "    \n",
    "    def find_m(nums: list, target: int) -> int:\n",
    "\n",
    "        ll = 0\n",
    "        rr = len(nums) \n",
    "\n",
    "\n",
    "        while ll < rr :\n",
    "            m = (ll+rr)//2\n",
    "\n",
    "            if nums[m] > target:\n",
    "                rr = m \n",
    "            elif nums[m] < target:\n",
    "                ll = m + 1\n",
    "        \n",
    "            elif nums[m] == target:\n",
    "                return m \n",
    "        return (-1)\n",
    "    \n",
    "    m =  find_m(nums, target)\n",
    "    print(m)\n",
    "    if m == -1:\n",
    "        return [-1,-1]\n",
    "    \n",
    "    l = 0\n",
    "    r = len(nums ) \n",
    "    \n",
    "    while l < m:\n",
    "        m1 = (l+m) //2\n",
    "        \n",
    "        if nums[m1] < target:\n",
    "            l = m1 + 1\n",
    "        elif nums[m1] == target:\n",
    "            break\n",
    "    \n",
    "    while m < r:\n",
    "        m2 = (r + m) //2\n",
    "        \n",
    "        if nums[m2] > target:\n",
    "            r = m2\n",
    "        elif nums[m2] == target:\n",
    "            break \n",
    "            \n",
    "    if m1 <= m and m2>= m:\n",
    "        return [m1,m2]\n",
    "    else: \n",
    "        return [-1, -1]\n",
    "  "
   ]
  },
  {
   "cell_type": "code",
   "execution_count": 33,
   "metadata": {},
   "outputs": [
    {
     "name": "stdout",
     "output_type": "stream",
     "text": [
      "4\n"
     ]
    },
    {
     "data": {
      "text/plain": [
       "[3, 4]"
      ]
     },
     "execution_count": 33,
     "metadata": {},
     "output_type": "execute_result"
    }
   ],
   "source": [
    "nums = [5,7,7,8,8,10] \n",
    "target = 8\n",
    "\n",
    "searchRange(nums, target)"
   ]
  },
  {
   "cell_type": "code",
   "execution_count": 34,
   "metadata": {},
   "outputs": [
    {
     "name": "stdout",
     "output_type": "stream",
     "text": [
      "-1\n"
     ]
    },
    {
     "data": {
      "text/plain": [
       "[-1, -1]"
      ]
     },
     "execution_count": 34,
     "metadata": {},
     "output_type": "execute_result"
    }
   ],
   "source": [
    "target = 6\n",
    "\n",
    "searchRange(nums, target)"
   ]
  },
  {
   "cell_type": "code",
   "execution_count": 51,
   "metadata": {},
   "outputs": [],
   "source": [
    "def searchRange_2(nums: list, target: int) -> int:\n",
    "    \n",
    "    def lower_bound(A: list, target: int) -> int:\n",
    "        \n",
    "        l = 0\n",
    "        r = len(A) \n",
    "        while l < r:\n",
    "            m = l + (r-l)//2\n",
    "            if A[m] >= target:\n",
    "                r = m\n",
    "            else:\n",
    "                l = m+1\n",
    "        return l \n",
    "    \n",
    "    def upper_bound(A: list, target: int) -> int:\n",
    "        l = 0\n",
    "        r = len(A)\n",
    "        \n",
    "        while l< r:\n",
    "            m = l +(r-l)//2\n",
    "            if A[m] > target:\n",
    "                r = m \n",
    "            else:\n",
    "                l = m + 1\n",
    "        return l\n",
    "    \n",
    "    lw = lower_bound(nums, target)\n",
    "    \n",
    "    up = upper_bound(nums, target)\n",
    "    \n",
    "    if lw == up:\n",
    "        return [-1, -1]\n",
    "    else:\n",
    "        return [lw, up-1]\n",
    "    \n",
    "    \n",
    "    \n",
    "    print(lw, up)"
   ]
  },
  {
   "cell_type": "code",
   "execution_count": 52,
   "metadata": {},
   "outputs": [
    {
     "data": {
      "text/plain": [
       "[-1, -1]"
      ]
     },
     "execution_count": 52,
     "metadata": {},
     "output_type": "execute_result"
    }
   ],
   "source": [
    "nums = [5,7,7,8,8,10] \n",
    "target = 6\n",
    "\n",
    "searchRange_2(nums, target)"
   ]
  },
  {
   "cell_type": "code",
   "execution_count": 53,
   "metadata": {},
   "outputs": [
    {
     "data": {
      "text/plain": [
       "[3, 4]"
      ]
     },
     "execution_count": 53,
     "metadata": {},
     "output_type": "execute_result"
    }
   ],
   "source": [
    "target = 8\n",
    "\n",
    "searchRange_2(nums, target)"
   ]
  },
  {
   "cell_type": "code",
   "execution_count": 54,
   "metadata": {},
   "outputs": [
    {
     "data": {
      "text/plain": [
       "[0, 1]"
      ]
     },
     "execution_count": 54,
     "metadata": {},
     "output_type": "execute_result"
    }
   ],
   "source": [
    "nums = [2,2]\n",
    "target = 2\n",
    "searchRange_2(nums, target)"
   ]
  },
  {
   "cell_type": "code",
   "execution_count": 55,
   "metadata": {},
   "outputs": [
    {
     "data": {
      "text/plain": [
       "[0, 0]"
      ]
     },
     "execution_count": 55,
     "metadata": {},
     "output_type": "execute_result"
    }
   ],
   "source": [
    "nums = [1]\n",
    "target = 1\n",
    "searchRange_2(nums, target)"
   ]
  },
  {
   "cell_type": "code",
   "execution_count": 56,
   "metadata": {},
   "outputs": [
    {
     "data": {
      "text/plain": [
       "[-1, -1]"
      ]
     },
     "execution_count": 56,
     "metadata": {},
     "output_type": "execute_result"
    }
   ],
   "source": [
    "nums = [1]\n",
    "target = 0\n",
    "searchRange_2(nums, target)"
   ]
  },
  {
   "cell_type": "markdown",
   "metadata": {},
   "source": [
    "Time Complexity: O(log(n))\n",
    "\n",
    "Space Complexity: O(1)"
   ]
  },
  {
   "cell_type": "markdown",
   "metadata": {},
   "source": [
    "## 64. Sqrt(x)\n",
    "\n",
    "Implement int sqrt(int x). \n",
    "\n",
    "Compute and return the square root of x, where x is guaranteed to be a non-negative integer. "
   ]
  },
  {
   "cell_type": "code",
   "execution_count": 57,
   "metadata": {},
   "outputs": [],
   "source": [
    "def mySqrt(x: int) -> int:\n",
    "    l = 0\n",
    "    r = x+1\n",
    "    while l< r:\n",
    "        m = l + (r-l)//2\n",
    "        if m * m > x:\n",
    "            r = m \n",
    "        else:\n",
    "            l = m +1\n",
    "    return l -1 "
   ]
  },
  {
   "cell_type": "markdown",
   "metadata": {},
   "source": [
    "Time Complexity: O(log n )\n",
    "\n",
    "Space Complexity: O(1)"
   ]
  },
  {
   "cell_type": "code",
   "execution_count": 58,
   "metadata": {},
   "outputs": [
    {
     "data": {
      "text/plain": [
       "2"
      ]
     },
     "execution_count": 58,
     "metadata": {},
     "output_type": "execute_result"
    }
   ],
   "source": [
    "mySqrt(4)"
   ]
  },
  {
   "cell_type": "code",
   "execution_count": 59,
   "metadata": {},
   "outputs": [
    {
     "data": {
      "text/plain": [
       "2"
      ]
     },
     "execution_count": 59,
     "metadata": {},
     "output_type": "execute_result"
    }
   ],
   "source": [
    "mySqrt(8)"
   ]
  },
  {
   "cell_type": "code",
   "execution_count": 60,
   "metadata": {},
   "outputs": [
    {
     "data": {
      "text/plain": [
       "3"
      ]
     },
     "execution_count": 60,
     "metadata": {},
     "output_type": "execute_result"
    }
   ],
   "source": [
    "mySqrt(10)"
   ]
  },
  {
   "cell_type": "markdown",
   "metadata": {},
   "source": [
    "## 278. First Bad Version \n",
    "\n",
    "You are a product manager and currently leading a team to develop a new product. Unfortunately, the latest version of your product fails the quality check. Since each version is developed based on the previous version, all the versions after a bad version are also bad. \n",
    "\n",
    "Suppose you have n versions [1,2,...,n] and you want to find out the first bad one, which causes all the following ones to be bad. \n",
    "\n",
    "You are given an API bool isBadversion(version) which will return whether version is bad. Implement a function to find the first bad version. You should minimize the number of calls to the API. "
   ]
  },
  {
   "cell_type": "code",
   "execution_count": 61,
   "metadata": {},
   "outputs": [],
   "source": [
    "class Solution:\n",
    "    def firstBadVersion(self, n):\n",
    "        \"\"\"\n",
    "        :type n: int\n",
    "        :rtype: int\n",
    "        \"\"\"\n",
    "        \n",
    "        l = 0\n",
    "        r = n \n",
    "        while l < r:\n",
    "            m = l+ (r-l)//2\n",
    "            if isBadVersion(m):\n",
    "                r = m\n",
    "            else:\n",
    "                l = m+1 \n",
    "        return l \n",
    "        "
   ]
  },
  {
   "cell_type": "markdown",
   "metadata": {},
   "source": [
    "## 875. Koko Eating Bananas\n",
    "\n",
    "Koko loves to eat bananas. There are N piles of bananas, the i-th pile has pile[i] bananas. The guards have gone and will come back in H hours. \n",
    "\n",
    "Koko can decide her bananas-per-hour eating speed of K. Each hour, she chooses some pile of bananas, and eats K bananas from that pile. If the pile has less than K bananas, she eats all of them instead, wnad won't eat any more bananas during this hour. \n",
    "\n",
    "Koko likes to eat slowly, but still wants to finish eating all the bananas before the guards come back.\n",
    "\n",
    "Return the minimum integer K such that she can eat all the bananas with H hours. \n",
    "\n",
    "**Example 1:**\n",
    "Input: piles = [3,6,7,11], H = 8\n",
    "\n",
    "Output: 4\n",
    "\n",
    "Explanation: 3/4 =1 + 6/4 = 2 + 7/4 = 2 + 11/4 = 3 =8 "
   ]
  },
  {
   "cell_type": "code",
   "execution_count": 67,
   "metadata": {},
   "outputs": [
    {
     "data": {
      "text/plain": [
       "2"
      ]
     },
     "execution_count": 67,
     "metadata": {},
     "output_type": "execute_result"
    }
   ],
   "source": [
    "(6 + 4 -1 )//4"
   ]
  },
  {
   "cell_type": "code",
   "execution_count": 70,
   "metadata": {},
   "outputs": [],
   "source": [
    "def minEatingSpeed(piles: list, H: int) -> int:\n",
    "    \n",
    "    l = 1\n",
    "    r = max(piles) + 1\n",
    "    \n",
    "    while l < r:\n",
    "        m = l+ (r-l)//2\n",
    "        h = 0\n",
    "        for p in piles:\n",
    "            h += (p+ m- 1)//m\n",
    "        if h <= H:\n",
    "            r = m \n",
    "        else: \n",
    "            l = m+1\n",
    "    return l \n",
    "    \n",
    "    "
   ]
  },
  {
   "cell_type": "code",
   "execution_count": 72,
   "metadata": {},
   "outputs": [
    {
     "data": {
      "text/plain": [
       "4"
      ]
     },
     "execution_count": 72,
     "metadata": {},
     "output_type": "execute_result"
    }
   ],
   "source": [
    "piles = [3,6,7,11]\n",
    "H = 8\n",
    "minEatingSpeed(piles, H)"
   ]
  },
  {
   "cell_type": "code",
   "execution_count": 73,
   "metadata": {},
   "outputs": [
    {
     "data": {
      "text/plain": [
       "30"
      ]
     },
     "execution_count": 73,
     "metadata": {},
     "output_type": "execute_result"
    }
   ],
   "source": [
    "piles = [30, 11, 23, 4, 20]\n",
    "H = 5\n",
    "minEatingSpeed(piles, H)"
   ]
  },
  {
   "cell_type": "code",
   "execution_count": 74,
   "metadata": {},
   "outputs": [
    {
     "data": {
      "text/plain": [
       "23"
      ]
     },
     "execution_count": 74,
     "metadata": {},
     "output_type": "execute_result"
    }
   ],
   "source": [
    "piles = [30, 11, 23, 4, 20]\n",
    "H = 6\n",
    "minEatingSpeed(piles, H)"
   ]
  },
  {
   "cell_type": "markdown",
   "metadata": {},
   "source": [
    "## 378. Kth Smallest Element in a Sorted Matrix \n",
    "\n",
    "Given a n $\\times$ n matric where each of the rows and columns are sorted in ascending order, find the kth smallest element in the matrix. \n",
    "\n",
    "Note that it is the kth smallest element in the sorted order, not the kth distinct elemnt.\n",
    "\n",
    "**Example:**\n",
    "matrix = [ \n",
    "[1, 5, 9], \n",
    "[10, 11, 13],\n",
    "[12, 13, 15]\n",
    "]\n",
    "k = 8\n",
    "\n",
    "return 13. "
   ]
  },
  {
   "cell_type": "code",
   "execution_count": 11,
   "metadata": {},
   "outputs": [],
   "source": [
    "def kthSmallest(matrix: list, n : int) -> int:\n",
    "    \n",
    "    l = matrix[0][0]\n",
    "    r = matrix[-1][-1]\n",
    "    \n",
    "    while l < r:\n",
    "        m = l + (r-l)//2\n",
    "        total = 0\n",
    "        for row in matrix:\n",
    "            total += upper_bound(row, m)\n",
    "        if total >= n:\n",
    "            r = m\n",
    "        else:\n",
    "            l = m+1 \n",
    "    return l\n",
    "\n",
    "def upper_bound(nums: list, n: int) -> int:\n",
    "    l = 0\n",
    "    r = len(nums)\n",
    "    \n",
    "    while l< r:\n",
    "        m = l+ (r-l)//2\n",
    "        if nums[m] > n:\n",
    "            r = m \n",
    "        else:\n",
    "            l = m +1 \n",
    "            \n",
    "    return l "
   ]
  },
  {
   "cell_type": "code",
   "execution_count": 12,
   "metadata": {},
   "outputs": [
    {
     "data": {
      "text/plain": [
       "13"
      ]
     },
     "execution_count": 12,
     "metadata": {},
     "output_type": "execute_result"
    }
   ],
   "source": [
    "matrix = [[1,5,9], [10,11,13], [12,13,15]]\n",
    "\n",
    "kthSmallest(matrix, 8)"
   ]
  },
  {
   "cell_type": "code",
   "execution_count": null,
   "metadata": {},
   "outputs": [],
   "source": []
  }
 ],
 "metadata": {
  "kernelspec": {
   "display_name": "Python 3",
   "language": "python",
   "name": "python3"
  },
  "language_info": {
   "codemirror_mode": {
    "name": "ipython",
    "version": 3
   },
   "file_extension": ".py",
   "mimetype": "text/x-python",
   "name": "python",
   "nbconvert_exporter": "python",
   "pygments_lexer": "ipython3",
   "version": "3.7.4"
  }
 },
 "nbformat": 4,
 "nbformat_minor": 2
}
