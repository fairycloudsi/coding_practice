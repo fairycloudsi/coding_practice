{
 "cells": [
  {
   "cell_type": "code",
   "execution_count": 6,
   "metadata": {},
   "outputs": [],
   "source": [
    "class BinaryTreeNode:\n",
    "    def __init__(self, data = None, left = None, right = None):\n",
    "        self.data, self.left, self.right = data, left, right "
   ]
  },
  {
   "cell_type": "code",
   "execution_count": 2,
   "metadata": {},
   "outputs": [],
   "source": [
    "def search_bst(tree: BstNode, key: int) -> BstNode:\n",
    "    return (tree\n",
    "           if not tree or tree.data == key else search_bst(tree.left, key)\n",
    "           if key < tree.data else search_bst(tree.right, key))"
   ]
  },
  {
   "cell_type": "code",
   "execution_count": 31,
   "metadata": {},
   "outputs": [],
   "source": [
    "def tree_traversal_inorder(root: BinaryTreeNode) -> None:\n",
    "    if root:\n",
    "        tree_traversal_inorder(root.left) \n",
    "        print('Inorder: %d' % root.data)\n",
    "        tree_traversal_inorder(root.right)"
   ]
  },
  {
   "cell_type": "markdown",
   "metadata": {},
   "source": [
    "## 14.1 Test if a binary tree satisfies the BST property \n",
    "\n",
    "Write a program that takes as input a binary tree and checks if the tree satisfies the BST property. \n",
    "\n",
    "**Hint:** Is it correct to check for each node that is key is greater than or equal to the key at its left child and less than or equal to the key ar its right child?\n",
    "\n",
    "Not correct. We need to check each node is greater than or equal to the key at not only its left child and all left descendants recursively. The same for right descendants. \n",
    "\n",
    "**Sol：** A direct approach, based on the definition of a BST, is to begin with the root, and compute the maximum key stored in the root's left subtree, and the minimum key in the root's right subtree. We check that the key at the root is greater than or equal to the maximum from the left subtree and less than or equal to the minimum from the right subtree. If both these checks pass, we recursively check the root's left and right subtrees. If either check fails, we return false. \n",
    "\n",
    "Computing the minimum key in a binary tree is starghtforward: we take the minimum of the key stored at its root, the minimum key of the left subtree, and the minimum key of the right subtree. The maximum key is computed similarly. Note that the minimum can be in either subtree, since a general binary tree may not satisfy the BST property. \n",
    "\n",
    "The problem with this approach is that it will repeatedly traverse subtrees. In the worst-case, when the tree is a BST and each node's left child is empty, the complexity is O(n^2), where n is the number of nodes. The complexity can be improved to O(n) by caching the largest and the smallest keys at each node; this requires O(n) additional storage for the cache. "
   ]
  },
  {
   "cell_type": "markdown",
   "metadata": {},
   "source": [
    "We now present two approaches which have O(n) time complexity. \n",
    "\n",
    "The first appraoch is to check constraints on the values for each subtree. The initial constraint comes from the root. Every node in its left (right) subtree must have a key less than or equal (greater than or equal) to the key at the root. This idea generalizes: if all nodes in a tree must have keys in the range [l,u], and the key at the root is w (which itself must be between [l,u], otherwise the requirement is violated at the root itself), then all keys in the left subtree must be in the range [l,w], and all keys stored in the right subtree must be in the range [w,u]. "
   ]
  },
  {
   "cell_type": "code",
   "execution_count": 13,
   "metadata": {},
   "outputs": [],
   "source": [
    "def is_binary_tree_bst(tree: BinaryTreeNode) -> bool:\n",
    "    def are_keys_in_range(tree,\n",
    "                         low_range = float('-inf'),\n",
    "                         high_range = float('inf')):\n",
    "        print('low range', 'high range')\n",
    "        print(low_range, high_range)\n",
    "        if not tree:\n",
    "            return True\n",
    "        elif not low_range <= tree.data <= high_range:\n",
    "            return False\n",
    "        return (are_keys_in_range(tree.left, low_range, tree.data)\n",
    "               and are_keys_in_range(tree.right, tree.data, high_range))\n",
    "    return are_keys_in_range(tree)"
   ]
  },
  {
   "cell_type": "markdown",
   "metadata": {},
   "source": [
    "The time complexity is O(n), since we need to go through every point in the binary tree. \n",
    "And the additional space complexity is O(h), where h is the height of the tree since we need to store the results of every layer. "
   ]
  },
  {
   "cell_type": "code",
   "execution_count": 8,
   "metadata": {},
   "outputs": [],
   "source": [
    "node1 = BinaryTreeNode(314)\n",
    "node2 = BinaryTreeNode(6)\n",
    "node3 = BinaryTreeNode(6)\n",
    "node4 = BinaryTreeNode(271)\n",
    "node5 = BinaryTreeNode(561)\n",
    "node6 = BinaryTreeNode(2)\n",
    "node7 = BinaryTreeNode(271)\n",
    "node8 = BinaryTreeNode(28)\n",
    "node9 = BinaryTreeNode(0)\n",
    "node10 = BinaryTreeNode(3)\n",
    "node11 = BinaryTreeNode(1)\n",
    "node12 = BinaryTreeNode(28)\n",
    "node13 = BinaryTreeNode(17)\n",
    "node14 = BinaryTreeNode(401)\n",
    "node15 = BinaryTreeNode(257)\n",
    "node16 = BinaryTreeNode(641)"
   ]
  },
  {
   "cell_type": "code",
   "execution_count": 9,
   "metadata": {},
   "outputs": [],
   "source": [
    "node1.left = node2\n",
    "node1.right = node3\n",
    "node2.left = node4\n",
    "node2.right = node5\n",
    "node3.left = node6\n",
    "node3.right = node7\n",
    "node4.left = node8\n",
    "node4.right = node9\n",
    "node5.right = node10\n",
    "node5.left = node13\n",
    "node6.left = node14\n",
    "node6.right = node11\n",
    "node7.left = node16\n",
    "node7.right = node12"
   ]
  },
  {
   "cell_type": "code",
   "execution_count": 14,
   "metadata": {},
   "outputs": [
    {
     "name": "stdout",
     "output_type": "stream",
     "text": [
      "low range high range\n",
      "-inf inf\n",
      "low range high range\n",
      "-inf 314\n",
      "low range high range\n",
      "-inf 6\n"
     ]
    },
    {
     "data": {
      "text/plain": [
       "False"
      ]
     },
     "execution_count": 14,
     "metadata": {},
     "output_type": "execute_result"
    }
   ],
   "source": [
    "is_binary_tree_bst(node1)"
   ]
  },
  {
   "cell_type": "code",
   "execution_count": 18,
   "metadata": {},
   "outputs": [],
   "source": [
    "node1 = BinaryTreeNode(19)\n",
    "node2 = BinaryTreeNode(7)\n",
    "node3 = BinaryTreeNode(43)\n",
    "node4 = BinaryTreeNode(3)\n",
    "node5 = BinaryTreeNode(11)\n",
    "node6 = BinaryTreeNode(2)\n",
    "node7 = BinaryTreeNode(5)\n",
    "node8 = BinaryTreeNode(17)\n",
    "node9 = BinaryTreeNode(13)\n",
    "node10 = BinaryTreeNode(23)\n",
    "node11 = BinaryTreeNode(47)\n",
    "node12 = BinaryTreeNode(37)\n",
    "node13 = BinaryTreeNode(29)\n",
    "node14 = BinaryTreeNode(41)\n",
    "node15 = BinaryTreeNode(31)\n",
    "node16 = BinaryTreeNode(53)"
   ]
  },
  {
   "cell_type": "code",
   "execution_count": 21,
   "metadata": {},
   "outputs": [],
   "source": [
    "node1.left = node2\n",
    "node1.right = node3\n",
    "node2.left = node4\n",
    "node2.right = node5\n",
    "node4.left = node6\n",
    "node4.right = node7\n",
    "node5.right = node8\n",
    "node8.left = node9\n",
    "node3.left = node10\n",
    "node3.right = node11\n",
    "node10.right = node12\n",
    "node12.left = node13\n",
    "node12.right = node14\n",
    "node13.right = node15\n",
    "node11.right = node16"
   ]
  },
  {
   "cell_type": "code",
   "execution_count": 26,
   "metadata": {},
   "outputs": [
    {
     "name": "stdout",
     "output_type": "stream",
     "text": [
      "low range high range\n",
      "-inf inf\n",
      "low range high range\n",
      "-inf 19\n",
      "low range high range\n",
      "-inf 7\n",
      "low range high range\n",
      "-inf 3\n",
      "low range high range\n",
      "-inf 2\n",
      "low range high range\n",
      "2 3\n",
      "low range high range\n",
      "3 7\n",
      "low range high range\n",
      "3 5\n",
      "low range high range\n",
      "5 7\n",
      "low range high range\n",
      "7 19\n",
      "low range high range\n",
      "7 11\n",
      "low range high range\n",
      "11 19\n",
      "low range high range\n",
      "11 17\n",
      "low range high range\n",
      "11 13\n",
      "low range high range\n",
      "13 17\n",
      "low range high range\n",
      "17 19\n",
      "low range high range\n",
      "19 inf\n",
      "low range high range\n",
      "19 43\n",
      "low range high range\n",
      "19 23\n",
      "low range high range\n",
      "23 43\n",
      "low range high range\n",
      "23 37\n",
      "low range high range\n",
      "23 29\n",
      "low range high range\n",
      "29 37\n",
      "low range high range\n",
      "29 31\n",
      "low range high range\n",
      "31 37\n",
      "low range high range\n",
      "37 43\n",
      "low range high range\n",
      "37 41\n",
      "low range high range\n",
      "41 43\n",
      "low range high range\n",
      "43 inf\n",
      "low range high range\n",
      "43 47\n",
      "low range high range\n",
      "47 inf\n",
      "low range high range\n",
      "47 53\n",
      "low range high range\n",
      "53 inf\n"
     ]
    },
    {
     "data": {
      "text/plain": [
       "True"
      ]
     },
     "execution_count": 26,
     "metadata": {},
     "output_type": "execute_result"
    }
   ],
   "source": [
    "is_binary_tree_bst(node1)"
   ]
  },
  {
   "cell_type": "markdown",
   "metadata": {},
   "source": [
    "Alternatively we can use the fact that an inorder traversal visits keys in sorted order. Furthermore, if an inorder traversal of a binary tree visits keys in sorted order, then that binary tree must be a BST. (This follows directly from the definition of a BST and the definition of an inorder walk.) Thus we can check the BST property by performing an inorder traversal, recording the key stored at the last visited node. Each time a new node is visited, its key s compared with the key of the previously visited node. If at any step in the walk, the key at the previoulsy visited node is greater than the node currently being visited, we have a violation of the BST property. \n",
    "\n",
    "All these approaches explore the left subtree first. Therefore, evern if the BST property does not hold at a node which is close to the root (e.g., the key stored at the right child is less than the key stored at the root), their time complexity is still O(n). \n",
    "\n",
    "We can search for violations of the BST property in a BFS manner, thereby reducing the time complexity when the property is violated at a node whose depth is small. \n",
    "\n",
    "Specifically, we can use a queue, where each queue entry contains a node, as well as an upper and a lower bound on the keys stored at the subtree rooted at that node. The queue is initialized to the a lower bound on the keys stored at the subtree rooted at that node. The queue is initialized to the root, with lower bound negative infinity and upper bound infinity. We iteratively check the constraint on each node. If it violates the constraint we stop --the BST property has been violated. Otherwise, we add its children along with the corresponding constraint. \n",
    "\n",
    "If the BST property is violated in a subtree consisting of nodes within a particular depth, the violation will be discovered without visiting any nodes at a greater depth. This is because each time we enqueue en entry, the lower and upper bounds on the node's key are the tightest possible. "
   ]
  },
  {
   "cell_type": "code",
   "execution_count": 23,
   "metadata": {},
   "outputs": [],
   "source": [
    "import collections"
   ]
  },
  {
   "cell_type": "code",
   "execution_count": 27,
   "metadata": {},
   "outputs": [],
   "source": [
    "def is_binary_tree_bst_2(tree: BinaryTreeNode) -> bool:\n",
    "    QueueEntry = collections.namedtuple('QueueEntry',\n",
    "                                       ('node', 'lower', 'upper'))\n",
    "    \n",
    "    bfs_queue = collections.deque(\n",
    "        [QueueEntry(tree, float('-inf'), float('inf'))])\n",
    "    \n",
    "    while bfs_queue:\n",
    "        front = bfs_queue.popleft()\n",
    "        if front.node:\n",
    "            if not front.lower <= front.node.data <= front.upper:\n",
    "                return False\n",
    "            bfs_queue.extend(\n",
    "                (QueueEntry(front.node.left, front.lower, front.node.data),\n",
    "                 QueueEntry(front.node.right, front.node.data, front.upper)))\n",
    "    return True"
   ]
  },
  {
   "cell_type": "code",
   "execution_count": 28,
   "metadata": {},
   "outputs": [
    {
     "data": {
      "text/plain": [
       "True"
      ]
     },
     "execution_count": 28,
     "metadata": {},
     "output_type": "execute_result"
    }
   ],
   "source": [
    "is_binary_tree_bst_2(node1)"
   ]
  },
  {
   "cell_type": "markdown",
   "metadata": {},
   "source": [
    "The time complexity is O(n) and the additional space complexity is O(n)."
   ]
  },
  {
   "cell_type": "markdown",
   "metadata": {},
   "source": [
    "## 14.2 Find the first key greater than a given value in a BST\n",
    "\n",
    "Write a program that takes as input a BST and a value, and returns the first key that would appear in an inorder traversal which is greater than the input value. \n",
    "\n",
    "**Sol:** We can find the desired node in O(n) time, where n is the number of nodes in the BST, by doing an inorder walk. This approach does not use the BST properly. \n",
    "\n",
    "A better approach is to use the BST search idiom. We store the best candidate for the result and update candidate as we iteratively descend the tree, eliminating subtrees by comparing the keys stored at nodes with the input value. Specifically, if the current subtree's root holds a value less than or equal to the input value, we search the right subtree. If the current subtree's root stores a key that is greater than the input value, we search in the left subtree, updating the candidate to the current root. Correctness follows from the fact that whenever we first set the candidate, the desired result must be within the tree rooted at that node. "
   ]
  },
  {
   "cell_type": "code",
   "execution_count": 29,
   "metadata": {},
   "outputs": [],
   "source": [
    "def find_first_greater_than_k(tree:BstNode, k: int) -> BstNode:\n",
    "    subtree, first_so_far = tree, None\n",
    "    while subtree:\n",
    "        if subtree.data > k:\n",
    "            first_so_far = subtree\n",
    "            subtree = subtree.left\n",
    "        else:\n",
    "            subtree = subtree.right\n",
    "    return first_so_far"
   ]
  },
  {
   "cell_type": "code",
   "execution_count": 32,
   "metadata": {},
   "outputs": [
    {
     "name": "stdout",
     "output_type": "stream",
     "text": [
      "Inorder: 29\n",
      "Inorder: 31\n"
     ]
    }
   ],
   "source": [
    "tree_traversal_inorder(find_first_greater_than_k(node1, 23))"
   ]
  },
  {
   "cell_type": "markdown",
   "metadata": {},
   "source": [
    "The time complexity is O(h), where h is the height of the tree. The space complexity is O(1). "
   ]
  },
  {
   "cell_type": "markdown",
   "metadata": {},
   "source": [
    "## 14.3 Find the kth largest elements in a BST\n",
    "\n",
    "A BST is a sorted data structure, which suggests that it should be possible to find the k largest keys easily. Write a program that takes as input a BST and an integer k, and returns the k largest elements in the BST in decreasing order. For example, if the input is the BST in Figure 14.1 and k = 3, your program should return <53,47,43>.\n",
    "\n",
    "The brute-force approach is to do an inorder traversal, which enumerates keys in ascending order, and return the last k visited nodes. A queue is ideal for storing visited nodes, since it makes it easy to evict nodes visited more than k steps previously. A drawback of this approach is that it potentially processes many nodes that cannot possibly be in the result, e.g., if k is small and the left subtree is large. \n",
    "\n",
    "A better approach is to begin with the desired nodes, and work backwards. We do this by recursing first on the right subtree and then on the left subtree. This amounts to a reverse-inorder traversal. As soon as we visit k nodes, we can halt. The code below uses a dynamic array to store the desired keys. As soon as the array has k elements, we return. We store newer nodes at the end of the array, as per the problem specification. "
   ]
  },
  {
   "cell_type": "code",
   "execution_count": 35,
   "metadata": {},
   "outputs": [],
   "source": [
    "def find_k_largest_in_bst(tree:BstNode, k: int) -> list:\n",
    "    def find_k_largest_in_bst_helper(tree):\n",
    "        # Perform reverse inorder traversal.\n",
    "        if tree and len(k_largest_elements) <k:\n",
    "            find_k_largest_in_bst_helper(tree.right)\n",
    "            if len(k_largest_elements) < k:\n",
    "                k_largest_elements.append(tree.data)\n",
    "                find_k_largest_in_bst_helper(tree.left)\n",
    "    k_largest_elements = []\n",
    "    find_k_largest_in_bst_helper(tree)\n",
    "    return k_largest_elements"
   ]
  },
  {
   "cell_type": "code",
   "execution_count": 36,
   "metadata": {},
   "outputs": [
    {
     "data": {
      "text/plain": [
       "[53, 47, 43, 41, 37]"
      ]
     },
     "execution_count": 36,
     "metadata": {},
     "output_type": "execute_result"
    }
   ],
   "source": [
    "find_k_largest_in_bst(node1,5)"
   ]
  },
  {
   "cell_type": "markdown",
   "metadata": {},
   "source": [
    "The time complexity is O(h+k), which can be much better than performing a conventional inorder walk, e.g., when the tree is balanced and k is small. The complexity bound comes from observation that the number of times the program descends in the tree can be at most h more than the number of times it ascends the tree, and each ascent happens after we visit a node in the result. After k nodes have been added to the result, the program stops."
   ]
  },
  {
   "cell_type": "markdown",
   "metadata": {},
   "source": [
    "## 14.4 Compute the LCA in a BST\n",
    "\n",
    "Since a BST is a specialized binary tree, the notion of lowest common ancestor, as expressed in Problem 9.4, holds for BSTs too.\n",
    "\n",
    "In general, computing the LCA of two nodes in a BST is no easier than computing the LCA in a binary tree, since the structurally a binary tree can be viewed as a BST where all the keys are equal. However, when the keys are distinct, it is possible to improve on the LAC algorithms for binary trees. \n",
    "\n",
    "Design an algorithm that takes as input a BST and two nodes, and returns the LCA of the two nodes. For example, for the BST in Figure 14.1 and nodes C and G, your algorithm should return B. Assume all keys are distinct. Nodes do not have references to their parents. "
   ]
  },
  {
   "cell_type": "markdown",
   "metadata": {},
   "source": [
    "The approach can be improved upon when operating on BSTs with distinct keys. Let s and b be the two nodes whose LCA we are to compute, and without loss of generality, assume that key at s is smaller. Consider the key stored at the root of the BST. There are four possibilities:\n",
    "* If the root's key is the same as that stored at s or at b, we are done-- the root is the LCA.\n",
    "* If the key at s is smaller than the key at the root, and the key at b is greater than the key at the root, the root is the LCA. \n",
    "* If the keys ar s and b are both smaller than that at the root, the LCA must lie in the left subtree of the root.\n",
    "* If both keys are larger than that at the root, then the LCA must lie in the right subtree of the root. "
   ]
  },
  {
   "cell_type": "code",
   "execution_count": 37,
   "metadata": {},
   "outputs": [],
   "source": [
    "def find_lca(tree: BstNode, s:BstNode, b:BstNode) -> BstNode:\n",
    "    while tree.data < s.data or tree.data >b.data:\n",
    "        # Keep searching since the tree is outside of [s,b]\n",
    "        while tree.data < s.data:\n",
    "            tree = tree.right # LCA must be in tree's right child\n",
    "        while tree.data > b.data:\n",
    "            tree = tree.left # LCA must be in tree's left child \n",
    "    # Now, s.data <= tree.data && tree.data <= b.data\n",
    "    return tree"
   ]
  },
  {
   "cell_type": "code",
   "execution_count": 38,
   "metadata": {},
   "outputs": [
    {
     "name": "stdout",
     "output_type": "stream",
     "text": [
      "Inorder: 23\n",
      "Inorder: 29\n",
      "Inorder: 31\n",
      "Inorder: 37\n",
      "Inorder: 41\n",
      "Inorder: 43\n",
      "Inorder: 47\n",
      "Inorder: 53\n"
     ]
    }
   ],
   "source": [
    "tree_traversal_inorder(find_lca(node1, node12, node16))"
   ]
  },
  {
   "cell_type": "code",
   "execution_count": 39,
   "metadata": {},
   "outputs": [
    {
     "name": "stdout",
     "output_type": "stream",
     "text": [
      "Inorder: 2\n",
      "Inorder: 3\n",
      "Inorder: 5\n"
     ]
    }
   ],
   "source": [
    "tree_traversal_inorder(find_lca(node1, node6, node7))"
   ]
  },
  {
   "cell_type": "code",
   "execution_count": 40,
   "metadata": {},
   "outputs": [
    {
     "name": "stdout",
     "output_type": "stream",
     "text": [
      "Inorder: 2\n",
      "Inorder: 3\n",
      "Inorder: 5\n",
      "Inorder: 7\n",
      "Inorder: 11\n",
      "Inorder: 13\n",
      "Inorder: 17\n",
      "Inorder: 19\n",
      "Inorder: 23\n",
      "Inorder: 29\n",
      "Inorder: 31\n",
      "Inorder: 37\n",
      "Inorder: 41\n",
      "Inorder: 43\n",
      "Inorder: 47\n",
      "Inorder: 53\n"
     ]
    }
   ],
   "source": [
    "tree_traversal_inorder(find_lca(node1, node2, node16))"
   ]
  },
  {
   "cell_type": "markdown",
   "metadata": {},
   "source": [
    "Since we descend one level with each iteration, the time complexity is O(h), where h is the height of the tree. "
   ]
  },
  {
   "cell_type": "markdown",
   "metadata": {},
   "source": [
    "## 14.5 Recnostruct a BST from traversal data\n",
    "\n",
    "As discussed in Problem 9.11 there are many different binary trees that yield the same sequence of visited nodes in an inodrder traversal. This is also true for preorder and postorder traversals. Given the sequence of nodes that an inorder traversal sequence visits and either of the other two traversal sequences, there exists a unique binary tree that yields those sequences. Here we study if it is possible to reconstruct the tree with less traversal information when the tree is known as BST. \n",
    "\n",
    "Suppose you are given the sequence in which keys are visited in an inorder traversal of a BST, and all keys are distinct. Can you reconstruct the BST from the sequence? If so, write a program to do so. Solve the same problem for preorder and postorder traversal sequences. "
   ]
  },
  {
   "cell_type": "markdown",
   "metadata": {},
   "source": [
    "**Sol:** First, with some experimentation, we see the sequence of keys generated by an inorder traversal is not enough to reconstruct the tree. For example, the key sequence <1,2,3> corresponds to five distinct BSTs.\n",
    "\n",
    "However, the story for a preorder sequence is different. As an example, consider the preorder key sequence <43,23,37,29,31,41,47,53>. The root must hold 43, since it is the first visited node. The left subtree contains keys less than 43, i.e. 23, 37, 29, 31, 41, and the right subtree contains keys greater than 43, i.e., 47, 53. Furthermore, <23,37,29,31,41> ix exactly the preorder sequence of the left subtree and <47,53> is exactly the preorder sequence for the right subtree. We can recursively reason that 23 and 47 are the roots of the left and right subtree, and continue to build the entire tree, which is exactly the subtree rooted at Node I in Figure 14.1."
   ]
  },
  {
   "cell_type": "code",
   "execution_count": 41,
   "metadata": {},
   "outputs": [],
   "source": [
    "def rebuild_bst_from_preorder(\n",
    "    preorder_sequence: list) -> BstNode:\n",
    "    if not preorder_sequence:\n",
    "        return None\n",
    "    \n",
    "    transition_point = next((i for i , a in enumerate(preorder_sequence)\n",
    "                            if a > preorder_sequence[0]),\n",
    "                           len(preorder_sequence))\n",
    "    return BstNode(\n",
    "        preorder_sequence[0],\n",
    "        rebuild_bst_from_preorder(preorder_sequence[1: transition_point]),\n",
    "        rebuild_bst_from_preorder(preorder_sequence[transition_point:]))"
   ]
  },
  {
   "cell_type": "code",
   "execution_count": 42,
   "metadata": {},
   "outputs": [],
   "source": [
    "preorder_sequence = [43,23,37,29,31,41,47,53]"
   ]
  },
  {
   "cell_type": "code",
   "execution_count": 43,
   "metadata": {},
   "outputs": [
    {
     "name": "stdout",
     "output_type": "stream",
     "text": [
      "Inorder: 23\n",
      "Inorder: 29\n",
      "Inorder: 31\n",
      "Inorder: 37\n",
      "Inorder: 41\n",
      "Inorder: 43\n",
      "Inorder: 47\n",
      "Inorder: 53\n"
     ]
    }
   ],
   "source": [
    "tree_traversal_inorder(rebuild_bst_from_preorder(preorder_sequence))"
   ]
  },
  {
   "cell_type": "code",
   "execution_count": 44,
   "metadata": {},
   "outputs": [],
   "source": [
    "preorder_sequence = [19,7,3,2,5,11,17,13,43,23,37,29,31,41,47,53]"
   ]
  },
  {
   "cell_type": "code",
   "execution_count": 46,
   "metadata": {},
   "outputs": [
    {
     "name": "stdout",
     "output_type": "stream",
     "text": [
      "Inorder: 2\n",
      "Inorder: 3\n",
      "Inorder: 5\n",
      "Inorder: 7\n",
      "Inorder: 11\n",
      "Inorder: 13\n",
      "Inorder: 17\n",
      "Inorder: 19\n",
      "Inorder: 23\n",
      "Inorder: 29\n",
      "Inorder: 31\n",
      "Inorder: 37\n",
      "Inorder: 41\n",
      "Inorder: 43\n",
      "Inorder: 47\n",
      "Inorder: 53\n"
     ]
    }
   ],
   "source": [
    "tree_traversal_inorder(rebuild_bst_from_preorder(preorder_sequence))"
   ]
  },
  {
   "cell_type": "markdown",
   "metadata": {},
   "source": [
    "The worst-case input for this algorithm is the pre-order sequence corresponding to a left-skewed tree. The worst-case time complexity satisfies the recurrence W(n) = W(n-1) + O(n), which solves to O(n^2). The best-case input is a sequence corresponding to a right-skewed tree, and the corresponding time complexity is O(n). When the sequence corresponds to a balanced BST, the time complexity is given by B(n) = 2 B(n/2) + O(n), which solves to O(n log n). "
   ]
  },
  {
   "cell_type": "code",
   "execution_count": null,
   "metadata": {},
   "outputs": [],
   "source": []
  }
 ],
 "metadata": {
  "kernelspec": {
   "display_name": "Python 3",
   "language": "python",
   "name": "python3"
  },
  "language_info": {
   "codemirror_mode": {
    "name": "ipython",
    "version": 3
   },
   "file_extension": ".py",
   "mimetype": "text/x-python",
   "name": "python",
   "nbconvert_exporter": "python",
   "pygments_lexer": "ipython3",
   "version": "3.6.5"
  }
 },
 "nbformat": 4,
 "nbformat_minor": 2
}
