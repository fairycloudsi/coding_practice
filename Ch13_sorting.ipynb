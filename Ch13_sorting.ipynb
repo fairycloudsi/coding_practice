{
 "cells": [
  {
   "cell_type": "markdown",
   "metadata": {},
   "source": [
    "## Sorting boot camp\n",
    "\n",
    "It's important to know how to use effectively the sort functionality provided by your language's library. Let's say we are given a student class that implements a compare method that compares students by name. Then by default, the array sort library routine will sort by name. To sort an array of students by GPA, we have to explicitly specify the compare function to the sort routine. "
   ]
  },
  {
   "cell_type": "code",
   "execution_count": 5,
   "metadata": {},
   "outputs": [],
   "source": [
    "class Student(object):\n",
    "    def __init__(self, name: str, grade_point_average: float) -> None:\n",
    "        self.name = name\n",
    "        self.grade_point_average = grade_point_average\n",
    "        \n",
    "    def __lt__(self, other: 'Student') -> bool:\n",
    "        return self.name < other.name"
   ]
  },
  {
   "cell_type": "code",
   "execution_count": 6,
   "metadata": {},
   "outputs": [],
   "source": [
    "students = [\n",
    "    Student('A', 4.0),\n",
    "    Student('B', 3.0),\n",
    "    Student('C', 2.0),\n",
    "    Student('D', 3.2)\n",
    "]"
   ]
  },
  {
   "cell_type": "code",
   "execution_count": 7,
   "metadata": {},
   "outputs": [],
   "source": [
    "# Sort acoording to __it__ defined in Student, students remained unchanged. \n",
    "students_sort_by_name = sorted(students)"
   ]
  },
  {
   "cell_type": "code",
   "execution_count": 8,
   "metadata": {},
   "outputs": [
    {
     "name": "stdout",
     "output_type": "stream",
     "text": [
      "[<__main__.Student object at 0x10bc8f780>, <__main__.Student object at 0x10bc8f5f8>, <__main__.Student object at 0x10bc8f630>, <__main__.Student object at 0x10bc8f668>]\n"
     ]
    }
   ],
   "source": [
    "print(students_sort_by_name)"
   ]
  },
  {
   "cell_type": "code",
   "execution_count": 10,
   "metadata": {},
   "outputs": [
    {
     "name": "stdout",
     "output_type": "stream",
     "text": [
      "A 4.0\n",
      "B 3.0\n",
      "C 2.0\n",
      "D 3.2\n"
     ]
    }
   ],
   "source": [
    "for i in students_sort_by_name:\n",
    "    print(i.name, i.grade_point_average)"
   ]
  },
  {
   "cell_type": "code",
   "execution_count": 11,
   "metadata": {},
   "outputs": [],
   "source": [
    "# Sort students in-place by grade_point_average\n",
    "students.sort(key = lambda student: student.grade_point_average)"
   ]
  },
  {
   "cell_type": "code",
   "execution_count": 12,
   "metadata": {},
   "outputs": [
    {
     "name": "stdout",
     "output_type": "stream",
     "text": [
      "C 2.0\n",
      "B 3.0\n",
      "D 3.2\n",
      "A 4.0\n"
     ]
    }
   ],
   "source": [
    "for i in students:\n",
    "    print(i.name, i.grade_point_average)"
   ]
  },
  {
   "cell_type": "markdown",
   "metadata": {},
   "source": [
    "The time complexity of any reasonable library sort is O(n logn) for an array with n entries. Most library sorting functions are based on quicksort, which has O(1) space complexity. "
   ]
  },
  {
   "cell_type": "markdown",
   "metadata": {},
   "source": [
    "## 13.1 Compute the intersection of two sorted arrays \n",
    "\n",
    "Write a program which takes as input two sorted arrays, and returns a new array containing elements that are present in both of the input arrays. The input arrays may have duplicate entries but the retunred array should be free of duplicates. For example, the input is <2,3,3,5,5,6,7,7,8,12> and <5,5,6,8,8,9,10,10>, your output should be <5,6,8>.\n",
    "\n",
    "**Sol:** The brute-force algorithm is a \"loop join\", i.e., traversing through all the elements of one array and comparing them to the elements of the other array. Let m and n be the lengths of the two input arrays. The brute-force algorithm has O(mn) time complexity. "
   ]
  },
  {
   "cell_type": "code",
   "execution_count": 13,
   "metadata": {},
   "outputs": [],
   "source": [
    "def intersect_two_sorted_arrays(A : list, B : list) -> list:\n",
    "    return [a for i, a in enumerate(A) if (i == 0 or a!= A[i-1]) and a in B]"
   ]
  },
  {
   "cell_type": "code",
   "execution_count": 14,
   "metadata": {},
   "outputs": [
    {
     "data": {
      "text/plain": [
       "[5, 6, 8]"
      ]
     },
     "execution_count": 14,
     "metadata": {},
     "output_type": "execute_result"
    }
   ],
   "source": [
    "A = [2,3,3,5,5,6,7,7,8,12]\n",
    "B = [5,5,6,8,8,9,10,10]\n",
    "intersect_two_sorted_arrays(A, B)"
   ]
  },
  {
   "cell_type": "code",
   "execution_count": 16,
   "metadata": {},
   "outputs": [],
   "source": [
    "C = [a for a in A if a in B]"
   ]
  },
  {
   "cell_type": "code",
   "execution_count": 17,
   "metadata": {},
   "outputs": [
    {
     "name": "stdout",
     "output_type": "stream",
     "text": [
      "[5, 5, 6, 8]\n"
     ]
    }
   ],
   "source": [
    "print(C)"
   ]
  },
  {
   "cell_type": "markdown",
   "metadata": {},
   "source": [
    "Since both the arrays are sorted, we can make some optimizations. First, we can iterate through the first array and use binary search in array to test if the element is present in the second array. The time complexity is O(m log n), where m is the length of the array being iterated over. We can further improve our run time by choosing the shorter array for the outer loop since if n is much smaller than m, then n log(m) is much smaller than m log(n). "
   ]
  },
  {
   "cell_type": "code",
   "execution_count": 20,
   "metadata": {},
   "outputs": [],
   "source": [
    "import bisect"
   ]
  },
  {
   "cell_type": "code",
   "execution_count": 30,
   "metadata": {},
   "outputs": [],
   "source": [
    "def intersect_two_sorted_arrays_2(A: list, B: list) -> list:\n",
    "    def is_present(k):\n",
    "        i = bisect.bisect_left(B,k)\n",
    "        return i < len(B) and B[i] == k\n",
    "    \n",
    "    return [\n",
    "        a for i, a in enumerate(A)\n",
    "        if (i == 0 or a!= A[i-1]) and is_present(a)\n",
    "    ]"
   ]
  },
  {
   "cell_type": "code",
   "execution_count": 31,
   "metadata": {},
   "outputs": [
    {
     "data": {
      "text/plain": [
       "[5, 6, 8]"
      ]
     },
     "execution_count": 31,
     "metadata": {},
     "output_type": "execute_result"
    }
   ],
   "source": [
    "intersect_two_sorted_arrays_2(A, B)"
   ]
  },
  {
   "cell_type": "code",
   "execution_count": 23,
   "metadata": {},
   "outputs": [
    {
     "data": {
      "text/plain": [
       "0"
      ]
     },
     "execution_count": 23,
     "metadata": {},
     "output_type": "execute_result"
    }
   ],
   "source": [
    "bisect.bisect_left(B,4)"
   ]
  },
  {
   "cell_type": "code",
   "execution_count": 24,
   "metadata": {},
   "outputs": [
    {
     "data": {
      "text/plain": [
       "0"
      ]
     },
     "execution_count": 24,
     "metadata": {},
     "output_type": "execute_result"
    }
   ],
   "source": [
    "bisect.bisect_left(B,5)"
   ]
  },
  {
   "cell_type": "code",
   "execution_count": 25,
   "metadata": {},
   "outputs": [
    {
     "name": "stdout",
     "output_type": "stream",
     "text": [
      "[5, 5, 6, 8, 8, 9, 10, 10]\n"
     ]
    }
   ],
   "source": [
    "print(B)"
   ]
  },
  {
   "cell_type": "code",
   "execution_count": 26,
   "metadata": {},
   "outputs": [
    {
     "data": {
      "text/plain": [
       "2"
      ]
     },
     "execution_count": 26,
     "metadata": {},
     "output_type": "execute_result"
    }
   ],
   "source": [
    "bisect.bisect_left(B,6)"
   ]
  },
  {
   "cell_type": "code",
   "execution_count": 33,
   "metadata": {},
   "outputs": [
    {
     "data": {
      "text/plain": [
       "8"
      ]
     },
     "execution_count": 33,
     "metadata": {},
     "output_type": "execute_result"
    }
   ],
   "source": [
    "bisect.bisect_left(B,11)"
   ]
  },
  {
   "cell_type": "code",
   "execution_count": 34,
   "metadata": {},
   "outputs": [
    {
     "data": {
      "text/plain": [
       "8"
      ]
     },
     "execution_count": 34,
     "metadata": {},
     "output_type": "execute_result"
    }
   ],
   "source": [
    "len(B)"
   ]
  },
  {
   "cell_type": "markdown",
   "metadata": {},
   "source": [
    "This is the best solution if one set is much smaller than the other. However, it is not the best when the array lengths are similar becuase we are not exploiting the fact that both arrays are sorted. We can achieve linear runtime by simultaneously advancing through the two input arrays in increasing order. At each iteraton, if the array elements differ, the smaller one can be eliminated. If they are equal, we add that value to the intersection and advance both. (We handle duplicates by comparing the current lement with the previous one.)"
   ]
  },
  {
   "cell_type": "code",
   "execution_count": 35,
   "metadata": {},
   "outputs": [],
   "source": [
    "def intersect_two_sorted_arrays_3(A : list, B : list) -> list:\n",
    "    i, j, intersection_A_B = 0, 0, []\n",
    "    while i < len(A) and j < len(B):\n",
    "        if A[i] == B[j]:\n",
    "            if i == 0 or A[i] != A[i-1]:\n",
    "                intersection_A_B.append(A[i])\n",
    "            i,j = i+1, j+1\n",
    "        elif A[i] < B[j]:\n",
    "            i += 1\n",
    "        else: # A[i] > B[j]\n",
    "            j += 1\n",
    "    return intersection_A_B"
   ]
  },
  {
   "cell_type": "code",
   "execution_count": 36,
   "metadata": {},
   "outputs": [
    {
     "data": {
      "text/plain": [
       "[5, 6, 8]"
      ]
     },
     "execution_count": 36,
     "metadata": {},
     "output_type": "execute_result"
    }
   ],
   "source": [
    "intersect_two_sorted_arrays_3(A, B)"
   ]
  },
  {
   "cell_type": "markdown",
   "metadata": {},
   "source": [
    "Since we spend O(1) time per input array element, the time complexity for the entire algorithm is O(m+n). "
   ]
  },
  {
   "cell_type": "markdown",
   "metadata": {},
   "source": [
    "## 13.2 Merge two sorted array\n",
    "\n",
    "Write a program which takes as input two sorted arrays of integers, and updates the first to the combined entries of the two arrays in sorted order. Assume the first array has enough empty entries at its end to hold the result. "
   ]
  },
  {
   "cell_type": "code",
   "execution_count": 45,
   "metadata": {},
   "outputs": [],
   "source": [
    "def merge_two_sorted_array(A: list, m: int, B: list, n: int) -> None:\n",
    "    a, b, write_idx = m-1, n-1, m+n -1\n",
    "    while a >= 0 and b>= 0:\n",
    "        if A[a] > B[b]: \n",
    "            A[write_idx] = A[a]\n",
    "            write_idx -= 1\n",
    "            a -= 1\n",
    "        else:\n",
    "            A[write_idx] = B[b]\n",
    "            write_idx -= 1\n",
    "            b -= 1\n",
    "    while b >= 0: # fill up second array\n",
    "        A[write_idx] = B[b]\n",
    "        write_idx -= 1\n",
    "        b -= 1"
   ]
  },
  {
   "cell_type": "code",
   "execution_count": 39,
   "metadata": {},
   "outputs": [],
   "source": [
    "A = [3,13,17,None,None,None,None,None]"
   ]
  },
  {
   "cell_type": "code",
   "execution_count": 40,
   "metadata": {},
   "outputs": [
    {
     "name": "stdout",
     "output_type": "stream",
     "text": [
      "[3, 13, 17, None, None, None, None, None]\n"
     ]
    }
   ],
   "source": [
    "print(A)"
   ]
  },
  {
   "cell_type": "code",
   "execution_count": 41,
   "metadata": {},
   "outputs": [],
   "source": [
    "B = [3,7,11,19]"
   ]
  },
  {
   "cell_type": "code",
   "execution_count": 43,
   "metadata": {},
   "outputs": [],
   "source": [
    "merge_two_sorted_array(A,3,B,4)"
   ]
  },
  {
   "cell_type": "code",
   "execution_count": 44,
   "metadata": {},
   "outputs": [
    {
     "name": "stdout",
     "output_type": "stream",
     "text": [
      "[3, 3, 7, 11, 13, 17, 19, None]\n"
     ]
    }
   ],
   "source": [
    "print(A)"
   ]
  },
  {
   "cell_type": "markdown",
   "metadata": {},
   "source": [
    "The time complexity is O(m + n) and the additional space complexity is O(1). "
   ]
  },
  {
   "cell_type": "markdown",
   "metadata": {},
   "source": [
    "## 13.3 Computing the h-index\n",
    "\n",
    "Given an array of positive integers, find the largest h such taht there are at least h entries in the array that are greater than or equal to h. "
   ]
  },
  {
   "cell_type": "code",
   "execution_count": 46,
   "metadata": {},
   "outputs": [],
   "source": [
    "def h_index(citations: list) -> int:\n",
    "    citations.sort()\n",
    "    n = len(citations)\n",
    "    for i, c in enumerate(citations):\n",
    "        if c >= n -i:\n",
    "            return n- i\n",
    "    return 0"
   ]
  },
  {
   "cell_type": "code",
   "execution_count": 47,
   "metadata": {},
   "outputs": [
    {
     "data": {
      "text/plain": [
       "4"
      ]
     },
     "execution_count": 47,
     "metadata": {},
     "output_type": "execute_result"
    }
   ],
   "source": [
    "citations = [1,4,1,4,2,1,3,5,6]\n",
    "h_index(citations)"
   ]
  },
  {
   "cell_type": "code",
   "execution_count": 48,
   "metadata": {},
   "outputs": [],
   "source": [
    "citations.sort()"
   ]
  },
  {
   "cell_type": "code",
   "execution_count": 49,
   "metadata": {},
   "outputs": [
    {
     "data": {
      "text/plain": [
       "[1, 1, 1, 2, 3, 4, 4, 5, 6]"
      ]
     },
     "execution_count": 49,
     "metadata": {},
     "output_type": "execute_result"
    }
   ],
   "source": [
    "citations"
   ]
  },
  {
   "cell_type": "code",
   "execution_count": 50,
   "metadata": {},
   "outputs": [],
   "source": [
    "n = len(citations)"
   ]
  },
  {
   "cell_type": "code",
   "execution_count": 51,
   "metadata": {},
   "outputs": [
    {
     "data": {
      "text/plain": [
       "9"
      ]
     },
     "execution_count": 51,
     "metadata": {},
     "output_type": "execute_result"
    }
   ],
   "source": [
    "n"
   ]
  },
  {
   "cell_type": "code",
   "execution_count": 52,
   "metadata": {},
   "outputs": [
    {
     "name": "stdout",
     "output_type": "stream",
     "text": [
      "0 1\n",
      "9\n",
      "False\n",
      "1 1\n",
      "8\n",
      "False\n",
      "2 1\n",
      "7\n",
      "False\n",
      "3 2\n",
      "6\n",
      "False\n",
      "4 3\n",
      "5\n",
      "False\n",
      "5 4\n",
      "4\n",
      "True\n",
      "6 4\n",
      "3\n",
      "True\n",
      "7 5\n",
      "2\n",
      "True\n",
      "8 6\n",
      "1\n",
      "True\n"
     ]
    }
   ],
   "source": [
    "for i, c in enumerate(citations):\n",
    "    print(i,c)\n",
    "    print(n-i)\n",
    "    print(c >= n-i)"
   ]
  },
  {
   "cell_type": "markdown",
   "metadata": {},
   "source": [
    "The time complexity is O(n log n) for sorting and the space complexity is O(1)."
   ]
  },
  {
   "cell_type": "markdown",
   "metadata": {},
   "source": [
    "## 13.4 Remove first-name duplicates\n",
    "\n",
    "Design an efficient algorithm for removing all first-name duplicates from an array. For example, if the input is <(Ian, Botham), (David,Gower), (Ian,Bell),(Ian,Chappel)>, one result chould be <(Ian,Bell),(David,Gower)>, <(david,Gower),(Ian,Botham)> would also be acceptable. \n",
    "\n",
    "**Hint:** Brings equal items close together. "
   ]
  },
  {
   "cell_type": "code",
   "execution_count": 53,
   "metadata": {},
   "outputs": [],
   "source": [
    "class Name:\n",
    "    def __init__(self, first_name: str, last_name: str) -> None:\n",
    "        self.first_name, self.last_name = first_name, last_name\n",
    "        \n",
    "    def __eq__(self, other) -> bool:\n",
    "        return self.first_name == other.first_name\n",
    "    \n",
    "    def __lt__(self, other) -> bool:\n",
    "        return (self.first_name < other.first_name\n",
    "               if self.first_name != other.first_name else\n",
    "               self.last_name < other.last_name)\n",
    "    \n",
    "def eliminate_duplicate(A: list) -> None:\n",
    "    A.sort() # Makes identical elements become neighbors \n",
    "    write_idx = 1\n",
    "    for cand in A[1:]:\n",
    "        if cand != A[write_idx - 1]:\n",
    "            A[write_idx] = cand\n",
    "            write_idx += 1\n",
    "    del A[write_idx:]"
   ]
  },
  {
   "cell_type": "code",
   "execution_count": 55,
   "metadata": {},
   "outputs": [],
   "source": [
    "A = Name('Ian', 'Botham')\n",
    "B = Name('David', 'Gower')\n",
    "C = Name('Ian', 'Bell')\n",
    "D = Name('Ian', 'Chappell')\n",
    "E = Name('David', 'Brown')\n",
    "F = Name('Hui', 'Zhong')\n",
    "G = Name('Bao', 'Xiao')\n",
    "Name_list = [A,B,C,D,E,F,G]"
   ]
  },
  {
   "cell_type": "code",
   "execution_count": 56,
   "metadata": {},
   "outputs": [],
   "source": [
    "eliminate_duplicate(Name_list)"
   ]
  },
  {
   "cell_type": "code",
   "execution_count": 57,
   "metadata": {},
   "outputs": [
    {
     "name": "stdout",
     "output_type": "stream",
     "text": [
      "Bao Xiao\n",
      "David Brown\n",
      "Hui Zhong\n",
      "Ian Bell\n"
     ]
    }
   ],
   "source": [
    "for name in Name_list:\n",
    "    print(name.first_name, name.last_name)"
   ]
  },
  {
   "cell_type": "markdown",
   "metadata": {},
   "source": [
    "The time complexity is O(n log n). It uses O(1) additional space. "
   ]
  },
  {
   "cell_type": "markdown",
   "metadata": {},
   "source": [
    "## 13.5 Smallest nonconstructible value \n",
    "\n",
    "Given a set of coins, there are some amounts of change that you may not able to make with them, e.g., you cannot create a change amount greater than the sum of your coins. For example, if your coins are 1,1,1,1,1,5,10,25, then the smallest value of change which cannot be made is 21.\n",
    "\n",
    "Write a program which takes an array of positive integers and returns the smallest number which is not to the sum of a subset of elements of the array. \n",
    "\n",
    "**Sol:** Suppose a collection of numbers can produce every value up to and including V, but not V+1. Consider the effect of adding a new element u to the collection. \n",
    "* If u <= V+1, we can still produce every value up to and including V+u and we cannot product V+u+1;\n",
    "* On the other hand, if u > V+1, then even by adding u to the collection we cannot produce V+1. \n",
    "\n",
    "By sorting the array allows us to stop when we reach a value that is too large to help, since all subsequent values are at least as large as that value. Specifically, let M[i-1] be the maximum constructible amount from the first i elements of the sorted array. If the next array element x is greater than M[i-1]+1, M[i-1] is still the maximum constructible amount, so we stop and return M[i-1]+1 as the result. Otherwise, we set M[i] = M[i-1]+x and continue with element (i+1). "
   ]
  },
  {
   "cell_type": "code",
   "execution_count": 70,
   "metadata": {},
   "outputs": [],
   "source": [
    "def smallest_nonconstructible_value(A: list)-> int:\n",
    "    max_constructible_value = 0\n",
    "    for a in sorted(A):\n",
    "        if a >= max_constructible_value +1:\n",
    "            max_constructible_value += a\n",
    "            print(a)\n",
    "            print(max_constructible_value)\n",
    "        else:\n",
    "            return(max_constructible_value + 1)\n",
    "    return(max_constructible_value + 1)"
   ]
  },
  {
   "cell_type": "code",
   "execution_count": 71,
   "metadata": {},
   "outputs": [
    {
     "name": "stdout",
     "output_type": "stream",
     "text": [
      "1\n",
      "1\n",
      "2\n",
      "3\n"
     ]
    },
    {
     "data": {
      "text/plain": [
       "4"
      ]
     },
     "execution_count": 71,
     "metadata": {},
     "output_type": "execute_result"
    }
   ],
   "source": [
    "A = [12,2,1,15,2,4]\n",
    "smallest_nonconstructible_value(A)"
   ]
  },
  {
   "cell_type": "code",
   "execution_count": 62,
   "metadata": {},
   "outputs": [],
   "source": [
    "A.sort()"
   ]
  },
  {
   "cell_type": "code",
   "execution_count": 63,
   "metadata": {},
   "outputs": [
    {
     "name": "stdout",
     "output_type": "stream",
     "text": [
      "[1, 2, 2, 4, 12, 15]\n"
     ]
    }
   ],
   "source": [
    "print(A)"
   ]
  },
  {
   "cell_type": "markdown",
   "metadata": {},
   "source": [
    "The time complexity as a function of n, the length of the array, is O(n log n) to sort and O(n) to iterate, i.e., O(n log n). "
   ]
  },
  {
   "cell_type": "markdown",
   "metadata": {},
   "source": [
    "## 13.6 Render a calender \n",
    "\n",
    "Consider the problem of designing an online calendaring application. One component of the design is to render the calendar, i.e., display it visually. \n",
    "\n",
    "Write a program that takes a set of events, and determines the maximum number of events that take place concurrently. \n",
    "\n",
    "**Hint:** Focus on endpoints. "
   ]
  },
  {
   "cell_type": "markdown",
   "metadata": {},
   "source": [
    "As we proceed through endpoints we can incrementally track the number of events taking place at that endpoint uising a counter. For each endpoint that is the start of an interval, we increment the counter by 1, and for each endpoint that is the end of an interval, we decrement the counter by 1. The maximum value attained by the counter is maximum number of overlappoing intervals. "
   ]
  },
  {
   "cell_type": "code",
   "execution_count": 72,
   "metadata": {},
   "outputs": [],
   "source": [
    "import collections"
   ]
  },
  {
   "cell_type": "code",
   "execution_count": 75,
   "metadata": {},
   "outputs": [],
   "source": [
    "# Event is a tuple (start_time, end_time)\n",
    "Event = collections.namedtuple('Event', ('start', 'finish'))\n",
    "\n",
    "# Endpoint is a tuple (start_time, 0) or (end_time,1) so that if times are equal, start_time comes first\n",
    "Endpoint = collections.namedtuple('Endpoint', ('time', 'is_not_start'))\n",
    "\n",
    "def find_max_simultaneous_events(A: list) -> int:\n",
    "    # Builds an array of all endpoints\n",
    "    E = [\n",
    "        p for event in A for p in (Endpoint(event.start, True),\n",
    "                                   Endpoint(event.finish, False))\n",
    "    ]\n",
    "    print(E)\n",
    "    # Sorts the endpoint array according to the time, breaking ties by putting start times before end times\n",
    "    E.sort(key = lambda e:(e.time, not e.is_not_start))\n",
    "    print(E)\n",
    "    \n",
    "    # Track the number of simultaneous events, record the maximum number of simultaneous events.\n",
    "    max_num_simultaneous_events, num_simultaneous_events = 0, 0 \n",
    "    for e in E:\n",
    "        if e.is_not_start:\n",
    "            num_simultaneous_events += 1\n",
    "            max_num_simultaneous_events = max(max_num_simultaneous_events,\n",
    "                                             num_simultaneous_events)\n",
    "        else:\n",
    "            num_simultaneous_events -= 1\n",
    "    return max_num_simultaneous_events"
   ]
  },
  {
   "cell_type": "markdown",
   "metadata": {},
   "source": [
    "## 13.7 Merging Intervals \n",
    "\n",
    "Write a program which takes as input an array of disjoint closed intervals with integer endpoints sorted by increasing order of left endpoint, and an interval to be added, and returns the union of the intervals in the array and the added interval. You result should be expressed as a union of disjoint intervals sorted by left endpoints. "
   ]
  },
  {
   "cell_type": "markdown",
   "metadata": {},
   "source": [
    "The brute-force approach examines values that are not endpoints, which is wasteful, since if an integer point p is not an endpoint, it must lie in the same interval as p-1 does, A better approach is to focus on endpoints, and use the sorted property to quickly process intervals in the array. \n",
    "\n",
    "Specifically, processing an interval in the array takes place in three stages:\n",
    "(1.) First, we iterate through intervals which appear completely before the interval to be added-- all these intervals are added directly to the result. \n",
    "(2.) As soon as we encounter an. interval that intersects the interval to be added, we compute its union with the interval to be added. This union is itself an interval. We iterate through subsequent intervals, as long as they intersect with the union we are forming. Ths single union is added to the result. \n",
    "(3.) Finally, we iterate through the remaining intervals. Because the array was originally sorted, none of these can intersect with the interval to be added, so we add these intervals to the result. "
   ]
  },
  {
   "cell_type": "code",
   "execution_count": 1,
   "metadata": {},
   "outputs": [],
   "source": [
    "import collections"
   ]
  },
  {
   "cell_type": "code",
   "execution_count": 14,
   "metadata": {},
   "outputs": [],
   "source": [
    "Interval = collections.namedtuple('Interval', ('left', 'right'))\n",
    "\n",
    "def add_interval(disjoint_intervals: list,\n",
    "                 new_interval: Interval) -> list:\n",
    "    i, result = 0, []\n",
    "    \n",
    "    # Processes intervals in disjoint_intervals which come before new_interval.\n",
    "    while(i < len(disjoint_intervals)\n",
    "          and new_interval.left > disjoint_intervals[i].right):\n",
    "        result.append(disjoint_intervals[i])\n",
    "        i += 1\n",
    "    \n",
    "    # Processes intervals in disjoint_intervals which overlap with new_interval\n",
    "    while(i < len(disjoint_intervals)\n",
    "          and  new_interval.right >= disjoint_intervals[i].left):\n",
    "        new_interval = (Interval(\n",
    "            min(new_interval.left, disjoint_intervals[i].left),\n",
    "            max(new_interval.right, disjoint_intervals[i].right)))\n",
    "        i += 1\n",
    "    \n",
    "    # Processes intervals in disjoint_intervals which come after new_interval\n",
    "    return result + [new_interval] + disjoint_intervals[i:]"
   ]
  },
  {
   "cell_type": "code",
   "execution_count": 15,
   "metadata": {},
   "outputs": [],
   "source": [
    "I1 = Interval(-4,-1)"
   ]
  },
  {
   "cell_type": "code",
   "execution_count": 16,
   "metadata": {},
   "outputs": [],
   "source": [
    "I2 = Interval(0,2)\n",
    "I3 = Interval(3,6)\n",
    "I4 = Interval(7,9)\n",
    "I5 = Interval(11,12)\n",
    "I6 = Interval(14,17)\n",
    "new_interval = Interval(1,8)"
   ]
  },
  {
   "cell_type": "code",
   "execution_count": 17,
   "metadata": {},
   "outputs": [
    {
     "data": {
      "text/plain": [
       "[Interval(left=-4, right=-1),\n",
       " Interval(left=0, right=9),\n",
       " Interval(left=11, right=12),\n",
       " Interval(left=14, right=17)]"
      ]
     },
     "execution_count": 17,
     "metadata": {},
     "output_type": "execute_result"
    }
   ],
   "source": [
    "disjoint_intervals = [I1,I2,I3,I4,I5,I6]\n",
    "add_interval(disjoint_intervals, new_interval)"
   ]
  },
  {
   "cell_type": "markdown",
   "metadata": {},
   "source": [
    "Since the program spends O(1) time per entry, its time complexity is O(n). "
   ]
  },
  {
   "cell_type": "markdown",
   "metadata": {},
   "source": [
    "## 13.8 Compute the union of intervals \n",
    "\n",
    "In this problem we consider sets of intervals with integer endpoints, the intervals may be open or closed at either end. We want to compute the union of the intervals in such sets.\n",
    "\n",
    "Design an algorithm that takes as input set of intervals, and outputs their union expressed as a set of disjoint intervals. "
   ]
  },
  {
   "cell_type": "markdown",
   "metadata": {},
   "source": [
    "A faster approach is to process the intervals in sorted order, so that we can limit our attention to a subset of intervals as we proceed. Specifically, we begin by sorting the intervals on their left endpoints. The idea is that this allows us to have to revisit intervals which are entirely to the left of the interval currently being processed. \n",
    "\n",
    "As we iterate through the sorted array of intervals, we have the following cases:\n",
    "* The interval most recently added to the result does not intersect the current interval, nor does its right endpoint equal the left endpoint of the current interval. In this case, we simply add the current interval to the end of the result array as a new interval. \n",
    "* The interval most recently added to the result intersects the current intreval. In this case, we update the most recently added interval to the union of it with the current interval.\n",
    "* The interval most recently added to the result has its right endpoint equal to the left endpoint of the current interval, and one(or both) of these endpoints are closed. In this case too, we update the most recently added interval to the union of it with the current interval. \n",
    "\n",
    "\n",
    "When sorting, if two intervals have the same lfet endpoint, we put intervals which are left-cloed first. We break ties arbitrarily. "
   ]
  },
  {
   "cell_type": "code",
   "execution_count": 18,
   "metadata": {},
   "outputs": [],
   "source": [
    "Endpoint = collections.namedtuple('Endpoint', ('is_closed', 'val'))\n",
    "\n",
    "Interval = collections.namedtuple('Interval', ('left', 'right'))"
   ]
  },
  {
   "cell_type": "code",
   "execution_count": 57,
   "metadata": {},
   "outputs": [],
   "source": [
    "def union_of_intervals(intervals: list) -> list:\n",
    "    # Empty input\n",
    "    if not intervals:\n",
    "        return []\n",
    "    \n",
    "    # Sort intervals according to left endpoints of intervals. For the same left endpoints, consider \n",
    "    # the left point is closed first. \n",
    "    intervals.sort(key = lambda i: (i.left.val, not i.left.is_closed))\n",
    "    result = [intervals[0]]\n",
    "    for i in intervals:\n",
    "        if i.left.val > result[-1].right.val:\n",
    "            result.append(i)\n",
    "        elif (i.left.val < result[-1].right.val or \n",
    "        (i.left.val == result[-1].right.val and (i.left.is_closed or result[-1].right.is_closed))):\n",
    "            if (i.right.val > result[-1].right.val or\n",
    "               (i.right.val == result[-1].right.val and i.right.is_closed)):\n",
    "                result[-1] = Interval(result[-1].left, i.right)\n",
    "    return result "
   ]
  },
  {
   "cell_type": "code",
   "execution_count": 28,
   "metadata": {},
   "outputs": [],
   "source": [
    "End11 = Endpoint(False, 0)\n",
    "End12 = Endpoint(False, 3)\n",
    "I1 = Interval(End11,End12)"
   ]
  },
  {
   "cell_type": "code",
   "execution_count": 29,
   "metadata": {},
   "outputs": [
    {
     "name": "stdout",
     "output_type": "stream",
     "text": [
      "Interval(left=Endpoint(is_closed=False, val=0), right=Endpoint(is_closed=False, val=3))\n"
     ]
    }
   ],
   "source": [
    "print(I1)"
   ]
  },
  {
   "cell_type": "code",
   "execution_count": 30,
   "metadata": {},
   "outputs": [
    {
     "name": "stdout",
     "output_type": "stream",
     "text": [
      "False 0\n",
      "False 3\n"
     ]
    }
   ],
   "source": [
    "for left, right in I1:\n",
    "    print(left, right)"
   ]
  },
  {
   "cell_type": "code",
   "execution_count": 31,
   "metadata": {},
   "outputs": [
    {
     "data": {
      "text/plain": [
       "0"
      ]
     },
     "execution_count": 31,
     "metadata": {},
     "output_type": "execute_result"
    }
   ],
   "source": [
    "I1.left.val"
   ]
  },
  {
   "cell_type": "code",
   "execution_count": 32,
   "metadata": {},
   "outputs": [
    {
     "data": {
      "text/plain": [
       "False"
      ]
     },
     "execution_count": 32,
     "metadata": {},
     "output_type": "execute_result"
    }
   ],
   "source": [
    "I1.left.is_closed"
   ]
  },
  {
   "cell_type": "code",
   "execution_count": 34,
   "metadata": {},
   "outputs": [],
   "source": [
    "End21 = Endpoint(True,3)\n",
    "End22= Endpoint(False,4)\n",
    "I2 = Interval(End21, End22)"
   ]
  },
  {
   "cell_type": "code",
   "execution_count": 35,
   "metadata": {},
   "outputs": [],
   "source": [
    "End31 = Endpoint(True,2)\n",
    "End32= Endpoint(True,4)\n",
    "I3 = Interval(End31, End32)"
   ]
  },
  {
   "cell_type": "code",
   "execution_count": 36,
   "metadata": {},
   "outputs": [],
   "source": [
    "End41 = Endpoint(True,5)\n",
    "End42= Endpoint(False,7)\n",
    "I4 = Interval(End41, End42)"
   ]
  },
  {
   "cell_type": "code",
   "execution_count": 37,
   "metadata": {},
   "outputs": [],
   "source": [
    "End51 = Endpoint(True,7)\n",
    "End52= Endpoint(False,8)\n",
    "I5 = Interval(End51, End52)"
   ]
  },
  {
   "cell_type": "code",
   "execution_count": 38,
   "metadata": {},
   "outputs": [],
   "source": [
    "End61 = Endpoint(True,8)\n",
    "End62= Endpoint(False,11)\n",
    "I6 = Interval(End61, End62)"
   ]
  },
  {
   "cell_type": "code",
   "execution_count": 39,
   "metadata": {},
   "outputs": [],
   "source": [
    "End71 = Endpoint(False,9)\n",
    "End72= Endpoint(True,11)\n",
    "I7 = Interval(End71, End72)"
   ]
  },
  {
   "cell_type": "code",
   "execution_count": 40,
   "metadata": {},
   "outputs": [],
   "source": [
    "End81 = Endpoint(True,12)\n",
    "End82= Endpoint(True,14)\n",
    "I8 = Interval(End81, End82)"
   ]
  },
  {
   "cell_type": "code",
   "execution_count": 41,
   "metadata": {},
   "outputs": [],
   "source": [
    "End91 = Endpoint(False,12)\n",
    "End92= Endpoint(True,16)\n",
    "I9 = Interval(End91, End92)"
   ]
  },
  {
   "cell_type": "code",
   "execution_count": 42,
   "metadata": {},
   "outputs": [],
   "source": [
    "End101 = Endpoint(False,13)\n",
    "End102= Endpoint(False,15)\n",
    "I10 = Interval(End101, End102)"
   ]
  },
  {
   "cell_type": "code",
   "execution_count": 43,
   "metadata": {},
   "outputs": [],
   "source": [
    "End111 = Endpoint(False,16)\n",
    "End112= Endpoint(False,17)\n",
    "I11 = Interval(End111, End112)"
   ]
  },
  {
   "cell_type": "code",
   "execution_count": 45,
   "metadata": {},
   "outputs": [],
   "source": [
    "inervals = [I1,I2, I3, I4, I5, I6, I7, I8, I9, I10, I11]"
   ]
  },
  {
   "cell_type": "code",
   "execution_count": 58,
   "metadata": {},
   "outputs": [
    {
     "data": {
      "text/plain": [
       "[Interval(left=Endpoint(is_closed=False, val=0), right=Endpoint(is_closed=True, val=4)),\n",
       " Interval(left=Endpoint(is_closed=True, val=5), right=Endpoint(is_closed=True, val=11)),\n",
       " Interval(left=Endpoint(is_closed=True, val=12), right=Endpoint(is_closed=False, val=17))]"
      ]
     },
     "execution_count": 58,
     "metadata": {},
     "output_type": "execute_result"
    }
   ],
   "source": [
    "union_of_intervals(inervals) \n",
    "# always encounter the closed left end points first. This is the reason why we do the sorting in next line. "
   ]
  },
  {
   "cell_type": "code",
   "execution_count": 53,
   "metadata": {},
   "outputs": [],
   "source": [
    "inervals.sort(key = lambda i: (i.left.val, not i.left.is_closed))"
   ]
  },
  {
   "cell_type": "code",
   "execution_count": 54,
   "metadata": {},
   "outputs": [
    {
     "name": "stdout",
     "output_type": "stream",
     "text": [
      "Interval(left=Endpoint(is_closed=False, val=0), right=Endpoint(is_closed=False, val=3))\n",
      "Interval(left=Endpoint(is_closed=True, val=2), right=Endpoint(is_closed=True, val=4))\n",
      "Interval(left=Endpoint(is_closed=True, val=3), right=Endpoint(is_closed=False, val=4))\n",
      "Interval(left=Endpoint(is_closed=True, val=5), right=Endpoint(is_closed=False, val=7))\n",
      "Interval(left=Endpoint(is_closed=True, val=7), right=Endpoint(is_closed=False, val=8))\n",
      "Interval(left=Endpoint(is_closed=True, val=8), right=Endpoint(is_closed=False, val=11))\n",
      "Interval(left=Endpoint(is_closed=False, val=9), right=Endpoint(is_closed=True, val=11))\n",
      "Interval(left=Endpoint(is_closed=True, val=12), right=Endpoint(is_closed=True, val=14))\n",
      "Interval(left=Endpoint(is_closed=False, val=12), right=Endpoint(is_closed=True, val=16))\n",
      "Interval(left=Endpoint(is_closed=False, val=13), right=Endpoint(is_closed=False, val=15))\n",
      "Interval(left=Endpoint(is_closed=False, val=16), right=Endpoint(is_closed=False, val=17))\n"
     ]
    }
   ],
   "source": [
    "for i in inervals:\n",
    "    print(i)"
   ]
  },
  {
   "cell_type": "markdown",
   "metadata": {},
   "source": [
    "The time complexity for sorting is O(n log n) and for merging is O(n) as in 13.7. The total time complexity is O(n log n). "
   ]
  },
  {
   "cell_type": "markdown",
   "metadata": {},
   "source": [
    "## 13.9 Partitioning and sorting an array with many repeated entries \n",
    "\n",
    "Suppose you need to reorder the elements of a very large array so that equal elements appear together. For example, if the array is <b,a,c,b,d,a,b,d> then <a,a,b,b,b,c,d,d>is an acceptable reordering, as is <d,d,,c,a,a,b,b,b>. \n",
    "\n",
    "You are given an array of student objects. Each student has an integer-valued age field that is to be treated as a key. Rearrange the elements of the array so that students of equl age appear together. The order in which different ages appear is not important. How would your solutaion change if ages have to appear in sorted order? \n",
    "\n",
    "**Sol:** The brute-force solution is to sort the array, comparing on age. If the array lenght is n, the time complexity is O(n log n) and space complexity is O(1). The inefficiency in this approach stems from the fact that it does more than it required -- the specification simply asks for students of equal age to be adjacent. \n",
    "\n",
    "We can iterate through the array and record the number of students of each age in a hash. Specifically, keys are ages, and values are the corresponding counts. If we had a new array to write to, we can write the two students of age 14 starting at index 0, and two students of age 12 starting at index 0+2 =2, the one student of age 11 at index 2+2 = 4, and the three students of age 13 starting at index 4+1 = 5. We would iterate the original array, and write each entry into a new array according to these offsets. For example, after the first four iterations, the new array would be <(Greg,14), , (John,12), ,(Andy,11),(Jim,13), , >. \n",
    "\n",
    "The time complexity of this approach is O(n), but it entails O(n) additional space for the result array."
   ]
  },
  {
   "cell_type": "code",
   "execution_count": 59,
   "metadata": {},
   "outputs": [],
   "source": [
    "Person = collections.namedtuple('Person', ('age', 'name'))"
   ]
  },
  {
   "cell_type": "code",
   "execution_count": 95,
   "metadata": {},
   "outputs": [],
   "source": [
    "def group_by_age(people: list) -> None:\n",
    "    age_to_count = collections.Counter((person.age for person in people))\n",
    "    people_new = [None]*len(people)\n",
    "    count = 0\n",
    "    for person in people:\n",
    "        people_new[count] = person\n",
    "        count += age_to_count[person.age]\n",
    "        count %= len(people)\n",
    "    return people_new"
   ]
  },
  {
   "cell_type": "code",
   "execution_count": 115,
   "metadata": {},
   "outputs": [],
   "source": [
    "P1 = Person(14, 'Greg')\n",
    "P2 = Person(12, 'John')\n",
    "P3 = Person(11, 'Andy')\n",
    "P4 = Person(13, 'Jim')\n",
    "P5 = Person(12, 'Phil')\n",
    "P6 = Person(13, 'Bob')\n",
    "P7 = Person(13, 'Chip')\n",
    "P8 = Person(14, 'Tim')\n",
    "people = [P1,P2,P3,P4,P5,P6,P7,P8]"
   ]
  },
  {
   "cell_type": "code",
   "execution_count": 116,
   "metadata": {},
   "outputs": [],
   "source": [
    "age_to_count = collections.Counter((person.age for person in people))"
   ]
  },
  {
   "cell_type": "code",
   "execution_count": 117,
   "metadata": {},
   "outputs": [
    {
     "name": "stdout",
     "output_type": "stream",
     "text": [
      "Counter({13: 3, 14: 2, 12: 2, 11: 1})\n"
     ]
    }
   ],
   "source": [
    "print(age_to_count)"
   ]
  },
  {
   "cell_type": "code",
   "execution_count": 71,
   "metadata": {},
   "outputs": [
    {
     "data": {
      "text/plain": [
       "3"
      ]
     },
     "execution_count": 71,
     "metadata": {},
     "output_type": "execute_result"
    }
   ],
   "source": [
    "age_to_count[13]"
   ]
  },
  {
   "cell_type": "code",
   "execution_count": 96,
   "metadata": {},
   "outputs": [
    {
     "data": {
      "text/plain": [
       "[Person(age=14, name='Tim'),\n",
       " None,\n",
       " Person(age=13, name='Bob'),\n",
       " None,\n",
       " Person(age=11, name='Andy'),\n",
       " Person(age=13, name='Chip'),\n",
       " None,\n",
       " None]"
      ]
     },
     "execution_count": 96,
     "metadata": {},
     "output_type": "execute_result"
    }
   ],
   "source": [
    "group_by_age(people)"
   ]
  },
  {
   "cell_type": "code",
   "execution_count": 76,
   "metadata": {},
   "outputs": [
    {
     "data": {
      "text/plain": [
       "8"
      ]
     },
     "execution_count": 76,
     "metadata": {},
     "output_type": "execute_result"
    }
   ],
   "source": [
    "len(people)"
   ]
  },
  {
   "cell_type": "code",
   "execution_count": 77,
   "metadata": {},
   "outputs": [],
   "source": [
    "people_new = [None]*8"
   ]
  },
  {
   "cell_type": "code",
   "execution_count": 78,
   "metadata": {},
   "outputs": [
    {
     "data": {
      "text/plain": [
       "Person(age=14, name='Greg')"
      ]
     },
     "execution_count": 78,
     "metadata": {},
     "output_type": "execute_result"
    }
   ],
   "source": [
    "people[0]"
   ]
  },
  {
   "cell_type": "code",
   "execution_count": 80,
   "metadata": {},
   "outputs": [],
   "source": [
    "people_new[2]"
   ]
  },
  {
   "cell_type": "markdown",
   "metadata": {},
   "source": [
    "We can avoid having to allocate a new array by performing the updates in-place. The idea is to maintain a subarray for each of the difference types of elements. Each subarray marks out entries which have not yet been assigned elements of that type. We swap elements across these subarrays to move them to their correct position. \n",
    "In the program below, we use two hash tables to track the subarrays. One is the starting offset of the subarray, the other its size. As soon as the subarray becomes empty, we remove it. "
   ]
  },
  {
   "cell_type": "code",
   "execution_count": 97,
   "metadata": {},
   "outputs": [],
   "source": [
    "def group_by_age_2(people: list) -> None:\n",
    "    age_to_count = collections.Counter((person.age for person in people))\n",
    "    age_to_offset, offset = {}, 0\n",
    "    \n",
    "    for age, count in age_to_count.items():\n",
    "        age_to_offset[age] = offset\n",
    "        offset += count \n",
    "    \n",
    "    while age_to_offset:\n",
    "        from_age = next(iter(age_to_offset))\n",
    "        from_idx = age_to_offset[from_age]\n",
    "        to_age = people[from_idx].age\n",
    "        to_idx = age_to_offset[people[from_idx].age]\n",
    "        people[from_idx], people[to_idx] = people[to_idx], people[from_idx]\n",
    "        # Use age_to_count to see when we are finished with a particular age \n",
    "        age_to_count[to_age] -= 1\n",
    "        if age_to_count[to_age]:\n",
    "            age_to_offset[to_age] = to_idx + 1\n",
    "        else:\n",
    "            del age_to_offset[to_age]"
   ]
  },
  {
   "cell_type": "code",
   "execution_count": 98,
   "metadata": {},
   "outputs": [],
   "source": [
    "group_by_age_2(people)"
   ]
  },
  {
   "cell_type": "code",
   "execution_count": 100,
   "metadata": {},
   "outputs": [
    {
     "name": "stdout",
     "output_type": "stream",
     "text": [
      "[Person(age=14, name='Greg'), Person(age=14, name='Tim'), Person(age=12, name='John'), Person(age=12, name='Phil'), Person(age=11, name='Andy'), Person(age=13, name='Jim'), Person(age=13, name='Bob'), Person(age=13, name='Chip')]\n"
     ]
    }
   ],
   "source": [
    "print(people)"
   ]
  },
  {
   "cell_type": "code",
   "execution_count": 118,
   "metadata": {},
   "outputs": [],
   "source": [
    "age_to_offset, offset = {}, 0\n",
    "for age, count in age_to_count.items():\n",
    "    age_to_offset[age] = offset\n",
    "    offset += count"
   ]
  },
  {
   "cell_type": "code",
   "execution_count": 119,
   "metadata": {},
   "outputs": [
    {
     "name": "stdout",
     "output_type": "stream",
     "text": [
      "{14: 0, 12: 2, 11: 4, 13: 5}\n"
     ]
    }
   ],
   "source": [
    "print(age_to_offset)"
   ]
  },
  {
   "cell_type": "code",
   "execution_count": 120,
   "metadata": {},
   "outputs": [
    {
     "name": "stdout",
     "output_type": "stream",
     "text": [
      "14 0\n",
      "14 0\n",
      "[Person(age=14, name='Greg'), Person(age=12, name='John'), Person(age=11, name='Andy'), Person(age=13, name='Jim'), Person(age=12, name='Phil'), Person(age=13, name='Bob'), Person(age=13, name='Chip'), Person(age=14, name='Tim')]\n",
      "14 1\n",
      "12 2\n",
      "[Person(age=14, name='Greg'), Person(age=11, name='Andy'), Person(age=12, name='John'), Person(age=13, name='Jim'), Person(age=12, name='Phil'), Person(age=13, name='Bob'), Person(age=13, name='Chip'), Person(age=14, name='Tim')]\n",
      "14 1\n",
      "11 4\n",
      "[Person(age=14, name='Greg'), Person(age=12, name='Phil'), Person(age=12, name='John'), Person(age=13, name='Jim'), Person(age=11, name='Andy'), Person(age=13, name='Bob'), Person(age=13, name='Chip'), Person(age=14, name='Tim')]\n",
      "14 1\n",
      "12 3\n",
      "[Person(age=14, name='Greg'), Person(age=13, name='Jim'), Person(age=12, name='John'), Person(age=12, name='Phil'), Person(age=11, name='Andy'), Person(age=13, name='Bob'), Person(age=13, name='Chip'), Person(age=14, name='Tim')]\n",
      "14 1\n",
      "13 5\n",
      "[Person(age=14, name='Greg'), Person(age=13, name='Bob'), Person(age=12, name='John'), Person(age=12, name='Phil'), Person(age=11, name='Andy'), Person(age=13, name='Jim'), Person(age=13, name='Chip'), Person(age=14, name='Tim')]\n",
      "14 1\n",
      "13 6\n",
      "[Person(age=14, name='Greg'), Person(age=13, name='Chip'), Person(age=12, name='John'), Person(age=12, name='Phil'), Person(age=11, name='Andy'), Person(age=13, name='Jim'), Person(age=13, name='Bob'), Person(age=14, name='Tim')]\n",
      "14 1\n",
      "13 7\n",
      "[Person(age=14, name='Greg'), Person(age=14, name='Tim'), Person(age=12, name='John'), Person(age=12, name='Phil'), Person(age=11, name='Andy'), Person(age=13, name='Jim'), Person(age=13, name='Bob'), Person(age=13, name='Chip')]\n",
      "14 1\n",
      "14 1\n",
      "[Person(age=14, name='Greg'), Person(age=14, name='Tim'), Person(age=12, name='John'), Person(age=12, name='Phil'), Person(age=11, name='Andy'), Person(age=13, name='Jim'), Person(age=13, name='Bob'), Person(age=13, name='Chip')]\n"
     ]
    }
   ],
   "source": [
    "while age_to_offset:\n",
    "    from_age = next(iter(age_to_offset))\n",
    "    from_idx = age_to_offset[from_age]\n",
    "    to_age = people[from_idx].age\n",
    "    to_idx = age_to_offset[people[from_idx].age]\n",
    "    print(from_age, from_idx)\n",
    "    print(to_age, to_idx)\n",
    "    people[from_idx], people[to_idx] = people[to_idx], people[from_idx]\n",
    "    print(people)\n",
    "    age_to_count[to_age] -= 1\n",
    "    if age_to_count[to_age]:\n",
    "        age_to_offset[to_age] = to_idx + 1\n",
    "    else:\n",
    "        del age_to_offset[to_age]"
   ]
  },
  {
   "cell_type": "markdown",
   "metadata": {},
   "source": [
    "The time complexity is O(n), since the first pass entials n hash table inserts, and the second pass spends O(1) time to move one element to its proper location. The additional space complexity is dictated by the hash table, i.e.,O(m), where m is the number of distinct ages. "
   ]
  },
  {
   "cell_type": "markdown",
   "metadata": {},
   "source": [
    "## 13.10 Team photo day -1 \n",
    "\n",
    "You are a photographer for a soccer meet. You will be taking of pairs of opposing teams. All teams have the same number of players. A player in the back row must be taller than the player in front of him. All players in a row must be from the same team. \n",
    "\n",
    "Design an algorithm that takes as input two teams and the heights of the players in the teams and checks if it is possible to place players to take the photo subject to the placement constraints. "
   ]
  },
  {
   "cell_type": "code",
   "execution_count": 133,
   "metadata": {},
   "outputs": [],
   "source": [
    "class Team:\n",
    "    Player = collections.namedtuple('Player', ('height'))\n",
    "    \n",
    "    def __init__(self, height: list) -> None:\n",
    "        self._players = [Team.Player(h) for h in height]\n",
    "    \n",
    "    # check if team0 can be placed in front of team1.\n",
    "    @staticmethod\n",
    "    def valid_placement_exists(team0: 'Team', team1: 'Team') -> bool:\n",
    "        return all(\n",
    "            a<b\n",
    "            for a,b in zip(sorted(team0._players), sorted(team1._players)))\n",
    "        "
   ]
  },
  {
   "cell_type": "code",
   "execution_count": 122,
   "metadata": {},
   "outputs": [],
   "source": [
    "h1 = [4,5,29,3,49,20,384,90,1,10,11]\n",
    "h2 = [1,2,3,4,5,6,7,8,8,9,10]"
   ]
  },
  {
   "cell_type": "code",
   "execution_count": 123,
   "metadata": {},
   "outputs": [],
   "source": [
    "team0 = Team(h1)"
   ]
  },
  {
   "cell_type": "code",
   "execution_count": 124,
   "metadata": {},
   "outputs": [],
   "source": [
    "team1 = Team(h2)"
   ]
  },
  {
   "cell_type": "code",
   "execution_count": 134,
   "metadata": {},
   "outputs": [
    {
     "data": {
      "text/plain": [
       "False"
      ]
     },
     "execution_count": 134,
     "metadata": {},
     "output_type": "execute_result"
    }
   ],
   "source": [
    "Team.valid_placement_exists(team0, team1)"
   ]
  },
  {
   "cell_type": "code",
   "execution_count": 135,
   "metadata": {},
   "outputs": [
    {
     "data": {
      "text/plain": [
       "False"
      ]
     },
     "execution_count": 135,
     "metadata": {},
     "output_type": "execute_result"
    }
   ],
   "source": [
    "all(a<b for a,b in zip(sorted(h1), sorted(h2)))"
   ]
  },
  {
   "cell_type": "code",
   "execution_count": 136,
   "metadata": {},
   "outputs": [],
   "source": [
    "h1.sort()"
   ]
  },
  {
   "cell_type": "code",
   "execution_count": 137,
   "metadata": {},
   "outputs": [
    {
     "data": {
      "text/plain": [
       "[1, 3, 4, 5, 10, 11, 20, 29, 49, 90, 384]"
      ]
     },
     "execution_count": 137,
     "metadata": {},
     "output_type": "execute_result"
    }
   ],
   "source": [
    "h1"
   ]
  },
  {
   "cell_type": "code",
   "execution_count": 138,
   "metadata": {},
   "outputs": [],
   "source": [
    "h2.sort()"
   ]
  },
  {
   "cell_type": "code",
   "execution_count": 139,
   "metadata": {},
   "outputs": [
    {
     "data": {
      "text/plain": [
       "[1, 2, 3, 4, 5, 6, 7, 8, 8, 9, 10]"
      ]
     },
     "execution_count": 139,
     "metadata": {},
     "output_type": "execute_result"
    }
   ],
   "source": [
    "h2"
   ]
  },
  {
   "cell_type": "code",
   "execution_count": 141,
   "metadata": {},
   "outputs": [
    {
     "data": {
      "text/plain": [
       "True"
      ]
     },
     "execution_count": 141,
     "metadata": {},
     "output_type": "execute_result"
    }
   ],
   "source": [
    "all(b<=a for a,b in zip(sorted(h1), sorted(h2)))"
   ]
  },
  {
   "cell_type": "code",
   "execution_count": 142,
   "metadata": {},
   "outputs": [
    {
     "name": "stdout",
     "output_type": "stream",
     "text": [
      "1 1\n",
      "3 2\n",
      "4 3\n",
      "5 4\n",
      "10 5\n",
      "11 6\n",
      "20 7\n",
      "29 8\n",
      "49 8\n",
      "90 9\n",
      "384 10\n"
     ]
    }
   ],
   "source": [
    "for a,b in zip(sorted(h1), sorted(h2)):\n",
    "    print(a,b)"
   ]
  },
  {
   "cell_type": "markdown",
   "metadata": {},
   "source": [
    "The time complexity is that of sorting, i.e. O(n log n). "
   ]
  },
  {
   "cell_type": "markdown",
   "metadata": {},
   "source": [
    "## 13.11 Implement a fast sorting algorithm for lists \n",
    "\n",
    "Implement a routine which sorts lists efficiently. It should be a stable sort, i.e., the relative positions of equal elements must remain unchanged. \n",
    "\n",
    "**Hint:** In what respects are lists superior to arrays? \n",
    "\n",
    "**Sol:** The brute-force approach is to repeatedly delete the smallest element in the list and add it to the end of a new list. The time complexity is O(n^2) and the additional space complexity is O(n), where n is the number of nodes in the list. We can refine the simple algorithm to run in O(1) space by reordering the nodes, instead of creating new ones. "
   ]
  },
  {
   "cell_type": "code",
   "execution_count": 143,
   "metadata": {},
   "outputs": [],
   "source": [
    "class ListNode:\n",
    "    def __init__(self, data = 0, next = None):\n",
    "        self.data = data\n",
    "        self.next = next "
   ]
  },
  {
   "cell_type": "code",
   "execution_count": 145,
   "metadata": {},
   "outputs": [],
   "source": [
    "def print_ListNode(L:ListNode) -> None:\n",
    "    while L:\n",
    "        print(L.data)\n",
    "        L = L.next"
   ]
  },
  {
   "cell_type": "code",
   "execution_count": 151,
   "metadata": {},
   "outputs": [],
   "source": [
    "def insertion_sort(L: ListNode) -> ListNode:\n",
    "    dummy_head = ListNode(0,L)\n",
    "    # The sublist consisting of nodes up to and including iter is sorted in \n",
    "    # increasing order. We need to ensure that after we move to L.next this \n",
    "    # property continues to hold. We do this by swapping L.next with its \n",
    "    # precdecessors in the list till it's in the right place.\n",
    "    while L and L.next:\n",
    "        if L.data > L.next.data:\n",
    "            target, pre = L.next, dummy_head\n",
    "            while pre.next.data < target.data:\n",
    "                pre = pre.next\n",
    "            temp, pre.next, L.next = pre.next, target, target.next\n",
    "            target.next = temp\n",
    "        else:\n",
    "            L = L.next\n",
    "        print('list node after every iteration')\n",
    "        print_ListNode(dummy_head)\n",
    "        \n",
    "    return dummy_head.next"
   ]
  },
  {
   "cell_type": "code",
   "execution_count": 170,
   "metadata": {},
   "outputs": [],
   "source": [
    "node1 = ListNode(1)\n",
    "node2 = ListNode(33)\n",
    "node3 = ListNode(2734)\n",
    "node4 = ListNode(5)\n",
    "node5 = ListNode(7)\n",
    "node6 = ListNode(10)\n",
    "node7 = ListNode(37)\n",
    "node8 = ListNode(99)\n",
    "node9 = ListNode(32)\n",
    "node10 = ListNode(45)"
   ]
  },
  {
   "cell_type": "code",
   "execution_count": 171,
   "metadata": {},
   "outputs": [],
   "source": [
    "node1.next = node2\n",
    "node2.next = node3\n",
    "node3.next = node4\n",
    "node4.next = node5\n",
    "node5.next = node6\n",
    "node6.next = node7\n",
    "node7.next = node8\n",
    "node8.next = node9\n",
    "node9.next = node10"
   ]
  },
  {
   "cell_type": "code",
   "execution_count": 154,
   "metadata": {},
   "outputs": [
    {
     "name": "stdout",
     "output_type": "stream",
     "text": [
      "list node after every iteration\n",
      "0\n",
      "1\n",
      "33\n",
      "2734\n",
      "5\n",
      "7\n",
      "10\n",
      "37\n",
      "99\n",
      "32\n",
      "45\n",
      "list node after every iteration\n",
      "0\n",
      "1\n",
      "33\n",
      "2734\n",
      "5\n",
      "7\n",
      "10\n",
      "37\n",
      "99\n",
      "32\n",
      "45\n",
      "list node after every iteration\n",
      "0\n",
      "1\n",
      "5\n",
      "33\n",
      "2734\n",
      "7\n",
      "10\n",
      "37\n",
      "99\n",
      "32\n",
      "45\n",
      "list node after every iteration\n",
      "0\n",
      "1\n",
      "5\n",
      "7\n",
      "33\n",
      "2734\n",
      "10\n",
      "37\n",
      "99\n",
      "32\n",
      "45\n",
      "list node after every iteration\n",
      "0\n",
      "1\n",
      "5\n",
      "7\n",
      "10\n",
      "33\n",
      "2734\n",
      "37\n",
      "99\n",
      "32\n",
      "45\n",
      "list node after every iteration\n",
      "0\n",
      "1\n",
      "5\n",
      "7\n",
      "10\n",
      "33\n",
      "37\n",
      "2734\n",
      "99\n",
      "32\n",
      "45\n",
      "list node after every iteration\n",
      "0\n",
      "1\n",
      "5\n",
      "7\n",
      "10\n",
      "33\n",
      "37\n",
      "99\n",
      "2734\n",
      "32\n",
      "45\n",
      "list node after every iteration\n",
      "0\n",
      "1\n",
      "5\n",
      "7\n",
      "10\n",
      "32\n",
      "33\n",
      "37\n",
      "99\n",
      "2734\n",
      "45\n",
      "list node after every iteration\n",
      "0\n",
      "1\n",
      "5\n",
      "7\n",
      "10\n",
      "32\n",
      "33\n",
      "37\n",
      "45\n",
      "99\n",
      "2734\n"
     ]
    },
    {
     "data": {
      "text/plain": [
       "<__main__.ListNode at 0x107f56438>"
      ]
     },
     "execution_count": 154,
     "metadata": {},
     "output_type": "execute_result"
    }
   ],
   "source": [
    "insertion_sort(node1)"
   ]
  },
  {
   "cell_type": "markdown",
   "metadata": {},
   "source": [
    "The time complexity is O(n^2), which corresponds to the case where the list is reverse-sorted to begin with. The space complexity is O(1). "
   ]
  },
  {
   "cell_type": "markdown",
   "metadata": {},
   "source": [
    "To improve on runtime, we can gain intitioni from considering arrays. Quicksort is the best all round sorting algorithm for arrays-- it runs in time O(n log n), and is in-place. However, it is not stable. Mergesort applied to arrays is a stable O(n log n) algorithm. However, it is not in-place, since there is no way to merge two sorted halves of an array in-place in linear time.\n",
    "\n",
    "Unlike array, lists can be merged in-place --conceptually, this is because insertion into the middle of a list is an O(1) operation. The following program implements a mergesort on lists. We decompose the list into two equal-sized sublists around the node in the middle of the list. We find this node by advancing two iterators through ths list, one twice as fast as the other. When the fast iterator reaches the end of the list, the slow iterator is at the middle of the list. We recurse on the sublists, and use Solution 7.1 (merge two sorted lists) to combine the sorted sublists. "
   ]
  },
  {
   "cell_type": "code",
   "execution_count": 156,
   "metadata": {},
   "outputs": [],
   "source": [
    "def merge_two_sorted_lists(L1: ListNode,\n",
    "                           L2: ListNode) -> ListNode:\n",
    "    # creates a placeholder for the result.\n",
    "    dummy_head = tail = ListNode()\n",
    "    \n",
    "    while L1 and L2:\n",
    "        if L1.data < L2.data:\n",
    "            tail.next, L1 = L1, L1.next\n",
    "        else:\n",
    "            tail.next, L2 = L2, L2.next\n",
    "    # Appends the remaining nodes of L1 or L2\n",
    "    tail.next = L1 or L2\n",
    "    return dummy_head.next "
   ]
  },
  {
   "cell_type": "code",
   "execution_count": 167,
   "metadata": {},
   "outputs": [],
   "source": [
    "def stable_sort_list(L: ListNode) -> ListNode:\n",
    "    # Base cases: L is empty or a single node, nothing to do \n",
    "    if L is None or L.next is None:\n",
    "        return L\n",
    "    # Find the midpoint of L using a slow and a fast pointer\n",
    "    pre_slow, slow, fast = None, L, L\n",
    "    while fast and fast.next:\n",
    "        pre_slow = slow\n",
    "        fast, slow = fast.next.next, slow.next\n",
    "        \n",
    "    if pre_slow:\n",
    "        pre_slow.next = None # Splits the list into two equal-sized lists\n",
    "    print_ListNode(L)\n",
    "    print_ListNode(slow)\n",
    "        \n",
    "    return merge_two_sorted_lists(stable_sort_list(L), stable_sort_list(slow))"
   ]
  },
  {
   "cell_type": "code",
   "execution_count": 168,
   "metadata": {},
   "outputs": [],
   "source": [
    "L = stable_sort_list(node1)"
   ]
  },
  {
   "cell_type": "code",
   "execution_count": 164,
   "metadata": {},
   "outputs": [
    {
     "data": {
      "text/plain": [
       "<__main__.ListNode at 0x107f56630>"
      ]
     },
     "execution_count": 164,
     "metadata": {},
     "output_type": "execute_result"
    }
   ],
   "source": [
    "L"
   ]
  },
  {
   "cell_type": "code",
   "execution_count": 172,
   "metadata": {},
   "outputs": [
    {
     "name": "stdout",
     "output_type": "stream",
     "text": [
      "1\n",
      "33\n",
      "2734\n",
      "5\n",
      "7\n",
      "10\n",
      "37\n",
      "99\n",
      "32\n",
      "45\n"
     ]
    }
   ],
   "source": [
    "print_ListNode(node1)"
   ]
  },
  {
   "cell_type": "markdown",
   "metadata": {},
   "source": [
    "## 13.12 Compute a salary threshold\n",
    "\n",
    "Design an algorithm for computing the salary cap, given existing salaries and the target payroll. "
   ]
  },
  {
   "cell_type": "code",
   "execution_count": 173,
   "metadata": {},
   "outputs": [],
   "source": [
    "def find_salary_cap(target_payroll: int, current_salaries: list) -> float:\n",
    "    current_salaries.sort()\n",
    "    unadjusted_salary_sum = 0.0\n",
    "    for i, current_salary in enumerate(current_salaries):\n",
    "        adjusted_people = len(current_salaries) - i\n",
    "        adjusted_salary_sum = current_salary * adjusted_people \n",
    "        if unadjusted_salary_sum + adjusted_salary_sum >= target_payroll:\n",
    "            return (target_payroll - unadjusted_salary_sum) /adjusted_people\n",
    "        unadjusted_salary_sum += current_salary\n",
    "        \n",
    "    # No solution, since target_payroll > existing payroll.\n",
    "    return -1.0"
   ]
  },
  {
   "cell_type": "code",
   "execution_count": 174,
   "metadata": {},
   "outputs": [
    {
     "data": {
      "text/plain": [
       "100.0"
      ]
     },
     "execution_count": 174,
     "metadata": {},
     "output_type": "execute_result"
    }
   ],
   "source": [
    "target_payroll = 210\n",
    "current_salaries = [20, 30, 100, 40, 20]\n",
    "find_salary_cap(target_payroll, current_salaries)"
   ]
  },
  {
   "cell_type": "markdown",
   "metadata": {},
   "source": [
    "The most expensive operation for this entire solution is sorting A, hence the run time is O(n logn). Once we have A sorted, we simply iterate through its entries looking for the first entry which implies a payroll that exceeds the target, and then solve for the cap using an arithmetical exper"
   ]
  }
 ],
 "metadata": {
  "kernelspec": {
   "display_name": "Python 3",
   "language": "python",
   "name": "python3"
  },
  "language_info": {
   "codemirror_mode": {
    "name": "ipython",
    "version": 3
   },
   "file_extension": ".py",
   "mimetype": "text/x-python",
   "name": "python",
   "nbconvert_exporter": "python",
   "pygments_lexer": "ipython3",
   "version": "3.6.5"
  }
 },
 "nbformat": 4,
 "nbformat_minor": 2
}
