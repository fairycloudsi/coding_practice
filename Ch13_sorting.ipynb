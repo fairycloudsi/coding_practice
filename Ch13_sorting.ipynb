{
 "cells": [
  {
   "cell_type": "markdown",
   "metadata": {},
   "source": [
    "## Sorting boot camp\n",
    "\n",
    "It's important to know how to use effectively the sort functionality provided by your language's library. Let's say we are given a student class that implements a compare method that compares students by name. Then by default, the array sort library routine will sort by name. To sort an array of students by GPA, we have to explicitly specify the compare function to the sort routine. "
   ]
  },
  {
   "cell_type": "code",
   "execution_count": 5,
   "metadata": {},
   "outputs": [],
   "source": [
    "class Student(object):\n",
    "    def __init__(self, name: str, grade_point_average: float) -> None:\n",
    "        self.name = name\n",
    "        self.grade_point_average = grade_point_average\n",
    "        \n",
    "    def __lt__(self, other: 'Student') -> bool:\n",
    "        return self.name < other.name"
   ]
  },
  {
   "cell_type": "code",
   "execution_count": 6,
   "metadata": {},
   "outputs": [],
   "source": [
    "students = [\n",
    "    Student('A', 4.0),\n",
    "    Student('B', 3.0),\n",
    "    Student('C', 2.0),\n",
    "    Student('D', 3.2)\n",
    "]"
   ]
  },
  {
   "cell_type": "code",
   "execution_count": 7,
   "metadata": {},
   "outputs": [],
   "source": [
    "# Sort acoording to __it__ defined in Student, students remained unchanged. \n",
    "students_sort_by_name = sorted(students)"
   ]
  },
  {
   "cell_type": "code",
   "execution_count": 8,
   "metadata": {},
   "outputs": [
    {
     "name": "stdout",
     "output_type": "stream",
     "text": [
      "[<__main__.Student object at 0x10bc8f780>, <__main__.Student object at 0x10bc8f5f8>, <__main__.Student object at 0x10bc8f630>, <__main__.Student object at 0x10bc8f668>]\n"
     ]
    }
   ],
   "source": [
    "print(students_sort_by_name)"
   ]
  },
  {
   "cell_type": "code",
   "execution_count": 10,
   "metadata": {},
   "outputs": [
    {
     "name": "stdout",
     "output_type": "stream",
     "text": [
      "A 4.0\n",
      "B 3.0\n",
      "C 2.0\n",
      "D 3.2\n"
     ]
    }
   ],
   "source": [
    "for i in students_sort_by_name:\n",
    "    print(i.name, i.grade_point_average)"
   ]
  },
  {
   "cell_type": "code",
   "execution_count": 11,
   "metadata": {},
   "outputs": [],
   "source": [
    "# Sort students in-place by grade_point_average\n",
    "students.sort(key = lambda student: student.grade_point_average)"
   ]
  },
  {
   "cell_type": "code",
   "execution_count": 12,
   "metadata": {},
   "outputs": [
    {
     "name": "stdout",
     "output_type": "stream",
     "text": [
      "C 2.0\n",
      "B 3.0\n",
      "D 3.2\n",
      "A 4.0\n"
     ]
    }
   ],
   "source": [
    "for i in students:\n",
    "    print(i.name, i.grade_point_average)"
   ]
  },
  {
   "cell_type": "markdown",
   "metadata": {},
   "source": [
    "The time complexity of any reasonable library sort is O(n logn) for an array with n entries. Most library sorting functions are based on quicksort, which has O(1) space complexity. "
   ]
  },
  {
   "cell_type": "markdown",
   "metadata": {},
   "source": [
    "## 13.1 Compute the intersection of two sorted arrays \n",
    "\n",
    "Write a program which takes as input two sorted arrays, and returns a new array containing elements that are present in both of the input arrays. The input arrays may have duplicate entries but the retunred array should be free of duplicates. For example, the input is <2,3,3,5,5,6,7,7,8,12> and <5,5,6,8,8,9,10,10>, your output should be <5,6,8>.\n",
    "\n",
    "**Sol:** The brute-force algorithm is a \"loop join\", i.e., traversing through all the elements of one array and comparing them to the elements of the other array. Let m and n be the lengths of the two input arrays. The brute-force algorithm has O(mn) time complexity. "
   ]
  },
  {
   "cell_type": "code",
   "execution_count": 13,
   "metadata": {},
   "outputs": [],
   "source": [
    "def intersect_two_sorted_arrays(A : list, B : list) -> list:\n",
    "    return [a for i, a in enumerate(A) if (i == 0 or a!= A[i-1]) and a in B]"
   ]
  },
  {
   "cell_type": "code",
   "execution_count": 14,
   "metadata": {},
   "outputs": [
    {
     "data": {
      "text/plain": [
       "[5, 6, 8]"
      ]
     },
     "execution_count": 14,
     "metadata": {},
     "output_type": "execute_result"
    }
   ],
   "source": [
    "A = [2,3,3,5,5,6,7,7,8,12]\n",
    "B = [5,5,6,8,8,9,10,10]\n",
    "intersect_two_sorted_arrays(A, B)"
   ]
  },
  {
   "cell_type": "code",
   "execution_count": 16,
   "metadata": {},
   "outputs": [],
   "source": [
    "C = [a for a in A if a in B]"
   ]
  },
  {
   "cell_type": "code",
   "execution_count": 17,
   "metadata": {},
   "outputs": [
    {
     "name": "stdout",
     "output_type": "stream",
     "text": [
      "[5, 5, 6, 8]\n"
     ]
    }
   ],
   "source": [
    "print(C)"
   ]
  },
  {
   "cell_type": "markdown",
   "metadata": {},
   "source": [
    "Since both the arrays are sorted, we can make some optimizations. First, we can iterate through the first array and use binary search in array to test if the element is present in the second array. The time complexity is O(m log n), where m is the length of the array being iterated over. We can further improve our run time by choosing the shorter array for the outer loop since if n is much smaller than m, then n log(m) is much smaller than m log(n). "
   ]
  },
  {
   "cell_type": "code",
   "execution_count": 20,
   "metadata": {},
   "outputs": [],
   "source": [
    "import bisect"
   ]
  },
  {
   "cell_type": "code",
   "execution_count": 30,
   "metadata": {},
   "outputs": [],
   "source": [
    "def intersect_two_sorted_arrays_2(A: list, B: list) -> list:\n",
    "    def is_present(k):\n",
    "        i = bisect.bisect_left(B,k)\n",
    "        return i < len(B) and B[i] == k\n",
    "    \n",
    "    return [\n",
    "        a for i, a in enumerate(A)\n",
    "        if (i == 0 or a!= A[i-1]) and is_present(a)\n",
    "    ]"
   ]
  },
  {
   "cell_type": "code",
   "execution_count": 31,
   "metadata": {},
   "outputs": [
    {
     "data": {
      "text/plain": [
       "[5, 6, 8]"
      ]
     },
     "execution_count": 31,
     "metadata": {},
     "output_type": "execute_result"
    }
   ],
   "source": [
    "intersect_two_sorted_arrays_2(A, B)"
   ]
  },
  {
   "cell_type": "code",
   "execution_count": 23,
   "metadata": {},
   "outputs": [
    {
     "data": {
      "text/plain": [
       "0"
      ]
     },
     "execution_count": 23,
     "metadata": {},
     "output_type": "execute_result"
    }
   ],
   "source": [
    "bisect.bisect_left(B,4)"
   ]
  },
  {
   "cell_type": "code",
   "execution_count": 24,
   "metadata": {},
   "outputs": [
    {
     "data": {
      "text/plain": [
       "0"
      ]
     },
     "execution_count": 24,
     "metadata": {},
     "output_type": "execute_result"
    }
   ],
   "source": [
    "bisect.bisect_left(B,5)"
   ]
  },
  {
   "cell_type": "code",
   "execution_count": 25,
   "metadata": {},
   "outputs": [
    {
     "name": "stdout",
     "output_type": "stream",
     "text": [
      "[5, 5, 6, 8, 8, 9, 10, 10]\n"
     ]
    }
   ],
   "source": [
    "print(B)"
   ]
  },
  {
   "cell_type": "code",
   "execution_count": 26,
   "metadata": {},
   "outputs": [
    {
     "data": {
      "text/plain": [
       "2"
      ]
     },
     "execution_count": 26,
     "metadata": {},
     "output_type": "execute_result"
    }
   ],
   "source": [
    "bisect.bisect_left(B,6)"
   ]
  },
  {
   "cell_type": "code",
   "execution_count": 33,
   "metadata": {},
   "outputs": [
    {
     "data": {
      "text/plain": [
       "8"
      ]
     },
     "execution_count": 33,
     "metadata": {},
     "output_type": "execute_result"
    }
   ],
   "source": [
    "bisect.bisect_left(B,11)"
   ]
  },
  {
   "cell_type": "code",
   "execution_count": 34,
   "metadata": {},
   "outputs": [
    {
     "data": {
      "text/plain": [
       "8"
      ]
     },
     "execution_count": 34,
     "metadata": {},
     "output_type": "execute_result"
    }
   ],
   "source": [
    "len(B)"
   ]
  },
  {
   "cell_type": "markdown",
   "metadata": {},
   "source": [
    "This is the best solution if one set is much smaller than the other. However, it is not the best when the array lengths are similar becuase we are not exploiting the fact that both arrays are sorted. We can achieve linear runtime by simultaneously advancing through the two input arrays in increasing order. At each iteraton, if the array elements differ, the smaller one can be eliminated. If they are equal, we add that value to the intersection and advance both. (We handle duplicates by comparing the current lement with the previous one.)"
   ]
  },
  {
   "cell_type": "code",
   "execution_count": 35,
   "metadata": {},
   "outputs": [],
   "source": [
    "def intersect_two_sorted_arrays_3(A : list, B : list) -> list:\n",
    "    i, j, intersection_A_B = 0, 0, []\n",
    "    while i < len(A) and j < len(B):\n",
    "        if A[i] == B[j]:\n",
    "            if i == 0 or A[i] != A[i-1]:\n",
    "                intersection_A_B.append(A[i])\n",
    "            i,j = i+1, j+1\n",
    "        elif A[i] < B[j]:\n",
    "            i += 1\n",
    "        else: # A[i] > B[j]\n",
    "            j += 1\n",
    "    return intersection_A_B"
   ]
  },
  {
   "cell_type": "code",
   "execution_count": 36,
   "metadata": {},
   "outputs": [
    {
     "data": {
      "text/plain": [
       "[5, 6, 8]"
      ]
     },
     "execution_count": 36,
     "metadata": {},
     "output_type": "execute_result"
    }
   ],
   "source": [
    "intersect_two_sorted_arrays_3(A, B)"
   ]
  },
  {
   "cell_type": "markdown",
   "metadata": {},
   "source": [
    "Since we spend O(1) time per input array element, the time complexity for the entire algorithm is O(m+n). "
   ]
  },
  {
   "cell_type": "markdown",
   "metadata": {},
   "source": [
    "## 13.2 Merge two sorted array\n",
    "\n",
    "Write a program which takes as input two sorted arrays of integers, and updates the first to the combined entries of the two arrays in sorted order. Assume the first array has enough empty entries at its end to hold the result. "
   ]
  },
  {
   "cell_type": "code",
   "execution_count": 45,
   "metadata": {},
   "outputs": [],
   "source": [
    "def merge_two_sorted_array(A: list, m: int, B: list, n: int) -> None:\n",
    "    a, b, write_idx = m-1, n-1, m+n -1\n",
    "    while a >= 0 and b>= 0:\n",
    "        if A[a] > B[b]: \n",
    "            A[write_idx] = A[a]\n",
    "            write_idx -= 1\n",
    "            a -= 1\n",
    "        else:\n",
    "            A[write_idx] = B[b]\n",
    "            write_idx -= 1\n",
    "            b -= 1\n",
    "    while b >= 0: # fill up second array\n",
    "        A[write_idx] = B[b]\n",
    "        write_idx -= 1\n",
    "        b -= 1"
   ]
  },
  {
   "cell_type": "code",
   "execution_count": 39,
   "metadata": {},
   "outputs": [],
   "source": [
    "A = [3,13,17,None,None,None,None,None]"
   ]
  },
  {
   "cell_type": "code",
   "execution_count": 40,
   "metadata": {},
   "outputs": [
    {
     "name": "stdout",
     "output_type": "stream",
     "text": [
      "[3, 13, 17, None, None, None, None, None]\n"
     ]
    }
   ],
   "source": [
    "print(A)"
   ]
  },
  {
   "cell_type": "code",
   "execution_count": 41,
   "metadata": {},
   "outputs": [],
   "source": [
    "B = [3,7,11,19]"
   ]
  },
  {
   "cell_type": "code",
   "execution_count": 43,
   "metadata": {},
   "outputs": [],
   "source": [
    "merge_two_sorted_array(A,3,B,4)"
   ]
  },
  {
   "cell_type": "code",
   "execution_count": 44,
   "metadata": {},
   "outputs": [
    {
     "name": "stdout",
     "output_type": "stream",
     "text": [
      "[3, 3, 7, 11, 13, 17, 19, None]\n"
     ]
    }
   ],
   "source": [
    "print(A)"
   ]
  },
  {
   "cell_type": "markdown",
   "metadata": {},
   "source": [
    "The time complexity is O(m + n) and the additional space complexity is O(1). "
   ]
  },
  {
   "cell_type": "markdown",
   "metadata": {},
   "source": [
    "## 13.3 Computing the h-index\n",
    "\n",
    "Given an array of positive integers, find the largest h such taht there are at least h entries in the array that are greater than or equal to h. "
   ]
  },
  {
   "cell_type": "code",
   "execution_count": 46,
   "metadata": {},
   "outputs": [],
   "source": [
    "def h_index(citations: list) -> int:\n",
    "    citations.sort()\n",
    "    n = len(citations)\n",
    "    for i, c in enumerate(citations):\n",
    "        if c >= n -i:\n",
    "            return n- i\n",
    "    return 0"
   ]
  },
  {
   "cell_type": "code",
   "execution_count": 47,
   "metadata": {},
   "outputs": [
    {
     "data": {
      "text/plain": [
       "4"
      ]
     },
     "execution_count": 47,
     "metadata": {},
     "output_type": "execute_result"
    }
   ],
   "source": [
    "citations = [1,4,1,4,2,1,3,5,6]\n",
    "h_index(citations)"
   ]
  },
  {
   "cell_type": "code",
   "execution_count": 48,
   "metadata": {},
   "outputs": [],
   "source": [
    "citations.sort()"
   ]
  },
  {
   "cell_type": "code",
   "execution_count": 49,
   "metadata": {},
   "outputs": [
    {
     "data": {
      "text/plain": [
       "[1, 1, 1, 2, 3, 4, 4, 5, 6]"
      ]
     },
     "execution_count": 49,
     "metadata": {},
     "output_type": "execute_result"
    }
   ],
   "source": [
    "citations"
   ]
  },
  {
   "cell_type": "code",
   "execution_count": 50,
   "metadata": {},
   "outputs": [],
   "source": [
    "n = len(citations)"
   ]
  },
  {
   "cell_type": "code",
   "execution_count": 51,
   "metadata": {},
   "outputs": [
    {
     "data": {
      "text/plain": [
       "9"
      ]
     },
     "execution_count": 51,
     "metadata": {},
     "output_type": "execute_result"
    }
   ],
   "source": [
    "n"
   ]
  },
  {
   "cell_type": "code",
   "execution_count": 52,
   "metadata": {},
   "outputs": [
    {
     "name": "stdout",
     "output_type": "stream",
     "text": [
      "0 1\n",
      "9\n",
      "False\n",
      "1 1\n",
      "8\n",
      "False\n",
      "2 1\n",
      "7\n",
      "False\n",
      "3 2\n",
      "6\n",
      "False\n",
      "4 3\n",
      "5\n",
      "False\n",
      "5 4\n",
      "4\n",
      "True\n",
      "6 4\n",
      "3\n",
      "True\n",
      "7 5\n",
      "2\n",
      "True\n",
      "8 6\n",
      "1\n",
      "True\n"
     ]
    }
   ],
   "source": [
    "for i, c in enumerate(citations):\n",
    "    print(i,c)\n",
    "    print(n-i)\n",
    "    print(c >= n-i)"
   ]
  },
  {
   "cell_type": "markdown",
   "metadata": {},
   "source": [
    "The time complexity is O(n log n) for sorting and the space complexity is O(1)."
   ]
  },
  {
   "cell_type": "markdown",
   "metadata": {},
   "source": [
    "## 13.4 Remove first-name duplicates\n",
    "\n",
    "Design an efficient algorithm for removing all first-name duplicates from an array. For example, if the input is <(Ian, Botham), (David,Gower), (Ian,Bell),(Ian,Chappel)>, one result chould be <(Ian,Bell),(David,Gower)>, <(david,Gower),(Ian,Botham)> would also be acceptable. \n",
    "\n",
    "**Hint:** Brings equal items close together. "
   ]
  },
  {
   "cell_type": "code",
   "execution_count": 53,
   "metadata": {},
   "outputs": [],
   "source": [
    "class Name:\n",
    "    def __init__(self, first_name: str, last_name: str) -> None:\n",
    "        self.first_name, self.last_name = first_name, last_name\n",
    "        \n",
    "    def __eq__(self, other) -> bool:\n",
    "        return self.first_name == other.first_name\n",
    "    \n",
    "    def __lt__(self, other) -> bool:\n",
    "        return (self.first_name < other.first_name\n",
    "               if self.first_name != other.first_name else\n",
    "               self.last_name < other.last_name)\n",
    "    \n",
    "def eliminate_duplicate(A: list) -> None:\n",
    "    A.sort() # Makes identical elements become neighbors \n",
    "    write_idx = 1\n",
    "    for cand in A[1:]:\n",
    "        if cand != A[write_idx - 1]:\n",
    "            A[write_idx] = cand\n",
    "            write_idx += 1\n",
    "    del A[write_idx:]"
   ]
  },
  {
   "cell_type": "code",
   "execution_count": 55,
   "metadata": {},
   "outputs": [],
   "source": [
    "A = Name('Ian', 'Botham')\n",
    "B = Name('David', 'Gower')\n",
    "C = Name('Ian', 'Bell')\n",
    "D = Name('Ian', 'Chappell')\n",
    "E = Name('David', 'Brown')\n",
    "F = Name('Hui', 'Zhong')\n",
    "G = Name('Bao', 'Xiao')\n",
    "Name_list = [A,B,C,D,E,F,G]"
   ]
  },
  {
   "cell_type": "code",
   "execution_count": 56,
   "metadata": {},
   "outputs": [],
   "source": [
    "eliminate_duplicate(Name_list)"
   ]
  },
  {
   "cell_type": "code",
   "execution_count": 57,
   "metadata": {},
   "outputs": [
    {
     "name": "stdout",
     "output_type": "stream",
     "text": [
      "Bao Xiao\n",
      "David Brown\n",
      "Hui Zhong\n",
      "Ian Bell\n"
     ]
    }
   ],
   "source": [
    "for name in Name_list:\n",
    "    print(name.first_name, name.last_name)"
   ]
  },
  {
   "cell_type": "markdown",
   "metadata": {},
   "source": [
    "The time complexity is O(n log n). It uses O(1) additional space. "
   ]
  },
  {
   "cell_type": "markdown",
   "metadata": {},
   "source": [
    "## 13.5 Smallest nonconstructible value \n",
    "\n",
    "Given a set of coins, there are some amounts of change that you may not able to make with them, e.g., you cannot create a change amount greater than the sum of your coins. For example, if your coins are 1,1,1,1,1,5,10,25, then the smallest value of change which cannot be made is 21.\n",
    "\n",
    "Write a program which takes an array of positive integers and returns the smallest number which is not to the sum of a subset of elements of the array. \n",
    "\n",
    "**Sol:** Suppose a collection of numbers can produce every value up to and including V, but not V+1. Consider the effect of adding a new element u to the collection. \n",
    "* If u <= V+1, we can still produce every value up to and including V+u and we cannot product V+u+1;\n",
    "* On the other hand, if u > V+1, then even by adding u to the collection we cannot produce V+1. \n",
    "\n",
    "By sorting the array allows us to stop when we reach a value that is too large to help, since all subsequent values are at least as large as that value. Specifically, let M[i-1] be the maximum constructible amount from the first i elements of the sorted array. If the next array element x is greater than M[i-1]+1, M[i-1] is still the maximum constructible amount, so we stop and return M[i-1]+1 as the result. Otherwise, we set M[i] = M[i-1]+x and continue with element (i+1). "
   ]
  },
  {
   "cell_type": "code",
   "execution_count": 70,
   "metadata": {},
   "outputs": [],
   "source": [
    "def smallest_nonconstructible_value(A: list)-> int:\n",
    "    max_constructible_value = 0\n",
    "    for a in sorted(A):\n",
    "        if a >= max_constructible_value +1:\n",
    "            max_constructible_value += a\n",
    "            print(a)\n",
    "            print(max_constructible_value)\n",
    "        else:\n",
    "            return(max_constructible_value + 1)\n",
    "    return(max_constructible_value + 1)"
   ]
  },
  {
   "cell_type": "code",
   "execution_count": 71,
   "metadata": {},
   "outputs": [
    {
     "name": "stdout",
     "output_type": "stream",
     "text": [
      "1\n",
      "1\n",
      "2\n",
      "3\n"
     ]
    },
    {
     "data": {
      "text/plain": [
       "4"
      ]
     },
     "execution_count": 71,
     "metadata": {},
     "output_type": "execute_result"
    }
   ],
   "source": [
    "A = [12,2,1,15,2,4]\n",
    "smallest_nonconstructible_value(A)"
   ]
  },
  {
   "cell_type": "code",
   "execution_count": 62,
   "metadata": {},
   "outputs": [],
   "source": [
    "A.sort()"
   ]
  },
  {
   "cell_type": "code",
   "execution_count": 63,
   "metadata": {},
   "outputs": [
    {
     "name": "stdout",
     "output_type": "stream",
     "text": [
      "[1, 2, 2, 4, 12, 15]\n"
     ]
    }
   ],
   "source": [
    "print(A)"
   ]
  },
  {
   "cell_type": "markdown",
   "metadata": {},
   "source": [
    "The time complexity as a function of n, the length of the array, is O(n log n) to sort and O(n) to iterate, i.e., O(n log n). "
   ]
  },
  {
   "cell_type": "markdown",
   "metadata": {},
   "source": [
    "## 13.6 Render a calender \n",
    "\n",
    "Consider the problem of designing an online calendaring application. One component of the design is to render the calendar, i.e., display it visually. \n",
    "\n",
    "Write a program that takes a set of events, and determines the maximum number of events that take place concurrently. \n",
    "\n",
    "**Hint:** Focus on endpoints. "
   ]
  },
  {
   "cell_type": "markdown",
   "metadata": {},
   "source": [
    "As we proceed through endpoints we can incrementally track the number of events taking place at that endpoint uising a counter. For each endpoint that is the start of an interval, we increment the counter by 1, and for each endpoint that is the end of an interval, we decrement the counter by 1. The maximum value attained by the counter is maximum number of overlappoing intervals. "
   ]
  },
  {
   "cell_type": "code",
   "execution_count": 72,
   "metadata": {},
   "outputs": [],
   "source": [
    "import collections"
   ]
  },
  {
   "cell_type": "code",
   "execution_count": 75,
   "metadata": {},
   "outputs": [],
   "source": [
    "# Event is a tuple (start_time, end_time)\n",
    "Event = collections.namedtuple('Event', ('start', 'finish'))\n",
    "\n",
    "# Endpoint is a tuple (start_time, 0) or (end_time,1) so that if times are equal, start_time comes first\n",
    "Endpoint = collections.namedtuple('Endpoint', ('time', 'is_not_start'))\n",
    "\n",
    "def find_max_simultaneous_events(A: list) -> int:\n",
    "    # Builds an array of all endpoints\n",
    "    E = [\n",
    "        p for event in A for p in (Endpoint(event.start, True),\n",
    "                                   Endpoint(event.finish, False))\n",
    "    ]\n",
    "    print(E)\n",
    "    # Sorts the endpoint array according to the time, breaking ties by putting start times before end times\n",
    "    E.sort(key = lambda e:(e.time, not e.is_not_start))\n",
    "    print(E)\n",
    "    \n",
    "    # Track the number of simultaneous events, record the maximum number of simultaneous events.\n",
    "    max_num_simultaneous_events, num_simultaneous_events = 0, 0 \n",
    "    for e in E:\n",
    "        if e.is_not_start:\n",
    "            num_simultaneous_events += 1\n",
    "            max_num_simultaneous_events = max(max_num_simultaneous_events,\n",
    "                                             num_simultaneous_events)\n",
    "        else:\n",
    "            num_simultaneous_events -= 1\n",
    "    return max_num_simultaneous_events"
   ]
  },
  {
   "cell_type": "code",
   "execution_count": null,
   "metadata": {},
   "outputs": [],
   "source": []
  }
 ],
 "metadata": {
  "kernelspec": {
   "display_name": "Python 3",
   "language": "python",
   "name": "python3"
  },
  "language_info": {
   "codemirror_mode": {
    "name": "ipython",
    "version": 3
   },
   "file_extension": ".py",
   "mimetype": "text/x-python",
   "name": "python",
   "nbconvert_exporter": "python",
   "pygments_lexer": "ipython3",
   "version": "3.6.5"
  }
 },
 "nbformat": 4,
 "nbformat_minor": 2
}
