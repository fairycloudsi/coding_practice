{
 "cells": [
  {
   "cell_type": "markdown",
   "metadata": {},
   "source": [
    "## String Chains \n",
    "\n",
    "Given an array of words representing your dictionary, you test each word to see if it can be made into another word in the dictionary. This will be done by removing characters one at a time. Eac word represents its own first element of its string chain, so start with a string chain length of 1. Each time you remove a character, increment your string chain by 1. In order to remove a character, the resulting word must be in your original dictionary. Your goal is to determine the longest string chain achievable for a given dictionary. \n",
    "\n",
    "For example, a dictionary [a, and, an ,bear], the word and could be reduced to an and then to a. The single character a cannot be reduced any further as the null string is not in the dictionary. This would be the longest string chain, having a length 3. The word bear cannot be reduced at all. \n",
    "\n",
    "**Function Description**\n",
    "Complete the function longestChain in the editor below. The function must return a single integer representing the length of the longest string chain. "
   ]
  },
  {
   "cell_type": "code",
   "execution_count": null,
   "metadata": {},
   "outputs": [],
   "source": []
  },
  {
   "cell_type": "markdown",
   "metadata": {},
   "source": [
    "## Longest Word in Dictionary \n",
    "\n",
    "Given a list of strings words representing an English Dictionary, find the longest word in words that can be built one character at a time by other words in words. If there is more that one possible answer, return the longest word with the smallest lexicographical order. \n",
    "\n",
    "If there is not answer, return the empty string. \n",
    "\n",
    "**Example 1**:\n",
    "Input:\n",
    "words = [\"w\", \"wo\", \"wor\", \"worl\", \"world\"]\n",
    "Output: \"world\"\n",
    "Explanation:\n",
    "The word \"world\" can be built one character at a time by \"w\", \"wo\", \"wor\", and \"worl\". \n",
    "\n",
    "**Example 2**:\n",
    "Input:\n",
    "words = [\"a\", \"banana\", \"app\", \"appl\", \"ap\", \"apply\", \"apple\"]\n",
    "Output: \"apple\"\n",
    "Explanation:\n",
    "Both \"apply\" and \"apple\" can be built from other words in the dictionary. However, \"apple\" is lexicographlically smaller than \"apply\". "
   ]
  },
  {
   "cell_type": "markdown",
   "metadata": {},
   "source": [
    "### Approach 1: Brute Force \n",
    "\n",
    "**Intuition**:\n",
    "For each word, check if all prefixes word[:k] are present. We can use a Set structure to check this quickly. \n",
    "\n",
    "**Algorithm**:\n",
    "Whenever our found word would be superior, we check if all it's prefixes are present, then replace our answer. \n",
    "\n",
    "Alternatively, we could have sorted the words beforehand, so that we know the word we are considering would be the answer if all it's prefixes are present. "
   ]
  },
  {
   "cell_type": "code",
   "execution_count": 1,
   "metadata": {},
   "outputs": [],
   "source": [
    "def longestWord(words):\n",
    "    ans = \"\"\n",
    "    wordset = set(words)\n",
    "    for word in words:\n",
    "        if len(word) > len(ans) or len(word) == len(ans) and word < ans:\n",
    "            if all(word[:k] in wordset for k in range(1,len(word))):\n",
    "                ans = word\n",
    "    return ans "
   ]
  },
  {
   "cell_type": "code",
   "execution_count": 2,
   "metadata": {},
   "outputs": [
    {
     "data": {
      "text/plain": [
       "'world'"
      ]
     },
     "execution_count": 2,
     "metadata": {},
     "output_type": "execute_result"
    }
   ],
   "source": [
    "words = [\"w\", \"wo\", \"wor\", \"worl\", \"world\"]\n",
    "\n",
    "longestWord(words)"
   ]
  },
  {
   "cell_type": "code",
   "execution_count": 3,
   "metadata": {},
   "outputs": [
    {
     "data": {
      "text/plain": [
       "True"
      ]
     },
     "execution_count": 3,
     "metadata": {},
     "output_type": "execute_result"
    }
   ],
   "source": [
    "\"apple\" < \"apply\""
   ]
  },
  {
   "cell_type": "code",
   "execution_count": 4,
   "metadata": {},
   "outputs": [],
   "source": [
    "words = [\"a\", \"ap\", \"apple\", \"apply\", \"app\", \"appl\"]"
   ]
  },
  {
   "cell_type": "code",
   "execution_count": 5,
   "metadata": {},
   "outputs": [
    {
     "data": {
      "text/plain": [
       "'apple'"
      ]
     },
     "execution_count": 5,
     "metadata": {},
     "output_type": "execute_result"
    }
   ],
   "source": [
    "longestWord(words)"
   ]
  },
  {
   "cell_type": "code",
   "execution_count": 7,
   "metadata": {},
   "outputs": [],
   "source": [
    "words = [\"a\", \"ap\",\"apply\", \"app\", \"appl\"]"
   ]
  },
  {
   "cell_type": "code",
   "execution_count": 8,
   "metadata": {},
   "outputs": [
    {
     "data": {
      "text/plain": [
       "'apply'"
      ]
     },
     "execution_count": 8,
     "metadata": {},
     "output_type": "execute_result"
    }
   ],
   "source": [
    "longestWord(words)"
   ]
  },
  {
   "cell_type": "markdown",
   "metadata": {},
   "source": [
    "**Complexity Analysis**:\n",
    "\n",
    "* Time complexity: $O(\\sum w_i^2)$, where $w_i$ is the length of words[i]. Checking whether all prefixes of words[i] are in the set is $O(\\sum w_i^2)$. \n",
    "\n",
    "* Space complexity: $O(\\sum w_i^2)$. "
   ]
  },
  {
   "cell_type": "markdown",
   "metadata": {},
   "source": [
    "### Approach 2: Trie + Depth-First Search \n",
    "\n",
    "**Intuition**:\n",
    "As prefixes of strings are involved, this is usually a natural fit for a trie (a prefix tree.)\n",
    "\n",
    "**Algorithm**:\n",
    "Put every word in a trie, then depth-first-search from the start of the trie, only searching nodes that ended a word. Every node found (except the root, which is a special case) then represents a word with all it's prefixes present. We take the best such word. \n",
    "\n",
    "In Python, we showcase a method using defaultdict, while in Java, we stick to a more general object-oriented approach. "
   ]
  },
  {
   "cell_type": "code",
   "execution_count": 17,
   "metadata": {},
   "outputs": [],
   "source": [
    "import collections\n",
    "from functools import reduce "
   ]
  },
  {
   "cell_type": "code",
   "execution_count": 20,
   "metadata": {},
   "outputs": [],
   "source": [
    "def longestWord_2(words):\n",
    "    Trie = lambda: collections.defaultdict(Trie)\n",
    "    trie = Trie()\n",
    "    END = True\n",
    "    \n",
    "    for i, word in enumerate(words):\n",
    "        reduce(dict.__getitem__, word, trie)[END] = i\n",
    "    \n",
    "    stack = trie.values()\n",
    "    ans = \"\"\n",
    "    while stack:\n",
    "        cur = stack.pop()\n",
    "        if END in cur:\n",
    "            word = words[cur[END]]\n",
    "            if len(word) > len(ans) or len(word) == len(ans) and word < ans:\n",
    "                ans = word\n",
    "            stack.extend([cur[letter] for letter in cur if letter != END])\n",
    "            \n",
    "    return ans "
   ]
  },
  {
   "cell_type": "code",
   "execution_count": 21,
   "metadata": {},
   "outputs": [
    {
     "ename": "AttributeError",
     "evalue": "'dict_values' object has no attribute 'pop'",
     "output_type": "error",
     "traceback": [
      "\u001b[0;31m---------------------------------------------------------------------------\u001b[0m",
      "\u001b[0;31mAttributeError\u001b[0m                            Traceback (most recent call last)",
      "\u001b[0;32m<ipython-input-21-34ae8571d89a>\u001b[0m in \u001b[0;36m<module>\u001b[0;34m\u001b[0m\n\u001b[0;32m----> 1\u001b[0;31m \u001b[0mlongestWord_2\u001b[0m\u001b[0;34m(\u001b[0m\u001b[0mwords\u001b[0m\u001b[0;34m)\u001b[0m\u001b[0;34m\u001b[0m\u001b[0;34m\u001b[0m\u001b[0m\n\u001b[0m",
      "\u001b[0;32m<ipython-input-20-251f104089ff>\u001b[0m in \u001b[0;36mlongestWord_2\u001b[0;34m(words)\u001b[0m\n\u001b[1;32m     10\u001b[0m     \u001b[0mans\u001b[0m \u001b[0;34m=\u001b[0m \u001b[0;34m\"\"\u001b[0m\u001b[0;34m\u001b[0m\u001b[0;34m\u001b[0m\u001b[0m\n\u001b[1;32m     11\u001b[0m     \u001b[0;32mwhile\u001b[0m \u001b[0mstack\u001b[0m\u001b[0;34m:\u001b[0m\u001b[0;34m\u001b[0m\u001b[0;34m\u001b[0m\u001b[0m\n\u001b[0;32m---> 12\u001b[0;31m         \u001b[0mcur\u001b[0m \u001b[0;34m=\u001b[0m \u001b[0mstack\u001b[0m\u001b[0;34m.\u001b[0m\u001b[0mpop\u001b[0m\u001b[0;34m(\u001b[0m\u001b[0;34m)\u001b[0m\u001b[0;34m\u001b[0m\u001b[0;34m\u001b[0m\u001b[0m\n\u001b[0m\u001b[1;32m     13\u001b[0m         \u001b[0;32mif\u001b[0m \u001b[0mEND\u001b[0m \u001b[0;32min\u001b[0m \u001b[0mcur\u001b[0m\u001b[0;34m:\u001b[0m\u001b[0;34m\u001b[0m\u001b[0;34m\u001b[0m\u001b[0m\n\u001b[1;32m     14\u001b[0m             \u001b[0mword\u001b[0m \u001b[0;34m=\u001b[0m \u001b[0mwords\u001b[0m\u001b[0;34m[\u001b[0m\u001b[0mcur\u001b[0m\u001b[0;34m[\u001b[0m\u001b[0mEND\u001b[0m\u001b[0;34m]\u001b[0m\u001b[0;34m]\u001b[0m\u001b[0;34m\u001b[0m\u001b[0;34m\u001b[0m\u001b[0m\n",
      "\u001b[0;31mAttributeError\u001b[0m: 'dict_values' object has no attribute 'pop'"
     ]
    }
   ],
   "source": [
    "longestWord_2(words)"
   ]
  },
  {
   "cell_type": "code",
   "execution_count": 22,
   "metadata": {},
   "outputs": [],
   "source": [
    "# examples of default_dict \n",
    "\n",
    "s = [('yellow',1), ('blue', 2), ('yellow', 3), ('blue', 4), ('red',1)]"
   ]
  },
  {
   "cell_type": "code",
   "execution_count": 24,
   "metadata": {},
   "outputs": [],
   "source": [
    "from collections import defaultdict\n",
    "d = defaultdict(list)"
   ]
  },
  {
   "cell_type": "code",
   "execution_count": 25,
   "metadata": {},
   "outputs": [],
   "source": [
    "for k,v in s:\n",
    "    d[k].append(v)"
   ]
  },
  {
   "cell_type": "code",
   "execution_count": 26,
   "metadata": {},
   "outputs": [
    {
     "data": {
      "text/plain": [
       "defaultdict(list, {'yellow': [1, 3], 'blue': [2, 4], 'red': [1]})"
      ]
     },
     "execution_count": 26,
     "metadata": {},
     "output_type": "execute_result"
    }
   ],
   "source": [
    "d"
   ]
  },
  {
   "cell_type": "markdown",
   "metadata": {},
   "source": [
    "When each key is encountered for the first time, it is not already in the mapping; so an entry is automaticaly created using the default_factory function which returns an empty list. The list.append() operation then attaches the value to the new list. When keys are encountered again, the look-up proceeds normally (returning the list for that key) and the list.append() operation. adds anohter value to the list. This technique is simpler and faster than an equivalent technique using dict.setdefault():"
   ]
  },
  {
   "cell_type": "code",
   "execution_count": 27,
   "metadata": {},
   "outputs": [],
   "source": [
    "d = {}\n",
    "for k,v in s :\n",
    "    d.setdefault(k, []).append(v)"
   ]
  },
  {
   "cell_type": "code",
   "execution_count": 28,
   "metadata": {},
   "outputs": [
    {
     "data": {
      "text/plain": [
       "{'yellow': [1, 3], 'blue': [2, 4], 'red': [1]}"
      ]
     },
     "execution_count": 28,
     "metadata": {},
     "output_type": "execute_result"
    }
   ],
   "source": [
    "d"
   ]
  },
  {
   "cell_type": "code",
   "execution_count": 29,
   "metadata": {},
   "outputs": [
    {
     "data": {
      "text/plain": [
       "dict_items([('yellow', [1, 3]), ('blue', [2, 4]), ('red', [1])])"
      ]
     },
     "execution_count": 29,
     "metadata": {},
     "output_type": "execute_result"
    }
   ],
   "source": [
    "d.items()"
   ]
  },
  {
   "cell_type": "markdown",
   "metadata": {},
   "source": [
    "Setting the default_factory to int makes the defaultdict useful for counting (like a bag or multiset in other languages):"
   ]
  },
  {
   "cell_type": "code",
   "execution_count": 30,
   "metadata": {},
   "outputs": [],
   "source": [
    "s = 'mississippi'\n",
    "d = defaultdict(int)\n",
    "for k in s:\n",
    "    d[k] += 1 "
   ]
  },
  {
   "cell_type": "code",
   "execution_count": 31,
   "metadata": {},
   "outputs": [
    {
     "data": {
      "text/plain": [
       "dict_items([('m', 1), ('i', 4), ('s', 4), ('p', 2)])"
      ]
     },
     "execution_count": 31,
     "metadata": {},
     "output_type": "execute_result"
    }
   ],
   "source": [
    "d.items()"
   ]
  },
  {
   "cell_type": "markdown",
   "metadata": {},
   "source": [
    "When a letter is first encountered, it is missing from the mapping, so the default_factory function calls int() to supply count of zero. The increment operation then builds up the count for each letter. \n",
    "\n",
    "The function int() which always returns zero is just a special case of constant functions. A faster and more flexible way to create constant functions is to use lambda function which can supply any constant value (not just zero):"
   ]
  },
  {
   "cell_type": "code",
   "execution_count": 33,
   "metadata": {},
   "outputs": [],
   "source": [
    "def constant_factory(value):\n",
    "    return lambda: value "
   ]
  },
  {
   "cell_type": "code",
   "execution_count": 34,
   "metadata": {},
   "outputs": [
    {
     "data": {
      "text/plain": [
       "<function __main__.constant_factory.<locals>.<lambda>()>"
      ]
     },
     "execution_count": 34,
     "metadata": {},
     "output_type": "execute_result"
    }
   ],
   "source": [
    "constant_factory(5)"
   ]
  },
  {
   "cell_type": "code",
   "execution_count": 35,
   "metadata": {},
   "outputs": [
    {
     "name": "stdout",
     "output_type": "stream",
     "text": [
      "XiaoWang ran to <Wuhan>\n"
     ]
    }
   ],
   "source": [
    "d = defaultdict(constant_factory('<Wuhan>'))\n",
    "d.update(name = 'XiaoWang', action = 'ran')\n",
    "print(\"%(name)s %(action)s to %(object)s\" %d)"
   ]
  },
  {
   "cell_type": "markdown",
   "metadata": {},
   "source": [
    "Setting the default_factory to set makes the defaultdict useful for building a dictionary of sets:"
   ]
  },
  {
   "cell_type": "code",
   "execution_count": 36,
   "metadata": {},
   "outputs": [],
   "source": [
    "s = [('red',1), ('blue',2), ('red',3), ('blue', 4), ('red',1), ('blue', 4)]\n",
    "d = defaultdict(set)\n",
    "\n",
    "for k,v in s:\n",
    "    d[k].add(v)"
   ]
  },
  {
   "cell_type": "code",
   "execution_count": 37,
   "metadata": {},
   "outputs": [
    {
     "data": {
      "text/plain": [
       "dict_items([('red', {1, 3}), ('blue', {2, 4})])"
      ]
     },
     "execution_count": 37,
     "metadata": {},
     "output_type": "execute_result"
    }
   ],
   "source": [
    "d.items()"
   ]
  },
  {
   "cell_type": "markdown",
   "metadata": {},
   "source": [
    "## Valid IP address \n",
    "\n",
    "Write a function to check whether an input string is a valid IPv4 address or IPv6 address or neither.\n",
    "\n",
    "IPv4 addresses are canonically represented in dot-decimal notation, which consists of four decimal numbers, each ranging from 0 to 255, separated by dots (\".\"), e.g.,172.16.254.1;\n",
    "\n",
    "Besides, leading zeros in the IPv4 is invalid. For example, the address 172.16.254.01 is invalid.\n",
    "\n",
    "IPv6 addresses are represented as eight groups of four hexadecimal digits, each group representing 16 bits. The groups are separated by colons (\":\"). For example, the address 2001:0db8:85a3:0000:0000:8a2e:0370:7334 is a valid one. Also, we could omit some leading zeros among four hexadecimal digits and some low-case characters in the address to upper-case ones, so 2001:db8:85a3:0:0:8A2E:0370:7334 is also a valid IPv6 address(Omit leading zeros and using upper cases).\n",
    "\n",
    "However, we don't replace a consecutive group of zero value with a single empty group using two consecutive colons (::) to pursue simplicity. For example, 2001:0db8:85a3::8A2E:0370:7334 is an invalid IPv6 address.\n",
    "\n",
    "Besides, extra leading zeros in the IPv6 is also invalid. For example, the address 02001:0db8:85a3:0000:0000:8a2e:0370:7334 is invalid.\n",
    "\n",
    "Note: You may assume there is no extra space or special characters in the input string.\n",
    "\n",
    "Example 1:\n",
    "\n",
    "Input: \"172.16.254.1\"\n",
    "\n",
    "Output: \"IPv4\"\n",
    "\n",
    "Explanation: This is a valid IPv4 address, return \"IPv4\".\n",
    "Example 2:\n",
    "\n",
    "Input: \"2001:0db8:85a3:0:0:8A2E:0370:7334\"\n",
    "\n",
    "Output: \"IPv6\"\n",
    "\n",
    "Explanation: This is a valid IPv6 address, return \"IPv6\".\n",
    "Example 3:\n",
    "\n",
    "Input: \"256.256.256.256\"\n",
    "\n",
    "Output: \"Neither\"\n",
    "\n",
    "Explanation: This is neither a IPv4 address nor a IPv6 address."
   ]
  },
  {
   "cell_type": "code",
   "execution_count": 1,
   "metadata": {},
   "outputs": [],
   "source": [
    "# Divide and Conquer \n",
    "\n",
    "def isvalid_IPv4(IP:str) -> str:\n",
    "    nums = IP.split('.')\n",
    "    print(nums)\n",
    "    i = 1\n",
    "    for x in nums:\n",
    "        print(x)\n",
    "        if len(x) == 0 or len(x) > 3:\n",
    "            print('stop at clause 1'+ str(i))\n",
    "            return \"Neither\"\n",
    "        if (x[0] == '0' and len(x) != 1) or not x.isdigit() or int(x) > 255:\n",
    "            print('stop at clause 2' + str(i))\n",
    "            return \"Neither\"\n",
    "        i += 1\n",
    "            \n",
    "    return \"IPv4\"\n",
    "\n",
    "def isvalid_IPv6(IP:str) -> str:\n",
    "    nums = IP.split(':')\n",
    "    for x in nums:\n",
    "        if len(x) == 0 or len(x) > 4 or not all(c in hexdigits for c in x):\n",
    "            return \"Neither\"\n",
    "    return \"IPv6\"\n",
    "\n",
    "\n",
    "def validIPAddress(IP:str) -> str:\n",
    "    if IP.count('.') == 3:\n",
    "        return isvalid_IPv4(IP)\n",
    "    elif IP.count(\":\") == 7:\n",
    "        return isvalid_IPv6(IP)\n",
    "    else:\n",
    "        return \"Neither\""
   ]
  },
  {
   "cell_type": "code",
   "execution_count": 2,
   "metadata": {},
   "outputs": [
    {
     "name": "stdout",
     "output_type": "stream",
     "text": [
      "['172', '16', '254', '1']\n",
      "172\n",
      "16\n",
      "254\n",
      "1\n"
     ]
    },
    {
     "data": {
      "text/plain": [
       "'IPv4'"
      ]
     },
     "execution_count": 2,
     "metadata": {},
     "output_type": "execute_result"
    }
   ],
   "source": [
    "IP = \"172.16.254.1\"\n",
    "validIPAddress(IP)"
   ]
  },
  {
   "cell_type": "code",
   "execution_count": 11,
   "metadata": {},
   "outputs": [],
   "source": [
    "x = '254'"
   ]
  },
  {
   "cell_type": "code",
   "execution_count": 12,
   "metadata": {},
   "outputs": [
    {
     "data": {
      "text/plain": [
       "False"
      ]
     },
     "execution_count": 12,
     "metadata": {},
     "output_type": "execute_result"
    }
   ],
   "source": [
    "(x[0] == '0' and len(x) != 1)"
   ]
  },
  {
   "cell_type": "code",
   "execution_count": 13,
   "metadata": {},
   "outputs": [
    {
     "data": {
      "text/plain": [
       "False"
      ]
     },
     "execution_count": 13,
     "metadata": {},
     "output_type": "execute_result"
    }
   ],
   "source": [
    "not x.isdigit() "
   ]
  },
  {
   "cell_type": "code",
   "execution_count": 3,
   "metadata": {},
   "outputs": [
    {
     "name": "stdout",
     "output_type": "stream",
     "text": [
      "['1', '0', '1', '']\n",
      "1\n",
      "0\n",
      "1\n",
      "\n",
      "stop at clause 14\n"
     ]
    },
    {
     "data": {
      "text/plain": [
       "'Neither'"
      ]
     },
     "execution_count": 3,
     "metadata": {},
     "output_type": "execute_result"
    }
   ],
   "source": [
    "IP = '1.0.1.'\n",
    "\n",
    "validIPAddress(IP)"
   ]
  },
  {
   "cell_type": "code",
   "execution_count": 6,
   "metadata": {},
   "outputs": [],
   "source": [
    "dp = [[0]*5]*5"
   ]
  },
  {
   "cell_type": "code",
   "execution_count": 7,
   "metadata": {},
   "outputs": [
    {
     "name": "stdout",
     "output_type": "stream",
     "text": [
      "[[0, 0, 0, 0, 0], [0, 0, 0, 0, 0], [0, 0, 0, 0, 0], [0, 0, 0, 0, 0], [0, 0, 0, 0, 0]]\n"
     ]
    }
   ],
   "source": [
    "print(dp)"
   ]
  },
  {
   "cell_type": "code",
   "execution_count": 8,
   "metadata": {},
   "outputs": [
    {
     "data": {
      "text/plain": [
       "[0, 0, 0, 0, 0]"
      ]
     },
     "execution_count": 8,
     "metadata": {},
     "output_type": "execute_result"
    }
   ],
   "source": [
    "dp[0]"
   ]
  },
  {
   "cell_type": "code",
   "execution_count": 9,
   "metadata": {},
   "outputs": [],
   "source": [
    "matrix = [[1,0,0,1,1], [1,1,1,1,1], [0,1,1,0,1], [0,0,0,1,1], [0,0,0,0,1]]"
   ]
  },
  {
   "cell_type": "code",
   "execution_count": 10,
   "metadata": {},
   "outputs": [],
   "source": [
    "dp[0] = matrix[0]"
   ]
  },
  {
   "cell_type": "code",
   "execution_count": 11,
   "metadata": {},
   "outputs": [
    {
     "data": {
      "text/plain": [
       "[1, 0, 0, 1, 1]"
      ]
     },
     "execution_count": 11,
     "metadata": {},
     "output_type": "execute_result"
    }
   ],
   "source": [
    "dp[0]"
   ]
  },
  {
   "cell_type": "code",
   "execution_count": 12,
   "metadata": {},
   "outputs": [],
   "source": [
    "dp[:][0] = matrix[:][0]"
   ]
  },
  {
   "cell_type": "code",
   "execution_count": 13,
   "metadata": {},
   "outputs": [
    {
     "data": {
      "text/plain": [
       "[[1, 0, 0, 1, 1],\n",
       " [0, 0, 0, 0, 0],\n",
       " [0, 0, 0, 0, 0],\n",
       " [0, 0, 0, 0, 0],\n",
       " [0, 0, 0, 0, 0]]"
      ]
     },
     "execution_count": 13,
     "metadata": {},
     "output_type": "execute_result"
    }
   ],
   "source": [
    "dp"
   ]
  },
  {
   "cell_type": "code",
   "execution_count": 14,
   "metadata": {},
   "outputs": [
    {
     "data": {
      "text/plain": [
       "[[1, 0, 0, 1, 1],\n",
       " [1, 1, 1, 1, 1],\n",
       " [0, 1, 1, 0, 1],\n",
       " [0, 0, 0, 1, 1],\n",
       " [0, 0, 0, 0, 1]]"
      ]
     },
     "execution_count": 14,
     "metadata": {},
     "output_type": "execute_result"
    }
   ],
   "source": [
    "matrix"
   ]
  },
  {
   "cell_type": "code",
   "execution_count": 15,
   "metadata": {},
   "outputs": [
    {
     "data": {
      "text/plain": [
       "[1, 0, 0, 1, 1]"
      ]
     },
     "execution_count": 15,
     "metadata": {},
     "output_type": "execute_result"
    }
   ],
   "source": [
    "matrix[:][0]"
   ]
  },
  {
   "cell_type": "code",
   "execution_count": 16,
   "metadata": {},
   "outputs": [
    {
     "data": {
      "text/plain": [
       "[1, 0, 0, 1, 1]"
      ]
     },
     "execution_count": 16,
     "metadata": {},
     "output_type": "execute_result"
    }
   ],
   "source": [
    "matrix[0]"
   ]
  },
  {
   "cell_type": "code",
   "execution_count": 20,
   "metadata": {},
   "outputs": [
    {
     "name": "stdout",
     "output_type": "stream",
     "text": [
      "5\n",
      "4\n",
      "3\n",
      "2\n"
     ]
    }
   ],
   "source": [
    "for j in range(5,1,-1):\n",
    "    print(j)"
   ]
  },
  {
   "cell_type": "code",
   "execution_count": 24,
   "metadata": {},
   "outputs": [],
   "source": [
    "dp = [ [matrix[i][j] for i in range(5)] for j in range(5)]"
   ]
  },
  {
   "cell_type": "code",
   "execution_count": 25,
   "metadata": {},
   "outputs": [
    {
     "data": {
      "text/plain": [
       "[[1, 1, 0, 0, 0],\n",
       " [0, 1, 1, 0, 0],\n",
       " [0, 1, 1, 0, 0],\n",
       " [1, 1, 0, 1, 0],\n",
       " [1, 1, 1, 1, 1]]"
      ]
     },
     "execution_count": 25,
     "metadata": {},
     "output_type": "execute_result"
    }
   ],
   "source": [
    "dp"
   ]
  },
  {
   "cell_type": "code",
   "execution_count": 26,
   "metadata": {},
   "outputs": [],
   "source": [
    "matrix = [[i*j for i in range(1,6)] for j in range(1,4)]"
   ]
  },
  {
   "cell_type": "code",
   "execution_count": 27,
   "metadata": {},
   "outputs": [
    {
     "data": {
      "text/plain": [
       "[[1, 2, 3, 4, 5], [2, 4, 6, 8, 10], [3, 6, 9, 12, 15]]"
      ]
     },
     "execution_count": 27,
     "metadata": {},
     "output_type": "execute_result"
    }
   ],
   "source": [
    "matrix "
   ]
  },
  {
   "cell_type": "code",
   "execution_count": 28,
   "metadata": {},
   "outputs": [],
   "source": [
    "n = len(matrix)\n",
    "\n",
    "m = len(matrix[0])"
   ]
  },
  {
   "cell_type": "code",
   "execution_count": 29,
   "metadata": {},
   "outputs": [
    {
     "data": {
      "text/plain": [
       "3"
      ]
     },
     "execution_count": 29,
     "metadata": {},
     "output_type": "execute_result"
    }
   ],
   "source": [
    "n"
   ]
  },
  {
   "cell_type": "code",
   "execution_count": 30,
   "metadata": {},
   "outputs": [
    {
     "data": {
      "text/plain": [
       "5"
      ]
     },
     "execution_count": 30,
     "metadata": {},
     "output_type": "execute_result"
    }
   ],
   "source": [
    "m"
   ]
  },
  {
   "cell_type": "code",
   "execution_count": 68,
   "metadata": {},
   "outputs": [],
   "source": [
    "dp = [[0]*m]*n"
   ]
  },
  {
   "cell_type": "code",
   "execution_count": 69,
   "metadata": {},
   "outputs": [
    {
     "data": {
      "text/plain": [
       "[[0, 0, 0, 0, 0], [0, 0, 0, 0, 0], [0, 0, 0, 0, 0]]"
      ]
     },
     "execution_count": 69,
     "metadata": {},
     "output_type": "execute_result"
    }
   ],
   "source": [
    "dp"
   ]
  },
  {
   "cell_type": "code",
   "execution_count": 70,
   "metadata": {},
   "outputs": [],
   "source": [
    "dp[0][0:m] = matrix[0][0:m]"
   ]
  },
  {
   "cell_type": "code",
   "execution_count": 71,
   "metadata": {},
   "outputs": [
    {
     "data": {
      "text/plain": [
       "[[1, 2, 3, 4, 5], [1, 2, 3, 4, 5], [1, 2, 3, 4, 5]]"
      ]
     },
     "execution_count": 71,
     "metadata": {},
     "output_type": "execute_result"
    }
   ],
   "source": [
    "dp"
   ]
  },
  {
   "cell_type": "code",
   "execution_count": 72,
   "metadata": {},
   "outputs": [],
   "source": [
    "dp[0:n][0] = matrix[0:n][0]"
   ]
  },
  {
   "cell_type": "code",
   "execution_count": 73,
   "metadata": {},
   "outputs": [
    {
     "data": {
      "text/plain": [
       "[[1, 2, 3, 4, 5], [1, 2, 3, 4, 5], [1, 2, 3, 4, 5]]"
      ]
     },
     "execution_count": 73,
     "metadata": {},
     "output_type": "execute_result"
    }
   ],
   "source": [
    "dp"
   ]
  },
  {
   "cell_type": "code",
   "execution_count": 41,
   "metadata": {},
   "outputs": [
    {
     "data": {
      "text/plain": [
       "1"
      ]
     },
     "execution_count": 41,
     "metadata": {},
     "output_type": "execute_result"
    }
   ],
   "source": [
    "matrix[0][0]"
   ]
  },
  {
   "cell_type": "code",
   "execution_count": 42,
   "metadata": {},
   "outputs": [
    {
     "data": {
      "text/plain": [
       "2"
      ]
     },
     "execution_count": 42,
     "metadata": {},
     "output_type": "execute_result"
    }
   ],
   "source": [
    "matrix[0][1]"
   ]
  },
  {
   "cell_type": "code",
   "execution_count": 43,
   "metadata": {},
   "outputs": [
    {
     "data": {
      "text/plain": [
       "3"
      ]
     },
     "execution_count": 43,
     "metadata": {},
     "output_type": "execute_result"
    }
   ],
   "source": [
    "matrix[0][2]"
   ]
  },
  {
   "cell_type": "code",
   "execution_count": 44,
   "metadata": {},
   "outputs": [
    {
     "data": {
      "text/plain": [
       "4"
      ]
     },
     "execution_count": 44,
     "metadata": {},
     "output_type": "execute_result"
    }
   ],
   "source": [
    "matrix[0][3]"
   ]
  },
  {
   "cell_type": "code",
   "execution_count": 75,
   "metadata": {},
   "outputs": [
    {
     "data": {
      "text/plain": [
       "1"
      ]
     },
     "execution_count": 75,
     "metadata": {},
     "output_type": "execute_result"
    }
   ],
   "source": [
    "int('1') - int('0')"
   ]
  },
  {
   "cell_type": "code",
   "execution_count": 135,
   "metadata": {},
   "outputs": [],
   "source": [
    "matrix = [ ['1','0','1','0','0'],\n",
    "           ['1', '0', '1', '1', '1'],\n",
    "           ['1', '1', '1', '1', '1'],\n",
    "           ['1', '0', '0', '1', '0'] ]"
   ]
  },
  {
   "cell_type": "code",
   "execution_count": 136,
   "metadata": {},
   "outputs": [
    {
     "data": {
      "text/plain": [
       "5"
      ]
     },
     "execution_count": 136,
     "metadata": {},
     "output_type": "execute_result"
    }
   ],
   "source": [
    "n = len(matrix)\n",
    "m = len(matrix[0])\n",
    "n\n",
    "m"
   ]
  },
  {
   "cell_type": "code",
   "execution_count": 137,
   "metadata": {},
   "outputs": [],
   "source": [
    "dp = [[int(matrix[j][i]) for i in range(m)] for j in range(n)]"
   ]
  },
  {
   "cell_type": "code",
   "execution_count": 138,
   "metadata": {},
   "outputs": [
    {
     "data": {
      "text/plain": [
       "[[1, 0, 1, 0, 0], [1, 0, 1, 1, 1], [1, 1, 1, 1, 1], [1, 0, 0, 1, 0]]"
      ]
     },
     "execution_count": 138,
     "metadata": {},
     "output_type": "execute_result"
    }
   ],
   "source": [
    "dp"
   ]
  },
  {
   "cell_type": "code",
   "execution_count": 139,
   "metadata": {},
   "outputs": [],
   "source": [
    "for j in range(1,n):\n",
    "    dp[j][0] = dp[j-1][0] + int(matrix[j][0])\n",
    "    \n",
    "for i in range(1,m):\n",
    "    dp[0][i] = dp[0][i-1] + int(matrix[0][i])"
   ]
  },
  {
   "cell_type": "code",
   "execution_count": 140,
   "metadata": {},
   "outputs": [
    {
     "data": {
      "text/plain": [
       "[[1, 1, 2, 2, 2], [2, 0, 1, 1, 1], [3, 1, 1, 1, 1], [4, 0, 0, 1, 0]]"
      ]
     },
     "execution_count": 140,
     "metadata": {},
     "output_type": "execute_result"
    }
   ],
   "source": [
    "dp"
   ]
  },
  {
   "cell_type": "code",
   "execution_count": 141,
   "metadata": {},
   "outputs": [],
   "source": [
    "for j in range(1,n):\n",
    "    for i in range(1,m):\n",
    "        dp[j][i] = dp[j-1][i] + dp[j][i-1] - dp[j-1][i-1] + int(matrix[j][i])"
   ]
  },
  {
   "cell_type": "code",
   "execution_count": 142,
   "metadata": {},
   "outputs": [
    {
     "data": {
      "text/plain": [
       "[[1, 1, 2, 2, 2], [2, 2, 4, 5, 6], [3, 4, 7, 9, 11], [4, 5, 8, 11, 13]]"
      ]
     },
     "execution_count": 142,
     "metadata": {},
     "output_type": "execute_result"
    }
   ],
   "source": [
    "dp"
   ]
  },
  {
   "cell_type": "code",
   "execution_count": 134,
   "metadata": {},
   "outputs": [
    {
     "data": {
      "text/plain": [
       "[['1', '0', '1', '0', '0'],\n",
       " ['1', '0', '1', '1', '1'],\n",
       " ['1', '1', '1', '1', '1'],\n",
       " ['1', '0', '0', '1', '0']]"
      ]
     },
     "execution_count": 134,
     "metadata": {},
     "output_type": "execute_result"
    }
   ],
   "source": [
    "matrix"
   ]
  },
  {
   "cell_type": "code",
   "execution_count": 143,
   "metadata": {},
   "outputs": [],
   "source": [
    "ans = 0\n",
    "for j in range(1,n):\n",
    "    for i in range(1,m):\n",
    "        for size in range(min(n-j, m-i)-1,0,-1):\n",
    "            temp = dp[j + size -1][ i+ size -1] - dp[j-1][i+size -1] - dp[j + size -1][i -1] + dp[j-1][i-1]\n",
    "            if temp == size*size:\n",
    "                ans = max(ans, temp)"
   ]
  },
  {
   "cell_type": "code",
   "execution_count": 144,
   "metadata": {},
   "outputs": [
    {
     "data": {
      "text/plain": [
       "4"
      ]
     },
     "execution_count": 144,
     "metadata": {},
     "output_type": "execute_result"
    }
   ],
   "source": [
    "ans"
   ]
  },
  {
   "cell_type": "code",
   "execution_count": 168,
   "metadata": {},
   "outputs": [],
   "source": [
    "def maximalSquare( matrix: list) -> int:\n",
    "    ans = 0\n",
    "\n",
    "\n",
    "    n = len(matrix)\n",
    "    m = len(matrix[0])\n",
    "    \n",
    "    print('n is '+ str(n) + ' and m is '+ str(m))\n",
    "\n",
    "    if n == 0:\n",
    "        print('n is 0')\n",
    "        return ans\n",
    "    \n",
    "\n",
    "    dp = [[int(matrix[j][i]) for i in range(m)] for j in range(n)]\n",
    "    \n",
    "    print(dp)\n",
    "\n",
    "\n",
    "    for j in range(1,n):\n",
    "         dp[j][0] = dp[j-1][0] + int(matrix[j][0])\n",
    "\n",
    "    for i in range(1,m):\n",
    "         dp[0][i] = dp[0][i-1] + int(matrix[0][i])\n",
    "\n",
    "    for j in range(1,n):\n",
    "        for i in range(1,m):\n",
    "            dp[j][i] = dp[j-1][i] + dp[j][i-1] - dp[j-1][i-1] + int(matrix[j][i])\n",
    "    \n",
    "    print(dp)\n",
    "    \n",
    "    for j in range(1,n):\n",
    "        for i in range(1,m):\n",
    "            for size in range(min(n-j, m-i)-1,0,-1):\n",
    "                temp = dp[j + size -1][ i+ size -1] - dp[j-1][i+size -1] - dp[j + size -1][i -1] + dp[j-1][i-1]\n",
    "                if temp == size*size:\n",
    "                    print(size)\n",
    "                    print(temp)\n",
    "                    ans = max(ans, temp)\n",
    "\n",
    "    return ans "
   ]
  },
  {
   "cell_type": "code",
   "execution_count": 157,
   "metadata": {},
   "outputs": [
    {
     "name": "stdout",
     "output_type": "stream",
     "text": [
      "[[1, 0, 1, 0, 0], [1, 0, 1, 1, 1], [1, 1, 1, 1, 1], [1, 0, 0, 1, 0]]\n",
      "[[1, 1, 2, 2, 2], [2, 2, 4, 5, 6], [3, 4, 7, 9, 11], [4, 5, 8, 11, 13]]\n",
      "2\n",
      "4\n",
      "1\n",
      "1\n",
      "1\n",
      "1\n",
      "1\n",
      "1\n",
      "1\n",
      "1\n",
      "1\n",
      "1\n"
     ]
    },
    {
     "data": {
      "text/plain": [
       "4"
      ]
     },
     "execution_count": 157,
     "metadata": {},
     "output_type": "execute_result"
    }
   ],
   "source": [
    "maximalSquare(matrix)"
   ]
  },
  {
   "cell_type": "code",
   "execution_count": 17,
   "metadata": {},
   "outputs": [],
   "source": [
    "matrix = [[\"0\",\"1\"],[\"1\",\"0\"]]"
   ]
  },
  {
   "cell_type": "code",
   "execution_count": 169,
   "metadata": {},
   "outputs": [
    {
     "name": "stdout",
     "output_type": "stream",
     "text": [
      "n is 2 and m is 2\n",
      "[[0, 1], [1, 0]]\n",
      "[[0, 1], [1, 2]]\n"
     ]
    },
    {
     "data": {
      "text/plain": [
       "0"
      ]
     },
     "execution_count": 169,
     "metadata": {},
     "output_type": "execute_result"
    }
   ],
   "source": [
    "maximalSquare(matrix)"
   ]
  },
  {
   "cell_type": "code",
   "execution_count": 15,
   "metadata": {},
   "outputs": [],
   "source": [
    "def maximalSquare2(matrix : list) -> str:\n",
    "    if not matrix:\n",
    "        return 0\n",
    "    n = len(matrix)\n",
    "    m = len(matrix[0])\n",
    "    \n",
    "    sizes = [[0 for i in range(m)] for j in range(n)]\n",
    "    print(sizes)\n",
    "    ans = 0\n",
    "    \n",
    "    sizes[0][0] = int(matrix[0][0])\n",
    "    \n",
    "    for j in range(m):\n",
    "        for i in range(n):\n",
    "\n",
    "            if int(matrix[i][j])  == 1:\n",
    "            \n",
    "                if (i==0 and j >= 1):\n",
    "                   # sizes[i][j] = sizes[i][j-1] + 1\n",
    "                    sizes[i][j] = int(matrix[i][j])\n",
    "                elif (j==0 and i >= 1):\n",
    "                   # sizes[i][j] = sizes[i-1][j] + 1\n",
    "                    sizes[i][j] = int(matrix[i][j])\n",
    "                elif (j >= 1 and i >= 1):\n",
    "                    sizes[i][j] = min(min(sizes[i-1][j-1], sizes[i-1][j]), sizes[i][j-1]) +1\n",
    "                \n",
    "            ans = max(ans, sizes[i][j]*sizes[i][j])\n",
    "            \n",
    "            print(sizes)\n",
    "    return ans\n",
    "                "
   ]
  },
  {
   "cell_type": "code",
   "execution_count": 18,
   "metadata": {},
   "outputs": [
    {
     "name": "stdout",
     "output_type": "stream",
     "text": [
      "[[0, 0], [0, 0]]\n",
      "[[0, 0], [0, 0]]\n",
      "[[0, 0], [1, 0]]\n",
      "[[0, 1], [1, 0]]\n",
      "[[0, 1], [1, 0]]\n"
     ]
    },
    {
     "data": {
      "text/plain": [
       "1"
      ]
     },
     "execution_count": 18,
     "metadata": {},
     "output_type": "execute_result"
    }
   ],
   "source": [
    "maximalSquare2(matrix)"
   ]
  },
  {
   "cell_type": "code",
   "execution_count": 19,
   "metadata": {},
   "outputs": [],
   "source": [
    "matrix = [ ['1','0','1','0','0'],\n",
    "           ['1', '0', '1', '1', '1'],\n",
    "           ['1', '1', '1', '1', '1'],\n",
    "           ['1', '0', '0', '1', '0'] ]"
   ]
  },
  {
   "cell_type": "code",
   "execution_count": 20,
   "metadata": {},
   "outputs": [
    {
     "name": "stdout",
     "output_type": "stream",
     "text": [
      "[[0, 0, 0, 0, 0], [0, 0, 0, 0, 0], [0, 0, 0, 0, 0], [0, 0, 0, 0, 0]]\n",
      "[[1, 0, 0, 0, 0], [0, 0, 0, 0, 0], [0, 0, 0, 0, 0], [0, 0, 0, 0, 0]]\n",
      "[[1, 0, 0, 0, 0], [1, 0, 0, 0, 0], [0, 0, 0, 0, 0], [0, 0, 0, 0, 0]]\n",
      "[[1, 0, 0, 0, 0], [1, 0, 0, 0, 0], [1, 0, 0, 0, 0], [0, 0, 0, 0, 0]]\n",
      "[[1, 0, 0, 0, 0], [1, 0, 0, 0, 0], [1, 0, 0, 0, 0], [1, 0, 0, 0, 0]]\n",
      "[[1, 0, 0, 0, 0], [1, 0, 0, 0, 0], [1, 0, 0, 0, 0], [1, 0, 0, 0, 0]]\n",
      "[[1, 0, 0, 0, 0], [1, 0, 0, 0, 0], [1, 0, 0, 0, 0], [1, 0, 0, 0, 0]]\n",
      "[[1, 0, 0, 0, 0], [1, 0, 0, 0, 0], [1, 1, 0, 0, 0], [1, 0, 0, 0, 0]]\n",
      "[[1, 0, 0, 0, 0], [1, 0, 0, 0, 0], [1, 1, 0, 0, 0], [1, 0, 0, 0, 0]]\n",
      "[[1, 0, 1, 0, 0], [1, 0, 0, 0, 0], [1, 1, 0, 0, 0], [1, 0, 0, 0, 0]]\n",
      "[[1, 0, 1, 0, 0], [1, 0, 1, 0, 0], [1, 1, 0, 0, 0], [1, 0, 0, 0, 0]]\n",
      "[[1, 0, 1, 0, 0], [1, 0, 1, 0, 0], [1, 1, 1, 0, 0], [1, 0, 0, 0, 0]]\n",
      "[[1, 0, 1, 0, 0], [1, 0, 1, 0, 0], [1, 1, 1, 0, 0], [1, 0, 0, 0, 0]]\n",
      "[[1, 0, 1, 0, 0], [1, 0, 1, 0, 0], [1, 1, 1, 0, 0], [1, 0, 0, 0, 0]]\n",
      "[[1, 0, 1, 0, 0], [1, 0, 1, 1, 0], [1, 1, 1, 0, 0], [1, 0, 0, 0, 0]]\n",
      "[[1, 0, 1, 0, 0], [1, 0, 1, 1, 0], [1, 1, 1, 2, 0], [1, 0, 0, 0, 0]]\n",
      "[[1, 0, 1, 0, 0], [1, 0, 1, 1, 0], [1, 1, 1, 2, 0], [1, 0, 0, 1, 0]]\n",
      "[[1, 0, 1, 0, 0], [1, 0, 1, 1, 0], [1, 1, 1, 2, 0], [1, 0, 0, 1, 0]]\n",
      "[[1, 0, 1, 0, 0], [1, 0, 1, 1, 1], [1, 1, 1, 2, 0], [1, 0, 0, 1, 0]]\n",
      "[[1, 0, 1, 0, 0], [1, 0, 1, 1, 1], [1, 1, 1, 2, 2], [1, 0, 0, 1, 0]]\n",
      "[[1, 0, 1, 0, 0], [1, 0, 1, 1, 1], [1, 1, 1, 2, 2], [1, 0, 0, 1, 0]]\n"
     ]
    },
    {
     "data": {
      "text/plain": [
       "4"
      ]
     },
     "execution_count": 20,
     "metadata": {},
     "output_type": "execute_result"
    }
   ],
   "source": [
    "maximalSquare2(matrix)"
   ]
  },
  {
   "cell_type": "code",
   "execution_count": 21,
   "metadata": {},
   "outputs": [],
   "source": [
    "matrix = [['0','0','0'], ['0', '0', '0'], ['1', '1', '1']]"
   ]
  },
  {
   "cell_type": "code",
   "execution_count": 22,
   "metadata": {},
   "outputs": [
    {
     "name": "stdout",
     "output_type": "stream",
     "text": [
      "[[0, 0, 0], [0, 0, 0], [0, 0, 0]]\n",
      "[[0, 0, 0], [0, 0, 0], [0, 0, 0]]\n",
      "[[0, 0, 0], [0, 0, 0], [0, 0, 0]]\n",
      "[[0, 0, 0], [0, 0, 0], [1, 0, 0]]\n",
      "[[0, 0, 0], [0, 0, 0], [1, 0, 0]]\n",
      "[[0, 0, 0], [0, 0, 0], [1, 0, 0]]\n",
      "[[0, 0, 0], [0, 0, 0], [1, 1, 0]]\n",
      "[[0, 0, 0], [0, 0, 0], [1, 1, 0]]\n",
      "[[0, 0, 0], [0, 0, 0], [1, 1, 0]]\n",
      "[[0, 0, 0], [0, 0, 0], [1, 1, 1]]\n"
     ]
    },
    {
     "data": {
      "text/plain": [
       "1"
      ]
     },
     "execution_count": 22,
     "metadata": {},
     "output_type": "execute_result"
    }
   ],
   "source": [
    "maximalSquare2(matrix)"
   ]
  },
  {
   "cell_type": "markdown",
   "metadata": {},
   "source": [
    "## Python | Using 2D arrays/lists the right way"
   ]
  },
  {
   "cell_type": "code",
   "execution_count": 4,
   "metadata": {},
   "outputs": [
    {
     "name": "stdout",
     "output_type": "stream",
     "text": [
      "[[0, 0, 0, 0, 0], [0, 0, 0, 0, 0], [0, 0, 0, 0, 0], [0, 0, 0, 0, 0], [0, 0, 0, 0, 0]]\n"
     ]
    }
   ],
   "source": [
    "# Method 2a\n",
    "\n",
    "rows, cols = (5,5)\n",
    "arr = [[0] * cols] * rows \n",
    "print(arr)"
   ]
  },
  {
   "cell_type": "code",
   "execution_count": 5,
   "metadata": {},
   "outputs": [
    {
     "name": "stdout",
     "output_type": "stream",
     "text": [
      "[[1, 0, 0, 0, 0], [1, 0, 0, 0, 0], [1, 0, 0, 0, 0], [1, 0, 0, 0, 0], [1, 0, 0, 0, 0]]\n"
     ]
    }
   ],
   "source": [
    "arr[0][0] = 1\n",
    "\n",
    "print(arr)"
   ]
  },
  {
   "cell_type": "code",
   "execution_count": 2,
   "metadata": {},
   "outputs": [
    {
     "name": "stdout",
     "output_type": "stream",
     "text": [
      "[[0, 0, 0, 0, 0], [0, 0, 0, 0, 0], [0, 0, 0, 0, 0], [0, 0, 0, 0, 0], [0, 0, 0, 0, 0]]\n"
     ]
    }
   ],
   "source": [
    "# Method 2b \n",
    "\n",
    "rows, cols = (5,5)\n",
    "\n",
    "arr = [[0 for i in range(cols)] for j in range(rows)]\n",
    "\n",
    "print(arr)"
   ]
  },
  {
   "cell_type": "code",
   "execution_count": 3,
   "metadata": {},
   "outputs": [
    {
     "name": "stdout",
     "output_type": "stream",
     "text": [
      "[[1, 0, 0, 0, 0], [0, 0, 0, 0, 0], [0, 0, 0, 0, 0], [0, 0, 0, 0, 0], [0, 0, 0, 0, 0]]\n"
     ]
    }
   ],
   "source": [
    "arr[0][0] = 1\n",
    "\n",
    "print(arr)"
   ]
  },
  {
   "cell_type": "markdown",
   "metadata": {},
   "source": [
    "## 301 Remove Invalid Parentheses \n",
    "\n",
    "Remove the minimum number of invalid parentheses in order to make the input string valid. Return all possible results. \n",
    "\n",
    "Note: the input string may contain letters other than the parentheses '(' and ')'. \n",
    "\n",
    "Example 1:\n",
    "\n",
    "Input: \"()())()\"\n",
    "Output: [\"()()()\", \"(())()\"]\n",
    "Example 2:\n",
    "\n",
    "Input: \"(a)())()\"\n",
    "Output: [\"(a)()()\", \"(a())()\"]\n",
    "Example 3:\n",
    "\n",
    "Input: \")(\"\n",
    "Output: [\"\"]"
   ]
  },
  {
   "cell_type": "code",
   "execution_count": 72,
   "metadata": {},
   "outputs": [],
   "source": [
    "def dfs(s: str, start: int, l: int, r: int, ans: list):\n",
    "    if not s:\n",
    "        ans.append(\"\")\n",
    "        return \n",
    "    if l== 0 and r == 0 and isvalid(s):\n",
    "        ans.append(s)\n",
    "        return\n",
    "    else:\n",
    "        for i in range(start, len(s)):\n",
    "            if i != start and i < len(s) and s[i] == s[i-1]:\n",
    "                continue\n",
    "            if s[i] == ')' and r > 0:\n",
    "                print('i is '+ str(i))\n",
    "                new_s = s[:i]+s[i+1:]\n",
    "                print(new_s,l,r-1)\n",
    "                dfs(new_s,i, l, r-1, ans)\n",
    "            if s[i] == '(' and l > 0:\n",
    "                print('i is '+ str(i))\n",
    "                new_s = s[:i] + s[i+1:]\n",
    "                print(new_s)\n",
    "                dfs(new_s,i, l-1, r, ans)\n",
    "\n",
    "\n",
    "def isvalid(s:str) -> bool:\n",
    "    count = 0\n",
    "    for ch in s:\n",
    "        if ch == '(':\n",
    "            count += 1\n",
    "        elif ch == ')':\n",
    "            count -= 1\n",
    "        if count < 0:\n",
    "            return False \n",
    "    return count == 0\n",
    "\n",
    "\n",
    "\n",
    "\n",
    "def removeInvalidParentheses(s: str) -> list:\n",
    "    \n",
    "    if not s:\n",
    "        return [\"\"]\n",
    "    elif '(' not in s and ')' not in s:\n",
    "        return [s]\n",
    "    elif isvalid(s):\n",
    "        return [s]\n",
    "    \n",
    "    # count the number of left parenthese and right parentheses\n",
    "    # to be deleted \n",
    "    l = 0\n",
    "    r = 0\n",
    "    \n",
    "    for ch in s:\n",
    "        if ch == '(':\n",
    "            l += 1\n",
    "        if ch == ')':\n",
    "            if l == 0:\n",
    "                r += 1\n",
    "            elif l > 0:\n",
    "                l -= 1\n",
    "    ans = []\n",
    "    dfs(s, 0, l, r, ans)\n",
    "    return ans \n",
    "\n",
    "\n",
    "    \n",
    "        "
   ]
  },
  {
   "cell_type": "code",
   "execution_count": 73,
   "metadata": {},
   "outputs": [],
   "source": [
    "s = \")(\""
   ]
  },
  {
   "cell_type": "code",
   "execution_count": 74,
   "metadata": {},
   "outputs": [
    {
     "name": "stdout",
     "output_type": "stream",
     "text": [
      "i is 0\n",
      "( 1 0\n",
      "i is 0\n",
      "\n",
      "i is 1\n",
      ")\n"
     ]
    },
    {
     "data": {
      "text/plain": [
       "['']"
      ]
     },
     "execution_count": 74,
     "metadata": {},
     "output_type": "execute_result"
    }
   ],
   "source": [
    "removeInvalidParentheses(s)"
   ]
  },
  {
   "cell_type": "code",
   "execution_count": 75,
   "metadata": {},
   "outputs": [],
   "source": [
    "s = \"()())()\""
   ]
  },
  {
   "cell_type": "code",
   "execution_count": 76,
   "metadata": {},
   "outputs": [
    {
     "name": "stdout",
     "output_type": "stream",
     "text": [
      "i is 1\n",
      "(())() 0 0\n",
      "i is 3\n",
      "()()() 0 0\n",
      "i is 6\n",
      "()())( 0 0\n"
     ]
    },
    {
     "data": {
      "text/plain": [
       "['(())()', '()()()']"
      ]
     },
     "execution_count": 76,
     "metadata": {},
     "output_type": "execute_result"
    }
   ],
   "source": [
    "removeInvalidParentheses(s)"
   ]
  },
  {
   "cell_type": "code",
   "execution_count": 36,
   "metadata": {},
   "outputs": [
    {
     "data": {
      "text/plain": [
       "False"
      ]
     },
     "execution_count": 36,
     "metadata": {},
     "output_type": "execute_result"
    }
   ],
   "source": [
    "isvalid(s)"
   ]
  },
  {
   "cell_type": "code",
   "execution_count": 77,
   "metadata": {},
   "outputs": [],
   "source": [
    "s = \"(a)())()\""
   ]
  },
  {
   "cell_type": "code",
   "execution_count": 78,
   "metadata": {},
   "outputs": [
    {
     "name": "stdout",
     "output_type": "stream",
     "text": [
      "i is 2\n",
      "(a())() 0 0\n",
      "i is 4\n",
      "(a)()() 0 0\n",
      "i is 7\n",
      "(a)())( 0 0\n"
     ]
    },
    {
     "data": {
      "text/plain": [
       "['(a())()', '(a)()()']"
      ]
     },
     "execution_count": 78,
     "metadata": {},
     "output_type": "execute_result"
    }
   ],
   "source": [
    "removeInvalidParentheses(s)"
   ]
  },
  {
   "cell_type": "code",
   "execution_count": 51,
   "metadata": {},
   "outputs": [
    {
     "ename": "NameError",
     "evalue": "name 'List' is not defined",
     "output_type": "error",
     "traceback": [
      "\u001b[0;31m---------------------------------------------------------------------------\u001b[0m",
      "\u001b[0;31mNameError\u001b[0m                                 Traceback (most recent call last)",
      "\u001b[0;32m<ipython-input-51-66c5205db228>\u001b[0m in \u001b[0;36m<module>\u001b[0;34m\u001b[0m\n\u001b[1;32m      1\u001b[0m \u001b[0;32mimport\u001b[0m \u001b[0mcollections\u001b[0m\u001b[0;34m\u001b[0m\u001b[0;34m\u001b[0m\u001b[0m\n\u001b[0;32m----> 2\u001b[0;31m \u001b[0;32mclass\u001b[0m \u001b[0mSolution\u001b[0m\u001b[0;34m:\u001b[0m\u001b[0;34m\u001b[0m\u001b[0;34m\u001b[0m\u001b[0m\n\u001b[0m\u001b[1;32m      3\u001b[0m     \u001b[0;32mdef\u001b[0m \u001b[0mremoveInvalidParentheses\u001b[0m\u001b[0;34m(\u001b[0m\u001b[0mself\u001b[0m\u001b[0;34m,\u001b[0m \u001b[0ms\u001b[0m\u001b[0;34m:\u001b[0m \u001b[0mstr\u001b[0m\u001b[0;34m)\u001b[0m \u001b[0;34m->\u001b[0m \u001b[0mList\u001b[0m\u001b[0;34m[\u001b[0m\u001b[0mstr\u001b[0m\u001b[0;34m]\u001b[0m\u001b[0;34m:\u001b[0m\u001b[0;34m\u001b[0m\u001b[0;34m\u001b[0m\u001b[0m\n\u001b[1;32m      4\u001b[0m \u001b[0;34m\u001b[0m\u001b[0m\n\u001b[1;32m      5\u001b[0m         \u001b[0;32mif\u001b[0m \u001b[0;32mnot\u001b[0m \u001b[0ms\u001b[0m\u001b[0;34m:\u001b[0m\u001b[0;34m\u001b[0m\u001b[0;34m\u001b[0m\u001b[0m\n",
      "\u001b[0;32m<ipython-input-51-66c5205db228>\u001b[0m in \u001b[0;36mSolution\u001b[0;34m()\u001b[0m\n\u001b[1;32m      1\u001b[0m \u001b[0;32mimport\u001b[0m \u001b[0mcollections\u001b[0m\u001b[0;34m\u001b[0m\u001b[0;34m\u001b[0m\u001b[0m\n\u001b[1;32m      2\u001b[0m \u001b[0;32mclass\u001b[0m \u001b[0mSolution\u001b[0m\u001b[0;34m:\u001b[0m\u001b[0;34m\u001b[0m\u001b[0;34m\u001b[0m\u001b[0m\n\u001b[0;32m----> 3\u001b[0;31m     \u001b[0;32mdef\u001b[0m \u001b[0mremoveInvalidParentheses\u001b[0m\u001b[0;34m(\u001b[0m\u001b[0mself\u001b[0m\u001b[0;34m,\u001b[0m \u001b[0ms\u001b[0m\u001b[0;34m:\u001b[0m \u001b[0mstr\u001b[0m\u001b[0;34m)\u001b[0m \u001b[0;34m->\u001b[0m \u001b[0mList\u001b[0m\u001b[0;34m[\u001b[0m\u001b[0mstr\u001b[0m\u001b[0;34m]\u001b[0m\u001b[0;34m:\u001b[0m\u001b[0;34m\u001b[0m\u001b[0;34m\u001b[0m\u001b[0m\n\u001b[0m\u001b[1;32m      4\u001b[0m \u001b[0;34m\u001b[0m\u001b[0m\n\u001b[1;32m      5\u001b[0m         \u001b[0;32mif\u001b[0m \u001b[0;32mnot\u001b[0m \u001b[0ms\u001b[0m\u001b[0;34m:\u001b[0m\u001b[0;34m\u001b[0m\u001b[0;34m\u001b[0m\u001b[0m\n",
      "\u001b[0;31mNameError\u001b[0m: name 'List' is not defined"
     ]
    }
   ],
   "source": [
    "import collections \n",
    "class Solution:\n",
    "    def removeInvalidParentheses(self, s: str) -> List[str]:\n",
    "        \n",
    "        if not s:\n",
    "            return [\"\"]\n",
    "        elif '('  not in s and ')'  not in s:\n",
    "            return [s]\n",
    "        elif self.isvalid(s):\n",
    "            return [s]\n",
    "        \n",
    "        queue = collections.deque([s])\n",
    "        result = []\n",
    "        visited = set()\n",
    "        \n",
    "        while queue:\n",
    "            for i in range(len(queue)):\n",
    "                curr_s = queue.popleft()\n",
    "                if self.isvalid(curr_s):\n",
    "                    result.append(curr_s)\n",
    "                else:\n",
    "                    for k in range(len(curr_s)):\n",
    "                        temp = curr_s[0:k] + curr_s[k+1:]\n",
    "                        if temp not in visited: \n",
    "                            visited.add(temp)\n",
    "                            queue.append(temp)\n",
    "            if result:\n",
    "                return result\n",
    "        else:\n",
    "            return [\"\"]\n",
    "        \n",
    "    def isvalid(self, s: str):\n",
    "        count = 0\n",
    "        for l in s:\n",
    "            if l == '(':\n",
    "                count += 1\n",
    "            elif l == ')':\n",
    "                count -= 1\n",
    "            if count < 0:\n",
    "                return False\n",
    "        return count == 0\n",
    "        \n",
    "        "
   ]
  },
  {
   "cell_type": "markdown",
   "metadata": {},
   "source": [
    "## 70. Climbing Stairs \n",
    "\n",
    "You are climbing a stair case. It takes n steps t reach to the top. \n",
    "\n",
    "Each time you can either climb 1 or 2 steps. In how may distinct ways can you climb to the top? \n",
    "\n",
    "**Note:** Given n will be a positive integer. \n",
    "\n",
    "**Example 1:** \n",
    "Input: 2\n",
    "Output: 2 \n",
    "Explanation: There are two ways to climb to the top.\n",
    "1. 1 step + 1 step\n",
    "2. 2 step\n",
    "\n",
    "**Example 2:**\n",
    "Input: 3\n",
    "Output: 3\n",
    "Explanation: There are three ways to climb to the top. \n",
    "1. 1 step + 1 step + 1 step\n",
    "2. 1 step + 2 step \n",
    "3. 2 step + 1 step\n",
    "\n",
    "**Solution:**\n",
    "f(n) = f(n-1) + f(n-2) \n",
    "with f(1) = 1 and f(0) = 1"
   ]
  },
  {
   "cell_type": "code",
   "execution_count": 24,
   "metadata": {},
   "outputs": [],
   "source": [
    "def climbStairs(n: int) -> int:\n",
    "    if n <= 1:\n",
    "        return 1\n",
    "    else:\n",
    "        a = 1\n",
    "        b = 1\n",
    "        for i in range(2,n+1):\n",
    "            a, b = a+b, a\n",
    "        return a"
   ]
  },
  {
   "cell_type": "code",
   "execution_count": 25,
   "metadata": {},
   "outputs": [
    {
     "data": {
      "text/plain": [
       "2"
      ]
     },
     "execution_count": 25,
     "metadata": {},
     "output_type": "execute_result"
    }
   ],
   "source": [
    "climbStairs(2)"
   ]
  },
  {
   "cell_type": "markdown",
   "metadata": {},
   "source": [
    "## 62. Unique Paths\n",
    "\n",
    "A robot is located at the top-left corner of a m*n grid(marked 'Start in the diagram below). \n",
    "\n",
    "The robot can only move either down or right at any point in time, The robot is trying to reach the bottom-right corner of the grid (marked 'Finish' in the diagram below). \n",
    "\n",
    "How many possible unique paths are there?"
   ]
  },
  {
   "cell_type": "code",
   "execution_count": 26,
   "metadata": {},
   "outputs": [],
   "source": [
    "n = 3\n",
    "m = 5\n",
    "dp = [[0] *(n+1) for _ in range(m+1)] "
   ]
  },
  {
   "cell_type": "code",
   "execution_count": 27,
   "metadata": {},
   "outputs": [
    {
     "data": {
      "text/plain": [
       "[[0, 0, 0, 0],\n",
       " [0, 0, 0, 0],\n",
       " [0, 0, 0, 0],\n",
       " [0, 0, 0, 0],\n",
       " [0, 0, 0, 0],\n",
       " [0, 0, 0, 0]]"
      ]
     },
     "execution_count": 27,
     "metadata": {},
     "output_type": "execute_result"
    }
   ],
   "source": [
    "dp"
   ]
  },
  {
   "cell_type": "code",
   "execution_count": 29,
   "metadata": {},
   "outputs": [
    {
     "data": {
      "text/plain": [
       "0"
      ]
     },
     "execution_count": 29,
     "metadata": {},
     "output_type": "execute_result"
    }
   ],
   "source": [
    "dp[4][3]"
   ]
  },
  {
   "cell_type": "code",
   "execution_count": 30,
   "metadata": {},
   "outputs": [],
   "source": [
    "class Solution:\n",
    "    def uniquePaths(self, m: int, n: int) -> int:\n",
    "        \n",
    "        dp = [[0] *(n+1) for _ in range(m+1)] \n",
    "        \n",
    "        for i in range(1,m+1):\n",
    "            for j in range(1,n+1):\n",
    "                if i == 1 and j == 1:\n",
    "                    dp[i][j] = 1\n",
    "                else:\n",
    "                    dp[i][j] = dp[i-1][j] + dp[i][j-1]\n",
    "        return dp[i][j]\n",
    "        "
   ]
  },
  {
   "cell_type": "markdown",
   "metadata": {},
   "source": [
    "Time complexity O(mn). Space complexity O(mn). "
   ]
  },
  {
   "cell_type": "markdown",
   "metadata": {},
   "source": [
    "## 926. Flip String to Monotone Increasing \n",
    "\n",
    "A string of '0's and '1's is monotone increasing if it consists of some number of '0's (possibly 0), followed by some number of 1's (also possibly 0.)\n",
    "\n",
    "We are given a string s of '0' and '1's, and we may flip any '0' to a '1' or a '1' to a '0'.\n",
    "\n",
    "Return the minimum number of flips to make s monotone increasing. \n",
    "\n",
    "\n",
    "**Example 1:**\n",
    "Input: \"00110\"\n",
    "Output: 1\n",
    "Explanation: We flip the last digit to get 00111. \n",
    "\n",
    "**Example 2:**\n",
    "Input: \"010110\"\n",
    "Output: 2\n",
    "Explanation: We flip to get 011111, or alternatively 000111. \n",
    "\n",
    "**Example 3:**\n",
    "Input: \"00011000\"\n",
    "Output: 2\n",
    "Explanation: We flip to get 0000000. "
   ]
  },
  {
   "cell_type": "code",
   "execution_count": 34,
   "metadata": {},
   "outputs": [
    {
     "data": {
      "text/plain": [
       "1"
      ]
     },
     "execution_count": 34,
     "metadata": {},
     "output_type": "execute_result"
    }
   ],
   "source": [
    "ord('1') - ord('0')"
   ]
  },
  {
   "cell_type": "code",
   "execution_count": 68,
   "metadata": {},
   "outputs": [],
   "source": [
    "def miniFlipsMonoIncre(s: str) -> int:\n",
    "    \n",
    "    n = len(s)\n",
    "    \n",
    "    l =  [0]*(n+1)\n",
    "    \n",
    "    r = [0]*(n+1)\n",
    "    \n",
    "    \n",
    "    for i in range(1,n+1):\n",
    "        l[i] = l[i-1] + ord(s[i-1]) - ord('0')\n",
    "        \n",
    "    print(l)\n",
    "        \n",
    "    for i in range(n-1,-1,-1):\n",
    "        r[i] = r[i+1] + ord('1') - ord(s[i]) \n",
    "        \n",
    "    print(r)\n",
    "    \n",
    "    ans = r[0]    \n",
    "    \n",
    "    for i in range(1,n+1):\n",
    "        ans = min(ans, l[i-1]+ r[i])\n",
    "    return ans \n",
    "        \n",
    "        "
   ]
  },
  {
   "cell_type": "code",
   "execution_count": 64,
   "metadata": {},
   "outputs": [
    {
     "name": "stdout",
     "output_type": "stream",
     "text": [
      "[0, 0, 0, 1, 2, 2]\n",
      "[3, 2, 1, 1, 1, 0]\n"
     ]
    },
    {
     "data": {
      "text/plain": [
       "1"
      ]
     },
     "execution_count": 64,
     "metadata": {},
     "output_type": "execute_result"
    }
   ],
   "source": [
    "s = \"00110\"\n",
    "miniFlipsMonoIncre(s)"
   ]
  },
  {
   "cell_type": "code",
   "execution_count": 65,
   "metadata": {},
   "outputs": [
    {
     "name": "stdout",
     "output_type": "stream",
     "text": [
      "[0, 0, 1, 1, 2, 3, 3]\n",
      "[3, 2, 2, 1, 1, 1, 0]\n"
     ]
    },
    {
     "data": {
      "text/plain": [
       "2"
      ]
     },
     "execution_count": 65,
     "metadata": {},
     "output_type": "execute_result"
    }
   ],
   "source": [
    "s = \"010110\"\n",
    "miniFlipsMonoIncre(s)"
   ]
  },
  {
   "cell_type": "code",
   "execution_count": 69,
   "metadata": {},
   "outputs": [
    {
     "name": "stdout",
     "output_type": "stream",
     "text": [
      "[0, 0, 0, 0, 1, 2, 2, 2, 2]\n",
      "[6, 5, 4, 3, 3, 3, 2, 1, 0]\n"
     ]
    },
    {
     "data": {
      "text/plain": [
       "2"
      ]
     },
     "execution_count": 69,
     "metadata": {},
     "output_type": "execute_result"
    }
   ],
   "source": [
    "s = \"00011000\"\n",
    "miniFlipsMonoIncre(s)"
   ]
  },
  {
   "cell_type": "markdown",
   "metadata": {},
   "source": [
    "Time Complexity: O(n)\n",
    "\n",
    "Space Complexity: O(n)"
   ]
  },
  {
   "cell_type": "markdown",
   "metadata": {},
   "source": [
    "## 790. Domino and Tromino Tiling \n",
    "\n",
    "We have two types of tiles: a 2*1 domino shape, and an \"L\" tromino shape. These shapes may be rotated.\n",
    "\n",
    "XX <- domino\n",
    "\n",
    "XX <- \"L\" tromino \n",
    "X\n",
    "\n",
    "Given N, how many ways are there to tile a 2*N board? Return your answer modulo 10^9 +7. \n",
    "\n",
    "**Example:**\n",
    "Input: 3\n",
    "Output: 5\n",
    "Explanation: \n",
    "The five different ways are listed below, different letters indicates different tiles:\n",
    "\n",
    "XYZ  XXZ  XXY   XYY   XYY\n",
    "\n",
    "XYZ  YYZ  XYY   XZZ   XXY"
   ]
  },
  {
   "cell_type": "code",
   "execution_count": 232,
   "metadata": {},
   "outputs": [],
   "source": [
    "def numTilings(N:int) -> int:\n",
    "    \n",
    "    dp =  [[0]*2 for i in range (N+1)]\n",
    "    \n",
    "    dp[0][0] = 1\n",
    "    dp[1][0] = 1\n",
    "    dp[0][1] = 1 \n",
    "    \n",
    "    for i in range(2, N+1):\n",
    "        dp[i][0] = (dp[i-1][0] + dp[i-2][0] + 2*dp[i-1][1]) % (10**9+7)\n",
    "        dp[i][1] = (dp[i-2][0] + dp[i-1][1])% (10**9 + 7)\n",
    "    \n",
    "    return (dp[N][0]% (10**9+7) )\n",
    "        \n",
    "    \n",
    "    "
   ]
  },
  {
   "cell_type": "markdown",
   "metadata": {},
   "source": [
    "Time: O(N) Space : O(N)"
   ]
  },
  {
   "cell_type": "code",
   "execution_count": 233,
   "metadata": {},
   "outputs": [
    {
     "data": {
      "text/plain": [
       "5"
      ]
     },
     "execution_count": 233,
     "metadata": {},
     "output_type": "execute_result"
    }
   ],
   "source": [
    "N = 3\n",
    "\n",
    "numTilings(3)"
   ]
  },
  {
   "cell_type": "code",
   "execution_count": 230,
   "metadata": {},
   "outputs": [
    {
     "data": {
      "text/plain": [
       "2"
      ]
     },
     "execution_count": 230,
     "metadata": {},
     "output_type": "execute_result"
    }
   ],
   "source": [
    "5 % 3"
   ]
  },
  {
   "cell_type": "code",
   "execution_count": 244,
   "metadata": {},
   "outputs": [],
   "source": [
    "def numTilings2(N:int) -> int:\n",
    "    \n",
    "    a = 1 \n",
    "    b = 1\n",
    "    c = 1\n",
    "    d = 0 \n",
    "    \n",
    "    for i in range(2, N+1):\n",
    "        \n",
    "\n",
    "        \n",
    "        a, b, d = b% (10**9 + 7), ( a + b + 2*d )% (10**9 + 7), (a+d)% (10**9 + 7)\n",
    "        \n",
    "        \n",
    "    return (b %(10**9 + 7))\n",
    "        \n",
    "    "
   ]
  },
  {
   "cell_type": "code",
   "execution_count": 245,
   "metadata": {},
   "outputs": [
    {
     "data": {
      "text/plain": [
       "5"
      ]
     },
     "execution_count": 245,
     "metadata": {},
     "output_type": "execute_result"
    }
   ],
   "source": [
    "numTilings2(3)"
   ]
  },
  {
   "cell_type": "markdown",
   "metadata": {},
   "source": [
    "## 818. Race Car\n",
    "\n",
    "You car starts at position 0 and speed +1 on an infinite number line. (Your car can go inoto negative positions). \n",
    "\n",
    "You car dirves automatically accoding to a sequence of instructions A (accelerate) and R (reverse). \n",
    "\n",
    "When you get an instruction \"A\", your car does the following: position += speed, speed *= 2. \n",
    "\n",
    "When you get an instruction \"R\", your car does the following: if your speed is positive then speed = -1, otherwise speed = 1. (Your position stays the same.)\n",
    "\n",
    "For example, after commands \"AAR\", your car goes to positions 0->1->3->3, and your speed goes to 1->2->4->-1. \n",
    "\n",
    "Now for some target position, say the length of the shortest sequence of instructions to get there. \n",
    "\n",
    "**Example 1:**\n",
    "Input: target = 3\n",
    "Output: 2\n",
    "Explanation: \n",
    "The shortest instruction sequence is \"AA\". Your position goes from 0->1->3. \n",
    "\n",
    "**Example 2:**\n",
    "Input: target = 6\n",
    "Output: 5\n",
    "Explanation:\n",
    "The shortest instruction sequence is \"AAARA\". Your position goes from 0->1->3->7->7->6. "
   ]
  },
  {
   "cell_type": "code",
   "execution_count": 127,
   "metadata": {},
   "outputs": [
    {
     "data": {
      "text/plain": [
       "3"
      ]
     },
     "execution_count": 127,
     "metadata": {},
     "output_type": "execute_result"
    }
   ],
   "source": [
    "import math \n",
    "math.ceil(2.5)"
   ]
  },
  {
   "cell_type": "code",
   "execution_count": 129,
   "metadata": {},
   "outputs": [
    {
     "data": {
      "text/plain": [
       "32"
      ]
     },
     "execution_count": 129,
     "metadata": {},
     "output_type": "execute_result"
    }
   ],
   "source": [
    "2**5"
   ]
  },
  {
   "cell_type": "code",
   "execution_count": 146,
   "metadata": {},
   "outputs": [
    {
     "name": "stdout",
     "output_type": "stream",
     "text": [
      "0\n",
      "1\n",
      "2\n",
      "3\n",
      "4\n"
     ]
    }
   ],
   "source": [
    "n = 5\n",
    "\n",
    "for m in range(0,5):\n",
    "    print(m)"
   ]
  },
  {
   "cell_type": "code",
   "execution_count": 224,
   "metadata": {},
   "outputs": [],
   "source": [
    "# Recursion with memorization (DP)\n",
    "\n",
    "def racecar(target: int) -> int:\n",
    "    \n",
    "    m_ = [0] * (target+1) \n",
    "    \n",
    "    \n",
    "    \n",
    "    def racecar_dp(t: int):\n",
    "        if t == 0 or t == 1:\n",
    "            m_[t] = t\n",
    "            return m_[t]\n",
    "        \n",
    "        if m_[t] > 0: \n",
    "            return m_[t]\n",
    "        \n",
    "        print('t is '+ str(t))\n",
    "#         n = math.ceil(math.log(t,2))\n",
    "        n = t.bit_length()\n",
    "        print(n)\n",
    "        if 2**n == t + 1:\n",
    "            m_[t] = n \n",
    "            return m_[t]\n",
    "        else:\n",
    "            m_[t] = n + 1 + racecar_dp(2**n - 1 - t)\n",
    "            print('remain is '+ str(2**n - 1 - t))\n",
    "            print('step is '+ str(m_[t]))\n",
    "            for m in range(0,n-1):\n",
    "                cur = 2**(n-1) - 2**m\n",
    "                print('curr is '+ str(cur))\n",
    "                print('step is '+ str(n+m+1 + racecar_dp(t - cur)))\n",
    "                m_[t] = min(m_[t], n+ m + 1 + racecar_dp(t - cur))\n",
    "                print('smaller step is '+ str(m_[t]))\n",
    "        return m_[t]\n",
    "            \n",
    "    racecar_dp(target)\n",
    "    return m_\n",
    "        "
   ]
  },
  {
   "cell_type": "code",
   "execution_count": 225,
   "metadata": {},
   "outputs": [
    {
     "name": "stdout",
     "output_type": "stream",
     "text": [
      "t is 3\n",
      "2\n"
     ]
    },
    {
     "data": {
      "text/plain": [
       "[0, 0, 0, 2]"
      ]
     },
     "execution_count": 225,
     "metadata": {},
     "output_type": "execute_result"
    }
   ],
   "source": [
    "target = 3\n",
    "\n",
    "racecar(target)"
   ]
  },
  {
   "cell_type": "code",
   "execution_count": 226,
   "metadata": {},
   "outputs": [
    {
     "name": "stdout",
     "output_type": "stream",
     "text": [
      "t is 4\n",
      "3\n",
      "t is 3\n",
      "2\n",
      "remain is 3\n",
      "step is 6\n",
      "curr is 3\n",
      "step is 5\n",
      "smaller step is 5\n",
      "curr is 2\n",
      "t is 2\n",
      "2\n",
      "remain is 1\n",
      "step is 4\n",
      "curr is 1\n",
      "step is 4\n",
      "smaller step is 4\n",
      "step is 9\n",
      "smaller step is 5\n"
     ]
    },
    {
     "data": {
      "text/plain": [
       "[0, 1, 4, 2, 5]"
      ]
     },
     "execution_count": 226,
     "metadata": {},
     "output_type": "execute_result"
    }
   ],
   "source": [
    "target = 4\n",
    "\n",
    "racecar(target)"
   ]
  },
  {
   "cell_type": "code",
   "execution_count": 227,
   "metadata": {},
   "outputs": [
    {
     "name": "stdout",
     "output_type": "stream",
     "text": [
      "t is 6\n",
      "3\n",
      "remain is 1\n",
      "step is 5\n",
      "curr is 3\n",
      "t is 3\n",
      "2\n",
      "step is 6\n",
      "smaller step is 5\n",
      "curr is 2\n",
      "t is 4\n",
      "3\n",
      "remain is 3\n",
      "step is 6\n",
      "curr is 3\n",
      "step is 5\n",
      "smaller step is 5\n",
      "curr is 2\n",
      "t is 2\n",
      "2\n",
      "remain is 1\n",
      "step is 4\n",
      "curr is 1\n",
      "step is 4\n",
      "smaller step is 4\n",
      "step is 9\n",
      "smaller step is 5\n",
      "step is 10\n",
      "smaller step is 5\n"
     ]
    },
    {
     "data": {
      "text/plain": [
       "[0, 1, 4, 2, 5, 0, 5]"
      ]
     },
     "execution_count": 227,
     "metadata": {},
     "output_type": "execute_result"
    }
   ],
   "source": [
    "target = 6\n",
    "\n",
    "racecar(target)"
   ]
  },
  {
   "cell_type": "markdown",
   "metadata": {},
   "source": [
    "## 845. Longest Mountain in Array\n",
    "\n",
    "Let's call any (continguous) subarray B (of A) a mountain if the following properties hold:\n",
    "\n",
    "* B.length >= 3\n",
    "* There exists some 0 < i < B.length -1 such that B[0] < B[1] < ... < B[i-1] < B[i] > B[i+1] > ... > B[B.length -1]. \n",
    "\n",
    "Given an array A of intergers, return the length of the longest mountain. \n",
    "Return 0 if there is no mountain. \n",
    "\n",
    "**Example 1:**\n",
    "Input : [2,1,4,7,3,2,5]\n",
    "\n",
    "Output: 5 \n",
    "\n",
    "Explanation: The largest mountain is [1,4,7,3,2] which has length 5. \n",
    "\n",
    "**Example 2:**\n",
    "Input: [2,2,2]\n",
    "\n",
    "Output: 0\n",
    "\n",
    "Explanation: There is no mountain. "
   ]
  },
  {
   "cell_type": "code",
   "execution_count": 88,
   "metadata": {},
   "outputs": [],
   "source": [
    "def largestMountain(A: str) -> int:\n",
    "    \n",
    "    n = len(A)\n",
    "    \n",
    "    if n <= 1:\n",
    "        return 0 \n",
    "    \n",
    "    inc = [0]*(n+1)\n",
    "    dec = [0]*(n+1)\n",
    "    \n",
    "    for i in range(1,n):\n",
    "        if A[i] > A[i-1]:\n",
    "            inc[i] = inc[i-1] + 1\n",
    "    for i in range(n-2,-1,-1):\n",
    "        if A[i] > A[i+1]:\n",
    "            dec[i] = dec[i+1] + 1 \n",
    "            \n",
    "    print(inc)\n",
    "    print(dec)\n",
    "            \n",
    "    ans = 0\n",
    "    \n",
    "    for i in range(1,n+1):\n",
    "        if (inc[i] and dec[i]):\n",
    "            ans = max(ans, inc[i] + dec[i] + 1)\n",
    "    return(ans)\n",
    "            \n",
    "    \n",
    "    "
   ]
  },
  {
   "cell_type": "code",
   "execution_count": 89,
   "metadata": {},
   "outputs": [
    {
     "name": "stdout",
     "output_type": "stream",
     "text": [
      "[0, 0, 1, 2, 0, 0, 1, 0]\n",
      "[1, 0, 0, 2, 1, 0, 0, 0]\n"
     ]
    },
    {
     "data": {
      "text/plain": [
       "5"
      ]
     },
     "execution_count": 89,
     "metadata": {},
     "output_type": "execute_result"
    }
   ],
   "source": [
    "A = [2,1,4,7,3,2,5]\n",
    "\n",
    "largestMountain(A)"
   ]
  },
  {
   "cell_type": "code",
   "execution_count": 90,
   "metadata": {},
   "outputs": [
    {
     "name": "stdout",
     "output_type": "stream",
     "text": [
      "[0, 0, 0, 0]\n",
      "[0, 0, 0, 0]\n"
     ]
    },
    {
     "data": {
      "text/plain": [
       "0"
      ]
     },
     "execution_count": 90,
     "metadata": {},
     "output_type": "execute_result"
    }
   ],
   "source": [
    "A = [2,2,2]\n",
    "\n",
    "largestMountain(A)"
   ]
  },
  {
   "cell_type": "markdown",
   "metadata": {},
   "source": [
    "## 801.Minimum Swaps To Make Sequences Increasing \n",
    "\n",
    "\n",
    "We have two integer sequences A and B of the same non-zero length. \n",
    "\n",
    "We are allowed to swap elements A[i] and B[i]. Note both elements are in the same index position in their respective sequences. \n",
    "\n",
    "At the end of some number of swaps. A and B are both strictly increasing.\n",
    "\n",
    "Given A and B, return the minimum number of swaps to make both sequences strictly increasing. It is guaranteed that the given input always makes it possible. \n",
    "\n",
    "**Example:**\n",
    "Input: A = [1,3,5,4], B = [1,2,3,7]\n",
    "\n",
    "Output: 1\n",
    "\n",
    "Explanation: \n",
    "Swap A[3] and B[3]. Then the sequences are: A = [1,3,5,7] and B = [1,2,3,4] which are both strictly increasing. "
   ]
  },
  {
   "cell_type": "code",
   "execution_count": 2,
   "metadata": {},
   "outputs": [],
   "source": [
    "dp = [ [0]*2 for _ in range(5) ]"
   ]
  },
  {
   "cell_type": "code",
   "execution_count": 3,
   "metadata": {},
   "outputs": [
    {
     "name": "stdout",
     "output_type": "stream",
     "text": [
      "[[0, 0], [0, 0], [0, 0], [0, 0], [0, 0]]\n"
     ]
    }
   ],
   "source": [
    "print(dp)"
   ]
  },
  {
   "cell_type": "code",
   "execution_count": 4,
   "metadata": {},
   "outputs": [],
   "source": [
    "dp[0][0] = 1"
   ]
  },
  {
   "cell_type": "code",
   "execution_count": 6,
   "metadata": {},
   "outputs": [
    {
     "name": "stdout",
     "output_type": "stream",
     "text": [
      "[0, 0]\n"
     ]
    }
   ],
   "source": [
    "print(dp[1])"
   ]
  },
  {
   "cell_type": "code",
   "execution_count": 113,
   "metadata": {},
   "outputs": [],
   "source": [
    "a = float('Inf')"
   ]
  },
  {
   "cell_type": "code",
   "execution_count": 114,
   "metadata": {},
   "outputs": [
    {
     "data": {
      "text/plain": [
       "1"
      ]
     },
     "execution_count": 114,
     "metadata": {},
     "output_type": "execute_result"
    }
   ],
   "source": [
    "min(a,1)"
   ]
  },
  {
   "cell_type": "code",
   "execution_count": 121,
   "metadata": {},
   "outputs": [],
   "source": [
    "def minSwap(A: list, B: list) -> int:\n",
    "    \n",
    "    n = len(A)\n",
    "    \n",
    "    if n <= 1:\n",
    "        return 0 \n",
    "    \n",
    "    dp = [[float('Inf')]*2 for _ in range(n) ] \n",
    "    dp[0][0] = 0 \n",
    "    dp[0][1] = 1 \n",
    "    \n",
    "    for i in range(1, n):\n",
    "        if A[i] > A[i-1] and B[i] > B[i-1]:\n",
    "            dp[i][0] =  dp[i-1][0]\n",
    "            dp[i][1] =  dp[i-1][1] + 1\n",
    "        print('i is '+ str(i) + 'after 1st count')\n",
    "        print(dp)\n",
    "        if B[i] > A[i-1] and A[i] > B[i-1]:\n",
    "            dp[i][0] = min(dp[i][0], dp[i-1][1])\n",
    "            dp[i][1] = min(dp[i][1], dp[i-1][0] + 1)\n",
    "        print('i is '+ str(i) + 'after 2nd count')\n",
    "        print(dp)\n",
    "    return(min(dp[n-1][0], dp[n-1][1])) "
   ]
  },
  {
   "cell_type": "code",
   "execution_count": 122,
   "metadata": {},
   "outputs": [],
   "source": [
    "A = [1,3,5,4]\n",
    "B = [1,2,3,7]"
   ]
  },
  {
   "cell_type": "code",
   "execution_count": 123,
   "metadata": {},
   "outputs": [
    {
     "name": "stdout",
     "output_type": "stream",
     "text": [
      "i is 1after 1st count\n",
      "[[0, 1], [0, 2], [inf, inf], [inf, inf]]\n",
      "i is 1after 2nd count\n",
      "[[0, 1], [0, 1], [inf, inf], [inf, inf]]\n",
      "i is 2after 1st count\n",
      "[[0, 1], [0, 1], [0, 2], [inf, inf]]\n",
      "i is 2after 2nd count\n",
      "[[0, 1], [0, 1], [0, 2], [inf, inf]]\n",
      "i is 3after 1st count\n",
      "[[0, 1], [0, 1], [0, 2], [inf, inf]]\n",
      "i is 3after 2nd count\n",
      "[[0, 1], [0, 1], [0, 2], [2, 1]]\n"
     ]
    },
    {
     "data": {
      "text/plain": [
       "1"
      ]
     },
     "execution_count": 123,
     "metadata": {},
     "output_type": "execute_result"
    }
   ],
   "source": [
    "minSwap(A,B)"
   ]
  },
  {
   "cell_type": "code",
   "execution_count": 124,
   "metadata": {},
   "outputs": [
    {
     "name": "stdout",
     "output_type": "stream",
     "text": [
      "i is 1after 1st count\n",
      "[[0, 1], [inf, inf], [inf, inf], [inf, inf], [inf, inf]]\n",
      "i is 1after 2nd count\n",
      "[[0, 1], [1, 1], [inf, inf], [inf, inf], [inf, inf]]\n",
      "i is 2after 1st count\n",
      "[[0, 1], [1, 1], [1, 2], [inf, inf], [inf, inf]]\n",
      "i is 2after 2nd count\n",
      "[[0, 1], [1, 1], [1, 2], [inf, inf], [inf, inf]]\n",
      "i is 3after 1st count\n",
      "[[0, 1], [1, 1], [1, 2], [1, 3], [inf, inf]]\n",
      "i is 3after 2nd count\n",
      "[[0, 1], [1, 1], [1, 2], [1, 2], [inf, inf]]\n",
      "i is 4after 1st count\n",
      "[[0, 1], [1, 1], [1, 2], [1, 2], [1, 3]]\n",
      "i is 4after 2nd count\n",
      "[[0, 1], [1, 1], [1, 2], [1, 2], [1, 2]]\n"
     ]
    },
    {
     "data": {
      "text/plain": [
       "1"
      ]
     },
     "execution_count": 124,
     "metadata": {},
     "output_type": "execute_result"
    }
   ],
   "source": [
    "A = [0,3,5,8,9]\n",
    "B = [2,1,4,6,9]\n",
    "minSwap(A,B)"
   ]
  },
  {
   "cell_type": "code",
   "execution_count": 125,
   "metadata": {},
   "outputs": [
    {
     "name": "stdout",
     "output_type": "stream",
     "text": [
      "i is 1after 1st count\n",
      "[[0, 1], [0, 2], [inf, inf], [inf, inf], [inf, inf]]\n",
      "i is 1after 2nd count\n",
      "[[0, 1], [0, 1], [inf, inf], [inf, inf], [inf, inf]]\n",
      "i is 2after 1st count\n",
      "[[0, 1], [0, 1], [0, 2], [inf, inf], [inf, inf]]\n",
      "i is 2after 2nd count\n",
      "[[0, 1], [0, 1], [0, 2], [inf, inf], [inf, inf]]\n",
      "i is 3after 1st count\n",
      "[[0, 1], [0, 1], [0, 2], [0, 3], [inf, inf]]\n",
      "i is 3after 2nd count\n",
      "[[0, 1], [0, 1], [0, 2], [0, 3], [inf, inf]]\n",
      "i is 4after 1st count\n",
      "[[0, 1], [0, 1], [0, 2], [0, 3], [0, 4]]\n",
      "i is 4after 2nd count\n",
      "[[0, 1], [0, 1], [0, 2], [0, 3], [0, 1]]\n"
     ]
    },
    {
     "data": {
      "text/plain": [
       "0"
      ]
     },
     "execution_count": 125,
     "metadata": {},
     "output_type": "execute_result"
    }
   ],
   "source": [
    "A = [2,4,5,7,10]\n",
    "B = [1,3,4,5,9]\n",
    "minSwap(A,B)"
   ]
  },
  {
   "cell_type": "markdown",
   "metadata": {},
   "source": [
    "## Hashed Ports \n",
    "\n",
    "Packets are sent to different ports on a compute system based on the hash of their packet ID. The value of the hash is given as below:\n",
    "\n",
    "Hash = mod(packet_id, numberOfPorts)\n",
    "\n",
    "where mod is the modulus operator and takes the mod of first operand by second operand. \n",
    "\n",
    "The ports are numbered from 0 to (number of ports)-1, and a packet is initially sent to the port that has the port number equal to the hash of its packet ID. Each port requires a time t to send a packet. If a port is currently sending a packet, this packet is then sent to the next port number, and so on. Given that x packets arrive 1 per second, and given the IDs of the packets, find the port at which each packet is finally sent. Firse packet is sent at time t = 1. \n",
    "\n",
    "**Function Description:**\n",
    "Compute the sentTimes function in the editor below. The function must return an integer array denoting the ports at which the packets are sent. \n",
    "sentTimes has the following parameters:\n",
    "* numberOfPorts: An integer, the number of ports in the system\n",
    "* transmissionTime: An integer, the time for a port to send a packet. \n",
    "* packetIds: An integer array, where packetids describes the IDs of the packets in the order in whcy they arrive \n",
    "\n",
    "**Constraints:**\n",
    "* 1 <= numberOfPorts <= 2000\n",
    "* 1 <= transmissionTime <= 100\n",
    "* 1 <= x <= 2000\n",
    "* 1 <= packetIds_i <= 10^5. \n"
   ]
  },
  {
   "cell_type": "code",
   "execution_count": 10,
   "metadata": {},
   "outputs": [],
   "source": [
    "def sentTimes(numberOfPorts, transmissionTime, PacketIds):\n",
    "    res = []\n",
    "    t = 1\n",
    "    queue = []\n",
    "    avail = [0]*numberOfPorts\n",
    "    for pid in PacketIds:\n",
    "        while queue and avail[queue[0]] <= t:\n",
    "            queue = queue[1:]\n",
    "        if len(queue) == numberOfPorts:\n",
    "            t = avail[queue[0]]\n",
    "            queue = queue[1:]\n",
    "        port = pid%numberOfPorts\n",
    "        while avail[port] > t:\n",
    "            port = (port+1)%numberOfPorts\n",
    "        avail[port] = t + transmissionTime\n",
    "        queue.append(port)\n",
    "        res.append(port)\n",
    "        t += 1\n",
    "    return res "
   ]
  },
  {
   "cell_type": "code",
   "execution_count": 4,
   "metadata": {},
   "outputs": [
    {
     "name": "stdout",
     "output_type": "stream",
     "text": [
      "[1, 2, 3, 4, 0, 1]\n"
     ]
    }
   ],
   "source": [
    "print(sentTimes(numberOfPorts = 5, transmissionTime = 10, PacketIds=[1,2,3,4,5,6]))"
   ]
  },
  {
   "cell_type": "code",
   "execution_count": 6,
   "metadata": {},
   "outputs": [],
   "source": [
    "import collections\n",
    "def hashedPorts(n, T, packet_id):\n",
    "    ans, t = [], 1\n",
    "    avail = [0]*n\n",
    "    queue = collections.deque()\n",
    "    for pid in packet_id:\n",
    "        # pop from queue if the port is vailable\n",
    "        while queue and avail[queue[0]] <= t:\n",
    "            queue.popleft()\n",
    "        # If no ports available, wait until there is one available\n",
    "        if len(queue) == n:\n",
    "            t = avail[queue.popleft()]\n",
    "        # try port until find one available\n",
    "        port = pid%n\n",
    "        while avail[port] > t:\n",
    "            port = (port + 1)%n\n",
    "        # send packet, update available time for the port \n",
    "        avail[port] = t+ T\n",
    "        queue.append(port)\n",
    "        ans.append(port)\n",
    "        t += 1\n",
    "    return(ans)\n",
    "        "
   ]
  },
  {
   "cell_type": "code",
   "execution_count": 11,
   "metadata": {},
   "outputs": [
    {
     "name": "stdout",
     "output_type": "stream",
     "text": [
      "[1, 2, 3, 4, 0, 1]\n",
      "[1, 2, 3, 4, 0, 1]\n"
     ]
    }
   ],
   "source": [
    "n = 5 \n",
    "T= 10 \n",
    "packid = [1,2,3,4,5,6]\n",
    "\n",
    "print(hashedPorts(n, T, packid))\n",
    "print(sentTimes(n, T, packid))"
   ]
  },
  {
   "cell_type": "code",
   "execution_count": 12,
   "metadata": {},
   "outputs": [
    {
     "name": "stdout",
     "output_type": "stream",
     "text": [
      "[0, 1, 2, 3, 2, 3]\n",
      "[0, 1, 2, 3, 2, 3]\n"
     ]
    }
   ],
   "source": [
    "n = 5\n",
    "T = 2\n",
    "packid = [5,1,6,2,7,3]\n",
    "\n",
    "print(hashedPorts(n, T, packid))\n",
    "print(sentTimes(n, T, packid))"
   ]
  },
  {
   "cell_type": "code",
   "execution_count": 13,
   "metadata": {},
   "outputs": [
    {
     "name": "stdout",
     "output_type": "stream",
     "text": [
      "[1, 2, 3, 4, 0, 1]\n",
      "[1, 2, 3, 4, 0, 1]\n"
     ]
    }
   ],
   "source": [
    "n = 5 \n",
    "T = 10\n",
    "packid = [1,1,1,6,2,2]\n",
    "print(hashedPorts(n,T,packid))\n",
    "print(sentTimes(n, T, packid))"
   ]
  },
  {
   "cell_type": "markdown",
   "metadata": {},
   "source": [
    "## Multiples of 3 and 5\n",
    "\n",
    "If we list all the natural numbers below 10 that are multiples of 3 or 5, we get 3,5,6,9. The sum of these multiples is 23.\n",
    "\n",
    "Find the sum of all the multiples of 3 or 5 below N. \n",
    "\n",
    "Input Format.\n",
    "\n",
    "First line contains T that denotes the number of test cases. This is followed by T lines, each containing an integer N. \n",
    "\n",
    "Output Format:\n",
    "\n",
    "For each test case, print an integer that denotes the sum of all the multiples of 3 or 5 below N. "
   ]
  },
  {
   "cell_type": "code",
   "execution_count": 10,
   "metadata": {},
   "outputs": [
    {
     "data": {
      "text/plain": [
       "1"
      ]
     },
     "execution_count": 10,
     "metadata": {},
     "output_type": "execute_result"
    }
   ],
   "source": [
    "8 // 5"
   ]
  },
  {
   "cell_type": "code",
   "execution_count": 7,
   "metadata": {},
   "outputs": [],
   "source": [
    "def sum_multiples_3_5(N):\n",
    "    \n",
    "    ans = 0\n",
    "    \n",
    "    if N <= 2:\n",
    "        return ans  \n",
    "    \n",
    "    for i in range(3,N):\n",
    "        if i % 5 == 0 or i % 3 == 0:\n",
    "            print(i)\n",
    "            ans += i\n",
    "            \n",
    "    return(ans)"
   ]
  },
  {
   "cell_type": "code",
   "execution_count": 8,
   "metadata": {},
   "outputs": [
    {
     "name": "stdout",
     "output_type": "stream",
     "text": [
      "3\n",
      "5\n",
      "6\n",
      "9\n"
     ]
    },
    {
     "data": {
      "text/plain": [
       "23"
      ]
     },
     "execution_count": 8,
     "metadata": {},
     "output_type": "execute_result"
    }
   ],
   "source": [
    "N = 10\n",
    "\n",
    "sum_multiples_3_5(N)"
   ]
  },
  {
   "cell_type": "code",
   "execution_count": 9,
   "metadata": {},
   "outputs": [
    {
     "name": "stdout",
     "output_type": "stream",
     "text": [
      "3\n",
      "5\n",
      "6\n",
      "9\n",
      "10\n",
      "12\n",
      "15\n",
      "18\n",
      "20\n",
      "21\n",
      "24\n",
      "25\n",
      "27\n",
      "30\n",
      "33\n",
      "35\n",
      "36\n",
      "39\n",
      "40\n",
      "42\n",
      "45\n",
      "48\n",
      "50\n",
      "51\n",
      "54\n",
      "55\n",
      "57\n",
      "60\n",
      "63\n",
      "65\n",
      "66\n",
      "69\n",
      "70\n",
      "72\n",
      "75\n",
      "78\n",
      "80\n",
      "81\n",
      "84\n",
      "85\n",
      "87\n",
      "90\n",
      "93\n",
      "95\n",
      "96\n",
      "99\n"
     ]
    },
    {
     "data": {
      "text/plain": [
       "2318"
      ]
     },
     "execution_count": 9,
     "metadata": {},
     "output_type": "execute_result"
    }
   ],
   "source": [
    "N = 100\n",
    "\n",
    "sum_multiples_3_5(N)"
   ]
  },
  {
   "cell_type": "markdown",
   "metadata": {},
   "source": [
    "Time complexity: O(N). Space complexity: O(1). "
   ]
  },
  {
   "cell_type": "code",
   "execution_count": 31,
   "metadata": {},
   "outputs": [],
   "source": [
    "def sum_multiples_3_5_v2(N):\n",
    "    \n",
    "    ans = 0\n",
    "    \n",
    "    for i in range(1,(N-1) //5+1):\n",
    "        print(i*5)\n",
    "        ans += (i)*5 \n",
    "    \n",
    "    for j in range(1,(N-1)//3 + 1):\n",
    "        print(j*3)\n",
    "        ans += (j)*3\n",
    "        \n",
    "    for k in range(1,(N-1)//15+1):\n",
    "        print(k*15)\n",
    "        ans -= (k)*15\n",
    "    return(ans)\n",
    "    "
   ]
  },
  {
   "cell_type": "code",
   "execution_count": 32,
   "metadata": {},
   "outputs": [
    {
     "name": "stdout",
     "output_type": "stream",
     "text": [
      "5\n",
      "10\n",
      "15\n",
      "20\n",
      "25\n",
      "30\n",
      "35\n",
      "40\n",
      "45\n",
      "50\n",
      "55\n",
      "60\n",
      "65\n",
      "70\n",
      "75\n",
      "80\n",
      "85\n",
      "90\n",
      "95\n",
      "3\n",
      "6\n",
      "9\n",
      "12\n",
      "15\n",
      "18\n",
      "21\n",
      "24\n",
      "27\n",
      "30\n",
      "33\n",
      "36\n",
      "39\n",
      "42\n",
      "45\n",
      "48\n",
      "51\n",
      "54\n",
      "57\n",
      "60\n",
      "63\n",
      "66\n",
      "69\n",
      "72\n",
      "75\n",
      "78\n",
      "81\n",
      "84\n",
      "87\n",
      "90\n",
      "93\n",
      "96\n",
      "99\n",
      "15\n",
      "30\n",
      "45\n",
      "60\n",
      "75\n",
      "90\n"
     ]
    },
    {
     "data": {
      "text/plain": [
       "2318"
      ]
     },
     "execution_count": 32,
     "metadata": {},
     "output_type": "execute_result"
    }
   ],
   "source": [
    "sum_multiples_3_5_v2(100)"
   ]
  },
  {
   "cell_type": "code",
   "execution_count": 35,
   "metadata": {},
   "outputs": [],
   "source": [
    "def sum_multiple_3_5_v3(n):\n",
    "    \n",
    "    m = 3 \n",
    "    x = 5 \n",
    "    lcm = 15 \n",
    "    mulm = (n-1) // m \n",
    "    mulx = (n -1) // x\n",
    "    mullcm = (n-1) // lcm\n",
    "    print(m * mulm * (mulm + 1) //2 + x * mulx * (mulx + 1)//2 - \n",
    "         lcm* mullcm *(mullcm +1)// 2)"
   ]
  },
  {
   "cell_type": "code",
   "execution_count": 36,
   "metadata": {},
   "outputs": [
    {
     "name": "stdout",
     "output_type": "stream",
     "text": [
      "2318\n"
     ]
    }
   ],
   "source": [
    "sum_multiple_3_5_v3(100)"
   ]
  },
  {
   "cell_type": "markdown",
   "metadata": {},
   "source": [
    "## Factors of 3 and 5\n",
    "\n",
    "A positive integer is defined as ideal if it can be expressed in the form, $3^x \\times 5^y$ for some non-negative integer x and y. Ideal integers have only 3 and 5 as prime divisors. 15, 45, 75 are ideal integers but 6, 10, 21 are not.\n",
    "\n",
    "Find the number of ideal-integers within the given segment [l,r], inclusive, i.e. the integers t such that l <= t <= r. \n",
    "\n",
    "For exampel, l = 200, r = 405. The smallest ideal integer in that range is $3^2 \\times 5^2 = 225$. Other values are $3^5 \\times 5^0 - 243, 3^1 \\times 5^3 = 375, 3^4 *5^1 = 405. $ There are 4 ideal integers in the range. "
   ]
  },
  {
   "cell_type": "code",
   "execution_count": 61,
   "metadata": {},
   "outputs": [],
   "source": [
    "def ideal_in_range(l: int, r: int) -> int:\n",
    "    \n",
    "    count = 0 \n",
    "    \n",
    "    def is_ideal(n: int) -> bool:\n",
    "        if n == 1:\n",
    "            return True \n",
    "        else:\n",
    "            if n % 3 == 0:\n",
    "                print('n is multiple of 3 ' + str(n))\n",
    "                return is_ideal(n // 3)\n",
    "            elif n % 5 == 0:\n",
    "                print('n is mutiple of 5 ' + str(n))\n",
    "                return is_ideal(n // 5)\n",
    "            else:\n",
    "                return False \n",
    "    \n",
    "    for i in range(l,r+1):\n",
    "        if is_ideal(i) == True:\n",
    "            print(i)\n",
    "            count += 1\n",
    "    return count "
   ]
  },
  {
   "cell_type": "code",
   "execution_count": 62,
   "metadata": {},
   "outputs": [
    {
     "name": "stdout",
     "output_type": "stream",
     "text": [
      "1\n"
     ]
    },
    {
     "data": {
      "text/plain": [
       "1"
      ]
     },
     "execution_count": 62,
     "metadata": {},
     "output_type": "execute_result"
    }
   ],
   "source": [
    "ideal_in_range(1,1)"
   ]
  },
  {
   "cell_type": "code",
   "execution_count": 63,
   "metadata": {},
   "outputs": [
    {
     "name": "stdout",
     "output_type": "stream",
     "text": [
      "n is mutiple of 5 200\n",
      "n is mutiple of 5 40\n",
      "n is multiple of 3 201\n",
      "n is multiple of 3 204\n",
      "n is mutiple of 5 205\n",
      "n is multiple of 3 207\n",
      "n is multiple of 3 69\n",
      "n is multiple of 3 210\n",
      "n is mutiple of 5 70\n",
      "n is multiple of 3 213\n",
      "n is mutiple of 5 215\n",
      "n is multiple of 3 216\n",
      "n is multiple of 3 72\n",
      "n is multiple of 3 24\n",
      "n is multiple of 3 219\n",
      "n is mutiple of 5 220\n",
      "n is multiple of 3 222\n",
      "n is multiple of 3 225\n",
      "n is multiple of 3 75\n",
      "n is mutiple of 5 25\n",
      "n is mutiple of 5 5\n",
      "225\n",
      "n is multiple of 3 228\n",
      "n is mutiple of 5 230\n",
      "n is multiple of 3 231\n",
      "n is multiple of 3 234\n",
      "n is multiple of 3 78\n",
      "n is mutiple of 5 235\n",
      "n is multiple of 3 237\n",
      "n is multiple of 3 240\n",
      "n is mutiple of 5 80\n",
      "n is multiple of 3 243\n",
      "n is multiple of 3 81\n",
      "n is multiple of 3 27\n",
      "n is multiple of 3 9\n",
      "n is multiple of 3 3\n",
      "243\n",
      "n is mutiple of 5 245\n",
      "n is multiple of 3 246\n",
      "n is multiple of 3 249\n",
      "n is mutiple of 5 250\n",
      "n is mutiple of 5 50\n",
      "n is mutiple of 5 10\n",
      "n is multiple of 3 252\n",
      "n is multiple of 3 84\n",
      "n is multiple of 3 255\n",
      "n is mutiple of 5 85\n",
      "n is multiple of 3 258\n",
      "n is mutiple of 5 260\n",
      "n is multiple of 3 261\n",
      "n is multiple of 3 87\n",
      "n is multiple of 3 264\n",
      "n is mutiple of 5 265\n",
      "n is multiple of 3 267\n",
      "n is multiple of 3 270\n",
      "n is multiple of 3 90\n",
      "n is multiple of 3 30\n",
      "n is mutiple of 5 10\n",
      "n is multiple of 3 273\n",
      "n is mutiple of 5 275\n",
      "n is mutiple of 5 55\n",
      "n is multiple of 3 276\n",
      "n is multiple of 3 279\n",
      "n is multiple of 3 93\n",
      "n is mutiple of 5 280\n",
      "n is multiple of 3 282\n",
      "n is multiple of 3 285\n",
      "n is mutiple of 5 95\n",
      "n is multiple of 3 288\n",
      "n is multiple of 3 96\n",
      "n is mutiple of 5 290\n",
      "n is multiple of 3 291\n",
      "n is multiple of 3 294\n",
      "n is mutiple of 5 295\n",
      "n is multiple of 3 297\n",
      "n is multiple of 3 99\n",
      "n is multiple of 3 33\n",
      "n is multiple of 3 300\n",
      "n is mutiple of 5 100\n",
      "n is mutiple of 5 20\n",
      "n is multiple of 3 303\n",
      "n is mutiple of 5 305\n",
      "n is multiple of 3 306\n",
      "n is multiple of 3 102\n",
      "n is multiple of 3 309\n",
      "n is mutiple of 5 310\n",
      "n is multiple of 3 312\n",
      "n is multiple of 3 315\n",
      "n is multiple of 3 105\n",
      "n is mutiple of 5 35\n",
      "n is multiple of 3 318\n",
      "n is mutiple of 5 320\n",
      "n is multiple of 3 321\n",
      "n is multiple of 3 324\n",
      "n is multiple of 3 108\n",
      "n is multiple of 3 36\n",
      "n is multiple of 3 12\n",
      "n is mutiple of 5 325\n",
      "n is mutiple of 5 65\n",
      "n is multiple of 3 327\n",
      "n is multiple of 3 330\n",
      "n is mutiple of 5 110\n",
      "n is multiple of 3 333\n",
      "n is multiple of 3 111\n",
      "n is mutiple of 5 335\n",
      "n is multiple of 3 336\n",
      "n is multiple of 3 339\n",
      "n is mutiple of 5 340\n",
      "n is multiple of 3 342\n",
      "n is multiple of 3 114\n",
      "n is multiple of 3 345\n",
      "n is mutiple of 5 115\n",
      "n is multiple of 3 348\n",
      "n is mutiple of 5 350\n",
      "n is mutiple of 5 70\n",
      "n is multiple of 3 351\n",
      "n is multiple of 3 117\n",
      "n is multiple of 3 39\n",
      "n is multiple of 3 354\n",
      "n is mutiple of 5 355\n",
      "n is multiple of 3 357\n",
      "n is multiple of 3 360\n",
      "n is multiple of 3 120\n",
      "n is mutiple of 5 40\n",
      "n is multiple of 3 363\n",
      "n is mutiple of 5 365\n",
      "n is multiple of 3 366\n",
      "n is multiple of 3 369\n",
      "n is multiple of 3 123\n",
      "n is mutiple of 5 370\n",
      "n is multiple of 3 372\n",
      "n is multiple of 3 375\n",
      "n is mutiple of 5 125\n",
      "n is mutiple of 5 25\n",
      "n is mutiple of 5 5\n",
      "375\n",
      "n is multiple of 3 378\n",
      "n is multiple of 3 126\n",
      "n is multiple of 3 42\n",
      "n is mutiple of 5 380\n",
      "n is multiple of 3 381\n",
      "n is multiple of 3 384\n",
      "n is mutiple of 5 385\n",
      "n is multiple of 3 387\n",
      "n is multiple of 3 129\n",
      "n is multiple of 3 390\n",
      "n is mutiple of 5 130\n",
      "n is multiple of 3 393\n",
      "n is mutiple of 5 395\n",
      "n is multiple of 3 396\n",
      "n is multiple of 3 132\n",
      "n is multiple of 3 399\n",
      "n is mutiple of 5 400\n",
      "n is mutiple of 5 80\n",
      "n is multiple of 3 402\n",
      "n is multiple of 3 405\n",
      "n is multiple of 3 135\n",
      "n is multiple of 3 45\n",
      "n is multiple of 3 15\n",
      "n is mutiple of 5 5\n",
      "405\n"
     ]
    },
    {
     "data": {
      "text/plain": [
       "4"
      ]
     },
     "execution_count": 63,
     "metadata": {},
     "output_type": "execute_result"
    }
   ],
   "source": [
    "ideal_in_range(200, 405)"
   ]
  },
  {
   "cell_type": "code",
   "execution_count": 57,
   "metadata": {},
   "outputs": [],
   "source": [
    "def is_ideal(n: int) -> bool:\n",
    "    if n == 1:\n",
    "        return True \n",
    "    else:\n",
    "        if n % 3 == 0:\n",
    "            print('n is multiple of 3 ' + str(n))\n",
    "            return is_ideal(n // 3)\n",
    "        elif n % 5 == 0:\n",
    "            print('n is mutiple of 5 ' + str(n))\n",
    "            return is_ideal(n // 5)\n",
    "        else:\n",
    "            return False "
   ]
  },
  {
   "cell_type": "code",
   "execution_count": 58,
   "metadata": {},
   "outputs": [
    {
     "name": "stdout",
     "output_type": "stream",
     "text": [
      "n is multiple of 3 15\n",
      "n is mutiple of 5 5\n"
     ]
    },
    {
     "data": {
      "text/plain": [
       "True"
      ]
     },
     "execution_count": 58,
     "metadata": {},
     "output_type": "execute_result"
    }
   ],
   "source": [
    "is_ideal(15)"
   ]
  },
  {
   "cell_type": "code",
   "execution_count": 59,
   "metadata": {},
   "outputs": [
    {
     "data": {
      "text/plain": [
       "5"
      ]
     },
     "execution_count": 59,
     "metadata": {},
     "output_type": "execute_result"
    }
   ],
   "source": [
    "15 // 3"
   ]
  },
  {
   "cell_type": "code",
   "execution_count": 60,
   "metadata": {},
   "outputs": [
    {
     "data": {
      "text/plain": [
       "1"
      ]
     },
     "execution_count": 60,
     "metadata": {},
     "output_type": "execute_result"
    }
   ],
   "source": [
    "5 // 5"
   ]
  },
  {
   "cell_type": "markdown",
   "metadata": {},
   "source": [
    "Time Complexity: O(n); Space Complexity: O(1)"
   ]
  },
  {
   "cell_type": "markdown",
   "metadata": {},
   "source": [
    "## 1177. Can You Make a Palindrome \n",
    "\n",
    "Given a string s, we make queries on substring of s. \n",
    "\n",
    "For each query queries[i] = [left, right, k], we may rearrange the substring s[left], ..., s[right], and then choose up to k of them to replace with any lowercase English letter. \n",
    "\n",
    "If the substring is possible to be a palindrome string after the operations above, the result of the query is true. Otherwise, the result is false. \n",
    "\n",
    "Return an array answer[], where answer[i] is the result of the i-th query queries[i]. \n",
    "\n",
    "Note that: Each letter is counted individually for replacement so if for example s[left...right] = 'aaa', and k = 2, we can only replace two of the letters. (Also, note that the initial string s is never modified by any query. )\n",
    "\n",
    "Example :\n",
    "\n",
    "Input: s = \"abcda\", queries = [[3,3,0],[1,2,0],[0,3,1],[0,3,2],[0,4,1]]\n",
    "Output: [true,false,false,true,true]\n",
    "Explanation:\n",
    "queries[0] : substring = \"d\", is palidrome.\n",
    "queries[1] : substring = \"bc\", is not palidrome.\n",
    "queries[2] : substring = \"abcd\", is not palidrome after replacing only 1 character.\n",
    "queries[3] : substring = \"abcd\", could be changed to \"abba\" which is palidrome. Also this can be changed to \"baab\" first rearrange it \"bacd\" then replace \"cd\" with \"ab\".\n",
    "queries[4] : substring = \"abcda\", could be changed to \"abcba\" which is palidrome."
   ]
  },
  {
   "cell_type": "markdown",
   "metadata": {},
   "source": [
    "**Solution:** \n",
    "\n",
    "1. Re-arrange is OK. We don't have to worry about how characters are sequences in the substring. \"aabbc\" is palindrome becuase we can arrange it like abcba. \n",
    "\n",
    "2. In palindorme,\n",
    " * All characters have even number of duplicates or \n",
    " * One character can have an odd number of duplicates. \n",
    " \n",
    " For example, aba has an even-numbered of 'a' and odd-numbered 'b'. So it is a palindrome, Another example 'abab' is also palindorme becuase it has even-numbered of 'a' and 'b'. \n",
    " \n",
    "3. Another trick here is we can replace some character based on the third parameter ([0,3,1]) from the input query. Example, inpu string: \"abcda\" and substring for the input [0,3,2] would be \"abcd\". \"abcd\" is not palindrom becuase it does not satisfy the condition 1 and 2. But the third parameter, whcih is 2, means we can replace/merge with other odd-numbered duplicate characters. Let's break it down. \n",
    "\n",
    "a-1 b-1 c-1 d-1\n",
    "\n",
    "Now if we merge a with c and b with d, it will look like below:\n",
    "\n",
    "a-2 b-2\n",
    "\n",
    "Now the substring will be \"abab\". After re-arranging, it will become \"abba'. How it is a palindrome. "
   ]
  },
  {
   "cell_type": "code",
   "execution_count": 66,
   "metadata": {},
   "outputs": [
    {
     "name": "stdout",
     "output_type": "stream",
     "text": [
      "Counter({'e': 4, 'G': 2, 'k': 2, 's': 2, 'f': 1, 'o': 1, 'r': 1})\n",
      "0\n",
      "0\n",
      "0\n",
      "0\n",
      "1\n",
      "1\n",
      "1\n"
     ]
    }
   ],
   "source": [
    "from collections import Counter \n",
    "\n",
    "test_str = \"GeeksforGeeks\"\n",
    "\n",
    "res = Counter(test_str)\n",
    "\n",
    "print(res)\n",
    "\n",
    "for letter in res:\n",
    "    print(res[letter] % 2)"
   ]
  },
  {
   "cell_type": "code",
   "execution_count": null,
   "metadata": {},
   "outputs": [],
   "source": [
    "res[l]"
   ]
  },
  {
   "cell_type": "code",
   "execution_count": 86,
   "metadata": {},
   "outputs": [],
   "source": [
    "from collections import Counter \n",
    "\n",
    "def canMakePaliQueries(s:str, queries:list) -> list:\n",
    "    result = []\n",
    "    for query in queries:\n",
    "        result.append(can_make_pali(query))\n",
    "        \n",
    "    def can_make_pali(query) -> bool:\n",
    "        left = query[0]\n",
    "        right = query[1]\n",
    "        if left == right:\n",
    "            return True\n",
    "        k = query[2]\n",
    "        rep = 0\n",
    "        freq = Counter(s[left: right+1])\n",
    "        \n",
    "        for letter in freq:\n",
    "            if freq[letter] %2 ==1 :\n",
    "                rep += 1\n",
    "        if rep//2 <= k:\n",
    "            return True\n",
    "        else:\n",
    "            return False \n",
    "                \n",
    "                \n",
    "        \n",
    "        \n",
    "            "
   ]
  },
  {
   "cell_type": "code",
   "execution_count": 76,
   "metadata": {},
   "outputs": [
    {
     "data": {
      "text/plain": [
       "'abc'"
      ]
     },
     "execution_count": 76,
     "metadata": {},
     "output_type": "execute_result"
    }
   ],
   "source": [
    "s[0:3]"
   ]
  },
  {
   "cell_type": "code",
   "execution_count": 81,
   "metadata": {},
   "outputs": [],
   "source": [
    "def can_make_pali(query,s) -> bool:\n",
    "    left = query[0]\n",
    "    right = query[1]\n",
    "    print('left is '+ str(left))\n",
    "    print('right is ' + str(right))\n",
    "    if left == right:\n",
    "        return True\n",
    "    k = query[2]\n",
    "    rep = 0\n",
    "    freq = Counter(s[left: right+1])\n",
    "    print('freq is ')\n",
    "    print(freq)\n",
    "\n",
    "    for letter in freq:\n",
    "        if freq[letter] %2 ==1 :\n",
    "            rep += 1\n",
    "    print('rep is '+ str(rep))\n",
    "            \n",
    "    if rep//2 <= k:\n",
    "        return True\n",
    "    else:\n",
    "        return False \n",
    "                "
   ]
  },
  {
   "cell_type": "code",
   "execution_count": 85,
   "metadata": {},
   "outputs": [
    {
     "name": "stdout",
     "output_type": "stream",
     "text": [
      "left is 0\n",
      "right is 4\n",
      "freq is \n",
      "Counter({'a': 2, 'b': 1, 'c': 1, 'd': 1})\n",
      "rep is 3\n"
     ]
    },
    {
     "data": {
      "text/plain": [
       "True"
      ]
     },
     "execution_count": 85,
     "metadata": {},
     "output_type": "execute_result"
    }
   ],
   "source": [
    "s = 'abcda'\n",
    "\n",
    "left = 0\n",
    "right = 4 \n",
    "k = 1\n",
    "\n",
    "query = [left, right, k]\n",
    "\n",
    "can_make_pali(query, s)"
   ]
  },
  {
   "cell_type": "code",
   "execution_count": 87,
   "metadata": {},
   "outputs": [],
   "source": [
    "def canMakePaliQueries(s, queries):\n",
    "    ans = []\n",
    "    for l, r, k in queries:\n",
    "        ss = s[l:r+1]\n",
    "        rem = 0\n",
    "        for letter, n in collections.Counter(ss).items():\n",
    "            rem += n % 2\n",
    "        need = rem // 2\n",
    "        ans.append(need <= k)\n",
    "    return ans"
   ]
  },
  {
   "cell_type": "markdown",
   "metadata": {},
   "source": [
    "However, we are counting letters for every substring, which may overlap with previous calculations. This solution gives Time Limit Exceeded. \n",
    "\n",
    "Therefore, we can optimize by caching previous results. We can say dp[i] represents the count of all the letters in s[:i]. Then we know that the counts of dp[l] substracted from dp[r+1] will give us the count of all the letters in the substring s[l:r+1]. We could naively store them all in collections.Counter(). "
   ]
  },
  {
   "cell_type": "code",
   "execution_count": 89,
   "metadata": {},
   "outputs": [],
   "source": [
    "def canMakePaliQueries_2(s, queries):\n",
    "    dp = [Counter()]\n",
    "    for i in range(1, len(s) + 1):\n",
    "        dp.append(dp[i-1] + Counter(s[i-1]))\n",
    "    ans = []\n",
    "    for l, r, k in queries:\n",
    "        c = dp[r+1] - dp[l]\n",
    "        need = sum (v%2 for v in c.values()) //2\n",
    "        ans.append(need <= k)\n",
    "    return(ans)"
   ]
  },
  {
   "cell_type": "markdown",
   "metadata": {},
   "source": [
    "However, the overhead is too great. This solution still gives the Time Limit Exceeded. We can simplify by realizing we only care about lowercase letters, 26 in total. We can store our data in an array of size 26 for each substring. "
   ]
  },
  {
   "cell_type": "code",
   "execution_count": 93,
   "metadata": {},
   "outputs": [
    {
     "name": "stdout",
     "output_type": "stream",
     "text": [
      "[[0, 0, 0, 0, 0], [0, 0, 0, 0, 0], [0, 0, 0, 0, 0], [0, 0, 0, 0, 0], [0, 0, 0, 0, 0]]\n"
     ]
    }
   ],
   "source": [
    "N = 5 \n",
    "dp = [[0]*N]*len(s)\n",
    "print(dp)"
   ]
  },
  {
   "cell_type": "code",
   "execution_count": 94,
   "metadata": {},
   "outputs": [],
   "source": [
    "s = 'abcda'\n",
    "\n",
    "i = 2"
   ]
  },
  {
   "cell_type": "code",
   "execution_count": 95,
   "metadata": {},
   "outputs": [],
   "source": [
    "new = dp[i-1][:]"
   ]
  },
  {
   "cell_type": "code",
   "execution_count": 96,
   "metadata": {},
   "outputs": [
    {
     "data": {
      "text/plain": [
       "[0, 0, 0, 0, 0]"
      ]
     },
     "execution_count": 96,
     "metadata": {},
     "output_type": "execute_result"
    }
   ],
   "source": [
    "new"
   ]
  },
  {
   "cell_type": "code",
   "execution_count": 139,
   "metadata": {},
   "outputs": [
    {
     "data": {
      "text/plain": [
       "1"
      ]
     },
     "execution_count": 139,
     "metadata": {},
     "output_type": "execute_result"
    }
   ],
   "source": [
    "5 & 1"
   ]
  },
  {
   "cell_type": "code",
   "execution_count": 149,
   "metadata": {},
   "outputs": [],
   "source": [
    "def canMakePaliQueries_3(s, queries):\n",
    "    N = 26\n",
    "    a = ord('a')\n",
    "    dp = [[0]*N]\n",
    "    for i in range(1, len(s) + 1):\n",
    "        new = dp[i-1][:]\n",
    "        j = ord(s[i-1]) - a\n",
    "        new[j] += 1\n",
    "        dp.append(new)\n",
    "        \n",
    "    ans = []\n",
    "    \n",
    "    for l, r, k in queries:\n",
    "        L = dp[l]\n",
    "        print(L)\n",
    "        R = dp[r+1]\n",
    "        print(R)\n",
    "        \n",
    "        ans.append(sum(R[i]- L[i] & 1 for i in range(N)) //2 <= k)\n",
    "    return ans "
   ]
  },
  {
   "cell_type": "code",
   "execution_count": 150,
   "metadata": {},
   "outputs": [],
   "source": [
    "s = 'abcda'\n",
    "\n",
    "queries = [[3,3,0],[1,2,0],[0,3,1],[0,3,2],[0,4,1]]"
   ]
  },
  {
   "cell_type": "code",
   "execution_count": 151,
   "metadata": {},
   "outputs": [
    {
     "name": "stdout",
     "output_type": "stream",
     "text": [
      "[1, 1, 1, 0, 0, 0, 0, 0, 0, 0, 0, 0, 0, 0, 0, 0, 0, 0, 0, 0, 0, 0, 0, 0, 0, 0]\n",
      "[1, 1, 1, 1, 0, 0, 0, 0, 0, 0, 0, 0, 0, 0, 0, 0, 0, 0, 0, 0, 0, 0, 0, 0, 0, 0]\n",
      "[1, 0, 0, 0, 0, 0, 0, 0, 0, 0, 0, 0, 0, 0, 0, 0, 0, 0, 0, 0, 0, 0, 0, 0, 0, 0]\n",
      "[1, 1, 1, 0, 0, 0, 0, 0, 0, 0, 0, 0, 0, 0, 0, 0, 0, 0, 0, 0, 0, 0, 0, 0, 0, 0]\n",
      "[0, 0, 0, 0, 0, 0, 0, 0, 0, 0, 0, 0, 0, 0, 0, 0, 0, 0, 0, 0, 0, 0, 0, 0, 0, 0]\n",
      "[1, 1, 1, 1, 0, 0, 0, 0, 0, 0, 0, 0, 0, 0, 0, 0, 0, 0, 0, 0, 0, 0, 0, 0, 0, 0]\n",
      "[0, 0, 0, 0, 0, 0, 0, 0, 0, 0, 0, 0, 0, 0, 0, 0, 0, 0, 0, 0, 0, 0, 0, 0, 0, 0]\n",
      "[1, 1, 1, 1, 0, 0, 0, 0, 0, 0, 0, 0, 0, 0, 0, 0, 0, 0, 0, 0, 0, 0, 0, 0, 0, 0]\n",
      "[0, 0, 0, 0, 0, 0, 0, 0, 0, 0, 0, 0, 0, 0, 0, 0, 0, 0, 0, 0, 0, 0, 0, 0, 0, 0]\n",
      "[2, 1, 1, 1, 0, 0, 0, 0, 0, 0, 0, 0, 0, 0, 0, 0, 0, 0, 0, 0, 0, 0, 0, 0, 0, 0]\n"
     ]
    },
    {
     "data": {
      "text/plain": [
       "[True, False, False, True, True]"
      ]
     },
     "execution_count": 151,
     "metadata": {},
     "output_type": "execute_result"
    }
   ],
   "source": [
    "canMakePaliQueries_3(s,queries)"
   ]
  },
  {
   "cell_type": "markdown",
   "metadata": {},
   "source": [
    "## 149. Max Points on a Line\n",
    "\n",
    "Given n points on a 2D plane, find the maximum number of points that lie on the same straight line. \n",
    "\n",
    "**Example 1:**\n",
    "Input: [[1,1], [2,2], [3,3]]\n",
    "Output: 3 \n",
    "\n",
    "**Example 2:**\n",
    "Input: [[1,1], [3,2], [5,3], [4,1], [2,3], [1,4]]\n",
    "Output: 4 "
   ]
  },
  {
   "cell_type": "code",
   "execution_count": 194,
   "metadata": {},
   "outputs": [],
   "source": [
    "from collections import Counter\n",
    "\n",
    "def maxPoints(points: list) -> int:\n",
    "    \n",
    "    def slope(p1,p2):\n",
    "        x1, y1 = p1\n",
    "        x2, y2 = p2\n",
    "        if x1 == x2:\n",
    "            return 0\n",
    "        elif y1 == y2:\n",
    "            return float('Inf')\n",
    "        else:\n",
    "            return (x1-x2)/(y1-y2)\n",
    "    ans = 1\n",
    "    \n",
    "    l = len(points)\n",
    "    if l<= 2:\n",
    "        return l\n",
    "        \n",
    "    for i in range(0, l):\n",
    "        dup = 0\n",
    "        count = {}\n",
    "        p1 = points[i]\n",
    "        for j in range(i+1, l):\n",
    "            p2 = points[j]\n",
    "            if p1 == p2:\n",
    "                dup += 1\n",
    "            else:\n",
    "                s = slope(p1,p2)\n",
    "                print(s)\n",
    "                if s in count:\n",
    "                    count[s] += 1\n",
    "                else:\n",
    "                    count[s] = 1 \n",
    "            print(count)\n",
    "            if count: \n",
    "                ans = max(ans, max(count.values())+ dup + 1)\n",
    "            else:\n",
    "                ans = max(ans, dup + 1)\n",
    "    return ans"
   ]
  },
  {
   "cell_type": "markdown",
   "metadata": {},
   "source": [
    "Time Complexity: O(n^2)\n",
    "Space Complexity: O(n)"
   ]
  },
  {
   "cell_type": "code",
   "execution_count": 195,
   "metadata": {},
   "outputs": [
    {
     "name": "stdout",
     "output_type": "stream",
     "text": [
      "1.0\n",
      "{1.0: 1}\n",
      "1.0\n",
      "{1.0: 2}\n",
      "1.0\n",
      "{1.0: 1}\n"
     ]
    },
    {
     "data": {
      "text/plain": [
       "3"
      ]
     },
     "execution_count": 195,
     "metadata": {},
     "output_type": "execute_result"
    }
   ],
   "source": [
    "points = [[1,1], [2,2], [3,3]]\n",
    "maxPoints(points)"
   ]
  },
  {
   "cell_type": "code",
   "execution_count": 196,
   "metadata": {},
   "outputs": [
    {
     "name": "stdout",
     "output_type": "stream",
     "text": [
      "2.0\n",
      "{2.0: 1}\n",
      "2.0\n",
      "{2.0: 2}\n",
      "inf\n",
      "{2.0: 2, inf: 1}\n",
      "0.5\n",
      "{2.0: 2, inf: 1, 0.5: 1}\n",
      "0\n",
      "{2.0: 2, inf: 1, 0.5: 1, 0: 1}\n",
      "2.0\n",
      "{2.0: 1}\n",
      "-1.0\n",
      "{2.0: 1, -1.0: 1}\n",
      "-1.0\n",
      "{2.0: 1, -1.0: 2}\n",
      "-1.0\n",
      "{2.0: 1, -1.0: 3}\n",
      "0.5\n",
      "{0.5: 1}\n",
      "inf\n",
      "{0.5: 1, inf: 1}\n",
      "-4.0\n",
      "{0.5: 1, inf: 1, -4.0: 1}\n",
      "-1.0\n",
      "{-1.0: 1}\n",
      "-1.0\n",
      "{-1.0: 2}\n",
      "-1.0\n",
      "{-1.0: 1}\n"
     ]
    },
    {
     "data": {
      "text/plain": [
       "4"
      ]
     },
     "execution_count": 196,
     "metadata": {},
     "output_type": "execute_result"
    }
   ],
   "source": [
    "points = [[1,1], [3,2], [5,3], [4,1], [2,3], [1,4]]\n",
    "\n",
    "maxPoints(points)"
   ]
  },
  {
   "cell_type": "code",
   "execution_count": 180,
   "metadata": {},
   "outputs": [],
   "source": [
    "def slope(p1,p2):\n",
    "    x1 ,y1 = p1\n",
    "    x2, y2 = p2\n",
    "    if x1 == x2:\n",
    "        return 0\n",
    "    elif y1 == y2:\n",
    "        return float('Inf')\n",
    "    else:\n",
    "        return (x1-x2)/(y1-y2)"
   ]
  },
  {
   "cell_type": "code",
   "execution_count": 181,
   "metadata": {},
   "outputs": [
    {
     "name": "stdout",
     "output_type": "stream",
     "text": [
      "p1 is 1\n",
      "p2 is [2, 2]\n",
      "slope is 1.0\n",
      "p2 is [3, 3]\n",
      "slope is 1.0\n",
      "p1 is 2\n",
      "p2 is [3, 3]\n",
      "slope is 1.0\n",
      "p1 is 3\n"
     ]
    }
   ],
   "source": [
    "points = [[1,1], [2,2], [3,3]]\n",
    "\n",
    "for i in range(len(points)):\n",
    "    p1 = points[i]\n",
    "    print('p1 is '+str(p1[1]))\n",
    "    for j in range(i+1, len(points)):\n",
    "        p2 = points[j]\n",
    "        print('p2 is '+ str(p2))\n",
    "        s = slope(p1,p2)\n",
    "        print('slope is ' + str(s))\n",
    "        "
   ]
  },
  {
   "cell_type": "markdown",
   "metadata": {},
   "source": [
    "## 1233. Dice Roll Simulation\n",
    "\n",
    "A die simulator generates a random number from 1 to 6 for each roll. You introduced a constraint to the generator such that it cannot roll the number i more than rollMax[i] (1-indexed) consecutive times. \n",
    "\n",
    "Given an array of integers rolMax and an integer n, return the number of distinct sequences that can be obtained with exact n rolls. \n",
    "\n",
    "Two sequences are considered different if at least one element differs from each other. Since the answer may be too large, return it modulo 10^9+7. \n",
    "\n",
    "**Example 1:**\n",
    "Input: n = 2, rollMax = [1,1,2,2,2,3]\n",
    "Output: 34\n",
    "Explanation: There will be 2 rolls of die, if there are no constraints on the die, there are 6 * 6 = 36 possible combinations. In this case, looking at rollMax array, the numbers of 1 and 2 appear at most once consecutively, therefore sequences (1,1) and (2,2) cannot occur, so the final answer is 36 - 2 = 34. \n",
    "\n",
    "**Example 2:**\n",
    "Input: n = 2, rolMax = [1,1,1,1,1,1]\n",
    "Output: 30\n",
    "\n",
    "**Example 3:**\n",
    "Input: n = 3, rolMax = [1,1,1,2,2,3]\n",
    "Output: no (1,1), (2,2), (3,3), (4,4,4), (5,5,5)\n",
    "3 * 3 * 3 - 5 * 2 * 3 - 3 - 2 = 216 - 35 = 181 "
   ]
  },
  {
   "cell_type": "code",
   "execution_count": 12,
   "metadata": {},
   "outputs": [
    {
     "name": "stdout",
     "output_type": "stream",
     "text": [
      "Counter({1: 3, 2: 2, 3: 1})\n",
      "3\n",
      "2\n",
      "1\n"
     ]
    }
   ],
   "source": [
    "from collections import Counter \n",
    "\n",
    "rolMax = [1,1,1,2,2,3]\n",
    "\n",
    "freq = Counter(rolMax)\n",
    "\n",
    "print(freq)\n",
    "\n",
    "for item in freq:\n",
    "    print(freq[item])"
   ]
  },
  {
   "cell_type": "code",
   "execution_count": 15,
   "metadata": {},
   "outputs": [
    {
     "data": {
      "text/plain": [
       "216"
      ]
     },
     "execution_count": 15,
     "metadata": {},
     "output_type": "execute_result"
    }
   ],
   "source": [
    "6**3"
   ]
  },
  {
   "cell_type": "code",
   "execution_count": 21,
   "metadata": {},
   "outputs": [],
   "source": [
    "from collections import Counter \n",
    "def dieSimulator(n:int, rolMax:list) -> int:\n",
    "    \n",
    "    count = 6**n \n",
    "    number = 1 \n",
    "    \n",
    "    for s in rolMax: \n",
    "        print('number is' + str(number))\n",
    "        print('s is' + str(s))\n",
    "        if s < n:\n",
    "            count -= (n-s)*(6**(n-1-s))\n",
    "            print('count is ' + str(count))\n",
    "        number += 1\n",
    "    return (count)\n"
   ]
  },
  {
   "cell_type": "code",
   "execution_count": 26,
   "metadata": {},
   "outputs": [],
   "source": [
    "def dieSimulator(n:int, rolMax:list) -> int:\n",
    "    \n",
    "    def g(n,k):\n",
    "        if n < 1:\n",
    "            return 0\n",
    "        if n == 1:\n",
    "            return 1 \n",
    "        return f(n-1) - f(n- rolMax[k-1]-1) + g(n- rolMax[k-1]-1, k)\n",
    "    \n",
    "    def f(n):\n",
    "        if n < 0:\n",
    "            return 0\n",
    "        if n == 0:\n",
    "            return 1 \n",
    "        return sum([g(n,k) for k in range(1,7)])\n",
    "    return f(n) % (10**9 + 7)"
   ]
  },
  {
   "cell_type": "markdown",
   "metadata": {},
   "source": [
    "Time Complexity: O(n*6)\n",
    "Space Complexity: O(6*15) "
   ]
  },
  {
   "cell_type": "code",
   "execution_count": 27,
   "metadata": {},
   "outputs": [
    {
     "data": {
      "text/plain": [
       "34"
      ]
     },
     "execution_count": 27,
     "metadata": {},
     "output_type": "execute_result"
    }
   ],
   "source": [
    "n = 2\n",
    "rolMax = [1,1,2,2,2,3]\n",
    "dieSimulator(n, rolMax)"
   ]
  },
  {
   "cell_type": "code",
   "execution_count": 28,
   "metadata": {},
   "outputs": [
    {
     "data": {
      "text/plain": [
       "30"
      ]
     },
     "execution_count": 28,
     "metadata": {},
     "output_type": "execute_result"
    }
   ],
   "source": [
    "n = 2 \n",
    "rolMax = [1,1,1,1,1,1]\n",
    "dieSimulator(n, rolMax)"
   ]
  },
  {
   "cell_type": "code",
   "execution_count": 29,
   "metadata": {},
   "outputs": [
    {
     "data": {
      "text/plain": [
       "181"
      ]
     },
     "execution_count": 29,
     "metadata": {},
     "output_type": "execute_result"
    }
   ],
   "source": [
    "n = 3 \n",
    "rolMax = [1,1,1,2,2,3]\n",
    "dieSimulator(n, rolMax)"
   ]
  },
  {
   "cell_type": "markdown",
   "metadata": {},
   "source": [
    "## Turnstile\n",
    "\n",
    "A university has exactly one turnstile. Unfortunately many people want to pass through the turnstile in different directions. The i-th person comes to turnstile at times[i] and wants to either exit the unversity (direction = 1) or enter the university (direction = 0). People from 2 queues, one to exit one to enter. They are ordered by the time they came to turnstile and if the times are equal by their indices. \n",
    "\n",
    "If someone wants to enter the university and other person wants to exit at the same time, there are 3 cases. \n",
    "\n",
    "* If in previous second turnstile was not used (maybe it was used before not in the previous second) then the person who wants to leave goes first. \n",
    "* If in previous second the turnstile was used to exit then the person who wahts to exit goes first. \n",
    "* If in previous second the turnstile was used as an entrance then the person who wants to enter goes first. \n",
    "\n",
    "Passint through the turnstile takes 1 second, For each person return the time at whcih they pass throught the turnstile. \n",
    "\n",
    "Example: n = 4(there are 4 people). times = [0,0,1,5] (Given in sorted order) it means that person 0 and person 1 come to turnstile at 0th second. direction = [0,1,1,0] (Person 0 wants to enter while person 1 wants to exit). \n",
    "\n",
    "Output = [2, 0, 1, 5]\n",
    "\n",
    "Explanation: -Person 0 and person 1 comes to turnstile at 0th second. Turnstile was not previously used hence person 1 passes through turntile first. Hence ans[1]= 0. \n",
    "\n",
    "Now person 0 and person 3 are at turnstile for second 1. But since turnstile was used to exit previously and person 3 wants to exit it will pass though turnstile at 1. Hence ans[2] =1. And so on. "
   ]
  },
  {
   "cell_type": "markdown",
   "metadata": {},
   "source": [
    "**Solution:** Use heap, and a global time counter T as \"next available time when all people at current second passed\". Every time, pop all people whose arrives before T, group by direction. Then according to the rule choose one group to pass and upate T, push the other group back to the heap. Keep on doing this until the heap is empty. "
   ]
  },
  {
   "cell_type": "code",
   "execution_count": 47,
   "metadata": {},
   "outputs": [],
   "source": [
    "from heapq import heappush, heappop\n",
    "def turnstile(n: int, times: list, direction: list) -> list:\n",
    "    ipq, opq, ans = [],[], [-1]*n\n",
    "    \n",
    "    out = True # signal to denote direction of previous second\n",
    "    \n",
    "    used = False # signal to denote usedness of previous second\n",
    "    \n",
    "    T = 0 # current time \n",
    "    \n",
    "    i = 0\n",
    "    \n",
    "    while i < len(times) or ipq or opq:\n",
    "        \n",
    "        while i < len(times) and T == times[i]:\n",
    "            if direction[i] == 1:\n",
    "                heappush(opq, i)\n",
    "            if direction[i] == 0:\n",
    "                heappush(ipq, i)\n",
    "            i += 1\n",
    "        print('opq is ')\n",
    "        print(opq)\n",
    "        \n",
    "        print('ipq is ')\n",
    "        print(ipq)\n",
    "            \n",
    "        if ipq or opq:\n",
    "            \n",
    "            if not used:\n",
    "                if opq:\n",
    "                    ans[heappop(opq)] = T\n",
    "#                     print(ans)\n",
    "                    out = True\n",
    "                else:\n",
    "                    ans[heappop(ipq)] = T\n",
    "                    out = False \n",
    "                used = True \n",
    "            else:\n",
    "                if out == True and opq:\n",
    "                    ans[heappop(opq)] = T\n",
    "                    out = True\n",
    "                elif ipq:\n",
    "                    print('T is')\n",
    "                    print(T)\n",
    "                    print('used or not')\n",
    "                    print(used)\n",
    "#                     print('ipq is ')\n",
    "#                     print(ipq)\n",
    "                    ans[heappop(ipq)] = T\n",
    "                    out = False \n",
    "                else:\n",
    "                    ans[heappop(opq)] = T\n",
    "                    out = True\n",
    "                \n",
    "                    \n",
    "        else:\n",
    "            used = False \n",
    "        \n",
    "        \n",
    "        T += 1\n",
    "        \n",
    "    return (ans)\n",
    "        \n",
    "        \n",
    "            \n",
    "    \n",
    "            \n",
    "            \n",
    "        "
   ]
  },
  {
   "cell_type": "code",
   "execution_count": 42,
   "metadata": {},
   "outputs": [
    {
     "name": "stdout",
     "output_type": "stream",
     "text": [
      "opq is \n",
      "[1]\n",
      "ipq is \n",
      "[0]\n",
      "opq is \n",
      "[2]\n",
      "ipq is \n",
      "[0]\n",
      "opq is \n",
      "[]\n",
      "ipq is \n",
      "[0]\n",
      "opq is \n",
      "[]\n",
      "ipq is \n",
      "[]\n",
      "opq is \n",
      "[]\n",
      "ipq is \n",
      "[]\n",
      "opq is \n",
      "[]\n",
      "ipq is \n",
      "[3]\n"
     ]
    },
    {
     "data": {
      "text/plain": [
       "[2, 0, 1, 5]"
      ]
     },
     "execution_count": 42,
     "metadata": {},
     "output_type": "execute_result"
    }
   ],
   "source": [
    "n = 4 \n",
    "times = [0,0,1,5]\n",
    "direction = [0,1,1,0]\n",
    "\n",
    "turnstile(n, times, direction)"
   ]
  },
  {
   "cell_type": "code",
   "execution_count": 43,
   "metadata": {},
   "outputs": [
    {
     "name": "stdout",
     "output_type": "stream",
     "text": [
      "opq is \n",
      "[2, 3]\n",
      "ipq is \n",
      "[0, 1]\n",
      "opq is \n",
      "[3, 4]\n",
      "ipq is \n",
      "[0, 1, 5]\n",
      "opq is \n",
      "[4]\n",
      "ipq is \n",
      "[0, 1, 5]\n",
      "opq is \n",
      "[6]\n",
      "ipq is \n",
      "[0, 1, 5]\n",
      "opq is \n",
      "[]\n",
      "ipq is \n",
      "[0, 1, 5]\n",
      "opq is \n",
      "[]\n",
      "ipq is \n",
      "[1, 5]\n",
      "opq is \n",
      "[]\n",
      "ipq is \n",
      "[5]\n"
     ]
    },
    {
     "data": {
      "text/plain": [
       "[4, 5, 0, 1, 2, 6, 3]"
      ]
     },
     "execution_count": 43,
     "metadata": {},
     "output_type": "execute_result"
    }
   ],
   "source": [
    "n = 7 \n",
    "times = [0,0,0,0,1,1,3]\n",
    "direction = [0,0,1,1,1,0,1]\n",
    "\n",
    "turnstile(n, times, direction)"
   ]
  },
  {
   "cell_type": "code",
   "execution_count": 48,
   "metadata": {},
   "outputs": [
    {
     "name": "stdout",
     "output_type": "stream",
     "text": [
      "opq is \n",
      "[2, 3]\n",
      "ipq is \n",
      "[0, 1]\n",
      "opq is \n",
      "[3, 4]\n",
      "ipq is \n",
      "[0, 1, 5]\n",
      "opq is \n",
      "[4]\n",
      "ipq is \n",
      "[0, 1, 5]\n",
      "opq is \n",
      "[]\n",
      "ipq is \n",
      "[0, 1, 5]\n",
      "T is\n",
      "3\n",
      "used or not\n",
      "True\n",
      "opq is \n",
      "[6]\n",
      "ipq is \n",
      "[1, 5]\n",
      "T is\n",
      "4\n",
      "used or not\n",
      "True\n",
      "opq is \n",
      "[6]\n",
      "ipq is \n",
      "[5]\n",
      "T is\n",
      "5\n",
      "used or not\n",
      "True\n",
      "opq is \n",
      "[6]\n",
      "ipq is \n",
      "[]\n"
     ]
    },
    {
     "data": {
      "text/plain": [
       "[3, 4, 0, 1, 2, 5, 6]"
      ]
     },
     "execution_count": 48,
     "metadata": {},
     "output_type": "execute_result"
    }
   ],
   "source": [
    "n = 7 \n",
    "times = [0,0,0,0,1,1,4]\n",
    "direction = [0,0,1,1,1,0,1]\n",
    "turnstile(n, times, direction)"
   ]
  },
  {
   "cell_type": "markdown",
   "metadata": {},
   "source": [
    "Time complexity: O(n)\n",
    "\n",
    "Space complexity: O(n) for two heap "
   ]
  },
  {
   "cell_type": "markdown",
   "metadata": {},
   "source": [
    "## Heap queue (or heapq) in Python \n",
    "\n",
    "Heap data structure is mainly used to represent a priority queue. In Python, it is available using \"heapq\" module. The property of this data structure in python is taht each time the smallest of heap element is popped(min heap). Whenever elements are pushed or popped, heap structure is maintained. The heap[0] element also returns the smallest element each time. \n",
    "\n",
    "**Operations on heap:**\n",
    "1. heapify(iterable):- This function is used to convert the iterable into a heap data structure, i.e., in heap order. \n",
    "2. heappush(heap, ele):- This function is used to insert the element mentioned in its arguments into heap. The order is adjusted, so as heap structure is maintained. \n",
    "3. heappop(heap):- This functio is used to remove and return the smallest element from heap. The order is adjusted, so as heap structure is maintained. "
   ]
  },
  {
   "cell_type": "code",
   "execution_count": 1,
   "metadata": {},
   "outputs": [],
   "source": [
    "import heapq"
   ]
  },
  {
   "cell_type": "code",
   "execution_count": 8,
   "metadata": {},
   "outputs": [
    {
     "name": "stdout",
     "output_type": "stream",
     "text": [
      "the created heap is: [1, 3, 9, 7, 5]\n",
      "[1, 3, 9, 7, 5]\n"
     ]
    }
   ],
   "source": [
    "# initializing list \n",
    "li = [5,7,9,1,3]\n",
    "\n",
    "# using heapify to convert list into heap:\n",
    "heapq.heapify(li)\n",
    "\n",
    "# priting created heap\n",
    "print(\"the created heap is: \", end=\"\")\n",
    "print(li)\n",
    "print(list(li))"
   ]
  },
  {
   "cell_type": "code",
   "execution_count": 9,
   "metadata": {},
   "outputs": [
    {
     "name": "stdout",
     "output_type": "stream",
     "text": [
      "The modified heap after push is : [1, 3, 4, 7, 5, 9]\n"
     ]
    }
   ],
   "source": [
    "heapq.heappush(li, 4)\n",
    "print(\"The modified heap after push is : \", end=\"\")\n",
    "print(list(li))"
   ]
  },
  {
   "cell_type": "code",
   "execution_count": 10,
   "metadata": {},
   "outputs": [
    {
     "name": "stdout",
     "output_type": "stream",
     "text": [
      "The popped and smallest element is: 1\n"
     ]
    }
   ],
   "source": [
    "print(\"The popped and smallest element is: \", end=\"\")\n",
    "print(heapq.heappop(li))"
   ]
  },
  {
   "cell_type": "markdown",
   "metadata": {},
   "source": [
    "4. heappushpop(heap,ele):- This function combines the functioning of both push and pop operations in one statement, increasing efficiency. Heap order is maintained after this operation. \n",
    "5. heapreplace(heap, ele):- This function also inserts and pops element in one statement, but it is different from above function. In this, element is first popped, then element is pushed. i.e., the value larger than the pushed value can be returned. "
   ]
  },
  {
   "cell_type": "code",
   "execution_count": 11,
   "metadata": {},
   "outputs": [],
   "source": [
    "li1 = [5,7,9,4,3]\n",
    "li2 = [5,7,9,4,3]\n",
    "heapq.heapify(li1)\n",
    "heapq.heapify(li2)"
   ]
  },
  {
   "cell_type": "code",
   "execution_count": 12,
   "metadata": {},
   "outputs": [
    {
     "name": "stdout",
     "output_type": "stream",
     "text": [
      "The popped item using heappushpop() is: 2\n"
     ]
    }
   ],
   "source": [
    "print(\"The popped item using heappushpop() is: \", end=\"\")\n",
    "print(heapq.heappushpop(li1, 2))"
   ]
  },
  {
   "cell_type": "code",
   "execution_count": 13,
   "metadata": {},
   "outputs": [
    {
     "name": "stdout",
     "output_type": "stream",
     "text": [
      "The popped item using heapreplace() is: 3\n"
     ]
    }
   ],
   "source": [
    "print(\"The popped item using heapreplace() is: \", end=\"\")\n",
    "print(heapq.heapreplace(li2,2))"
   ]
  },
  {
   "cell_type": "markdown",
   "metadata": {},
   "source": [
    "6. nlargest(k, iterable, key=fun):- This function is used to return the k largest elements from the iterable specified and satisfying the key if mentioned. \n",
    "\n",
    "7. nsmallest(k, iterable, key = fun):- This function is used to return the k smallest elements from the iterable specified and satisfying the key if mentioned. "
   ]
  },
  {
   "cell_type": "code",
   "execution_count": 14,
   "metadata": {},
   "outputs": [],
   "source": [
    "li1 = [6,7,9,4,3,5,8,10,1]\n",
    "\n",
    "heapq.heapify(li1)"
   ]
  },
  {
   "cell_type": "code",
   "execution_count": 15,
   "metadata": {},
   "outputs": [
    {
     "name": "stdout",
     "output_type": "stream",
     "text": [
      "The 3 largest numbers in list are: [10, 9, 8]\n"
     ]
    }
   ],
   "source": [
    "print(\"The 3 largest numbers in list are: \", end=\"\")\n",
    "print(heapq.nlargest(3, li1))"
   ]
  },
  {
   "cell_type": "code",
   "execution_count": 16,
   "metadata": {},
   "outputs": [
    {
     "name": "stdout",
     "output_type": "stream",
     "text": [
      "The 3 smallest numbers in list are: [1, 3, 4]\n"
     ]
    }
   ],
   "source": [
    "print(\"The 3 smallest numbers in list are: \", end=\"\")\n",
    "print(heapq.nsmallest(3,li1))"
   ]
  },
  {
   "cell_type": "code",
   "execution_count": 27,
   "metadata": {},
   "outputs": [],
   "source": [
    "h = []\n",
    "\n",
    "heapq.heapify(h)\n",
    "\n",
    "heapq.heappush(h,[0,0,0])"
   ]
  },
  {
   "cell_type": "code",
   "execution_count": 28,
   "metadata": {},
   "outputs": [],
   "source": [
    "heapq.heappush(h,[0,1,1])"
   ]
  },
  {
   "cell_type": "code",
   "execution_count": 29,
   "metadata": {},
   "outputs": [],
   "source": [
    "heapq.heappush(h,[1,2,1])"
   ]
  },
  {
   "cell_type": "code",
   "execution_count": 30,
   "metadata": {},
   "outputs": [
    {
     "name": "stdout",
     "output_type": "stream",
     "text": [
      "[[0, 0, 0], [0, 1, 1], [1, 2, 1]]\n"
     ]
    }
   ],
   "source": [
    "print(h)"
   ]
  },
  {
   "cell_type": "code",
   "execution_count": 31,
   "metadata": {},
   "outputs": [
    {
     "name": "stdout",
     "output_type": "stream",
     "text": [
      "[0, 0, 0]\n"
     ]
    }
   ],
   "source": [
    "print(heapq.heappop(h))"
   ]
  },
  {
   "cell_type": "code",
   "execution_count": 32,
   "metadata": {},
   "outputs": [
    {
     "name": "stdout",
     "output_type": "stream",
     "text": [
      "[0, 1, 1]\n"
     ]
    }
   ],
   "source": [
    "print(heapq.heappop(h))"
   ]
  },
  {
   "cell_type": "code",
   "execution_count": 34,
   "metadata": {},
   "outputs": [],
   "source": [
    "heapq.heappush(h, [5,3,0])"
   ]
  },
  {
   "cell_type": "code",
   "execution_count": 35,
   "metadata": {},
   "outputs": [
    {
     "name": "stdout",
     "output_type": "stream",
     "text": [
      "[1, 2, 1]\n"
     ]
    }
   ],
   "source": [
    "print(heapq.heappop(h))"
   ]
  },
  {
   "cell_type": "code",
   "execution_count": null,
   "metadata": {},
   "outputs": [],
   "source": []
  }
 ],
 "metadata": {
  "kernelspec": {
   "display_name": "Python 3",
   "language": "python",
   "name": "python3"
  },
  "language_info": {
   "codemirror_mode": {
    "name": "ipython",
    "version": 3
   },
   "file_extension": ".py",
   "mimetype": "text/x-python",
   "name": "python",
   "nbconvert_exporter": "python",
   "pygments_lexer": "ipython3",
   "version": "3.7.4"
  }
 },
 "nbformat": 4,
 "nbformat_minor": 2
}
