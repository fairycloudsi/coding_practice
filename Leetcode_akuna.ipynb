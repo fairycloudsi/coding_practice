{
 "cells": [
  {
   "cell_type": "markdown",
   "metadata": {},
   "source": [
    "## String Chains \n",
    "\n",
    "Given an array of words representing your dictionary, you test each word to see if it can be made into another word in the dictionary. This will be done by removing characters one at a time. Eac word represents its own first element of its string chain, so start with a string chain length of 1. Each time you remove a character, increment your string chain by 1. In order to remove a character, the resulting word must be in your original dictionary. Your goal is to determine the longest string chain achievable for a given dictionary. \n",
    "\n",
    "For example, a dictionary [a, and, an ,bear], the word and could be reduced to an and then to a. The single character a cannot be reduced any further as the null string is not in the dictionary. This would be the longest string chain, having a length 3. The word bear cannot be reduced at all. \n",
    "\n",
    "**Function Description**\n",
    "Complete the function longestChain in the editor below. The function must return a single integer representing the length of the longest string chain. "
   ]
  },
  {
   "cell_type": "code",
   "execution_count": null,
   "metadata": {},
   "outputs": [],
   "source": []
  },
  {
   "cell_type": "markdown",
   "metadata": {},
   "source": [
    "## Longest Word in Dictionary \n",
    "\n",
    "Given a list of strings words representing an English Dictionary, find the longest word in words that can be built one character at a time by other words in words. If there is more that one possible answer, return the longest word with the smallest lexicographical order. \n",
    "\n",
    "If there is not answer, return the empty string. \n",
    "\n",
    "**Example 1**:\n",
    "Input:\n",
    "words = [\"w\", \"wo\", \"wor\", \"worl\", \"world\"]\n",
    "Output: \"world\"\n",
    "Explanation:\n",
    "The word \"world\" can be built one character at a time by \"w\", \"wo\", \"wor\", and \"worl\". \n",
    "\n",
    "**Example 2**:\n",
    "Input:\n",
    "words = [\"a\", \"banana\", \"app\", \"appl\", \"ap\", \"apply\", \"apple\"]\n",
    "Output: \"apple\"\n",
    "Explanation:\n",
    "Both \"apply\" and \"apple\" can be built from other words in the dictionary. However, \"apple\" is lexicographlically smaller than \"apply\". "
   ]
  },
  {
   "cell_type": "markdown",
   "metadata": {},
   "source": [
    "### Approach 1: Brute Force \n",
    "\n",
    "**Intuition**:\n",
    "For each word, check if all prefixes word[:k] are present. We can use a Set structure to check this quickly. \n",
    "\n",
    "**Algorithm**:\n",
    "Whenever our found word would be superior, we check if all it's prefixes are present, then replace our answer. \n",
    "\n",
    "Alternatively, we could have sorted the words beforehand, so that we know the word we are considering would be the answer if all it's prefixes are present. "
   ]
  },
  {
   "cell_type": "code",
   "execution_count": 1,
   "metadata": {},
   "outputs": [],
   "source": [
    "def longestWord(words):\n",
    "    ans = \"\"\n",
    "    wordset = set(words)\n",
    "    for word in words:\n",
    "        if len(word) > len(ans) or len(word) == len(ans) and word < ans:\n",
    "            if all(word[:k] in wordset for k in range(1,len(word))):\n",
    "                ans = word\n",
    "    return ans "
   ]
  },
  {
   "cell_type": "code",
   "execution_count": 2,
   "metadata": {},
   "outputs": [
    {
     "data": {
      "text/plain": [
       "'world'"
      ]
     },
     "execution_count": 2,
     "metadata": {},
     "output_type": "execute_result"
    }
   ],
   "source": [
    "words = [\"w\", \"wo\", \"wor\", \"worl\", \"world\"]\n",
    "\n",
    "longestWord(words)"
   ]
  },
  {
   "cell_type": "code",
   "execution_count": 3,
   "metadata": {},
   "outputs": [
    {
     "data": {
      "text/plain": [
       "True"
      ]
     },
     "execution_count": 3,
     "metadata": {},
     "output_type": "execute_result"
    }
   ],
   "source": [
    "\"apple\" < \"apply\""
   ]
  },
  {
   "cell_type": "code",
   "execution_count": 4,
   "metadata": {},
   "outputs": [],
   "source": [
    "words = [\"a\", \"ap\", \"apple\", \"apply\", \"app\", \"appl\"]"
   ]
  },
  {
   "cell_type": "code",
   "execution_count": 5,
   "metadata": {},
   "outputs": [
    {
     "data": {
      "text/plain": [
       "'apple'"
      ]
     },
     "execution_count": 5,
     "metadata": {},
     "output_type": "execute_result"
    }
   ],
   "source": [
    "longestWord(words)"
   ]
  },
  {
   "cell_type": "code",
   "execution_count": 7,
   "metadata": {},
   "outputs": [],
   "source": [
    "words = [\"a\", \"ap\",\"apply\", \"app\", \"appl\"]"
   ]
  },
  {
   "cell_type": "code",
   "execution_count": 8,
   "metadata": {},
   "outputs": [
    {
     "data": {
      "text/plain": [
       "'apply'"
      ]
     },
     "execution_count": 8,
     "metadata": {},
     "output_type": "execute_result"
    }
   ],
   "source": [
    "longestWord(words)"
   ]
  },
  {
   "cell_type": "markdown",
   "metadata": {},
   "source": [
    "**Complexity Analysis**:\n",
    "\n",
    "* Time complexity: $O(\\sum w_i^2)$, where $w_i$ is the length of words[i]. Checking whether all prefixes of words[i] are in the set is $O(\\sum w_i^2)$. \n",
    "\n",
    "* Space complexity: $O(\\sum w_i^2)$. "
   ]
  },
  {
   "cell_type": "markdown",
   "metadata": {},
   "source": [
    "### Approach 2: Trie + Depth-First Search \n",
    "\n",
    "**Intuition**:\n",
    "As prefixes of strings are involved, this is usually a natural fit for a trie (a prefix tree.)\n",
    "\n",
    "**Algorithm**:\n",
    "Put every word in a trie, then depth-first-search from the start of the trie, only searching nodes that ended a word. Every node found (except the root, which is a special case) then represents a word with all it's prefixes present. We take the best such word. \n",
    "\n",
    "In Python, we showcase a method using defaultdict, while in Java, we stick to a more general object-oriented approach. "
   ]
  },
  {
   "cell_type": "code",
   "execution_count": 17,
   "metadata": {},
   "outputs": [],
   "source": [
    "import collections\n",
    "from functools import reduce "
   ]
  },
  {
   "cell_type": "code",
   "execution_count": 20,
   "metadata": {},
   "outputs": [],
   "source": [
    "def longestWord_2(words):\n",
    "    Trie = lambda: collections.defaultdict(Trie)\n",
    "    trie = Trie()\n",
    "    END = True\n",
    "    \n",
    "    for i, word in enumerate(words):\n",
    "        reduce(dict.__getitem__, word, trie)[END] = i\n",
    "    \n",
    "    stack = trie.values()\n",
    "    ans = \"\"\n",
    "    while stack:\n",
    "        cur = stack.pop()\n",
    "        if END in cur:\n",
    "            word = words[cur[END]]\n",
    "            if len(word) > len(ans) or len(word) == len(ans) and word < ans:\n",
    "                ans = word\n",
    "            stack.extend([cur[letter] for letter in cur if letter != END])\n",
    "            \n",
    "    return ans "
   ]
  },
  {
   "cell_type": "code",
   "execution_count": 21,
   "metadata": {},
   "outputs": [
    {
     "ename": "AttributeError",
     "evalue": "'dict_values' object has no attribute 'pop'",
     "output_type": "error",
     "traceback": [
      "\u001b[0;31m---------------------------------------------------------------------------\u001b[0m",
      "\u001b[0;31mAttributeError\u001b[0m                            Traceback (most recent call last)",
      "\u001b[0;32m<ipython-input-21-34ae8571d89a>\u001b[0m in \u001b[0;36m<module>\u001b[0;34m\u001b[0m\n\u001b[0;32m----> 1\u001b[0;31m \u001b[0mlongestWord_2\u001b[0m\u001b[0;34m(\u001b[0m\u001b[0mwords\u001b[0m\u001b[0;34m)\u001b[0m\u001b[0;34m\u001b[0m\u001b[0;34m\u001b[0m\u001b[0m\n\u001b[0m",
      "\u001b[0;32m<ipython-input-20-251f104089ff>\u001b[0m in \u001b[0;36mlongestWord_2\u001b[0;34m(words)\u001b[0m\n\u001b[1;32m     10\u001b[0m     \u001b[0mans\u001b[0m \u001b[0;34m=\u001b[0m \u001b[0;34m\"\"\u001b[0m\u001b[0;34m\u001b[0m\u001b[0;34m\u001b[0m\u001b[0m\n\u001b[1;32m     11\u001b[0m     \u001b[0;32mwhile\u001b[0m \u001b[0mstack\u001b[0m\u001b[0;34m:\u001b[0m\u001b[0;34m\u001b[0m\u001b[0;34m\u001b[0m\u001b[0m\n\u001b[0;32m---> 12\u001b[0;31m         \u001b[0mcur\u001b[0m \u001b[0;34m=\u001b[0m \u001b[0mstack\u001b[0m\u001b[0;34m.\u001b[0m\u001b[0mpop\u001b[0m\u001b[0;34m(\u001b[0m\u001b[0;34m)\u001b[0m\u001b[0;34m\u001b[0m\u001b[0;34m\u001b[0m\u001b[0m\n\u001b[0m\u001b[1;32m     13\u001b[0m         \u001b[0;32mif\u001b[0m \u001b[0mEND\u001b[0m \u001b[0;32min\u001b[0m \u001b[0mcur\u001b[0m\u001b[0;34m:\u001b[0m\u001b[0;34m\u001b[0m\u001b[0;34m\u001b[0m\u001b[0m\n\u001b[1;32m     14\u001b[0m             \u001b[0mword\u001b[0m \u001b[0;34m=\u001b[0m \u001b[0mwords\u001b[0m\u001b[0;34m[\u001b[0m\u001b[0mcur\u001b[0m\u001b[0;34m[\u001b[0m\u001b[0mEND\u001b[0m\u001b[0;34m]\u001b[0m\u001b[0;34m]\u001b[0m\u001b[0;34m\u001b[0m\u001b[0;34m\u001b[0m\u001b[0m\n",
      "\u001b[0;31mAttributeError\u001b[0m: 'dict_values' object has no attribute 'pop'"
     ]
    }
   ],
   "source": [
    "longestWord_2(words)"
   ]
  },
  {
   "cell_type": "code",
   "execution_count": 22,
   "metadata": {},
   "outputs": [],
   "source": [
    "# examples of default_dict \n",
    "\n",
    "s = [('yellow',1), ('blue', 2), ('yellow', 3), ('blue', 4), ('red',1)]"
   ]
  },
  {
   "cell_type": "code",
   "execution_count": 24,
   "metadata": {},
   "outputs": [],
   "source": [
    "from collections import defaultdict\n",
    "d = defaultdict(list)"
   ]
  },
  {
   "cell_type": "code",
   "execution_count": 25,
   "metadata": {},
   "outputs": [],
   "source": [
    "for k,v in s:\n",
    "    d[k].append(v)"
   ]
  },
  {
   "cell_type": "code",
   "execution_count": 26,
   "metadata": {},
   "outputs": [
    {
     "data": {
      "text/plain": [
       "defaultdict(list, {'yellow': [1, 3], 'blue': [2, 4], 'red': [1]})"
      ]
     },
     "execution_count": 26,
     "metadata": {},
     "output_type": "execute_result"
    }
   ],
   "source": [
    "d"
   ]
  },
  {
   "cell_type": "markdown",
   "metadata": {},
   "source": [
    "When each key is encountered for the first time, it is not already in the mapping; so an entry is automaticaly created using the default_factory function which returns an empty list. The list.append() operation then attaches the value to the new list. When keys are encountered again, the look-up proceeds normally (returning the list for that key) and the list.append() operation. adds anohter value to the list. This technique is simpler and faster than an equivalent technique using dict.setdefault():"
   ]
  },
  {
   "cell_type": "code",
   "execution_count": 27,
   "metadata": {},
   "outputs": [],
   "source": [
    "d = {}\n",
    "for k,v in s :\n",
    "    d.setdefault(k, []).append(v)"
   ]
  },
  {
   "cell_type": "code",
   "execution_count": 28,
   "metadata": {},
   "outputs": [
    {
     "data": {
      "text/plain": [
       "{'yellow': [1, 3], 'blue': [2, 4], 'red': [1]}"
      ]
     },
     "execution_count": 28,
     "metadata": {},
     "output_type": "execute_result"
    }
   ],
   "source": [
    "d"
   ]
  },
  {
   "cell_type": "code",
   "execution_count": 29,
   "metadata": {},
   "outputs": [
    {
     "data": {
      "text/plain": [
       "dict_items([('yellow', [1, 3]), ('blue', [2, 4]), ('red', [1])])"
      ]
     },
     "execution_count": 29,
     "metadata": {},
     "output_type": "execute_result"
    }
   ],
   "source": [
    "d.items()"
   ]
  },
  {
   "cell_type": "markdown",
   "metadata": {},
   "source": [
    "Setting the default_factory to int makes the defaultdict useful for counting (like a bag or multiset in other languages):"
   ]
  },
  {
   "cell_type": "code",
   "execution_count": 30,
   "metadata": {},
   "outputs": [],
   "source": [
    "s = 'mississippi'\n",
    "d = defaultdict(int)\n",
    "for k in s:\n",
    "    d[k] += 1 "
   ]
  },
  {
   "cell_type": "code",
   "execution_count": 31,
   "metadata": {},
   "outputs": [
    {
     "data": {
      "text/plain": [
       "dict_items([('m', 1), ('i', 4), ('s', 4), ('p', 2)])"
      ]
     },
     "execution_count": 31,
     "metadata": {},
     "output_type": "execute_result"
    }
   ],
   "source": [
    "d.items()"
   ]
  },
  {
   "cell_type": "markdown",
   "metadata": {},
   "source": [
    "When a letter is first encountered, it is missing from the mapping, so the default_factory function calls int() to supply count of zero. The increment operation then builds up the count for each letter. \n",
    "\n",
    "The function int() which always returns zero is just a special case of constant functions. A faster and more flexible way to create constant functions is to use lambda function which can supply any constant value (not just zero):"
   ]
  },
  {
   "cell_type": "code",
   "execution_count": 33,
   "metadata": {},
   "outputs": [],
   "source": [
    "def constant_factory(value):\n",
    "    return lambda: value "
   ]
  },
  {
   "cell_type": "code",
   "execution_count": 34,
   "metadata": {},
   "outputs": [
    {
     "data": {
      "text/plain": [
       "<function __main__.constant_factory.<locals>.<lambda>()>"
      ]
     },
     "execution_count": 34,
     "metadata": {},
     "output_type": "execute_result"
    }
   ],
   "source": [
    "constant_factory(5)"
   ]
  },
  {
   "cell_type": "code",
   "execution_count": 35,
   "metadata": {},
   "outputs": [
    {
     "name": "stdout",
     "output_type": "stream",
     "text": [
      "XiaoWang ran to <Wuhan>\n"
     ]
    }
   ],
   "source": [
    "d = defaultdict(constant_factory('<Wuhan>'))\n",
    "d.update(name = 'XiaoWang', action = 'ran')\n",
    "print(\"%(name)s %(action)s to %(object)s\" %d)"
   ]
  },
  {
   "cell_type": "markdown",
   "metadata": {},
   "source": [
    "Setting the default_factory to set makes the defaultdict useful for building a dictionary of sets:"
   ]
  },
  {
   "cell_type": "code",
   "execution_count": 36,
   "metadata": {},
   "outputs": [],
   "source": [
    "s = [('red',1), ('blue',2), ('red',3), ('blue', 4), ('red',1), ('blue', 4)]\n",
    "d = defaultdict(set)\n",
    "\n",
    "for k,v in s:\n",
    "    d[k].add(v)"
   ]
  },
  {
   "cell_type": "code",
   "execution_count": 37,
   "metadata": {},
   "outputs": [
    {
     "data": {
      "text/plain": [
       "dict_items([('red', {1, 3}), ('blue', {2, 4})])"
      ]
     },
     "execution_count": 37,
     "metadata": {},
     "output_type": "execute_result"
    }
   ],
   "source": [
    "d.items()"
   ]
  },
  {
   "cell_type": "markdown",
   "metadata": {},
   "source": [
    "## Valid IP address \n",
    "\n",
    "Write a function to check whether an input string is a valid IPv4 address or IPv6 address or neither.\n",
    "\n",
    "IPv4 addresses are canonically represented in dot-decimal notation, which consists of four decimal numbers, each ranging from 0 to 255, separated by dots (\".\"), e.g.,172.16.254.1;\n",
    "\n",
    "Besides, leading zeros in the IPv4 is invalid. For example, the address 172.16.254.01 is invalid.\n",
    "\n",
    "IPv6 addresses are represented as eight groups of four hexadecimal digits, each group representing 16 bits. The groups are separated by colons (\":\"). For example, the address 2001:0db8:85a3:0000:0000:8a2e:0370:7334 is a valid one. Also, we could omit some leading zeros among four hexadecimal digits and some low-case characters in the address to upper-case ones, so 2001:db8:85a3:0:0:8A2E:0370:7334 is also a valid IPv6 address(Omit leading zeros and using upper cases).\n",
    "\n",
    "However, we don't replace a consecutive group of zero value with a single empty group using two consecutive colons (::) to pursue simplicity. For example, 2001:0db8:85a3::8A2E:0370:7334 is an invalid IPv6 address.\n",
    "\n",
    "Besides, extra leading zeros in the IPv6 is also invalid. For example, the address 02001:0db8:85a3:0000:0000:8a2e:0370:7334 is invalid.\n",
    "\n",
    "Note: You may assume there is no extra space or special characters in the input string.\n",
    "\n",
    "Example 1:\n",
    "\n",
    "Input: \"172.16.254.1\"\n",
    "\n",
    "Output: \"IPv4\"\n",
    "\n",
    "Explanation: This is a valid IPv4 address, return \"IPv4\".\n",
    "Example 2:\n",
    "\n",
    "Input: \"2001:0db8:85a3:0:0:8A2E:0370:7334\"\n",
    "\n",
    "Output: \"IPv6\"\n",
    "\n",
    "Explanation: This is a valid IPv6 address, return \"IPv6\".\n",
    "Example 3:\n",
    "\n",
    "Input: \"256.256.256.256\"\n",
    "\n",
    "Output: \"Neither\"\n",
    "\n",
    "Explanation: This is neither a IPv4 address nor a IPv6 address."
   ]
  },
  {
   "cell_type": "code",
   "execution_count": 14,
   "metadata": {},
   "outputs": [],
   "source": [
    "# Divide and Conquer \n",
    "\n",
    "def isvalid_IPv4(IP:str) -> str:\n",
    "    nums = IP.split('.')\n",
    "    print(nums)\n",
    "    i = 1\n",
    "    for x in nums:\n",
    "        print(x)\n",
    "        if len(x) == 0 or len(x) > 3:\n",
    "            print('stop at clause 1'+ str(i))\n",
    "            return \"Neither\"\n",
    "        if (x[0] == '0' and len(x) != 1) or not x.isdigit() or int(x) > 255:\n",
    "            print('stop at clause 2' + str(i))\n",
    "            return \"Neither\"\n",
    "        i += 1\n",
    "            \n",
    "    return \"IPv4\"\n",
    "\n",
    "def isvalid_IPv6(IP:str) -> str:\n",
    "    nums = IP.split(':')\n",
    "    for x in nums:\n",
    "        if len(x) == 0 or len(x) > 4 or not all(c in hexdigits for c in x):\n",
    "            return \"Neither\"\n",
    "    return \"IPv6\"\n",
    "\n",
    "\n",
    "def validIPAddress(IP:str) -> str:\n",
    "    if IP.count('.') == 3:\n",
    "        return isvalid_IPv4(IP)\n",
    "    elif IP.count(\":\") == 7:\n",
    "        return isvalid_IPv6(IP)\n",
    "    else:\n",
    "        return \"Neither\""
   ]
  },
  {
   "cell_type": "code",
   "execution_count": 15,
   "metadata": {},
   "outputs": [
    {
     "name": "stdout",
     "output_type": "stream",
     "text": [
      "['172', '16', '254', '1']\n",
      "172\n",
      "16\n",
      "254\n",
      "1\n"
     ]
    },
    {
     "data": {
      "text/plain": [
       "'IPv4'"
      ]
     },
     "execution_count": 15,
     "metadata": {},
     "output_type": "execute_result"
    }
   ],
   "source": [
    "IP = \"172.16.254.1\"\n",
    "validIPAddress(IP)"
   ]
  },
  {
   "cell_type": "code",
   "execution_count": 11,
   "metadata": {},
   "outputs": [],
   "source": [
    "x = '254'"
   ]
  },
  {
   "cell_type": "code",
   "execution_count": 12,
   "metadata": {},
   "outputs": [
    {
     "data": {
      "text/plain": [
       "False"
      ]
     },
     "execution_count": 12,
     "metadata": {},
     "output_type": "execute_result"
    }
   ],
   "source": [
    "(x[0] == '0' and len(x) != 1)"
   ]
  },
  {
   "cell_type": "code",
   "execution_count": 13,
   "metadata": {},
   "outputs": [
    {
     "data": {
      "text/plain": [
       "False"
      ]
     },
     "execution_count": 13,
     "metadata": {},
     "output_type": "execute_result"
    }
   ],
   "source": [
    "not x.isdigit() "
   ]
  },
  {
   "cell_type": "code",
   "execution_count": null,
   "metadata": {},
   "outputs": [],
   "source": []
  }
 ],
 "metadata": {
  "kernelspec": {
   "display_name": "Python 3",
   "language": "python",
   "name": "python3"
  },
  "language_info": {
   "codemirror_mode": {
    "name": "ipython",
    "version": 3
   },
   "file_extension": ".py",
   "mimetype": "text/x-python",
   "name": "python",
   "nbconvert_exporter": "python",
   "pygments_lexer": "ipython3",
   "version": "3.7.4"
  }
 },
 "nbformat": 4,
 "nbformat_minor": 2
}
