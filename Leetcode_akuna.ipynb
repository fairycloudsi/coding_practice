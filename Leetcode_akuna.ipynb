{
 "cells": [
  {
   "cell_type": "markdown",
   "metadata": {},
   "source": [
    "## String Chains \n",
    "\n",
    "Given an array of words representing your dictionary, you test each word to see if it can be made into another word in the dictionary. This will be done by removing characters one at a time. Eac word represents its own first element of its string chain, so start with a string chain length of 1. Each time you remove a character, increment your string chain by 1. In order to remove a character, the resulting word must be in your original dictionary. Your goal is to determine the longest string chain achievable for a given dictionary. \n",
    "\n",
    "For example, a dictionary [a, and, an ,bear], the word and could be reduced to an and then to a. The single character a cannot be reduced any further as the null string is not in the dictionary. This would be the longest string chain, having a length 3. The word bear cannot be reduced at all. \n",
    "\n",
    "**Function Description**\n",
    "Complete the function longestChain in the editor below. The function must return a single integer representing the length of the longest string chain. "
   ]
  },
  {
   "cell_type": "code",
   "execution_count": null,
   "metadata": {},
   "outputs": [],
   "source": []
  },
  {
   "cell_type": "markdown",
   "metadata": {},
   "source": [
    "## Longest Word in Dictionary \n",
    "\n",
    "Given a list of strings words representing an English Dictionary, find the longest word in words that can be built one character at a time by other words in words. If there is more that one possible answer, return the longest word with the smallest lexicographical order. \n",
    "\n",
    "If there is not answer, return the empty string. \n",
    "\n",
    "**Example 1**:\n",
    "Input:\n",
    "words = [\"w\", \"wo\", \"wor\", \"worl\", \"world\"]\n",
    "Output: \"world\"\n",
    "Explanation:\n",
    "The word \"world\" can be built one character at a time by \"w\", \"wo\", \"wor\", and \"worl\". \n",
    "\n",
    "**Example 2**:\n",
    "Input:\n",
    "words = [\"a\", \"banana\", \"app\", \"appl\", \"ap\", \"apply\", \"apple\"]\n",
    "Output: \"apple\"\n",
    "Explanation:\n",
    "Both \"apply\" and \"apple\" can be built from other words in the dictionary. However, \"apple\" is lexicographlically smaller than \"apply\". "
   ]
  },
  {
   "cell_type": "markdown",
   "metadata": {},
   "source": [
    "### Approach 1: Brute Force \n",
    "\n",
    "**Intuition**:\n",
    "For each word, check if all prefixes word[:k] are present. We can use a Set structure to check this quickly. \n",
    "\n",
    "**Algorithm**:\n",
    "Whenever our found word would be superior, we check if all it's prefixes are present, then replace our answer. \n",
    "\n",
    "Alternatively, we could have sorted the words beforehand, so that we know the word we are considering would be the answer if all it's prefixes are present. "
   ]
  },
  {
   "cell_type": "code",
   "execution_count": 1,
   "metadata": {},
   "outputs": [],
   "source": [
    "def longestWord(words):\n",
    "    ans = \"\"\n",
    "    wordset = set(words)\n",
    "    for word in words:\n",
    "        if len(word) > len(ans) or len(word) == len(ans) and word < ans:\n",
    "            if all(word[:k] in wordset for k in range(1,len(word))):\n",
    "                ans = word\n",
    "    return ans "
   ]
  },
  {
   "cell_type": "code",
   "execution_count": 2,
   "metadata": {},
   "outputs": [
    {
     "data": {
      "text/plain": [
       "'world'"
      ]
     },
     "execution_count": 2,
     "metadata": {},
     "output_type": "execute_result"
    }
   ],
   "source": [
    "words = [\"w\", \"wo\", \"wor\", \"worl\", \"world\"]\n",
    "\n",
    "longestWord(words)"
   ]
  },
  {
   "cell_type": "code",
   "execution_count": 3,
   "metadata": {},
   "outputs": [
    {
     "data": {
      "text/plain": [
       "True"
      ]
     },
     "execution_count": 3,
     "metadata": {},
     "output_type": "execute_result"
    }
   ],
   "source": [
    "\"apple\" < \"apply\""
   ]
  },
  {
   "cell_type": "code",
   "execution_count": 4,
   "metadata": {},
   "outputs": [],
   "source": [
    "words = [\"a\", \"ap\", \"apple\", \"apply\", \"app\", \"appl\"]"
   ]
  },
  {
   "cell_type": "code",
   "execution_count": 5,
   "metadata": {},
   "outputs": [
    {
     "data": {
      "text/plain": [
       "'apple'"
      ]
     },
     "execution_count": 5,
     "metadata": {},
     "output_type": "execute_result"
    }
   ],
   "source": [
    "longestWord(words)"
   ]
  },
  {
   "cell_type": "code",
   "execution_count": 7,
   "metadata": {},
   "outputs": [],
   "source": [
    "words = [\"a\", \"ap\",\"apply\", \"app\", \"appl\"]"
   ]
  },
  {
   "cell_type": "code",
   "execution_count": 8,
   "metadata": {},
   "outputs": [
    {
     "data": {
      "text/plain": [
       "'apply'"
      ]
     },
     "execution_count": 8,
     "metadata": {},
     "output_type": "execute_result"
    }
   ],
   "source": [
    "longestWord(words)"
   ]
  },
  {
   "cell_type": "markdown",
   "metadata": {},
   "source": [
    "**Complexity Analysis**:\n",
    "\n",
    "* Time complexity: $O(\\sum w_i^2)$, where $w_i$ is the length of words[i]. Checking whether all prefixes of words[i] are in the set is $O(\\sum w_i^2)$. \n",
    "\n",
    "* Space complexity: $O(\\sum w_i^2)$. "
   ]
  },
  {
   "cell_type": "markdown",
   "metadata": {},
   "source": [
    "### Approach 2: Trie + Depth-First Search \n",
    "\n",
    "**Intuition**:\n",
    "As prefixes of strings are involved, this is usually a natural fit for a trie (a prefix tree.)\n",
    "\n",
    "**Algorithm**:\n",
    "Put every word in a trie, then depth-first-search from the start of the trie, only searching nodes that ended a word. Every node found (except the root, which is a special case) then represents a word with all it's prefixes present. We take the best such word. \n",
    "\n",
    "In Python, we showcase a method using defaultdict, while in Java, we stick to a more general object-oriented approach. "
   ]
  },
  {
   "cell_type": "code",
   "execution_count": 17,
   "metadata": {},
   "outputs": [],
   "source": [
    "import collections\n",
    "from functools import reduce "
   ]
  },
  {
   "cell_type": "code",
   "execution_count": 20,
   "metadata": {},
   "outputs": [],
   "source": [
    "def longestWord_2(words):\n",
    "    Trie = lambda: collections.defaultdict(Trie)\n",
    "    trie = Trie()\n",
    "    END = True\n",
    "    \n",
    "    for i, word in enumerate(words):\n",
    "        reduce(dict.__getitem__, word, trie)[END] = i\n",
    "    \n",
    "    stack = trie.values()\n",
    "    ans = \"\"\n",
    "    while stack:\n",
    "        cur = stack.pop()\n",
    "        if END in cur:\n",
    "            word = words[cur[END]]\n",
    "            if len(word) > len(ans) or len(word) == len(ans) and word < ans:\n",
    "                ans = word\n",
    "            stack.extend([cur[letter] for letter in cur if letter != END])\n",
    "            \n",
    "    return ans "
   ]
  },
  {
   "cell_type": "code",
   "execution_count": 21,
   "metadata": {},
   "outputs": [
    {
     "ename": "AttributeError",
     "evalue": "'dict_values' object has no attribute 'pop'",
     "output_type": "error",
     "traceback": [
      "\u001b[0;31m---------------------------------------------------------------------------\u001b[0m",
      "\u001b[0;31mAttributeError\u001b[0m                            Traceback (most recent call last)",
      "\u001b[0;32m<ipython-input-21-34ae8571d89a>\u001b[0m in \u001b[0;36m<module>\u001b[0;34m\u001b[0m\n\u001b[0;32m----> 1\u001b[0;31m \u001b[0mlongestWord_2\u001b[0m\u001b[0;34m(\u001b[0m\u001b[0mwords\u001b[0m\u001b[0;34m)\u001b[0m\u001b[0;34m\u001b[0m\u001b[0;34m\u001b[0m\u001b[0m\n\u001b[0m",
      "\u001b[0;32m<ipython-input-20-251f104089ff>\u001b[0m in \u001b[0;36mlongestWord_2\u001b[0;34m(words)\u001b[0m\n\u001b[1;32m     10\u001b[0m     \u001b[0mans\u001b[0m \u001b[0;34m=\u001b[0m \u001b[0;34m\"\"\u001b[0m\u001b[0;34m\u001b[0m\u001b[0;34m\u001b[0m\u001b[0m\n\u001b[1;32m     11\u001b[0m     \u001b[0;32mwhile\u001b[0m \u001b[0mstack\u001b[0m\u001b[0;34m:\u001b[0m\u001b[0;34m\u001b[0m\u001b[0;34m\u001b[0m\u001b[0m\n\u001b[0;32m---> 12\u001b[0;31m         \u001b[0mcur\u001b[0m \u001b[0;34m=\u001b[0m \u001b[0mstack\u001b[0m\u001b[0;34m.\u001b[0m\u001b[0mpop\u001b[0m\u001b[0;34m(\u001b[0m\u001b[0;34m)\u001b[0m\u001b[0;34m\u001b[0m\u001b[0;34m\u001b[0m\u001b[0m\n\u001b[0m\u001b[1;32m     13\u001b[0m         \u001b[0;32mif\u001b[0m \u001b[0mEND\u001b[0m \u001b[0;32min\u001b[0m \u001b[0mcur\u001b[0m\u001b[0;34m:\u001b[0m\u001b[0;34m\u001b[0m\u001b[0;34m\u001b[0m\u001b[0m\n\u001b[1;32m     14\u001b[0m             \u001b[0mword\u001b[0m \u001b[0;34m=\u001b[0m \u001b[0mwords\u001b[0m\u001b[0;34m[\u001b[0m\u001b[0mcur\u001b[0m\u001b[0;34m[\u001b[0m\u001b[0mEND\u001b[0m\u001b[0;34m]\u001b[0m\u001b[0;34m]\u001b[0m\u001b[0;34m\u001b[0m\u001b[0;34m\u001b[0m\u001b[0m\n",
      "\u001b[0;31mAttributeError\u001b[0m: 'dict_values' object has no attribute 'pop'"
     ]
    }
   ],
   "source": [
    "longestWord_2(words)"
   ]
  },
  {
   "cell_type": "code",
   "execution_count": 22,
   "metadata": {},
   "outputs": [],
   "source": [
    "# examples of default_dict \n",
    "\n",
    "s = [('yellow',1), ('blue', 2), ('yellow', 3), ('blue', 4), ('red',1)]"
   ]
  },
  {
   "cell_type": "code",
   "execution_count": 24,
   "metadata": {},
   "outputs": [],
   "source": [
    "from collections import defaultdict\n",
    "d = defaultdict(list)"
   ]
  },
  {
   "cell_type": "code",
   "execution_count": 25,
   "metadata": {},
   "outputs": [],
   "source": [
    "for k,v in s:\n",
    "    d[k].append(v)"
   ]
  },
  {
   "cell_type": "code",
   "execution_count": 26,
   "metadata": {},
   "outputs": [
    {
     "data": {
      "text/plain": [
       "defaultdict(list, {'yellow': [1, 3], 'blue': [2, 4], 'red': [1]})"
      ]
     },
     "execution_count": 26,
     "metadata": {},
     "output_type": "execute_result"
    }
   ],
   "source": [
    "d"
   ]
  },
  {
   "cell_type": "markdown",
   "metadata": {},
   "source": [
    "When each key is encountered for the first time, it is not already in the mapping; so an entry is automaticaly created using the default_factory function which returns an empty list. The list.append() operation then attaches the value to the new list. When keys are encountered again, the look-up proceeds normally (returning the list for that key) and the list.append() operation. adds anohter value to the list. This technique is simpler and faster than an equivalent technique using dict.setdefault():"
   ]
  },
  {
   "cell_type": "code",
   "execution_count": 27,
   "metadata": {},
   "outputs": [],
   "source": [
    "d = {}\n",
    "for k,v in s :\n",
    "    d.setdefault(k, []).append(v)"
   ]
  },
  {
   "cell_type": "code",
   "execution_count": 28,
   "metadata": {},
   "outputs": [
    {
     "data": {
      "text/plain": [
       "{'yellow': [1, 3], 'blue': [2, 4], 'red': [1]}"
      ]
     },
     "execution_count": 28,
     "metadata": {},
     "output_type": "execute_result"
    }
   ],
   "source": [
    "d"
   ]
  },
  {
   "cell_type": "code",
   "execution_count": 29,
   "metadata": {},
   "outputs": [
    {
     "data": {
      "text/plain": [
       "dict_items([('yellow', [1, 3]), ('blue', [2, 4]), ('red', [1])])"
      ]
     },
     "execution_count": 29,
     "metadata": {},
     "output_type": "execute_result"
    }
   ],
   "source": [
    "d.items()"
   ]
  },
  {
   "cell_type": "markdown",
   "metadata": {},
   "source": [
    "Setting the default_factory to int makes the defaultdict useful for counting (like a bag or multiset in other languages):"
   ]
  },
  {
   "cell_type": "code",
   "execution_count": 30,
   "metadata": {},
   "outputs": [],
   "source": [
    "s = 'mississippi'\n",
    "d = defaultdict(int)\n",
    "for k in s:\n",
    "    d[k] += 1 "
   ]
  },
  {
   "cell_type": "code",
   "execution_count": 31,
   "metadata": {},
   "outputs": [
    {
     "data": {
      "text/plain": [
       "dict_items([('m', 1), ('i', 4), ('s', 4), ('p', 2)])"
      ]
     },
     "execution_count": 31,
     "metadata": {},
     "output_type": "execute_result"
    }
   ],
   "source": [
    "d.items()"
   ]
  },
  {
   "cell_type": "markdown",
   "metadata": {},
   "source": [
    "When a letter is first encountered, it is missing from the mapping, so the default_factory function calls int() to supply count of zero. The increment operation then builds up the count for each letter. \n",
    "\n",
    "The function int() which always returns zero is just a special case of constant functions. A faster and more flexible way to create constant functions is to use lambda function which can supply any constant value (not just zero):"
   ]
  },
  {
   "cell_type": "code",
   "execution_count": 33,
   "metadata": {},
   "outputs": [],
   "source": [
    "def constant_factory(value):\n",
    "    return lambda: value "
   ]
  },
  {
   "cell_type": "code",
   "execution_count": 34,
   "metadata": {},
   "outputs": [
    {
     "data": {
      "text/plain": [
       "<function __main__.constant_factory.<locals>.<lambda>()>"
      ]
     },
     "execution_count": 34,
     "metadata": {},
     "output_type": "execute_result"
    }
   ],
   "source": [
    "constant_factory(5)"
   ]
  },
  {
   "cell_type": "code",
   "execution_count": 35,
   "metadata": {},
   "outputs": [
    {
     "name": "stdout",
     "output_type": "stream",
     "text": [
      "XiaoWang ran to <Wuhan>\n"
     ]
    }
   ],
   "source": [
    "d = defaultdict(constant_factory('<Wuhan>'))\n",
    "d.update(name = 'XiaoWang', action = 'ran')\n",
    "print(\"%(name)s %(action)s to %(object)s\" %d)"
   ]
  },
  {
   "cell_type": "markdown",
   "metadata": {},
   "source": [
    "Setting the default_factory to set makes the defaultdict useful for building a dictionary of sets:"
   ]
  },
  {
   "cell_type": "code",
   "execution_count": 36,
   "metadata": {},
   "outputs": [],
   "source": [
    "s = [('red',1), ('blue',2), ('red',3), ('blue', 4), ('red',1), ('blue', 4)]\n",
    "d = defaultdict(set)\n",
    "\n",
    "for k,v in s:\n",
    "    d[k].add(v)"
   ]
  },
  {
   "cell_type": "code",
   "execution_count": 37,
   "metadata": {},
   "outputs": [
    {
     "data": {
      "text/plain": [
       "dict_items([('red', {1, 3}), ('blue', {2, 4})])"
      ]
     },
     "execution_count": 37,
     "metadata": {},
     "output_type": "execute_result"
    }
   ],
   "source": [
    "d.items()"
   ]
  },
  {
   "cell_type": "markdown",
   "metadata": {},
   "source": [
    "## Valid IP address \n",
    "\n",
    "Write a function to check whether an input string is a valid IPv4 address or IPv6 address or neither.\n",
    "\n",
    "IPv4 addresses are canonically represented in dot-decimal notation, which consists of four decimal numbers, each ranging from 0 to 255, separated by dots (\".\"), e.g.,172.16.254.1;\n",
    "\n",
    "Besides, leading zeros in the IPv4 is invalid. For example, the address 172.16.254.01 is invalid.\n",
    "\n",
    "IPv6 addresses are represented as eight groups of four hexadecimal digits, each group representing 16 bits. The groups are separated by colons (\":\"). For example, the address 2001:0db8:85a3:0000:0000:8a2e:0370:7334 is a valid one. Also, we could omit some leading zeros among four hexadecimal digits and some low-case characters in the address to upper-case ones, so 2001:db8:85a3:0:0:8A2E:0370:7334 is also a valid IPv6 address(Omit leading zeros and using upper cases).\n",
    "\n",
    "However, we don't replace a consecutive group of zero value with a single empty group using two consecutive colons (::) to pursue simplicity. For example, 2001:0db8:85a3::8A2E:0370:7334 is an invalid IPv6 address.\n",
    "\n",
    "Besides, extra leading zeros in the IPv6 is also invalid. For example, the address 02001:0db8:85a3:0000:0000:8a2e:0370:7334 is invalid.\n",
    "\n",
    "Note: You may assume there is no extra space or special characters in the input string.\n",
    "\n",
    "Example 1:\n",
    "\n",
    "Input: \"172.16.254.1\"\n",
    "\n",
    "Output: \"IPv4\"\n",
    "\n",
    "Explanation: This is a valid IPv4 address, return \"IPv4\".\n",
    "Example 2:\n",
    "\n",
    "Input: \"2001:0db8:85a3:0:0:8A2E:0370:7334\"\n",
    "\n",
    "Output: \"IPv6\"\n",
    "\n",
    "Explanation: This is a valid IPv6 address, return \"IPv6\".\n",
    "Example 3:\n",
    "\n",
    "Input: \"256.256.256.256\"\n",
    "\n",
    "Output: \"Neither\"\n",
    "\n",
    "Explanation: This is neither a IPv4 address nor a IPv6 address."
   ]
  },
  {
   "cell_type": "code",
   "execution_count": 1,
   "metadata": {},
   "outputs": [],
   "source": [
    "# Divide and Conquer \n",
    "\n",
    "def isvalid_IPv4(IP:str) -> str:\n",
    "    nums = IP.split('.')\n",
    "    print(nums)\n",
    "    i = 1\n",
    "    for x in nums:\n",
    "        print(x)\n",
    "        if len(x) == 0 or len(x) > 3:\n",
    "            print('stop at clause 1'+ str(i))\n",
    "            return \"Neither\"\n",
    "        if (x[0] == '0' and len(x) != 1) or not x.isdigit() or int(x) > 255:\n",
    "            print('stop at clause 2' + str(i))\n",
    "            return \"Neither\"\n",
    "        i += 1\n",
    "            \n",
    "    return \"IPv4\"\n",
    "\n",
    "def isvalid_IPv6(IP:str) -> str:\n",
    "    nums = IP.split(':')\n",
    "    for x in nums:\n",
    "        if len(x) == 0 or len(x) > 4 or not all(c in hexdigits for c in x):\n",
    "            return \"Neither\"\n",
    "    return \"IPv6\"\n",
    "\n",
    "\n",
    "def validIPAddress(IP:str) -> str:\n",
    "    if IP.count('.') == 3:\n",
    "        return isvalid_IPv4(IP)\n",
    "    elif IP.count(\":\") == 7:\n",
    "        return isvalid_IPv6(IP)\n",
    "    else:\n",
    "        return \"Neither\""
   ]
  },
  {
   "cell_type": "code",
   "execution_count": 2,
   "metadata": {},
   "outputs": [
    {
     "name": "stdout",
     "output_type": "stream",
     "text": [
      "['172', '16', '254', '1']\n",
      "172\n",
      "16\n",
      "254\n",
      "1\n"
     ]
    },
    {
     "data": {
      "text/plain": [
       "'IPv4'"
      ]
     },
     "execution_count": 2,
     "metadata": {},
     "output_type": "execute_result"
    }
   ],
   "source": [
    "IP = \"172.16.254.1\"\n",
    "validIPAddress(IP)"
   ]
  },
  {
   "cell_type": "code",
   "execution_count": 11,
   "metadata": {},
   "outputs": [],
   "source": [
    "x = '254'"
   ]
  },
  {
   "cell_type": "code",
   "execution_count": 12,
   "metadata": {},
   "outputs": [
    {
     "data": {
      "text/plain": [
       "False"
      ]
     },
     "execution_count": 12,
     "metadata": {},
     "output_type": "execute_result"
    }
   ],
   "source": [
    "(x[0] == '0' and len(x) != 1)"
   ]
  },
  {
   "cell_type": "code",
   "execution_count": 13,
   "metadata": {},
   "outputs": [
    {
     "data": {
      "text/plain": [
       "False"
      ]
     },
     "execution_count": 13,
     "metadata": {},
     "output_type": "execute_result"
    }
   ],
   "source": [
    "not x.isdigit() "
   ]
  },
  {
   "cell_type": "code",
   "execution_count": 3,
   "metadata": {},
   "outputs": [
    {
     "name": "stdout",
     "output_type": "stream",
     "text": [
      "['1', '0', '1', '']\n",
      "1\n",
      "0\n",
      "1\n",
      "\n",
      "stop at clause 14\n"
     ]
    },
    {
     "data": {
      "text/plain": [
       "'Neither'"
      ]
     },
     "execution_count": 3,
     "metadata": {},
     "output_type": "execute_result"
    }
   ],
   "source": [
    "IP = '1.0.1.'\n",
    "\n",
    "validIPAddress(IP)"
   ]
  },
  {
   "cell_type": "code",
   "execution_count": 6,
   "metadata": {},
   "outputs": [],
   "source": [
    "dp = [[0]*5]*5"
   ]
  },
  {
   "cell_type": "code",
   "execution_count": 7,
   "metadata": {},
   "outputs": [
    {
     "name": "stdout",
     "output_type": "stream",
     "text": [
      "[[0, 0, 0, 0, 0], [0, 0, 0, 0, 0], [0, 0, 0, 0, 0], [0, 0, 0, 0, 0], [0, 0, 0, 0, 0]]\n"
     ]
    }
   ],
   "source": [
    "print(dp)"
   ]
  },
  {
   "cell_type": "code",
   "execution_count": 8,
   "metadata": {},
   "outputs": [
    {
     "data": {
      "text/plain": [
       "[0, 0, 0, 0, 0]"
      ]
     },
     "execution_count": 8,
     "metadata": {},
     "output_type": "execute_result"
    }
   ],
   "source": [
    "dp[0]"
   ]
  },
  {
   "cell_type": "code",
   "execution_count": 9,
   "metadata": {},
   "outputs": [],
   "source": [
    "matrix = [[1,0,0,1,1], [1,1,1,1,1], [0,1,1,0,1], [0,0,0,1,1], [0,0,0,0,1]]"
   ]
  },
  {
   "cell_type": "code",
   "execution_count": 10,
   "metadata": {},
   "outputs": [],
   "source": [
    "dp[0] = matrix[0]"
   ]
  },
  {
   "cell_type": "code",
   "execution_count": 11,
   "metadata": {},
   "outputs": [
    {
     "data": {
      "text/plain": [
       "[1, 0, 0, 1, 1]"
      ]
     },
     "execution_count": 11,
     "metadata": {},
     "output_type": "execute_result"
    }
   ],
   "source": [
    "dp[0]"
   ]
  },
  {
   "cell_type": "code",
   "execution_count": 12,
   "metadata": {},
   "outputs": [],
   "source": [
    "dp[:][0] = matrix[:][0]"
   ]
  },
  {
   "cell_type": "code",
   "execution_count": 13,
   "metadata": {},
   "outputs": [
    {
     "data": {
      "text/plain": [
       "[[1, 0, 0, 1, 1],\n",
       " [0, 0, 0, 0, 0],\n",
       " [0, 0, 0, 0, 0],\n",
       " [0, 0, 0, 0, 0],\n",
       " [0, 0, 0, 0, 0]]"
      ]
     },
     "execution_count": 13,
     "metadata": {},
     "output_type": "execute_result"
    }
   ],
   "source": [
    "dp"
   ]
  },
  {
   "cell_type": "code",
   "execution_count": 14,
   "metadata": {},
   "outputs": [
    {
     "data": {
      "text/plain": [
       "[[1, 0, 0, 1, 1],\n",
       " [1, 1, 1, 1, 1],\n",
       " [0, 1, 1, 0, 1],\n",
       " [0, 0, 0, 1, 1],\n",
       " [0, 0, 0, 0, 1]]"
      ]
     },
     "execution_count": 14,
     "metadata": {},
     "output_type": "execute_result"
    }
   ],
   "source": [
    "matrix"
   ]
  },
  {
   "cell_type": "code",
   "execution_count": 15,
   "metadata": {},
   "outputs": [
    {
     "data": {
      "text/plain": [
       "[1, 0, 0, 1, 1]"
      ]
     },
     "execution_count": 15,
     "metadata": {},
     "output_type": "execute_result"
    }
   ],
   "source": [
    "matrix[:][0]"
   ]
  },
  {
   "cell_type": "code",
   "execution_count": 16,
   "metadata": {},
   "outputs": [
    {
     "data": {
      "text/plain": [
       "[1, 0, 0, 1, 1]"
      ]
     },
     "execution_count": 16,
     "metadata": {},
     "output_type": "execute_result"
    }
   ],
   "source": [
    "matrix[0]"
   ]
  },
  {
   "cell_type": "code",
   "execution_count": 20,
   "metadata": {},
   "outputs": [
    {
     "name": "stdout",
     "output_type": "stream",
     "text": [
      "5\n",
      "4\n",
      "3\n",
      "2\n"
     ]
    }
   ],
   "source": [
    "for j in range(5,1,-1):\n",
    "    print(j)"
   ]
  },
  {
   "cell_type": "code",
   "execution_count": 24,
   "metadata": {},
   "outputs": [],
   "source": [
    "dp = [ [matrix[i][j] for i in range(5)] for j in range(5)]"
   ]
  },
  {
   "cell_type": "code",
   "execution_count": 25,
   "metadata": {},
   "outputs": [
    {
     "data": {
      "text/plain": [
       "[[1, 1, 0, 0, 0],\n",
       " [0, 1, 1, 0, 0],\n",
       " [0, 1, 1, 0, 0],\n",
       " [1, 1, 0, 1, 0],\n",
       " [1, 1, 1, 1, 1]]"
      ]
     },
     "execution_count": 25,
     "metadata": {},
     "output_type": "execute_result"
    }
   ],
   "source": [
    "dp"
   ]
  },
  {
   "cell_type": "code",
   "execution_count": 26,
   "metadata": {},
   "outputs": [],
   "source": [
    "matrix = [[i*j for i in range(1,6)] for j in range(1,4)]"
   ]
  },
  {
   "cell_type": "code",
   "execution_count": 27,
   "metadata": {},
   "outputs": [
    {
     "data": {
      "text/plain": [
       "[[1, 2, 3, 4, 5], [2, 4, 6, 8, 10], [3, 6, 9, 12, 15]]"
      ]
     },
     "execution_count": 27,
     "metadata": {},
     "output_type": "execute_result"
    }
   ],
   "source": [
    "matrix "
   ]
  },
  {
   "cell_type": "code",
   "execution_count": 28,
   "metadata": {},
   "outputs": [],
   "source": [
    "n = len(matrix)\n",
    "\n",
    "m = len(matrix[0])"
   ]
  },
  {
   "cell_type": "code",
   "execution_count": 29,
   "metadata": {},
   "outputs": [
    {
     "data": {
      "text/plain": [
       "3"
      ]
     },
     "execution_count": 29,
     "metadata": {},
     "output_type": "execute_result"
    }
   ],
   "source": [
    "n"
   ]
  },
  {
   "cell_type": "code",
   "execution_count": 30,
   "metadata": {},
   "outputs": [
    {
     "data": {
      "text/plain": [
       "5"
      ]
     },
     "execution_count": 30,
     "metadata": {},
     "output_type": "execute_result"
    }
   ],
   "source": [
    "m"
   ]
  },
  {
   "cell_type": "code",
   "execution_count": 68,
   "metadata": {},
   "outputs": [],
   "source": [
    "dp = [[0]*m]*n"
   ]
  },
  {
   "cell_type": "code",
   "execution_count": 69,
   "metadata": {},
   "outputs": [
    {
     "data": {
      "text/plain": [
       "[[0, 0, 0, 0, 0], [0, 0, 0, 0, 0], [0, 0, 0, 0, 0]]"
      ]
     },
     "execution_count": 69,
     "metadata": {},
     "output_type": "execute_result"
    }
   ],
   "source": [
    "dp"
   ]
  },
  {
   "cell_type": "code",
   "execution_count": 70,
   "metadata": {},
   "outputs": [],
   "source": [
    "dp[0][0:m] = matrix[0][0:m]"
   ]
  },
  {
   "cell_type": "code",
   "execution_count": 71,
   "metadata": {},
   "outputs": [
    {
     "data": {
      "text/plain": [
       "[[1, 2, 3, 4, 5], [1, 2, 3, 4, 5], [1, 2, 3, 4, 5]]"
      ]
     },
     "execution_count": 71,
     "metadata": {},
     "output_type": "execute_result"
    }
   ],
   "source": [
    "dp"
   ]
  },
  {
   "cell_type": "code",
   "execution_count": 72,
   "metadata": {},
   "outputs": [],
   "source": [
    "dp[0:n][0] = matrix[0:n][0]"
   ]
  },
  {
   "cell_type": "code",
   "execution_count": 73,
   "metadata": {},
   "outputs": [
    {
     "data": {
      "text/plain": [
       "[[1, 2, 3, 4, 5], [1, 2, 3, 4, 5], [1, 2, 3, 4, 5]]"
      ]
     },
     "execution_count": 73,
     "metadata": {},
     "output_type": "execute_result"
    }
   ],
   "source": [
    "dp"
   ]
  },
  {
   "cell_type": "code",
   "execution_count": 41,
   "metadata": {},
   "outputs": [
    {
     "data": {
      "text/plain": [
       "1"
      ]
     },
     "execution_count": 41,
     "metadata": {},
     "output_type": "execute_result"
    }
   ],
   "source": [
    "matrix[0][0]"
   ]
  },
  {
   "cell_type": "code",
   "execution_count": 42,
   "metadata": {},
   "outputs": [
    {
     "data": {
      "text/plain": [
       "2"
      ]
     },
     "execution_count": 42,
     "metadata": {},
     "output_type": "execute_result"
    }
   ],
   "source": [
    "matrix[0][1]"
   ]
  },
  {
   "cell_type": "code",
   "execution_count": 43,
   "metadata": {},
   "outputs": [
    {
     "data": {
      "text/plain": [
       "3"
      ]
     },
     "execution_count": 43,
     "metadata": {},
     "output_type": "execute_result"
    }
   ],
   "source": [
    "matrix[0][2]"
   ]
  },
  {
   "cell_type": "code",
   "execution_count": 44,
   "metadata": {},
   "outputs": [
    {
     "data": {
      "text/plain": [
       "4"
      ]
     },
     "execution_count": 44,
     "metadata": {},
     "output_type": "execute_result"
    }
   ],
   "source": [
    "matrix[0][3]"
   ]
  },
  {
   "cell_type": "code",
   "execution_count": 75,
   "metadata": {},
   "outputs": [
    {
     "data": {
      "text/plain": [
       "1"
      ]
     },
     "execution_count": 75,
     "metadata": {},
     "output_type": "execute_result"
    }
   ],
   "source": [
    "int('1') - int('0')"
   ]
  },
  {
   "cell_type": "code",
   "execution_count": 135,
   "metadata": {},
   "outputs": [],
   "source": [
    "matrix = [ ['1','0','1','0','0'],\n",
    "           ['1', '0', '1', '1', '1'],\n",
    "           ['1', '1', '1', '1', '1'],\n",
    "           ['1', '0', '0', '1', '0'] ]"
   ]
  },
  {
   "cell_type": "code",
   "execution_count": 136,
   "metadata": {},
   "outputs": [
    {
     "data": {
      "text/plain": [
       "5"
      ]
     },
     "execution_count": 136,
     "metadata": {},
     "output_type": "execute_result"
    }
   ],
   "source": [
    "n = len(matrix)\n",
    "m = len(matrix[0])\n",
    "n\n",
    "m"
   ]
  },
  {
   "cell_type": "code",
   "execution_count": 137,
   "metadata": {},
   "outputs": [],
   "source": [
    "dp = [[int(matrix[j][i]) for i in range(m)] for j in range(n)]"
   ]
  },
  {
   "cell_type": "code",
   "execution_count": 138,
   "metadata": {},
   "outputs": [
    {
     "data": {
      "text/plain": [
       "[[1, 0, 1, 0, 0], [1, 0, 1, 1, 1], [1, 1, 1, 1, 1], [1, 0, 0, 1, 0]]"
      ]
     },
     "execution_count": 138,
     "metadata": {},
     "output_type": "execute_result"
    }
   ],
   "source": [
    "dp"
   ]
  },
  {
   "cell_type": "code",
   "execution_count": 139,
   "metadata": {},
   "outputs": [],
   "source": [
    "for j in range(1,n):\n",
    "    dp[j][0] = dp[j-1][0] + int(matrix[j][0])\n",
    "    \n",
    "for i in range(1,m):\n",
    "    dp[0][i] = dp[0][i-1] + int(matrix[0][i])"
   ]
  },
  {
   "cell_type": "code",
   "execution_count": 140,
   "metadata": {},
   "outputs": [
    {
     "data": {
      "text/plain": [
       "[[1, 1, 2, 2, 2], [2, 0, 1, 1, 1], [3, 1, 1, 1, 1], [4, 0, 0, 1, 0]]"
      ]
     },
     "execution_count": 140,
     "metadata": {},
     "output_type": "execute_result"
    }
   ],
   "source": [
    "dp"
   ]
  },
  {
   "cell_type": "code",
   "execution_count": 141,
   "metadata": {},
   "outputs": [],
   "source": [
    "for j in range(1,n):\n",
    "    for i in range(1,m):\n",
    "        dp[j][i] = dp[j-1][i] + dp[j][i-1] - dp[j-1][i-1] + int(matrix[j][i])"
   ]
  },
  {
   "cell_type": "code",
   "execution_count": 142,
   "metadata": {},
   "outputs": [
    {
     "data": {
      "text/plain": [
       "[[1, 1, 2, 2, 2], [2, 2, 4, 5, 6], [3, 4, 7, 9, 11], [4, 5, 8, 11, 13]]"
      ]
     },
     "execution_count": 142,
     "metadata": {},
     "output_type": "execute_result"
    }
   ],
   "source": [
    "dp"
   ]
  },
  {
   "cell_type": "code",
   "execution_count": 134,
   "metadata": {},
   "outputs": [
    {
     "data": {
      "text/plain": [
       "[['1', '0', '1', '0', '0'],\n",
       " ['1', '0', '1', '1', '1'],\n",
       " ['1', '1', '1', '1', '1'],\n",
       " ['1', '0', '0', '1', '0']]"
      ]
     },
     "execution_count": 134,
     "metadata": {},
     "output_type": "execute_result"
    }
   ],
   "source": [
    "matrix"
   ]
  },
  {
   "cell_type": "code",
   "execution_count": 143,
   "metadata": {},
   "outputs": [],
   "source": [
    "ans = 0\n",
    "for j in range(1,n):\n",
    "    for i in range(1,m):\n",
    "        for size in range(min(n-j, m-i)-1,0,-1):\n",
    "            temp = dp[j + size -1][ i+ size -1] - dp[j-1][i+size -1] - dp[j + size -1][i -1] + dp[j-1][i-1]\n",
    "            if temp == size*size:\n",
    "                ans = max(ans, temp)"
   ]
  },
  {
   "cell_type": "code",
   "execution_count": 144,
   "metadata": {},
   "outputs": [
    {
     "data": {
      "text/plain": [
       "4"
      ]
     },
     "execution_count": 144,
     "metadata": {},
     "output_type": "execute_result"
    }
   ],
   "source": [
    "ans"
   ]
  },
  {
   "cell_type": "code",
   "execution_count": 168,
   "metadata": {},
   "outputs": [],
   "source": [
    "def maximalSquare( matrix: list) -> int:\n",
    "    ans = 0\n",
    "\n",
    "\n",
    "    n = len(matrix)\n",
    "    m = len(matrix[0])\n",
    "    \n",
    "    print('n is '+ str(n) + ' and m is '+ str(m))\n",
    "\n",
    "    if n == 0:\n",
    "        print('n is 0')\n",
    "        return ans\n",
    "    \n",
    "\n",
    "    dp = [[int(matrix[j][i]) for i in range(m)] for j in range(n)]\n",
    "    \n",
    "    print(dp)\n",
    "\n",
    "\n",
    "    for j in range(1,n):\n",
    "         dp[j][0] = dp[j-1][0] + int(matrix[j][0])\n",
    "\n",
    "    for i in range(1,m):\n",
    "         dp[0][i] = dp[0][i-1] + int(matrix[0][i])\n",
    "\n",
    "    for j in range(1,n):\n",
    "        for i in range(1,m):\n",
    "            dp[j][i] = dp[j-1][i] + dp[j][i-1] - dp[j-1][i-1] + int(matrix[j][i])\n",
    "    \n",
    "    print(dp)\n",
    "    \n",
    "    for j in range(1,n):\n",
    "        for i in range(1,m):\n",
    "            for size in range(min(n-j, m-i)-1,0,-1):\n",
    "                temp = dp[j + size -1][ i+ size -1] - dp[j-1][i+size -1] - dp[j + size -1][i -1] + dp[j-1][i-1]\n",
    "                if temp == size*size:\n",
    "                    print(size)\n",
    "                    print(temp)\n",
    "                    ans = max(ans, temp)\n",
    "\n",
    "    return ans "
   ]
  },
  {
   "cell_type": "code",
   "execution_count": 157,
   "metadata": {},
   "outputs": [
    {
     "name": "stdout",
     "output_type": "stream",
     "text": [
      "[[1, 0, 1, 0, 0], [1, 0, 1, 1, 1], [1, 1, 1, 1, 1], [1, 0, 0, 1, 0]]\n",
      "[[1, 1, 2, 2, 2], [2, 2, 4, 5, 6], [3, 4, 7, 9, 11], [4, 5, 8, 11, 13]]\n",
      "2\n",
      "4\n",
      "1\n",
      "1\n",
      "1\n",
      "1\n",
      "1\n",
      "1\n",
      "1\n",
      "1\n",
      "1\n",
      "1\n"
     ]
    },
    {
     "data": {
      "text/plain": [
       "4"
      ]
     },
     "execution_count": 157,
     "metadata": {},
     "output_type": "execute_result"
    }
   ],
   "source": [
    "maximalSquare(matrix)"
   ]
  },
  {
   "cell_type": "code",
   "execution_count": 17,
   "metadata": {},
   "outputs": [],
   "source": [
    "matrix = [[\"0\",\"1\"],[\"1\",\"0\"]]"
   ]
  },
  {
   "cell_type": "code",
   "execution_count": 169,
   "metadata": {},
   "outputs": [
    {
     "name": "stdout",
     "output_type": "stream",
     "text": [
      "n is 2 and m is 2\n",
      "[[0, 1], [1, 0]]\n",
      "[[0, 1], [1, 2]]\n"
     ]
    },
    {
     "data": {
      "text/plain": [
       "0"
      ]
     },
     "execution_count": 169,
     "metadata": {},
     "output_type": "execute_result"
    }
   ],
   "source": [
    "maximalSquare(matrix)"
   ]
  },
  {
   "cell_type": "code",
   "execution_count": 15,
   "metadata": {},
   "outputs": [],
   "source": [
    "def maximalSquare2(matrix : list) -> str:\n",
    "    if not matrix:\n",
    "        return 0\n",
    "    n = len(matrix)\n",
    "    m = len(matrix[0])\n",
    "    \n",
    "    sizes = [[0 for i in range(m)] for j in range(n)]\n",
    "    print(sizes)\n",
    "    ans = 0\n",
    "    \n",
    "    sizes[0][0] = int(matrix[0][0])\n",
    "    \n",
    "    for j in range(m):\n",
    "        for i in range(n):\n",
    "\n",
    "            if int(matrix[i][j])  == 1:\n",
    "            \n",
    "                if (i==0 and j >= 1):\n",
    "                   # sizes[i][j] = sizes[i][j-1] + 1\n",
    "                    sizes[i][j] = int(matrix[i][j])\n",
    "                elif (j==0 and i >= 1):\n",
    "                   # sizes[i][j] = sizes[i-1][j] + 1\n",
    "                    sizes[i][j] = int(matrix[i][j])\n",
    "                elif (j >= 1 and i >= 1):\n",
    "                    sizes[i][j] = min(min(sizes[i-1][j-1], sizes[i-1][j]), sizes[i][j-1]) +1\n",
    "                \n",
    "            ans = max(ans, sizes[i][j]*sizes[i][j])\n",
    "            \n",
    "            print(sizes)\n",
    "    return ans\n",
    "                "
   ]
  },
  {
   "cell_type": "code",
   "execution_count": 18,
   "metadata": {},
   "outputs": [
    {
     "name": "stdout",
     "output_type": "stream",
     "text": [
      "[[0, 0], [0, 0]]\n",
      "[[0, 0], [0, 0]]\n",
      "[[0, 0], [1, 0]]\n",
      "[[0, 1], [1, 0]]\n",
      "[[0, 1], [1, 0]]\n"
     ]
    },
    {
     "data": {
      "text/plain": [
       "1"
      ]
     },
     "execution_count": 18,
     "metadata": {},
     "output_type": "execute_result"
    }
   ],
   "source": [
    "maximalSquare2(matrix)"
   ]
  },
  {
   "cell_type": "code",
   "execution_count": 19,
   "metadata": {},
   "outputs": [],
   "source": [
    "matrix = [ ['1','0','1','0','0'],\n",
    "           ['1', '0', '1', '1', '1'],\n",
    "           ['1', '1', '1', '1', '1'],\n",
    "           ['1', '0', '0', '1', '0'] ]"
   ]
  },
  {
   "cell_type": "code",
   "execution_count": 20,
   "metadata": {},
   "outputs": [
    {
     "name": "stdout",
     "output_type": "stream",
     "text": [
      "[[0, 0, 0, 0, 0], [0, 0, 0, 0, 0], [0, 0, 0, 0, 0], [0, 0, 0, 0, 0]]\n",
      "[[1, 0, 0, 0, 0], [0, 0, 0, 0, 0], [0, 0, 0, 0, 0], [0, 0, 0, 0, 0]]\n",
      "[[1, 0, 0, 0, 0], [1, 0, 0, 0, 0], [0, 0, 0, 0, 0], [0, 0, 0, 0, 0]]\n",
      "[[1, 0, 0, 0, 0], [1, 0, 0, 0, 0], [1, 0, 0, 0, 0], [0, 0, 0, 0, 0]]\n",
      "[[1, 0, 0, 0, 0], [1, 0, 0, 0, 0], [1, 0, 0, 0, 0], [1, 0, 0, 0, 0]]\n",
      "[[1, 0, 0, 0, 0], [1, 0, 0, 0, 0], [1, 0, 0, 0, 0], [1, 0, 0, 0, 0]]\n",
      "[[1, 0, 0, 0, 0], [1, 0, 0, 0, 0], [1, 0, 0, 0, 0], [1, 0, 0, 0, 0]]\n",
      "[[1, 0, 0, 0, 0], [1, 0, 0, 0, 0], [1, 1, 0, 0, 0], [1, 0, 0, 0, 0]]\n",
      "[[1, 0, 0, 0, 0], [1, 0, 0, 0, 0], [1, 1, 0, 0, 0], [1, 0, 0, 0, 0]]\n",
      "[[1, 0, 1, 0, 0], [1, 0, 0, 0, 0], [1, 1, 0, 0, 0], [1, 0, 0, 0, 0]]\n",
      "[[1, 0, 1, 0, 0], [1, 0, 1, 0, 0], [1, 1, 0, 0, 0], [1, 0, 0, 0, 0]]\n",
      "[[1, 0, 1, 0, 0], [1, 0, 1, 0, 0], [1, 1, 1, 0, 0], [1, 0, 0, 0, 0]]\n",
      "[[1, 0, 1, 0, 0], [1, 0, 1, 0, 0], [1, 1, 1, 0, 0], [1, 0, 0, 0, 0]]\n",
      "[[1, 0, 1, 0, 0], [1, 0, 1, 0, 0], [1, 1, 1, 0, 0], [1, 0, 0, 0, 0]]\n",
      "[[1, 0, 1, 0, 0], [1, 0, 1, 1, 0], [1, 1, 1, 0, 0], [1, 0, 0, 0, 0]]\n",
      "[[1, 0, 1, 0, 0], [1, 0, 1, 1, 0], [1, 1, 1, 2, 0], [1, 0, 0, 0, 0]]\n",
      "[[1, 0, 1, 0, 0], [1, 0, 1, 1, 0], [1, 1, 1, 2, 0], [1, 0, 0, 1, 0]]\n",
      "[[1, 0, 1, 0, 0], [1, 0, 1, 1, 0], [1, 1, 1, 2, 0], [1, 0, 0, 1, 0]]\n",
      "[[1, 0, 1, 0, 0], [1, 0, 1, 1, 1], [1, 1, 1, 2, 0], [1, 0, 0, 1, 0]]\n",
      "[[1, 0, 1, 0, 0], [1, 0, 1, 1, 1], [1, 1, 1, 2, 2], [1, 0, 0, 1, 0]]\n",
      "[[1, 0, 1, 0, 0], [1, 0, 1, 1, 1], [1, 1, 1, 2, 2], [1, 0, 0, 1, 0]]\n"
     ]
    },
    {
     "data": {
      "text/plain": [
       "4"
      ]
     },
     "execution_count": 20,
     "metadata": {},
     "output_type": "execute_result"
    }
   ],
   "source": [
    "maximalSquare2(matrix)"
   ]
  },
  {
   "cell_type": "code",
   "execution_count": 21,
   "metadata": {},
   "outputs": [],
   "source": [
    "matrix = [['0','0','0'], ['0', '0', '0'], ['1', '1', '1']]"
   ]
  },
  {
   "cell_type": "code",
   "execution_count": 22,
   "metadata": {},
   "outputs": [
    {
     "name": "stdout",
     "output_type": "stream",
     "text": [
      "[[0, 0, 0], [0, 0, 0], [0, 0, 0]]\n",
      "[[0, 0, 0], [0, 0, 0], [0, 0, 0]]\n",
      "[[0, 0, 0], [0, 0, 0], [0, 0, 0]]\n",
      "[[0, 0, 0], [0, 0, 0], [1, 0, 0]]\n",
      "[[0, 0, 0], [0, 0, 0], [1, 0, 0]]\n",
      "[[0, 0, 0], [0, 0, 0], [1, 0, 0]]\n",
      "[[0, 0, 0], [0, 0, 0], [1, 1, 0]]\n",
      "[[0, 0, 0], [0, 0, 0], [1, 1, 0]]\n",
      "[[0, 0, 0], [0, 0, 0], [1, 1, 0]]\n",
      "[[0, 0, 0], [0, 0, 0], [1, 1, 1]]\n"
     ]
    },
    {
     "data": {
      "text/plain": [
       "1"
      ]
     },
     "execution_count": 22,
     "metadata": {},
     "output_type": "execute_result"
    }
   ],
   "source": [
    "maximalSquare2(matrix)"
   ]
  },
  {
   "cell_type": "markdown",
   "metadata": {},
   "source": [
    "## Python | Using 2D arrays/lists the right way"
   ]
  },
  {
   "cell_type": "code",
   "execution_count": 4,
   "metadata": {},
   "outputs": [
    {
     "name": "stdout",
     "output_type": "stream",
     "text": [
      "[[0, 0, 0, 0, 0], [0, 0, 0, 0, 0], [0, 0, 0, 0, 0], [0, 0, 0, 0, 0], [0, 0, 0, 0, 0]]\n"
     ]
    }
   ],
   "source": [
    "# Method 2a\n",
    "\n",
    "rows, cols = (5,5)\n",
    "arr = [[0] * cols] * rows \n",
    "print(arr)"
   ]
  },
  {
   "cell_type": "code",
   "execution_count": 5,
   "metadata": {},
   "outputs": [
    {
     "name": "stdout",
     "output_type": "stream",
     "text": [
      "[[1, 0, 0, 0, 0], [1, 0, 0, 0, 0], [1, 0, 0, 0, 0], [1, 0, 0, 0, 0], [1, 0, 0, 0, 0]]\n"
     ]
    }
   ],
   "source": [
    "arr[0][0] = 1\n",
    "\n",
    "print(arr)"
   ]
  },
  {
   "cell_type": "code",
   "execution_count": 2,
   "metadata": {},
   "outputs": [
    {
     "name": "stdout",
     "output_type": "stream",
     "text": [
      "[[0, 0, 0, 0, 0], [0, 0, 0, 0, 0], [0, 0, 0, 0, 0], [0, 0, 0, 0, 0], [0, 0, 0, 0, 0]]\n"
     ]
    }
   ],
   "source": [
    "# Method 2b \n",
    "\n",
    "rows, cols = (5,5)\n",
    "\n",
    "arr = [[0 for i in range(cols)] for j in range(rows)]\n",
    "\n",
    "print(arr)"
   ]
  },
  {
   "cell_type": "code",
   "execution_count": 3,
   "metadata": {},
   "outputs": [
    {
     "name": "stdout",
     "output_type": "stream",
     "text": [
      "[[1, 0, 0, 0, 0], [0, 0, 0, 0, 0], [0, 0, 0, 0, 0], [0, 0, 0, 0, 0], [0, 0, 0, 0, 0]]\n"
     ]
    }
   ],
   "source": [
    "arr[0][0] = 1\n",
    "\n",
    "print(arr)"
   ]
  },
  {
   "cell_type": "markdown",
   "metadata": {},
   "source": [
    "## 301 Remove Invalid Parentheses \n",
    "\n",
    "Remove the minimum number of invalid parentheses in order to make the input string valid. Return all possible results. \n",
    "\n",
    "Note: the input string may contain letters other than the parentheses '(' and ')'. \n",
    "\n",
    "Example 1:\n",
    "\n",
    "Input: \"()())()\"\n",
    "Output: [\"()()()\", \"(())()\"]\n",
    "Example 2:\n",
    "\n",
    "Input: \"(a)())()\"\n",
    "Output: [\"(a)()()\", \"(a())()\"]\n",
    "Example 3:\n",
    "\n",
    "Input: \")(\"\n",
    "Output: [\"\"]"
   ]
  },
  {
   "cell_type": "code",
   "execution_count": 72,
   "metadata": {},
   "outputs": [],
   "source": [
    "def dfs(s: str, start: int, l: int, r: int, ans: list):\n",
    "    if not s:\n",
    "        ans.append(\"\")\n",
    "        return \n",
    "    if l== 0 and r == 0 and isvalid(s):\n",
    "        ans.append(s)\n",
    "        return\n",
    "    else:\n",
    "        for i in range(start, len(s)):\n",
    "            if i != start and i < len(s) and s[i] == s[i-1]:\n",
    "                continue\n",
    "            if s[i] == ')' and r > 0:\n",
    "                print('i is '+ str(i))\n",
    "                new_s = s[:i]+s[i+1:]\n",
    "                print(new_s,l,r-1)\n",
    "                dfs(new_s,i, l, r-1, ans)\n",
    "            if s[i] == '(' and l > 0:\n",
    "                print('i is '+ str(i))\n",
    "                new_s = s[:i] + s[i+1:]\n",
    "                print(new_s)\n",
    "                dfs(new_s,i, l-1, r, ans)\n",
    "\n",
    "\n",
    "def isvalid(s:str) -> bool:\n",
    "    count = 0\n",
    "    for ch in s:\n",
    "        if ch == '(':\n",
    "            count += 1\n",
    "        elif ch == ')':\n",
    "            count -= 1\n",
    "        if count < 0:\n",
    "            return False \n",
    "    return count == 0\n",
    "\n",
    "\n",
    "\n",
    "\n",
    "def removeInvalidParentheses(s: str) -> list:\n",
    "    \n",
    "    if not s:\n",
    "        return [\"\"]\n",
    "    elif '(' not in s and ')' not in s:\n",
    "        return [s]\n",
    "    elif isvalid(s):\n",
    "        return [s]\n",
    "    \n",
    "    # count the number of left parenthese and right parentheses\n",
    "    # to be deleted \n",
    "    l = 0\n",
    "    r = 0\n",
    "    \n",
    "    for ch in s:\n",
    "        if ch == '(':\n",
    "            l += 1\n",
    "        if ch == ')':\n",
    "            if l == 0:\n",
    "                r += 1\n",
    "            elif l > 0:\n",
    "                l -= 1\n",
    "    ans = []\n",
    "    dfs(s, 0, l, r, ans)\n",
    "    return ans \n",
    "\n",
    "\n",
    "    \n",
    "        "
   ]
  },
  {
   "cell_type": "code",
   "execution_count": 73,
   "metadata": {},
   "outputs": [],
   "source": [
    "s = \")(\""
   ]
  },
  {
   "cell_type": "code",
   "execution_count": 74,
   "metadata": {},
   "outputs": [
    {
     "name": "stdout",
     "output_type": "stream",
     "text": [
      "i is 0\n",
      "( 1 0\n",
      "i is 0\n",
      "\n",
      "i is 1\n",
      ")\n"
     ]
    },
    {
     "data": {
      "text/plain": [
       "['']"
      ]
     },
     "execution_count": 74,
     "metadata": {},
     "output_type": "execute_result"
    }
   ],
   "source": [
    "removeInvalidParentheses(s)"
   ]
  },
  {
   "cell_type": "code",
   "execution_count": 75,
   "metadata": {},
   "outputs": [],
   "source": [
    "s = \"()())()\""
   ]
  },
  {
   "cell_type": "code",
   "execution_count": 76,
   "metadata": {},
   "outputs": [
    {
     "name": "stdout",
     "output_type": "stream",
     "text": [
      "i is 1\n",
      "(())() 0 0\n",
      "i is 3\n",
      "()()() 0 0\n",
      "i is 6\n",
      "()())( 0 0\n"
     ]
    },
    {
     "data": {
      "text/plain": [
       "['(())()', '()()()']"
      ]
     },
     "execution_count": 76,
     "metadata": {},
     "output_type": "execute_result"
    }
   ],
   "source": [
    "removeInvalidParentheses(s)"
   ]
  },
  {
   "cell_type": "code",
   "execution_count": 36,
   "metadata": {},
   "outputs": [
    {
     "data": {
      "text/plain": [
       "False"
      ]
     },
     "execution_count": 36,
     "metadata": {},
     "output_type": "execute_result"
    }
   ],
   "source": [
    "isvalid(s)"
   ]
  },
  {
   "cell_type": "code",
   "execution_count": 77,
   "metadata": {},
   "outputs": [],
   "source": [
    "s = \"(a)())()\""
   ]
  },
  {
   "cell_type": "code",
   "execution_count": 78,
   "metadata": {},
   "outputs": [
    {
     "name": "stdout",
     "output_type": "stream",
     "text": [
      "i is 2\n",
      "(a())() 0 0\n",
      "i is 4\n",
      "(a)()() 0 0\n",
      "i is 7\n",
      "(a)())( 0 0\n"
     ]
    },
    {
     "data": {
      "text/plain": [
       "['(a())()', '(a)()()']"
      ]
     },
     "execution_count": 78,
     "metadata": {},
     "output_type": "execute_result"
    }
   ],
   "source": [
    "removeInvalidParentheses(s)"
   ]
  },
  {
   "cell_type": "code",
   "execution_count": 51,
   "metadata": {},
   "outputs": [
    {
     "ename": "NameError",
     "evalue": "name 'List' is not defined",
     "output_type": "error",
     "traceback": [
      "\u001b[0;31m---------------------------------------------------------------------------\u001b[0m",
      "\u001b[0;31mNameError\u001b[0m                                 Traceback (most recent call last)",
      "\u001b[0;32m<ipython-input-51-66c5205db228>\u001b[0m in \u001b[0;36m<module>\u001b[0;34m\u001b[0m\n\u001b[1;32m      1\u001b[0m \u001b[0;32mimport\u001b[0m \u001b[0mcollections\u001b[0m\u001b[0;34m\u001b[0m\u001b[0;34m\u001b[0m\u001b[0m\n\u001b[0;32m----> 2\u001b[0;31m \u001b[0;32mclass\u001b[0m \u001b[0mSolution\u001b[0m\u001b[0;34m:\u001b[0m\u001b[0;34m\u001b[0m\u001b[0;34m\u001b[0m\u001b[0m\n\u001b[0m\u001b[1;32m      3\u001b[0m     \u001b[0;32mdef\u001b[0m \u001b[0mremoveInvalidParentheses\u001b[0m\u001b[0;34m(\u001b[0m\u001b[0mself\u001b[0m\u001b[0;34m,\u001b[0m \u001b[0ms\u001b[0m\u001b[0;34m:\u001b[0m \u001b[0mstr\u001b[0m\u001b[0;34m)\u001b[0m \u001b[0;34m->\u001b[0m \u001b[0mList\u001b[0m\u001b[0;34m[\u001b[0m\u001b[0mstr\u001b[0m\u001b[0;34m]\u001b[0m\u001b[0;34m:\u001b[0m\u001b[0;34m\u001b[0m\u001b[0;34m\u001b[0m\u001b[0m\n\u001b[1;32m      4\u001b[0m \u001b[0;34m\u001b[0m\u001b[0m\n\u001b[1;32m      5\u001b[0m         \u001b[0;32mif\u001b[0m \u001b[0;32mnot\u001b[0m \u001b[0ms\u001b[0m\u001b[0;34m:\u001b[0m\u001b[0;34m\u001b[0m\u001b[0;34m\u001b[0m\u001b[0m\n",
      "\u001b[0;32m<ipython-input-51-66c5205db228>\u001b[0m in \u001b[0;36mSolution\u001b[0;34m()\u001b[0m\n\u001b[1;32m      1\u001b[0m \u001b[0;32mimport\u001b[0m \u001b[0mcollections\u001b[0m\u001b[0;34m\u001b[0m\u001b[0;34m\u001b[0m\u001b[0m\n\u001b[1;32m      2\u001b[0m \u001b[0;32mclass\u001b[0m \u001b[0mSolution\u001b[0m\u001b[0;34m:\u001b[0m\u001b[0;34m\u001b[0m\u001b[0;34m\u001b[0m\u001b[0m\n\u001b[0;32m----> 3\u001b[0;31m     \u001b[0;32mdef\u001b[0m \u001b[0mremoveInvalidParentheses\u001b[0m\u001b[0;34m(\u001b[0m\u001b[0mself\u001b[0m\u001b[0;34m,\u001b[0m \u001b[0ms\u001b[0m\u001b[0;34m:\u001b[0m \u001b[0mstr\u001b[0m\u001b[0;34m)\u001b[0m \u001b[0;34m->\u001b[0m \u001b[0mList\u001b[0m\u001b[0;34m[\u001b[0m\u001b[0mstr\u001b[0m\u001b[0;34m]\u001b[0m\u001b[0;34m:\u001b[0m\u001b[0;34m\u001b[0m\u001b[0;34m\u001b[0m\u001b[0m\n\u001b[0m\u001b[1;32m      4\u001b[0m \u001b[0;34m\u001b[0m\u001b[0m\n\u001b[1;32m      5\u001b[0m         \u001b[0;32mif\u001b[0m \u001b[0;32mnot\u001b[0m \u001b[0ms\u001b[0m\u001b[0;34m:\u001b[0m\u001b[0;34m\u001b[0m\u001b[0;34m\u001b[0m\u001b[0m\n",
      "\u001b[0;31mNameError\u001b[0m: name 'List' is not defined"
     ]
    }
   ],
   "source": [
    "import collections \n",
    "class Solution:\n",
    "    def removeInvalidParentheses(self, s: str) -> List[str]:\n",
    "        \n",
    "        if not s:\n",
    "            return [\"\"]\n",
    "        elif '('  not in s and ')'  not in s:\n",
    "            return [s]\n",
    "        elif self.isvalid(s):\n",
    "            return [s]\n",
    "        \n",
    "        queue = collections.deque([s])\n",
    "        result = []\n",
    "        visited = set()\n",
    "        \n",
    "        while queue:\n",
    "            for i in range(len(queue)):\n",
    "                curr_s = queue.popleft()\n",
    "                if self.isvalid(curr_s):\n",
    "                    result.append(curr_s)\n",
    "                else:\n",
    "                    for k in range(len(curr_s)):\n",
    "                        temp = curr_s[0:k] + curr_s[k+1:]\n",
    "                        if temp not in visited: \n",
    "                            visited.add(temp)\n",
    "                            queue.append(temp)\n",
    "            if result:\n",
    "                return result\n",
    "        else:\n",
    "            return [\"\"]\n",
    "        \n",
    "    def isvalid(self, s: str):\n",
    "        count = 0\n",
    "        for l in s:\n",
    "            if l == '(':\n",
    "                count += 1\n",
    "            elif l == ')':\n",
    "                count -= 1\n",
    "            if count < 0:\n",
    "                return False\n",
    "        return count == 0\n",
    "        \n",
    "        "
   ]
  },
  {
   "cell_type": "markdown",
   "metadata": {},
   "source": [
    "## 70. Climbing Stairs \n",
    "\n",
    "You are climbing a stair case. It takes n steps t reach to the top. \n",
    "\n",
    "Each time you can either climb 1 or 2 steps. In how may distinct ways can you climb to the top? \n",
    "\n",
    "**Note:** Given n will be a positive integer. \n",
    "\n",
    "**Example 1:** \n",
    "Input: 2\n",
    "Output: 2 \n",
    "Explanation: There are two ways to climb to the top.\n",
    "1. 1 step + 1 step\n",
    "2. 2 step\n",
    "\n",
    "**Example 2:**\n",
    "Input: 3\n",
    "Output: 3\n",
    "Explanation: There are three ways to climb to the top. \n",
    "1. 1 step + 1 step + 1 step\n",
    "2. 1 step + 2 step \n",
    "3. 2 step + 1 step\n",
    "\n",
    "**Solution:**\n",
    "f(n) = f(n-1) + f(n-2) \n",
    "with f(1) = 1 and f(0) = 1"
   ]
  },
  {
   "cell_type": "code",
   "execution_count": 24,
   "metadata": {},
   "outputs": [],
   "source": [
    "def climbStairs(n: int) -> int:\n",
    "    if n <= 1:\n",
    "        return 1\n",
    "    else:\n",
    "        a = 1\n",
    "        b = 1\n",
    "        for i in range(2,n+1):\n",
    "            a, b = a+b, a\n",
    "        return a"
   ]
  },
  {
   "cell_type": "code",
   "execution_count": 25,
   "metadata": {},
   "outputs": [
    {
     "data": {
      "text/plain": [
       "2"
      ]
     },
     "execution_count": 25,
     "metadata": {},
     "output_type": "execute_result"
    }
   ],
   "source": [
    "climbStairs(2)"
   ]
  },
  {
   "cell_type": "markdown",
   "metadata": {},
   "source": [
    "## 62. Unique Paths\n",
    "\n",
    "A robot is located at the top-left corner of a m*n grid(marked 'Start in the diagram below). \n",
    "\n",
    "The robot can only move either down or right at any point in time, The robot is trying to reach the bottom-right corner of the grid (marked 'Finish' in the diagram below). \n",
    "\n",
    "How many possible unique paths are there?"
   ]
  },
  {
   "cell_type": "code",
   "execution_count": 26,
   "metadata": {},
   "outputs": [],
   "source": [
    "n = 3\n",
    "m = 5\n",
    "dp = [[0] *(n+1) for _ in range(m+1)] "
   ]
  },
  {
   "cell_type": "code",
   "execution_count": 27,
   "metadata": {},
   "outputs": [
    {
     "data": {
      "text/plain": [
       "[[0, 0, 0, 0],\n",
       " [0, 0, 0, 0],\n",
       " [0, 0, 0, 0],\n",
       " [0, 0, 0, 0],\n",
       " [0, 0, 0, 0],\n",
       " [0, 0, 0, 0]]"
      ]
     },
     "execution_count": 27,
     "metadata": {},
     "output_type": "execute_result"
    }
   ],
   "source": [
    "dp"
   ]
  },
  {
   "cell_type": "code",
   "execution_count": 29,
   "metadata": {},
   "outputs": [
    {
     "data": {
      "text/plain": [
       "0"
      ]
     },
     "execution_count": 29,
     "metadata": {},
     "output_type": "execute_result"
    }
   ],
   "source": [
    "dp[4][3]"
   ]
  },
  {
   "cell_type": "code",
   "execution_count": 30,
   "metadata": {},
   "outputs": [],
   "source": [
    "class Solution:\n",
    "    def uniquePaths(self, m: int, n: int) -> int:\n",
    "        \n",
    "        dp = [[0] *(n+1) for _ in range(m+1)] \n",
    "        \n",
    "        for i in range(1,m+1):\n",
    "            for j in range(1,n+1):\n",
    "                if i == 1 and j == 1:\n",
    "                    dp[i][j] = 1\n",
    "                else:\n",
    "                    dp[i][j] = dp[i-1][j] + dp[i][j-1]\n",
    "        return dp[i][j]\n",
    "        "
   ]
  },
  {
   "cell_type": "markdown",
   "metadata": {},
   "source": [
    "Time complexity O(mn). Space complexity O(mn). "
   ]
  },
  {
   "cell_type": "markdown",
   "metadata": {},
   "source": [
    "## 926. Flip String to Monotone Increasing \n",
    "\n",
    "A string of '0's and '1's is monotone increasing if it consists of some number of '0's (possibly 0), followed by some number of 1's (also possibly 0.)\n",
    "\n",
    "We are given a string s of '0' and '1's, and we may flip any '0' to a '1' or a '1' to a '0'.\n",
    "\n",
    "Return the minimum number of flips to make s monotone increasing. \n",
    "\n",
    "\n",
    "**Example 1:**\n",
    "Input: \"00110\"\n",
    "Output: 1\n",
    "Explanation: We flip the last digit to get 00111. \n",
    "\n",
    "**Example 2:**\n",
    "Input: \"010110\"\n",
    "Output: 2\n",
    "Explanation: We flip to get 011111, or alternatively 000111. \n",
    "\n",
    "**Example 3:**\n",
    "Input: \"00011000\"\n",
    "Output: 2\n",
    "Explanation: We flip to get 0000000. "
   ]
  },
  {
   "cell_type": "code",
   "execution_count": 34,
   "metadata": {},
   "outputs": [
    {
     "data": {
      "text/plain": [
       "1"
      ]
     },
     "execution_count": 34,
     "metadata": {},
     "output_type": "execute_result"
    }
   ],
   "source": [
    "ord('1') - ord('0')"
   ]
  },
  {
   "cell_type": "code",
   "execution_count": 68,
   "metadata": {},
   "outputs": [],
   "source": [
    "def miniFlipsMonoIncre(s: str) -> int:\n",
    "    \n",
    "    n = len(s)\n",
    "    \n",
    "    l =  [0]*(n+1)\n",
    "    \n",
    "    r = [0]*(n+1)\n",
    "    \n",
    "    \n",
    "    for i in range(1,n+1):\n",
    "        l[i] = l[i-1] + ord(s[i-1]) - ord('0')\n",
    "        \n",
    "    print(l)\n",
    "        \n",
    "    for i in range(n-1,-1,-1):\n",
    "        r[i] = r[i+1] + ord('1') - ord(s[i]) \n",
    "        \n",
    "    print(r)\n",
    "    \n",
    "    ans = r[0]    \n",
    "    \n",
    "    for i in range(1,n+1):\n",
    "        ans = min(ans, l[i-1]+ r[i])\n",
    "    return ans \n",
    "        \n",
    "        "
   ]
  },
  {
   "cell_type": "code",
   "execution_count": 64,
   "metadata": {},
   "outputs": [
    {
     "name": "stdout",
     "output_type": "stream",
     "text": [
      "[0, 0, 0, 1, 2, 2]\n",
      "[3, 2, 1, 1, 1, 0]\n"
     ]
    },
    {
     "data": {
      "text/plain": [
       "1"
      ]
     },
     "execution_count": 64,
     "metadata": {},
     "output_type": "execute_result"
    }
   ],
   "source": [
    "s = \"00110\"\n",
    "miniFlipsMonoIncre(s)"
   ]
  },
  {
   "cell_type": "code",
   "execution_count": 65,
   "metadata": {},
   "outputs": [
    {
     "name": "stdout",
     "output_type": "stream",
     "text": [
      "[0, 0, 1, 1, 2, 3, 3]\n",
      "[3, 2, 2, 1, 1, 1, 0]\n"
     ]
    },
    {
     "data": {
      "text/plain": [
       "2"
      ]
     },
     "execution_count": 65,
     "metadata": {},
     "output_type": "execute_result"
    }
   ],
   "source": [
    "s = \"010110\"\n",
    "miniFlipsMonoIncre(s)"
   ]
  },
  {
   "cell_type": "code",
   "execution_count": 69,
   "metadata": {},
   "outputs": [
    {
     "name": "stdout",
     "output_type": "stream",
     "text": [
      "[0, 0, 0, 0, 1, 2, 2, 2, 2]\n",
      "[6, 5, 4, 3, 3, 3, 2, 1, 0]\n"
     ]
    },
    {
     "data": {
      "text/plain": [
       "2"
      ]
     },
     "execution_count": 69,
     "metadata": {},
     "output_type": "execute_result"
    }
   ],
   "source": [
    "s = \"00011000\"\n",
    "miniFlipsMonoIncre(s)"
   ]
  },
  {
   "cell_type": "markdown",
   "metadata": {},
   "source": [
    "Time Complexity: O(n)\n",
    "\n",
    "Space Complexity: O(n)"
   ]
  },
  {
   "cell_type": "markdown",
   "metadata": {},
   "source": [
    "## 790. Domino and Tromino Tiling \n",
    "\n",
    "We have two types of tiles: a 2*1 domino shape, and an \"L\" tromino shape. These shapes may be rotated.\n",
    "\n",
    "XX <- domino\n",
    "\n",
    "XX <- \"L\" tromino \n",
    "X\n",
    "\n",
    "Given N, how many ways are there to tile a 2*N board? Return your answer modulo 10^9 +7. \n",
    "\n",
    "**Example:**\n",
    "Input: 3\n",
    "Output: 5\n",
    "Explanation: \n",
    "The five different ways are listed below, different letters indicates different tiles:\n",
    "\n",
    "XYZ  XXZ  XXY   XYY   XYY\n",
    "\n",
    "XYZ  YYZ  XYY   XZZ   XXY"
   ]
  },
  {
   "cell_type": "code",
   "execution_count": null,
   "metadata": {},
   "outputs": [],
   "source": []
  },
  {
   "cell_type": "markdown",
   "metadata": {},
   "source": [
    "## 818. Race Car\n",
    "\n",
    "You car starts at position 0 and speed +1 on an infinite number line. (Your car can go inoto negative positions). \n",
    "\n",
    "You car dirves automatically accoding to a sequence of instructions A (accelerate) and R (reverse). \n",
    "\n",
    "When you get an instruction \"A\", your car does the following: position += speed, speed *= 2. \n",
    "\n",
    "When you get an instruction \"R\", your car does the following: if your speed is positive then speed = -1, otherwise speed = 1. (Your position stays the same.)\n",
    "\n",
    "For example, after commands \"AAR\", your car goes to positions 0->1->3->3, and your speed goes to 1->2->4->-1. \n",
    "\n",
    "Now for some target position, say the length of the shortest sequence of instructions to get there. \n",
    "\n",
    "**Example 1:**\n",
    "Input: target = 3\n",
    "Output: 2\n",
    "Explanation: \n",
    "The shortest instruction sequence is \"AA\". Your position goes from 0->1->3. \n",
    "\n",
    "**Example 2:**\n",
    "Input: target = 6\n",
    "Output: 5\n",
    "Explanation:\n",
    "The shortest instruction sequence is \"AAARA\". Your position goes from 0->1->3->7->7->6. "
   ]
  },
  {
   "cell_type": "code",
   "execution_count": null,
   "metadata": {},
   "outputs": [],
   "source": []
  },
  {
   "cell_type": "markdown",
   "metadata": {},
   "source": [
    "## 845. Longest Mountain in Array\n",
    "\n",
    "Let's call any (continguous) subarray B (of A) a mountain if the following properties hold:\n",
    "\n",
    "* B.length >= 3\n",
    "* There exists some 0 < i < B.length -1 such that B[0] < B[1] < ... < B[i-1] < B[i] > B[i+1] > ... > B[B.length -1]. \n",
    "\n",
    "Given an array A of intergers, return the length of the longest mountain. \n",
    "Return 0 if there is no mountain. \n",
    "\n",
    "**Example 1:**\n",
    "Input : [2,1,4,7,3,2,5]\n",
    "\n",
    "Output: 5 \n",
    "\n",
    "Explanation: The largest mountain is [1,4,7,3,2] which has length 5. \n",
    "\n",
    "**Example 2:**\n",
    "Input: [2,2,2]\n",
    "\n",
    "Output: 0\n",
    "\n",
    "Explanation: There is no mountain. "
   ]
  },
  {
   "cell_type": "code",
   "execution_count": 88,
   "metadata": {},
   "outputs": [],
   "source": [
    "def largestMountain(A: str) -> int:\n",
    "    \n",
    "    n = len(A)\n",
    "    \n",
    "    if n <= 1:\n",
    "        return 0 \n",
    "    \n",
    "    inc = [0]*(n+1)\n",
    "    dec = [0]*(n+1)\n",
    "    \n",
    "    for i in range(1,n):\n",
    "        if A[i] > A[i-1]:\n",
    "            inc[i] = inc[i-1] + 1\n",
    "    for i in range(n-2,-1,-1):\n",
    "        if A[i] > A[i+1]:\n",
    "            dec[i] = dec[i+1] + 1 \n",
    "            \n",
    "    print(inc)\n",
    "    print(dec)\n",
    "            \n",
    "    ans = 0\n",
    "    \n",
    "    for i in range(1,n+1):\n",
    "        if (inc[i] and dec[i]):\n",
    "            ans = max(ans, inc[i] + dec[i] + 1)\n",
    "    return(ans)\n",
    "            \n",
    "    \n",
    "    "
   ]
  },
  {
   "cell_type": "code",
   "execution_count": 89,
   "metadata": {},
   "outputs": [
    {
     "name": "stdout",
     "output_type": "stream",
     "text": [
      "[0, 0, 1, 2, 0, 0, 1, 0]\n",
      "[1, 0, 0, 2, 1, 0, 0, 0]\n"
     ]
    },
    {
     "data": {
      "text/plain": [
       "5"
      ]
     },
     "execution_count": 89,
     "metadata": {},
     "output_type": "execute_result"
    }
   ],
   "source": [
    "A = [2,1,4,7,3,2,5]\n",
    "\n",
    "largestMountain(A)"
   ]
  },
  {
   "cell_type": "code",
   "execution_count": 90,
   "metadata": {},
   "outputs": [
    {
     "name": "stdout",
     "output_type": "stream",
     "text": [
      "[0, 0, 0, 0]\n",
      "[0, 0, 0, 0]\n"
     ]
    },
    {
     "data": {
      "text/plain": [
       "0"
      ]
     },
     "execution_count": 90,
     "metadata": {},
     "output_type": "execute_result"
    }
   ],
   "source": [
    "A = [2,2,2]\n",
    "\n",
    "largestMountain(A)"
   ]
  },
  {
   "cell_type": "code",
   "execution_count": null,
   "metadata": {},
   "outputs": [],
   "source": []
  }
 ],
 "metadata": {
  "kernelspec": {
   "display_name": "Python 3",
   "language": "python",
   "name": "python3"
  },
  "language_info": {
   "codemirror_mode": {
    "name": "ipython",
    "version": 3
   },
   "file_extension": ".py",
   "mimetype": "text/x-python",
   "name": "python",
   "nbconvert_exporter": "python",
   "pygments_lexer": "ipython3",
   "version": "3.7.4"
  }
 },
 "nbformat": 4,
 "nbformat_minor": 2
}
