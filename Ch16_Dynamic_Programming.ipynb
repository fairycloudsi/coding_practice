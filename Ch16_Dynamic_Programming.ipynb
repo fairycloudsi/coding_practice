{
 "cells": [
  {
   "cell_type": "markdown",
   "metadata": {},
   "source": [
    "DP is a general technique for solving optimization, search, and counting problems that can be decomposed into subproblems. You should consider using DP whenever you have to make choices to arrive at the solution, specifically, when the solution relates to subproblems. "
   ]
  },
  {
   "cell_type": "markdown",
   "metadata": {},
   "source": [
    "## Fibonacci number F(n)\n",
    "\n",
    "The nth Fibonacci number F(n) is given by the equation F(n) = F(n-1) + F(n-2), with F(0) = 0 and F(1) = 1. A function to compute F(n) taht recursively invokes itself has a time complexity that is exponential in n. This is because the recursive function computes some F(i)s repeatedly.\n",
    "\n",
    "Caching intermediate results makes the time complexity for computing the nth Fibonacci number linear in n, albeit at the expense of O(n) storage. "
   ]
  },
  {
   "cell_type": "code",
   "execution_count": 1,
   "metadata": {},
   "outputs": [],
   "source": [
    "cache = {}\n",
    "\n",
    "def fibonacci(n:int) -> int:\n",
    "    if n <= 1:\n",
    "        return n\n",
    "    elif n not in cache:\n",
    "        cache[n] = fibonacci(n-1) + fibonacci(n-2)\n",
    "    return cache[n]"
   ]
  },
  {
   "cell_type": "code",
   "execution_count": 2,
   "metadata": {},
   "outputs": [
    {
     "data": {
      "text/plain": [
       "5"
      ]
     },
     "execution_count": 2,
     "metadata": {},
     "output_type": "execute_result"
    }
   ],
   "source": [
    "fibonacci(5)"
   ]
  },
  {
   "cell_type": "code",
   "execution_count": 3,
   "metadata": {},
   "outputs": [
    {
     "data": {
      "text/plain": [
       "{2: 1, 3: 2, 4: 3, 5: 5}"
      ]
     },
     "execution_count": 3,
     "metadata": {},
     "output_type": "execute_result"
    }
   ],
   "source": [
    "cache"
   ]
  },
  {
   "cell_type": "code",
   "execution_count": 4,
   "metadata": {},
   "outputs": [
    {
     "data": {
      "text/plain": [
       "89"
      ]
     },
     "execution_count": 4,
     "metadata": {},
     "output_type": "execute_result"
    }
   ],
   "source": [
    "fibonacci(11)"
   ]
  },
  {
   "cell_type": "code",
   "execution_count": 5,
   "metadata": {},
   "outputs": [
    {
     "data": {
      "text/plain": [
       "{2: 1, 3: 2, 4: 3, 5: 5, 6: 8, 7: 13, 8: 21, 9: 34, 10: 55, 11: 89}"
      ]
     },
     "execution_count": 5,
     "metadata": {},
     "output_type": "execute_result"
    }
   ],
   "source": [
    "cache"
   ]
  },
  {
   "cell_type": "markdown",
   "metadata": {},
   "source": [
    "Minimizing cache space is a recurring theme in DP. Now we show a program that computes F(n) in O(n) time and O(1) space. Conceptually, in contrast to the above program, this program iteratively fills in the cache in a bottom-up fashion, which allows it to reuse cache storage to reduce the space complexity of the cache. "
   ]
  },
  {
   "cell_type": "code",
   "execution_count": 9,
   "metadata": {},
   "outputs": [],
   "source": [
    "def fibonacci_2(n: int) -> int:\n",
    "    if n <= 1:\n",
    "        return n\n",
    "    \n",
    "    f_minus_2, f_minus_1 = 0, 1\n",
    "    for _ in range(1,n):\n",
    "        f = f_minus_2 + f_minus_1\n",
    "        f_minus_2, f_minus_1 = f_minus_1, f\n",
    "    return f_minus_1"
   ]
  },
  {
   "cell_type": "code",
   "execution_count": 10,
   "metadata": {},
   "outputs": [
    {
     "data": {
      "text/plain": [
       "5"
      ]
     },
     "execution_count": 10,
     "metadata": {},
     "output_type": "execute_result"
    }
   ],
   "source": [
    "fibonacci_2(5)"
   ]
  },
  {
   "cell_type": "markdown",
   "metadata": {},
   "source": [
    "The key to solving a DP problem efficiently is finding a way to break the problem into subproblems such that \n",
    "* the original problem can be solved relatively easily once solutions to the subproblems are available, and \n",
    "* these subproblem solutions are cached. \n",
    "\n",
    "Usually, but not always, the subproblems are easy to identify. "
   ]
  },
  {
   "cell_type": "code",
   "execution_count": 31,
   "metadata": {},
   "outputs": [],
   "source": [
    "def fibonacci_solve(n):\n",
    "    s = {}\n",
    "    s[0] = 0\n",
    "    s[1] = 1\n",
    "    \n",
    "    for i in range(2,n+2):\n",
    "        print(s)\n",
    "        s[i] = s[i-1] + s[i-2]\n",
    "        if s[i] == n:\n",
    "            print('IsFibo')\n",
    "            break\n",
    "        elif s[i] > n:\n",
    "            print('IsNotFibo')\n",
    "            break\n"
   ]
  },
  {
   "cell_type": "code",
   "execution_count": 32,
   "metadata": {},
   "outputs": [
    {
     "name": "stdout",
     "output_type": "stream",
     "text": [
      "{0: 0, 1: 1}\n",
      "{0: 0, 1: 1, 2: 1}\n",
      "{0: 0, 1: 1, 2: 1, 3: 2}\n",
      "{0: 0, 1: 1, 2: 1, 3: 2, 4: 3}\n",
      "{0: 0, 1: 1, 2: 1, 3: 2, 4: 3, 5: 5}\n",
      "{0: 0, 1: 1, 2: 1, 3: 2, 4: 3, 5: 5, 6: 8}\n",
      "{0: 0, 1: 1, 2: 1, 3: 2, 4: 3, 5: 5, 6: 8, 7: 13}\n",
      "{0: 0, 1: 1, 2: 1, 3: 2, 4: 3, 5: 5, 6: 8, 7: 13, 8: 21}\n",
      "{0: 0, 1: 1, 2: 1, 3: 2, 4: 3, 5: 5, 6: 8, 7: 13, 8: 21, 9: 34}\n",
      "{0: 0, 1: 1, 2: 1, 3: 2, 4: 3, 5: 5, 6: 8, 7: 13, 8: 21, 9: 34, 10: 55}\n",
      "IsFibo\n"
     ]
    }
   ],
   "source": [
    "fibonacci_solve(89)"
   ]
  },
  {
   "cell_type": "markdown",
   "metadata": {},
   "source": [
    "## Fibonacci Numbers \n",
    "\n",
    "The fastest way to accurately compute Fibonacci numbers is by using a matrix-exponentiation method. \n",
    "\n",
    "\n",
    "\\begin{bmatrix}\n",
    "F_{k+2}\\\\\n",
    "F_{k+1}\n",
    "\\end{bmatrix}\n",
    "= \n",
    "\\begin{bmatrix}\n",
    "1 & 1 \\\\\n",
    "1& 0 \n",
    "\\end{bmatrix}\n",
    "\n",
    "\\begin{bmatrix}\n",
    "F_{k+1} \\\\\n",
    "F_k\n",
    "\\end{bmatrix}\n",
    "\n",
    "We need to calculate M^N to calculate the N^th fibonacci number. We can calculate it in O(log(N)) using fast exponentiation. \n"
   ]
  },
  {
   "cell_type": "code",
   "execution_count": 34,
   "metadata": {},
   "outputs": [],
   "source": [
    "# simple recursive solution \n",
    "\n",
    "def fibonacci_simple(n):\n",
    "    if n <= 1:\n",
    "        return n \n",
    "    else:\n",
    "        return (fibonacci_simple(n-1) + fibonacci_simple(n-2))"
   ]
  },
  {
   "cell_type": "code",
   "execution_count": 37,
   "metadata": {},
   "outputs": [
    {
     "data": {
      "text/plain": [
       "21"
      ]
     },
     "execution_count": 37,
     "metadata": {},
     "output_type": "execute_result"
    }
   ],
   "source": [
    "fibonacci_simple(8)"
   ]
  },
  {
   "cell_type": "markdown",
   "metadata": {},
   "source": [
    "Time complexity is T(n) = T(n-1) + T(n-2); T(n) = O(2^n). "
   ]
  },
  {
   "cell_type": "code",
   "execution_count": 40,
   "metadata": {},
   "outputs": [],
   "source": [
    "# optimization using dynamic programming \n",
    "# Initialize all elements in dp to -1 \n",
    "# up to bottom with memoization\n",
    "def fibonacci_dp(n):\n",
    "    dp = [-1]*(n+1)\n",
    "    if(dp[n] != -1):\n",
    "        return dp[n]\n",
    "    elif n <= 1:\n",
    "        dp[n] = n\n",
    "    else:\n",
    "        dp[n] = fibonacci_dp(n-1) + fibonacci_dp(n-2)\n",
    "    return dp[n]"
   ]
  },
  {
   "cell_type": "code",
   "execution_count": 41,
   "metadata": {},
   "outputs": [
    {
     "data": {
      "text/plain": [
       "21"
      ]
     },
     "execution_count": 41,
     "metadata": {},
     "output_type": "execute_result"
    }
   ],
   "source": [
    "fibonacci_dp(8)"
   ]
  },
  {
   "cell_type": "code",
   "execution_count": 42,
   "metadata": {},
   "outputs": [],
   "source": [
    "# bottom to up dp \n",
    "def fibonacci_dp_2(n):\n",
    "    dp = [-1]*(n+1)\n",
    "    for i in range(n+1):\n",
    "        if i <= 1:\n",
    "            dp[i] = i \n",
    "        else:\n",
    "            dp[i] = dp[i-1] + dp[i-2]\n",
    "    return dp[n]"
   ]
  },
  {
   "cell_type": "code",
   "execution_count": 43,
   "metadata": {},
   "outputs": [
    {
     "data": {
      "text/plain": [
       "21"
      ]
     },
     "execution_count": 43,
     "metadata": {},
     "output_type": "execute_result"
    }
   ],
   "source": [
    "fibonacci_dp(8)"
   ]
  },
  {
   "cell_type": "markdown",
   "metadata": {},
   "source": [
    "Time Complexity: O(n). Each element is computed once. \n",
    "Space Complexity: O(n). An array of length n. "
   ]
  },
  {
   "cell_type": "code",
   "execution_count": 45,
   "metadata": {},
   "outputs": [
    {
     "data": {
      "text/plain": [
       "2"
      ]
     },
     "execution_count": 45,
     "metadata": {},
     "output_type": "execute_result"
    }
   ],
   "source": [
    "5//2"
   ]
  },
  {
   "cell_type": "code",
   "execution_count": 49,
   "metadata": {},
   "outputs": [
    {
     "name": "stdout",
     "output_type": "stream",
     "text": [
      "[[0, 0], [0, 0]]\n"
     ]
    }
   ],
   "source": [
    "C = [[0]*2]*2 \n",
    "print(C)"
   ]
  },
  {
   "cell_type": "code",
   "execution_count": 50,
   "metadata": {},
   "outputs": [],
   "source": [
    "def matrix_mul_2d(A,B):\n",
    "    C = [[0]*2]*2\n",
    "    for i in range(2):\n",
    "        for j in range(2):\n",
    "            C[i][j] = A[i][0]*B[0][j] + A[i][1]*B[1][j]\n",
    "    return C"
   ]
  },
  {
   "cell_type": "code",
   "execution_count": 56,
   "metadata": {},
   "outputs": [],
   "source": [
    "# using matrix exponentiation \n",
    "\n",
    "# calculating A^p in O(log(p))\n",
    "import numpy as np\n",
    "\n",
    "def matrix_pow(A, p: int):\n",
    "    if p == 1:\n",
    "        return A\n",
    "    elif p %2 == 1:\n",
    "#         return matrix_mul_2d(A,matrix_pow(A,p-1))\n",
    "        return np.matmul(A, matrix_pow(A,p-1))\n",
    "    else:\n",
    "        B = matrix_pow(A,p/2)\n",
    "#     return matrix_mul_2d(B,B)\n",
    "    return np.matmul(B,B)\n",
    "        "
   ]
  },
  {
   "cell_type": "code",
   "execution_count": 57,
   "metadata": {},
   "outputs": [],
   "source": [
    "def fibonacci_mp(n):\n",
    "    if n<= 1:\n",
    "        return n\n",
    "    else:\n",
    "        M = np.array([[1,1],[1,0]])\n",
    "        Mp = matrix_pow(M,n-1)\n",
    "        print(Mp)\n",
    "        return Mp[0][0]"
   ]
  },
  {
   "cell_type": "code",
   "execution_count": 58,
   "metadata": {},
   "outputs": [
    {
     "name": "stdout",
     "output_type": "stream",
     "text": [
      "[[21 13]\n",
      " [13  8]]\n"
     ]
    },
    {
     "data": {
      "text/plain": [
       "21"
      ]
     },
     "execution_count": 58,
     "metadata": {},
     "output_type": "execute_result"
    }
   ],
   "source": [
    "fibonacci_mp(8)"
   ]
  },
  {
   "cell_type": "raw",
   "metadata": {},
   "source": [
    "## Maximum sun over all subarrays \n",
    "\n",
    "Find the maximum sum over all subarrays of a given array of integers. \n",
    "\n",
    "Try to solve this problem by using DP. Suppose we know the maximum subarray ending at i(inclusive), for all i<j--call these maximum subarray sums B[i]. Then there are only two possibilities for the maximum subarray that ends at j(inclusive):\n",
    "\n",
    "* It is just the element A[j], or\n",
    "* it includes earlier entries, in which case it is B[j-1] + A[j].\n",
    "\n",
    "Therefore B[i] = max(A[i], B[i-1] + A[i]). Since the maximum subarray ends at some index, the answer is the maximum entry in B (or 0 if entries are negative). "
   ]
  },
  {
   "cell_type": "code",
   "execution_count": 11,
   "metadata": {},
   "outputs": [],
   "source": [
    "def find_maximum_subarray(A:list) -> int:\n",
    "    max_seen = max_end = 0\n",
    "    for a in A:\n",
    "        max_end = max(a, a + max_end)\n",
    "        max_seen = max(max_seen, max_end)\n",
    "    return max_seen"
   ]
  },
  {
   "cell_type": "code",
   "execution_count": 12,
   "metadata": {},
   "outputs": [
    {
     "data": {
      "text/plain": [
       "5"
      ]
     },
     "execution_count": 12,
     "metadata": {},
     "output_type": "execute_result"
    }
   ],
   "source": [
    "A = [-2, 3,1,-7,3,2,-1]\n",
    "find_maximum_subarray(A)"
   ]
  },
  {
   "cell_type": "markdown",
   "metadata": {},
   "source": [
    "The time spent per index is constant, leading to an O(n) time. In our implementation, we recycle space, which leads to an O(1) space complexity. "
   ]
  },
  {
   "cell_type": "markdown",
   "metadata": {},
   "source": [
    "## 16.1 Count the number of score combinations\n",
    "\n",
    "In an American football game, a play can lead to 2 points (safety), 3 points (field goal), or 7 points (touchdown, assuming the extra point). Many different combinations of 2,3, and 7 point plays can make up a final score. \n",
    "\n",
    "Write a program that takes a final score and scores for individual plays, and returns the number of combinations of plays that result in the final score. "
   ]
  },
  {
   "cell_type": "code",
   "execution_count": 24,
   "metadata": {},
   "outputs": [],
   "source": [
    "def num_combinations_for_final_score(final_score: int,\n",
    "                                    individual_play_scores: list) -> int:\n",
    "    # One way to reach 0 \n",
    "    num_combinations_for_score = [[1] + [0]*final_score\n",
    "                                 for _ in individual_play_scores]\n",
    "    \n",
    "    for j in range(1,final_score+1):\n",
    "        for i in range(len(individual_play_scores)):\n",
    "            without_this_play = (num_combinations_for_score[i-1][j]\n",
    "                                if i>= 1 else 0)\n",
    "            with_this_play = (num_combinations_for_score[i][j -individual_play_scores[i]]\n",
    "                             if j >= individual_play_scores[i] else 0)\n",
    "            num_combinations_for_score[i][j] = (\n",
    "                without_this_play + with_this_play)\n",
    "            \n",
    "    return num_combinations_for_score"
   ]
  },
  {
   "cell_type": "code",
   "execution_count": 25,
   "metadata": {},
   "outputs": [
    {
     "data": {
      "text/plain": [
       "[[1, 0, 1, 0, 1, 0, 1, 0, 1, 0, 1, 0, 1],\n",
       " [1, 0, 1, 1, 1, 1, 2, 1, 2, 2, 2, 2, 3],\n",
       " [1, 0, 1, 1, 1, 1, 2, 2, 2, 3, 3, 3, 4]]"
      ]
     },
     "execution_count": 25,
     "metadata": {},
     "output_type": "execute_result"
    }
   ],
   "source": [
    "num_combinations_for_final_score(12, [2,3,7])"
   ]
  },
  {
   "cell_type": "code",
   "execution_count": 17,
   "metadata": {},
   "outputs": [],
   "source": [
    "final_score = 12\n",
    "individual_play_scores = [2,3,7]"
   ]
  },
  {
   "cell_type": "code",
   "execution_count": 18,
   "metadata": {},
   "outputs": [],
   "source": [
    "num_combinations_for_score = [[1] +[0]*final_score]"
   ]
  },
  {
   "cell_type": "code",
   "execution_count": 19,
   "metadata": {},
   "outputs": [
    {
     "data": {
      "text/plain": [
       "[[1, 0, 0, 0, 0, 0, 0, 0, 0, 0, 0, 0, 0]]"
      ]
     },
     "execution_count": 19,
     "metadata": {},
     "output_type": "execute_result"
    }
   ],
   "source": [
    "num_combinations_for_score"
   ]
  },
  {
   "cell_type": "code",
   "execution_count": 20,
   "metadata": {},
   "outputs": [],
   "source": [
    "num_combinations_for_score = [[1] +[0]*final_score for _ in individual_play_scores]"
   ]
  },
  {
   "cell_type": "code",
   "execution_count": 21,
   "metadata": {},
   "outputs": [
    {
     "data": {
      "text/plain": [
       "[[1, 0, 0, 0, 0, 0, 0, 0, 0, 0, 0, 0, 0],\n",
       " [1, 0, 0, 0, 0, 0, 0, 0, 0, 0, 0, 0, 0],\n",
       " [1, 0, 0, 0, 0, 0, 0, 0, 0, 0, 0, 0, 0]]"
      ]
     },
     "execution_count": 21,
     "metadata": {},
     "output_type": "execute_result"
    }
   ],
   "source": [
    "num_combinations_for_score"
   ]
  },
  {
   "cell_type": "markdown",
   "metadata": {},
   "source": [
    "The time complexity is O(sn) (two loops, one to s, the other to n) and the space complexity is O(sn) (the size of the 2D array). "
   ]
  },
  {
   "cell_type": "markdown",
   "metadata": {},
   "source": [
    "## 16.2 Compute the Levenshtein Distance \n",
    "\n",
    "Spell checkers make suggestions for misspelled words. Given a misspelled string, a spell checker should return words in the dictionary which are close to the misspelled string. \n",
    "\n",
    "In 1965, Vladimir Levelshtein defined the distance between two words as the minimum number of \"edits\" it would take to transform the misspelled word into a correct word, where a single edit is the insertion, deletion, or substitution of a single character. For example, the Levelshtein distance between \"Saturday\" to \"Sundays\" is 4--delete the first 'a' and 't', substitute 'r' by 'n' and insert the trailing 's'. \n",
    "\n",
    "Write a program that takes two strings and computes the minimum number of edits needed to transform the first string into the second string. \n",
    "\n",
    "**Sol:** \n",
    "We now make some observations:\n",
    "* If the last character of A equals the last character of B, then E(A[0, a-1], B[0, b-1]) = E(A[0, a-2], B[0,b-2]).\n",
    "* If the last character of A is not equal to the last character of B then\n",
    "E(A[0,a-1], B[0,b-1]) = 1 + min(E(A[0,a-2], B[0,b-2]), E(A[0,a-1], B[0,b-2]), E(A[0,a-2], B[0,b-1])). "
   ]
  },
  {
   "cell_type": "code",
   "execution_count": 36,
   "metadata": {},
   "outputs": [],
   "source": [
    "def levenshtein_distance(A: str, B:str) -> int:\n",
    "    def compute_distance_between_prefixes(A_idx, B_idx):\n",
    "        if A_idx < 0:\n",
    "            # A is empty so add all of B's characters \n",
    "            return B_idx + 1\n",
    "        if B_idx < 0:\n",
    "            # B is empty so add all of A's characters \n",
    "            return A_idx + 1\n",
    "        \n",
    "        if distance_between__prefixes[A_idx][B_idx] == -1:\n",
    "            if A[A_idx] == B[B_idx]:\n",
    "                distance_between__prefixes[A_idx][B_idx] = (\n",
    "                    compute_distance_between_prefixes(A_idx -1, B_idx - 1))\n",
    "            else:\n",
    "                sub_last = compute_distance_between_prefixes(\n",
    "                A_idx -1 , B_idx -1 )\n",
    "                add_last = compute_distance_between_prefixes(\n",
    "                A_idx -1 , B_idx)\n",
    "                del_last = compute_distance_between_prefixes(\n",
    "                A_idx, B_idx -1)\n",
    "                distance_between__prefixes[A_idx][B_idx] = (\n",
    "                1 + min(sub_last, add_last, del_last))\n",
    "                \n",
    "        return distance_between__prefixes[A_idx][B_idx]\n",
    "    \n",
    "    distance_between__prefixes = [[-1] * len(B) for _ in A]\n",
    "    compute_distance_between_prefixes(len(A)-1, len(B)-1)\n",
    "    return distance_between__prefixes"
   ]
  },
  {
   "cell_type": "code",
   "execution_count": 37,
   "metadata": {},
   "outputs": [
    {
     "data": {
      "text/plain": [
       "[[1, 2, 3], [1, 2, 3], [-1, 1, 2]]"
      ]
     },
     "execution_count": 37,
     "metadata": {},
     "output_type": "execute_result"
    }
   ],
   "source": [
    "A = 'abd'\n",
    "B = 'bdc'\n",
    "\n",
    "levenshtein_distance(A,B)"
   ]
  },
  {
   "cell_type": "code",
   "execution_count": 38,
   "metadata": {},
   "outputs": [
    {
     "data": {
      "text/plain": [
       "[[1, 2, 3, 4, 5, 6, 7, 8, -1],\n",
       " [2, 2, 3, 4, 5, 6, 7, 8, 8],\n",
       " [3, 2, 3, 4, 5, 6, 7, 7, 8],\n",
       " [4, 3, 3, 4, 5, 6, 6, 7, 8],\n",
       " [5, 4, 4, 3, 4, 5, 6, 7, 8],\n",
       " [6, 5, 5, 4, 4, 5, 6, 7, 8],\n",
       " [7, 6, 6, 5, 5, 5, 6, 6, 7],\n",
       " [8, 7, 7, 6, 6, 5, 6, 7, 7],\n",
       " [-1, -1, -1, -1, 6, 6, 6, 7, 8]]"
      ]
     },
     "execution_count": 38,
     "metadata": {},
     "output_type": "execute_result"
    }
   ],
   "source": [
    "A = 'Carthorse'\n",
    "B = 'Orchestra'\n",
    "\n",
    "levenshtein_distance(A,B)"
   ]
  },
  {
   "cell_type": "markdown",
   "metadata": {},
   "source": [
    "The value E(A[0,a-1], B[0,b-1]) takes time O(1) to compute once E(A[0,k], B[0,l]) is known for all k < a and l < b. This implies O(ab) time complexity for the algorithm. Our implementation uses O(ab) space. "
   ]
  },
  {
   "cell_type": "markdown",
   "metadata": {},
   "source": [
    "Recursion. Use 2-d array as cache. "
   ]
  },
  {
   "cell_type": "markdown",
   "metadata": {},
   "source": [
    "## 16.3 Count the number of ways to traverse a 2D array \n",
    "\n",
    "In this problem you are to count the number of ways of starting at the top-left corner of a 2D array and getting to the bottom-right corner. All moves must either go right or down. \n",
    "\n",
    "Write a program that counts how many ways you can go from the top-left to the bottom-right in a 2D array. \n",
    "\n",
    "**Hint:** If i>0 and j>0, you can get to (i,j) from (i-1,j) or(i,j-1). "
   ]
  },
  {
   "cell_type": "code",
   "execution_count": 45,
   "metadata": {},
   "outputs": [],
   "source": [
    "def number_of_ways(n: int, m:int) -> int:\n",
    "    def compute_numer_of_ways_to_xy(x, y):\n",
    "        if x == y == 0:\n",
    "            number_of_ways[x][y] = 1\n",
    "        \n",
    "        if number_of_ways[x][y] == 0:\n",
    "            ways_top = 0 if x == 0 else compute_numer_of_ways_to_xy(x-1, y)\n",
    "            ways_left = 0 if y == 0 else compute_numer_of_ways_to_xy(x, y-1)\n",
    "            number_of_ways[x][y] = ways_top + ways_left\n",
    "            \n",
    "        return number_of_ways[x][y]\n",
    "    \n",
    "    number_of_ways = [[0]*m for _ in range(n)]\n",
    "    compute_numer_of_ways_to_xy(n-1, m-1)\n",
    "    return number_of_ways"
   ]
  },
  {
   "cell_type": "code",
   "execution_count": 46,
   "metadata": {},
   "outputs": [
    {
     "data": {
      "text/plain": [
       "[[1, 1, 1, 1, 1],\n",
       " [1, 2, 3, 4, 5],\n",
       " [1, 3, 6, 10, 15],\n",
       " [1, 4, 10, 20, 35],\n",
       " [1, 5, 15, 35, 70]]"
      ]
     },
     "execution_count": 46,
     "metadata": {},
     "output_type": "execute_result"
    }
   ],
   "source": [
    "number_of_ways(5,5)"
   ]
  },
  {
   "cell_type": "code",
   "execution_count": 47,
   "metadata": {},
   "outputs": [
    {
     "data": {
      "text/plain": [
       "[[1, 1, 1, 1, 1, 1],\n",
       " [1, 2, 3, 4, 5, 6],\n",
       " [1, 3, 6, 10, 15, 21],\n",
       " [1, 4, 10, 20, 35, 56],\n",
       " [1, 5, 15, 35, 70, 126],\n",
       " [1, 6, 21, 56, 126, 252]]"
      ]
     },
     "execution_count": 47,
     "metadata": {},
     "output_type": "execute_result"
    }
   ],
   "source": [
    "number_of_ways(6,6)"
   ]
  },
  {
   "cell_type": "markdown",
   "metadata": {},
   "source": [
    "The time complexity is O(nm) and the space complexity is O(nm), where n is the number of rows and m is the number of cols. "
   ]
  },
  {
   "cell_type": "markdown",
   "metadata": {},
   "source": [
    "## 16.4 Compute the binomial coefficients \n",
    "\n",
    "Design an efficient algorithm for computing $C^n_k$ which has the property that it never overflows if the final result fits in the integer word size. \n",
    "\n",
    "**Hint:** Apply DP via the equation \n",
    "$$\n",
    "C^n_k = C^{n-1}_k + C^{n-1}_{k-1}. \n",
    "$$"
   ]
  },
  {
   "cell_type": "code",
   "execution_count": 5,
   "metadata": {},
   "outputs": [],
   "source": [
    "def compute_binomial_coefficient(n: int, k: int) -> int:\n",
    "    def compute_x_choose_y(x,y):\n",
    "        if y in (0,x):\n",
    "            return 1 \n",
    "        if x_choose_y[x][y] == 0:\n",
    "            without_y = compute_x_choose_y(x-1, y)\n",
    "            with_y = compute_x_choose_y(x-1, y-1)\n",
    "            x_choose_y[x][y] = without_y + with_y\n",
    "        return x_choose_y[x][y]\n",
    "    \n",
    "    x_choose_y = [[0]*(k+1) for _ in range(n+1)]\n",
    "    compute_x_choose_y(n,k)\n",
    "    return x_choose_y"
   ]
  },
  {
   "cell_type": "code",
   "execution_count": 6,
   "metadata": {},
   "outputs": [
    {
     "data": {
      "text/plain": [
       "[[0, 0, 0, 0],\n",
       " [0, 0, 0, 0],\n",
       " [0, 2, 0, 0],\n",
       " [0, 3, 3, 0],\n",
       " [0, 0, 6, 4],\n",
       " [0, 0, 0, 10]]"
      ]
     },
     "execution_count": 6,
     "metadata": {},
     "output_type": "execute_result"
    }
   ],
   "source": [
    "compute_binomial_coefficient(5,3)"
   ]
  },
  {
   "cell_type": "markdown",
   "metadata": {},
   "source": [
    "The number of subproblems is O(nk) and once $C^{n-1}_k$ and $C^{n-1}_{k-1}$ are known, $C^n_k$ can be computed in O(1) time, yielding an O(nk) complexity. The space complexity is also O(nk); it can be easily be reduced to O(k). "
   ]
  },
  {
   "cell_type": "markdown",
   "metadata": {},
   "source": [
    "## 16.5 Search for a sequence in a 2D array\n",
    "\n",
    "Suppose you are given a 2D array of integers (the \"grid\"), and a 1D array of integers (the \"pattern\"). We say the pattern occurs in the grid if it is possible to start from some entry in the grid and traverse adjacent entries in the order specified by the pattern till all entries in the pattern have been visited. The entries adjacent to the entry are the ones directly above, below, to the left, and to the right, assuming they exist. \n",
    "\n",
    "Write a program that takes as arguments as 2D array and a 1D array, and checks whether the 1D array occurs in the 2D array. "
   ]
  },
  {
   "cell_type": "markdown",
   "metadata": {},
   "source": [
    "In the program below, we cache previously unsuccessful attempts to match strings at specific locations to avoid repeating calls to the recursion wit identical arguments. "
   ]
  },
  {
   "cell_type": "code",
   "execution_count": 9,
   "metadata": {},
   "outputs": [],
   "source": [
    "def is_pattern_contained_in_grid(grid: list, pattern: list) -> list:\n",
    "    \n",
    "    def is_pattern_suffix_contained_starting_at_xy(x, y, offset):\n",
    "        if len(pattern) == offset:\n",
    "            # Nothing left to complete\n",
    "            return True\n",
    "        \n",
    "        # Early return if (x,y) lies outside the grid or the character \n",
    "        # does not match or we have already tried this combination\n",
    "        if (not (0 <= x < len(grid) and 0 <= y < len(grid[x]))\n",
    "            or grid[x][y] != pattern[offset]\n",
    "            or (x, y, offset) in previous_attempts):\n",
    "            return False\n",
    "        \n",
    "        if any(\n",
    "                is_pattern_suffix_contained_starting_at_xy(\n",
    "                    x+a, y+b, offset +1)\n",
    "                for a,b in ((-1,0), (1,0), (0, -1), (0,1))):\n",
    "            return True\n",
    "        previous_attempts.add((x,y,offset))\n",
    "        print(previous_attempts)\n",
    "        return False\n",
    "    \n",
    "    # Each entry in previous_attempts is a point in the grid and suffix of patter\n",
    "    #(identified by its offset). Presence in previous_attempts indicates the suffix is \n",
    "    # not contained in the grid starting from that point. \n",
    "    previous_attempts = set()\n",
    "    return any(\n",
    "        is_pattern_suffix_contained_starting_at_xy(i,j,0)\n",
    "        for i in range(len(grid)) for j in range(len(grid[i])))"
   ]
  },
  {
   "cell_type": "code",
   "execution_count": 10,
   "metadata": {},
   "outputs": [],
   "source": [
    "grid = [[1,2,3],[3,4,5],[5,6,7]]\n",
    "pattern = [1,3,4,6]"
   ]
  },
  {
   "cell_type": "code",
   "execution_count": 11,
   "metadata": {},
   "outputs": [
    {
     "data": {
      "text/plain": [
       "True"
      ]
     },
     "execution_count": 11,
     "metadata": {},
     "output_type": "execute_result"
    }
   ],
   "source": [
    "is_pattern_contained_in_grid(grid, pattern)"
   ]
  },
  {
   "cell_type": "code",
   "execution_count": 12,
   "metadata": {},
   "outputs": [
    {
     "name": "stdout",
     "output_type": "stream",
     "text": [
      "{(0, 2, 2)}\n",
      "{(0, 1, 1), (0, 2, 2)}\n",
      "{(0, 1, 1), (0, 0, 0), (0, 2, 2)}\n"
     ]
    },
    {
     "data": {
      "text/plain": [
       "False"
      ]
     },
     "execution_count": 12,
     "metadata": {},
     "output_type": "execute_result"
    }
   ],
   "source": [
    "pattern = [1,2,3,4]\n",
    "is_pattern_contained_in_grid(grid, pattern)"
   ]
  },
  {
   "cell_type": "markdown",
   "metadata": {},
   "source": [
    "The time complexity is O(nml), where n and m are the dimensions of A, and l is the length of S-- we do a constant amount of work within each call to the recursive function, not including the time spent in recursive subcalls, and the number of calls is not more than l times the number of entries in the 2D array. The cache itself has not more than nml keys, so the space complexity is O(nml). "
   ]
  },
  {
   "cell_type": "markdown",
   "metadata": {},
   "source": [
    "## 16.6 The knapsack problem \n",
    "\n",
    "A thief breaks into a clock store. Each clock has a weight and a value, which are known to the thief. His knapsack cannot hold more than a specified combined weight. His intention is to take clocks whose total value is maximum subject to the knapsack's weight constraint. \n",
    "\n",
    "**Sol:** Let the clocks be numbered from 0 to n-1, with the weight and th value of the ith clock denoted by w_i and v_i. Denote V[i][w] be the optimum solution when we are restricted to Clocks 0,1,2,...i-1 and can carry w weight. Then V[i][w] satisfies the following recurrence. \n",
    "\n",
    "V[i][w] \n",
    "= max(V[i-1][w], V[i-1][w-w_i] + v_i) if w_i \\leq w; \n",
    "= V[i-1][w], otherwise.\n",
    "\n",
    "We take i=0 or w=0 as bases cases-- for these, V[i][w] = 0. \n"
   ]
  },
  {
   "cell_type": "code",
   "execution_count": 14,
   "metadata": {},
   "outputs": [],
   "source": [
    "import collections"
   ]
  },
  {
   "cell_type": "code",
   "execution_count": 15,
   "metadata": {},
   "outputs": [],
   "source": [
    "Item = collections.namedtuple('Item', ('weight', 'value'))\n",
    "\n",
    "def optimum_subject_to_capacity(items: list, capacity: int) -> int: \n",
    "    # Return the optimum value when we choose from items[: k+1] and have a \n",
    "    # capacity of available_capacity. \n",
    "    \n",
    "    def optimum_subject_to_item_and_capacity(k, available_capacity):\n",
    "        if k<0:\n",
    "            # No items can be chosen \n",
    "            return 0\n",
    "        if V[k][available_capacity] == -1:\n",
    "            without_item = optimum_subject_to_item_and_capacity(k-1, available_capacity)\n",
    "            with_item = (0 if available_capacity < items[k].weight else(\n",
    "                items[k].value + optimum_subject_to_item_and_capacity(k, available_capacity - items[k].weight)))\n",
    "            V[k][available_capacity] = max(without_item, with_item)\n",
    "            \n",
    "        return V[k][available_capacity]\n",
    "    \n",
    "    # V[i][j] holds the optimum value when we choose from items[:i+1] and have \n",
    "    # a capacity of j\n",
    "    V = [[-1]*(capacity + 1) for _ in items]\n",
    "    optimum_subject_to_capacity(len(items)-1, capacity)\n",
    "    return V\n",
    "        \n",
    "        \n",
    "            \n",
    "            "
   ]
  },
  {
   "cell_type": "code",
   "execution_count": 16,
   "metadata": {},
   "outputs": [],
   "source": [
    "itA = Item(65, 20)"
   ]
  },
  {
   "cell_type": "code",
   "execution_count": 17,
   "metadata": {},
   "outputs": [],
   "source": [
    "itB = Item(35, 8)\n",
    "itC = Item(245, 60)\n",
    "itD = Item(195,55)\n",
    "itE = Item(65, 40)\n",
    "itF = Item(150, 70)\n",
    "itG = Item(275, 85)\n",
    "itH = Item(155,25)\n",
    "itI = Item(120,30)\n",
    "itJ = Item(320, 65)\n",
    "itK = Item(75, 75)\n",
    "itL = Item(40, 10)\n",
    "itM = Item(200, 95)\n",
    "itN = Item(100, 50)\n",
    "itO = Item(220, 40)\n",
    "itP = Item(99,10)"
   ]
  },
  {
   "cell_type": "code",
   "execution_count": 18,
   "metadata": {},
   "outputs": [],
   "source": [
    "items = [itA, itB, itC, itD, itE, itF, itG, itH, itI, itJ, itK, itL, itM, itN, itO, itP]"
   ]
  },
  {
   "cell_type": "code",
   "execution_count": 23,
   "metadata": {},
   "outputs": [],
   "source": [
    "capacity = 130"
   ]
  },
  {
   "cell_type": "code",
   "execution_count": 24,
   "metadata": {},
   "outputs": [
    {
     "ename": "TypeError",
     "evalue": "'int' object is not iterable",
     "output_type": "error",
     "traceback": [
      "\u001b[0;31m---------------------------------------------------------------------------\u001b[0m",
      "\u001b[0;31mTypeError\u001b[0m                                 Traceback (most recent call last)",
      "\u001b[0;32m<ipython-input-24-962529fd7579>\u001b[0m in \u001b[0;36m<module>\u001b[0;34m\u001b[0m\n\u001b[0;32m----> 1\u001b[0;31m \u001b[0moptimum_subject_to_capacity\u001b[0m\u001b[0;34m(\u001b[0m\u001b[0mitems\u001b[0m\u001b[0;34m,\u001b[0m \u001b[0mcapacity\u001b[0m\u001b[0;34m)\u001b[0m\u001b[0;34m\u001b[0m\u001b[0;34m\u001b[0m\u001b[0m\n\u001b[0m",
      "\u001b[0;32m<ipython-input-15-625cfb8eefe1>\u001b[0m in \u001b[0;36moptimum_subject_to_capacity\u001b[0;34m(items, capacity)\u001b[0m\n\u001b[1;32m     20\u001b[0m     \u001b[0;31m# a capacity of j\u001b[0m\u001b[0;34m\u001b[0m\u001b[0;34m\u001b[0m\u001b[0;34m\u001b[0m\u001b[0m\n\u001b[1;32m     21\u001b[0m     \u001b[0mV\u001b[0m \u001b[0;34m=\u001b[0m \u001b[0;34m[\u001b[0m\u001b[0;34m[\u001b[0m\u001b[0;34m-\u001b[0m\u001b[0;36m1\u001b[0m\u001b[0;34m]\u001b[0m\u001b[0;34m*\u001b[0m\u001b[0;34m(\u001b[0m\u001b[0mcapacity\u001b[0m \u001b[0;34m+\u001b[0m \u001b[0;36m1\u001b[0m\u001b[0;34m)\u001b[0m \u001b[0;32mfor\u001b[0m \u001b[0m_\u001b[0m \u001b[0;32min\u001b[0m \u001b[0mitems\u001b[0m\u001b[0;34m]\u001b[0m\u001b[0;34m\u001b[0m\u001b[0;34m\u001b[0m\u001b[0m\n\u001b[0;32m---> 22\u001b[0;31m     \u001b[0moptimum_subject_to_capacity\u001b[0m\u001b[0;34m(\u001b[0m\u001b[0mlen\u001b[0m\u001b[0;34m(\u001b[0m\u001b[0mitems\u001b[0m\u001b[0;34m)\u001b[0m\u001b[0;34m-\u001b[0m\u001b[0;36m1\u001b[0m\u001b[0;34m,\u001b[0m \u001b[0mcapacity\u001b[0m\u001b[0;34m)\u001b[0m\u001b[0;34m\u001b[0m\u001b[0;34m\u001b[0m\u001b[0m\n\u001b[0m\u001b[1;32m     23\u001b[0m     \u001b[0;32mreturn\u001b[0m \u001b[0mV\u001b[0m\u001b[0;34m\u001b[0m\u001b[0;34m\u001b[0m\u001b[0m\n\u001b[1;32m     24\u001b[0m \u001b[0;34m\u001b[0m\u001b[0m\n",
      "\u001b[0;32m<ipython-input-15-625cfb8eefe1>\u001b[0m in \u001b[0;36moptimum_subject_to_capacity\u001b[0;34m(items, capacity)\u001b[0m\n\u001b[1;32m     19\u001b[0m     \u001b[0;31m# V[i][j] holds the optimum value when we choose from items[:i+1] and have\u001b[0m\u001b[0;34m\u001b[0m\u001b[0;34m\u001b[0m\u001b[0;34m\u001b[0m\u001b[0m\n\u001b[1;32m     20\u001b[0m     \u001b[0;31m# a capacity of j\u001b[0m\u001b[0;34m\u001b[0m\u001b[0;34m\u001b[0m\u001b[0;34m\u001b[0m\u001b[0m\n\u001b[0;32m---> 21\u001b[0;31m     \u001b[0mV\u001b[0m \u001b[0;34m=\u001b[0m \u001b[0;34m[\u001b[0m\u001b[0;34m[\u001b[0m\u001b[0;34m-\u001b[0m\u001b[0;36m1\u001b[0m\u001b[0;34m]\u001b[0m\u001b[0;34m*\u001b[0m\u001b[0;34m(\u001b[0m\u001b[0mcapacity\u001b[0m \u001b[0;34m+\u001b[0m \u001b[0;36m1\u001b[0m\u001b[0;34m)\u001b[0m \u001b[0;32mfor\u001b[0m \u001b[0m_\u001b[0m \u001b[0;32min\u001b[0m \u001b[0mitems\u001b[0m\u001b[0;34m]\u001b[0m\u001b[0;34m\u001b[0m\u001b[0;34m\u001b[0m\u001b[0m\n\u001b[0m\u001b[1;32m     22\u001b[0m     \u001b[0moptimum_subject_to_capacity\u001b[0m\u001b[0;34m(\u001b[0m\u001b[0mlen\u001b[0m\u001b[0;34m(\u001b[0m\u001b[0mitems\u001b[0m\u001b[0;34m)\u001b[0m\u001b[0;34m-\u001b[0m\u001b[0;36m1\u001b[0m\u001b[0;34m,\u001b[0m \u001b[0mcapacity\u001b[0m\u001b[0;34m)\u001b[0m\u001b[0;34m\u001b[0m\u001b[0;34m\u001b[0m\u001b[0m\n\u001b[1;32m     23\u001b[0m     \u001b[0;32mreturn\u001b[0m \u001b[0mV\u001b[0m\u001b[0;34m\u001b[0m\u001b[0;34m\u001b[0m\u001b[0m\n",
      "\u001b[0;31mTypeError\u001b[0m: 'int' object is not iterable"
     ]
    }
   ],
   "source": [
    "optimum_subject_to_capacity(items, capacity)"
   ]
  },
  {
   "cell_type": "code",
   "execution_count": 30,
   "metadata": {},
   "outputs": [],
   "source": [
    "V = [[-1]*(capacity+1) for _ in items]"
   ]
  },
  {
   "cell_type": "code",
   "execution_count": 31,
   "metadata": {},
   "outputs": [
    {
     "data": {
      "text/plain": [
       "65"
      ]
     },
     "execution_count": 31,
     "metadata": {},
     "output_type": "execute_result"
    }
   ],
   "source": [
    "itA.weight"
   ]
  },
  {
   "cell_type": "code",
   "execution_count": 33,
   "metadata": {},
   "outputs": [],
   "source": [
    "it1 = Item(60,5)\n",
    "it2 = Item(50,3)\n",
    "it3 = Item(70,4)\n",
    "it4 = Item(30,2)\n",
    "items = [it1, it2, it3, it4]\n",
    "\n",
    "capacity = 5"
   ]
  },
  {
   "cell_type": "code",
   "execution_count": 34,
   "metadata": {},
   "outputs": [
    {
     "ename": "TypeError",
     "evalue": "'int' object is not iterable",
     "output_type": "error",
     "traceback": [
      "\u001b[0;31m---------------------------------------------------------------------------\u001b[0m",
      "\u001b[0;31mTypeError\u001b[0m                                 Traceback (most recent call last)",
      "\u001b[0;32m<ipython-input-34-962529fd7579>\u001b[0m in \u001b[0;36m<module>\u001b[0;34m\u001b[0m\n\u001b[0;32m----> 1\u001b[0;31m \u001b[0moptimum_subject_to_capacity\u001b[0m\u001b[0;34m(\u001b[0m\u001b[0mitems\u001b[0m\u001b[0;34m,\u001b[0m \u001b[0mcapacity\u001b[0m\u001b[0;34m)\u001b[0m\u001b[0;34m\u001b[0m\u001b[0;34m\u001b[0m\u001b[0m\n\u001b[0m",
      "\u001b[0;32m<ipython-input-15-625cfb8eefe1>\u001b[0m in \u001b[0;36moptimum_subject_to_capacity\u001b[0;34m(items, capacity)\u001b[0m\n\u001b[1;32m     20\u001b[0m     \u001b[0;31m# a capacity of j\u001b[0m\u001b[0;34m\u001b[0m\u001b[0;34m\u001b[0m\u001b[0;34m\u001b[0m\u001b[0m\n\u001b[1;32m     21\u001b[0m     \u001b[0mV\u001b[0m \u001b[0;34m=\u001b[0m \u001b[0;34m[\u001b[0m\u001b[0;34m[\u001b[0m\u001b[0;34m-\u001b[0m\u001b[0;36m1\u001b[0m\u001b[0;34m]\u001b[0m\u001b[0;34m*\u001b[0m\u001b[0;34m(\u001b[0m\u001b[0mcapacity\u001b[0m \u001b[0;34m+\u001b[0m \u001b[0;36m1\u001b[0m\u001b[0;34m)\u001b[0m \u001b[0;32mfor\u001b[0m \u001b[0m_\u001b[0m \u001b[0;32min\u001b[0m \u001b[0mitems\u001b[0m\u001b[0;34m]\u001b[0m\u001b[0;34m\u001b[0m\u001b[0;34m\u001b[0m\u001b[0m\n\u001b[0;32m---> 22\u001b[0;31m     \u001b[0moptimum_subject_to_capacity\u001b[0m\u001b[0;34m(\u001b[0m\u001b[0mlen\u001b[0m\u001b[0;34m(\u001b[0m\u001b[0mitems\u001b[0m\u001b[0;34m)\u001b[0m\u001b[0;34m-\u001b[0m\u001b[0;36m1\u001b[0m\u001b[0;34m,\u001b[0m \u001b[0mcapacity\u001b[0m\u001b[0;34m)\u001b[0m\u001b[0;34m\u001b[0m\u001b[0;34m\u001b[0m\u001b[0m\n\u001b[0m\u001b[1;32m     23\u001b[0m     \u001b[0;32mreturn\u001b[0m \u001b[0mV\u001b[0m\u001b[0;34m\u001b[0m\u001b[0;34m\u001b[0m\u001b[0m\n\u001b[1;32m     24\u001b[0m \u001b[0;34m\u001b[0m\u001b[0m\n",
      "\u001b[0;32m<ipython-input-15-625cfb8eefe1>\u001b[0m in \u001b[0;36moptimum_subject_to_capacity\u001b[0;34m(items, capacity)\u001b[0m\n\u001b[1;32m     19\u001b[0m     \u001b[0;31m# V[i][j] holds the optimum value when we choose from items[:i+1] and have\u001b[0m\u001b[0;34m\u001b[0m\u001b[0;34m\u001b[0m\u001b[0;34m\u001b[0m\u001b[0m\n\u001b[1;32m     20\u001b[0m     \u001b[0;31m# a capacity of j\u001b[0m\u001b[0;34m\u001b[0m\u001b[0;34m\u001b[0m\u001b[0;34m\u001b[0m\u001b[0m\n\u001b[0;32m---> 21\u001b[0;31m     \u001b[0mV\u001b[0m \u001b[0;34m=\u001b[0m \u001b[0;34m[\u001b[0m\u001b[0;34m[\u001b[0m\u001b[0;34m-\u001b[0m\u001b[0;36m1\u001b[0m\u001b[0;34m]\u001b[0m\u001b[0;34m*\u001b[0m\u001b[0;34m(\u001b[0m\u001b[0mcapacity\u001b[0m \u001b[0;34m+\u001b[0m \u001b[0;36m1\u001b[0m\u001b[0;34m)\u001b[0m \u001b[0;32mfor\u001b[0m \u001b[0m_\u001b[0m \u001b[0;32min\u001b[0m \u001b[0mitems\u001b[0m\u001b[0;34m]\u001b[0m\u001b[0;34m\u001b[0m\u001b[0;34m\u001b[0m\u001b[0m\n\u001b[0m\u001b[1;32m     22\u001b[0m     \u001b[0moptimum_subject_to_capacity\u001b[0m\u001b[0;34m(\u001b[0m\u001b[0mlen\u001b[0m\u001b[0;34m(\u001b[0m\u001b[0mitems\u001b[0m\u001b[0;34m)\u001b[0m\u001b[0;34m-\u001b[0m\u001b[0;36m1\u001b[0m\u001b[0;34m,\u001b[0m \u001b[0mcapacity\u001b[0m\u001b[0;34m)\u001b[0m\u001b[0;34m\u001b[0m\u001b[0;34m\u001b[0m\u001b[0m\n\u001b[1;32m     23\u001b[0m     \u001b[0;32mreturn\u001b[0m \u001b[0mV\u001b[0m\u001b[0;34m\u001b[0m\u001b[0;34m\u001b[0m\u001b[0m\n",
      "\u001b[0;31mTypeError\u001b[0m: 'int' object is not iterable"
     ]
    }
   ],
   "source": [
    "optimum_subject_to_capacity(items, capacity)"
   ]
  },
  {
   "cell_type": "code",
   "execution_count": 35,
   "metadata": {},
   "outputs": [],
   "source": [
    "V = [[-1]*(capacity + 1) for _ in items]"
   ]
  },
  {
   "cell_type": "markdown",
   "metadata": {},
   "source": [
    "The algorithm computes V[n-1][w] in O(nw) time, and uses O(nw) space. "
   ]
  },
  {
   "cell_type": "markdown",
   "metadata": {},
   "source": [
    "## 16.7 Building a search index for domains \n",
    "\n",
    "Giving a dictionary, i.e., a set of strings, and a name, design an efficient algorithm that checks whether the name is the concatenation of a sequence of dictionary words. If such a concatenation exists, return it. A dictionary word may appear more than once in the sequence. For example, \"a\", \"man\", \"a\", \"plan\", \"a\", \"cancal\" is a valid sequence for \"amanaplanacanal\". \n",
    "\n",
    "**Hint:** Solve for generalized problem, i.e., determine for each prefix of the name wheter it is the concatenation of dictionary words. "
   ]
  },
  {
   "cell_type": "markdown",
   "metadata": {},
   "source": [
    "**Sol:** The solution is straightforward -- cache intermediate results. The cache keys are prefixes of the string. The corresponding value is a Boolean denoting whether the prefix can be decomposed into a sequence of valid words. \n",
    "\n",
    "It is easy to determine if a string is a valid word-- we simply store the dictionary in a hash table. A prefix of the given string can be decomposed into a sequence of dictionary words exactly if it is a dictionary word, or there exists a shorter prefix which can be decomposed into a sequence of dictionary words and the difference of the shorter prefix and the current prefix is a dictionary word. "
   ]
  },
  {
   "cell_type": "code",
   "execution_count": 54,
   "metadata": {},
   "outputs": [],
   "source": [
    "def decompose_into_dictionary_words(domain: str,\n",
    "                                   dictionary: set) -> list:\n",
    "    # When the algorithm finishes, last_length[i] != -1 indicates domain[:i+1] has \n",
    "    # a valid decomposition, and the length of the last string in the decomposition is last_length[i]\n",
    "    last_length = [-1] * len(domain)\n",
    "    for i in range(len(domain)):\n",
    "        # If domain[: i+1] is a dictionary word, set last_length[i] to be the length of that word\n",
    "        if domain[: i+1] in dictionary:\n",
    "            last_length[i] = i+1\n",
    "            continue \n",
    "            \n",
    "        # if domain[:i+1] is not a dictionary word, we look for j < i such that domain[: j+1] has \n",
    "        # a valid decomposition and domain[j+1:i+1] is a dictionary word. If so, record the length\n",
    "        # of that word in last_length[i]\n",
    "        for j in range(i):\n",
    "            if last_length[j] != -1 and domain[j+1: i+1] in dictionary:\n",
    "                last_length[i] = i- j\n",
    "                break\n",
    "        print(last_length)\n",
    "    decomposition = []\n",
    "    if last_length[-1] != -1:\n",
    "        # domain can be assembled by dictionary words\n",
    "        idx = len(domain) - 1\n",
    "        while idx >= 0:\n",
    "            decomposition.append(domain[idx +1 - last_length[idx] : idx + 1])\n",
    "            idx -= last_length[idx]\n",
    "        decomposition = decomposition[::-1]\n",
    "    return decomposition, last_length"
   ]
  },
  {
   "cell_type": "code",
   "execution_count": 55,
   "metadata": {},
   "outputs": [],
   "source": [
    "domain = 'bedbathhandbeyond'\n",
    "\n",
    "dictionary = {'bed','bath','hand','and','beyond','be','on','lalal','great','good','at'}"
   ]
  },
  {
   "cell_type": "code",
   "execution_count": 56,
   "metadata": {},
   "outputs": [
    {
     "name": "stdout",
     "output_type": "stream",
     "text": [
      "[-1, -1, -1, -1, -1, -1, -1, -1, -1, -1, -1, -1, -1, -1, -1, -1, -1]\n",
      "[-1, 2, 3, -1, -1, -1, -1, -1, -1, -1, -1, -1, -1, -1, -1, -1, -1]\n",
      "[-1, 2, 3, -1, -1, -1, -1, -1, -1, -1, -1, -1, -1, -1, -1, -1, -1]\n",
      "[-1, 2, 3, -1, -1, -1, -1, -1, -1, -1, -1, -1, -1, -1, -1, -1, -1]\n",
      "[-1, 2, 3, -1, -1, -1, 4, -1, -1, -1, -1, -1, -1, -1, -1, -1, -1]\n",
      "[-1, 2, 3, -1, -1, -1, 4, -1, -1, -1, -1, -1, -1, -1, -1, -1, -1]\n",
      "[-1, 2, 3, -1, -1, -1, 4, -1, -1, -1, -1, -1, -1, -1, -1, -1, -1]\n",
      "[-1, 2, 3, -1, -1, -1, 4, -1, -1, -1, -1, -1, -1, -1, -1, -1, -1]\n",
      "[-1, 2, 3, -1, -1, -1, 4, -1, -1, -1, 4, -1, -1, -1, -1, -1, -1]\n",
      "[-1, 2, 3, -1, -1, -1, 4, -1, -1, -1, 4, -1, -1, -1, -1, -1, -1]\n",
      "[-1, 2, 3, -1, -1, -1, 4, -1, -1, -1, 4, -1, 2, -1, -1, -1, -1]\n",
      "[-1, 2, 3, -1, -1, -1, 4, -1, -1, -1, 4, -1, 2, -1, -1, -1, -1]\n",
      "[-1, 2, 3, -1, -1, -1, 4, -1, -1, -1, 4, -1, 2, -1, -1, -1, -1]\n",
      "[-1, 2, 3, -1, -1, -1, 4, -1, -1, -1, 4, -1, 2, -1, -1, -1, -1]\n",
      "[-1, 2, 3, -1, -1, -1, 4, -1, -1, -1, 4, -1, 2, -1, -1, -1, 6]\n"
     ]
    },
    {
     "data": {
      "text/plain": [
       "(['bed', 'bath', 'hand', 'beyond'],\n",
       " [-1, 2, 3, -1, -1, -1, 4, -1, -1, -1, 4, -1, 2, -1, -1, -1, 6])"
      ]
     },
     "execution_count": 56,
     "metadata": {},
     "output_type": "execute_result"
    }
   ],
   "source": [
    "decompose_into_dictionary_words(domain, dictionary)"
   ]
  },
  {
   "cell_type": "code",
   "execution_count": 42,
   "metadata": {},
   "outputs": [
    {
     "data": {
      "text/plain": [
       "17"
      ]
     },
     "execution_count": 42,
     "metadata": {},
     "output_type": "execute_result"
    }
   ],
   "source": [
    "len(domain)"
   ]
  },
  {
   "cell_type": "code",
   "execution_count": 43,
   "metadata": {},
   "outputs": [],
   "source": [
    "last_length = [-1] * len(domain)"
   ]
  },
  {
   "cell_type": "code",
   "execution_count": 44,
   "metadata": {},
   "outputs": [
    {
     "data": {
      "text/plain": [
       "-1"
      ]
     },
     "execution_count": 44,
     "metadata": {},
     "output_type": "execute_result"
    }
   ],
   "source": [
    "last_length[5]"
   ]
  },
  {
   "cell_type": "markdown",
   "metadata": {},
   "source": [
    "Let n be the length of the input string s. For each k<n we check for each j<k whether the substring s[j+1,k] is a dicstionary word, and each such check requires O(k-j) time. This implies the time complexity is O(n^3). "
   ]
  },
  {
   "cell_type": "markdown",
   "metadata": {},
   "source": [
    "## 16.8 Find the minimum weight path in a triangle \n",
    "\n",
    "A sequence of integer arrays in which the nth array consists of n entries naturally corresponds to a triangle of numbers. \n",
    "\n",
    "Define a path in the triangle to be a sequence of entries in the triangle in which adjacent entries in the sequence correspond to entries that are adjacent in the triangle. The path must start at the top, descend the triangle continously, and end with an entry on the bottom row. The weight of a path is the sum of the entries. \n",
    "\n",
    "Write a program that takes as input a triangle of numbers and returns the weight of a minimum weight path. "
   ]
  },
  {
   "cell_type": "code",
   "execution_count": 59,
   "metadata": {},
   "outputs": [],
   "source": [
    "def minimum_path_weight(triangle: list) -> int:\n",
    "    min_weight_to_curr_row = [0]\n",
    "    for row in triangle:\n",
    "        min_weight_to_curr_row = [\n",
    "            row[j] +\n",
    "            min(min_weight_to_curr_row[max(j-1, 0)],\n",
    "               min_weight_to_curr_row[min(j, len(min_weight_to_curr_row) -1)])\n",
    "            for j in range(len(row))\n",
    "        ]\n",
    "        print(min_weight_to_curr_row)\n",
    "    return min(min_weight_to_curr_row)"
   ]
  },
  {
   "cell_type": "code",
   "execution_count": 60,
   "metadata": {},
   "outputs": [
    {
     "name": "stdout",
     "output_type": "stream",
     "text": [
      "[2]\n",
      "[6, 6]\n",
      "[14, 11, 12]\n",
      "[18, 13, 17, 14]\n",
      "[19, 18, 15, 17, 18]\n"
     ]
    },
    {
     "data": {
      "text/plain": [
       "15"
      ]
     },
     "execution_count": 60,
     "metadata": {},
     "output_type": "execute_result"
    }
   ],
   "source": [
    "triangle = [[2],[4,4],[8,5,6],[4,2,6,2],[1,5,2,3,4]]\n",
    "minimum_path_weight(triangle)"
   ]
  },
  {
   "cell_type": "markdown",
   "metadata": {},
   "source": [
    "The time spent per element is O(1) and there are 1 +2+...+n = n(n+1)/2 elements to calculate, implying an O(n^2) time complexity. The space complexity is O(n). "
   ]
  },
  {
   "cell_type": "markdown",
   "metadata": {},
   "source": [
    "## 16.9 Pick up coins for maximum gain\n",
    "\n",
    "In the pick-up-coins game, an even number of coins are placed in a line. Two players take turns at choosing one coin each-- they can only choose from the two coins at the ends of the line. The game ends when all the coins have been picked up. The player whose coins have the higher total value wins. A player cannot pass his turn. \n",
    "\n",
    "Design an efficient algorithm for computing the maximum total value for the starting palyer in the pick-up-coins game. \n",
    "\n",
    "**Sol:** The drawback of greedy selection is that it does not consider the opportinuties created for the second player. Intuitively, the first player wants to balance selecting high coins with minimizing the coins available to the second player. \n",
    "\n",
    "The second player is assumed to play the best move he possibly can. Therefore, the second player will choose the coin that maximizes his revenue. "
   ]
  },
  {
   "cell_type": "code",
   "execution_count": 71,
   "metadata": {},
   "outputs": [],
   "source": [
    "def maximum_revenue(coins: list) -> int:\n",
    "    def compute_maximum_revenue_for_range(a,b):\n",
    "        if a>b:\n",
    "            # No coins left\n",
    "            return 0\n",
    "        if maximum_revenue_for_range[a][b] == 0:\n",
    "            max_revenue_a = min(compute_maximum_revenue_for_range(a+2, b),\n",
    "                               compute_maximum_revenue_for_range(a+1, b-1)) + coins[a]\n",
    "            max_revenue_b = min(compute_maximum_revenue_for_range(a+1, b-1),\n",
    "                               compute_maximum_revenue_for_range(a, b-2)) + coins[b]\n",
    "            maximum_revenue_for_range[a][b] = max(max_revenue_a, max_revenue_b)\n",
    "        return maximum_revenue_for_range[a][b]\n",
    "    maximum_revenue_for_range = [[0]* len(coins) for _ in coins]\n",
    "    compute_maximum_revenue_for_range(0, len(coins)-1)\n",
    "    return maximum_revenue_for_range"
   ]
  },
  {
   "cell_type": "code",
   "execution_count": 72,
   "metadata": {},
   "outputs": [
    {
     "data": {
      "text/plain": [
       "[[0, 25, 0, 26, 0, 31],\n",
       " [0, 0, 25, 0, 30, 0],\n",
       " [0, 0, 0, 5, 0, 15],\n",
       " [0, 0, 0, 0, 10, 0],\n",
       " [0, 0, 0, 0, 0, 10],\n",
       " [0, 0, 0, 0, 0, 0]]"
      ]
     },
     "execution_count": 72,
     "metadata": {},
     "output_type": "execute_result"
    }
   ],
   "source": [
    "coins = [10,25,5,1,10,5]\n",
    "maximum_revenue(coins)"
   ]
  },
  {
   "cell_type": "markdown",
   "metadata": {},
   "source": [
    "There are O(n^2) possible arguments for R(a,b), where n is the number of coins, and the time spent to compute R from previoulsy computed values is O(1). Hence, R can be computed in O(n^2) time. "
   ]
  },
  {
   "cell_type": "markdown",
   "metadata": {},
   "source": [
    "## 16.10 Count the number of moves to clime stairs \n",
    "\n",
    "You are climbing stairs. You can advance 1 to k steps at a time. Your destination is exactly n steps up. \n",
    "\n",
    "Write a program which takes as inputs n and k and returns the number of ways in which you can get to your destination. "
   ]
  },
  {
   "cell_type": "code",
   "execution_count": 75,
   "metadata": {},
   "outputs": [],
   "source": [
    "def number_of_ways_to_top(top: int, maximum_step: int) -> int:\n",
    "    def compute_number_of_ways_to_h(h):\n",
    "        if h <= 1:\n",
    "            return 1\n",
    "        \n",
    "        if number_of_ways_to_h[h] == 0:\n",
    "            number_of_ways_to_h[h] = sum(\n",
    "                compute_number_of_ways_to_h(h-i)\n",
    "                for i in range(1, min(maximum_step,h) + 1))\n",
    "        return number_of_ways_to_h[h]\n",
    "    \n",
    "    number_of_ways_to_h = [0] * (top+1)\n",
    "    compute_number_of_ways_to_h(top)\n",
    "    return number_of_ways_to_h"
   ]
  },
  {
   "cell_type": "code",
   "execution_count": 77,
   "metadata": {},
   "outputs": [
    {
     "data": {
      "text/plain": [
       "[0, 0, 2, 4, 7]"
      ]
     },
     "execution_count": 77,
     "metadata": {},
     "output_type": "execute_result"
    }
   ],
   "source": [
    "number_of_ways_to_top(4,3)"
   ]
  },
  {
   "cell_type": "markdown",
   "metadata": {},
   "source": [
    "We take O(k) time to fill in each entry, so the total time complexity is O(kn). The space complexity is O(n).\n",
    "\n",
    "k is the maximum number of steps and n is the total number of steps. "
   ]
  },
  {
   "cell_type": "markdown",
   "metadata": {},
   "source": [
    "## 64.Minimum Path Sum\n",
    "\n",
    "Given a m $\\times$n grid filled with non-negative numbers, find a path from top left to bottom right which minimizes the sum of all numbers along this path. \n",
    "\n",
    "**Note:** You can only move either down or right at any point in time. \n",
    "\n",
    "**Example:**\n",
    "Input: \n",
    "[\n",
    "    [1,3,1],\n",
    "    [1,5,1],\n",
    "    [4,2,1]\n",
    "]\n",
    "\n",
    "Output: 7\n",
    "\n",
    "Explanation: Because the path 1-3-1-1-1 minimizes the sum. "
   ]
  },
  {
   "cell_type": "code",
   "execution_count": 1,
   "metadata": {},
   "outputs": [],
   "source": [
    "grid = [[1,2,3], [4,5,6]]"
   ]
  },
  {
   "cell_type": "code",
   "execution_count": 2,
   "metadata": {},
   "outputs": [
    {
     "data": {
      "text/plain": [
       "2"
      ]
     },
     "execution_count": 2,
     "metadata": {},
     "output_type": "execute_result"
    }
   ],
   "source": [
    "len(grid)"
   ]
  },
  {
   "cell_type": "code",
   "execution_count": 3,
   "metadata": {},
   "outputs": [
    {
     "data": {
      "text/plain": [
       "3"
      ]
     },
     "execution_count": 3,
     "metadata": {},
     "output_type": "execute_result"
    }
   ],
   "source": [
    "len(grid[0])"
   ]
  },
  {
   "cell_type": "code",
   "execution_count": 5,
   "metadata": {},
   "outputs": [],
   "source": [
    "dp = [[0 for _ in range(3)] for _ in range(2)]"
   ]
  },
  {
   "cell_type": "code",
   "execution_count": 6,
   "metadata": {},
   "outputs": [
    {
     "data": {
      "text/plain": [
       "[[0, 0, 0], [0, 0, 0]]"
      ]
     },
     "execution_count": 6,
     "metadata": {},
     "output_type": "execute_result"
    }
   ],
   "source": [
    "dp"
   ]
  },
  {
   "cell_type": "code",
   "execution_count": 8,
   "metadata": {},
   "outputs": [
    {
     "name": "stdout",
     "output_type": "stream",
     "text": [
      "1\n",
      "2\n",
      "3\n",
      "4\n",
      "5\n",
      "6\n"
     ]
    }
   ],
   "source": [
    "for i in range(2):\n",
    "    for j in range(3):\n",
    "        print(grid[i][j])"
   ]
  },
  {
   "cell_type": "code",
   "execution_count": 15,
   "metadata": {},
   "outputs": [],
   "source": [
    "def minPathSum(grid: list) -> int: \n",
    "    \n",
    "    n = len(grid)\n",
    "    m = len(grid[0])\n",
    "    \n",
    "    dp = [[0 for _ in range(m)] for _ in range(n)]\n",
    "    \n",
    "    dp[0][0] = grid[0][0]\n",
    "    \n",
    "    for i in range(1,n):\n",
    "        dp[i][0] = dp[i-1][0] + grid[i][0]\n",
    "    for j in range(1,m):\n",
    "        dp[0][j] = dp[0][j-1] + grid[0][j]\n",
    "    \n",
    "    \n",
    "    for i in range(1,n):\n",
    "        for j in range(1,m):\n",
    "            dp[i][j] = min(dp[i][j-1], dp[i-1][j]) + grid[i][j]\n",
    "    \n",
    "    print(dp)\n",
    "    return dp[-1][-1]\n",
    "            \n",
    "    \n",
    "    "
   ]
  },
  {
   "cell_type": "code",
   "execution_count": 16,
   "metadata": {},
   "outputs": [
    {
     "name": "stdout",
     "output_type": "stream",
     "text": [
      "[[1, 3, 6], [5, 8, 12]]\n"
     ]
    },
    {
     "data": {
      "text/plain": [
       "12"
      ]
     },
     "execution_count": 16,
     "metadata": {},
     "output_type": "execute_result"
    }
   ],
   "source": [
    "minPathSum(grid)"
   ]
  },
  {
   "cell_type": "code",
   "execution_count": 17,
   "metadata": {},
   "outputs": [],
   "source": [
    "grid = [\n",
    "    [1,3,1],\n",
    "    [1,5,1],\n",
    "    [4,2,1]\n",
    "]"
   ]
  },
  {
   "cell_type": "code",
   "execution_count": 18,
   "metadata": {},
   "outputs": [
    {
     "name": "stdout",
     "output_type": "stream",
     "text": [
      "[[1, 4, 5], [2, 7, 6], [6, 8, 7]]\n"
     ]
    },
    {
     "data": {
      "text/plain": [
       "7"
      ]
     },
     "execution_count": 18,
     "metadata": {},
     "output_type": "execute_result"
    }
   ],
   "source": [
    "minPathSum(grid)"
   ]
  },
  {
   "cell_type": "markdown",
   "metadata": {},
   "source": [
    "## 174. Dungeon Game \n",
    "\n",
    "The demons had captured the princess (P) and impresoned her in the bottom-right corner of a dungeon. The dungeon consists of M$\\times$ N rooms laid out in a 2D grid. Our valiant knight (K) was initially positioned in the top-left room and must fight his way throught the dungeon to rescue the princess. \n",
    "\n",
    "The knight has an initial health point represented by a positve integer. If at any point his health point drops to 0 or below, he dies immediately. \n",
    "\n",
    "Some of the rooms are guarded by demons, so the knight loses health (negative integers) upon entering these rooms; other rooms are either empty (0's) or contain magic orbs that increase the knight's health (positive integers).\n",
    "\n",
    "In order to reach the princess as quickly as possible, the knight decides to move only rightward or downward in each step. \n",
    "\n",
    "Write a function to determine the knight's minimum intial health so that he is able to rescue the princess. \n",
    "\n",
    "For example, given the dungeon below, the initial health of the knight must be at least 7 if he follows the optimal path right-> right -> down -> down. \n",
    "\n",
    "grid = [\n",
    "    [-2, -3, 3],\n",
    "    [-5, -10, 1],\n",
    "    [10, 30, -5]\n",
    "    ]\n",
    "    \n",
    "    "
   ]
  },
  {
   "cell_type": "code",
   "execution_count": 19,
   "metadata": {},
   "outputs": [],
   "source": [
    "dungeon = [[-2,-3,3],\n",
    "           [-5,-10,1]]"
   ]
  },
  {
   "cell_type": "code",
   "execution_count": 21,
   "metadata": {},
   "outputs": [],
   "source": [
    "n = len(dungeon)\n",
    "\n",
    "m = len(dungeon[0])\n",
    "\n",
    "dp = [[dungeon[j][i] for i in range(m)] for j in range(n)]"
   ]
  },
  {
   "cell_type": "code",
   "execution_count": 22,
   "metadata": {},
   "outputs": [
    {
     "data": {
      "text/plain": [
       "[[-2, -3, 3], [-5, -10, 1]]"
      ]
     },
     "execution_count": 22,
     "metadata": {},
     "output_type": "execute_result"
    }
   ],
   "source": [
    "dp"
   ]
  },
  {
   "cell_type": "code",
   "execution_count": 48,
   "metadata": {},
   "outputs": [
    {
     "name": "stdout",
     "output_type": "stream",
     "text": [
      "3\n",
      "2\n",
      "1\n",
      "0\n"
     ]
    }
   ],
   "source": [
    "for i in range(3,-1,-1):\n",
    "    print(i)"
   ]
  },
  {
   "cell_type": "code",
   "execution_count": 67,
   "metadata": {},
   "outputs": [],
   "source": [
    "def calculateMinimumHP(dungeon: list) -> int:\n",
    "    n = len(dungeon)\n",
    "    m = len(dungeon[0])\n",
    "    \n",
    "    # min hp required to reach bottom right (P)\n",
    "    hp = [[ float('inf') for i in range(m+1)] for j in range(n+1)]\n",
    "    \n",
    "    hp[n][m-1] = 1\n",
    "    hp[n-1][m] = 1 \n",
    "    \n",
    "    for j in range(n-1,-1, -1):\n",
    "        for i in range(m-1, -1, -1):\n",
    "            hp[j][i] = max(1, min(hp[j+1][i], hp[j][i+1]) - dungeon[j][i])\n",
    "            \n",
    "            \n",
    "                \n",
    "    print(hp)\n",
    "    return(hp[0][0])\n",
    "                "
   ]
  },
  {
   "cell_type": "code",
   "execution_count": 68,
   "metadata": {},
   "outputs": [],
   "source": [
    "dungeon = [\n",
    "    [-2,-3,3],\n",
    "    [-5,-10,1],\n",
    "    [10,30,-5]\n",
    "]"
   ]
  },
  {
   "cell_type": "code",
   "execution_count": 69,
   "metadata": {},
   "outputs": [
    {
     "name": "stdout",
     "output_type": "stream",
     "text": [
      "[[7, 5, 2, inf], [6, 11, 5, inf], [1, 1, 6, 1], [inf, inf, 1, inf]]\n"
     ]
    },
    {
     "data": {
      "text/plain": [
       "7"
      ]
     },
     "execution_count": 69,
     "metadata": {},
     "output_type": "execute_result"
    }
   ],
   "source": [
    "calculateMinimumHP(dungeon)"
   ]
  },
  {
   "cell_type": "markdown",
   "metadata": {},
   "source": [
    "Time Complexity: O(mn)\n",
    "\n",
    "Space Complexity: O(mn)"
   ]
  },
  {
   "cell_type": "markdown",
   "metadata": {},
   "source": [
    "## 741. Cherry Pickup\n",
    "\n",
    "In a N $\\times$ N grid representing a field of cherries, each cell is one of three possible integers. \n",
    "\n",
    "* 0 means the cell is empty, so you can pass through;\n",
    "* 1 means the cell contains a cherry, that you can pick up and pass through;\n",
    "* -1 means the cell contains a thorn that blocks your way. \n",
    "\n",
    "You task is to collect maximum number of cherries possible by following the rules below:\n",
    "\n",
    "* Starting at the position (0,0) and reaching (N-1, N-1) by moving right or down through valid path cells (cells with 0 or 1);\n",
    "* After reaching (N-1, N-1), returning to (0,0) by moving left or up through valid path cells;\n",
    "* When passing through a path cell containing a cherry, you pick it up and the cell becomes an empty cell (0);\n",
    "* If there is no valid path between (0,0) and (N-1, N-1), then no cherries can be collected. \n",
    "\n",
    "**Example 1:**\n",
    "\n",
    "Input: grid = [\n",
    "[0, 1, -1],\n",
    "[1, 0, -1],\n",
    "[1, 1, 1]]\n",
    "\n",
    "Output: 5\n",
    "\n",
    "Explanation: \n",
    "The player started at (0,0) and went down, down, right, right to reach (2,2). \n",
    "\n",
    "4 cherries were picked up during this single trip, and the matrix becomes [[0,1,-1], [0,0,-1], [0,0,0]]. \n",
    "\n",
    "Then the player went left, up, up, left to return home, picking up one more cherry. \n",
    "\n",
    "The total number of cherries picked up is 5, and this is the maximum possible. "
   ]
  },
  {
   "cell_type": "code",
   "execution_count": 109,
   "metadata": {},
   "outputs": [],
   "source": [
    "def cherryPickup(grid: list) -> int:\n",
    "    \n",
    "    n = len(grid)\n",
    "    m = len(grid[0])\n",
    "    \n",
    "    dp = [[grid[i][j] for j in range(m)] for i in range(n)]\n",
    "    print('dp before changes is ')\n",
    "    print(dp)\n",
    "    \n",
    "    # from top-left to bottom-right \n",
    "    \n",
    "    for j in range(m):\n",
    "        for i in range(n):\n",
    "            \n",
    "            if i == 0 and j == 0:\n",
    "                continue\n",
    "            \n",
    "            elif i == 0:\n",
    "                if grid[0][j] != -1:\n",
    "                    dp[0][j] += dp[0][j-1]\n",
    "                    grid[0][j] = 0\n",
    "            elif j == 0:\n",
    "                if grid[i][0] != -1:\n",
    "                    dp[i][0] += dp[i-1][0]\n",
    "                    grid[i][0] = 0\n",
    "            else:\n",
    "                if grid[i][j] != -1:\n",
    "                    dp[i][j] += max(dp[i-1][j], dp[i][j-1])\n",
    "                    grid[i][j] = 0 \n",
    "                \n",
    "    print(dp)\n",
    "    print(grid)\n",
    "    \n",
    "    # from bottom-right to top-left \n",
    "    \n",
    "    for j in range(m-1, -1, -1):\n",
    "        for i in range(n-1, -1, -1):\n",
    "            if j == m-1 and i == n-1:\n",
    "                continue \n",
    "            elif j == m-1:\n",
    "                if grid[i][j] != -1:\n",
    "                    dp[i][j] = dp[i+1][j] + grid[i][j]\n",
    "                    grid[i][j] = 0\n",
    "            elif i == n-1:\n",
    "                if grid[i][j] != -1:\n",
    "                    dp[i][j] = dp[i][j+1] + grid[i][j+1]\n",
    "                    grid[i][j] = 0\n",
    "            else:\n",
    "                if grid[i][j] != -1:\n",
    "                    dp[i][j] = max(dp[i-1][j], dp[i][j-1]) + grid[i][j]\n",
    "                    grid[i][j] = 0\n",
    "    print(dp)\n",
    "    print(grid)\n",
    "    \n",
    "    "
   ]
  },
  {
   "cell_type": "code",
   "execution_count": 126,
   "metadata": {},
   "outputs": [],
   "source": [
    "grid = [\n",
    "    [0,1,-1],\n",
    "    [1,0,-1],\n",
    "    [1,1,1]\n",
    "]"
   ]
  },
  {
   "cell_type": "code",
   "execution_count": 111,
   "metadata": {},
   "outputs": [
    {
     "name": "stdout",
     "output_type": "stream",
     "text": [
      "dp before changes is \n",
      "[[0, 1, -1], [1, 0, -1], [1, 1, 1]]\n",
      "[[0, 1, -1], [1, 1, -1], [2, 3, 4]]\n",
      "[[0, 0, -1], [0, 0, -1], [0, 0, 0]]\n",
      "[[4, 4, -1], [0, 1, -1], [4, 4, 4]]\n",
      "[[0, 0, -1], [0, 0, -1], [0, 0, 0]]\n"
     ]
    }
   ],
   "source": [
    "cherryPickup(grid)"
   ]
  },
  {
   "cell_type": "code",
   "execution_count": 144,
   "metadata": {},
   "outputs": [],
   "source": [
    "def cherryPickup(grid: list) -> int:\n",
    "    \n",
    "    n = len(grid)\n",
    "    \n",
    "    mem_ = [[[-float('Inf') for _ in range(n)] for _ in range(n)] for _ in range(n)]\n",
    "    print('mem_ is')\n",
    "    print(mem_)\n",
    "    \n",
    "    def dp(x1: int, y1: int, x2:int):\n",
    "        \n",
    "        y2 = x1+ y1 - x2\n",
    "        \n",
    "        if x1 < 0 or y1 < 0 or x2 < 0 or y2 < 0:\n",
    "            return -1 \n",
    "        if grid[y1][x1] < 0 or grid[y2][x2] < 0:\n",
    "            return -1 \n",
    "        \n",
    "        if x1 == 0 and y1 == 0:\n",
    "            return grid[y1][x1]\n",
    "        if mem_[x1][y1][x2] != -float('Inf'):\n",
    "            return mem_[x1][y1][x2]\n",
    "        else:\n",
    "            ans = max(max(dp(x1-1, y1, x2),dp(x1, y1-1, x2)),\n",
    "                      max(dp(x1-1, y1, x2-1), dp(x1, y1-1, x2-1)))\n",
    "            if ans <0:\n",
    "                mem_[x1][y1][x2] = -1\n",
    "            else:\n",
    "                ans += grid[y1][x1]\n",
    "                print(ans)\n",
    "                if x1 != x2:\n",
    "                    ans += grid[y2][x2]\n",
    "                mem_[x1][y1][x2] = ans \n",
    "            print('mem inside dp is')\n",
    "            print(mem_)\n",
    "                \n",
    "\n",
    "            return mem_[x1][y1][x2]\n",
    "    \n",
    "    print('mem_ is')\n",
    "    print(mem_)\n",
    "        \n",
    "    \n",
    "    \n",
    "    return max(0, dp(n-1, n-1, n-1))\n",
    "    "
   ]
  },
  {
   "cell_type": "code",
   "execution_count": 145,
   "metadata": {},
   "outputs": [
    {
     "name": "stdout",
     "output_type": "stream",
     "text": [
      "mem_ is\n",
      "[[[-inf, -inf, -inf], [-inf, -inf, -inf], [-inf, -inf, -inf]], [[-inf, -inf, -inf], [-inf, -inf, -inf], [-inf, -inf, -inf]], [[-inf, -inf, -inf], [-inf, -inf, -inf], [-inf, -inf, -inf]]]\n",
      "mem_ is\n",
      "[[[-inf, -inf, -inf], [-inf, -inf, -inf], [-inf, -inf, -inf]], [[-inf, -inf, -inf], [-inf, -inf, -inf], [-inf, -inf, -inf]], [[-inf, -inf, -inf], [-inf, -inf, -inf], [-inf, -inf, -inf]]]\n",
      "1\n",
      "mem inside dp is\n",
      "[[[-inf, -inf, -inf], [-inf, 2, -inf], [-inf, -inf, -inf]], [[-inf, -inf, -inf], [-inf, -inf, -inf], [-inf, -inf, -inf]], [[-inf, -inf, -inf], [-inf, -inf, -inf], [-inf, -inf, -inf]]]\n",
      "1\n",
      "mem inside dp is\n",
      "[[[-inf, -inf, -inf], [1, 2, -inf], [-inf, -inf, -inf]], [[-inf, -inf, -inf], [-inf, -inf, -inf], [-inf, -inf, -inf]], [[-inf, -inf, -inf], [-inf, -inf, -inf], [-inf, -inf, -inf]]]\n",
      "3\n",
      "mem inside dp is\n",
      "[[[-inf, -inf, -inf], [1, 2, -inf], [-inf, 3, -inf]], [[-inf, -inf, -inf], [-inf, -inf, -inf], [-inf, -inf, -inf]], [[-inf, -inf, -inf], [-inf, -inf, -inf], [-inf, -inf, -inf]]]\n",
      "1\n",
      "mem inside dp is\n",
      "[[[-inf, -inf, -inf], [1, 2, -inf], [-inf, 3, -inf]], [[-inf, 1, -inf], [-inf, -inf, -inf], [-inf, -inf, -inf]], [[-inf, -inf, -inf], [-inf, -inf, -inf], [-inf, -inf, -inf]]]\n",
      "1\n",
      "mem inside dp is\n",
      "[[[-inf, -inf, -inf], [1, 2, -inf], [-inf, 3, -inf]], [[2, 1, -inf], [-inf, -inf, -inf], [-inf, -inf, -inf]], [[-inf, -inf, -inf], [-inf, -inf, -inf], [-inf, -inf, -inf]]]\n",
      "2\n",
      "mem inside dp is\n",
      "[[[-inf, -inf, -inf], [1, 2, -inf], [-inf, 3, -inf]], [[2, 1, -inf], [-inf, 2, -inf], [-inf, -inf, -inf]], [[-inf, -inf, -inf], [-inf, -inf, -inf], [-inf, -inf, -inf]]]\n",
      "3\n",
      "mem inside dp is\n",
      "[[[-inf, -inf, -inf], [1, 2, -inf], [3, 3, -inf]], [[2, 1, -inf], [-inf, 2, -inf], [-inf, -inf, -inf]], [[-inf, -inf, -inf], [-inf, -inf, -inf], [-inf, -inf, -inf]]]\n",
      "2\n",
      "mem inside dp is\n",
      "[[[-inf, -inf, -inf], [1, 2, -inf], [3, 3, -inf]], [[2, 1, -inf], [3, 2, -inf], [-inf, -inf, -inf]], [[-inf, -inf, -inf], [-inf, -inf, -inf], [-inf, -inf, -inf]]]\n",
      "4\n",
      "mem inside dp is\n",
      "[[[-inf, -inf, -inf], [1, 2, -inf], [3, 3, -inf]], [[2, 1, -inf], [3, 2, -inf], [-inf, 4, -inf]], [[-inf, -inf, -inf], [-inf, -inf, -inf], [-inf, -inf, -inf]]]\n",
      "5\n",
      "mem inside dp is\n",
      "[[[-inf, -inf, -inf], [1, 2, -inf], [3, 3, -inf]], [[2, 1, -inf], [3, 2, -inf], [-inf, 4, -inf]], [[-inf, -inf, -inf], [-inf, -inf, -inf], [-inf, -inf, 5]]]\n"
     ]
    },
    {
     "data": {
      "text/plain": [
       "5"
      ]
     },
     "execution_count": 145,
     "metadata": {},
     "output_type": "execute_result"
    }
   ],
   "source": [
    "cherryPickup(grid)"
   ]
  },
  {
   "cell_type": "code",
   "execution_count": 146,
   "metadata": {},
   "outputs": [
    {
     "data": {
      "text/plain": [
       "[[0, 1, -1], [1, 0, -1], [1, 1, 1]]"
      ]
     },
     "execution_count": 146,
     "metadata": {},
     "output_type": "execute_result"
    }
   ],
   "source": [
    "grid"
   ]
  },
  {
   "cell_type": "markdown",
   "metadata": {},
   "source": [
    "Time Complexity: O(n^3)\n",
    "\n",
    "Space Complexity: O(n^3). "
   ]
  },
  {
   "cell_type": "markdown",
   "metadata": {},
   "source": [
    "## 838. Push Dominoes \n",
    "\n",
    "There are N dominoes in a line, and we place each domino vertically upright. \n",
    "\n",
    "In the beginning, we simultaneously push some of the doninoes either to the left or to the right. \n",
    "\n",
    "After each second, each domino that is falling to the left pushes the adjacent domino on the left. \n",
    "\n",
    "Similarly, the dominoes falling to the right push their adjacent dominoes standing on the right. \n",
    "\n",
    "When a vertical domino has dominoes falling on it from both sides, it stays still due to the balance of the forces. \n",
    "\n",
    "For the purposes of this question, we will consider that a falling domino expends no additional force to a falling or alreadu fallen domino. \n",
    "\n",
    "Given a string \"S\" representing the inital state. S[i] = 'L', if the i-th domino has been pushed to the left; S[i] = 'R', if the i-th domino has been pushed to the right; S[i] = '.', if the i-th domino has not been pushed. \n",
    "\n",
    "Return a string representing the final state. "
   ]
  },
  {
   "cell_type": "code",
   "execution_count": 157,
   "metadata": {},
   "outputs": [],
   "source": [
    "def pushDominoes(dominoes:str) -> str:\n",
    "    \n",
    "    n = len(dominoes)\n",
    "    \n",
    "    force_R = [0]*n\n",
    "    \n",
    "    force_L = [0]*n\n",
    "    \n",
    "    dominoes = list(dominoes)\n",
    "    \n",
    "    for i in range(n):\n",
    "        if dominoes[i] == 'R':\n",
    "            force_R[i] = n \n",
    "        elif dominoes[i] == '.' and i > 0 :\n",
    "            force_R[i] = max(0, force_R[i-1] - 1) \n",
    "\n",
    "    for i in range(n-1, -1, -1):\n",
    "        if dominoes[i] == 'L':\n",
    "            force_L[i] = n\n",
    "        elif dominoes[i] == '.' and i < n-1:\n",
    "            force_L[i] = max(0, force_L[i+1] -1) \n",
    "            \n",
    "    for i in range(n):\n",
    "        if force_R[i] > force_L[i]:\n",
    "            dominoes[i] = 'R'\n",
    "        elif force_R[i] < force_L[i]:\n",
    "            dominoes[i] = 'L'\n",
    "        else:\n",
    "            dominoes[i] = '.'\n",
    "            \n",
    "    return ''.join(dominoes)\n",
    "        \n",
    "        \n",
    "            "
   ]
  },
  {
   "cell_type": "code",
   "execution_count": 158,
   "metadata": {},
   "outputs": [
    {
     "data": {
      "text/plain": [
       "'RRRR.LL'"
      ]
     },
     "execution_count": 158,
     "metadata": {},
     "output_type": "execute_result"
    }
   ],
   "source": [
    "dominoes = 'R.R...L'\n",
    "\n",
    "pushDominoes(dominoes)"
   ]
  },
  {
   "cell_type": "markdown",
   "metadata": {},
   "source": [
    "Time Complexity: O(n)\n",
    "\n",
    "Space Complexity: O(n)"
   ]
  },
  {
   "cell_type": "markdown",
   "metadata": {},
   "source": [
    "## 300. Longest Increasing Subsequence \n",
    "\n",
    "Given an unsorted array of integers, find the length of longest increasing subsequence. \n",
    "\n",
    "**Example:**\n",
    "Input: [10, 9, 2, 5, 3, 7, 101, 18]\n",
    "\n",
    "Output: 4\n",
    "\n",
    "Explanation: the longest increasing subsequence is [2,3,7,101], therefore the length is 4. \n",
    "\n",
    "**Note:**\n",
    "* There may be more than one LIS combination, it is only necessary for you to return the length. \n",
    "* Your algorithm should run in O(n^2) complexity. \n",
    "* Can you improve it to O(n log n) time complexity? \n"
   ]
  },
  {
   "cell_type": "markdown",
   "metadata": {},
   "source": [
    "### Dynamic Programming \n",
    "\n",
    "This method relies on the fact that the longest increasing subsequence possible upto the ith index in a given array is independent of elements coming later on in the array. Thus, if we know the length of the LIS upto ith index, we can figure out the length of the LIS possible by including the (i+1)th element based on the elements with indices j such that 0 <= j <= (i+1)\n",
    "\n",
    "We make use of a dp array to store the required data. dp[i] represents the length of the longest increasing subsequence possible considering the array elements upto the ith index only, by necessarily including the ith element. In order to find out dp[i], we need to try to append the current element (nums[i]) in every possible increasing subsequences upto the (i-1)th index (including the (i-1)th index), such that the new sequence formed by adding the current element is also an increasing subsequence. Thus, we can easily determine dp[i using:\n",
    "dp[i] = max(dp[j]) +1, 0 \\leq j < i\n",
    "\n",
    "At the end, the maximum out of all the dp[i]'s to determine the final result. \n",
    "\n",
    "LISlenght = max(dp[i]), 0 \\leq i < n. "
   ]
  },
  {
   "cell_type": "code",
   "execution_count": 37,
   "metadata": {},
   "outputs": [],
   "source": [
    "def lengthOfLIS(nums: list) -> list:\n",
    "    n = len(nums)\n",
    "    dp = [1]*n\n",
    "    \n",
    "    \n",
    "    \n",
    "    for i in range(1,n):\n",
    "        if nums[i] > nums[i-1]:\n",
    "            dp[i] = max(dp[:i]) +1 \n",
    "        else:\n",
    "            dp[i] = dp[i-1]\n",
    "            \n",
    "    print(dp)\n",
    "            \n",
    "    return max(dp)\n",
    "            \n",
    "            \n",
    "    "
   ]
  },
  {
   "cell_type": "code",
   "execution_count": 38,
   "metadata": {},
   "outputs": [],
   "source": [
    "nums = [10, 9, 2, 5, 3, 7, 101, 18]"
   ]
  },
  {
   "cell_type": "code",
   "execution_count": 39,
   "metadata": {},
   "outputs": [
    {
     "name": "stdout",
     "output_type": "stream",
     "text": [
      "[1, 1, 1, 2, 2, 3, 4, 4]\n"
     ]
    },
    {
     "data": {
      "text/plain": [
       "4"
      ]
     },
     "execution_count": 39,
     "metadata": {},
     "output_type": "execute_result"
    }
   ],
   "source": [
    "lengthOfLIS(nums)"
   ]
  },
  {
   "cell_type": "code",
   "execution_count": 40,
   "metadata": {},
   "outputs": [
    {
     "name": "stdout",
     "output_type": "stream",
     "text": [
      "[1, 2, 2, 2, 3, 4]\n"
     ]
    },
    {
     "data": {
      "text/plain": [
       "4"
      ]
     },
     "execution_count": 40,
     "metadata": {},
     "output_type": "execute_result"
    }
   ],
   "source": [
    "nums = [4, 10, 4, 3, 8, 9]\n",
    "lengthOfLIS(nums)"
   ]
  },
  {
   "cell_type": "markdown",
   "metadata": {},
   "source": [
    "### Recursion with Memorization \n",
    "\n",
    "Call in a 2-d dimension array memo. memo[i][j] represents the length of the LIS possible using nums[i] as the previous elmenet considered to be included/not included in the LIS, with nums[j] as the current element considered to be included/not included in the LIS. \n",
    "\n",
    "The simplest appraoch is to try to find all increasing subsequences and then returning the maximum length of longest increasing subsequence. In order to do this, we make use of a recursive function lengthofLIS which returns the length of the LIS possible from the current element (corresponding to curpos) onwards( including the current element). Inside each function call, we consider two cases:\n",
    "\n",
    "1. The current element is larger than the previous element included in the LIS. In this case, we can include the current element in the LIS. Thus, we find out the length of the LIS obtained by including it. Further, we also find out the length of LIS possible by not including the current element in the LIS. The value returned by the current function call is, thus, the maximum out of the two lengths. \n",
    "\n",
    "2. The current element is smaller than the previous element included in the LIS. In this case, we can't include the current element in the LIS. Thus, we find out only the length of the LIS possible by not including the current element in the LIS, which is returnted by the current function call. "
   ]
  },
  {
   "cell_type": "code",
   "execution_count": 29,
   "metadata": {},
   "outputs": [],
   "source": [
    "def lengthOfLIS_2(nums: list) -> list:\n",
    "    \n",
    "    n = len(nums)\n",
    "\n",
    "    # define a dp helper to return the max length of increasing subsequence \n",
    "    # until current point \n",
    "    def dp(nums: list, local_max: int, curpos: int) -> int:\n",
    "        if curpos == len(nums) :\n",
    "            return 0 \n",
    "        taken = 0\n",
    "#         print('local_max is ')\n",
    "#         print(local_max)\n",
    "        if nums[curpos] > local_max:\n",
    "            taken = 1 + dp(nums, nums[curpos], curpos +1)\n",
    "        notaken = dp(nums, local_max, curpos + 1)\n",
    "        return max(taken, notaken)\n",
    "    \n",
    "    return(dp(nums, -float('Inf'), 0))\n",
    "    "
   ]
  },
  {
   "cell_type": "code",
   "execution_count": 30,
   "metadata": {},
   "outputs": [
    {
     "data": {
      "text/plain": [
       "4"
      ]
     },
     "execution_count": 30,
     "metadata": {},
     "output_type": "execute_result"
    }
   ],
   "source": [
    "lengthOfLIS_2(nums)"
   ]
  },
  {
   "cell_type": "code",
   "execution_count": 31,
   "metadata": {},
   "outputs": [
    {
     "data": {
      "text/plain": [
       "[10, 9, 2, 5, 3, 7, 101, 18]"
      ]
     },
     "execution_count": 31,
     "metadata": {},
     "output_type": "execute_result"
    }
   ],
   "source": [
    "nums"
   ]
  },
  {
   "cell_type": "code",
   "execution_count": 32,
   "metadata": {},
   "outputs": [
    {
     "data": {
      "text/plain": [
       "4"
      ]
     },
     "execution_count": 32,
     "metadata": {},
     "output_type": "execute_result"
    }
   ],
   "source": [
    "nums = [10, 9, 2, 5, 3, 7, 101, 18]\n",
    "lengthOfLIS_2(nums)"
   ]
  },
  {
   "cell_type": "code",
   "execution_count": 44,
   "metadata": {},
   "outputs": [],
   "source": [
    "def lengthOfLIS_3(nums: list) -> list:\n",
    "    if not nums:\n",
    "        return 0\n",
    "    \n",
    "    n = len(nums)\n",
    "    memo = [1 for _ in range(n) ]\n",
    "    \n",
    "    for i in range(1,n):\n",
    "        for j in range(0,i):\n",
    "            if nums[i] > nums[j]:\n",
    "                memo[i] = max(memo[i], memo[j] + 1)\n",
    "    return max(memo)\n",
    "    "
   ]
  },
  {
   "cell_type": "code",
   "execution_count": 45,
   "metadata": {},
   "outputs": [
    {
     "data": {
      "text/plain": [
       "[4, 10, 4, 3, 8, 9]"
      ]
     },
     "execution_count": 45,
     "metadata": {},
     "output_type": "execute_result"
    }
   ],
   "source": [
    "nums "
   ]
  },
  {
   "cell_type": "code",
   "execution_count": 46,
   "metadata": {},
   "outputs": [
    {
     "data": {
      "text/plain": [
       "3"
      ]
     },
     "execution_count": 46,
     "metadata": {},
     "output_type": "execute_result"
    }
   ],
   "source": [
    "lengthOfLIS_3(nums)"
   ]
  },
  {
   "cell_type": "code",
   "execution_count": 47,
   "metadata": {},
   "outputs": [],
   "source": [
    "nums = [10, 9, 2, 5, 3, 7, 101, 18]"
   ]
  },
  {
   "cell_type": "code",
   "execution_count": 48,
   "metadata": {},
   "outputs": [
    {
     "data": {
      "text/plain": [
       "4"
      ]
     },
     "execution_count": 48,
     "metadata": {},
     "output_type": "execute_result"
    }
   ],
   "source": [
    "lengthOfLIS_3(nums)"
   ]
  },
  {
   "cell_type": "markdown",
   "metadata": {},
   "source": [
    "## 673. Number of Longest Increasing Subsequence \n",
    "\n",
    "Given an unsorted array of integers, find the number of longest increasing subsequence. \n",
    "\n",
    "**Example 1:**\n",
    "Input: [1,3,5,4,7]\n",
    "\n",
    "Output: 2\n",
    "\n",
    "Explanation: The two longest increasing subsequence are [1,3,4,7] and [1,3,5,7] \n",
    "\n",
    "**Example 2:** \n",
    "Input: [2,2,2,2,2]\n",
    "\n",
    "Output: 5\n",
    "\n",
    "Explanation: The length of longest continuous increasing subsequence is 1, and there are 5 subsequences' length if 1, so output 5. "
   ]
  },
  {
   "cell_type": "code",
   "execution_count": 49,
   "metadata": {},
   "outputs": [
    {
     "data": {
      "text/plain": [
       "5"
      ]
     },
     "execution_count": 49,
     "metadata": {},
     "output_type": "execute_result"
    }
   ],
   "source": [
    "from collections import Counter \n",
    "\n",
    "s = [1,2,2,3,4,4,5,5,5]\n",
    "\n",
    "sc = Counter(s)\n",
    "\n",
    "max(sc)"
   ]
  },
  {
   "cell_type": "code",
   "execution_count": 50,
   "metadata": {},
   "outputs": [
    {
     "data": {
      "text/plain": [
       "3"
      ]
     },
     "execution_count": 50,
     "metadata": {},
     "output_type": "execute_result"
    }
   ],
   "source": [
    "sc[max(sc)]"
   ]
  },
  {
   "cell_type": "code",
   "execution_count": 182,
   "metadata": {},
   "outputs": [],
   "source": [
    "def findNumberOfLIS(nums: list) -> int:\n",
    "    \n",
    "    if not nums:\n",
    "        return 0\n",
    "    \n",
    "    n = len(nums)\n",
    "    \n",
    "    memo = [1 for _ in range(n)]\n",
    "    \n",
    "    count = [1 for _ in range(n)]\n",
    "    \n",
    "    for i in range(n):\n",
    "        for j in range(i):\n",
    "            if nums[i] > nums[j]:\n",
    "                if memo[j] >= memo[i]:\n",
    "                    memo[i] = 1 + memo[j]\n",
    "                    count[i] = count[j]\n",
    "                elif memo[j] + 1 ==  memo[i]:\n",
    "                    count[i] += count[j]\n",
    "                \n",
    "    print('memo is ')\n",
    "    print(memo)\n",
    "    \n",
    "    \n",
    "    print(' count is ')\n",
    "    print(count)\n",
    "    \n",
    "    max_val = max(memo)\n",
    "    return sum(c for i, c in enumerate(count) if memo[i] == max_val)"
   ]
  },
  {
   "cell_type": "code",
   "execution_count": 183,
   "metadata": {},
   "outputs": [],
   "source": [
    "nums = [1,3,5,4,7]"
   ]
  },
  {
   "cell_type": "code",
   "execution_count": 184,
   "metadata": {},
   "outputs": [
    {
     "name": "stdout",
     "output_type": "stream",
     "text": [
      "memo is \n",
      "[1, 2, 3, 3, 4]\n",
      " count is \n",
      "[1, 1, 1, 1, 2]\n"
     ]
    },
    {
     "data": {
      "text/plain": [
       "2"
      ]
     },
     "execution_count": 184,
     "metadata": {},
     "output_type": "execute_result"
    }
   ],
   "source": [
    "findNumberOfLIS(nums)"
   ]
  },
  {
   "cell_type": "code",
   "execution_count": 185,
   "metadata": {},
   "outputs": [
    {
     "name": "stdout",
     "output_type": "stream",
     "text": [
      "memo is \n",
      "[1, 1, 1, 1, 1]\n",
      " count is \n",
      "[1, 1, 1, 1, 1]\n"
     ]
    },
    {
     "data": {
      "text/plain": [
       "5"
      ]
     },
     "execution_count": 185,
     "metadata": {},
     "output_type": "execute_result"
    }
   ],
   "source": [
    "nums = [2,2,2,2,2]\n",
    "\n",
    "findNumberOfLIS(nums)"
   ]
  },
  {
   "cell_type": "code",
   "execution_count": 186,
   "metadata": {},
   "outputs": [
    {
     "name": "stdout",
     "output_type": "stream",
     "text": [
      "memo is \n",
      "[1, 2, 3, 3, 4, 4, 5, 2]\n",
      " count is \n",
      "[1, 1, 1, 1, 2, 1, 3, 1]\n"
     ]
    },
    {
     "data": {
      "text/plain": [
       "3"
      ]
     },
     "execution_count": 186,
     "metadata": {},
     "output_type": "execute_result"
    }
   ],
   "source": [
    "nums = [1,2,4,3,5,4,7,2]\n",
    "\n",
    "findNumberOfLIS(nums)"
   ]
  },
  {
   "cell_type": "code",
   "execution_count": 187,
   "metadata": {},
   "outputs": [
    {
     "name": "stdout",
     "output_type": "stream",
     "text": [
      "memo is \n",
      "[1, 1, 2]\n",
      " count is \n",
      "[1, 1, 1]\n"
     ]
    },
    {
     "data": {
      "text/plain": [
       "1"
      ]
     },
     "execution_count": 187,
     "metadata": {},
     "output_type": "execute_result"
    }
   ],
   "source": [
    "nums = [3,1,2]\n",
    "\n",
    "findNumberOfLIS(nums)"
   ]
  },
  {
   "cell_type": "markdown",
   "metadata": {},
   "source": [
    "## 1048. Longest String Chain \n",
    "\n",
    "Given a list of words, each word consists of English lowercase letters. \n",
    "\n",
    "Let's say word1 is the predecessor of word2 if and only if we can add exactly one letter anywhere in rod1 to make it equal to word2. For example, \"abc\" is a predecessor of \"abac\". \n",
    "\n",
    "A word chain is a sequence of words [word_1, word_2,...,word_k] with k >= 1, where word_1 is a predecessor of word_2, word_2 is a predecessor of word_3, and so on. \n",
    "\n",
    "Return the longest possible length of a word chain with words chosen from the given list of words. \n",
    "\n",
    "**Example 1:**\n",
    "\n",
    "Input: [\"a\", \"b\", \"ba\", \"bca\", \"bda\", \"bdca\"] \n",
    "\n",
    "Output: 4 \n",
    "\n",
    "Explanation: one of the longest word chain is \"a\", \"ba\", \"bda\", \"bdca\". "
   ]
  },
  {
   "cell_type": "code",
   "execution_count": 188,
   "metadata": {},
   "outputs": [],
   "source": [
    "word1 = \"bcd\"\n",
    "\n",
    "word2 = \"bacd\"\n",
    "\n",
    "word3 = \"bad\""
   ]
  },
  {
   "cell_type": "code",
   "execution_count": 189,
   "metadata": {},
   "outputs": [],
   "source": [
    "count1 = Counter(word1)\n",
    "\n",
    "count2 = Counter(word2)\n",
    "\n",
    "count3 = Counter(word3)"
   ]
  },
  {
   "cell_type": "code",
   "execution_count": 191,
   "metadata": {},
   "outputs": [
    {
     "name": "stdout",
     "output_type": "stream",
     "text": [
      "Counter({'b': 1, 'c': 1, 'd': 1})\n",
      "Counter({'b': 1, 'a': 1, 'c': 1, 'd': 1})\n",
      "Counter({'b': 1, 'a': 1, 'd': 1})\n"
     ]
    }
   ],
   "source": [
    "print(count1)\n",
    "\n",
    "print(count2)\n",
    "\n",
    "print(count3)"
   ]
  },
  {
   "cell_type": "code",
   "execution_count": 195,
   "metadata": {},
   "outputs": [
    {
     "name": "stdout",
     "output_type": "stream",
     "text": [
      "Counter({'a': 1})\n"
     ]
    }
   ],
   "source": [
    "print((count2 - count1 & count2)| (count1 - count1& count2))\n",
    "\n"
   ]
  },
  {
   "cell_type": "code",
   "execution_count": 196,
   "metadata": {},
   "outputs": [
    {
     "data": {
      "text/plain": [
       "1"
      ]
     },
     "execution_count": 196,
     "metadata": {},
     "output_type": "execute_result"
    }
   ],
   "source": [
    "diff = (count2 - count1 & count2)| (count1 - count1& count2)\n",
    "\n",
    "len(diff)"
   ]
  },
  {
   "cell_type": "code",
   "execution_count": 203,
   "metadata": {},
   "outputs": [
    {
     "data": {
      "text/plain": [
       "1"
      ]
     },
     "execution_count": 203,
     "metadata": {},
     "output_type": "execute_result"
    }
   ],
   "source": [
    "sum(diff.values())"
   ]
  },
  {
   "cell_type": "code",
   "execution_count": 264,
   "metadata": {},
   "outputs": [],
   "source": [
    "def longestStrChain(words: list) -> int:\n",
    "    \n",
    "    if not words:\n",
    "        return 0\n",
    "    \n",
    "    n = len(words)\n",
    "    \n",
    "    length = [1 for _ in range(n)]\n",
    "    \n",
    "    for i in range(1,n):\n",
    "        count_i = Counter(words[i])\n",
    "        for j in range(i):\n",
    "            count_j = Counter(words[j])\n",
    "            print(words[i])\n",
    "            print(words[j])\n",
    "            print(diff_check(count_j, count_i))\n",
    "            if diff_check(count_j, count_i):\n",
    "                length[i] = max(length[i], length[j] + 1)\n",
    "                \n",
    "    print(length)\n",
    "                \n",
    "    return max(length)\n",
    "                \n",
    "                \n",
    "            \n",
    "    \n",
    "\n",
    "def diff_check(count1, count2):\n",
    "    diff = (count2 - (count1 & count2)) | (count1 - (count1&count2))\n",
    "#     print('diff is ')\n",
    "#     print(diff)\n",
    "    return (len(diff) ==1) & (max(diff.values()) ==1) &(sum(diff.values()) == 1)\n"
   ]
  },
  {
   "cell_type": "code",
   "execution_count": 262,
   "metadata": {},
   "outputs": [],
   "source": [
    "words = [\"a\", \"b\", \"ba\", \"bca\", \"bda\", \"bdca\"]"
   ]
  },
  {
   "cell_type": "code",
   "execution_count": 263,
   "metadata": {},
   "outputs": [
    {
     "name": "stdout",
     "output_type": "stream",
     "text": [
      "b\n",
      "a\n",
      "diff is \n",
      "Counter({'b': 1, 'a': 1})\n",
      "False\n",
      "diff is \n",
      "Counter({'b': 1, 'a': 1})\n",
      "ba\n",
      "a\n",
      "diff is \n",
      "Counter({'b': 1})\n",
      "True\n",
      "diff is \n",
      "Counter({'b': 1})\n",
      "ba\n",
      "b\n",
      "diff is \n",
      "Counter({'a': 1})\n",
      "True\n",
      "diff is \n",
      "Counter({'a': 1})\n",
      "bca\n",
      "a\n",
      "diff is \n",
      "Counter({'b': 1, 'c': 1})\n",
      "False\n",
      "diff is \n",
      "Counter({'b': 1, 'c': 1})\n",
      "bca\n",
      "b\n",
      "diff is \n",
      "Counter({'c': 1, 'a': 1})\n",
      "False\n",
      "diff is \n",
      "Counter({'c': 1, 'a': 1})\n",
      "bca\n",
      "ba\n",
      "diff is \n",
      "Counter({'c': 1})\n",
      "True\n",
      "diff is \n",
      "Counter({'c': 1})\n",
      "bda\n",
      "a\n",
      "diff is \n",
      "Counter({'b': 1, 'd': 1})\n",
      "False\n",
      "diff is \n",
      "Counter({'b': 1, 'd': 1})\n",
      "bda\n",
      "b\n",
      "diff is \n",
      "Counter({'d': 1, 'a': 1})\n",
      "False\n",
      "diff is \n",
      "Counter({'d': 1, 'a': 1})\n",
      "bda\n",
      "ba\n",
      "diff is \n",
      "Counter({'d': 1})\n",
      "True\n",
      "diff is \n",
      "Counter({'d': 1})\n",
      "bda\n",
      "bca\n",
      "diff is \n",
      "Counter({'d': 1, 'c': 1})\n",
      "False\n",
      "diff is \n",
      "Counter({'d': 1, 'c': 1})\n",
      "bdca\n",
      "a\n",
      "diff is \n",
      "Counter({'b': 1, 'd': 1, 'c': 1})\n",
      "False\n",
      "diff is \n",
      "Counter({'b': 1, 'd': 1, 'c': 1})\n",
      "bdca\n",
      "b\n",
      "diff is \n",
      "Counter({'d': 1, 'c': 1, 'a': 1})\n",
      "False\n",
      "diff is \n",
      "Counter({'d': 1, 'c': 1, 'a': 1})\n",
      "bdca\n",
      "ba\n",
      "diff is \n",
      "Counter({'d': 1, 'c': 1})\n",
      "False\n",
      "diff is \n",
      "Counter({'d': 1, 'c': 1})\n",
      "bdca\n",
      "bca\n",
      "diff is \n",
      "Counter({'d': 1})\n",
      "True\n",
      "diff is \n",
      "Counter({'d': 1})\n",
      "bdca\n",
      "bda\n",
      "diff is \n",
      "Counter({'c': 1})\n",
      "True\n",
      "diff is \n",
      "Counter({'c': 1})\n",
      "[1, 1, 2, 3, 3, 4]\n"
     ]
    },
    {
     "data": {
      "text/plain": [
       "4"
      ]
     },
     "execution_count": 263,
     "metadata": {},
     "output_type": "execute_result"
    }
   ],
   "source": [
    "longestStrChain(words)"
   ]
  },
  {
   "cell_type": "code",
   "execution_count": 254,
   "metadata": {},
   "outputs": [
    {
     "name": "stdout",
     "output_type": "stream",
     "text": [
      "Counter({'a': 1})\n",
      "Counter({'b': 1})\n",
      "Counter()\n",
      "Counter()\n",
      "Counter()\n"
     ]
    }
   ],
   "source": [
    "word1 = \"a\"\n",
    "\n",
    "word2 = \"b\"\n",
    "\n",
    "count1 = Counter(word1)\n",
    "\n",
    "print(count1)\n",
    "\n",
    "count2 = Counter(word2)\n",
    "\n",
    "print(count2)\n",
    "\n",
    "\n",
    "diff1 = (count1 - count1 & count2)\n",
    "\n",
    "print(diff1)\n",
    "\n",
    "diff2 =  (count2 - count2 & count1)\n",
    "\n",
    "print(diff2)\n",
    "\n",
    "print(diff1 | diff2)"
   ]
  },
  {
   "cell_type": "code",
   "execution_count": 248,
   "metadata": {},
   "outputs": [
    {
     "data": {
      "text/plain": [
       "Counter({'a': 1})"
      ]
     },
     "execution_count": 248,
     "metadata": {},
     "output_type": "execute_result"
    }
   ],
   "source": [
    "count1 - Counter()"
   ]
  },
  {
   "cell_type": "code",
   "execution_count": 249,
   "metadata": {},
   "outputs": [
    {
     "data": {
      "text/plain": [
       "Counter()"
      ]
     },
     "execution_count": 249,
     "metadata": {},
     "output_type": "execute_result"
    }
   ],
   "source": [
    "count1&count2"
   ]
  },
  {
   "cell_type": "code",
   "execution_count": 250,
   "metadata": {},
   "outputs": [
    {
     "data": {
      "text/plain": [
       "Counter({'b': 1})"
      ]
     },
     "execution_count": 250,
     "metadata": {},
     "output_type": "execute_result"
    }
   ],
   "source": [
    "diff"
   ]
  },
  {
   "cell_type": "code",
   "execution_count": 251,
   "metadata": {},
   "outputs": [
    {
     "data": {
      "text/plain": [
       "Counter({'a': 1})"
      ]
     },
     "execution_count": 251,
     "metadata": {},
     "output_type": "execute_result"
    }
   ],
   "source": [
    "count1"
   ]
  },
  {
   "cell_type": "code",
   "execution_count": 252,
   "metadata": {},
   "outputs": [
    {
     "data": {
      "text/plain": [
       "Counter({'b': 1})"
      ]
     },
     "execution_count": 252,
     "metadata": {},
     "output_type": "execute_result"
    }
   ],
   "source": [
    "count2"
   ]
  },
  {
   "cell_type": "code",
   "execution_count": 232,
   "metadata": {},
   "outputs": [
    {
     "data": {
      "text/plain": [
       "0"
      ]
     },
     "execution_count": 232,
     "metadata": {},
     "output_type": "execute_result"
    }
   ],
   "source": [
    "len(diff)"
   ]
  },
  {
   "cell_type": "code",
   "execution_count": 265,
   "metadata": {},
   "outputs": [
    {
     "name": "stdout",
     "output_type": "stream",
     "text": [
      "ks\n",
      "ksqvsyq\n",
      "False\n",
      "kss\n",
      "ksqvsyq\n",
      "False\n",
      "kss\n",
      "ks\n",
      "True\n",
      "czvh\n",
      "ksqvsyq\n",
      "False\n",
      "czvh\n",
      "ks\n",
      "False\n",
      "czvh\n",
      "kss\n",
      "False\n",
      "zczpzvdhx\n",
      "ksqvsyq\n",
      "False\n",
      "zczpzvdhx\n",
      "ks\n",
      "False\n",
      "zczpzvdhx\n",
      "kss\n",
      "False\n",
      "zczpzvdhx\n",
      "czvh\n",
      "False\n",
      "zczpzvh\n",
      "ksqvsyq\n",
      "False\n",
      "zczpzvh\n",
      "ks\n",
      "False\n",
      "zczpzvh\n",
      "kss\n",
      "False\n",
      "zczpzvh\n",
      "czvh\n",
      "False\n",
      "zczpzvh\n",
      "zczpzvdhx\n",
      "False\n",
      "zczpzvhx\n",
      "ksqvsyq\n",
      "False\n",
      "zczpzvhx\n",
      "ks\n",
      "False\n",
      "zczpzvhx\n",
      "kss\n",
      "False\n",
      "zczpzvhx\n",
      "czvh\n",
      "False\n",
      "zczpzvhx\n",
      "zczpzvdhx\n",
      "True\n",
      "zczpzvhx\n",
      "zczpzvh\n",
      "True\n",
      "zcpzvh\n",
      "ksqvsyq\n",
      "False\n",
      "zcpzvh\n",
      "ks\n",
      "False\n",
      "zcpzvh\n",
      "kss\n",
      "False\n",
      "zcpzvh\n",
      "czvh\n",
      "False\n",
      "zcpzvh\n",
      "zczpzvdhx\n",
      "False\n",
      "zcpzvh\n",
      "zczpzvh\n",
      "True\n",
      "zcpzvh\n",
      "zczpzvhx\n",
      "False\n",
      "zczvh\n",
      "ksqvsyq\n",
      "False\n",
      "zczvh\n",
      "ks\n",
      "False\n",
      "zczvh\n",
      "kss\n",
      "False\n",
      "zczvh\n",
      "czvh\n",
      "True\n",
      "zczvh\n",
      "zczpzvdhx\n",
      "False\n",
      "zczvh\n",
      "zczpzvh\n",
      "False\n",
      "zczvh\n",
      "zczpzvhx\n",
      "False\n",
      "zczvh\n",
      "zcpzvh\n",
      "True\n",
      "gr\n",
      "ksqvsyq\n",
      "False\n",
      "gr\n",
      "ks\n",
      "False\n",
      "gr\n",
      "kss\n",
      "False\n",
      "gr\n",
      "czvh\n",
      "False\n",
      "gr\n",
      "zczpzvdhx\n",
      "False\n",
      "gr\n",
      "zczpzvh\n",
      "False\n",
      "gr\n",
      "zczpzvhx\n",
      "False\n",
      "gr\n",
      "zcpzvh\n",
      "False\n",
      "gr\n",
      "zczvh\n",
      "False\n",
      "grukmj\n",
      "ksqvsyq\n",
      "False\n",
      "grukmj\n",
      "ks\n",
      "False\n",
      "grukmj\n",
      "kss\n",
      "False\n",
      "grukmj\n",
      "czvh\n",
      "False\n",
      "grukmj\n",
      "zczpzvdhx\n",
      "False\n",
      "grukmj\n",
      "zczpzvh\n",
      "False\n",
      "grukmj\n",
      "zczpzvhx\n",
      "False\n",
      "grukmj\n",
      "zcpzvh\n",
      "False\n",
      "grukmj\n",
      "zczvh\n",
      "False\n",
      "grukmj\n",
      "gr\n",
      "False\n",
      "ksqvsq\n",
      "ksqvsyq\n",
      "True\n",
      "ksqvsq\n",
      "ks\n",
      "False\n",
      "ksqvsq\n",
      "kss\n",
      "False\n",
      "ksqvsq\n",
      "czvh\n",
      "False\n",
      "ksqvsq\n",
      "zczpzvdhx\n",
      "False\n",
      "ksqvsq\n",
      "zczpzvh\n",
      "False\n",
      "ksqvsq\n",
      "zczpzvhx\n",
      "False\n",
      "ksqvsq\n",
      "zcpzvh\n",
      "False\n",
      "ksqvsq\n",
      "zczvh\n",
      "False\n",
      "ksqvsq\n",
      "gr\n",
      "False\n",
      "ksqvsq\n",
      "grukmj\n",
      "False\n",
      "gruj\n",
      "ksqvsyq\n",
      "False\n",
      "gruj\n",
      "ks\n",
      "False\n",
      "gruj\n",
      "kss\n",
      "False\n",
      "gruj\n",
      "czvh\n",
      "False\n",
      "gruj\n",
      "zczpzvdhx\n",
      "False\n",
      "gruj\n",
      "zczpzvh\n",
      "False\n",
      "gruj\n",
      "zczpzvhx\n",
      "False\n",
      "gruj\n",
      "zcpzvh\n",
      "False\n",
      "gruj\n",
      "zczvh\n",
      "False\n",
      "gruj\n",
      "gr\n",
      "False\n",
      "gruj\n",
      "grukmj\n",
      "False\n",
      "gruj\n",
      "ksqvsq\n",
      "False\n",
      "kssq\n",
      "ksqvsyq\n",
      "False\n",
      "kssq\n",
      "ks\n",
      "False\n",
      "kssq\n",
      "kss\n",
      "True\n",
      "kssq\n",
      "czvh\n",
      "False\n",
      "kssq\n",
      "zczpzvdhx\n",
      "False\n",
      "kssq\n",
      "zczpzvh\n",
      "False\n",
      "kssq\n",
      "zczpzvhx\n",
      "False\n",
      "kssq\n",
      "zcpzvh\n",
      "False\n",
      "kssq\n",
      "zczvh\n",
      "False\n",
      "kssq\n",
      "gr\n",
      "False\n",
      "kssq\n",
      "grukmj\n",
      "False\n",
      "kssq\n",
      "ksqvsq\n",
      "False\n",
      "kssq\n",
      "gruj\n",
      "False\n",
      "ksqsq\n",
      "ksqvsyq\n",
      "False\n",
      "ksqsq\n",
      "ks\n",
      "False\n",
      "ksqsq\n",
      "kss\n",
      "False\n",
      "ksqsq\n",
      "czvh\n",
      "False\n",
      "ksqsq\n",
      "zczpzvdhx\n",
      "False\n",
      "ksqsq\n",
      "zczpzvh\n",
      "False\n",
      "ksqsq\n",
      "zczpzvhx\n",
      "False\n",
      "ksqsq\n",
      "zcpzvh\n",
      "False\n",
      "ksqsq\n",
      "zczvh\n",
      "False\n",
      "ksqsq\n",
      "gr\n",
      "False\n",
      "ksqsq\n",
      "grukmj\n",
      "False\n",
      "ksqsq\n",
      "ksqvsq\n",
      "True\n",
      "ksqsq\n",
      "gruj\n",
      "False\n",
      "ksqsq\n",
      "kssq\n",
      "True\n",
      "grukkmj\n",
      "ksqvsyq\n",
      "False\n",
      "grukkmj\n",
      "ks\n",
      "False\n",
      "grukkmj\n",
      "kss\n",
      "False\n",
      "grukkmj\n",
      "czvh\n",
      "False\n",
      "grukkmj\n",
      "zczpzvdhx\n",
      "False\n",
      "grukkmj\n",
      "zczpzvh\n",
      "False\n",
      "grukkmj\n",
      "zczpzvhx\n",
      "False\n",
      "grukkmj\n",
      "zcpzvh\n",
      "False\n",
      "grukkmj\n",
      "zczvh\n",
      "False\n",
      "grukkmj\n",
      "gr\n",
      "False\n",
      "grukkmj\n",
      "grukmj\n",
      "True\n",
      "grukkmj\n",
      "ksqvsq\n",
      "False\n",
      "grukkmj\n",
      "gruj\n",
      "False\n",
      "grukkmj\n",
      "kssq\n",
      "False\n",
      "grukkmj\n",
      "ksqsq\n",
      "False\n",
      "grukj\n",
      "ksqvsyq\n",
      "False\n",
      "grukj\n",
      "ks\n",
      "False\n",
      "grukj\n",
      "kss\n",
      "False\n",
      "grukj\n",
      "czvh\n",
      "False\n",
      "grukj\n",
      "zczpzvdhx\n",
      "False\n",
      "grukj\n",
      "zczpzvh\n",
      "False\n",
      "grukj\n",
      "zczpzvhx\n",
      "False\n",
      "grukj\n",
      "zcpzvh\n",
      "False\n",
      "grukj\n",
      "zczvh\n",
      "False\n",
      "grukj\n",
      "gr\n",
      "False\n",
      "grukj\n",
      "grukmj\n",
      "True\n",
      "grukj\n",
      "ksqvsq\n",
      "False\n",
      "grukj\n",
      "gruj\n",
      "True\n",
      "grukj\n",
      "kssq\n",
      "False\n",
      "grukj\n",
      "ksqsq\n",
      "False\n",
      "grukj\n",
      "grukkmj\n",
      "False\n",
      "zczpzfvdhx\n",
      "ksqvsyq\n",
      "False\n",
      "zczpzfvdhx\n",
      "ks\n",
      "False\n",
      "zczpzfvdhx\n",
      "kss\n",
      "False\n",
      "zczpzfvdhx\n",
      "czvh\n",
      "False\n",
      "zczpzfvdhx\n",
      "zczpzvdhx\n",
      "True\n",
      "zczpzfvdhx\n",
      "zczpzvh\n",
      "False\n",
      "zczpzfvdhx\n",
      "zczpzvhx\n",
      "False\n",
      "zczpzfvdhx\n",
      "zcpzvh\n",
      "False\n",
      "zczpzfvdhx\n",
      "zczvh\n",
      "False\n",
      "zczpzfvdhx\n",
      "gr\n",
      "False\n",
      "zczpzfvdhx\n",
      "grukmj\n",
      "False\n",
      "zczpzfvdhx\n",
      "ksqvsq\n",
      "False\n",
      "zczpzfvdhx\n",
      "gruj\n",
      "False\n",
      "zczpzfvdhx\n",
      "kssq\n",
      "False\n",
      "zczpzfvdhx\n",
      "ksqsq\n",
      "False\n",
      "zczpzfvdhx\n",
      "grukkmj\n",
      "False\n",
      "zczpzfvdhx\n",
      "grukj\n",
      "False\n",
      "gru\n",
      "ksqvsyq\n",
      "False\n",
      "gru\n",
      "ks\n",
      "False\n",
      "gru\n",
      "kss\n",
      "False\n",
      "gru\n",
      "czvh\n",
      "False\n",
      "gru\n",
      "zczpzvdhx\n",
      "False\n",
      "gru\n",
      "zczpzvh\n",
      "False\n",
      "gru\n",
      "zczpzvhx\n",
      "False\n",
      "gru\n",
      "zcpzvh\n",
      "False\n",
      "gru\n",
      "zczvh\n",
      "False\n",
      "gru\n",
      "gr\n",
      "True\n",
      "gru\n",
      "grukmj\n",
      "False\n",
      "gru\n",
      "ksqvsq\n",
      "False\n",
      "gru\n",
      "gruj\n",
      "True\n",
      "gru\n",
      "kssq\n",
      "False\n",
      "gru\n",
      "ksqsq\n",
      "False\n",
      "gru\n",
      "grukkmj\n",
      "False\n",
      "gru\n",
      "grukj\n",
      "False\n",
      "gru\n",
      "zczpzfvdhx\n",
      "False\n",
      "[1, 1, 2, 1, 1, 1, 2, 2, 3, 1, 1, 2, 1, 3, 4, 2, 2, 2, 2]\n"
     ]
    },
    {
     "data": {
      "text/plain": [
       "4"
      ]
     },
     "execution_count": 265,
     "metadata": {},
     "output_type": "execute_result"
    }
   ],
   "source": [
    "words = [\"ksqvsyq\",\"ks\",\"kss\",\"czvh\",\"zczpzvdhx\",\"zczpzvh\",\"zczpzvhx\",\"zcpzvh\",\"zczvh\",\"gr\",\"grukmj\",\"ksqvsq\",\"gruj\",\"kssq\",\"ksqsq\",\"grukkmj\",\"grukj\",\"zczpzfvdhx\",\"gru\"]\n",
    "\n",
    "longestStrChain(words)"
   ]
  },
  {
   "cell_type": "markdown",
   "metadata": {},
   "source": [
    "## 1342. Number of Steps to Reduc a Number to Zero\n",
    "\n",
    "Given a non-negative integer num, return the number of steps to reduce it to zero. If the current number is even, you have to divide it by 2, otherwise, you have to substract 1 from it. \n",
    "\n",
    "**Example 1:**\n",
    "\n",
    "Input: num = 14\n",
    "\n",
    "Output: 6\n",
    "\n",
    "Explanation:\n",
    "\n",
    "* Step 1) 14 is even; divided by 2 and obtain 7. \n",
    "\n",
    "* Step 2) 7 is odd; substract 1 and obtain 6. \n",
    "\n",
    "* Step 3) 6 is even; divide by 2 and obtain 3. \n",
    "\n",
    "* Step 4) 3 is odd; substract 1 and obtain 2. \n",
    "\n",
    "* Step 5) 2 is even; divide by 2 and obtain 1.\n",
    "\n",
    "* Step 6) 1 is odd; substract 1 and obtain 0. "
   ]
  },
  {
   "cell_type": "code",
   "execution_count": 1,
   "metadata": {},
   "outputs": [],
   "source": [
    "def numberOfSteps(num: int) -> int:\n",
    "    \n",
    "    \n",
    "    if num == 0:\n",
    "        return 0\n",
    "    if num == 1:\n",
    "        return 1 \n",
    "    \n",
    "    if num % 2 == 0:\n",
    "        return 1 + numberOfSteps(num//2)\n",
    "    if num % 2 == 1:\n",
    "        return 1 + numberOfSteps(num -1)\n",
    "    \n",
    "    \n",
    "    \n",
    "    "
   ]
  },
  {
   "cell_type": "code",
   "execution_count": 2,
   "metadata": {},
   "outputs": [
    {
     "data": {
      "text/plain": [
       "6"
      ]
     },
     "execution_count": 2,
     "metadata": {},
     "output_type": "execute_result"
    }
   ],
   "source": [
    "num = 14\n",
    "\n",
    "numberOfSteps(num)"
   ]
  },
  {
   "cell_type": "code",
   "execution_count": 3,
   "metadata": {},
   "outputs": [
    {
     "data": {
      "text/plain": [
       "4"
      ]
     },
     "execution_count": 3,
     "metadata": {},
     "output_type": "execute_result"
    }
   ],
   "source": [
    "num = 8\n",
    "\n",
    "numberOfSteps(num)"
   ]
  },
  {
   "cell_type": "markdown",
   "metadata": {},
   "source": [
    "Time Complexity: O(log(num)\n",
    "\n",
    "Space Complexity: O(1)"
   ]
  },
  {
   "cell_type": "markdown",
   "metadata": {},
   "source": [
    "## 1351. Count Negative Numbers in a Sorted Matrix \n",
    "\n",
    "Given a m*n matrix grid which is sorted in non-increasing order both row-wise and column-wise. \n",
    "\n",
    "Return the number of negative numbers in grid. \n",
    "\n",
    "**Example 1:**\n",
    "\n",
    "Input: grid = [\n",
    "    [4, 3, 2, -1],\n",
    "    [3, 2, 1, -1],\n",
    "    [1, 1, -1, -2],\n",
    "    [-1, -1, -2, -3]]\n",
    "\n",
    "Output: 8 \n",
    "\n",
    "Explanation: There are 8 negatives number in the matrix. "
   ]
  },
  {
   "cell_type": "code",
   "execution_count": 23,
   "metadata": {},
   "outputs": [],
   "source": [
    "grid = [\n",
    "    [4,3,2,-1],\n",
    "    [3,2,1,-1],\n",
    "    [1,1,-1,-2],\n",
    "    [-1,-1,-2,-3]\n",
    "]"
   ]
  },
  {
   "cell_type": "code",
   "execution_count": 7,
   "metadata": {},
   "outputs": [
    {
     "data": {
      "text/plain": [
       "6"
      ]
     },
     "execution_count": 7,
     "metadata": {},
     "output_type": "execute_result"
    }
   ],
   "source": [
    "5 + (grid[2][3] < 0)"
   ]
  },
  {
   "cell_type": "code",
   "execution_count": 8,
   "metadata": {},
   "outputs": [],
   "source": [
    "grid = [\n",
    "    [4,3,2,-1],\n",
    "    [3,2,1,-1],\n",
    "    [1,1,-1,-2]\n",
    "]"
   ]
  },
  {
   "cell_type": "code",
   "execution_count": 9,
   "metadata": {},
   "outputs": [],
   "source": [
    "n = len(grid)\n",
    "\n",
    "m = len(grid[0])"
   ]
  },
  {
   "cell_type": "code",
   "execution_count": 10,
   "metadata": {},
   "outputs": [
    {
     "data": {
      "text/plain": [
       "3"
      ]
     },
     "execution_count": 10,
     "metadata": {},
     "output_type": "execute_result"
    }
   ],
   "source": [
    "n"
   ]
  },
  {
   "cell_type": "code",
   "execution_count": 11,
   "metadata": {},
   "outputs": [],
   "source": [
    "dp = [[0 for _ in range(m)] for _ in range(n)]"
   ]
  },
  {
   "cell_type": "code",
   "execution_count": 12,
   "metadata": {},
   "outputs": [
    {
     "data": {
      "text/plain": [
       "[[0, 0, 0, 0], [0, 0, 0, 0], [0, 0, 0, 0]]"
      ]
     },
     "execution_count": 12,
     "metadata": {},
     "output_type": "execute_result"
    }
   ],
   "source": [
    "dp"
   ]
  },
  {
   "cell_type": "code",
   "execution_count": 17,
   "metadata": {},
   "outputs": [],
   "source": [
    "dp[0][0] = int(grid[0][0] >0)"
   ]
  },
  {
   "cell_type": "code",
   "execution_count": 18,
   "metadata": {},
   "outputs": [
    {
     "data": {
      "text/plain": [
       "[[1, 0, 0, 0], [0, 0, 0, 0], [0, 0, 0, 0]]"
      ]
     },
     "execution_count": 18,
     "metadata": {},
     "output_type": "execute_result"
    }
   ],
   "source": [
    "dp"
   ]
  },
  {
   "cell_type": "code",
   "execution_count": 26,
   "metadata": {},
   "outputs": [],
   "source": [
    "def countNegative(grid:list) -> int:\n",
    "    \n",
    "    if not grid:\n",
    "        return 0 \n",
    "    \n",
    "    n = len(grid)\n",
    "    m = len(grid[0])\n",
    "    \n",
    "    if m == 0:\n",
    "        return 0 \n",
    "    \n",
    "    \n",
    "    dp = [[0 for _ in range(m)] for _ in range(n)]\n",
    "    \n",
    "    dp[0][0] = int(grid[0][0] < 0)\n",
    "    \n",
    "    for i in range(1,m):\n",
    "        dp[0][i] = dp[0][i-1] + int(grid[0][i] < 0)\n",
    "    for j in range(1,n):\n",
    "        dp[j][0] = dp[j-1][0] + int(grid[j][0] < 0)\n",
    "        \n",
    "    for i in range(1,m):\n",
    "        for j in range(1,n):\n",
    "            dp[j][i] = dp[j-1][i] + dp[j][i-1] - dp[j-1][i-1] + int(grid[j][i] <0)\n",
    "            \n",
    "    \n",
    "    return dp[-1][-1]\n",
    "        \n",
    "    \n",
    "    \n",
    "    \n",
    "    "
   ]
  },
  {
   "cell_type": "code",
   "execution_count": 27,
   "metadata": {},
   "outputs": [
    {
     "data": {
      "text/plain": [
       "8"
      ]
     },
     "execution_count": 27,
     "metadata": {},
     "output_type": "execute_result"
    }
   ],
   "source": [
    "countNegative(grid)"
   ]
  },
  {
   "cell_type": "code",
   "execution_count": 28,
   "metadata": {},
   "outputs": [
    {
     "data": {
      "text/plain": [
       "0"
      ]
     },
     "execution_count": 28,
     "metadata": {},
     "output_type": "execute_result"
    }
   ],
   "source": [
    "grid = [[3,2], [1,0]]\n",
    "\n",
    "countNegative(grid)"
   ]
  },
  {
   "cell_type": "code",
   "execution_count": 29,
   "metadata": {},
   "outputs": [
    {
     "data": {
      "text/plain": [
       "3"
      ]
     },
     "execution_count": 29,
     "metadata": {},
     "output_type": "execute_result"
    }
   ],
   "source": [
    "grid = [[1, -1], [-1, -1]]\n",
    "\n",
    "countNegative(grid)"
   ]
  },
  {
   "cell_type": "code",
   "execution_count": 30,
   "metadata": {},
   "outputs": [
    {
     "data": {
      "text/plain": [
       "1"
      ]
     },
     "execution_count": 30,
     "metadata": {},
     "output_type": "execute_result"
    }
   ],
   "source": [
    "grid = [[-1]]\n",
    "\n",
    "countNegative(grid)"
   ]
  },
  {
   "cell_type": "code",
   "execution_count": 31,
   "metadata": {},
   "outputs": [
    {
     "data": {
      "text/plain": [
       "0"
      ]
     },
     "execution_count": 31,
     "metadata": {},
     "output_type": "execute_result"
    }
   ],
   "source": [
    "grid = [[]]\n",
    "\n",
    "countNegative(grid)"
   ]
  },
  {
   "cell_type": "code",
   "execution_count": 32,
   "metadata": {},
   "outputs": [
    {
     "data": {
      "text/plain": [
       "0"
      ]
     },
     "execution_count": 32,
     "metadata": {},
     "output_type": "execute_result"
    }
   ],
   "source": [
    "grid = []\n",
    "countNegative(grid)"
   ]
  },
  {
   "cell_type": "markdown",
   "metadata": {},
   "source": [
    "Time Complexity: O(mn)\n",
    "\n",
    "Space Complexity: O(mn)"
   ]
  },
  {
   "cell_type": "markdown",
   "metadata": {},
   "source": [
    "## 695. Max Area of Island\n",
    "\n",
    "Given a non-empty 2D array grid of 0's and 1's, an island is a group of 1's (representing land) connected 4-directionally (horizontal or vertical.) You may assume all four edges of the grid are surrounded by water. \n",
    "\n",
    "Find the maximum area of an island in the given 2D array. (If there is no island, the maximum area is 0.)\n",
    "\n",
    "Example 1:\n",
    "\n",
    "[[0,0,1,0,0,0,0,1,0,0,0,0,0],\n",
    " [0,0,0,0,0,0,0,1,1,1,0,0,0],\n",
    " [0,1,1,0,1,0,0,0,0,0,0,0,0],\n",
    " [0,1,0,0,1,1,0,0,1,0,1,0,0],\n",
    " [0,1,0,0,1,1,0,0,1,1,1,0,0],\n",
    " [0,0,0,0,0,0,0,0,0,0,1,0,0],\n",
    " [0,0,0,0,0,0,0,1,1,1,0,0,0],\n",
    " [0,0,0,0,0,0,0,1,1,0,0,0,0]]\n",
    "Given the above grid, return 6. Note the answer is not 11, because the island must be connected 4-directionally.\n",
    "Example 2:\n",
    "\n",
    "[[0,0,0,0,0,0,0,0]]\n",
    "Given the above grid, return 0."
   ]
  },
  {
   "cell_type": "code",
   "execution_count": null,
   "metadata": {},
   "outputs": [],
   "source": [
    "def maxAreaOfIsland(grid: list) -> int:\n",
    "    \n",
    "    if not grid:\n",
    "        return 0 \n",
    "    "
   ]
  }
 ],
 "metadata": {
  "kernelspec": {
   "display_name": "Python 3",
   "language": "python",
   "name": "python3"
  },
  "language_info": {
   "codemirror_mode": {
    "name": "ipython",
    "version": 3
   },
   "file_extension": ".py",
   "mimetype": "text/x-python",
   "name": "python",
   "nbconvert_exporter": "python",
   "pygments_lexer": "ipython3",
   "version": "3.7.4"
  }
 },
 "nbformat": 4,
 "nbformat_minor": 2
}
