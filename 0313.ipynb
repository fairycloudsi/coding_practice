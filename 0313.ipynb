{
 "cells": [
  {
   "cell_type": "markdown",
   "metadata": {},
   "source": [
    "## 309. Best Time to Buy and Sell Stock with Cooldown \n",
    "\n",
    "Say you have an array for which the ith element is the price of a given stock on day i. \n",
    "\n",
    "Design an algorithm to find the maximum profit. You may complete as many transactions as you like (ie, buy one and sell one share of the stock multiple times) with the following restrictions:\n",
    "\n",
    "* You may not engage in multiple transcations at the same time (ie, you must sell the stock before you buy again).\n",
    "\n",
    "* After you sell your stock, you cannot buy stock on next day. (ie, cooldown 1 day)\n",
    "\n",
    "**Example:**\n",
    "\n",
    "Input: [1, 2, 3, 0, 2]\n",
    "\n",
    "Output: 3\n",
    "\n",
    "Explanation: transcations = [buy, sell, cooldown, buy, sell]"
   ]
  },
  {
   "cell_type": "code",
   "execution_count": 5,
   "metadata": {},
   "outputs": [],
   "source": [
    "def maxProfit(prices: list) -> int:\n",
    "    sold = 0 \n",
    "    rest = 0 \n",
    "    hold = -float('inf')\n",
    "    \n",
    "    for const in prices:\n",
    "        pre_sold = sold\n",
    "        hold = max(hold, rest - const)\n",
    "        sold = hold + const\n",
    "        rest = max(rest, pre_sold)\n",
    "    \n",
    "    return max(rest, sold)"
   ]
  },
  {
   "cell_type": "code",
   "execution_count": 6,
   "metadata": {},
   "outputs": [
    {
     "data": {
      "text/plain": [
       "3"
      ]
     },
     "execution_count": 6,
     "metadata": {},
     "output_type": "execute_result"
    }
   ],
   "source": [
    "prices = [1, 2, 3, 0, 2]\n",
    "\n",
    "maxProfit(prices)"
   ]
  },
  {
   "cell_type": "markdown",
   "metadata": {},
   "source": [
    "Time Complexity: O(n)\n",
    "\n",
    "Space Complexity: O(1)"
   ]
  },
  {
   "cell_type": "markdown",
   "metadata": {},
   "source": [
    "## 740. Delete and Earn\n",
    "\n",
    "Given an array nums of integers, you can perform operations on the array. \n",
    "\n",
    "In each operation, you pick any nums[i] and delete it to earn nums[i] points. After, you must delete every element equal to nums[i] -1 or nums[i]+1. \n",
    "\n",
    "You start with 0 points. Return the maximum number of points you can earn by applyng such operations. \n",
    "\n",
    "**Example 1:**\n",
    "\n",
    "Input: nums = [3, 4, 2]\n",
    "\n",
    "Output: 6 \n",
    "\n",
    "Explanation: \n",
    "\n",
    "Delete 4 to earn 4 points, consequently 3 is also deleted. \n",
    "\n",
    "Then, delete 2 to earn 2 points. 6 total points are earned. \n",
    "\n",
    "**Exampke 2:**\n",
    "\n",
    "Input: nums = [2, 2, 3, 3, 3, 4]\n",
    "\n",
    "Output: 9 \n",
    "\n",
    "Explanation:\n",
    "\n",
    "Delete 3 to earn 3 points, deleting both 2's and the 4. \n",
    "\n",
    "Then, delete 3 again to earn 3 points, and 3 again to earn 3 points. \n",
    "\n",
    "9 total points are earned. "
   ]
  },
  {
   "cell_type": "code",
   "execution_count": 17,
   "metadata": {},
   "outputs": [],
   "source": [
    "def deleteAndEarn(nums: list) -> int: \n",
    "    \n",
    "    if not nums:\n",
    "        return 0 \n",
    "    \n",
    "    r = max(nums)\n",
    "    \n",
    "    points = [0 for _ in range(r+1)]\n",
    "    \n",
    "    for num in nums:\n",
    "        points[num] += num\n",
    "        \n",
    "    def rob(nums):\n",
    "        dp2 = 0 \n",
    "        dp1 = 0 \n",
    "        for i in range(len(nums)):\n",
    "            dp = max(dp2+ nums[i], dp1)\n",
    "            dp2 = dp1\n",
    "            dp1 = dp\n",
    "        return dp\n",
    "    \n",
    "    print(points)\n",
    "    \n",
    "    return rob(points)"
   ]
  },
  {
   "cell_type": "code",
   "execution_count": 18,
   "metadata": {},
   "outputs": [
    {
     "name": "stdout",
     "output_type": "stream",
     "text": [
      "[0, 0, 2, 3, 4]\n"
     ]
    },
    {
     "data": {
      "text/plain": [
       "6"
      ]
     },
     "execution_count": 18,
     "metadata": {},
     "output_type": "execute_result"
    }
   ],
   "source": [
    "nums = [3, 4, 2]\n",
    "\n",
    "deleteAndEarn(nums)"
   ]
  },
  {
   "cell_type": "code",
   "execution_count": 19,
   "metadata": {},
   "outputs": [
    {
     "name": "stdout",
     "output_type": "stream",
     "text": [
      "[0, 0, 4, 9, 4]\n"
     ]
    },
    {
     "data": {
      "text/plain": [
       "9"
      ]
     },
     "execution_count": 19,
     "metadata": {},
     "output_type": "execute_result"
    }
   ],
   "source": [
    "nums = [2,2,3,3,3,4]\n",
    "\n",
    "deleteAndEarn(nums)"
   ]
  },
  {
   "cell_type": "markdown",
   "metadata": {},
   "source": [
    "## 140. Word Break II \n",
    "\n",
    "Given a non-empty string s and a dictionary wordDict containing a list of non-empty words, add spaces in s to construct a sentence where each word is a valid dictionary word. Return all such possible sentences. \n",
    "\n",
    "**Note:**\n",
    "\n",
    "* The same word in the dictionary may be reused multiple times in the segmentation. \n",
    "\n",
    "* You may assume the dictionary does not contain duplicate words. \n",
    "\n",
    "**Example 1:**\n",
    "\n",
    "Input: \n",
    "\n",
    "s = \"catsanddog\"\n",
    "\n",
    "wordDict = [\"cat\", \"cats\", \"and\", \"sand\", \"dog\"]\n",
    "\n",
    "Output: \n",
    "[\n",
    "    \"cats and dog\"\n",
    "    \"cat sand dog\"\n",
    "    \n",
    "]\n",
    "\n",
    "**Example 2:**\n",
    "\n",
    "Input: \n",
    "\n",
    "s = \"pineapplepenapple\"\n",
    "\n",
    "wordDict = [\"apple\", \"pen\", \"applepen\", \"pine\", \"pineapple\"]\n",
    "\n",
    "Output: \n",
    "[\n",
    "    \"pine apple pen apple\",\n",
    "    \"pineapple pen apple\",\n",
    "    \"pine applepen apple\"\n",
    "]"
   ]
  }
 ],
 "metadata": {
  "kernelspec": {
   "display_name": "Python 3",
   "language": "python",
   "name": "python3"
  },
  "language_info": {
   "codemirror_mode": {
    "name": "ipython",
    "version": 3
   },
   "file_extension": ".py",
   "mimetype": "text/x-python",
   "name": "python",
   "nbconvert_exporter": "python",
   "pygments_lexer": "ipython3",
   "version": "3.7.4"
  }
 },
 "nbformat": 4,
 "nbformat_minor": 2
}
