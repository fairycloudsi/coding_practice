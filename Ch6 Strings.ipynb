{
 "cells": [
  {
   "cell_type": "markdown",
   "metadata": {},
   "source": [
    "## Strings boot camp\n",
    "\n",
    "A palindromic string is one which reads the same when it is reversed. The program below checks whether a string is palindromic. Rather than creating a new string for the reverse of the input string, it traverses the input string forwards and backwards, thereby saving space. Notice how it uniformly handles even and odd length. "
   ]
  },
  {
   "cell_type": "code",
   "execution_count": 1,
   "metadata": {},
   "outputs": [],
   "source": [
    "def is_palindromic(s: str) -> bool:\n",
    "    # Notice that s[~i] for i in [0,len(s) -1] is s[-(i+1)].\n",
    "    return all(s[i] == s[~i] for i in range(len(s) // 2))"
   ]
  },
  {
   "cell_type": "code",
   "execution_count": 2,
   "metadata": {},
   "outputs": [
    {
     "data": {
      "text/plain": [
       "False"
      ]
     },
     "execution_count": 2,
     "metadata": {},
     "output_type": "execute_result"
    }
   ],
   "source": [
    "s = 'abcde'\n",
    "is_palindromic(s)"
   ]
  },
  {
   "cell_type": "code",
   "execution_count": 3,
   "metadata": {},
   "outputs": [
    {
     "data": {
      "text/plain": [
       "True"
      ]
     },
     "execution_count": 3,
     "metadata": {},
     "output_type": "execute_result"
    }
   ],
   "source": [
    "s = 'abcba'\n",
    "is_palindromic(s)"
   ]
  },
  {
   "cell_type": "markdown",
   "metadata": {},
   "source": [
    "Time Complexity: $O(n)$. \n",
    "\n",
    "Space Complexity: $O(1)$. "
   ]
  },
  {
   "cell_type": "code",
   "execution_count": 4,
   "metadata": {},
   "outputs": [
    {
     "data": {
      "text/plain": [
       "['Euclid', 'Axiom 5', 'Parallel Lines']"
      ]
     },
     "execution_count": 4,
     "metadata": {},
     "output_type": "execute_result"
    }
   ],
   "source": [
    "'Euclid,Axiom 5,Parallel Lines'.split(',')"
   ]
  },
  {
   "cell_type": "code",
   "execution_count": 5,
   "metadata": {},
   "outputs": [
    {
     "data": {
      "text/plain": [
       "'010101'"
      ]
     },
     "execution_count": 5,
     "metadata": {},
     "output_type": "execute_result"
    }
   ],
   "source": [
    "3* '01'"
   ]
  },
  {
   "cell_type": "code",
   "execution_count": 6,
   "metadata": {},
   "outputs": [
    {
     "data": {
      "text/plain": [
       "'Gauss,Prince of Mathematicians,1777-1855'"
      ]
     },
     "execution_count": 6,
     "metadata": {},
     "output_type": "execute_result"
    }
   ],
   "source": [
    "','.join(('Gauss', 'Prince of Mathematicians', '1777-1855'))"
   ]
  },
  {
   "cell_type": "code",
   "execution_count": 8,
   "metadata": {},
   "outputs": [
    {
     "data": {
      "text/plain": [
       "'abtrfejis'"
      ]
     },
     "execution_count": 8,
     "metadata": {},
     "output_type": "execute_result"
    }
   ],
   "source": [
    "s = 'ABTRFejis'\n",
    "s.lower()"
   ]
  },
  {
   "cell_type": "code",
   "execution_count": 9,
   "metadata": {},
   "outputs": [
    {
     "data": {
      "text/plain": [
       "'Name Archimedes, Rank 3'"
      ]
     },
     "execution_count": 9,
     "metadata": {},
     "output_type": "execute_result"
    }
   ],
   "source": [
    "'Name {name}, Rank {rank}'.format(name = 'Archimedes', rank = 3)"
   ]
  },
  {
   "cell_type": "markdown",
   "metadata": {},
   "source": [
    "**String is IMMUTABLE,** i.e. the need to allocate a new string when concatenating immutable strings. **Alternatives** to immutable strings, e.g., a list in Python. \n",
    "\n",
    "Updating a mutable string from the front is slow, to see if it's possible to write values from the back. "
   ]
  },
  {
   "cell_type": "markdown",
   "metadata": {},
   "source": [
    "## 6.1 Intervonvert strings and integers \n",
    "\n",
    "Implement an integer to string conversion function, and a string to integer conversion function."
   ]
  },
  {
   "cell_type": "code",
   "execution_count": 17,
   "metadata": {},
   "outputs": [
    {
     "data": {
      "text/plain": [
       "'\\x05'"
      ]
     },
     "execution_count": 17,
     "metadata": {},
     "output_type": "execute_result"
    }
   ],
   "source": [
    "chr(5)"
   ]
  },
  {
   "cell_type": "code",
   "execution_count": 18,
   "metadata": {},
   "outputs": [
    {
     "data": {
      "text/plain": [
       "'5'"
      ]
     },
     "execution_count": 18,
     "metadata": {},
     "output_type": "execute_result"
    }
   ],
   "source": [
    "chr(ord('0') + 5)"
   ]
  },
  {
   "cell_type": "code",
   "execution_count": 21,
   "metadata": {},
   "outputs": [
    {
     "data": {
      "text/plain": [
       "3"
      ]
     },
     "execution_count": 21,
     "metadata": {},
     "output_type": "execute_result"
    }
   ],
   "source": [
    "3%10"
   ]
  },
  {
   "cell_type": "code",
   "execution_count": 31,
   "metadata": {},
   "outputs": [],
   "source": [
    "def int_to_string(x: int) -> str:\n",
    "    is_negative = False\n",
    "    if x <0:\n",
    "        x, is_negative = -x, True\n",
    "    s = []\n",
    "    while True:\n",
    "        s.append(chr(ord('0')  + x%10))\n",
    "        x //=10\n",
    "        if x == 0:\n",
    "            break\n",
    "            \n",
    "    # Adds negative sign back if it_negative\n",
    "    return ('-' if is_negative else '') +''.join(reversed(s))"
   ]
  },
  {
   "cell_type": "code",
   "execution_count": 32,
   "metadata": {},
   "outputs": [
    {
     "data": {
      "text/plain": [
       "'-7849573738'"
      ]
     },
     "execution_count": 32,
     "metadata": {},
     "output_type": "execute_result"
    }
   ],
   "source": [
    "x = -7849573738\n",
    "int_to_string(x)"
   ]
  },
  {
   "cell_type": "code",
   "execution_count": 45,
   "metadata": {},
   "outputs": [
    {
     "data": {
      "text/plain": [
       "2"
      ]
     },
     "execution_count": 45,
     "metadata": {},
     "output_type": "execute_result"
    }
   ],
   "source": [
    "import string\n",
    "s = '123'\n",
    "\n",
    "string.digits.index(s[1])\n"
   ]
  },
  {
   "cell_type": "code",
   "execution_count": 46,
   "metadata": {},
   "outputs": [],
   "source": [
    "def string_to_int(s: str) -> int:\n",
    "    x = 0\n",
    "    if s[0] == '-':\n",
    "        for i in range(1,len(s)):\n",
    "            x = x*10 + string.digits.index(s[i])\n",
    "        x = -x \n",
    "    else:  \n",
    "        for i in range(len(s)):\n",
    "            x = x*10 + string.digits.index(s[i])\n",
    "    return x "
   ]
  },
  {
   "cell_type": "code",
   "execution_count": 47,
   "metadata": {},
   "outputs": [
    {
     "data": {
      "text/plain": [
       "123"
      ]
     },
     "execution_count": 47,
     "metadata": {},
     "output_type": "execute_result"
    }
   ],
   "source": [
    "string_to_int(s)"
   ]
  },
  {
   "cell_type": "code",
   "execution_count": 48,
   "metadata": {},
   "outputs": [
    {
     "data": {
      "text/plain": [
       "674959683"
      ]
     },
     "execution_count": 48,
     "metadata": {},
     "output_type": "execute_result"
    }
   ],
   "source": [
    "s = '674959683'\n",
    "string_to_int(s)"
   ]
  },
  {
   "cell_type": "code",
   "execution_count": 49,
   "metadata": {},
   "outputs": [
    {
     "data": {
      "text/plain": [
       "-384589594783"
      ]
     },
     "execution_count": 49,
     "metadata": {},
     "output_type": "execute_result"
    }
   ],
   "source": [
    "s = '-384589594783'\n",
    "string_to_int(s)"
   ]
  },
  {
   "cell_type": "markdown",
   "metadata": {},
   "source": [
    "Time Complexity $O(n)$.\n",
    "\n",
    "Space Complexity $O(n)$."
   ]
  },
  {
   "cell_type": "markdown",
   "metadata": {},
   "source": [
    "## 6.2 Base conversion \n",
    "\n",
    "The base $b$ number system generalizes the decimal number system: the string \"$a_{k-1}a_{k-2}\\cdots a_1 a_0$\", where $0 \\leq a_i < b$, denotes in base-$b$ the integer $a_0 \\times b^0 + a_1 \\times b^1 + a_2 \\times b^2 + \\cdots a_{k-1} \\times b^{k-1}$. \n",
    "\n",
    "Write a program that performs base conversion. The input is a string, an integer $b_1$, and anohter integer $b_2$. The string represents an integer in base $b_1$. The output should be the string representing the integer in base $b_2$. Assume $2 \\leq b_1, b_2 \\leq 16$. Use 'A' to represent $10$, 'B' to represent $11$, \\cdots, $F$ to represent $15$. "
   ]
  },
  {
   "cell_type": "code",
   "execution_count": 53,
   "metadata": {},
   "outputs": [],
   "source": [
    "import functools"
   ]
  },
  {
   "cell_type": "code",
   "execution_count": 51,
   "metadata": {},
   "outputs": [],
   "source": [
    "def convert_base(num_as_string: str,b1: int,b2: int) -> str:\n",
    "    # calculate the true value in base 10 \n",
    "    def construct_from_base(num_as_int, base):\n",
    "        return ('' if num_as_int == 0 else\n",
    "                   construct_from_base(num_as_int //base, base) + \n",
    "                   string.hexdigits[num_as_int % base].upper())\n",
    "    \n",
    "    is_negative = num_as_string[0] == '-'\n",
    "    num_as_int = functools.reduce(\n",
    "        lambda x, c: x*b1 + string.hexdigits.index(c.lower()),\n",
    "        num_as_string[is_negative:], 0)\n",
    "    return ('-' if is_negative else '') + ('0' if num_as_int == 0 else\n",
    "                                          construct_from_base(num_as_int, b2))"
   ]
  },
  {
   "cell_type": "code",
   "execution_count": 54,
   "metadata": {},
   "outputs": [
    {
     "data": {
      "text/plain": [
       "'1A7'"
      ]
     },
     "execution_count": 54,
     "metadata": {},
     "output_type": "execute_result"
    }
   ],
   "source": [
    "num_as_string = '615'\n",
    "b1 = 7\n",
    "b2 = 13\n",
    "convert_base(num_as_string ,b1 ,b2)"
   ]
  },
  {
   "cell_type": "markdown",
   "metadata": {},
   "source": [
    "Time Complexity is $O(n( 1+ \\log_{b1}(b2)))$, where $n$ is the length of $s$. First we perform $n$ multiply-and-adds to get $x$ from $s$. Then we perform $\\log_{b2}(x)$ multiply and adds to get the result. $x \\leq b1^n$ and $\\log_{b2}(b1^n) = n \\log_{b2}(b1).$"
   ]
  },
  {
   "cell_type": "markdown",
   "metadata": {},
   "source": [
    "## 6.3 Compute the spreadsheet column encoding \n",
    "\n",
    "Implement a function that converts a spreadsheet column id to the corresponding integer, with \"A\" corresponding to $1$. For example, return 4 for 'D', 27 for 'AA', 702 for 'ZZ', etc. How would you test your code?"
   ]
  },
  {
   "cell_type": "markdown",
   "metadata": {},
   "source": [
    "**Sol:** Specifically, this problem is basically the problem of converting a string representing a base-26 number to the corresponding integer, except that \"A\" corresponds to 1 not 0. "
   ]
  },
  {
   "cell_type": "code",
   "execution_count": 55,
   "metadata": {},
   "outputs": [],
   "source": [
    "def ss_decode_col_id(col:str) -> int:\n",
    "    x = 0\n",
    "    for c in col:\n",
    "        x = x*26 + ord(c) - ord('A') + 1\n",
    "    return x\n",
    "        \n",
    "        "
   ]
  },
  {
   "cell_type": "code",
   "execution_count": 56,
   "metadata": {},
   "outputs": [
    {
     "data": {
      "text/plain": [
       "27"
      ]
     },
     "execution_count": 56,
     "metadata": {},
     "output_type": "execute_result"
    }
   ],
   "source": [
    "col = 'AA'\n",
    "ss_decode_col_id(col)"
   ]
  },
  {
   "cell_type": "code",
   "execution_count": 57,
   "metadata": {},
   "outputs": [
    {
     "data": {
      "text/plain": [
       "18278"
      ]
     },
     "execution_count": 57,
     "metadata": {},
     "output_type": "execute_result"
    }
   ],
   "source": [
    "col = 'ZZZ'\n",
    "ss_decode_col_id(col)"
   ]
  },
  {
   "cell_type": "code",
   "execution_count": 58,
   "metadata": {},
   "outputs": [
    {
     "data": {
      "text/plain": [
       "702"
      ]
     },
     "execution_count": 58,
     "metadata": {},
     "output_type": "execute_result"
    }
   ],
   "source": [
    "col = 'ZZ'\n",
    "ss_decode_col_id(col)"
   ]
  },
  {
   "cell_type": "code",
   "execution_count": 59,
   "metadata": {},
   "outputs": [
    {
     "data": {
      "text/plain": [
       "2"
      ]
     },
     "execution_count": 59,
     "metadata": {},
     "output_type": "execute_result"
    }
   ],
   "source": [
    "col = 'B'\n",
    "ss_decode_col_id(col)"
   ]
  },
  {
   "cell_type": "markdown",
   "metadata": {},
   "source": [
    "Good test cases are around boundaries, e.g., \"A\", \"B\", \"Y\", \"Z\", \"AA\", \"AB\", \"ZY\", \"ZZ\",and some random strings, e.g. \"M\", \"BZ\", \"CCC\". \n",
    "\n",
    "Time Complexity O(n)."
   ]
  },
  {
   "cell_type": "markdown",
   "metadata": {},
   "source": [
    "**Variant:** Implement a function that converts an integer to the spreadsheet column id. For example, you should return \"D\" for 4, \"AA\" for 27 and \"ZZ\" for 702."
   ]
  },
  {
   "cell_type": "code",
   "execution_count": 90,
   "metadata": {},
   "outputs": [],
   "source": [
    "def ss_encode_col_id(x:int) -> str:\n",
    "    s = []\n",
    "    while True:\n",
    "        s.append(chr(ord('A')  + x%26 -1 ))\n",
    "        x //=26\n",
    "        if x == 0:\n",
    "            break\n",
    "    return s\n",
    "    "
   ]
  },
  {
   "cell_type": "code",
   "execution_count": 91,
   "metadata": {},
   "outputs": [
    {
     "data": {
      "text/plain": [
       "['@', 'A', 'Z']"
      ]
     },
     "execution_count": 91,
     "metadata": {},
     "output_type": "execute_result"
    }
   ],
   "source": [
    "ss_encode_col_id(26)"
   ]
  },
  {
   "cell_type": "code",
   "execution_count": 87,
   "metadata": {},
   "outputs": [
    {
     "data": {
      "text/plain": [
       "'\\x1a'"
      ]
     },
     "execution_count": 87,
     "metadata": {},
     "output_type": "execute_result"
    }
   ],
   "source": [
    "chr(26&26-1 + ord('A'))"
   ]
  },
  {
   "cell_type": "markdown",
   "metadata": {},
   "source": [
    "## 6.4 Replace and remove \n",
    "\n",
    "Write a program which takes as input an array of characters, and removes each 'b' and replaces 'a' by two 'd's. \n",
    "\n",
    "**Sol:** Library array implementations often have methods for inserting into a specific location (all later entries are shifted right, and the array is resized) and deleting from a specific location (all later entries are shifted left, and the size of the array is decremented). If the input array had such method, we could apply them- however, the time complexity would be O(n^2), where n is the array's length. The reason is that each insertion and deletion from the array would have O(n) time complexity. \n",
    "\n",
    "This problem is trivial to solve in O(n) time if we wrtie result to a new array -- we skip 'b's, replace 'a's by two 'd's, and copy over all other characters. However, this entails O(n) additional space. \n",
    "\n",
    "If there are no 'a's, we can implement the function without allocating additional space with one forward iteration by skipping 'b''s and copyting over the other characters. \n",
    "\n",
    "If there are no 'b's, we can implement the function without additional space as follows. First, we compute the final length of the resulting string, which is the lenght of the array plus the number of 'a's. We can then write the result, character by character, starting from the last character, working our way backwards. \n",
    "\n",
    "Combine the two methods, we can do replacement and removing without additional space. "
   ]
  },
  {
   "cell_type": "code",
   "execution_count": 121,
   "metadata": {},
   "outputs": [],
   "source": [
    "def replace_and_remove(size: int, s:list) -> list:\n",
    "    # Forward iteration: remove 'b's and count the number of 'a's\n",
    "    write_idx, a_count = 0,0 \n",
    "    for i in range(size):\n",
    "        if s[i] != 'b':\n",
    "            print(i)\n",
    "            s[write_idx] = s[i]\n",
    "            write_idx += 1\n",
    "        if s[i] == 'a':\n",
    "            print(i)\n",
    "            a_count += 1\n",
    "    # Backward iteration: replace 'a's with 'dd's starting from the end \n",
    "    cur_idx = write_idx - 1\n",
    "    write_idx += a_count -1\n",
    "    final_size = write_idx + 1\n",
    "    while cur_idx >= 0:\n",
    "        if s[cur_idx] == 'a':\n",
    "            s[write_idx -1:write_idx +1] == 'dd'\n",
    "            write_idx -= 2\n",
    "        else:\n",
    "            s[write_idx] = s[cur_idx]\n",
    "            write_idx -= 1\n",
    "        cur_idx -= 1\n",
    "    return final_size, s"
   ]
  },
  {
   "cell_type": "code",
   "execution_count": 123,
   "metadata": {},
   "outputs": [
    {
     "name": "stdout",
     "output_type": "stream",
     "text": [
      "['a', 'b', 'c', 'b', 'a']\n"
     ]
    }
   ],
   "source": [
    "size = 5\n",
    "s = 'abcba'\n",
    "s = list(s)\n",
    "print(s)"
   ]
  },
  {
   "cell_type": "code",
   "execution_count": 124,
   "metadata": {},
   "outputs": [
    {
     "name": "stdout",
     "output_type": "stream",
     "text": [
      "0\n",
      "0\n",
      "2\n",
      "4\n",
      "4\n"
     ]
    },
    {
     "data": {
      "text/plain": [
       "(5, ['a', 'c', 'c', 'b', 'a'])"
      ]
     },
     "execution_count": 124,
     "metadata": {},
     "output_type": "execute_result"
    }
   ],
   "source": [
    "replace_and_remove(size, s)"
   ]
  },
  {
   "cell_type": "markdown",
   "metadata": {},
   "source": [
    "## 6.5 Test Palindormicity \n",
    "\n",
    "For the purpose of this problem, define a palindromic string to be a string which when all the nonalphanumeric are removed it reads the same front to back ignoring case. \n",
    "\n",
    "Implement a funciton which takes as input a string s and return true if s is a palindromic string. \n"
   ]
  },
  {
   "cell_type": "code",
   "execution_count": 125,
   "metadata": {},
   "outputs": [],
   "source": [
    "def is_palindrome(s:str) -> bool:\n",
    "    # i moves forward, and j moves backward.\n",
    "    i, j = 0, len(s) -1\n",
    "    while i < j:\n",
    "        # i and j both skip non-alphanumeric characters\n",
    "        while not s[i].isalnum() and i <j:\n",
    "            i += 1\n",
    "        while not s[j].isalnum() and i<j:\n",
    "            j -= 1\n",
    "        if s[i].lower() != s[j].lower():\n",
    "            return False\n",
    "        i,j = i+1, j-1 \n",
    "    return True "
   ]
  },
  {
   "cell_type": "code",
   "execution_count": 129,
   "metadata": {},
   "outputs": [
    {
     "data": {
      "text/plain": [
       "True"
      ]
     },
     "execution_count": 129,
     "metadata": {},
     "output_type": "execute_result"
    }
   ],
   "source": [
    "s = 'abece.!ba'\n",
    "is_palindrome(s)"
   ]
  },
  {
   "cell_type": "code",
   "execution_count": 131,
   "metadata": {},
   "outputs": [],
   "source": [
    "def is_palindrome_pythonic(s):\n",
    "    return all(a == b for a, b in zip(\n",
    "        map(str.lower, filter(str.isalnum, s)),\n",
    "        map(str.lower, filter(str.isalnum, reversed(s)))))"
   ]
  },
  {
   "cell_type": "code",
   "execution_count": 132,
   "metadata": {},
   "outputs": [
    {
     "data": {
      "text/plain": [
       "True"
      ]
     },
     "execution_count": 132,
     "metadata": {},
     "output_type": "execute_result"
    }
   ],
   "source": [
    "is_palindrome_pythonic(s)"
   ]
  },
  {
   "cell_type": "markdown",
   "metadata": {},
   "source": [
    "We spend O(1) per character, so the time complexity is O(n), where n is the length of s. "
   ]
  },
  {
   "cell_type": "markdown",
   "metadata": {},
   "source": [
    "## 6.6 Reverse all the words in a sentence \n",
    "\n",
    "Given a string containing a set of words separated by whitespace, we would like to transform it to a string in which the words appear in the reverse order. For example, \"Alice likes Bob\" transforms to \"Bob likes Alice\". We do not need to keep the original string. "
   ]
  },
  {
   "cell_type": "code",
   "execution_count": 146,
   "metadata": {},
   "outputs": [],
   "source": [
    "def reverse_words(s):\n",
    "    def reverse_range(s, start, finish):\n",
    "        while start < finish:\n",
    "            s[start], s[finish] = s[finish], s[start]\n",
    "            start, finish = start+1, finish-1\n",
    "    # First, reverse the whole string.\n",
    "    reverse_range(s, 0, len(s)-1)\n",
    "    print('reversed s')\n",
    "    print(s)\n",
    "    \n",
    "    start = 0\n",
    "    while True:\n",
    "        finish = start\n",
    "        while finish < len(s) and s[finish] != ' ':\n",
    "            finish += 1\n",
    "        if finish == len(s):\n",
    "            break\n",
    "        # Reverse each word in the string\n",
    "        reverse_range(s,start,finish-1)\n",
    "        start = finish +1\n",
    "        \n",
    "    # reverse the last words\n",
    "    reverse_range(s, start, len(s)-1)\n",
    "    \n",
    "    \n",
    "    return s \n",
    "            "
   ]
  },
  {
   "cell_type": "code",
   "execution_count": 147,
   "metadata": {},
   "outputs": [
    {
     "name": "stdout",
     "output_type": "stream",
     "text": [
      "['B', 'o', 'b', ' ', 'l', 'i', 'k', 'e', 's', ' ', 'A', 'l', 'i', 'c', 'e']\n",
      "reversed s\n",
      "['e', 'c', 'i', 'l', 'A', ' ', 's', 'e', 'k', 'i', 'l', ' ', 'b', 'o', 'B']\n"
     ]
    },
    {
     "data": {
      "text/plain": [
       "['A', 'l', 'i', 'c', 'e', ' ', 'l', 'i', 'k', 'e', 's', ' ', 'B', 'o', 'b']"
      ]
     },
     "execution_count": 147,
     "metadata": {},
     "output_type": "execute_result"
    }
   ],
   "source": [
    "s = 'Bob likes Alice'\n",
    "s = list(s)\n",
    "print(s)\n",
    "reverse_words(s)"
   ]
  },
  {
   "cell_type": "markdown",
   "metadata": {},
   "source": [
    "Since we spend O(1) per character, the time complexity is O(n), where n is the length of s. The computation in space, i.e., the additional space complexity is O(1). "
   ]
  },
  {
   "cell_type": "markdown",
   "metadata": {},
   "source": [
    "## 6.7 The look-and-say problem \n",
    "\n",
    "The look-and-say sequence starts with 1. Subsequent numbers are derived by describing the previous number in terms of consecutive digits. Specifically, to generate an entry of the sequence from the previous entry, read off the digits of the previous entry, counting the number of digits in groups of the same digit. \n",
    "\n",
    "Write a program that takes as input an integer n and returns the nth integer in the look-and-say sequence. Return the result as string. "
   ]
  },
  {
   "cell_type": "code",
   "execution_count": 148,
   "metadata": {},
   "outputs": [],
   "source": [
    "def look_and_say(n: int) -> str:\n",
    "    def next_number(s):\n",
    "        result, i = [], 0\n",
    "        while i < len(s):\n",
    "            count = 1\n",
    "            while i + 1 < len(s) and s[i] == s[i+1]:\n",
    "                i += 1\n",
    "                count += 1\n",
    "            result.append(str(count) + s[i])\n",
    "            i += 1\n",
    "        return ''.join(result)\n",
    "    s = '1'\n",
    "    for _ in range(1,n):\n",
    "        s = next_number(s)\n",
    "    return s "
   ]
  },
  {
   "cell_type": "code",
   "execution_count": 149,
   "metadata": {},
   "outputs": [
    {
     "data": {
      "text/plain": [
       "'1113213211'"
      ]
     },
     "execution_count": 149,
     "metadata": {},
     "output_type": "execute_result"
    }
   ],
   "source": [
    "look_and_say(8)"
   ]
  },
  {
   "cell_type": "code",
   "execution_count": 150,
   "metadata": {},
   "outputs": [
    {
     "data": {
      "text/plain": [
       "'21'"
      ]
     },
     "execution_count": 150,
     "metadata": {},
     "output_type": "execute_result"
    }
   ],
   "source": [
    "look_and_say(3)"
   ]
  },
  {
   "cell_type": "code",
   "execution_count": 153,
   "metadata": {},
   "outputs": [],
   "source": [
    "import itertools"
   ]
  },
  {
   "cell_type": "code",
   "execution_count": 157,
   "metadata": {},
   "outputs": [],
   "source": [
    "# Pythonic solution uses the power of itertools.groupby()\n",
    "def look_and_say_pythonic(n):\n",
    "    s = '1'\n",
    "    for _ in range(n-1):\n",
    "        s = ''.join(\n",
    "        str(len(list(group))) + key for key, group in itertools.groupby(s))\n",
    "    return s \n"
   ]
  },
  {
   "cell_type": "code",
   "execution_count": 158,
   "metadata": {},
   "outputs": [
    {
     "data": {
      "text/plain": [
       "'1113213211'"
      ]
     },
     "execution_count": 158,
     "metadata": {},
     "output_type": "execute_result"
    }
   ],
   "source": [
    "look_and_say_pythonic(8)"
   ]
  },
  {
   "cell_type": "markdown",
   "metadata": {},
   "source": [
    " ## 6.8 Convert from roman to decimal \n",
    " \n",
    " The Roman numeral representation of positive integers uses the symbols I, V, X, L, C, D, M. Each symbol represents a value, with I being 1, V being 5, X being 10, L being 50, C being 100, D being 500 and M being 1000.\n",
    " \n",
    " In this problem we give simplified rules for representing numbers in this systems. Specifically, define a string over the Roman number symbols to be a valid Roman number string if symbols appear in nonincreasing order, with the following exceptions allowed:\n",
    " * I can immediately precede V and X. \n",
    " * X can immediately precede L and C. \n",
    " * C can immediately precede D and M. \n",
    " \n",
    "Back-to-back exceptions are not allowed, e.g., IXC is invalid, as is CDM. \n",
    "\n",
    "Write a program which takes as input a valid Roman number string s and returns the integer it corresponds to. \n",
    "\n",
    "Hint: Start by solving the problem assuming no ecveptions cases. "
   ]
  },
  {
   "cell_type": "code",
   "execution_count": 4,
   "metadata": {},
   "outputs": [],
   "source": [
    "import functools"
   ]
  },
  {
   "cell_type": "code",
   "execution_count": 5,
   "metadata": {},
   "outputs": [],
   "source": [
    "def roman_to_integer(s: str) -> int:\n",
    "    T = {'I': 1, 'V': 5, 'X': 10, 'L': 50, 'C': 100, 'D': 500, 'M': 1000}\n",
    "    \n",
    "    return functools.reduce(\n",
    "        lambda val, i: val + (-T[s[i]] if T[s[i]] < T[s[i+1]] else T[s[i]]),\n",
    "        reversed(range(len(s)- 1)), T[s[-1]])"
   ]
  },
  {
   "cell_type": "code",
   "execution_count": 6,
   "metadata": {},
   "outputs": [
    {
     "data": {
      "text/plain": [
       "99"
      ]
     },
     "execution_count": 6,
     "metadata": {},
     "output_type": "execute_result"
    }
   ],
   "source": [
    "roman_to_integer('IC')"
   ]
  },
  {
   "cell_type": "code",
   "execution_count": 7,
   "metadata": {},
   "outputs": [
    {
     "data": {
      "text/plain": [
       "59"
      ]
     },
     "execution_count": 7,
     "metadata": {},
     "output_type": "execute_result"
    }
   ],
   "source": [
    "roman_to_integer('LIX')"
   ]
  },
  {
   "cell_type": "code",
   "execution_count": 8,
   "metadata": {},
   "outputs": [
    {
     "data": {
      "text/plain": [
       "58"
      ]
     },
     "execution_count": 8,
     "metadata": {},
     "output_type": "execute_result"
    }
   ],
   "source": [
    "roman_to_integer('LVIII')"
   ]
  },
  {
   "cell_type": "markdown",
   "metadata": {},
   "source": [
    "Each character of s is processed in O(1) time, yielding an O(n) overall time complexity, where n is the length of s. "
   ]
  },
  {
   "cell_type": "markdown",
   "metadata": {},
   "source": [
    "## 6.9 Compute all valid IP addresses \n",
    "\n",
    "Write a program that determines where to add periods to a decimal string so that the resulting string is a valid IP address. There may be more than one valid IP addresses corresponding to a string, in which case you should print all possibilities. "
   ]
  },
  {
   "cell_type": "code",
   "execution_count": 9,
   "metadata": {},
   "outputs": [],
   "source": [
    "def get_valid_ip_address(s: str) -> list:\n",
    "    def is_valid_parts(s):\n",
    "        # '00', '000', '01', etc. are not valid, but '0' is valid. \n",
    "        return len(s) == 1 or (s[0] != '0' and int(s) <= 255)\n",
    "    \n",
    "    result, parts = [], ['']*4\n",
    "    for i in range(1, min(4,len(s))):\n",
    "        parts[0] = s[:i]\n",
    "        if is_valid_parts(parts[0]):\n",
    "            for j in range(1, min(4, len(s) -i )):\n",
    "                parts[1] = s[i: i+j]\n",
    "                if is_valid_parts(parts[1]):\n",
    "                    for k in range(1, min(4, len(s) -i -j)):\n",
    "                        parts[2], parts[3] = s[i+j: i+j+k], s[i+j+k:]\n",
    "                        if is_valid_parts(parts[2]) and is_valid_parts(parts[3]):\n",
    "                            result.append('.'.join(parts))\n",
    "    return result \n",
    "                        \n",
    "                            \n",
    "                "
   ]
  },
  {
   "cell_type": "code",
   "execution_count": 10,
   "metadata": {},
   "outputs": [
    {
     "data": {
      "text/plain": [
       "['19.216.81.201', '192.16.81.201', '192.168.1.201', '192.168.120.1']"
      ]
     },
     "execution_count": 10,
     "metadata": {},
     "output_type": "execute_result"
    }
   ],
   "source": [
    "s = '1921681201'\n",
    "get_valid_ip_address(s)"
   ]
  },
  {
   "cell_type": "code",
   "execution_count": 11,
   "metadata": {},
   "outputs": [
    {
     "data": {
      "text/plain": [
       "['11.216.81.201', '112.16.81.201', '112.168.1.201', '112.168.120.1']"
      ]
     },
     "execution_count": 11,
     "metadata": {},
     "output_type": "execute_result"
    }
   ],
   "source": [
    "s = '1121681201'\n",
    "get_valid_ip_address(s)"
   ]
  },
  {
   "cell_type": "code",
   "execution_count": 14,
   "metadata": {},
   "outputs": [
    {
     "data": {
      "text/plain": [
       "['1.92.168.11',\n",
       " '19.2.168.11',\n",
       " '19.21.68.11',\n",
       " '19.216.8.11',\n",
       " '19.216.81.1',\n",
       " '192.1.68.11',\n",
       " '192.16.8.11',\n",
       " '192.16.81.1',\n",
       " '192.168.1.1']"
      ]
     },
     "execution_count": 14,
     "metadata": {},
     "output_type": "execute_result"
    }
   ],
   "source": [
    "s = '19216811'\n",
    "get_valid_ip_address(s)"
   ]
  },
  {
   "cell_type": "markdown",
   "metadata": {},
   "source": [
    "The total number of IP addresses is a constant (2^32), implying an O(1) time complexity for the above algorithm. "
   ]
  },
  {
   "cell_type": "markdown",
   "metadata": {},
   "source": [
    "## 6.10 Write a strting sinusoidally \n",
    "\n",
    "\n",
    "Write a program which takes as input a string s and returns the snakestring of s. "
   ]
  },
  {
   "cell_type": "code",
   "execution_count": 15,
   "metadata": {},
   "outputs": [],
   "source": [
    "def snake_string(s: str) -> str:\n",
    "    result = []\n",
    "    # Outputs the first row, i.e. s[1], s[5], s[9], ....\n",
    "    for i in range(1, len(s), 4):\n",
    "        result.append(s[i])\n",
    "    # Outputs the second row, i.e. s[0], s[2], s[4], ...\n",
    "    for i in range(2, len(s), 2):\n",
    "        result.append(s[i])\n",
    "    # Outputs the last row, i.e. s[3], s[7], s[11], ...\n",
    "    for i in range(3, len(s), 4):\n",
    "        result.append(s[i])\n",
    "    \n",
    "    return ''.join(result)"
   ]
  },
  {
   "cell_type": "code",
   "execution_count": 16,
   "metadata": {},
   "outputs": [],
   "source": [
    "def snake_string_pythonic(s):\n",
    "    return s[1::4] + s[::2] + s[3::4]"
   ]
  },
  {
   "cell_type": "code",
   "execution_count": 17,
   "metadata": {},
   "outputs": [
    {
     "data": {
      "text/plain": [
       "'e lHloWrdlo!'"
      ]
     },
     "execution_count": 17,
     "metadata": {},
     "output_type": "execute_result"
    }
   ],
   "source": [
    "s = 'Hello World!'\n",
    "snake_string_pythonic(s)"
   ]
  },
  {
   "cell_type": "markdown",
   "metadata": {},
   "source": [
    "## 6.11 Implement run-length encoding \n",
    "\n",
    "Encode successive repeated characters by the repetition count and the character. For example, the RLE of 'aaaabcccaa' is '4a1b3c2a'. The decoding of '3e4f2e' returns 'eeeffffee'. "
   ]
  },
  {
   "cell_type": "code",
   "execution_count": 18,
   "metadata": {},
   "outputs": [],
   "source": [
    "def decoding(s: str) -> str:\n",
    "    count, result = 0, []\n",
    "    for c in s:\n",
    "        if c.isdigit():\n",
    "            count = count * 10 + int(c)\n",
    "        else: # c is not a number \n",
    "            result.append(c*count) # Append count copies of c to result \n",
    "            count = 0\n",
    "    return ''.join(result)"
   ]
  },
  {
   "cell_type": "code",
   "execution_count": 19,
   "metadata": {},
   "outputs": [
    {
     "data": {
      "text/plain": [
       "'eeeeeffdwww'"
      ]
     },
     "execution_count": 19,
     "metadata": {},
     "output_type": "execute_result"
    }
   ],
   "source": [
    "s = '5e2f1d3w'\n",
    "decoding(s)"
   ]
  },
  {
   "cell_type": "code",
   "execution_count": 30,
   "metadata": {},
   "outputs": [],
   "source": [
    "def encoding(s:str) -> str:\n",
    "    count, result = 1, []\n",
    "    for i in range(1, len(s)+1):\n",
    "        if i == len(s) or s[i-1] != s[i]:\n",
    "            result.append(str(count))\n",
    "            result.append(s[i-1])\n",
    "            count = 1\n",
    "        else:\n",
    "            count += 1\n",
    "\n",
    "\n",
    "    return ''.join(result) \n",
    "        "
   ]
  },
  {
   "cell_type": "code",
   "execution_count": 31,
   "metadata": {},
   "outputs": [
    {
     "data": {
      "text/plain": [
       "'4j2i3o1p'"
      ]
     },
     "execution_count": 31,
     "metadata": {},
     "output_type": "execute_result"
    }
   ],
   "source": [
    "s = 'jjjjiiooop'\n",
    "encoding(s)"
   ]
  },
  {
   "cell_type": "markdown",
   "metadata": {},
   "source": [
    "The time complexity is O(n), where n is the length of the string. "
   ]
  },
  {
   "cell_type": "code",
   "execution_count": null,
   "metadata": {},
   "outputs": [],
   "source": []
  }
 ],
 "metadata": {
  "kernelspec": {
   "display_name": "Python 3",
   "language": "python",
   "name": "python3"
  },
  "language_info": {
   "codemirror_mode": {
    "name": "ipython",
    "version": 3
   },
   "file_extension": ".py",
   "mimetype": "text/x-python",
   "name": "python",
   "nbconvert_exporter": "python",
   "pygments_lexer": "ipython3",
   "version": "3.7.4"
  }
 },
 "nbformat": 4,
 "nbformat_minor": 2
}
