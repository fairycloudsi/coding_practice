{
 "cells": [
  {
   "cell_type": "markdown",
   "metadata": {},
   "source": [
    "## Graphs boot camp\n",
    "\n",
    "Graphs are ideal for modeling and analyzing relathonships between pairs of objects. For example, suppose you were given a list of the outcomes of matches between pairs of teams, with each outcome being a win or loss. A natural question is as follows: given teams A and B, is there a sequence of teams starting with A and ending with B such that each team in the sequence has beaten the next team in the sequence?\n",
    "\n",
    "A slick way of solving this problem is to model the problem using a graph. Teams are vertices, and an edge from one team to another indicates that the team corresponding to the source vertex has beaten the team corresponding to the destination vertex. Now we can apply graph reachability to perform the check. Both DFS and BFS are reasonable approaches--the program below uses DFS. "
   ]
  },
  {
   "cell_type": "code",
   "execution_count": 1,
   "metadata": {},
   "outputs": [],
   "source": [
    "import collections"
   ]
  },
  {
   "cell_type": "code",
   "execution_count": 11,
   "metadata": {},
   "outputs": [],
   "source": [
    "MatchResult = collections.namedtuple('MatchResult',\n",
    "                                    ('winning_team', 'losing_team'))\n",
    "\n",
    "def can_team_a_beat_team_b(matches, team_a, team_b):\n",
    "    def build_graph():\n",
    "        graph = collections.defaultdict(set)\n",
    "        for match in matches:\n",
    "            graph[match.winning_team].add(match.losing_team)\n",
    "        return graph\n",
    "    def is_reachable_dfs(graph, curr, dest, visited=set()):\n",
    "        if curr == dest:\n",
    "            return True\n",
    "        elif curr in visited or curr not in graph:\n",
    "            return False\n",
    "        visited.add(curr)\n",
    "        print(visited)\n",
    "        return any(is_reachable_dfs(graph, team, dest) for team in graph[curr])\n",
    "    \n",
    "    return is_reachable_dfs(build_graph(),team_a, team_b)"
   ]
  },
  {
   "cell_type": "code",
   "execution_count": 12,
   "metadata": {},
   "outputs": [],
   "source": [
    "mr1 = MatchResult('a', 'b')\n",
    "mr2 = MatchResult('b', 'a')\n",
    "mr3 = MatchResult('a', 'c')\n",
    "mr4 = MatchResult('b', 'k')\n",
    "mr5 = MatchResult('d', 'c')\n",
    "mr6 = MatchResult('c', 'e')\n",
    "mr7 = MatchResult('e', 'd')\n",
    "mr8 = MatchResult('d', 'h')\n",
    "mr9 = MatchResult('k', 'i')\n",
    "mr10 = MatchResult('i', 'j')\n",
    "mr11 = MatchResult('j', 'l')\n",
    "mr12 = MatchResult('l', 'i')\n",
    "mr13 = MatchResult('j', 'f')\n",
    "mr14 = MatchResult('f', 'g')\n",
    "mr15 = MatchResult('g', 'f')\n",
    "mr16 = MatchResult('g', 'h')\n",
    "mr17 = MatchResult('m', 'n')\n",
    "mr18 = MatchResult('n', 'm')\n",
    "matches = [mr1, mr2, mr3, mr4, mr5, mr6, mr7, mr8, mr9, mr10, \n",
    "          mr11, mr12, mr13, mr14, mr15, mr16, mr17, mr18]"
   ]
  },
  {
   "cell_type": "code",
   "execution_count": 13,
   "metadata": {},
   "outputs": [
    {
     "name": "stdout",
     "output_type": "stream",
     "text": [
      "{'a'}\n",
      "{'c', 'a'}\n",
      "{'c', 'e', 'a'}\n",
      "{'c', 'e', 'a', 'd'}\n",
      "{'a', 'd', 'e', 'b', 'c'}\n",
      "{'a', 'd', 'e', 'k', 'b', 'c'}\n",
      "{'i', 'a', 'd', 'e', 'k', 'b', 'c'}\n",
      "{'i', 'a', 'd', 'e', 'k', 'b', 'c', 'j'}\n",
      "{'i', 'a', 'd', 'e', 'k', 'b', 'c', 'f', 'j'}\n",
      "{'i', 'a', 'd', 'g', 'e', 'k', 'b', 'c', 'f', 'j'}\n",
      "{'i', 'l', 'a', 'd', 'g', 'e', 'k', 'b', 'c', 'f', 'j'}\n"
     ]
    },
    {
     "data": {
      "text/plain": [
       "False"
      ]
     },
     "execution_count": 13,
     "metadata": {},
     "output_type": "execute_result"
    }
   ],
   "source": [
    "can_team_a_beat_team_b(matches, 'a', 'm')"
   ]
  },
  {
   "cell_type": "code",
   "execution_count": 14,
   "metadata": {},
   "outputs": [
    {
     "name": "stdout",
     "output_type": "stream",
     "text": [
      "{'a'}\n",
      "{'c', 'a'}\n",
      "{'c', 'e', 'a'}\n",
      "{'c', 'e', 'a', 'd'}\n"
     ]
    },
    {
     "data": {
      "text/plain": [
       "True"
      ]
     },
     "execution_count": 14,
     "metadata": {},
     "output_type": "execute_result"
    }
   ],
   "source": [
    "can_team_a_beat_team_b(matches, 'a', 'h')"
   ]
  },
  {
   "cell_type": "code",
   "execution_count": 7,
   "metadata": {},
   "outputs": [],
   "source": [
    "graph = collections.defaultdict(set)"
   ]
  },
  {
   "cell_type": "code",
   "execution_count": 8,
   "metadata": {},
   "outputs": [],
   "source": [
    "for match in matches:\n",
    "    graph[match.winning_team].add(match.losing_team)"
   ]
  },
  {
   "cell_type": "code",
   "execution_count": 9,
   "metadata": {},
   "outputs": [
    {
     "name": "stdout",
     "output_type": "stream",
     "text": [
      "defaultdict(<class 'set'>, {'a': {'c', 'b'}, 'b': {'a', 'k'}, 'd': {'c', 'h'}, 'c': {'e'}, 'e': {'d'}, 'k': {'i'}, 'i': {'j'}, 'j': {'f', 'l'}, 'l': {'i'}, 'f': {'g'}, 'g': {'f', 'h'}, 'm': {'n'}, 'n': {'m'}})\n"
     ]
    }
   ],
   "source": [
    "print(graph)"
   ]
  },
  {
   "cell_type": "code",
   "execution_count": 10,
   "metadata": {},
   "outputs": [
    {
     "name": "stdout",
     "output_type": "stream",
     "text": [
      "c\n",
      "b\n"
     ]
    }
   ],
   "source": [
    "dest = 'e'\n",
    "curr = 'a'\n",
    "for team in graph[curr]:\n",
    "    print(team)"
   ]
  },
  {
   "cell_type": "markdown",
   "metadata": {},
   "source": [
    "The time complexity and space complexity are both O(E), where E is the number of outcomes. "
   ]
  },
  {
   "cell_type": "markdown",
   "metadata": {},
   "source": [
    "## 18.1 Search a maze\n",
    "\n",
    "Consider a black and white digitized image of a maze--while pixels represent open areas and black spaces are walls. There are two special white pixels: one is designated the entrance and the ohter is the exit. The goal in this problem is to find a way of getting from the entrance to the exit. \n",
    "\n",
    "Give a 2D array of black and white entries representing a maze with designated entrance and exit points, find a path from the entrance to the exit, if one exists. \n",
    "\n",
    "**Sol:** Modeling the maze as a graph. Each vertex corresponds to a white pixel. We will index the vertices based on the coordinates of the corresponding pixel, i.e., vertex $v_{i,j}$ corresponds to the white entry at (i,j) in the 2D array. Edges model adjacent white pixels. \n",
    "\n",
    "Now, run a DFS starting from the vertex corresponding to the entrance. If at some point, we discover the exit vertex in the DFS, then there exists a path from the entrance to the exit. If we implement recursive DFS then the path would consist of all the vertices in the call stack corresponding to previous recursive calls to the DFS routine. "
   ]
  },
  {
   "cell_type": "code",
   "execution_count": 85,
   "metadata": {},
   "outputs": [],
   "source": [
    "WHITE, BLACK = range(2)\n",
    "\n",
    "Coordinate = collections.namedtuple('Coordinate', ('x', 'y') )\n",
    "\n",
    "def search_maze(maze, s: Coordinate, e: Coordinate) -> list:\n",
    "    # Perform DFS to find a feasible path\n",
    "    def search_maze_helper(cur):\n",
    "        # Checks cur is within maze and is a white pixel\n",
    "        print(cur.x, cur.y)\n",
    "        if not(0 <= cur.x < len(maze) and 0 <= cur.y < len(maze[cur.x])\n",
    "              and maze[cur.x][cur.y] == WHITE):\n",
    "            return False \n",
    "        path.append(cur)\n",
    "        maze[cur.x][cur.y] = BLACK # has passed by this pixel\n",
    "        if cur == e:\n",
    "            return True\n",
    "        \n",
    "        search_cur = list(map(Coordinate, (cur.x - 1, cur.x+1, cur.x, cur.x),\n",
    "                      (cur.y, cur.y, cur.y-1, cur.y +1)))\n",
    "        if any(map(search_maze_helper,search_cur)):\n",
    "            return True\n",
    "        # Cannot find a path, remove the entry added in path.append(cur)\n",
    "        print(path)\n",
    "        del path[-1]\n",
    "        return False\n",
    "    \n",
    "    path = []\n",
    "    search_maze_helper(s)\n",
    "    return path"
   ]
  },
  {
   "cell_type": "code",
   "execution_count": 68,
   "metadata": {},
   "outputs": [],
   "source": [
    "a = map(Coordinate, (0,0,0,0,1,1,2,2,3,3,3,3), (0,1,2,3,1,3,1,2,0,1,2,3))"
   ]
  },
  {
   "cell_type": "code",
   "execution_count": 69,
   "metadata": {},
   "outputs": [
    {
     "name": "stdout",
     "output_type": "stream",
     "text": [
      "[Coordinate(x=0, y=0), Coordinate(x=0, y=1), Coordinate(x=0, y=2), Coordinate(x=0, y=3), Coordinate(x=1, y=1), Coordinate(x=1, y=3), Coordinate(x=2, y=1), Coordinate(x=2, y=2), Coordinate(x=3, y=0), Coordinate(x=3, y=1), Coordinate(x=3, y=2), Coordinate(x=3, y=3)]\n"
     ]
    }
   ],
   "source": [
    "print(list(a))"
   ]
  },
  {
   "cell_type": "code",
   "execution_count": 90,
   "metadata": {},
   "outputs": [],
   "source": [
    "maze = [[0,1,0,0],\n",
    "       [1,0,1,0],\n",
    "       [1,0,0,1],\n",
    "       [0,0,0,0]]"
   ]
  },
  {
   "cell_type": "code",
   "execution_count": 87,
   "metadata": {},
   "outputs": [],
   "source": [
    "s = Coordinate(3,0)\n",
    "e = Coordinate(0,3)"
   ]
  },
  {
   "cell_type": "code",
   "execution_count": 88,
   "metadata": {},
   "outputs": [
    {
     "name": "stdout",
     "output_type": "stream",
     "text": [
      "Coordinate(x=3, y=0)\n"
     ]
    }
   ],
   "source": [
    "print(s)"
   ]
  },
  {
   "cell_type": "code",
   "execution_count": 91,
   "metadata": {},
   "outputs": [
    {
     "name": "stdout",
     "output_type": "stream",
     "text": [
      "3 0\n",
      "2 0\n",
      "4 0\n",
      "3 -1\n",
      "3 1\n",
      "2 1\n",
      "1 1\n",
      "0 1\n",
      "2 1\n",
      "1 0\n",
      "1 2\n",
      "[Coordinate(x=3, y=0), Coordinate(x=3, y=1), Coordinate(x=2, y=1), Coordinate(x=1, y=1)]\n",
      "3 1\n",
      "2 0\n",
      "2 2\n",
      "1 2\n",
      "3 2\n",
      "2 2\n",
      "4 2\n",
      "3 1\n",
      "3 3\n",
      "2 3\n",
      "4 3\n",
      "3 2\n",
      "3 4\n",
      "[Coordinate(x=3, y=0), Coordinate(x=3, y=1), Coordinate(x=2, y=1), Coordinate(x=2, y=2), Coordinate(x=3, y=2), Coordinate(x=3, y=3)]\n",
      "[Coordinate(x=3, y=0), Coordinate(x=3, y=1), Coordinate(x=2, y=1), Coordinate(x=2, y=2), Coordinate(x=3, y=2)]\n",
      "2 1\n",
      "2 3\n",
      "[Coordinate(x=3, y=0), Coordinate(x=3, y=1), Coordinate(x=2, y=1), Coordinate(x=2, y=2)]\n",
      "[Coordinate(x=3, y=0), Coordinate(x=3, y=1), Coordinate(x=2, y=1)]\n",
      "4 1\n",
      "3 0\n",
      "3 2\n",
      "[Coordinate(x=3, y=0), Coordinate(x=3, y=1)]\n",
      "[Coordinate(x=3, y=0)]\n"
     ]
    },
    {
     "data": {
      "text/plain": [
       "[]"
      ]
     },
     "execution_count": 91,
     "metadata": {},
     "output_type": "execute_result"
    }
   ],
   "source": [
    "search_maze(maze,s,e)"
   ]
  },
  {
   "cell_type": "code",
   "execution_count": 61,
   "metadata": {},
   "outputs": [],
   "source": [
    "maze[0][3] = 0"
   ]
  },
  {
   "cell_type": "code",
   "execution_count": 62,
   "metadata": {},
   "outputs": [
    {
     "data": {
      "text/plain": [
       "0"
      ]
     },
     "execution_count": 62,
     "metadata": {},
     "output_type": "execute_result"
    }
   ],
   "source": [
    "WHITE"
   ]
  },
  {
   "cell_type": "code",
   "execution_count": 63,
   "metadata": {},
   "outputs": [
    {
     "data": {
      "text/plain": [
       "1"
      ]
     },
     "execution_count": 63,
     "metadata": {},
     "output_type": "execute_result"
    }
   ],
   "source": [
    "BLACK"
   ]
  },
  {
   "cell_type": "markdown",
   "metadata": {},
   "source": [
    "The time complexity is the same as that for DFS, namely O(|V| + |E|). "
   ]
  },
  {
   "cell_type": "markdown",
   "metadata": {},
   "source": [
    "## 18.2 Paint a Boolean matrix \n",
    "\n",
    "Let A be a Boolean 2D array encoding a black-and-white image. The entry A(a,b) can be viewed as encoding the color at entry (a,b). Call two entries adjacent if one is to the left, right, above or below the other. Note that the definition implies that an entry can be adjacent to at most four ohter netries,and that adjacency is symmetry, i.e., if e0 is adjacent to entry e1, then e1 is adjacent to e0. \n",
    "\n",
    "Implement a routine that takes an n*m Boolean array A together with an entry (x,y) and flips the color of the region associated with (x,y). \n",
    "\n",
    "**Sol:** For current problem, we are searching for all vertices whose color is the same as that of (x,y) that are reachable from (x,y). Breadth-first search is natural when starting with a set of vertices. Specifically, we can use a queue to store such vertices. The queue is initialized to (x,y). The queue is popped  iteratively. Call the popped point p. First, we record p's initial color, and then flip its color. Next we examine p neighbors. Any neighbour which is the same color as p's initial color is added to the queue. The computation ends when the queue is empty. Correctness follows from the fact that any point that is added to the queue is reachable from (x,y) via a path consisting of points of the same color, and all reachable form (x,y) via points of the same color will eventually be added to the queue. "
   ]
  },
  {
   "cell_type": "code",
   "execution_count": 113,
   "metadata": {},
   "outputs": [],
   "source": [
    "\n",
    "def flip_color(x: int, y:int, image: list) -> None:\n",
    "    color = image[x][y]\n",
    "    q = collections.deque([(x,y)])\n",
    "    image[x][y] ^= 1 #flips \n",
    "    while q:\n",
    "        x,y = q.popleft()\n",
    "        for next_x, next_y in ((x,y+1), (x,y-1), (x-1,y), (x+1,y)):\n",
    "            if (0<= next_x < len(image) and 0 <= next_y < len(image[next_x])\n",
    "                and image[next_x][next_y] == color):\n",
    "                # Flips the color\n",
    "                image[next_x][next_y] ^= 1\n",
    "                q.append((next_x, next_y))\n",
    "                "
   ]
  },
  {
   "cell_type": "code",
   "execution_count": 125,
   "metadata": {},
   "outputs": [],
   "source": [
    "image = [[1,0,1,1,1],\n",
    "        [0,0,0,1,1],\n",
    "        [0,0,1,0,1],\n",
    "        [0,0,1,0,1],\n",
    "        [1,0,1,1,0]]\n",
    "\n",
    "#flip_color(0,0,image)"
   ]
  },
  {
   "cell_type": "code",
   "execution_count": 119,
   "metadata": {},
   "outputs": [
    {
     "name": "stdout",
     "output_type": "stream",
     "text": [
      "[0, 0, 1, 1, 1]\n",
      "[0, 0, 0, 1, 1]\n",
      "[0, 0, 1, 0, 1]\n",
      "[0, 0, 1, 0, 1]\n",
      "[1, 0, 1, 1, 0]\n"
     ]
    }
   ],
   "source": [
    "for i in range(len(image)):\n",
    "    print(image[i])"
   ]
  },
  {
   "cell_type": "code",
   "execution_count": 105,
   "metadata": {},
   "outputs": [
    {
     "data": {
      "text/plain": [
       "0"
      ]
     },
     "execution_count": 105,
     "metadata": {},
     "output_type": "execute_result"
    }
   ],
   "source": [
    "1^1"
   ]
  },
  {
   "cell_type": "code",
   "execution_count": 106,
   "metadata": {},
   "outputs": [
    {
     "data": {
      "text/plain": [
       "1"
      ]
     },
     "execution_count": 106,
     "metadata": {},
     "output_type": "execute_result"
    }
   ],
   "source": [
    "1^0"
   ]
  },
  {
   "cell_type": "code",
   "execution_count": 107,
   "metadata": {},
   "outputs": [
    {
     "data": {
      "text/plain": [
       "1"
      ]
     },
     "execution_count": 107,
     "metadata": {},
     "output_type": "execute_result"
    }
   ],
   "source": [
    "0^1"
   ]
  },
  {
   "cell_type": "code",
   "execution_count": 108,
   "metadata": {},
   "outputs": [
    {
     "data": {
      "text/plain": [
       "0"
      ]
     },
     "execution_count": 108,
     "metadata": {},
     "output_type": "execute_result"
    }
   ],
   "source": [
    "0^0"
   ]
  },
  {
   "cell_type": "code",
   "execution_count": 109,
   "metadata": {},
   "outputs": [],
   "source": [
    "val = 1\n",
    "val ^= 1"
   ]
  },
  {
   "cell_type": "code",
   "execution_count": 110,
   "metadata": {},
   "outputs": [
    {
     "data": {
      "text/plain": [
       "0"
      ]
     },
     "execution_count": 110,
     "metadata": {},
     "output_type": "execute_result"
    }
   ],
   "source": [
    "val"
   ]
  },
  {
   "cell_type": "code",
   "execution_count": 111,
   "metadata": {},
   "outputs": [],
   "source": [
    "val ^=1"
   ]
  },
  {
   "cell_type": "code",
   "execution_count": 112,
   "metadata": {},
   "outputs": [
    {
     "data": {
      "text/plain": [
       "1"
      ]
     },
     "execution_count": 112,
     "metadata": {},
     "output_type": "execute_result"
    }
   ],
   "source": [
    "val"
   ]
  },
  {
   "cell_type": "markdown",
   "metadata": {},
   "source": [
    "The time complexity is the same as that of BFS, i.e., O(mn). The space complexity is a little better than the worst-case for BFS, since there are at most O(m+n) vertices that are at the same distance from a given entry. "
   ]
  },
  {
   "cell_type": "markdown",
   "metadata": {},
   "source": [
    "We also provide a recursive solution which is in the spirit of DFS. It does not need a queue but implicitly uses a stack, namely the function call stack. "
   ]
  },
  {
   "cell_type": "code",
   "execution_count": 121,
   "metadata": {},
   "outputs": [],
   "source": [
    "def flip_color_2(x:int, y:int, image) -> None:\n",
    "    color = image[x][y]\n",
    "    image[x][y] ^= 1 # flips \n",
    "    for next_x, next_y in ((x,y+1), (x,y-1), (x+1, y), (x-1,y)):\n",
    "        if (0 <= next_x < len(image) and 0 <= next_y < len(image[next_x])\n",
    "           and image[next_x][next_y] == color):\n",
    "            flip_color_2(next_x, next_y, image)"
   ]
  },
  {
   "cell_type": "code",
   "execution_count": 126,
   "metadata": {},
   "outputs": [],
   "source": [
    "flip_color_2(4,0,image)"
   ]
  },
  {
   "cell_type": "code",
   "execution_count": 127,
   "metadata": {},
   "outputs": [
    {
     "name": "stdout",
     "output_type": "stream",
     "text": [
      "[1, 0, 1, 1, 1]\n",
      "[0, 0, 0, 1, 1]\n",
      "[0, 0, 1, 0, 1]\n",
      "[0, 0, 1, 0, 1]\n",
      "[0, 0, 1, 1, 0]\n"
     ]
    }
   ],
   "source": [
    "for i in range(len(image)):\n",
    "    print(image[i])"
   ]
  },
  {
   "cell_type": "code",
   "execution_count": 128,
   "metadata": {},
   "outputs": [],
   "source": [
    "flip_color_2(4,0,image)"
   ]
  },
  {
   "cell_type": "code",
   "execution_count": 131,
   "metadata": {},
   "outputs": [
    {
     "name": "stdout",
     "output_type": "stream",
     "text": [
      "[1, 1, 1, 1, 1]\n",
      "[1, 1, 1, 1, 1]\n",
      "[1, 1, 1, 0, 1]\n",
      "[1, 1, 1, 0, 1]\n",
      "[1, 1, 1, 1, 0]\n"
     ]
    }
   ],
   "source": [
    "for i in range(len(image)):\n",
    "    print(image[i])"
   ]
  },
  {
   "cell_type": "markdown",
   "metadata": {},
   "source": [
    "The time complexity is O(mn) and space complexity is O(1)."
   ]
  },
  {
   "cell_type": "markdown",
   "metadata": {},
   "source": [
    "## 18.3 Compute enclosed regions \n",
    "\n",
    "This problem is concerned with computing regions within a 2D grid that are enclosed. There is no path from any of them to the boundary that only passes throught white squares. The computational problem can be formalized using 2D arrays of Bs(blacks) and Ws(whites). Let A be a 2D array whose entries are either W or B. Write a program that takes A, and replaces all Ws that cannot reach the boundary without a B. "
   ]
  },
  {
   "cell_type": "markdown",
   "metadata": {},
   "source": [
    "**Sol:** It is easier to focus on the inverse problem, namely identifying Ws that can reach the boundary. The reason that the inverse is simpler is that if a W is adjacent to a W that can reach the boundary, then the first W can reach it too. The Ws on the boudary are the initial set. Subsequently, we find Ws neighboring the boundary Ws, and iteratively grow the set. Whenever we find a new W that can reach the boundary, we need to record it, and at some stage search for new Ws from it. A queue is a reasonable data structure to track Ws to be processed. The approach amounts to breadth-first search starting with a set of vertices rather than a single vertex. "
   ]
  },
  {
   "cell_type": "code",
   "execution_count": 132,
   "metadata": {},
   "outputs": [],
   "source": [
    "def fill_surrouned_regions(board:list) -> None:\n",
    "    n,m = len(board), len(board[0])\n",
    "    q = collections.deque([(i,j) for k in range(n) for i,j in ((k,0), (k,m-1))]\n",
    "                         + [(i,j) for k in range(m) for i, j in ((0,k), (n-1,k))])\n",
    "    while q:\n",
    "        x,y = q.popleft()\n",
    "        if 0 <= x < n and 0 <= y < m and board[x][y] == 'W':\n",
    "            board[x][y] = 'T'\n",
    "            q.extend([(x-1,y), (x+1, y), (x, y-1), (x, y+1)])\n",
    "    board[:] = [['B' if c != 'T' else 'W' for c in row] for row in board]"
   ]
  },
  {
   "cell_type": "code",
   "execution_count": 133,
   "metadata": {},
   "outputs": [],
   "source": [
    "A = [['B', 'B',  'B', 'B'],\n",
    "    ['W', 'B', 'W', 'B'],\n",
    "    ['B', 'W', 'W', 'B'],\n",
    "    ['B', 'B', 'B', 'B']]"
   ]
  },
  {
   "cell_type": "code",
   "execution_count": 135,
   "metadata": {},
   "outputs": [],
   "source": [
    "fill_surrouned_regions(A)"
   ]
  },
  {
   "cell_type": "code",
   "execution_count": 137,
   "metadata": {},
   "outputs": [
    {
     "name": "stdout",
     "output_type": "stream",
     "text": [
      "['B', 'B', 'B', 'B']\n",
      "['W', 'B', 'B', 'B']\n",
      "['B', 'B', 'B', 'B']\n",
      "['B', 'B', 'B', 'B']\n"
     ]
    }
   ],
   "source": [
    "for i in range(len(A)):\n",
    "    print(A[i])"
   ]
  },
  {
   "cell_type": "code",
   "execution_count": 139,
   "metadata": {},
   "outputs": [],
   "source": [
    "n = 4\n",
    "m= 4"
   ]
  },
  {
   "cell_type": "code",
   "execution_count": 144,
   "metadata": {},
   "outputs": [
    {
     "name": "stdout",
     "output_type": "stream",
     "text": [
      "0 0\n",
      "0 3\n",
      "1 0\n",
      "1 3\n",
      "2 0\n",
      "2 3\n",
      "3 0\n",
      "3 3\n"
     ]
    }
   ],
   "source": [
    "for k in range(n):\n",
    "    for i,j in ((k,0), (k,m-1)):\n",
    "        print(i,j)"
   ]
  },
  {
   "cell_type": "code",
   "execution_count": 145,
   "metadata": {},
   "outputs": [
    {
     "name": "stdout",
     "output_type": "stream",
     "text": [
      "0 0\n",
      "3 0\n",
      "0 1\n",
      "3 1\n",
      "0 2\n",
      "3 2\n",
      "0 3\n",
      "3 3\n"
     ]
    }
   ],
   "source": [
    "for k in range(m):\n",
    "    for i,j in ((0,k), (m-1,k)):\n",
    "        print(i,j)"
   ]
  },
  {
   "cell_type": "code",
   "execution_count": 146,
   "metadata": {},
   "outputs": [],
   "source": [
    "temp = [(i,j) for k in range(n) for i,j in ((k,0), (k,m-1))] + [(i,j) for k in range(m) for i,j in ((0,k), (n-1,k))]"
   ]
  },
  {
   "cell_type": "code",
   "execution_count": 147,
   "metadata": {},
   "outputs": [
    {
     "name": "stdout",
     "output_type": "stream",
     "text": [
      "[(0, 0), (0, 3), (1, 0), (1, 3), (2, 0), (2, 3), (3, 0), (3, 3), (0, 0), (3, 0), (0, 1), (3, 1), (0, 2), (3, 2), (0, 3), (3, 3)]\n"
     ]
    }
   ],
   "source": [
    "print(temp)"
   ]
  },
  {
   "cell_type": "code",
   "execution_count": 148,
   "metadata": {},
   "outputs": [],
   "source": [
    "q = collections.deque(temp)"
   ]
  },
  {
   "cell_type": "code",
   "execution_count": 149,
   "metadata": {},
   "outputs": [
    {
     "name": "stdout",
     "output_type": "stream",
     "text": [
      "deque([(0, 0), (0, 3), (1, 0), (1, 3), (2, 0), (2, 3), (3, 0), (3, 3), (0, 0), (3, 0), (0, 1), (3, 1), (0, 2), (3, 2), (0, 3), (3, 3)])\n"
     ]
    }
   ],
   "source": [
    "print(q)"
   ]
  },
  {
   "cell_type": "code",
   "execution_count": 150,
   "metadata": {},
   "outputs": [
    {
     "name": "stdout",
     "output_type": "stream",
     "text": [
      "0 0\n",
      "0 3\n",
      "1 0\n",
      "1 3\n",
      "2 0\n",
      "2 3\n",
      "3 0\n",
      "3 3\n",
      "0 0\n",
      "3 0\n",
      "0 1\n",
      "3 1\n",
      "0 2\n",
      "3 2\n",
      "0 3\n",
      "3 3\n"
     ]
    }
   ],
   "source": [
    "while q:\n",
    "    x,y = q.popleft()\n",
    "    print(x,y)"
   ]
  },
  {
   "cell_type": "code",
   "execution_count": 151,
   "metadata": {},
   "outputs": [],
   "source": [
    "x = 0\n",
    "y = 0\n",
    "q.extend([(x-1, y), (x+1,y), (x,y-1), (x,y+1)])"
   ]
  },
  {
   "cell_type": "code",
   "execution_count": 152,
   "metadata": {},
   "outputs": [
    {
     "name": "stdout",
     "output_type": "stream",
     "text": [
      "deque([(-1, 0), (1, 0), (0, -1), (0, 1)])\n"
     ]
    }
   ],
   "source": [
    "print(q)"
   ]
  },
  {
   "cell_type": "markdown",
   "metadata": {},
   "source": [
    "The time and space complexity are the same as those for BFS, namely O(mn), where m and n are the number of rows and columns in A. "
   ]
  },
  {
   "cell_type": "markdown",
   "metadata": {},
   "source": [
    "## 18.4 Deadlock detection \n",
    "\n",
    "High performance database systems use multiple processes and resource locking. These systems may not provide mechanisms to avoid or prevent deadlock: a situation in which two or more competing actions are each waiting for the ohter to finish, which precludes all these actions from progressing. Such systems must support a mechanism to detect deadlocks, as well as an algorithm for recovering from them. \n",
    "\n",
    "One deadlock detection algorithm makes use of a \"wait-for\" graph to track which other processes a process is currently blocking on. In a wait-for graph, processes are represented as nodes, and an edge from process P to Q implies Q is holding a resource that P needs and thus P is waiting for Q to release its lock on that resource. A cycle in this graph implies the possibility of a deadlock. This motivates the following problem. \n",
    "\n",
    "Write a program that takes as input a directed graph and checks if the graph contains a cycle. "
   ]
  },
  {
   "cell_type": "markdown",
   "metadata": {},
   "source": [
    "**Sol:** We can check for existence of a cycle in G by running DFS on G. Recall DFS maintains a color for each vertex. Initially, all vertices are white. When a vertex first discovered, it is colored gray. When DFS finishes processing a vetex, that vertex is colored black. \n",
    "\n",
    "As soon as we discover an edge from a gray vertex back to a gray vertex, a cycle exists in G and we can stop. Conversely, if there exists a cycle, once we first reach vertex in the cycle (call it v)f, we will visit its predecessor in the cycle (call it u) before finishing processing v, i.e., we will find an edge from a gray to a gray vertex. In summary, a cycle exists if and only if DFS discovers an edge from a gray vertex to a gray vertex. Since the graph may not be strongly connected, we must examine each vertex, and run DFS from it if it has not already been explored. "
   ]
  },
  {
   "cell_type": "code",
   "execution_count": 12,
   "metadata": {},
   "outputs": [],
   "source": [
    "class GraphVertex:\n",
    "    WHITE, GRAY, BLACK = range(3)\n",
    "    \n",
    "    def __init__(self) -> None:\n",
    "        self.color = GraphVertex.WHITE\n",
    "        self.edges = []"
   ]
  },
  {
   "cell_type": "code",
   "execution_count": 28,
   "metadata": {},
   "outputs": [],
   "source": [
    "def is_deadlocked(graph: list) -> bool:\n",
    "    def has_cycle(cur):\n",
    "        # Visiting a gray vertex means a cycle\n",
    "        if cur.color == GraphVertex.GRAY:\n",
    "            return True\n",
    "        \n",
    "        cur.color = GraphVertex.GRAY # Marks current vertex as a gray one \n",
    "        # Traverse the neighbor vertices \n",
    "        if any(next.color != GraphVertex.BLACK and has_cycle(next)\n",
    "              for next in cur.edges):\n",
    "            return True\n",
    "        cur.color = GraphVertex.BLACK #Marks current vertex as black\n",
    "        return False\n",
    "    \n",
    "    return any(vertex.color == GraphVertex.WHITE and has_cycle(vertex)\n",
    "              for vertex in graph)"
   ]
  },
  {
   "cell_type": "code",
   "execution_count": 13,
   "metadata": {},
   "outputs": [],
   "source": [
    "a = GraphVertex()\n",
    "b = GraphVertex()\n",
    "c = GraphVertex()\n",
    "d = GraphVertex()\n",
    "e = GraphVertex()\n",
    "f = GraphVertex()\n",
    "g = GraphVertex()\n",
    "h = GraphVertex()\n",
    "i = GraphVertex()\n",
    "j = GraphVertex()\n",
    "k = GraphVertex()\n",
    "l = GraphVertex()\n",
    "m = GraphVertex()\n",
    "n = GraphVertex()"
   ]
  },
  {
   "cell_type": "code",
   "execution_count": 14,
   "metadata": {},
   "outputs": [],
   "source": [
    "a.edges = [b,c]"
   ]
  },
  {
   "cell_type": "code",
   "execution_count": 15,
   "metadata": {},
   "outputs": [
    {
     "name": "stdout",
     "output_type": "stream",
     "text": [
      "<__main__.GraphVertex object at 0x7f2a80d7edd8>\n",
      "<__main__.GraphVertex object at 0x7f2a80d7ee48>\n"
     ]
    }
   ],
   "source": [
    "for next in a.edges:\n",
    "    print(next)"
   ]
  },
  {
   "cell_type": "code",
   "execution_count": 33,
   "metadata": {},
   "outputs": [],
   "source": [
    "b.edges = [k,a]\n",
    "c.edges = [e]\n",
    "d.edges = [c,h]\n",
    "e.edges = [d]\n",
    "f.edges = [g]\n",
    "g.edges = [h]\n",
    "h.edges = []\n",
    "i.edges = [j]\n",
    "j.edges = [f]\n",
    "l.edges = [i]\n",
    "m.edges = [n]\n",
    "n.edges = [m]"
   ]
  },
  {
   "cell_type": "code",
   "execution_count": 34,
   "metadata": {},
   "outputs": [],
   "source": [
    "graph =[a,b,f,g,h,i,j,k,l]"
   ]
  },
  {
   "cell_type": "code",
   "execution_count": 35,
   "metadata": {},
   "outputs": [
    {
     "data": {
      "text/plain": [
       "False"
      ]
     },
     "execution_count": 35,
     "metadata": {},
     "output_type": "execute_result"
    }
   ],
   "source": [
    "is_deadlocked(graph)"
   ]
  },
  {
   "cell_type": "markdown",
   "metadata": {},
   "source": [
    "The time complexity of DFS is O(|V| + |E|): we iterate over all vertices, and spend a constant amount of time per edge. The space complexity is O(|V|), which is the maximum stack depth --if we go deeper than |V| calls, some vertex must repeat, implying a cycle in the graph, which leads to early termination. "
   ]
  },
  {
   "cell_type": "markdown",
   "metadata": {},
   "source": [
    "## 18.5 Clone a graph\n",
    "\n",
    "Consider a vertex type for a directed graph in which there are two fields: an integer label and a list of references to other vertices. Design an algorithm that takes a reference to a vertex u, and creates a copy of the graph on the vertices reachable from u. Return the copy of u. \n",
    "\n",
    "**Hint:** Maintain a map from vertices in the original graph to their counterparts in the clone.\n",
    "\n",
    "**Sol:** We traverse the graph starting from u. Each time we encounter a vertex or an edge that is not yet in the clone, we add it to the clone. We recognize new vertices by maintaining a hash table mapping vertices in the orignal graph to their counterparts in the new graph. Any standard graph traversal algorithm works --the code below uses breadth first search. "
   ]
  },
  {
   "cell_type": "code",
   "execution_count": 36,
   "metadata": {},
   "outputs": [],
   "source": [
    "class GraphVertex:\n",
    "    def __init__(self, label: int) -> None:\n",
    "        self.label = label\n",
    "        self.edges = []"
   ]
  },
  {
   "cell_type": "code",
   "execution_count": 37,
   "metadata": {},
   "outputs": [],
   "source": [
    "def clone_graph(graph: GraphVertex) -> GraphVertex:\n",
    "    if graph is None:\n",
    "        return None\n",
    "    \n",
    "    q = collections.deque([graph])\n",
    "    vertex_map = {graph: GraphVertex(graph.label)}\n",
    "    \n",
    "    while q:\n",
    "        v = q.popleft()\n",
    "        for e in v.edges:\n",
    "            # Try to copy vertex e\n",
    "            if e not in vertex_map:\n",
    "                vertex_map[e] = GraphVertex(e.label)\n",
    "                q.append(e)\n",
    "            # Copy edge \n",
    "            vertex_map[v].edges.append(vertex_map[e])\n",
    "    return vertex_map[graph]"
   ]
  },
  {
   "cell_type": "code",
   "execution_count": 38,
   "metadata": {},
   "outputs": [],
   "source": [
    "a = GraphVertex(1)\n",
    "b = GraphVertex(2)\n",
    "c = GraphVertex(3)\n",
    "d = GraphVertex(4)\n",
    "e = GraphVertex(5)\n",
    "f = GraphVertex(6)\n",
    "g = GraphVertex(7)\n",
    "h = GraphVertex(8)\n",
    "i = GraphVertex(9)\n",
    "j = GraphVertex(10)\n",
    "k = GraphVertex(11)\n",
    "l = GraphVertex(12)\n",
    "m = GraphVertex(13)\n",
    "n = GraphVertex(14)"
   ]
  },
  {
   "cell_type": "code",
   "execution_count": 39,
   "metadata": {},
   "outputs": [],
   "source": [
    "a.edges = [b,c]\n",
    "b.edges = [a,k]\n",
    "c.edges = [a,e,d]\n",
    "d.edges = [e,c,h]\n",
    "e.edges = [c,d]\n",
    "f.edges = [j,g]\n",
    "h.edges = [g,d]\n",
    "i.edges = [j,l]\n",
    "j.edges = [l,f]\n",
    "k.edges = [b,i]\n",
    "l.edges = [i,j]\n",
    "m.edges = [n]\n",
    "n.edges = [m]"
   ]
  },
  {
   "cell_type": "code",
   "execution_count": 40,
   "metadata": {},
   "outputs": [],
   "source": [
    "graph = [a,b,c,d,e,f,g,h,i,j,k,l,m,n]"
   ]
  },
  {
   "cell_type": "code",
   "execution_count": 41,
   "metadata": {},
   "outputs": [],
   "source": [
    "copy = clone_graph(b)"
   ]
  },
  {
   "cell_type": "code",
   "execution_count": 42,
   "metadata": {},
   "outputs": [
    {
     "data": {
      "text/plain": [
       "2"
      ]
     },
     "execution_count": 42,
     "metadata": {},
     "output_type": "execute_result"
    }
   ],
   "source": [
    "copy.label"
   ]
  },
  {
   "cell_type": "code",
   "execution_count": 43,
   "metadata": {},
   "outputs": [
    {
     "data": {
      "text/plain": [
       "[<__main__.GraphVertex at 0x7f2a80d7e0b8>,\n",
       " <__main__.GraphVertex at 0x7f2a80d7e860>]"
      ]
     },
     "execution_count": 43,
     "metadata": {},
     "output_type": "execute_result"
    }
   ],
   "source": [
    "copy.edges"
   ]
  },
  {
   "cell_type": "code",
   "execution_count": 44,
   "metadata": {},
   "outputs": [
    {
     "name": "stdout",
     "output_type": "stream",
     "text": [
      "[<__main__.GraphVertex object at 0x7f2a80d7e7f0>, <__main__.GraphVertex object at 0x7f2a80d7e780>]\n",
      "[<__main__.GraphVertex object at 0x7f2a80d7e7f0>, <__main__.GraphVertex object at 0x7f2a80d7e748>]\n"
     ]
    }
   ],
   "source": [
    "for i in copy.edges:\n",
    "    print(i.edges)"
   ]
  },
  {
   "cell_type": "code",
   "execution_count": 45,
   "metadata": {},
   "outputs": [
    {
     "name": "stdout",
     "output_type": "stream",
     "text": [
      "2\n",
      "3\n",
      "2\n",
      "9\n"
     ]
    }
   ],
   "source": [
    "for i in copy.edges:\n",
    "    for j in i.edges:\n",
    "        print(j.label)"
   ]
  },
  {
   "cell_type": "code",
   "execution_count": 46,
   "metadata": {},
   "outputs": [
    {
     "name": "stdout",
     "output_type": "stream",
     "text": [
      "1\n",
      "11\n",
      "1\n",
      "5\n",
      "4\n",
      "1\n",
      "11\n",
      "10\n",
      "12\n"
     ]
    }
   ],
   "source": [
    "for i in copy.edges:\n",
    "    for j in i.edges:\n",
    "        for k in j.edges:\n",
    "            print(k.label)"
   ]
  },
  {
   "cell_type": "markdown",
   "metadata": {},
   "source": [
    "Remark: did not find a good way to print graph with edges \n",
    "\n",
    "The space complexity is O(|V| + |E|), which is the space taken by the result. Excluding the space for the result, the space complexity is O(|V|)--this comes from the hash table, as well as the BFS queue. "
   ]
  },
  {
   "cell_type": "markdown",
   "metadata": {},
   "source": [
    "## 18.6 Making wired connections\n",
    "\n",
    "Consider a collection of electrical pins on a printed circuit board (PCB). For each pair of pins, there may or may not be a wire joing them. \n",
    "\n",
    "Design an algorithm that takes a set of pins and a set of wires conecting pairs of pins, and determines if it is possible to place some pins on the left half of a PCB, and the remainder on the right half, such that each wire between left and right halves. Return such a division, if one exists. "
   ]
  },
  {
   "cell_type": "markdown",
   "metadata": {},
   "source": [
    "**Sol:** A better approach is to use connectivity information to guide the partitioning. Assume the pins are numbered from 0 to p-1. Create an undirected graph G whose vertices are pins. Add an edge between pairs of vertices if the corresponding pins are connected by a wire. For simplicity, assume G is connected; if not, the connected components can be analyzed independently. \n",
    "\n",
    "Run BFS on G beginning with any vertex v_0. Assign v_0 arbitrarily to lie on the left half. All vertices at an odd distance from v_0 are assigned to the right half. \n",
    "\n",
    "**A cycle in which the vertices can be partitioned into two sets must have an even number of edges-- it has to go back and forth between the sets and terminate at the starting vetex, and each back and forth adds two edges. Therefore, the vertices in an odd length cycle cannot be partitioned into two sets such that all edges are between the sets.**"
   ]
  },
  {
   "cell_type": "code",
   "execution_count": 48,
   "metadata": {},
   "outputs": [],
   "source": [
    "class GraphVertex:\n",
    "    def __init__(self) -> None:\n",
    "        self.d = -1\n",
    "        self.edges = []"
   ]
  },
  {
   "cell_type": "code",
   "execution_count": 57,
   "metadata": {},
   "outputs": [],
   "source": [
    "def is_any_placement_feasible(graph: list) -> bool:\n",
    "    def bfs(s):\n",
    "        s.d = 0\n",
    "        q = collections.deque([s])\n",
    "        \n",
    "        while q:\n",
    "            for t in q[0].edges:\n",
    "                if t.d == -1: # Unvisited vertex\n",
    "                    t.d = q[0].d + 1\n",
    "                    q.append(t)\n",
    "                elif t.d == q[0].d:\n",
    "                    return False\n",
    "            print(q[0].d)\n",
    "            del q[0]\n",
    "        return True\n",
    "    return all(bfs(v) for v in graph if v.d == -1)"
   ]
  },
  {
   "cell_type": "code",
   "execution_count": 58,
   "metadata": {},
   "outputs": [],
   "source": [
    "a = GraphVertex()\n",
    "b = GraphVertex()\n",
    "c = GraphVertex()\n",
    "d = GraphVertex()\n",
    "e = GraphVertex()\n",
    "f = GraphVertex()\n",
    "g = GraphVertex()\n",
    "h = GraphVertex()\n",
    "i = GraphVertex()\n",
    "j = GraphVertex()\n",
    "k = GraphVertex()\n",
    "l = GraphVertex()\n",
    "m = GraphVertex()\n",
    "n = GraphVertex()"
   ]
  },
  {
   "cell_type": "code",
   "execution_count": 59,
   "metadata": {},
   "outputs": [],
   "source": [
    "a.edges = [b,c]\n",
    "b.edges = [a,k]\n",
    "c.edges = [a,e,d]\n",
    "d.edges = [e,c,h]\n",
    "e.edges = [c,d]\n",
    "f.edges = [j,g]\n",
    "h.edges = [g,d]\n",
    "i.edges = [j,l]\n",
    "j.edges = [l,f]\n",
    "k.edges = [b,i]\n",
    "l.edges = [i,j]\n",
    "m.edges = [n]\n",
    "n.edges = [m]"
   ]
  },
  {
   "cell_type": "code",
   "execution_count": 60,
   "metadata": {},
   "outputs": [
    {
     "name": "stdout",
     "output_type": "stream",
     "text": [
      "0\n",
      "1\n",
      "1\n",
      "2\n"
     ]
    },
    {
     "data": {
      "text/plain": [
       "False"
      ]
     },
     "execution_count": 60,
     "metadata": {},
     "output_type": "execute_result"
    }
   ],
   "source": [
    "graph = [a,b,c,d,e,f,g,h,i,j,k,l,m,n]\n",
    "is_any_placement_feasible(graph)"
   ]
  },
  {
   "cell_type": "markdown",
   "metadata": {},
   "source": [
    "The complexity is the same as for BFS, i.e., O(p+w) time complexity, where w is the number of wires, and O(p) space complexity.\n",
    "\n",
    "Graphs that can be partitioned as described above are known as bipartite graphs. Another term for such graphs is 2-colorable (since the vertices can be assigned one of two colors without neighboring vertices having the same color.)"
   ]
  },
  {
   "cell_type": "markdown",
   "metadata": {},
   "source": [
    "## 18.7 Transform one string to another \n",
    "\n",
    "Let s and t be strings and D a disctioary, i.e., a set of strings. Define s to produce t if there exists a sequence of strings from the dictionary P=<s_0,s_1,...s_{n-1}> such taht the first string is s, the last string is t, and the adjacent strings have the same length and differ in exactly one character. The sequence P is called a production sequence. E.g. <cat, cot, dot, dog> is production sequence. \n",
    "\n",
    "Given a dictionary D and two strings s and t, write a program to determine if s produces t. Assume that all characters are lowercase alphabets. If s does product t, output the length of a shortest production sequence; otherwise, output -1. \n",
    "\n",
    "**Hin:** Treat strings as vertices in an undirected graph, with an edge between u and v if and only if the corresponding strings differ in one character. \n",
    "\n",
    "A production sequence is simply a path in G, so what we need is a shortest path from s to t in G. Shortest paths in an undirected graph are naturally computed using BFS. "
   ]
  },
  {
   "cell_type": "code",
   "execution_count": 61,
   "metadata": {},
   "outputs": [],
   "source": [
    "import string"
   ]
  },
  {
   "cell_type": "code",
   "execution_count": 72,
   "metadata": {},
   "outputs": [],
   "source": [
    "# Uses BFS to find the least steps of transformation.\n",
    "\n",
    "def transform_string(D:set, s:str, t:str) -> int:\n",
    "    StringWithDistance = collections.namedtuple(\n",
    "    'StringWithDistance', ('candidate_string', 'distance'))\n",
    "    \n",
    "    q = collections.deque([StringWithDistance(s,0)])\n",
    "    D.remove(s) #Marks s being visited by erasing it in D\n",
    "    \n",
    "    while q:\n",
    "        f = q.popleft()\n",
    "        # Return if we find a match\n",
    "        if f.candidate_string == t:\n",
    "            return f.distance # Number of steps reaches t. \n",
    "        \n",
    "        # Tries all possible transformations of f.candidate_string\n",
    "        for i in range(len(f.candidate_string)):\n",
    "            for c in string.ascii_lowercase: # Iterates throuhg 'a'-'z'.\n",
    "                cand = f.candidate_string[:i] + c + f.candidate_string[i+1:]\n",
    "                if cand in D:\n",
    "                    D.remove(cand)\n",
    "                    q.append(StringWithDistance(cand, f.distance+1))\n",
    "        print(q)\n",
    "    return -1 # Cannot find a possible transformations. "
   ]
  },
  {
   "cell_type": "code",
   "execution_count": 92,
   "metadata": {},
   "outputs": [],
   "source": [
    "D = set(['bat', 'cot', 'dog', 'dag','dot','cat','fag','bet', 'cug', 'ceg'])"
   ]
  },
  {
   "cell_type": "code",
   "execution_count": 88,
   "metadata": {},
   "outputs": [],
   "source": [
    "s = 'bat'"
   ]
  },
  {
   "cell_type": "code",
   "execution_count": 75,
   "metadata": {},
   "outputs": [],
   "source": [
    "t = 'cot'"
   ]
  },
  {
   "cell_type": "code",
   "execution_count": 76,
   "metadata": {},
   "outputs": [
    {
     "name": "stdout",
     "output_type": "stream",
     "text": [
      "deque([StringWithDistance(candidate_string='cat', distance=1)])\n",
      "deque([StringWithDistance(candidate_string='cot', distance=2)])\n"
     ]
    },
    {
     "data": {
      "text/plain": [
       "2"
      ]
     },
     "execution_count": 76,
     "metadata": {},
     "output_type": "execute_result"
    }
   ],
   "source": [
    "transform_string(D,s,t)"
   ]
  },
  {
   "cell_type": "code",
   "execution_count": 78,
   "metadata": {},
   "outputs": [],
   "source": [
    "t= 'dog'"
   ]
  },
  {
   "cell_type": "code",
   "execution_count": 82,
   "metadata": {},
   "outputs": [
    {
     "name": "stdout",
     "output_type": "stream",
     "text": [
      "deque([StringWithDistance(candidate_string='cat', distance=1)])\n",
      "deque([StringWithDistance(candidate_string='cot', distance=2)])\n",
      "deque([StringWithDistance(candidate_string='dot', distance=3)])\n",
      "deque([StringWithDistance(candidate_string='dog', distance=4)])\n"
     ]
    },
    {
     "data": {
      "text/plain": [
       "4"
      ]
     },
     "execution_count": 82,
     "metadata": {},
     "output_type": "execute_result"
    }
   ],
   "source": [
    "transform_string(D,s,t)"
   ]
  },
  {
   "cell_type": "code",
   "execution_count": 85,
   "metadata": {},
   "outputs": [],
   "source": [
    "t = 'fag'"
   ]
  },
  {
   "cell_type": "code",
   "execution_count": 86,
   "metadata": {},
   "outputs": [
    {
     "name": "stdout",
     "output_type": "stream",
     "text": [
      "deque([StringWithDistance(candidate_string='cat', distance=1)])\n",
      "deque([StringWithDistance(candidate_string='cot', distance=2)])\n",
      "deque([StringWithDistance(candidate_string='dot', distance=3)])\n",
      "deque([StringWithDistance(candidate_string='dog', distance=4)])\n",
      "deque([StringWithDistance(candidate_string='dag', distance=5)])\n",
      "deque([StringWithDistance(candidate_string='fag', distance=6)])\n"
     ]
    },
    {
     "data": {
      "text/plain": [
       "6"
      ]
     },
     "execution_count": 86,
     "metadata": {},
     "output_type": "execute_result"
    }
   ],
   "source": [
    "transform_string(D,s,t)"
   ]
  },
  {
   "cell_type": "code",
   "execution_count": 89,
   "metadata": {},
   "outputs": [],
   "source": [
    "t = 'bet'"
   ]
  },
  {
   "cell_type": "code",
   "execution_count": 90,
   "metadata": {},
   "outputs": [
    {
     "name": "stdout",
     "output_type": "stream",
     "text": [
      "deque([StringWithDistance(candidate_string='cat', distance=1), StringWithDistance(candidate_string='bet', distance=1)])\n",
      "deque([StringWithDistance(candidate_string='bet', distance=1), StringWithDistance(candidate_string='cot', distance=2)])\n"
     ]
    },
    {
     "data": {
      "text/plain": [
       "1"
      ]
     },
     "execution_count": 90,
     "metadata": {},
     "output_type": "execute_result"
    }
   ],
   "source": [
    "transform_string(D,s,t)"
   ]
  },
  {
   "cell_type": "code",
   "execution_count": 93,
   "metadata": {},
   "outputs": [],
   "source": [
    "t= 'cug'"
   ]
  },
  {
   "cell_type": "code",
   "execution_count": 94,
   "metadata": {},
   "outputs": [
    {
     "name": "stdout",
     "output_type": "stream",
     "text": [
      "deque([StringWithDistance(candidate_string='cat', distance=1), StringWithDistance(candidate_string='bet', distance=1)])\n",
      "deque([StringWithDistance(candidate_string='bet', distance=1), StringWithDistance(candidate_string='cot', distance=2)])\n",
      "deque([StringWithDistance(candidate_string='cot', distance=2)])\n",
      "deque([StringWithDistance(candidate_string='dot', distance=3)])\n",
      "deque([StringWithDistance(candidate_string='dog', distance=4)])\n",
      "deque([StringWithDistance(candidate_string='dag', distance=5)])\n",
      "deque([StringWithDistance(candidate_string='fag', distance=6)])\n",
      "deque([])\n"
     ]
    },
    {
     "data": {
      "text/plain": [
       "-1"
      ]
     },
     "execution_count": 94,
     "metadata": {},
     "output_type": "execute_result"
    }
   ],
   "source": [
    "transform_string(D,s,t)"
   ]
  },
  {
   "cell_type": "code",
   "execution_count": 95,
   "metadata": {},
   "outputs": [
    {
     "data": {
      "text/plain": [
       "'bat'"
      ]
     },
     "execution_count": 95,
     "metadata": {},
     "output_type": "execute_result"
    }
   ],
   "source": [
    "s"
   ]
  },
  {
   "cell_type": "code",
   "execution_count": 96,
   "metadata": {},
   "outputs": [
    {
     "data": {
      "text/plain": [
       "{'ceg', 'cug'}"
      ]
     },
     "execution_count": 96,
     "metadata": {},
     "output_type": "execute_result"
    }
   ],
   "source": [
    "D"
   ]
  },
  {
   "cell_type": "markdown",
   "metadata": {},
   "source": [
    "The number of vertices is d, the number of words in the dictionary. The number of edges is, in the worst-case, O(d^2). The time complexity is that of BFS, namely O(d+d^2) = O(d^2). If the string length n is less than d then the maximum number of edges out of the vertex is O(n), implying an O(dn) space complexity bound. "
   ]
  },
  {
   "cell_type": "code",
   "execution_count": null,
   "metadata": {},
   "outputs": [],
   "source": []
  }
 ],
 "metadata": {
  "kernelspec": {
   "display_name": "Python 3",
   "language": "python",
   "name": "python3"
  },
  "language_info": {
   "codemirror_mode": {
    "name": "ipython",
    "version": 3
   },
   "file_extension": ".py",
   "mimetype": "text/x-python",
   "name": "python",
   "nbconvert_exporter": "python",
   "pygments_lexer": "ipython3",
   "version": "3.6.8"
  }
 },
 "nbformat": 4,
 "nbformat_minor": 2
}
