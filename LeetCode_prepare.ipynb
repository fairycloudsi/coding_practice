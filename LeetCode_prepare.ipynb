{
 "cells": [
  {
   "cell_type": "markdown",
   "metadata": {},
   "source": [
    "## 6. ZigZag conversion \n",
    "\n",
    "The string \"PAYPALISHIRING\" is written in a zigzag pattern on a given number of rows like this: (you may want to display this pattern in a fixed font for better legibility)\n",
    "P   A   H   N\n",
    "A P L S I I G\n",
    "Y   I   R\n",
    "And then read line by line: \"PAHNAPLSIIGYIR\"\n",
    "\n",
    "Write the code that will take a string and make this conversion given a number of rows:\n",
    "\n",
    "string convert(string s, int numRows);"
   ]
  },
  {
   "cell_type": "code",
   "execution_count": 1,
   "metadata": {},
   "outputs": [],
   "source": [
    "class Solution:\n",
    "    def convert(self, s: str, numRows: int) -> str:\n",
    "        \n",
    "        if numRows == 0:\n",
    "            return ''\n",
    "        if numRows == 1:\n",
    "            return s\n",
    "        if len(s) <= numRows:\n",
    "            return s\n",
    "        \n",
    "        diagonals = numRows - 2\n",
    "        skips = diagonals + numRows \n",
    "        \n",
    "        ans = []\n",
    "        \n",
    "        # append first row\n",
    "        for i in range(0, len(s), skips):\n",
    "            ans.append(s[i])\n",
    "            \n",
    "        # append middle rows and digonal elements \n",
    "        for j in range(1, numRows-1):\n",
    "            for i in range(j,len(s), skips):\n",
    "                ans.append(s[i])\n",
    "                if i + 2*(numRows-1 - j) < len(s):\n",
    "                    ans.append(s[i + 2*(numRows -1 - j)])\n",
    "        \n",
    "        # append last row \n",
    "        for i in range(numRows-1, len(s), skips):\n",
    "            ans.append(s[i])"
   ]
  },
  {
   "cell_type": "markdown",
   "metadata": {},
   "source": [
    "The complexity is O(n) since we touch every element once and storage is O(n) since we use an new array to store them. "
   ]
  },
  {
   "cell_type": "code",
   "execution_count": 38,
   "metadata": {},
   "outputs": [],
   "source": [
    "def turning_point(s: list) -> int:\n",
    "    # given a turning increasing array, give the index of turning point \n",
    "    \n",
    "    l, r = 0, len(s)-1\n",
    "    while l < r:\n",
    "        mid = (l+r+1)//2\n",
    "        print('l,r,mid are ', l,r,mid)\n",
    "        if s[l] < s[mid] < s[r]:\n",
    "            break\n",
    "        elif s[l] > s[mid]:\n",
    "            r = mid  \n",
    "        elif s[r] < s[mid]:\n",
    "            l = mid  \n",
    "        if mid == l or mid ==r:\n",
    "            return mid+1 \n",
    "        else:\n",
    "            print('not find turning point')"
   ]
  },
  {
   "cell_type": "code",
   "execution_count": 39,
   "metadata": {},
   "outputs": [
    {
     "name": "stdout",
     "output_type": "stream",
     "text": [
      "l,r,mid are  0 6 3\n"
     ]
    },
    {
     "data": {
      "text/plain": [
       "4"
      ]
     },
     "execution_count": 39,
     "metadata": {},
     "output_type": "execute_result"
    }
   ],
   "source": [
    "s = [4,5,6,7,0,1,2]\n",
    "turning_point(s)"
   ]
  },
  {
   "cell_type": "markdown",
   "metadata": {},
   "source": [
    "For rotated sorted array, use binary search to find the turning point. Time complexity is O(n log n) and storage is O(1). "
   ]
  },
  {
   "cell_type": "code",
   "execution_count": 40,
   "metadata": {},
   "outputs": [],
   "source": [
    "news = s[3+1:] +s[:3+1] "
   ]
  },
  {
   "cell_type": "code",
   "execution_count": 41,
   "metadata": {},
   "outputs": [
    {
     "data": {
      "text/plain": [
       "[0, 1, 2, 4, 5, 6, 7]"
      ]
     },
     "execution_count": 41,
     "metadata": {},
     "output_type": "execute_result"
    }
   ],
   "source": [
    "news"
   ]
  },
  {
   "cell_type": "code",
   "execution_count": 35,
   "metadata": {},
   "outputs": [],
   "source": [
    "def binary_search_sorted(nums: list, target: int) -> int:\n",
    "    # use binary search to find target in sorted array s \n",
    "    l, r = 0, len(nums) -1 \n",
    "    while l<=r:\n",
    "        mid = (l+r+1)//2\n",
    "        print('l,r,mid are ', l,r,mid)\n",
    "        if nums[mid] == target:\n",
    "            break\n",
    "        elif nums[mid] < target:\n",
    "            l = mid +1 \n",
    "        else:\n",
    "            r = mid -1 \n",
    "    if nums[mid] == target:\n",
    "        return mid\n",
    "    else:\n",
    "        return -1 "
   ]
  },
  {
   "cell_type": "code",
   "execution_count": 36,
   "metadata": {},
   "outputs": [
    {
     "name": "stdout",
     "output_type": "stream",
     "text": [
      "l,r,mid are  0 6 3\n",
      "l,r,mid are  0 2 1\n",
      "l,r,mid are  0 0 0\n"
     ]
    },
    {
     "data": {
      "text/plain": [
       "0"
      ]
     },
     "execution_count": 36,
     "metadata": {},
     "output_type": "execute_result"
    }
   ],
   "source": [
    "binary_search_sorted(news,0)"
   ]
  },
  {
   "cell_type": "code",
   "execution_count": 37,
   "metadata": {},
   "outputs": [
    {
     "name": "stdout",
     "output_type": "stream",
     "text": [
      "l,r,mid are  0 6 3\n",
      "l,r,mid are  0 2 1\n",
      "l,r,mid are  2 2 2\n"
     ]
    },
    {
     "data": {
      "text/plain": [
       "-1"
      ]
     },
     "execution_count": 37,
     "metadata": {},
     "output_type": "execute_result"
    }
   ],
   "source": [
    "binary_search_sorted(news,3)"
   ]
  },
  {
   "cell_type": "code",
   "execution_count": 54,
   "metadata": {},
   "outputs": [],
   "source": [
    "def find_target(nums: list, target: int) -> int:\n",
    "    t_index = turning_point(nums)\n",
    "    nums_new = nums[t_index:] + nums[:t_index]\n",
    "    ans = binary_search_sorted(nums_new, target)\n",
    "    \n",
    "    return ans + t_index if ans != -1 else -1"
   ]
  },
  {
   "cell_type": "code",
   "execution_count": 56,
   "metadata": {},
   "outputs": [
    {
     "name": "stdout",
     "output_type": "stream",
     "text": [
      "l,r,mid are  0 6 3\n",
      "l,r,mid are  0 6 3\n",
      "l,r,mid are  0 2 1\n",
      "l,r,mid are  2 2 2\n"
     ]
    },
    {
     "data": {
      "text/plain": [
       "-1"
      ]
     },
     "execution_count": 56,
     "metadata": {},
     "output_type": "execute_result"
    }
   ],
   "source": [
    "nums = [4,5,6,7,0,1,2]\n",
    "find_target(nums, 3)"
   ]
  },
  {
   "cell_type": "code",
   "execution_count": 72,
   "metadata": {},
   "outputs": [],
   "source": [
    "def search( nums: list, target: int) -> int:\n",
    "        \n",
    "        if not nums:\n",
    "            return -1\n",
    "        if len(nums) ==1:\n",
    "            if nums[0] == target:\n",
    "                return 0\n",
    "            else:\n",
    "                return -1\n",
    "        # first find the turning point \n",
    "        \n",
    "        l = 0\n",
    "        r = len(nums) -1\n",
    "        \n",
    "        while l <= r:\n",
    "            mid = (l+r+1)//2\n",
    "            print('l,mid,r are',l,mid,r)\n",
    "            if nums[l] < nums[mid] < nums[r]:\n",
    "                break\n",
    "            if nums[mid] < nums[l]:\n",
    "                r = mid\n",
    "            if nums[r] < nums[mid]:\n",
    "                l = mid \n",
    "            if mid == r or mid == l:\n",
    "                break \n",
    "            \n",
    "        \n",
    "        # Secondly, arrange the array in sorted \n",
    "        nums_sorted = nums[mid+1:] + nums[:mid+1]\n",
    "        print('nums_sorted is' , nums_sorted)\n",
    "        \n",
    "        # Finally, use binary search to find target \n",
    "        \n",
    "        l = 0\n",
    "        r = len(nums) -1 \n",
    "        \n",
    "        while l<=r:\n",
    "            mid_2 = (l+r+1)//2\n",
    "            if nums[mid_2] == target:\n",
    "                break\n",
    "            elif nums[mid_2] < target:\n",
    "                l = mid_2+1\n",
    "            else:\n",
    "                r = mid_2-1\n",
    "            print('mid_2 is' , mid_2)\n",
    "        \n",
    "        if nums_sorted[mid_2] == target:\n",
    "            return (mid_2+mid+1)\n",
    "        else:\n",
    "            return -1 \n",
    "\n",
    "                \n",
    "        "
   ]
  },
  {
   "cell_type": "code",
   "execution_count": 73,
   "metadata": {},
   "outputs": [
    {
     "name": "stdout",
     "output_type": "stream",
     "text": [
      "l,mid,r are 0 3 6\n",
      "nums_sorted is [0, 1, 2, 4, 5, 6, 7]\n",
      "mid_2 is 3\n",
      "mid_2 is 1\n",
      "mid_2 is 0\n"
     ]
    },
    {
     "data": {
      "text/plain": [
       "4"
      ]
     },
     "execution_count": 73,
     "metadata": {},
     "output_type": "execute_result"
    }
   ],
   "source": [
    "search( nums, 0)"
   ]
  },
  {
   "cell_type": "markdown",
   "metadata": {},
   "source": [
    "## BFS (Breadth First Search) and DFS (Depth First Search)"
   ]
  },
  {
   "cell_type": "markdown",
   "metadata": {},
   "source": [
    "### DFS Example "
   ]
  },
  {
   "cell_type": "markdown",
   "metadata": {},
   "source": [
    "#### 1.Find the number of connected components in a undirected graph "
   ]
  },
  {
   "cell_type": "code",
   "execution_count": 12,
   "metadata": {},
   "outputs": [
    {
     "name": "stdout",
     "output_type": "stream",
     "text": [
      "Following are connected components\n",
      "[[0, 1], [2, 3, 4]]\n"
     ]
    }
   ],
   "source": [
    "# Python program to print connected components in an undirected graph \n",
    "\n",
    "class Graph:\n",
    "    \n",
    "    # init function to declare class variables \n",
    "    def __init__(self,V):\n",
    "        self.V = V\n",
    "        self.adj = [[] for i in range(V)]\n",
    "    \n",
    "    def DFSUtil(self, temp, v, visited):\n",
    "        \n",
    "        # Mark the current vertex as visited \n",
    "        visited[v] = True \n",
    "        \n",
    "        # Store the vertex to list\n",
    "        temp.append(v)\n",
    "        \n",
    "        # Repeat for all vertices adjacent to the vertex v\n",
    "        for i in self.adj[v]:\n",
    "            if visited[i] == False:\n",
    "                \n",
    "                # Update the list \n",
    "                temp = self.DFSUtil(temp, i, visited)\n",
    "        return temp\n",
    "    \n",
    "    \n",
    "    # Method to add an undirected edge \n",
    "    def addEdge(self, v, w):\n",
    "        self.adj[v].append(w)\n",
    "        self.adj[w].append(v)\n",
    "        \n",
    "    # Method to retrieve connected components in an undirected graph \n",
    "    def connectedComponents(self):\n",
    "        visited = []\n",
    "        cc = []\n",
    "        for i in range(self.V):\n",
    "            visited.append(False)\n",
    "        for v in range(self.V):\n",
    "            if visited[v] == False:\n",
    "                temp = []\n",
    "                cc.append(self.DFSUtil(temp, v, visited))\n",
    "        return cc \n",
    "\n",
    "# Driver Code \n",
    "if __name__ == \"__main__\":\n",
    "    # Create a graph given in the above diagram \n",
    "    # 5 vertices numbered from 0 to 4\n",
    "    g = Graph(5);\n",
    "    g.addEdge(1, 0)\n",
    "    g.addEdge(2, 3)\n",
    "    g.addEdge(3, 4)\n",
    "    cc = g.connectedComponents()\n",
    "    print(\"Following are connected components\")\n",
    "    print(cc)"
   ]
  },
  {
   "cell_type": "code",
   "execution_count": 6,
   "metadata": {},
   "outputs": [
    {
     "name": "stdout",
     "output_type": "stream",
     "text": [
      "Following are connected components\n",
      "[[0, 1, 5], [2, 3, 4]]\n"
     ]
    }
   ],
   "source": [
    "\n",
    "# Python program to print connected  \n",
    "# components in an undirected graph \n",
    "class Graph: \n",
    "      \n",
    "    # init function to declare class variables \n",
    "    def __init__(self,V): \n",
    "        self.V = V \n",
    "        self.adj = [[] for i in range(V)] \n",
    "  \n",
    "    def DFSUtil(self, temp, v, visited): \n",
    "  \n",
    "        # Mark the current vertex as visited \n",
    "        visited[v] = True\n",
    "  \n",
    "        # Store the vertex to list \n",
    "        temp.append(v) \n",
    "  \n",
    "        # Repeat for all vertices adjacent \n",
    "        # to this vertex v \n",
    "        for i in self.adj[v]: \n",
    "            if visited[i] == False: \n",
    "                  \n",
    "                # Update the list \n",
    "                temp = self.DFSUtil(temp, i, visited) \n",
    "        return temp \n",
    "  \n",
    "    # method to add an undirected edge \n",
    "    def addEdge(self, v, w): \n",
    "        self.adj[v].append(w) \n",
    "        self.adj[w].append(v) \n",
    "  \n",
    "    # Method to retrieve connected components \n",
    "    # in an undirected graph \n",
    "    def connectedComponents(self): \n",
    "        visited = [] \n",
    "        cc = [] \n",
    "        for i in range(self.V): \n",
    "            visited.append(False) \n",
    "        for v in range(self.V): \n",
    "            if visited[v] == False: \n",
    "                temp = [] \n",
    "                cc.append(self.DFSUtil(temp, v, visited)) \n",
    "        return cc \n",
    "  \n",
    " # Driver Code \n",
    "if __name__==\"__main__\": \n",
    "      \n",
    "    # Create a graph given in the above diagram \n",
    "    # 5 vertices numbered from 0 to 4 \n",
    "    g = Graph(6); \n",
    "    g.addEdge(1, 0) \n",
    "    g.addEdge(2, 3)\n",
    "    g.addEdge(1, 5)\n",
    "    g.addEdge(3, 4) \n",
    "    cc = g.connectedComponents() \n",
    "    print(\"Following are connected components\") \n",
    "    print(cc) \n",
    "  \n",
    " # This code is contributed by Abhishek Valsan  "
   ]
  },
  {
   "cell_type": "markdown",
   "metadata": {},
   "source": [
    "## 240. Search a 2D Matrix II\n",
    "\n",
    "Write an efficient algorithm that searches for a value in an m x n matrix. This matrix has the following properties:\n",
    "\n",
    "Integers in each row are sorted in ascending from left to right.\n",
    "Integers in each column are sorted in ascending from top to bottom.\n",
    "Example:\n",
    "\n",
    "Consider the following matrix:\n",
    "\n",
    "[\n",
    "  [1,   4,  7, 11, 15],\n",
    "  [2,   5,  8, 12, 19],\n",
    "  [3,   6,  9, 16, 22],\n",
    "  [10, 13, 14, 17, 24],\n",
    "  [18, 21, 23, 26, 30]\n",
    "]\n",
    "Given target = 5, return true.\n",
    "\n",
    "Given target = 20, return false."
   ]
  },
  {
   "cell_type": "code",
   "execution_count": 15,
   "metadata": {},
   "outputs": [],
   "source": [
    "matrix = [[1, 2, 3, 4],[5, 6, 7, 8],[9, 10, 11, 12]]"
   ]
  },
  {
   "cell_type": "code",
   "execution_count": 16,
   "metadata": {},
   "outputs": [
    {
     "data": {
      "text/plain": [
       "1"
      ]
     },
     "execution_count": 16,
     "metadata": {},
     "output_type": "execute_result"
    }
   ],
   "source": [
    "matrix[0][0]"
   ]
  },
  {
   "cell_type": "code",
   "execution_count": 17,
   "metadata": {},
   "outputs": [
    {
     "name": "stdout",
     "output_type": "stream",
     "text": [
      "[[1, 2, 3, 4], [5, 6, 7, 8], [9, 10, 11, 12]]\n"
     ]
    }
   ],
   "source": [
    "print(matrix)"
   ]
  },
  {
   "cell_type": "code",
   "execution_count": 18,
   "metadata": {},
   "outputs": [],
   "source": [
    "arr = []"
   ]
  },
  {
   "cell_type": "code",
   "execution_count": 19,
   "metadata": {},
   "outputs": [
    {
     "data": {
      "text/plain": [
       "True"
      ]
     },
     "execution_count": 19,
     "metadata": {},
     "output_type": "execute_result"
    }
   ],
   "source": [
    "not(arr)"
   ]
  },
  {
   "cell_type": "code",
   "execution_count": 20,
   "metadata": {},
   "outputs": [],
   "source": [
    "directions = [(0,1), (1,0)]"
   ]
  },
  {
   "cell_type": "code",
   "execution_count": 22,
   "metadata": {},
   "outputs": [
    {
     "name": "stdout",
     "output_type": "stream",
     "text": [
      "2\n",
      "5\n"
     ]
    }
   ],
   "source": [
    "for x,y in directions:\n",
    "    print(matrix[0+x][0+y])"
   ]
  },
  {
   "cell_type": "code",
   "execution_count": 24,
   "metadata": {},
   "outputs": [],
   "source": [
    "x0, y0 = 0,0"
   ]
  },
  {
   "cell_type": "code",
   "execution_count": 25,
   "metadata": {},
   "outputs": [
    {
     "name": "stdout",
     "output_type": "stream",
     "text": [
      "0 1\n",
      "1 0\n"
     ]
    }
   ],
   "source": [
    "for x,y in directions:\n",
    "    print(x0+x,y0+y)"
   ]
  },
  {
   "cell_type": "code",
   "execution_count": 45,
   "metadata": {},
   "outputs": [],
   "source": [
    "class Solution:\n",
    "    def searchMatrix(self, matrix, target):\n",
    "        \"\"\"\n",
    "        :type matrix: List[List[int]]\n",
    "        :type target: int\n",
    "        :rtype: bool\n",
    "        \"\"\"\n",
    "        x0, y0 = 0,0\n",
    "        directions = [(0,1), (1,0)]\n",
    "        arr = []\n",
    "        arr.append((x0, y0))\n",
    "        \n",
    "        while arr:\n",
    "            x0, y0 = arr.pop()\n",
    "            if matrix[x0][y0] == target:\n",
    "                return True\n",
    "            else:\n",
    "                for x,y in directions:\n",
    "                    if x0+ x < len(matrix) and y0 +y < len(matrix[0]):\n",
    "                        arr.append((x0+x, y0+y))\n",
    "        return False \n",
    "                "
   ]
  },
  {
   "cell_type": "code",
   "execution_count": 43,
   "metadata": {},
   "outputs": [],
   "source": [
    "def searchMatrix(matrix, target):\n",
    "    x0, y0 = 0,0\n",
    "    directions = [(0,1),(1,0)]\n",
    "    arr = []\n",
    "    arr.append((x0,y0))\n",
    "    print(arr)\n",
    "    \n",
    "    while arr:\n",
    "        x0,y0 = arr.pop()\n",
    "        print(x0,y0)\n",
    "        print(arr)\n",
    "        if matrix[x0][y0] == target:\n",
    "            return True\n",
    "        else: \n",
    "            for x,y in directions:\n",
    "                if x0+x < len(matrix) and y0+y < len(matrix[0]):\n",
    "                    arr.append((x0+x, y0+y))\n",
    "        \n",
    "    return False "
   ]
  },
  {
   "cell_type": "code",
   "execution_count": 27,
   "metadata": {},
   "outputs": [],
   "source": [
    "matrix = [[1,2,3],[2,3,4],[5,6,7]]"
   ]
  },
  {
   "cell_type": "code",
   "execution_count": 28,
   "metadata": {},
   "outputs": [
    {
     "name": "stdout",
     "output_type": "stream",
     "text": [
      "[[1, 2, 3], [2, 3, 4], [5, 6, 7]]\n"
     ]
    }
   ],
   "source": [
    "print(matrix)"
   ]
  },
  {
   "cell_type": "code",
   "execution_count": 29,
   "metadata": {},
   "outputs": [],
   "source": [
    "target = 3"
   ]
  },
  {
   "cell_type": "code",
   "execution_count": 44,
   "metadata": {},
   "outputs": [
    {
     "name": "stdout",
     "output_type": "stream",
     "text": [
      "[(0, 0)]\n",
      "0 0\n",
      "[]\n",
      "1 0\n",
      "[(0, 1)]\n",
      "2 0\n",
      "[(0, 1), (1, 1)]\n",
      "2 1\n",
      "[(0, 1), (1, 1)]\n",
      "2 2\n",
      "[(0, 1), (1, 1)]\n",
      "1 1\n",
      "[(0, 1)]\n"
     ]
    },
    {
     "data": {
      "text/plain": [
       "True"
      ]
     },
     "execution_count": 44,
     "metadata": {},
     "output_type": "execute_result"
    }
   ],
   "source": [
    "searchMatrix(matrix, target)"
   ]
  },
  {
   "cell_type": "code",
   "execution_count": 46,
   "metadata": {},
   "outputs": [],
   "source": [
    "arr = [[]]"
   ]
  },
  {
   "cell_type": "code",
   "execution_count": 47,
   "metadata": {},
   "outputs": [
    {
     "data": {
      "text/plain": [
       "False"
      ]
     },
     "execution_count": 47,
     "metadata": {},
     "output_type": "execute_result"
    }
   ],
   "source": [
    "not(arr)"
   ]
  },
  {
   "cell_type": "code",
   "execution_count": 48,
   "metadata": {},
   "outputs": [
    {
     "data": {
      "text/plain": [
       "True"
      ]
     },
     "execution_count": 48,
     "metadata": {},
     "output_type": "execute_result"
    }
   ],
   "source": [
    "not(arr[0])"
   ]
  },
  {
   "cell_type": "markdown",
   "metadata": {},
   "source": [
    "Complexity is O(mn), fails for large matrix. Here is the row or column pruning methods. Not start from the upper-left, instead it starts from the bottom-left. "
   ]
  },
  {
   "cell_type": "code",
   "execution_count": 49,
   "metadata": {},
   "outputs": [],
   "source": [
    "class Solution:\n",
    "    def searchMatrix(self, matrix, target):\n",
    "        \"\"\"\n",
    "        :type matrix: List[List[int]]\n",
    "        :type target: int\n",
    "        :rtype: bool\n",
    "        \"\"\"\n",
    "        \n",
    "        if len(matrix) == 0 or len(matrix[0]) == 0:\n",
    "            return False\n",
    "        \n",
    "        height = len(matrix)\n",
    "        width = len(matrix[0])\n",
    "        \n",
    "        # start on \"pointer\" in the bottom-left\n",
    "        row = height - 1\n",
    "        col = 0\n",
    "        \n",
    "        while col < width and row >=0:\n",
    "            if matrix[row][col] > target:\n",
    "                row -= 1\n",
    "            elif matrix[row][col] < target:\n",
    "                col += 1\n",
    "            else:\n",
    "                return True\n",
    "        return False "
   ]
  },
  {
   "cell_type": "markdown",
   "metadata": {},
   "source": [
    "By the prunning method, the time complexity is O(m+n) while m is the height and n is width and storage is O(1). "
   ]
  },
  {
   "cell_type": "code",
   "execution_count": 50,
   "metadata": {},
   "outputs": [],
   "source": [
    "class TreeNode:\n",
    "    def __init__(self, x):\n",
    "        self.val = x\n",
    "        self.left = None\n",
    "        self.right = None"
   ]
  },
  {
   "cell_type": "code",
   "execution_count": 51,
   "metadata": {},
   "outputs": [],
   "source": [
    "Node0 = TreeNode(3)\n",
    "Node1 = TreeNode(9)\n",
    "Node2 = TreeNode(10)\n",
    "Node3 = TreeNode(15)\n",
    "Node4 = TreeNode(17)\n",
    "\n",
    "Node0.left = Node1\n",
    "Node0.right = Node2\n",
    "Node2.left = Node3\n",
    "Node2.right = Node4"
   ]
  },
  {
   "cell_type": "code",
   "execution_count": 87,
   "metadata": {},
   "outputs": [],
   "source": [
    "def zigzagLevelOrder(root: TreeNode) -> list:\n",
    "\n",
    "    level = 0\n",
    "    mid = []\n",
    "    arr = []\n",
    "    mid.append((root,level))\n",
    "    arr.append([root.val])\n",
    "\n",
    "    while mid:\n",
    "        print(mid)\n",
    "        print(arr)\n",
    "        temp = []\n",
    "        node, level = mid.pop()\n",
    "        if level //2 == 1:\n",
    "            print('yes')\n",
    "            level += 1\n",
    "            if node.left:\n",
    "                temp.append(node.left.val)\n",
    "            if node.right:\n",
    "                temp.append(node.right.val)\n",
    "            if node.right:\n",
    "                mid.append((node.right,level))\n",
    "            if node.left:\n",
    "                mid.append((node.left,level))\n",
    "        else:\n",
    "            print('yes+1')\n",
    "            level += 1\n",
    "            if node.right: \n",
    "                temp.append(node.right.val)\n",
    "            if node.left:\n",
    "                temp.append(node.left.val)\n",
    "            if node.left:\n",
    "                mid.append((node.left,level))\n",
    "            if node.right:\n",
    "                mid.append((node.right,level))\n",
    "        arr.append(temp)\n",
    "\n",
    "    return arr"
   ]
  },
  {
   "cell_type": "code",
   "execution_count": 86,
   "metadata": {},
   "outputs": [
    {
     "name": "stdout",
     "output_type": "stream",
     "text": [
      "[(<__main__.TreeNode object at 0x10b0f43d0>, 0)]\n",
      "[[3]]\n",
      "yes+1\n",
      "[(<__main__.TreeNode object at 0x10b0f45d0>, 1), (<__main__.TreeNode object at 0x10b0f4290>, 1)]\n",
      "[[3], [10, 9]]\n",
      "yes+1\n",
      "[(<__main__.TreeNode object at 0x10b0f45d0>, 1), (<__main__.TreeNode object at 0x10b0f46d0>, 2), (<__main__.TreeNode object at 0x10b0f4550>, 2)]\n",
      "[[3], [10, 9], [17, 15]]\n",
      "yes\n",
      "[(<__main__.TreeNode object at 0x10b0f45d0>, 1), (<__main__.TreeNode object at 0x10b0f46d0>, 2)]\n",
      "[[3], [10, 9], [17, 15], []]\n",
      "yes\n",
      "[(<__main__.TreeNode object at 0x10b0f45d0>, 1)]\n",
      "[[3], [10, 9], [17, 15], [], []]\n",
      "yes+1\n"
     ]
    },
    {
     "data": {
      "text/plain": [
       "[[3], [10, 9], [17, 15], [], [], []]"
      ]
     },
     "execution_count": 86,
     "metadata": {},
     "output_type": "execute_result"
    }
   ],
   "source": [
    "zigzagLevelOrder(Node0)"
   ]
  },
  {
   "cell_type": "code",
   "execution_count": 60,
   "metadata": {},
   "outputs": [
    {
     "data": {
      "text/plain": [
       "True"
      ]
     },
     "execution_count": 60,
     "metadata": {},
     "output_type": "execute_result"
    }
   ],
   "source": [
    "not(Node1.left)"
   ]
  },
  {
   "cell_type": "code",
   "execution_count": 61,
   "metadata": {},
   "outputs": [
    {
     "data": {
      "text/plain": [
       "True"
      ]
     },
     "execution_count": 61,
     "metadata": {},
     "output_type": "execute_result"
    }
   ],
   "source": [
    "not(Node1.right)"
   ]
  },
  {
   "cell_type": "code",
   "execution_count": 68,
   "metadata": {},
   "outputs": [],
   "source": [
    "mid = []\n",
    "mid.append((Node0,0))"
   ]
  },
  {
   "cell_type": "code",
   "execution_count": 69,
   "metadata": {},
   "outputs": [],
   "source": [
    "node, level = mid.pop()"
   ]
  },
  {
   "cell_type": "code",
   "execution_count": 70,
   "metadata": {},
   "outputs": [
    {
     "data": {
      "text/plain": [
       "<__main__.TreeNode at 0x10b0f43d0>"
      ]
     },
     "execution_count": 70,
     "metadata": {},
     "output_type": "execute_result"
    }
   ],
   "source": [
    "node"
   ]
  },
  {
   "cell_type": "code",
   "execution_count": 72,
   "metadata": {},
   "outputs": [
    {
     "data": {
      "text/plain": [
       "False"
      ]
     },
     "execution_count": 72,
     "metadata": {},
     "output_type": "execute_result"
    }
   ],
   "source": [
    "not(node.left)"
   ]
  },
  {
   "cell_type": "code",
   "execution_count": 88,
   "metadata": {},
   "outputs": [
    {
     "data": {
      "text/plain": [
       "<__main__.TreeNode at 0x10b0f46d0>"
      ]
     },
     "execution_count": 88,
     "metadata": {},
     "output_type": "execute_result"
    }
   ],
   "source": [
    "Node2.left"
   ]
  },
  {
   "cell_type": "code",
   "execution_count": 90,
   "metadata": {},
   "outputs": [
    {
     "data": {
      "text/plain": [
       "True"
      ]
     },
     "execution_count": 90,
     "metadata": {},
     "output_type": "execute_result"
    }
   ],
   "source": [
    "not(Node3.left)"
   ]
  },
  {
   "cell_type": "markdown",
   "metadata": {},
   "source": [
    "## 19. Remove Nth Node From End of List\n",
    "\n",
    "Given a linked list, remove the n-th node from the end of list and return its head.\n",
    "\n",
    "Example:\n",
    "\n",
    "Given linked list: 1->2->3->4->5, and n = 2.\n",
    "\n",
    "After removing the second node from the end, the linked list becomes 1->2->3->5.\n",
    "Note:\n",
    "\n",
    "Given n will always be valid.\n",
    "\n",
    "Follow up:\n",
    "\n",
    "Could you do this in one pass?"
   ]
  },
  {
   "cell_type": "code",
   "execution_count": 2,
   "metadata": {},
   "outputs": [],
   "source": [
    "# Definition for singly-linked list.\n",
    "class ListNode:\n",
    "    def __init__(self, x):\n",
    "        self.val = x\n",
    "        self.next = None\n",
    "\n",
    "class Solution:\n",
    "    def removeNthFromEnd(self, head: ListNode, n: int) -> ListNode:\n",
    "        \n",
    "        dummy_head = ListNode(0)\n",
    "        dummy_head.next = head \n",
    "        first = second = dummy_head \n",
    "        \n",
    "        for i in range(n+1):\n",
    "            first = first.next \n",
    "            \n",
    "        while first:\n",
    "            first = first.next \n",
    "            second = second.next \n",
    "\n",
    "        second.next = second.next.next \n",
    "\n",
    "        return dummy_head.next\n",
    "        "
   ]
  },
  {
   "cell_type": "markdown",
   "metadata": {},
   "source": [
    "One pass. Complexity is O(N), where N is the length of Linked List. "
   ]
  },
  {
   "cell_type": "markdown",
   "metadata": {},
   "source": [
    "## 11. Container With Most Water\n",
    "\n",
    "Given n non-negative integers a1, a2, ..., an , where each represents a point at coordinate (i, ai). n vertical lines are drawn such that the two endpoints of line i is at (i, ai) and (i, 0). Find two lines, which together with x-axis forms a container, such that the container contains the most water.\n",
    "\n",
    "Note: You may not slant the container and n is at least 2."
   ]
  },
  {
   "cell_type": "code",
   "execution_count": 4,
   "metadata": {},
   "outputs": [],
   "source": [
    "class Solution:\n",
    "    def maxArea(self, height: list) -> int:\n",
    "        \n",
    "        i, j, maxArea = 0, len(height)-1, 0\n",
    "        \n",
    "        while i < j:\n",
    "            width = j - i\n",
    "            maxArea = max(maxArea, width * (min(height[i], height[j])))\n",
    "            if height[i] > height[j]:\n",
    "                j -= 1\n",
    "            else:\n",
    "                i += 1 \n",
    "        return maxArea\n",
    "\n"
   ]
  },
  {
   "cell_type": "markdown",
   "metadata": {},
   "source": [
    "If height[i] > height[j], for any k > i, the area between k and j is not greater than area between i and j. Thus we move j one step back. \n",
    "If height[i] < height[j], for any k < j, the area between i and k is not greater than area between i and j. Thus we move i one step forward. "
   ]
  },
  {
   "cell_type": "markdown",
   "metadata": {},
   "source": [
    "## 74. Search a 2D Matrix\n",
    "\n",
    "Write an efficient algorithm that searches for a value in an m x n matrix. This matrix has the following properties:\n",
    "\n",
    "Integers in each row are sorted from left to right.\n",
    "The first integer of each row is greater than the last integer of the previous row.\n",
    "Example 1:\n",
    "\n",
    "Input:\n",
    "matrix = [\n",
    "  [1,   3,  5,  7],\n",
    "  [10, 11, 16, 20],\n",
    "  [23, 30, 34, 50]\n",
    "]\n",
    "target = 3\n",
    "Output: true\n",
    "Example 2:\n",
    "\n",
    "Input:\n",
    "matrix = [\n",
    "  [1,   3,  5,  7],\n",
    "  [10, 11, 16, 20],\n",
    "  [23, 30, 34, 50]\n",
    "]\n",
    "target = 13\n",
    "Output: false"
   ]
  },
  {
   "cell_type": "code",
   "execution_count": 6,
   "metadata": {},
   "outputs": [],
   "source": [
    "class Solution:\n",
    "    def searchMatrix(self, matrix: list, target: int) -> bool:\n",
    "        \n",
    "        if not(matrix):\n",
    "            return False\n",
    "        \n",
    "        count = 0\n",
    "        m = len(matrix)\n",
    "        n = len(matrix[0])\n",
    "        \n",
    "        while count < m*n:\n",
    "            x = count // n \n",
    "            y = count % n\n",
    "            val = matrix[x][y]\n",
    "            if val == target:\n",
    "                return True\n",
    "            elif val < target:\n",
    "                count += 1\n",
    "            else:\n",
    "                return False \n",
    "            \n",
    "        return False "
   ]
  },
  {
   "cell_type": "markdown",
   "metadata": {},
   "source": [
    "Brute force method using the ordering of elements in matrix. Time complexity is O(m*n) in worst case since we compare every elements in the matrix. Storage is O(1). "
   ]
  },
  {
   "cell_type": "code",
   "execution_count": 8,
   "metadata": {},
   "outputs": [
    {
     "name": "stdout",
     "output_type": "stream",
     "text": [
      "x and y are 1 2\n",
      "x and y are 2 1\n",
      "x and y are -1 -2\n",
      "x and y are -2 -1\n",
      "x and y are 1 -2\n",
      "x and y are 2 -1\n",
      "x and y are -2 1\n",
      "x and y are -1 2\n"
     ]
    }
   ],
   "source": [
    "directions = ((1,2), (2,1), (-1,-2), (-2,-1), (1,-2), (2,-1), (-2,1), (-1,2))\n",
    "\n",
    "for x,y in directions:\n",
    "    print('x and y are',x,y)\n"
   ]
  },
  {
   "cell_type": "code",
   "execution_count": 9,
   "metadata": {},
   "outputs": [],
   "source": [
    "arr = []\n",
    "x0 = 0, y0 = 0\n",
    "arr.append(start)"
   ]
  },
  {
   "cell_type": "code",
   "execution_count": 10,
   "metadata": {},
   "outputs": [
    {
     "name": "stdout",
     "output_type": "stream",
     "text": [
      "[(0, 0)]\n"
     ]
    }
   ],
   "source": [
    "print(arr)"
   ]
  },
  {
   "cell_type": "code",
   "execution_count": 11,
   "metadata": {},
   "outputs": [],
   "source": [
    "x,y = arr.pop()"
   ]
  },
  {
   "cell_type": "code",
   "execution_count": 12,
   "metadata": {},
   "outputs": [
    {
     "data": {
      "text/plain": [
       "0"
      ]
     },
     "execution_count": 12,
     "metadata": {},
     "output_type": "execute_result"
    }
   ],
   "source": [
    "x"
   ]
  },
  {
   "cell_type": "code",
   "execution_count": 13,
   "metadata": {},
   "outputs": [
    {
     "data": {
      "text/plain": [
       "0"
      ]
     },
     "execution_count": 13,
     "metadata": {},
     "output_type": "execute_result"
    }
   ],
   "source": [
    "y"
   ]
  },
  {
   "cell_type": "code",
   "execution_count": 19,
   "metadata": {},
   "outputs": [],
   "source": [
    "steps = 0\n",
    "x0 = y0 = 0"
   ]
  },
  {
   "cell_type": "code",
   "execution_count": 20,
   "metadata": {},
   "outputs": [],
   "source": [
    "arr.append((x0,y0,steps))"
   ]
  },
  {
   "cell_type": "code",
   "execution_count": 21,
   "metadata": {},
   "outputs": [],
   "source": [
    "x,y,steps = arr.pop()"
   ]
  },
  {
   "cell_type": "code",
   "execution_count": 22,
   "metadata": {},
   "outputs": [
    {
     "data": {
      "text/plain": [
       "0"
      ]
     },
     "execution_count": 22,
     "metadata": {},
     "output_type": "execute_result"
    }
   ],
   "source": [
    "x"
   ]
  },
  {
   "cell_type": "code",
   "execution_count": 23,
   "metadata": {},
   "outputs": [
    {
     "data": {
      "text/plain": [
       "0"
      ]
     },
     "execution_count": 23,
     "metadata": {},
     "output_type": "execute_result"
    }
   ],
   "source": [
    "y"
   ]
  },
  {
   "cell_type": "code",
   "execution_count": 24,
   "metadata": {},
   "outputs": [
    {
     "data": {
      "text/plain": [
       "0"
      ]
     },
     "execution_count": 24,
     "metadata": {},
     "output_type": "execute_result"
    }
   ],
   "source": [
    "steps"
   ]
  },
  {
   "cell_type": "code",
   "execution_count": 25,
   "metadata": {},
   "outputs": [
    {
     "name": "stdout",
     "output_type": "stream",
     "text": [
      "[]\n"
     ]
    }
   ],
   "source": [
    "print(arr)"
   ]
  },
  {
   "cell_type": "code",
   "execution_count": 27,
   "metadata": {},
   "outputs": [],
   "source": [
    "arr.append((0,0,0))\n",
    "arr.append((1,2,1))\n",
    "arr.append((3,3,2))"
   ]
  },
  {
   "cell_type": "code",
   "execution_count": 31,
   "metadata": {},
   "outputs": [
    {
     "ename": "AttributeError",
     "evalue": "'list' object has no attribute 'leftpop'",
     "output_type": "error",
     "traceback": [
      "\u001b[0;31m---------------------------------------------------------------------------\u001b[0m",
      "\u001b[0;31mAttributeError\u001b[0m                            Traceback (most recent call last)",
      "\u001b[0;32m<ipython-input-31-33ef33fcadd2>\u001b[0m in \u001b[0;36m<module>\u001b[0;34m\u001b[0m\n\u001b[0;32m----> 1\u001b[0;31m \u001b[0marr\u001b[0m\u001b[0;34m.\u001b[0m\u001b[0mleftpop\u001b[0m\u001b[0;34m(\u001b[0m\u001b[0;34m)\u001b[0m\u001b[0;34m\u001b[0m\u001b[0;34m\u001b[0m\u001b[0m\n\u001b[0m",
      "\u001b[0;31mAttributeError\u001b[0m: 'list' object has no attribute 'leftpop'"
     ]
    }
   ],
   "source": [
    "arr.leftpop()"
   ]
  },
  {
   "cell_type": "code",
   "execution_count": 29,
   "metadata": {},
   "outputs": [
    {
     "data": {
      "text/plain": [
       "(1, 2, 1)"
      ]
     },
     "execution_count": 29,
     "metadata": {},
     "output_type": "execute_result"
    }
   ],
   "source": [
    "arr.pop()"
   ]
  },
  {
   "cell_type": "code",
   "execution_count": 30,
   "metadata": {},
   "outputs": [
    {
     "data": {
      "text/plain": [
       "(0, 0, 0)"
      ]
     },
     "execution_count": 30,
     "metadata": {},
     "output_type": "execute_result"
    }
   ],
   "source": [
    "arr.pop()"
   ]
  },
  {
   "cell_type": "code",
   "execution_count": 32,
   "metadata": {},
   "outputs": [],
   "source": [
    "import collections \n",
    "arr = collections.deque()"
   ]
  },
  {
   "cell_type": "code",
   "execution_count": 33,
   "metadata": {},
   "outputs": [],
   "source": [
    "arr.append((0,0,0))\n",
    "arr.append((1,2,1))\n",
    "arr.append((3,3,2))"
   ]
  },
  {
   "cell_type": "code",
   "execution_count": 35,
   "metadata": {},
   "outputs": [
    {
     "data": {
      "text/plain": [
       "(0, 0, 0)"
      ]
     },
     "execution_count": 35,
     "metadata": {},
     "output_type": "execute_result"
    }
   ],
   "source": [
    "arr.popleft()"
   ]
  },
  {
   "cell_type": "code",
   "execution_count": 36,
   "metadata": {},
   "outputs": [
    {
     "data": {
      "text/plain": [
       "(1, 2, 1)"
      ]
     },
     "execution_count": 36,
     "metadata": {},
     "output_type": "execute_result"
    }
   ],
   "source": [
    "arr.popleft()"
   ]
  },
  {
   "cell_type": "code",
   "execution_count": 37,
   "metadata": {},
   "outputs": [
    {
     "data": {
      "text/plain": [
       "(3, 3, 2)"
      ]
     },
     "execution_count": 37,
     "metadata": {},
     "output_type": "execute_result"
    }
   ],
   "source": [
    "arr.popleft()"
   ]
  },
  {
   "cell_type": "code",
   "execution_count": null,
   "metadata": {},
   "outputs": [],
   "source": [
    "import collections\n",
    "class Solution:\n",
    "    def minKnightMoves(self, x: int, y: int) -> int:\n",
    "        if x == y == 0:\n",
    "            return 0\n",
    "        return self.bfs_path(0, 0, x, y)\n",
    "\n",
    "    def bfs_path(self, start_x, start_y, target_x, target_y):\n",
    "        count = 0\n",
    "        visited = set()\n",
    "        queue = collections.deque([(start_x, start_y)])\n",
    "        directions = [(2, 1), (2, -1), (1, 2), (-1, 2), (-2, 1), (-2, -1), (1, -2), (-1, -2)]\n",
    "        while queue:\n",
    "            for i in range(len(queue)):\n",
    "                head = queue.popleft()\n",
    "                cur_x, cur_y = head[0], head[1]\n",
    "                if cur_x == target_x and cur_y == target_y:\n",
    "                    return count\n",
    "                \n",
    "                cur_dist = self.cal_dist(cur_x, cur_y, target_x, target_y)\n",
    "                for i, j in directions:\n",
    "                    if (cur_x + i, cur_y + j) not in visited and self.cal_dist(cur_x + i, cur_y + j, target_x, target_y) < cur_dist: # identify it it's in set first\n",
    "                        queue.append((cur_x + i, cur_y + j))\n",
    "                        visited.add((cur_x + i, cur_y + j))\n",
    "            count += 1\n",
    "        return count - 1\n",
    "        \n",
    "    def cal_dist(self, x, y, target_x, target_y):\n",
    "        return (target_x - x) * (target_x - x) + (target_y - y) * (target_y - y) # **2 would be slower"
   ]
  },
  {
   "cell_type": "markdown",
   "metadata": {},
   "source": [
    "## 704. Binary Search"
   ]
  },
  {
   "cell_type": "markdown",
   "metadata": {},
   "source": [
    "Given a sorted (in ascending order) integer array nums of n elements and a target value, write a function to search target in nums. If target exists, then return its index, otherwise return -1.\n",
    "\n",
    "\n",
    "Example 1:\n",
    "\n",
    "Input: nums = [-1,0,3,5,9,12], target = 9\n",
    "Output: 4\n",
    "Explanation: 9 exists in nums and its index is 4\n",
    "\n",
    "Example 2:\n",
    "\n",
    "Input: nums = [-1,0,3,5,9,12], target = 2\n",
    "Output: -1\n",
    "Explanation: 2 does not exist in nums so return -1\n",
    " \n",
    "\n",
    "Note:\n",
    "\n",
    "You may assume that all elements in nums are unique.\n",
    "n will be in the range [1, 10000].\n",
    "The value of each element in nums will be in the range [-9999, 9999].\n"
   ]
  },
  {
   "cell_type": "code",
   "execution_count": 2,
   "metadata": {},
   "outputs": [],
   "source": [
    "class Solution:\n",
    "    def search(self, nums: list, target: int) -> int:\n",
    "        \n",
    "        if len(nums) == 0:\n",
    "            return -1\n",
    "        elif len(nums) == 1:\n",
    "            return 0 if nums[0] == target else -1\n",
    "        \n",
    "        l, r = 0, len(nums)-1\n",
    "        \n",
    "        while l<=r:\n",
    "            pivot = (l+r)//2\n",
    "            if nums[pivot] == target:\n",
    "                return pivot\n",
    "            elif nums[pivot] < target:\n",
    "                l = pivot + 1\n",
    "            else:\n",
    "                r = pivot - 1\n",
    "        return -1 \n",
    "  "
   ]
  },
  {
   "cell_type": "markdown",
   "metadata": {},
   "source": [
    "Time complexity is O(logn) sinece we do binary search. Every time we check the mid point value. "
   ]
  },
  {
   "cell_type": "markdown",
   "metadata": {},
   "source": [
    "## Python Implementation of DFS (Depth First Search)"
   ]
  },
  {
   "cell_type": "code",
   "execution_count": 6,
   "metadata": {},
   "outputs": [],
   "source": [
    "# Python3 program to print DFS traversal from a given graph \n",
    "\n",
    "from collections import defaultdict\n",
    "\n",
    "# This class represents a directed graph using adjacency list representation\n",
    "\n",
    "class Graph:\n",
    "    \n",
    "    # Constructor \n",
    "    def __init__(self):\n",
    "        \n",
    "        # default dictionary to store graph \n",
    "        self.graph = defaultdict(list)\n",
    "        \n",
    "    # function to add an edge to graph    \n",
    "    def addEdge(self, u, v):\n",
    "        self.graph[u].append(v)\n",
    "        \n",
    "    # A function used by DFS\n",
    "    def DFSUtil(self, v, visited):\n",
    "        \n",
    "        # Mark the current node ad visited and print it\n",
    "        visited[v] = True\n",
    "        print(v, end = ' ')\n",
    "        \n",
    "        # Recur for all the vertices adjacent to this vertex \n",
    "        for i in self.graph[v]:\n",
    "            if visited[i] == False:\n",
    "                self.DFSUtil(i, visited)\n",
    "                \n",
    "    # The function to do DFS traversal. It uses recursive DFSUtil()\n",
    "    \n",
    "    def DFS(self,v):\n",
    "        # Mark all the vertices as not visited \n",
    "        visited = [False] * (len(self.graph))\n",
    "        \n",
    "        # Call the recursive helper functio to print DFS traversal\n",
    "        \n",
    "        self.DFSUtil(v, visited)\n",
    "        \n",
    "        "
   ]
  },
  {
   "cell_type": "code",
   "execution_count": 7,
   "metadata": {},
   "outputs": [],
   "source": [
    "# Driver Code\n",
    "# Create a graph given in the above diagram \n",
    "\n",
    "g = Graph()\n",
    "g.addEdge(0, 1)\n",
    "g.addEdge(0, 2)\n",
    "g.addEdge(1, 2)\n",
    "g.addEdge(2, 0)\n",
    "g.addEdge(2 ,3)\n",
    "g.addEdge(3, 3)"
   ]
  },
  {
   "cell_type": "code",
   "execution_count": 8,
   "metadata": {},
   "outputs": [
    {
     "name": "stdout",
     "output_type": "stream",
     "text": [
      "Following is DFS from (starting from vertex 2)\n",
      "2 0 1 3 "
     ]
    }
   ],
   "source": [
    "print(\"Following is DFS from (starting from vertex 2)\")\n",
    "g.DFS(2)"
   ]
  },
  {
   "cell_type": "markdown",
   "metadata": {},
   "source": [
    "## 559. Maximum Depth of N-ary Tree\n",
    "\n",
    "Given a n-ary tree, find its maximum depth.\n",
    "\n",
    "The maximum depth is the number of nodes along the longest path from the root node down to the farthest leaf node.\n",
    "\n",
    "For example, given a 3-ary tree:\n",
    "\n",
    " \n",
    "\n",
    "\n",
    " \n",
    "\n",
    "We should return its max depth, which is 3."
   ]
  },
  {
   "cell_type": "markdown",
   "metadata": {},
   "source": [
    "### Recursive Method "
   ]
  },
  {
   "cell_type": "code",
   "execution_count": 9,
   "metadata": {},
   "outputs": [],
   "source": [
    "\"\"\"\n",
    "# Definition for a Node.\n",
    "class Node:\n",
    "    def __init__(self, val, children):\n",
    "        self.val = val\n",
    "        self.children = children\n",
    "\"\"\"\n",
    "class Solution:\n",
    "    def maxDepth(self, root: 'Node') -> int:\n",
    "        \n",
    "        maxLen = 0\n",
    "        if not(root):\n",
    "            return 0 \n",
    "        elif not(root.children):\n",
    "            return 1\n",
    "        else:\n",
    "            Len = []\n",
    "            for i in root.children:\n",
    "                Len.append( self.maxDepth(i))\n",
    "            maxLen = max(Len) + 1\n",
    "                                "
   ]
  },
  {
   "cell_type": "markdown",
   "metadata": {},
   "source": [
    "Complexity is O(N) where N is the number of all points in the tree since we go through each point one time. \n",
    "\n",
    "Storage: In the worst case, the tree is completely unbalanced, e.g. each node has ony one child node, the recursion call would occur N times (the height of the tree), therefore the storage to keep the call stack would be O(N). But in the best case (the tree is completely balanced), the height of the tree would be log(N). There fore, the space compelxity in this case would be O(log(N)). "
   ]
  },
  {
   "cell_type": "markdown",
   "metadata": {},
   "source": [
    "### Iteration\n",
    "\n",
    "We could also convert the above recursion into iteration, with the help of stack.\n",
    "\n",
    "The idea is to visit each node with DFS strategy while updating the max depth at each visit. \n",
    "\n",
    "So we start from a stack which contains the root node and the corresponding depth which is 1. Then we proceed to the iterations: pop the current node out of the stack and push the child nodes. The depth is updated at each step. "
   ]
  },
  {
   "cell_type": "code",
   "execution_count": 10,
   "metadata": {},
   "outputs": [],
   "source": [
    "class Solution(object):\n",
    "    def maxDepth(self, root):\n",
    "        \n",
    "        \"\"\"\n",
    "        :type root: Node\n",
    "        :rtype: int\n",
    "        \"\"\"\n",
    "        \n",
    "        stack = []\n",
    "        if root is not None:\n",
    "            stack.append((1, root))\n",
    "            \n",
    "        depth = 0\n",
    "        while stack != []:\n",
    "            current_depth, root = stack.pop()\n",
    "            if root is not None:\n",
    "                depth = max(depth, current_depth)\n",
    "                for c in root.children:\n",
    "                    stack.append((current_depth + 1, c))\n",
    "        return depth "
   ]
  },
  {
   "cell_type": "markdown",
   "metadata": {},
   "source": [
    "Time complexity is O(N). \n",
    "\n",
    "Space complexity is O(N). "
   ]
  },
  {
   "cell_type": "markdown",
   "metadata": {},
   "source": [
    "## 301. Remove Invalid Parentheses\n",
    "\n",
    "Remove the minimum number of invalid parentheses in order to make the input string valid. Return all possible results.\n",
    "\n",
    "Note: The input string may contain letters other than the parentheses ( and ).\n",
    "\n",
    "Example 1:\n",
    "\n",
    "Input: \"()())()\"\n",
    "Output: [\"()()()\", \"(())()\"]\n",
    "Example 2:\n",
    "\n",
    "Input: \"(a)())()\"\n",
    "Output: [\"(a)()()\", \"(a())()\"]\n",
    "Example 3:\n",
    "\n",
    "Input: \")(\"\n",
    "Output: [\"\"]"
   ]
  },
  {
   "cell_type": "code",
   "execution_count": 12,
   "metadata": {},
   "outputs": [],
   "source": [
    "import collections \n",
    "class Solution:\n",
    "    def removeInvalidParentheses(self, s: str) -> list:\n",
    "        \n",
    "        if not s:\n",
    "            return [\"\"]\n",
    "        elif '('  not in s and ')'  not in s:\n",
    "            return [s]\n",
    "        elif self.isvalid(s):\n",
    "            return [s]\n",
    "        \n",
    "        queue = collections.deque([s])\n",
    "        result = []\n",
    "        visited = set()\n",
    "        \n",
    "        while queue:\n",
    "            for i in range(len(queue)):\n",
    "                curr_s = queue.popleft()\n",
    "                if self.isvalid(curr_s):\n",
    "                    result.append(curr_s)\n",
    "                else:\n",
    "                    for k in range(len(curr_s)):\n",
    "                        temp = curr_s[0:k] + curr_s[k+1:]\n",
    "                        if temp not in visited: \n",
    "                            visited.add(temp)\n",
    "                            queue.append(temp)\n",
    "            if result:\n",
    "                return result\n",
    "        else:\n",
    "            return [\"\"]\n",
    "        \n",
    "    def isvalid(self, s: str):\n",
    "        count = 0\n",
    "        for l in s:\n",
    "            if l == '(':\n",
    "                count += 1\n",
    "            elif l == ')':\n",
    "                count -= 1\n",
    "            if count < 0:\n",
    "                return False\n",
    "        return count == 0\n",
    "        \n",
    "        \n",
    "  "
   ]
  },
  {
   "cell_type": "markdown",
   "metadata": {},
   "source": [
    "Use BFS to solve. Time complexity in worst case is O(2^N) while storag is O(N). "
   ]
  },
  {
   "cell_type": "markdown",
   "metadata": {},
   "source": [
    "## 690. Employee Importance \n",
    "\n",
    "You are given a data structure of employee information, which includes the employee's unique id, his importance value and his direct subordinates' id. \n",
    "\n",
    "For example, employee 1 is the leader of employee 2, and employee 2 is the leader of employee 3. They have importance value 15, 10 and 5, respectively. Then employee 1 has a data structure like [1,15,[2]], and employee 2 has [2,10,[3]], and employee 3 has [3,5,[]].Note that although employee 3 is also a suboridnate of employee 1, the relationship is not direct. \n",
    "\n",
    "Now given the employee information of a company, and an employee id, you need to return the total importance value of this employee and all his subordinates. "
   ]
  },
  {
   "cell_type": "code",
   "execution_count": 13,
   "metadata": {},
   "outputs": [],
   "source": [
    "\"\"\"\n",
    "# Employee info\n",
    "class Employee:\n",
    "    def __init__(self, id, importance, subordinates):\n",
    "        # It's the unique id of each node.\n",
    "        # unique id of this employee\n",
    "        self.id = id\n",
    "        # the importance value of this employee\n",
    "        self.importance = importance\n",
    "        # the id of direct subordinates\n",
    "        self.subordinates = subordinates\n",
    "\"\"\"\n",
    "class Solution:\n",
    "    def getImportance(self, employees, id):\n",
    "        \"\"\"\n",
    "        :type employees: Employee\n",
    "        :type id: int\n",
    "        :rtype: int\n",
    "        \"\"\"\n",
    "        \n",
    "        def dfs(employees, id):\n",
    "            for employee in employees:\n",
    "                if employee.id == id:\n",
    "                    sum_i = employee.importance \n",
    "                    for j in employee.subordinates:\n",
    "                        sum_i += dfs(employees, j)\n",
    "            return sum_i\n",
    "        \n",
    "        return dfs(employees, id)\n",
    "                    \n",
    " "
   ]
  },
  {
   "cell_type": "markdown",
   "metadata": {},
   "source": [
    "The time complexity is large since we need to go through employees every time searching for next subordinates. \n",
    "\n",
    "Use hashtable will make it faster with increasing storage complexity. "
   ]
  },
  {
   "cell_type": "code",
   "execution_count": 14,
   "metadata": {},
   "outputs": [],
   "source": [
    "class Solution:\n",
    "    def getImportance(self, employees, id):\n",
    "        \"\"\"\n",
    "        :type employees: Employee\n",
    "        :type id: int\n",
    "        :rtype: int\n",
    "        \"\"\"\n",
    "        emap = {e.id: e for e in employees}\n",
    "        \n",
    "        def dfs(eid):\n",
    "            employee = emap[eid]\n",
    "            return (employee.importance +\n",
    "                   sum(dfs(eid) for eid in employee.subordinates))\n",
    "        \n",
    "        return dfs(id)\n",
    "                    "
   ]
  },
  {
   "cell_type": "markdown",
   "metadata": {},
   "source": [
    "Time complexity is O(N). \n",
    "\n",
    "Space complexity is O(N) for hashtable. "
   ]
  },
  {
   "cell_type": "markdown",
   "metadata": {},
   "source": [
    "## 279. Perfect Squares \n",
    "\n",
    "Given a postive integer n, find the least number of perfect square numbers (for example, 1, 4, 9, 16, ...) which sum to n. \n",
    "\n",
    "Example 1:\n",
    "\n",
    "Input: n = 12\n",
    "Output: 3 \n",
    "Explanation: 12 = 4 + 4 + 4.\n",
    "Example 2:\n",
    "\n",
    "Input: n = 13\n",
    "Output: 2\n",
    "Explanation: 13 = 4 + 9."
   ]
  },
  {
   "cell_type": "code",
   "execution_count": 15,
   "metadata": {},
   "outputs": [],
   "source": [
    "class Solution:\n",
    "    import math\n",
    "    import collections \n",
    "    def numSquares(self, n: int) -> int:\n",
    "        \n",
    "        if n <2:\n",
    "            return n\n",
    "        \n",
    "        n_root = math.floor(math.sqrt(n))\n",
    "        if n_root*n_root == n:\n",
    "            return 1 \n",
    "        \n",
    "        check_list = []\n",
    "        for i in range(1,n_root+1):\n",
    "            check_list.append(i*i)\n",
    "            \n",
    "        grey = {n}\n",
    "        \n",
    "        count = 0\n",
    "        while grey:\n",
    "            count += 1\n",
    "            temp = set()\n",
    "            for num in grey:\n",
    "                for square in check_list:\n",
    "                    if square == num:\n",
    "                        return count \n",
    "                    elif square > num:\n",
    "                        break\n",
    "                    else:\n",
    "                        temp.add(num - square)\n",
    "            grey = temp\n",
    "        return count "
   ]
  },
  {
   "cell_type": "markdown",
   "metadata": {},
   "source": [
    "Time Complexity is O(n^{h/2}) where h is the height of n array tree. \n",
    "\n",
    "Space Complexity is O(\\sqrt{n}^{h/2}) since in each level we store at most \\sqrt{n} numbers. "
   ]
  },
  {
   "cell_type": "markdown",
   "metadata": {},
   "source": [
    "### Dynamic Programmming\n",
    "\n",
    "Store the number of every i (i<=n) in an array and reuse them when computing number of squares in n. "
   ]
  },
  {
   "cell_type": "code",
   "execution_count": 1,
   "metadata": {},
   "outputs": [],
   "source": [
    "class Solution:\n",
    "    import math\n",
    "    import collections \n",
    "    def numSquares(self, n: int) -> int:\n",
    "        \n",
    "        \n",
    "        square_nums = [i**2 for i in range(0, int(math.sqrt(n)) + 1)]\n",
    "        \n",
    "        dp = [float('inf')] * (n+1)\n",
    "        \n",
    "        dp[0] = 0\n",
    "        \n",
    "        for i in range(1,n+1):\n",
    "            for square in square_nums:\n",
    "                if i < square:\n",
    "                    break\n",
    "                dp[i] = min(dp[i], dp[i-square] + 1)\n",
    "        return dp[-1]\n",
    "                    "
   ]
  },
  {
   "cell_type": "markdown",
   "metadata": {},
   "source": [
    "Time complexity is O(n \\sqrt{n}). For outer-loop is O(n) and inner-loop is O(n \\sqrt{n})\n",
    "\n",
    "Space complexity is O(n). "
   ]
  },
  {
   "cell_type": "markdown",
   "metadata": {},
   "source": [
    "## 23. Merge k Sorted Lists\n",
    "\n",
    "Merge k sorted linked lists and return it as one sorted list. Analyze and describe its complexity.\n",
    "\n",
    "Example:\n",
    "\n",
    "Input:\n",
    "[\n",
    "  1->4->5,\n",
    "  1->3->4,\n",
    "  2->6\n",
    "]\n",
    "Output: 1->1->2->3->4->4->5->6"
   ]
  },
  {
   "cell_type": "code",
   "execution_count": 1,
   "metadata": {},
   "outputs": [],
   "source": [
    "class ListNode:\n",
    "    \n",
    "    def __init__(self, x):\n",
    "        self.val = x \n",
    "        self.next = None"
   ]
  },
  {
   "cell_type": "code",
   "execution_count": 2,
   "metadata": {},
   "outputs": [],
   "source": [
    "import heapq\n",
    "\n",
    "def mergeKLists(lists: list) -> ListNode:\n",
    "    \n",
    "    min_heap = []\n",
    "    dummy_head = result = ListNode(0)\n",
    "    \n",
    "    # Put first element and each list index into min_heap\n",
    "    \n",
    "    for i, node in enumerate(lists):\n",
    "        first_element = node\n",
    "        if first_element is not None:\n",
    "            heapq.heappush(min_heap, (first_element.val, i))\n",
    "            \n",
    "    while min_heap:\n",
    "        smallest_entry, smallest_array_i = heap.heappop(min_heap)\n",
    "        smallest_array_iter = lists[smallest_array_i]\n",
    "        node = ListNode(smallest_entry)\n",
    "        result.next = node\n",
    "        result = result.next\n",
    "        next_element = smallest_array_iter.next \n",
    "        if next_element is not None:\n",
    "            heapq.heappush(min_heap, (next_element.val, smallest_array_i))\n",
    "            lists[smallest_array_i] = next_element\n",
    "            \n",
    "    return dummy_head.next "
   ]
  },
  {
   "cell_type": "markdown",
   "metadata": {},
   "source": [
    "Let k be the number of input sequences. Then there are no more than k elements in the min-heap. Both extract-min and insert take O(log k) time. Hence, we can do the merge in O(n log k) time, with n the total number of elements to sort. \n",
    "\n",
    "Spcae complexity is O(k) beyond the space needed to write the final result.  "
   ]
  },
  {
   "cell_type": "code",
   "execution_count": 3,
   "metadata": {},
   "outputs": [],
   "source": [
    "minheap = []"
   ]
  },
  {
   "cell_type": "code",
   "execution_count": 4,
   "metadata": {},
   "outputs": [],
   "source": [
    "heapq.heappush(minheap, 5)"
   ]
  },
  {
   "cell_type": "code",
   "execution_count": 5,
   "metadata": {},
   "outputs": [],
   "source": [
    "heapq.heappush(minheap, 3)"
   ]
  },
  {
   "cell_type": "code",
   "execution_count": 6,
   "metadata": {},
   "outputs": [],
   "source": [
    "heapq.heappush(minheap, 1)\n",
    "heapq.heappush(minheap,2)\n",
    "heapq.heappush(minheap, 6)\n",
    "heapq.heappush(minheap, 4)"
   ]
  },
  {
   "cell_type": "code",
   "execution_count": 7,
   "metadata": {},
   "outputs": [
    {
     "name": "stdout",
     "output_type": "stream",
     "text": [
      "[1, 2, 3, 5, 6, 4]\n"
     ]
    }
   ],
   "source": [
    "print(minheap)"
   ]
  },
  {
   "cell_type": "code",
   "execution_count": 8,
   "metadata": {},
   "outputs": [
    {
     "data": {
      "text/plain": [
       "1"
      ]
     },
     "execution_count": 8,
     "metadata": {},
     "output_type": "execute_result"
    }
   ],
   "source": [
    "heapq.heappop(minheap)"
   ]
  },
  {
   "cell_type": "code",
   "execution_count": 9,
   "metadata": {},
   "outputs": [
    {
     "name": "stdout",
     "output_type": "stream",
     "text": [
      "[2, 4, 3, 5, 6]\n"
     ]
    }
   ],
   "source": [
    "print(minheap)"
   ]
  },
  {
   "cell_type": "code",
   "execution_count": 14,
   "metadata": {},
   "outputs": [],
   "source": [
    "L = [3,7,8,9,0]\n",
    "heapq.heapify(L)"
   ]
  },
  {
   "cell_type": "code",
   "execution_count": 15,
   "metadata": {},
   "outputs": [
    {
     "name": "stdout",
     "output_type": "stream",
     "text": [
      "[0, 3, 8, 9, 7]\n"
     ]
    }
   ],
   "source": [
    "print(L)"
   ]
  },
  {
   "cell_type": "code",
   "execution_count": 16,
   "metadata": {},
   "outputs": [
    {
     "data": {
      "text/plain": [
       "[9, 8, 7]"
      ]
     },
     "execution_count": 16,
     "metadata": {},
     "output_type": "execute_result"
    }
   ],
   "source": [
    "heapq.nlargest(3,L)"
   ]
  },
  {
   "cell_type": "code",
   "execution_count": 17,
   "metadata": {},
   "outputs": [],
   "source": [
    "e = L[0]"
   ]
  },
  {
   "cell_type": "code",
   "execution_count": 18,
   "metadata": {},
   "outputs": [
    {
     "data": {
      "text/plain": [
       "0"
      ]
     },
     "execution_count": 18,
     "metadata": {},
     "output_type": "execute_result"
    }
   ],
   "source": [
    "e"
   ]
  },
  {
   "cell_type": "code",
   "execution_count": 19,
   "metadata": {},
   "outputs": [
    {
     "data": {
      "text/plain": [
       "0"
      ]
     },
     "execution_count": 19,
     "metadata": {},
     "output_type": "execute_result"
    }
   ],
   "source": [
    "heapq.heappushpop(L,5)"
   ]
  },
  {
   "cell_type": "code",
   "execution_count": 20,
   "metadata": {},
   "outputs": [
    {
     "name": "stdout",
     "output_type": "stream",
     "text": [
      "[3, 5, 8, 9, 7]\n"
     ]
    }
   ],
   "source": [
    "print(L)"
   ]
  },
  {
   "cell_type": "markdown",
   "metadata": {},
   "source": [
    "* O(log n) for insertions -- heapq.push \n",
    "* O(1) for lookup for max element --h[0]\n",
    "* O(log n) for deletion of the max element -- heapq.pop\n",
    "* O(n) search for arbitrary keys. "
   ]
  },
  {
   "cell_type": "markdown",
   "metadata": {},
   "source": [
    "## 238. Product of Array Except Self\n",
    "Medium\n",
    "\n",
    "3052\n",
    "\n",
    "264\n",
    "\n",
    "Favorite\n",
    "\n",
    "Share\n",
    "Given an array nums of n integers where n > 1,  return an array output such that output[i] is equal to the product of all the elements of nums except nums[i].\n",
    "\n",
    "Example:\n",
    "\n",
    "Input:  [1,2,3,4]\n",
    "Output: [24,12,8,6]\n",
    "Note: Please solve it without division and in O(n).\n",
    "\n",
    "Follow up:\n",
    "Could you solve it with constant space complexity? (The output array does not count as extra space for the purpose of space complexity analysis.)"
   ]
  },
  {
   "cell_type": "code",
   "execution_count": 23,
   "metadata": {},
   "outputs": [],
   "source": [
    "class Solution:\n",
    "    def productExceptSelf(self, nums:list) -> list:\n",
    "        n = len(nums)\n",
    "        \n",
    "        prod_left = [1] *n \n",
    "        prod_right = [1]*n\n",
    "        prod = [1]*n \n",
    "        prod_right[n-1] = nums[n-1]\n",
    "        prod_left[0] = nums[0]\n",
    "        \n",
    "        for i in range(n-2,-1,-1):\n",
    "            prod_right[i] = nums[i]* prod_right[i+1]\n",
    "        \n",
    "        for i in range(1,n):\n",
    "            prod_left[i] = nums[i]*prod_left[i-1]\n",
    "            \n",
    "        for i in range(1,n-1):\n",
    "            prod[i] = prod_left[i-1]*prod_right[i+1]\n",
    "            \n",
    "        prod[0] = prod_right[1]\n",
    "        prod[n-1] = prod_left[n-2]\n",
    "        \n",
    "        return prod\n",
    "        \n",
    "        "
   ]
  },
  {
   "cell_type": "markdown",
   "metadata": {},
   "source": [
    "Space Complexity is O(n) for 3 length of n products.\n",
    "\n",
    "Time Complexity is O(n) for 3 length of n iterations."
   ]
  },
  {
   "cell_type": "code",
   "execution_count": 25,
   "metadata": {},
   "outputs": [],
   "source": [
    "class Solution:\n",
    "    def productExceptSelf(self, nums: list) -> list:\n",
    "        \n",
    "        n = len(nums)\n",
    "        \n",
    "        answer = [0]*n \n",
    "        \n",
    "        answer[0] = 1\n",
    "        \n",
    "        for i in range(1,n):\n",
    "            answer[i] = nums[i-1]*answer[i-1]\n",
    "            \n",
    "        R = 1 \n",
    "        for i in reversed(range(n)):\n",
    "            answer[i] = answer[i] * R\n",
    "            R *= nums[i]\n",
    "            \n",
    "        return answer \n",
    "        "
   ]
  },
  {
   "cell_type": "markdown",
   "metadata": {},
   "source": [
    "A strategy using constant storage O(1).\n",
    "\n",
    "R is the element using as prod_right. But here, instead of using a list, we use a single scalar to save the product from the right and update everytime after using it. "
   ]
  },
  {
   "cell_type": "markdown",
   "metadata": {},
   "source": [
    "## 56 Merge Intervals\n",
    "\n",
    "Given a collection of intervals, merge all overlapping intervals. \n",
    "\n",
    "Example 1:\n",
    "\n",
    "Input: [[1,3],[2,6],[8,10],[15,18]]\n",
    "Output: [[1,6],[8,10],[15,18]]\n",
    "Explanation: Since intervals [1,3] and [2,6] overlaps, merge them into [1,6].\n",
    "Example 2:\n",
    "\n",
    "Input: [[1,4],[4,5]]\n",
    "Output: [[1,5]]\n",
    "Explanation: Intervals [1,4] and [4,5] are considered overlapping."
   ]
  },
  {
   "cell_type": "code",
   "execution_count": 29,
   "metadata": {},
   "outputs": [],
   "source": [
    "intervals = [[1,3], [2,6],[17,18], [15,18]]"
   ]
  },
  {
   "cell_type": "code",
   "execution_count": 30,
   "metadata": {},
   "outputs": [],
   "source": [
    "intervals.sort(key = lambda i: i[0])"
   ]
  },
  {
   "cell_type": "code",
   "execution_count": 31,
   "metadata": {},
   "outputs": [
    {
     "data": {
      "text/plain": [
       "[[1, 3], [2, 6], [15, 18], [17, 18]]"
      ]
     },
     "execution_count": 31,
     "metadata": {},
     "output_type": "execute_result"
    }
   ],
   "source": [
    "intervals"
   ]
  },
  {
   "cell_type": "code",
   "execution_count": 32,
   "metadata": {},
   "outputs": [],
   "source": [
    "class Solution:\n",
    "    def merge(self, intervals: list) -> list:\n",
    "        \n",
    "        if not intervals:\n",
    "            return []\n",
    "        \n",
    "        intervals.sort(key = lambda i: i[0])\n",
    "        \n",
    "        result = [intervals[0]]\n",
    "        \n",
    "        for i in intervals:\n",
    "            last = result[-1]\n",
    "            if i[0]<= last[1]:\n",
    "                if i[1] > last[1]:\n",
    "                    result[-1] = [last[0], i[1]]\n",
    "            else:\n",
    "                result.append(i)\n",
    "                \n",
    "        return result "
   ]
  },
  {
   "cell_type": "markdown",
   "metadata": {},
   "source": [
    "## Window Sliding Technique \n",
    "\n",
    "Given an array of integers of size ‘n’.\n",
    "Our aim is to calculate the maximum sum of ‘k’ \n",
    "consecutive elements in the array.\n",
    "\n",
    "Input  : arr[] = {100, 200, 300, 400}\n",
    "         k = 2\n",
    "Output : 700\n",
    "\n",
    "Input  : arr[] = {1, 4, 2, 10, 23, 3, 1, 0, 20}\n",
    "         k = 4 \n",
    "Output : 39\n",
    "We get maximum sum by adding subarray {4, 2, 10, 23}\n",
    "of size 4.\n",
    "\n",
    "Input  : arr[] = {2, 3}\n",
    "         k = 3\n",
    "Output : Invalid\n",
    "There is no subarray of size 3 as size of whole\n",
    "array is 2.\n",
    "\n",
    "\n",
    "**Brute Force Approach**. Start with first index and sum till k-th element. Do it for all possible consecutive blocks or groups of k elements. This method requires nested for loop, the outer for loop starts with the starting element of the block of k elements and the innter or the nested loop will add up till the k-th element. "
   ]
  },
  {
   "cell_type": "code",
   "execution_count": 1,
   "metadata": {},
   "outputs": [],
   "source": [
    "import sys\n",
    "\n",
    "INT_MIN = -sys.maxsize - 1 \n",
    "\n",
    "# Return maximum sum in a subarray of size k\n",
    "def maxSum(arr, n, k):\n",
    "    \n",
    "    max_sum = INT_MIN;\n",
    "    # Consider all blocks starting with i\n",
    "    for i in range(n - k +1):\n",
    "        current_sum = 0\n",
    "        for j in range(k):\n",
    "            current_sum = current_sum + arr[i+j]\n",
    "            \n",
    "        max_sum = max(current_sum, max_sum);\n",
    "    return max_sum "
   ]
  },
  {
   "cell_type": "code",
   "execution_count": 2,
   "metadata": {},
   "outputs": [
    {
     "data": {
      "text/plain": [
       "24"
      ]
     },
     "execution_count": 2,
     "metadata": {},
     "output_type": "execute_result"
    }
   ],
   "source": [
    "arr = [1,4,2,10,2,3,1,0,20]\n",
    "k = 4\n",
    "n = len(arr)\n",
    "maxSum(arr,n,k)"
   ]
  },
  {
   "cell_type": "markdown",
   "metadata": {},
   "source": [
    "The time complexity is O(kn) as it contains two nested loops where n is the lenght of input array and k is the length of subarray. \n",
    "\n",
    "Space complexity is O(1). "
   ]
  },
  {
   "cell_type": "markdown",
   "metadata": {},
   "source": [
    "**Window Sliding Technique \n",
    "\n",
    "The technique can be best understood with the window pane in bus, consider a window of length n and the pane which is fixed in it of length k. Consider, initialy the pane is at extreme left i.e., at 0 units from the left. Now, co-relate the window with array arr[] of size n and pane with current_sum of size k elements. Now, if we apply force on the window such that it moves a unit distance ahead. The pane will cover next k consecutive elements. \n",
    "\n",
    "Consider an array arr[] = {5,2,-1,0,3} and value of k = 3 and n = 5. \n",
    "\n",
    "**Applying sliding window technique:** \n",
    "\n",
    "1. We compute the sum of first k elements out of n terms using a linear loop and store the sum in variable window_sum. \n",
    "2. Then we wil graze linearly over the array till it reaches the end and simultaneously keep track of maximum sum. \n",
    "3. To get the current sum of block of k elements just substract the first element from the previous blokc and add the last element of the currenct block. "
   ]
  },
  {
   "cell_type": "code",
   "execution_count": 7,
   "metadata": {},
   "outputs": [],
   "source": [
    "def maxSum_slidingwindow(arr,n,k):\n",
    "    \n",
    "    if not n>k:\n",
    "        print(\"Invalid\")\n",
    "        return -1 \n",
    "    \n",
    "#     current_sum = sum(arr[:k])\n",
    "    current_sum = sum([arr[i] for i in range(k)])\n",
    "    max_sum = INT_MIN\n",
    "    \n",
    "    for i in range(n-k):\n",
    "        current_sum = current_sum - arr[i] + arr[i+k]\n",
    "        max_sum = max(current_sum, max_sum)\n",
    "        \n",
    "    return max_sum "
   ]
  },
  {
   "cell_type": "code",
   "execution_count": 8,
   "metadata": {},
   "outputs": [
    {
     "data": {
      "text/plain": [
       "24"
      ]
     },
     "execution_count": 8,
     "metadata": {},
     "output_type": "execute_result"
    }
   ],
   "source": [
    "maxSum_slidingwindow(arr,n,k)"
   ]
  },
  {
   "cell_type": "markdown",
   "metadata": {},
   "source": [
    "The time complexity is linear since only one loop in code. O(n)\n",
    "\n",
    "Space complexity is O(1). "
   ]
  },
  {
   "cell_type": "markdown",
   "metadata": {},
   "source": [
    "## 76.Minimum Window Substring \n",
    "\n",
    "Given a string S and a string T, find the minimum window in S which will contain all the characters in T in complexity O(n).\n",
    "\n",
    "Example:\n",
    "\n",
    "Input: S = \"ADOBECODEBANC\", T = \"ABC\"\n",
    "Output: \"BANC\"\n",
    "Note:\n",
    "\n",
    "If there is no such window in S that covers all characters in T, return the empty string \"\".\n",
    "If there is such window, you are guaranteed that there will always be only one unique minimum window in S."
   ]
  },
  {
   "cell_type": "markdown",
   "metadata": {},
   "source": [
    "### Approach 1: Sliding Window \n",
    "\n",
    "**Algorithm**\n",
    "\n",
    "1. We start with two pointers, left and right initially pointing to the first element of the string S. \n",
    "\n",
    "2. W use the right pointer to expand the window until we get a desirable window, i.e, a window that contains all the characters T. \n",
    "\n",
    "3. Once we have a window with all the characters, we can move the left pointer ahead one by one. If the window is still a desirable one we keep on updating the minimum window size. \n",
    "\n",
    "4. If the window is not desirable any more, we repeat step 2 onwards. "
   ]
  },
  {
   "cell_type": "code",
   "execution_count": 13,
   "metadata": {},
   "outputs": [],
   "source": [
    "import collections\n",
    "\n",
    "dict_t = collections.Counter(t) "
   ]
  },
  {
   "cell_type": "code",
   "execution_count": 10,
   "metadata": {},
   "outputs": [],
   "source": [
    "t = 'ABCC'"
   ]
  },
  {
   "cell_type": "code",
   "execution_count": 14,
   "metadata": {},
   "outputs": [
    {
     "name": "stdout",
     "output_type": "stream",
     "text": [
      "Counter({'C': 2, 'A': 1, 'B': 1})\n"
     ]
    }
   ],
   "source": [
    "print(dict_t)"
   ]
  },
  {
   "cell_type": "code",
   "execution_count": 15,
   "metadata": {},
   "outputs": [],
   "source": [
    "required = len(dict_t)"
   ]
  },
  {
   "cell_type": "code",
   "execution_count": 16,
   "metadata": {},
   "outputs": [
    {
     "data": {
      "text/plain": [
       "3"
      ]
     },
     "execution_count": 16,
     "metadata": {},
     "output_type": "execute_result"
    }
   ],
   "source": [
    "required"
   ]
  },
  {
   "cell_type": "code",
   "execution_count": 17,
   "metadata": {},
   "outputs": [],
   "source": [
    "window_counts = {}"
   ]
  },
  {
   "cell_type": "code",
   "execution_count": 18,
   "metadata": {},
   "outputs": [],
   "source": [
    "s = \"ADOBECODEBANC\""
   ]
  },
  {
   "cell_type": "code",
   "execution_count": 19,
   "metadata": {},
   "outputs": [],
   "source": [
    "r = 0\n",
    "character = s[0]"
   ]
  },
  {
   "cell_type": "code",
   "execution_count": 22,
   "metadata": {},
   "outputs": [],
   "source": [
    "window_counts[character] = window_counts.get(character, 0) "
   ]
  },
  {
   "cell_type": "code",
   "execution_count": 23,
   "metadata": {},
   "outputs": [
    {
     "name": "stdout",
     "output_type": "stream",
     "text": [
      "{'A': 1}\n"
     ]
    }
   ],
   "source": [
    "print(window_counts)"
   ]
  },
  {
   "cell_type": "code",
   "execution_count": 26,
   "metadata": {},
   "outputs": [],
   "source": [
    "r += 1\n",
    "character = s[r]\n",
    "window_counts[character] = window_counts.get(character,0)+1"
   ]
  },
  {
   "cell_type": "code",
   "execution_count": 27,
   "metadata": {},
   "outputs": [
    {
     "name": "stdout",
     "output_type": "stream",
     "text": [
      "{'A': 1, 'D': 0, 'O': 1}\n"
     ]
    }
   ],
   "source": [
    "print(window_counts)"
   ]
  },
  {
   "cell_type": "markdown",
   "metadata": {},
   "source": [
    "## Single Number II"
   ]
  },
  {
   "cell_type": "markdown",
   "metadata": {},
   "source": [
    "Given a non-empty array of intergers, every element appears three times except for one, which appears exactly once. Find that single one. \n",
    "\n",
    "Your algorithm should have a linear runtime complexity. Could you implement it withut using extra memory? "
   ]
  },
  {
   "cell_type": "markdown",
   "metadata": {},
   "source": [
    "### 1: HashSet\n",
    "The idea is to convert an input array into hashset and then to compare the tripled sum of the set with the array sum. "
   ]
  },
  {
   "cell_type": "code",
   "execution_count": 1,
   "metadata": {},
   "outputs": [],
   "source": [
    "def singleNumber(nums):\n",
    "    return (3 * sum(set(nums)) - sum(nums))//2"
   ]
  },
  {
   "cell_type": "code",
   "execution_count": 2,
   "metadata": {},
   "outputs": [
    {
     "data": {
      "text/plain": [
       "3"
      ]
     },
     "execution_count": 2,
     "metadata": {},
     "output_type": "execute_result"
    }
   ],
   "source": [
    "nums = [2,2,3,2]\n",
    "singleNumber(nums)"
   ]
  },
  {
   "cell_type": "code",
   "execution_count": 3,
   "metadata": {},
   "outputs": [
    {
     "data": {
      "text/plain": [
       "99"
      ]
     },
     "execution_count": 3,
     "metadata": {},
     "output_type": "execute_result"
    }
   ],
   "source": [
    "nums = [0,1,0,1,0,1,99]\n",
    "singleNumber(nums)"
   ]
  },
  {
   "cell_type": "markdown",
   "metadata": {},
   "source": [
    "Time complexity: O(N) to iterate over the input array.\n",
    "\n",
    "Space complexity: O(N) to keep the set of N/3 elements. "
   ]
  },
  {
   "cell_type": "markdown",
   "metadata": {},
   "source": [
    "### 2: HashMap\n",
    "\n",
    "Let's iterate over the input array to count the frequency of each number, and then return an element with a frequency 1. "
   ]
  },
  {
   "cell_type": "code",
   "execution_count": 6,
   "metadata": {},
   "outputs": [],
   "source": [
    "from collections import Counter \n",
    "\n",
    "def singleNumber2(nums):\n",
    "    hashmap = Counter(nums)\n",
    "    print(hashmap)\n",
    "    \n",
    "    for k in hashmap.keys():\n",
    "        print(k)\n",
    "        print(hashmap[k])\n",
    "        if hashmap[k] == 1:\n",
    "            return k"
   ]
  },
  {
   "cell_type": "code",
   "execution_count": 7,
   "metadata": {},
   "outputs": [
    {
     "name": "stdout",
     "output_type": "stream",
     "text": [
      "Counter({0: 3, 1: 3, 99: 1})\n",
      "0\n",
      "3\n",
      "1\n",
      "3\n",
      "99\n",
      "1\n"
     ]
    },
    {
     "data": {
      "text/plain": [
       "99"
      ]
     },
     "execution_count": 7,
     "metadata": {},
     "output_type": "execute_result"
    }
   ],
   "source": [
    "singleNumber2(nums)"
   ]
  },
  {
   "cell_type": "markdown",
   "metadata": {},
   "source": [
    "Time Complexity: O(N) to iterate over the input array. \n",
    "\n",
    "Space Complexity: O(N) to keep the hashmap of N/3 elements. "
   ]
  },
  {
   "cell_type": "markdown",
   "metadata": {},
   "source": [
    "## 3: Bitwise Operators: NOt, AND and XOR\n",
    "\n",
    "~x means bitwise NOT\n",
    "x&y means bitwise AND\n",
    "x \\directsum y means bitwise XOR\n",
    "\n",
    "0 \\directsum x = x;\n",
    "x \\directsum x = 0\n",
    "\n",
    "i.e.\n",
    "0 \\directsum 0 = 0;\n",
    "0 \\directsum 1 = 1;\n",
    "1 \\directsum 1 = 0;\n",
    "1 \\directsum 0 = 1;\n",
    "\n",
    "Could be used to detect the bit which appears odd number of times: 1,3,5,etc. \n"
   ]
  },
  {
   "cell_type": "code",
   "execution_count": 8,
   "metadata": {},
   "outputs": [],
   "source": [
    "# Return the root of the corresponding BST. The prev and next fields \n",
    "# of the list nodes are used as the BST nodes left and right fields,\n",
    "# respectively. The length of the list is given. \n",
    "\n",
    "def build_bst_from_sorted_doubly_list(l, n:int):\n",
    "    \n",
    "    # Builds a BST from the (start+1)-th to the end-th node, inclusive, in l.\n",
    "    # return the root \n",
    "    \n",
    "    def build_bst_from_sorted_doubly_list_helper(start, end):\n",
    "        if start >= end:\n",
    "            return None\n",
    "        \n",
    "        mid = (start + end) //2 \n",
    "        left = build_bst_from_sorted_doubly_list_helper(start, mid)\n",
    "        curr, head[0] = head[0], head[0].next\n",
    "        curr.prev = left\n",
    "        curr.next = build_bst_from_sorted_doubly_list_helper(mid+1, end)\n",
    "        return curr \n",
    "    head = [l]\n",
    "    \n",
    "    return build_bst_from_sorted_doubly_list_helper(0,n)"
   ]
  },
  {
   "cell_type": "code",
   "execution_count": 9,
   "metadata": {},
   "outputs": [],
   "source": [
    "class BinaryTreeNode:\n",
    "    def __init__ (self, data = None, left = None, right = None):\n",
    "        self.data = data\n",
    "        self.left = left\n",
    "        self.right = right "
   ]
  },
  {
   "cell_type": "code",
   "execution_count": 14,
   "metadata": {},
   "outputs": [],
   "source": [
    "class LinkedList:\n",
    "    def __init__(self, data = 0, next = None):\n",
    "        self.data = data\n",
    "        self.next = next"
   ]
  },
  {
   "cell_type": "code",
   "execution_count": 11,
   "metadata": {},
   "outputs": [],
   "source": [
    "s = [1,2,3,4]"
   ]
  },
  {
   "cell_type": "code",
   "execution_count": 15,
   "metadata": {},
   "outputs": [],
   "source": [
    "def merge_two_sorted_lists(L1, L2):\n",
    "    dummy_head = tail = LinkedList()\n",
    "    \n",
    "    while L1 and L2:\n",
    "        if L1.data < L2.data:\n",
    "            tail.next, L1 = L1, L1.next\n",
    "        else:\n",
    "            tail.next, L2 = L2, L2.next\n",
    "        tail = tail.next\n",
    "        \n",
    "    tail.next = L1 or L2\n",
    "    return dummy_head.next\n",
    "        "
   ]
  },
  {
   "cell_type": "code",
   "execution_count": 16,
   "metadata": {},
   "outputs": [],
   "source": [
    "node1 = LinkedList(1)\n",
    "node2 = LinkedList(2)\n",
    "node3 = LinkedList(3)\n",
    "node4 = LinkedList(4)\n",
    "node5 = LinkedList(5)\n",
    "node6 = LinkedList(6)\n",
    "\n",
    "node1.next = node2\n",
    "node2.next = node3\n",
    "\n",
    "node6.next = node5\n",
    "node5.next = node4"
   ]
  },
  {
   "cell_type": "code",
   "execution_count": 17,
   "metadata": {},
   "outputs": [
    {
     "data": {
      "text/plain": [
       "<__main__.LinkedList at 0x1054e2090>"
      ]
     },
     "execution_count": 17,
     "metadata": {},
     "output_type": "execute_result"
    }
   ],
   "source": [
    "merge_two_sorted_lists(node1,node6)"
   ]
  },
  {
   "cell_type": "code",
   "execution_count": 18,
   "metadata": {},
   "outputs": [],
   "source": [
    "def print_list(L):\n",
    "    while L:\n",
    "        print(L.data)\n",
    "        L = L.next"
   ]
  },
  {
   "cell_type": "markdown",
   "metadata": {},
   "source": [
    "## 31. Next Permutation \n",
    "\n",
    "Implement next permutation, which rearranges numbers into the lexicographically next greater permutation of numbers. \n",
    "\n",
    "If such arrangement is not possible, it must rearrange it as the lowest possible order (ie. sorted in ascending order). \n",
    "\n",
    "The replacement must be in-place and use only constant extra memory. \n",
    "\n",
    "\n",
    "**Example:** \n",
    "* Find the longest decreasing suffix l\n",
    "* e: first element before l, s: smallest element in l, swap e and s. \n",
    "* Sorting l' in ascending manner\n",
    "\n",
    "[6,2,1,5,4,3,0] --> [6,2,3,5,4,1,0] --> [6,2,3,0,1,4,5]\n",
    "\n",
    "As an optimization, it is not necessary to call a full blown sorting algorithm on suffix. Since the suffix was initially decreasing, and after replacing s by e it remains decreasing, reversing the suffix has the effect of soring it from smallest to largest. "
   ]
  },
  {
   "cell_type": "code",
   "execution_count": 61,
   "metadata": {},
   "outputs": [],
   "source": [
    "def next_permutation(a: list) -> list:\n",
    "    n = len(a)\n",
    "    \n",
    "    e = -1\n",
    "    \n",
    "    for i in range(n-2,-1,-1):\n",
    "        if a[i] < a[i+1]:\n",
    "            e = i\n",
    "            break\n",
    "    print(e)\n",
    "    if e == -1:\n",
    "        return (a[::-1])\n",
    "    \n",
    "    for j in range(n-1,e,-1):\n",
    "        if a[j] > a[e]:\n",
    "            s = j\n",
    "            break\n",
    "            \n",
    "    a[e], a[s] = a[s], a[e]\n",
    "    \n",
    "    \n",
    "#     a[e+1:] = reversed(a[e+1:])\n",
    "    a[e+1:] = a[e+1:][::-1]\n",
    "    \n",
    "    return(a)\n",
    "        \n",
    "    "
   ]
  },
  {
   "cell_type": "code",
   "execution_count": 58,
   "metadata": {},
   "outputs": [
    {
     "name": "stdout",
     "output_type": "stream",
     "text": [
      "[6, 2, 3, 0, 1, 4, 5]\n"
     ]
    }
   ],
   "source": [
    "a = [6,2,1,5,4,3,0]\n",
    "print(next_permutation(a))"
   ]
  },
  {
   "cell_type": "code",
   "execution_count": 59,
   "metadata": {},
   "outputs": [
    {
     "name": "stdout",
     "output_type": "stream",
     "text": [
      "[0, 1, 2, 3, 4, 5, 6]\n"
     ]
    }
   ],
   "source": [
    "a = [6,5,4,3,2,1,0]\n",
    "print(next_permutation(a))"
   ]
  },
  {
   "cell_type": "code",
   "execution_count": 60,
   "metadata": {},
   "outputs": [
    {
     "name": "stdout",
     "output_type": "stream",
     "text": [
      "[1, 3, 2]\n"
     ]
    }
   ],
   "source": [
    "a = [1,2,3]\n",
    "print(next_permutation(a))"
   ]
  },
  {
   "cell_type": "code",
   "execution_count": 62,
   "metadata": {},
   "outputs": [
    {
     "name": "stdout",
     "output_type": "stream",
     "text": [
      "-1\n",
      "[1, 2, 3]\n"
     ]
    }
   ],
   "source": [
    "a = [3,2,1]\n",
    "print(next_permutation(a))"
   ]
  },
  {
   "cell_type": "markdown",
   "metadata": {},
   "source": [
    "Time Complexity: O(n).\n",
    "\n",
    "Space Complexity: O(1). "
   ]
  },
  {
   "cell_type": "markdown",
   "metadata": {},
   "source": [
    "## 5. Longest Palindromic Substring \n",
    "\n",
    "Given a string s, find the longest palindromic substring in s. You may assume that the maximum lenght of s is 1000. "
   ]
  },
  {
   "cell_type": "markdown",
   "metadata": {},
   "source": [
    "### Test Palindromicity "
   ]
  },
  {
   "cell_type": "code",
   "execution_count": 63,
   "metadata": {},
   "outputs": [],
   "source": [
    "def is_palindrome(s:str) -> bool:\n",
    "    # i moves forward and j moves backward\n",
    "    i, j = 0, len(s) -1 \n",
    "    while i<j:\n",
    "        # i and j both skip non-alphanumerica characters\n",
    "        while not s[i].isalnum() and i < j:\n",
    "            i += 1\n",
    "        while not s[j].isalnum() and j > i:\n",
    "            j -= 1\n",
    "        if s[i].lower() != s[j].lower():\n",
    "            return False\n",
    "        \n",
    "        i,j =  i+1, j-1\n",
    "    return True"
   ]
  },
  {
   "cell_type": "code",
   "execution_count": 64,
   "metadata": {},
   "outputs": [
    {
     "data": {
      "text/plain": [
       "True"
      ]
     },
     "execution_count": 64,
     "metadata": {},
     "output_type": "execute_result"
    }
   ],
   "source": [
    "s = 'ababa'\n",
    "is_palindrome(s)"
   ]
  },
  {
   "cell_type": "code",
   "execution_count": 65,
   "metadata": {},
   "outputs": [
    {
     "data": {
      "text/plain": [
       "False"
      ]
     },
     "execution_count": 65,
     "metadata": {},
     "output_type": "execute_result"
    }
   ],
   "source": [
    "s = 'ababab'\n",
    "is_palindrome(s)"
   ]
  },
  {
   "cell_type": "code",
   "execution_count": 67,
   "metadata": {},
   "outputs": [],
   "source": [
    "def is_palindrome_pythonic(s:str) -> bool:\n",
    "    return all(a == b for a, b in zip(\n",
    "    map(str.lower, filter(str.isalnum, s)),\n",
    "    map(str.lower, filter(str.isalnum, reversed(s)))))"
   ]
  },
  {
   "cell_type": "code",
   "execution_count": 68,
   "metadata": {},
   "outputs": [
    {
     "data": {
      "text/plain": [
       "False"
      ]
     },
     "execution_count": 68,
     "metadata": {},
     "output_type": "execute_result"
    }
   ],
   "source": [
    "is_palindrome_pythonic(s)"
   ]
  },
  {
   "cell_type": "code",
   "execution_count": 69,
   "metadata": {},
   "outputs": [
    {
     "data": {
      "text/plain": [
       "True"
      ]
     },
     "execution_count": 69,
     "metadata": {},
     "output_type": "execute_result"
    }
   ],
   "source": [
    "s = 'def,fed'\n",
    "is_palindrome_pythonic(s)"
   ]
  },
  {
   "cell_type": "markdown",
   "metadata": {},
   "source": [
    "We spend O(1) per character, so the time complexity is O(n), with n the length of s. "
   ]
  },
  {
   "cell_type": "code",
   "execution_count": 71,
   "metadata": {},
   "outputs": [],
   "source": [
    "def longestPalindrome(s:str):\n",
    "    len_s = len(s)\n",
    "    def expand(L, R):\n",
    "        while (L >= 0 and R < len_s and s[L] == s[R]):\n",
    "            L -= 1\n",
    "            R += 1\n",
    "        return L+1, R-(L+1)\n",
    "    ret = 0,0 \n",
    "    for i in range(len_s):\n",
    "        ret = max(ret, expand(i,i), expand(i, i+1), key=lambda t:t[1])\n",
    "        if ret[1] >= (len_s -i)*2:\n",
    "            break\n",
    "    return s[ret[0]: ret[0] + ret[1]]"
   ]
  },
  {
   "cell_type": "code",
   "execution_count": 73,
   "metadata": {},
   "outputs": [
    {
     "data": {
      "text/plain": [
       "'ababa'"
      ]
     },
     "execution_count": 73,
     "metadata": {},
     "output_type": "execute_result"
    }
   ],
   "source": [
    "s = 'ababab'\n",
    "longestPalindrome(s)"
   ]
  },
  {
   "cell_type": "code",
   "execution_count": 75,
   "metadata": {},
   "outputs": [
    {
     "data": {
      "text/plain": [
       "'cdbbdc'"
      ]
     },
     "execution_count": 75,
     "metadata": {},
     "output_type": "execute_result"
    }
   ],
   "source": [
    "s = 'cddcdbbdc'\n",
    "longestPalindrome(s)"
   ]
  },
  {
   "cell_type": "code",
   "execution_count": null,
   "metadata": {},
   "outputs": [],
   "source": []
  },
  {
   "cell_type": "code",
   "execution_count": null,
   "metadata": {},
   "outputs": [],
   "source": []
  }
 ],
 "metadata": {
  "kernelspec": {
   "display_name": "Python 3",
   "language": "python",
   "name": "python3"
  },
  "language_info": {
   "codemirror_mode": {
    "name": "ipython",
    "version": 3
   },
   "file_extension": ".py",
   "mimetype": "text/x-python",
   "name": "python",
   "nbconvert_exporter": "python",
   "pygments_lexer": "ipython3",
   "version": "3.6.8"
  }
 },
 "nbformat": 4,
 "nbformat_minor": 2
}
