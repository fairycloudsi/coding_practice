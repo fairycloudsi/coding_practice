{
 "cells": [
  {
   "cell_type": "markdown",
   "metadata": {},
   "source": [
    "## 6. ZigZag conversion \n",
    "\n",
    "The string \"PAYPALISHIRING\" is written in a zigzag pattern on a given number of rows like this: (you may want to display this pattern in a fixed font for better legibility)\n",
    "P   A   H   N\n",
    "A P L S I I G\n",
    "Y   I   R\n",
    "And then read line by line: \"PAHNAPLSIIGYIR\"\n",
    "\n",
    "Write the code that will take a string and make this conversion given a number of rows:\n",
    "\n",
    "string convert(string s, int numRows);"
   ]
  },
  {
   "cell_type": "code",
   "execution_count": 1,
   "metadata": {},
   "outputs": [],
   "source": [
    "class Solution:\n",
    "    def convert(self, s: str, numRows: int) -> str:\n",
    "        \n",
    "        if numRows == 0:\n",
    "            return ''\n",
    "        if numRows == 1:\n",
    "            return s\n",
    "        if len(s) <= numRows:\n",
    "            return s\n",
    "        \n",
    "        diagonals = numRows - 2\n",
    "        skips = diagonals + numRows \n",
    "        \n",
    "        ans = []\n",
    "        \n",
    "        # append first row\n",
    "        for i in range(0, len(s), skips):\n",
    "            ans.append(s[i])\n",
    "            \n",
    "        # append middle rows and digonal elements \n",
    "        for j in range(1, numRows-1):\n",
    "            for i in range(j,len(s), skips):\n",
    "                ans.append(s[i])\n",
    "                if i + 2*(numRows-1 - j) < len(s):\n",
    "                    ans.append(s[i + 2*(numRows -1 - j)])\n",
    "        \n",
    "        # append last row \n",
    "        for i in range(numRows-1, len(s), skips):\n",
    "            ans.append(s[i])"
   ]
  },
  {
   "cell_type": "markdown",
   "metadata": {},
   "source": [
    "The complexity is O(n) since we touch every element once and storage is O(n) since we use an new array to store them. "
   ]
  },
  {
   "cell_type": "code",
   "execution_count": 38,
   "metadata": {},
   "outputs": [],
   "source": [
    "def turning_point(s: list) -> int:\n",
    "    # given a turning increasing array, give the index of turning point \n",
    "    \n",
    "    l, r = 0, len(s)-1\n",
    "    while l < r:\n",
    "        mid = (l+r+1)//2\n",
    "        print('l,r,mid are ', l,r,mid)\n",
    "        if s[l] < s[mid] < s[r]:\n",
    "            break\n",
    "        elif s[l] > s[mid]:\n",
    "            r = mid  \n",
    "        elif s[r] < s[mid]:\n",
    "            l = mid  \n",
    "        if mid == l or mid ==r:\n",
    "            return mid+1 \n",
    "        else:\n",
    "            print('not find turning point')"
   ]
  },
  {
   "cell_type": "code",
   "execution_count": 39,
   "metadata": {},
   "outputs": [
    {
     "name": "stdout",
     "output_type": "stream",
     "text": [
      "l,r,mid are  0 6 3\n"
     ]
    },
    {
     "data": {
      "text/plain": [
       "4"
      ]
     },
     "execution_count": 39,
     "metadata": {},
     "output_type": "execute_result"
    }
   ],
   "source": [
    "s = [4,5,6,7,0,1,2]\n",
    "turning_point(s)"
   ]
  },
  {
   "cell_type": "markdown",
   "metadata": {},
   "source": [
    "For rotated sorted array, use binary search to find the turning point. Time complexity is O(n log n) and storage is O(1). "
   ]
  },
  {
   "cell_type": "code",
   "execution_count": 40,
   "metadata": {},
   "outputs": [],
   "source": [
    "news = s[3+1:] +s[:3+1] "
   ]
  },
  {
   "cell_type": "code",
   "execution_count": 41,
   "metadata": {},
   "outputs": [
    {
     "data": {
      "text/plain": [
       "[0, 1, 2, 4, 5, 6, 7]"
      ]
     },
     "execution_count": 41,
     "metadata": {},
     "output_type": "execute_result"
    }
   ],
   "source": [
    "news"
   ]
  },
  {
   "cell_type": "code",
   "execution_count": 35,
   "metadata": {},
   "outputs": [],
   "source": [
    "def binary_search_sorted(nums: list, target: int) -> int:\n",
    "    # use binary search to find target in sorted array s \n",
    "    l, r = 0, len(nums) -1 \n",
    "    while l<=r:\n",
    "        mid = (l+r+1)//2\n",
    "        print('l,r,mid are ', l,r,mid)\n",
    "        if nums[mid] == target:\n",
    "            break\n",
    "        elif nums[mid] < target:\n",
    "            l = mid +1 \n",
    "        else:\n",
    "            r = mid -1 \n",
    "    if nums[mid] == target:\n",
    "        return mid\n",
    "    else:\n",
    "        return -1 "
   ]
  },
  {
   "cell_type": "code",
   "execution_count": 36,
   "metadata": {},
   "outputs": [
    {
     "name": "stdout",
     "output_type": "stream",
     "text": [
      "l,r,mid are  0 6 3\n",
      "l,r,mid are  0 2 1\n",
      "l,r,mid are  0 0 0\n"
     ]
    },
    {
     "data": {
      "text/plain": [
       "0"
      ]
     },
     "execution_count": 36,
     "metadata": {},
     "output_type": "execute_result"
    }
   ],
   "source": [
    "binary_search_sorted(news,0)"
   ]
  },
  {
   "cell_type": "code",
   "execution_count": 37,
   "metadata": {},
   "outputs": [
    {
     "name": "stdout",
     "output_type": "stream",
     "text": [
      "l,r,mid are  0 6 3\n",
      "l,r,mid are  0 2 1\n",
      "l,r,mid are  2 2 2\n"
     ]
    },
    {
     "data": {
      "text/plain": [
       "-1"
      ]
     },
     "execution_count": 37,
     "metadata": {},
     "output_type": "execute_result"
    }
   ],
   "source": [
    "binary_search_sorted(news,3)"
   ]
  },
  {
   "cell_type": "code",
   "execution_count": 54,
   "metadata": {},
   "outputs": [],
   "source": [
    "def find_target(nums: list, target: int) -> int:\n",
    "    t_index = turning_point(nums)\n",
    "    nums_new = nums[t_index:] + nums[:t_index]\n",
    "    ans = binary_search_sorted(nums_new, target)\n",
    "    \n",
    "    return ans + t_index if ans != -1 else -1"
   ]
  },
  {
   "cell_type": "code",
   "execution_count": 56,
   "metadata": {},
   "outputs": [
    {
     "name": "stdout",
     "output_type": "stream",
     "text": [
      "l,r,mid are  0 6 3\n",
      "l,r,mid are  0 6 3\n",
      "l,r,mid are  0 2 1\n",
      "l,r,mid are  2 2 2\n"
     ]
    },
    {
     "data": {
      "text/plain": [
       "-1"
      ]
     },
     "execution_count": 56,
     "metadata": {},
     "output_type": "execute_result"
    }
   ],
   "source": [
    "nums = [4,5,6,7,0,1,2]\n",
    "find_target(nums, 3)"
   ]
  },
  {
   "cell_type": "code",
   "execution_count": 72,
   "metadata": {},
   "outputs": [],
   "source": [
    "def search( nums: list, target: int) -> int:\n",
    "        \n",
    "        if not nums:\n",
    "            return -1\n",
    "        if len(nums) ==1:\n",
    "            if nums[0] == target:\n",
    "                return 0\n",
    "            else:\n",
    "                return -1\n",
    "        # first find the turning point \n",
    "        \n",
    "        l = 0\n",
    "        r = len(nums) -1\n",
    "        \n",
    "        while l <= r:\n",
    "            mid = (l+r+1)//2\n",
    "            print('l,mid,r are',l,mid,r)\n",
    "            if nums[l] < nums[mid] < nums[r]:\n",
    "                break\n",
    "            if nums[mid] < nums[l]:\n",
    "                r = mid\n",
    "            if nums[r] < nums[mid]:\n",
    "                l = mid \n",
    "            if mid == r or mid == l:\n",
    "                break \n",
    "            \n",
    "        \n",
    "        # Secondly, arrange the array in sorted \n",
    "        nums_sorted = nums[mid+1:] + nums[:mid+1]\n",
    "        print('nums_sorted is' , nums_sorted)\n",
    "        \n",
    "        # Finally, use binary search to find target \n",
    "        \n",
    "        l = 0\n",
    "        r = len(nums) -1 \n",
    "        \n",
    "        while l<=r:\n",
    "            mid_2 = (l+r+1)//2\n",
    "            if nums[mid_2] == target:\n",
    "                break\n",
    "            elif nums[mid_2] < target:\n",
    "                l = mid_2+1\n",
    "            else:\n",
    "                r = mid_2-1\n",
    "            print('mid_2 is' , mid_2)\n",
    "        \n",
    "        if nums_sorted[mid_2] == target:\n",
    "            return (mid_2+mid+1)\n",
    "        else:\n",
    "            return -1 \n",
    "\n",
    "                \n",
    "        "
   ]
  },
  {
   "cell_type": "code",
   "execution_count": 73,
   "metadata": {},
   "outputs": [
    {
     "name": "stdout",
     "output_type": "stream",
     "text": [
      "l,mid,r are 0 3 6\n",
      "nums_sorted is [0, 1, 2, 4, 5, 6, 7]\n",
      "mid_2 is 3\n",
      "mid_2 is 1\n",
      "mid_2 is 0\n"
     ]
    },
    {
     "data": {
      "text/plain": [
       "4"
      ]
     },
     "execution_count": 73,
     "metadata": {},
     "output_type": "execute_result"
    }
   ],
   "source": [
    "search( nums, 0)"
   ]
  },
  {
   "cell_type": "markdown",
   "metadata": {},
   "source": [
    "## BFS (Breadth First Search) and DFS (Depth First Search)"
   ]
  },
  {
   "cell_type": "markdown",
   "metadata": {},
   "source": [
    "### DFS Example "
   ]
  },
  {
   "cell_type": "markdown",
   "metadata": {},
   "source": [
    "#### 1.Find the number of connected components in a undirected graph "
   ]
  },
  {
   "cell_type": "code",
   "execution_count": 12,
   "metadata": {},
   "outputs": [
    {
     "name": "stdout",
     "output_type": "stream",
     "text": [
      "Following are connected components\n",
      "[[0, 1], [2, 3, 4]]\n"
     ]
    }
   ],
   "source": [
    "# Python program to print connected components in an undirected graph \n",
    "\n",
    "class Graph:\n",
    "    \n",
    "    # init function to declare class variables \n",
    "    def __init__(self,V):\n",
    "        self.V = V\n",
    "        self.adj = [[] for i in range(V)]\n",
    "    \n",
    "    def DFSUtil(self, temp, v, visited):\n",
    "        \n",
    "        # Mark the current vertex as visited \n",
    "        visited[v] = True \n",
    "        \n",
    "        # Store the vertex to list\n",
    "        temp.append(v)\n",
    "        \n",
    "        # Repeat for all vertices adjacent to the vertex v\n",
    "        for i in self.adj[v]:\n",
    "            if visited[i] == False:\n",
    "                \n",
    "                # Update the list \n",
    "                temp = self.DFSUtil(temp, i, visited)\n",
    "        return temp\n",
    "    \n",
    "    \n",
    "    # Method to add an undirected edge \n",
    "    def addEdge(self, v, w):\n",
    "        self.adj[v].append(w)\n",
    "        self.adj[w].append(v)\n",
    "        \n",
    "    # Method to retrieve connected components in an undirected graph \n",
    "    def connectedComponents(self):\n",
    "        visited = []\n",
    "        cc = []\n",
    "        for i in range(self.V):\n",
    "            visited.append(False)\n",
    "        for v in range(self.V):\n",
    "            if visited[v] == False:\n",
    "                temp = []\n",
    "                cc.append(self.DFSUtil(temp, v, visited))\n",
    "        return cc \n",
    "\n",
    "# Driver Code \n",
    "if __name__ == \"__main__\":\n",
    "    # Create a graph given in the above diagram \n",
    "    # 5 vertices numbered from 0 to 4\n",
    "    g = Graph(5);\n",
    "    g.addEdge(1, 0)\n",
    "    g.addEdge(2, 3)\n",
    "    g.addEdge(3, 4)\n",
    "    cc = g.connectedComponents()\n",
    "    print(\"Following are connected components\")\n",
    "    print(cc)"
   ]
  },
  {
   "cell_type": "code",
   "execution_count": 6,
   "metadata": {},
   "outputs": [
    {
     "name": "stdout",
     "output_type": "stream",
     "text": [
      "Following are connected components\n",
      "[[0, 1, 5], [2, 3, 4]]\n"
     ]
    }
   ],
   "source": [
    "\n",
    "# Python program to print connected  \n",
    "# components in an undirected graph \n",
    "class Graph: \n",
    "      \n",
    "    # init function to declare class variables \n",
    "    def __init__(self,V): \n",
    "        self.V = V \n",
    "        self.adj = [[] for i in range(V)] \n",
    "  \n",
    "    def DFSUtil(self, temp, v, visited): \n",
    "  \n",
    "        # Mark the current vertex as visited \n",
    "        visited[v] = True\n",
    "  \n",
    "        # Store the vertex to list \n",
    "        temp.append(v) \n",
    "  \n",
    "        # Repeat for all vertices adjacent \n",
    "        # to this vertex v \n",
    "        for i in self.adj[v]: \n",
    "            if visited[i] == False: \n",
    "                  \n",
    "                # Update the list \n",
    "                temp = self.DFSUtil(temp, i, visited) \n",
    "        return temp \n",
    "  \n",
    "    # method to add an undirected edge \n",
    "    def addEdge(self, v, w): \n",
    "        self.adj[v].append(w) \n",
    "        self.adj[w].append(v) \n",
    "  \n",
    "    # Method to retrieve connected components \n",
    "    # in an undirected graph \n",
    "    def connectedComponents(self): \n",
    "        visited = [] \n",
    "        cc = [] \n",
    "        for i in range(self.V): \n",
    "            visited.append(False) \n",
    "        for v in range(self.V): \n",
    "            if visited[v] == False: \n",
    "                temp = [] \n",
    "                cc.append(self.DFSUtil(temp, v, visited)) \n",
    "        return cc \n",
    "  \n",
    " # Driver Code \n",
    "if __name__==\"__main__\": \n",
    "      \n",
    "    # Create a graph given in the above diagram \n",
    "    # 5 vertices numbered from 0 to 4 \n",
    "    g = Graph(6); \n",
    "    g.addEdge(1, 0) \n",
    "    g.addEdge(2, 3)\n",
    "    g.addEdge(1, 5)\n",
    "    g.addEdge(3, 4) \n",
    "    cc = g.connectedComponents() \n",
    "    print(\"Following are connected components\") \n",
    "    print(cc) \n",
    "  \n",
    " # This code is contributed by Abhishek Valsan  "
   ]
  },
  {
   "cell_type": "markdown",
   "metadata": {},
   "source": [
    "## 240. Search a 2D Matrix II\n",
    "\n",
    "Write an efficient algorithm that searches for a value in an m x n matrix. This matrix has the following properties:\n",
    "\n",
    "Integers in each row are sorted in ascending from left to right.\n",
    "Integers in each column are sorted in ascending from top to bottom.\n",
    "Example:\n",
    "\n",
    "Consider the following matrix:\n",
    "\n",
    "[\n",
    "  [1,   4,  7, 11, 15],\n",
    "  [2,   5,  8, 12, 19],\n",
    "  [3,   6,  9, 16, 22],\n",
    "  [10, 13, 14, 17, 24],\n",
    "  [18, 21, 23, 26, 30]\n",
    "]\n",
    "Given target = 5, return true.\n",
    "\n",
    "Given target = 20, return false."
   ]
  },
  {
   "cell_type": "code",
   "execution_count": 15,
   "metadata": {},
   "outputs": [],
   "source": [
    "matrix = [[1, 2, 3, 4],[5, 6, 7, 8],[9, 10, 11, 12]]"
   ]
  },
  {
   "cell_type": "code",
   "execution_count": 16,
   "metadata": {},
   "outputs": [
    {
     "data": {
      "text/plain": [
       "1"
      ]
     },
     "execution_count": 16,
     "metadata": {},
     "output_type": "execute_result"
    }
   ],
   "source": [
    "matrix[0][0]"
   ]
  },
  {
   "cell_type": "code",
   "execution_count": 17,
   "metadata": {},
   "outputs": [
    {
     "name": "stdout",
     "output_type": "stream",
     "text": [
      "[[1, 2, 3, 4], [5, 6, 7, 8], [9, 10, 11, 12]]\n"
     ]
    }
   ],
   "source": [
    "print(matrix)"
   ]
  },
  {
   "cell_type": "code",
   "execution_count": 18,
   "metadata": {},
   "outputs": [],
   "source": [
    "arr = []"
   ]
  },
  {
   "cell_type": "code",
   "execution_count": 19,
   "metadata": {},
   "outputs": [
    {
     "data": {
      "text/plain": [
       "True"
      ]
     },
     "execution_count": 19,
     "metadata": {},
     "output_type": "execute_result"
    }
   ],
   "source": [
    "not(arr)"
   ]
  },
  {
   "cell_type": "code",
   "execution_count": 20,
   "metadata": {},
   "outputs": [],
   "source": [
    "directions = [(0,1), (1,0)]"
   ]
  },
  {
   "cell_type": "code",
   "execution_count": 22,
   "metadata": {},
   "outputs": [
    {
     "name": "stdout",
     "output_type": "stream",
     "text": [
      "2\n",
      "5\n"
     ]
    }
   ],
   "source": [
    "for x,y in directions:\n",
    "    print(matrix[0+x][0+y])"
   ]
  },
  {
   "cell_type": "code",
   "execution_count": 24,
   "metadata": {},
   "outputs": [],
   "source": [
    "x0, y0 = 0,0"
   ]
  },
  {
   "cell_type": "code",
   "execution_count": 25,
   "metadata": {},
   "outputs": [
    {
     "name": "stdout",
     "output_type": "stream",
     "text": [
      "0 1\n",
      "1 0\n"
     ]
    }
   ],
   "source": [
    "for x,y in directions:\n",
    "    print(x0+x,y0+y)"
   ]
  },
  {
   "cell_type": "code",
   "execution_count": 45,
   "metadata": {},
   "outputs": [],
   "source": [
    "class Solution:\n",
    "    def searchMatrix(self, matrix, target):\n",
    "        \"\"\"\n",
    "        :type matrix: List[List[int]]\n",
    "        :type target: int\n",
    "        :rtype: bool\n",
    "        \"\"\"\n",
    "        x0, y0 = 0,0\n",
    "        directions = [(0,1), (1,0)]\n",
    "        arr = []\n",
    "        arr.append((x0, y0))\n",
    "        \n",
    "        while arr:\n",
    "            x0, y0 = arr.pop()\n",
    "            if matrix[x0][y0] == target:\n",
    "                return True\n",
    "            else:\n",
    "                for x,y in directions:\n",
    "                    if x0+ x < len(matrix) and y0 +y < len(matrix[0]):\n",
    "                        arr.append((x0+x, y0+y))\n",
    "        return False \n",
    "                "
   ]
  },
  {
   "cell_type": "code",
   "execution_count": 43,
   "metadata": {},
   "outputs": [],
   "source": [
    "def searchMatrix(matrix, target):\n",
    "    x0, y0 = 0,0\n",
    "    directions = [(0,1),(1,0)]\n",
    "    arr = []\n",
    "    arr.append((x0,y0))\n",
    "    print(arr)\n",
    "    \n",
    "    while arr:\n",
    "        x0,y0 = arr.pop()\n",
    "        print(x0,y0)\n",
    "        print(arr)\n",
    "        if matrix[x0][y0] == target:\n",
    "            return True\n",
    "        else: \n",
    "            for x,y in directions:\n",
    "                if x0+x < len(matrix) and y0+y < len(matrix[0]):\n",
    "                    arr.append((x0+x, y0+y))\n",
    "        \n",
    "    return False "
   ]
  },
  {
   "cell_type": "code",
   "execution_count": 27,
   "metadata": {},
   "outputs": [],
   "source": [
    "matrix = [[1,2,3],[2,3,4],[5,6,7]]"
   ]
  },
  {
   "cell_type": "code",
   "execution_count": 28,
   "metadata": {},
   "outputs": [
    {
     "name": "stdout",
     "output_type": "stream",
     "text": [
      "[[1, 2, 3], [2, 3, 4], [5, 6, 7]]\n"
     ]
    }
   ],
   "source": [
    "print(matrix)"
   ]
  },
  {
   "cell_type": "code",
   "execution_count": 29,
   "metadata": {},
   "outputs": [],
   "source": [
    "target = 3"
   ]
  },
  {
   "cell_type": "code",
   "execution_count": 44,
   "metadata": {},
   "outputs": [
    {
     "name": "stdout",
     "output_type": "stream",
     "text": [
      "[(0, 0)]\n",
      "0 0\n",
      "[]\n",
      "1 0\n",
      "[(0, 1)]\n",
      "2 0\n",
      "[(0, 1), (1, 1)]\n",
      "2 1\n",
      "[(0, 1), (1, 1)]\n",
      "2 2\n",
      "[(0, 1), (1, 1)]\n",
      "1 1\n",
      "[(0, 1)]\n"
     ]
    },
    {
     "data": {
      "text/plain": [
       "True"
      ]
     },
     "execution_count": 44,
     "metadata": {},
     "output_type": "execute_result"
    }
   ],
   "source": [
    "searchMatrix(matrix, target)"
   ]
  },
  {
   "cell_type": "code",
   "execution_count": 46,
   "metadata": {},
   "outputs": [],
   "source": [
    "arr = [[]]"
   ]
  },
  {
   "cell_type": "code",
   "execution_count": 47,
   "metadata": {},
   "outputs": [
    {
     "data": {
      "text/plain": [
       "False"
      ]
     },
     "execution_count": 47,
     "metadata": {},
     "output_type": "execute_result"
    }
   ],
   "source": [
    "not(arr)"
   ]
  },
  {
   "cell_type": "code",
   "execution_count": 48,
   "metadata": {},
   "outputs": [
    {
     "data": {
      "text/plain": [
       "True"
      ]
     },
     "execution_count": 48,
     "metadata": {},
     "output_type": "execute_result"
    }
   ],
   "source": [
    "not(arr[0])"
   ]
  },
  {
   "cell_type": "markdown",
   "metadata": {},
   "source": [
    "Complexity is O(mn), fails for large matrix. Here is the row or column pruning methods. Not start from the upper-left, instead it starts from the bottom-left. "
   ]
  },
  {
   "cell_type": "code",
   "execution_count": 49,
   "metadata": {},
   "outputs": [],
   "source": [
    "class Solution:\n",
    "    def searchMatrix(self, matrix, target):\n",
    "        \"\"\"\n",
    "        :type matrix: List[List[int]]\n",
    "        :type target: int\n",
    "        :rtype: bool\n",
    "        \"\"\"\n",
    "        \n",
    "        if len(matrix) == 0 or len(matrix[0]) == 0:\n",
    "            return False\n",
    "        \n",
    "        height = len(matrix)\n",
    "        width = len(matrix[0])\n",
    "        \n",
    "        # start on \"pointer\" in the bottom-left\n",
    "        row = height - 1\n",
    "        col = 0\n",
    "        \n",
    "        while col < width and row >=0:\n",
    "            if matrix[row][col] > target:\n",
    "                row -= 1\n",
    "            elif matrix[row][col] < target:\n",
    "                col += 1\n",
    "            else:\n",
    "                return True\n",
    "        return False "
   ]
  },
  {
   "cell_type": "markdown",
   "metadata": {},
   "source": [
    "By the prunning method, the time complexity is O(m+n) while m is the height and n is width and storage is O(1). "
   ]
  },
  {
   "cell_type": "code",
   "execution_count": 50,
   "metadata": {},
   "outputs": [],
   "source": [
    "class TreeNode:\n",
    "    def __init__(self, x):\n",
    "        self.val = x\n",
    "        self.left = None\n",
    "        self.right = None"
   ]
  },
  {
   "cell_type": "code",
   "execution_count": 51,
   "metadata": {},
   "outputs": [],
   "source": [
    "Node0 = TreeNode(3)\n",
    "Node1 = TreeNode(9)\n",
    "Node2 = TreeNode(10)\n",
    "Node3 = TreeNode(15)\n",
    "Node4 = TreeNode(17)\n",
    "\n",
    "Node0.left = Node1\n",
    "Node0.right = Node2\n",
    "Node2.left = Node3\n",
    "Node2.right = Node4"
   ]
  },
  {
   "cell_type": "code",
   "execution_count": 87,
   "metadata": {},
   "outputs": [],
   "source": [
    "def zigzagLevelOrder(root: TreeNode) -> list:\n",
    "\n",
    "    level = 0\n",
    "    mid = []\n",
    "    arr = []\n",
    "    mid.append((root,level))\n",
    "    arr.append([root.val])\n",
    "\n",
    "    while mid:\n",
    "        print(mid)\n",
    "        print(arr)\n",
    "        temp = []\n",
    "        node, level = mid.pop()\n",
    "        if level //2 == 1:\n",
    "            print('yes')\n",
    "            level += 1\n",
    "            if node.left:\n",
    "                temp.append(node.left.val)\n",
    "            if node.right:\n",
    "                temp.append(node.right.val)\n",
    "            if node.right:\n",
    "                mid.append((node.right,level))\n",
    "            if node.left:\n",
    "                mid.append((node.left,level))\n",
    "        else:\n",
    "            print('yes+1')\n",
    "            level += 1\n",
    "            if node.right: \n",
    "                temp.append(node.right.val)\n",
    "            if node.left:\n",
    "                temp.append(node.left.val)\n",
    "            if node.left:\n",
    "                mid.append((node.left,level))\n",
    "            if node.right:\n",
    "                mid.append((node.right,level))\n",
    "        arr.append(temp)\n",
    "\n",
    "    return arr"
   ]
  },
  {
   "cell_type": "code",
   "execution_count": 86,
   "metadata": {},
   "outputs": [
    {
     "name": "stdout",
     "output_type": "stream",
     "text": [
      "[(<__main__.TreeNode object at 0x10b0f43d0>, 0)]\n",
      "[[3]]\n",
      "yes+1\n",
      "[(<__main__.TreeNode object at 0x10b0f45d0>, 1), (<__main__.TreeNode object at 0x10b0f4290>, 1)]\n",
      "[[3], [10, 9]]\n",
      "yes+1\n",
      "[(<__main__.TreeNode object at 0x10b0f45d0>, 1), (<__main__.TreeNode object at 0x10b0f46d0>, 2), (<__main__.TreeNode object at 0x10b0f4550>, 2)]\n",
      "[[3], [10, 9], [17, 15]]\n",
      "yes\n",
      "[(<__main__.TreeNode object at 0x10b0f45d0>, 1), (<__main__.TreeNode object at 0x10b0f46d0>, 2)]\n",
      "[[3], [10, 9], [17, 15], []]\n",
      "yes\n",
      "[(<__main__.TreeNode object at 0x10b0f45d0>, 1)]\n",
      "[[3], [10, 9], [17, 15], [], []]\n",
      "yes+1\n"
     ]
    },
    {
     "data": {
      "text/plain": [
       "[[3], [10, 9], [17, 15], [], [], []]"
      ]
     },
     "execution_count": 86,
     "metadata": {},
     "output_type": "execute_result"
    }
   ],
   "source": [
    "zigzagLevelOrder(Node0)"
   ]
  },
  {
   "cell_type": "code",
   "execution_count": 60,
   "metadata": {},
   "outputs": [
    {
     "data": {
      "text/plain": [
       "True"
      ]
     },
     "execution_count": 60,
     "metadata": {},
     "output_type": "execute_result"
    }
   ],
   "source": [
    "not(Node1.left)"
   ]
  },
  {
   "cell_type": "code",
   "execution_count": 61,
   "metadata": {},
   "outputs": [
    {
     "data": {
      "text/plain": [
       "True"
      ]
     },
     "execution_count": 61,
     "metadata": {},
     "output_type": "execute_result"
    }
   ],
   "source": [
    "not(Node1.right)"
   ]
  },
  {
   "cell_type": "code",
   "execution_count": 68,
   "metadata": {},
   "outputs": [],
   "source": [
    "mid = []\n",
    "mid.append((Node0,0))"
   ]
  },
  {
   "cell_type": "code",
   "execution_count": 69,
   "metadata": {},
   "outputs": [],
   "source": [
    "node, level = mid.pop()"
   ]
  },
  {
   "cell_type": "code",
   "execution_count": 70,
   "metadata": {},
   "outputs": [
    {
     "data": {
      "text/plain": [
       "<__main__.TreeNode at 0x10b0f43d0>"
      ]
     },
     "execution_count": 70,
     "metadata": {},
     "output_type": "execute_result"
    }
   ],
   "source": [
    "node"
   ]
  },
  {
   "cell_type": "code",
   "execution_count": 72,
   "metadata": {},
   "outputs": [
    {
     "data": {
      "text/plain": [
       "False"
      ]
     },
     "execution_count": 72,
     "metadata": {},
     "output_type": "execute_result"
    }
   ],
   "source": [
    "not(node.left)"
   ]
  },
  {
   "cell_type": "code",
   "execution_count": 88,
   "metadata": {},
   "outputs": [
    {
     "data": {
      "text/plain": [
       "<__main__.TreeNode at 0x10b0f46d0>"
      ]
     },
     "execution_count": 88,
     "metadata": {},
     "output_type": "execute_result"
    }
   ],
   "source": [
    "Node2.left"
   ]
  },
  {
   "cell_type": "code",
   "execution_count": 90,
   "metadata": {},
   "outputs": [
    {
     "data": {
      "text/plain": [
       "True"
      ]
     },
     "execution_count": 90,
     "metadata": {},
     "output_type": "execute_result"
    }
   ],
   "source": [
    "not(Node3.left)"
   ]
  },
  {
   "cell_type": "code",
   "execution_count": null,
   "metadata": {},
   "outputs": [],
   "source": []
  }
 ],
 "metadata": {
  "kernelspec": {
   "display_name": "Python 3",
   "language": "python",
   "name": "python3"
  },
  "language_info": {
   "codemirror_mode": {
    "name": "ipython",
    "version": 3
   },
   "file_extension": ".py",
   "mimetype": "text/x-python",
   "name": "python",
   "nbconvert_exporter": "python",
   "pygments_lexer": "ipython3",
   "version": "3.7.4"
  }
 },
 "nbformat": 4,
 "nbformat_minor": 2
}
