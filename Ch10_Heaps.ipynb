{
 "cells": [
  {
   "cell_type": "markdown",
   "metadata": {},
   "source": [
    "## 10.1 Merge Sorted Files \n",
    "\n",
    "Write a program that takes as input a set of sorted sequences and computes the union of these sequences as a sorted sequence. For example, if the inout is <3,5,7>, <0,6>, and <0,6,28>, then the output is <0,0,3,5,6,6,7,28>."
   ]
  },
  {
   "cell_type": "code",
   "execution_count": 3,
   "metadata": {},
   "outputs": [],
   "source": [
    "import heapq"
   ]
  },
  {
   "cell_type": "code",
   "execution_count": 4,
   "metadata": {},
   "outputs": [],
   "source": [
    "def merge_sorted_arrays(sorted_arrays: list) -> list:\n",
    "    min_heap = []\n",
    "    # Builds a list of iterators for each array in sorted_arrays\n",
    "    sorted_arrays_iters = [iter(x) for x in sorted_arrays]\n",
    "    \n",
    "    # Puts first element from each iterator in min_heap\n",
    "    for i, it in enumerate(sorted_arrays_iters):\n",
    "        first_element = next(it, None)\n",
    "        if first_element is not None:\n",
    "            heapq.heappush(min_heap, (first_element, i))\n",
    "            \n",
    "    result = []\n",
    "    while min_heap:\n",
    "        smallest_entry, smallest_array_i = heapq.heappop(min_heap)\n",
    "        smallest_array_iter = sorted_arrays_iters[smallest_array_i]\n",
    "        result.append(smallest_entry)\n",
    "        next_element = next(smallest_array_iter, None)\n",
    "        if next_element is not None:\n",
    "            heapq.heappush(min_heap, (next_element, smallest_array_i))\n",
    "    return result "
   ]
  },
  {
   "cell_type": "code",
   "execution_count": 5,
   "metadata": {},
   "outputs": [
    {
     "data": {
      "text/plain": [
       "[0, 0, 3, 5, 6, 6, 7, 28]"
      ]
     },
     "execution_count": 5,
     "metadata": {},
     "output_type": "execute_result"
    }
   ],
   "source": [
    "sorted_arrays = [[3,5,7], [0,6], [0,6,28]]\n",
    "merge_sorted_arrays(sorted_arrays)"
   ]
  },
  {
   "cell_type": "code",
   "execution_count": 7,
   "metadata": {},
   "outputs": [],
   "source": [
    "from heapq import heappush, heappop\n",
    "heap = []\n",
    "data = [1,3,5,7,9,2,4,6,8,0]\n",
    "for item in data:\n",
    "    heappush(heap, item)"
   ]
  },
  {
   "cell_type": "code",
   "execution_count": 8,
   "metadata": {},
   "outputs": [
    {
     "name": "stdout",
     "output_type": "stream",
     "text": [
      "[0, 1, 2, 6, 3, 5, 4, 7, 8, 9]\n"
     ]
    }
   ],
   "source": [
    "print(heap)"
   ]
  },
  {
   "cell_type": "code",
   "execution_count": 9,
   "metadata": {},
   "outputs": [],
   "source": [
    "ordered = []\n",
    "while heap:\n",
    "    ordered.append(heappop(heap))"
   ]
  },
  {
   "cell_type": "code",
   "execution_count": 10,
   "metadata": {},
   "outputs": [
    {
     "data": {
      "text/plain": [
       "[0, 1, 2, 3, 4, 5, 6, 7, 8, 9]"
      ]
     },
     "execution_count": 10,
     "metadata": {},
     "output_type": "execute_result"
    }
   ],
   "source": [
    "ordered"
   ]
  },
  {
   "cell_type": "code",
   "execution_count": 11,
   "metadata": {},
   "outputs": [
    {
     "data": {
      "text/plain": [
       "True"
      ]
     },
     "execution_count": 11,
     "metadata": {},
     "output_type": "execute_result"
    }
   ],
   "source": [
    "data.sort()\n",
    "data == ordered"
   ]
  },
  {
   "cell_type": "code",
   "execution_count": 12,
   "metadata": {},
   "outputs": [],
   "source": [
    "heap = []\n",
    "data = [(1, 'J'), (4, 'N'), (3, 'H'), (2, 'O')]\n",
    "for item in data:\n",
    "    heappush(heap, item)"
   ]
  },
  {
   "cell_type": "code",
   "execution_count": 13,
   "metadata": {},
   "outputs": [
    {
     "name": "stdout",
     "output_type": "stream",
     "text": [
      "J\n",
      "O\n",
      "H\n",
      "N\n"
     ]
    }
   ],
   "source": [
    "while heap:\n",
    "    print(heappop(heap)[1])"
   ]
  },
  {
   "cell_type": "code",
   "execution_count": 14,
   "metadata": {},
   "outputs": [],
   "source": [
    "# Pythonic solution, uses the heapq.merge() method which takes multiple inputs \n",
    "def merge_sorted_arrays_pythonic(sorted_arrays):\n",
    "    return list(heapq.merge(*sorted_arrays))"
   ]
  },
  {
   "cell_type": "code",
   "execution_count": 15,
   "metadata": {},
   "outputs": [
    {
     "data": {
      "text/plain": [
       "[0, 0, 3, 5, 6, 6, 7, 28]"
      ]
     },
     "execution_count": 15,
     "metadata": {},
     "output_type": "execute_result"
    }
   ],
   "source": [
    "merge_sorted_arrays_pythonic(sorted_arrays)"
   ]
  },
  {
   "cell_type": "markdown",
   "metadata": {},
   "source": [
    "Let k be the number of input sequences. Then there are no more than k elements in the min-heap. Both extract-min and insert take O(log k) time. Hence, we can do the merge in O(n log k) time. The space complexity is O(k) beyond the space needed to write the final result. In particular, if the data comes from files and is written to a file, instead of arrays, we would need only O(k) additional storage. \n",
    "\n",
    "Alternatively, we could recursively merge the k files, two at a time using the mergge step from merge sort. We would go from k to k/2 then k/4, etc.files. There would be log k stages, and each has time complexity O(n), so the time complexity is the same as that of the heap-based approach, i.e., O(n log k). The space complexity of any reasonable implementation of merge sort would end up being O(n), which is considerabley worse than the heap based approach when k << n. "
   ]
  },
  {
   "cell_type": "markdown",
   "metadata": {},
   "source": [
    "## 10.2 Sort an Increasing-Decreasing Array\n",
    "\n",
    "An array is sad to be k-increasing-decreasing if elements repeatedly increase up to a certain index after which they decrease, then again increase, a total of k times. Design an efficient algorithm for sorting a k-increasing-decreasing array. "
   ]
  },
  {
   "cell_type": "code",
   "execution_count": 20,
   "metadata": {},
   "outputs": [],
   "source": [
    "def sort_k_increasing_decreasing_array(A: list) -> list:\n",
    "    # Decomposes A into a set of sorted subarrays\n",
    "    sorted_subarrays = []\n",
    "    increasing, decreasing = range(2)\n",
    "    subarray_type = increasing \n",
    "    start_idx = 0\n",
    "    for i in range(1, len(A)+1):\n",
    "        if (i == len(A) or #A is ended. Adds the last subarray.\n",
    "            (A[i -1] < A[i] and subarray_type == decreasing) or \n",
    "            (A[i-1] >= A[i] and subarray_type == increasing)):\n",
    "                sorted_subarrays.append(A[start_idx : i] if subarray_type == increasing\n",
    "                                       else A[i-1: start_idx -1: -1])\n",
    "                start_idx = i\n",
    "                subarray_type = (decreasing\n",
    "                                if subarray_type == increasing else increasing)\n",
    "    return merge_sorted_arrays(sorted_subarrays)\n",
    "        "
   ]
  },
  {
   "cell_type": "code",
   "execution_count": 21,
   "metadata": {},
   "outputs": [
    {
     "data": {
      "text/plain": [
       "[57, 131, 190, 221, 294, 339, 418, 442, 452, 493]"
      ]
     },
     "execution_count": 21,
     "metadata": {},
     "output_type": "execute_result"
    }
   ],
   "source": [
    "A =[57, 131, 493, 294, 221, 339, 418, 452, 442, 190]\n",
    "sort_k_increasing_decreasing_array(A)"
   ]
  },
  {
   "cell_type": "code",
   "execution_count": 24,
   "metadata": {},
   "outputs": [],
   "source": [
    "import itertools"
   ]
  },
  {
   "cell_type": "code",
   "execution_count": 29,
   "metadata": {},
   "outputs": [],
   "source": [
    "# Pythonic solution, uses a stateful object to trace the monotonic subarrays. \n",
    "def sort_k_increasing_decreasing_array_pythonic(A):\n",
    "    class Monotonic:\n",
    "        def __init__(self):\n",
    "            self._last = float('-inf')\n",
    "        def __call__(self, curr):\n",
    "            result = curr < self._last\n",
    "            self._last = curr\n",
    "            return result \n",
    "    \n",
    "    return merge_sorted_arrays([\n",
    "        list(group)[::-1 if is_decreasing else 1]\n",
    "        for is_descreasing, group in itertools.groupby(A, Monotonic())\n",
    "    ])"
   ]
  },
  {
   "cell_type": "code",
   "execution_count": 30,
   "metadata": {},
   "outputs": [
    {
     "ename": "NameError",
     "evalue": "name 'is_decreasing' is not defined",
     "output_type": "error",
     "traceback": [
      "\u001b[0;31m---------------------------------------------------------------------------\u001b[0m",
      "\u001b[0;31mNameError\u001b[0m                                 Traceback (most recent call last)",
      "\u001b[0;32m<ipython-input-30-8be7397d5165>\u001b[0m in \u001b[0;36m<module>\u001b[0;34m()\u001b[0m\n\u001b[0;32m----> 1\u001b[0;31m \u001b[0msort_k_increasing_decreasing_array_pythonic\u001b[0m\u001b[0;34m(\u001b[0m\u001b[0mA\u001b[0m\u001b[0;34m)\u001b[0m\u001b[0;34m\u001b[0m\u001b[0m\n\u001b[0m",
      "\u001b[0;32m<ipython-input-29-b667421d5f6c>\u001b[0m in \u001b[0;36msort_k_increasing_decreasing_array_pythonic\u001b[0;34m(A)\u001b[0m\n\u001b[1;32m     11\u001b[0m     return merge_sorted_arrays([\n\u001b[1;32m     12\u001b[0m         \u001b[0mlist\u001b[0m\u001b[0;34m(\u001b[0m\u001b[0mgroup\u001b[0m\u001b[0;34m)\u001b[0m\u001b[0;34m[\u001b[0m\u001b[0;34m:\u001b[0m\u001b[0;34m:\u001b[0m\u001b[0;34m-\u001b[0m\u001b[0;36m1\u001b[0m \u001b[0;32mif\u001b[0m \u001b[0mis_decreasing\u001b[0m \u001b[0;32melse\u001b[0m \u001b[0;36m1\u001b[0m\u001b[0;34m]\u001b[0m\u001b[0;34m\u001b[0m\u001b[0m\n\u001b[0;32m---> 13\u001b[0;31m         \u001b[0;32mfor\u001b[0m \u001b[0mis_descreasing\u001b[0m\u001b[0;34m,\u001b[0m \u001b[0mgroup\u001b[0m \u001b[0;32min\u001b[0m \u001b[0mitertools\u001b[0m\u001b[0;34m.\u001b[0m\u001b[0mgroupby\u001b[0m\u001b[0;34m(\u001b[0m\u001b[0mA\u001b[0m\u001b[0;34m,\u001b[0m \u001b[0mMonotonic\u001b[0m\u001b[0;34m(\u001b[0m\u001b[0;34m)\u001b[0m\u001b[0;34m)\u001b[0m\u001b[0;34m\u001b[0m\u001b[0m\n\u001b[0m\u001b[1;32m     14\u001b[0m     ])\n",
      "\u001b[0;32m<ipython-input-29-b667421d5f6c>\u001b[0m in \u001b[0;36m<listcomp>\u001b[0;34m(.0)\u001b[0m\n\u001b[1;32m     11\u001b[0m     return merge_sorted_arrays([\n\u001b[1;32m     12\u001b[0m         \u001b[0mlist\u001b[0m\u001b[0;34m(\u001b[0m\u001b[0mgroup\u001b[0m\u001b[0;34m)\u001b[0m\u001b[0;34m[\u001b[0m\u001b[0;34m:\u001b[0m\u001b[0;34m:\u001b[0m\u001b[0;34m-\u001b[0m\u001b[0;36m1\u001b[0m \u001b[0;32mif\u001b[0m \u001b[0mis_decreasing\u001b[0m \u001b[0;32melse\u001b[0m \u001b[0;36m1\u001b[0m\u001b[0;34m]\u001b[0m\u001b[0;34m\u001b[0m\u001b[0m\n\u001b[0;32m---> 13\u001b[0;31m         \u001b[0;32mfor\u001b[0m \u001b[0mis_descreasing\u001b[0m\u001b[0;34m,\u001b[0m \u001b[0mgroup\u001b[0m \u001b[0;32min\u001b[0m \u001b[0mitertools\u001b[0m\u001b[0;34m.\u001b[0m\u001b[0mgroupby\u001b[0m\u001b[0;34m(\u001b[0m\u001b[0mA\u001b[0m\u001b[0;34m,\u001b[0m \u001b[0mMonotonic\u001b[0m\u001b[0;34m(\u001b[0m\u001b[0;34m)\u001b[0m\u001b[0;34m)\u001b[0m\u001b[0;34m\u001b[0m\u001b[0m\n\u001b[0m\u001b[1;32m     14\u001b[0m     ])\n",
      "\u001b[0;31mNameError\u001b[0m: name 'is_decreasing' is not defined"
     ]
    }
   ],
   "source": [
    "sort_k_increasing_decreasing_array_pythonic(A)"
   ]
  },
  {
   "cell_type": "markdown",
   "metadata": {},
   "source": [
    "The time complexity is O(n log k) time. "
   ]
  },
  {
   "cell_type": "markdown",
   "metadata": {},
   "source": [
    "## 10.3 Sort an Almost-sorted Array\n",
    "\n",
    "Often data is almost-sorted -- for example, a server receives timestamped stock quotes and earlier quotes may arrive slightly after later quotes because of differneces in server loads and network routes. \n",
    "\n",
    "Write a program which takes as input a very long sequence of numbers and prints the numbers in sorted order. Each number is at most k away from its correctly sorted position. \n",
    "\n",
    "**Hint:** How many numbers must you read after reading the ith number to be sure you can place it in the correct location? k+1.\n",
    "\n",
    "The brute-force solution is to put the sequence in anarray, sort it, and then print it. The time complexity is O(n log n), where n is the length of the input sequence. The space complexity is O(n). \n",
    "\n",
    "We can do better by taking advantage of the almost-sorted property. Specifically, after we have read k+1 numbers, the smallest number in the group must be smaller than all following numbers. We need to store k+1 numbers and want to be able to efficiently extract the minimum number and add a new number. A min-heap is eactly what we need. We add the first k numbers to a min-heap. Now we add additional numbers to the min-heap and extract the minimum from the heap. "
   ]
  },
  {
   "cell_type": "code",
   "execution_count": null,
   "metadata": {},
   "outputs": [],
   "source": [
    "def sort_approximately_sorted_array(sequence, k: int) -> list:\n",
    "    min_heap = []\n",
    "    # Adds the first k elements into min_heap. Stop if there are fewer than k elements.\n",
    "    for x in itertools.islice(sequence, k):\n",
    "        heapq.heappush(min_heap, x)\n",
    "        \n",
    "    result = []\n",
    "    # For every new element, add it to min_heap and extract the smallest. \n",
    "    for x in sequence:\n",
    "        smallest = heapq.heappushpop(min_heap, x)\n",
    "        result.append(smallest)\n",
    "        \n",
    "    # sequence is exhausted, iteratively extracts the remaining elements\n",
    "    while "
   ]
  }
 ],
 "metadata": {
  "kernelspec": {
   "display_name": "Python 3",
   "language": "python",
   "name": "python3"
  },
  "language_info": {
   "codemirror_mode": {
    "name": "ipython",
    "version": 3
   },
   "file_extension": ".py",
   "mimetype": "text/x-python",
   "name": "python",
   "nbconvert_exporter": "python",
   "pygments_lexer": "ipython3",
   "version": "3.6.5"
  }
 },
 "nbformat": 4,
 "nbformat_minor": 2
}
