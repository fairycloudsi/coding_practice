{
 "cells": [
  {
   "cell_type": "markdown",
   "metadata": {},
   "source": [
    "## 10.1 Merge Sorted Files \n",
    "\n",
    "Write a program that takes as input a set of sorted sequences and computes the union of these sequences as a sorted sequence. For example, if the inout is <3,5,7>, <0,6>, and <0,6,28>, then the output is <0,0,3,5,6,6,7,28>."
   ]
  },
  {
   "cell_type": "code",
   "execution_count": 6,
   "metadata": {},
   "outputs": [],
   "source": [
    "import heapq"
   ]
  },
  {
   "cell_type": "code",
   "execution_count": 4,
   "metadata": {},
   "outputs": [],
   "source": [
    "def merge_sorted_arrays(sorted_arrays: list) -> list:\n",
    "    min_heap = []\n",
    "    # Builds a list of iterators for each array in sorted_arrays\n",
    "    sorted_arrays_iters = [iter(x) for x in sorted_arrays]\n",
    "    \n",
    "    # Puts first element from each iterator in min_heap\n",
    "    for i, it in enumerate(sorted_arrays_iters):\n",
    "        first_element = next(it, None)\n",
    "        if first_element is not None:\n",
    "            heapq.heappush(min_heap, (first_element, i))\n",
    "            \n",
    "    result = []\n",
    "    while min_heap:\n",
    "        smallest_entry, smallest_array_i = heapq.heappop(min_heap)\n",
    "        smallest_array_iter = sorted_arrays_iters[smallest_array_i]\n",
    "        result.append(smallest_entry)\n",
    "        next_element = next(smallest_array_iter, None)\n",
    "        if next_element is not None:\n",
    "            heapq.heappush(min_heap, (next_element, smallest_array_i))\n",
    "    return result "
   ]
  },
  {
   "cell_type": "code",
   "execution_count": 5,
   "metadata": {},
   "outputs": [
    {
     "data": {
      "text/plain": [
       "[0, 0, 3, 5, 6, 6, 7, 28]"
      ]
     },
     "execution_count": 5,
     "metadata": {},
     "output_type": "execute_result"
    }
   ],
   "source": [
    "sorted_arrays = [[3,5,7], [0,6], [0,6,28]]\n",
    "merge_sorted_arrays(sorted_arrays)"
   ]
  },
  {
   "cell_type": "code",
   "execution_count": 7,
   "metadata": {},
   "outputs": [],
   "source": [
    "from heapq import heappush, heappop\n",
    "heap = []\n",
    "data = [1,3,5,7,9,2,4,6,8,0]\n",
    "for item in data:\n",
    "    heappush(heap, item)"
   ]
  },
  {
   "cell_type": "code",
   "execution_count": 8,
   "metadata": {},
   "outputs": [
    {
     "name": "stdout",
     "output_type": "stream",
     "text": [
      "[0, 1, 2, 6, 3, 5, 4, 7, 8, 9]\n"
     ]
    }
   ],
   "source": [
    "print(heap)"
   ]
  },
  {
   "cell_type": "code",
   "execution_count": 9,
   "metadata": {},
   "outputs": [],
   "source": [
    "ordered = []\n",
    "while heap:\n",
    "    ordered.append(heappop(heap))"
   ]
  },
  {
   "cell_type": "code",
   "execution_count": 10,
   "metadata": {},
   "outputs": [
    {
     "data": {
      "text/plain": [
       "[0, 1, 2, 3, 4, 5, 6, 7, 8, 9]"
      ]
     },
     "execution_count": 10,
     "metadata": {},
     "output_type": "execute_result"
    }
   ],
   "source": [
    "ordered"
   ]
  },
  {
   "cell_type": "code",
   "execution_count": 11,
   "metadata": {},
   "outputs": [
    {
     "data": {
      "text/plain": [
       "True"
      ]
     },
     "execution_count": 11,
     "metadata": {},
     "output_type": "execute_result"
    }
   ],
   "source": [
    "data.sort()\n",
    "data == ordered"
   ]
  },
  {
   "cell_type": "code",
   "execution_count": 12,
   "metadata": {},
   "outputs": [],
   "source": [
    "heap = []\n",
    "data = [(1, 'J'), (4, 'N'), (3, 'H'), (2, 'O')]\n",
    "for item in data:\n",
    "    heappush(heap, item)"
   ]
  },
  {
   "cell_type": "code",
   "execution_count": 13,
   "metadata": {},
   "outputs": [
    {
     "name": "stdout",
     "output_type": "stream",
     "text": [
      "J\n",
      "O\n",
      "H\n",
      "N\n"
     ]
    }
   ],
   "source": [
    "while heap:\n",
    "    print(heappop(heap)[1])"
   ]
  },
  {
   "cell_type": "code",
   "execution_count": 14,
   "metadata": {},
   "outputs": [],
   "source": [
    "# Pythonic solution, uses the heapq.merge() method which takes multiple inputs \n",
    "def merge_sorted_arrays_pythonic(sorted_arrays):\n",
    "    return list(heapq.merge(*sorted_arrays))"
   ]
  },
  {
   "cell_type": "code",
   "execution_count": 15,
   "metadata": {},
   "outputs": [
    {
     "data": {
      "text/plain": [
       "[0, 0, 3, 5, 6, 6, 7, 28]"
      ]
     },
     "execution_count": 15,
     "metadata": {},
     "output_type": "execute_result"
    }
   ],
   "source": [
    "merge_sorted_arrays_pythonic(sorted_arrays)"
   ]
  },
  {
   "cell_type": "markdown",
   "metadata": {},
   "source": [
    "Let k be the number of input sequences. Then there are no more than k elements in the min-heap. Both extract-min and insert take O(log k) time. Hence, we can do the merge in O(n log k) time. The space complexity is O(k) beyond the space needed to write the final result. In particular, if the data comes from files and is written to a file, instead of arrays, we would need only O(k) additional storage. \n",
    "\n",
    "Alternatively, we could recursively merge the k files, two at a time using the mergge step from merge sort. We would go from k to k/2 then k/4, etc.files. There would be log k stages, and each has time complexity O(n), so the time complexity is the same as that of the heap-based approach, i.e., O(n log k). The space complexity of any reasonable implementation of merge sort would end up being O(n), which is considerabley worse than the heap based approach when k << n. "
   ]
  },
  {
   "cell_type": "markdown",
   "metadata": {},
   "source": [
    "## 10.2 Sort an Increasing-Decreasing Array\n",
    "\n",
    "An array is sad to be k-increasing-decreasing if elements repeatedly increase up to a certain index after which they decrease, then again increase, a total of k times. Design an efficient algorithm for sorting a k-increasing-decreasing array. "
   ]
  },
  {
   "cell_type": "code",
   "execution_count": 20,
   "metadata": {},
   "outputs": [],
   "source": [
    "def sort_k_increasing_decreasing_array(A: list) -> list:\n",
    "    # Decomposes A into a set of sorted subarrays\n",
    "    sorted_subarrays = []\n",
    "    increasing, decreasing = range(2)\n",
    "    subarray_type = increasing \n",
    "    start_idx = 0\n",
    "    for i in range(1, len(A)+1):\n",
    "        if (i == len(A) or #A is ended. Adds the last subarray.\n",
    "            (A[i -1] < A[i] and subarray_type == decreasing) or \n",
    "            (A[i-1] >= A[i] and subarray_type == increasing)):\n",
    "                sorted_subarrays.append(A[start_idx : i] if subarray_type == increasing\n",
    "                                       else A[i-1: start_idx -1: -1])\n",
    "                start_idx = i\n",
    "                subarray_type = (decreasing\n",
    "                                if subarray_type == increasing else increasing)\n",
    "    return merge_sorted_arrays(sorted_subarrays)\n",
    "        "
   ]
  },
  {
   "cell_type": "code",
   "execution_count": 21,
   "metadata": {},
   "outputs": [
    {
     "data": {
      "text/plain": [
       "[57, 131, 190, 221, 294, 339, 418, 442, 452, 493]"
      ]
     },
     "execution_count": 21,
     "metadata": {},
     "output_type": "execute_result"
    }
   ],
   "source": [
    "A =[57, 131, 493, 294, 221, 339, 418, 452, 442, 190]\n",
    "sort_k_increasing_decreasing_array(A)"
   ]
  },
  {
   "cell_type": "code",
   "execution_count": 24,
   "metadata": {},
   "outputs": [],
   "source": [
    "import itertools"
   ]
  },
  {
   "cell_type": "code",
   "execution_count": 29,
   "metadata": {},
   "outputs": [],
   "source": [
    "# Pythonic solution, uses a stateful object to trace the monotonic subarrays. \n",
    "def sort_k_increasing_decreasing_array_pythonic(A):\n",
    "    class Monotonic:\n",
    "        def __init__(self):\n",
    "            self._last = float('-inf')\n",
    "        def __call__(self, curr):\n",
    "            result = curr < self._last\n",
    "            self._last = curr\n",
    "            return result \n",
    "    \n",
    "    return merge_sorted_arrays([\n",
    "        list(group)[::-1 if is_decreasing else 1]\n",
    "        for is_descreasing, group in itertools.groupby(A, Monotonic())\n",
    "    ])"
   ]
  },
  {
   "cell_type": "code",
   "execution_count": 30,
   "metadata": {},
   "outputs": [
    {
     "ename": "NameError",
     "evalue": "name 'is_decreasing' is not defined",
     "output_type": "error",
     "traceback": [
      "\u001b[0;31m---------------------------------------------------------------------------\u001b[0m",
      "\u001b[0;31mNameError\u001b[0m                                 Traceback (most recent call last)",
      "\u001b[0;32m<ipython-input-30-8be7397d5165>\u001b[0m in \u001b[0;36m<module>\u001b[0;34m()\u001b[0m\n\u001b[0;32m----> 1\u001b[0;31m \u001b[0msort_k_increasing_decreasing_array_pythonic\u001b[0m\u001b[0;34m(\u001b[0m\u001b[0mA\u001b[0m\u001b[0;34m)\u001b[0m\u001b[0;34m\u001b[0m\u001b[0m\n\u001b[0m",
      "\u001b[0;32m<ipython-input-29-b667421d5f6c>\u001b[0m in \u001b[0;36msort_k_increasing_decreasing_array_pythonic\u001b[0;34m(A)\u001b[0m\n\u001b[1;32m     11\u001b[0m     return merge_sorted_arrays([\n\u001b[1;32m     12\u001b[0m         \u001b[0mlist\u001b[0m\u001b[0;34m(\u001b[0m\u001b[0mgroup\u001b[0m\u001b[0;34m)\u001b[0m\u001b[0;34m[\u001b[0m\u001b[0;34m:\u001b[0m\u001b[0;34m:\u001b[0m\u001b[0;34m-\u001b[0m\u001b[0;36m1\u001b[0m \u001b[0;32mif\u001b[0m \u001b[0mis_decreasing\u001b[0m \u001b[0;32melse\u001b[0m \u001b[0;36m1\u001b[0m\u001b[0;34m]\u001b[0m\u001b[0;34m\u001b[0m\u001b[0m\n\u001b[0;32m---> 13\u001b[0;31m         \u001b[0;32mfor\u001b[0m \u001b[0mis_descreasing\u001b[0m\u001b[0;34m,\u001b[0m \u001b[0mgroup\u001b[0m \u001b[0;32min\u001b[0m \u001b[0mitertools\u001b[0m\u001b[0;34m.\u001b[0m\u001b[0mgroupby\u001b[0m\u001b[0;34m(\u001b[0m\u001b[0mA\u001b[0m\u001b[0;34m,\u001b[0m \u001b[0mMonotonic\u001b[0m\u001b[0;34m(\u001b[0m\u001b[0;34m)\u001b[0m\u001b[0;34m)\u001b[0m\u001b[0;34m\u001b[0m\u001b[0m\n\u001b[0m\u001b[1;32m     14\u001b[0m     ])\n",
      "\u001b[0;32m<ipython-input-29-b667421d5f6c>\u001b[0m in \u001b[0;36m<listcomp>\u001b[0;34m(.0)\u001b[0m\n\u001b[1;32m     11\u001b[0m     return merge_sorted_arrays([\n\u001b[1;32m     12\u001b[0m         \u001b[0mlist\u001b[0m\u001b[0;34m(\u001b[0m\u001b[0mgroup\u001b[0m\u001b[0;34m)\u001b[0m\u001b[0;34m[\u001b[0m\u001b[0;34m:\u001b[0m\u001b[0;34m:\u001b[0m\u001b[0;34m-\u001b[0m\u001b[0;36m1\u001b[0m \u001b[0;32mif\u001b[0m \u001b[0mis_decreasing\u001b[0m \u001b[0;32melse\u001b[0m \u001b[0;36m1\u001b[0m\u001b[0;34m]\u001b[0m\u001b[0;34m\u001b[0m\u001b[0m\n\u001b[0;32m---> 13\u001b[0;31m         \u001b[0;32mfor\u001b[0m \u001b[0mis_descreasing\u001b[0m\u001b[0;34m,\u001b[0m \u001b[0mgroup\u001b[0m \u001b[0;32min\u001b[0m \u001b[0mitertools\u001b[0m\u001b[0;34m.\u001b[0m\u001b[0mgroupby\u001b[0m\u001b[0;34m(\u001b[0m\u001b[0mA\u001b[0m\u001b[0;34m,\u001b[0m \u001b[0mMonotonic\u001b[0m\u001b[0;34m(\u001b[0m\u001b[0;34m)\u001b[0m\u001b[0;34m)\u001b[0m\u001b[0;34m\u001b[0m\u001b[0m\n\u001b[0m\u001b[1;32m     14\u001b[0m     ])\n",
      "\u001b[0;31mNameError\u001b[0m: name 'is_decreasing' is not defined"
     ]
    }
   ],
   "source": [
    "sort_k_increasing_decreasing_array_pythonic(A)"
   ]
  },
  {
   "cell_type": "markdown",
   "metadata": {},
   "source": [
    "The time complexity is O(n log k) time. "
   ]
  },
  {
   "cell_type": "markdown",
   "metadata": {},
   "source": [
    "## 10.3 Sort an Almost-sorted Array\n",
    "\n",
    "Often data is almost-sorted -- for example, a server receives timestamped stock quotes and earlier quotes may arrive slightly after later quotes because of differneces in server loads and network routes. \n",
    "\n",
    "Write a program which takes as input a very long sequence of numbers and prints the numbers in sorted order. Each number is at most k away from its correctly sorted position. \n",
    "\n",
    "**Hint:** How many numbers must you read after reading the ith number to be sure you can place it in the correct location? k+1.\n",
    "\n",
    "The brute-force solution is to put the sequence in anarray, sort it, and then print it. The time complexity is O(n log n), where n is the length of the input sequence. The space complexity is O(n). \n",
    "\n",
    "We can do better by taking advantage of the almost-sorted property. Specifically, after we have read k+1 numbers, the smallest number in the group must be smaller than all following numbers. We need to store k+1 numbers and want to be able to efficiently extract the minimum number and add a new number. A min-heap is eactly what we need. We add the first k numbers to a min-heap. Now we add additional numbers to the min-heap and extract the minimum from the heap. "
   ]
  },
  {
   "cell_type": "code",
   "execution_count": 3,
   "metadata": {},
   "outputs": [],
   "source": [
    "import itertools"
   ]
  },
  {
   "cell_type": "code",
   "execution_count": 24,
   "metadata": {},
   "outputs": [],
   "source": [
    "def sort_approximately_sorted_array(sequence, k: int) -> list:\n",
    "    min_heap = []\n",
    "    # Adds the first k elements into min_heap. Stop if there are fewer than k elements.\n",
    "    for x in itertools.islice(sequence, k):\n",
    "        heapq.heappush(min_heap, x)\n",
    "        \n",
    "    result = []\n",
    "    # For every new element, add it to min_heap and extract the smallest. \n",
    "    for x in sequence[k:]:\n",
    "        smallest = heapq.heappushpop(min_heap, x)\n",
    "        result.append(smallest)\n",
    "        \n",
    "    # sequence is exhausted, iteratively extracts the remaining elements\n",
    "    while min_heap:\n",
    "        smallest = heapq.heappop(min_heap)\n",
    "        result.append(smallest)\n",
    "    \n",
    "    return result "
   ]
  },
  {
   "cell_type": "code",
   "execution_count": 25,
   "metadata": {},
   "outputs": [
    {
     "data": {
      "text/plain": [
       "[-1, 2, 3, 4, 5, 6, 8]"
      ]
     },
     "execution_count": 25,
     "metadata": {},
     "output_type": "execute_result"
    }
   ],
   "source": [
    "sequence = [3, -1, 2, 6 , 4, 5, 8]\n",
    "k = 2\n",
    "sort_approximately_sorted_array(sequence, k)"
   ]
  },
  {
   "cell_type": "code",
   "execution_count": 27,
   "metadata": {},
   "outputs": [
    {
     "data": {
      "text/plain": [
       "[1, 3, 4, 4, 5, 6, 7, 8, 9, 10, 11, 12]"
      ]
     },
     "execution_count": 27,
     "metadata": {},
     "output_type": "execute_result"
    }
   ],
   "source": [
    "sequence = [4,3,1,6,5,4,9,8,7,10,11,12]\n",
    "k = 3\n",
    "sort_approximately_sorted_array(sequence,k)"
   ]
  },
  {
   "cell_type": "code",
   "execution_count": 19,
   "metadata": {},
   "outputs": [
    {
     "name": "stdout",
     "output_type": "stream",
     "text": [
      "3\n",
      "[3]\n",
      "-1\n",
      "[-1, 3]\n"
     ]
    }
   ],
   "source": [
    "min_heap = []\n",
    "for x in itertools.islice(sequence, k):\n",
    "    print(x)\n",
    "    heapq.heappush(min_heap, x)\n",
    "    print(min_heap)"
   ]
  },
  {
   "cell_type": "code",
   "execution_count": 20,
   "metadata": {},
   "outputs": [
    {
     "name": "stdout",
     "output_type": "stream",
     "text": [
      "-1\n",
      "[-1]\n",
      "2\n",
      "[-1, 2]\n",
      "3\n",
      "[-1, 2, 3]\n",
      "4\n",
      "[-1, 2, 3, 4]\n",
      "5\n",
      "[-1, 2, 3, 4, 5]\n"
     ]
    }
   ],
   "source": [
    "result = []\n",
    "for x in sequence[k:]:\n",
    "    smallest = heapq.heappushpop(min_heap, x)\n",
    "    print(smallest)\n",
    "    result.append(smallest)\n",
    "    print(result)"
   ]
  },
  {
   "cell_type": "code",
   "execution_count": 21,
   "metadata": {},
   "outputs": [
    {
     "name": "stdout",
     "output_type": "stream",
     "text": [
      "[6, 8]\n"
     ]
    }
   ],
   "source": [
    "print(min_heap)"
   ]
  },
  {
   "cell_type": "code",
   "execution_count": 22,
   "metadata": {},
   "outputs": [
    {
     "name": "stdout",
     "output_type": "stream",
     "text": [
      "6\n",
      "8\n"
     ]
    }
   ],
   "source": [
    "while min_heap:\n",
    "    smallest = heapq.heappop(min_heap)\n",
    "    result.append(smallest)\n",
    "    print(smallest)\n",
    "    "
   ]
  },
  {
   "cell_type": "code",
   "execution_count": 23,
   "metadata": {},
   "outputs": [
    {
     "name": "stdout",
     "output_type": "stream",
     "text": [
      "[-1, 2, 3, 4, 5, 6, 8]\n"
     ]
    }
   ],
   "source": [
    "print(result )"
   ]
  },
  {
   "cell_type": "markdown",
   "metadata": {},
   "source": [
    "The time complexity is O(n log k). The space complexity is O(k)."
   ]
  },
  {
   "cell_type": "markdown",
   "metadata": {},
   "source": [
    "## 10.4 Compute the k Closet Stars \n",
    "\n",
    "Consider a coordinate system for the Milky Way, in which Earth is at (0,0,0). Model stars as points, and assume distances are light years. The Milky Way consists of approximately 10^12 stars, and their coordinates are stored in a file. \n",
    "\n",
    "How would you compute the k stars which are closest to Earth? "
   ]
  },
  {
   "cell_type": "code",
   "execution_count": 32,
   "metadata": {},
   "outputs": [],
   "source": [
    "import math "
   ]
  },
  {
   "cell_type": "code",
   "execution_count": 33,
   "metadata": {},
   "outputs": [],
   "source": [
    "class Star:\n",
    "    def __init__(self, x:float, y: float, z:float) -> None:\n",
    "        self.x, self.y, self.z = x, y, z\n",
    "    \n",
    "    @property \n",
    "    def distance(self) -> float:\n",
    "        return math.sqrt(self.x**2 + self.y**2 + self.z**2)\n",
    "    \n",
    "    def __lt__(self, rhs: 'Star') -> bool:\n",
    "        return self.distance < rhs.distance \n",
    "    \n",
    "    \n",
    "def find_closest_k_stars(stars, k: int) -> list:\n",
    "    # max_heap to store the colest k stars seen so far. \n",
    "    max_heap = []\n",
    "    for star in stars:\n",
    "        # add each star to the max-heap. If the max-heap size exceeds k, remove\n",
    "        # the maximum element from the max-heap.\n",
    "        # As python has only min-heap, insert tuple (negative of distance, star)\n",
    "        # to sort in reversed distance order. \n",
    "        heapq.heappush(max_heap, (-star.distance, star))\n",
    "        if len(max_heap) == k+1:\n",
    "            heapq.heappop(max_heap)\n",
    "        \n",
    "    # Iteratively extract from the max-heap, which yields the stars sorted \n",
    "    # according from furthest to closest.\n",
    "    return [s[1] for s in heapq.nlargest(k, max_heap)]"
   ]
  },
  {
   "cell_type": "code",
   "execution_count": 34,
   "metadata": {},
   "outputs": [],
   "source": [
    "A = Star(3,4,5)"
   ]
  },
  {
   "cell_type": "code",
   "execution_count": 35,
   "metadata": {},
   "outputs": [
    {
     "data": {
      "text/plain": [
       "7.0710678118654755"
      ]
     },
     "execution_count": 35,
     "metadata": {},
     "output_type": "execute_result"
    }
   ],
   "source": [
    "A.distance"
   ]
  },
  {
   "cell_type": "code",
   "execution_count": 36,
   "metadata": {},
   "outputs": [],
   "source": [
    "B = Star(1,1,1)\n",
    "C = Star(-0.5,0.7,0.9)\n",
    "D = Star(9,9,9)\n",
    "E = Star(0.1,0.1,0.1)\n",
    "F = Star(-1,-1,-1)\n",
    "G = Star(0,9,111)"
   ]
  },
  {
   "cell_type": "code",
   "execution_count": 38,
   "metadata": {},
   "outputs": [],
   "source": [
    "stars = [A,B,C,D,E,F,G]\n",
    "new_star = find_closest_k_stars(stars, 2)"
   ]
  },
  {
   "cell_type": "code",
   "execution_count": 41,
   "metadata": {},
   "outputs": [
    {
     "name": "stdout",
     "output_type": "stream",
     "text": [
      "0.1 0.1 0.1\n",
      "-0.5 0.7 0.9\n"
     ]
    }
   ],
   "source": [
    "for star in new_star:\n",
    "    print(star.x, star.y, star.z)"
   ]
  },
  {
   "cell_type": "markdown",
   "metadata": {},
   "source": [
    "The time complexity is O(n log k) and the space complexity is O(k). "
   ]
  },
  {
   "cell_type": "markdown",
   "metadata": {},
   "source": [
    "## 10.5 Compute the Median of Online Data \n",
    "\n",
    "You want to compute the running median of a sequence of numbers. The sequence is presented to you in a streaming fashion--you cannnot back up to read an earlier value, and you need to output the median after reading in each new element. For example, if the input is 1,0,3,5,2,0,1 the output is 1,0.5,1,2,2,1.5,1. \n",
    "\n",
    "Design an algorithm for computing the running median of a sequence. \n",
    "\n",
    "**Sol:** The brute-force approach is to store all the elements seen so far in an array and compute the median using, for example, Solution 11.8 on Page 163 for finding the kth smallest entry in an array. This has time complexity O(n^2) for computing the running median for the first n elements. \n",
    "\n",
    "The shortcoming of the brute-force approach is that it is not incremental, i.e., it does not take advantave of the previous computation. Note that the median of a collection divides the collection into two equal parts. When a new element is added to the collection, the parts can change by at most one element, and the element to be moved is the largest of the smaller half or the smallest of the larger half. \n",
    "\n",
    "We can use two heaps, a max-heap for the smaller half and a min-heap for the larger half. We will keep these heaps balanced in size. The max-heap has the property that we can efficiently extract the largest element in the smaller part; the min-heap is similar. "
   ]
  },
  {
   "cell_type": "code",
   "execution_count": 42,
   "metadata": {},
   "outputs": [],
   "source": [
    "def online_median(sequence) -> list:\n",
    "    # min_heap stores the larger half seen so far\n",
    "    min_heap = []\n",
    "    # max_heap stores the smaller half seen so far\n",
    "    max_heap = []\n",
    "    result = []\n",
    "    \n",
    "    for x in sequence:\n",
    "        heapq.heappush(max_heap, -heapq.heappushpop(min_heap, x))\n",
    "        # Ensure min_heap and max_heap have equal number of elements if an even \n",
    "        # number of elements is read; otherwise, min_heap must have one more \n",
    "        # element than max_heap\n",
    "        if len(max_heap) > len(min_heap):\n",
    "            heapq.heappush(min_heap, -heapq.heappop(max_heap))\n",
    "            \n",
    "        result.append(0.5 *(min_heap[0] + (-max_heap[0]))\n",
    "                     if len(min_heap) == len(max_heap) else min_heap[0])\n",
    "        \n",
    "    return result "
   ]
  },
  {
   "cell_type": "code",
   "execution_count": 47,
   "metadata": {},
   "outputs": [
    {
     "data": {
      "text/plain": [
       "[1, 0.5, 1, 2.0, 2, 1.5, 1]"
      ]
     },
     "execution_count": 47,
     "metadata": {},
     "output_type": "execute_result"
    }
   ],
   "source": [
    "sequence = [1,0,3,5,2,0,1]\n",
    "online_median(sequence)"
   ]
  },
  {
   "cell_type": "code",
   "execution_count": 48,
   "metadata": {},
   "outputs": [],
   "source": [
    "min_heap = []\n",
    "max_heap = []\n",
    "result = []"
   ]
  },
  {
   "cell_type": "code",
   "execution_count": 49,
   "metadata": {},
   "outputs": [
    {
     "name": "stdout",
     "output_type": "stream",
     "text": [
      "1\n",
      "[-1]\n",
      "[]\n",
      "[]\n",
      "[1]\n",
      "0\n",
      "[0]\n",
      "[1]\n",
      "[0]\n",
      "[1]\n",
      "3\n",
      "[-1, 0]\n",
      "[3]\n",
      "[0]\n",
      "[1, 3]\n",
      "5\n",
      "[-1, 0]\n",
      "[3, 5]\n",
      "[-1, 0]\n",
      "[3, 5]\n",
      "2\n",
      "[-2, 0, -1]\n",
      "[3, 5]\n",
      "[-1, 0]\n",
      "[2, 5, 3]\n",
      "0\n",
      "[-1, 0, 0]\n",
      "[2, 5, 3]\n",
      "[-1, 0, 0]\n",
      "[2, 5, 3]\n",
      "1\n",
      "[-1, -1, 0, 0]\n",
      "[2, 5, 3]\n",
      "[-1, 0, 0]\n",
      "[1, 2, 3, 5]\n"
     ]
    }
   ],
   "source": [
    "for x in sequence:\n",
    "    print(x)\n",
    "    heapq.heappush(max_heap, -heapq.heappushpop(min_heap, x))\n",
    "    print(max_heap)\n",
    "    print(min_heap)\n",
    "    if len(max_heap) > len(min_heap):\n",
    "        heapq.heappush(min_heap, -heapq.heappop(max_heap))\n",
    "    print(max_heap)\n",
    "    print(min_heap)"
   ]
  },
  {
   "cell_type": "markdown",
   "metadata": {},
   "source": [
    "The time complexity per entry is O(log n), corresponding to insertion and extraction from a heap. "
   ]
  },
  {
   "cell_type": "markdown",
   "metadata": {},
   "source": [
    "## 10.6 Compute the k Largest Elements in a Max-heap\n",
    "\n",
    "A heap contains limited information about the ordering of elements, so unlike fa sorted array or a balanced BST, naive algorithm for computing the k largest elements have a time complexity that depends linearly on the number of elements in the collection. \n",
    "\n",
    "Given a. max-heap, represented as an array A, design an algorithm that computes the k largest elements stored in the max-heap. You cannot modify the heap. "
   ]
  },
  {
   "cell_type": "markdown",
   "metadata": {},
   "source": [
    "**Sol:** The ideal data sctructure for tracking the index to process next is a data sctructure which support fast insertions, and fast extract-max, i.e., in a max-heap. So our algorithm is to create a max-heap for candidates, initialized to hold the index 0, which serves as a refereence to A[0]. The indices in the max-heap are ordered according to corresponding value in A. We then itreatively perform k extract-max operations from the max-heap. Each extraction of an index i is followed by inserting the indices of i's left child, 2i+1, and right child, 2i+2, to the max-heap. assuming these children exist. "
   ]
  },
  {
   "cell_type": "code",
   "execution_count": 50,
   "metadata": {},
   "outputs": [],
   "source": [
    "def k_largest_in_binary_heap(A: list, k: int) -> list:\n",
    "    if k <= 0:\n",
    "        return []\n",
    "    \n",
    "    # Stores the (-value, index)-pair in candidate_max_heap. \n",
    "    # This heap is ordered by value field. Uses the negative of value to get the effect \n",
    "    # of a max heap.\n",
    "    candidate_max_heap = []\n",
    "    # The largest element in A is at index 0.\n",
    "    candidate_max_heap.append((-A[0],0))\n",
    "    result = []\n",
    "    for _ in range(k):\n",
    "        candidate_idx = candidate_max_heap[0][1]\n",
    "        result.append(-heapq.heappop(candidate_max_heap)[0])\n",
    "        \n",
    "        left_child_idx = 2* candidate_idx + 1\n",
    "        if left_child_idx < len(A):\n",
    "            heapq.heappush(candidate_max_heap, (-A[left_child_idx], left_child_idx))\n",
    "        right_child_idx = 2* candidate_idx + 2\n",
    "        if right_child_idx < len(A):\n",
    "            heapq.heappush(candidate_max_heap, (-A[right_child_idx], right_child_idx))\n",
    "    return result "
   ]
  },
  {
   "cell_type": "code",
   "execution_count": 65,
   "metadata": {},
   "outputs": [],
   "source": [
    "A = [561,314,401,28,156,359,271,11,3]"
   ]
  },
  {
   "cell_type": "code",
   "execution_count": 53,
   "metadata": {},
   "outputs": [
    {
     "data": {
      "text/plain": [
       "[561, 401, 359, 314]"
      ]
     },
     "execution_count": 53,
     "metadata": {},
     "output_type": "execute_result"
    }
   ],
   "source": [
    "k_largest_in_binary_heap(A,4)"
   ]
  },
  {
   "cell_type": "markdown",
   "metadata": {},
   "source": [
    "The total number of insertion and extract-max operation is O(k), yielding an O(k logk) time complexity, and an O(k) additional space complexity. This algorithm does not modify the original heap. "
   ]
  },
  {
   "cell_type": "code",
   "execution_count": 66,
   "metadata": {},
   "outputs": [],
   "source": [
    "candidate_max_heap = []\n",
    "candidate_max_heap.append((-A[0],0))\n",
    "result = []"
   ]
  },
  {
   "cell_type": "code",
   "execution_count": 67,
   "metadata": {},
   "outputs": [
    {
     "name": "stdout",
     "output_type": "stream",
     "text": [
      "-561\n",
      "0\n",
      "[561]\n",
      "-401\n",
      "2\n",
      "[561, 401]\n",
      "-359\n",
      "5\n",
      "[561, 401, 359]\n",
      "-314\n",
      "1\n",
      "[561, 401, 359, 314]\n"
     ]
    }
   ],
   "source": [
    "for _ in range(4):\n",
    "    candidate_idx = candidate_max_heap[0][1]\n",
    "    print(candidate_max_heap[0][0])\n",
    "    print(candidate_idx)\n",
    "    result.append(-heapq.heappop(candidate_max_heap)[0])\n",
    "    print(result)\n",
    "    left_child_idx = 2*candidate_idx + 1\n",
    "    if left_child_idx < len(A):\n",
    "        heapq.heappush(candidate_max_heap, (-A[left_child_idx], left_child_idx))\n",
    "    right_child_idx = 2*candidate_idx +2 \n",
    "    if right_child_idx < len(A):\n",
    "        heapq.heappush(candidate_max_heap, (-A[right_child_idx], right_child_idx))\n",
    "        "
   ]
  },
  {
   "cell_type": "code",
   "execution_count": null,
   "metadata": {},
   "outputs": [],
   "source": []
  }
 ],
 "metadata": {
  "kernelspec": {
   "display_name": "Python 3",
   "language": "python",
   "name": "python3"
  },
  "language_info": {
   "codemirror_mode": {
    "name": "ipython",
    "version": 3
   },
   "file_extension": ".py",
   "mimetype": "text/x-python",
   "name": "python",
   "nbconvert_exporter": "python",
   "pygments_lexer": "ipython3",
   "version": "3.6.5"
  }
 },
 "nbformat": 4,
 "nbformat_minor": 2
}
