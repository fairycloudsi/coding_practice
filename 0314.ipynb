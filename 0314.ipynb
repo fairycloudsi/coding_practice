{
 "cells": [
  {
   "cell_type": "markdown",
   "metadata": {},
   "source": [
    "## 139. Word Break \n",
    "\n",
    "Given a non-empty string s and a dictionary wordDict containing a list of non-empty words, determine if s can be segmented into a space-separated sequence for one or more dictionary words.\n",
    "\n",
    "**Note:**\n",
    "\n",
    "* The same word in the dictionary may be reused multiple times in the segmentation. \n",
    "\n",
    "* You may assume the dictionary does not contain duplicate words. \n",
    "\n",
    "**Example 1:**\n",
    "\n",
    "Input: s = \"leetcode\", wordDict = [\"leet\", \"code\"]\n",
    "\n",
    "Output: True \n",
    "\n",
    "Explanation: Return True because \"leetcode\" can be segmented as \"leet code\". \n",
    "\n",
    "**Example 2:**\n",
    "\n",
    "Input: s =\"applepenapple\", wordDict = [\"apple\", \"pen\"]\n",
    "\n",
    "Output: True \n",
    "\n",
    "Explanation: Return True becuase \"applepenapple\" can be segmented as \"apple pen apple\". \n",
    "\n",
    "Note you are allowed to reuse a dictionary word. \n",
    "\n",
    "**Example 3:**\n",
    "\n",
    "Input: s = \"catsandog\", wordDict = [\"cats\", \"dog\", \"sand\", \"and\", \"cat\"]\n",
    "\n",
    "Output: False "
   ]
  },
  {
   "cell_type": "code",
   "execution_count": null,
   "metadata": {},
   "outputs": [],
   "source": [
    "def wordVreak(s: str, )"
   ]
  },
  {
   "cell_type": "markdown",
   "metadata": {},
   "source": [
    "## 140. Word Break II\n",
    "\n",
    "Given a non-empty string s and a dictionary wordDict containing a list of non-empty words, add spaces in s to construct a sentence where each word is a valid dictionary word. Return all such possible sentences. \n",
    "\n",
    "**Note:**\n",
    "\n",
    "* The same word in the dictionary may be requested multiple times in the segmentation. \n",
    "\n",
    "* You may assume the dictionary does not contain duplicate words. \n",
    "\n",
    "**Example 1:** \n",
    "\n",
    "Input:\n",
    "s = \"catsanddog\"\n",
    "wordDict = [\"cat\", \"cats\", \"and\", \"sand\", \"dog\"]\n",
    "Output:\n",
    "[\n",
    "  \"cats and dog\",\n",
    "  \"cat sand dog\"\n",
    "]\n",
    "\n",
    "**Example 2:**\n",
    "\n",
    "Input:\n",
    "s = \"pineapplepenapple\"\n",
    "wordDict = [\"apple\", \"pen\", \"applepen\", \"pine\", \"pineapple\"]\n",
    "Output:\n",
    "[\n",
    "  \"pine apple pen apple\",\n",
    "  \"pineapple pen apple\",\n",
    "  \"pine applepen apple\"\n",
    "]\n",
    "Explanation: Note that you are allowed to reuse a dictionary word.\n",
    "\n",
    "**Example 3:**\n",
    "\n",
    "Input:\n",
    "s = \"catsandog\"\n",
    "wordDict = [\"cats\", \"dog\", \"sand\", \"and\", \"cat\"]\n",
    "Output:\n",
    "[]"
   ]
  },
  {
   "cell_type": "code",
   "execution_count": null,
   "metadata": {},
   "outputs": [],
   "source": [
    "def wordBreak(s: str, wordDict: list) -> list:\n",
    "    \n",
    "    "
   ]
  }
 ],
 "metadata": {
  "kernelspec": {
   "display_name": "Python 3",
   "language": "python",
   "name": "python3"
  },
  "language_info": {
   "codemirror_mode": {
    "name": "ipython",
    "version": 3
   },
   "file_extension": ".py",
   "mimetype": "text/x-python",
   "name": "python",
   "nbconvert_exporter": "python",
   "pygments_lexer": "ipython3",
   "version": "3.7.4"
  }
 },
 "nbformat": 4,
 "nbformat_minor": 2
}
