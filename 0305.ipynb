{
 "cells": [
  {
   "cell_type": "markdown",
   "metadata": {},
   "source": [
    "## 63. Unique Paths II"
   ]
  },
  {
   "cell_type": "code",
   "execution_count": 83,
   "metadata": {},
   "outputs": [],
   "source": [
    "def uniquePathsWithObstacles(obstacleGrid: list) -> int:\n",
    "    \n",
    "    n = len(obstacleGrid)\n",
    "    \n",
    "    if (n==0):\n",
    "        return 0 \n",
    "    \n",
    "    m = len(obstacleGrid[0])\n",
    "    \n",
    "    f_ = [[-float('inf') for _ in range(m+1)] for _ in range(n+1)]\n",
    "    \n",
    "    def paths(x: int, y: int, o: list) -> int:\n",
    "        print('numbers of path are')\n",
    "        print(f_)\n",
    "        if x <= 0 or y <= 0:\n",
    "            return 0 \n",
    "        \n",
    "        if (x== 1 and y == 1):\n",
    "            f_[x][y] = 1 - o[x-1][y-1]\n",
    "            return f_[x][y]\n",
    "        \n",
    "        if (f_[x][y] != -float('inf')):\n",
    "            return f_[x][y]\n",
    "        \n",
    "        if (o[x-1][y-1] == 1 ):\n",
    "            f_[x][y] = 0 \n",
    "        else:\n",
    "            f_[x][y] = paths(x-1, y, o) + paths(x, y-1, o)\n",
    "        return f_[x][y]\n",
    "        \n",
    "        \n",
    "    return paths(n, m, obstacleGrid)\n",
    "    \n",
    "    "
   ]
  },
  {
   "cell_type": "code",
   "execution_count": 84,
   "metadata": {},
   "outputs": [],
   "source": [
    "obstacleGride = [\n",
    "    [0,0,0],\n",
    "    [0,1,0],\n",
    "    [0,0,0]\n",
    "]"
   ]
  },
  {
   "cell_type": "code",
   "execution_count": 85,
   "metadata": {},
   "outputs": [
    {
     "name": "stdout",
     "output_type": "stream",
     "text": [
      "numbers of path are\n",
      "[[-inf, -inf, -inf, -inf], [-inf, -inf, -inf, -inf], [-inf, -inf, -inf, -inf], [-inf, -inf, -inf, -inf]]\n",
      "numbers of path are\n",
      "[[-inf, -inf, -inf, -inf], [-inf, -inf, -inf, -inf], [-inf, -inf, -inf, -inf], [-inf, -inf, -inf, -inf]]\n",
      "numbers of path are\n",
      "[[-inf, -inf, -inf, -inf], [-inf, -inf, -inf, -inf], [-inf, -inf, -inf, -inf], [-inf, -inf, -inf, -inf]]\n",
      "numbers of path are\n",
      "[[-inf, -inf, -inf, -inf], [-inf, -inf, -inf, -inf], [-inf, -inf, -inf, -inf], [-inf, -inf, -inf, -inf]]\n",
      "numbers of path are\n",
      "[[-inf, -inf, -inf, -inf], [-inf, -inf, -inf, -inf], [-inf, -inf, -inf, -inf], [-inf, -inf, -inf, -inf]]\n",
      "numbers of path are\n",
      "[[-inf, -inf, -inf, -inf], [-inf, -inf, -inf, -inf], [-inf, -inf, -inf, -inf], [-inf, -inf, -inf, -inf]]\n",
      "numbers of path are\n",
      "[[-inf, -inf, -inf, -inf], [-inf, -inf, -inf, -inf], [-inf, -inf, -inf, -inf], [-inf, -inf, -inf, -inf]]\n",
      "numbers of path are\n",
      "[[-inf, -inf, -inf, -inf], [-inf, 1, 1, 1], [-inf, -inf, -inf, -inf], [-inf, -inf, -inf, -inf]]\n",
      "numbers of path are\n",
      "[[-inf, -inf, -inf, -inf], [-inf, 1, 1, 1], [-inf, -inf, 0, 1], [-inf, -inf, -inf, -inf]]\n",
      "numbers of path are\n",
      "[[-inf, -inf, -inf, -inf], [-inf, 1, 1, 1], [-inf, -inf, 0, 1], [-inf, -inf, -inf, -inf]]\n",
      "numbers of path are\n",
      "[[-inf, -inf, -inf, -inf], [-inf, 1, 1, 1], [-inf, -inf, 0, 1], [-inf, -inf, -inf, -inf]]\n",
      "numbers of path are\n",
      "[[-inf, -inf, -inf, -inf], [-inf, 1, 1, 1], [-inf, -inf, 0, 1], [-inf, -inf, -inf, -inf]]\n",
      "numbers of path are\n",
      "[[-inf, -inf, -inf, -inf], [-inf, 1, 1, 1], [-inf, -inf, 0, 1], [-inf, -inf, -inf, -inf]]\n",
      "numbers of path are\n",
      "[[-inf, -inf, -inf, -inf], [-inf, 1, 1, 1], [-inf, -inf, 0, 1], [-inf, -inf, -inf, -inf]]\n",
      "numbers of path are\n",
      "[[-inf, -inf, -inf, -inf], [-inf, 1, 1, 1], [-inf, 1, 0, 1], [-inf, -inf, -inf, -inf]]\n"
     ]
    },
    {
     "data": {
      "text/plain": [
       "2"
      ]
     },
     "execution_count": 85,
     "metadata": {},
     "output_type": "execute_result"
    }
   ],
   "source": [
    "uniquePathsWithObstacles(obstacleGride)"
   ]
  },
  {
   "cell_type": "code",
   "execution_count": 86,
   "metadata": {},
   "outputs": [
    {
     "name": "stdout",
     "output_type": "stream",
     "text": [
      "numbers of path are\n",
      "[[-inf, -inf, -inf, -inf], [-inf, -inf, -inf, -inf], [-inf, -inf, -inf, -inf], [-inf, -inf, -inf, -inf]]\n",
      "numbers of path are\n",
      "[[-inf, -inf, -inf, -inf], [-inf, -inf, -inf, -inf], [-inf, -inf, -inf, -inf], [-inf, -inf, -inf, -inf]]\n",
      "numbers of path are\n",
      "[[-inf, -inf, -inf, -inf], [-inf, -inf, -inf, -inf], [-inf, -inf, -inf, -inf], [-inf, -inf, -inf, -inf]]\n",
      "numbers of path are\n",
      "[[-inf, -inf, -inf, -inf], [-inf, -inf, -inf, -inf], [-inf, -inf, -inf, -inf], [-inf, -inf, -inf, -inf]]\n",
      "numbers of path are\n",
      "[[-inf, -inf, -inf, -inf], [-inf, -inf, -inf, -inf], [-inf, -inf, -inf, -inf], [-inf, -inf, -inf, -inf]]\n",
      "numbers of path are\n",
      "[[-inf, -inf, -inf, -inf], [-inf, -inf, -inf, -inf], [-inf, -inf, -inf, -inf], [-inf, -inf, -inf, -inf]]\n",
      "numbers of path are\n",
      "[[-inf, -inf, -inf, -inf], [-inf, -inf, -inf, -inf], [-inf, -inf, -inf, -inf], [-inf, -inf, -inf, -inf]]\n",
      "numbers of path are\n",
      "[[-inf, -inf, -inf, -inf], [-inf, 0, 0, 0], [-inf, -inf, -inf, -inf], [-inf, -inf, -inf, -inf]]\n",
      "numbers of path are\n",
      "[[-inf, -inf, -inf, -inf], [-inf, 0, 0, 0], [-inf, -inf, 0, 0], [-inf, -inf, -inf, -inf]]\n",
      "numbers of path are\n",
      "[[-inf, -inf, -inf, -inf], [-inf, 0, 0, 0], [-inf, -inf, 0, 0], [-inf, -inf, -inf, -inf]]\n",
      "numbers of path are\n",
      "[[-inf, -inf, -inf, -inf], [-inf, 0, 0, 0], [-inf, -inf, 0, 0], [-inf, -inf, -inf, -inf]]\n",
      "numbers of path are\n",
      "[[-inf, -inf, -inf, -inf], [-inf, 0, 0, 0], [-inf, -inf, 0, 0], [-inf, -inf, -inf, -inf]]\n",
      "numbers of path are\n",
      "[[-inf, -inf, -inf, -inf], [-inf, 0, 0, 0], [-inf, -inf, 0, 0], [-inf, -inf, -inf, -inf]]\n",
      "numbers of path are\n",
      "[[-inf, -inf, -inf, -inf], [-inf, 0, 0, 0], [-inf, -inf, 0, 0], [-inf, -inf, -inf, -inf]]\n",
      "numbers of path are\n",
      "[[-inf, -inf, -inf, -inf], [-inf, 0, 0, 0], [-inf, 0, 0, 0], [-inf, -inf, -inf, -inf]]\n"
     ]
    },
    {
     "data": {
      "text/plain": [
       "0"
      ]
     },
     "execution_count": 86,
     "metadata": {},
     "output_type": "execute_result"
    }
   ],
   "source": [
    "obstacleGride = [\n",
    "    [1,0,0],\n",
    "    [0,1,0],\n",
    "    [0,0,0]\n",
    "]\n",
    "\n",
    "uniquePathsWithObstacles(obstacleGride)"
   ]
  },
  {
   "cell_type": "code",
   "execution_count": 87,
   "metadata": {},
   "outputs": [
    {
     "name": "stdout",
     "output_type": "stream",
     "text": [
      "numbers of path are\n",
      "[[-inf, -inf, -inf, -inf], [-inf, -inf, -inf, -inf], [-inf, -inf, -inf, -inf], [-inf, -inf, -inf, -inf]]\n",
      "numbers of path are\n",
      "[[-inf, -inf, -inf, -inf], [-inf, -inf, -inf, -inf], [-inf, -inf, -inf, -inf], [-inf, -inf, -inf, -inf]]\n",
      "numbers of path are\n",
      "[[-inf, -inf, -inf, -inf], [-inf, -inf, -inf, -inf], [-inf, -inf, -inf, -inf], [-inf, -inf, -inf, -inf]]\n",
      "numbers of path are\n",
      "[[-inf, -inf, -inf, -inf], [-inf, -inf, -inf, -inf], [-inf, -inf, -inf, -inf], [-inf, -inf, -inf, -inf]]\n",
      "numbers of path are\n",
      "[[-inf, -inf, -inf, -inf], [-inf, -inf, -inf, -inf], [-inf, -inf, -inf, -inf], [-inf, -inf, -inf, -inf]]\n",
      "numbers of path are\n",
      "[[-inf, -inf, -inf, -inf], [-inf, -inf, 0, 0], [-inf, -inf, -inf, -inf], [-inf, -inf, -inf, -inf]]\n",
      "numbers of path are\n",
      "[[-inf, -inf, -inf, -inf], [-inf, -inf, 0, 0], [-inf, -inf, 0, 0], [-inf, -inf, -inf, -inf]]\n",
      "numbers of path are\n",
      "[[-inf, -inf, -inf, -inf], [-inf, -inf, 0, 0], [-inf, -inf, 0, 0], [-inf, -inf, -inf, -inf]]\n",
      "numbers of path are\n",
      "[[-inf, -inf, -inf, -inf], [-inf, -inf, 0, 0], [-inf, -inf, 0, 0], [-inf, -inf, -inf, -inf]]\n",
      "numbers of path are\n",
      "[[-inf, -inf, -inf, -inf], [-inf, -inf, 0, 0], [-inf, -inf, 0, 0], [-inf, -inf, -inf, -inf]]\n",
      "numbers of path are\n",
      "[[-inf, -inf, -inf, -inf], [-inf, -inf, 0, 0], [-inf, -inf, 0, 0], [-inf, -inf, -inf, -inf]]\n",
      "numbers of path are\n",
      "[[-inf, -inf, -inf, -inf], [-inf, 1, 0, 0], [-inf, -inf, 0, 0], [-inf, -inf, -inf, -inf]]\n",
      "numbers of path are\n",
      "[[-inf, -inf, -inf, -inf], [-inf, 1, 0, 0], [-inf, 1, 0, 0], [-inf, -inf, -inf, -inf]]\n"
     ]
    },
    {
     "data": {
      "text/plain": [
       "1"
      ]
     },
     "execution_count": 87,
     "metadata": {},
     "output_type": "execute_result"
    }
   ],
   "source": [
    "obstacleGride = [\n",
    "    [0,1,0],\n",
    "    [0,1,0],\n",
    "    [0,0,0]\n",
    "]\n",
    "\n",
    "\n",
    "uniquePathsWithObstacles(obstacleGride)"
   ]
  },
  {
   "cell_type": "markdown",
   "metadata": {},
   "source": [
    "Time Complexity: O(mn)\n",
    "\n",
    "Space Complexity: O(mn)"
   ]
  },
  {
   "cell_type": "code",
   "execution_count": 88,
   "metadata": {},
   "outputs": [
    {
     "name": "stdout",
     "output_type": "stream",
     "text": [
      "numbers of path are\n",
      "[[-inf, -inf, -inf, -inf, -inf], [-inf, -inf, -inf, -inf, -inf], [-inf, -inf, -inf, -inf, -inf], [-inf, -inf, -inf, -inf, -inf]]\n",
      "numbers of path are\n",
      "[[-inf, -inf, -inf, -inf, -inf], [-inf, -inf, -inf, -inf, -inf], [-inf, -inf, -inf, -inf, -inf], [-inf, -inf, -inf, -inf, -inf]]\n",
      "numbers of path are\n",
      "[[-inf, -inf, -inf, -inf, -inf], [-inf, -inf, -inf, -inf, -inf], [-inf, -inf, -inf, -inf, -inf], [-inf, -inf, -inf, -inf, -inf]]\n",
      "numbers of path are\n",
      "[[-inf, -inf, -inf, -inf, -inf], [-inf, -inf, -inf, -inf, -inf], [-inf, -inf, -inf, -inf, -inf], [-inf, -inf, -inf, -inf, -inf]]\n",
      "numbers of path are\n",
      "[[-inf, -inf, -inf, -inf, -inf], [-inf, -inf, -inf, -inf, -inf], [-inf, -inf, -inf, -inf, -inf], [-inf, -inf, -inf, -inf, -inf]]\n",
      "numbers of path are\n",
      "[[-inf, -inf, -inf, -inf, -inf], [-inf, -inf, -inf, -inf, -inf], [-inf, -inf, -inf, -inf, -inf], [-inf, -inf, -inf, -inf, -inf]]\n",
      "numbers of path are\n",
      "[[-inf, -inf, -inf, -inf, -inf], [-inf, -inf, -inf, -inf, -inf], [-inf, -inf, -inf, -inf, -inf], [-inf, -inf, -inf, -inf, -inf]]\n",
      "numbers of path are\n",
      "[[-inf, -inf, -inf, -inf, -inf], [-inf, -inf, 0, 0, 0], [-inf, -inf, -inf, -inf, -inf], [-inf, -inf, -inf, -inf, -inf]]\n",
      "numbers of path are\n",
      "[[-inf, -inf, -inf, -inf, -inf], [-inf, -inf, 0, 0, 0], [-inf, -inf, -inf, -inf, -inf], [-inf, -inf, -inf, -inf, -inf]]\n",
      "numbers of path are\n",
      "[[-inf, -inf, -inf, -inf, -inf], [-inf, -inf, 0, 0, 0], [-inf, -inf, -inf, -inf, -inf], [-inf, -inf, -inf, -inf, -inf]]\n",
      "numbers of path are\n",
      "[[-inf, -inf, -inf, -inf, -inf], [-inf, -inf, 0, 0, 0], [-inf, -inf, 0, 0, 0], [-inf, -inf, -inf, -inf, -inf]]\n",
      "numbers of path are\n",
      "[[-inf, -inf, -inf, -inf, -inf], [-inf, -inf, 0, 0, 0], [-inf, -inf, 0, 0, 0], [-inf, -inf, -inf, -inf, -inf]]\n",
      "numbers of path are\n",
      "[[-inf, -inf, -inf, -inf, -inf], [-inf, -inf, 0, 0, 0], [-inf, -inf, 0, 0, 0], [-inf, -inf, -inf, -inf, -inf]]\n",
      "numbers of path are\n",
      "[[-inf, -inf, -inf, -inf, -inf], [-inf, -inf, 0, 0, 0], [-inf, -inf, 0, 0, 0], [-inf, -inf, -inf, -inf, -inf]]\n",
      "numbers of path are\n",
      "[[-inf, -inf, -inf, -inf, -inf], [-inf, -inf, 0, 0, 0], [-inf, -inf, 0, 0, 0], [-inf, -inf, -inf, -inf, -inf]]\n",
      "numbers of path are\n",
      "[[-inf, -inf, -inf, -inf, -inf], [-inf, -inf, 0, 0, 0], [-inf, -inf, 0, 0, 0], [-inf, -inf, -inf, -inf, -inf]]\n",
      "numbers of path are\n",
      "[[-inf, -inf, -inf, -inf, -inf], [-inf, -inf, 0, 0, 0], [-inf, -inf, 0, 0, 0], [-inf, -inf, -inf, -inf, -inf]]\n",
      "numbers of path are\n",
      "[[-inf, -inf, -inf, -inf, -inf], [-inf, 1, 0, 0, 0], [-inf, -inf, 0, 0, 0], [-inf, -inf, -inf, -inf, -inf]]\n",
      "numbers of path are\n",
      "[[-inf, -inf, -inf, -inf, -inf], [-inf, 1, 0, 0, 0], [-inf, 1, 0, 0, 0], [-inf, -inf, -inf, -inf, -inf]]\n"
     ]
    },
    {
     "data": {
      "text/plain": [
       "1"
      ]
     },
     "execution_count": 88,
     "metadata": {},
     "output_type": "execute_result"
    }
   ],
   "source": [
    "obstacleGride = [\n",
    "    [0,1,0,0],\n",
    "    [0,1,0,0],\n",
    "    [0,0,0,0]\n",
    "]\n",
    "\n",
    "\n",
    "uniquePathsWithObstacles(obstacleGride)"
   ]
  },
  {
   "cell_type": "code",
   "execution_count": 67,
   "metadata": {},
   "outputs": [
    {
     "name": "stdout",
     "output_type": "stream",
     "text": [
      "3\n",
      "4\n"
     ]
    }
   ],
   "source": [
    "n = len(obstacleGride)\n",
    "print(n)\n",
    "\n",
    "m = len(obstacleGride[0])\n",
    "print(m)\n",
    "\n",
    "new_ob = [[(x,y) for y in range(m)] for x in range(n)]"
   ]
  },
  {
   "cell_type": "code",
   "execution_count": 68,
   "metadata": {},
   "outputs": [
    {
     "name": "stdout",
     "output_type": "stream",
     "text": [
      "[[(0, 0), (0, 1), (0, 2), (0, 3)], [(1, 0), (1, 1), (1, 2), (1, 3)], [(2, 0), (2, 1), (2, 2), (2, 3)]]\n"
     ]
    }
   ],
   "source": [
    "print(new_ob)"
   ]
  },
  {
   "cell_type": "code",
   "execution_count": 63,
   "metadata": {},
   "outputs": [
    {
     "name": "stdout",
     "output_type": "stream",
     "text": [
      "(1, 0)\n",
      "(1, 1)\n",
      "(1, 2)\n"
     ]
    }
   ],
   "source": [
    "for x in range(n):\n",
    "    print(new_ob[x][1])"
   ]
  },
  {
   "cell_type": "code",
   "execution_count": 62,
   "metadata": {},
   "outputs": [
    {
     "name": "stdout",
     "output_type": "stream",
     "text": [
      "(0, 1)\n",
      "(1, 1)\n",
      "(2, 1)\n",
      "(3, 1)\n"
     ]
    }
   ],
   "source": [
    "for y in range(m):\n",
    "    print(new_ob[1][y])"
   ]
  },
  {
   "cell_type": "code",
   "execution_count": 65,
   "metadata": {},
   "outputs": [
    {
     "name": "stdout",
     "output_type": "stream",
     "text": [
      "(0, 0)\n",
      "(1, 0)\n",
      "(2, 0)\n",
      "(3, 0)\n",
      "(0, 1)\n",
      "(1, 1)\n",
      "(2, 1)\n",
      "(3, 1)\n",
      "(0, 2)\n",
      "(1, 2)\n",
      "(2, 2)\n",
      "(3, 2)\n"
     ]
    }
   ],
   "source": [
    "for x in range(n):\n",
    "    for y in range(m):\n",
    "        print(new_ob[x][y])"
   ]
  },
  {
   "cell_type": "code",
   "execution_count": 66,
   "metadata": {},
   "outputs": [
    {
     "name": "stdout",
     "output_type": "stream",
     "text": [
      "0\n",
      "1\n",
      "0\n",
      "0\n",
      "0\n",
      "1\n",
      "0\n",
      "0\n",
      "0\n",
      "0\n",
      "0\n",
      "0\n"
     ]
    }
   ],
   "source": [
    "for x in range(n):\n",
    "    for y in range(m):\n",
    "        print(obstacleGride[x][y])"
   ]
  },
  {
   "cell_type": "code",
   "execution_count": 89,
   "metadata": {},
   "outputs": [
    {
     "name": "stdout",
     "output_type": "stream",
     "text": [
      "numbers of path are\n",
      "[[-inf, -inf, -inf, -inf], [-inf, -inf, -inf, -inf], [-inf, -inf, -inf, -inf], [-inf, -inf, -inf, -inf]]\n",
      "numbers of path are\n",
      "[[-inf, -inf, -inf, -inf], [-inf, -inf, -inf, -inf], [-inf, -inf, -inf, -inf], [-inf, -inf, -inf, -inf]]\n",
      "numbers of path are\n",
      "[[-inf, -inf, -inf, -inf], [-inf, -inf, -inf, -inf], [-inf, -inf, -inf, -inf], [-inf, -inf, -inf, -inf]]\n",
      "numbers of path are\n",
      "[[-inf, -inf, -inf, -inf], [-inf, -inf, -inf, -inf], [-inf, -inf, -inf, -inf], [-inf, -inf, -inf, -inf]]\n",
      "numbers of path are\n",
      "[[-inf, -inf, -inf, -inf], [-inf, -inf, -inf, -inf], [-inf, -inf, -inf, -inf], [-inf, -inf, -inf, -inf]]\n",
      "numbers of path are\n",
      "[[-inf, -inf, -inf, -inf], [-inf, -inf, -inf, -inf], [-inf, -inf, -inf, -inf], [-inf, -inf, -inf, -inf]]\n",
      "numbers of path are\n",
      "[[-inf, -inf, -inf, -inf], [-inf, -inf, -inf, -inf], [-inf, -inf, -inf, -inf], [-inf, -inf, -inf, -inf]]\n",
      "numbers of path are\n",
      "[[-inf, -inf, -inf, -inf], [-inf, 1, 1, 1], [-inf, -inf, -inf, -inf], [-inf, -inf, -inf, -inf]]\n",
      "numbers of path are\n",
      "[[-inf, -inf, -inf, -inf], [-inf, 1, 1, 1], [-inf, -inf, 0, 1], [-inf, -inf, -inf, -inf]]\n",
      "numbers of path are\n",
      "[[-inf, -inf, -inf, -inf], [-inf, 1, 1, 1], [-inf, -inf, 0, 1], [-inf, -inf, -inf, -inf]]\n",
      "numbers of path are\n",
      "[[-inf, -inf, -inf, -inf], [-inf, 1, 1, 1], [-inf, -inf, 0, 1], [-inf, -inf, -inf, -inf]]\n",
      "numbers of path are\n",
      "[[-inf, -inf, -inf, -inf], [-inf, 1, 1, 1], [-inf, -inf, 0, 1], [-inf, -inf, -inf, -inf]]\n",
      "numbers of path are\n",
      "[[-inf, -inf, -inf, -inf], [-inf, 1, 1, 1], [-inf, -inf, 0, 1], [-inf, -inf, -inf, -inf]]\n",
      "numbers of path are\n",
      "[[-inf, -inf, -inf, -inf], [-inf, 1, 1, 1], [-inf, -inf, 0, 1], [-inf, -inf, -inf, -inf]]\n",
      "numbers of path are\n",
      "[[-inf, -inf, -inf, -inf], [-inf, 1, 1, 1], [-inf, 1, 0, 1], [-inf, -inf, -inf, -inf]]\n"
     ]
    },
    {
     "data": {
      "text/plain": [
       "2"
      ]
     },
     "execution_count": 89,
     "metadata": {},
     "output_type": "execute_result"
    }
   ],
   "source": [
    "obstacleGride = [\n",
    "    [0,0,0],\n",
    "    [0,1,0],\n",
    "    [0,0,0]\n",
    "]\n",
    "\n",
    "\n",
    "uniquePathsWithObstacles(obstacleGride)"
   ]
  },
  {
   "cell_type": "markdown",
   "metadata": {},
   "source": [
    "## 980. Unique Paths III\n",
    "\n",
    "On a 2-dimensional grid, there are 4 types of squares:\n",
    "\n",
    "* 1 represents the starting square. There is exactly one starting square. \n",
    "\n",
    "* 2 represents the ending square. There is exactly one ending square. \n",
    "\n",
    "* 0 represents emtpy squares we can walk over. \n",
    "\n",
    "* -1 represents obstacles that we cannot walk over. \n",
    "\n",
    "Return the number of 4-directional walks from the starting square to the ending square, that walk over every non-obstacle sqaure exactly once. \n",
    "\n",
    "**Example 1:**\n",
    "\n",
    "Input: [[1, 0, 0, 0], [0, 0, 0, 0], [0, 0, 2, -1]]\n",
    "\n",
    "Output: 2 \n",
    "\n",
    "Explanation: We have the following two paths: \n",
    "1. (0,0),(0,1),(0,2),(0,3),(1,3),(1,2),(1,1),(1,0),(2,0),(2,1),(2,2)\n",
    "2. (0,0),(1,0),(2,0),(2,1),(1,1),(0,1),(0,2),(0,3),(1,3),(1,2),(2,2)\n",
    "\n",
    "**Example 2:**\n",
    "\n",
    "Input: [[1,0,0,0], [0,0,0,0], [0,0,0,2]]\n",
    "\n",
    "Output: 4 \n",
    "\n",
    "Explanation: We have the following four paths: \n",
    "1. (0,0),(0,1),(0,2),(0,3),(1,3),(1,2),(1,1),(1,0),(2,0),(2,1),(2,2),(2,3)\n",
    "2. (0,0),(0,1),(1,1),(1,0),(2,0),(2,1),(2,2),(1,2),(0,2),(0,3),(1,3),(2,3)\n",
    "3. (0,0),(1,0),(2,0),(2,1),(2,2),(1,2),(1,1),(0,1),(0,2),(0,3),(1,3),(2,3)\n",
    "4. (0,0),(1,0),(2,0),(2,1),(1,1),(0,1),(0,2),(0,3),(1,3),(1,2),(2,2),(2,3)\n",
    "\n",
    "**Example 3:**\n",
    "\n",
    "Input: [[0,1], [2,0]]\n",
    "\n",
    "Output: 0 "
   ]
  },
  {
   "cell_type": "code",
   "execution_count": null,
   "metadata": {},
   "outputs": [],
   "source": [
    "def uniquePathsIII(grid: list) -> int:\n",
    "    \n",
    "    \n",
    "    \n",
    "    "
   ]
  },
  {
   "cell_type": "markdown",
   "metadata": {},
   "source": [
    "## 120. Triangle\n",
    "\n",
    "Given a triangle, find the minimum path sum from top to bottom. Each step you may move to adjacent numbers on the row below. \n",
    "\n",
    "For example, given the following traingle\n",
    "\n",
    "[\n",
    "    [2],\n",
    "    [3,4],\n",
    "    [6,5,7],\n",
    "    [4,1,8,3]\n",
    "]\n",
    "\n",
    "The minimum path sum from top to bottom is 11 (i.e. 2 + 3+ 5 + 1)"
   ]
  },
  {
   "cell_type": "code",
   "execution_count": 111,
   "metadata": {},
   "outputs": [],
   "source": [
    "def minimumTotal(triangle: list) -> int:\n",
    "    n = len(triangle)\n",
    "    \n",
    "    if n == 0:\n",
    "        return 0 \n",
    "    \n",
    "    m = len(triangle[n-1])\n",
    "    \n",
    "    dp = [[0 for _ in range(m)] for _ in range(n) ]\n",
    "    \n",
    "    for i in range(n):\n",
    "        for j in range(i+1):\n",
    "            if i == 0:\n",
    "                dp[i][0] = triangle[i][0]\n",
    "            elif j == 0:\n",
    "                dp[i][j] = dp[i-1][j] + triangle[i][j]\n",
    "            elif j == i:\n",
    "                dp[i][j] = dp[i-1][j-1] + triangle[i][j]\n",
    "            else:\n",
    "                print('i and j are')\n",
    "                print(i,j)\n",
    "                print(dp[i-1][j])\n",
    "                print(dp[i-1][j-1])\n",
    "                print(triangle[i])\n",
    "                dp[i][j] = min(dp[i-1][j], dp[i-1][j-1]) + triangle[i][j]\n",
    "    print(dp)\n",
    "    return(min(dp[n-1]))"
   ]
  },
  {
   "cell_type": "code",
   "execution_count": 112,
   "metadata": {},
   "outputs": [],
   "source": [
    "triangle = [\n",
    "    [2],\n",
    "    [3,4],\n",
    "    [6,5,7],\n",
    "    [4,1,8,3]\n",
    "]"
   ]
  },
  {
   "cell_type": "code",
   "execution_count": 113,
   "metadata": {},
   "outputs": [
    {
     "name": "stdout",
     "output_type": "stream",
     "text": [
      "i and j are\n",
      "2 1\n",
      "6\n",
      "5\n",
      "[6, 5, 7]\n",
      "i and j are\n",
      "3 1\n",
      "10\n",
      "11\n",
      "[4, 1, 8, 3]\n",
      "i and j are\n",
      "3 2\n",
      "13\n",
      "10\n",
      "[4, 1, 8, 3]\n",
      "[[2, 0, 0, 0], [5, 6, 0, 0], [11, 10, 13, 0], [15, 11, 18, 16]]\n"
     ]
    },
    {
     "data": {
      "text/plain": [
       "11"
      ]
     },
     "execution_count": 113,
     "metadata": {},
     "output_type": "execute_result"
    }
   ],
   "source": [
    "minimumTotal(triangle)"
   ]
  },
  {
   "cell_type": "code",
   "execution_count": 105,
   "metadata": {},
   "outputs": [
    {
     "name": "stdout",
     "output_type": "stream",
     "text": [
      "[[2], [3, 4], [6, 5, 7], [4, 1, 8, 3]]\n"
     ]
    }
   ],
   "source": [
    "print(triangle)"
   ]
  },
  {
   "cell_type": "code",
   "execution_count": 107,
   "metadata": {},
   "outputs": [
    {
     "name": "stdout",
     "output_type": "stream",
     "text": [
      "0\n",
      "0\n",
      "1\n",
      "1\n",
      "2\n",
      "2\n",
      "3\n",
      "3\n"
     ]
    }
   ],
   "source": [
    "for i in range(len(triangle)):\n",
    "    print(i)\n",
    "    print(len(triangle[i])-1)"
   ]
  },
  {
   "cell_type": "markdown",
   "metadata": {},
   "source": [
    "Time Complexity: O(mn)\n",
    "\n",
    "Space Complexity: O(mn)"
   ]
  },
  {
   "cell_type": "code",
   "execution_count": 156,
   "metadata": {},
   "outputs": [],
   "source": [
    "def minimumTotal(triangle: list) -> int:\n",
    "    n = len(triangle)\n",
    "    \n",
    "    if n == 0:\n",
    "        return 0 \n",
    "    \n",
    "    m = len(triangle[n-1])\n",
    "    \n",
    "    dp = [0 for _ in range(m)] \n",
    "    dp[0] = triangle[0][0]\n",
    "    \n",
    "    for i in range(1,n):\n",
    "        print('i is ')\n",
    "        print(i)\n",
    "        print(dp)\n",
    "        dp_new = [0 for _ in range(m)]\n",
    "        dp_new[0], dp_new[i] = dp[0] + triangle[i][0], dp[i-1] + triangle[i][i]\n",
    "        for j in range(1,i):\n",
    "            print('dp is ')\n",
    "            print(dp)\n",
    "            print('j is ')\n",
    "            print(j)\n",
    "            print('element is ')\n",
    "            print(triangle[i][j])\n",
    "            dp_new[j] = min(dp[j], dp[j-1]) + triangle[i][j]\n",
    "        dp = dp_new\n",
    "    return(min(dp))"
   ]
  },
  {
   "cell_type": "code",
   "execution_count": 157,
   "metadata": {},
   "outputs": [
    {
     "name": "stdout",
     "output_type": "stream",
     "text": [
      "i is \n",
      "1\n",
      "[2, 0, 0, 0]\n",
      "i is \n",
      "2\n",
      "[5, 6, 0, 0]\n",
      "dp is \n",
      "[5, 6, 0, 0]\n",
      "j is \n",
      "1\n",
      "element is \n",
      "5\n",
      "i is \n",
      "3\n",
      "[11, 10, 13, 0]\n",
      "dp is \n",
      "[11, 10, 13, 0]\n",
      "j is \n",
      "1\n",
      "element is \n",
      "1\n",
      "dp is \n",
      "[11, 10, 13, 0]\n",
      "j is \n",
      "2\n",
      "element is \n",
      "8\n"
     ]
    },
    {
     "data": {
      "text/plain": [
       "11"
      ]
     },
     "execution_count": 157,
     "metadata": {},
     "output_type": "execute_result"
    }
   ],
   "source": [
    "minimumTotal(triangle)"
   ]
  },
  {
   "cell_type": "markdown",
   "metadata": {},
   "source": [
    "Time Complexity"
   ]
  }
 ],
 "metadata": {
  "kernelspec": {
   "display_name": "Python 3",
   "language": "python",
   "name": "python3"
  },
  "language_info": {
   "codemirror_mode": {
    "name": "ipython",
    "version": 3
   },
   "file_extension": ".py",
   "mimetype": "text/x-python",
   "name": "python",
   "nbconvert_exporter": "python",
   "pygments_lexer": "ipython3",
   "version": "3.7.4"
  }
 },
 "nbformat": 4,
 "nbformat_minor": 2
}
