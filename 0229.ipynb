{
 "cells": [
  {
   "cell_type": "markdown",
   "metadata": {},
   "source": [
    "## 42. Trapping Rain Water\n",
    "\n",
    "Given n non-negative integers representing an elevation map where the width of each bar is 1, compute how much water it is able to trap after raining. \n",
    "\n",
    "**Example:**\n",
    "\n",
    "Input: [0, 1, 0, 2, 1, 0, 1, 3, 2, 1, 2, 1]\n",
    "\n",
    "Output: 6"
   ]
  },
  {
   "cell_type": "code",
   "execution_count": null,
   "metadata": {},
   "outputs": [],
   "source": []
  },
  {
   "cell_type": "markdown",
   "metadata": {},
   "source": [
    "## 7. Reverse Integer\n",
    "\n",
    "Given a 32-bit singed integer, reverse digits of an integer. \n",
    "\n",
    "**Example 1:**\n",
    "\n",
    "Input: 123\n",
    "\n",
    "Output: 321\n",
    "\n",
    "**Example 2:** \n",
    "\n",
    "Input: -123\n",
    "\n",
    "Output: -321\n",
    "\n",
    "**Example 3:**\n",
    "\n",
    "Input: 120\n",
    "\n",
    "Output: 21"
   ]
  },
  {
   "cell_type": "code",
   "execution_count": 2,
   "metadata": {},
   "outputs": [
    {
     "data": {
      "text/plain": [
       "1"
      ]
     },
     "execution_count": 2,
     "metadata": {},
     "output_type": "execute_result"
    }
   ],
   "source": [
    "321%10"
   ]
  },
  {
   "cell_type": "code",
   "execution_count": 3,
   "metadata": {},
   "outputs": [
    {
     "data": {
      "text/plain": [
       "32"
      ]
     },
     "execution_count": 3,
     "metadata": {},
     "output_type": "execute_result"
    }
   ],
   "source": [
    "321//10"
   ]
  },
  {
   "cell_type": "code",
   "execution_count": 4,
   "metadata": {},
   "outputs": [
    {
     "data": {
      "text/plain": [
       "3"
      ]
     },
     "execution_count": 4,
     "metadata": {},
     "output_type": "execute_result"
    }
   ],
   "source": [
    "32//10"
   ]
  },
  {
   "cell_type": "code",
   "execution_count": 5,
   "metadata": {},
   "outputs": [
    {
     "data": {
      "text/plain": [
       "0"
      ]
     },
     "execution_count": 5,
     "metadata": {},
     "output_type": "execute_result"
    }
   ],
   "source": [
    "3//10"
   ]
  },
  {
   "cell_type": "code",
   "execution_count": 14,
   "metadata": {},
   "outputs": [
    {
     "name": "stdout",
     "output_type": "stream",
     "text": [
      "321 0\n",
      "32 1\n",
      "3 2\n"
     ]
    }
   ],
   "source": [
    "x = 321\n",
    "i = 0\n",
    "while x and i < 5:\n",
    "    print(x, i)\n",
    "    x //= 10\n",
    "    i += 1"
   ]
  },
  {
   "cell_type": "code",
   "execution_count": 26,
   "metadata": {},
   "outputs": [],
   "source": [
    "def reverse(x: int) -> int:\n",
    "    \n",
    "    def reverse_po(x: int) -> int:\n",
    "        ans = 0\n",
    "        while x:\n",
    "            ans = ans*10 + (x%10)\n",
    "            x //= 10\n",
    "        return ans \n",
    "    \n",
    "    if x == 0:\n",
    "        return 0 \n",
    "    if x> 0:\n",
    "        return reverse_po(x)\n",
    "    if x<0:\n",
    "        return -reverse_po(-x)\n",
    "\n",
    "        "
   ]
  },
  {
   "cell_type": "code",
   "execution_count": 27,
   "metadata": {},
   "outputs": [
    {
     "data": {
      "text/plain": [
       "123"
      ]
     },
     "execution_count": 27,
     "metadata": {},
     "output_type": "execute_result"
    }
   ],
   "source": [
    "reverse(321)"
   ]
  },
  {
   "cell_type": "code",
   "execution_count": 28,
   "metadata": {},
   "outputs": [
    {
     "data": {
      "text/plain": [
       "-321"
      ]
     },
     "execution_count": 28,
     "metadata": {},
     "output_type": "execute_result"
    }
   ],
   "source": [
    "reverse(-123)"
   ]
  },
  {
   "cell_type": "code",
   "execution_count": 29,
   "metadata": {},
   "outputs": [
    {
     "data": {
      "text/plain": [
       "21"
      ]
     },
     "execution_count": 29,
     "metadata": {},
     "output_type": "execute_result"
    }
   ],
   "source": [
    "reverse(120)"
   ]
  },
  {
   "cell_type": "markdown",
   "metadata": {},
   "source": [
    "## 8. String to Integer (atoi)\n",
    "\n",
    "Implement atoi which converts a string to an integer. \n",
    "\n",
    "The function first discards as many whitespace characters as necessary until the first non-whitespace character is found. Then, starting from this character, takes an optional initial plus or minus sign followed by as many numerical digits as possible, and interprets them as a numerical value. \n",
    "\n",
    "The string can obtain additional characters after those that from the integral number, which are ignored and have no effect on the behavior of this function. \n",
    "\n",
    "If the first sequence of non-whitespace characters in str is not a valid integral number, or if no such sequence exists because either str is emoty or it contains only whitespace characters, no conversion is performed. \n",
    "\n",
    "If no valid conversion could be performed, a zero value is returned. \n",
    "\n",
    "**Note:**\n",
    "\n",
    "* Only the space character ' ' is considered as whitespace character. \n",
    "\n",
    "* Assume we are dealing with an environment which could only store integers within the 32-bit singed integer range: [-2^32, 2^32-1]. If the numerical value is out of the rang of representable values, INT_MAX (2^31 -1) or INT_MIN (-2^31) is returned. "
   ]
  },
  {
   "cell_type": "code",
   "execution_count": 37,
   "metadata": {},
   "outputs": [],
   "source": [
    "def myAtoi(str:str) -> int:\n",
    "    valid_set = {'0','1','2','3','4','5','6','7','8','9','-'}\n",
    "    ws = ' '\n",
    "    ans = 0\n",
    "    neg = False \n",
    "    for s in str:\n",
    "        if s == ws:\n",
    "            continue\n",
    "        elif s != ws and s not in valid_set:\n",
    "            return 0 \n",
    "        elif s in valid_set:\n",
    "            if s == '-':\n",
    "                neg = True\n",
    "            else:\n",
    "                ans = ans*10 + int(s)\n",
    "    return ans if not neg else -ans "
   ]
  },
  {
   "cell_type": "code",
   "execution_count": 33,
   "metadata": {},
   "outputs": [
    {
     "data": {
      "text/plain": [
       "-42"
      ]
     },
     "execution_count": 33,
     "metadata": {},
     "output_type": "execute_result"
    }
   ],
   "source": [
    "string = \"     -42\"\n",
    "\n",
    "myAtoi(string)"
   ]
  },
  {
   "cell_type": "code",
   "execution_count": 34,
   "metadata": {},
   "outputs": [
    {
     "data": {
      "text/plain": [
       "42"
      ]
     },
     "execution_count": 34,
     "metadata": {},
     "output_type": "execute_result"
    }
   ],
   "source": [
    "string = '42'\n",
    "\n",
    "myAtoi(string)"
   ]
  },
  {
   "cell_type": "code",
   "execution_count": 35,
   "metadata": {},
   "outputs": [
    {
     "data": {
      "text/plain": [
       "0"
      ]
     },
     "execution_count": 35,
     "metadata": {},
     "output_type": "execute_result"
    }
   ],
   "source": [
    "string = \"words and 987\"\n",
    "\n",
    "myAtoi(string)"
   ]
  },
  {
   "cell_type": "code",
   "execution_count": 43,
   "metadata": {},
   "outputs": [
    {
     "data": {
      "text/plain": [
       "0"
      ]
     },
     "execution_count": 43,
     "metadata": {},
     "output_type": "execute_result"
    }
   ],
   "source": [
    "string = \"4193 with words\"\n",
    "\n",
    "myAtoi(string)"
   ]
  },
  {
   "cell_type": "code",
   "execution_count": 46,
   "metadata": {},
   "outputs": [],
   "source": [
    "def myAtoi2(str: str) -> int:\n",
    "    str = str.strip()\n",
    "    res = 0\n",
    "    sign = 1\n",
    "    i = 0 \n",
    "    \n",
    "    if len(str) <2:\n",
    "        return str if str.isdigit() else res\n",
    "    \n",
    "    if str[0] =='-' or str[0] == '+':\n",
    "        sign = -1 if str[0] == '-' else 1\n",
    "        i += 1\n",
    "        \n",
    "    if not str[i].isdigit():\n",
    "        return res\n",
    "    \n",
    "    for j in range(i,len(str)):\n",
    "        if not str[j].isdigit():\n",
    "            break    \n",
    "        res = res * 10 + (ord(str[j]) - ord('0'))\n",
    "        \n",
    "    res = -2147483648 if sign*res < -2147483648 else sign*res\n",
    "    return 2147483647 if res > 2147483647  else res"
   ]
  },
  {
   "cell_type": "code",
   "execution_count": 47,
   "metadata": {},
   "outputs": [
    {
     "data": {
      "text/plain": [
       "4193"
      ]
     },
     "execution_count": 47,
     "metadata": {},
     "output_type": "execute_result"
    }
   ],
   "source": [
    "myAtoi2(string)"
   ]
  },
  {
   "cell_type": "markdown",
   "metadata": {},
   "source": [
    "## 65. Valid Number \n",
    "\n",
    "Validate if a given string an be interpreted as a decimal number. \n",
    "\n",
    "For examples:\n",
    "\n",
    "\"0\" => true\n",
    "\n",
    "\"0.1\" => true\n",
    "\n",
    "\"abc\" => false\n",
    "\n",
    "\"1 a\" => false \n",
    "\n",
    "\"2e10\" => true \n",
    "\n",
    "\"-90e3\" => true \n",
    "\n",
    "\"1e\" => false \n",
    "\n",
    "\"e3\" => false \n",
    "\n",
    "\"6e-1\" => true \n",
    "\n",
    "\"99e2.5\" => false \n",
    "\n",
    "\"53.5e93\" => true \n",
    "\n",
    "\"--6\" => false \n",
    "\n",
    "\"-+3\" => false \n",
    "\n",
    "\"95a54e53\" => false \n",
    "\n",
    "**Note:** \n",
    "\n",
    "It is intended for the problem statement to be ambiguous. You should gather all requirements up fron before implementing one. However, here is a list of characters that can be in valid decimal number:\n",
    "\n",
    "* Numbers 0-9\n",
    "\n",
    "* Exponent - \"e\"\n",
    "\n",
    "* Positive/negative sign - \"+/-\"\n",
    "\n",
    "* Decimal point - \".\""
   ]
  },
  {
   "cell_type": "code",
   "execution_count": null,
   "metadata": {},
   "outputs": [],
   "source": []
  },
  {
   "cell_type": "markdown",
   "metadata": {},
   "source": [
    "## 15. 3Sum\n",
    "\n",
    "Given an array nums of n integers, are there elements a, b, c in nums such that a + b + c = 0? Find all unique triplets in the array which gives the sum of zero. \n",
    "\n",
    "**Note:**\n",
    "The solution set must not contain duplicate triplets. \n",
    "\n",
    "**Example:**\n",
    "\n",
    "Given array nums = [-1, 0, 1, 2, -1, -4],\n",
    "\n",
    "A solution set is:\n",
    "\n",
    "[\n",
    "\n",
    "    [-1, 0, 1],\n",
    "    \n",
    "    [-1, -1, 2]\n",
    "    \n",
    "]"
   ]
  },
  {
   "cell_type": "code",
   "execution_count": 116,
   "metadata": {},
   "outputs": [],
   "source": [
    "def threeSum(nums: list) -> list:\n",
    "    \n",
    "    if not nums:\n",
    "        return []\n",
    "    \n",
    "    ans = set()\n",
    "    \n",
    "    def twoSum(A: list, t) -> list:\n",
    "        if len(A) <= 1:\n",
    "            return []\n",
    "        \n",
    "        ans = []\n",
    "        \n",
    "        i, j = 0, len(A) -1 \n",
    "        \n",
    "        while i < j:\n",
    "            if A[i] + A[j] == t:\n",
    "                ans.append((A[i], A[j]))\n",
    "                i += 1\n",
    "            elif A[i] + A[j] < t:\n",
    "                i += 1\n",
    "            else:\n",
    "                j -= 1\n",
    "        \n",
    "        return ans\n",
    "    \n",
    "    nums.sort()\n",
    "    print(nums)\n",
    "    \n",
    "    for i in range(len(nums)):\n",
    "        if i > 0 and nums[i] == nums[i-1]:\n",
    "            continue \n",
    "        twosumlist = twoSum( nums[i+1:], -nums[i])\n",
    "        for b,c in twosumlist:\n",
    "            new_list = (nums[i], b, c)\n",
    "            print(new_list)\n",
    "            ans.add(new_list)\n",
    "    \n",
    "    return list(ans)\n",
    "                "
   ]
  },
  {
   "cell_type": "code",
   "execution_count": 117,
   "metadata": {},
   "outputs": [
    {
     "name": "stdout",
     "output_type": "stream",
     "text": [
      "[-4, -1, -1, 0, 1, 2]\n",
      "(-1, -1, 2)\n",
      "(-1, 0, 1)\n"
     ]
    },
    {
     "data": {
      "text/plain": [
       "[(-1, -1, 2), (-1, 0, 1)]"
      ]
     },
     "execution_count": 117,
     "metadata": {},
     "output_type": "execute_result"
    }
   ],
   "source": [
    "nums = [-1, 0, 1, 2, -1, -4]\n",
    "\n",
    "threeSum(nums)"
   ]
  },
  {
   "cell_type": "code",
   "execution_count": 64,
   "metadata": {},
   "outputs": [
    {
     "data": {
      "text/plain": [
       "[-4, -1]"
      ]
     },
     "execution_count": 64,
     "metadata": {},
     "output_type": "execute_result"
    }
   ],
   "source": [
    "nums[:2] "
   ]
  },
  {
   "cell_type": "code",
   "execution_count": 65,
   "metadata": {},
   "outputs": [
    {
     "data": {
      "text/plain": [
       "[-1, 0, 1, 2]"
      ]
     },
     "execution_count": 65,
     "metadata": {},
     "output_type": "execute_result"
    }
   ],
   "source": [
    "nums[2:]"
   ]
  },
  {
   "cell_type": "code",
   "execution_count": 66,
   "metadata": {},
   "outputs": [
    {
     "data": {
      "text/plain": [
       "[-4, -1, -1, 0, 1, 2]"
      ]
     },
     "execution_count": 66,
     "metadata": {},
     "output_type": "execute_result"
    }
   ],
   "source": [
    "nums"
   ]
  },
  {
   "cell_type": "code",
   "execution_count": 67,
   "metadata": {},
   "outputs": [
    {
     "data": {
      "text/plain": [
       "-1"
      ]
     },
     "execution_count": 67,
     "metadata": {},
     "output_type": "execute_result"
    }
   ],
   "source": [
    "nums[2]"
   ]
  },
  {
   "cell_type": "code",
   "execution_count": 121,
   "metadata": {},
   "outputs": [],
   "source": [
    "def threeSum2(nums: list) -> list:\n",
    "    \n",
    "    nums.sort()\n",
    "    n = len(nums)\n",
    "    ans = set()\n",
    "    \n",
    "    for i in range(n-2):\n",
    "        if nums[i] > 0:\n",
    "            break \n",
    "        if (i> 0 and nums[i] == nums[i-1]):\n",
    "            continue\n",
    "        l = i+1\n",
    "        r = n-1\n",
    "        \n",
    "        while (l<r):\n",
    "            if (nums[i] + nums[l] + nums[r] == 0):\n",
    "                ans.add((nums[i], nums[l], nums[r]))\n",
    "                l += 1\n",
    "                r -= 1\n",
    "                while (l < r and nums[l] == nums[l-1]):\n",
    "                    l += 1\n",
    "                while (l< r and nums[r] == nums[r+1]):\n",
    "                    r -= 1 \n",
    "            elif (nums[i] + nums[l] + nums[r] < 0):\n",
    "                l += 1\n",
    "            else:\n",
    "                r -= 1\n",
    "    return list(ans)"
   ]
  },
  {
   "cell_type": "code",
   "execution_count": 122,
   "metadata": {},
   "outputs": [
    {
     "data": {
      "text/plain": [
       "[(-1, -1, 2), (-1, 0, 1)]"
      ]
     },
     "execution_count": 122,
     "metadata": {},
     "output_type": "execute_result"
    }
   ],
   "source": [
    "threeSum2(nums)"
   ]
  },
  {
   "cell_type": "markdown",
   "metadata": {},
   "source": [
    "Sorting + Two Pointers \n",
    "\n",
    "Time Complexity: O(n^2 + nlogn)\n",
    "\n",
    "Space Complexity: O(1)"
   ]
  },
  {
   "cell_type": "markdown",
   "metadata": {},
   "source": [
    "## 10. Regular Expression Matching \n",
    "\n",
    "Given an input string (s) and a pattern (p), implement regular expression matching with support for '.' and '*'. \n",
    "\n",
    "* '.' Matches any single character\n",
    "\n",
    "* '*' Matches zero or more of the preceding element. \n",
    "\n",
    "The matching should cover the entire input string (not partial). \n",
    "\n",
    "**Note:**\n",
    "\n",
    "* s could be empty and contains only lowercase letters a-z. \n",
    "\n",
    "* p could be empty and contains only lowercase letters a-z, and characters like '.' and '*'. "
   ]
  },
  {
   "cell_type": "code",
   "execution_count": 123,
   "metadata": {},
   "outputs": [
    {
     "data": {
      "text/plain": [
       "1"
      ]
     },
     "execution_count": 123,
     "metadata": {},
     "output_type": "execute_result"
    }
   ],
   "source": [
    "12//10"
   ]
  },
  {
   "cell_type": "code",
   "execution_count": 124,
   "metadata": {},
   "outputs": [
    {
     "data": {
      "text/plain": [
       "12"
      ]
     },
     "execution_count": 124,
     "metadata": {},
     "output_type": "execute_result"
    }
   ],
   "source": [
    "123//10"
   ]
  },
  {
   "cell_type": "code",
   "execution_count": 125,
   "metadata": {},
   "outputs": [],
   "source": [
    "k = 0\n",
    "number = 123"
   ]
  },
  {
   "cell_type": "code",
   "execution_count": 126,
   "metadata": {},
   "outputs": [],
   "source": [
    "while number:\n",
    "    number //=10\n",
    "    k += 1"
   ]
  },
  {
   "cell_type": "code",
   "execution_count": 127,
   "metadata": {
    "collapsed": true
   },
   "outputs": [
    {
     "data": {
      "text/plain": [
       "3"
      ]
     },
     "execution_count": 127,
     "metadata": {},
     "output_type": "execute_result"
    }
   ],
   "source": [
    "k"
   ]
  },
  {
   "cell_type": "code",
   "execution_count": 128,
   "metadata": {},
   "outputs": [
    {
     "data": {
      "text/plain": [
       "1"
      ]
     },
     "execution_count": 128,
     "metadata": {},
     "output_type": "execute_result"
    }
   ],
   "source": [
    "k % 2"
   ]
  },
  {
   "cell_type": "code",
   "execution_count": 129,
   "metadata": {},
   "outputs": [],
   "source": [
    "count = 0"
   ]
  },
  {
   "cell_type": "markdown",
   "metadata": {},
   "source": [
    "## 697. Degree of an Array\n",
    "\n",
    "Given a non-empty array of non-negative integers nums. the degree of this array is defined as the maximum frequency of any one of its elements. \n",
    "\n",
    "Your task is to find the smallest possible length of a contiguous subarray of nums, that has the same degree as nums. "
   ]
  },
  {
   "cell_type": "code",
   "execution_count": 134,
   "metadata": {},
   "outputs": [],
   "source": [
    "hash_set = {}\n",
    "\n",
    "for i in nums:\n",
    "    if i not in hash_set:\n",
    "        hash_set[i] = 1\n",
    "    else:\n",
    "        hash_set[i] += 1\n",
    "    "
   ]
  },
  {
   "cell_type": "code",
   "execution_count": 140,
   "metadata": {},
   "outputs": [],
   "source": [
    "nums = [1,2,2,3,1]"
   ]
  },
  {
   "cell_type": "code",
   "execution_count": 135,
   "metadata": {},
   "outputs": [
    {
     "name": "stdout",
     "output_type": "stream",
     "text": [
      "{1: 2, 2: 2, 3: 1}\n"
     ]
    }
   ],
   "source": [
    "print(hash_set)"
   ]
  },
  {
   "cell_type": "code",
   "execution_count": 143,
   "metadata": {},
   "outputs": [
    {
     "name": "stdout",
     "output_type": "stream",
     "text": [
      "1\n",
      "2\n",
      "2\n",
      "2\n",
      "3\n",
      "1\n"
     ]
    }
   ],
   "source": [
    "for i in hash_set:\n",
    "    print(i)\n",
    "    print(hash_set[i])"
   ]
  },
  {
   "cell_type": "code",
   "execution_count": 142,
   "metadata": {},
   "outputs": [
    {
     "data": {
      "text/plain": [
       "1"
      ]
     },
     "execution_count": 142,
     "metadata": {},
     "output_type": "execute_result"
    }
   ],
   "source": [
    "most_frequent(nums)"
   ]
  },
  {
   "cell_type": "code",
   "execution_count": 153,
   "metadata": {},
   "outputs": [],
   "source": [
    "def findShortestSubarray(nums: list) -> int:\n",
    "    \n",
    "    hash_set = {}\n",
    "    \n",
    "    for i in nums:\n",
    "        if i not in hash_set:\n",
    "            hash_set[i] = 1\n",
    "        else:\n",
    "            hash_set[i] += 1\n",
    "            \n",
    "    print(hash_set)\n",
    "            \n",
    "    maxf = 0 \n",
    "    \n",
    "    maxe = []\n",
    "    \n",
    "    for i in hash_set:\n",
    "        if hash_set[i] > maxf:\n",
    "            maxf  = hash_set[i] \n",
    "            maxe = [i]\n",
    "        elif hash_set[i] == maxf:\n",
    "            maxe.append(i)\n",
    "        \n",
    "    print('maxe is ')\n",
    "    print(maxe)\n",
    "    \n",
    "    for i in maxe:\n",
    "        print(i)\n",
    "        print(nums.index(i))\n",
    "        \n",
    "        \n",
    "            \n",
    "    "
   ]
  },
  {
   "cell_type": "code",
   "execution_count": 154,
   "metadata": {},
   "outputs": [
    {
     "name": "stdout",
     "output_type": "stream",
     "text": [
      "{1: 2, 2: 2, 3: 1}\n",
      "maxe is \n",
      "[1, 2]\n",
      "1\n",
      "0\n",
      "2\n",
      "1\n"
     ]
    }
   ],
   "source": [
    "findShortestSubarray(nums)"
   ]
  },
  {
   "cell_type": "markdown",
   "metadata": {},
   "source": [
    "## 1281. Substract the Product and Sum of Digits of an integer\n",
    "\n",
    "Given an integer number n, return the difference betwen the product of its digits and the sum of its digits. \n",
    "\n",
    "**Example 1:**\n",
    "\n",
    "Input: n = 234\n",
    "\n",
    "Output: 15 \n",
    "\n",
    "Explanation: \n",
    "\n",
    "Product = 2*3*4 = 24 \n",
    "\n",
    "Sum = 2 + 3 + 4 = 9\n",
    "\n",
    "Result = 24 - 9 = 15\n",
    "\n",
    "**Example 2:**\n",
    "\n",
    "Input: n = 4421 \n",
    "\n",
    "Output: 21 \n",
    "\n",
    "Explanation: \n",
    "\n",
    "Product = 4 * 4 * 2 * 1 = 32 \n",
    "\n",
    "Sum = 4+ 4+ 2+ 1 = 11 \n",
    "\n",
    "Result = 32 - 11 = 21 "
   ]
  },
  {
   "cell_type": "code",
   "execution_count": 1,
   "metadata": {},
   "outputs": [
    {
     "data": {
      "text/plain": [
       "1"
      ]
     },
     "execution_count": 1,
     "metadata": {},
     "output_type": "execute_result"
    }
   ],
   "source": [
    "321 % 10"
   ]
  },
  {
   "cell_type": "code",
   "execution_count": 2,
   "metadata": {},
   "outputs": [],
   "source": [
    "def substractProductAndSum(n: int) -> int:\n",
    "    \n",
    "    digits = []\n",
    "    prod = 1\n",
    "    sum_ = 0 \n",
    "    while n:\n",
    "        digits.append(n%10)\n",
    "        n //=10\n",
    "    print(digits)\n",
    "    for i in digits:\n",
    "        prod *= i\n",
    "        sum_ += i \n",
    "    return (prod - sum_)\n",
    "        "
   ]
  },
  {
   "cell_type": "code",
   "execution_count": 3,
   "metadata": {},
   "outputs": [
    {
     "name": "stdout",
     "output_type": "stream",
     "text": [
      "[1, 2, 3]\n"
     ]
    },
    {
     "data": {
      "text/plain": [
       "0"
      ]
     },
     "execution_count": 3,
     "metadata": {},
     "output_type": "execute_result"
    }
   ],
   "source": [
    "substractProductAndSum(321)"
   ]
  },
  {
   "cell_type": "code",
   "execution_count": 4,
   "metadata": {},
   "outputs": [
    {
     "name": "stdout",
     "output_type": "stream",
     "text": [
      "[4, 3, 2]\n"
     ]
    },
    {
     "data": {
      "text/plain": [
       "15"
      ]
     },
     "execution_count": 4,
     "metadata": {},
     "output_type": "execute_result"
    }
   ],
   "source": [
    "substractProductAndSum(234)"
   ]
  },
  {
   "cell_type": "code",
   "execution_count": 5,
   "metadata": {},
   "outputs": [
    {
     "name": "stdout",
     "output_type": "stream",
     "text": [
      "[1, 2, 4, 4]\n"
     ]
    },
    {
     "data": {
      "text/plain": [
       "21"
      ]
     },
     "execution_count": 5,
     "metadata": {},
     "output_type": "execute_result"
    }
   ],
   "source": [
    "substractProductAndSum(4421)"
   ]
  },
  {
   "cell_type": "markdown",
   "metadata": {},
   "source": [
    "## 12. Integer to Roman \n",
    "\n",
    "Roman numerals are represented by seven different symbols: I, V, X, L, C, D and M. \n",
    "\n",
    "I == 1\n",
    "\n",
    "V == 5\n",
    "\n",
    "X == 10\n",
    "\n",
    "L == 50\n",
    "\n",
    "C == 100\n",
    "\n",
    "D == 500\n",
    "\n",
    "M == 1000\n",
    "\n",
    "For example, two is written as II in Roman numercal, just two one's added together. Twelve is written as, XII, which is simply X + II. The number twenty seven is written as XXVII, which is XX + V + II. \n",
    "\n",
    "Roman numercals are usually written largest to smallest from left to right. However, the numeral for four is not IIII. Instead, the number four is written as IV. Because the one is before the five we substract it making four. The same priciple applies to the number nine, which is written as IX. There are six instances where substraction is used:\n",
    "\n",
    "* I can be placed before V (5) and X (10) to make 4 and 9. \n",
    "\n",
    "* X can be placed before L (50) and C (100) t make 40 and 90. \n",
    "\n",
    "* C can be placed before D (500) and M (1000) to make 400 and 900. \n",
    "\n",
    "Given an integer, convert it to a roman numercal. Input is guaranteed to be within the range from 1 to 3999. "
   ]
  },
  {
   "cell_type": "code",
   "execution_count": 6,
   "metadata": {},
   "outputs": [
    {
     "data": {
      "text/plain": [
       "0"
      ]
     },
     "execution_count": 6,
     "metadata": {},
     "output_type": "execute_result"
    }
   ],
   "source": [
    "300 % 100"
   ]
  },
  {
   "cell_type": "code",
   "execution_count": 20,
   "metadata": {},
   "outputs": [],
   "source": [
    "def intToRoman(num: int) -> str:\n",
    "    intToRomanMap = {\n",
    "        1000: \"M\",\n",
    "        900 : \"CM\",\n",
    "        500: \"D\",\n",
    "        400: \"CD\",\n",
    "        100: \"C\",\n",
    "        90: \"XC\",\n",
    "        50:\"L\",\n",
    "        40:\"XL\",\n",
    "        10:\"X\",\n",
    "        9: \"IX\",\n",
    "        5:\"V\",\n",
    "        4:\"IV\",\n",
    "        1:\"I\"        \n",
    "    }\n",
    "    \n",
    "    roman = \"\"\n",
    "    for key in intToRomanMap:\n",
    "        while (num >= key):\n",
    "            num -= key\n",
    "            roman += intToRomanMap[key]\n",
    "    return roman \n",
    "        \n",
    "                "
   ]
  },
  {
   "cell_type": "code",
   "execution_count": 21,
   "metadata": {},
   "outputs": [
    {
     "data": {
      "text/plain": [
       "'III'"
      ]
     },
     "execution_count": 21,
     "metadata": {},
     "output_type": "execute_result"
    }
   ],
   "source": [
    "intToRoman(3)"
   ]
  },
  {
   "cell_type": "code",
   "execution_count": 22,
   "metadata": {},
   "outputs": [
    {
     "data": {
      "text/plain": [
       "'IV'"
      ]
     },
     "execution_count": 22,
     "metadata": {},
     "output_type": "execute_result"
    }
   ],
   "source": [
    "intToRoman(4)"
   ]
  },
  {
   "cell_type": "code",
   "execution_count": 23,
   "metadata": {},
   "outputs": [
    {
     "data": {
      "text/plain": [
       "'IX'"
      ]
     },
     "execution_count": 23,
     "metadata": {},
     "output_type": "execute_result"
    }
   ],
   "source": [
    "intToRoman(9)"
   ]
  },
  {
   "cell_type": "code",
   "execution_count": 24,
   "metadata": {},
   "outputs": [
    {
     "data": {
      "text/plain": [
       "'LVIII'"
      ]
     },
     "execution_count": 24,
     "metadata": {},
     "output_type": "execute_result"
    }
   ],
   "source": [
    "intToRoman(58)"
   ]
  },
  {
   "cell_type": "code",
   "execution_count": 25,
   "metadata": {},
   "outputs": [
    {
     "data": {
      "text/plain": [
       "'MCMXCIV'"
      ]
     },
     "execution_count": 25,
     "metadata": {},
     "output_type": "execute_result"
    }
   ],
   "source": [
    "intToRoman(1994)"
   ]
  },
  {
   "cell_type": "code",
   "execution_count": 26,
   "metadata": {},
   "outputs": [
    {
     "data": {
      "text/plain": [
       "'MCMXCV'"
      ]
     },
     "execution_count": 26,
     "metadata": {},
     "output_type": "execute_result"
    }
   ],
   "source": [
    "intToRoman(1995)"
   ]
  },
  {
   "cell_type": "markdown",
   "metadata": {},
   "source": [
    "## 13. Roman to Integer \n",
    "\n",
    "Roman numerals are represented by seven different symbols: I, V, X, L, C, D and M.\n",
    "\n",
    "Symbol       Value\n",
    "I             1\n",
    "V             5\n",
    "X             10\n",
    "L             50\n",
    "C             100\n",
    "D             500\n",
    "M             1000\n",
    "For example, two is written as II in Roman numeral, just two one's added together. Twelve is written as, XII, which is simply X + II. The number twenty seven is written as XXVII, which is XX + V + II.\n",
    "\n",
    "Roman numerals are usually written largest to smallest from left to right. However, the numeral for four is not IIII. Instead, the number four is written as IV. Because the one is before the five we subtract it making four. The same principle applies to the number nine, which is written as IX. There are six instances where subtraction is used:\n",
    "\n",
    "I can be placed before V (5) and X (10) to make 4 and 9. \n",
    "X can be placed before L (50) and C (100) to make 40 and 90. \n",
    "C can be placed before D (500) and M (1000) to make 400 and 900.\n",
    "Given a roman numeral, convert it to an integer. Input is guaranteed to be within the range from 1 to 3999.\n",
    "\n",
    "Example 1:\n",
    "\n",
    "Input: \"III\"\n",
    "Output: 3\n",
    "Example 2:\n",
    "\n",
    "Input: \"IV\"\n",
    "Output: 4\n",
    "Example 3:\n",
    "\n",
    "Input: \"IX\"\n",
    "Output: 9\n",
    "Example 4:\n",
    "\n",
    "Input: \"LVIII\"\n",
    "Output: 58\n",
    "Explanation: L = 50, V= 5, III = 3.\n",
    "Example 5:\n",
    "\n",
    "Input: \"MCMXCIV\"\n",
    "Output: 1994\n",
    "Explanation: M = 1000, CM = 900, XC = 90 and IV = 4."
   ]
  },
  {
   "cell_type": "code",
   "execution_count": 27,
   "metadata": {},
   "outputs": [
    {
     "data": {
      "text/plain": [
       "'MC'"
      ]
     },
     "execution_count": 27,
     "metadata": {},
     "output_type": "execute_result"
    }
   ],
   "source": [
    "s = \"MCMXCIV\"\n",
    "\n",
    "s[:2]"
   ]
  },
  {
   "cell_type": "code",
   "execution_count": 28,
   "metadata": {},
   "outputs": [],
   "source": [
    "RomanToIntMap = {\n",
    "    \"M\": 1000,\n",
    "    \"CM\": 900,\n",
    "    \"D\": 500,\n",
    "    \"CD\": 400,\n",
    "    \"C\": 100,\n",
    "    \"XC\": 90,\n",
    "    \"L\": 50,\n",
    "    \"XL\": 40,\n",
    "    \"X\": 10,\n",
    "    \"IX\": 9,\n",
    "    \"V\": 5,\n",
    "    \"IV\": 4,\n",
    "    \"I\": 1\n",
    "}"
   ]
  },
  {
   "cell_type": "code",
   "execution_count": 33,
   "metadata": {},
   "outputs": [
    {
     "data": {
      "text/plain": [
       "True"
      ]
     },
     "execution_count": 33,
     "metadata": {},
     "output_type": "execute_result"
    }
   ],
   "source": [
    "s[1:3] in RomanToIntMap"
   ]
  },
  {
   "cell_type": "code",
   "execution_count": 30,
   "metadata": {},
   "outputs": [
    {
     "data": {
      "text/plain": [
       "1000"
      ]
     },
     "execution_count": 30,
     "metadata": {},
     "output_type": "execute_result"
    }
   ],
   "source": [
    "RomanToIntMap[\"M\"]"
   ]
  },
  {
   "cell_type": "code",
   "execution_count": 32,
   "metadata": {},
   "outputs": [
    {
     "data": {
      "text/plain": [
       "900"
      ]
     },
     "execution_count": 32,
     "metadata": {},
     "output_type": "execute_result"
    }
   ],
   "source": [
    "RomanToIntMap[s[1:3]]"
   ]
  },
  {
   "cell_type": "code",
   "execution_count": 36,
   "metadata": {},
   "outputs": [],
   "source": [
    "def romanToInt(s: str) -> int:\n",
    "        RIMap = {\n",
    "            \"M\": 1000,\n",
    "            \"CM\": 900,\n",
    "            \"D\": 500,\n",
    "            \"CD\": 400,\n",
    "            \"C\": 100,\n",
    "            \"XC\": 90,\n",
    "            \"L\": 50,\n",
    "            \"XL\": 40,\n",
    "            \"X\": 10,\n",
    "            \"IX\": 9,\n",
    "            \"V\": 5,\n",
    "            \"IV\": 4,\n",
    "            \"I\": 1\n",
    "        }\n",
    "        \n",
    "        ans = 0\n",
    "        n = len(s)\n",
    "        i = 0 \n",
    "        while i< n:\n",
    "            if s[i:i+2] in RIMap:\n",
    "                ans += RIMap[s[i:i+2]]\n",
    "                i += 2\n",
    "            else:\n",
    "                ans += RIMap[s[i:i+1]]\n",
    "                i += 1\n",
    "        return ans"
   ]
  },
  {
   "cell_type": "code",
   "execution_count": 37,
   "metadata": {},
   "outputs": [
    {
     "data": {
      "text/plain": [
       "58"
      ]
     },
     "execution_count": 37,
     "metadata": {},
     "output_type": "execute_result"
    }
   ],
   "source": [
    "romanToInt(\"LVIII\")"
   ]
  },
  {
   "cell_type": "code",
   "execution_count": 38,
   "metadata": {},
   "outputs": [
    {
     "data": {
      "text/plain": [
       "1994"
      ]
     },
     "execution_count": 38,
     "metadata": {},
     "output_type": "execute_result"
    }
   ],
   "source": [
    "s = \"MCMXCIV\"\n",
    "\n",
    "romanToInt(s)"
   ]
  },
  {
   "cell_type": "code",
   "execution_count": 39,
   "metadata": {},
   "outputs": [
    {
     "data": {
      "text/plain": [
       "9"
      ]
     },
     "execution_count": 39,
     "metadata": {},
     "output_type": "execute_result"
    }
   ],
   "source": [
    "s = \"IX\"\n",
    "\n",
    "romanToInt(s)"
   ]
  },
  {
   "cell_type": "code",
   "execution_count": null,
   "metadata": {},
   "outputs": [],
   "source": []
  }
 ],
 "metadata": {
  "kernelspec": {
   "display_name": "Python 3",
   "language": "python",
   "name": "python3"
  },
  "language_info": {
   "codemirror_mode": {
    "name": "ipython",
    "version": 3
   },
   "file_extension": ".py",
   "mimetype": "text/x-python",
   "name": "python",
   "nbconvert_exporter": "python",
   "pygments_lexer": "ipython3",
   "version": "3.7.4"
  }
 },
 "nbformat": 4,
 "nbformat_minor": 2
}
