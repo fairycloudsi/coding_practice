{
 "cells": [
  {
   "cell_type": "markdown",
   "metadata": {},
   "source": [
    "## 42. Trapping Rain Water\n",
    "\n",
    "Given n non-negative integers representing an elevation map where the width of each bar is 1, compute how much water it is able to trap after training. \n",
    "\n",
    "**Example:**\n",
    "\n",
    "Input: [0,1,0,2,1,0,1,3,2,1,2,1]\n",
    "\n",
    "Output: 6"
   ]
  },
  {
   "cell_type": "markdown",
   "metadata": {},
   "source": [
    "### 1. Brute Force Method \n",
    "\n",
    "Compute the water trapped at every column i and do the sum. "
   ]
  },
  {
   "cell_type": "code",
   "execution_count": 13,
   "metadata": {},
   "outputs": [],
   "source": [
    "def trap(height: list) -> int:\n",
    "    n = len(height)\n",
    "    ans = 0\n",
    "    sit = 0\n",
    "    eit = n \n",
    "    \n",
    "    for i in range(1,n-1):\n",
    "        print(i)\n",
    "        l = max(height[sit : sit+i+1])\n",
    "        print(l)\n",
    "        r = max(height[sit+i: eit])\n",
    "        print(r)\n",
    "        ans += min(l,r) - height[i]\n",
    "        \n",
    "    return ans\n",
    "\n",
    "    \n",
    "    "
   ]
  },
  {
   "cell_type": "code",
   "execution_count": 14,
   "metadata": {},
   "outputs": [
    {
     "name": "stdout",
     "output_type": "stream",
     "text": [
      "1\n",
      "2\n",
      "2\n"
     ]
    },
    {
     "data": {
      "text/plain": [
       "2"
      ]
     },
     "execution_count": 14,
     "metadata": {},
     "output_type": "execute_result"
    }
   ],
   "source": [
    "height = [2,0,2]\n",
    "\n",
    "trap(height)"
   ]
  },
  {
   "cell_type": "code",
   "execution_count": 7,
   "metadata": {},
   "outputs": [
    {
     "data": {
      "text/plain": [
       "6"
      ]
     },
     "execution_count": 7,
     "metadata": {},
     "output_type": "execute_result"
    }
   ],
   "source": [
    "height = [0, 1, 0, 2, 1, 0, 1, 3, 2, 1, 2, 1]\n",
    "\n",
    "trap(height)"
   ]
  },
  {
   "cell_type": "markdown",
   "metadata": {},
   "source": [
    "Time Complexity: O(n^2)\n",
    "\n",
    "Space Complexity: O(1)"
   ]
  },
  {
   "cell_type": "markdown",
   "metadata": {},
   "source": [
    "### Approach 2: Dynamic Programming "
   ]
  },
  {
   "cell_type": "code",
   "execution_count": 33,
   "metadata": {},
   "outputs": [],
   "source": [
    "def trap_dp(h: list) -> int:\n",
    "    \n",
    "    n = len(h)\n",
    "    ans = 0\n",
    "    l = [h[i] for i in range(n)]\n",
    "    r = [h[i] for i in range(n)]\n",
    "\n",
    "    \n",
    "    for i in range(1,n):\n",
    "        l[i] = max(l[i-1], l[i])\n",
    "    for j in range(n-2,-1,-1):\n",
    "        r[j] = max(r[j+1], r[j])\n",
    "    \n",
    "    print(l)\n",
    "    print(r)\n",
    "    for i in range(1,n-1):\n",
    "        water = min(l[i-1], r[i+1]) - h[i]\n",
    "        print(water)\n",
    "        ans += max(min(l[i-1], r[i+1]) - h[i], 0)\n",
    "        \n",
    "    return ans\n",
    "        "
   ]
  },
  {
   "cell_type": "code",
   "execution_count": 34,
   "metadata": {},
   "outputs": [
    {
     "name": "stdout",
     "output_type": "stream",
     "text": [
      "[0, 1, 1, 2, 2, 2, 2, 3, 3, 3, 3, 3]\n",
      "[3, 3, 3, 3, 3, 3, 3, 3, 2, 2, 2, 1]\n",
      "-1\n",
      "1\n",
      "-1\n",
      "1\n",
      "2\n",
      "1\n",
      "-1\n",
      "0\n",
      "1\n",
      "-1\n"
     ]
    },
    {
     "data": {
      "text/plain": [
       "6"
      ]
     },
     "execution_count": 34,
     "metadata": {},
     "output_type": "execute_result"
    }
   ],
   "source": [
    "trap_dp(height)"
   ]
  },
  {
   "cell_type": "code",
   "execution_count": 25,
   "metadata": {},
   "outputs": [],
   "source": [
    "height = [0, 1, 0, 2, 1, 0, 1, 3, 2, 1, 2, 1]"
   ]
  },
  {
   "cell_type": "code",
   "execution_count": 26,
   "metadata": {},
   "outputs": [
    {
     "name": "stdout",
     "output_type": "stream",
     "text": [
      "[0, 1, 1, 2, 2, 2, 2, 3, 3, 3, 3, 3]\n",
      "[0, 1, 0, 2, 1, 0, 1, 3, 2, 1, 2, 1]\n",
      "-1\n",
      "1\n",
      "-1\n",
      "-1\n",
      "1\n",
      "1\n",
      "-1\n",
      "-1\n",
      "1\n",
      "-1\n"
     ]
    },
    {
     "data": {
      "text/plain": [
       "4"
      ]
     },
     "execution_count": 26,
     "metadata": {},
     "output_type": "execute_result"
    }
   ],
   "source": [
    "trap_dp(height)"
   ]
  },
  {
   "cell_type": "markdown",
   "metadata": {},
   "source": [
    "Time Complexity: O(n)\n",
    "\n",
    "Space Complexity: O(n)"
   ]
  },
  {
   "cell_type": "code",
   "execution_count": 40,
   "metadata": {},
   "outputs": [],
   "source": [
    "def trap_tp(height: list) -> int:\n",
    "    n = len(height)\n",
    "    l = 0 \n",
    "    r = n-1\n",
    "    ans = 0\n",
    "    maxl = height[l]\n",
    "    maxr = height[r]\n",
    "    \n",
    "    while l< r:\n",
    "        if maxl < maxr:\n",
    "            ans += maxl - height[l]\n",
    "            l += 1\n",
    "            maxl = max(maxl, height[l])\n",
    "        else:\n",
    "            ans += maxr - height[r]\n",
    "            r -= 1\n",
    "            maxr = max(maxr, height[r])\n",
    "    return ans\n",
    "        "
   ]
  },
  {
   "cell_type": "code",
   "execution_count": 41,
   "metadata": {},
   "outputs": [
    {
     "data": {
      "text/plain": [
       "6"
      ]
     },
     "execution_count": 41,
     "metadata": {},
     "output_type": "execute_result"
    }
   ],
   "source": [
    "trap_tp(height)"
   ]
  },
  {
   "cell_type": "markdown",
   "metadata": {},
   "source": [
    "Time Complexity: O(n)\n",
    "\n",
    "Space Complexity: O(1)"
   ]
  },
  {
   "cell_type": "markdown",
   "metadata": {},
   "source": [
    "## 10. Regression Expression Matching\n",
    "\n",
    "Given an input string (s) and a pattern (p), implement regular expression matching with support for '.' and '*'. \n",
    "\n",
    "* '.' Matches any single character. \n",
    "\n",
    "* '*' Matches zero or more of the preceding element. \n",
    "\n",
    "The matching should cover the entire input string (not partial). "
   ]
  },
  {
   "cell_type": "code",
   "execution_count": 42,
   "metadata": {},
   "outputs": [],
   "source": [
    "match = [[False for _ in range(4)] for _ in range(5)]"
   ]
  },
  {
   "cell_type": "code",
   "execution_count": 45,
   "metadata": {},
   "outputs": [
    {
     "name": "stdout",
     "output_type": "stream",
     "text": [
      "False\n",
      "False\n",
      "False\n",
      "False\n",
      "False\n",
      "False\n",
      "False\n",
      "False\n",
      "False\n",
      "False\n",
      "False\n",
      "False\n",
      "False\n",
      "False\n",
      "False\n",
      "False\n",
      "False\n",
      "False\n",
      "False\n",
      "False\n"
     ]
    }
   ],
   "source": [
    "for i in range(4):\n",
    "    for j in range(5):\n",
    "        print(match[j][i])"
   ]
  },
  {
   "cell_type": "code",
   "execution_count": 68,
   "metadata": {},
   "outputs": [],
   "source": [
    "def isMatch(s: str, p: str) -> bool:\n",
    "    \n",
    "    if not s or not p:\n",
    "        return False \n",
    "    \n",
    "    n = len(s)\n",
    "    m = len(p)\n",
    "    \n",
    "    match = [[False for _ in range(n+1)] for _ in range(m+1)]\n",
    "    \n",
    "    match[0][0] = True\n",
    "    \n",
    "    for i in range(1,m+1):\n",
    "#         print(i)\n",
    "        if p[i-1] == '*' and i >= 2:\n",
    "            match[i][0] = match[i-2][0]\n",
    "    \n",
    "    for i in range(1, n+1):\n",
    "        for j in range(1, m+1):\n",
    "            if p[j-1] == '.' or p[j-1] == s[i-1]:\n",
    "                match[j][i] = match[j-1][i-1]\n",
    "            elif p[j-1] == '*':\n",
    "                if p[j-2] == s[i-1] or p[j-2] == '.':\n",
    "                    match[j][i] = match[j][i-2] or match[j-1][i]\n",
    "                else:\n",
    "                    match[j][i] = match[j][i-2] \n",
    "    print(match)\n",
    "    return match[m][n]"
   ]
  },
  {
   "cell_type": "code",
   "execution_count": 69,
   "metadata": {},
   "outputs": [
    {
     "name": "stdout",
     "output_type": "stream",
     "text": [
      "[[True, False, False], [False, True, False]]\n"
     ]
    },
    {
     "data": {
      "text/plain": [
       "False"
      ]
     },
     "execution_count": 69,
     "metadata": {},
     "output_type": "execute_result"
    }
   ],
   "source": [
    "s = 'aa'\n",
    "p = 'a'\n",
    "\n",
    "isMatch(s,p)"
   ]
  },
  {
   "cell_type": "code",
   "execution_count": 71,
   "metadata": {},
   "outputs": [
    {
     "name": "stdout",
     "output_type": "stream",
     "text": [
      "[[True, False, False, False, False, False, False, False, False, False, False, False], [False, True, False, False, False, False, False, False, False, False, False, False], [False, False, True, False, False, False, False, False, False, False, False, False], [False, False, False, True, False, False, False, False, False, False, False, False], [False, False, False, True, False, True, False, True, False, True, False, True], [False, False, False, False, False, False, False, False, True, False, False, False], [False, False, False, False, False, False, False, False, False, False, False, False], [False, False, False, False, False, False, False, False, False, False, False, False], [False, False, False, False, False, False, False, False, False, False, False, False], [False, False, False, False, False, False, False, False, False, False, False, False], [False, False, False, False, False, False, False, False, False, False, False, False]]\n"
     ]
    },
    {
     "data": {
      "text/plain": [
       "False"
      ]
     },
     "execution_count": 71,
     "metadata": {},
     "output_type": "execute_result"
    }
   ],
   "source": [
    "s = \"mississippi\"\n",
    "p = \"mis*is*p*.\"\n",
    "\n",
    "isMatch(s,p)"
   ]
  },
  {
   "cell_type": "code",
   "execution_count": null,
   "metadata": {},
   "outputs": [],
   "source": [
    "s = \"mississippi\"\n",
    "p = \"mis*is*ip*.\"\n",
    "\n",
    "isMatch"
   ]
  },
  {
   "cell_type": "markdown",
   "metadata": {},
   "source": [
    "Time Complexity: O(mn)\n",
    "\n",
    "Space Complexity: O(mn)"
   ]
  },
  {
   "cell_type": "code",
   "execution_count": null,
   "metadata": {},
   "outputs": [],
   "source": []
  }
 ],
 "metadata": {
  "kernelspec": {
   "display_name": "Python 3",
   "language": "python",
   "name": "python3"
  },
  "language_info": {
   "codemirror_mode": {
    "name": "ipython",
    "version": 3
   },
   "file_extension": ".py",
   "mimetype": "text/x-python",
   "name": "python",
   "nbconvert_exporter": "python",
   "pygments_lexer": "ipython3",
   "version": "3.7.4"
  }
 },
 "nbformat": 4,
 "nbformat_minor": 2
}
