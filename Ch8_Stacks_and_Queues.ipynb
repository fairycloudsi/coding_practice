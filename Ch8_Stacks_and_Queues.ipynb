{
 "cells": [
  {
   "cell_type": "markdown",
   "metadata": {},
   "source": [
    "## 8.1 Implement a Stack with Max API\n",
    "\n",
    "Design a stach taht includes a max operation, in addition to push and pop. The max method should return the maximum value stored in the stack. Hint: Use additional storage to track the maximum value. "
   ]
  },
  {
   "cell_type": "markdown",
   "metadata": {},
   "source": [
    "**Sol:** Suppose we use a single auxiliary variable, M, to record the element that is maximum in the stack. Updating M on pushes is easy: M= max(M,e), where e is the element being pushed. \n",
    "\n",
    "However, updating M on opo is very time consuming. If M is the element being popped, we have no way of knowing what the maximum remaining element is, and are forced to consider all the remining elements. \n",
    "\n",
    "We can dramatically improve on the time complexity of poping by caching, in essence, trading time for space. Specifically, for each entry in the stack, we cache the maximum stored at or below that entry. Now when we pop, we evict the corresponding cached value. "
   ]
  },
  {
   "cell_type": "code",
   "execution_count": 2,
   "metadata": {},
   "outputs": [],
   "source": [
    "import collections"
   ]
  },
  {
   "cell_type": "code",
   "execution_count": 3,
   "metadata": {},
   "outputs": [],
   "source": [
    "class Stack:\n",
    "    ElementWithCachedMax = collections.namedtuple('ElementWithCachedMax', \n",
    "                                                  ('element', 'max'))\n",
    "    \n",
    "    \n",
    "    def __init__(self) -> None:\n",
    "        self._element_with_cached_max: List[Stack.ElementWithCachedMax] = []\n",
    "    \n",
    "    def empty(self) -> bool:\n",
    "        return len(self._element_with_cached_max) == 0\n",
    "    \n",
    "    def max(self) -> int:\n",
    "        return self._element_with_cached_max[-1].max\n",
    "    \n",
    "    def pop(self) -> int:\n",
    "        return self._element_with_cached_max.pop().element\n",
    "    \n",
    "    def push(self, x: int) -> None:\n",
    "        self._element_with_cached_max.append(\n",
    "         self.ElementWithCachedMax(x, x if self.empty() else max(x, self.max())))"
   ]
  },
  {
   "cell_type": "markdown",
   "metadata": {},
   "source": [
    "Each of the specified methods has time complexity O(1). The additional space complexity is O(n) regardless of the stored keys. "
   ]
  },
  {
   "cell_type": "code",
   "execution_count": 25,
   "metadata": {},
   "outputs": [],
   "source": [
    "A = Stack()"
   ]
  },
  {
   "cell_type": "code",
   "execution_count": 26,
   "metadata": {},
   "outputs": [],
   "source": [
    "A.push(1)"
   ]
  },
  {
   "cell_type": "code",
   "execution_count": 27,
   "metadata": {},
   "outputs": [],
   "source": [
    "A.push(5)\n",
    "A.push(0)\n",
    "A.push(1)\n",
    "A.push(2)\n",
    "A.push(2)"
   ]
  },
  {
   "cell_type": "code",
   "execution_count": 8,
   "metadata": {},
   "outputs": [
    {
     "data": {
      "text/plain": [
       "2"
      ]
     },
     "execution_count": 8,
     "metadata": {},
     "output_type": "execute_result"
    }
   ],
   "source": [
    "A.pop()"
   ]
  },
  {
   "cell_type": "code",
   "execution_count": 10,
   "metadata": {},
   "outputs": [
    {
     "data": {
      "text/plain": [
       "5"
      ]
     },
     "execution_count": 10,
     "metadata": {},
     "output_type": "execute_result"
    }
   ],
   "source": [
    "A.max()"
   ]
  },
  {
   "cell_type": "code",
   "execution_count": 11,
   "metadata": {},
   "outputs": [
    {
     "data": {
      "text/plain": [
       "2"
      ]
     },
     "execution_count": 11,
     "metadata": {},
     "output_type": "execute_result"
    }
   ],
   "source": [
    "A.pop()"
   ]
  },
  {
   "cell_type": "code",
   "execution_count": 12,
   "metadata": {},
   "outputs": [
    {
     "data": {
      "text/plain": [
       "5"
      ]
     },
     "execution_count": 12,
     "metadata": {},
     "output_type": "execute_result"
    }
   ],
   "source": [
    "A.max()"
   ]
  },
  {
   "cell_type": "code",
   "execution_count": 29,
   "metadata": {},
   "outputs": [],
   "source": [
    "def print_stack(A: Stack) -> None:\n",
    "    while A.empty() is False:\n",
    "        print(A.pop())"
   ]
  },
  {
   "cell_type": "code",
   "execution_count": 30,
   "metadata": {},
   "outputs": [
    {
     "name": "stdout",
     "output_type": "stream",
     "text": [
      "2\n",
      "2\n",
      "1\n",
      "0\n",
      "5\n",
      "1\n"
     ]
    }
   ],
   "source": [
    "print_stack(A)"
   ]
  },
  {
   "cell_type": "markdown",
   "metadata": {},
   "source": [
    "## 8.2 Evaluate RPN Expressions \n",
    "\n",
    "A string is said to be an arithmetical expression in Reverse Polish notation (RPN) if: \n",
    "\n",
    "* It is a single digit or a sequence of digits, prefixed with an option -, e.g.m \"6\", \"123\", \"-42\". \n",
    "* It is of the form \"A, B, o\" where A, B are RPN expressions and o is one of \"+,-,$\\times$, /\"\n",
    "\n",
    "An RPN expression can be evaluated uniquely to an integer, which is determined recursively. The base case corresponds to Rule(1.), which is an integer expressed in base-10 positional system. Rule(2.) on the preceding pagecorresponds to the recursive case, and the RPNs are evaluated in the natural way.\n",
    "\n",
    "Write a program that takes an arithmetical expression in RPN and returns the number that the expression evaluates to. "
   ]
  },
  {
   "cell_type": "code",
   "execution_count": 46,
   "metadata": {},
   "outputs": [],
   "source": [
    "def evaluate(expression: str) -> int:\n",
    "    intermediate_results: List[int] = []\n",
    "    delimiter = ','\n",
    "    operator = {\n",
    "        '+': lambda y, x: x + y, '-': lambda y, x: x - y,\n",
    "        '*': lambda y, x: x*y , '/': lambda y, x: x // y\n",
    "    }\n",
    "    \n",
    "    for token in expression.split(delimiter):\n",
    "        if token in operator:\n",
    "            intermediate_results.append(operator[token](\n",
    "                intermediate_results.pop(), intermediate_results.pop()))\n",
    "        else: # token is a number \n",
    "            intermediate_results.append(int(token))\n",
    "    return intermediate_results[-1]"
   ]
  },
  {
   "cell_type": "code",
   "execution_count": 40,
   "metadata": {},
   "outputs": [],
   "source": [
    "a = '3,4,+,2,*,1,+'"
   ]
  },
  {
   "cell_type": "code",
   "execution_count": 43,
   "metadata": {},
   "outputs": [
    {
     "name": "stdout",
     "output_type": "stream",
     "text": [
      "3\n",
      "4\n",
      "+\n",
      "2\n",
      "*\n",
      "1\n",
      "+\n"
     ]
    }
   ],
   "source": [
    "delimiter = ','\n",
    "for i in a.split(delimiter):\n",
    "    print(i)"
   ]
  },
  {
   "cell_type": "code",
   "execution_count": 47,
   "metadata": {},
   "outputs": [
    {
     "data": {
      "text/plain": [
       "15"
      ]
     },
     "execution_count": 47,
     "metadata": {},
     "output_type": "execute_result"
    }
   ],
   "source": [
    "evaluate(a)"
   ]
  },
  {
   "cell_type": "code",
   "execution_count": 52,
   "metadata": {},
   "outputs": [],
   "source": [
    "operator = {\n",
    "    '+': lambda y, x: x + y, '-': lambda y, x: x - y,\n",
    "    '*': lambda y, x: x * y, '/': lambda y, x: x /y\n",
    "}"
   ]
  },
  {
   "cell_type": "code",
   "execution_count": 53,
   "metadata": {},
   "outputs": [
    {
     "data": {
      "text/plain": [
       "8"
      ]
     },
     "execution_count": 53,
     "metadata": {},
     "output_type": "execute_result"
    }
   ],
   "source": [
    "operator['+'](5,3)"
   ]
  },
  {
   "cell_type": "code",
   "execution_count": 54,
   "metadata": {},
   "outputs": [
    {
     "data": {
      "text/plain": [
       "0.6"
      ]
     },
     "execution_count": 54,
     "metadata": {},
     "output_type": "execute_result"
    }
   ],
   "source": [
    "operator['/'](5,3)"
   ]
  },
  {
   "cell_type": "markdown",
   "metadata": {},
   "source": [
    "Since we perform O(1) computation per character of the string, the time complexity is O(n), where n is the length of the string. \n",
    "\n",
    "**Variant:** Solve the same problem for expressions in Polish notation, i.e. when A, B, o is replaced by o, A, B in Rule (2.) on the facing page. "
   ]
  },
  {
   "cell_type": "markdown",
   "metadata": {},
   "source": [
    "## 8.3 Is a String Well-formed?\n",
    "\n",
    "A string over the characters \"{,},[,],(,)\" is said to be well-formed if the different types of brackets match in the correct order. \n",
    "\n",
    "Write a program that tests if a string made up of the characters '(',')','[',']','{','}'is well-formed. "
   ]
  },
  {
   "cell_type": "code",
   "execution_count": 57,
   "metadata": {},
   "outputs": [],
   "source": [
    "def is_well_formed(s: str) -> bool:\n",
    "    left_chars, lookup = [], {'(': ')', '{': '}', '[':']'}\n",
    "    for c in s:\n",
    "        if c in lookup:\n",
    "            left_chars.append(c)\n",
    "        elif not left_chars or lookup[left_chars.pop()] != c:\n",
    "            # Unmatched right char or mismatched chars\n",
    "            return False\n",
    "    return not left_chars"
   ]
  },
  {
   "cell_type": "code",
   "execution_count": 58,
   "metadata": {},
   "outputs": [
    {
     "data": {
      "text/plain": [
       "False"
      ]
     },
     "execution_count": 58,
     "metadata": {},
     "output_type": "execute_result"
    }
   ],
   "source": [
    "s = '{[]][[]]}'\n",
    "is_well_formed(s)"
   ]
  },
  {
   "cell_type": "code",
   "execution_count": 59,
   "metadata": {},
   "outputs": [
    {
     "data": {
      "text/plain": [
       "True"
      ]
     },
     "execution_count": 59,
     "metadata": {},
     "output_type": "execute_result"
    }
   ],
   "source": [
    "s= '({[][]}())'\n",
    "is_well_formed(s)"
   ]
  },
  {
   "cell_type": "markdown",
   "metadata": {},
   "source": [
    "The time complexity is O(n) since for each character we perform O(1) operations. "
   ]
  },
  {
   "cell_type": "markdown",
   "metadata": {},
   "source": [
    "## 8.4 Normalize Pathnames \n",
    "\n",
    "A file or directory can be specified via a string called pathname. This string may specify an absolute path, starting from the root, e.g.,/usr/bin/gcc, or a path relative to the current working directory, e.g., scripts/awkscripts.\n",
    "\n",
    "Write a program which takes a pathname, and returns the shortest equivalent pathname. Assume individual directories and files have names that use only alphanumeric characters. Subdirectory names may be combined using forward slashes (/), the current directory (.) and parent directory (..). "
   ]
  },
  {
   "cell_type": "code",
   "execution_count": 61,
   "metadata": {},
   "outputs": [],
   "source": [
    "def shortest_equivalent_path(path: str) -> str:\n",
    "    if not path:\n",
    "        raise ValueError('Empty string is not a valid path.')\n",
    "    \n",
    "    path_names = [] # Use list as a stack.\n",
    "    # Special case: starts with '/', which is an aboslute path.\n",
    "    if path[0] == '/':\n",
    "        path_names.append('/')\n",
    "    \n",
    "    for token in (token for token in path.split('/')\n",
    "                  if token not in ['.', '']):\n",
    "        if token == '..':\n",
    "            if not path_names or path_names == '..':\n",
    "                path_names.append(token)\n",
    "            else:\n",
    "                if path_names[-1] == '/':\n",
    "                    raise ValueError('Path Error')\n",
    "                path_names.pop()\n",
    "        else: # Must be a name\n",
    "            path_names.append(token)\n",
    "    \n",
    "    \n",
    "    result = '/'.join(path_names)\n",
    "    return result[result.startswith('//'):] # Avoid starting with '//'"
   ]
  },
  {
   "cell_type": "code",
   "execution_count": 63,
   "metadata": {},
   "outputs": [
    {
     "data": {
      "text/plain": [
       "'tc/awk'"
      ]
     },
     "execution_count": 63,
     "metadata": {},
     "output_type": "execute_result"
    }
   ],
   "source": [
    "path = 'sc//./../tc/awk/././'\n",
    "shortest_equivalent_path(path)"
   ]
  },
  {
   "cell_type": "code",
   "execution_count": 64,
   "metadata": {},
   "outputs": [
    {
     "data": {
      "text/plain": [
       "'/usr/lib/gcc'"
      ]
     },
     "execution_count": 64,
     "metadata": {},
     "output_type": "execute_result"
    }
   ],
   "source": [
    "path = '/usr/bin/../lib/gcc'\n",
    "shortest_equivalent_path(path)"
   ]
  },
  {
   "cell_type": "code",
   "execution_count": 66,
   "metadata": {},
   "outputs": [
    {
     "data": {
      "text/plain": [
       "'scripts/awkscrits'"
      ]
     },
     "execution_count": 66,
     "metadata": {},
     "output_type": "execute_result"
    }
   ],
   "source": [
    "path = 'scripts//./../scripts/awkscrits/././'\n",
    "shortest_equivalent_path(path)"
   ]
  },
  {
   "cell_type": "markdown",
   "metadata": {},
   "source": [
    "The time complexity is O(n), where n is the length of the pathname. "
   ]
  },
  {
   "cell_type": "markdown",
   "metadata": {},
   "source": [
    "## 8.5 Compute Building with a Sunset View \n",
    "\n",
    "You are given a series of buildings that have windows facing west. The buildings are in a straight line, and any building which is to the east of a building of equal or greater height cannot view the sunset. \n",
    "\n",
    "Design an algorithm that processes buildings in east-to-west order and returns the set of buildings which view the sunset. Each buildings is specified by its height. \n",
    "\n",
    "**Sol:** A brute-force approach is to store all buildings in an array. We then do a reverse scan of this array, tracking the running maximum. Any building whose height is less than or equal to the running maximum does not have a sunset view. \n",
    "\n",
    "The time and space complexity are both O(n), where n is the number of buildings. \n",
    "\n",
    "If a new buidlings is shorter than a building in the current set, then all buildings in the current set which are further to the east cannot be blocked by the new building. This suggests keeping the buildings in a last-in, first-out manner, so that we can terminate earlier. \n",
    "\n",
    "Specifically, we use a stack to record buildings that have a view. Each time a building b is processed, if it is taller than the building at the top of the stack, wepop the stack unitl the top of the stack is taller than b--all the buildings thus removed lie to the east of a taller building. \n",
    "\n",
    "Althouhg some individual steps may require many pops, each building is pushed and popped at most once. Therefore, the run time to process n buildings is O(n), and the stack always holds precisely the buildings which currently have a view. \n",
    "\n",
    "The memory used is O(n), and the bound is tight, even when only one building has a view--consider the input where the west-most building is the tallest, and the remaining n-1 buildings decrease in height from east to west. However, in the best-case, e.g., when buildings appear in increasing height, we use O(1) space. In contrast, the brute-force approach always uses O(n) space. "
   ]
  },
  {
   "cell_type": "code",
   "execution_count": 68,
   "metadata": {},
   "outputs": [],
   "source": [
    "def examine_buildings_with_sunset(sequence) -> list:\n",
    "    BuildingWithHeight = collections.namedtuple('BuildingWithHeight',\n",
    "                                               ('id', 'height'))\n",
    "    candidates: List[BuildingWithHeight] = []\n",
    "    for building_idx, building_height in enumerate(sequence):\n",
    "        while candidates and building_height >= candidates[-1].height:\n",
    "            candidates.pop()\n",
    "        candidates.append(BuildingWithHeight(building_idx, building_height))\n",
    "    return [c.id for c in reversed(candidates)]"
   ]
  },
  {
   "cell_type": "code",
   "execution_count": null,
   "metadata": {},
   "outputs": [],
   "source": []
  }
 ],
 "metadata": {
  "kernelspec": {
   "display_name": "Python 3",
   "language": "python",
   "name": "python3"
  },
  "language_info": {
   "codemirror_mode": {
    "name": "ipython",
    "version": 3
   },
   "file_extension": ".py",
   "mimetype": "text/x-python",
   "name": "python",
   "nbconvert_exporter": "python",
   "pygments_lexer": "ipython3",
   "version": "3.6.5"
  }
 },
 "nbformat": 4,
 "nbformat_minor": 2
}
