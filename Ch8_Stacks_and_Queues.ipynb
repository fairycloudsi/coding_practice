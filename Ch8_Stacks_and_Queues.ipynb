{
 "cells": [
  {
   "cell_type": "markdown",
   "metadata": {},
   "source": [
    "# Stacks"
   ]
  },
  {
   "cell_type": "markdown",
   "metadata": {},
   "source": [
    "## 8.1 Implement a Stack with Max API\n",
    "\n",
    "Design a stach taht includes a max operation, in addition to push and pop. The max method should return the maximum value stored in the stack. Hint: Use additional storage to track the maximum value. "
   ]
  },
  {
   "cell_type": "markdown",
   "metadata": {},
   "source": [
    "**Sol:** Suppose we use a single auxiliary variable, M, to record the element that is maximum in the stack. Updating M on pushes is easy: M= max(M,e), where e is the element being pushed. \n",
    "\n",
    "However, updating M on opo is very time consuming. If M is the element being popped, we have no way of knowing what the maximum remaining element is, and are forced to consider all the remining elements. \n",
    "\n",
    "We can dramatically improve on the time complexity of poping by caching, in essence, trading time for space. Specifically, for each entry in the stack, we cache the maximum stored at or below that entry. Now when we pop, we evict the corresponding cached value. "
   ]
  },
  {
   "cell_type": "code",
   "execution_count": 1,
   "metadata": {},
   "outputs": [],
   "source": [
    "import collections"
   ]
  },
  {
   "cell_type": "code",
   "execution_count": 2,
   "metadata": {},
   "outputs": [],
   "source": [
    "class Stack:\n",
    "    ElementWithCachedMax = collections.namedtuple('ElementWithCachedMax', \n",
    "                                                  ('element', 'max'))\n",
    "    \n",
    "    \n",
    "    def __init__(self) -> None:\n",
    "        self._element_with_cached_max: List[Stack.ElementWithCachedMax] = []\n",
    "    \n",
    "    def empty(self) -> bool:\n",
    "        return len(self._element_with_cached_max) == 0\n",
    "    \n",
    "    def max(self) -> int:\n",
    "        return self._element_with_cached_max[-1].max\n",
    "    \n",
    "    def pop(self) -> int:\n",
    "        return self._element_with_cached_max.pop().element\n",
    "    \n",
    "    def push(self, x: int) -> None:\n",
    "        self._element_with_cached_max.append(\n",
    "         self.ElementWithCachedMax(x, x if self.empty() else max(x, self.max())))"
   ]
  },
  {
   "cell_type": "markdown",
   "metadata": {},
   "source": [
    "Each of the specified methods has time complexity O(1). The additional space complexity is O(n) regardless of the stored keys. "
   ]
  },
  {
   "cell_type": "code",
   "execution_count": 3,
   "metadata": {},
   "outputs": [],
   "source": [
    "A = Stack()"
   ]
  },
  {
   "cell_type": "code",
   "execution_count": 4,
   "metadata": {},
   "outputs": [],
   "source": [
    "A.push(1)"
   ]
  },
  {
   "cell_type": "code",
   "execution_count": 5,
   "metadata": {},
   "outputs": [],
   "source": [
    "A.push(5)\n",
    "A.push(0)\n",
    "A.push(1)\n",
    "A.push(2)\n",
    "A.push(2)"
   ]
  },
  {
   "cell_type": "code",
   "execution_count": 6,
   "metadata": {},
   "outputs": [
    {
     "data": {
      "text/plain": [
       "2"
      ]
     },
     "execution_count": 6,
     "metadata": {},
     "output_type": "execute_result"
    }
   ],
   "source": [
    "A.pop()"
   ]
  },
  {
   "cell_type": "code",
   "execution_count": 7,
   "metadata": {},
   "outputs": [
    {
     "data": {
      "text/plain": [
       "5"
      ]
     },
     "execution_count": 7,
     "metadata": {},
     "output_type": "execute_result"
    }
   ],
   "source": [
    "A.max()"
   ]
  },
  {
   "cell_type": "code",
   "execution_count": 8,
   "metadata": {},
   "outputs": [
    {
     "data": {
      "text/plain": [
       "2"
      ]
     },
     "execution_count": 8,
     "metadata": {},
     "output_type": "execute_result"
    }
   ],
   "source": [
    "A.pop()"
   ]
  },
  {
   "cell_type": "code",
   "execution_count": 9,
   "metadata": {},
   "outputs": [
    {
     "data": {
      "text/plain": [
       "5"
      ]
     },
     "execution_count": 9,
     "metadata": {},
     "output_type": "execute_result"
    }
   ],
   "source": [
    "A.max()"
   ]
  },
  {
   "cell_type": "code",
   "execution_count": 10,
   "metadata": {},
   "outputs": [],
   "source": [
    "def print_stack(A: Stack) -> None:\n",
    "    while A.empty() is False:\n",
    "        print(A.pop())"
   ]
  },
  {
   "cell_type": "code",
   "execution_count": 11,
   "metadata": {},
   "outputs": [
    {
     "name": "stdout",
     "output_type": "stream",
     "text": [
      "1\n",
      "0\n",
      "5\n",
      "1\n"
     ]
    }
   ],
   "source": [
    "print_stack(A)"
   ]
  },
  {
   "cell_type": "markdown",
   "metadata": {},
   "source": [
    "## 8.2 Evaluate RPN Expressions \n",
    "\n",
    "A string is said to be an arithmetical expression in Reverse Polish notation (RPN) if: \n",
    "\n",
    "* It is a single digit or a sequence of digits, prefixed with an option -, e.g.m \"6\", \"123\", \"-42\". \n",
    "* It is of the form \"A, B, o\" where A, B are RPN expressions and o is one of \"+,-,$\\times$, /\"\n",
    "\n",
    "An RPN expression can be evaluated uniquely to an integer, which is determined recursively. The base case corresponds to Rule(1.), which is an integer expressed in base-10 positional system. Rule(2.) on the preceding pagecorresponds to the recursive case, and the RPNs are evaluated in the natural way.\n",
    "\n",
    "Write a program that takes an arithmetical expression in RPN and returns the number that the expression evaluates to. "
   ]
  },
  {
   "cell_type": "code",
   "execution_count": 46,
   "metadata": {},
   "outputs": [],
   "source": [
    "def evaluate(expression: str) -> int:\n",
    "    intermediate_results: List[int] = []\n",
    "    delimiter = ','\n",
    "    operator = {\n",
    "        '+': lambda y, x: x + y, '-': lambda y, x: x - y,\n",
    "        '*': lambda y, x: x*y , '/': lambda y, x: x // y\n",
    "    }\n",
    "    \n",
    "    for token in expression.split(delimiter):\n",
    "        if token in operator:\n",
    "            intermediate_results.append(operator[token](\n",
    "                intermediate_results.pop(), intermediate_results.pop()))\n",
    "        else: # token is a number \n",
    "            intermediate_results.append(int(token))\n",
    "    return intermediate_results[-1]"
   ]
  },
  {
   "cell_type": "code",
   "execution_count": 40,
   "metadata": {},
   "outputs": [],
   "source": [
    "a = '3,4,+,2,*,1,+'"
   ]
  },
  {
   "cell_type": "code",
   "execution_count": 43,
   "metadata": {},
   "outputs": [
    {
     "name": "stdout",
     "output_type": "stream",
     "text": [
      "3\n",
      "4\n",
      "+\n",
      "2\n",
      "*\n",
      "1\n",
      "+\n"
     ]
    }
   ],
   "source": [
    "delimiter = ','\n",
    "for i in a.split(delimiter):\n",
    "    print(i)"
   ]
  },
  {
   "cell_type": "code",
   "execution_count": 47,
   "metadata": {},
   "outputs": [
    {
     "data": {
      "text/plain": [
       "15"
      ]
     },
     "execution_count": 47,
     "metadata": {},
     "output_type": "execute_result"
    }
   ],
   "source": [
    "evaluate(a)"
   ]
  },
  {
   "cell_type": "code",
   "execution_count": 52,
   "metadata": {},
   "outputs": [],
   "source": [
    "operator = {\n",
    "    '+': lambda y, x: x + y, '-': lambda y, x: x - y,\n",
    "    '*': lambda y, x: x * y, '/': lambda y, x: x /y\n",
    "}"
   ]
  },
  {
   "cell_type": "code",
   "execution_count": 53,
   "metadata": {},
   "outputs": [
    {
     "data": {
      "text/plain": [
       "8"
      ]
     },
     "execution_count": 53,
     "metadata": {},
     "output_type": "execute_result"
    }
   ],
   "source": [
    "operator['+'](5,3)"
   ]
  },
  {
   "cell_type": "code",
   "execution_count": 54,
   "metadata": {},
   "outputs": [
    {
     "data": {
      "text/plain": [
       "0.6"
      ]
     },
     "execution_count": 54,
     "metadata": {},
     "output_type": "execute_result"
    }
   ],
   "source": [
    "operator['/'](5,3)"
   ]
  },
  {
   "cell_type": "markdown",
   "metadata": {},
   "source": [
    "Since we perform O(1) computation per character of the string, the time complexity is O(n), where n is the length of the string. \n",
    "\n",
    "**Variant:** Solve the same problem for expressions in Polish notation, i.e. when A, B, o is replaced by o, A, B in Rule (2.) on the facing page. "
   ]
  },
  {
   "cell_type": "markdown",
   "metadata": {},
   "source": [
    "## 8.3 Is a String Well-formed?\n",
    "\n",
    "A string over the characters \"{,},[,],(,)\" is said to be well-formed if the different types of brackets match in the correct order. \n",
    "\n",
    "Write a program that tests if a string made up of the characters '(',')','[',']','{','}'is well-formed. "
   ]
  },
  {
   "cell_type": "code",
   "execution_count": 57,
   "metadata": {},
   "outputs": [],
   "source": [
    "def is_well_formed(s: str) -> bool:\n",
    "    left_chars, lookup = [], {'(': ')', '{': '}', '[':']'}\n",
    "    for c in s:\n",
    "        if c in lookup:\n",
    "            left_chars.append(c)\n",
    "        elif not left_chars or lookup[left_chars.pop()] != c:\n",
    "            # Unmatched right char or mismatched chars\n",
    "            return False\n",
    "    return not left_chars"
   ]
  },
  {
   "cell_type": "code",
   "execution_count": 58,
   "metadata": {},
   "outputs": [
    {
     "data": {
      "text/plain": [
       "False"
      ]
     },
     "execution_count": 58,
     "metadata": {},
     "output_type": "execute_result"
    }
   ],
   "source": [
    "s = '{[]][[]]}'\n",
    "is_well_formed(s)"
   ]
  },
  {
   "cell_type": "code",
   "execution_count": 59,
   "metadata": {},
   "outputs": [
    {
     "data": {
      "text/plain": [
       "True"
      ]
     },
     "execution_count": 59,
     "metadata": {},
     "output_type": "execute_result"
    }
   ],
   "source": [
    "s= '({[][]}())'\n",
    "is_well_formed(s)"
   ]
  },
  {
   "cell_type": "markdown",
   "metadata": {},
   "source": [
    "The time complexity is O(n) since for each character we perform O(1) operations. "
   ]
  },
  {
   "cell_type": "markdown",
   "metadata": {},
   "source": [
    "## 8.4 Normalize Pathnames \n",
    "\n",
    "A file or directory can be specified via a string called pathname. This string may specify an absolute path, starting from the root, e.g.,/usr/bin/gcc, or a path relative to the current working directory, e.g., scripts/awkscripts.\n",
    "\n",
    "Write a program which takes a pathname, and returns the shortest equivalent pathname. Assume individual directories and files have names that use only alphanumeric characters. Subdirectory names may be combined using forward slashes (/), the current directory (.) and parent directory (..). "
   ]
  },
  {
   "cell_type": "code",
   "execution_count": 61,
   "metadata": {},
   "outputs": [],
   "source": [
    "def shortest_equivalent_path(path: str) -> str:\n",
    "    if not path:\n",
    "        raise ValueError('Empty string is not a valid path.')\n",
    "    \n",
    "    path_names = [] # Use list as a stack.\n",
    "    # Special case: starts with '/', which is an aboslute path.\n",
    "    if path[0] == '/':\n",
    "        path_names.append('/')\n",
    "    \n",
    "    for token in (token for token in path.split('/')\n",
    "                  if token not in ['.', '']):\n",
    "        if token == '..':\n",
    "            if not path_names or path_names == '..':\n",
    "                path_names.append(token)\n",
    "            else:\n",
    "                if path_names[-1] == '/':\n",
    "                    raise ValueError('Path Error')\n",
    "                path_names.pop()\n",
    "        else: # Must be a name\n",
    "            path_names.append(token)\n",
    "    \n",
    "    \n",
    "    result = '/'.join(path_names)\n",
    "    return result[result.startswith('//'):] # Avoid starting with '//'"
   ]
  },
  {
   "cell_type": "code",
   "execution_count": 63,
   "metadata": {},
   "outputs": [
    {
     "data": {
      "text/plain": [
       "'tc/awk'"
      ]
     },
     "execution_count": 63,
     "metadata": {},
     "output_type": "execute_result"
    }
   ],
   "source": [
    "path = 'sc//./../tc/awk/././'\n",
    "shortest_equivalent_path(path)"
   ]
  },
  {
   "cell_type": "code",
   "execution_count": 64,
   "metadata": {},
   "outputs": [
    {
     "data": {
      "text/plain": [
       "'/usr/lib/gcc'"
      ]
     },
     "execution_count": 64,
     "metadata": {},
     "output_type": "execute_result"
    }
   ],
   "source": [
    "path = '/usr/bin/../lib/gcc'\n",
    "shortest_equivalent_path(path)"
   ]
  },
  {
   "cell_type": "code",
   "execution_count": 66,
   "metadata": {},
   "outputs": [
    {
     "data": {
      "text/plain": [
       "'scripts/awkscrits'"
      ]
     },
     "execution_count": 66,
     "metadata": {},
     "output_type": "execute_result"
    }
   ],
   "source": [
    "path = 'scripts//./../scripts/awkscrits/././'\n",
    "shortest_equivalent_path(path)"
   ]
  },
  {
   "cell_type": "markdown",
   "metadata": {},
   "source": [
    "The time complexity is O(n), where n is the length of the pathname. "
   ]
  },
  {
   "cell_type": "markdown",
   "metadata": {},
   "source": [
    "## 8.5 Compute Building with a Sunset View \n",
    "\n",
    "You are given a series of buildings that have windows facing west. The buildings are in a straight line, and any building which is to the east of a building of equal or greater height cannot view the sunset. \n",
    "\n",
    "Design an algorithm that processes buildings in east-to-west order and returns the set of buildings which view the sunset. Each buildings is specified by its height. \n",
    "\n",
    "**Sol:** A brute-force approach is to store all buildings in an array. We then do a reverse scan of this array, tracking the running maximum. Any building whose height is less than or equal to the running maximum does not have a sunset view. \n",
    "\n",
    "The time and space complexity are both O(n), where n is the number of buildings. \n",
    "\n",
    "If a new buidlings is shorter than a building in the current set, then all buildings in the current set which are further to the east cannot be blocked by the new building. This suggests keeping the buildings in a last-in, first-out manner, so that we can terminate earlier. \n",
    "\n",
    "Specifically, we use a stack to record buildings that have a view. Each time a building b is processed, if it is taller than the building at the top of the stack, wepop the stack unitl the top of the stack is taller than b--all the buildings thus removed lie to the east of a taller building. \n",
    "\n",
    "Althouhg some individual steps may require many pops, each building is pushed and popped at most once. Therefore, the run time to process n buildings is O(n), and the stack always holds precisely the buildings which currently have a view. \n",
    "\n",
    "The memory used is O(n), and the bound is tight, even when only one building has a view--consider the input where the west-most building is the tallest, and the remaining n-1 buildings decrease in height from east to west. However, in the best-case, e.g., when buildings appear in increasing height, we use O(1) space. In contrast, the brute-force approach always uses O(n) space. "
   ]
  },
  {
   "cell_type": "code",
   "execution_count": 68,
   "metadata": {},
   "outputs": [],
   "source": [
    "def examine_buildings_with_sunset(sequence) -> list:\n",
    "    BuildingWithHeight = collections.namedtuple('BuildingWithHeight',\n",
    "                                               ('id', 'height'))\n",
    "    candidates: List[BuildingWithHeight] = []\n",
    "    for building_idx, building_height in enumerate(sequence):\n",
    "        while candidates and building_height >= candidates[-1].height:\n",
    "            candidates.pop()\n",
    "        candidates.append(BuildingWithHeight(building_idx, building_height))\n",
    "    return [c.id for c in reversed(candidates)]"
   ]
  },
  {
   "cell_type": "markdown",
   "metadata": {},
   "source": [
    "# Queues\n",
    "\n",
    "## Queues boot camp\n",
    "\n",
    "In the following program, we implement the basic queue API --enqueue and dequeue--as well as a max-method, which returns the maximum element stored in the queue. The basic idea is n=ti yse cinoisutuib: add a private field that references a library queue object, and forward existing methods (enqueue and dequeue inthis case) to that object. "
   ]
  },
  {
   "cell_type": "code",
   "execution_count": 1,
   "metadata": {},
   "outputs": [],
   "source": [
    "class Queue:\n",
    "    def __init__(self) -> None:\n",
    "        self._data: Deque[int] = collections.deque()\n",
    "    \n",
    "    def enqueue(self, x:int) -> None:\n",
    "        self._data.append(x)\n",
    "        \n",
    "    def dequeue(self) -> int:\n",
    "        return self._data.popleft()\n",
    "    \n",
    "    def max(self) -> int:\n",
    "        return max(self._data)"
   ]
  },
  {
   "cell_type": "markdown",
   "metadata": {},
   "source": [
    "The time complexity of enqueue and dequeue are the same as that of the library queue, namely, O(1). The time complexity of finding the maximum is O(n), where n is the number of entries. "
   ]
  },
  {
   "cell_type": "markdown",
   "metadata": {},
   "source": [
    "## 8.6 Compute Binary Tree Nodes in Order to Increasing Depth\n",
    "\n",
    "Binary trees are formally defined in Ch9. In particular, each node in a binary tree has a depth, which is its distance from the root. \n",
    "\n",
    "Given a binary tree, return an array consisting of the keys at the same level. Keys should appear in the order of the corresponding nodes' depths, breaking ties from left to right. \n",
    "\n",
    "In the following, we use a queue of nodes to store nodes at depth i and a queue of nodes at depth i+1. After all nodes at depth i are processed, we are done with that queue, and can start processing the queue with nodes at depth i+1, putting the depth i+2 nodes in a new queue. "
   ]
  },
  {
   "cell_type": "code",
   "execution_count": 3,
   "metadata": {},
   "outputs": [],
   "source": [
    "class BinaryTreeNode:\n",
    "    def __init__(self, data= None, left= None, right = None):\n",
    "        self.data = data\n",
    "        self.left = left\n",
    "        self.right = right "
   ]
  },
  {
   "cell_type": "code",
   "execution_count": 4,
   "metadata": {},
   "outputs": [],
   "source": [
    "def binary_tree_depth_order(tree:BinaryTreeNode) -> list:\n",
    "    result = []\n",
    "    if not tree:\n",
    "        return result # tree is empty \n",
    "    \n",
    "    curr_depth_nodes = [tree]\n",
    "    while curr_depth_nodes:\n",
    "        result.append([curr.data for curr in curr_depth_nodes])\n",
    "        curr_depth_nodes = [\n",
    "            child for curr in curr_depth_nodes\n",
    "            for child in (curr.left, curr.right) if child\n",
    "        ]\n",
    "        \n",
    "    return result "
   ]
  },
  {
   "cell_type": "code",
   "execution_count": 5,
   "metadata": {},
   "outputs": [],
   "source": [
    "node1 = BinaryTreeNode(314)\n",
    "node2 = BinaryTreeNode(6)\n",
    "node3 = BinaryTreeNode(6)\n",
    "node4 = BinaryTreeNode(271)\n",
    "node5 = BinaryTreeNode(561)\n",
    "node6 = BinaryTreeNode(2)\n",
    "node7 = BinaryTreeNode(271)\n",
    "node8 = BinaryTreeNode(28)\n",
    "node9 = BinaryTreeNode(0)\n",
    "node10 = BinaryTreeNode(3)\n",
    "node11 = BinaryTreeNode(1)\n",
    "node12 = BinaryTreeNode(28)\n",
    "node13 = BinaryTreeNode(17)\n",
    "node14 = BinaryTreeNode(401)\n",
    "node15 = BinaryTreeNode(257)\n",
    "node16 = BinaryTreeNode(641)"
   ]
  },
  {
   "cell_type": "code",
   "execution_count": 6,
   "metadata": {},
   "outputs": [],
   "source": [
    "node1.left = node2\n",
    "node1.right = node3\n",
    "node2.left = node4\n",
    "node2.right = node5\n",
    "node3.left = node6\n",
    "node3.right = node7\n",
    "node4.left = node8\n",
    "node4.right = node9\n",
    "node5.right = node10\n",
    "node6.right = node11\n",
    "node7.right = node12\n",
    "node10.left = node13\n",
    "node11.left = node14\n",
    "node11.right = node15\n",
    "node14.right = node16"
   ]
  },
  {
   "cell_type": "code",
   "execution_count": 7,
   "metadata": {},
   "outputs": [
    {
     "data": {
      "text/plain": [
       "[[314], [6, 6], [271, 561, 2, 271], [28, 0, 3, 1, 28], [17, 401, 257], [641]]"
      ]
     },
     "execution_count": 7,
     "metadata": {},
     "output_type": "execute_result"
    }
   ],
   "source": [
    "binary_tree_depth_order(node1)"
   ]
  },
  {
   "cell_type": "markdown",
   "metadata": {},
   "source": [
    "Since each node is enqueued and dequeued exactly once, the time complexity is O(n). The space complexity is O(m), where m is the maximum number of nodes at any single depth. "
   ]
  },
  {
   "cell_type": "markdown",
   "metadata": {},
   "source": [
    "**Variant:** Write a program which takes as input a binary tree and returns the keys in top down, alternating left-to-right and right-to-left order, starting from left-to-right. "
   ]
  },
  {
   "cell_type": "code",
   "execution_count": 9,
   "metadata": {},
   "outputs": [
    {
     "data": {
      "text/plain": [
       "1"
      ]
     },
     "execution_count": 9,
     "metadata": {},
     "output_type": "execute_result"
    }
   ],
   "source": [
    "0^1"
   ]
  },
  {
   "cell_type": "code",
   "execution_count": 10,
   "metadata": {},
   "outputs": [
    {
     "data": {
      "text/plain": [
       "0"
      ]
     },
     "execution_count": 10,
     "metadata": {},
     "output_type": "execute_result"
    }
   ],
   "source": [
    "1^1"
   ]
  },
  {
   "cell_type": "code",
   "execution_count": 21,
   "metadata": {},
   "outputs": [],
   "source": [
    "def binary_tree_depth_order_2(tree:BinaryTreeNode) -> list:\n",
    "    result = []\n",
    "    reverse_sign = 0\n",
    "    if not tree:\n",
    "        return result # tree is empty \n",
    "    \n",
    "    curr_depth_nodes = [tree]\n",
    "    while curr_depth_nodes:\n",
    "        result.append([curr.data for curr in curr_depth_nodes])\n",
    "        curr_depth_nodes = [\n",
    "            child for curr in curr_depth_nodes\n",
    "            for child in (curr.left, curr.right) if child\n",
    "        ]\n",
    "        if reverse_sign ==1:\n",
    "            curr_depth_nodes = reversed(curr_depth_nodes)\n",
    "        reverse_sign ^= 1\n",
    "        \n",
    "    return result "
   ]
  },
  {
   "cell_type": "code",
   "execution_count": 22,
   "metadata": {},
   "outputs": [
    {
     "data": {
      "text/plain": [
       "[[314], [6, 6], [271, 2, 561, 271]]"
      ]
     },
     "execution_count": 22,
     "metadata": {},
     "output_type": "execute_result"
    }
   ],
   "source": [
    "binary_tree_depth_order_2(node1)"
   ]
  },
  {
   "cell_type": "markdown",
   "metadata": {},
   "source": [
    "**Variant:** Write a program which takes as input a binary tree with integer keys, and return the average of the keys at each level. "
   ]
  },
  {
   "cell_type": "code",
   "execution_count": 24,
   "metadata": {},
   "outputs": [],
   "source": [
    "a = [x**2 for x in range(5)]"
   ]
  },
  {
   "cell_type": "code",
   "execution_count": 26,
   "metadata": {},
   "outputs": [
    {
     "data": {
      "text/plain": [
       "6.0"
      ]
     },
     "execution_count": 26,
     "metadata": {},
     "output_type": "execute_result"
    }
   ],
   "source": [
    "sum(a)/len(a)"
   ]
  },
  {
   "cell_type": "code",
   "execution_count": 27,
   "metadata": {},
   "outputs": [],
   "source": [
    "def binary_tree_depth_order_avg(tree:BinaryTreeNode) -> list:\n",
    "    result = []\n",
    "    if not tree:\n",
    "        return result # tree is empty \n",
    "    \n",
    "    curr_depth_nodes = [tree]\n",
    "    while curr_depth_nodes:\n",
    "        a = [curr.data for curr in curr_depth_nodes]\n",
    "        result.append(sum(a)/len(a))\n",
    "        curr_depth_nodes = [\n",
    "            child for curr in curr_depth_nodes\n",
    "            for child in (curr.left, curr.right) if child\n",
    "        ]\n",
    "        \n",
    "    return result "
   ]
  },
  {
   "cell_type": "code",
   "execution_count": 28,
   "metadata": {},
   "outputs": [
    {
     "data": {
      "text/plain": [
       "[314.0, 6.0, 276.25, 12.0, 225.0, 641.0]"
      ]
     },
     "execution_count": 28,
     "metadata": {},
     "output_type": "execute_result"
    }
   ],
   "source": [
    "binary_tree_depth_order_avg(node1)"
   ]
  },
  {
   "cell_type": "markdown",
   "metadata": {},
   "source": [
    "## 8.7 Implement a Circular Queue\n",
    "\n",
    "A queue can be implemented using an array and two additional fields, the beginning and the end indices. This structure is sometimes refereed to as a circular queue. \n",
    "\n",
    "Implement a queue API using an array for storing elements. Your API should include a constructor function, which takes as argument the initial capacity of the queue, enqueue and dequeue functions and a function which returns the number of elements stored. Implement dynamic resizing to support storing an arbitrarily large number of elements. "
   ]
  },
  {
   "cell_type": "code",
   "execution_count": 42,
   "metadata": {},
   "outputs": [
    {
     "name": "stdout",
     "output_type": "stream",
     "text": [
      "13\n"
     ]
    }
   ],
   "source": [
    "S = '13 DUP POP'\n",
    "stack = []\n",
    "for s in S.split():\n",
    "    if s.isdigit():\n",
    "        print(int(s))\n",
    "        stack.append(int(s))\n"
   ]
  },
  {
   "cell_type": "code",
   "execution_count": 44,
   "metadata": {},
   "outputs": [],
   "source": [
    "class Queue:\n",
    "    SCALE_FACTOR = 2\n",
    "    \n",
    "    def __init__(self, capacity: int) -> None:\n",
    "        self._entires = [0]*capacity \n",
    "        self._head = self._tail = self._num_queue_elements = 0\n",
    "        \n",
    "    def enqueue(self, x: int) -> None:\n",
    "        if self._num_queue_elements == len(self.__entries): # Needs to resize\n",
    "            # Make the queue elements appear consecutively.\n",
    "            self._entries = (\n",
    "                self._entries[self._head:] + self._entries[:self._head])\n",
    "            # Resets head and tail.\n",
    "            self._head, self._tail = 0, self._num_queue_elements\n",
    "            self._entries += [0]*(\n",
    "                len(self._entries) * Queue.SCALE_FACTOR - len(self._entries))\n",
    "            \n",
    "            self._entries[self._tail] = x\n",
    "            self._tail = (self._tail +1) % len(self._entries)\n",
    "            self._num_queue_elements += 1\n",
    "            \n",
    "    def dequeue(self) -> int:\n",
    "        self._num_queue_elements -= 1\n",
    "        result = self._entries[self._head]\n",
    "        self._head = (self._head + 1) % len(self._entries)\n",
    "        return result\n",
    "    \n",
    "    def size(self) -> int:\n",
    "        return self._num_queue_elements\n",
    "        "
   ]
  },
  {
   "cell_type": "markdown",
   "metadata": {},
   "source": [
    "The time complexity of dequeue is O(1), and the amortized time complexity of enqueue is O(1). "
   ]
  },
  {
   "cell_type": "markdown",
   "metadata": {},
   "source": [
    "## 8.8 Implement a Queue Using Stacks \n",
    "\n",
    "Queue insertion and deletion follows first-in, first-out semantics; stack insertion and deletion is last-in, first-out. \n",
    "\n",
    "How would you implement a queue given a library implementing stacks?"
   ]
  },
  {
   "cell_type": "markdown",
   "metadata": {},
   "source": [
    "**Sol:** It is impossible to solve this problem with a single stack. In essence, we are using the first stack for enqueue and the second for dequeue. "
   ]
  },
  {
   "cell_type": "code",
   "execution_count": 45,
   "metadata": {},
   "outputs": [],
   "source": [
    "class Queue:\n",
    "    def __init__(self) -> None:\n",
    "        self._enq: list = []\n",
    "        self._deq: list = []\n",
    "    \n",
    "    def enqueue(self, x:int) -> None:\n",
    "        self._enq.append(x)\n",
    "        \n",
    "    def dequeue(self) -> int:\n",
    "        if not self._deq:\n",
    "            # Transfers the elements in _enq to _deq \n",
    "            while self._enq:\n",
    "                self._deq.append(self._enq.pop())\n",
    "        return self._deq.pop()"
   ]
  },
  {
   "cell_type": "code",
   "execution_count": 67,
   "metadata": {},
   "outputs": [],
   "source": [
    "queue1 = Queue()"
   ]
  },
  {
   "cell_type": "code",
   "execution_count": 68,
   "metadata": {},
   "outputs": [],
   "source": [
    "queue1.enqueue(1)"
   ]
  },
  {
   "cell_type": "code",
   "execution_count": 69,
   "metadata": {},
   "outputs": [],
   "source": [
    "queue1.enqueue(3)"
   ]
  },
  {
   "cell_type": "code",
   "execution_count": 70,
   "metadata": {},
   "outputs": [],
   "source": [
    "queue1.enqueue(5)"
   ]
  },
  {
   "cell_type": "code",
   "execution_count": 71,
   "metadata": {},
   "outputs": [],
   "source": [
    "queue1.enqueue(7)"
   ]
  },
  {
   "cell_type": "code",
   "execution_count": 72,
   "metadata": {},
   "outputs": [],
   "source": [
    "queue1.enqueue(9)"
   ]
  },
  {
   "cell_type": "code",
   "execution_count": 75,
   "metadata": {},
   "outputs": [],
   "source": [
    "def print_queue(q: Queue):\n",
    "    while len(q._deq)+len(q._enq) >=1:\n",
    "        print(q.dequeue())"
   ]
  },
  {
   "cell_type": "code",
   "execution_count": 76,
   "metadata": {},
   "outputs": [
    {
     "name": "stdout",
     "output_type": "stream",
     "text": [
      "1\n",
      "3\n",
      "5\n",
      "7\n",
      "9\n"
     ]
    }
   ],
   "source": [
    "print_queue(queue1)"
   ]
  },
  {
   "cell_type": "markdown",
   "metadata": {},
   "source": [
    "This approach takes O(m) time for m operations, which can be seen from the fact that each element is pushed no more than twice and poped no more than twice. "
   ]
  },
  {
   "cell_type": "markdown",
   "metadata": {},
   "source": [
    "## 8.9 Implement a Queue with MAX API\n",
    "\n",
    "Implement a queue with enqueue, dequeue, and max operations. The max operation returns the maximum element currently stored in the queue.\n",
    "\n",
    "**Sol:** A brute-force solution is to track the current maximum. The current maximum has to be updated on both enqueue and dequeue. Updating the current maximum on enqueue is trivial and fast-just compare the enqueued value with the current maximum. However, updating the current maximum on dequeue is slow--we must examine every single remaining element, which takes O(n) time, where n is the size of the queue.\n",
    "\n",
    "Consider an element s in the queue that has the property that it entered the queue before a later element, b, which is greater than s. Since s will be dequeued before b, s can never in the future become the maximum element stored in the queue, regardless of the subsequent enqueues and dequeues. \n",
    "\n",
    "The key to a faster implementation of a queue-with-max is to eliminate elements like s from consideration. We do this by maintaining the set of entries in the queue taht have no later entry in the queue greater than them in a separate deque. Elements in the deque will be ordered by their position in the queue, with the candidate closest to the head of the queue appearing first. Since each entry in the deque is greater than or equal to its successors, the largest element in the queue is at the head of the deque. \n",
    "\n",
    "We now briefly describe how to update the deque on queue updates. If the queue is dequeued, and if the element just dequeued is at the deque's head, we pop the deque from its head; otherwise the deque remains unchanged. When we add an entry to the queue, we iteratively evict from the deque's tail unitl the element at the tail is greater than or equal to the entry being enqueued, and then add the new entry to the deque's tail. "
   ]
  },
  {
   "cell_type": "code",
   "execution_count": 79,
   "metadata": {},
   "outputs": [],
   "source": [
    "import collections"
   ]
  },
  {
   "cell_type": "code",
   "execution_count": 80,
   "metadata": {},
   "outputs": [],
   "source": [
    "class QueueWithMax:\n",
    "    def __init__(self):\n",
    "        self._entries: Deque[Any] = collections.deque()\n",
    "        self._candidates_for_max: Deque[Any] = collections.deque()\n",
    "            \n",
    "    def enqueue(self, x):\n",
    "        self._entries.append(x)\n",
    "        # Eliminate dominated elements in _candidates_for_max.\n",
    "        while self._candidates_for_max and self._candidates_for_max[-1] <x:\n",
    "            self._candidates_for_max.pop()\n",
    "        self._candidates_for_max.append(x)\n",
    "        \n",
    "    def dequeue(self):\n",
    "        result = self._entries.popleft()\n",
    "        if result == self._candidates_for_max[0]:\n",
    "            self._candidates_for_max.popleft()\n",
    "        return result \n",
    "    \n",
    "    def max(self):\n",
    "        return self._candidates_for_max[0]"
   ]
  },
  {
   "cell_type": "code",
   "execution_count": 81,
   "metadata": {},
   "outputs": [],
   "source": [
    "A = QueueWithMax()"
   ]
  },
  {
   "cell_type": "code",
   "execution_count": 82,
   "metadata": {},
   "outputs": [],
   "source": [
    "A.enqueue(3)"
   ]
  },
  {
   "cell_type": "code",
   "execution_count": 83,
   "metadata": {},
   "outputs": [],
   "source": [
    "A.enqueue(1)\n",
    "A.enqueue(3)\n",
    "A.enqueue(2)\n",
    "A.enqueue(0)"
   ]
  },
  {
   "cell_type": "code",
   "execution_count": 84,
   "metadata": {},
   "outputs": [
    {
     "name": "stdout",
     "output_type": "stream",
     "text": [
      "deque([3, 1, 3, 2, 0])\n"
     ]
    }
   ],
   "source": [
    "print(A._entries)"
   ]
  },
  {
   "cell_type": "code",
   "execution_count": 85,
   "metadata": {},
   "outputs": [
    {
     "name": "stdout",
     "output_type": "stream",
     "text": [
      "deque([3, 3, 2, 0])\n"
     ]
    }
   ],
   "source": [
    "print(A._candidates_for_max)"
   ]
  },
  {
   "cell_type": "code",
   "execution_count": 87,
   "metadata": {},
   "outputs": [
    {
     "name": "stdout",
     "output_type": "stream",
     "text": [
      "deque([3, 2, 0])\n"
     ]
    }
   ],
   "source": [
    "A.dequeue()\n",
    "print(A._candidates_for_max)"
   ]
  },
  {
   "cell_type": "code",
   "execution_count": 88,
   "metadata": {},
   "outputs": [
    {
     "name": "stdout",
     "output_type": "stream",
     "text": [
      "deque([3, 2, 0])\n",
      "deque([3, 2, 0])\n"
     ]
    }
   ],
   "source": [
    "A.dequeue()\n",
    "print(A._entries)\n",
    "print(A._candidates_for_max)"
   ]
  },
  {
   "cell_type": "code",
   "execution_count": 89,
   "metadata": {},
   "outputs": [
    {
     "name": "stdout",
     "output_type": "stream",
     "text": [
      "deque([3, 2, 0, 1])\n",
      "deque([3, 2, 1])\n"
     ]
    }
   ],
   "source": [
    "A.enqueue(1)\n",
    "print(A._entries)\n",
    "print(A._candidates_for_max)"
   ]
  },
  {
   "cell_type": "code",
   "execution_count": 90,
   "metadata": {},
   "outputs": [
    {
     "name": "stdout",
     "output_type": "stream",
     "text": [
      "deque([3, 2, 0, 1, 2])\n",
      "deque([3, 2, 2])\n"
     ]
    }
   ],
   "source": [
    "A.enqueue(2)\n",
    "print(A._entries)\n",
    "print(A._candidates_for_max)"
   ]
  },
  {
   "cell_type": "code",
   "execution_count": 91,
   "metadata": {},
   "outputs": [
    {
     "name": "stdout",
     "output_type": "stream",
     "text": [
      "deque([3, 2, 0, 1, 2, 4])\n",
      "deque([4])\n"
     ]
    }
   ],
   "source": [
    "A.enqueue(4)\n",
    "print(A._entries)\n",
    "print(A._candidates_for_max)"
   ]
  },
  {
   "cell_type": "code",
   "execution_count": 92,
   "metadata": {},
   "outputs": [
    {
     "name": "stdout",
     "output_type": "stream",
     "text": [
      "deque([2, 0, 1, 2, 4])\n",
      "deque([4])\n"
     ]
    }
   ],
   "source": [
    "A.dequeue()\n",
    "print(A._entries)\n",
    "print(A._candidates_for_max)"
   ]
  },
  {
   "cell_type": "code",
   "execution_count": 93,
   "metadata": {},
   "outputs": [
    {
     "name": "stdout",
     "output_type": "stream",
     "text": [
      "deque([2, 0, 1, 2, 4, 4])\n",
      "deque([4, 4])\n"
     ]
    }
   ],
   "source": [
    "A.enqueue(4)\n",
    "print(A._entries)\n",
    "print(A._candidates_for_max)"
   ]
  },
  {
   "cell_type": "markdown",
   "metadata": {},
   "source": [
    "Each dequeue operation has O(1) time complexity. A single enqueue operation may entail many ejections from the deque. However, the amortized time complexity of n enqueues and dequeues is O(n), since an element can be added and removed from the deque no more than once. The max opreration is O(1) since it consists of returning the lement at the head of the deque. "
   ]
  },
  {
   "cell_type": "markdown",
   "metadata": {},
   "source": [
    "We can solve the queue-with-max design by modeling a queue with two stacks-with-max. This approach feels unnatural compared to the one presented above. "
   ]
  },
  {
   "cell_type": "code",
   "execution_count": 100,
   "metadata": {},
   "outputs": [],
   "source": [
    "class QueueWithMax2:\n",
    "    def __init__(self) -> None:\n",
    "        self._enqueue, self._dequeue = Stack(), Stack()\n",
    "        \n",
    "    def enqueue(self, x:int) -> None:\n",
    "        self._enqueue.push(x)\n",
    "    \n",
    "    def dequeue(self) -> int:\n",
    "        if self._dequeue.empty():\n",
    "            while not self._enqueue.empty():\n",
    "                self._dequeue.push(self._enqueue.pop())\n",
    "        return self._dequeue.pop()\n",
    "    \n",
    "    def max(self) -> int:\n",
    "        if not self._enqueue.empty():\n",
    "            return self._enqueue.max() if self._dequeue.empty() else max(\n",
    "                self._enqueue.max(), self._dequeue.max())\n",
    "        return self._dequeue.max()"
   ]
  },
  {
   "cell_type": "code",
   "execution_count": 102,
   "metadata": {},
   "outputs": [],
   "source": [
    "A = QueueWithMax2()\n",
    "A.enqueue(3)\n",
    "A.enqueue(1)\n",
    "A.enqueue(3)\n",
    "A.enqueue(2)\n",
    "A.enqueue(0)"
   ]
  },
  {
   "cell_type": "code",
   "execution_count": 103,
   "metadata": {},
   "outputs": [
    {
     "data": {
      "text/plain": [
       "3"
      ]
     },
     "execution_count": 103,
     "metadata": {},
     "output_type": "execute_result"
    }
   ],
   "source": [
    "A.max()"
   ]
  },
  {
   "cell_type": "code",
   "execution_count": 104,
   "metadata": {},
   "outputs": [
    {
     "data": {
      "text/plain": [
       "3"
      ]
     },
     "execution_count": 104,
     "metadata": {},
     "output_type": "execute_result"
    }
   ],
   "source": [
    "A.dequeue()\n",
    "A.max()"
   ]
  },
  {
   "cell_type": "code",
   "execution_count": 105,
   "metadata": {},
   "outputs": [
    {
     "data": {
      "text/plain": [
       "3"
      ]
     },
     "execution_count": 105,
     "metadata": {},
     "output_type": "execute_result"
    }
   ],
   "source": [
    "A.dequeue()\n",
    "A.max()"
   ]
  },
  {
   "cell_type": "code",
   "execution_count": 106,
   "metadata": {},
   "outputs": [
    {
     "data": {
      "text/plain": [
       "3"
      ]
     },
     "execution_count": 106,
     "metadata": {},
     "output_type": "execute_result"
    }
   ],
   "source": [
    "A.enqueue(2)\n",
    "A.max()"
   ]
  },
  {
   "cell_type": "code",
   "execution_count": 107,
   "metadata": {},
   "outputs": [
    {
     "data": {
      "text/plain": [
       "4"
      ]
     },
     "execution_count": 107,
     "metadata": {},
     "output_type": "execute_result"
    }
   ],
   "source": [
    "A.enqueue(4)\n",
    "A.max()"
   ]
  },
  {
   "cell_type": "code",
   "execution_count": 108,
   "metadata": {},
   "outputs": [
    {
     "data": {
      "text/plain": [
       "4"
      ]
     },
     "execution_count": 108,
     "metadata": {},
     "output_type": "execute_result"
    }
   ],
   "source": [
    "A.enqueue(4)\n",
    "A.max()"
   ]
  },
  {
   "cell_type": "code",
   "execution_count": 109,
   "metadata": {},
   "outputs": [
    {
     "data": {
      "text/plain": [
       "5"
      ]
     },
     "execution_count": 109,
     "metadata": {},
     "output_type": "execute_result"
    }
   ],
   "source": [
    "A.enqueue(5)\n",
    "A.max()"
   ]
  },
  {
   "cell_type": "markdown",
   "metadata": {},
   "source": [
    "Since the stack-with-max has O(1) amortized time complexity for push, pop, and max, and the queue from two stacks has O(1) amortized time complexity for enqueue and dequeue, this approach has O(1) amortized time complexity for enqueue, dequeue, and max. "
   ]
  },
  {
   "cell_type": "code",
   "execution_count": null,
   "metadata": {},
   "outputs": [],
   "source": []
  }
 ],
 "metadata": {
  "kernelspec": {
   "display_name": "Python 3",
   "language": "python",
   "name": "python3"
  },
  "language_info": {
   "codemirror_mode": {
    "name": "ipython",
    "version": 3
   },
   "file_extension": ".py",
   "mimetype": "text/x-python",
   "name": "python",
   "nbconvert_exporter": "python",
   "pygments_lexer": "ipython3",
   "version": "3.6.5"
  }
 },
 "nbformat": 4,
 "nbformat_minor": 2
}
