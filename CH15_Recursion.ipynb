{
 "cells": [
  {
   "cell_type": "raw",
   "metadata": {},
   "source": [
    "Recursion is an approach to problem solving where the solution depends partially on solutions to smaller instances of related problems. It is often appropriate when the input is expressed using recursive rules, such as a computer grammar. More generally, searching, enumeration, divide-and-conquer, and decomposing a complex problem into a set of similar smaller instances are all scenarios where recursion maybe suitable. \n",
    "\n",
    "A recursive functio consists of base cases and calls to the same function with different arguments. Two key ingredients to a successful use of recursion are identifying the base cases, which are to be solved directly, and ensuring progress, that is the recursion converges to the solution. \n",
    "\n",
    "A divide-and-conquer algorithm works by repeatedly decomposing a problem into two or more smaller independent subproblems of the same kind, until it gets to instances that are simple enough to be solved directly. The solutions to the subproblems are then combined to give a solution to the original problem. Merge sort and quicksort are classical examples of divide-and-conquer. \n",
    "\n",
    "Divide-and-conquer is not synonymous with recursion. In divide-and-conquer, the problem is divided into two or more independent smaller problems that are of the same type as the original problem. Recursion is more general--there may be a single subproblem, e.g., binary search, the subproblems may not be independent, e.g., dynamic programming, and they may not be of the same type as the original, e.g., regular expression matching. In addition, sometimes to improve runtime, and occasionally to reduce space complexity, a divide-and-conquer algorithm is implemented using iteration instead of recursion. "
   ]
  },
  {
   "cell_type": "markdown",
   "metadata": {},
   "source": [
    "## Recursion boot camp\n",
    "\n",
    "The Euclidean algorithm for calculating the greatest common divisor (GCD) of two numbers is a classic example of recursion. The central idea is that if y > x, the GCD of x and y is the GCD for x and y - x. By extension, this implies that the GDC of x and y is the GCD of x and y mod x, i.e., GCD(156,36) = GCD((156 mod 36)=12, 36) = GCD(12, 36 mod 12 = 0) = 12."
   ]
  },
  {
   "cell_type": "code",
   "execution_count": 1,
   "metadata": {},
   "outputs": [],
   "source": [
    "def gcd(x: int, y: int) -> int:\n",
    "    return x if y == 0 else gcd(y, x%y)"
   ]
  },
  {
   "cell_type": "code",
   "execution_count": 2,
   "metadata": {},
   "outputs": [
    {
     "data": {
      "text/plain": [
       "12"
      ]
     },
     "execution_count": 2,
     "metadata": {},
     "output_type": "execute_result"
    }
   ],
   "source": [
    "gcd(156,36)"
   ]
  },
  {
   "cell_type": "code",
   "execution_count": 3,
   "metadata": {},
   "outputs": [
    {
     "data": {
      "text/plain": [
       "27"
      ]
     },
     "execution_count": 3,
     "metadata": {},
     "output_type": "execute_result"
    }
   ],
   "source": [
    "gcd(81,54)"
   ]
  },
  {
   "cell_type": "code",
   "execution_count": 4,
   "metadata": {},
   "outputs": [
    {
     "data": {
      "text/plain": [
       "9"
      ]
     },
     "execution_count": 4,
     "metadata": {},
     "output_type": "execute_result"
    }
   ],
   "source": [
    "gcd(81,45)"
   ]
  },
  {
   "cell_type": "markdown",
   "metadata": {},
   "source": [
    "Since with each recursive step one of the arguments is at least halved, it means that the time complexity is O(log max(x,y)). Put another way, the time complexity is O(n), where n is the number of bits needed to represent the inputs. The space complexity is also O(n), which is the maximum depth of the function call stack. (It is easy to replace the recursion with a loop, thereby reducing the space complexity to O(1)). "
   ]
  },
  {
   "cell_type": "markdown",
   "metadata": {},
   "source": [
    "## 15.1 The towers of hanoi problem \n",
    "\n",
    "A peg contains rings in sorted order, with the largest ring being the lowest. You are to transfer these rings to another peg, which is initially empty. \n",
    "\n",
    "You have a third peg, which is initially empty. The only operation you can perform is taking a singe ring from the top of one peg and placing it ton the top of another peg. You must never place a larger ring above a smaller ring. Write the function which returns a sequence of oerations that result in the transfer of n rings from one peg to another. "
   ]
  },
  {
   "cell_type": "code",
   "execution_count": 5,
   "metadata": {},
   "outputs": [],
   "source": [
    "NUM_PEGS = 3\n",
    "\n",
    "def compute_tower_hanoi(num_rings: int) -> list:\n",
    "    def compute_tower_hanoi_steps(num_rings_to_move, from_peg, to_peg,\n",
    "                                 use_peg):\n",
    "        if num_rings_to_move >0:\n",
    "            compute_tower_hanoi_steps(num_rings_to_move -1, from_peg, use_peg,\n",
    "                                     to_peg)\n",
    "            pegs[to_peg].append(pegs[from_peg].pop()) # why?\n",
    "            result.append([from_peg, to_peg])\n",
    "            compute_tower_hanoi_steps(num_rings_to_move -1, use_peg, to_peg, \n",
    "                                     from_peg)\n",
    "            \n",
    "    # Initialize pegs \n",
    "    result = []\n",
    "    pegs = [list(reversed(range(1, num_rings + 1)))] + [[] for _ in range(1, NUM_PEGS)]\n",
    "    compute_tower_hanoi_steps(num_rings, 0, 1, 2)\n",
    "    return result "
   ]
  },
  {
   "cell_type": "code",
   "execution_count": 7,
   "metadata": {},
   "outputs": [
    {
     "data": {
      "text/plain": [
       "[[0, 1], [0, 2], [1, 2], [0, 1], [2, 0], [2, 1], [0, 1]]"
      ]
     },
     "execution_count": 7,
     "metadata": {},
     "output_type": "execute_result"
    }
   ],
   "source": [
    "compute_tower_hanoi(3)"
   ]
  },
  {
   "cell_type": "markdown",
   "metadata": {},
   "source": [
    "## 15.2 Compute all mnemonics for a phone number \n",
    "\n",
    "Each digit, apart from 0 and 1, in a phone keypad corresponds to one of three or four letters of the alphabet. Since words are easier to remember than numbers, it is natural to ask if a 7 or 10-digit phone number can be represented by a word. For example, \"2276696\" corresponds to \"ACRONYM\" as well as \"ABPOMZN\".\n",
    "\n",
    "Write a program which takes as input a phone number, specified as a string of digits, and returns all possible character sequences that correspond to the phone number. The cell phone keypad is specified by a mapping taht takes a digit and returns the corresponding set of characters. The character sequences do not have to be legal words or phrases. \n",
    "\n",
    "**Sol:** For a 7-digit phone number, the brute-force approach is to form 7 ranges of characters, one for each digit. We use 7 nested for-loops where the iteration variables correspond to the 7 ranges to enumerate all possible mnemonics. The drawbacks of such an approach are its repetitiveness in code and its inflexibility.\n",
    "\n",
    "As a general rule, any such enumeration is best computed using recursion. The execution path is very similar to that of the brute-force approach, but the complier handles the looping. "
   ]
  },
  {
   "cell_type": "code",
   "execution_count": 8,
   "metadata": {},
   "outputs": [],
   "source": [
    "# The mapping from digit to corresponding characters.\n",
    "MAPPING = ('0', '1', 'ABC', 'DEF', 'GHI','JKL','MNO','PQRS','TUV','WXYZ')\n",
    "\n",
    "def phone_mnemonic(phone_number: str) -> list:\n",
    "    def phone_mnemonic_helper(digit):\n",
    "        if digit == len(phone_number):\n",
    "            # All digits are processed, so add partial_mnemonic to menmonics.\n",
    "            # (We add a copy since subsequent calls modify partial_mnemonic.)\n",
    "            mnemonics.append(''.join(partial_mnemonic))\n",
    "        else:\n",
    "            # Try all possible characters for this digit.\n",
    "            for c in MAPPING[int(phone_number[digit])]:\n",
    "                partial_mnemonic[digit] = c\n",
    "                phone_mnemonic_helper(digit + 1)\n",
    "                \n",
    "    mnemonics = []\n",
    "    partial_mnemonic = [0]*len(phone_number)\n",
    "    phone_mnemonic_helper(0)\n",
    "    return mnemonics"
   ]
  },
  {
   "cell_type": "code",
   "execution_count": 9,
   "metadata": {},
   "outputs": [],
   "source": [
    "partial_mnemonic = [0]*7"
   ]
  },
  {
   "cell_type": "code",
   "execution_count": 10,
   "metadata": {},
   "outputs": [],
   "source": [
    "phone_number = '2276696'"
   ]
  },
  {
   "cell_type": "code",
   "execution_count": 11,
   "metadata": {},
   "outputs": [
    {
     "name": "stdout",
     "output_type": "stream",
     "text": [
      "2\n",
      "2\n",
      "7\n",
      "6\n",
      "6\n",
      "9\n",
      "6\n"
     ]
    }
   ],
   "source": [
    "for c in phone_number:\n",
    "    print(c)"
   ]
  },
  {
   "cell_type": "code",
   "execution_count": 14,
   "metadata": {},
   "outputs": [
    {
     "ename": "TypeError",
     "evalue": "'tuple' object is not callable",
     "output_type": "error",
     "traceback": [
      "\u001b[0;31m---------------------------------------------------------------------------\u001b[0m",
      "\u001b[0;31mTypeError\u001b[0m                                 Traceback (most recent call last)",
      "\u001b[0;32m<ipython-input-14-92a1dc69397f>\u001b[0m in \u001b[0;36m<module>\u001b[0;34m\u001b[0m\n\u001b[1;32m      1\u001b[0m \u001b[0mdigit\u001b[0m \u001b[0;34m=\u001b[0m \u001b[0;36m5\u001b[0m\u001b[0;34m\u001b[0m\u001b[0;34m\u001b[0m\u001b[0m\n\u001b[0;32m----> 2\u001b[0;31m \u001b[0;32mfor\u001b[0m \u001b[0mc\u001b[0m \u001b[0;32min\u001b[0m \u001b[0mMAPPING\u001b[0m\u001b[0;34m(\u001b[0m\u001b[0mint\u001b[0m\u001b[0;34m(\u001b[0m\u001b[0mphone_number\u001b[0m\u001b[0;34m[\u001b[0m\u001b[0mdigit\u001b[0m\u001b[0;34m]\u001b[0m\u001b[0;34m)\u001b[0m\u001b[0;34m)\u001b[0m\u001b[0;34m:\u001b[0m\u001b[0;34m\u001b[0m\u001b[0;34m\u001b[0m\u001b[0m\n\u001b[0m\u001b[1;32m      3\u001b[0m     \u001b[0mprint\u001b[0m\u001b[0;34m(\u001b[0m\u001b[0mc\u001b[0m\u001b[0;34m)\u001b[0m\u001b[0;34m\u001b[0m\u001b[0;34m\u001b[0m\u001b[0m\n",
      "\u001b[0;31mTypeError\u001b[0m: 'tuple' object is not callable"
     ]
    }
   ],
   "source": [
    "digit = 5\n",
    "for c in MAPPING(int(phone_number[digit])):\n",
    "    print(c)"
   ]
  },
  {
   "cell_type": "code",
   "execution_count": null,
   "metadata": {},
   "outputs": [],
   "source": []
  }
 ],
 "metadata": {
  "kernelspec": {
   "display_name": "Python 3",
   "language": "python",
   "name": "python3"
  },
  "language_info": {
   "codemirror_mode": {
    "name": "ipython",
    "version": 3
   },
   "file_extension": ".py",
   "mimetype": "text/x-python",
   "name": "python",
   "nbconvert_exporter": "python",
   "pygments_lexer": "ipython3",
   "version": "3.6.8"
  }
 },
 "nbformat": 4,
 "nbformat_minor": 2
}
