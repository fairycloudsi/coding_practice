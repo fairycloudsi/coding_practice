{
 "cells": [
  {
   "cell_type": "code",
   "execution_count": 16,
   "metadata": {},
   "outputs": [],
   "source": [
    "class BinaryTreeNode:\n",
    "    def __init__(self, data=None, left=None, right= None, parent = None, nexxt = None):\n",
    "        self.data = data\n",
    "        self.left = left\n",
    "        self.right = right\n",
    "        self.parent = parent\n",
    "        self.next = nexxt "
   ]
  },
  {
   "cell_type": "code",
   "execution_count": 25,
   "metadata": {},
   "outputs": [],
   "source": [
    "def tree_traversal_inorder(root: BinaryTreeNode) -> None:\n",
    "    if root:\n",
    "        print('left child')\n",
    "        tree_traversal_inorder(root.left) \n",
    "        print('root: %d' % root.data)\n",
    "        print('right child')\n",
    "        tree_traversal_inorder(root.right)"
   ]
  },
  {
   "cell_type": "raw",
   "metadata": {},
   "source": [
    "Recursion is an approach to problem solving where the solution depends partially on solutions to smaller instances of related problems. It is often appropriate when the input is expressed using recursive rules, such as a computer grammar. More generally, searching, enumeration, divide-and-conquer, and decomposing a complex problem into a set of similar smaller instances are all scenarios where recursion maybe suitable. \n",
    "\n",
    "A recursive functio consists of base cases and calls to the same function with different arguments. Two key ingredients to a successful use of recursion are identifying the base cases, which are to be solved directly, and ensuring progress, that is the recursion converges to the solution. \n",
    "\n",
    "A divide-and-conquer algorithm works by repeatedly decomposing a problem into two or more smaller independent subproblems of the same kind, until it gets to instances that are simple enough to be solved directly. The solutions to the subproblems are then combined to give a solution to the original problem. Merge sort and quicksort are classical examples of divide-and-conquer. \n",
    "\n",
    "Divide-and-conquer is not synonymous with recursion. In divide-and-conquer, the problem is divided into two or more independent smaller problems that are of the same type as the original problem. Recursion is more general--there may be a single subproblem, e.g., binary search, the subproblems may not be independent, e.g., dynamic programming, and they may not be of the same type as the original, e.g., regular expression matching. In addition, sometimes to improve runtime, and occasionally to reduce space complexity, a divide-and-conquer algorithm is implemented using iteration instead of recursion. "
   ]
  },
  {
   "cell_type": "markdown",
   "metadata": {},
   "source": [
    "## Recursion boot camp\n",
    "\n",
    "The Euclidean algorithm for calculating the greatest common divisor (GCD) of two numbers is a classic example of recursion. The central idea is that if y > x, the GCD of x and y is the GCD for x and y - x. By extension, this implies that the GDC of x and y is the GCD of x and y mod x, i.e., GCD(156,36) = GCD((156 mod 36)=12, 36) = GCD(12, 36 mod 12 = 0) = 12."
   ]
  },
  {
   "cell_type": "code",
   "execution_count": 1,
   "metadata": {},
   "outputs": [],
   "source": [
    "def gcd(x: int, y: int) -> int:\n",
    "    return x if y == 0 else gcd(y, x%y)"
   ]
  },
  {
   "cell_type": "code",
   "execution_count": 2,
   "metadata": {},
   "outputs": [
    {
     "data": {
      "text/plain": [
       "12"
      ]
     },
     "execution_count": 2,
     "metadata": {},
     "output_type": "execute_result"
    }
   ],
   "source": [
    "gcd(156,36)"
   ]
  },
  {
   "cell_type": "code",
   "execution_count": 3,
   "metadata": {},
   "outputs": [
    {
     "data": {
      "text/plain": [
       "27"
      ]
     },
     "execution_count": 3,
     "metadata": {},
     "output_type": "execute_result"
    }
   ],
   "source": [
    "gcd(81,54)"
   ]
  },
  {
   "cell_type": "code",
   "execution_count": 4,
   "metadata": {},
   "outputs": [
    {
     "data": {
      "text/plain": [
       "9"
      ]
     },
     "execution_count": 4,
     "metadata": {},
     "output_type": "execute_result"
    }
   ],
   "source": [
    "gcd(81,45)"
   ]
  },
  {
   "cell_type": "markdown",
   "metadata": {},
   "source": [
    "Since with each recursive step one of the arguments is at least halved, it means that the time complexity is O(log max(x,y)). Put another way, the time complexity is O(n), where n is the number of bits needed to represent the inputs. The space complexity is also O(n), which is the maximum depth of the function call stack. (It is easy to replace the recursion with a loop, thereby reducing the space complexity to O(1)). "
   ]
  },
  {
   "cell_type": "markdown",
   "metadata": {},
   "source": [
    "## 15.1 The towers of hanoi problem \n",
    "\n",
    "A peg contains rings in sorted order, with the largest ring being the lowest. You are to transfer these rings to another peg, which is initially empty. \n",
    "\n",
    "You have a third peg, which is initially empty. The only operation you can perform is taking a singe ring from the top of one peg and placing it ton the top of another peg. You must never place a larger ring above a smaller ring. Write the function which returns a sequence of oerations that result in the transfer of n rings from one peg to another. "
   ]
  },
  {
   "cell_type": "code",
   "execution_count": 17,
   "metadata": {},
   "outputs": [],
   "source": [
    "NUM_PEGS = 3\n",
    "\n",
    "def compute_tower_hanoi(num_rings: int) -> list:\n",
    "    def compute_tower_hanoi_steps(num_rings_to_move, from_peg, to_peg,\n",
    "                                 use_peg):\n",
    "        if num_rings_to_move >0:\n",
    "            compute_tower_hanoi_steps(num_rings_to_move -1, from_peg, use_peg,\n",
    "                                     to_peg)\n",
    "            pegs[to_peg].append(pegs[from_peg].pop()) # used to record where the rings are\n",
    "            print('number of rings to move is')\n",
    "            print(num_rings_to_move)\n",
    "            print('pegs are')\n",
    "            print(pegs)\n",
    "            result.append([from_peg, to_peg])\n",
    "            compute_tower_hanoi_steps(num_rings_to_move -1, use_peg, to_peg, \n",
    "                                     from_peg)\n",
    "            \n",
    "    # Initialize pegs \n",
    "    result = []\n",
    "    pegs = [list(reversed(range(1, num_rings + 1)))] + [[] for _ in range(1, NUM_PEGS)]\n",
    "    compute_tower_hanoi_steps(num_rings, 0, 1, 2)\n",
    "    return result "
   ]
  },
  {
   "cell_type": "code",
   "execution_count": 3,
   "metadata": {},
   "outputs": [],
   "source": [
    "result = []\n",
    "number_rings = 3"
   ]
  },
  {
   "cell_type": "code",
   "execution_count": 5,
   "metadata": {},
   "outputs": [],
   "source": [
    "pegs = [list(reversed(range(1,number_rings+1)))\n",
    "       ] + [[] for _ in range(1, NUM_PEGS)]"
   ]
  },
  {
   "cell_type": "code",
   "execution_count": 6,
   "metadata": {},
   "outputs": [
    {
     "data": {
      "text/plain": [
       "[[3, 2, 1], [], []]"
      ]
     },
     "execution_count": 6,
     "metadata": {},
     "output_type": "execute_result"
    }
   ],
   "source": [
    "pegs"
   ]
  },
  {
   "cell_type": "code",
   "execution_count": 7,
   "metadata": {},
   "outputs": [],
   "source": [
    "from_peg = 0\n",
    "to_peg = 1\n",
    "use_peg = 2"
   ]
  },
  {
   "cell_type": "code",
   "execution_count": 11,
   "metadata": {},
   "outputs": [
    {
     "data": {
      "text/plain": [
       "[3, 2]"
      ]
     },
     "execution_count": 11,
     "metadata": {},
     "output_type": "execute_result"
    }
   ],
   "source": [
    "pegs[from_peg]"
   ]
  },
  {
   "cell_type": "code",
   "execution_count": 12,
   "metadata": {},
   "outputs": [],
   "source": [
    "pegs[to_peg].append(1)"
   ]
  },
  {
   "cell_type": "code",
   "execution_count": 13,
   "metadata": {},
   "outputs": [
    {
     "data": {
      "text/plain": [
       "[[3, 2], [1], []]"
      ]
     },
     "execution_count": 13,
     "metadata": {},
     "output_type": "execute_result"
    }
   ],
   "source": [
    "pegs"
   ]
  },
  {
   "cell_type": "code",
   "execution_count": 14,
   "metadata": {},
   "outputs": [
    {
     "data": {
      "text/plain": [
       "[0, 1]"
      ]
     },
     "execution_count": 14,
     "metadata": {},
     "output_type": "execute_result"
    }
   ],
   "source": [
    "[from_peg, to_peg]"
   ]
  },
  {
   "cell_type": "code",
   "execution_count": 15,
   "metadata": {},
   "outputs": [
    {
     "data": {
      "text/plain": [
       "3"
      ]
     },
     "execution_count": 15,
     "metadata": {},
     "output_type": "execute_result"
    }
   ],
   "source": [
    "use_peg"
   ]
  },
  {
   "cell_type": "code",
   "execution_count": 18,
   "metadata": {
    "scrolled": true
   },
   "outputs": [
    {
     "name": "stdout",
     "output_type": "stream",
     "text": [
      "number of rings to move is\n",
      "1\n",
      "pegs are\n",
      "[[3, 2], [1], []]\n",
      "number of rings to move is\n",
      "2\n",
      "pegs are\n",
      "[[3], [1], [2]]\n",
      "number of rings to move is\n",
      "1\n",
      "pegs are\n",
      "[[3], [], [2, 1]]\n",
      "number of rings to move is\n",
      "3\n",
      "pegs are\n",
      "[[], [3], [2, 1]]\n",
      "number of rings to move is\n",
      "1\n",
      "pegs are\n",
      "[[1], [3], [2]]\n",
      "number of rings to move is\n",
      "2\n",
      "pegs are\n",
      "[[1], [3, 2], []]\n",
      "number of rings to move is\n",
      "1\n",
      "pegs are\n",
      "[[], [3, 2, 1], []]\n"
     ]
    },
    {
     "data": {
      "text/plain": [
       "[[0, 1], [0, 2], [1, 2], [0, 1], [2, 0], [2, 1], [0, 1]]"
      ]
     },
     "execution_count": 18,
     "metadata": {},
     "output_type": "execute_result"
    }
   ],
   "source": [
    "compute_tower_hanoi(3)"
   ]
  },
  {
   "cell_type": "markdown",
   "metadata": {},
   "source": [
    "The number of moves, T(n), satisfies the following recurrence: T(n) = T(n-1) +1 + T(n-1) = 1 + 2T(n-1). The first T(n-1) corresponds to the transfer of the top n-1 rings from P1 to P3, and the second T(n-1) corresponds to the transfer from P3 to P2. The recurrence solves to T(n) = 2^n -1. One way to see this is to \"unwrap\" the recurrence: T(n) = 1+ 2+4 + ...+ 2^k T(n-k). Printing a single move takes O(1) time, so the time complexity is O(2^n)."
   ]
  },
  {
   "cell_type": "markdown",
   "metadata": {},
   "source": [
    "## 15.2 Compute all mnemonics for a phone number \n",
    "\n",
    "Each digit, apart from 0 and 1, in a phone keypad corresponds to one of three or four letters of the alphabet. Since words are easier to remember than numbers, it is natural to ask if a 7 or 10-digit phone number can be represented by a word. For example, \"2276696\" corresponds to \"ACRONYM\" as well as \"ABPOMZN\".\n",
    "\n",
    "Write a program which takes as input a phone number, specified as a string of digits, and returns all possible character sequences that correspond to the phone number. The cell phone keypad is specified by a mapping taht takes a digit and returns the corresponding set of characters. The character sequences do not have to be legal words or phrases. \n",
    "\n",
    "**Sol:** For a 7-digit phone number, the brute-force approach is to form 7 ranges of characters, one for each digit. We use 7 nested for-loops where the iteration variables correspond to the 7 ranges to enumerate all possible mnemonics. The drawbacks of such an approach are its repetitiveness in code and its inflexibility.\n",
    "\n",
    "As a general rule, any such enumeration is best computed using recursion. The execution path is very similar to that of the brute-force approach, but the complier handles the looping. "
   ]
  },
  {
   "cell_type": "code",
   "execution_count": 19,
   "metadata": {},
   "outputs": [],
   "source": [
    "# The mapping from digit to corresponding characters.\n",
    "MAPPING = ('0', '1', 'ABC', 'DEF', 'GHI','JKL','MNO','PQRS','TUV','WXYZ')\n",
    "\n",
    "def phone_mnemonic(phone_number: str) -> list:\n",
    "    def phone_mnemonic_helper(digit):\n",
    "        if digit == len(phone_number):\n",
    "            # All digits are processed, so add partial_mnemonic to menmonics.\n",
    "            # (We add a copy since subsequent calls modify partial_mnemonic.)\n",
    "            mnemonics.append(''.join(partial_mnemonic))\n",
    "        else:\n",
    "            # Try all possible characters for this digit.\n",
    "            for c in MAPPING[int(phone_number[digit])]:\n",
    "                partial_mnemonic[digit] = c\n",
    "                phone_mnemonic_helper(digit + 1)\n",
    "                \n",
    "    mnemonics = []\n",
    "    partial_mnemonic = [0]*len(phone_number)\n",
    "    phone_mnemonic_helper(0)\n",
    "    return mnemonics"
   ]
  },
  {
   "cell_type": "code",
   "execution_count": 23,
   "metadata": {},
   "outputs": [
    {
     "data": {
      "text/plain": [
       "['AAP',\n",
       " 'AAQ',\n",
       " 'AAR',\n",
       " 'AAS',\n",
       " 'ABP',\n",
       " 'ABQ',\n",
       " 'ABR',\n",
       " 'ABS',\n",
       " 'ACP',\n",
       " 'ACQ',\n",
       " 'ACR',\n",
       " 'ACS',\n",
       " 'BAP',\n",
       " 'BAQ',\n",
       " 'BAR',\n",
       " 'BAS',\n",
       " 'BBP',\n",
       " 'BBQ',\n",
       " 'BBR',\n",
       " 'BBS',\n",
       " 'BCP',\n",
       " 'BCQ',\n",
       " 'BCR',\n",
       " 'BCS',\n",
       " 'CAP',\n",
       " 'CAQ',\n",
       " 'CAR',\n",
       " 'CAS',\n",
       " 'CBP',\n",
       " 'CBQ',\n",
       " 'CBR',\n",
       " 'CBS',\n",
       " 'CCP',\n",
       " 'CCQ',\n",
       " 'CCR',\n",
       " 'CCS']"
      ]
     },
     "execution_count": 23,
     "metadata": {},
     "output_type": "execute_result"
    }
   ],
   "source": [
    "phone_mnemonic('227')"
   ]
  },
  {
   "cell_type": "markdown",
   "metadata": {},
   "source": [
    "Since there are no more than 4 possible characters for each digit, the number of recursive calls, T(n), satisfies T(n) <= 4 T(n-1), where n is the number of digits in the number. This solves to T(n) = O(4^n). For the function calls that entail recursion, the time spent within the function, not including the recursive calls, is O(1). Each base entails making a copy of a string and adding it to the result. Since each such strings has length n, each base cae takes time O(n). Therefore, the time complexity is O(4^n n)."
   ]
  },
  {
   "cell_type": "markdown",
   "metadata": {},
   "source": [
    "## 15.3 Generate all nonattacking placements of n-Queens\n",
    "\n",
    "A nonattacking placement of queens is one in which no two queens are in the same row, column, or diagonal. \n",
    "\n",
    "Write a program which returns all distinct nonattacking placements of n queens on an n \\times n chessboard, where n is an input to the program. "
   ]
  },
  {
   "cell_type": "code",
   "execution_count": 29,
   "metadata": {},
   "outputs": [],
   "source": [
    "def n_queens(n : int) -> list:\n",
    "    def solve_n_queens(row):\n",
    "        if row == n:\n",
    "            # All queens are legally placed \n",
    "            result.append(col_placement.copy())\n",
    "            return \n",
    "        for col in range(n):\n",
    "            # Test if a newly placed queen will conflict any earlier \n",
    "            # queens \n",
    "            # the new col is not the same as previous col and \n",
    "            # not in the diagonal position with previous point\n",
    "            if all(\n",
    "                abs(c - col) not in (0, row - i)\n",
    "                for i, c in enumerate(col_placement[: row])):\n",
    "                \n",
    "                col_placement[row] = col\n",
    "                print('row and col respectively are')\n",
    "                print(row, col)\n",
    "                solve_n_queens(row + 1)\n",
    "                \n",
    "    result = []\n",
    "    col_placement = [0]*n\n",
    "    solve_n_queens(0)\n",
    "    return result \n",
    "                \n",
    "                "
   ]
  },
  {
   "cell_type": "code",
   "execution_count": 30,
   "metadata": {},
   "outputs": [
    {
     "name": "stdout",
     "output_type": "stream",
     "text": [
      "row and col respectively are\n",
      "0 0\n",
      "row and col respectively are\n",
      "1 2\n",
      "row and col respectively are\n",
      "1 3\n",
      "row and col respectively are\n",
      "2 1\n",
      "row and col respectively are\n",
      "0 1\n",
      "row and col respectively are\n",
      "1 3\n",
      "row and col respectively are\n",
      "2 0\n",
      "row and col respectively are\n",
      "3 2\n",
      "row and col respectively are\n",
      "0 2\n",
      "row and col respectively are\n",
      "1 0\n",
      "row and col respectively are\n",
      "2 3\n",
      "row and col respectively are\n",
      "3 1\n",
      "row and col respectively are\n",
      "0 3\n",
      "row and col respectively are\n",
      "1 0\n",
      "row and col respectively are\n",
      "2 2\n",
      "row and col respectively are\n",
      "1 1\n"
     ]
    }
   ],
   "source": [
    "result = n_queens(4)"
   ]
  },
  {
   "cell_type": "code",
   "execution_count": 26,
   "metadata": {},
   "outputs": [
    {
     "name": "stdout",
     "output_type": "stream",
     "text": [
      "[[1, 3, 0, 2], [2, 0, 3, 1]]\n"
     ]
    }
   ],
   "source": [
    "print(result)"
   ]
  },
  {
   "cell_type": "code",
   "execution_count": 27,
   "metadata": {},
   "outputs": [],
   "source": [
    "result = n_queens(5)"
   ]
  },
  {
   "cell_type": "code",
   "execution_count": 28,
   "metadata": {},
   "outputs": [
    {
     "name": "stdout",
     "output_type": "stream",
     "text": [
      "[[0, 2, 4, 1, 3], [0, 3, 1, 4, 2], [1, 3, 0, 2, 4], [1, 4, 2, 0, 3], [2, 0, 3, 1, 4], [2, 4, 1, 3, 0], [3, 0, 2, 4, 1], [3, 1, 4, 2, 0], [4, 1, 3, 0, 2], [4, 2, 0, 3, 1]]\n"
     ]
    }
   ],
   "source": [
    "print(result)"
   ]
  },
  {
   "cell_type": "markdown",
   "metadata": {},
   "source": [
    "The time complexity is at least the number of nonattacking placements. Nobody knows how many nonattacking placements there are as function of n, but it increases very rapidly with n, and is no more than n! (since each queen must be on a different row). "
   ]
  },
  {
   "cell_type": "markdown",
   "metadata": {},
   "source": [
    "## 15.4 Generate Permutations\n",
    "\n",
    "Write a program which takes as input an array of distinct integers and generates all permutations of that array. No permutations of the array may appear more than once. \n",
    "\n",
    "Computing all permutations beginning with A[0] entails computing all permutations of A[1, n-1], which suggests the use of recursion. To compute all permutations beginning with A[1], we swap A[0] and A[1] and compute all permutations of the updated A[1, n-1]. We then restore the original state before embarking on computing all permutations beginning with A[2] and so on. "
   ]
  },
  {
   "cell_type": "code",
   "execution_count": 39,
   "metadata": {},
   "outputs": [],
   "source": [
    "def permutation(A: list) -> list:\n",
    "    def directed_permutation(i):\n",
    "        \n",
    "        if i == len(A) -1:\n",
    "            result.append(A.copy())\n",
    "            return \n",
    "    \n",
    "        # Try every possibility for A[i].\n",
    "        for j in range(i, len(A)):\n",
    "            A[i], A[j] = A[j], A[i]\n",
    "            # Generate all permutations for A[i+1:].\n",
    "            directed_permutation(i+1)\n",
    "            A[i], A[j] = A[j], A[i]\n",
    "        \n",
    "    result = []\n",
    "    directed_permutation(0)\n",
    "    return result \n",
    "        "
   ]
  },
  {
   "cell_type": "code",
   "execution_count": 38,
   "metadata": {},
   "outputs": [
    {
     "data": {
      "text/plain": [
       "[[7, 3, 5], [7, 5, 3], [5, 7, 3], [5, 3, 7], [7, 3, 5], [7, 5, 3]]"
      ]
     },
     "execution_count": 38,
     "metadata": {},
     "output_type": "execute_result"
    }
   ],
   "source": [
    "A = [7,3,5]\n",
    "permutation(A)"
   ]
  },
  {
   "cell_type": "markdown",
   "metadata": {},
   "source": [
    "Remark: we do swapping for i j. Then generate the permutation of sub sequence A[i+1:]. After that, we swap back i and j. If not swap back i and j, we may have repititives later on and missing for other cases. Since the sequence we permutate on is no longer previous list. This is the crucial reason why we need to swap back. "
   ]
  },
  {
   "cell_type": "markdown",
   "metadata": {},
   "source": [
    "The time complexity is determined by the number of recursive calls, since within each function the time spent is O(1), not including the time in the subcalls. The number of function calls, C(n) satisfies the recurrence C(n) = 1 + n C(n-1) for n >= 1, with C(0) = 1. Expanding this, we see, C(n) = 1 + n + n(n-1) + n(n-1)(n-2) + ... + n! = n!(1/n! + 1/(n-1)! + 1/(n-2)! + ... + 1/1!) = (e-1) n! as n goes to infinity. The time complexity is T(n) = O(n n!), since we do O(n) computation per call outside of the recursive calls. "
   ]
  },
  {
   "cell_type": "markdown",
   "metadata": {},
   "source": [
    "## 15.5 Generate the power set\n",
    "\n",
    "Write a function that takes as input a set and returns its power set. \n",
    "\n",
    "**Sol:** A brute-force way is to compute all subsets U that do not include a particular element (which could be any single element). Then we comnpute all subsets V which do include that element. Each subset must appear in U or in V, so the final result is just U Union V. The construction is recursive, and the base case is when the input set is empty, in which case we return {{}}. "
   ]
  },
  {
   "cell_type": "code",
   "execution_count": 44,
   "metadata": {},
   "outputs": [],
   "source": [
    "def generate_power_set(input_set: list) -> list:\n",
    "    # Generate all subsets whose intersection with input_set[0]. ...\n",
    "    # input_set[to_be_selected -1] is exactly selected_so_far\n",
    "    \n",
    "    def directed_power_set(to_be_selected, selected_so_far):\n",
    "        print('to be selected')\n",
    "        print(to_be_selected)\n",
    "        print('selected_so_far')\n",
    "        print(selected_so_far)\n",
    "        if to_be_selected == len(input_set):\n",
    "            power_set.append(selected_so_far)\n",
    "            return \n",
    "        \n",
    "        directed_power_set(to_be_selected + 1, selected_so_far)\n",
    "        # Generate all subsets that contain input_set[to_be_selected]\n",
    "        directed_power_set(to_be_selected + 1,\n",
    "                          selected_so_far + [input_set[to_be_selected]])\n",
    "        \n",
    "    power_set = []\n",
    "    directed_power_set(0,[])\n",
    "    return power_set"
   ]
  },
  {
   "cell_type": "code",
   "execution_count": 45,
   "metadata": {},
   "outputs": [],
   "source": [
    "input_set = [1,2]"
   ]
  },
  {
   "cell_type": "code",
   "execution_count": 46,
   "metadata": {},
   "outputs": [
    {
     "name": "stdout",
     "output_type": "stream",
     "text": [
      "to be selected\n",
      "0\n",
      "selected_so_far\n",
      "[]\n",
      "to be selected\n",
      "1\n",
      "selected_so_far\n",
      "[]\n",
      "to be selected\n",
      "2\n",
      "selected_so_far\n",
      "[]\n",
      "to be selected\n",
      "2\n",
      "selected_so_far\n",
      "[2]\n",
      "to be selected\n",
      "1\n",
      "selected_so_far\n",
      "[1]\n",
      "to be selected\n",
      "2\n",
      "selected_so_far\n",
      "[1]\n",
      "to be selected\n",
      "2\n",
      "selected_so_far\n",
      "[1, 2]\n"
     ]
    },
    {
     "data": {
      "text/plain": [
       "[[], [2], [1], [1, 2]]"
      ]
     },
     "execution_count": 46,
     "metadata": {},
     "output_type": "execute_result"
    }
   ],
   "source": [
    "generate_power_set(input_set)"
   ]
  },
  {
   "cell_type": "code",
   "execution_count": 63,
   "metadata": {},
   "outputs": [],
   "source": [
    "import math"
   ]
  },
  {
   "cell_type": "code",
   "execution_count": 64,
   "metadata": {},
   "outputs": [],
   "source": [
    "def generate_power_set_2(input_set: list) -> list:\n",
    "    power_set = []\n",
    "    for int_for_subset in range(1 << len(input_set)):\n",
    "        bit_array = int_for_subset\n",
    "        subset = []\n",
    "        while bit_array:\n",
    "            subset.append(int(math.log2(bit_array & ~(bit_array -1))))\n",
    "            bit_array &= bit_array -1 \n",
    "        power_set.append(subset)\n",
    "    return power_set"
   ]
  },
  {
   "cell_type": "code",
   "execution_count": 65,
   "metadata": {},
   "outputs": [
    {
     "data": {
      "text/plain": [
       "[[], [0], [1], [0, 1], [2], [0, 2], [1, 2], [0, 1, 2]]"
      ]
     },
     "execution_count": 65,
     "metadata": {},
     "output_type": "execute_result"
    }
   ],
   "source": [
    "generate_power_set_2(A)"
   ]
  },
  {
   "cell_type": "markdown",
   "metadata": {},
   "source": [
    "## 15.6 Generate all subsets of size k\n",
    "\n",
    "There are a number of testing applications in which it is required to compute all subsets of a given size for a specified set. \n",
    "\n",
    "Write a program which computes all size k subsets of {1,2,...,n}, where k and n are program inputs. For example, if k =2, n = 5, then the result is the following: {{1,2}, {1,3}, {1,4}, {1,5}, {2,3}, {2,4}, {2,5}, {3,4}, {3,5}, {4,5}}. "
   ]
  },
  {
   "cell_type": "code",
   "execution_count": 1,
   "metadata": {},
   "outputs": [],
   "source": [
    "def combinations(n: int, k : int) -> list:\n",
    "    def directed_combinations(offset, partial_combination):\n",
    "        if len(partial_combination) == k:\n",
    "            result.append(partial_combination.copy())\n",
    "            return \n",
    "        \n",
    "        # Generate remaining combinations over {offset, ..., n-1} of size num_remaining \n",
    "        num_remaining = k - len(partial_combination)\n",
    "        i = offset\n",
    "        while i <= n and num_remaining <= n - i +1:\n",
    "            directed_combinations(i + 1, partial_combination + [i])\n",
    "            i += 1\n",
    "    result = []\n",
    "    directed_combinations(1, [])\n",
    "    return result "
   ]
  },
  {
   "cell_type": "code",
   "execution_count": 2,
   "metadata": {},
   "outputs": [
    {
     "data": {
      "text/plain": [
       "[[1, 2],\n",
       " [1, 3],\n",
       " [1, 4],\n",
       " [1, 5],\n",
       " [2, 3],\n",
       " [2, 4],\n",
       " [2, 5],\n",
       " [3, 4],\n",
       " [3, 5],\n",
       " [4, 5]]"
      ]
     },
     "execution_count": 2,
     "metadata": {},
     "output_type": "execute_result"
    }
   ],
   "source": [
    "combinations(5,2)"
   ]
  },
  {
   "cell_type": "markdown",
   "metadata": {},
   "source": [
    "The time complexity is O(nC^n_k); the reasoning is analogous to that for the recursive solution enmuerating the powerset. "
   ]
  },
  {
   "cell_type": "markdown",
   "metadata": {},
   "source": [
    "## 15.7 Generate strings of matched parens\n",
    "\n",
    "Strings in which parens are matched are defined by the following three rules:\n",
    "* The empty string, \"\", is a string in which parens are matched. \n",
    "* The addition of a leading left parens and a trailing right parens to a string in which parens are matched results in a string in which parens are matched. For example, since \"(())()\" is a string with matched parens, so is \"((()))())\". \n",
    "* The concatenation of two strings in which parens are matched is itself a string in which parens are matched. For example, since \"(())()\" and \"()\" are strings with matched parens,so is \"(())()()\". \n",
    "\n",
    "Write a program that takes as input a number and returns all the strings with that number of matched pairs of parens. \n",
    "\n",
    "**Sol:** We can greatly imporve upon the time complexity by enumerating in a more directed fashion. For example, some strings can never be completed to a string with k pairs of matched parens, e.g., if a string begins with ). Therefore, one way to be more directed is to build strings incrementally. We will ensure that as each additional character is added, the resulting string has the potential to be completed to a string with k pairs of matched parens. \n",
    "\n",
    "Suppose we have a string whose length is less than 2k, and we know the string can be completed to a string with k pairs of matched parens. How can we extend that string with an additional character so that the resulting string can still be completed to a string with k pairs of matched parens? \n",
    "\n",
    "There are two possibilities: we add a left parens, or we add a right parens. \n",
    "\n",
    "* If we add a left parens, and still want to complete the string to a string with k pairs of matched parens, it must be that the number of left parens we need is greater than 0. \n",
    "* If we add a right parens, and still want to complete the string to a string with k pairs of matched parens, it must be taht the number of left parens we need is less than the number of right parens (i.e., there are unmatched left parens in the string). "
   ]
  },
  {
   "cell_type": "code",
   "execution_count": 7,
   "metadata": {},
   "outputs": [],
   "source": [
    "def generate_balanced_parentheses(num_pairs: int) -> list:\n",
    "    def directed_generate_balanced_parentheses(num_left_parens_needed,\n",
    "                                               num_right_parens_needed,\n",
    "                                               valid_prefix,\n",
    "                                               result = []):\n",
    "        if num_left_parens_needed > 0: # Able to insert '('.\n",
    "            directed_generate_balanced_parentheses(num_left_parens_needed - 1,\n",
    "                                                   num_right_parens_needed,\n",
    "                                                   valid_prefix + '(')\n",
    "            print(valid_prefix)\n",
    "        if num_left_parens_needed < num_right_parens_needed:\n",
    "            # Able to insert ')'.\n",
    "            directed_generate_balanced_parentheses(num_left_parens_needed, \n",
    "                                                   num_right_parens_needed - 1,\n",
    "                                                   valid_prefix + ')')\n",
    "            print(valid_prefix)\n",
    "            \n",
    "        if not num_right_parens_needed:\n",
    "            result.append(valid_prefix)\n",
    "        return result \n",
    "    \n",
    "    return directed_generate_balanced_parentheses(num_pairs, num_pairs, '')"
   ]
  },
  {
   "cell_type": "code",
   "execution_count": 8,
   "metadata": {},
   "outputs": [
    {
     "name": "stdout",
     "output_type": "stream",
     "text": [
      "(()\n",
      "((\n",
      "(\n",
      "()(\n",
      "()\n",
      "(\n",
      "\n"
     ]
    },
    {
     "data": {
      "text/plain": [
       "['(())', '()()']"
      ]
     },
     "execution_count": 8,
     "metadata": {},
     "output_type": "execute_result"
    }
   ],
   "source": [
    "generate_balanced_parentheses(2)"
   ]
  },
  {
   "cell_type": "markdown",
   "metadata": {},
   "source": [
    "The number C(k) of strings with k pairs of matched parens grows very rapidly with k. Specifically, it can be shown that \n",
    "$$\n",
    "C(k+1) = \\sum_{i=0}^k C^k_i \\frac{1}{k+1} = \\frac{(2k)!}{k!(k+1)!}\n",
    "$$"
   ]
  },
  {
   "cell_type": "markdown",
   "metadata": {},
   "source": [
    "## 15.8 Generate palindromic decompositions \n",
    "\n",
    "A string is said to be palindromic if it reads the same backwards and forwards. A decomposition of a string is a set of strings whose concatenationis the string. For example, \"611116\" is palindromic, and \"611\", \"11\", \"6\" is one decomposition for it. \n",
    "\n",
    "Conmpute all palindromic decomposotion of a given string. For example, if the string is \"0204451881\", then the decomposition \"020\", \"44\", \"5\", \"1881\" is palindromic, as is \"020\", \"44\", \"5\", \"1\", \"88\", \"1\". \n",
    "\n",
    "**Hint:** Focus on the first palindromic string in a palindromic decomposition. "
   ]
  },
  {
   "cell_type": "code",
   "execution_count": 11,
   "metadata": {},
   "outputs": [],
   "source": [
    "def palindrome_decomposition(text: str) -> list:\n",
    "    def directed_palindrome_decomposition(offset, partial_partition):\n",
    "        if offset == len(text):\n",
    "            result.append(partial_partition.copy())\n",
    "            return \n",
    "        \n",
    "        for i in range(offset+1, len(text) + 1):\n",
    "            prefix = text[offset:i]\n",
    "            if prefix == prefix[::-1]: # check if the first part is palindromic\n",
    "                directed_palindrome_decomposition(\n",
    "                    i, partial_partition + [prefix])\n",
    "    result =  []\n",
    "    directed_palindrome_decomposition(0 , [])\n",
    "    return result "
   ]
  },
  {
   "cell_type": "code",
   "execution_count": 12,
   "metadata": {},
   "outputs": [
    {
     "data": {
      "text/plain": [
       "[['6', '1', '1', '1', '1', '6'],\n",
       " ['6', '1', '1', '11', '6'],\n",
       " ['6', '1', '11', '1', '6'],\n",
       " ['6', '1', '111', '6'],\n",
       " ['6', '11', '1', '1', '6'],\n",
       " ['6', '11', '11', '6'],\n",
       " ['6', '111', '1', '6'],\n",
       " ['6', '1111', '6'],\n",
       " ['611116']]"
      ]
     },
     "execution_count": 12,
     "metadata": {},
     "output_type": "execute_result"
    }
   ],
   "source": [
    "text = '611116'\n",
    "palindrome_decomposition(text)"
   ]
  },
  {
   "cell_type": "code",
   "execution_count": 13,
   "metadata": {},
   "outputs": [
    {
     "data": {
      "text/plain": [
       "[['0', '2', '0', '4', '4', '5', '1', '8', '8', '1'],\n",
       " ['0', '2', '0', '4', '4', '5', '1', '88', '1'],\n",
       " ['0', '2', '0', '4', '4', '5', '1881'],\n",
       " ['0', '2', '0', '44', '5', '1', '8', '8', '1'],\n",
       " ['0', '2', '0', '44', '5', '1', '88', '1'],\n",
       " ['0', '2', '0', '44', '5', '1881'],\n",
       " ['020', '4', '4', '5', '1', '8', '8', '1'],\n",
       " ['020', '4', '4', '5', '1', '88', '1'],\n",
       " ['020', '4', '4', '5', '1881'],\n",
       " ['020', '44', '5', '1', '8', '8', '1'],\n",
       " ['020', '44', '5', '1', '88', '1'],\n",
       " ['020', '44', '5', '1881']]"
      ]
     },
     "execution_count": 13,
     "metadata": {},
     "output_type": "execute_result"
    }
   ],
   "source": [
    "text = '0204451881'\n",
    "palindrome_decomposition(text)"
   ]
  },
  {
   "cell_type": "markdown",
   "metadata": {},
   "source": [
    "The worst-case time complexity is still $O(n \\times 2^n)$, e.g., if the input string consists of n repetitions of a single character. However, our program has much better best-case time complexity than the brute-force appraoch, e.g., when there are very few palindromic decompositions. "
   ]
  },
  {
   "cell_type": "code",
   "execution_count": 14,
   "metadata": {},
   "outputs": [],
   "source": [
    "# Pythonic solution uses bottom-up construction\n",
    "def palindrome_decompositions_pythonic_2(text):\n",
    "    return ([[text[:i]] + right for i in range(1, \n",
    "                                              len(text) + 1)\n",
    "            if text[:i] == text[:i][::-1]\n",
    "            for right in palindrome_decompositions_pythonic_2(text[i:])]\n",
    "            or [[]])"
   ]
  },
  {
   "cell_type": "code",
   "execution_count": 15,
   "metadata": {},
   "outputs": [
    {
     "data": {
      "text/plain": [
       "[['0', '2', '0', '4', '4', '5', '1', '8', '8', '1'],\n",
       " ['0', '2', '0', '4', '4', '5', '1', '88', '1'],\n",
       " ['0', '2', '0', '4', '4', '5', '1881'],\n",
       " ['0', '2', '0', '44', '5', '1', '8', '8', '1'],\n",
       " ['0', '2', '0', '44', '5', '1', '88', '1'],\n",
       " ['0', '2', '0', '44', '5', '1881'],\n",
       " ['020', '4', '4', '5', '1', '8', '8', '1'],\n",
       " ['020', '4', '4', '5', '1', '88', '1'],\n",
       " ['020', '4', '4', '5', '1881'],\n",
       " ['020', '44', '5', '1', '8', '8', '1'],\n",
       " ['020', '44', '5', '1', '88', '1'],\n",
       " ['020', '44', '5', '1881']]"
      ]
     },
     "execution_count": 15,
     "metadata": {},
     "output_type": "execute_result"
    }
   ],
   "source": [
    "palindrome_decompositions_pythonic_2(text)"
   ]
  },
  {
   "cell_type": "markdown",
   "metadata": {},
   "source": [
    "## 15.9 Generate Binary Tree\n",
    "\n",
    "Write a program which returns all distinct binary trees with a specified number of nodes. \n",
    "\n",
    "**Sol:** A brute-force solution to generate all binary trees on n nodes would be to generate all binary trees on n-1 or fewer nodes. Afterwards, from all binary trees with a root and a left child with n-1 or fewer nodes, and a right child with n-1 or fewer nodes. The resulting trees would all be distinct, since no two would have the same left and right child. However, some will have fewer than n-1 nodes, and some will have more. \n",
    "\n",
    "The key to efficiently is to do direct the search. If the left child has k nodes, we should only use right children with n-1-k nodes, to get binary trees with n nodes that have that left child. Specifically, we get all binary trees on n nodes by getting all left subtrees on i nodes, and right subtrees on n-1-i nodes, for i between 0 and n-1. \n",
    "\n",
    "The set of two trees on two nodes is itself computed recursively. "
   ]
  },
  {
   "cell_type": "code",
   "execution_count": 18,
   "metadata": {},
   "outputs": [],
   "source": [
    "def generate_all_binary_trees(num_nodes: int) -> list:\n",
    "    if num_nodes == 0: # Empty tree, add as a None\n",
    "        return [None]\n",
    "    \n",
    "    result = []\n",
    "    for num_left_tree_nodes in range(num_nodes):\n",
    "        num_right_tree_nodes = num_nodes - 1 - num_left_tree_nodes\n",
    "        left_subtrees = generate_all_binary_trees(num_left_tree_nodes)\n",
    "        right_subtrees = generate_all_binary_trees(num_right_tree_nodes)\n",
    "        # Generate all combinations of left_subtrees and right_subtrees \n",
    "        result += [\n",
    "            BinaryTreeNode(0,left,right) for left in left_subtrees\n",
    "            for right in right_subtrees\n",
    "        ]\n",
    "    return result "
   ]
  },
  {
   "cell_type": "code",
   "execution_count": 20,
   "metadata": {},
   "outputs": [],
   "source": [
    "bst_trees_set = generate_all_binary_trees(3)"
   ]
  },
  {
   "cell_type": "code",
   "execution_count": 22,
   "metadata": {},
   "outputs": [
    {
     "data": {
      "text/plain": [
       "[<__main__.BinaryTreeNode at 0x7f4ffc0d1ba8>,\n",
       " <__main__.BinaryTreeNode at 0x7f4ffc0d1d68>,\n",
       " <__main__.BinaryTreeNode at 0x7f4ffc0d1828>,\n",
       " <__main__.BinaryTreeNode at 0x7f4ffc0d17f0>,\n",
       " <__main__.BinaryTreeNode at 0x7f4ffc0d1860>]"
      ]
     },
     "execution_count": 22,
     "metadata": {},
     "output_type": "execute_result"
    }
   ],
   "source": [
    "bst_trees_set"
   ]
  },
  {
   "cell_type": "code",
   "execution_count": 27,
   "metadata": {},
   "outputs": [
    {
     "name": "stdout",
     "output_type": "stream",
     "text": [
      "left child\n",
      "root: 0\n",
      "right child\n",
      "left child\n",
      "root: 0\n",
      "right child\n",
      "left child\n",
      "root: 0\n",
      "right child\n",
      "left child\n",
      "root: 0\n",
      "right child\n",
      "left child\n",
      "left child\n",
      "root: 0\n",
      "right child\n",
      "root: 0\n",
      "right child\n",
      "left child\n",
      "left child\n",
      "root: 0\n",
      "right child\n",
      "root: 0\n",
      "right child\n",
      "left child\n",
      "root: 0\n",
      "right child\n",
      "left child\n",
      "left child\n",
      "root: 0\n",
      "right child\n",
      "left child\n",
      "root: 0\n",
      "right child\n",
      "root: 0\n",
      "right child\n",
      "left child\n",
      "left child\n",
      "left child\n",
      "root: 0\n",
      "right child\n",
      "root: 0\n",
      "right child\n",
      "root: 0\n",
      "right child\n"
     ]
    }
   ],
   "source": [
    "for i in bst_trees_set:\n",
    "    tree_traversal_inorder(i)"
   ]
  },
  {
   "cell_type": "markdown",
   "metadata": {},
   "source": [
    "The number of calls C(n) to the recursive function satisfies the recurrence $$ C(n) = \\sum_{i=1}^n C(n-i) C(i-1)$$. \n",
    "The quantity C(n) is called the nth Catalan number, which is known to be equal to $\\frac{(2n)!}{n!(n+1)!}$. Comparing Solution 15.7 on Page 245 to this solution, you will see considerable similarity-- the Catalan numbers appear in numerous types of combinatorial problems. "
   ]
  },
  {
   "cell_type": "markdown",
   "metadata": {},
   "source": [
    "## 15.10 Implement a Sudoku Solver \n",
    "\n",
    "Implement a Sudoku solver. Sudoku is a popular logic-based combinatorial number of placement puzzle. The objective is to fill a 9*9 grid with digits subject to the constraint that each column, each row, and each of the nine 3*3 sub-grids that compose the grid contains unique integers in [1,9].\n",
    "\n",
    "**Hint:** Apply the constraints to speed up a brute-force algorithm. \n",
    "\n",
    "**Sol:** A brute-force solution would be to try every possible assignment to empty entries, and then check if that assignment leads to a valid solution using Sol 5.17 on page 65. This is wasteful, since if setting a value early on leads to a constraint violation, there is no point in continuing. Therefore, we should apply the backtracking principle. \n",
    "\n",
    "Specifically, we traverse the 2D array entries one at a time. If the entry is empty, we try each value for the entry, and see if the updated 2D array is still valid; if it is, we recurse. If all the entries have been filled, the search is successful. The naive approach to testing validity is calling Solution 5.17 on page 65. However, we can reduce runtime considerably by making use of the fact that we are addinga value to an array that already satisfies the constraints. This means that we need to check just the row, column, and subgrid of the added entry. "
   ]
  },
  {
   "cell_type": "code",
   "execution_count": 30,
   "metadata": {},
   "outputs": [],
   "source": [
    "import math\n",
    "import itertools"
   ]
  },
  {
   "cell_type": "code",
   "execution_count": 31,
   "metadata": {},
   "outputs": [
    {
     "ename": "SyntaxError",
     "evalue": "invalid syntax (<ipython-input-31-7beefee6d063>, line 30)",
     "output_type": "error",
     "traceback": [
      "\u001b[0;36m  File \u001b[0;32m\"<ipython-input-31-7beefee6d063>\"\u001b[0;36m, line \u001b[0;32m30\u001b[0m\n\u001b[0;31m    for a,b in itertools.product(range(region_size), repeat = 2))\u001b[0m\n\u001b[0m      ^\u001b[0m\n\u001b[0;31mSyntaxError\u001b[0m\u001b[0;31m:\u001b[0m invalid syntax\n"
     ]
    }
   ],
   "source": [
    "def solve_sudoku(partial_assignment: list) -> bool:\n",
    "    def solve_partial_sudoku(i,j):\n",
    "        if i == len(partial_assignment):\n",
    "            i = 0 # Starts a row.\n",
    "            j += 1\n",
    "            if j == len(partial_assignment[i]):\n",
    "                return True # Entire matrix has been filled without conflict \n",
    "            \n",
    "        # Skips nonempty entries.\n",
    "        if partial_assignment[i][j] != empty_entry:\n",
    "            return solve_partial_sudoku(i+1, j)\n",
    "        \n",
    "        def valid_to_add(i, j, val):\n",
    "            # Check row constraints \n",
    "            if any(val == partial_assignment[k][j]\n",
    "                   for k in range(len(partial_assignment))):\n",
    "                return False \n",
    "            \n",
    "            # Check column constraints \n",
    "            if val in partial_assignment[i]:\n",
    "                return False \n",
    "            \n",
    "            # Check region constraints \n",
    "            region_size = int(math.sqrt(len(partial_assignment)))\n",
    "            I = i//region_size\n",
    "            J = j//region_size\n",
    "            \n",
    "            return not any(\n",
    "                val = partial_assignment[region_size* I + a][region_size*J +b]\n",
    "                for a,b in itertools.product(range(region_size), repeat = 2))\n",
    "        \n",
    "        for val in range(1, len(partial_assignment) + 1):\n",
    "            # It's substantially quicker to check if entry val with any of the constraints \n",
    "            # if we did it at (i,j) adding it, rahter than adding it and then \n",
    "            # checking all constraints. The reason is that we know we are starting with \n",
    "            # a valid configuration, and the only entry which can cause a problem is entry val at (i,j). \n",
    "            \n",
    "            if valid_to_add(i,j,val):\n",
    "                partial_assignment[i][j] = val\n",
    "                if solve_partial_sudoku(i+1, j):\n",
    "                    return True\n",
    "                \n",
    "        partial_assignment[i][j] = empty_entry # Undo assignement \n",
    "        return False\n",
    "    empty_entry = 0\n",
    "    return solve_partial_sudoku(0,0)"
   ]
  },
  {
   "cell_type": "markdown",
   "metadata": {},
   "source": [
    "Complexity: NP hard porblem for n * n size grid Sudoku problem. "
   ]
  },
  {
   "cell_type": "markdown",
   "metadata": {},
   "source": [
    "## 15.11 Compute a Gray code \n",
    "\n",
    "A n-bit Gray code is a permutation of {0,1,2,...,2^n-1} such that the binary representations of successive integers in the sequence differ in only one place. \n",
    "\n",
    "Write a program which takes n as input and returns an n-bit Gray code.\n",
    "\n",
    "**Sol:** We can do much better by directing the enumeration. Specifically, we build the sequence incrementally, adding a value only if it is distinct from all values currently in the sequence, and differs in exactly one place with the previous value. (For the last value, we have to check taht it differs in one place from the first value). "
   ]
  },
  {
   "cell_type": "code",
   "execution_count": null,
   "metadata": {},
   "outputs": [],
   "source": [
    "def gray_code(num_bits: int) -> list:\n",
    "    def directed_gray_code(history):\n",
    "        bit_difference = x^y\n",
    "        "
   ]
  }
 ],
 "metadata": {
  "kernelspec": {
   "display_name": "Python 3",
   "language": "python",
   "name": "python3"
  },
  "language_info": {
   "codemirror_mode": {
    "name": "ipython",
    "version": 3
   },
   "file_extension": ".py",
   "mimetype": "text/x-python",
   "name": "python",
   "nbconvert_exporter": "python",
   "pygments_lexer": "ipython3",
   "version": "3.6.8"
  }
 },
 "nbformat": 4,
 "nbformat_minor": 2
}
