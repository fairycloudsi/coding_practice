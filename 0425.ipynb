{
 "cells": [
  {
   "cell_type": "markdown",
   "metadata": {},
   "source": [
    "## Leetcode 46 Permutations"
   ]
  },
  {
   "cell_type": "code",
   "execution_count": 40,
   "metadata": {},
   "outputs": [],
   "source": [
    "def permute(nums: list) -> list:\n",
    "\n",
    "    n = len(nums)\n",
    "    ans = []\n",
    "    used = [0 for i in range(n)]\n",
    "    path = []\n",
    "    if n == 0:\n",
    "        return ans \n",
    "\n",
    "    def dfs(d):\n",
    "        if d == n:\n",
    "#             print('yes')\n",
    "#.          copy!!!\n",
    "            ans.append(path[:])\n",
    "#             print('ans is ')\n",
    "#             print(ans)\n",
    "            return \n",
    "        for i in range(n):\n",
    "            if used[i]:\n",
    "                continue\n",
    "            used[i] = 1 \n",
    "            path.append(nums[i])\n",
    "            dfs(d+1)\n",
    "            path.pop()\n",
    "            used[i] = 0 \n",
    "\n",
    "    dfs(0)\n",
    "    return ans "
   ]
  },
  {
   "cell_type": "code",
   "execution_count": 41,
   "metadata": {},
   "outputs": [],
   "source": [
    "nums = [1,2,3]"
   ]
  },
  {
   "cell_type": "code",
   "execution_count": 42,
   "metadata": {},
   "outputs": [
    {
     "data": {
      "text/plain": [
       "[[1, 2, 3], [1, 3, 2], [2, 1, 3], [2, 3, 1], [3, 1, 2], [3, 2, 1]]"
      ]
     },
     "execution_count": 42,
     "metadata": {},
     "output_type": "execute_result"
    }
   ],
   "source": [
    "permute(nums)"
   ]
  },
  {
   "cell_type": "markdown",
   "metadata": {},
   "source": [
    "## 153. Find Minimum in Rotated Sorted Array\n",
    "\n",
    "Problem:\n",
    "\n",
    "Suppose an array sorted in ascending order is rotated at some pivot unknown to you beforehand.\n",
    "\n",
    "(i.e., 0 1 2 4 5 6 7 might become 4 5 6 7 0 1 2).\n",
    "\n",
    "Find the minimum element.\n",
    "\n",
    "You may assume no duplicate exists in the array.\n",
    "\n",
    "Idea:\n",
    "\n",
    "Divide and conquer.\n",
    "\n",
    "Evenly Split the array into two sub-arrays, and find the minimums of them, return the smaller one.\n",
    "\n",
    "findMin(a[0..n]) = min(findMin(a[0..n/2], a[n/2..n])\n",
    "\n",
    "Key property:\n",
    "\n",
    "One of the sub-array will be a sorted array, it takes O(1) to find the minimal element, just the first element.\n",
    "\n"
   ]
  },
  {
   "cell_type": "code",
   "execution_count": null,
   "metadata": {},
   "outputs": [],
   "source": []
  }
 ],
 "metadata": {
  "kernelspec": {
   "display_name": "Python 3",
   "language": "python",
   "name": "python3"
  },
  "language_info": {
   "codemirror_mode": {
    "name": "ipython",
    "version": 3
   },
   "file_extension": ".py",
   "mimetype": "text/x-python",
   "name": "python",
   "nbconvert_exporter": "python",
   "pygments_lexer": "ipython3",
   "version": "3.7.4"
  }
 },
 "nbformat": 4,
 "nbformat_minor": 2
}
