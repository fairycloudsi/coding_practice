{
 "cells": [
  {
   "cell_type": "markdown",
   "metadata": {},
   "source": [
    "## 675. Cut Off Trees for Golf Event \n",
    "\n",
    "You are asked to cut off trees in a forest for a golf event. The forest is represented as a non=negative 2D map, in this map:\n",
    "\n",
    "1. 0 represents the obstacle can't be reached.\n",
    "\n",
    "2. 1 represents the ground can be walked through.\n",
    "\n",
    "3. The place with number bigger than 1 represents a tree can be walkd through, and this positive number represents the tree's height. \n",
    "\n",
    "You are asked to cut off all the trees in this forest in order of tree's height--always cut off the tree with lowest height first. And after cutting, the original place has the tree will become a grass (value 1). \n",
    "\n",
    "You will start from the point (0,0) and you should output the minimum steps you need to walk to cut off all the trees. If you can't cut off all the trees, output -1 in that situation. \n",
    "\n",
    "You are guaranteed that no two trees have the same height and there is at least one tree needs to be cut off. \n",
    "\n",
    "**Example 1:**\n",
    "\n",
    "Input: \n",
    "[\n",
    " [1,2,3],\n",
    " [0,0,4],\n",
    " [7,6,5]\n",
    "]\n",
    "Output: 6\n",
    " \n",
    "\n",
    "**Example 2:**\n",
    "\n",
    "Input: \n",
    "[\n",
    " [1,2,3],\n",
    " [0,0,0],\n",
    " [7,6,5]\n",
    "]\n",
    "Output: -1\n",
    " \n",
    "\n",
    "**Example 3:**\n",
    "\n",
    "Input: \n",
    "[\n",
    " [2,3,4],\n",
    " [0,0,5],\n",
    " [8,7,6]\n",
    "]\n",
    "Output: 6\n",
    "Explanation: You started from the point (0,0) and you can cut off the tree in (0,0) directly without walking.\n",
    "\n",
    "**Hint:**\n",
    "size of the given matrix will not exceed 50 $\\times $50"
   ]
  },
  {
   "cell_type": "code",
   "execution_count": 7,
   "metadata": {},
   "outputs": [],
   "source": [
    "from collections import deque"
   ]
  },
  {
   "cell_type": "code",
   "execution_count": 8,
   "metadata": {},
   "outputs": [],
   "source": [
    "queue = deque()"
   ]
  },
  {
   "cell_type": "code",
   "execution_count": 9,
   "metadata": {},
   "outputs": [],
   "source": [
    "queue.append(1)"
   ]
  },
  {
   "cell_type": "code",
   "execution_count": 10,
   "metadata": {},
   "outputs": [],
   "source": [
    "queue.append(2)"
   ]
  },
  {
   "cell_type": "code",
   "execution_count": 11,
   "metadata": {},
   "outputs": [
    {
     "name": "stdout",
     "output_type": "stream",
     "text": [
      "deque([1, 2])\n"
     ]
    }
   ],
   "source": [
    "print(queue)"
   ]
  },
  {
   "cell_type": "code",
   "execution_count": 12,
   "metadata": {},
   "outputs": [
    {
     "data": {
      "text/plain": [
       "1"
      ]
     },
     "execution_count": 12,
     "metadata": {},
     "output_type": "execute_result"
    }
   ],
   "source": [
    "queue.popleft()"
   ]
  },
  {
   "cell_type": "code",
   "execution_count": 13,
   "metadata": {},
   "outputs": [
    {
     "name": "stdout",
     "output_type": "stream",
     "text": [
      "deque([2])\n"
     ]
    }
   ],
   "source": [
    "print(queue)"
   ]
  },
  {
   "cell_type": "code",
   "execution_count": 14,
   "metadata": {},
   "outputs": [
    {
     "data": {
      "text/plain": [
       "1"
      ]
     },
     "execution_count": 14,
     "metadata": {},
     "output_type": "execute_result"
    }
   ],
   "source": [
    "len(queue)"
   ]
  },
  {
   "cell_type": "code",
   "execution_count": 24,
   "metadata": {},
   "outputs": [],
   "source": [
    "def cutOffTree(forest: list) -> int:\n",
    "    n = len(forest)\n",
    "    if n == 0:\n",
    "        return 0\n",
    "    m = len(forest[0])\n",
    "    \n",
    "    trees = []\n",
    "    \n",
    "    for x in range(n):\n",
    "        for y in range(m):\n",
    "            if forest[x][y] > 1:\n",
    "                trees.append([forest[x][y], x, y])\n",
    "    print(trees)\n",
    "    trees.sort()\n",
    "    print(trees)\n",
    "    \n",
    "    sx = 0\n",
    "    sy = 0 \n",
    "    \n",
    "    total_steps = 0 \n",
    "    \n",
    "    def BFS(forest, sx:int, sy:int, tx:int, ty:int):\n",
    "        # sx, sy initial points to start\n",
    "        # tx, ty end points \n",
    "        directions = [[-1, 0], [1, 0], [0, 1], [0, -1]]\n",
    "        visited = [[0 for _ in range(n)] for _ in range(m)]\n",
    "        \n",
    "        q = deque()\n",
    "        \n",
    "        q.append([sx, sy])\n",
    "        \n",
    "        steps = 0\n",
    "        while not q:\n",
    "            new_nodes = len(q)\n",
    "            while (new_nodes):\n",
    "                new_nodes -= 1 \n",
    "                node = q.popleft()\n",
    "                cx = node[0]\n",
    "                cy = node[1]\n",
    "                # Found the shortest path \n",
    "                if (cx == tx and cy == ty):\n",
    "                    return steps \n",
    "                for i in range(4):\n",
    "                    x = cx + directions[i][0]\n",
    "                    y = cy + directions[i][1]\n",
    "                    # out of bound or unwalkable\n",
    "                    if (x < 0 or x == n or y < 0 or y == m or \n",
    "                       not forest[x][y] or visited[x][y]):\n",
    "                        continue\n",
    "                    visited[x][y] = 1\n",
    "                    q.append([x,y])\n",
    "            steps += 1\n",
    "        return float('inf')\n",
    "                    \n",
    "        \n",
    "    \n",
    "    for i in range(len(trees)):\n",
    "        tx = trees[i][1]\n",
    "        ty = trees[i][2]\n",
    "        # compute steps from sx and sy to tx and ty \n",
    "        steps = BFS(forest, sx, sy, tx, ty)\n",
    "        if steps == float('inf'):\n",
    "            return -1 \n",
    "        # cut the tree, not necessary \n",
    "        forest[tx][ty] = 1\n",
    "        total_steps += steps\n",
    "        print('total steps are')\n",
    "        print(total_steps)\n",
    "        # change end point to start point \n",
    "        sx = tx\n",
    "        sy = ty\n",
    "    return total_steps \n",
    "                              \n",
    "        "
   ]
  },
  {
   "cell_type": "code",
   "execution_count": 25,
   "metadata": {},
   "outputs": [],
   "source": [
    "forest = [\n",
    "    [1,2,3],\n",
    "    [0,0,4],\n",
    "    [7,6,5],\n",
    "    [8,9,10]\n",
    "]"
   ]
  },
  {
   "cell_type": "code",
   "execution_count": 26,
   "metadata": {},
   "outputs": [
    {
     "name": "stdout",
     "output_type": "stream",
     "text": [
      "[[2, 0, 1], [3, 0, 2], [4, 1, 2], [7, 2, 0], [6, 2, 1], [5, 2, 2], [8, 3, 0], [9, 3, 1], [10, 3, 2]]\n",
      "[[2, 0, 1], [3, 0, 2], [4, 1, 2], [5, 2, 2], [6, 2, 1], [7, 2, 0], [8, 3, 0], [9, 3, 1], [10, 3, 2]]\n"
     ]
    },
    {
     "data": {
      "text/plain": [
       "-1"
      ]
     },
     "execution_count": 26,
     "metadata": {},
     "output_type": "execute_result"
    }
   ],
   "source": [
    "cutOffTree(forest)"
   ]
  },
  {
   "cell_type": "markdown",
   "metadata": {},
   "source": [
    "## 429. N-ary Tree Level Order Traversal\n",
    "\n",
    "Given an n-ary tree, return the level order traversa of its nodes' values.\n",
    "\n",
    "Nary-Tree input serialization is represented in their level order traversal, each group of children is separated by the null value.\n"
   ]
  },
  {
   "cell_type": "code",
   "execution_count": 27,
   "metadata": {},
   "outputs": [],
   "source": [
    "class Node:\n",
    "    def __init__(self, val= None, children= None):\n",
    "        self.val = val \n",
    "        self.children = children "
   ]
  },
  {
   "cell_type": "markdown",
   "metadata": {},
   "source": [
    "### BFS "
   ]
  },
  {
   "cell_type": "code",
   "execution_count": 47,
   "metadata": {},
   "outputs": [],
   "source": [
    "def levelOrder(root: Node) -> list:\n",
    "    ans = []\n",
    "    if not root:\n",
    "        return []\n",
    "    q = deque()\n",
    "    q.append(root)\n",
    "    print(q)\n",
    "    while q:\n",
    "        levelsize = len(q)\n",
    "        print('level size is ')\n",
    "        print(levelsize)\n",
    "        level = []\n",
    "        for i in range(levelsize):\n",
    "            curr = q.popleft()\n",
    "            if curr.children:\n",
    "                for c in curr.children:\n",
    "                    q.append(c)\n",
    "            level.append(curr.val)\n",
    "        print('level is ')\n",
    "        print(level)\n",
    "        ans.append(level)\n",
    "    return ans \n",
    "        "
   ]
  },
  {
   "cell_type": "code",
   "execution_count": 88,
   "metadata": {},
   "outputs": [],
   "source": [
    "node1 = Node(1)\n",
    "\n",
    "node2 = Node(2)\n",
    "\n",
    "node3 = Node(3)\n",
    "\n",
    "node4 = Node(4)\n",
    "\n",
    "node5 = Node(5)\n",
    "\n",
    "node6 = Node(6)\n",
    "\n",
    "node1.children = [node2, node3, node4]\n"
   ]
  },
  {
   "cell_type": "code",
   "execution_count": 35,
   "metadata": {},
   "outputs": [
    {
     "name": "stdout",
     "output_type": "stream",
     "text": [
      "[<__main__.Node object at 0x10ad49c90>, <__main__.Node object at 0x10ad49090>, <__main__.Node object at 0x10ad49050>]\n"
     ]
    }
   ],
   "source": [
    "print(node1.children)"
   ]
  },
  {
   "cell_type": "code",
   "execution_count": 36,
   "metadata": {},
   "outputs": [
    {
     "name": "stdout",
     "output_type": "stream",
     "text": [
      "2\n",
      "3\n",
      "4\n"
     ]
    }
   ],
   "source": [
    "for c in node1.children:\n",
    "    print(c.val)"
   ]
  },
  {
   "cell_type": "code",
   "execution_count": 89,
   "metadata": {},
   "outputs": [],
   "source": [
    "node3.children = [node5, node6]"
   ]
  },
  {
   "cell_type": "code",
   "execution_count": 90,
   "metadata": {},
   "outputs": [
    {
     "name": "stdout",
     "output_type": "stream",
     "text": [
      "deque([<__main__.Node object at 0x10acbdfd0>])\n",
      "level size is \n",
      "1\n",
      "level is \n",
      "[1]\n",
      "level size is \n",
      "3\n",
      "level is \n",
      "[2, 3, 4]\n",
      "level size is \n",
      "2\n",
      "level is \n",
      "[5, 6]\n"
     ]
    },
    {
     "data": {
      "text/plain": [
       "[[1], [2, 3, 4], [5, 6]]"
      ]
     },
     "execution_count": 90,
     "metadata": {},
     "output_type": "execute_result"
    }
   ],
   "source": [
    "levelOrder(node1)"
   ]
  },
  {
   "cell_type": "markdown",
   "metadata": {},
   "source": [
    "## 589. N-ary Tree Preorder Traversal \n",
    "\n",
    "Given an n-ary tree, return the preorder traversal of its nodes' values. "
   ]
  },
  {
   "cell_type": "markdown",
   "metadata": {},
   "source": [
    "### DFS"
   ]
  },
  {
   "cell_type": "code",
   "execution_count": 99,
   "metadata": {},
   "outputs": [],
   "source": [
    "def preorder(root: Node) -> list:\n",
    "    ans = []\n",
    "    \n",
    "    \n",
    "    def DFS(node):\n",
    "        if not node:\n",
    "            return []\n",
    "        if not node.children:\n",
    "            return [node.val]\n",
    "        else:\n",
    "            ans = [node.val]\n",
    "            for c in node.children:\n",
    "                ans.extend(DFS(c))\n",
    "            \n",
    "            return ans \n",
    "    \n",
    "    ans.extend(DFS(root))\n",
    "    return ans \n",
    "        \n",
    "        \n",
    "                \n",
    "        "
   ]
  },
  {
   "cell_type": "code",
   "execution_count": 100,
   "metadata": {},
   "outputs": [
    {
     "data": {
      "text/plain": [
       "[1, 2, 3, 5, 6, 4]"
      ]
     },
     "execution_count": 100,
     "metadata": {},
     "output_type": "execute_result"
    }
   ],
   "source": [
    "preorder(node1)"
   ]
  },
  {
   "cell_type": "markdown",
   "metadata": {},
   "source": [
    "## DFS traversal of graph"
   ]
  },
  {
   "cell_type": "code",
   "execution_count": 62,
   "metadata": {},
   "outputs": [],
   "source": [
    "from collections import defaultdict \n",
    "\n",
    "class Graph:\n",
    "    \n",
    "    def __init__(self):\n",
    "        self.graph = defaultdict(list)\n",
    "        \n",
    "    def addEdge(self, u, v):\n",
    "        self.graph[u].append(v)\n",
    "        \n",
    "    def DFSUtil(self, v, visited):\n",
    "        visited[v] = True\n",
    "        print(v, end =\" \")\n",
    "        \n",
    "        for i in self.graph[v]:\n",
    "            if visited[i] == False:\n",
    "                self.DFSUtil(i, visited)\n",
    "                \n",
    "    def DFS(self, v):\n",
    "        visited = [False] * (len(self.graph))\n",
    "        \n",
    "        self.DFSUtil(v, visited)"
   ]
  },
  {
   "cell_type": "code",
   "execution_count": 63,
   "metadata": {},
   "outputs": [
    {
     "name": "stdout",
     "output_type": "stream",
     "text": [
      "Following is DFS from (starting from vertex 2)\n",
      "2 0 1 3 "
     ]
    }
   ],
   "source": [
    "g = Graph()\n",
    "\n",
    "g.addEdge(0,1)\n",
    "\n",
    "g.addEdge(0,2)\n",
    "\n",
    "g.addEdge(1,2)\n",
    "\n",
    "g.addEdge(2,0)\n",
    "\n",
    "g.addEdge(2,3)\n",
    "\n",
    "g.addEdge(3,3)\n",
    "\n",
    "print(\"Following is DFS from (starting from vertex 2)\")\n",
    "\n",
    "g.DFS(2)"
   ]
  },
  {
   "cell_type": "markdown",
   "metadata": {},
   "source": [
    "## 590. N-ary Tree Postorder Traversal \n",
    "\n",
    "Given an n-ary tree, return the postorder traversal of its nodes' values. "
   ]
  },
  {
   "cell_type": "code",
   "execution_count": 103,
   "metadata": {},
   "outputs": [],
   "source": [
    "def postorder(root: Node)-> list:\n",
    "    \n",
    "    \n",
    "    \n",
    "    def DFS(node):\n",
    "        result = []\n",
    "        if not node:\n",
    "            return result \n",
    "        if not node.val:\n",
    "            return result \n",
    "        if not node.children:\n",
    "            return [node.val]\n",
    "        for c in node.children:\n",
    "            result.extend(DFS(c))\n",
    "        result.append(node.val)\n",
    "        return result\n",
    "        \n",
    "    return DFS(root)\n",
    "    \n",
    "        \n",
    "\n",
    "        \n",
    "    "
   ]
  },
  {
   "cell_type": "code",
   "execution_count": 104,
   "metadata": {},
   "outputs": [
    {
     "data": {
      "text/plain": [
       "[2, 5, 6, 3, 4, 1]"
      ]
     },
     "execution_count": 104,
     "metadata": {},
     "output_type": "execute_result"
    }
   ],
   "source": [
    "postorder(node1)"
   ]
  },
  {
   "cell_type": "code",
   "execution_count": 105,
   "metadata": {},
   "outputs": [],
   "source": [
    "node1 = Node(1)\n",
    "\n",
    "node2 = Node(2)\n",
    "\n",
    "node3 = Node(3)\n",
    "\n",
    "node4 = Node(4)\n",
    "\n",
    "node5 = Node(5)\n",
    "\n",
    "node6 = Node(6)\n",
    "\n",
    "node1.children = [node3, node2, node4]\n",
    "\n",
    "node3.children = [node5, node6]"
   ]
  },
  {
   "cell_type": "code",
   "execution_count": 106,
   "metadata": {},
   "outputs": [
    {
     "data": {
      "text/plain": [
       "[5, 6, 3, 2, 4, 1]"
      ]
     },
     "execution_count": 106,
     "metadata": {},
     "output_type": "execute_result"
    }
   ],
   "source": [
    "postorder(node1)"
   ]
  },
  {
   "cell_type": "markdown",
   "metadata": {},
   "source": [
    "## 39. Combination Sum\n",
    "\n",
    "Given a set of candidate numbers (candidate) (without duplicates) and a target number (target), find all unique combination in candidates where the candidate numbers sums to target. \n",
    "\n",
    "The same repeated number may be chosen from candidated unlimited number of times. \n",
    "\n",
    "**Note:**\n",
    "\n",
    "* All numbers (including target) wil be positive integers.\n",
    "\n",
    "* The solution set must not contain duplicate combinations. \n",
    "\n",
    "**Example 1:**\n",
    "\n",
    "Input: candidates = [2,3,6,7], target = 7\n",
    "\n",
    "A solution set is: \n",
    "[\n",
    "    [7],\n",
    "    [2,2,3]\n",
    "]\n",
    "\n",
    "**Example 2:**\n",
    "\n",
    "Input: candidates = [2,3,5], target = 8 \n",
    "\n",
    "A solution set is:\n",
    "[\n",
    "    [2,2,2,2],\n",
    "    [2,3,3],\n",
    "    [3,5]\n",
    "]\n",
    "\n"
   ]
  },
  {
   "cell_type": "code",
   "execution_count": 115,
   "metadata": {},
   "outputs": [],
   "source": [
    "def combinationSum(candidates: list, target: int) -> list:\n",
    "    \n",
    "        \n",
    "    result = []\n",
    "    c_set = set(candidates)\n",
    "    if not candidates:\n",
    "        return result\n",
    "    \n",
    "    def DP(candidates, val )-> list:\n",
    "        result = []\n",
    "        if val in candidates:\n",
    "            result.append([val])\n",
    "        for c in candidates:\n",
    "            if val - c>0:\n",
    "                result.extend(DP(candidates, val -c) + [c])\n",
    "        print('result is ')\n",
    "        print(result)\n",
    "        return result \n",
    "        \n",
    "    \n",
    "    result += DP(c_set, target)\n",
    "    return result \n",
    "        \n",
    "        "
   ]
  },
  {
   "cell_type": "code",
   "execution_count": 116,
   "metadata": {},
   "outputs": [
    {
     "name": "stdout",
     "output_type": "stream",
     "text": [
      "result is \n",
      "[]\n",
      "result is \n",
      "[[3], 2]\n",
      "result is \n",
      "[[2]]\n",
      "result is \n",
      "[[3], 2, 2, [2], 3]\n",
      "result is \n",
      "[[2]]\n",
      "result is \n",
      "[]\n",
      "result is \n",
      "[[2], 2, 3]\n",
      "result is \n",
      "[]\n",
      "result is \n",
      "[[7], [3], 2, 2, [2], 3, 2, [2], 2, 3, 3, 6]\n"
     ]
    },
    {
     "data": {
      "text/plain": [
       "[[7], [3], 2, 2, [2], 3, 2, [2], 2, 3, 3, 6]"
      ]
     },
     "execution_count": 116,
     "metadata": {},
     "output_type": "execute_result"
    }
   ],
   "source": [
    "candidates = [2,3,6,7]\n",
    "\n",
    "target = 7\n",
    "\n",
    "combinationSum(candidates, target)"
   ]
  },
  {
   "cell_type": "code",
   "execution_count": 184,
   "metadata": {},
   "outputs": [],
   "source": [
    "def combinationSum2( candidates: list, target: int) -> list:\n",
    "    \n",
    "    ans = []\n",
    "    cur = []\n",
    "    \n",
    "    def dfs(canidates, target, s):\n",
    "        if target == 0:\n",
    "            ans.append(cur)\n",
    "            print('result is ')\n",
    "            print(ans)\n",
    "            return \n",
    "        for i in range(s, len(candidates)):\n",
    "            if candidates[i] > target:\n",
    "                break \n",
    "            cur.append(candidates[i])\n",
    "            dfs(candidates, target - candidates[i], i)\n",
    "            cur.pop()\n",
    "        print('ans before return')\n",
    "        print(ans)\n",
    "\n",
    "    candidates.sort()\n",
    "    \n",
    "\n",
    "            \n",
    "    dfs(candidates, target, 0)\n",
    "    return ans \n",
    "            "
   ]
  },
  {
   "cell_type": "code",
   "execution_count": 185,
   "metadata": {},
   "outputs": [
    {
     "name": "stdout",
     "output_type": "stream",
     "text": [
      "ans before return\n",
      "[]\n",
      "result is \n",
      "[[2, 2, 3]]\n",
      "ans before return\n",
      "[[2, 2]]\n",
      "ans before return\n",
      "[[2, 3]]\n",
      "ans before return\n",
      "[[2]]\n",
      "ans before return\n",
      "[[3, 3]]\n",
      "ans before return\n",
      "[[3]]\n",
      "ans before return\n",
      "[[6]]\n",
      "result is \n",
      "[[7], [7]]\n",
      "ans before return\n",
      "[[], []]\n"
     ]
    },
    {
     "data": {
      "text/plain": [
       "[[], []]"
      ]
     },
     "execution_count": 185,
     "metadata": {},
     "output_type": "execute_result"
    }
   ],
   "source": [
    "combinationSum2(candidates, target)"
   ]
  },
  {
   "cell_type": "code",
   "execution_count": 173,
   "metadata": {},
   "outputs": [],
   "source": [
    "def combinationSum3( candidates, target) -> list:\n",
    "    def backTrack(candidates, remain, res, tmp, start):\n",
    "        if remain < 0:\n",
    "            return \n",
    "        if remain == 0:\n",
    "            res.append(list(tmp))\n",
    "            for i in range(start, len(candidates)):\n",
    "                if candidates[i] > remain:\n",
    "                    break \n",
    "                tmp.append(candidates[i])\n",
    "                backTrack(candidates, remain-curr, res, tmp, i)\n",
    "                tmp.pop()\n",
    "    global res \n",
    "    res = []\n",
    "    if not candidates or len(candidates) == 0:\n",
    "        return res \n",
    "    candidates.sort()\n",
    "    backTrack(candidates, target, res, [], 0)\n",
    "    return res "
   ]
  },
  {
   "cell_type": "code",
   "execution_count": 174,
   "metadata": {},
   "outputs": [
    {
     "data": {
      "text/plain": [
       "[]"
      ]
     },
     "execution_count": 174,
     "metadata": {},
     "output_type": "execute_result"
    }
   ],
   "source": [
    "combinationSum3(candidates, target)"
   ]
  },
  {
   "cell_type": "code",
   "execution_count": 176,
   "metadata": {},
   "outputs": [],
   "source": [
    "def combinationSum(candidates: list, target: int) -> list:\n",
    "    ans = []\n",
    "    def _combinationSum(hold, cand, target):\n",
    "        if target >= 0 and len(cand):\n",
    "            if target == 0:\n",
    "                ans.append(hold)\n",
    "            else:\n",
    "                _combinationSum(hold + [cand[0]], cand, target - cand[0])\n",
    "                _combinationSum(hold, cand[1:], target)\n",
    "    _combinationSum([], candidates, target)\n",
    "    return ans "
   ]
  },
  {
   "cell_type": "code",
   "execution_count": 177,
   "metadata": {},
   "outputs": [
    {
     "data": {
      "text/plain": [
       "[[2, 2, 3], [7]]"
      ]
     },
     "execution_count": 177,
     "metadata": {},
     "output_type": "execute_result"
    }
   ],
   "source": [
    "combinationSum(candidates, target)"
   ]
  },
  {
   "cell_type": "code",
   "execution_count": null,
   "metadata": {},
   "outputs": [],
   "source": []
  }
 ],
 "metadata": {
  "kernelspec": {
   "display_name": "Python 3",
   "language": "python",
   "name": "python3"
  },
  "language_info": {
   "codemirror_mode": {
    "name": "ipython",
    "version": 3
   },
   "file_extension": ".py",
   "mimetype": "text/x-python",
   "name": "python",
   "nbconvert_exporter": "python",
   "pygments_lexer": "ipython3",
   "version": "3.7.4"
  }
 },
 "nbformat": 4,
 "nbformat_minor": 2
}
