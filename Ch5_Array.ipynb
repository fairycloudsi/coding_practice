{
 "cells": [
  {
   "cell_type": "markdown",
   "metadata": {},
   "source": [
    "# Chapter 5 Array \n",
    "\n",
    "### 5.1 The Dutch National Flag Problem \n",
    "Write a program that takes an array $A$ and an index $i$ into $A$, and rearranges the elemtns such taht all elements less than $A[i]$(the \"pivot\") appear first, followed by elements equal to pivot, followed by elements greater than the pivot. "
   ]
  },
  {
   "cell_type": "code",
   "execution_count": 3,
   "metadata": {},
   "outputs": [],
   "source": [
    "RED, WHITE, BLUE = range(3)\n",
    "\n",
    "def dutch_flag_partition(pivot_index: int, A)-> None:\n",
    "    pivot = A[pivot_index]\n",
    "    # First pass: group elements smaller than pivot.\n",
    "    print('First pass: group elements smaller than pivot')\n",
    "    for i in range(len(A)):\n",
    "        # Look for a smaller elements \n",
    "        for j in range(i+1, len(A)):\n",
    "            if A[j] < pivot:\n",
    "                A[i], A[j] = A[j], A[i]\n",
    "                print('the sequence of A')\n",
    "                print(A)\n",
    "                break\n",
    "    \n",
    "    # Second pass: group elements larger than pivot.\n",
    "    print('Second pass: group elements larger thant pivot')\n",
    "    for i in reversed(range(len(A))):\n",
    "        # Look for a larger element. Stop when we reach an element less than \n",
    "        # pivot, since first pass has moved them to the start of A\n",
    "        for j in reversed(range(i)):\n",
    "            if A[j] > pivot:\n",
    "                A[i], A[j] = A[j], A[i]\n",
    "                print('the sequence of A')\n",
    "                print(A)\n",
    "                break "
   ]
  },
  {
   "cell_type": "code",
   "execution_count": 4,
   "metadata": {},
   "outputs": [],
   "source": [
    "A = [2,1,0,1,1,0,0,2,2,0,1]"
   ]
  },
  {
   "cell_type": "code",
   "execution_count": 5,
   "metadata": {},
   "outputs": [],
   "source": [
    "pivot_index = 1"
   ]
  },
  {
   "cell_type": "code",
   "execution_count": 6,
   "metadata": {},
   "outputs": [
    {
     "name": "stdout",
     "output_type": "stream",
     "text": [
      "First pass: group elements smaller than pivot\n",
      "the sequence of A\n",
      "[0, 1, 2, 1, 1, 0, 0, 2, 2, 0, 1]\n",
      "the sequence of A\n",
      "[0, 0, 2, 1, 1, 1, 0, 2, 2, 0, 1]\n",
      "the sequence of A\n",
      "[0, 0, 0, 1, 1, 1, 2, 2, 2, 0, 1]\n",
      "the sequence of A\n",
      "[0, 0, 0, 0, 1, 1, 2, 2, 2, 1, 1]\n",
      "Second pass: group elements larger thant pivot\n",
      "the sequence of A\n",
      "[0, 0, 0, 0, 1, 1, 2, 2, 1, 1, 2]\n",
      "the sequence of A\n",
      "[0, 0, 0, 0, 1, 1, 2, 1, 1, 2, 2]\n",
      "the sequence of A\n",
      "[0, 0, 0, 0, 1, 1, 1, 1, 2, 2, 2]\n"
     ]
    }
   ],
   "source": [
    "dutch_flag_partition(pivot_index, A)"
   ]
  },
  {
   "cell_type": "markdown",
   "metadata": {},
   "source": [
    "The additional space complexity is now $O(1)$, but the time complexity os $O(n^2)$, e.g if $i = n/2$ and all elements before $i$ are greater than $A[i]$, and all elements after $i$ are less than $A[i].$ Intutively, this approach has bad time complexity because in the frist ass when searching for each additional element smaller than the pivot we start from the beginning. However, there is no reason to start from so far back --we can begin from the last location we advanced to. (Similar comments hold for the second pass.)\n",
    "To improve time complexity, we make a single pass and move all the elements less than the pivot to the beginning. In the second pass we move the larger elements to the end. It is easy to perform each pass in a single iteration, moving out-of-place elements as soon as they are discovered. "
   ]
  },
  {
   "cell_type": "code",
   "execution_count": 9,
   "metadata": {},
   "outputs": [],
   "source": [
    "RED, WHITE, BLUE = range(3)\n",
    "\n",
    "def dutch_flag_partition_2(pivot_index: int, A)-> None:\n",
    "    pivot = A[pivot_index]\n",
    "    # First pass: group elements smaller than pivot.\n",
    "    smaller = 0\n",
    "    print('First pass: group elements smaller than pivot')\n",
    "    for i in range(len(A)):\n",
    "        # Look for a smaller elements \n",
    "        if A[i] < pivot:\n",
    "            A[i], A[smaller] = A[smaller], A[i]\n",
    "            smaller += 1\n",
    "            print('the sequence of A')\n",
    "            print(A)\n",
    "    \n",
    "    # Second pass: group elements larger than pivot.\n",
    "    print('Second pass: group elements larger thant pivot')\n",
    "    larger = len(A)-1\n",
    "    for i in reversed(range(len(A))):\n",
    "        # Look for a larger element. Stop when we reach an element less than \n",
    "        # pivot, since first pass has moved them to the start of A\n",
    "        if A[i] > pivot:\n",
    "            A[i], A[larger] = A[larger], A[i]\n",
    "            larger -= 1\n",
    "            print('the sequence of A')\n",
    "            print(A)"
   ]
  },
  {
   "cell_type": "code",
   "execution_count": 11,
   "metadata": {},
   "outputs": [],
   "source": [
    "A = [2,1,0,1,1,0,0,2,2,0,1]"
   ]
  },
  {
   "cell_type": "code",
   "execution_count": 12,
   "metadata": {},
   "outputs": [
    {
     "name": "stdout",
     "output_type": "stream",
     "text": [
      "First pass: group elements smaller than pivot\n",
      "the sequence of A\n",
      "[0, 1, 2, 1, 1, 0, 0, 2, 2, 0, 1]\n",
      "the sequence of A\n",
      "[0, 0, 2, 1, 1, 1, 0, 2, 2, 0, 1]\n",
      "the sequence of A\n",
      "[0, 0, 0, 1, 1, 1, 2, 2, 2, 0, 1]\n",
      "the sequence of A\n",
      "[0, 0, 0, 0, 1, 1, 2, 2, 2, 1, 1]\n",
      "Second pass: group elements larger thant pivot\n",
      "the sequence of A\n",
      "[0, 0, 0, 0, 1, 1, 2, 2, 1, 1, 2]\n",
      "the sequence of A\n",
      "[0, 0, 0, 0, 1, 1, 2, 1, 1, 2, 2]\n",
      "the sequence of A\n",
      "[0, 0, 0, 0, 1, 1, 1, 1, 2, 2, 2]\n"
     ]
    }
   ],
   "source": [
    "dutch_flag_partition_2(pivot_index, A)"
   ]
  },
  {
   "cell_type": "markdown",
   "metadata": {},
   "source": [
    "The time complexity is $O(N)$ and the space complexity is $O(1)$. "
   ]
  },
  {
   "cell_type": "markdown",
   "metadata": {},
   "source": [
    "The alg we now present is similar to the one sketched above. The main difference is that it performs classification into elements less than, equal to, and greater than the pivot in a single pass. This reduces runtie, at the cost of a trickier implementation. We do this by maintaining four subarrays: bottom (elements less than pivot), middle(elements equal to pivot), unclassified, and top(elements greater than pivot). Initially, all elements are in unclassified. We iterate through elements in unclassified, and move elements into one of bottom, middle, and top groups according to the relative order between the incoming unclassified element and the pivot."
   ]
  },
  {
   "cell_type": "code",
   "execution_count": 14,
   "metadata": {},
   "outputs": [],
   "source": [
    "def dutch_flag_partition_3(pivot_index: int, A) -> None:\n",
    "    pivot = A[pivot_index]\n",
    "    # Keep the following invariants during partitiong:\n",
    "    # bottom group: A[:smaller].\n",
    "    # middle group: A[smaller:equal].\n",
    "    # unclassified: A[equal:larger].\n",
    "    # top group: A[larger:].\n",
    "    smaller, equal, larger = 0, 0, len(A)\n",
    "    # Keep iterating as long as there is an unclassified element. \n",
    "    while equal < larger:\n",
    "        # A[equal] is the incoming unclassified element:\n",
    "        if A[equal] < pivot:\n",
    "            A[equal], A[smaller] = A[smaller], A[equal]\n",
    "            equal += 1\n",
    "            smaller += 1\n",
    "            print('swap with last element in bottom group')\n",
    "            print(A)\n",
    "        if A[equal] == pivot:\n",
    "            equal +=1\n",
    "            print('did not thing, move one step forward')\n",
    "            print(A)\n",
    "        if A[equal] > pivot:\n",
    "            A[equal], A[larger-1] = A[larger-1], A[equal]\n",
    "            larger -=1\n",
    "            print('swap with last element in unclassified group')\n",
    "            print(A)\n",
    "            "
   ]
  },
  {
   "cell_type": "code",
   "execution_count": 16,
   "metadata": {},
   "outputs": [
    {
     "name": "stdout",
     "output_type": "stream",
     "text": [
      "swap with last element in unclassified group\n",
      "[1, 1, 0, 1, 1, 0, 0, 2, 2, 0, 2]\n",
      "did not thing, move one step forward\n",
      "[1, 1, 0, 1, 1, 0, 0, 2, 2, 0, 2]\n",
      "did not thing, move one step forward\n",
      "[1, 1, 0, 1, 1, 0, 0, 2, 2, 0, 2]\n",
      "swap with last element in bottom group\n",
      "[0, 1, 1, 1, 1, 0, 0, 2, 2, 0, 2]\n",
      "did not thing, move one step forward\n",
      "[0, 1, 1, 1, 1, 0, 0, 2, 2, 0, 2]\n",
      "did not thing, move one step forward\n",
      "[0, 1, 1, 1, 1, 0, 0, 2, 2, 0, 2]\n",
      "swap with last element in bottom group\n",
      "[0, 0, 1, 1, 1, 1, 0, 2, 2, 0, 2]\n",
      "swap with last element in bottom group\n",
      "[0, 0, 0, 1, 1, 1, 1, 2, 2, 0, 2]\n",
      "swap with last element in unclassified group\n",
      "[0, 0, 0, 1, 1, 1, 1, 0, 2, 2, 2]\n",
      "swap with last element in bottom group\n",
      "[0, 0, 0, 0, 1, 1, 1, 1, 2, 2, 2]\n",
      "swap with last element in unclassified group\n",
      "[0, 0, 0, 0, 1, 1, 1, 1, 2, 2, 2]\n"
     ]
    }
   ],
   "source": [
    "A = [2,1,0,1,1,0,0,2,2,0,1]\n",
    "dutch_flag_partition_3(pivot_index, A)"
   ]
  },
  {
   "cell_type": "markdown",
   "metadata": {},
   "source": [
    "Each iteration decreases the size of unclassified by $1$, and the time spent within each iteration is $O(1)$, implying the time complexity is $O(n)$. The space complexity is clearly $O(1)$."
   ]
  },
  {
   "cell_type": "markdown",
   "metadata": {},
   "source": [
    "### 5.2 Increment an Arbitrary-precision Integer\n",
    "\n",
    "Write a program which takes as input an array of digist encoding a nonnegative decimal integer $D$ and updates the array to represent the integer $D+1$. For example, if the input is $\\langle 1,2,9 \\rangle$ then you should update the array to $\\langle 1,3,0 \\rangle$. "
   ]
  },
  {
   "cell_type": "markdown",
   "metadata": {},
   "source": [
    "**Sol:** A brute-force approach might be to convert the array of digits to the equivalent integer, increment that, and then convert the resulting alue back to an array of digits. For example, if the array is $\\langle 1,2,9 \\rangle$, we would derive the interger $129$, add one to get $130$, then extract its digits to form $\\langle 1,3,0 \\rangle$. When implemented in a language that imposes a limit on the range of values an integer type can take, this approach will fail on inputs that encode integers outside of that range. "
   ]
  },
  {
   "cell_type": "code",
   "execution_count": 18,
   "metadata": {},
   "outputs": [],
   "source": [
    "def plus_one(A : list) -> list:\n",
    "    A[-1] += 1\n",
    "    for i in reversed(range(1,len(A))):\n",
    "        if A[i] != 10:\n",
    "            break \n",
    "        A[i] = 0\n",
    "        A[i -1] += 1\n",
    "    if A[0] == 10:\n",
    "        # There is a carry-out, so we need one more digit to sotre the result.\n",
    "        # A slick way to do this is to append a 0 at the end of the array \n",
    "        # and update the first entry to 1 \n",
    "        A[0] = 1\n",
    "        A.append(0)\n",
    "    return A"
   ]
  },
  {
   "cell_type": "code",
   "execution_count": 19,
   "metadata": {},
   "outputs": [
    {
     "name": "stdout",
     "output_type": "stream",
     "text": [
      "[1, 3, 0]\n"
     ]
    }
   ],
   "source": [
    "A = [1,2,9]\n",
    "B = plus_one(A)\n",
    "print(B)"
   ]
  },
  {
   "cell_type": "code",
   "execution_count": 20,
   "metadata": {},
   "outputs": [
    {
     "name": "stdout",
     "output_type": "stream",
     "text": [
      "[1, 0, 0, 0]\n"
     ]
    }
   ],
   "source": [
    "A = [9,9,9]\n",
    "B = plus_one(A)\n",
    "print(B)"
   ]
  },
  {
   "cell_type": "markdown",
   "metadata": {},
   "source": [
    "The time complexity is $O(n)$, where $n$ is the length of $A$."
   ]
  },
  {
   "cell_type": "markdown",
   "metadata": {},
   "source": [
    "### 5.3 Mutiply Two Arbitrary-precision Integers\n",
    "\n",
    "Write a program that takes two arrays representing integers, and returns an integer representing their product."
   ]
  },
  {
   "cell_type": "code",
   "execution_count": 21,
   "metadata": {},
   "outputs": [],
   "source": [
    "def multiply(num1: list, num2: list) -> list:\n",
    "    sign = -1 if (num1[0] < 0)^(num2[0] < 0) else 1\n",
    "    num1[0], num2[0] = abs(num1[0]), abs(num2[0])\n",
    "    \n",
    "    result = [0]* (len(num1) + len(num2))\n",
    "    for i in reversed(range(len(num1))):\n",
    "        for j in reversed(range(len(num2))):\n",
    "            result[i+j+1] += num1[i] * num2[j]\n",
    "            result[i+j] += result[i+j+1]//10\n",
    "            result[i+j+1] %= 10\n",
    "            print('result')\n",
    "            print(result)\n",
    "            \n",
    "    # Remove the leading zeros \n",
    "    result = result[next((i for i, x in enumerate(result)\n",
    "                        if x!=0), len(result)):] or [0]\n",
    "    return [sign* result[0]] + result[1:]"
   ]
  },
  {
   "cell_type": "code",
   "execution_count": 22,
   "metadata": {},
   "outputs": [
    {
     "name": "stdout",
     "output_type": "stream",
     "text": [
      "result\n",
      "[0, 0, 0, 0, 2, 1]\n",
      "result\n",
      "[0, 0, 0, 2, 6, 1]\n",
      "result\n",
      "[0, 0, 2, 9, 6, 1]\n",
      "result\n",
      "[0, 0, 2, 11, 0, 1]\n",
      "result\n",
      "[0, 0, 4, 7, 0, 1]\n",
      "result\n",
      "[0, 2, 2, 7, 0, 1]\n",
      "result\n",
      "[0, 2, 3, 4, 0, 1]\n",
      "result\n",
      "[0, 3, 1, 4, 0, 1]\n",
      "result\n",
      "[1, 2, 1, 4, 0, 1]\n"
     ]
    }
   ],
   "source": [
    "num1 = [1,2,3]\n",
    "num2 = [9,8,7]\n",
    "num12 = multiply(num1, num2)"
   ]
  },
  {
   "cell_type": "markdown",
   "metadata": {},
   "source": [
    "There are $m$ partial products, each with at most $n+1$ digits. We perform $O(1)$ operations on each digit in each partial product, so the time complexity is $O(mn).$"
   ]
  },
  {
   "cell_type": "markdown",
   "metadata": {},
   "source": [
    "### 5.4 Advancing through an array \n",
    "Write a program which takes an array of $n$ integers, where $A[i]$ denotes the maximum you can advance from index $i$, and returns whether it is possible to advance to the last index starting from the beginning of the array. "
   ]
  },
  {
   "cell_type": "markdown",
   "metadata": {},
   "source": [
    "Iterate throught all entries in $A$. As we iterate through the array, we track the furthest index we can advance to. The furthest we can advance from index $i$ is $i + A[i].$ If, for some $i$ before the end of the array, $i$ is the furthest index that we have demonstrated that we can advance to, we cannot reach the last index. Otherwise, we reach the end. "
   ]
  },
  {
   "cell_type": "code",
   "execution_count": 28,
   "metadata": {},
   "outputs": [],
   "source": [
    "def can_reach_end(A: list) -> bool:\n",
    "    furthest_reach_so_far, last_index = 0,len(A)-1\n",
    "    i = 0\n",
    "    while i <= furthest_reach_so_far and furthest_reach_so_far < last_index:\n",
    "        furthest_reach_so_far = max(furthest_reach_so_far, A[i]+i)\n",
    "        i += 1\n",
    "    return furthest_reach_so_far >= last_index"
   ]
  },
  {
   "cell_type": "code",
   "execution_count": 29,
   "metadata": {},
   "outputs": [],
   "source": [
    "A = [3,3,1,0,2,0,1]"
   ]
  },
  {
   "cell_type": "code",
   "execution_count": 30,
   "metadata": {},
   "outputs": [
    {
     "data": {
      "text/plain": [
       "True"
      ]
     },
     "execution_count": 30,
     "metadata": {},
     "output_type": "execute_result"
    }
   ],
   "source": [
    "can_reach_end(A)"
   ]
  },
  {
   "cell_type": "code",
   "execution_count": 33,
   "metadata": {},
   "outputs": [],
   "source": [
    "A = [3,2,0,0,2,0,1]"
   ]
  },
  {
   "cell_type": "code",
   "execution_count": 34,
   "metadata": {},
   "outputs": [
    {
     "data": {
      "text/plain": [
       "False"
      ]
     },
     "execution_count": 34,
     "metadata": {},
     "output_type": "execute_result"
    }
   ],
   "source": [
    "can_reach_end(A)"
   ]
  },
  {
   "cell_type": "markdown",
   "metadata": {},
   "source": [
    "The time complexity is $O(n)$ and the additional space complexity is three integer variables, i.e., $O(1)$. "
   ]
  },
  {
   "cell_type": "markdown",
   "metadata": {},
   "source": [
    "### 5.5 Deleting duplicates from a sorted array\n",
    "Write a program which takes as input a sorted array and updates it so that all duplicates have been removed and the remaining elements have been shifted left to fill the emptied indices. Return the number of valid elements. "
   ]
  },
  {
   "cell_type": "code",
   "execution_count": 41,
   "metadata": {},
   "outputs": [],
   "source": [
    "def delete_duplicate(A : list) -> int:\n",
    "    if not A:\n",
    "        return 0\n",
    "    \n",
    "    i = 0\n",
    "    j = 1\n",
    "    while (i < len(A)) and (j < len(A)):\n",
    "        if A[j] == A[i]:\n",
    "            j = j+1\n",
    "        else:\n",
    "            A[i+1] = A[j]\n",
    "            i = i +1 \n",
    "            j = j + 1\n",
    "            \n",
    "        print('A')\n",
    "        print(A)\n",
    "        print('i')\n",
    "        print(i)\n",
    "        print('j')\n",
    "        print(j)\n",
    "    return i+1    "
   ]
  },
  {
   "cell_type": "code",
   "execution_count": 42,
   "metadata": {},
   "outputs": [
    {
     "name": "stdout",
     "output_type": "stream",
     "text": [
      "A\n",
      "[2, 3, 5, 5, 7, 11, 11, 11, 13]\n",
      "i\n",
      "1\n",
      "j\n",
      "2\n",
      "A\n",
      "[2, 3, 5, 5, 7, 11, 11, 11, 13]\n",
      "i\n",
      "2\n",
      "j\n",
      "3\n",
      "A\n",
      "[2, 3, 5, 5, 7, 11, 11, 11, 13]\n",
      "i\n",
      "2\n",
      "j\n",
      "4\n",
      "A\n",
      "[2, 3, 5, 7, 7, 11, 11, 11, 13]\n",
      "i\n",
      "3\n",
      "j\n",
      "5\n",
      "A\n",
      "[2, 3, 5, 7, 11, 11, 11, 11, 13]\n",
      "i\n",
      "4\n",
      "j\n",
      "6\n",
      "A\n",
      "[2, 3, 5, 7, 11, 11, 11, 11, 13]\n",
      "i\n",
      "4\n",
      "j\n",
      "7\n",
      "A\n",
      "[2, 3, 5, 7, 11, 11, 11, 11, 13]\n",
      "i\n",
      "4\n",
      "j\n",
      "8\n",
      "A\n",
      "[2, 3, 5, 7, 11, 13, 11, 11, 13]\n",
      "i\n",
      "5\n",
      "j\n",
      "9\n"
     ]
    },
    {
     "data": {
      "text/plain": [
       "[2, 3, 5, 7, 11, 13, 11, 11, 13]"
      ]
     },
     "execution_count": 42,
     "metadata": {},
     "output_type": "execute_result"
    }
   ],
   "source": [
    "A = [2,3,5,5,7,11,11,11,13]\n",
    "delete_duplicate(A)"
   ]
  },
  {
   "cell_type": "markdown",
   "metadata": {},
   "source": [
    "### 5.6 Buy and sell a stock once \n",
    "\n",
    "Design an algorithm that determines the maximum profit that could have been made by buying and then selling a single share over a given day range, subject to the constraint that the buy and the sell have to take place at the start of the day; the sell must occur on a later day. "
   ]
  },
  {
   "cell_type": "code",
   "execution_count": 1,
   "metadata": {},
   "outputs": [],
   "source": [
    "# Brute-force \n",
    "def buy_and_sell_stock_once(prices: list) -> float:\n",
    "    max_diff = 0\n",
    "    for i in range(len(prices)):\n",
    "        for j in range(i+1, len(prices)):\n",
    "            max_diff = max(max_diff, prices[j] - prices[i])\n",
    "    return max_diff "
   ]
  },
  {
   "cell_type": "code",
   "execution_count": 2,
   "metadata": {},
   "outputs": [
    {
     "data": {
      "text/plain": [
       "30"
      ]
     },
     "execution_count": 2,
     "metadata": {},
     "output_type": "execute_result"
    }
   ],
   "source": [
    "prices = [310, 315, 275, 296, 260, 270, 290, 230, 255, 250]\n",
    "buy_and_sell_stock_once(prices)"
   ]
  },
  {
   "cell_type": "markdown",
   "metadata": {},
   "source": [
    "The time complexity is $O(n^2),$ since the outer loop is invoked $n-1$ times, and the $i-$th iteration processes $n-1-i$ elements. The run time is proportional to $\\sum_{i=0}^{n-2}(n-1-i) = \\frac{(n-1)(n)}{2} = O(n^2). $"
   ]
  },
  {
   "cell_type": "markdown",
   "metadata": {},
   "source": [
    "Another way to solve: Iterate through $S$, keeping track of the minimum element $m$ seen thus far. If the difference of the current element and $m$ is greater than the maximum profit recorded so far, update the maximum profit. The Alg. performs a constant amount of work per array element, leading to an $O(n)$ time complexity. Uses two float-valued varaibles (the minimum element and the maximum profit recorded so far) and an iterator, i.e. $O(1)$ additional space. "
   ]
  },
  {
   "cell_type": "code",
   "execution_count": 7,
   "metadata": {},
   "outputs": [],
   "source": [
    "# another sol  \n",
    "def buy_and_sell_stock_once_2(prices: list) -> float:\n",
    "    max_diff = 0.0\n",
    "    min_val = prices[0]\n",
    "    for i in range(1,len(prices)):\n",
    "        if prices[i] < min_val:\n",
    "            min_val = prices[i]\n",
    "        else:\n",
    "            max_diff = max(max_diff, prices[i] - min_val)\n",
    "    return max_diff\n"
   ]
  },
  {
   "cell_type": "code",
   "execution_count": 8,
   "metadata": {},
   "outputs": [
    {
     "data": {
      "text/plain": [
       "30"
      ]
     },
     "execution_count": 8,
     "metadata": {},
     "output_type": "execute_result"
    }
   ],
   "source": [
    "buy_and_sell_stock_once_2(prices)"
   ]
  },
  {
   "cell_type": "markdown",
   "metadata": {},
   "source": [
    "**Variant:** Write a program that takes an array of integers and finds the length of a longest subarray all of whose entries are equal. "
   ]
  },
  {
   "cell_type": "code",
   "execution_count": 9,
   "metadata": {},
   "outputs": [],
   "source": [
    "def len_longest_subarray(A: list) -> int:\n",
    "    longest_length = 1\n",
    "    int_rep = A[0]\n",
    "    counts = 1 \n",
    "    for i in range(1, len(A)):\n",
    "        if A[i] == int_rep:\n",
    "            counts += 1\n",
    "            longest_length = max(longest_length, counts)\n",
    "        else: \n",
    "            int_rep = A[i]\n",
    "            counts = 1\n",
    "    return longest_length \n",
    "            "
   ]
  },
  {
   "cell_type": "code",
   "execution_count": 10,
   "metadata": {},
   "outputs": [
    {
     "data": {
      "text/plain": [
       "5"
      ]
     },
     "execution_count": 10,
     "metadata": {},
     "output_type": "execute_result"
    }
   ],
   "source": [
    "A = [1,1,2,2,1,1,2,3,4,5,5,5,5,5,1,6,7]\n",
    "len_longest_subarray(A)"
   ]
  },
  {
   "cell_type": "markdown",
   "metadata": {},
   "source": [
    "### 5.7 Buy and sell a stock twice \n",
    "\n",
    "Write a program that computes the maximum profit that can be made by buying and selling a share at most twice. The second buy must be made on another date after the first sale. "
   ]
  },
  {
   "cell_type": "markdown",
   "metadata": {},
   "source": [
    "The brute-force alg which examines all possible combinations of buy-sell-buy-sell days has complexity is $O(n^4)$. The complexity can be improved to $O(n^2)$ by applying the $O(n)$ algorithm to each pair of subarrays formed by splitting $A$.\n",
    "\n",
    "The inefficiency in the above comes from not taking advantage of previous computations. Suppose we record the best solution for $A[0,j]$, $j$ between $1$ and $n-1$, inclusive. Now we can do a reverse iteration, computing the best solution for a single buy-and-sell for $A[j, n-1]$, $j$ between $1$ and $n-1$, inclusive. For each day, we combine this result with the result from the forward iteratin for the previous day --this yields the maximum profit if we buy and sell once before the current day and once at or after the current day. "
   ]
  },
  {
   "cell_type": "code",
   "execution_count": 29,
   "metadata": {},
   "outputs": [],
   "source": [
    "def buy_and_sell_stock_twice(prices: list) -> float:\n",
    "    \n",
    "    F = [0]*len(prices)\n",
    "    min_val = prices[0]\n",
    "    for i in range(1,len(prices)):\n",
    "        if prices[i] < min_val:\n",
    "            min_val = prices[i]\n",
    "        F[i] = max(F[i-1], prices[i] - min_val)\n",
    "    \n",
    "    B = [0]*len(prices)\n",
    "    max_val = prices[-1]\n",
    "    for i in reversed(range(len(prices)-1)):\n",
    "        if prices[i] > max_val:\n",
    "            max_val = prices[i]\n",
    "        B[i] = max(B[i+1], max_val - prices[i])\n",
    "    profit = [F[i-1] + B[i] for i in range(1,len(F))]\n",
    "    print(profit)\n",
    "    return profit.index(max(profit))+1"
   ]
  },
  {
   "cell_type": "code",
   "execution_count": 30,
   "metadata": {},
   "outputs": [
    {
     "name": "stdout",
     "output_type": "stream",
     "text": [
      "[7, 7, 9, 9, 10, 5, 8, 6]\n"
     ]
    },
    {
     "data": {
      "text/plain": [
       "5"
      ]
     },
     "execution_count": 30,
     "metadata": {},
     "output_type": "execute_result"
    }
   ],
   "source": [
    "prices = [12, 11, 13, 9 , 12, 8, 14, 13, 15]\n",
    "buy_and_sell_stock_twice(prices)"
   ]
  },
  {
   "cell_type": "markdown",
   "metadata": {},
   "source": [
    "The time complexity is $O(n)$ while the space complexity is $O(n)$ to store the best solutions for the subarrays. "
   ]
  },
  {
   "cell_type": "markdown",
   "metadata": {},
   "source": [
    "### 5.8 Computing an Alternation\n",
    "\n",
    "Write a program that takes an array $A$ of $n$ numbers, and rearrange $A$'s elements to get a new array $B$ having the property that $B[0] \\leq B[1] \\geq B[2] \\leq B[3] \\geq B[4] \\leq B[5] \\geq \\cdots$"
   ]
  },
  {
   "cell_type": "code",
   "execution_count": 31,
   "metadata": {},
   "outputs": [],
   "source": [
    "def rearrange(A:list) -> None:\n",
    "    for i in range(0,len(A)-1,2):\n",
    "        if A[i] > A[i+1]:\n",
    "            A[i], A[i+1] = A[i+1], A[i]\n",
    "    print(A)\n",
    "    for i in range(1, len(A)-1, 2):\n",
    "        if A[i] < A[i+1]:\n",
    "            A[i], A[i+1] = A[i+1], A[i]\n",
    "    print(A)\n",
    "        "
   ]
  },
  {
   "cell_type": "code",
   "execution_count": 32,
   "metadata": {},
   "outputs": [],
   "source": [
    "A = [1,4,6,7,5,3,9,10,2]"
   ]
  },
  {
   "cell_type": "code",
   "execution_count": 33,
   "metadata": {},
   "outputs": [
    {
     "name": "stdout",
     "output_type": "stream",
     "text": [
      "[1, 4, 6, 7, 3, 5, 9, 10, 2]\n",
      "[1, 6, 4, 7, 3, 9, 5, 10, 2]\n"
     ]
    }
   ],
   "source": [
    "rearrange(A)"
   ]
  },
  {
   "cell_type": "code",
   "execution_count": 35,
   "metadata": {},
   "outputs": [],
   "source": [
    "def rearrange_2(A:list) -> None:\n",
    "    for i in range(len(A)):\n",
    "        A[i: i+2] = sorted(A[i:i+2], reverse = bool(i % 2))"
   ]
  },
  {
   "cell_type": "code",
   "execution_count": 36,
   "metadata": {},
   "outputs": [],
   "source": [
    "A = [1,4,6,7,5,3,9,10,2]\n",
    "rearrange_2(A)"
   ]
  },
  {
   "cell_type": "code",
   "execution_count": 37,
   "metadata": {},
   "outputs": [
    {
     "data": {
      "text/plain": [
       "[1, 6, 4, 7, 3, 9, 5, 10, 2]"
      ]
     },
     "execution_count": 37,
     "metadata": {},
     "output_type": "execute_result"
    }
   ],
   "source": [
    "A"
   ]
  },
  {
   "cell_type": "markdown",
   "metadata": {},
   "source": [
    "The desired ordering is very local. The approach has time complexity $O(n)$. "
   ]
  },
  {
   "cell_type": "markdown",
   "metadata": {},
   "source": [
    "### 5.9 Enumerate all primes to $n$\n",
    "\n",
    "Write a program that takes an integer argument and returns all the primes between $1$ and that integer. "
   ]
  },
  {
   "cell_type": "markdown",
   "metadata": {},
   "source": [
    "**Hint**: Compute the primes and when a number is identified as a prime, to \"sieve\" it, i.e., remove all its multiples from future consideration. "
   ]
  },
  {
   "cell_type": "code",
   "execution_count": 38,
   "metadata": {},
   "outputs": [],
   "source": [
    "# Given n, return all primes up to and including n.\n",
    "def generate_primes(n: int) -> list:\n",
    "    primes = []\n",
    "    # is_primes[p] represents if p is a prime or not. Initially, set each to true, excepting 0 and 1. Then use sieving to eliminate nonprimes. \n",
    "    is_prime = [False]*2 + [True]*(n-1)\n",
    "    for p in range(2, n+1):\n",
    "        if is_prime[p]:\n",
    "            primes.append(p)\n",
    "            # Sieve p's multiples \n",
    "            for i in range(p*2, n+1, p):\n",
    "                is_prime[i] = False\n",
    "    return primes "
   ]
  },
  {
   "cell_type": "code",
   "execution_count": 39,
   "metadata": {},
   "outputs": [
    {
     "data": {
      "text/plain": [
       "[2, 3, 5, 7, 11, 13, 17, 19]"
      ]
     },
     "execution_count": 39,
     "metadata": {},
     "output_type": "execute_result"
    }
   ],
   "source": [
    "generate_primes(20)"
   ]
  },
  {
   "cell_type": "markdown",
   "metadata": {},
   "source": [
    "The time to sift out the multiples of $p$ is proportional to $n/p$, so the overall time Complexity is $O(n/2 + n/3 + n/5 + n/7 + \\cdots) \\approx O(n \\log \\log n). $ The space comlexity is dominated by the storage of $P$, i.e. $O(n). $\n",
    "\n",
    "We can improve runtime by sieving $p$'s multiples from $p^2$ instead of $p$, since all numbers of the $kp$, where $k < p$ have already been sieved out. The storage can be reduced by ignoring even number. The Alg can be optimized below. \n"
   ]
  },
  {
   "cell_type": "code",
   "execution_count": 41,
   "metadata": {},
   "outputs": [],
   "source": [
    "# Given n, return all primes u to and including $n$. \n",
    "def generate_primes_2(n: int) -> list:\n",
    "    if n < 2:\n",
    "        return []\n",
    "    size = (n-3)//2 +1 \n",
    "    primes = [2] # Stores the primes from 1 to n\n",
    "    # is_prime[i] represents 2i+3 is prime or not\n",
    "    # Initially set each to true. Then use sieving to eliminate nonprimes. \n",
    "    is_prime = [True]*size\n",
    "    for i in range(size):\n",
    "        if is_prime[i]:\n",
    "            p = i*2 + 3\n",
    "            primes.append(p)\n",
    "            for j in range(p**2, size, p):\n",
    "                is_prime[j] = False\n",
    "    return primes "
   ]
  },
  {
   "cell_type": "code",
   "execution_count": 42,
   "metadata": {},
   "outputs": [
    {
     "data": {
      "text/plain": [
       "[2, 3, 5, 7, 9, 11, 13, 15, 17, 19]"
      ]
     },
     "execution_count": 42,
     "metadata": {},
     "output_type": "execute_result"
    }
   ],
   "source": [
    "generate_primes_2(20)"
   ]
  },
  {
   "cell_type": "markdown",
   "metadata": {},
   "source": [
    "### 5.10 Permute the elements of an array "
   ]
  },
  {
   "cell_type": "code",
   "execution_count": 45,
   "metadata": {},
   "outputs": [],
   "source": [
    "def apply_permutation(perm: list, A: list) -> None:\n",
    "    for i in range(len(A)):\n",
    "        while perm[i] != i:\n",
    "            A[perm[i]], A[i] = A[i], A[perm[i]]\n",
    "            perm[perm[i]], perm[i] = perm[i], perm[perm[i]]\n",
    "            \n",
    "    return A,perm"
   ]
  },
  {
   "cell_type": "code",
   "execution_count": 47,
   "metadata": {},
   "outputs": [
    {
     "data": {
      "text/plain": [
       "(['b', 'c', 'a', 'd'], [0, 1, 2, 3])"
      ]
     },
     "execution_count": 47,
     "metadata": {},
     "output_type": "execute_result"
    }
   ],
   "source": [
    "A = ['a','b','c','d']\n",
    "perm = [2,0,1,3]\n",
    "apply_permutation(perm,A)"
   ]
  },
  {
   "cell_type": "markdown",
   "metadata": {},
   "source": [
    "The program above will apply the permutation has $O(n)$ time complexity, since with each iteration, it moves at least one element to its permuted location. The space complexity is $O(n)$ since we modify the permutation array. "
   ]
  },
  {
   "cell_type": "code",
   "execution_count": 57,
   "metadata": {},
   "outputs": [],
   "source": [
    "# find the inverse of permutation \n",
    "def inverse_permutation(perm: list) -> None:\n",
    "    A = list(range(len(perm)))\n",
    "    for i in range(len(A)):\n",
    "        while perm[i] != i:\n",
    "            A[perm[i]], A[i] = A[i], A[perm[i]]\n",
    "            perm[perm[i]], perm[i] = perm[i], perm[perm[i]]\n",
    "            \n",
    "    return A,perm"
   ]
  },
  {
   "cell_type": "code",
   "execution_count": 58,
   "metadata": {},
   "outputs": [
    {
     "data": {
      "text/plain": [
       "([1, 2, 0, 3], [0, 1, 2, 3])"
      ]
     },
     "execution_count": 58,
     "metadata": {},
     "output_type": "execute_result"
    }
   ],
   "source": [
    "perm = [2,0,1,3]\n",
    "inverse_permutation(perm)"
   ]
  },
  {
   "cell_type": "markdown",
   "metadata": {},
   "source": [
    "### 5.11 Compute the next permutation \n",
    "Write a program that takes as input a permutation, and returns the next permutation under dictionary ordering. If the permutation is the last permutation, return the empty array. "
   ]
  },
  {
   "cell_type": "code",
   "execution_count": 82,
   "metadata": {},
   "outputs": [],
   "source": [
    "def next_permutation(perm: list) -> list:\n",
    "    # find the first entry from the right that is smaller than the entry immediately after it.\n",
    "    inversion_point = len(perm) - 2\n",
    "    while (inversion_point > 0\n",
    "           and perm[inversion_point] >= perm[inversion_point + 1]):\n",
    "        inversion_point -= 1\n",
    "    print(inversion_point)\n",
    "    if inversion_point == -1:\n",
    "        return [] # perm is the last permutations \n",
    "    for i in range(inversion_point+1, len(perm)):\n",
    "        if perm[i] < perm[inversion_point]:\n",
    "            print(i)\n",
    "            perm[i-1], perm[inversion_point] = perm[inversion_point], perm[i-1]\n",
    "            break\n",
    "    print(perm)\n",
    "    # reverse sorting the suffix \n",
    "    perm[inversion_point+1:] = reversed(perm[inversion_point+1:])\n",
    "    return perm"
   ]
  },
  {
   "cell_type": "code",
   "execution_count": 83,
   "metadata": {},
   "outputs": [
    {
     "name": "stdout",
     "output_type": "stream",
     "text": [
      "2\n",
      "6\n",
      "[6, 2, 3, 5, 4, 1, 0]\n"
     ]
    },
    {
     "data": {
      "text/plain": [
       "[6, 2, 3, 0, 1, 4, 5]"
      ]
     },
     "execution_count": 83,
     "metadata": {},
     "output_type": "execute_result"
    }
   ],
   "source": [
    "perm = [6,2,1,5,4,3,0]\n",
    "next_permutation(perm)"
   ]
  },
  {
   "cell_type": "markdown",
   "metadata": {},
   "source": [
    "Each step is an iteration throught an array, so the time complexity is $O(n)$.All that we use are a few local variables, so the additional space complexity is $O(1)$. "
   ]
  },
  {
   "cell_type": "markdown",
   "metadata": {},
   "source": [
    "## 5.12 Sample offline data\n",
    "This problem is motivated by the need for a company to select a random subset of its customers to roll out a new feature to. For example, a social networking company may want to see the effect of a new UI on page visit duratin without taking the chance of alienating all its users if the rollout is unsuccessful. \n",
    "\n",
    "Implement an algorithm that takes as input an array of distinct elements and a size, and returns a subset of the given size of the array elements. All subsets should be equally likely. Return the result in input array itself. "
   ]
  },
  {
   "cell_type": "code",
   "execution_count": 3,
   "metadata": {},
   "outputs": [],
   "source": [
    "import random"
   ]
  },
  {
   "cell_type": "code",
   "execution_count": 15,
   "metadata": {},
   "outputs": [],
   "source": [
    "def random_sampling(k: int, A: list) -> None:\n",
    "    for i in range(k):\n",
    "        # Generate a random index in [i, len(A) - 1].\n",
    "        r = random.randint(i, len(A)-1)\n",
    "        A[i], A[r] = A[r], A[i]"
   ]
  },
  {
   "cell_type": "code",
   "execution_count": 13,
   "metadata": {},
   "outputs": [
    {
     "name": "stdout",
     "output_type": "stream",
     "text": [
      "[4, 2, 7]\n",
      "[4, 2, 7, 8, 9, 1]\n"
     ]
    }
   ],
   "source": [
    "k = 3\n",
    "A = [4,2,7,8,9,1]\n",
    "B = random_sampling(k,A)\n",
    "print(B)\n",
    "print(A)"
   ]
  },
  {
   "cell_type": "markdown",
   "metadata": {},
   "source": [
    "The algorithm makes $k$ calss to the random number generator. When $k \\geq n/2$, we can optimize by computing a subset of $n - k$ elements to remove from the set. \n",
    "\n",
    "Space Complexity: $O(1)$. Time Complexity: $O(k)$. "
   ]
  },
  {
   "cell_type": "markdown",
   "metadata": {},
   "source": [
    "## 5.13 Sample online data\n",
    "Design a program that takes as input a size $k$, and reads packets, continously maintaining a uniform random subset of size $k$ of the read packets. "
   ]
  },
  {
   "cell_type": "markdown",
   "metadata": {},
   "source": [
    "Idea: suppose we hae read the first $n$ packets, and have a random subset of $k$ of them. When we read the $(n+1)$th packet, it should belong to the new subset with probability $k/(n+1)$. **If we choose one of the packets in the existing subset uniformly randomly to remove, the resulting collection will be a random subset of the $n+1$ packets.**"
   ]
  },
  {
   "cell_type": "code",
   "execution_count": 14,
   "metadata": {},
   "outputs": [],
   "source": [
    "# Assumption: there are at least k elements in the stream. \n",
    "def online_random_sample(stream, k: int) -> list:\n",
    "    # Stores the first k elements.\n",
    "    running_sample = list(itertools.islice(stream, k))\n",
    "    \n",
    "    # Have read the first k elements \n",
    "    num_seen_so_far = k\n",
    "    \n",
    "    for x in stream:\n",
    "        num_seen_so_far += 1\n",
    "        # Generate a random number in [0, num_seen_so_far -1], and if this number is in \n",
    "        # [0, k-1], we replace that element from the sample with x. \n",
    "        idx_to_replace = random.randrange(num_seen_so_far)\n",
    "        if idx_to_replace < k:\n",
    "            running_sample[idx_to_replace] = x\n",
    "    \n",
    "    return running_sample"
   ]
  },
  {
   "cell_type": "markdown",
   "metadata": {},
   "source": [
    "**How to define an iterator? And how to run it?**"
   ]
  },
  {
   "cell_type": "markdown",
   "metadata": {},
   "source": [
    "Time Complexity is $O(1)$ per element.\n",
    "\n",
    "Space Complexity is $O(n)$."
   ]
  },
  {
   "cell_type": "markdown",
   "metadata": {},
   "source": [
    "## 5.14 Compute a random permutation\n",
    "\n",
    "Design an algorithm that creates uniformly random permutations of $[0,1,\\cdots,n-1].$  You are given a random number generator that returns integers in the set $[0,1,\\cdots,n-1]$ with equal probability; use a few calls to it as possible. "
   ]
  },
  {
   "cell_type": "code",
   "execution_count": 16,
   "metadata": {},
   "outputs": [],
   "source": [
    "def compute_random_permutation(n:int) -> list:\n",
    "    permutation = list(range(n))\n",
    "    random_sampling(n, permutation)\n",
    "    return permutation"
   ]
  },
  {
   "cell_type": "code",
   "execution_count": 20,
   "metadata": {},
   "outputs": [
    {
     "data": {
      "text/plain": [
       "[3, 4, 0, 1, 2]"
      ]
     },
     "execution_count": 20,
     "metadata": {},
     "output_type": "execute_result"
    }
   ],
   "source": [
    "compute_random_permutation(5)"
   ]
  },
  {
   "cell_type": "markdown",
   "metadata": {},
   "source": [
    "Time Complexity: $O(n)$. \n",
    "\n",
    "Space Complexity: $O(n)$ for $A$. **No additional storage outside of that needed for the permutation array itself is needed.**"
   ]
  },
  {
   "cell_type": "markdown",
   "metadata": {},
   "source": [
    "## 5.16 Generate nonuniform random number \n",
    "\n",
    "You are given $n$ numbers as well as probabilities $p_0, p_1, \\cdots, p_{n-1}$, which sum up to $1$. Given a random number generator that produces values in $[0,1)$ uniformly, how would you generate one of the $n$ numbers according to the psecified probabilities?\n",
    "\n",
    "**Sol:** Find the cumulative distribution function (CDF). Uniformly random sample a number $y$ in $[0,1)$, find the inverse $x$ of $y$ via CDF. The number of the interval of $x$ falls into is the random number we need to generate. The population of the random number is taking from a given distribution. "
   ]
  },
  {
   "cell_type": "code",
   "execution_count": 26,
   "metadata": {},
   "outputs": [],
   "source": [
    "import itertools\n",
    "import bisect"
   ]
  },
  {
   "cell_type": "code",
   "execution_count": 27,
   "metadata": {},
   "outputs": [],
   "source": [
    "def nonuniform_random_number_generation(values: list, probabilities: list) -> int:\n",
    "    CDF_prob = list(itertools.accumulate(probabilities))\n",
    "    interval_idx = bisect.bisect(CDF_prob, random.random())\n",
    "    \n",
    "    return values[interval_idx]"
   ]
  },
  {
   "cell_type": "code",
   "execution_count": 31,
   "metadata": {},
   "outputs": [
    {
     "data": {
      "text/plain": [
       "3"
      ]
     },
     "execution_count": 31,
     "metadata": {},
     "output_type": "execute_result"
    }
   ],
   "source": [
    "values = [1,2,3]\n",
    "probabilities = [1/5,2/5,2/5]\n",
    "nonuniform_random_number_generation(values, probabilities)"
   ]
  },
  {
   "cell_type": "markdown",
   "metadata": {},
   "source": [
    "Time Complexity: $O(n)$ for creating arrays and $O(\\log n)$ for binary search \n",
    "\n",
    "Space Complexity: $O(n)$ for CDF_prob"
   ]
  },
  {
   "cell_type": "code",
   "execution_count": 37,
   "metadata": {},
   "outputs": [],
   "source": [
    "# define exponential CDF\n",
    "import numpy \n",
    "def exponential_CDF(x:float) -> float:\n",
    "    if x >=0:\n",
    "        return (1 - numpy.exp(- 1*x) )\n",
    "    else:\n",
    "        return 0"
   ]
  },
  {
   "cell_type": "code",
   "execution_count": 39,
   "metadata": {},
   "outputs": [],
   "source": [
    "from pynverse import inversefunc\n",
    "def nonuniform_random_number_generation(func_CDF) -> float:\n",
    "    \n",
    "    invexp = inversefunc(func_CDF)\n",
    "    \n",
    "    return invexp(random.random())"
   ]
  },
  {
   "cell_type": "code",
   "execution_count": 43,
   "metadata": {},
   "outputs": [
    {
     "data": {
      "text/plain": [
       "array(1.36631558)"
      ]
     },
     "execution_count": 43,
     "metadata": {},
     "output_type": "execute_result"
    }
   ],
   "source": [
    "nonuniform_random_number_generation(exponential_CDF)"
   ]
  },
  {
   "cell_type": "markdown",
   "metadata": {},
   "source": [
    "## 5.17 The Sudoku Checker Problem \n",
    "\n",
    "Check whether a $9 \\times 9$ 2D array representing a partially completed Sudoku is valid. Specifically, check that no row, column, or $3 \\times 3$ 2D subaray contains duplicates. A $0-$value in the 2D array indicates that entry is blank; every other entry is in $[1,9]$. "
   ]
  },
  {
   "cell_type": "code",
   "execution_count": 52,
   "metadata": {},
   "outputs": [],
   "source": [
    "import math\n",
    "# Check if a partially filled matrix has any conflicts\n",
    "def is_valid_sudoku(partial_assignment) -> bool:\n",
    "    # Return True if subarray\n",
    "    # partial_assignment[start_row: end_row][start_col: end_col] contains any \n",
    "    # duplicates in {1, 2, ..., len(partial_assignment)}; otherwise return False\n",
    "    def has_duplicate(block):\n",
    "        block = list(filter(lambda x: x != 0, block))\n",
    "        \n",
    "        return len(block) != len(set(block))\n",
    "    \n",
    "    n = len(partial_assignment)\n",
    "    # Check row and column constraints \n",
    "    if any(\n",
    "            has_duplicate([partial_assignment[i][j] for j in range(n)])\n",
    "            or has_duplicate([partial_assignment[j][i] for j in range(n)])\n",
    "            for i in range(n)):\n",
    "        return False\n",
    "    \n",
    "    # Check region constraints.\n",
    "    region_size = int(math.sqrt(n))\n",
    "    return all(not has_duplicate([\n",
    "        partial_assignment[a][b]\n",
    "        for a in range(region_size * I, region_size * (I+1))\n",
    "        for b in range(region_size * J, region_size * (J+1))\n",
    "    ]) for I in range(region_size) for J in range(region_size))\n",
    "\n",
    "    "
   ]
  },
  {
   "cell_type": "code",
   "execution_count": 59,
   "metadata": {},
   "outputs": [],
   "source": [
    "partial_assignment = [[5,3,0,0,7,0,0,0,0],\n",
    "                      [6,0,4,1,9,5,0,0,0],\n",
    "                      [0,9,8,0,0,0,0,6,0],\n",
    "                      [8,0,0,0,6,0,0,0,3],\n",
    "                      [4,0,0,8,0,3,0,0,1],\n",
    "                      [7,0,0,0,2,0,0,0,6],\n",
    "                      [0,6,4,0,0,0,2,8,0],\n",
    "                      [0,0,0,4,1,9,0,0,5],\n",
    "                      [0,0,0,0,8,0,0,7,9]]"
   ]
  },
  {
   "cell_type": "code",
   "execution_count": 60,
   "metadata": {},
   "outputs": [
    {
     "data": {
      "text/plain": [
       "False"
      ]
     },
     "execution_count": 60,
     "metadata": {},
     "output_type": "execute_result"
    }
   ],
   "source": [
    "is_valid_sudoku(partial_assignment)"
   ]
  },
  {
   "cell_type": "markdown",
   "metadata": {},
   "source": [
    "Time Complexity for $n \\times n$ Sudoku grid with $\\sqrt{n} \\times \\sqrt{n}$ subgrids is $O(n^2) + O(n^2) + O(n^2/(\\sqrt{n})^2 \\times (\\sqrt{n})^2) = O(n^2);$ the terms correspond to the complexity to check $n$ row constraints, the $n$ column constraints, and the $n$ subgrid constraints, respectively. \n",
    "\n",
    "Space Complexity: $O(n)$, dominated by the bit array to check the constraints. "
   ]
  },
  {
   "cell_type": "markdown",
   "metadata": {},
   "source": [
    "## 5.18 Compute the spiral ordering of a 2D array\n",
    "\n",
    "Write a program which takes an $n \\times n$ 2D array and returns the spiral ordering of the array. "
   ]
  },
  {
   "cell_type": "code",
   "execution_count": 78,
   "metadata": {},
   "outputs": [],
   "source": [
    "def matrix_in_spiral_order(square_matrix) -> list:\n",
    "    n = len(square_matrix)\n",
    "    A = []\n",
    "    for i in range(n,1,-2):\n",
    "        print(i)\n",
    "        print(i-2)\n",
    "        print(i-1)\n",
    "        print(square_matrix[:1][2])\n",
    "        A.append(square_matrix[0][:i-2])\n",
    "        A.append(square_matrix[:i-2][i-1])\n",
    "        A.append(square_matrix[i-1][i-1:1])\n",
    "        A.append(square_matrix[i-1:1][0])\n",
    "    if n%2:\n",
    "        A.append(A[n//2][n//2])\n",
    "            \n",
    "    return A\n",
    "            "
   ]
  },
  {
   "cell_type": "code",
   "execution_count": 79,
   "metadata": {},
   "outputs": [
    {
     "name": "stdout",
     "output_type": "stream",
     "text": [
      "3\n",
      "1\n",
      "2\n"
     ]
    },
    {
     "ename": "IndexError",
     "evalue": "list index out of range",
     "output_type": "error",
     "traceback": [
      "\u001b[0;31m---------------------------------------------------------------------------\u001b[0m",
      "\u001b[0;31mIndexError\u001b[0m                                Traceback (most recent call last)",
      "\u001b[0;32m<ipython-input-79-7895fae312e1>\u001b[0m in \u001b[0;36m<module>\u001b[0;34m()\u001b[0m\n\u001b[1;32m      2\u001b[0m                  \u001b[0;34m[\u001b[0m\u001b[0;36m4\u001b[0m\u001b[0;34m,\u001b[0m\u001b[0;36m5\u001b[0m\u001b[0;34m,\u001b[0m\u001b[0;36m6\u001b[0m\u001b[0;34m]\u001b[0m\u001b[0;34m,\u001b[0m\u001b[0;34m\u001b[0m\u001b[0m\n\u001b[1;32m      3\u001b[0m                  [7,8,9]]\n\u001b[0;32m----> 4\u001b[0;31m \u001b[0mmatrix_in_spiral_order\u001b[0m\u001b[0;34m(\u001b[0m\u001b[0msquare_matrix\u001b[0m\u001b[0;34m)\u001b[0m\u001b[0;34m\u001b[0m\u001b[0m\n\u001b[0m",
      "\u001b[0;32m<ipython-input-78-55bda84221cf>\u001b[0m in \u001b[0;36mmatrix_in_spiral_order\u001b[0;34m(square_matrix)\u001b[0m\n\u001b[1;32m      6\u001b[0m         \u001b[0mprint\u001b[0m\u001b[0;34m(\u001b[0m\u001b[0mi\u001b[0m\u001b[0;34m-\u001b[0m\u001b[0;36m2\u001b[0m\u001b[0;34m)\u001b[0m\u001b[0;34m\u001b[0m\u001b[0m\n\u001b[1;32m      7\u001b[0m         \u001b[0mprint\u001b[0m\u001b[0;34m(\u001b[0m\u001b[0mi\u001b[0m\u001b[0;34m-\u001b[0m\u001b[0;36m1\u001b[0m\u001b[0;34m)\u001b[0m\u001b[0;34m\u001b[0m\u001b[0m\n\u001b[0;32m----> 8\u001b[0;31m         \u001b[0mprint\u001b[0m\u001b[0;34m(\u001b[0m\u001b[0msquare_matrix\u001b[0m\u001b[0;34m[\u001b[0m\u001b[0;34m:\u001b[0m\u001b[0;36m1\u001b[0m\u001b[0;34m]\u001b[0m\u001b[0;34m[\u001b[0m\u001b[0;36m2\u001b[0m\u001b[0;34m]\u001b[0m\u001b[0;34m)\u001b[0m\u001b[0;34m\u001b[0m\u001b[0m\n\u001b[0m\u001b[1;32m      9\u001b[0m         \u001b[0mA\u001b[0m\u001b[0;34m.\u001b[0m\u001b[0mappend\u001b[0m\u001b[0;34m(\u001b[0m\u001b[0msquare_matrix\u001b[0m\u001b[0;34m[\u001b[0m\u001b[0;36m0\u001b[0m\u001b[0;34m]\u001b[0m\u001b[0;34m[\u001b[0m\u001b[0;34m:\u001b[0m\u001b[0mi\u001b[0m\u001b[0;34m-\u001b[0m\u001b[0;36m2\u001b[0m\u001b[0;34m]\u001b[0m\u001b[0;34m)\u001b[0m\u001b[0;34m\u001b[0m\u001b[0m\n\u001b[1;32m     10\u001b[0m         \u001b[0mA\u001b[0m\u001b[0;34m.\u001b[0m\u001b[0mappend\u001b[0m\u001b[0;34m(\u001b[0m\u001b[0msquare_matrix\u001b[0m\u001b[0;34m[\u001b[0m\u001b[0;34m:\u001b[0m\u001b[0mi\u001b[0m\u001b[0;34m-\u001b[0m\u001b[0;36m2\u001b[0m\u001b[0;34m]\u001b[0m\u001b[0;34m[\u001b[0m\u001b[0mi\u001b[0m\u001b[0;34m-\u001b[0m\u001b[0;36m1\u001b[0m\u001b[0;34m]\u001b[0m\u001b[0;34m)\u001b[0m\u001b[0;34m\u001b[0m\u001b[0m\n",
      "\u001b[0;31mIndexError\u001b[0m: list index out of range"
     ]
    }
   ],
   "source": [
    "square_matrix = [[1,2,3],\n",
    "                 [4,5,6],\n",
    "                 [7,8,9]]\n",
    "matrix_in_spiral_order(square_matrix)"
   ]
  },
  {
   "cell_type": "code",
   "execution_count": 84,
   "metadata": {},
   "outputs": [
    {
     "ename": "IndexError",
     "evalue": "list index out of range",
     "output_type": "error",
     "traceback": [
      "\u001b[0;31m---------------------------------------------------------------------------\u001b[0m",
      "\u001b[0;31mIndexError\u001b[0m                                Traceback (most recent call last)",
      "\u001b[0;32m<ipython-input-84-3ef93eeccf42>\u001b[0m in \u001b[0;36m<module>\u001b[0;34m()\u001b[0m\n\u001b[0;32m----> 1\u001b[0;31m \u001b[0mprint\u001b[0m\u001b[0;34m(\u001b[0m\u001b[0msquare_matrix\u001b[0m\u001b[0;34m[\u001b[0m\u001b[0;36m0\u001b[0m\u001b[0;34m:\u001b[0m\u001b[0;36m1\u001b[0m\u001b[0;34m:\u001b[0m\u001b[0;36m1\u001b[0m\u001b[0;34m]\u001b[0m\u001b[0;34m[\u001b[0m\u001b[0;36m2\u001b[0m\u001b[0;34m]\u001b[0m\u001b[0;34m)\u001b[0m\u001b[0;34m\u001b[0m\u001b[0m\n\u001b[0m",
      "\u001b[0;31mIndexError\u001b[0m: list index out of range"
     ]
    }
   ],
   "source": [
    "print(square_matrix[0:1:1][2])"
   ]
  },
  {
   "cell_type": "code",
   "execution_count": null,
   "metadata": {},
   "outputs": [],
   "source": []
  }
 ],
 "metadata": {
  "kernelspec": {
   "display_name": "Python 3",
   "language": "python",
   "name": "python3"
  },
  "language_info": {
   "codemirror_mode": {
    "name": "ipython",
    "version": 3
   },
   "file_extension": ".py",
   "mimetype": "text/x-python",
   "name": "python",
   "nbconvert_exporter": "python",
   "pygments_lexer": "ipython3",
   "version": "3.6.5"
  }
 },
 "nbformat": 4,
 "nbformat_minor": 2
}
