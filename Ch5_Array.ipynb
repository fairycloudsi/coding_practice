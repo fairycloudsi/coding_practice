{
 "cells": [
  {
   "cell_type": "markdown",
   "metadata": {},
   "source": [
    "# Chapter 5 Array \n",
    "\n",
    "### 5.1 The Dutch National Flag Problem \n",
    "Write a program that takes an array $A$ and an index $i$ into $A$, and rearranges the elemtns such taht all elements less than $A[i]$(the \"pivot\") appear first, followed by elements equal to pivot, followed by elements greater than the pivot. "
   ]
  },
  {
   "cell_type": "code",
   "execution_count": 3,
   "metadata": {},
   "outputs": [],
   "source": [
    "RED, WHITE, BLUE = range(3)\n",
    "\n",
    "def dutch_flag_partition(pivot_index: int, A)-> None:\n",
    "    pivot = A[pivot_index]\n",
    "    # First pass: group elements smaller than pivot.\n",
    "    print('First pass: group elements smaller than pivot')\n",
    "    for i in range(len(A)):\n",
    "        # Look for a smaller elements \n",
    "        for j in range(i+1, len(A)):\n",
    "            if A[j] < pivot:\n",
    "                A[i], A[j] = A[j], A[i]\n",
    "                print('the sequence of A')\n",
    "                print(A)\n",
    "                break\n",
    "    \n",
    "    # Second pass: group elements larger than pivot.\n",
    "    print('Second pass: group elements larger thant pivot')\n",
    "    for i in reversed(range(len(A))):\n",
    "        # Look for a larger element. Stop when we reach an element less than \n",
    "        # pivot, since first pass has moved them to the start of A\n",
    "        for j in reversed(range(i)):\n",
    "            if A[j] > pivot:\n",
    "                A[i], A[j] = A[j], A[i]\n",
    "                print('the sequence of A')\n",
    "                print(A)\n",
    "                break "
   ]
  },
  {
   "cell_type": "code",
   "execution_count": 4,
   "metadata": {},
   "outputs": [],
   "source": [
    "A = [2,1,0,1,1,0,0,2,2,0,1]"
   ]
  },
  {
   "cell_type": "code",
   "execution_count": 5,
   "metadata": {},
   "outputs": [],
   "source": [
    "pivot_index = 1"
   ]
  },
  {
   "cell_type": "code",
   "execution_count": 6,
   "metadata": {},
   "outputs": [
    {
     "name": "stdout",
     "output_type": "stream",
     "text": [
      "First pass: group elements smaller than pivot\n",
      "the sequence of A\n",
      "[0, 1, 2, 1, 1, 0, 0, 2, 2, 0, 1]\n",
      "the sequence of A\n",
      "[0, 0, 2, 1, 1, 1, 0, 2, 2, 0, 1]\n",
      "the sequence of A\n",
      "[0, 0, 0, 1, 1, 1, 2, 2, 2, 0, 1]\n",
      "the sequence of A\n",
      "[0, 0, 0, 0, 1, 1, 2, 2, 2, 1, 1]\n",
      "Second pass: group elements larger thant pivot\n",
      "the sequence of A\n",
      "[0, 0, 0, 0, 1, 1, 2, 2, 1, 1, 2]\n",
      "the sequence of A\n",
      "[0, 0, 0, 0, 1, 1, 2, 1, 1, 2, 2]\n",
      "the sequence of A\n",
      "[0, 0, 0, 0, 1, 1, 1, 1, 2, 2, 2]\n"
     ]
    }
   ],
   "source": [
    "dutch_flag_partition(pivot_index, A)"
   ]
  },
  {
   "cell_type": "markdown",
   "metadata": {},
   "source": [
    "The additional space complexity is now $O(1)$, but the time complexity os $O(n^2)$, e.g if $i = n/2$ and all elements before $i$ are greater than $A[i]$, and all elements after $i$ are less than $A[i].$ Intutively, this approach has bad time complexity because in the frist ass when searching for each additional element smaller than the pivot we start from the beginning. However, there is no reason to start from so far back --we can begin from the last location we advanced to. (Similar comments hold for the second pass.)\n",
    "To improve time complexity, we make a single pass and move all the elements less than the pivot to the beginning. In the second pass we move the larger elements to the end. It is easy to perform each pass in a single iteration, moving out-of-place elements as soon as they are discovered. "
   ]
  },
  {
   "cell_type": "code",
   "execution_count": 9,
   "metadata": {},
   "outputs": [],
   "source": [
    "RED, WHITE, BLUE = range(3)\n",
    "\n",
    "def dutch_flag_partition_2(pivot_index: int, A)-> None:\n",
    "    pivot = A[pivot_index]\n",
    "    # First pass: group elements smaller than pivot.\n",
    "    smaller = 0\n",
    "    print('First pass: group elements smaller than pivot')\n",
    "    for i in range(len(A)):\n",
    "        # Look for a smaller elements \n",
    "        if A[i] < pivot:\n",
    "            A[i], A[smaller] = A[smaller], A[i]\n",
    "            smaller += 1\n",
    "            print('the sequence of A')\n",
    "            print(A)\n",
    "    \n",
    "    # Second pass: group elements larger than pivot.\n",
    "    print('Second pass: group elements larger thant pivot')\n",
    "    larger = len(A)-1\n",
    "    for i in reversed(range(len(A))):\n",
    "        # Look for a larger element. Stop when we reach an element less than \n",
    "        # pivot, since first pass has moved them to the start of A\n",
    "        if A[i] > pivot:\n",
    "            A[i], A[larger] = A[larger], A[i]\n",
    "            larger -= 1\n",
    "            print('the sequence of A')\n",
    "            print(A)"
   ]
  },
  {
   "cell_type": "code",
   "execution_count": 11,
   "metadata": {},
   "outputs": [],
   "source": [
    "A = [2,1,0,1,1,0,0,2,2,0,1]"
   ]
  },
  {
   "cell_type": "code",
   "execution_count": 12,
   "metadata": {},
   "outputs": [
    {
     "name": "stdout",
     "output_type": "stream",
     "text": [
      "First pass: group elements smaller than pivot\n",
      "the sequence of A\n",
      "[0, 1, 2, 1, 1, 0, 0, 2, 2, 0, 1]\n",
      "the sequence of A\n",
      "[0, 0, 2, 1, 1, 1, 0, 2, 2, 0, 1]\n",
      "the sequence of A\n",
      "[0, 0, 0, 1, 1, 1, 2, 2, 2, 0, 1]\n",
      "the sequence of A\n",
      "[0, 0, 0, 0, 1, 1, 2, 2, 2, 1, 1]\n",
      "Second pass: group elements larger thant pivot\n",
      "the sequence of A\n",
      "[0, 0, 0, 0, 1, 1, 2, 2, 1, 1, 2]\n",
      "the sequence of A\n",
      "[0, 0, 0, 0, 1, 1, 2, 1, 1, 2, 2]\n",
      "the sequence of A\n",
      "[0, 0, 0, 0, 1, 1, 1, 1, 2, 2, 2]\n"
     ]
    }
   ],
   "source": [
    "dutch_flag_partition_2(pivot_index, A)"
   ]
  },
  {
   "cell_type": "markdown",
   "metadata": {},
   "source": [
    "The time complexity is $O(N)$ and the space complexity is $O(1)$. "
   ]
  },
  {
   "cell_type": "markdown",
   "metadata": {},
   "source": [
    "The alg we now present is similar to the one sketched above. The main difference is that it performs classification into elements less than, equal to, and greater than the pivot in a single pass. This reduces runtie, at the cost of a trickier implementation. We do this by maintaining four subarrays: bottom (elements less than pivot), middle(elements equal to pivot), unclassified, and top(elements greater than pivot). Initially, all elements are in unclassified. We iterate through elements in unclassified, and move elements into one of bottom, middle, and top groups according to the relative order between the incoming unclassified element and the pivot."
   ]
  },
  {
   "cell_type": "code",
   "execution_count": 14,
   "metadata": {},
   "outputs": [],
   "source": [
    "def dutch_flag_partition_3(pivot_index: int, A) -> None:\n",
    "    pivot = A[pivot_index]\n",
    "    # Keep the following invariants during partitiong:\n",
    "    # bottom group: A[:smaller].\n",
    "    # middle group: A[smaller:equal].\n",
    "    # unclassified: A[equal:larger].\n",
    "    # top group: A[larger:].\n",
    "    smaller, equal, larger = 0, 0, len(A)\n",
    "    # Keep iterating as long as there is an unclassified element. \n",
    "    while equal < larger:\n",
    "        # A[equal] is the incoming unclassified element:\n",
    "        if A[equal] < pivot:\n",
    "            A[equal], A[smaller] = A[smaller], A[equal]\n",
    "            equal += 1\n",
    "            smaller += 1\n",
    "            print('swap with last element in bottom group')\n",
    "            print(A)\n",
    "        if A[equal] == pivot:\n",
    "            equal +=1\n",
    "            print('did not thing, move one step forward')\n",
    "            print(A)\n",
    "        if A[equal] > pivot:\n",
    "            A[equal], A[larger-1] = A[larger-1], A[equal]\n",
    "            larger -=1\n",
    "            print('swap with last element in unclassified group')\n",
    "            print(A)\n",
    "            "
   ]
  },
  {
   "cell_type": "code",
   "execution_count": 16,
   "metadata": {},
   "outputs": [
    {
     "name": "stdout",
     "output_type": "stream",
     "text": [
      "swap with last element in unclassified group\n",
      "[1, 1, 0, 1, 1, 0, 0, 2, 2, 0, 2]\n",
      "did not thing, move one step forward\n",
      "[1, 1, 0, 1, 1, 0, 0, 2, 2, 0, 2]\n",
      "did not thing, move one step forward\n",
      "[1, 1, 0, 1, 1, 0, 0, 2, 2, 0, 2]\n",
      "swap with last element in bottom group\n",
      "[0, 1, 1, 1, 1, 0, 0, 2, 2, 0, 2]\n",
      "did not thing, move one step forward\n",
      "[0, 1, 1, 1, 1, 0, 0, 2, 2, 0, 2]\n",
      "did not thing, move one step forward\n",
      "[0, 1, 1, 1, 1, 0, 0, 2, 2, 0, 2]\n",
      "swap with last element in bottom group\n",
      "[0, 0, 1, 1, 1, 1, 0, 2, 2, 0, 2]\n",
      "swap with last element in bottom group\n",
      "[0, 0, 0, 1, 1, 1, 1, 2, 2, 0, 2]\n",
      "swap with last element in unclassified group\n",
      "[0, 0, 0, 1, 1, 1, 1, 0, 2, 2, 2]\n",
      "swap with last element in bottom group\n",
      "[0, 0, 0, 0, 1, 1, 1, 1, 2, 2, 2]\n",
      "swap with last element in unclassified group\n",
      "[0, 0, 0, 0, 1, 1, 1, 1, 2, 2, 2]\n"
     ]
    }
   ],
   "source": [
    "A = [2,1,0,1,1,0,0,2,2,0,1]\n",
    "dutch_flag_partition_3(pivot_index, A)"
   ]
  },
  {
   "cell_type": "markdown",
   "metadata": {},
   "source": [
    "Each iteration decreases the size of unclassified by $1$, and the time spent within each iteration is $O(1)$, implying the time complexity is $O(n)$. The space complexity is clearly $O(1)$."
   ]
  },
  {
   "cell_type": "markdown",
   "metadata": {},
   "source": [
    "### 5.2 Increment an Arbitrary-precision Integer\n",
    "\n",
    "Write a program which takes as input an array of digist encoding a nonnegative decimal integer $D$ and updates the array to represent the integer $D+1$. For example, if the input is $\\langle 1,2,9 \\rangle$ then you should update the array to $\\langle 1,3,0 \\rangle$. "
   ]
  },
  {
   "cell_type": "markdown",
   "metadata": {},
   "source": [
    "**Sol:** A brute-force approach might be to convert the array of digits to the equivalent integer, increment that, and then convert the resulting alue back to an array of digits. For example, if the array is $\\langle 1,2,9 \\rangle$, we would derive the interger $129$, add one to get $130$, then extract its digits to form $\\langle 1,3,0 \\rangle$. When implemented in a language that imposes a limit on the range of values an integer type can take, this approach will fail on inputs that encode integers outside of that range. "
   ]
  },
  {
   "cell_type": "code",
   "execution_count": 18,
   "metadata": {},
   "outputs": [],
   "source": [
    "def plus_one(A : list) -> list:\n",
    "    A[-1] += 1\n",
    "    for i in reversed(range(1,len(A))):\n",
    "        if A[i] != 10:\n",
    "            break \n",
    "        A[i] = 0\n",
    "        A[i -1] += 1\n",
    "    if A[0] == 10:\n",
    "        # There is a carry-out, so we need one more digit to sotre the result.\n",
    "        # A slick way to do this is to append a 0 at the end of the array \n",
    "        # and update the first entry to 1 \n",
    "        A[0] = 1\n",
    "        A.append(0)\n",
    "    return A"
   ]
  },
  {
   "cell_type": "code",
   "execution_count": 19,
   "metadata": {},
   "outputs": [
    {
     "name": "stdout",
     "output_type": "stream",
     "text": [
      "[1, 3, 0]\n"
     ]
    }
   ],
   "source": [
    "A = [1,2,9]\n",
    "B = plus_one(A)\n",
    "print(B)"
   ]
  },
  {
   "cell_type": "code",
   "execution_count": 20,
   "metadata": {},
   "outputs": [
    {
     "name": "stdout",
     "output_type": "stream",
     "text": [
      "[1, 0, 0, 0]\n"
     ]
    }
   ],
   "source": [
    "A = [9,9,9]\n",
    "B = plus_one(A)\n",
    "print(B)"
   ]
  },
  {
   "cell_type": "markdown",
   "metadata": {},
   "source": [
    "The time complexity is $O(n)$, where $n$ is the length of $A$."
   ]
  },
  {
   "cell_type": "markdown",
   "metadata": {},
   "source": [
    "### 5.3 Mutiply Two Arbitrary-precision Integers\n",
    "\n",
    "Write a program that takes two arrays representing integers, and returns an integer representing their product."
   ]
  },
  {
   "cell_type": "code",
   "execution_count": 21,
   "metadata": {},
   "outputs": [],
   "source": [
    "def multiply(num1: list, num2: list) -> list:\n",
    "    sign = -1 if (num1[0] < 0)^(num2[0] < 0) else 1\n",
    "    num1[0], num2[0] = abs(num1[0]), abs(num2[0])\n",
    "    \n",
    "    result = [0]* (len(num1) + len(num2))\n",
    "    for i in reversed(range(len(num1))):\n",
    "        for j in reversed(range(len(num2))):\n",
    "            result[i+j+1] += num1[i] * num2[j]\n",
    "            result[i+j] += result[i+j+1]//10\n",
    "            result[i+j+1] %= 10\n",
    "            print('result')\n",
    "            print(result)\n",
    "            \n",
    "    # Remove the leading zeros \n",
    "    result = result[next((i for i, x in enumerate(result)\n",
    "                        if x!=0), len(result)):] or [0]\n",
    "    return [sign* result[0]] + result[1:]"
   ]
  },
  {
   "cell_type": "code",
   "execution_count": 22,
   "metadata": {},
   "outputs": [
    {
     "name": "stdout",
     "output_type": "stream",
     "text": [
      "result\n",
      "[0, 0, 0, 0, 2, 1]\n",
      "result\n",
      "[0, 0, 0, 2, 6, 1]\n",
      "result\n",
      "[0, 0, 2, 9, 6, 1]\n",
      "result\n",
      "[0, 0, 2, 11, 0, 1]\n",
      "result\n",
      "[0, 0, 4, 7, 0, 1]\n",
      "result\n",
      "[0, 2, 2, 7, 0, 1]\n",
      "result\n",
      "[0, 2, 3, 4, 0, 1]\n",
      "result\n",
      "[0, 3, 1, 4, 0, 1]\n",
      "result\n",
      "[1, 2, 1, 4, 0, 1]\n"
     ]
    }
   ],
   "source": [
    "num1 = [1,2,3]\n",
    "num2 = [9,8,7]\n",
    "num12 = multiply(num1, num2)"
   ]
  },
  {
   "cell_type": "markdown",
   "metadata": {},
   "source": [
    "There are $m$ partial products, each with at most $n+1$ digits. We perform $O(1)$ operations on each digit in each partial product, so the time complexity is $O(mn).$"
   ]
  },
  {
   "cell_type": "markdown",
   "metadata": {},
   "source": [
    "### 5.4 Advancing through an array \n",
    "Write a program which takes an array of $n$ integers, where $A[i]$ denotes the maximum you can advance from index $i$, and returns whether it is possible to advance to the last index starting from the beginning of the array. "
   ]
  },
  {
   "cell_type": "markdown",
   "metadata": {},
   "source": [
    "Iterate throught all entries in $A$. As we iterate through the array, we track the furthest index we can advance to. The furthest we can advance from index $i$ is $i + A[i].$ If, for some $i$ before the end of the array, $i$ is the furthest index that we have demonstrated that we can advance to, we cannot reach the last index. Otherwise, we reach the end. "
   ]
  },
  {
   "cell_type": "code",
   "execution_count": 28,
   "metadata": {},
   "outputs": [],
   "source": [
    "def can_reach_end(A: list) -> bool:\n",
    "    furthest_reach_so_far, last_index = 0,len(A)-1\n",
    "    i = 0\n",
    "    while i <= furthest_reach_so_far and furthest_reach_so_far < last_index:\n",
    "        furthest_reach_so_far = max(furthest_reach_so_far, A[i]+i)\n",
    "        i += 1\n",
    "    return furthest_reach_so_far >= last_index"
   ]
  },
  {
   "cell_type": "code",
   "execution_count": 29,
   "metadata": {},
   "outputs": [],
   "source": [
    "A = [3,3,1,0,2,0,1]"
   ]
  },
  {
   "cell_type": "code",
   "execution_count": 30,
   "metadata": {},
   "outputs": [
    {
     "data": {
      "text/plain": [
       "True"
      ]
     },
     "execution_count": 30,
     "metadata": {},
     "output_type": "execute_result"
    }
   ],
   "source": [
    "can_reach_end(A)"
   ]
  },
  {
   "cell_type": "code",
   "execution_count": 33,
   "metadata": {},
   "outputs": [],
   "source": [
    "A = [3,2,0,0,2,0,1]"
   ]
  },
  {
   "cell_type": "code",
   "execution_count": 34,
   "metadata": {},
   "outputs": [
    {
     "data": {
      "text/plain": [
       "False"
      ]
     },
     "execution_count": 34,
     "metadata": {},
     "output_type": "execute_result"
    }
   ],
   "source": [
    "can_reach_end(A)"
   ]
  },
  {
   "cell_type": "markdown",
   "metadata": {},
   "source": [
    "The time complexity is $O(n)$ and the additional space complexity is three integer variables, i.e., $O(1)$. "
   ]
  },
  {
   "cell_type": "markdown",
   "metadata": {},
   "source": [
    "### 5.5 Deleting duplicates from a sorted array\n",
    "Write a program which takes as input a sorted array and updates it so that all duplicates have been removed and the remaining elements have been shifted left to fill the emptied indices. Return the number of valid elements. "
   ]
  },
  {
   "cell_type": "code",
   "execution_count": 41,
   "metadata": {},
   "outputs": [],
   "source": [
    "def delete_duplicate(A : list) -> int:\n",
    "    if not A:\n",
    "        return 0\n",
    "    \n",
    "    i = 0\n",
    "    j = 1\n",
    "    while (i < len(A)) and (j < len(A)):\n",
    "        if A[j] == A[i]:\n",
    "            j = j+1\n",
    "        else:\n",
    "            A[i+1] = A[j]\n",
    "            i = i +1 \n",
    "            j = j + 1\n",
    "            \n",
    "        print('A')\n",
    "        print(A)\n",
    "        print('i')\n",
    "        print(i)\n",
    "        print('j')\n",
    "        print(j)\n",
    "    return i+1    "
   ]
  },
  {
   "cell_type": "code",
   "execution_count": 42,
   "metadata": {},
   "outputs": [
    {
     "name": "stdout",
     "output_type": "stream",
     "text": [
      "A\n",
      "[2, 3, 5, 5, 7, 11, 11, 11, 13]\n",
      "i\n",
      "1\n",
      "j\n",
      "2\n",
      "A\n",
      "[2, 3, 5, 5, 7, 11, 11, 11, 13]\n",
      "i\n",
      "2\n",
      "j\n",
      "3\n",
      "A\n",
      "[2, 3, 5, 5, 7, 11, 11, 11, 13]\n",
      "i\n",
      "2\n",
      "j\n",
      "4\n",
      "A\n",
      "[2, 3, 5, 7, 7, 11, 11, 11, 13]\n",
      "i\n",
      "3\n",
      "j\n",
      "5\n",
      "A\n",
      "[2, 3, 5, 7, 11, 11, 11, 11, 13]\n",
      "i\n",
      "4\n",
      "j\n",
      "6\n",
      "A\n",
      "[2, 3, 5, 7, 11, 11, 11, 11, 13]\n",
      "i\n",
      "4\n",
      "j\n",
      "7\n",
      "A\n",
      "[2, 3, 5, 7, 11, 11, 11, 11, 13]\n",
      "i\n",
      "4\n",
      "j\n",
      "8\n",
      "A\n",
      "[2, 3, 5, 7, 11, 13, 11, 11, 13]\n",
      "i\n",
      "5\n",
      "j\n",
      "9\n"
     ]
    },
    {
     "data": {
      "text/plain": [
       "[2, 3, 5, 7, 11, 13, 11, 11, 13]"
      ]
     },
     "execution_count": 42,
     "metadata": {},
     "output_type": "execute_result"
    }
   ],
   "source": [
    "A = [2,3,5,5,7,11,11,11,13]\n",
    "delete_duplicate(A)"
   ]
  },
  {
   "cell_type": "code",
   "execution_count": null,
   "metadata": {},
   "outputs": [],
   "source": []
  }
 ],
 "metadata": {
  "kernelspec": {
   "display_name": "Python 3",
   "language": "python",
   "name": "python3"
  },
  "language_info": {
   "codemirror_mode": {
    "name": "ipython",
    "version": 3
   },
   "file_extension": ".py",
   "mimetype": "text/x-python",
   "name": "python",
   "nbconvert_exporter": "python",
   "pygments_lexer": "ipython3",
   "version": "3.6.5"
  }
 },
 "nbformat": 4,
 "nbformat_minor": 2
}
