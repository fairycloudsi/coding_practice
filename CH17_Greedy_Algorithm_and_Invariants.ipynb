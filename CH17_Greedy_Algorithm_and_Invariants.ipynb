{
 "cells": [
  {
   "cell_type": "markdown",
   "metadata": {},
   "source": [
    "## Greedy algorithms boot camp\n",
    "\n",
    "For US currency, wherein coins take values 1,5,10,25,50,100 cents, the greedy algorithm for making change results in the minimum number of coins. "
   ]
  },
  {
   "cell_type": "code",
   "execution_count": 2,
   "metadata": {},
   "outputs": [],
   "source": [
    "def change_making(cents: int) -> int:\n",
    "    coins = [100, 50, 25, 10, 5, 1]\n",
    "    num_coins = 0\n",
    "    for coin in coins:\n",
    "        num_coins += cents // coin\n",
    "        cents %= coin \n",
    "    return num_coins"
   ]
  },
  {
   "cell_type": "code",
   "execution_count": 3,
   "metadata": {},
   "outputs": [],
   "source": [
    "cents = 57"
   ]
  },
  {
   "cell_type": "code",
   "execution_count": 4,
   "metadata": {},
   "outputs": [
    {
     "data": {
      "text/plain": [
       "1"
      ]
     },
     "execution_count": 4,
     "metadata": {},
     "output_type": "execute_result"
    }
   ],
   "source": [
    "cents// 50"
   ]
  },
  {
   "cell_type": "code",
   "execution_count": 5,
   "metadata": {},
   "outputs": [
    {
     "data": {
      "text/plain": [
       "57"
      ]
     },
     "execution_count": 5,
     "metadata": {},
     "output_type": "execute_result"
    }
   ],
   "source": [
    "cents"
   ]
  },
  {
   "cell_type": "code",
   "execution_count": 6,
   "metadata": {},
   "outputs": [
    {
     "data": {
      "text/plain": [
       "7"
      ]
     },
     "execution_count": 6,
     "metadata": {},
     "output_type": "execute_result"
    }
   ],
   "source": [
    "cents % 50"
   ]
  },
  {
   "cell_type": "code",
   "execution_count": 7,
   "metadata": {},
   "outputs": [
    {
     "data": {
      "text/plain": [
       "57"
      ]
     },
     "execution_count": 7,
     "metadata": {},
     "output_type": "execute_result"
    }
   ],
   "source": [
    "cents "
   ]
  },
  {
   "cell_type": "code",
   "execution_count": 8,
   "metadata": {},
   "outputs": [
    {
     "data": {
      "text/plain": [
       "4"
      ]
     },
     "execution_count": 8,
     "metadata": {},
     "output_type": "execute_result"
    }
   ],
   "source": [
    "change_making(57)"
   ]
  },
  {
   "cell_type": "code",
   "execution_count": 9,
   "metadata": {},
   "outputs": [
    {
     "data": {
      "text/plain": [
       "4"
      ]
     },
     "execution_count": 9,
     "metadata": {},
     "output_type": "execute_result"
    }
   ],
   "source": [
    "change_making(4)"
   ]
  },
  {
   "cell_type": "code",
   "execution_count": 10,
   "metadata": {},
   "outputs": [
    {
     "data": {
      "text/plain": [
       "1"
      ]
     },
     "execution_count": 10,
     "metadata": {},
     "output_type": "execute_result"
    }
   ],
   "source": [
    "change_making(10)"
   ]
  },
  {
   "cell_type": "code",
   "execution_count": 11,
   "metadata": {},
   "outputs": [
    {
     "data": {
      "text/plain": [
       "5"
      ]
     },
     "execution_count": 11,
     "metadata": {},
     "output_type": "execute_result"
    }
   ],
   "source": [
    "change_making(29)"
   ]
  },
  {
   "cell_type": "markdown",
   "metadata": {},
   "source": [
    "We perform 6 iterations and each iteration does a constant amount of computation, so the time complexity is O(1). "
   ]
  },
  {
   "cell_type": "markdown",
   "metadata": {},
   "source": [
    "## 17.1 Compute an optimum assignment of tasks \n",
    "\n",
    "We consider the problem of assigning tasks to workers. Each worker must be assigned exactly two tasks. Each task takes a fixed amount of time. Tasks are independent, i.e., there are no constraints of the form \"Task 4 cannot start before Task 3 is completed.\" Any task can be assinged to any worker. \n",
    "\n",
    "**Sol:** In summary, we sort the set of task durations, and pair the shrotest, second shortest, third shortest, etc. tasks with the longest, second longest, third longest,etc. tasks. "
   ]
  },
  {
   "cell_type": "code",
   "execution_count": 12,
   "metadata": {},
   "outputs": [],
   "source": [
    "import collections"
   ]
  },
  {
   "cell_type": "code",
   "execution_count": 15,
   "metadata": {},
   "outputs": [],
   "source": [
    "PairedTasks = collections.namedtuple('PairedTasks', ('task_1', 'task_2'))\n",
    "\n",
    "def optimum_task_assignment(task_durations: list) -> list:\n",
    "    task_durations.sort()\n",
    "    return [\n",
    "        PairedTasks(task_durations[i], task_durations[~i])\n",
    "        for i in range(len(task_durations)//2)\n",
    "    ]"
   ]
  },
  {
   "cell_type": "code",
   "execution_count": 16,
   "metadata": {},
   "outputs": [
    {
     "data": {
      "text/plain": [
       "[PairedTasks(task_1=1, task_2=6),\n",
       " PairedTasks(task_1=2, task_2=5),\n",
       " PairedTasks(task_1=4, task_2=4)]"
      ]
     },
     "execution_count": 16,
     "metadata": {},
     "output_type": "execute_result"
    }
   ],
   "source": [
    "task_durations = [5,2,1,6,4,4]\n",
    "optimum_task_assignment(task_durations)"
   ]
  },
  {
   "cell_type": "code",
   "execution_count": 17,
   "metadata": {},
   "outputs": [
    {
     "data": {
      "text/plain": [
       "[PairedTasks(task_1=0, task_2=41),\n",
       " PairedTasks(task_1=1, task_2=39),\n",
       " PairedTasks(task_1=2, task_2=9),\n",
       " PairedTasks(task_1=2, task_2=8),\n",
       " PairedTasks(task_1=4, task_2=4)]"
      ]
     },
     "execution_count": 17,
     "metadata": {},
     "output_type": "execute_result"
    }
   ],
   "source": [
    "task_durations = [4,9,2,39,4,1,0,2,8,41]\n",
    "optimum_task_assignment(task_durations)"
   ]
  },
  {
   "cell_type": "markdown",
   "metadata": {},
   "source": [
    "The time complexity is dominated by the time to sort, i.e., O(n log n). "
   ]
  },
  {
   "cell_type": "markdown",
   "metadata": {},
   "source": [
    "## 17.2 Schedule to minimize waiting time \n",
    "\n",
    "A database has to respond to set of client SQL queries. The service time required for each entry is known in advance. For this application, the queries must be processed by the database one at a time, but can be done in any order. The time a query waits before its turn comes is called its waiting time. \n",
    "\n",
    "Given service times for a set of queries, compute a schedule for processing the queries that minimizes the total waiting time. Return the minimum waiting time. "
   ]
  },
  {
   "cell_type": "code",
   "execution_count": 19,
   "metadata": {},
   "outputs": [],
   "source": [
    "def minimum_total_waiting_time(service_times: list) -> int:\n",
    "    # Sort the service times in increasing order\n",
    "    service_times.sort()\n",
    "    total_waiting_time = 0\n",
    "    for i, service_time in enumerate(service_times):\n",
    "        num_remaining_queries = len(service_times) - (i+1)\n",
    "        total_waiting_time += service_time * num_remaining_queries\n",
    "    return total_waiting_time"
   ]
  },
  {
   "cell_type": "code",
   "execution_count": 24,
   "metadata": {},
   "outputs": [],
   "source": [
    "service_times = [5,3,2,1]"
   ]
  },
  {
   "cell_type": "code",
   "execution_count": 25,
   "metadata": {},
   "outputs": [
    {
     "data": {
      "text/plain": [
       "10"
      ]
     },
     "execution_count": 25,
     "metadata": {},
     "output_type": "execute_result"
    }
   ],
   "source": [
    "minimum_total_waiting_time(service_times)"
   ]
  },
  {
   "cell_type": "code",
   "execution_count": 26,
   "metadata": {},
   "outputs": [],
   "source": [
    "service_times = [6,4,6,2,1]"
   ]
  },
  {
   "cell_type": "code",
   "execution_count": 27,
   "metadata": {},
   "outputs": [
    {
     "data": {
      "text/plain": [
       "24"
      ]
     },
     "execution_count": 27,
     "metadata": {},
     "output_type": "execute_result"
    }
   ],
   "source": [
    "minimum_total_waiting_time(service_times)"
   ]
  },
  {
   "cell_type": "markdown",
   "metadata": {},
   "source": [
    "The time complexity is dominated by the time sort, i.e., O(n log n). "
   ]
  },
  {
   "cell_type": "markdown",
   "metadata": {},
   "source": [
    "## 17.3 The interval covering problem \n",
    "\n",
    "Consider a forman responsible for a number of tasks on the factory floor. Each task starts at a fixed time and ends at a fixed time. The foreman wants to visit the floor to check on the tasks. Your job is to help him minimize the number of visits he makes. In each visit, he can check on all the tasks taking place at the time of visit. \n",
    "\n",
    "You are given a set of closed intervals. Desing an efficient algorithm for finding a minimum sized set of numbers that covers all the intervals. "
   ]
  },
  {
   "cell_type": "markdown",
   "metadata": {},
   "source": [
    "**Sol:** The above observation leads to the following algorithm. Sort all the intervals, comparing on right endpints. Select the first interval's right endpoint. Iterate through the intervals, looking for the first one not covered by this right endpoint. As soon as such an interval is found, select its right endpoint and continue the interation. "
   ]
  },
  {
   "cell_type": "code",
   "execution_count": 31,
   "metadata": {},
   "outputs": [],
   "source": [
    "import operator"
   ]
  },
  {
   "cell_type": "code",
   "execution_count": 37,
   "metadata": {},
   "outputs": [],
   "source": [
    "Interval = collections.namedtuple('Interval', ('left', 'right'))\n",
    "\n",
    "def find_minimum_visits(intervals: list) -> int:\n",
    "    # Sort intervals based on the right endpoints\n",
    "    intervals.sort(key = operator.attrgetter('right'))\n",
    "    last_visit_time, num_visits = float('-inf'), 0\n",
    "    time_to_visit = []\n",
    "    for interval in intervals:\n",
    "        if interval.left > last_visit_time:\n",
    "            # The current right endpoint, last_visit_time, will not cover any more intervals\n",
    "            last_visit_time = interval.right \n",
    "            time_to_visit.append(last_visit_time)\n",
    "            num_visits += 1\n",
    "    return num_visits, time_to_visit"
   ]
  },
  {
   "cell_type": "code",
   "execution_count": 38,
   "metadata": {},
   "outputs": [],
   "source": [
    "it1 = Interval(1,2)\n",
    "it2 = Interval(2,3)\n",
    "it3 = Interval(3,4)\n",
    "it4 = Interval(2,3)\n",
    "it5 = Interval(3,4)\n",
    "it6 = Interval(4,5)\n",
    "itervals = [it1,it2,it3,it4,it5,it6]"
   ]
  },
  {
   "cell_type": "code",
   "execution_count": 39,
   "metadata": {},
   "outputs": [
    {
     "data": {
      "text/plain": [
       "(2, [2, 4])"
      ]
     },
     "execution_count": 39,
     "metadata": {},
     "output_type": "execute_result"
    }
   ],
   "source": [
    "find_minimum_visits(itervals)"
   ]
  },
  {
   "cell_type": "markdown",
   "metadata": {},
   "source": [
    "We spend O(1) time per index. The time complexity after the initial sort is O(n), where n is the number of intervals. Therefore, the time taken is dominated by the initial sort, i.e., O(n log n). "
   ]
  },
  {
   "cell_type": "markdown",
   "metadata": {},
   "source": [
    "## Invariants boot camp\n",
    "\n",
    "Suppose you were asked to write a program that takes as input a sorted array and a given target value and determines if there are two entries in the array (not necessarily distinct) that add up to that value. \n",
    "\n",
    "Brute-force algorithm for this problem consists of a pair of nested for loops. Its complexity is O(n^2), where n is the length of the input array. A faster approach is to add each element of the array to a hash table, and test for each element e if K-e, where K is the target value, is present in the hash table. While reducing time complexity to O(n), this approach requires O(n) additional storage for the hash. \n",
    "\n",
    "The most efficient appraoch uses invariants: maintain a subarray that is guaranteed to hold a solution, if it exists. This subarray is initialized to the entire array, and iteratively shrunk from one side or the other. The shriking makes use of the sortedness of the array. Specifically, if the sum of the leftmost and the rightmost elements is less than the target, then the leftmost element can never be combined with some lement to obtain the target. A similar observation holds for the rightmost element. "
   ]
  },
  {
   "cell_type": "code",
   "execution_count": 40,
   "metadata": {},
   "outputs": [],
   "source": [
    "def has_two_sum(A: list, t: int) -> bool:\n",
    "    i, j = 0, len(A) -1\n",
    "    \n",
    "    while i<= j:\n",
    "        if A[i] + A[j] == t:\n",
    "            return True\n",
    "        elif A[i] + A[j] < t:\n",
    "            i += 1\n",
    "        elif A[i] + A[j] > t:\n",
    "            j -= 1\n",
    "    return False "
   ]
  },
  {
   "cell_type": "code",
   "execution_count": 41,
   "metadata": {},
   "outputs": [
    {
     "data": {
      "text/plain": [
       "True"
      ]
     },
     "execution_count": 41,
     "metadata": {},
     "output_type": "execute_result"
    }
   ],
   "source": [
    "A = [-2,1,2,4,7,11]\n",
    "t = 9\n",
    "has_two_sum(A,t)"
   ]
  },
  {
   "cell_type": "code",
   "execution_count": 42,
   "metadata": {},
   "outputs": [
    {
     "data": {
      "text/plain": [
       "False"
      ]
     },
     "execution_count": 42,
     "metadata": {},
     "output_type": "execute_result"
    }
   ],
   "source": [
    "t = 10\n",
    "has_two_sum(A,t)"
   ]
  },
  {
   "cell_type": "code",
   "execution_count": 43,
   "metadata": {},
   "outputs": [
    {
     "data": {
      "text/plain": [
       "True"
      ]
     },
     "execution_count": 43,
     "metadata": {},
     "output_type": "execute_result"
    }
   ],
   "source": [
    "t = 0 \n",
    "has_two_sum(A,t)"
   ]
  },
  {
   "cell_type": "code",
   "execution_count": 44,
   "metadata": {},
   "outputs": [
    {
     "data": {
      "text/plain": [
       "True"
      ]
     },
     "execution_count": 44,
     "metadata": {},
     "output_type": "execute_result"
    }
   ],
   "source": [
    "t = 4\n",
    "has_two_sum(A,t)"
   ]
  },
  {
   "cell_type": "markdown",
   "metadata": {},
   "source": [
    "The time cpmplexity is O(n), where n is the length of the array. The space complexity is O(1), since the subarray can be represented by two variables. "
   ]
  },
  {
   "cell_type": "markdown",
   "metadata": {},
   "source": [
    "## 17.4 The 3-sum problem\n",
    "\n",
    "Design an algorithm that takes as input an array and a number, and determines if there are three entries in teh array (not necessarily distinct) which add up to the specified number. "
   ]
  },
  {
   "cell_type": "code",
   "execution_count": 47,
   "metadata": {},
   "outputs": [],
   "source": [
    "def has_three_sum(A:list, t:int) -> bool:\n",
    "    A.sort()\n",
    "    # Finds if the sum of two numbers in A equals to t-a\n",
    "    return any(has_two_sum(A, t-a) for a in A)"
   ]
  },
  {
   "cell_type": "code",
   "execution_count": 48,
   "metadata": {},
   "outputs": [
    {
     "data": {
      "text/plain": [
       "True"
      ]
     },
     "execution_count": 48,
     "metadata": {},
     "output_type": "execute_result"
    }
   ],
   "source": [
    "A = [2,3,5,7,11]\n",
    "t = 21\n",
    "has_three_sum(A,t)"
   ]
  },
  {
   "cell_type": "code",
   "execution_count": 49,
   "metadata": {},
   "outputs": [
    {
     "data": {
      "text/plain": [
       "False"
      ]
     },
     "execution_count": 49,
     "metadata": {},
     "output_type": "execute_result"
    }
   ],
   "source": [
    "t = 22\n",
    "has_three_sum(A,t)"
   ]
  },
  {
   "cell_type": "markdown",
   "metadata": {},
   "source": [
    "The additional space needed is O(1), and the time complexity is the sum of the time taken to sort, O(n logn), and then to run the O(n) algorithm to find a pair in a sorted array that sums to a specified value, which is O(n^2) overall. "
   ]
  },
  {
   "cell_type": "markdown",
   "metadata": {},
   "source": [
    "## 17.5 Find the majority element \n",
    "\n",
    "You are reading a sequence of strings. You know a priori that more than half the strings are repetitions of a single string (the \"majority element\") but the positions where the majority element occurs are unknown. Write a program that makes a single pass over the sequence and identifies the majority element. For example, if the input is <b,a,c,a,a,b,a,a,c,a>, then a is the majority element. "
   ]
  },
  {
   "cell_type": "code",
   "execution_count": 53,
   "metadata": {},
   "outputs": [],
   "source": [
    "def majority_search(stream) -> str:\n",
    "    candidate_count = 0\n",
    "    for it in stream:\n",
    "        if candidate_count == 0:\n",
    "            candidate, candidate_count = it, candidate_count + 1\n",
    "        elif candidate == it:\n",
    "            candidate_count += 1\n",
    "        else:\n",
    "            candidate_count -= 1\n",
    "    return candidate"
   ]
  },
  {
   "cell_type": "code",
   "execution_count": 58,
   "metadata": {},
   "outputs": [],
   "source": [
    "stream = ['a','b','c','c','d','a','a','c','c','d','a','a','d','c','c','a']"
   ]
  },
  {
   "cell_type": "code",
   "execution_count": 59,
   "metadata": {},
   "outputs": [
    {
     "data": {
      "text/plain": [
       "'c'"
      ]
     },
     "execution_count": 59,
     "metadata": {},
     "output_type": "execute_result"
    }
   ],
   "source": [
    "majority_search(stream)"
   ]
  },
  {
   "cell_type": "markdown",
   "metadata": {},
   "source": [
    "Since we spend O(1) time per entry, the time complexity is O(n). The additional space complexity is O(1). "
   ]
  },
  {
   "cell_type": "markdown",
   "metadata": {},
   "source": [
    "## 17.6 The gasup problem\n",
    "\n",
    "Given an instance of the gasup problem, how would you efficiently compute an ample city? You can assume that there exists an ample city. The input is given in the form of two arrays --one for the amount of gas at each city, the other for the distance to the next city.\n",
    "\n",
    "**Hint:** Think about starting with more than enough gas to complete the circuit without gassing up. Track the amount of gas as you perform the circuit, gassing up at each city. \n",
    "\n",
    "**Sol:** Consider a city where the amount of gas in the tank is minimum when we enter that city. Observe that it does not depend where we begin from--because graphs are the same up to translation and shifting, a city that is minimum for one graph will be a minimum city for all graphs. Let z be a city where the amount of gas in the tank before we refuel at the city is minimum. Now we pick z as the starting point, with the gas present at z. Since we never have less gas than we started with at z, and when we return to z we have 0 gas (since it's given that the total amount of gas is just enough to complete the traversal) it means we can complete the journey without running out of gas. Note that the reasoning given above assumes that there always exists an ample city. \n",
    "\n",
    "The computation to determine z can be easily performed with a single pass over all the cities simulating the changes to amount of gas as we advance. "
   ]
  },
  {
   "cell_type": "code",
   "execution_count": 63,
   "metadata": {},
   "outputs": [],
   "source": [
    "MPG = 20\n",
    "\n",
    "# gallons[i] is the amount of gas in city i, and distance[i] is the distance city i to the next city\n",
    "def find_ample_city(gallons: list, distances: list) -> int:\n",
    "    remaining_gallons = 0\n",
    "    CityAndRemainingGas = collections.namedtuple('CityAndRemainingGas',\n",
    "                                                ('city', 'remaining_gallons'))\n",
    "    city_remaining_gallons_pair = CityAndRemainingGas(0, 0)\n",
    "    num_cities = len(gallons)\n",
    "    for i in range(1, num_cities):\n",
    "        remaining_gallons = gallons[i-1] - distances[i-1]//MPG\n",
    "        if remaining_gallons < city_remaining_gallons_pair.remaining_gallons:\n",
    "            city_remaining_gallons_pair = CityAndRemainingGas(\n",
    "                i, remaining_gallons)\n",
    "    return city_remaining_gallons_pair.remaining_gallons"
   ]
  },
  {
   "cell_type": "code",
   "execution_count": 64,
   "metadata": {},
   "outputs": [],
   "source": [
    "gallons = [50,20,5,30,25,10,10]\n",
    "distances = [900,600,200,400,600,200,100]"
   ]
  },
  {
   "cell_type": "code",
   "execution_count": 65,
   "metadata": {},
   "outputs": [
    {
     "data": {
      "text/plain": [
       "-10"
      ]
     },
     "execution_count": 65,
     "metadata": {},
     "output_type": "execute_result"
    }
   ],
   "source": [
    "find_ample_city(gallons, distances)"
   ]
  },
  {
   "cell_type": "code",
   "execution_count": 67,
   "metadata": {},
   "outputs": [],
   "source": [
    "remaining_gallons = []\n",
    "for i in range(1,len(gallons)):\n",
    "    remaining_gallons.append(gallons[i-1] - distances[i-1]//MPG)\n",
    "    "
   ]
  },
  {
   "cell_type": "code",
   "execution_count": 68,
   "metadata": {},
   "outputs": [
    {
     "data": {
      "text/plain": [
       "[5, -10, -5, 10, -5, 0]"
      ]
     },
     "execution_count": 68,
     "metadata": {},
     "output_type": "execute_result"
    }
   ],
   "source": [
    "remaining_gallons"
   ]
  },
  {
   "cell_type": "markdown",
   "metadata": {},
   "source": [
    "The time complexity is O(n), and the space complexity is O(1). "
   ]
  },
  {
   "cell_type": "markdown",
   "metadata": {},
   "source": [
    "## 17.7 Compute the maximum water trapped by a pair of vertical lines \n",
    "\n",
    "An array of integers naturally defines a set of lines parallel to the Y-axis, starting from x = 0 as illustrated in Figure 14.7(a) on the next page. The goal of this problem is to find the paair of lines that together with the X-axis \"trap\" the most water.\n",
    "\n",
    "Write a program which takes as input an integer array and returns the pair of entries that trap the maximum amount of water. \n",
    "\n",
    "**Hint:** Start with 0 and n-1 and work your way in. "
   ]
  },
  {
   "cell_type": "code",
   "execution_count": 82,
   "metadata": {},
   "outputs": [],
   "source": [
    "def get_max_trapped_water(heights: list) -> int:\n",
    "    i, j, max_water = 0, len(heights)-1, 0\n",
    "    while i<j:\n",
    "        if heights[i] < heights[j]:\n",
    "            max_water = max(max_water, heights[i]*(j-i))\n",
    "            i += 1\n",
    "        else:\n",
    "            max_water = max(max_water, heights[j]*(j-i))\n",
    "            j -= 1\n",
    "    return max_water"
   ]
  },
  {
   "cell_type": "code",
   "execution_count": 83,
   "metadata": {},
   "outputs": [
    {
     "data": {
      "text/plain": [
       "48"
      ]
     },
     "execution_count": 83,
     "metadata": {},
     "output_type": "execute_result"
    }
   ],
   "source": [
    "heights = [1,2,1,3,4,4,5,6,2,1,3,1,3,2,1,2,4,1]\n",
    "get_max_trapped_water(heights)"
   ]
  },
  {
   "cell_type": "markdown",
   "metadata": {},
   "source": [
    "We iteratively eliminate one line at a time, and we spend O(1) time per iteration, so the time complexity is O(n). "
   ]
  },
  {
   "cell_type": "markdown",
   "metadata": {},
   "source": [
    "## 17.8 Compute the largest rectangle under the skyline \n",
    "\n",
    "You are given a sequence of adjacent buildings. Each has unit width and an integer height. These bulidings form the skyline of a city. An architect wants to know the area of a largest rectangle contained in this skyline. \n",
    "\n",
    "Let A be an array representing the heights of adjacent buildings of unit width. Design an algorithm to compute the area of the largest rectangle contained in this skyline. "
   ]
  },
  {
   "cell_type": "code",
   "execution_count": 96,
   "metadata": {},
   "outputs": [],
   "source": [
    "def calculate_largest_rectangle(heights: list) -> int:\n",
    "    pillar_indices = []\n",
    "    max_rectangle_area = 0\n",
    "    # By appending [0] to heights, we can uniformly handle the computation for rectangle area here. \n",
    "    for i, h in enumerate(heights + [0]):\n",
    "        while pillar_indices and heights[pillar_indices[-1]] >= h:\n",
    "            # when encounter a building has a smaller height than previous one, calculate the rectangle\n",
    "            height = heights[pillar_indices.pop()]\n",
    "            print(height)\n",
    "            width = i if not pillar_indices else i - pillar_indices[-1] -1\n",
    "            print(width)\n",
    "            max_rectangle_area = max(max_rectangle_area, height * width)\n",
    "            print(max_rectangle_area)\n",
    "        pillar_indices.append(i)\n",
    "        print(pillar_indices)\n",
    "    return max_rectangle_area"
   ]
  },
  {
   "cell_type": "code",
   "execution_count": 97,
   "metadata": {},
   "outputs": [
    {
     "name": "stdout",
     "output_type": "stream",
     "text": [
      "[0]\n",
      "[0, 1]\n",
      "4\n",
      "1\n",
      "4\n",
      "[0, 2]\n",
      "[0, 2, 3]\n",
      "[0, 2, 3, 4]\n",
      "6\n",
      "1\n",
      "6\n",
      "5\n",
      "2\n",
      "10\n",
      "[0, 2, 5]\n",
      "3\n",
      "3\n",
      "10\n",
      "2\n",
      "5\n",
      "10\n",
      "[0, 6]\n",
      "[0, 6, 7]\n",
      "6\n",
      "1\n",
      "10\n",
      "[0, 6, 8]\n",
      "6\n",
      "2\n",
      "12\n",
      "[0, 6, 9]\n",
      "5\n",
      "3\n",
      "15\n",
      "2\n",
      "9\n",
      "18\n",
      "[0, 10]\n",
      "2\n",
      "10\n",
      "20\n",
      "1\n",
      "11\n",
      "20\n",
      "[11]\n",
      "[11, 12]\n",
      "3\n",
      "1\n",
      "20\n",
      "1\n",
      "13\n",
      "20\n",
      "[13]\n"
     ]
    },
    {
     "data": {
      "text/plain": [
       "20"
      ]
     },
     "execution_count": 97,
     "metadata": {},
     "output_type": "execute_result"
    }
   ],
   "source": [
    "heights = [1,4,2,5,6,3,2,6,6,5,2,1,3]\n",
    "calculate_largest_rectangle(heights)"
   ]
  },
  {
   "cell_type": "markdown",
   "metadata": {},
   "source": [
    "The time complexity is O(n). When advancing through buildings, the time spent for building is proprotional to the number of pushes and pops performed when processing it. Althouhg for some buildings, we may perform multiple pops, in total we perform at most n pushes and at most n pops. This is because in the advancing phase, an entry i is added at most once to the stack and cannot be popped more than once. The time complexity of processing remaining stack elements after the advancing is complete is also O(n) since there are at most n elements in the stack, and the time to process each one is O(1). Thus, the overall time complexity is O(n). The space compelxity is O(n), which is the largest the stack can grow to, e.g., if buldings appear in ascending order. "
   ]
  },
  {
   "cell_type": "code",
   "execution_count": null,
   "metadata": {},
   "outputs": [],
   "source": []
  }
 ],
 "metadata": {
  "kernelspec": {
   "display_name": "Python 3",
   "language": "python",
   "name": "python3"
  },
  "language_info": {
   "codemirror_mode": {
    "name": "ipython",
    "version": 3
   },
   "file_extension": ".py",
   "mimetype": "text/x-python",
   "name": "python",
   "nbconvert_exporter": "python",
   "pygments_lexer": "ipython3",
   "version": "3.6.8"
  }
 },
 "nbformat": 4,
 "nbformat_minor": 2
}
