{
 "cells": [
  {
   "cell_type": "markdown",
   "metadata": {},
   "source": [
    "## Binary Search\n",
    "\n",
    "Given an arbitrary collection of n keys, the only way to determine if a search key is present is by examing each element. This has O(n) time complexity. Fundamentally, binary search is a natural elimination-based strategy for searching a sorted array. The idea is to eliminate half the keys from consideration by keeping the keys in sorted order. If the search key is not equal to the middle element of the array, one of the two sets of keys to the left and to the right of the middle element can be eliminated from further consideration. \n",
    "\n",
    "The time complexity of binary search is O(log n) where n is the lenght of array. "
   ]
  },
  {
   "cell_type": "code",
   "execution_count": 1,
   "metadata": {},
   "outputs": [],
   "source": [
    "def bsearch(t:int, A: list) -> int:\n",
    "    L, U = 0, len(A)-1\n",
    "    while L<=U:\n",
    "        M = (L + U)//2\n",
    "        if A[M] < t: \n",
    "            L = M+1\n",
    "        elif A[M] == t:\n",
    "            return M\n",
    "        else:\n",
    "            U = M - 1\n",
    "    return -1 "
   ]
  },
  {
   "cell_type": "code",
   "execution_count": 2,
   "metadata": {},
   "outputs": [],
   "source": [
    "A = [1,4,7,9,10,45,237,678,1090]\n",
    "t = 45"
   ]
  },
  {
   "cell_type": "code",
   "execution_count": 3,
   "metadata": {},
   "outputs": [
    {
     "data": {
      "text/plain": [
       "5"
      ]
     },
     "execution_count": 3,
     "metadata": {},
     "output_type": "execute_result"
    }
   ],
   "source": [
    "bsearch(t,A)"
   ]
  },
  {
   "cell_type": "code",
   "execution_count": 4,
   "metadata": {},
   "outputs": [
    {
     "data": {
      "text/plain": [
       "0"
      ]
     },
     "execution_count": 4,
     "metadata": {},
     "output_type": "execute_result"
    }
   ],
   "source": [
    "t = 1\n",
    "bsearch(t,A)"
   ]
  },
  {
   "cell_type": "code",
   "execution_count": 5,
   "metadata": {},
   "outputs": [
    {
     "data": {
      "text/plain": [
       "8"
      ]
     },
     "execution_count": 5,
     "metadata": {},
     "output_type": "execute_result"
    }
   ],
   "source": [
    "t = 1090\n",
    "bsearch(t,A)"
   ]
  },
  {
   "cell_type": "code",
   "execution_count": 6,
   "metadata": {},
   "outputs": [
    {
     "data": {
      "text/plain": [
       "-1"
      ]
     },
     "execution_count": 6,
     "metadata": {},
     "output_type": "execute_result"
    }
   ],
   "source": [
    "t = 1091\n",
    "bsearch(t,A)"
   ]
  },
  {
   "cell_type": "code",
   "execution_count": 7,
   "metadata": {},
   "outputs": [
    {
     "data": {
      "text/plain": [
       "-1"
      ]
     },
     "execution_count": 7,
     "metadata": {},
     "output_type": "execute_result"
    }
   ],
   "source": [
    "t = 1089\n",
    "bsearch(t,A)"
   ]
  },
  {
   "cell_type": "markdown",
   "metadata": {},
   "source": [
    "The error is in the assignment M = (L +U)/2 in Line4, which can potentially lead to overflow. This overflow can be avoided by using M = L + (U - L)/2. "
   ]
  },
  {
   "cell_type": "markdown",
   "metadata": {},
   "source": [
    "## 11.1 Search a Sorted Array for First Occurrence of k\n",
    "\n",
    "Binary search commonly asks for the index of any element of a sorted array that is equal to a specified element. The following problem has a slight twist on this. \n",
    "\n",
    "Write a method that takes a sorted array and a key and returns the index of the first occurrence of that key in the array. Return -1 if the key does not appear in the array. "
   ]
  },
  {
   "cell_type": "code",
   "execution_count": 30,
   "metadata": {},
   "outputs": [],
   "source": [
    "def search_first_of_k(A: list, k : int) -> int:\n",
    "    left, right, result = 0, len(A)-1, -1\n",
    "    # A[left:right+1] is the candidate set\n",
    "    while left <= right:\n",
    "        mid = left + (right - left)//2\n",
    "        if A[mid] > k:\n",
    "            right = mid - 1\n",
    "        elif A[mid] < k:\n",
    "            left = mid + 1\n",
    "        elif A[mid] == k:\n",
    "            while mid >= 0:\n",
    "                if A[mid] !=k:\n",
    "                    return (mid+1)\n",
    "                else:\n",
    "                    mid -= 1\n",
    "    return -1 \n",
    "                    "
   ]
  },
  {
   "cell_type": "code",
   "execution_count": 31,
   "metadata": {},
   "outputs": [],
   "source": [
    "A = [-14, -10, 2, 108, 108, 243, 285, 285, 285, 285, 401]"
   ]
  },
  {
   "cell_type": "code",
   "execution_count": 32,
   "metadata": {},
   "outputs": [
    {
     "data": {
      "text/plain": [
       "3"
      ]
     },
     "execution_count": 32,
     "metadata": {},
     "output_type": "execute_result"
    }
   ],
   "source": [
    "search_first_of_k(A, 108)"
   ]
  },
  {
   "cell_type": "code",
   "execution_count": 33,
   "metadata": {},
   "outputs": [
    {
     "data": {
      "text/plain": [
       "6"
      ]
     },
     "execution_count": 33,
     "metadata": {},
     "output_type": "execute_result"
    }
   ],
   "source": [
    "search_first_of_k(A, 285)"
   ]
  },
  {
   "cell_type": "markdown",
   "metadata": {},
   "source": [
    "Naive approach is to use binary search to find the index of any element equal to the key, k. (If k is not present, we simply return -1). After finding such an element, we traverse backwards from it to find the first occurrence of the element. The binary search takes time O(log n), where n is the number tof entries in the array. Traversing backwards takes O(n) time in the worst-case-- consider the case where entries are equal to k. "
   ]
  },
  {
   "cell_type": "markdown",
   "metadata": {},
   "source": [
    "The fundamental idea of binary search is to maintain a set of candidate solutions. For the current problem, if we see the element at index i equals k, although we do not know whether i is the first element equal to k, we do know that no subsequent elements can be the first one. Therefore, we remove all elements with index i+1 or more from the candidates. "
   ]
  },
  {
   "cell_type": "code",
   "execution_count": 34,
   "metadata": {},
   "outputs": [],
   "source": [
    "def search_first_of_k(A: list, k: int) -> int:\n",
    "    left, right, result = 0, len(A) -1, -1\n",
    "    # A[left:right +1] is the candidate set. \n",
    "    while left<= right:\n",
    "        mid = (left+right) // 2\n",
    "        if A[mid] > k:\n",
    "            right = mid -1\n",
    "        elif A[mid] == k:\n",
    "            result = mid\n",
    "            right = mid -1 # Nothing to the right of mid can be solutions\n",
    "        else: #A[mid] < k.\n",
    "            left = mid + 1\n",
    "    return result "
   ]
  },
  {
   "cell_type": "code",
   "execution_count": 35,
   "metadata": {},
   "outputs": [
    {
     "data": {
      "text/plain": [
       "3"
      ]
     },
     "execution_count": 35,
     "metadata": {},
     "output_type": "execute_result"
    }
   ],
   "source": [
    "search_first_of_k(A, 108)"
   ]
  },
  {
   "cell_type": "code",
   "execution_count": 36,
   "metadata": {},
   "outputs": [
    {
     "data": {
      "text/plain": [
       "6"
      ]
     },
     "execution_count": 36,
     "metadata": {},
     "output_type": "execute_result"
    }
   ],
   "source": [
    "search_first_of_k(A, 285)"
   ]
  },
  {
   "cell_type": "markdown",
   "metadata": {},
   "source": [
    "The complexity bound is still O(log n)-- this is because each iteration reduces the size of the candidate set by half. "
   ]
  },
  {
   "cell_type": "markdown",
   "metadata": {},
   "source": [
    "## 11.2 Search a Sorted Array for Entry Equal to its Index \n",
    "\n",
    "Design an efficient algorithm that takes a sorted array of distinct integers, and returns an index i such that element at index i euqlas i. For example, when the input is <-2,0,2,3,6,7,9> your algorithm should return 2 or 3."
   ]
  },
  {
   "cell_type": "code",
   "execution_count": 39,
   "metadata": {},
   "outputs": [],
   "source": [
    "B = [i for i in range(5)]"
   ]
  },
  {
   "cell_type": "code",
   "execution_count": 40,
   "metadata": {},
   "outputs": [
    {
     "name": "stdout",
     "output_type": "stream",
     "text": [
      "[0, 1, 2, 3, 4]\n"
     ]
    }
   ],
   "source": [
    "print(B)"
   ]
  },
  {
   "cell_type": "code",
   "execution_count": 43,
   "metadata": {},
   "outputs": [],
   "source": [
    "def search_entry_equal_to_its_index(A : list) -> int:\n",
    "    left, right = 0, len(A) -1\n",
    "    result = []\n",
    "    A =[A[i] - i for i in range(len(A))]\n",
    "    while left <= right:\n",
    "        M = left + (right - left)//2\n",
    "        if A[M] < 0:\n",
    "            left = M +1 \n",
    "        elif A[M] > 0:\n",
    "            U = M-1\n",
    "        elif A[M] == 0:\n",
    "            result.append(M)\n",
    "            right = M -1\n",
    "    return result "
   ]
  },
  {
   "cell_type": "code",
   "execution_count": 44,
   "metadata": {},
   "outputs": [
    {
     "data": {
      "text/plain": [
       "[3, 2]"
      ]
     },
     "execution_count": 44,
     "metadata": {},
     "output_type": "execute_result"
    }
   ],
   "source": [
    "A = [-2,0,2,3,6,7,9]\n",
    "search_entry_equal_to_its_index(A)"
   ]
  },
  {
   "cell_type": "markdown",
   "metadata": {},
   "source": [
    "The time complexity is the same as that for binary search, i.e., O(log n), where n is the length of A. "
   ]
  },
  {
   "cell_type": "markdown",
   "metadata": {},
   "source": [
    "## 11.3 Search a Cyclically Sorted Array\n",
    "\n",
    "An array is said to be cyclically sorted if it is possible to cyclically shift its entries so that it becomes sorted. For example, the array <378,478,550,631,103,203,220,234,279,368> is cyclically sorted-- a cyclic left shift by 4 leads to a sorted array. \n",
    "\n",
    "Design an O(log n) algorithm for finding the position of the smallest element in a cyclically sorted array. Assume all elements are distinct. "
   ]
  },
  {
   "cell_type": "code",
   "execution_count": 45,
   "metadata": {},
   "outputs": [],
   "source": [
    "def search_smallest_cyclically(A : list) -> int:\n",
    "    left, right = 0, len(A) - 1\n",
    "    while left < right:\n",
    "        mid = (left + right)//2\n",
    "        if A[mid] > A[right]:\n",
    "            left = mid+1\n",
    "        else: # A[mid] > A[right].\n",
    "            #Minimum cannot be in A[mid+1: right +1] so it must be in A[left: mid+1]\n",
    "            right = mid\n",
    "    # Loop ends when left == right\n",
    "    return left \n",
    "            "
   ]
  },
  {
   "cell_type": "code",
   "execution_count": 46,
   "metadata": {},
   "outputs": [
    {
     "data": {
      "text/plain": [
       "4"
      ]
     },
     "execution_count": 46,
     "metadata": {},
     "output_type": "execute_result"
    }
   ],
   "source": [
    "A = [378, 478, 550, 631, 103, 203, 220, 234, 279, 368]\n",
    "search_smallest_cyclically(A)"
   ]
  },
  {
   "cell_type": "markdown",
   "metadata": {},
   "source": [
    "The time complexity is O(log n) which is the same as that of binary search. \n",
    "\n",
    "Note that this problem cannot, in general, be solved in less than linear time when elements may be repeated. For example, if A consists of n -1 1s and a single 0, that 0 cannot be detected in the worst-case without inspecting every element. "
   ]
  },
  {
   "cell_type": "markdown",
   "metadata": {},
   "source": [
    "## 11.4 Compute the Integer Square Root\n",
    "\n",
    "Write a program which takes a nonnegative integer and returns the largest integer whose square is less than or equal to the given integer. For example, if the input is 16, return 4; if the input is 300, return 17 since 17^2 = 289 < 300 and 18^2 = 324 > 300. "
   ]
  },
  {
   "cell_type": "code",
   "execution_count": 48,
   "metadata": {},
   "outputs": [],
   "source": [
    "def square_root(k : int) -> int:\n",
    "    left, right = 0, k\n",
    "    # Candidate inverval [left, right] where everything before left has square \n",
    "    # <= k, everything after right has square >k. \n",
    "    while left <= right:\n",
    "        mid = (left + right)//2\n",
    "        mid_squared = mid*mid\n",
    "        if mid_squared <= k:\n",
    "            left = mid + 1\n",
    "        else:\n",
    "            right = mid - 1\n",
    "    return (left-1)"
   ]
  },
  {
   "cell_type": "code",
   "execution_count": 49,
   "metadata": {},
   "outputs": [
    {
     "data": {
      "text/plain": [
       "4"
      ]
     },
     "execution_count": 49,
     "metadata": {},
     "output_type": "execute_result"
    }
   ],
   "source": [
    "square_root(17)"
   ]
  },
  {
   "cell_type": "code",
   "execution_count": 50,
   "metadata": {},
   "outputs": [
    {
     "data": {
      "text/plain": [
       "16"
      ]
     },
     "execution_count": 50,
     "metadata": {},
     "output_type": "execute_result"
    }
   ],
   "source": [
    "square_root(256)"
   ]
  },
  {
   "cell_type": "code",
   "execution_count": 52,
   "metadata": {},
   "outputs": [
    {
     "data": {
      "text/plain": [
       "17"
      ]
     },
     "execution_count": 52,
     "metadata": {},
     "output_type": "execute_result"
    }
   ],
   "source": [
    "square_root(318)"
   ]
  },
  {
   "cell_type": "markdown",
   "metadata": {},
   "source": [
    "The time complexity is O(log k), which is that of binary search over the interval [0,k]. "
   ]
  },
  {
   "cell_type": "markdown",
   "metadata": {},
   "source": [
    "## 11.5 Compute the Real Square Root \n",
    "\n",
    "Square root computations can be implemented using sophisticated numerical techniques involving iterative methods and logarithms. However, if you were asked to implement a square root function, you would not be expected to know these techniques. \n",
    "\n",
    "Implement a function which takes as input a floating point value and returns its squares root.\n",
    "\n",
    "If a numer is too big to be the square root of x, then any number bigger than that number can be eliminated. Similarly, if a number is too small to be the sqaure root of x, then any number smaller than that number can be eliminated. \n",
    "\n",
    "Trivial choices for the initial lower bound and upper bound are 0 and the largest floating point number that is representable. The problem with this is that it does not play well with finite precision arithmetic--the first midpoint itself will overflow on squaring.\n",
    "\n",
    "If x >= 1.0, the lower and upper bound can be tightened to 1.0 to x. Else if x < 1.0, the lower and upper bound can be tightened to x to 1.0. "
   ]
  },
  {
   "cell_type": "code",
   "execution_count": 1,
   "metadata": {},
   "outputs": [],
   "source": [
    "import math "
   ]
  },
  {
   "cell_type": "code",
   "execution_count": 2,
   "metadata": {},
   "outputs": [],
   "source": [
    "def square_root(x : float) -> float:\n",
    "    # Decides the search range according to x's value relative to 1.0\n",
    "    left, right = (1.0, x) if x >= 1.0 else (x, 1.0)\n",
    "    \n",
    "    # Keep searching as long as left != right \n",
    "    while not math.isclose(left, right):\n",
    "        mid = 0.5* (left + right)\n",
    "        mid_squared = mid* mid\n",
    "        if mid_squared > x:\n",
    "            right = mid\n",
    "        else:\n",
    "            left = mid\n",
    "    return left "
   ]
  },
  {
   "cell_type": "code",
   "execution_count": 3,
   "metadata": {},
   "outputs": [
    {
     "data": {
      "text/plain": [
       "13.711309197591618"
      ]
     },
     "execution_count": 3,
     "metadata": {},
     "output_type": "execute_result"
    }
   ],
   "source": [
    "square_root(188)"
   ]
  },
  {
   "cell_type": "markdown",
   "metadata": {},
   "source": [
    "The time complexity is O(log x/s), where s is the tolerance. "
   ]
  },
  {
   "cell_type": "markdown",
   "metadata": {},
   "source": [
    "## Generalized search\n",
    "\n",
    "## 11.6 Search in a 2D Sorted Array\n",
    "\n",
    "Call a 2D array sorte if its rows and its columns are nondecreasing. Design an algorithm that takes a 2D sorted array and a number and checks whether that number appears in the array. \n",
    "\n",
    "\n",
    "**Sol:** A naive solution is we can perform binary search on each row independently, which has a time complexity O(m log n), where m is the number of rows and n is the number of columns. \n",
    "\n",
    "Consider the extremal cases-- compare with A[0][n-1]. \n",
    "* If x = A[0][n-1], return True;\n",
    "* If x < A[0][n-1], in which case x is less than all elements in Column n-1, move to A[1][n-1];\n",
    "* If x > A[0][n-1], in which case x is greater than all elements in Row 0, move to A[0][n-2]. "
   ]
  },
  {
   "cell_type": "code",
   "execution_count": 13,
   "metadata": {},
   "outputs": [],
   "source": [
    "def matrix_search(A: list, x: int) -> bool:\n",
    "    row, col = 0, len(A[0])-1 # Start from the top-right corner.\n",
    "    # Keeps search while there are unclassified rows and columns \n",
    "    while row < len(A) and col >= 0:\n",
    "        print(A[row][col])\n",
    "        if A[row][col] == x:\n",
    "            return True\n",
    "        elif A[row][col] > x:\n",
    "            col -= 1\n",
    "        else:\n",
    "            row += 1 \n",
    "    return False "
   ]
  },
  {
   "cell_type": "code",
   "execution_count": 14,
   "metadata": {},
   "outputs": [
    {
     "name": "stdout",
     "output_type": "stream",
     "text": [
      "6\n",
      "21\n",
      "9\n",
      "5\n",
      "6\n",
      "8\n",
      "6\n",
      "8\n",
      "6\n",
      "8\n"
     ]
    },
    {
     "data": {
      "text/plain": [
       "False"
      ]
     },
     "execution_count": 14,
     "metadata": {},
     "output_type": "execute_result"
    }
   ],
   "source": [
    "A = [[-1, 2, 4, 4, 6], \n",
    "    [1, 5, 5, 9, 21],\n",
    "    [3, 6, 6, 9, 22],\n",
    "    [3, 6, 8, 10, 24],\n",
    "    [6, 8, 9, 12, 25],\n",
    "    [8, 10, 12, 13, 40]]\n",
    "x = 7\n",
    "matrix_search(A,x)"
   ]
  },
  {
   "cell_type": "code",
   "execution_count": 15,
   "metadata": {},
   "outputs": [
    {
     "name": "stdout",
     "output_type": "stream",
     "text": [
      "6\n",
      "21\n",
      "9\n",
      "5\n",
      "6\n",
      "8\n"
     ]
    },
    {
     "data": {
      "text/plain": [
       "True"
      ]
     },
     "execution_count": 15,
     "metadata": {},
     "output_type": "execute_result"
    }
   ],
   "source": [
    "matrix_search(A,8)"
   ]
  },
  {
   "cell_type": "markdown",
   "metadata": {},
   "source": [
    "In each iteration, we remove a row or a column, which means we inspect at most m+n-1 elements, yielding an O(m+n) time complexity. "
   ]
  },
  {
   "cell_type": "markdown",
   "metadata": {},
   "source": [
    "## 11.7 Find the Min and Max Simutaneously \n",
    "\n",
    "Given an array of comparable objects, you can find either the min or the max of the elements in the array with n-1 comparisons, where n is the lenght of the array. \n",
    "\n",
    "Comparing elements may be expensive, e.g., a comprison may involve a number of nested calls or the elements being compred may be long strings. Therefore, it is natural to ask if both the min and the max can be computed with less than 2(n-1) comparisons required to compute the min and the max independently. \n",
    "\n",
    "Design an algoritm to find the min and max elements in an array. For example, if A = <3,2,5,1,2,4>, you should return 1 for min and 5 for max. \n",
    "\n",
    "**Hint:** Use the fact that a<b and b<c implies a<c to reduce the number of comparisons used by the brute-force approach. "
   ]
  }
 ],
 "metadata": {
  "kernelspec": {
   "display_name": "Python 3",
   "language": "python",
   "name": "python3"
  },
  "language_info": {
   "codemirror_mode": {
    "name": "ipython",
    "version": 3
   },
   "file_extension": ".py",
   "mimetype": "text/x-python",
   "name": "python",
   "nbconvert_exporter": "python",
   "pygments_lexer": "ipython3",
   "version": "3.6.5"
  }
 },
 "nbformat": 4,
 "nbformat_minor": 2
}
