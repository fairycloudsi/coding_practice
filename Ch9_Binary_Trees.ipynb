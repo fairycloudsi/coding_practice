{
 "cells": [
  {
   "cell_type": "markdown",
   "metadata": {},
   "source": [
    "# Chapter 9 Binary Trees"
   ]
  },
  {
   "cell_type": "code",
   "execution_count": 87,
   "metadata": {},
   "outputs": [],
   "source": [
    "class BinaryTreeNode:\n",
    "    def __init__(self, data=None, left=None, right= None, parent = None, nexxt = None):\n",
    "        self.data = data\n",
    "        self.left = left\n",
    "        self.right = right\n",
    "        self.parent = parent\n",
    "        self.next = nexxt "
   ]
  },
  {
   "cell_type": "code",
   "execution_count": 2,
   "metadata": {},
   "outputs": [],
   "source": [
    "def tree_traversal(root: BinaryTreeNode) -> None:\n",
    "    if root:\n",
    "        # Preorder: Processes the root before the traversals of left and right children\n",
    "        print('Preorder: %d' %root.data)\n",
    "        tree_traversal(root.left)\n",
    "        # Inorder: Processes the root after the traversal of left child and before the traversal of right child.\n",
    "        print('Inorder: %d' % root.data)\n",
    "        tree_traversal(root.right)\n",
    "        # Postorder: Processes the root after the traversals of left and right children\n",
    "        print('Postorder: %d' % root.data)"
   ]
  },
  {
   "cell_type": "code",
   "execution_count": 93,
   "metadata": {},
   "outputs": [],
   "source": [
    "del node1"
   ]
  },
  {
   "cell_type": "code",
   "execution_count": 94,
   "metadata": {},
   "outputs": [],
   "source": [
    "node1 = BinaryTreeNode(314)\n",
    "node2 = BinaryTreeNode(6)\n",
    "node3 = BinaryTreeNode(6)\n",
    "node4 = BinaryTreeNode(271)\n",
    "node5 = BinaryTreeNode(561)\n",
    "node6 = BinaryTreeNode(2)\n",
    "node7 = BinaryTreeNode(271)\n",
    "node8 = BinaryTreeNode(28)\n",
    "node9 = BinaryTreeNode(0)\n",
    "node10 = BinaryTreeNode(3)\n",
    "node11 = BinaryTreeNode(1)\n",
    "node12 = BinaryTreeNode(28)\n",
    "node13 = BinaryTreeNode(17)\n",
    "node14 = BinaryTreeNode(401)\n",
    "node15 = BinaryTreeNode(257)\n",
    "node16 = BinaryTreeNode(641)"
   ]
  },
  {
   "cell_type": "code",
   "execution_count": 95,
   "metadata": {},
   "outputs": [],
   "source": [
    "node1.left = node2\n",
    "node1.right = node3\n",
    "node2.left = node4\n",
    "node2.right = node5\n",
    "node3.left = node6\n",
    "node3.right = node7\n",
    "node4.left = node8\n",
    "node4.right = node9\n",
    "node5.right = node10\n",
    "node5.left = node13\n",
    "node6.left = node14\n",
    "node6.right = node11\n",
    "node7.left = node16\n",
    "node7.right = node12"
   ]
  },
  {
   "cell_type": "code",
   "execution_count": 62,
   "metadata": {},
   "outputs": [],
   "source": [
    "node1.left = node2\n",
    "node1.right = node3\n",
    "node2.left = node4\n",
    "node2.right = node5\n",
    "node3.left = node6\n",
    "node3.right = node7\n",
    "node4.left = node8\n",
    "node4.right = node9\n",
    "node5.right = node10\n",
    "node10.left = node13\n",
    "node6.right = node11\n",
    "node11.left = node14\n",
    "node11.right = node15\n",
    "node14.right = node16\n",
    "node7.right = node12"
   ]
  },
  {
   "cell_type": "code",
   "execution_count": 131,
   "metadata": {},
   "outputs": [],
   "source": [
    "node2.parent = node1\n",
    "node3.parent = node1\n",
    "node4.parent = node2\n",
    "node5.parent = node2\n",
    "node6.parent = node3\n",
    "node7.parent = node3\n",
    "node8.parent = node4\n",
    "node9.parent = node4\n",
    "node10.parent = node5\n",
    "node13.parent = node10\n",
    "node11.parent = node6\n",
    "node14.parent = node11\n",
    "node15.parent = node11\n",
    "node16.parent = node14\n",
    "node12.parent = node7"
   ]
  },
  {
   "cell_type": "code",
   "execution_count": 5,
   "metadata": {},
   "outputs": [
    {
     "name": "stdout",
     "output_type": "stream",
     "text": [
      "Preorder: 314\n",
      "Preorder: 6\n",
      "Preorder: 271\n",
      "Preorder: 28\n",
      "Inorder: 28\n",
      "Postorder: 28\n",
      "Inorder: 271\n",
      "Preorder: 0\n",
      "Inorder: 0\n",
      "Postorder: 0\n",
      "Postorder: 271\n",
      "Inorder: 6\n",
      "Preorder: 561\n",
      "Inorder: 561\n",
      "Preorder: 3\n",
      "Preorder: 17\n",
      "Inorder: 17\n",
      "Postorder: 17\n",
      "Inorder: 3\n",
      "Postorder: 3\n",
      "Postorder: 561\n",
      "Postorder: 6\n",
      "Inorder: 314\n",
      "Preorder: 6\n",
      "Preorder: 2\n",
      "Inorder: 2\n",
      "Preorder: 1\n",
      "Preorder: 401\n",
      "Inorder: 401\n",
      "Preorder: 641\n",
      "Inorder: 641\n",
      "Postorder: 641\n",
      "Postorder: 401\n",
      "Inorder: 1\n",
      "Preorder: 257\n",
      "Inorder: 257\n",
      "Postorder: 257\n",
      "Postorder: 1\n",
      "Postorder: 2\n",
      "Inorder: 6\n",
      "Preorder: 271\n",
      "Inorder: 271\n",
      "Preorder: 28\n",
      "Inorder: 28\n",
      "Postorder: 28\n",
      "Postorder: 271\n",
      "Postorder: 6\n",
      "Postorder: 314\n"
     ]
    }
   ],
   "source": [
    "tree_traversal(node1)"
   ]
  },
  {
   "cell_type": "code",
   "execution_count": 96,
   "metadata": {},
   "outputs": [],
   "source": [
    "def tree_traversal_inorder(root: BinaryTreeNode) -> None:\n",
    "    if root:\n",
    "        tree_traversal_inorder(root.left) \n",
    "        print('Inorder: %d' % root.data)\n",
    "        tree_traversal_inorder(root.right)"
   ]
  },
  {
   "cell_type": "code",
   "execution_count": 7,
   "metadata": {},
   "outputs": [
    {
     "name": "stdout",
     "output_type": "stream",
     "text": [
      "Inorder: 28\n",
      "Inorder: 271\n",
      "Inorder: 0\n",
      "Inorder: 6\n",
      "Inorder: 561\n",
      "Inorder: 17\n",
      "Inorder: 3\n",
      "Inorder: 314\n",
      "Inorder: 2\n",
      "Inorder: 401\n",
      "Inorder: 641\n",
      "Inorder: 1\n",
      "Inorder: 257\n",
      "Inorder: 6\n",
      "Inorder: 271\n",
      "Inorder: 28\n"
     ]
    }
   ],
   "source": [
    "tree_traversal_inorder(node1)"
   ]
  },
  {
   "cell_type": "code",
   "execution_count": 97,
   "metadata": {},
   "outputs": [],
   "source": [
    "def tree_traversal_preorder(root: BinaryTreeNode) -> None:\n",
    "    if root:\n",
    "        print('Preorder: %d' % root.data)\n",
    "        tree_traversal_preorder(root.left)\n",
    "        tree_traversal_preorder(root.right)"
   ]
  },
  {
   "cell_type": "code",
   "execution_count": 9,
   "metadata": {},
   "outputs": [
    {
     "name": "stdout",
     "output_type": "stream",
     "text": [
      "Preorder: 314\n",
      "Preorder: 6\n",
      "Preorder: 271\n",
      "Preorder: 28\n",
      "Preorder: 0\n",
      "Preorder: 561\n",
      "Preorder: 3\n",
      "Preorder: 17\n",
      "Preorder: 6\n",
      "Preorder: 2\n",
      "Preorder: 1\n",
      "Preorder: 401\n",
      "Preorder: 641\n",
      "Preorder: 257\n",
      "Preorder: 271\n",
      "Preorder: 28\n"
     ]
    }
   ],
   "source": [
    "tree_traversal_preorder(node1)"
   ]
  },
  {
   "cell_type": "code",
   "execution_count": 98,
   "metadata": {},
   "outputs": [],
   "source": [
    "def tree_traversal_postorder(root: BinaryTreeNode) -> None:\n",
    "    if root:\n",
    "        tree_traversal_postorder(root.left)\n",
    "        tree_traversal_postorder(root.right)\n",
    "        print('Postorder: %d' % root.data) "
   ]
  },
  {
   "cell_type": "code",
   "execution_count": 11,
   "metadata": {},
   "outputs": [
    {
     "name": "stdout",
     "output_type": "stream",
     "text": [
      "Postorder: 28\n",
      "Postorder: 0\n",
      "Postorder: 271\n",
      "Postorder: 17\n",
      "Postorder: 3\n",
      "Postorder: 561\n",
      "Postorder: 6\n",
      "Postorder: 641\n",
      "Postorder: 401\n",
      "Postorder: 257\n",
      "Postorder: 1\n",
      "Postorder: 2\n",
      "Postorder: 28\n",
      "Postorder: 271\n",
      "Postorder: 6\n",
      "Postorder: 314\n"
     ]
    }
   ],
   "source": [
    "tree_traversal_postorder(node1)"
   ]
  },
  {
   "cell_type": "markdown",
   "metadata": {},
   "source": [
    "The time complexity of each approach is O(n), where n is the number of nodes in the tree. Although "
   ]
  },
  {
   "cell_type": "markdown",
   "metadata": {},
   "source": [
    "## 9.1 Test If a Binary Tree is Height-balanced \n",
    "\n",
    "A binary tree is said to be height-balanced if for each node in the tree, the difference in the height of its left and right subtrees is at most one. A perfect binary tree is height-balanced, as is a complete binary tree. A height-balanced tree does not have to be perfect or complete. \n",
    "\n",
    "Write  a program that takes as input the root of a binary tree and checks whether the tree is height-balanced. "
   ]
  },
  {
   "cell_type": "markdown",
   "metadata": {},
   "source": [
    "Here is a brute-force algorithm. Compute the height for the tree rooted at each node x recursively. The basic computation is to compute the height for each node starting from the leaves and proceeding upwards. For each node, we check if the difference in heights of the left and right children is greater than one. We can store the heights in a hash table, or in a new field in the nodes. This entails O(n) storage and O(n) time, where n is the number of nodes of the tree. \n",
    "\n",
    "We can solve this problem using less storage by observing that we do not need to store the heights of all nodes at the same time. Once we are done with a subtree, all we need to know is whether it is height-balanced, and if so, what its height is--we do not need any information about descendants of the subtree's root. "
   ]
  },
  {
   "cell_type": "code",
   "execution_count": 13,
   "metadata": {},
   "outputs": [],
   "source": [
    "import collections"
   ]
  },
  {
   "cell_type": "code",
   "execution_count": 31,
   "metadata": {},
   "outputs": [],
   "source": [
    "def is_balanced_binary_tree(tree: BinaryTreeNode) -> bool:\n",
    "    BalancedStatusWithHeight = collections.namedtuple(\n",
    "        'BalancedStatusWithHeight',('balanced','height'))\n",
    "    \n",
    "    # First vaue of the return value indicates if tree is balanced, and if balanced\n",
    "    # the second value of the return value is the height of tree. \n",
    "    \n",
    "    def check_balanced(tree):\n",
    "        if not tree:\n",
    "            return BalancedStatusWithHeight(True, -1) # Base case\n",
    "        \n",
    "        left_result = check_balanced(tree.left)\n",
    "        if not left_result.balanced:\n",
    "            # left subtree is not balanced.\n",
    "            return BalancedStatusWithHeight(False, 0)\n",
    "        \n",
    "        right_result = check_balanced(tree.right)\n",
    "        if not right_result.balanced:\n",
    "            # right subtree is not balanced.\n",
    "            return BalancedStatusWithHeight(False,0)\n",
    "        \n",
    "        is_balanced = abs(left_result.height - right_result.height) <= 1\n",
    "        height = max(left_result.height, right_result.height) + 1\n",
    "        return BalancedStatusWithHeight(is_balanced, height)\n",
    "    \n",
    "    \n",
    "    return check_balanced(tree).balanced"
   ]
  },
  {
   "cell_type": "code",
   "execution_count": 55,
   "metadata": {},
   "outputs": [
    {
     "data": {
      "text/plain": [
       "False"
      ]
     },
     "execution_count": 55,
     "metadata": {},
     "output_type": "execute_result"
    }
   ],
   "source": [
    "is_balanced_binary_tree(node1)"
   ]
  },
  {
   "cell_type": "code",
   "execution_count": 33,
   "metadata": {},
   "outputs": [],
   "source": [
    "del node12"
   ]
  },
  {
   "cell_type": "code",
   "execution_count": 42,
   "metadata": {},
   "outputs": [],
   "source": [
    "node17 = BinaryTreeNode(17)\n",
    "node18 = BinaryTreeNode(18)\n",
    "node19 = BinaryTreeNode(19)\n",
    "node20 = BinaryTreeNode(20)\n",
    "node21 = BinaryTreeNode(21)\n"
   ]
  },
  {
   "cell_type": "code",
   "execution_count": 35,
   "metadata": {},
   "outputs": [
    {
     "data": {
      "text/plain": [
       "False"
      ]
     },
     "execution_count": 35,
     "metadata": {},
     "output_type": "execute_result"
    }
   ],
   "source": [
    "is_balanced_binary_tree(node7)"
   ]
  },
  {
   "cell_type": "code",
   "execution_count": 56,
   "metadata": {},
   "outputs": [
    {
     "name": "stdout",
     "output_type": "stream",
     "text": [
      "Preorder: 314\n",
      "Preorder: 6\n",
      "Preorder: 271\n",
      "Preorder: 28\n",
      "Preorder: 0\n",
      "Preorder: 561\n",
      "Preorder: 3\n",
      "Preorder: 17\n",
      "Preorder: 6\n",
      "Preorder: 2\n",
      "Preorder: 1\n",
      "Preorder: 401\n",
      "Preorder: 641\n",
      "Preorder: 257\n",
      "Preorder: 271\n",
      "Preorder: 28\n"
     ]
    }
   ],
   "source": [
    "tree_traversal_preorder(node1)"
   ]
  },
  {
   "cell_type": "code",
   "execution_count": 57,
   "metadata": {},
   "outputs": [],
   "source": [
    "node12.left = node17"
   ]
  },
  {
   "cell_type": "code",
   "execution_count": 58,
   "metadata": {},
   "outputs": [
    {
     "name": "stdout",
     "output_type": "stream",
     "text": [
      "Preorder: 314\n",
      "Preorder: 6\n",
      "Preorder: 271\n",
      "Preorder: 28\n",
      "Preorder: 0\n",
      "Preorder: 561\n",
      "Preorder: 3\n",
      "Preorder: 17\n",
      "Preorder: 6\n",
      "Preorder: 2\n",
      "Preorder: 1\n",
      "Preorder: 401\n",
      "Preorder: 641\n",
      "Preorder: 257\n",
      "Preorder: 271\n",
      "Preorder: 28\n",
      "Preorder: 17\n"
     ]
    }
   ],
   "source": [
    "tree_traversal_preorder(node1)"
   ]
  },
  {
   "cell_type": "code",
   "execution_count": 59,
   "metadata": {},
   "outputs": [
    {
     "data": {
      "text/plain": [
       "False"
      ]
     },
     "execution_count": 59,
     "metadata": {},
     "output_type": "execute_result"
    }
   ],
   "source": [
    "is_balanced_binary_tree(node1)"
   ]
  },
  {
   "cell_type": "code",
   "execution_count": 60,
   "metadata": {},
   "outputs": [],
   "source": [
    "node6.left = node18\n",
    "node18.left = node19\n",
    "node18.right = node20"
   ]
  },
  {
   "cell_type": "code",
   "execution_count": 61,
   "metadata": {},
   "outputs": [
    {
     "name": "stdout",
     "output_type": "stream",
     "text": [
      "Preorder: 314\n",
      "Preorder: 6\n",
      "Preorder: 271\n",
      "Preorder: 28\n",
      "Preorder: 0\n",
      "Preorder: 561\n",
      "Preorder: 3\n",
      "Preorder: 17\n",
      "Preorder: 6\n",
      "Preorder: 2\n",
      "Preorder: 18\n",
      "Preorder: 19\n",
      "Preorder: 20\n",
      "Preorder: 1\n",
      "Preorder: 401\n",
      "Preorder: 641\n",
      "Preorder: 257\n",
      "Preorder: 271\n",
      "Preorder: 28\n",
      "Preorder: 17\n"
     ]
    }
   ],
   "source": [
    "tree_traversal_preorder(node1)"
   ]
  },
  {
   "cell_type": "code",
   "execution_count": 62,
   "metadata": {},
   "outputs": [
    {
     "data": {
      "text/plain": [
       "False"
      ]
     },
     "execution_count": 62,
     "metadata": {},
     "output_type": "execute_result"
    }
   ],
   "source": [
    "is_balanced_binary_tree(node1)"
   ]
  },
  {
   "cell_type": "code",
   "execution_count": 63,
   "metadata": {},
   "outputs": [
    {
     "data": {
      "text/plain": [
       "True"
      ]
     },
     "execution_count": 63,
     "metadata": {},
     "output_type": "execute_result"
    }
   ],
   "source": [
    "is_balanced_binary_tree(node6)"
   ]
  },
  {
   "cell_type": "code",
   "execution_count": 64,
   "metadata": {},
   "outputs": [
    {
     "data": {
      "text/plain": [
       "False"
      ]
     },
     "execution_count": 64,
     "metadata": {},
     "output_type": "execute_result"
    }
   ],
   "source": [
    "is_balanced_binary_tree(node7)"
   ]
  },
  {
   "cell_type": "code",
   "execution_count": 65,
   "metadata": {},
   "outputs": [
    {
     "data": {
      "text/plain": [
       "False"
      ]
     },
     "execution_count": 65,
     "metadata": {},
     "output_type": "execute_result"
    }
   ],
   "source": [
    "is_balanced_binary_tree(node2)"
   ]
  },
  {
   "cell_type": "markdown",
   "metadata": {},
   "source": [
    "The program implements a postorder traversal with some calls possibly being eliminated because of early termination. Specifically, if any left subtree is not height-balanced we do not need to visit the corresponding right subtree. The functio ncall stack corresponds to a sequence of calls from the root through the unique path to the current node, and the stack height is therefore bounded by the height of the tree, leading to an O(h) space bound. The time complexity is the same as that for postorder traversal, namely O(n). "
   ]
  },
  {
   "cell_type": "markdown",
   "metadata": {},
   "source": [
    "## 9.2 Test if a Binary Tree is Symmetric \n",
    "\n",
    "A binary tree is symmetric if you can draw a vertical line through the root and then the left subtree is the mirror image of the right subtree.\n",
    "\n",
    "Write a program that checks whether a binary tree is symmetric. \n",
    "\n",
    "**Sol:** We can test if a tree is symmetric by computing its mirror image and seeing if the mirror image is equal to the original tree. Computing the mirror image of a tree is as simple as swapping the left and right subtrees, and recursively continuing. The time and space complexity are both O(n), where n is the number of nodes in the tree. \n",
    "\n",
    "The insight to a better algorithm is that we do not need to construct the mirrored subtrees. All that is important is whether a pair fo subtrees are mirror images. As soon as a pair fails the test, we can short curcuit the check of false. "
   ]
  },
  {
   "cell_type": "code",
   "execution_count": 74,
   "metadata": {},
   "outputs": [],
   "source": [
    "def is_symmetric(tree: BinaryTreeNode) -> bool:\n",
    "    def check_symmetric(subtree_0, subtree_1):\n",
    "        if not subtree_0 and not subtree_1:\n",
    "            return True\n",
    "        elif subtree_0 and subtree_1:\n",
    "            return ((subtree_0.data == subtree_1.data) and\n",
    "                    (check_symmetric(subtree_0.left, subtree_0.right)) and \n",
    "                    (check_symmetric(subtree_1.left, subtree_1.right)))\n",
    "        return False \n",
    "    return not tree or check_symmetric(tree.left,tree.right)"
   ]
  },
  {
   "cell_type": "code",
   "execution_count": 75,
   "metadata": {},
   "outputs": [
    {
     "data": {
      "text/plain": [
       "False"
      ]
     },
     "execution_count": 75,
     "metadata": {},
     "output_type": "execute_result"
    }
   ],
   "source": [
    "is_symmetric(node12)"
   ]
  },
  {
   "cell_type": "code",
   "execution_count": 76,
   "metadata": {},
   "outputs": [
    {
     "data": {
      "text/plain": [
       "True"
      ]
     },
     "execution_count": 76,
     "metadata": {},
     "output_type": "execute_result"
    }
   ],
   "source": [
    "nodeA = BinaryTreeNode(314)\n",
    "nodeB = BinaryTreeNode(6)\n",
    "nodeC = BinaryTreeNode(6)\n",
    "nodeA.right = nodeC\n",
    "nodeA.left = nodeB\n",
    "is_symmetric(nodeA)"
   ]
  },
  {
   "cell_type": "code",
   "execution_count": 77,
   "metadata": {},
   "outputs": [
    {
     "data": {
      "text/plain": [
       "True"
      ]
     },
     "execution_count": 77,
     "metadata": {},
     "output_type": "execute_result"
    }
   ],
   "source": [
    "node0 = BinaryTreeNode()\n",
    "is_symmetric(node0)"
   ]
  },
  {
   "cell_type": "markdown",
   "metadata": {},
   "source": [
    "The time complexity and psace complexity are O(n) and O(h), respectively, where n is the number of nodes in the tree and h is the height of the tree. "
   ]
  },
  {
   "cell_type": "markdown",
   "metadata": {},
   "source": [
    "## 9.3 Compute the Lowest Common Ancestor in a Binary Tree\n",
    "\n",
    "Any two nodes in a binary tree have a common ancestor, namely the root. The lowest common ancestor (LCA) of any two nodes in a binary tree is the node furthest from the root that is an ancestor of both nodes. \n",
    "\n",
    "Design an algorithm for computing the LCA of two nodes in a binray tree in which nodes do not have a parent field. "
   ]
  },
  {
   "cell_type": "markdown",
   "metadata": {},
   "source": [
    "**Sol:** A brute-force solution is to see if the nodes are in different immediate subtrees of the root, or if one of the nodes is the root. In this case, the root must be LCA. If both nodes are in the left subtree of the root, or the right subtree of the root, we recurse on that subtree. The time complexity is O(n^2) where n is the number of nodes. The worst-case is a skewed tree with the two nodes at the bottom of the tree. \n",
    "\n",
    "The insight to a better time complexity is that we do not need to perform multiple passes. If the two nodes are in a subtree, we can compute the LCA directly, instead of simply returning a Boolean indicating that both nodes are in that subtree. The program below returns an object with two fields-- the first is an integer indicating how many of the two nodes were present in that subtree, and the second is their LCA, if both nodes were present. "
   ]
  },
  {
   "cell_type": "code",
   "execution_count": 123,
   "metadata": {},
   "outputs": [],
   "source": [
    "def lca(tree: BinaryTreeNode, node1: BinaryTreeNode, node2: BinaryTreeNode) -> BinaryTreeNode:\n",
    "    Status = collections.namedtuple('Status', ('num_target_nodes', 'ancestor'))\n",
    "    \n",
    "    # Returns an object consisting of an int and a node. \n",
    "    # The int field is 0, 1, or 2 depending on how many of {node0, node1} are present in tree.\n",
    "    # If both are present in a tree, when ancestor is assigned to a nonnull value. \n",
    "    # It is LCA. \n",
    "    \n",
    "    def lca_helper(tree, node0, node1):\n",
    "        if tree is None:\n",
    "            tree_traversal_preorder(tree)\n",
    "            print('the tree is empty')\n",
    "            return Status(0, None)\n",
    "        \n",
    "        left_result = lca_helper(tree.left, node0, node1)\n",
    "        if left_result.num_target_nodes == 2:\n",
    "            # Found both nodes in the left subtree\n",
    "            print('both nodes are in the left subtree: %d' % tree.left.data)\n",
    "            return left_result\n",
    "        right_result = lca_helper(tree.right, node0, node1)\n",
    "        if right_result.num_target_nodes == 2:\n",
    "            # Found both nodes in the right subtree\n",
    "            print('both nodes are in the right subtree: %d' %right.left.data)\n",
    "            return right_result \n",
    "        num_target_nodes = (\n",
    "            left_result.num_target_nodes + right_result.num_target_nodes + \n",
    "            (node0, node1).count(tree))\n",
    "        return Status(num_target_nodes, tree\n",
    "                     if num_target_nodes == 2 else None)\n",
    "    \n",
    "    return lca_helper(tree, node0, node1).ancestor"
   ]
  },
  {
   "cell_type": "code",
   "execution_count": 124,
   "metadata": {},
   "outputs": [
    {
     "data": {
      "text/plain": [
       "False"
      ]
     },
     "execution_count": 124,
     "metadata": {},
     "output_type": "execute_result"
    }
   ],
   "source": [
    "not node1.left"
   ]
  },
  {
   "cell_type": "code",
   "execution_count": 125,
   "metadata": {},
   "outputs": [
    {
     "name": "stdout",
     "output_type": "stream",
     "text": [
      "the tree is empty\n",
      "the tree is empty\n",
      "the tree is empty\n",
      "the tree is empty\n",
      "the tree is empty\n",
      "the tree is empty\n",
      "the tree is empty\n",
      "the tree is empty\n"
     ]
    }
   ],
   "source": [
    "lca(node2, node8, node9)"
   ]
  },
  {
   "cell_type": "code",
   "execution_count": 86,
   "metadata": {},
   "outputs": [
    {
     "name": "stdout",
     "output_type": "stream",
     "text": [
      "Preorder: 314\n",
      "Preorder: 6\n",
      "Preorder: 271\n",
      "Preorder: 28\n",
      "Preorder: 0\n",
      "Preorder: 561\n",
      "Preorder: 3\n",
      "Preorder: 17\n",
      "Preorder: 6\n",
      "Preorder: 2\n",
      "Preorder: 18\n",
      "Preorder: 19\n",
      "Preorder: 20\n",
      "Preorder: 1\n",
      "Preorder: 401\n",
      "Preorder: 641\n",
      "Preorder: 257\n",
      "Preorder: 271\n",
      "Preorder: 28\n",
      "Preorder: 17\n"
     ]
    }
   ],
   "source": [
    "tree_traversal_preorder(node1)"
   ]
  },
  {
   "cell_type": "code",
   "execution_count": 89,
   "metadata": {},
   "outputs": [
    {
     "name": "stdout",
     "output_type": "stream",
     "text": [
      "Preorder: 641\n"
     ]
    }
   ],
   "source": [
    "tree_traversal_preorder(node16)"
   ]
  },
  {
   "cell_type": "code",
   "execution_count": 88,
   "metadata": {},
   "outputs": [
    {
     "name": "stdout",
     "output_type": "stream",
     "text": [
      "Preorder: 28\n",
      "Preorder: 17\n"
     ]
    }
   ],
   "source": [
    "tree_traversal_preorder(node12)"
   ]
  },
  {
   "cell_type": "code",
   "execution_count": 122,
   "metadata": {},
   "outputs": [
    {
     "data": {
      "text/plain": [
       "1"
      ]
     },
     "execution_count": 122,
     "metadata": {},
     "output_type": "execute_result"
    }
   ],
   "source": [
    "(node1, node12).count(node1)"
   ]
  },
  {
   "cell_type": "code",
   "execution_count": 92,
   "metadata": {},
   "outputs": [
    {
     "data": {
      "text/plain": [
       "1"
      ]
     },
     "execution_count": 92,
     "metadata": {},
     "output_type": "execute_result"
    }
   ],
   "source": [
    "(5,6).count(6)"
   ]
  },
  {
   "cell_type": "code",
   "execution_count": 93,
   "metadata": {},
   "outputs": [
    {
     "data": {
      "text/plain": [
       "3"
      ]
     },
     "execution_count": 93,
     "metadata": {},
     "output_type": "execute_result"
    }
   ],
   "source": [
    "(6,6,6).count(6)"
   ]
  },
  {
   "cell_type": "markdown",
   "metadata": {},
   "source": [
    "## 9.4 Compute the LCA When Nodes Have Parent Pointers\n",
    "\n",
    "Given two nodes in a binary tree, design an algorithm that computes their LCA. Assume that each node has a parent pointer. \n",
    "\n",
    "**Hint:** The problem is easy if both nodes are the same distance from the root. \n",
    "\n",
    "**Sol:** A brute-force approach is to store the nodes on the search oath from the root to one of the nodes in a hash table. This is easily done since we can use the parent field. Then we go up from the second node, stopping as soon as we hit a node in the hash table. The time and space complexity are both O(h), where h is the height of the tree. \n",
    "\n",
    "We know the two nodes have a common ancestor, namely the root. If the nodes are at the same depth, we can move up the tree in tandem from both nodes, stopping at the first common node, which is the LCA. However, if they are not the same depth, we need to keep the set of traversed nodes to know when we find the first common node. We can circumvent having to store these nodes by asceding from the deeper node to get the same depth as the shallower node, and then performing the tandem upward movement. \n",
    "\n",
    "Computing the depth is straightforward since we have the parent field--the time complexity is O(h) and the space complexity is O(1). Once we have the depths we can perform the tandem move to get the LCA. "
   ]
  },
  {
   "cell_type": "code",
   "execution_count": 133,
   "metadata": {},
   "outputs": [],
   "source": [
    "def lca_2(node0: BinaryTreeNode, node1: BinaryTreeNode) -> BinaryTreeNode:\n",
    "    def get_depth(node: BinaryTreeNode) -> int:\n",
    "        depth = 0\n",
    "        while node:\n",
    "            depth += 1\n",
    "            node = node.parent \n",
    "        return depth \n",
    "    \n",
    "    depth0, depth1 = map(get_depth, (node0, node1))\n",
    "    \n",
    "    # Make node0 as the deeper node in order to simplify the code. \n",
    "    if depth1 > depth0:\n",
    "        node0, node1 = node1, node0\n",
    "    \n",
    "    # Ascend from the deeper node\n",
    "    depth_diff = abs(depth0 -depth1)\n",
    "    while depth_diff:\n",
    "        node0 = node0.parent\n",
    "        depth_diff -= 1\n",
    "    \n",
    "    # Now ascends both nodes until we reach the LCA\n",
    "    while node0 is not node1:\n",
    "        node0, node1 = node0.parent, node1.parent\n",
    "    return node0"
   ]
  },
  {
   "cell_type": "code",
   "execution_count": 136,
   "metadata": {},
   "outputs": [
    {
     "name": "stdout",
     "output_type": "stream",
     "text": [
      "Preorder: 6\n",
      "Preorder: 2\n",
      "Preorder: 1\n",
      "Preorder: 401\n",
      "Preorder: 641\n",
      "Preorder: 257\n",
      "Preorder: 271\n",
      "Preorder: 28\n"
     ]
    }
   ],
   "source": [
    "tree_traversal_preorder(lca_2(node12, node16))"
   ]
  },
  {
   "cell_type": "code",
   "execution_count": 137,
   "metadata": {},
   "outputs": [
    {
     "name": "stdout",
     "output_type": "stream",
     "text": [
      "Preorder: 271\n",
      "Preorder: 28\n",
      "Preorder: 0\n"
     ]
    }
   ],
   "source": [
    "tree_traversal_preorder(lca_2(node8, node9))"
   ]
  },
  {
   "cell_type": "code",
   "execution_count": 138,
   "metadata": {},
   "outputs": [
    {
     "name": "stdout",
     "output_type": "stream",
     "text": [
      "Preorder: 6\n",
      "Preorder: 271\n",
      "Preorder: 28\n",
      "Preorder: 0\n",
      "Preorder: 561\n",
      "Preorder: 3\n",
      "Preorder: 17\n"
     ]
    }
   ],
   "source": [
    "tree_traversal_preorder(lca_2(node8, node13))"
   ]
  },
  {
   "cell_type": "markdown",
   "metadata": {},
   "source": [
    "The time and space complexity are that of computing the depth, namely O(h) and O(1), respectively. "
   ]
  },
  {
   "cell_type": "markdown",
   "metadata": {},
   "source": [
    "## 9.5 Sum the Root-to-Leaf Paths in a Binary Tree\n",
    "\n",
    "Consider a binary tree in which each node contains a binary digit. A root-to-leaf path can be associated with a binary number -the MSB is at the root. \n",
    "\n",
    "Design an algorithm to compute the sum of the binary numbers represented by the root-to-leaf paths. "
   ]
  },
  {
   "cell_type": "markdown",
   "metadata": {},
   "source": [
    "**Sol:** The brute-force solution has O(Lh) time complexity where h is the height of binary tree and L is the total number of leaves in the binary tree. The space complexity is dominated by the hash table, namely O(n), where n is the number of nodes. \n",
    "\n",
    "The insight to improving complexity is to recognize that paths share nodes and that it is not necessary to repeat computations across the shared nodes. To compute the integer for the path from the root to any node, we take the integer for the node's parent, double it, and add the bit at that node. \n",
    "\n",
    "Therefore, we can compute the sum of all root to leaf node as follows. Each time we visit a node, we compute the integer it encodes using the number for its parent. If the node is a leaf we return its integer. If it is not a leaf, we return the sum of the results from its left and right children. "
   ]
  },
  {
   "cell_type": "code",
   "execution_count": 162,
   "metadata": {},
   "outputs": [],
   "source": [
    "def sum_root_to_leaf(tree: BinaryTreeNode) -> None:\n",
    "    def sum_root_to_leaf_helper(tree, partial_path_sum =0 ):\n",
    "        if not tree:\n",
    "            print('is not a tree')\n",
    "            tree_traversal_preorder(tree)\n",
    "            return 0\n",
    "        partial_path_sum = partial_path_sum*2 + tree.data\n",
    "        \n",
    "        if not tree.left and not tree.right: # leaf\n",
    "            print('the leaf node is')\n",
    "            tree_traversal_preorder(tree)\n",
    "            return partial_path_sum\n",
    "        # Non-leaf\n",
    "        return (sum_root_to_leaf_helper(tree.left, partial_path_sum) + \n",
    "                sum_root_to_leaf_helper(tree.right, partial_path_sum))\n",
    "    \n",
    "    \n",
    "    return sum_root_to_leaf_helper(tree)\n",
    "    "
   ]
  },
  {
   "cell_type": "code",
   "execution_count": 141,
   "metadata": {},
   "outputs": [],
   "source": [
    "del nodeA"
   ]
  },
  {
   "cell_type": "code",
   "execution_count": 142,
   "metadata": {},
   "outputs": [],
   "source": [
    "nodeA = BinaryTreeNode(1)\n",
    "nodeB = BinaryTreeNode(0)\n",
    "nodeC = BinaryTreeNode(0)\n",
    "nodeD = BinaryTreeNode(0)\n",
    "nodeE = BinaryTreeNode(1)\n",
    "nodeF = BinaryTreeNode(1)\n",
    "nodeG = BinaryTreeNode(1)\n",
    "nodeH = BinaryTreeNode(0)\n",
    "nodeI = BinaryTreeNode(1)\n",
    "nodeJ = BinaryTreeNode(0)\n",
    "nodeK = BinaryTreeNode(0)\n",
    "nodeL = BinaryTreeNode(1)\n",
    "nodeN = BinaryTreeNode(0)\n",
    "nodeM = BinaryTreeNode(1)\n",
    "nodeO = BinaryTreeNode(0)\n",
    "nodeP = BinaryTreeNode(0)"
   ]
  },
  {
   "cell_type": "code",
   "execution_count": 143,
   "metadata": {},
   "outputs": [],
   "source": [
    "nodeA.left = nodeB\n",
    "nodeA.right = nodeI\n",
    "nodeB.left = nodeC\n",
    "nodeB.right = nodeF\n",
    "nodeC.left = nodeD\n",
    "nodeC.right = nodeE\n",
    "nodeF.right = nodeG\n",
    "nodeG.left = nodeH\n",
    "nodeI.left = nodeJ\n",
    "nodeI.right = nodeO\n",
    "nodeJ.right = nodeK\n",
    "nodeK.left = nodeL\n",
    "nodeL.right = nodeM\n",
    "nodeK.right = nodeN\n",
    "nodeO.right = nodeP"
   ]
  },
  {
   "cell_type": "code",
   "execution_count": 172,
   "metadata": {},
   "outputs": [
    {
     "name": "stdout",
     "output_type": "stream",
     "text": [
      "the leaf node is\n",
      "Preorder: 0\n",
      "the leaf node is\n",
      "Preorder: 1\n",
      "is not a tree\n",
      "the leaf node is\n",
      "Preorder: 0\n",
      "is not a tree\n",
      "is not a tree\n",
      "is not a tree\n",
      "the leaf node is\n",
      "Preorder: 1\n",
      "the leaf node is\n",
      "Preorder: 0\n",
      "is not a tree\n",
      "the leaf node is\n",
      "Preorder: 0\n"
     ]
    },
    {
     "data": {
      "text/plain": [
       "126"
      ]
     },
     "execution_count": 172,
     "metadata": {},
     "output_type": "execute_result"
    }
   ],
   "source": [
    "sum_root_to_leaf(nodeA)"
   ]
  },
  {
   "cell_type": "code",
   "execution_count": 170,
   "metadata": {},
   "outputs": [
    {
     "name": "stdout",
     "output_type": "stream",
     "text": [
      "Preorder: 1\n",
      "Preorder: 0\n",
      "Preorder: 0\n",
      "Preorder: 1\n",
      "Preorder: 1\n",
      "Preorder: 0\n",
      "Preorder: 0\n",
      "Preorder: 0\n"
     ]
    }
   ],
   "source": [
    "tree_traversal_preorder(nodeI)"
   ]
  },
  {
   "cell_type": "markdown",
   "metadata": {},
   "source": [
    "The time complexity and space complexity are O(n) and O(h), respectively. "
   ]
  },
  {
   "cell_type": "markdown",
   "metadata": {},
   "source": [
    "## 9.6 Find a Root to Leaf Path with Specified Sum \n",
    "\n",
    "You are given a binary tree where each node is labeled with an integer. The path weight of a node in such a tree is the sum of the integers on the unique path from the path to that node. \n",
    "\n",
    "Write a program which takes as input an integer and a binary tree with integer node weights, and checks if there exists a leaf whose path weight equals the given integer. \n",
    "\n",
    "\n",
    "**Sol:** The brute-force algorithm has complexity O(Lh), where L is the number of root-to-leaf paths(which equals the number of leaves), and h is the tree height. The space complexity is dominated by the hash table, namely O(n), where n is the number of nodes. \n",
    "\n",
    "The inefficiency in the brute-force algorithm stems from the fact that we have overlapping paths, and we do not share the summation computation across those overlaps. \n",
    "\n",
    "A better approach is to traverse the tree, keeping track of difference of the root-to-node path sum and the target value--call this the remaining weight. As soon as we encounter a leaf and the remaining weight is equal to the leaf's weight, we return true. Short circuit evaluation of the check ensures that we do not process addidional leaves. "
   ]
  },
  {
   "cell_type": "code",
   "execution_count": 175,
   "metadata": {},
   "outputs": [],
   "source": [
    "def has_path_sum(tree: BinaryTreeNode, remaining_weight: int) -> bool:\n",
    "    if remaining_weight < 0: # remaining weight become negative \n",
    "        return False\n",
    "    if not tree:\n",
    "        return False\n",
    "    if not tree.left and not tree.right: # leaf\n",
    "        if remaining_weight == tree.data:\n",
    "            tree_traversal_preorder(tree)\n",
    "            return True\n",
    "    # Non-leaf \n",
    "    return (has_path_sum(tree.left, remaining_weight - tree.data)\n",
    "           or has_path_sum(tree.right, remaining_weight - tree.data))"
   ]
  },
  {
   "cell_type": "code",
   "execution_count": 179,
   "metadata": {},
   "outputs": [
    {
     "data": {
      "text/plain": [
       "False"
      ]
     },
     "execution_count": 179,
     "metadata": {},
     "output_type": "execute_result"
    }
   ],
   "source": [
    "has_path_sum(node1, 314)"
   ]
  },
  {
   "cell_type": "markdown",
   "metadata": {},
   "source": [
    "The time complexity and space complexity are O(n) and O(h), respectively. "
   ]
  },
  {
   "cell_type": "markdown",
   "metadata": {},
   "source": [
    "**Variant:** Write a program which takes the same inputs as in Problem 9.6 and returns all the paths to leaves whose weight equals s."
   ]
  },
  {
   "cell_type": "markdown",
   "metadata": {},
   "source": [
    "## 9.7 Implement an Inorder Traversal without Recursion \n",
    "\n",
    "This problem is concerned with traversing nodes in a binary tree in an inorder fashioon. \n",
    "\n",
    "Write a nonrecursive function which takes as input a binary tree and performs an inorder traversal of the tree. Each node contains a value. The result should be returned as an array of node values, ordered according to the inorder traversal order. \n",
    "\n",
    "**Sol:** The key to deriving a nonrecursive algorithm is to follow the definition. Specifically, the traversal keeps discovering nodes. When a node is first discovered, we say it is process. Afer its left subtree is traversed, we can add the node to the result--now we have finished processing it. Since we process every node's entire subtree before we can add it to the result, i.e., in last-in first-out order. Therefore, it is natural to use a stack to store nodes being processed. It is convenient to store a boolean value for each node that indicates whether we have begun processing its children. "
   ]
  },
  {
   "cell_type": "code",
   "execution_count": 180,
   "metadata": {},
   "outputs": [],
   "source": [
    "def inorder_traversal(tree: BinaryTreeNode) -> list:\n",
    "    result = []\n",
    "    \n",
    "    in_process = [(tree, False)]\n",
    "    while in_process:\n",
    "        node, left_subtree_traversed = in_process.pop()\n",
    "        if node:\n",
    "            if left_subtree_traversed:\n",
    "                result.append(node.data)\n",
    "            else:\n",
    "                in_process.append((node.right, False))\n",
    "                in_process.append((node, True))\n",
    "                in_process.append((node.left, False))\n",
    "    return result "
   ]
  },
  {
   "cell_type": "code",
   "execution_count": 181,
   "metadata": {},
   "outputs": [
    {
     "data": {
      "text/plain": [
       "[28, 271, 0, 6, 561, 17, 3, 314, 2, 401, 641, 1, 257, 6, 271, 28]"
      ]
     },
     "execution_count": 181,
     "metadata": {},
     "output_type": "execute_result"
    }
   ],
   "source": [
    "inorder_traversal(node1)"
   ]
  },
  {
   "cell_type": "markdown",
   "metadata": {},
   "source": [
    "The time complexity is O(n), since the total time spent on each node is O(1). The space complexity is determined by the maximum number of elements in the stack, which is proprotional to the height of h of the tree, i.e. O(h). "
   ]
  },
  {
   "cell_type": "markdown",
   "metadata": {},
   "source": [
    "**Variant:** Write a nonrecursive function which takes as input a binary tree and performs a preorder traversal of the tree. "
   ]
  },
  {
   "cell_type": "code",
   "execution_count": 182,
   "metadata": {},
   "outputs": [],
   "source": [
    "def preorder_traversal(tree: BinaryTreeNode) -> list:\n",
    "    result = []\n",
    "    \n",
    "    in_process = [(tree, False)]\n",
    "    while in_process:\n",
    "        node, subtree_traversed = in_process.pop()\n",
    "        if node:\n",
    "            if subtree_traversed:\n",
    "                result.append(node.data)\n",
    "            else:\n",
    "                in_process.append((node.right, False))\n",
    "                in_process.append((node.left, False))\n",
    "                in_process.append((node, True))\n",
    "    return result "
   ]
  },
  {
   "cell_type": "code",
   "execution_count": 183,
   "metadata": {},
   "outputs": [
    {
     "data": {
      "text/plain": [
       "[314, 6, 271, 28, 0, 561, 3, 17, 6, 2, 1, 401, 641, 257, 271, 28]"
      ]
     },
     "execution_count": 183,
     "metadata": {},
     "output_type": "execute_result"
    }
   ],
   "source": [
    "preorder_traversal(node1)"
   ]
  },
  {
   "cell_type": "code",
   "execution_count": 16,
   "metadata": {},
   "outputs": [],
   "source": [
    "def postorder_traversal(tree: BinaryTreeNode) -> list:\n",
    "    result = []\n",
    "    \n",
    "    in_process = [(tree, False)]\n",
    "    while in_process:\n",
    "        node, subtree_traversed = in_process.pop()\n",
    "        if node:\n",
    "            if subtree_traversed:\n",
    "                result.append(node.data)\n",
    "            else:\n",
    "                in_process.append((node, True))\n",
    "                in_process.append((node.right, False))\n",
    "                in_process.append((node.left, False))\n",
    "    return result "
   ]
  },
  {
   "cell_type": "code",
   "execution_count": 185,
   "metadata": {},
   "outputs": [
    {
     "data": {
      "text/plain": [
       "[28, 0, 271, 17, 3, 561, 6, 641, 401, 257, 1, 2, 28, 271, 6, 314]"
      ]
     },
     "execution_count": 185,
     "metadata": {},
     "output_type": "execute_result"
    }
   ],
   "source": [
    "postorder_traversal(node1)"
   ]
  },
  {
   "cell_type": "markdown",
   "metadata": {},
   "source": [
    "## 9.8 Compute the kth Node in an Inorder Traversal\n",
    "\n",
    "It is trivial to find the kth node that appears in an inorder traversal with O(n) time complexity, where n is the number of nodes. However, with additional informationon each node, you can do better. \n",
    "\n",
    "Write a program that efficiently computes the k-th node appearing in an inorder traversal. Assume that each node sotres the number of nodes in the subtree rooted at that node. \n",
    "\n",
    "**Sol:** The brute-force approach is to perform an inorder walk, keeping track of the number of visited nodes, stopping when the node being visited is the kth node. The time complexity is O(n). (Consider for example, a left-skewed tree--to get the first node (k=1) we have to pass through all the nodes.)\n",
    "\n",
    "Looking carefully at the brute-force algorithm, observe that it does not take advantage of the information present in the node. For example, if k is greater than the number of nodes in the left subtree, the kth node cannot lie in the left subtree. More precisely, if the left subtree has L nodes, then the kth node in the original tree is (k-L)th node when we skip the left subtree. Conversely, if k <= L, the desired node lies inthe left subtree. "
   ]
  },
  {
   "cell_type": "code",
   "execution_count": 186,
   "metadata": {},
   "outputs": [],
   "source": [
    "def find_kth_node_binary_tree(tree: BinaryTreeNode, k: int) -> BinaryTreeNode:\n",
    "    while tree:\n",
    "        left_size = tree.left.size if tree.left else 0\n",
    "        if left_size + 1 < k: # k-th node must be in right subtree of tree.\n",
    "            k -= left_size + 1\n",
    "            tree = tree.right \n",
    "        elif left_size == k-1: # k-th is iter itself.\n",
    "            return tree \n",
    "        else: #k-th node must be in left subtree of iter\n",
    "            tree = tree.left \n",
    "    return None # if k is between 1 and the tree size, this is unreachable. "
   ]
  },
  {
   "cell_type": "markdown",
   "metadata": {},
   "source": [
    "Since we descend the tree in each iteration, the time complexity is O(h), where h is the height of the tree. "
   ]
  },
  {
   "cell_type": "markdown",
   "metadata": {},
   "source": [
    "## 9.9 Compute the Successor \n",
    "\n",
    "The successor of a node in a binary tree is the node that appears immediately after the given node in an inorder traversal. \n",
    "\n",
    "Design an algorithm that computes the successor of a node in a binary tree. Assume that each node stores its parent. "
   ]
  },
  {
   "cell_type": "code",
   "execution_count": 189,
   "metadata": {},
   "outputs": [],
   "source": [
    "def find_successor(tree: BinaryTreeNode, node: BinaryTreeNode) -> BinaryTreeNode:\n",
    "    if node.right:\n",
    "        # Successor is the leftmost element in node's right subtree\n",
    "        node = node.right\n",
    "        while node.left:\n",
    "            node = node.left\n",
    "        return node\n",
    "    \n",
    "    # Find the closest ancestor whose left subtree contains node.\n",
    "    while node.parent and node.parent.right is node:\n",
    "        node = node.parent \n",
    "    # A return value of None measn node does not have successor, i.e., node is \n",
    "    # the rightmost node in the tree\n",
    "    return node.parent "
   ]
  },
  {
   "cell_type": "code",
   "execution_count": 193,
   "metadata": {},
   "outputs": [
    {
     "name": "stdout",
     "output_type": "stream",
     "text": [
      "Preorder: 2\n",
      "Preorder: 1\n",
      "Preorder: 401\n",
      "Preorder: 641\n",
      "Preorder: 257\n"
     ]
    }
   ],
   "source": [
    "tree_traversal_preorder(find_successor(node1, node1))"
   ]
  },
  {
   "cell_type": "markdown",
   "metadata": {},
   "source": [
    "Since the number of edges followed cannot be more than the tree height, the time complexity is O(h), where h is the height of the tree. "
   ]
  },
  {
   "cell_type": "markdown",
   "metadata": {},
   "source": [
    "## 9.10 Implement an Inorder Traversal with Constant Space \n",
    "\n",
    "The direct implementation of an inorder traversal using recursion has O(h) space complexity, where h is the height of the tree. Recursion can be removed with an explicit stack, but the space complexity remains O(h). \n",
    "\n",
    "Write a nonrecursive program for computing the inorder traversal sequence for a binary tree. Assume nodes have parent field. "
   ]
  },
  {
   "cell_type": "code",
   "execution_count": 194,
   "metadata": {},
   "outputs": [],
   "source": [
    "def inorder_traversal(tree: BinaryTreeNode) -> list:\n",
    "    prev, result = None, []\n",
    "    while tree:\n",
    "        if prev is tree.parent:\n",
    "            # We came down to tree from prev\n",
    "            if tree.left: # Keep going left\n",
    "                next = tree.left\n",
    "            else:\n",
    "                result.append(tree.data)\n",
    "                # Done with left, so go right if right is not empty.\n",
    "                # Otherwise, go up.\n",
    "                next = tree.right or tree.parent \n",
    "        elif prev is tree.left:\n",
    "            # we came up to tree form its left child\n",
    "            result.append(tree.data)\n",
    "            # Done with left, so go right if right is not empty. Otherwise go up.\n",
    "            next = tree.right or tree.parent \n",
    "        else: # Done with both sides, go up\n",
    "            next = tree.parent\n",
    "        \n",
    "        prev, tree = tree, next\n",
    "    return result "
   ]
  },
  {
   "cell_type": "code",
   "execution_count": 195,
   "metadata": {},
   "outputs": [
    {
     "data": {
      "text/plain": [
       "[28, 271, 0, 6, 561, 17, 3, 314, 2, 401, 641, 1, 257, 6, 271, 28]"
      ]
     },
     "execution_count": 195,
     "metadata": {},
     "output_type": "execute_result"
    }
   ],
   "source": [
    "inorder_traversal(node1)"
   ]
  },
  {
   "cell_type": "markdown",
   "metadata": {},
   "source": [
    "## 9.11 Reconstruct a Binary Tree from Traversal Data\n",
    "\n",
    "Given an inorder traversal sequence and a preorder traversal sequence of a binary tree. Write a program to reconstruct the tree. Assume each node has a unique key. "
   ]
  },
  {
   "cell_type": "code",
   "execution_count": 34,
   "metadata": {},
   "outputs": [],
   "source": [
    "def binary_tree_from_preorder_inorder(preorder: list, inorder: list) -> BinaryTreeNode:\n",
    "    \n",
    "    node_to_inorder_idx = {data: i for i, data in enumerate(inorder)}\n",
    "    \n",
    "    def binary_tree_from_preorder_inorder_helper(preorder_start, preorder_end,\n",
    "                                                inorder_start, inorder_end):\n",
    "        if preorder_end <= preorder_start or inorder_end <= inorder_start:\n",
    "            return None\n",
    "        \n",
    "        root_inorder_idx = node_to_inorder_idx[preorder[preorder_start]]\n",
    "        left_subtree_size = root_inorder_idx - inorder_start\n",
    "        \n",
    "        return BinaryTreeNode(\n",
    "            preorder[preorder_start].data,\n",
    "            # Recursively builds the left subtree.\n",
    "            binary_tree_from_preorder_inorder_helper(\n",
    "                preorder_start +1, preorder_start +1 + left_subtree_size,\n",
    "                inorder_start, root_inorder_idx),\n",
    "            # Recursively builds the right subtree.\n",
    "            binary_tree_from_preorder_inorder_helper(\n",
    "                preorder_start +1 + left_subtree_size, preorder_end,\n",
    "                root_inorder_idx +1, inorder_end))\n",
    "    \n",
    "    return binary_tree_from_preorder_inorder_helper(0, len(preorder), 0, len(inorder))"
   ]
  },
  {
   "cell_type": "code",
   "execution_count": 21,
   "metadata": {},
   "outputs": [],
   "source": [
    "inorder = [F,B,A,E,H,C,D,I,G]"
   ]
  },
  {
   "cell_type": "code",
   "execution_count": 50,
   "metadata": {},
   "outputs": [],
   "source": [
    "del A,B,C,D,E,F,G,H,I"
   ]
  },
  {
   "cell_type": "code",
   "execution_count": 51,
   "metadata": {},
   "outputs": [],
   "source": [
    "A = BinaryTreeNode(1)\n",
    "B = BinaryTreeNode(2)\n",
    "C = BinaryTreeNode(3)\n",
    "D = BinaryTreeNode(4)\n",
    "E = BinaryTreeNode(5)\n",
    "F = BinaryTreeNode(6)\n",
    "G = BinaryTreeNode(7)\n",
    "H = BinaryTreeNode(8)\n",
    "I = BinaryTreeNode(9)"
   ]
  },
  {
   "cell_type": "code",
   "execution_count": 22,
   "metadata": {},
   "outputs": [],
   "source": [
    "preorder = [H,B,F,E,A,C,D,G,I]"
   ]
  },
  {
   "cell_type": "code",
   "execution_count": 36,
   "metadata": {},
   "outputs": [],
   "source": [
    "tree = binary_tree_from_preorder_inorder(preorder, inorder)"
   ]
  },
  {
   "cell_type": "code",
   "execution_count": 37,
   "metadata": {},
   "outputs": [
    {
     "data": {
      "text/plain": [
       "[6, 1, 5, 2, 9, 7, 4, 3, 8]"
      ]
     },
     "execution_count": 37,
     "metadata": {},
     "output_type": "execute_result"
    }
   ],
   "source": [
    "postorder_traversal(tree)"
   ]
  },
  {
   "cell_type": "code",
   "execution_count": 38,
   "metadata": {},
   "outputs": [
    {
     "name": "stdout",
     "output_type": "stream",
     "text": [
      "Inorder: 6\n",
      "Inorder: 2\n",
      "Inorder: 1\n",
      "Inorder: 5\n",
      "Inorder: 8\n",
      "Inorder: 3\n",
      "Inorder: 4\n",
      "Inorder: 9\n",
      "Inorder: 7\n"
     ]
    }
   ],
   "source": [
    "tree_traversal_inorder(tree)"
   ]
  },
  {
   "cell_type": "code",
   "execution_count": 39,
   "metadata": {},
   "outputs": [
    {
     "name": "stdout",
     "output_type": "stream",
     "text": [
      "Preorder: 8\n",
      "Preorder: 2\n",
      "Preorder: 6\n",
      "Preorder: 5\n",
      "Preorder: 1\n",
      "Preorder: 3\n",
      "Preorder: 4\n",
      "Preorder: 7\n",
      "Preorder: 9\n"
     ]
    }
   ],
   "source": [
    "tree_traversal_preorder(tree)"
   ]
  },
  {
   "cell_type": "markdown",
   "metadata": {},
   "source": [
    "The time complexity is O(n)-- building the hash table takes O(n) time and recursive reconstruction spends O(1) time per node. The speac complexity is O(n + h) = O(n) --the size of the hash table plus the maximum depth of the function call stack. "
   ]
  },
  {
   "cell_type": "markdown",
   "metadata": {},
   "source": [
    "## 9.12 Reconstruct a Binary Tree from a Preorder Traversal with Markers\n",
    "\n",
    "Many different binary trees have the same preorder traversal sequence. In this problem, the preorder traversal computation is modified to mark where a left or right child is empty. Design an algorithm for reconstructing a binary tree from a preorder traversal visit sequence that uses null to mark empty children. "
   ]
  },
  {
   "cell_type": "markdown",
   "metadata": {},
   "source": [
    "**Hint:** It is difficult to solve this problem by examing the preorder traversal visit sequence from left-to-right. \n",
    "\n",
    "**Sol:** One brute-force solution is to enumerate all binary trees and compare the resulting preorder sequence with the given one. This approach will have unacceptable time complexity. \n",
    "\n",
    "The intuition for a better approach is the recoginitin that the first node in the sequence is the root, and the sequence for the root's left subtree appears before all the nodes in the root's right subtree. It is not easy to see where the left subtree sequence ends. However, if we solve the problem recursively, we can assume that the routine correctly computes the left subtree, which will also tell us where the right subtree begins. "
   ]
  },
  {
   "cell_type": "code",
   "execution_count": 56,
   "metadata": {},
   "outputs": [],
   "source": [
    "def reconstruct_preorder(preorder: list) -> BinaryTreeNode:\n",
    "    def reconstruct_preoder_helper(preorder_iter):\n",
    "        subtree_key = next(preorder_iter)\n",
    "        if subtree_key is None:\n",
    "            return None\n",
    "        \n",
    "        # Note that reconstruct_preorder_helper updates preorder_iter.\n",
    "        # So the order of following two calls are critical.\n",
    "        left_subtree = reconstruct_preoder_helper(preorder_iter)\n",
    "        right_subtree = reconstruct_preoder_helper(preorder_iter)\n",
    "        return BinaryTreeNode(subtree_key.data, left_subtree, right_subtree)\n",
    "    return reconstruct_preoder_helper(iter(preorder))"
   ]
  },
  {
   "cell_type": "code",
   "execution_count": 52,
   "metadata": {},
   "outputs": [],
   "source": [
    "preorder = [H,B,F,None,None,E,A,None,None,None,C,None,D,None,G,I,None,None,None]"
   ]
  },
  {
   "cell_type": "code",
   "execution_count": 57,
   "metadata": {},
   "outputs": [],
   "source": [
    "tree = reconstruct_preorder(preorder)"
   ]
  },
  {
   "cell_type": "code",
   "execution_count": 58,
   "metadata": {},
   "outputs": [
    {
     "name": "stdout",
     "output_type": "stream",
     "text": [
      "Preorder: 8\n",
      "Preorder: 2\n",
      "Preorder: 6\n",
      "Preorder: 5\n",
      "Preorder: 1\n",
      "Preorder: 3\n",
      "Preorder: 4\n",
      "Preorder: 7\n",
      "Preorder: 9\n"
     ]
    }
   ],
   "source": [
    "tree_traversal_preorder(tree)"
   ]
  },
  {
   "cell_type": "markdown",
   "metadata": {},
   "source": [
    "The time complexity is O(n), where n is the number of nodes in the tree. "
   ]
  },
  {
   "cell_type": "markdown",
   "metadata": {},
   "source": [
    "## 9.13 Form a Linked List from the Leaves of a Binary Tree\n",
    "\n",
    "In some applications of a binary tree, only the leaf nodes contain actual information. For example, the outcomes of matches in a tennis tournament can be represented by a binary tree where leaves are players. The internal nodes correspond to matches, with a single winner advancing. For such a tree, we can link the leaves to get a list of participants. \n",
    "\n",
    "Given a binary tree, compute a linked list from the leaves of the binary tree. The leaves should appear in left-to-right order. "
   ]
  },
  {
   "cell_type": "code",
   "execution_count": 59,
   "metadata": {},
   "outputs": [],
   "source": [
    "def create_list_of_leaves(tree: BinaryTreeNode) -> list:\n",
    "    if not tree:\n",
    "        return []\n",
    "    elif not tree.left and not tree.right:\n",
    "        return [tree]\n",
    "    else:\n",
    "        return create_list_of_leaves(tree.left) + create_list_of_leaves(tree.right)"
   ]
  },
  {
   "cell_type": "code",
   "execution_count": 63,
   "metadata": {},
   "outputs": [
    {
     "name": "stdout",
     "output_type": "stream",
     "text": [
      "Inorder: 28\n",
      "Inorder: 271\n",
      "no data \n",
      "Inorder: 6\n",
      "Inorder: 561\n",
      "Inorder: 17\n",
      "Inorder: 3\n",
      "Inorder: 314\n",
      "Inorder: 2\n",
      "Inorder: 401\n",
      "Inorder: 641\n",
      "Inorder: 1\n",
      "Inorder: 257\n",
      "Inorder: 6\n",
      "Inorder: 271\n",
      "Inorder: 28\n"
     ]
    }
   ],
   "source": [
    "tree_traversal_inorder(node1)"
   ]
  },
  {
   "cell_type": "code",
   "execution_count": 64,
   "metadata": {},
   "outputs": [],
   "source": [
    "leaves_list = create_list_of_leaves(node1)"
   ]
  },
  {
   "cell_type": "code",
   "execution_count": 65,
   "metadata": {},
   "outputs": [
    {
     "name": "stdout",
     "output_type": "stream",
     "text": [
      "28\n",
      "0\n",
      "17\n",
      "641\n",
      "257\n",
      "28\n"
     ]
    }
   ],
   "source": [
    "for i in leaves_list:\n",
    "    print(i.data)"
   ]
  },
  {
   "cell_type": "markdown",
   "metadata": {},
   "source": [
    "The time complexity is O(n), where n i shte number of nodes. "
   ]
  },
  {
   "cell_type": "markdown",
   "metadata": {},
   "source": [
    "## 9.14 Compute the Exterior of a Binary Tree\n",
    "\n",
    "The exterior of a binary tree is the following sequence of nodes: the nodes from the root to the leftmost node, followed by the leaves in left-to-right order, followed by the nodes from the rightmost node to the root. By leftmost node, we mean the leaf in the left subtree of the root that appears firs in an inorder traversal. If the root does not have left subtree, the root itself is the leftmost node. The rightmost node is defined similarly. \n",
    "\n",
    "Write a program that computes the exterior of a binary tree. \n",
    "\n",
    "We can simplify the above approach by computing the nodes on the path from the root to the leftmost leaf and the leaves in the left subtree in one traversal. After that, we find the leaves in the right subtree followed by the nodes from the rightmost leaf to the root with another traversal. "
   ]
  },
  {
   "cell_type": "code",
   "execution_count": 83,
   "metadata": {},
   "outputs": [],
   "source": [
    "def exterior_binary_tree(tree: BinaryTreeNode) -> list:\n",
    "    \n",
    "    # Compute the nodes from the root to the leftmost leaf.\n",
    "    def left_boundary(subtree):\n",
    "        if not subtree or (not subtree.left and not subtree.right):\n",
    "            return \n",
    "        exterior.append(subtree.data)\n",
    "        if subtree.left:\n",
    "            left_boundary(subtree.left)\n",
    "        else:\n",
    "            left_boundary(subtree.right)\n",
    "            \n",
    "    # Compute the nodes from the rightmost leaf to the root.\n",
    "    def right_boundary(subtree):\n",
    "        if not subtree or (not subtree.left and not subtree.right):\n",
    "            return \n",
    "        if subtree.right:\n",
    "            right_boundary(subtree.right)\n",
    "        else:\n",
    "            right_boundary(subtree.left)\n",
    "        exterior.append(subtree.data)\n",
    "        \n",
    "        \n",
    "    # Compute the leaves in left-to-right order \n",
    "    def leaves(subtree):\n",
    "        if not subtree:\n",
    "            return \n",
    "        if not subtree.left and not subtree.right:\n",
    "            exterior.append(subtree.data)\n",
    "            return \n",
    "        leaves(subtree.left)\n",
    "        leaves(subtree.right)\n",
    "        \n",
    "    if not tree:\n",
    "        return []\n",
    "    \n",
    "    exterior = [tree.data]\n",
    "    left_boundary(tree.left)\n",
    "    leaves(tree.left)\n",
    "    leaves(tree.right)\n",
    "    right_boundary(tree.right)\n",
    "    return exterior "
   ]
  },
  {
   "cell_type": "code",
   "execution_count": 84,
   "metadata": {},
   "outputs": [],
   "source": [
    "ex_nodes = exterior_binary_tree(node1)"
   ]
  },
  {
   "cell_type": "code",
   "execution_count": 85,
   "metadata": {},
   "outputs": [
    {
     "name": "stdout",
     "output_type": "stream",
     "text": [
      "314\n",
      "6\n",
      "271\n",
      "28\n",
      "0\n",
      "17\n",
      "641\n",
      "257\n",
      "28\n",
      "271\n",
      "6\n"
     ]
    }
   ],
   "source": [
    "for i in ex_nodes:\n",
    "    print(i)"
   ]
  },
  {
   "cell_type": "markdown",
   "metadata": {},
   "source": [
    "The time complexity is O(n). "
   ]
  },
  {
   "cell_type": "markdown",
   "metadata": {},
   "source": [
    "## 9.15 Compute the Right Sibling Tree\n",
    "\n",
    "For this problem, assume that each binary tree node has a extra field, call it level-next, that holds a binary tree node(this field is distinct from the fields fro the left and right children). The level-next field will be used to compute a map from nodes to their right siblings. The input is assumed to be perfect binary tree. \n",
    "\n",
    "Write a program that takes a perfect binary tree, and sets each node's level-next field to the node on its right, if one exists. "
   ]
  },
  {
   "cell_type": "markdown",
   "metadata": {},
   "source": [
    "**Sol:** The key insight into solving this problem with better space complexity is to use the structure of the tree. Since it is a perfect binary tree, for a node which is a left child, its right sibling is just its parent's right child. For a node which is a right child, its right sibling is its parent's right sibling's left child. \n",
    "\n",
    "For this approach to work, we need to ensure that we process nodes level-by-level, left-to-right. Traversing a level in which the level-next field is set is trivial. As we do the traversal, we set the level-next fields for the nodes on the level below using the principle outlined above. To get to the next level, we record the starting node for each level. When we complete that level, the next level is the starting node's left child. "
   ]
  },
  {
   "cell_type": "code",
   "execution_count": 113,
   "metadata": {},
   "outputs": [],
   "source": [
    "def construct_right_sibling(tree: BinaryTreeNode) -> None:\n",
    "    def populate_children_next_field(start_node):\n",
    "        while start_node and start_node.left:\n",
    "            # Populate left child's next field\n",
    "            start_node.left.next = start_node.right\n",
    "            start_node.right.next = start_node.next and start_node.next.left\n",
    "            start_node = start_node.next\n",
    "            \n",
    "    while tree and tree.left:\n",
    "        populate_children_next_field(tree)\n",
    "        tree = tree.left"
   ]
  },
  {
   "cell_type": "code",
   "execution_count": 119,
   "metadata": {},
   "outputs": [
    {
     "name": "stdout",
     "output_type": "stream",
     "text": [
      "Preorder: 314\n",
      "Preorder: 6\n",
      "Preorder: 271\n",
      "Preorder: 28\n",
      "Preorder: 0\n",
      "Preorder: 561\n",
      "Preorder: 17\n",
      "Preorder: 3\n",
      "Preorder: 6\n",
      "Preorder: 2\n",
      "Preorder: 401\n",
      "Preorder: 1\n",
      "Preorder: 271\n",
      "Preorder: 641\n",
      "Preorder: 28\n"
     ]
    }
   ],
   "source": [
    "tree_traversal_preorder(node1)"
   ]
  },
  {
   "cell_type": "code",
   "execution_count": 115,
   "metadata": {},
   "outputs": [],
   "source": [
    "construct_right_sibling(node1)"
   ]
  },
  {
   "cell_type": "code",
   "execution_count": 139,
   "metadata": {},
   "outputs": [],
   "source": [
    "def tree_traversal_preorder_next(root: BinaryTreeNode) -> None:\n",
    "    if root:\n",
    "        print('Preorder: %d' %root.data)\n",
    "        if root.next:\n",
    "            print('Preorder next: %d' %root.next.data)\n",
    "        tree_traversal_preorder(root.left)\n",
    "        tree_traversal_preorder(root.right)"
   ]
  },
  {
   "cell_type": "code",
   "execution_count": 154,
   "metadata": {},
   "outputs": [
    {
     "name": "stdout",
     "output_type": "stream",
     "text": [
      "Preorder : 314\n",
      "Preorder : 6\n",
      "Preorder next :6\n",
      "Preorder : 6\n",
      "Preorder : 271\n",
      "Preorder next :561\n",
      "Preorder : 561\n",
      "Preorder next :2\n",
      "Preorder : 2\n",
      "Preorder next :271\n",
      "Preorder : 271\n",
      "Preorder : 28\n",
      "Preorder next :0\n",
      "Preorder : 0\n",
      "Preorder next :17\n",
      "Preorder : 3\n",
      "Preorder next :401\n",
      "Preorder : 1\n",
      "Preorder next :641\n",
      "Preorder : 28\n",
      "Preorder : 17\n",
      "Preorder next :3\n",
      "Preorder : 401\n",
      "Preorder next :1\n",
      "Preorder : 257\n",
      "Preorder : 641\n",
      "Preorder next :28\n"
     ]
    }
   ],
   "source": [
    "for node in ([node1, node2, node3, node4, node5, node6, node7, node8, node9, node10,\n",
    "            node11, node12, node13, node14, node15, node16]):\n",
    "    print('Preorder : %d' %node.data)\n",
    "    if node.next:\n",
    "        print('Preorder next :%d' %node.next.data)"
   ]
  },
  {
   "cell_type": "code",
   "execution_count": 148,
   "metadata": {},
   "outputs": [
    {
     "name": "stdout",
     "output_type": "stream",
     "text": [
      "Preorder: 3\n",
      "Preorder next: 401\n"
     ]
    }
   ],
   "source": [
    "tree_traversal_preorder_next(node10)"
   ]
  },
  {
   "cell_type": "code",
   "execution_count": 131,
   "metadata": {},
   "outputs": [
    {
     "name": "stdout",
     "output_type": "stream",
     "text": [
      "2\n"
     ]
    }
   ],
   "source": [
    "print(node5.next.data)"
   ]
  },
  {
   "cell_type": "code",
   "execution_count": 133,
   "metadata": {},
   "outputs": [
    {
     "name": "stdout",
     "output_type": "stream",
     "text": [
      "561\n"
     ]
    }
   ],
   "source": [
    "print(node2.left.next.data)"
   ]
  },
  {
   "cell_type": "code",
   "execution_count": 135,
   "metadata": {},
   "outputs": [
    {
     "name": "stdout",
     "output_type": "stream",
     "text": [
      "Preorder: 2\n",
      "Preorder: 401\n",
      "Preorder: 1\n"
     ]
    }
   ],
   "source": [
    "tree_traversal_preorder(node2.next and node2.next.left)"
   ]
  },
  {
   "cell_type": "markdown",
   "metadata": {},
   "source": [
    "Since we perform O(1) computation per node, the time complexity is O(n). The space complexity is O(1). "
   ]
  },
  {
   "cell_type": "code",
   "execution_count": null,
   "metadata": {},
   "outputs": [],
   "source": []
  }
 ],
 "metadata": {
  "kernelspec": {
   "display_name": "Python 3",
   "language": "python",
   "name": "python3"
  },
  "language_info": {
   "codemirror_mode": {
    "name": "ipython",
    "version": 3
   },
   "file_extension": ".py",
   "mimetype": "text/x-python",
   "name": "python",
   "nbconvert_exporter": "python",
   "pygments_lexer": "ipython3",
   "version": "3.6.5"
  }
 },
 "nbformat": 4,
 "nbformat_minor": 2
}
