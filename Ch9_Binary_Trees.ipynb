{
 "cells": [
  {
   "cell_type": "markdown",
   "metadata": {},
   "source": [
    "# Chapter 9 Binary Trees"
   ]
  },
  {
   "cell_type": "code",
   "execution_count": 1,
   "metadata": {},
   "outputs": [],
   "source": [
    "class BinaryTreeNode:\n",
    "    def __init__(self, data=None, left=None, right= None):\n",
    "        self.data = data\n",
    "        self.left = left\n",
    "        self.right = right"
   ]
  },
  {
   "cell_type": "code",
   "execution_count": 2,
   "metadata": {},
   "outputs": [],
   "source": [
    "def tree_traversal(root: BinaryTreeNode) -> None:\n",
    "    if root:\n",
    "        # Preorder: Processes the root before the traversals of left and right children\n",
    "        print('Preorder: %d' %root.data)\n",
    "        tree_traversal(root.left)\n",
    "        # Inorder: Processes the root after the traversal of left child and before the traversal of right child.\n",
    "        print('Inorder: %d' % root.data)\n",
    "        tree_traversal(root.right)\n",
    "        # Postorder: Processes the root after the traversals of left and right children\n",
    "        print('Postorder: %d' % root.data)"
   ]
  },
  {
   "cell_type": "code",
   "execution_count": 3,
   "metadata": {},
   "outputs": [],
   "source": [
    "node1 = BinaryTreeNode(314)\n",
    "node2 = BinaryTreeNode(6)\n",
    "node3 = BinaryTreeNode(6)\n",
    "node4 = BinaryTreeNode(271)\n",
    "node5 = BinaryTreeNode(561)\n",
    "node6 = BinaryTreeNode(2)\n",
    "node7 = BinaryTreeNode(271)\n",
    "node8 = BinaryTreeNode(28)\n",
    "node9 = BinaryTreeNode(0)\n",
    "node10 = BinaryTreeNode(3)\n",
    "node11 = BinaryTreeNode(1)\n",
    "node12 = BinaryTreeNode(28)\n",
    "node13 = BinaryTreeNode(17)\n",
    "node14 = BinaryTreeNode(401)\n",
    "node15 = BinaryTreeNode(257)\n",
    "node16 = BinaryTreeNode(641)"
   ]
  },
  {
   "cell_type": "code",
   "execution_count": 4,
   "metadata": {},
   "outputs": [],
   "source": [
    "node1.left = node2\n",
    "node1.right = node3\n",
    "node2.left = node4\n",
    "node2.right = node5\n",
    "node3.left = node6\n",
    "node3.right = node7\n",
    "node4.left = node8\n",
    "node4.right = node9\n",
    "node5.right = node10\n",
    "node10.left = node13\n",
    "node6.right = node11\n",
    "node11.left = node14\n",
    "node11.right = node15\n",
    "node14.right = node16\n",
    "node7.right = node8"
   ]
  },
  {
   "cell_type": "code",
   "execution_count": 5,
   "metadata": {},
   "outputs": [
    {
     "name": "stdout",
     "output_type": "stream",
     "text": [
      "Preorder: 314\n",
      "Preorder: 6\n",
      "Preorder: 271\n",
      "Preorder: 28\n",
      "Inorder: 28\n",
      "Postorder: 28\n",
      "Inorder: 271\n",
      "Preorder: 0\n",
      "Inorder: 0\n",
      "Postorder: 0\n",
      "Postorder: 271\n",
      "Inorder: 6\n",
      "Preorder: 561\n",
      "Inorder: 561\n",
      "Preorder: 3\n",
      "Preorder: 17\n",
      "Inorder: 17\n",
      "Postorder: 17\n",
      "Inorder: 3\n",
      "Postorder: 3\n",
      "Postorder: 561\n",
      "Postorder: 6\n",
      "Inorder: 314\n",
      "Preorder: 6\n",
      "Preorder: 2\n",
      "Inorder: 2\n",
      "Preorder: 1\n",
      "Preorder: 401\n",
      "Inorder: 401\n",
      "Preorder: 641\n",
      "Inorder: 641\n",
      "Postorder: 641\n",
      "Postorder: 401\n",
      "Inorder: 1\n",
      "Preorder: 257\n",
      "Inorder: 257\n",
      "Postorder: 257\n",
      "Postorder: 1\n",
      "Postorder: 2\n",
      "Inorder: 6\n",
      "Preorder: 271\n",
      "Inorder: 271\n",
      "Preorder: 28\n",
      "Inorder: 28\n",
      "Postorder: 28\n",
      "Postorder: 271\n",
      "Postorder: 6\n",
      "Postorder: 314\n"
     ]
    }
   ],
   "source": [
    "tree_traversal(node1)"
   ]
  },
  {
   "cell_type": "code",
   "execution_count": 6,
   "metadata": {},
   "outputs": [],
   "source": [
    "def tree_traversal_inorder(root: BinaryTreeNode) -> None:\n",
    "    if root:\n",
    "        tree_traversal_inorder(root.left)\n",
    "        print('Inorder: %d' % root.data)\n",
    "        tree_traversal_inorder(root.right)"
   ]
  },
  {
   "cell_type": "code",
   "execution_count": 7,
   "metadata": {},
   "outputs": [
    {
     "name": "stdout",
     "output_type": "stream",
     "text": [
      "Inorder: 28\n",
      "Inorder: 271\n",
      "Inorder: 0\n",
      "Inorder: 6\n",
      "Inorder: 561\n",
      "Inorder: 17\n",
      "Inorder: 3\n",
      "Inorder: 314\n",
      "Inorder: 2\n",
      "Inorder: 401\n",
      "Inorder: 641\n",
      "Inorder: 1\n",
      "Inorder: 257\n",
      "Inorder: 6\n",
      "Inorder: 271\n",
      "Inorder: 28\n"
     ]
    }
   ],
   "source": [
    "tree_traversal_inorder(node1)"
   ]
  },
  {
   "cell_type": "code",
   "execution_count": 8,
   "metadata": {},
   "outputs": [],
   "source": [
    "def tree_traversal_preorder(root: BinaryTreeNode) -> None:\n",
    "    if root:\n",
    "        print('Preorder: %d' % root.data)\n",
    "        tree_traversal_preorder(root.left)\n",
    "        tree_traversal_preorder(root.right)"
   ]
  },
  {
   "cell_type": "code",
   "execution_count": 9,
   "metadata": {},
   "outputs": [
    {
     "name": "stdout",
     "output_type": "stream",
     "text": [
      "Preorder: 314\n",
      "Preorder: 6\n",
      "Preorder: 271\n",
      "Preorder: 28\n",
      "Preorder: 0\n",
      "Preorder: 561\n",
      "Preorder: 3\n",
      "Preorder: 17\n",
      "Preorder: 6\n",
      "Preorder: 2\n",
      "Preorder: 1\n",
      "Preorder: 401\n",
      "Preorder: 641\n",
      "Preorder: 257\n",
      "Preorder: 271\n",
      "Preorder: 28\n"
     ]
    }
   ],
   "source": [
    "tree_traversal_preorder(node1)"
   ]
  },
  {
   "cell_type": "code",
   "execution_count": 10,
   "metadata": {},
   "outputs": [],
   "source": [
    "def tree_traversal_postorder(root: BinaryTreeNode) -> None:\n",
    "    if root:\n",
    "        tree_traversal_postorder(root.left)\n",
    "        tree_traversal_postorder(root.right)\n",
    "        print('Postorder: %d' % root.data)"
   ]
  },
  {
   "cell_type": "code",
   "execution_count": 11,
   "metadata": {},
   "outputs": [
    {
     "name": "stdout",
     "output_type": "stream",
     "text": [
      "Postorder: 28\n",
      "Postorder: 0\n",
      "Postorder: 271\n",
      "Postorder: 17\n",
      "Postorder: 3\n",
      "Postorder: 561\n",
      "Postorder: 6\n",
      "Postorder: 641\n",
      "Postorder: 401\n",
      "Postorder: 257\n",
      "Postorder: 1\n",
      "Postorder: 2\n",
      "Postorder: 28\n",
      "Postorder: 271\n",
      "Postorder: 6\n",
      "Postorder: 314\n"
     ]
    }
   ],
   "source": [
    "tree_traversal_postorder(node1)"
   ]
  },
  {
   "cell_type": "markdown",
   "metadata": {},
   "source": [
    "The time complexity of each approach is O(n), where n is the number of nodes in the tree. Although "
   ]
  }
 ],
 "metadata": {
  "kernelspec": {
   "display_name": "Python 3",
   "language": "python",
   "name": "python3"
  },
  "language_info": {
   "codemirror_mode": {
    "name": "ipython",
    "version": 3
   },
   "file_extension": ".py",
   "mimetype": "text/x-python",
   "name": "python",
   "nbconvert_exporter": "python",
   "pygments_lexer": "ipython3",
   "version": "3.6.5"
  }
 },
 "nbformat": 4,
 "nbformat_minor": 2
}
