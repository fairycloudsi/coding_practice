{
 "cells": [
  {
   "cell_type": "markdown",
   "metadata": {},
   "source": [
    "## 802 Find Eventual Safe States \n",
    "\n",
    "In a directed graph, we start at some node and wvery turn, walk along a directed edge of the graph. If we reach a node that is terminal (that is, it has no outgoing directed edges), we stop. \n",
    "\n",
    "Now, say our starting node is eventually safe if and only iuf we must eventually walk to a terminal node. More specifically, there exists a natural number K so that for any choice of where to walk, we must have stopped at a terminal node in less than K steps. \n",
    "\n",
    "Which nodes are eventually safe? Return them as an array in sorted order. \n",
    "\n",
    "The directed graph has N nodes with labels 0, 1, ..., N-1, where N is the length of graph. The graph is given in the following form: graph[i] is a list of labels j such that (i,j) is a directed edge of the graph. \n",
    "\n",
    "**Example: **\n",
    "\n",
    "Input: graph = [[1,2], [2,3], [5], [0], [5], [], []]\n",
    "\n",
    "Output: [2,4,5,6]\n",
    "\n",
    "\n",
    "\n"
   ]
  },
  {
   "cell_type": "code",
   "execution_count": 15,
   "metadata": {},
   "outputs": [],
   "source": [
    "def eventualSafeNodes(graph: list) -> list:\n",
    "    ans = []\n",
    "    \n",
    "    if not graph:\n",
    "        return ans\n",
    "    n = len(graph)\n",
    "    visited = [0 for _ in range(n)]\n",
    "    \n",
    "    def dfs(i, visited):\n",
    "        if visited[i] == 1:\n",
    "            return True \n",
    "        if visited[i] == 2:\n",
    "            return False \n",
    "        visited[i] = 1\n",
    "        for t in graph[i]:\n",
    "            if dfs(t, visited):\n",
    "                return True\n",
    "        visited[i] = 2\n",
    "        return False \n",
    "    \n",
    "    for i in range(n):\n",
    "#         visited = [0 for _ in range(n)]\n",
    "        if not dfs(i, visited):\n",
    "            print(visited)\n",
    "            ans.append(i)\n",
    "            \n",
    "    return (ans)\n",
    "        "
   ]
  },
  {
   "cell_type": "code",
   "execution_count": 16,
   "metadata": {},
   "outputs": [
    {
     "name": "stdout",
     "output_type": "stream",
     "text": [
      "[1, 1, 2, 1, 0, 2, 0]\n",
      "[1, 1, 2, 1, 2, 2, 0]\n",
      "[1, 1, 2, 1, 2, 2, 0]\n",
      "[1, 1, 2, 1, 2, 2, 2]\n"
     ]
    },
    {
     "data": {
      "text/plain": [
       "[2, 4, 5, 6]"
      ]
     },
     "execution_count": 16,
     "metadata": {},
     "output_type": "execute_result"
    }
   ],
   "source": [
    "graph = [[1,2], [2,3], [5], [0], [5], [], []]\n",
    "\n",
    "eventualSafeNodes(graph)"
   ]
  },
  {
   "cell_type": "markdown",
   "metadata": {},
   "source": [
    "Time Complexity: O(n) for topological sorting\n",
    "\n",
    "Space Complexity: O(n)"
   ]
  },
  {
   "cell_type": "markdown",
   "metadata": {},
   "source": [
    "## 897. Increasing Order Search Tree\n",
    "\n",
    "Given a binary search tree, rearrange the tree in in-order so that the leftmost node in the tree is not the root of the tree, and every node has no left child and only 1 right child. "
   ]
  },
  {
   "cell_type": "code",
   "execution_count": 17,
   "metadata": {},
   "outputs": [],
   "source": [
    "class TreeNode: \n",
    "    def __init__(self,x):\n",
    "        self.val = x\n",
    "        self.left = None\n",
    "        self.right = None "
   ]
  },
  {
   "cell_type": "code",
   "execution_count": 70,
   "metadata": {},
   "outputs": [],
   "source": [
    "def increasingBST(root: TreeNode)-> TreeNode:\n",
    "    head = TreeNode(0)\n",
    "    dummy_head = head \n",
    "    def inorder(node: TreeNode):\n",
    "        if node:\n",
    "            yield from inorder(node.left)\n",
    "            yield (node.val)\n",
    "            yield from inorder(node.right)\n",
    "#             return head \n",
    "    for v in inorder(root):\n",
    "        head.right = TreeNode(v)\n",
    "        head = head.right\n",
    "    return dummy_head.right \n",
    "        "
   ]
  },
  {
   "cell_type": "code",
   "execution_count": 71,
   "metadata": {},
   "outputs": [],
   "source": [
    "node1 = TreeNode(1)\n",
    "\n",
    "node2 = TreeNode(2)\n",
    "\n",
    "node3 = TreeNode(3)\n",
    "\n",
    "node4 = TreeNode(4)\n",
    "\n",
    "node5 = TreeNode(5)\n",
    "\n",
    "node6 = TreeNode(6)\n",
    "\n",
    "node7 = TreeNode(7)\n",
    "\n",
    "node8 = TreeNode(8)\n",
    "\n",
    "node9 = TreeNode(9)"
   ]
  },
  {
   "cell_type": "code",
   "execution_count": 72,
   "metadata": {},
   "outputs": [],
   "source": [
    "node5.left = node3\n",
    "\n",
    "node5.right = node6\n",
    "\n",
    "node3.left = node2\n",
    "\n",
    "node3.right = node4\n",
    "\n",
    "node2.left = node1\n",
    "\n",
    "node6.right = node8\n",
    "\n",
    "node8.left = node7\n",
    "\n",
    "node8.right = node9"
   ]
  },
  {
   "cell_type": "code",
   "execution_count": 73,
   "metadata": {},
   "outputs": [],
   "source": [
    "tree = increasingBST(node5)"
   ]
  },
  {
   "cell_type": "code",
   "execution_count": 74,
   "metadata": {},
   "outputs": [],
   "source": [
    "def tree_inorder(root: TreeNode) -> None:\n",
    "    if root:\n",
    "#         tree_inorder(root.left)\n",
    "        print(tree.val)\n",
    "        tree_inorder(root.right)"
   ]
  },
  {
   "cell_type": "code",
   "execution_count": 75,
   "metadata": {},
   "outputs": [
    {
     "name": "stdout",
     "output_type": "stream",
     "text": [
      "1\n",
      "1\n",
      "1\n",
      "1\n",
      "1\n",
      "1\n",
      "1\n",
      "1\n",
      "1\n"
     ]
    }
   ],
   "source": [
    "tree_inorder(tree)"
   ]
  },
  {
   "cell_type": "code",
   "execution_count": 76,
   "metadata": {},
   "outputs": [
    {
     "data": {
      "text/plain": [
       "<__main__.TreeNode at 0x7f2ac4078048>"
      ]
     },
     "execution_count": 76,
     "metadata": {},
     "output_type": "execute_result"
    }
   ],
   "source": [
    "tree"
   ]
  },
  {
   "cell_type": "code",
   "execution_count": 77,
   "metadata": {},
   "outputs": [
    {
     "name": "stdout",
     "output_type": "stream",
     "text": [
      "1\n",
      "2\n",
      "3\n",
      "4\n",
      "5\n",
      "6\n",
      "7\n",
      "8\n",
      "9\n"
     ]
    }
   ],
   "source": [
    "while tree:\n",
    "    print(tree.val)\n",
    "    tree = tree.right "
   ]
  },
  {
   "cell_type": "markdown",
   "metadata": {},
   "source": [
    "PEP 380: Syntax for Delegating to a Subgenerator \n",
    "\n",
    "PEP 380 adds the yield from expression, allowing a generator to delegate part of its operations to another generator. This allows a section of code containing yield to be factored out and placed in another generator. Additionally, the subgenerator is allowed to return with a value, and the value is made available to the delegating generator. \n",
    "\n",
    "While designed primarily for use in delegating to a subgenerator, the yield from expression actually allows delegation to arbitrary subiterators. \n"
   ]
  },
  {
   "cell_type": "code",
   "execution_count": 78,
   "metadata": {},
   "outputs": [],
   "source": [
    "def g(x):\n",
    "    yield from range(x, 0, -1)\n",
    "    yield from range(x)"
   ]
  },
  {
   "cell_type": "code",
   "execution_count": 79,
   "metadata": {},
   "outputs": [
    {
     "data": {
      "text/plain": [
       "[5, 4, 3, 2, 1, 0, 1, 2, 3, 4]"
      ]
     },
     "execution_count": 79,
     "metadata": {},
     "output_type": "execute_result"
    }
   ],
   "source": [
    "list(g(5))"
   ]
  },
  {
   "cell_type": "code",
   "execution_count": 80,
   "metadata": {},
   "outputs": [],
   "source": [
    "def accumulate():\n",
    "    tally = 0 \n",
    "    while 1:\n",
    "        next = yield\n",
    "        if next is None:\n",
    "            return tally\n",
    "        tally += next "
   ]
  },
  {
   "cell_type": "code",
   "execution_count": 86,
   "metadata": {},
   "outputs": [],
   "source": [
    "def gather_tallies(tallies):\n",
    "    while 1:\n",
    "        tally = yield from accumulate()\n",
    "        tallies.append(tally)"
   ]
  },
  {
   "cell_type": "code",
   "execution_count": 82,
   "metadata": {},
   "outputs": [],
   "source": [
    "tallies = []\n",
    "\n",
    "acc = gather_tallies(tallies)\n",
    "\n",
    "next(acc) # Ensure the accumulator is ready to accept values "
   ]
  },
  {
   "cell_type": "code",
   "execution_count": 83,
   "metadata": {},
   "outputs": [],
   "source": [
    "for i in range(4):\n",
    "    acc.send(i)"
   ]
  },
  {
   "cell_type": "code",
   "execution_count": 88,
   "metadata": {},
   "outputs": [
    {
     "ename": "StopIteration",
     "evalue": "",
     "output_type": "error",
     "traceback": [
      "\u001b[0;31m---------------------------------------------------------------------------\u001b[0m",
      "\u001b[0;31mStopIteration\u001b[0m                             Traceback (most recent call last)",
      "\u001b[0;32m<ipython-input-88-11d28b6230b4>\u001b[0m in \u001b[0;36m<module>\u001b[0;34m\u001b[0m\n\u001b[0;32m----> 1\u001b[0;31m \u001b[0macc\u001b[0m\u001b[0;34m.\u001b[0m\u001b[0msend\u001b[0m\u001b[0;34m(\u001b[0m\u001b[0;32mNone\u001b[0m\u001b[0;34m)\u001b[0m \u001b[0;31m# Finish the first tally\u001b[0m\u001b[0;34m\u001b[0m\u001b[0;34m\u001b[0m\u001b[0m\n\u001b[0m\u001b[1;32m      2\u001b[0m \u001b[0;32mfor\u001b[0m \u001b[0mi\u001b[0m \u001b[0;32min\u001b[0m \u001b[0mrange\u001b[0m\u001b[0;34m(\u001b[0m\u001b[0;36m5\u001b[0m\u001b[0;34m)\u001b[0m\u001b[0;34m:\u001b[0m\u001b[0;34m\u001b[0m\u001b[0;34m\u001b[0m\u001b[0m\n\u001b[1;32m      3\u001b[0m     \u001b[0macc\u001b[0m\u001b[0;34m.\u001b[0m\u001b[0msend\u001b[0m\u001b[0;34m(\u001b[0m\u001b[0mi\u001b[0m\u001b[0;34m)\u001b[0m\u001b[0;34m\u001b[0m\u001b[0;34m\u001b[0m\u001b[0m\n",
      "\u001b[0;31mStopIteration\u001b[0m: "
     ]
    }
   ],
   "source": [
    "acc.send(None) # Finish the first tally\n",
    "for i in range(5):\n",
    "    acc.send(i)"
   ]
  },
  {
   "cell_type": "code",
   "execution_count": 89,
   "metadata": {},
   "outputs": [
    {
     "ename": "StopIteration",
     "evalue": "",
     "output_type": "error",
     "traceback": [
      "\u001b[0;31m---------------------------------------------------------------------------\u001b[0m",
      "\u001b[0;31mStopIteration\u001b[0m                             Traceback (most recent call last)",
      "\u001b[0;32m<ipython-input-89-d1cb745cc3ba>\u001b[0m in \u001b[0;36m<module>\u001b[0;34m\u001b[0m\n\u001b[0;32m----> 1\u001b[0;31m \u001b[0macc\u001b[0m\u001b[0;34m.\u001b[0m\u001b[0msend\u001b[0m\u001b[0;34m(\u001b[0m\u001b[0;32mNone\u001b[0m\u001b[0;34m)\u001b[0m\u001b[0;34m\u001b[0m\u001b[0;34m\u001b[0m\u001b[0m\n\u001b[0m\u001b[1;32m      2\u001b[0m \u001b[0mtallies\u001b[0m\u001b[0;34m\u001b[0m\u001b[0;34m\u001b[0m\u001b[0m\n",
      "\u001b[0;31mStopIteration\u001b[0m: "
     ]
    }
   ],
   "source": [
    "acc.send(None)\n",
    "tallies"
   ]
  },
  {
   "cell_type": "markdown",
   "metadata": {},
   "source": [
    "## 990. Satisfiability of Equality Equations\n",
    "\n",
    "Given an array equations of strings that represent relationships between variables, each string equations[i] has length 4 and takes one of two different forms: \"a==b\"or \"a!=b\". Here, a and b are lowercase letters (not necessarily differnt) that represent one-letter variable names. \n",
    "\n",
    "Return true if and only if it is possible to assign integers to variable names so as to satisfy all the given equations. \n",
    "\n",
    "**Example 1:**\n",
    "\n",
    "Input: [\"a == b\", \"b!=a\"]\n",
    "\n",
    "Output: False \n",
    "\n",
    "**Example 2:**\n",
    "\n",
    "Input: []"
   ]
  }
 ],
 "metadata": {
  "kernelspec": {
   "display_name": "Python 3",
   "language": "python",
   "name": "python3"
  },
  "language_info": {
   "codemirror_mode": {
    "name": "ipython",
    "version": 3
   },
   "file_extension": ".py",
   "mimetype": "text/x-python",
   "name": "python",
   "nbconvert_exporter": "python",
   "pygments_lexer": "ipython3",
   "version": "3.6.9"
  }
 },
 "nbformat": 4,
 "nbformat_minor": 2
}
