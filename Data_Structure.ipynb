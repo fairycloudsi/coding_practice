{
 "cells": [
  {
   "cell_type": "markdown",
   "metadata": {},
   "source": [
    "## Stack \n",
    "\n",
    "A stack is a linear data structure that stores items in Last-In/First-Out (LIFO) or First-In/Last-Out (FILO) manner. In stack, a new element is added at one end and en element is removed from that end only. The insert and delete operations are often called push and pop \n",
    "\n",
    "* empty() -- Returns whether the stack is empty -- Time Compelxity: O(1) \n",
    "* size() -- Returns the size of the stack -- Time Complexity: O(1)\n",
    "* top() -- Returns a reference to the top most element of the stack -- Time Complexity: O(1)\n",
    "* push(g) -- Adds the element 'g' at the top of the stack -- Time Complexity: O(1)\n",
    "* pop() -- Deletes the top most element of the stack -- Time Complexity: O(1)\n",
    "\n",
    "### Implementation \n",
    "\n",
    "There are various ways from which a stack can be implemented in Python. \n",
    "\n",
    "* list\n",
    "* collections.deque\n",
    "* queue.LifoQueue \n",
    "\n",
    "#### Implementation using list \n",
    "\n",
    "Python's buil-in data structure list can be used as a stack. Instead of push(), append() is used to add elements to the top of stack while pop() removes the element in LIFO order. Unfortunately, list has a few shortcomings. The biggest issue is that it can run into speed issue as it grows. The items in list are stored next to each other memory, if the stack grows bigger than the block of memory that currently hold it, then Python needs to do some memory allocations. This can lead to some append() calls taking much longer than other ones. "
   ]
  },
  {
   "cell_type": "code",
   "execution_count": 1,
   "metadata": {},
   "outputs": [],
   "source": [
    "# Python program to demonstrate stack implementation using list\n",
    "\n",
    "stack = []\n"
   ]
  },
  {
   "cell_type": "code",
   "execution_count": 2,
   "metadata": {},
   "outputs": [],
   "source": [
    "# append() function to push element in the stack \n",
    "stack.append('a')\n",
    "stack.append('b')\n",
    "stack.append('c')"
   ]
  },
  {
   "cell_type": "code",
   "execution_count": 3,
   "metadata": {},
   "outputs": [
    {
     "name": "stdout",
     "output_type": "stream",
     "text": [
      "Initial stack\n",
      "['a', 'b', 'c']\n"
     ]
    }
   ],
   "source": [
    "print('Initial stack')\n",
    "print(stack)"
   ]
  },
  {
   "cell_type": "code",
   "execution_count": 4,
   "metadata": {},
   "outputs": [
    {
     "name": "stdout",
     "output_type": "stream",
     "text": [
      "\n",
      "Elements poped from stack:\n",
      "c\n",
      "b\n",
      "a\n"
     ]
    }
   ],
   "source": [
    "# pop() function to pop element from stack in LIFP order\n",
    "print('\\nElements poped from stack:')\n",
    "print(stack.pop())\n",
    "print(stack.pop())\n",
    "print(stack.pop())"
   ]
  },
  {
   "cell_type": "code",
   "execution_count": 5,
   "metadata": {},
   "outputs": [
    {
     "name": "stdout",
     "output_type": "stream",
     "text": [
      "\n",
      "Stack after elements are popped:\n",
      "[]\n"
     ]
    }
   ],
   "source": [
    "print('\\nStack after elements are popped:')\n",
    "print(stack)"
   ]
  },
  {
   "cell_type": "code",
   "execution_count": 6,
   "metadata": {},
   "outputs": [
    {
     "ename": "IndexError",
     "evalue": "pop from empty list",
     "output_type": "error",
     "traceback": [
      "\u001b[0;31m---------------------------------------------------------------------------\u001b[0m",
      "\u001b[0;31mIndexError\u001b[0m                                Traceback (most recent call last)",
      "\u001b[0;32m<ipython-input-6-415460d3b717>\u001b[0m in \u001b[0;36m<module>\u001b[0;34m\u001b[0m\n\u001b[0;32m----> 1\u001b[0;31m \u001b[0mstack\u001b[0m\u001b[0;34m.\u001b[0m\u001b[0mpop\u001b[0m\u001b[0;34m(\u001b[0m\u001b[0;34m)\u001b[0m\u001b[0;34m\u001b[0m\u001b[0;34m\u001b[0m\u001b[0m\n\u001b[0m",
      "\u001b[0;31mIndexError\u001b[0m: pop from empty list"
     ]
    }
   ],
   "source": [
    "stack.pop()"
   ]
  },
  {
   "cell_type": "markdown",
   "metadata": {},
   "source": [
    "#### Implementation using collections.deque\n",
    "\n",
    "Python stack can be implemented using deque class from collections module. Deque is preferred over list in the cases where we need quicker append and pop operations from both the end of the container, as deque provides an O(1) time complexity for append and pop operations as compared to list while provides O(n) time complexity. "
   ]
  },
  {
   "cell_type": "code",
   "execution_count": 7,
   "metadata": {},
   "outputs": [
    {
     "name": "stdout",
     "output_type": "stream",
     "text": [
      "Initial stack:\n",
      "deque(['a', 'b', 'c'])\n"
     ]
    }
   ],
   "source": [
    "# Python program to demonstrate stack implementation using collections.dque\n",
    "\n",
    "from collections import deque \n",
    "\n",
    "stack = deque()\n",
    "\n",
    "# append() function to push element in the stack \n",
    "stack.append('a')\n",
    "stack.append('b')\n",
    "stack.append('c')\n",
    "\n",
    "print('Initial stack:')\n",
    "print(stack)"
   ]
  },
  {
   "cell_type": "code",
   "execution_count": 8,
   "metadata": {},
   "outputs": [
    {
     "name": "stdout",
     "output_type": "stream",
     "text": [
      "\n",
      "Elements poped from stack:\n",
      "c\n",
      "b\n",
      "a\n",
      "\n",
      "Stack after elements are poped:\n",
      "deque([])\n"
     ]
    }
   ],
   "source": [
    "# pop() function to pop element from stack in LIFO order \n",
    "\n",
    "print('\\nElements poped from stack:')\n",
    "print(stack.pop())\n",
    "print(stack.pop())\n",
    "print(stack.pop())\n",
    "\n",
    "print('\\nStack after elements are poped:')\n",
    "print(stack)"
   ]
  },
  {
   "cell_type": "markdown",
   "metadata": {},
   "source": [
    "#### Implementation using queue module\n",
    "\n",
    "Queue module also has a FILO Queue, which is basically a Stack. Data is inserted into Queue using put() function and get() takes data out from the Queue. \n",
    "\n",
    "There are various functions available in this module:\n",
    "* maxsize -- Number of items allowed in the queue\n",
    "* empty() -- Return True if the queue is empty, False otherwise. \n",
    "* full() -- Return True if there are maxsize items in the queue. If the queue was intialized with maxsize = 0(the default), the full() never returns True. \n",
    "* get() -- Remove and return an item from the queue. If queue is empty, wait until an item is available. \n",
    "* get_nowait() -- Return an item if one is immediately available, else raise QueueEmpty. \n",
    "* put(item) -- Put an item into the queue. If the queue is full, wait until a free slot is available before adding the item. \n",
    "* put_nowait(item) -- Put an item into the queue without blocking \n",
    "* qsize() -- Return the number of items in the queue. If no free slot is immediately available, raise QueueFull"
   ]
  },
  {
   "cell_type": "code",
   "execution_count": 9,
   "metadata": {},
   "outputs": [],
   "source": [
    "# Python program to demonstrate stack implementation using queue module \n",
    "\n",
    "from queue import LifoQueue \n",
    "\n",
    "# Initialize a stack \n",
    "stack = LifoQueue(maxsize = 3)"
   ]
  },
  {
   "cell_type": "code",
   "execution_count": 10,
   "metadata": {},
   "outputs": [
    {
     "name": "stdout",
     "output_type": "stream",
     "text": [
      "0\n"
     ]
    }
   ],
   "source": [
    "# qsize() give the maxsize of the stack \n",
    "print(stack.qsize())"
   ]
  },
  {
   "cell_type": "code",
   "execution_count": 11,
   "metadata": {},
   "outputs": [
    {
     "name": "stdout",
     "output_type": "stream",
     "text": [
      "Full:  True\n",
      "Size:  3\n"
     ]
    }
   ],
   "source": [
    "# put() function to push element in the stack\n",
    "\n",
    "stack.put('a')\n",
    "stack.put('b')\n",
    "stack.put('c')\n",
    "\n",
    "print('Full: ', stack.full())\n",
    "print('Size: ', stack.qsize())"
   ]
  },
  {
   "cell_type": "code",
   "execution_count": 12,
   "metadata": {},
   "outputs": [
    {
     "name": "stdout",
     "output_type": "stream",
     "text": [
      "\n",
      "Elements poped from the stack\n",
      "c\n",
      "b\n"
     ]
    }
   ],
   "source": [
    "# get() function to pop element from stack in Lifo order\n",
    "print('\\nElements poped from the stack')\n",
    "print(stack.get())\n",
    "print(stack.get())"
   ]
  },
  {
   "cell_type": "code",
   "execution_count": 13,
   "metadata": {},
   "outputs": [
    {
     "name": "stdout",
     "output_type": "stream",
     "text": [
      "\n",
      "IsEmpty:  False\n"
     ]
    }
   ],
   "source": [
    "print('\\nIsEmpty: ',stack.empty())"
   ]
  },
  {
   "cell_type": "code",
   "execution_count": 14,
   "metadata": {},
   "outputs": [
    {
     "name": "stdout",
     "output_type": "stream",
     "text": [
      "a\n"
     ]
    }
   ],
   "source": [
    "print(stack.get())"
   ]
  },
  {
   "cell_type": "code",
   "execution_count": 15,
   "metadata": {},
   "outputs": [
    {
     "name": "stdout",
     "output_type": "stream",
     "text": [
      "\n",
      "IsEmpty:  True\n"
     ]
    }
   ],
   "source": [
    "print('\\nIsEmpty: ',stack.empty())"
   ]
  },
  {
   "cell_type": "markdown",
   "metadata": {},
   "source": [
    "## Queue\n",
    "\n",
    "Like stack, queue is a linear data structure that stores items in First In First Out (FIFO) manner. With a queue the least recently added item is removed first. A good example of queue is any queue of consumers for a resource where the consuer that came first is served first. \n",
    "\n",
    "* Enqueue: Adds an item to the queue. If the queue is full, then it is said to be an Overflow condtion -- Time Complexity: O(1)\n",
    "* Dequeue: Removes an item from the queue. The items are popped in the same order in which they are pushed. If the queue is empty, then it is said to be an Underflow condition -- Time Compleixity: O(1)\n",
    "* Front: Get the front item from the queue -- Time Complexity: O(1)\n",
    "* Rear: Get the last item from the queue -- Time Complexity: O(1)"
   ]
  },
  {
   "cell_type": "markdown",
   "metadata": {},
   "source": [
    "### Implementation\n",
    "\n",
    "There are various ways to implement a queue in Python. This article covers the implementation of queue using data structures and modules from Python library. \n",
    "\n",
    "* list \n",
    "* collections.deque\n",
    "* queue.Queue"
   ]
  },
  {
   "cell_type": "markdown",
   "metadata": {},
   "source": [
    "#### Implementation using list \n",
    "\n",
    "List is a Python's built-in data structure that can be used as queue. Instead of enqueue() and dequeue(), append() and pop() function is used. However, lists are quite slow for this purpose because inserting or deleting an element at the begininng requires shifting all of the other elements by one, requiring O(n) time. "
   ]
  },
  {
   "cell_type": "code",
   "execution_count": 16,
   "metadata": {},
   "outputs": [
    {
     "name": "stdout",
     "output_type": "stream",
     "text": [
      "Initial queue\n",
      "['a', 'b', 'c']\n"
     ]
    }
   ],
   "source": [
    "# Python program to demonstrate queue implementation using list\n",
    "\n",
    "# Initializing a queue\n",
    "queue = []\n",
    "\n",
    "# Adding elements to the queue\n",
    "queue.append('a')\n",
    "queue.append('b')\n",
    "queue.append('c')\n",
    "\n",
    "print('Initial queue')\n",
    "print(queue)"
   ]
  },
  {
   "cell_type": "code",
   "execution_count": 17,
   "metadata": {},
   "outputs": [
    {
     "name": "stdout",
     "output_type": "stream",
     "text": [
      "\n",
      "Elements dequeued from queue\n",
      "a\n",
      "b\n",
      "c\n"
     ]
    }
   ],
   "source": [
    "# Removing elements from the queue \n",
    "print('\\nElements dequeued from queue')\n",
    "print(queue.pop(0))\n",
    "print(queue.pop(0))\n",
    "print(queue.pop(0))"
   ]
  },
  {
   "cell_type": "code",
   "execution_count": 18,
   "metadata": {},
   "outputs": [
    {
     "name": "stdout",
     "output_type": "stream",
     "text": [
      "\n",
      "Queue after removing elements\n",
      "[]\n"
     ]
    }
   ],
   "source": [
    "print('\\nQueue after removing elements')\n",
    "print(queue)"
   ]
  },
  {
   "cell_type": "code",
   "execution_count": 19,
   "metadata": {},
   "outputs": [],
   "source": [
    "queue.append('a')\n",
    "queue.append('b')\n",
    "queue.append('c')"
   ]
  },
  {
   "cell_type": "code",
   "execution_count": 20,
   "metadata": {},
   "outputs": [
    {
     "name": "stdout",
     "output_type": "stream",
     "text": [
      "b\n"
     ]
    }
   ],
   "source": [
    "print(queue.pop(1))"
   ]
  },
  {
   "cell_type": "code",
   "execution_count": 21,
   "metadata": {},
   "outputs": [
    {
     "name": "stdout",
     "output_type": "stream",
     "text": [
      "c\n"
     ]
    }
   ],
   "source": [
    "print(queue.pop(1))"
   ]
  },
  {
   "cell_type": "code",
   "execution_count": 22,
   "metadata": {},
   "outputs": [
    {
     "name": "stdout",
     "output_type": "stream",
     "text": [
      "['a']\n"
     ]
    }
   ],
   "source": [
    "print(queue)"
   ]
  },
  {
   "cell_type": "markdown",
   "metadata": {},
   "source": [
    "#### Implementation using collections.deque \n",
    "\n",
    "Queue in Python can be implemented using deque class from the collections module. Deque is preferred over list in the cases where we need quicker append and pop operations from both the ends of container, as deque provides an O(1) time complexity for append and pop operations compared to list which provides O(n) time complexity. Instead of enqueue and deque, append() and popleft() functions are used. "
   ]
  },
  {
   "cell_type": "code",
   "execution_count": 23,
   "metadata": {},
   "outputs": [
    {
     "name": "stdout",
     "output_type": "stream",
     "text": [
      "Initial queue\n",
      "deque(['a', 'b', 'c'])\n"
     ]
    }
   ],
   "source": [
    "# Python program to demonstrate queue implementation using collections.dequeue\n",
    "\n",
    "\n",
    "from collections import deque\n",
    "\n",
    "# Initializing a queue \n",
    "q = deque()\n",
    "\n",
    "# Adding elements to a queue \n",
    "q.append('a')\n",
    "q.append('b')\n",
    "q.append('c')\n",
    "\n",
    "print('Initial queue')\n",
    "print(q)"
   ]
  },
  {
   "cell_type": "code",
   "execution_count": 24,
   "metadata": {},
   "outputs": [
    {
     "name": "stdout",
     "output_type": "stream",
     "text": [
      "\n",
      "Elements dequeued from the queue\n",
      "a\n",
      "b\n",
      "c\n"
     ]
    }
   ],
   "source": [
    "# Removing elements from a queue \n",
    "print('\\nElements dequeued from the queue')\n",
    "print(q.popleft())\n",
    "print(q.popleft())\n",
    "print(q.popleft())"
   ]
  },
  {
   "cell_type": "code",
   "execution_count": 25,
   "metadata": {},
   "outputs": [
    {
     "name": "stdout",
     "output_type": "stream",
     "text": [
      "\n",
      "Queue after removing elements\n",
      "deque([])\n"
     ]
    }
   ],
   "source": [
    "print('\\nQueue after removing elements')\n",
    "print(q)"
   ]
  },
  {
   "cell_type": "markdown",
   "metadata": {},
   "source": [
    "#### Implementation using queue.Queue\n",
    "\n",
    "Queue is built-in module of Python which is used to implement a queue. queue.Queue(maxsize) initializes a variable to maximum size of maxsize. A maxsize of zero '0' means a infinite queue. This Queue follows FIFO rule. \n",
    "\n",
    "There are various functions available in this module:\n",
    "* maxsize -- Number of items allowed in the queue\n",
    "* empty() -- Return True if the queue is empty, False otherwise. \n",
    "* full() -- Return True if there are maxsize items in the queue. If the queue was initialized with maxsize=0 (the default), the full() never returns True\n",
    "* get() -- Remove and return an item from the queue. If an queue is empty, wait until an item is available. \n",
    "* get_nowait() -- Return an item if one is immediately available, else raise QueueEmpty. \n",
    "* put(item) -- Put an item into the queue. If the queue is full, wait until a free slot is available before adding the item. \n",
    "* put_nowait(item) -- Put an item into the queue without blocking\n",
    "* qsize() -- Return the number of items in the queue. If no free slot is immediately available, raise QueueFull. "
   ]
  },
  {
   "cell_type": "code",
   "execution_count": 26,
   "metadata": {},
   "outputs": [
    {
     "name": "stdout",
     "output_type": "stream",
     "text": [
      "0\n"
     ]
    }
   ],
   "source": [
    "# Python program to demonstrate implementation of queue using queue module \n",
    "\n",
    "from queue import Queue\n",
    "\n",
    "# Initializing a queue \n",
    "q = Queue(maxsize = 3)\n",
    "\n",
    "# qsize() give the maxisize of the Queue \n",
    "print(q.qsize())"
   ]
  },
  {
   "cell_type": "code",
   "execution_count": 27,
   "metadata": {},
   "outputs": [],
   "source": [
    "# Adding of element to queue \n",
    "q.put('a')\n",
    "q.put('b')\n",
    "q.put('c')"
   ]
  },
  {
   "cell_type": "code",
   "execution_count": 28,
   "metadata": {},
   "outputs": [
    {
     "name": "stdout",
     "output_type": "stream",
     "text": [
      "3\n"
     ]
    }
   ],
   "source": [
    "print(q.qsize())"
   ]
  },
  {
   "cell_type": "code",
   "execution_count": 29,
   "metadata": {},
   "outputs": [
    {
     "name": "stdout",
     "output_type": "stream",
     "text": [
      "\n",
      "Full:  True\n"
     ]
    }
   ],
   "source": [
    "print('\\nFull: ', q.full())"
   ]
  },
  {
   "cell_type": "code",
   "execution_count": 30,
   "metadata": {},
   "outputs": [
    {
     "name": "stdout",
     "output_type": "stream",
     "text": [
      "\n",
      "Elements dequeued from the queue\n",
      "a\n",
      "b\n",
      "c\n"
     ]
    }
   ],
   "source": [
    "# Removing elements from queue \n",
    "print(\"\\nElements dequeued from the queue\")\n",
    "print(q.get())\n",
    "print(q.get())\n",
    "print(q.get())"
   ]
  },
  {
   "cell_type": "code",
   "execution_count": 31,
   "metadata": {},
   "outputs": [
    {
     "name": "stdout",
     "output_type": "stream",
     "text": [
      "\n",
      "Empty:  True\n"
     ]
    }
   ],
   "source": [
    "# Return Boolean for Empty Queue \n",
    "print(\"\\nEmpty: \", q.empty())"
   ]
  },
  {
   "cell_type": "code",
   "execution_count": 32,
   "metadata": {},
   "outputs": [
    {
     "name": "stdout",
     "output_type": "stream",
     "text": [
      "\n",
      "Empty:  False\n"
     ]
    }
   ],
   "source": [
    "q.put(1)\n",
    "print(\"\\nEmpty: \", q.empty())"
   ]
  },
  {
   "cell_type": "code",
   "execution_count": 33,
   "metadata": {},
   "outputs": [
    {
     "name": "stdout",
     "output_type": "stream",
     "text": [
      "Full:  False\n"
     ]
    }
   ],
   "source": [
    "print(\"Full: \", q.full())"
   ]
  },
  {
   "cell_type": "code",
   "execution_count": null,
   "metadata": {},
   "outputs": [],
   "source": []
  }
 ],
 "metadata": {
  "kernelspec": {
   "display_name": "Python 3",
   "language": "python",
   "name": "python3"
  },
  "language_info": {
   "codemirror_mode": {
    "name": "ipython",
    "version": 3
   },
   "file_extension": ".py",
   "mimetype": "text/x-python",
   "name": "python",
   "nbconvert_exporter": "python",
   "pygments_lexer": "ipython3",
   "version": "3.7.4"
  }
 },
 "nbformat": 4,
 "nbformat_minor": 2
}
