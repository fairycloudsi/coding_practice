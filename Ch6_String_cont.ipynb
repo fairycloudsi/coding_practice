{
 "cells": [
  {
   "cell_type": "markdown",
   "metadata": {},
   "source": [
    "## 6.12 Find the first occurence of a substring \n",
    "\n",
    "Given two strings s(the 'search string') and t(the 'text'), find the frist occurence of s in t. \n",
    "\n",
    "**Sol:** The brute force solution uses two nested loops, the first iterates throuhg t, and second tests if s occurs starting at the current index in t. The worst case complexity is O(n^2). In general, it costs O(mn), where m is length of t and n is lenght of s. \n",
    "\n",
    "There are three linear time string matching algorithms: KMP, Boyer-Moore, and Rabin-Karp. Of these, Rabin-Karp is by far the simplest to understand and implement. "
   ]
  },
  {
   "cell_type": "code",
   "execution_count": 1,
   "metadata": {},
   "outputs": [],
   "source": [
    "import functools"
   ]
  },
  {
   "cell_type": "code",
   "execution_count": 7,
   "metadata": {},
   "outputs": [],
   "source": [
    "def rabin_karp(t: str, s:str)-> int:\n",
    "    if len(s) > len(t):\n",
    "        return -1 # s is not a substring of t \n",
    "    \n",
    "    base = 26\n",
    "    # Hash codes for the substring of t and s \n",
    "    t_hash = functools.reduce(lambda h, c: h*base+ord(c), t[:len(s)], 0)\n",
    "    s_hash = functools.reduce(lambda h, c: h*base+ord(c), s, 0)\n",
    "    power_s = base**max(len(s)- 1, 0) # base^|s-1|\n",
    "    \n",
    "    for i in range(len(s), len(t)):\n",
    "        # Check the two substrings are acutally equal or not, to protect \n",
    "        # against hash collision.\n",
    "        if t_hash == s_hash and t[i - len(s): i] == s:\n",
    "            return (i - len(s)) # Found a match \n",
    "        # Uses rolling hash to compute the hash code \n",
    "        t_hash -= ord(t[i - len(s)])*power_s\n",
    "        t_hash = t_hash * base + ord(t[i])\n",
    "        \n",
    "    # Tries to match s and t[-len(s):]\n",
    "    if t_hash == s_hash and t[-len(s):] == s:\n",
    "        return len(t) - len(s)\n",
    "    return -1 # s is not a substring of t"
   ]
  },
  {
   "cell_type": "code",
   "execution_count": 10,
   "metadata": {},
   "outputs": [
    {
     "data": {
      "text/plain": [
       "3"
      ]
     },
     "execution_count": 10,
     "metadata": {},
     "output_type": "execute_result"
    }
   ],
   "source": [
    "t = 'dnsmdnsndjeicnfjeigndj'\n",
    "s = 'mdn'\n",
    "rabin_karp(t,s)"
   ]
  },
  {
   "cell_type": "markdown",
   "metadata": {},
   "source": [
    "## 6.11 Implement run-length encoding (RLE)\n",
    "\n",
    "Implement run-length encoding and decoding functions. Assume the string to be encoded consists of letters of the alphabet, with no digits, and the string to be decoded in a valid encoding. "
   ]
  },
  {
   "cell_type": "code",
   "execution_count": 11,
   "metadata": {},
   "outputs": [
    {
     "name": "stdout",
     "output_type": "stream",
     "text": [
      "0\n",
      "2\n",
      "4\n"
     ]
    }
   ],
   "source": [
    "for i in range(0,5,2):\n",
    "    print(i)"
   ]
  },
  {
   "cell_type": "code",
   "execution_count": 12,
   "metadata": {},
   "outputs": [],
   "source": [
    "def decoding(s: str)-> str:\n",
    "    count, result = 0, []\n",
    "    \n",
    "    for c in s:\n",
    "        if c.isdigit():\n",
    "            count = count*10 + int(c)\n",
    "        else: # c is a letter of alphabet\n",
    "            result.append(c * count) # Appends count copies of c to result \n",
    "            count = 0\n",
    "    return ''.join(result)       \n",
    "        "
   ]
  },
  {
   "cell_type": "code",
   "execution_count": 13,
   "metadata": {},
   "outputs": [
    {
     "data": {
      "text/plain": [
       "'eeeeeeeeeeeeeeeeeccccccccclllll'"
      ]
     },
     "execution_count": 13,
     "metadata": {},
     "output_type": "execute_result"
    }
   ],
   "source": [
    "s = '17e9c5l'\n",
    "decoding(s)"
   ]
  },
  {
   "cell_type": "code",
   "execution_count": 28,
   "metadata": {},
   "outputs": [],
   "source": [
    "def encoding(s: str) -> str:\n",
    "    count, result = 1, []\n",
    "    \n",
    "    for i in range(1,len(s)+1):\n",
    "        if i == len(s):\n",
    "            result.append(str(count))\n",
    "            result.append(s[i-1])\n",
    "            count = 1\n",
    "        elif s[i] == s[i-1]:\n",
    "            count += 1\n",
    "        else:\n",
    "            result.append(str(count))\n",
    "            result.append(s[i-1])\n",
    "            count = 1\n",
    "    return ''.join(result)"
   ]
  },
  {
   "cell_type": "code",
   "execution_count": 29,
   "metadata": {},
   "outputs": [
    {
     "data": {
      "text/plain": [
       "'5j2i2j3e2d3e'"
      ]
     },
     "execution_count": 29,
     "metadata": {},
     "output_type": "execute_result"
    }
   ],
   "source": [
    "s = 'jjjjjiijjeeeddeee'\n",
    "encoding(s)"
   ]
  },
  {
   "cell_type": "markdown",
   "metadata": {},
   "source": [
    "The time complexity is O(n), where n is the length of the string. "
   ]
  },
  {
   "cell_type": "markdown",
   "metadata": {},
   "source": [
    "## 6.10 Write a string sinusoidally\n",
    "\n",
    "Define the snakestring of s to be the left-right top-to-bottom sequence in which characters appear when s is written in sinusoidal fasion. For example, the snakestring string for \"Hello World!\" is \"e LHL0Wrdlo!\". \n",
    "\n",
    "Oberseve that the result begins with the characters s[1], s[5], s[9], ..., followed by s[0], s[2], s[4], ...., and then s[3], s[7], s[11], .... Therefore, we can create the snakestring directly with three itrations through s.  "
   ]
  },
  {
   "cell_type": "code",
   "execution_count": null,
   "metadata": {},
   "outputs": [],
   "source": [
    "def snake_string(s: str) -> str:\n",
    "    result = []\n",
    "    # Outputs the first row, i.e. s[1] s[5] s[9]...\n",
    "    for i in range(1, len(s), 4):\n",
    "        result.append(s[i])\n",
    "    # Outputs the second row, i.e. s[0], s[2], s[]"
   ]
  }
 ],
 "metadata": {
  "kernelspec": {
   "display_name": "Python 3",
   "language": "python",
   "name": "python3"
  },
  "language_info": {
   "codemirror_mode": {
    "name": "ipython",
    "version": 3
   },
   "file_extension": ".py",
   "mimetype": "text/x-python",
   "name": "python",
   "nbconvert_exporter": "python",
   "pygments_lexer": "ipython3",
   "version": "3.6.8"
  }
 },
 "nbformat": 4,
 "nbformat_minor": 2
}
