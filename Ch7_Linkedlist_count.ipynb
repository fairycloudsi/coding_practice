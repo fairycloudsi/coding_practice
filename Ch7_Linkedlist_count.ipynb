{
 "cells": [
  {
   "cell_type": "code",
   "execution_count": 4,
   "metadata": {},
   "outputs": [],
   "source": [
    "class ListNode:\n",
    "    def __init__(self, data = 0, next = None):\n",
    "        self.data = data\n",
    "        self.next = next "
   ]
  },
  {
   "cell_type": "code",
   "execution_count": 5,
   "metadata": {},
   "outputs": [],
   "source": [
    "def search_list(L: ListNode, key: int) -> ListNode:\n",
    "    while L and L.data != key:\n",
    "        L = L.next \n",
    "    # If key was not present in the list, L will have become null. \n",
    "    return L"
   ]
  },
  {
   "cell_type": "code",
   "execution_count": 6,
   "metadata": {},
   "outputs": [],
   "source": [
    "def insert_after(node: ListNode, new_node: ListNode) -> None:\n",
    "    new_node.next = node.next \n",
    "    node.next = new_node"
   ]
  },
  {
   "cell_type": "markdown",
   "metadata": {},
   "source": [
    "## 7.3 Test for Cyclicity \n",
    "\n",
    "Write a program that takes the head of a singly linked list and returns null if there does not exist a cycle, and the node at the start of the cycle, if a cycle is present. (You do not know the length of the list in advance.)"
   ]
  },
  {
   "cell_type": "code",
   "execution_count": 49,
   "metadata": {},
   "outputs": [],
   "source": [
    "def has_cycle(head: ListNode) -> ListNode:\n",
    "    def cycle_len(end):\n",
    "        start, step = end, 0\n",
    "        while True:\n",
    "            step += 1\n",
    "            start = start.next \n",
    "            if start is end:\n",
    "                return step\n",
    "    \n",
    "    fast = slow = head \n",
    "    while fast and fast.next and fast.next.next:\n",
    "        slow, fast = slow.next, fast.next.next \n",
    "        if slow is fast:\n",
    "            # Finds the start of the cycle\n",
    "            cycle_len_advanced_iter = head \n",
    "            for _ in range(cycle_len(slow)):\n",
    "                cycle_len_advanced_iter = cycle_len_advanced_iter.next \n",
    "                \n",
    "            it = head\n",
    "            # Both iterators advance in tandem.\n",
    "            while it is not cycle_len_advanced_iter:\n",
    "                it = it.next\n",
    "                cycle_len_advanced_iter = cycle_len_advanced_iter.next\n",
    "            print(it.data)\n",
    "            return it # iter is the start of cyccle \n",
    "    return None # No cycle "
   ]
  },
  {
   "cell_type": "code",
   "execution_count": 50,
   "metadata": {},
   "outputs": [],
   "source": [
    "del node1"
   ]
  },
  {
   "cell_type": "code",
   "execution_count": 51,
   "metadata": {},
   "outputs": [],
   "source": [
    "node1 = ListNode(1)\n",
    "node2 = ListNode(33)\n",
    "node3 = ListNode(2734)\n",
    "node4 = ListNode(5)\n",
    "node5 = ListNode(7)\n",
    "node6 = ListNode(10)\n",
    "node7 = ListNode(37)\n",
    "node8 = ListNode(99)\n",
    "node9 = ListNode(32)\n",
    "node10 = ListNode(45)"
   ]
  },
  {
   "cell_type": "code",
   "execution_count": 52,
   "metadata": {},
   "outputs": [],
   "source": [
    "node1.next = node2\n",
    "node2.next = node3\n",
    "node3.next = node4\n",
    "node4.next = node5\n",
    "node5.next = node6\n",
    "node6.next = node7\n",
    "node7.next = node8\n",
    "#node8.next = node2"
   ]
  },
  {
   "cell_type": "code",
   "execution_count": 15,
   "metadata": {},
   "outputs": [],
   "source": [
    "def print_ListNode(L:ListNode) -> None:\n",
    "    while L:\n",
    "        print(L.data)\n",
    "        L = L.next"
   ]
  },
  {
   "cell_type": "code",
   "execution_count": 61,
   "metadata": {},
   "outputs": [],
   "source": [
    "def print_ListNode_cycle(L: ListNode) -> None: \n",
    "    def cycle_len(end):\n",
    "        start, step = end, 0\n",
    "        while True:\n",
    "            step += 1\n",
    "            start = start.next \n",
    "            if start is end:\n",
    "                return step\n",
    "    fast = slow = L\n",
    "    while fast and fast.next and fast.next.next:\n",
    "        fast = fast.next.next\n",
    "        slow = slow.next \n",
    "        if fast == slow:\n",
    "            print(fast.data)\n",
    "            print(slow.data)\n",
    "            print('the cycle is of lenght '+ str(cycle_len(slow)))\n",
    "            for _ in range(cycle_len(slow)):\n",
    "                print(slow.data)\n",
    "                slow =slow.next \n",
    "            break\n",
    "    "
   ]
  },
  {
   "cell_type": "code",
   "execution_count": 53,
   "metadata": {},
   "outputs": [
    {
     "name": "stdout",
     "output_type": "stream",
     "text": [
      "1\n",
      "33\n",
      "2734\n",
      "5\n",
      "7\n",
      "10\n",
      "37\n",
      "99\n"
     ]
    }
   ],
   "source": [
    "print_ListNode(node1)"
   ]
  },
  {
   "cell_type": "code",
   "execution_count": 54,
   "metadata": {},
   "outputs": [],
   "source": [
    "node8.next = node2"
   ]
  },
  {
   "cell_type": "code",
   "execution_count": 62,
   "metadata": {},
   "outputs": [
    {
     "name": "stdout",
     "output_type": "stream",
     "text": [
      "99\n",
      "99\n",
      "the cycle is of lenght 7\n",
      "99\n",
      "33\n",
      "2734\n",
      "5\n",
      "7\n",
      "10\n",
      "37\n"
     ]
    }
   ],
   "source": [
    "print_ListNode_cycle(node1)"
   ]
  },
  {
   "cell_type": "code",
   "execution_count": 55,
   "metadata": {},
   "outputs": [
    {
     "name": "stdout",
     "output_type": "stream",
     "text": [
      "33\n"
     ]
    }
   ],
   "source": [
    "L = has_cycle(node1)\n"
   ]
  },
  {
   "cell_type": "markdown",
   "metadata": {},
   "source": [
    "Let F be the number of nodes to the start of the cycle, C the number of nodes on the cycle, and n the total number of nodes. The time complexity is O(F) + O(C) = O(n) - O(F) for both pointers to reach the cycle, and O(C) for them to overlap once the slower one enters the cycle. "
   ]
  },
  {
   "cell_type": "code",
   "execution_count": 64,
   "metadata": {},
   "outputs": [],
   "source": [
    "def has_cycle_2(head: ListNode) -> ListNode:\n",
    "    fast = slow = head\n",
    "    while fast and fast.next and fast.next.next:\n",
    "        slow, fast = slow.next, fast.next.next\n",
    "        if slow is fast: # find the cycle \n",
    "            # Tries find the start of the cycle\n",
    "            slow = head \n",
    "            # Both pointers advance at the same time.\n",
    "            while slow is not fast:\n",
    "                slow, fast = slow.next, fast.next\n",
    "            print(slow.data)\n",
    "            return slow # slow is the start of cycle \n",
    "    return None # no cycle "
   ]
  },
  {
   "cell_type": "code",
   "execution_count": 65,
   "metadata": {},
   "outputs": [
    {
     "name": "stdout",
     "output_type": "stream",
     "text": [
      "33\n"
     ]
    },
    {
     "data": {
      "text/plain": [
       "<__main__.ListNode at 0x10f4cfac8>"
      ]
     },
     "execution_count": 65,
     "metadata": {},
     "output_type": "execute_result"
    }
   ],
   "source": [
    "has_cycle_2(node1)"
   ]
  },
  {
   "cell_type": "markdown",
   "metadata": {},
   "source": [
    "## 7.5 Test for Overlapping Lists -- Lists may have circles \n",
    "\n",
    "Use case analysis. If neither list is cyclic, the problem can be solved via solution 7.4. If one list is cyclic, and the other is not, they cannot overlap, so we are done. This leaves us with the case that both lists are cyclic. In this case, if they overlap, the cycles must be identical. The algorithm in Sol 7.3 for testing whether a list ends in a cycle returns the first node in the cycle. Therefore, to determine whether two cyclic lists overlap, we perform a single traversal of the cycle of the first list. If we see the starting node of the cycle of the second list, there is an overlap, we can return any node. If we complete the traversal without seeing the node at the start of the cycle of the second list, there cannot by any overlap. "
   ]
  },
  {
   "cell_type": "code",
   "execution_count": 68,
   "metadata": {},
   "outputs": [],
   "source": [
    "def overlapping_no_cycle_lists(l0: ListNode, l1: ListNode) -> ListNode:\n",
    "    def length(L):\n",
    "        length = 0\n",
    "        while L:\n",
    "            length += 1\n",
    "            L = L.next \n",
    "        return length\n",
    "    \n",
    "    l0_len, l1_len = length(l0), length(l1)\n",
    "    if l0_len > l1_len:\n",
    "        l0, l1 = l1, lo # make l1 the longer list \n",
    "    #Advances the longer list to get equal length lists \n",
    "    for _ in range(abs(l0_len - l1_len)):\n",
    "        l1 = l1.next \n",
    "    \n",
    "    while l0 and l1 and l0 is not l1:\n",
    "        l0, l1 = l0.next, l1.next \n",
    "        \n",
    "    return l0 # None implies there is no overlap between l0 and l1 "
   ]
  },
  {
   "cell_type": "code",
   "execution_count": 69,
   "metadata": {},
   "outputs": [],
   "source": [
    "def overlapping_cycle_lists(l0: ListNode, l1: ListNode) -> ListNode:\n",
    "    root1 = has_cycle(l0)\n",
    "    root2 = has_cycle(l1)\n",
    "    if not root1 and not root2:\n",
    "        return overlapping_no_cycle_lists(l0, l1)\n",
    "    elif (not root1 and root2) or (not root2 and root1):\n",
    "        return None # one has cycle and one not, no overlap\n",
    "    else:\n",
    "        # Both lists have cycle \n",
    "        temp = root2\n",
    "        while temp:\n",
    "            if temp is root1 or temp is root2:\n",
    "                break\n",
    "        return root2 if temp is root1 else None"
   ]
  },
  {
   "cell_type": "code",
   "execution_count": 70,
   "metadata": {},
   "outputs": [],
   "source": [
    "del node1\n",
    "node1 = ListNode(1)\n",
    "node2 = ListNode(33)\n",
    "node3 = ListNode(2734)\n",
    "node4 = ListNode(5)\n",
    "node5 = ListNode(7)\n",
    "node6 = ListNode(10)\n",
    "node7 = ListNode(37)\n",
    "node8 = ListNode(99)\n",
    "node9 = ListNode(32)\n",
    "node10 = ListNode(45)"
   ]
  },
  {
   "cell_type": "code",
   "execution_count": 73,
   "metadata": {},
   "outputs": [
    {
     "name": "stdout",
     "output_type": "stream",
     "text": [
      "33\n"
     ]
    }
   ],
   "source": [
    "print_ListNode(node2)"
   ]
  },
  {
   "cell_type": "code",
   "execution_count": 74,
   "metadata": {},
   "outputs": [],
   "source": [
    "node1.next = node2\n",
    "node2.next = node3\n",
    "node3.next = node4\n",
    "node4.next = node5\n",
    "node5.next = node6\n",
    "node6.next = node7\n",
    "node7.next = node8\n",
    "node8.next = node2"
   ]
  },
  {
   "cell_type": "code",
   "execution_count": 75,
   "metadata": {},
   "outputs": [
    {
     "name": "stdout",
     "output_type": "stream",
     "text": [
      "99\n",
      "99\n",
      "the cycle is of lenght 7\n",
      "99\n",
      "33\n",
      "2734\n",
      "5\n",
      "7\n",
      "10\n",
      "37\n"
     ]
    }
   ],
   "source": [
    "print_ListNode_cycle(node1)"
   ]
  },
  {
   "cell_type": "code",
   "execution_count": 76,
   "metadata": {},
   "outputs": [],
   "source": [
    "node9.next = node2"
   ]
  },
  {
   "cell_type": "code",
   "execution_count": 77,
   "metadata": {},
   "outputs": [
    {
     "name": "stdout",
     "output_type": "stream",
     "text": [
      "99\n",
      "99\n",
      "the cycle is of lenght 7\n",
      "99\n",
      "33\n",
      "2734\n",
      "5\n",
      "7\n",
      "10\n",
      "37\n"
     ]
    }
   ],
   "source": [
    "print_ListNode_cycle(node9)"
   ]
  },
  {
   "cell_type": "code",
   "execution_count": 84,
   "metadata": {},
   "outputs": [
    {
     "name": "stdout",
     "output_type": "stream",
     "text": [
      "2734\n",
      "33\n"
     ]
    }
   ],
   "source": [
    "L = overlapping_cycle_lists(node3,node9)"
   ]
  },
  {
   "cell_type": "code",
   "execution_count": 83,
   "metadata": {},
   "outputs": [
    {
     "name": "stdout",
     "output_type": "stream",
     "text": [
      "99\n",
      "99\n",
      "the cycle is of lenght 7\n",
      "99\n",
      "33\n",
      "2734\n",
      "5\n",
      "7\n",
      "10\n",
      "37\n"
     ]
    }
   ],
   "source": [
    "print_ListNode_cycle(node9)"
   ]
  },
  {
   "cell_type": "code",
   "execution_count": 85,
   "metadata": {},
   "outputs": [],
   "source": [
    "print_ListNode_cycle(L)"
   ]
  },
  {
   "cell_type": "markdown",
   "metadata": {},
   "source": [
    "The algorithm has time complexity O(n), where n is the total number of nodes in the two input lists, and space complexity is O(1). "
   ]
  },
  {
   "cell_type": "markdown",
   "metadata": {},
   "source": [
    "## 7.8 Remove Duplicates from a Sorted List \n",
    "\n",
    "Write a program that takes as input a singly linked list of integers in sorted order, and remove dupliates from it. The list should be sorted. "
   ]
  },
  {
   "cell_type": "code",
   "execution_count": 32,
   "metadata": {},
   "outputs": [],
   "source": [
    "def remove_duplicates(L: ListNode) -> ListNode:\n",
    "    it = L\n",
    "    while it: \n",
    "        next_distinct = it.next\n",
    "        while next_distinct and next_distinct.data == it.data:\n",
    "            next_distinct = next_distinct.next\n",
    "        it.next = next_distinct\n",
    "        it = next_distinct\n",
    "    return L"
   ]
  },
  {
   "cell_type": "code",
   "execution_count": 107,
   "metadata": {},
   "outputs": [],
   "source": [
    "del node1"
   ]
  },
  {
   "cell_type": "code",
   "execution_count": 108,
   "metadata": {},
   "outputs": [],
   "source": [
    "node1 = ListNode(1)\n",
    "node2 = ListNode(33)\n",
    "node3 = ListNode(33)\n",
    "node4 = ListNode(5)\n",
    "node5 = ListNode(7)\n",
    "node6 = ListNode(7)\n",
    "node7 = ListNode(7)\n",
    "node8 = ListNode(99)\n",
    "node9 = ListNode(99)\n",
    "node10 = ListNode(99)"
   ]
  },
  {
   "cell_type": "code",
   "execution_count": 109,
   "metadata": {},
   "outputs": [],
   "source": [
    "node1.next = node2\n",
    "node2.next = node3\n",
    "node3.next = node4\n",
    "node4.next = node5\n",
    "node5.next = node6\n",
    "node6.next = node7\n",
    "node7.next = node8\n",
    "node8.next = node9\n",
    "node9.next = node10"
   ]
  },
  {
   "cell_type": "code",
   "execution_count": 110,
   "metadata": {},
   "outputs": [
    {
     "name": "stdout",
     "output_type": "stream",
     "text": [
      "1\n",
      "33\n",
      "33\n",
      "5\n",
      "7\n",
      "7\n",
      "7\n",
      "99\n",
      "99\n",
      "99\n"
     ]
    }
   ],
   "source": [
    "print_ListNode(node1)"
   ]
  },
  {
   "cell_type": "code",
   "execution_count": 36,
   "metadata": {},
   "outputs": [],
   "source": [
    "L2 = remove_duplicates(node1)"
   ]
  },
  {
   "cell_type": "code",
   "execution_count": 37,
   "metadata": {},
   "outputs": [
    {
     "name": "stdout",
     "output_type": "stream",
     "text": [
      "1\n",
      "33\n",
      "5\n",
      "7\n",
      "99\n"
     ]
    }
   ],
   "source": [
    "print_ListNode(L2)"
   ]
  },
  {
   "cell_type": "markdown",
   "metadata": {},
   "source": [
    "Determining the time complexity requires a little amortized analysis. A single node may take more than O(1) time to process if there are many successive nodes with the same value. A clearer justification for the time complexity is that each link is traversed oncem so the time complexity is O(n). The space complexity is O(1). "
   ]
  },
  {
   "cell_type": "markdown",
   "metadata": {},
   "source": [
    "**Variant:** Let me be a positive integer and L a sorted singly linked list of integers. For each integer k, if k appears more than m times in L, remove all nodes from L containing k. "
   ]
  },
  {
   "cell_type": "code",
   "execution_count": 92,
   "metadata": {},
   "outputs": [],
   "source": [
    "def remove_duplicates_morethank(L: ListNode, k: int) -> ListNode:\n",
    "    it = L\n",
    "    while it: \n",
    "        count = 1 \n",
    "        next_distinct = it.next\n",
    "        while next_distinct and next_distinct.data == it.data:\n",
    "            next_distinct = next_distinct.next\n",
    "            count += 1\n",
    "        if count >= k: \n",
    "            it.next = next_distinct\n",
    "        it = next_distinct\n",
    "    return L"
   ]
  },
  {
   "cell_type": "code",
   "execution_count": 93,
   "metadata": {},
   "outputs": [],
   "source": [
    "L3 = remove_duplicates_morethank(node1,3)"
   ]
  },
  {
   "cell_type": "code",
   "execution_count": 94,
   "metadata": {},
   "outputs": [
    {
     "name": "stdout",
     "output_type": "stream",
     "text": [
      "1\n"
     ]
    }
   ],
   "source": [
    "print_ListNode(L3)"
   ]
  },
  {
   "cell_type": "markdown",
   "metadata": {},
   "source": [
    "## 7.9 Implement Cyclic Right Shift for Singly Linked Lists \n",
    "\n",
    "This problem is concerned with performing a cyclic right shift on a list. \n",
    "\n",
    "Write a program that takes as input a singly linked list and a nonnegative integer k, and returns the list cyclically shifted to the right by k. "
   ]
  },
  {
   "cell_type": "code",
   "execution_count": 53,
   "metadata": {},
   "outputs": [],
   "source": [
    "def cyclically_right_shift_list(L: ListNode, k: int) -> ListNode:\n",
    "        if L == None:\n",
    "            return L\n",
    "        # Compute the length of L\n",
    "        tail, n = L, 1\n",
    "        while tail.next:\n",
    "            n += 1\n",
    "            tail = tail.next \n",
    "        \n",
    "        k %=n\n",
    "        if k == 0:\n",
    "            return L\n",
    "        else:\n",
    "            tail.next = L # make the list a cycle \n",
    "            stop_to_new_head, new_tail = n-k, tail\n",
    "            for _ in range(stop_to_new_head):\n",
    "                new_tail = new_tail.next \n",
    "            \n",
    "            L = new_tail.next \n",
    "            new_tail.next = None # Cut into new list \n",
    "            return L"
   ]
  },
  {
   "cell_type": "code",
   "execution_count": 63,
   "metadata": {},
   "outputs": [
    {
     "name": "stdout",
     "output_type": "stream",
     "text": [
      "99\n",
      "99\n",
      "99\n",
      "33\n",
      "33\n",
      "5\n",
      "7\n",
      "7\n",
      "7\n"
     ]
    }
   ],
   "source": [
    "L2 = cyclically_right_shift_list(node2,3)\n",
    "print_ListNode(L2)"
   ]
  },
  {
   "cell_type": "code",
   "execution_count": 55,
   "metadata": {},
   "outputs": [],
   "source": [
    "def length_LinkedList(L: ListNode) -> int:\n",
    "        tail, n = L, 1\n",
    "        while tail.next:\n",
    "            n += 1\n",
    "            tail = tail.next \n",
    "        print_ListNode(tail)\n",
    "        return n"
   ]
  },
  {
   "cell_type": "code",
   "execution_count": 60,
   "metadata": {},
   "outputs": [],
   "source": [
    "node2.next = node3\n",
    "node3.next = node4\n",
    "node4.next = node5\n",
    "node5.next = node6\n",
    "node6.next = node7\n",
    "node7.next = node8\n",
    "node8.next = node9\n",
    "node9.next = node10"
   ]
  },
  {
   "cell_type": "code",
   "execution_count": 61,
   "metadata": {},
   "outputs": [
    {
     "name": "stdout",
     "output_type": "stream",
     "text": [
      "33\n",
      "33\n",
      "5\n",
      "7\n",
      "7\n",
      "7\n",
      "99\n",
      "99\n",
      "99\n"
     ]
    }
   ],
   "source": [
    "print_ListNode(node2)"
   ]
  },
  {
   "cell_type": "code",
   "execution_count": 62,
   "metadata": {},
   "outputs": [
    {
     "name": "stdout",
     "output_type": "stream",
     "text": [
      "99\n"
     ]
    },
    {
     "data": {
      "text/plain": [
       "9"
      ]
     },
     "execution_count": 62,
     "metadata": {},
     "output_type": "execute_result"
    }
   ],
   "source": [
    "length_LinkedList(node2)"
   ]
  },
  {
   "cell_type": "markdown",
   "metadata": {},
   "source": [
    "The time complexity is O(n), and the space complexity is O(1). "
   ]
  },
  {
   "cell_type": "markdown",
   "metadata": {},
   "source": [
    "## 7.10 Implement Even-odd Merge\n",
    "\n",
    "Consider a singly linked list whose nodes are numbered starting at 0. Define the even-odd merge of the list to be the list consisting of the even-numbered nodes followed by the odd-numbered nodes. \n",
    "\n",
    "**Sol:** We can avoid the extra space by reusing ghe existing list nodes. We do this by iterating through the list, anda appending even elements to one list and odd elements to another list. We use an indicator variable to tell us which list to append to. Finally, we append the odd list to the even list. "
   ]
  },
  {
   "cell_type": "code",
   "execution_count": 71,
   "metadata": {},
   "outputs": [],
   "source": [
    "def even_odd_merge(L: ListNode) -> ListNode:\n",
    "    if L is None:\n",
    "        return L\n",
    "    even_dummy_head, odd_dummy_head = ListNode(0), ListNode(0)\n",
    "    tail, turn = [even_dummy_head, odd_dummy_head], 0\n",
    "    while L.next:\n",
    "        tail[turn].next = L\n",
    "        L = L.next \n",
    "        tail[turn] = tail[turn].next\n",
    "        turn ^= 1 # Alternate between even and odd\n",
    "    tail[1].next = None\n",
    "    tail[0].next = odd_dummy_head.next\n",
    "    return even_dummy_head.next \n",
    "    "
   ]
  },
  {
   "cell_type": "code",
   "execution_count": 64,
   "metadata": {},
   "outputs": [
    {
     "data": {
      "text/plain": [
       "1"
      ]
     },
     "execution_count": 64,
     "metadata": {},
     "output_type": "execute_result"
    }
   ],
   "source": [
    "0^1"
   ]
  },
  {
   "cell_type": "code",
   "execution_count": 66,
   "metadata": {},
   "outputs": [
    {
     "data": {
      "text/plain": [
       "0"
      ]
     },
     "execution_count": 66,
     "metadata": {},
     "output_type": "execute_result"
    }
   ],
   "source": [
    "1^1"
   ]
  },
  {
   "cell_type": "code",
   "execution_count": 74,
   "metadata": {},
   "outputs": [],
   "source": [
    "node1 = ListNode(111)\n",
    "node1.next = node2"
   ]
  },
  {
   "cell_type": "code",
   "execution_count": 82,
   "metadata": {},
   "outputs": [
    {
     "name": "stdout",
     "output_type": "stream",
     "text": [
      "1\n",
      "33\n",
      "33\n",
      "5\n",
      "7\n",
      "7\n",
      "7\n",
      "99\n",
      "99\n",
      "99\n"
     ]
    }
   ],
   "source": [
    "print_ListNode(node1)"
   ]
  },
  {
   "cell_type": "code",
   "execution_count": 97,
   "metadata": {},
   "outputs": [],
   "source": [
    "L4 = even_odd_merge(node1)"
   ]
  },
  {
   "cell_type": "code",
   "execution_count": 98,
   "metadata": {},
   "outputs": [],
   "source": [
    "print_ListNode(L4)"
   ]
  },
  {
   "cell_type": "markdown",
   "metadata": {},
   "source": [
    "The time complexity is O(n) and space complexity is O(1). "
   ]
  },
  {
   "cell_type": "markdown",
   "metadata": {},
   "source": [
    "## 7.11 Test Whether a Singly Linked List is Palindromic \n",
    "\n",
    "Getting the first node in a singly linked list is O(1) time operation. This suggests paying a one-time cost of O(n) time complexity to get the reverse of the second half of the original list, after which testing palindromicity of the original list reduces to testing if the first half and the reversed second half are equal. This approach changes the list passed in, but the reversed sublist can be reversed agian to restor the original list. "
   ]
  },
  {
   "cell_type": "code",
   "execution_count": 167,
   "metadata": {},
   "outputs": [],
   "source": [
    "def reverse_LinkedList(L: ListNode) -> ListNode:\n",
    "    it1 = None\n",
    "    head = L\n",
    "    it2 = L.next\n",
    "    while it2:\n",
    "        head.next = it1\n",
    "#         print('head after one iteration')\n",
    "#         print_ListNode(head)\n",
    "        head, it2, it1 = it2, it2.next, head\n",
    "    #deal with last node\n",
    "    head.next = it1\n",
    "    return head \n",
    "        "
   ]
  },
  {
   "cell_type": "code",
   "execution_count": 153,
   "metadata": {},
   "outputs": [],
   "source": [
    "del node1"
   ]
  },
  {
   "cell_type": "code",
   "execution_count": 154,
   "metadata": {},
   "outputs": [],
   "source": [
    "node1 = ListNode(1)\n",
    "node2 = ListNode(33)\n",
    "node3 = ListNode(33)\n",
    "node4 = ListNode(5)\n",
    "node5 = ListNode(7)\n",
    "node6 = ListNode(7)\n",
    "node7 = ListNode(7)\n",
    "node8 = ListNode(99)\n",
    "node9 = ListNode(99)\n",
    "node10 = ListNode(99)"
   ]
  },
  {
   "cell_type": "code",
   "execution_count": 155,
   "metadata": {},
   "outputs": [],
   "source": [
    "node1.next = node2\n",
    "node2.next = node3\n",
    "node3.next = node4\n",
    "node4.next = node5\n",
    "node5.next = node6\n",
    "node6.next = node7\n",
    "node7.next = node8\n",
    "node8.next = node9\n",
    "node9.next = node10"
   ]
  },
  {
   "cell_type": "code",
   "execution_count": 156,
   "metadata": {},
   "outputs": [
    {
     "name": "stdout",
     "output_type": "stream",
     "text": [
      "1\n",
      "33\n",
      "33\n",
      "5\n",
      "7\n",
      "7\n",
      "7\n",
      "99\n",
      "99\n",
      "99\n"
     ]
    }
   ],
   "source": [
    "print_ListNode(node1)"
   ]
  },
  {
   "cell_type": "code",
   "execution_count": 157,
   "metadata": {},
   "outputs": [
    {
     "name": "stdout",
     "output_type": "stream",
     "text": [
      "head after one iteration\n",
      "1\n",
      "head after one iteration\n",
      "33\n",
      "1\n",
      "head after one iteration\n",
      "33\n",
      "33\n",
      "1\n",
      "head after one iteration\n",
      "5\n",
      "33\n",
      "33\n",
      "1\n",
      "head after one iteration\n",
      "7\n",
      "5\n",
      "33\n",
      "33\n",
      "1\n",
      "head after one iteration\n",
      "7\n",
      "7\n",
      "5\n",
      "33\n",
      "33\n",
      "1\n",
      "head after one iteration\n",
      "7\n",
      "7\n",
      "7\n",
      "5\n",
      "33\n",
      "33\n",
      "1\n",
      "head after one iteration\n",
      "99\n",
      "7\n",
      "7\n",
      "7\n",
      "5\n",
      "33\n",
      "33\n",
      "1\n",
      "head after one iteration\n",
      "99\n",
      "99\n",
      "7\n",
      "7\n",
      "7\n",
      "5\n",
      "33\n",
      "33\n",
      "1\n"
     ]
    }
   ],
   "source": [
    "L5 = reverse_LinkedList(node1)"
   ]
  },
  {
   "cell_type": "code",
   "execution_count": 158,
   "metadata": {},
   "outputs": [
    {
     "name": "stdout",
     "output_type": "stream",
     "text": [
      "99\n",
      "99\n",
      "99\n",
      "7\n",
      "7\n",
      "7\n",
      "5\n",
      "33\n",
      "33\n",
      "1\n"
     ]
    }
   ],
   "source": [
    "print_ListNode(L5)"
   ]
  },
  {
   "cell_type": "markdown",
   "metadata": {},
   "source": [
    "Time complexity is O(n) and space complexity is O(1). "
   ]
  },
  {
   "cell_type": "code",
   "execution_count": 175,
   "metadata": {},
   "outputs": [],
   "source": [
    "def is_linked_list_a_palindrome(L: ListNode) -> bool:\n",
    "    # Finds the second half of L.\n",
    "    slow = fast = L\n",
    "    while fast and fast.next:\n",
    "        fast, slow = fast.next.next, slow.next\n",
    "    \n",
    "    # Compares the first half and the reversed second half lists. \n",
    "    first_half_iter, second_half_iter = L, reverse_LinkedList(slow)\n",
    "    print('first half iter')\n",
    "    print_ListNode(first_half_iter)\n",
    "    print('second half iter')\n",
    "    print_ListNode(second_half_iter)\n",
    "    while second_half_iter and first_half_iter:\n",
    "        if second_half_iter.data != first_half_iter.data:\n",
    "            return False\n",
    "        second_half_iter, first_half_iter = (second_half_iter.next,\n",
    "                                        first_half_iter.next)\n",
    "    return True"
   ]
  },
  {
   "cell_type": "code",
   "execution_count": 162,
   "metadata": {},
   "outputs": [
    {
     "name": "stdout",
     "output_type": "stream",
     "text": [
      "head after one iteration\n",
      "7\n",
      "head after one iteration\n",
      "5\n",
      "7\n",
      "head after one iteration\n",
      "33\n",
      "5\n",
      "7\n",
      "head after one iteration\n",
      "33\n",
      "33\n",
      "5\n",
      "7\n"
     ]
    },
    {
     "data": {
      "text/plain": [
       "False"
      ]
     },
     "execution_count": 162,
     "metadata": {},
     "output_type": "execute_result"
    }
   ],
   "source": [
    "is_linked_list_a_palindrome(L5)"
   ]
  },
  {
   "cell_type": "code",
   "execution_count": 205,
   "metadata": {},
   "outputs": [],
   "source": [
    "del node1"
   ]
  },
  {
   "cell_type": "code",
   "execution_count": 206,
   "metadata": {},
   "outputs": [],
   "source": [
    "node1 = ListNode(1)\n",
    "node2 = ListNode(33)\n",
    "node3 = ListNode(5)\n",
    "node4 = ListNode(7)\n",
    "node5 = ListNode(9)\n",
    "node6 = ListNode(9)\n",
    "node7 = ListNode(7)\n",
    "node8 = ListNode(5)\n",
    "node9 = ListNode(33)\n",
    "node10 = ListNode(1)"
   ]
  },
  {
   "cell_type": "code",
   "execution_count": 207,
   "metadata": {},
   "outputs": [],
   "source": [
    "node1.next = node2\n",
    "node2.next = node3\n",
    "node3.next = node4\n",
    "node4.next = node5\n",
    "node5.next = node6\n",
    "node6.next = node7\n",
    "node7.next = node8\n",
    "node8.next = node9\n",
    "node9.next = node10"
   ]
  },
  {
   "cell_type": "code",
   "execution_count": 208,
   "metadata": {},
   "outputs": [
    {
     "name": "stdout",
     "output_type": "stream",
     "text": [
      "1\n",
      "33\n",
      "5\n",
      "7\n",
      "9\n",
      "9\n",
      "7\n",
      "5\n",
      "33\n",
      "1\n"
     ]
    }
   ],
   "source": [
    "print_ListNode(node1)"
   ]
  },
  {
   "cell_type": "code",
   "execution_count": 190,
   "metadata": {},
   "outputs": [
    {
     "name": "stdout",
     "output_type": "stream",
     "text": [
      "first half iter\n",
      "1\n",
      "33\n",
      "5\n",
      "7\n",
      "9\n",
      "9\n",
      "second half iter\n",
      "1\n",
      "33\n",
      "5\n",
      "7\n",
      "9\n"
     ]
    },
    {
     "data": {
      "text/plain": [
       "True"
      ]
     },
     "execution_count": 190,
     "metadata": {},
     "output_type": "execute_result"
    }
   ],
   "source": [
    "is_linked_list_a_palindrome(node1)"
   ]
  },
  {
   "cell_type": "markdown",
   "metadata": {},
   "source": [
    "Time complexity is O(n) and space complexity is O(1). "
   ]
  },
  {
   "cell_type": "markdown",
   "metadata": {},
   "source": [
    "## 7.12 Implement List Pivoting \n",
    "\n",
    "For any integer k, the pivot of a list of integers with respect to k is that list with its nodes reordered so that all nodes containing keys less than k appear before nodes containing k, and all nodes containing keys greater than k appear after the nodes containing k. \n",
    "\n",
    "Implement a function which takes as input a singly linked list and an integer k and performs a pivot of the list with respect to k. The relative ordering of nodes that appear before k, and after k, must remain unchanged; the same must hold for nodes holding keys equl to k. \n",
    "\n",
    "**Hint:** Forms 3 regions independently. "
   ]
  },
  {
   "cell_type": "code",
   "execution_count": 204,
   "metadata": {},
   "outputs": [],
   "source": [
    "def list_pivoting(l: ListNode, x: int) -> ListNode:\n",
    "    less_head = less_iter = ListNode()\n",
    "    equal_head = equal_iter = ListNode()\n",
    "    greater_head = greater_iter = ListNode()\n",
    "    # Populates the three lists.\n",
    "    while l:\n",
    "        if l.data <x:\n",
    "            less_iter.next = l\n",
    "            less_iter = less_iter.next \n",
    "        elif l.data == x:\n",
    "            equal_iter.next = l\n",
    "            equal_iter = equal_iter.next\n",
    "        else:\n",
    "            greater_iter.next = l\n",
    "            greater_iter = greater_iter.next\n",
    "        l = l.next\n",
    "    greater_iter.next = None\n",
    "    less_iter.next = equal_head.next\n",
    "    equal_iter.next = greater_head.next\n",
    "    return less_head.next"
   ]
  },
  {
   "cell_type": "code",
   "execution_count": 209,
   "metadata": {},
   "outputs": [
    {
     "name": "stdout",
     "output_type": "stream",
     "text": [
      "1\n",
      "33\n",
      "5\n",
      "7\n",
      "9\n",
      "9\n",
      "7\n",
      "5\n",
      "33\n",
      "1\n"
     ]
    }
   ],
   "source": [
    "print_ListNode(node1)"
   ]
  },
  {
   "cell_type": "code",
   "execution_count": 210,
   "metadata": {},
   "outputs": [],
   "source": [
    "L6 = list_pivoting(node1, 9)"
   ]
  },
  {
   "cell_type": "code",
   "execution_count": 211,
   "metadata": {},
   "outputs": [
    {
     "name": "stdout",
     "output_type": "stream",
     "text": [
      "1\n",
      "5\n",
      "7\n",
      "7\n",
      "5\n",
      "1\n",
      "9\n",
      "9\n",
      "33\n",
      "33\n"
     ]
    }
   ],
   "source": [
    "print_ListNode(L6)"
   ]
  },
  {
   "cell_type": "markdown",
   "metadata": {},
   "source": [
    "The time to compute the three lists is O(n). Combining the lists takes O(1) time, yielding an overall O(n) complexity. The space complexity is O(1). "
   ]
  },
  {
   "cell_type": "markdown",
   "metadata": {},
   "source": [
    "## 7.13 Add List-based Integers \n",
    "\n",
    "A singly linked list whose nodes contain digits can be viewed as an integer, with the least significant digit coming first. Such a representation can be used to present unbounded integers. This problem is concerned with adding integers represented inthis fashion. \n",
    "\n",
    "Write a program which takes two singly linked lists of digits, and returns the list corresponding to the sum of the integers they represent. The least significant digit comes first. "
   ]
  },
  {
   "cell_type": "code",
   "execution_count": 226,
   "metadata": {},
   "outputs": [],
   "source": [
    "def add_two_numbers(L1: ListNode, L2: ListNode) -> ListNode:\n",
    "    place_iter = dummy_head = ListNode()\n",
    "    carry = 0\n",
    "    while L1 or L2 or carry:\n",
    "        val = carry + (L1.data if L1 else 0) + (L2.data if L2 else 0)\n",
    "        print(val)\n",
    "        L1 = L1.next if L1 else None\n",
    "        L2 = L2.next if L2 else None\n",
    "        place_iter.next = ListNode(val % 10)\n",
    "        carry, place_iter = val//10, place_iter.next \n",
    "        print_ListNode(place_iter)\n",
    "    return dummy_head.next "
   ]
  },
  {
   "cell_type": "code",
   "execution_count": 247,
   "metadata": {},
   "outputs": [],
   "source": [
    "node1 = ListNode(3)\n",
    "node2 = ListNode(1)\n",
    "node3 = ListNode(4)\n",
    "node1.next = node2\n",
    "node2.next = node3"
   ]
  },
  {
   "cell_type": "code",
   "execution_count": 248,
   "metadata": {},
   "outputs": [],
   "source": [
    "node4 = ListNode(7)\n",
    "node5 = ListNode(0)\n",
    "node6 = ListNode(9)\n",
    "node4.next = node5\n",
    "node5.next = node6"
   ]
  },
  {
   "cell_type": "code",
   "execution_count": 227,
   "metadata": {},
   "outputs": [
    {
     "name": "stdout",
     "output_type": "stream",
     "text": [
      "10\n",
      "0\n",
      "2\n",
      "2\n",
      "13\n",
      "3\n",
      "1\n",
      "1\n"
     ]
    }
   ],
   "source": [
    "L =add_two_numbers(node1, node4)"
   ]
  },
  {
   "cell_type": "code",
   "execution_count": 229,
   "metadata": {},
   "outputs": [
    {
     "name": "stdout",
     "output_type": "stream",
     "text": [
      "0\n",
      "2\n",
      "3\n",
      "1\n"
     ]
    }
   ],
   "source": [
    "print_ListNode(L)"
   ]
  },
  {
   "cell_type": "code",
   "execution_count": 217,
   "metadata": {},
   "outputs": [
    {
     "name": "stdout",
     "output_type": "stream",
     "text": [
      "3\n",
      "1\n",
      "4\n"
     ]
    }
   ],
   "source": [
    "print_ListNode(node1)"
   ]
  },
  {
   "cell_type": "code",
   "execution_count": 228,
   "metadata": {},
   "outputs": [
    {
     "name": "stdout",
     "output_type": "stream",
     "text": [
      "7\n",
      "0\n",
      "9\n"
     ]
    }
   ],
   "source": [
    "print_ListNode(node4)"
   ]
  },
  {
   "cell_type": "markdown",
   "metadata": {},
   "source": [
    "The time complexity is O(n + m) and the space complexity is O(max(m,n)), where n and m are the lengths of the two lists. "
   ]
  },
  {
   "cell_type": "markdown",
   "metadata": {},
   "source": [
    "**Variant:** Solve the same problem whe integers are represented as lists of digits with the most significant digit comes first. "
   ]
  },
  {
   "cell_type": "code",
   "execution_count": 245,
   "metadata": {},
   "outputs": [],
   "source": [
    "def add_two_numbers_2(L1: ListNode, L2: ListNode)-> ListNode:\n",
    "    L1 = reverse_LinkedList(L1)\n",
    "    print_ListNode(L1)\n",
    "    L2 = reverse_LinkedList(L2)\n",
    "    print_ListNode(L2)\n",
    "    L = add_two_numbers(L1,L2)\n",
    "    return reverse_LinkedList(L)"
   ]
  },
  {
   "cell_type": "code",
   "execution_count": 249,
   "metadata": {},
   "outputs": [
    {
     "name": "stdout",
     "output_type": "stream",
     "text": [
      "4\n",
      "1\n",
      "3\n",
      "9\n",
      "0\n",
      "7\n",
      "13\n",
      "3\n",
      "2\n",
      "2\n",
      "10\n",
      "0\n",
      "1\n",
      "1\n"
     ]
    }
   ],
   "source": [
    "L11 = add_two_numbers_2(node1, node4)"
   ]
  },
  {
   "cell_type": "code",
   "execution_count": 250,
   "metadata": {},
   "outputs": [
    {
     "name": "stdout",
     "output_type": "stream",
     "text": [
      "1\n",
      "0\n",
      "2\n",
      "3\n"
     ]
    }
   ],
   "source": [
    "print_ListNode(L11)"
   ]
  },
  {
   "cell_type": "code",
   "execution_count": 246,
   "metadata": {},
   "outputs": [],
   "source": [
    "del node1\n",
    "del node4"
   ]
  },
  {
   "cell_type": "code",
   "execution_count": null,
   "metadata": {},
   "outputs": [],
   "source": []
  }
 ],
 "metadata": {
  "kernelspec": {
   "display_name": "Python 3",
   "language": "python",
   "name": "python3"
  },
  "language_info": {
   "codemirror_mode": {
    "name": "ipython",
    "version": 3
   },
   "file_extension": ".py",
   "mimetype": "text/x-python",
   "name": "python",
   "nbconvert_exporter": "python",
   "pygments_lexer": "ipython3",
   "version": "3.6.4"
  }
 },
 "nbformat": 4,
 "nbformat_minor": 2
}
