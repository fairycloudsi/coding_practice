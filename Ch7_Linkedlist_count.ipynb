{
 "cells": [
  {
   "cell_type": "code",
   "execution_count": 1,
   "metadata": {},
   "outputs": [],
   "source": [
    "class ListNode:\n",
    "    def __init__(self, data = 0, next = None):\n",
    "        self.data = data\n",
    "        self.next = next "
   ]
  },
  {
   "cell_type": "code",
   "execution_count": 2,
   "metadata": {},
   "outputs": [],
   "source": [
    "def search_list(L: ListNode, key: int) -> ListNode:\n",
    "    while L and L.data != key:\n",
    "        L = L.next \n",
    "    # If key was not present in the list, L will have become null. \n",
    "    return L"
   ]
  },
  {
   "cell_type": "code",
   "execution_count": 4,
   "metadata": {},
   "outputs": [],
   "source": [
    "def insert_after(node: ListNode, new_node: ListNode) -> None:\n",
    "    new_node.next = node.next \n",
    "    node.next = new_node"
   ]
  },
  {
   "cell_type": "markdown",
   "metadata": {},
   "source": [
    "## 7.3 Test for Cyclicity \n",
    "\n",
    "Write a program that takes the head of a singly linked list and returns null if there does not exist a cycle, and the node at the start of the cycle, if a cycle is present. (You do not know the length of the list in advance.)"
   ]
  },
  {
   "cell_type": "code",
   "execution_count": 49,
   "metadata": {},
   "outputs": [],
   "source": [
    "def has_cycle(head: ListNode) -> ListNode:\n",
    "    def cycle_len(end):\n",
    "        start, step = end, 0\n",
    "        while True:\n",
    "            step += 1\n",
    "            start = start.next \n",
    "            if start is end:\n",
    "                return step\n",
    "    \n",
    "    fast = slow = head \n",
    "    while fast and fast.next and fast.next.next:\n",
    "        slow, fast = slow.next, fast.next.next \n",
    "        if slow is fast:\n",
    "            # Finds the start of the cycle\n",
    "            cycle_len_advanced_iter = head \n",
    "            for _ in range(cycle_len(slow)):\n",
    "                cycle_len_advanced_iter = cycle_len_advanced_iter.next \n",
    "                \n",
    "            it = head\n",
    "            # Both iterators advance in tandem.\n",
    "            while it is not cycle_len_advanced_iter:\n",
    "                it = it.next\n",
    "                cycle_len_advanced_iter = cycle_len_advanced_iter.next\n",
    "            print(it.data)\n",
    "            return it # iter is the start of cyccle \n",
    "    return None # No cycle "
   ]
  },
  {
   "cell_type": "code",
   "execution_count": 50,
   "metadata": {},
   "outputs": [],
   "source": [
    "del node1"
   ]
  },
  {
   "cell_type": "code",
   "execution_count": 51,
   "metadata": {},
   "outputs": [],
   "source": [
    "node1 = ListNode(1)\n",
    "node2 = ListNode(33)\n",
    "node3 = ListNode(2734)\n",
    "node4 = ListNode(5)\n",
    "node5 = ListNode(7)\n",
    "node6 = ListNode(10)\n",
    "node7 = ListNode(37)\n",
    "node8 = ListNode(99)\n",
    "node9 = ListNode(32)\n",
    "node10 = ListNode(45)"
   ]
  },
  {
   "cell_type": "code",
   "execution_count": 52,
   "metadata": {},
   "outputs": [],
   "source": [
    "node1.next = node2\n",
    "node2.next = node3\n",
    "node3.next = node4\n",
    "node4.next = node5\n",
    "node5.next = node6\n",
    "node6.next = node7\n",
    "node7.next = node8\n",
    "#node8.next = node2"
   ]
  },
  {
   "cell_type": "code",
   "execution_count": 19,
   "metadata": {},
   "outputs": [],
   "source": [
    "def print_ListNode(L:ListNode) -> None:\n",
    "    while L:\n",
    "        print(L.data)\n",
    "        L = L.next"
   ]
  },
  {
   "cell_type": "code",
   "execution_count": 61,
   "metadata": {},
   "outputs": [],
   "source": [
    "def print_ListNode_cycle(L: ListNode) -> None: \n",
    "    def cycle_len(end):\n",
    "        start, step = end, 0\n",
    "        while True:\n",
    "            step += 1\n",
    "            start = start.next \n",
    "            if start is end:\n",
    "                return step\n",
    "    fast = slow = L\n",
    "    while fast and fast.next and fast.next.next:\n",
    "        fast = fast.next.next\n",
    "        slow = slow.next \n",
    "        if fast == slow:\n",
    "            print(fast.data)\n",
    "            print(slow.data)\n",
    "            print('the cycle is of lenght '+ str(cycle_len(slow)))\n",
    "            for _ in range(cycle_len(slow)):\n",
    "                print(slow.data)\n",
    "                slow =slow.next \n",
    "            break\n",
    "    "
   ]
  },
  {
   "cell_type": "code",
   "execution_count": 53,
   "metadata": {},
   "outputs": [
    {
     "name": "stdout",
     "output_type": "stream",
     "text": [
      "1\n",
      "33\n",
      "2734\n",
      "5\n",
      "7\n",
      "10\n",
      "37\n",
      "99\n"
     ]
    }
   ],
   "source": [
    "print_ListNode(node1)"
   ]
  },
  {
   "cell_type": "code",
   "execution_count": 54,
   "metadata": {},
   "outputs": [],
   "source": [
    "node8.next = node2"
   ]
  },
  {
   "cell_type": "code",
   "execution_count": 62,
   "metadata": {},
   "outputs": [
    {
     "name": "stdout",
     "output_type": "stream",
     "text": [
      "99\n",
      "99\n",
      "the cycle is of lenght 7\n",
      "99\n",
      "33\n",
      "2734\n",
      "5\n",
      "7\n",
      "10\n",
      "37\n"
     ]
    }
   ],
   "source": [
    "print_ListNode_cycle(node1)"
   ]
  },
  {
   "cell_type": "code",
   "execution_count": 55,
   "metadata": {},
   "outputs": [
    {
     "name": "stdout",
     "output_type": "stream",
     "text": [
      "33\n"
     ]
    }
   ],
   "source": [
    "L = has_cycle(node1)\n"
   ]
  },
  {
   "cell_type": "markdown",
   "metadata": {},
   "source": [
    "Let F be the number of nodes to the start of the cycle, C the number of nodes on the cycle, and n the total number of nodes. The time complexity is O(F) + O(C) = O(n) - O(F) for both pointers to reach the cycle, and O(C) for them to overlap once the slower one enters the cycle. "
   ]
  },
  {
   "cell_type": "code",
   "execution_count": 64,
   "metadata": {},
   "outputs": [],
   "source": [
    "def has_cycle_2(head: ListNode) -> ListNode:\n",
    "    fast = slow = head\n",
    "    while fast and fast.next and fast.next.next:\n",
    "        slow, fast = slow.next, fast.next.next\n",
    "        if slow is fast: # find the cycle \n",
    "            # Tries find the start of the cycle\n",
    "            slow = head \n",
    "            # Both pointers advance at the same time.\n",
    "            while slow is not fast:\n",
    "                slow, fast = slow.next, fast.next\n",
    "            print(slow.data)\n",
    "            return slow # slow is the start of cycle \n",
    "    return None # no cycle "
   ]
  },
  {
   "cell_type": "code",
   "execution_count": 65,
   "metadata": {},
   "outputs": [
    {
     "name": "stdout",
     "output_type": "stream",
     "text": [
      "33\n"
     ]
    },
    {
     "data": {
      "text/plain": [
       "<__main__.ListNode at 0x10f4cfac8>"
      ]
     },
     "execution_count": 65,
     "metadata": {},
     "output_type": "execute_result"
    }
   ],
   "source": [
    "has_cycle_2(node1)"
   ]
  },
  {
   "cell_type": "markdown",
   "metadata": {},
   "source": [
    "## 7.5 Test for Overlapping Lists -- Lists may have circles \n",
    "\n",
    "Use case analysis. If neither list is cyclic, the problem can be solved via solution 7.4. If one list is cyclic, and the other is not, they cannot overlap, so we are done. This leaves us with the case that both lists are cyclic. In this case, if they overlap, the cycles must be identical. The algorithm in Sol 7.3 for testing whether a list ends in a cycle returns the first node in the cycle. Therefore, to determine whether two cyclic lists overlap, we perform a single traversal of the cycle of the first list. If we see the starting node of the cycle of the second list, there is an overlap, we can return any node. If we complete the traversal without seeing the node at the start of the cycle of the second list, there cannot by any overlap. "
   ]
  },
  {
   "cell_type": "code",
   "execution_count": 68,
   "metadata": {},
   "outputs": [],
   "source": [
    "def overlapping_no_cycle_lists(l0: ListNode, l1: ListNode) -> ListNode:\n",
    "    def length(L):\n",
    "        length = 0\n",
    "        while L:\n",
    "            length += 1\n",
    "            L = L.next \n",
    "        return length\n",
    "    \n",
    "    l0_len, l1_len = length(l0), length(l1)\n",
    "    if l0_len > l1_len:\n",
    "        l0, l1 = l1, lo # make l1 the longer list \n",
    "    #Advances the longer list to get equal length lists \n",
    "    for _ in range(abs(l0_len - l1_len)):\n",
    "        l1 = l1.next \n",
    "    \n",
    "    while l0 and l1 and l0 is not l1:\n",
    "        l0, l1 = l0.next, l1.next \n",
    "        \n",
    "    return l0 # None implies there is no overlap between l0 and l1 "
   ]
  },
  {
   "cell_type": "code",
   "execution_count": 69,
   "metadata": {},
   "outputs": [],
   "source": [
    "def overlapping_cycle_lists(l0: ListNode, l1: ListNode) -> ListNode:\n",
    "    root1 = has_cycle(l0)\n",
    "    root2 = has_cycle(l1)\n",
    "    if not root1 and not root2:\n",
    "        return overlapping_no_cycle_lists(l0, l1)\n",
    "    elif (not root1 and root2) or (not root2 and root1):\n",
    "        return None # one has cycle and one not, no overlap\n",
    "    else:\n",
    "        # Both lists have cycle \n",
    "        temp = root2\n",
    "        while temp:\n",
    "            if temp is root1 or temp is root2:\n",
    "                break\n",
    "        return root2 if temp is root1 else None"
   ]
  },
  {
   "cell_type": "code",
   "execution_count": 70,
   "metadata": {},
   "outputs": [],
   "source": [
    "del node1\n",
    "node1 = ListNode(1)\n",
    "node2 = ListNode(33)\n",
    "node3 = ListNode(2734)\n",
    "node4 = ListNode(5)\n",
    "node5 = ListNode(7)\n",
    "node6 = ListNode(10)\n",
    "node7 = ListNode(37)\n",
    "node8 = ListNode(99)\n",
    "node9 = ListNode(32)\n",
    "node10 = ListNode(45)"
   ]
  },
  {
   "cell_type": "code",
   "execution_count": 73,
   "metadata": {},
   "outputs": [
    {
     "name": "stdout",
     "output_type": "stream",
     "text": [
      "33\n"
     ]
    }
   ],
   "source": [
    "print_ListNode(node2)"
   ]
  },
  {
   "cell_type": "code",
   "execution_count": 74,
   "metadata": {},
   "outputs": [],
   "source": [
    "node1.next = node2\n",
    "node2.next = node3\n",
    "node3.next = node4\n",
    "node4.next = node5\n",
    "node5.next = node6\n",
    "node6.next = node7\n",
    "node7.next = node8\n",
    "node8.next = node2"
   ]
  },
  {
   "cell_type": "code",
   "execution_count": 75,
   "metadata": {},
   "outputs": [
    {
     "name": "stdout",
     "output_type": "stream",
     "text": [
      "99\n",
      "99\n",
      "the cycle is of lenght 7\n",
      "99\n",
      "33\n",
      "2734\n",
      "5\n",
      "7\n",
      "10\n",
      "37\n"
     ]
    }
   ],
   "source": [
    "print_ListNode_cycle(node1)"
   ]
  },
  {
   "cell_type": "code",
   "execution_count": 76,
   "metadata": {},
   "outputs": [],
   "source": [
    "node9.next = node2"
   ]
  },
  {
   "cell_type": "code",
   "execution_count": 77,
   "metadata": {},
   "outputs": [
    {
     "name": "stdout",
     "output_type": "stream",
     "text": [
      "99\n",
      "99\n",
      "the cycle is of lenght 7\n",
      "99\n",
      "33\n",
      "2734\n",
      "5\n",
      "7\n",
      "10\n",
      "37\n"
     ]
    }
   ],
   "source": [
    "print_ListNode_cycle(node9)"
   ]
  },
  {
   "cell_type": "code",
   "execution_count": 84,
   "metadata": {},
   "outputs": [
    {
     "name": "stdout",
     "output_type": "stream",
     "text": [
      "2734\n",
      "33\n"
     ]
    }
   ],
   "source": [
    "L = overlapping_cycle_lists(node3,node9)"
   ]
  },
  {
   "cell_type": "code",
   "execution_count": 83,
   "metadata": {},
   "outputs": [
    {
     "name": "stdout",
     "output_type": "stream",
     "text": [
      "99\n",
      "99\n",
      "the cycle is of lenght 7\n",
      "99\n",
      "33\n",
      "2734\n",
      "5\n",
      "7\n",
      "10\n",
      "37\n"
     ]
    }
   ],
   "source": [
    "print_ListNode_cycle(node9)"
   ]
  },
  {
   "cell_type": "code",
   "execution_count": 85,
   "metadata": {},
   "outputs": [],
   "source": [
    "print_ListNode_cycle(L)"
   ]
  },
  {
   "cell_type": "markdown",
   "metadata": {},
   "source": [
    "The algorithm has time complexity O(n), where n is the total number of nodes in the two input lists, and space complexity is O(1). "
   ]
  },
  {
   "cell_type": "markdown",
   "metadata": {},
   "source": [
    "## 7.8 Remove "
   ]
  }
 ],
 "metadata": {
  "kernelspec": {
   "display_name": "Python 3",
   "language": "python",
   "name": "python3"
  },
  "language_info": {
   "codemirror_mode": {
    "name": "ipython",
    "version": 3
   },
   "file_extension": ".py",
   "mimetype": "text/x-python",
   "name": "python",
   "nbconvert_exporter": "python",
   "pygments_lexer": "ipython3",
   "version": "3.6.5"
  }
 },
 "nbformat": 4,
 "nbformat_minor": 2
}
