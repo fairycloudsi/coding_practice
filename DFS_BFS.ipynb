{
 "cells": [
  {
   "cell_type": "markdown",
   "metadata": {},
   "source": [
    "## 841. Keys and Rooms\n",
    "\n",
    "There are N rooms and you start in room 0. Each room has a distinct number in 0, 1, ..., N-1, and each room may have some keys to access the next room. \n",
    "\n",
    "Fromally, each room i has a list of keys rooms[i], and each key rooms[i][j] is an integer in [0, 1, ..., N-1] where N = rooms.length. A key rooms[i][j] = v opens the room with number v.\n",
    "\n",
    "Initially, all the rooms start locked (except for room 0). \n",
    "\n",
    "You can walk back and forth between rooms freely. \n",
    "\n",
    "Return true if and only if you can enter every room. \n",
    "\n",
    "**Example 1:**\n",
    "\n",
    "Input: [[1], [2], [3], []]\n",
    "\n",
    "Output: true \n",
    "\n",
    "**Example 2:**\n",
    "\n",
    "Input: [ [1,3], [3,0,1], [2], [0]]\n",
    "\n",
    "Output false"
   ]
  },
  {
   "cell_type": "code",
   "execution_count": 5,
   "metadata": {},
   "outputs": [],
   "source": [
    "def canVisitAllRooms(rooms: list) -> bool:\n",
    "    if not rooms:\n",
    "        return False \n",
    "    \n",
    "    n = len(rooms)\n",
    "    count = 0 \n",
    "    visited = [0 for _ in range(n)]\n",
    "    \n",
    "    def dfs(rooms, i, visited):\n",
    "        if visited[i] == 1:\n",
    "            return\n",
    "        visited[i] = 1 \n",
    "        for j in rooms[i]:\n",
    "            dfs(rooms, j, visited)\n",
    "            \n",
    "    for i in range(n):\n",
    "        if visited[i] == 0:\n",
    "            count += 1 \n",
    "            dfs(rooms, i, visited)\n",
    "            \n",
    "    if count == 1:\n",
    "        return True\n",
    "    else:\n",
    "        return False \n",
    "            \n",
    "        \n",
    "        "
   ]
  },
  {
   "cell_type": "code",
   "execution_count": 6,
   "metadata": {},
   "outputs": [
    {
     "data": {
      "text/plain": [
       "False"
      ]
     },
     "execution_count": 6,
     "metadata": {},
     "output_type": "execute_result"
    }
   ],
   "source": [
    "rooms = [[1,3], [3,0,1], [2], [0]]\n",
    "\n",
    "canVisitAllRooms(rooms)"
   ]
  },
  {
   "cell_type": "code",
   "execution_count": 7,
   "metadata": {},
   "outputs": [],
   "source": [
    "rooms = [[1], [2], [3], []]"
   ]
  },
  {
   "cell_type": "code",
   "execution_count": 8,
   "metadata": {},
   "outputs": [
    {
     "data": {
      "text/plain": [
       "True"
      ]
     },
     "execution_count": 8,
     "metadata": {},
     "output_type": "execute_result"
    }
   ],
   "source": [
    "canVisitAllRooms(rooms)"
   ]
  },
  {
   "cell_type": "code",
   "execution_count": 9,
   "metadata": {},
   "outputs": [
    {
     "data": {
      "text/plain": [
       "False"
      ]
     },
     "execution_count": 9,
     "metadata": {},
     "output_type": "execute_result"
    }
   ],
   "source": [
    "rooms = [[1,2], [1,3], [2,1], [3], [4]]\n",
    "\n",
    "canVisitAllRooms(rooms)"
   ]
  },
  {
   "cell_type": "code",
   "execution_count": 10,
   "metadata": {},
   "outputs": [
    {
     "data": {
      "text/plain": [
       "True"
      ]
     },
     "execution_count": 10,
     "metadata": {},
     "output_type": "execute_result"
    }
   ],
   "source": [
    "rooms = [[1,2], [1,3], [2,1], [3]]\n",
    "\n",
    "canVisitAllRooms(rooms)"
   ]
  },
  {
   "cell_type": "markdown",
   "metadata": {},
   "source": [
    "## 110. Balanced Binary Tree\n",
    "\n",
    "Given a binary tree, determine if it is height-balanced. \n",
    "\n",
    "For this problem, a height-balanced binary tree is defined as: \n",
    "\n",
    "a binary tree in which the left and right subtrees of every node differ in height by no more than 1. \n",
    "\n",
    "**Example 1:**\n",
    "\n",
    "Input: [3, 9, 20, null, null, 15, 7]\n",
    "\n",
    "Output: True \n",
    "\n",
    "**Example 2:** \n",
    "\n",
    "Input: [1, 2, 2, 3, 3, null, null, 4, 4]\n",
    "\n",
    "Output: False "
   ]
  },
  {
   "cell_type": "code",
   "execution_count": 11,
   "metadata": {},
   "outputs": [],
   "source": [
    "class TreeNode:\n",
    "    def __init__(self, x):\n",
    "        self.val = x\n",
    "        self.right = None\n",
    "        self.left = None "
   ]
  },
  {
   "cell_type": "code",
   "execution_count": 43,
   "metadata": {},
   "outputs": [],
   "source": [
    "\n",
    "def isBalanced(root: TreeNode) -> bool:\n",
    "    \n",
    "    global balanced \n",
    "    balanced = True \n",
    "    \n",
    "    if not root:\n",
    "        return balanced  \n",
    "    \n",
    "    def dfs(node: TreeNode) -> int:\n",
    "        global balanced \n",
    "        if not node:\n",
    "            return 0 \n",
    "        if not node.val:\n",
    "            return 0\n",
    "        count_left = dfs(node.left)\n",
    "        count_right = dfs(node.right)\n",
    "        if abs(count_left- count_right) > 1:\n",
    "            balanced = False \n",
    "        return 1  + max(count_left, count_right)\n",
    "    \n",
    "    dfs(root)\n",
    "    return balanced "
   ]
  },
  {
   "cell_type": "code",
   "execution_count": 44,
   "metadata": {},
   "outputs": [],
   "source": [
    "node1 = TreeNode(3)\n",
    "\n",
    "node2 = TreeNode(9)\n",
    "\n",
    "node3 = TreeNode(20)\n",
    "\n",
    "node4 = TreeNode(None)\n",
    "\n",
    "node5 = TreeNode(None)\n",
    "\n",
    "node6 = TreeNode(15)\n",
    "\n",
    "node7 = TreeNode(7)\n",
    "\n",
    "\n"
   ]
  },
  {
   "cell_type": "code",
   "execution_count": 45,
   "metadata": {},
   "outputs": [],
   "source": [
    "node1.left = node2\n",
    "\n",
    "node1.right = node3\n",
    "\n",
    "node2.left = node4\n",
    "\n",
    "node2.right = node5\n",
    "\n",
    "node3.left = node6\n",
    "\n",
    "node3.right = node7"
   ]
  },
  {
   "cell_type": "code",
   "execution_count": 46,
   "metadata": {},
   "outputs": [
    {
     "data": {
      "text/plain": [
       "True"
      ]
     },
     "execution_count": 46,
     "metadata": {},
     "output_type": "execute_result"
    }
   ],
   "source": [
    "isBalanced(node1)"
   ]
  },
  {
   "cell_type": "code",
   "execution_count": 47,
   "metadata": {},
   "outputs": [
    {
     "data": {
      "text/plain": [
       "False"
      ]
     },
     "execution_count": 47,
     "metadata": {},
     "output_type": "execute_result"
    }
   ],
   "source": [
    "node8 = TreeNode(8)\n",
    "\n",
    "node9 = TreeNode(9)\n",
    "\n",
    "node7.left = node8\n",
    "\n",
    "node7.right = node9\n",
    "\n",
    "isBalanced(node1)"
   ]
  },
  {
   "cell_type": "markdown",
   "metadata": {},
   "source": [
    "## 1202. Smallest String With Swaps\n",
    "\n",
    "You are given a string s, and an array of pairs of indices in the string pairs where pairs[i] = [a,b] indicates 2 indices (0-indexed) of the string. \n",
    "\n",
    "You can swap the characters at any pair of indices inthe given pairs any numer of times. \n",
    "\n",
    "Return the lexicographically smallest string that s can be changed to after using the swaps. \n"
   ]
  },
  {
   "cell_type": "code",
   "execution_count": null,
   "metadata": {},
   "outputs": [],
   "source": [
    "def smallestStringWithSwaps(s: str, pairs: list) -> str:\n",
    "    if not s or not pairs:\n",
    "        return s \n",
    "    n = len(s)\n",
    "    vistied = [0 for _ in range(n)]\n",
    "    \n",
    "    \n",
    "    # use dfs to find connected component \n",
    "    def dfs(pairs, i):\n",
    "        if not pairs[i]:\n",
    "            return \n",
    "        for j in pairs[i]:\n",
    "            if not visited[j]:\n",
    "                visited[j] = 1\n",
    "                \n",
    "                \n",
    "                "
   ]
  }
 ],
 "metadata": {
  "kernelspec": {
   "display_name": "Python 3",
   "language": "python",
   "name": "python3"
  },
  "language_info": {
   "codemirror_mode": {
    "name": "ipython",
    "version": 3
   },
   "file_extension": ".py",
   "mimetype": "text/x-python",
   "name": "python",
   "nbconvert_exporter": "python",
   "pygments_lexer": "ipython3",
   "version": "3.7.4"
  }
 },
 "nbformat": 4,
 "nbformat_minor": 2
}
