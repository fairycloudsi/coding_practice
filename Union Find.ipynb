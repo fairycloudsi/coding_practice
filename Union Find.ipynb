{
 "cells": [
  {
   "cell_type": "code",
   "execution_count": 1,
   "metadata": {},
   "outputs": [],
   "source": [
    "class UnionFindSet: \n",
    "    def __init__(self, n):\n",
    "        self._parents = [i for i in range(n + 1)]\n",
    "        self._ranks = [1 for i in range(n + 1)]\n",
    "        \n",
    "    def find(self, u):\n",
    "        while u != self._parents[u]:\n",
    "            self.parents[u] = self._parents[self._parents[u]]\n",
    "            u = self._parents[u]\n",
    "        return u \n",
    "    \n",
    "    def union(self, u, v):\n",
    "        pu, pv = self.find(u), self.find(v)\n",
    "        if pu == pv:\n",
    "            return False         \n",
    "        if self._ranks[pu] < self._ranks[pv]:\n",
    "            self._parents[pu] = pv\n",
    "        elif self._ranks[pu] > self._ranks[pv]:\n",
    "            self._parents[pv] = pu\n",
    "        else:\n",
    "            self._parents[pv] = pu\n",
    "            self._ranks[pu] += 1\n",
    "        return True "
   ]
  },
  {
   "cell_type": "markdown",
   "metadata": {},
   "source": [
    "## 684. Redundant Connection \n",
    "\n",
    "In this problem, a tree is an undirected graph that is connected and has no cycles. \n",
    "\n",
    "The given input is a graph that started as a tree with N nodes (with distinct values 1, 2, ..., N), with one additional edge added. The added edge has two different vertices chosen from 1 to N, and was not an edge that already existed. \n",
    "\n",
    "The resulting graph is given as a 2D-array of edges. Each element of edges is a pair [u, v] with u < v, that represents an undirected edge connecting nodes u and v. \n",
    "\n",
    "Return an edge that can be removed so that the resulting graph is a tree of N nodes. If there are multiple answers, return the answer that occurs last in the given 2D-array. The answer edge [u,v] should be in the same format, with u < v. \n",
    "\n",
    "**Example 1:**\n",
    "\n",
    "Input: [[1,2], [1,3], [2,3]]\n",
    "\n",
    "Output: [2,3]\n",
    "\n",
    "**Example 2:**\n",
    "\n",
    "Input: [[1,2], [2,3], [3,4], [1,4], [1,5]]\n",
    "\n",
    "Output: [1,4]\n",
    "\n"
   ]
  },
  {
   "cell_type": "code",
   "execution_count": null,
   "metadata": {},
   "outputs": [],
   "source": [
    "def findRedundantConnection(edges: list) -> list:\n",
    "    \n",
    "    "
   ]
  }
 ],
 "metadata": {
  "kernelspec": {
   "display_name": "Python 3",
   "language": "python",
   "name": "python3"
  },
  "language_info": {
   "codemirror_mode": {
    "name": "ipython",
    "version": 3
   },
   "file_extension": ".py",
   "mimetype": "text/x-python",
   "name": "python",
   "nbconvert_exporter": "python",
   "pygments_lexer": "ipython3",
   "version": "3.7.4"
  }
 },
 "nbformat": 4,
 "nbformat_minor": 2
}
