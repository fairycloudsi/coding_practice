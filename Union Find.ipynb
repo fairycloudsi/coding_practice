{
 "cells": [
  {
   "cell_type": "code",
   "execution_count": 1,
   "metadata": {},
   "outputs": [],
   "source": [
    "class UnionFindSet: \n",
    "    def __init__(self, n):\n",
    "        self._parents = [i for i in range(n + 1)]\n",
    "        self._ranks = [1 for i in range(n + 1)]\n",
    "        \n",
    "    def find(self, u):\n",
    "        while u != self._parents[u]:\n",
    "            self.parents[u] = self._parents[self._parents[u]]\n",
    "            u = self._parents[u]\n",
    "        return u \n",
    "    \n",
    "    def union(self, u, v):\n",
    "        pu, pv = self.find(u), self.find(v)\n",
    "        if pu == pv:\n",
    "            return False         \n",
    "        if self._ranks[pu] < self._ranks[pv]:\n",
    "            self._parents[pu] = pv\n",
    "        elif self._ranks[pu] > self._ranks[pv]:\n",
    "            self._parents[pv] = pu\n",
    "        else:\n",
    "            self._parents[pv] = pu\n",
    "            self._ranks[pu] += 1\n",
    "        return True "
   ]
  },
  {
   "cell_type": "markdown",
   "metadata": {},
   "source": [
    "## 399. Evaluate Division\n",
    "\n",
    "Equantions are given in the format A/B = k, where A and B are variables represented as strings, and k is a real number (floating point number). Given some queries, return the answers. If the answer doest not exist, return -1.0\n",
    "\n",
    "**Example:**\n",
    "\n",
    "Given a / b = 2.0, b / c = 3.0\n",
    "\n",
    "queries are: a/ c = ?, b/a = ?, a/e = ?, a/a = ?, x/x = ?. \n",
    "\n",
    "return [6.0, 0.5, -1.0, 1.0, -1.0]\n",
    "\n",
    "According to the example above:\n",
    "\n",
    "equations = [ [\"a\", \"b\"], [\"b\", \"c\"]],\n",
    "\n",
    "values = [2.0, 3.0]\n",
    "\n",
    "queries  = [ [\"a\", \"c\"], [\"b\", \"a\"], [\"a\", \"e\"], [\"a\", \"a\"], \n",
    "[\"x\", \"x\"]]"
   ]
  },
  {
   "cell_type": "code",
   "execution_count": 1,
   "metadata": {},
   "outputs": [],
   "source": [
    "import collections "
   ]
  },
  {
   "cell_type": "markdown",
   "metadata": {},
   "source": [
    "### Approach 1. Graph + DFS "
   ]
  },
  {
   "cell_type": "code",
   "execution_count": 14,
   "metadata": {},
   "outputs": [],
   "source": [
    "def calcEquation(equations: list, values: list, queries: list) -> list:\n",
    "    \n",
    "    def divide(x,y,visited):\n",
    "        if x == y:\n",
    "            return 1.0\n",
    "        for n in g[x]:\n",
    "            if n in visited: \n",
    "                continue\n",
    "            visited.add(n)\n",
    "            d = divide(n,y, visited)\n",
    "            if d > 0: return d *g[n][x]\n",
    "        return -1.0\n",
    "    g = collections.defaultdict(dict)\n",
    "    for (x,y), v in zip(equations, values):\n",
    "        g[x][y] = v\n",
    "        g[y][x] = 1.0/v\n",
    "        \n",
    "    ans = [divide(x, y, set()) if x in g and y in g else -1 for \n",
    "          x, y in queries]\n",
    "    \n",
    "    return ans \n",
    "    "
   ]
  },
  {
   "cell_type": "code",
   "execution_count": 3,
   "metadata": {},
   "outputs": [
    {
     "name": "stdout",
     "output_type": "stream",
     "text": [
      "a b\n",
      "2.0\n",
      "b c\n",
      "3.0\n",
      "defaultdict(<class 'dict'>, {'a': {'b': 2.0}, 'b': {'a': 0.5, 'c': 3.0}, 'c': {'b': 0.3333333333333333}})\n"
     ]
    }
   ],
   "source": [
    "equations = [[\"a\", \"b\"], [\"b\", \"c\"]]\n",
    "\n",
    "values = [2.0, 3.0]\n",
    "\n",
    "g = collections.defaultdict(dict)\n",
    "\n",
    "for (x,y), v in zip(equations, values):\n",
    "    print(x,y)\n",
    "    print(v)\n",
    "    g[x][y] = v\n",
    "    g[y][x] = 1.0/v\n",
    "    \n",
    "print(g)"
   ]
  },
  {
   "cell_type": "code",
   "execution_count": 12,
   "metadata": {},
   "outputs": [],
   "source": [
    "def divide(x,y, visited):\n",
    "    print('visited is ')\n",
    "    print(visited)\n",
    "    if x == y: \n",
    "        return 1.0\n",
    "    visited.add(x)\n",
    "    print('g[x] is ')\n",
    "    print(g[x])\n",
    "    for n in g[x]:\n",
    "        print('n is ')\n",
    "        print(n)\n",
    "        if n in visited:\n",
    "            continue\n",
    "        visited.add(n)\n",
    "        d = divide(n, y, visited)\n",
    "        print('d is ')\n",
    "        print(d)\n",
    "        if d > 0: \n",
    "            return d*g[x][n]\n",
    "    return -1.0 \n"
   ]
  },
  {
   "cell_type": "code",
   "execution_count": 13,
   "metadata": {},
   "outputs": [
    {
     "name": "stdout",
     "output_type": "stream",
     "text": [
      "visited is \n",
      "set()\n",
      "g[x] is \n",
      "{'b': 2.0}\n",
      "n is \n",
      "b\n",
      "visited is \n",
      "{'b', 'a'}\n",
      "g[x] is \n",
      "{'a': 0.5, 'c': 3.0}\n",
      "n is \n",
      "a\n",
      "n is \n",
      "c\n",
      "visited is \n",
      "{'c', 'b', 'a'}\n",
      "d is \n",
      "1.0\n",
      "d is \n",
      "3.0\n"
     ]
    },
    {
     "data": {
      "text/plain": [
       "6.0"
      ]
     },
     "execution_count": 13,
     "metadata": {},
     "output_type": "execute_result"
    }
   ],
   "source": [
    "x = \"a\"\n",
    "\n",
    "y = \"c\"\n",
    "\n",
    "visited = set()\n",
    "\n",
    "divide(x,y,visited)"
   ]
  },
  {
   "cell_type": "code",
   "execution_count": 16,
   "metadata": {},
   "outputs": [
    {
     "name": "stdout",
     "output_type": "stream",
     "text": [
      "visited is \n",
      "set()\n",
      "g[x] is \n",
      "{'b': 2.0}\n",
      "n is \n",
      "b\n",
      "visited is \n",
      "{'b', 'a'}\n",
      "g[x] is \n",
      "{'a': 0.5, 'c': 3.0}\n",
      "n is \n",
      "a\n",
      "n is \n",
      "c\n",
      "visited is \n",
      "{'c', 'b', 'a'}\n",
      "g[x] is \n",
      "{'b': 0.3333333333333333}\n",
      "n is \n",
      "b\n",
      "d is \n",
      "-1.0\n",
      "d is \n",
      "-1.0\n"
     ]
    },
    {
     "data": {
      "text/plain": [
       "-1.0"
      ]
     },
     "execution_count": 16,
     "metadata": {},
     "output_type": "execute_result"
    }
   ],
   "source": [
    "x = \"a\"\n",
    "\n",
    "y = \"e\"\n",
    "\n",
    "visited = set()\n",
    "\n",
    "divide(x,y,visited)"
   ]
  },
  {
   "cell_type": "code",
   "execution_count": 18,
   "metadata": {},
   "outputs": [
    {
     "data": {
      "text/plain": [
       "False"
      ]
     },
     "execution_count": 18,
     "metadata": {},
     "output_type": "execute_result"
    }
   ],
   "source": [
    "x in g and y in g"
   ]
  },
  {
   "cell_type": "markdown",
   "metadata": {},
   "source": [
    "Time Complexity: O(e + q*e)\n",
    "\n",
    "Space Complexity: O(e)"
   ]
  },
  {
   "cell_type": "code",
   "execution_count": 2,
   "metadata": {},
   "outputs": [],
   "source": [
    "equations = [[\"a\", \"b\"], [\"b\", \"c\"]]\n",
    "\n",
    "values = [2.0, 3.0]"
   ]
  },
  {
   "cell_type": "code",
   "execution_count": 4,
   "metadata": {},
   "outputs": [],
   "source": [
    "import collections\n",
    "g = collections.defaultdict(dict)\n",
    "for (x,y), v in zip(equations, values):\n",
    "    g[x][y] = v\n",
    "    g[y][x] = 1.0/v"
   ]
  },
  {
   "cell_type": "code",
   "execution_count": 6,
   "metadata": {},
   "outputs": [
    {
     "name": "stdout",
     "output_type": "stream",
     "text": [
      "a\n",
      "c\n"
     ]
    }
   ],
   "source": [
    "x = \"b\"\n",
    "\n",
    "for z in g[x]:\n",
    "    print(z)"
   ]
  },
  {
   "cell_type": "code",
   "execution_count": 13,
   "metadata": {},
   "outputs": [],
   "source": [
    "def calcEquation(equations: list, values: list, queries: list) -> list:\n",
    "    g = collections.defaultdict(dict)\n",
    "    \n",
    "    for (x,y), v in zip(equations, values):\n",
    "        g[x][y] = v\n",
    "        g[y][x] = 1.0/v\n",
    "        \n",
    "    def divide(x, y, visited):\n",
    "        if x == y:\n",
    "            return 1.0\n",
    "        visited.add(x)\n",
    "        for z in g[x]:\n",
    "            if z in visited:\n",
    "                continue \n",
    "            d = divide(z, y, visited)\n",
    "            if d > 0: \n",
    "                return d*g[x][z]\n",
    "        return -1.0\n",
    "    \n",
    "    ans = []\n",
    "    \n",
    "    for x, y in queries:\n",
    "        if x in g and y in g:\n",
    "            ans.append(divide(x,y,set()))\n",
    "        else:\n",
    "            ans.append(-1.0)\n",
    "    return ans"
   ]
  },
  {
   "cell_type": "code",
   "execution_count": 14,
   "metadata": {},
   "outputs": [
    {
     "data": {
      "text/plain": [
       "[6.0, 0.5, -1.0, 1.0, -1.0]"
      ]
     },
     "execution_count": 14,
     "metadata": {},
     "output_type": "execute_result"
    }
   ],
   "source": [
    "queries = [[\"a\", \"c\"], [\"b\", \"a\"], [\"a\", \"e\"], [\"a\", \"a\"], \n",
    "          [\"x\", \"x\"]]\n",
    "\n",
    "calcEquation(equations, values, queries)"
   ]
  },
  {
   "cell_type": "markdown",
   "metadata": {},
   "source": [
    "### Approach 2: Union Find "
   ]
  },
  {
   "cell_type": "code",
   "execution_count": null,
   "metadata": {},
   "outputs": [],
   "source": []
  },
  {
   "cell_type": "markdown",
   "metadata": {},
   "source": [
    "## 684. Redundant Connection \n",
    "\n",
    "In this problem, a tree is an undirected graph that is connected and has no cycles. \n",
    "\n",
    "The given input is a graph that started as a tree with N nodes (with distinct values 1, 2, ..., N), with one additional edge added. The added edge has two different vertices chosen from 1 to N, and was not an edge that already existed. \n",
    "\n",
    "The resulting graph is given as a 2D-array of edges. Each element of edges is a pair [u, v] with u < v, that represents an undirected edge connecting nodes u and v. \n",
    "\n",
    "Return an edge that can be removed so that the resulting graph is a tree of N nodes. If there are multiple answers, return the answer that occurs last in the given 2D-array. The answer edge [u,v] should be in the same format, with u < v. \n",
    "\n",
    "**Example 1:**\n",
    "\n",
    "Input: [[1,2], [1,3], [2,3]]\n",
    "\n",
    "Output: [2,3]\n",
    "\n",
    "**Example 2:**\n",
    "\n",
    "Input: [[1,2], [2,3], [3,4], [1,4], [1,5]]\n",
    "\n",
    "Output: [1,4]\n",
    "\n"
   ]
  },
  {
   "cell_type": "code",
   "execution_count": null,
   "metadata": {},
   "outputs": [],
   "source": [
    "def findRedundantConnection(edges: list) -> list:\n",
    "    \n",
    "    "
   ]
  }
 ],
 "metadata": {
  "kernelspec": {
   "display_name": "Python 3",
   "language": "python",
   "name": "python3"
  },
  "language_info": {
   "codemirror_mode": {
    "name": "ipython",
    "version": 3
   },
   "file_extension": ".py",
   "mimetype": "text/x-python",
   "name": "python",
   "nbconvert_exporter": "python",
   "pygments_lexer": "ipython3",
   "version": "3.7.4"
  }
 },
 "nbformat": 4,
 "nbformat_minor": 2
}
