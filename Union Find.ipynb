{
 "cells": [
  {
   "cell_type": "code",
   "execution_count": 1,
   "metadata": {},
   "outputs": [],
   "source": [
    "class UnionFindSet: \n",
    "    def __init__(self, n):\n",
    "        self._parents = [i for i in range(n + 1)]\n",
    "        self._ranks = [1 for i in range(n + 1)]\n",
    "        \n",
    "    def find(self, u):\n",
    "        while u != self._parents[u]:\n",
    "            self.parents[u] = self._parents[self._parents[u]]\n",
    "            u = self._parents[u]\n",
    "        return u \n",
    "    \n",
    "    def union(self, u, v):\n",
    "        pu, pv = self.find(u), self.find(v)\n",
    "        if pu == pv:\n",
    "            return False         \n",
    "        if self._ranks[pu] < self._ranks[pv]:\n",
    "            self._parents[pu] = pv\n",
    "        elif self._ranks[pu] > self._ranks[pv]:\n",
    "            self._parents[pv] = pu\n",
    "        else:\n",
    "            self._parents[pv] = pu\n",
    "            self._ranks[pu] += 1\n",
    "        return True "
   ]
  },
  {
   "cell_type": "markdown",
   "metadata": {},
   "source": [
    "## 399. Evaluate Division\n",
    "\n",
    "Equantions are given in the format A/B = k, where A and B are variables represented as strings, and k is a real number (floating point number). Given some queries, return the answers. If the answer doest not exist, return -1.0\n",
    "\n",
    "**Example:**\n",
    "\n",
    "Given a / b = 2.0, b / c = 3.0\n",
    "\n",
    "queries are: a/ c = ?, b/a = ?, a/e = ?, a/a = ?, x/x = ?. \n",
    "\n",
    "return [6.0, 0.5, -1.0, 1.0, -1.0]\n",
    "\n",
    "According to the example above:\n",
    "\n",
    "equations = [ [\"a\", \"b\"], [\"b\", \"c\"]],\n",
    "\n",
    "values = [2.0, 3.0]\n",
    "\n",
    "queries  = [ [\"a\", \"c\"], [\"b\", \"a\"], [\"a\", \"e\"], [\"a\", \"a\"], \n",
    "[\"x\", \"x\"]]"
   ]
  },
  {
   "cell_type": "code",
   "execution_count": 1,
   "metadata": {},
   "outputs": [],
   "source": [
    "import collections "
   ]
  },
  {
   "cell_type": "markdown",
   "metadata": {},
   "source": [
    "### Approach 1. Graph + DFS "
   ]
  },
  {
   "cell_type": "code",
   "execution_count": 14,
   "metadata": {},
   "outputs": [],
   "source": [
    "def calcEquation(equations: list, values: list, queries: list) -> list:\n",
    "    \n",
    "    def divide(x,y,visited):\n",
    "        if x == y:\n",
    "            return 1.0\n",
    "        for n in g[x]:\n",
    "            if n in visited: \n",
    "                continue\n",
    "            visited.add(n)\n",
    "            d = divide(n,y, visited)\n",
    "            if d > 0: return d *g[n][x]\n",
    "        return -1.0\n",
    "    g = collections.defaultdict(dict)\n",
    "    for (x,y), v in zip(equations, values):\n",
    "        g[x][y] = v\n",
    "        g[y][x] = 1.0/v\n",
    "        \n",
    "    ans = [divide(x, y, set()) if x in g and y in g else -1 for \n",
    "          x, y in queries]\n",
    "    \n",
    "    return ans \n",
    "    "
   ]
  },
  {
   "cell_type": "code",
   "execution_count": 3,
   "metadata": {},
   "outputs": [
    {
     "name": "stdout",
     "output_type": "stream",
     "text": [
      "a b\n",
      "2.0\n",
      "b c\n",
      "3.0\n",
      "defaultdict(<class 'dict'>, {'a': {'b': 2.0}, 'b': {'a': 0.5, 'c': 3.0}, 'c': {'b': 0.3333333333333333}})\n"
     ]
    }
   ],
   "source": [
    "equations = [[\"a\", \"b\"], [\"b\", \"c\"]]\n",
    "\n",
    "values = [2.0, 3.0]\n",
    "\n",
    "g = collections.defaultdict(dict)\n",
    "\n",
    "for (x,y), v in zip(equations, values):\n",
    "    print(x,y)\n",
    "    print(v)\n",
    "    g[x][y] = v\n",
    "    g[y][x] = 1.0/v\n",
    "    \n",
    "print(g)"
   ]
  },
  {
   "cell_type": "code",
   "execution_count": 12,
   "metadata": {},
   "outputs": [],
   "source": [
    "def divide(x,y, visited):\n",
    "    print('visited is ')\n",
    "    print(visited)\n",
    "    if x == y: \n",
    "        return 1.0\n",
    "    visited.add(x)\n",
    "    print('g[x] is ')\n",
    "    print(g[x])\n",
    "    for n in g[x]:\n",
    "        print('n is ')\n",
    "        print(n)\n",
    "        if n in visited:\n",
    "            continue\n",
    "        visited.add(n)\n",
    "        d = divide(n, y, visited)\n",
    "        print('d is ')\n",
    "        print(d)\n",
    "        if d > 0: \n",
    "            return d*g[x][n]\n",
    "    return -1.0 \n"
   ]
  },
  {
   "cell_type": "code",
   "execution_count": 13,
   "metadata": {},
   "outputs": [
    {
     "name": "stdout",
     "output_type": "stream",
     "text": [
      "visited is \n",
      "set()\n",
      "g[x] is \n",
      "{'b': 2.0}\n",
      "n is \n",
      "b\n",
      "visited is \n",
      "{'b', 'a'}\n",
      "g[x] is \n",
      "{'a': 0.5, 'c': 3.0}\n",
      "n is \n",
      "a\n",
      "n is \n",
      "c\n",
      "visited is \n",
      "{'c', 'b', 'a'}\n",
      "d is \n",
      "1.0\n",
      "d is \n",
      "3.0\n"
     ]
    },
    {
     "data": {
      "text/plain": [
       "6.0"
      ]
     },
     "execution_count": 13,
     "metadata": {},
     "output_type": "execute_result"
    }
   ],
   "source": [
    "x = \"a\"\n",
    "\n",
    "y = \"c\"\n",
    "\n",
    "visited = set()\n",
    "\n",
    "divide(x,y,visited)"
   ]
  },
  {
   "cell_type": "code",
   "execution_count": 16,
   "metadata": {},
   "outputs": [
    {
     "name": "stdout",
     "output_type": "stream",
     "text": [
      "visited is \n",
      "set()\n",
      "g[x] is \n",
      "{'b': 2.0}\n",
      "n is \n",
      "b\n",
      "visited is \n",
      "{'b', 'a'}\n",
      "g[x] is \n",
      "{'a': 0.5, 'c': 3.0}\n",
      "n is \n",
      "a\n",
      "n is \n",
      "c\n",
      "visited is \n",
      "{'c', 'b', 'a'}\n",
      "g[x] is \n",
      "{'b': 0.3333333333333333}\n",
      "n is \n",
      "b\n",
      "d is \n",
      "-1.0\n",
      "d is \n",
      "-1.0\n"
     ]
    },
    {
     "data": {
      "text/plain": [
       "-1.0"
      ]
     },
     "execution_count": 16,
     "metadata": {},
     "output_type": "execute_result"
    }
   ],
   "source": [
    "x = \"a\"\n",
    "\n",
    "y = \"e\"\n",
    "\n",
    "visited = set()\n",
    "\n",
    "divide(x,y,visited)"
   ]
  },
  {
   "cell_type": "code",
   "execution_count": 18,
   "metadata": {},
   "outputs": [
    {
     "data": {
      "text/plain": [
       "False"
      ]
     },
     "execution_count": 18,
     "metadata": {},
     "output_type": "execute_result"
    }
   ],
   "source": [
    "x in g and y in g"
   ]
  },
  {
   "cell_type": "markdown",
   "metadata": {},
   "source": [
    "Time Complexity: O(e + q*e)\n",
    "\n",
    "Space Complexity: O(e)"
   ]
  },
  {
   "cell_type": "code",
   "execution_count": 2,
   "metadata": {},
   "outputs": [],
   "source": [
    "equations = [[\"a\", \"b\"], [\"b\", \"c\"]]\n",
    "\n",
    "values = [2.0, 3.0]"
   ]
  },
  {
   "cell_type": "code",
   "execution_count": 4,
   "metadata": {},
   "outputs": [],
   "source": [
    "import collections\n",
    "g = collections.defaultdict(dict)\n",
    "for (x,y), v in zip(equations, values):\n",
    "    g[x][y] = v\n",
    "    g[y][x] = 1.0/v"
   ]
  },
  {
   "cell_type": "code",
   "execution_count": 6,
   "metadata": {},
   "outputs": [
    {
     "name": "stdout",
     "output_type": "stream",
     "text": [
      "a\n",
      "c\n"
     ]
    }
   ],
   "source": [
    "x = \"b\"\n",
    "\n",
    "for z in g[x]:\n",
    "    print(z)"
   ]
  },
  {
   "cell_type": "code",
   "execution_count": 13,
   "metadata": {},
   "outputs": [],
   "source": [
    "def calcEquation(equations: list, values: list, queries: list) -> list:\n",
    "    g = collections.defaultdict(dict)\n",
    "    \n",
    "    for (x,y), v in zip(equations, values):\n",
    "        g[x][y] = v\n",
    "        g[y][x] = 1.0/v\n",
    "        \n",
    "    def divide(x, y, visited):\n",
    "        if x == y:\n",
    "            return 1.0\n",
    "        visited.add(x)\n",
    "        for z in g[x]:\n",
    "            if z in visited:\n",
    "                continue \n",
    "            d = divide(z, y, visited)\n",
    "            if d > 0: \n",
    "                return d*g[x][z]\n",
    "        return -1.0\n",
    "    \n",
    "    ans = []\n",
    "    \n",
    "    for x, y in queries:\n",
    "        if x in g and y in g:\n",
    "            ans.append(divide(x,y,set()))\n",
    "        else:\n",
    "            ans.append(-1.0)\n",
    "    return ans"
   ]
  },
  {
   "cell_type": "code",
   "execution_count": 14,
   "metadata": {},
   "outputs": [
    {
     "data": {
      "text/plain": [
       "[6.0, 0.5, -1.0, 1.0, -1.0]"
      ]
     },
     "execution_count": 14,
     "metadata": {},
     "output_type": "execute_result"
    }
   ],
   "source": [
    "queries = [[\"a\", \"c\"], [\"b\", \"a\"], [\"a\", \"e\"], [\"a\", \"a\"], \n",
    "          [\"x\", \"x\"]]\n",
    "\n",
    "calcEquation(equations, values, queries)"
   ]
  },
  {
   "cell_type": "markdown",
   "metadata": {},
   "source": [
    "### Approach 2: Union Find "
   ]
  },
  {
   "cell_type": "code",
   "execution_count": 15,
   "metadata": {},
   "outputs": [],
   "source": [
    "def calcEquation2(equations, values, queries):\n",
    "    def find(x):\n",
    "        if x != U[x][0]:\n",
    "            px, pv = find(U[x][0])\n",
    "            U[x] = (px, U[x][1] * pv)\n",
    "        return U[x]\n",
    "    \n",
    "    def divide(x, y):\n",
    "        rx, vx = find(x)\n",
    "        ry, vy = find(y)\n",
    "        if rx != ry: \n",
    "            return -1.0\n",
    "        return vx/vy\n",
    "    \n",
    "    U = {}\n",
    "    for (x,y), v in zip(equations, values):\n",
    "        if x not in U and y not in U:\n",
    "            U[x] = (y, v)\n",
    "            U[y] = (y, 1.0)\n",
    "        elif x not in U:\n",
    "            U[x] = (y, v)\n",
    "        elif y not in U:\n",
    "            U[y] = (x, 1.0/v)\n",
    "        else:\n",
    "            rv, vx = find(x)\n",
    "            ry, vy = find(y)\n",
    "            U[rx] = (ry, v/vx * vy)\n",
    "            \n",
    "    ans = [divide(x, y) if x in U and y in U else -1 for x, y in queries]\n",
    "    return ans     "
   ]
  },
  {
   "cell_type": "code",
   "execution_count": 16,
   "metadata": {},
   "outputs": [
    {
     "data": {
      "text/plain": [
       "[6.0, 0.5, -1, 1.0, -1]"
      ]
     },
     "execution_count": 16,
     "metadata": {},
     "output_type": "execute_result"
    }
   ],
   "source": [
    "calcEquation2(equations, values, queries)"
   ]
  },
  {
   "cell_type": "markdown",
   "metadata": {},
   "source": [
    "## 742. Network Delay Time\n",
    "\n",
    "There are N network nodes, labelled 1 to N. \n",
    "\n",
    "Given times, a list of travel times as directed edges tims[i] = (u, v, w), where u is the source node, v is the target node, and w is the time it takes for a signal to travel from source to target. \n",
    "\n",
    "Now, we send a signal from a certain node K. How long will it take for all nodes to receive the signal? If it is impossible, return -1. "
   ]
  },
  {
   "cell_type": "code",
   "execution_count": 3,
   "metadata": {},
   "outputs": [],
   "source": [
    "times = [[2,1,1], [2,3,1], [3,4,1]]"
   ]
  },
  {
   "cell_type": "markdown",
   "metadata": {},
   "source": [
    "### Bellman-Ford Appraoch"
   ]
  },
  {
   "cell_type": "code",
   "execution_count": 16,
   "metadata": {},
   "outputs": [],
   "source": [
    "def networkDelayTime(times: list, N: int, K:int) -> int:\n",
    "    max_time = int(101*100)\n",
    "    dist = [max_time] * N\n",
    "    dist[K-1] = 0 # distance from K to K is 0 \n",
    "    for i in range(N):\n",
    "        for u,v,t in times:\n",
    "            dist[v-1] = min(dist[v-1], dist[u-1] + t)\n",
    "    max_dist = max(dist)\n",
    "    print(dist)\n",
    "    if max_dist == max_time:\n",
    "        return -1\n",
    "    else:\n",
    "        return max_dist\n",
    "            "
   ]
  },
  {
   "cell_type": "code",
   "execution_count": 17,
   "metadata": {},
   "outputs": [
    {
     "name": "stdout",
     "output_type": "stream",
     "text": [
      "[1, 0, 1, 2]\n"
     ]
    },
    {
     "data": {
      "text/plain": [
       "2"
      ]
     },
     "execution_count": 17,
     "metadata": {},
     "output_type": "execute_result"
    }
   ],
   "source": [
    "networkDelayTime(times,4,2)"
   ]
  },
  {
   "cell_type": "markdown",
   "metadata": {},
   "source": [
    "Time Complexity: O(NE)\n",
    "\n",
    "Spae Complexity: O(N)\n",
    "\n",
    "N is number of nodes. E is number of edges. "
   ]
  },
  {
   "cell_type": "markdown",
   "metadata": {},
   "source": [
    "## 417. Pacific Atlantic Water Flow \n",
    "\n",
    "Given an $m \\times n$ matrix of non-negative integers representing the height of each unit cell in a continent, the \"Pacific ocean\" touches the left and top edges of the matrix and the \"Atlantic ocean\" touches the right and bottom edges. Water can flow in four directions (up, down, left, or right) from a cell to another one with height equal or lower. \n",
    "\n",
    "Find the list of grid coordinates where water can flow to both the Pacific and Altantic ocean. \n",
    "\n",
    "**Note:**\n",
    "\n",
    "1. The order of returned grid coordinates does not matter. \n",
    "\n",
    "2. Both m and n are less than 150. \n",
    "\n",
    "**Example:**\n",
    "\n",
    "Given the following 5*5 matrix:\n",
    "\n",
    "Pacific ~ ~ ~ ~ ~\n",
    "     ~  1 2 2 3 (5) * \n",
    "     \n",
    "     ~  3 2 3 (4)(4) * \n",
    "     \n",
    "     ~  2 4 (5) 3 1  *\n",
    "     \n",
    "     ~. (6)(7) 1 4 5 *\n",
    "     \n",
    "     ~ (5) 1 1 2 4 *\n",
    "     \n",
    "        *. *. *. * * Altantic \n",
    "        \n",
    "Return:\n",
    "\n",
    "[[0,4], [1,3], [1,4], [2,2], [3,0], [3,1], [4,0]] (positions with parentheses in above matrix). "
   ]
  },
  {
   "cell_type": "code",
   "execution_count": 38,
   "metadata": {},
   "outputs": [],
   "source": [
    "matrix = [[1,  2, 2, 3, 5],\n",
    "         [3, 2, 3, 4, 4],\n",
    "         [2, 4, 5, 3, 1],\n",
    "         [6, 7, 1, 4, 5],\n",
    "         [5, 1, 1, 2, 4]]"
   ]
  },
  {
   "cell_type": "code",
   "execution_count": 31,
   "metadata": {},
   "outputs": [],
   "source": [
    "n = len(matrix)\n",
    "m = len(matrix[0])\n",
    "\n",
    "p = [[0 for _ in range(m)] for _ in range(n)]"
   ]
  },
  {
   "cell_type": "code",
   "execution_count": 34,
   "metadata": {},
   "outputs": [
    {
     "name": "stdout",
     "output_type": "stream",
     "text": [
      "[[0, 0, 0, 0, 0], [0, 0, 0, 0, 0], [0, 0, 0, 0, 0], [0, 0, 0, 0, 0]]\n"
     ]
    }
   ],
   "source": [
    "print(p)"
   ]
  },
  {
   "cell_type": "code",
   "execution_count": 36,
   "metadata": {},
   "outputs": [
    {
     "name": "stdout",
     "output_type": "stream",
     "text": [
      "0\n",
      "0\n",
      "0\n",
      "0\n",
      "0\n",
      "0\n",
      "0\n",
      "0\n",
      "0\n",
      "0\n",
      "0\n",
      "0\n",
      "0\n",
      "0\n",
      "0\n",
      "0\n",
      "0\n",
      "0\n",
      "0\n",
      "0\n"
     ]
    }
   ],
   "source": [
    "for x in range(n):\n",
    "    for y in range(m):\n",
    "        print (p[x][y])"
   ]
  },
  {
   "cell_type": "markdown",
   "metadata": {},
   "source": [
    "### DFS Approach \n",
    "\n",
    "Find all the points reachable from A and P. Find the union set of these two sets. "
   ]
  },
  {
   "cell_type": "code",
   "execution_count": 42,
   "metadata": {},
   "outputs": [],
   "source": [
    "def PacificAtlantic(matrix: list) -> list: \n",
    "    if not matrix:\n",
    "        return []\n",
    "    n = len(matrix)\n",
    "    m = len(matrix[0])\n",
    "    result = []\n",
    "    \n",
    "    p = [[0 for _ in range(m)] for _ in range(n)]\n",
    "    a = [[0 for _ in range(m)] for _ in range(n)]\n",
    "    \n",
    "    def dfs(matrix, x, y, h, v):\n",
    "        if (x < 0 or y < 0 or x == len(matrix) or y == len(matrix[0])):\n",
    "            return \n",
    "        if v[x][y] or matrix[x][y] < h:\n",
    "            return \n",
    "        v[x][y] = 1\n",
    "        h = matrix[x][y]\n",
    "        dfs(matrix, x-1, y, h, v)\n",
    "        dfs(matrix, x+1, y, h, v)\n",
    "        dfs(matrix, x, y-1, h, v)\n",
    "        dfs(matrix, x, y+1, h, v)\n",
    "    \n",
    "    for x in range(n):\n",
    "        dfs(matrix, x, 0, 0, p)\n",
    "        dfs(matrix, x, m-1, 0, a)\n",
    "        \n",
    "    for y in range(m):\n",
    "        dfs(matrix, 0, y, 0, p)\n",
    "        dfs(matrix, n-1, y, 0, a)\n",
    "        \n",
    "    print(p)\n",
    "    print(a)\n",
    "        \n",
    "    for x in range(n):\n",
    "        for y in range(m):\n",
    "            if p[x][y] and a[x][y]:\n",
    "                result.append((x,y))\n",
    "    return result \n",
    "    \n",
    "    \n",
    "    \n",
    "    "
   ]
  },
  {
   "cell_type": "code",
   "execution_count": 43,
   "metadata": {},
   "outputs": [
    {
     "name": "stdout",
     "output_type": "stream",
     "text": [
      "[[1, 1, 1, 1, 1], [1, 1, 1, 1, 1], [1, 1, 1, 0, 0], [1, 1, 0, 0, 0], [1, 0, 0, 0, 0]]\n",
      "[[0, 0, 0, 0, 1], [0, 0, 0, 1, 1], [0, 0, 1, 1, 1], [1, 1, 1, 1, 1], [1, 1, 1, 1, 1]]\n"
     ]
    },
    {
     "data": {
      "text/plain": [
       "[(0, 4), (1, 3), (1, 4), (2, 2), (3, 0), (3, 1), (4, 0)]"
      ]
     },
     "execution_count": 43,
     "metadata": {},
     "output_type": "execute_result"
    }
   ],
   "source": [
    "PacificAtlantic(matrix)"
   ]
  },
  {
   "cell_type": "markdown",
   "metadata": {},
   "source": [
    "Time Complexity: O(m + n + mn)"
   ]
  },
  {
   "cell_type": "markdown",
   "metadata": {},
   "source": [
    "## 113. Path Sum II\n",
    "\n",
    "Given a binary tree and a sum, find all root-to-leaft paths where each path's sum equals the given sum. "
   ]
  },
  {
   "cell_type": "code",
   "execution_count": 44,
   "metadata": {},
   "outputs": [],
   "source": [
    "class TreeNode:\n",
    "    def __init__(self,x):\n",
    "        self.val = x\n",
    "        self.left = None\n",
    "        self.right = None"
   ]
  },
  {
   "cell_type": "code",
   "execution_count": 46,
   "metadata": {},
   "outputs": [],
   "source": [
    "def pathSum(root: TreeNode, sum_: int) -> list:\n",
    "    \n",
    "    ans = []\n",
    "    if not root:\n",
    "        return ans \n",
    "    \n",
    "    def dfs(node, val, path):\n",
    "        if not node:\n",
    "            return \n",
    "        val -= node.val\n",
    "        if not node.left and not node.right and val == 0:\n",
    "            path += [node.val]\n",
    "            ans.append(path)\n",
    "        if val <0:\n",
    "            return    \n",
    "        dfs(node.left, val, path)\n",
    "        dfs(node.right, val, path)\n",
    "        \n",
    "    dfs(root, sum_, [])\n",
    "    \n",
    "    "
   ]
  },
  {
   "cell_type": "code",
   "execution_count": 48,
   "metadata": {},
   "outputs": [],
   "source": [
    "class Solution:\n",
    "    def pathSum(self, root: TreeNode, sum: int) -> list:\n",
    "        def dfs(node, path, need):\n",
    "            if node and not node.left and not node.right:\n",
    "                if need - node.val == 0: \n",
    "                    res.append(path+[node.val])\n",
    "                    return  \n",
    "            \n",
    "            if not node: return\n",
    "            dfs(node.left, path+[node.val], need-node.val)\n",
    "            dfs(node.right, path+[node.val], need-node.val)\n",
    "            \n",
    "\n",
    "        res = []\n",
    "        dfs(root, [], sum)\n",
    "        \n",
    "        return [] if not root else res"
   ]
  },
  {
   "cell_type": "markdown",
   "metadata": {},
   "source": [
    "## 684. Redundant Connection \n",
    "\n",
    "In this problem, a tree is an undirected graph that is connected and has no cycles. \n",
    "\n",
    "The given input is a graph that started as a tree with N nodes (with distinct values 1, 2, ..., N), with one additional edge added. The added edge has two different vertices chosen from 1 to N, and was not an edge that already existed. \n",
    "\n",
    "The resulting graph is given as a 2D-array of edges. Each element of edges is a pair [u, v] with u < v, that represents an undirected edge connecting nodes u and v. \n",
    "\n",
    "Return an edge that can be removed so that the resulting graph is a tree of N nodes. If there are multiple answers, return the answer that occurs last in the given 2D-array. The answer edge [u,v] should be in the same format, with u < v. \n",
    "\n",
    "**Example 1:**\n",
    "\n",
    "Input: [[1,2], [1,3], [2,3]]\n",
    "\n",
    "Output: [2,3]\n",
    "\n",
    "**Example 2:**\n",
    "\n",
    "Input: [[1,2], [2,3], [3,4], [1,4], [1,5]]\n",
    "\n",
    "Output: [1,4]\n",
    "\n"
   ]
  },
  {
   "cell_type": "code",
   "execution_count": null,
   "metadata": {},
   "outputs": [],
   "source": [
    "def findRedundantConnection(edges: list) -> list:\n",
    "    \n",
    "    "
   ]
  }
 ],
 "metadata": {
  "kernelspec": {
   "display_name": "Python 3",
   "language": "python",
   "name": "python3"
  },
  "language_info": {
   "codemirror_mode": {
    "name": "ipython",
    "version": 3
   },
   "file_extension": ".py",
   "mimetype": "text/x-python",
   "name": "python",
   "nbconvert_exporter": "python",
   "pygments_lexer": "ipython3",
   "version": "3.7.4"
  }
 },
 "nbformat": 4,
 "nbformat_minor": 2
}
